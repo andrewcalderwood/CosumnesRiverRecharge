{
 "cells": [
  {
   "cell_type": "markdown",
   "id": "1c97e4bd",
   "metadata": {},
   "source": [
    "Code to build a basic soil water budget model based on the mathematical equations used by IDC with simplification as here the key is identifying percolation rather than applied water."
   ]
  },
  {
   "cell_type": "code",
   "execution_count": 1,
   "id": "9c5bdd5c",
   "metadata": {},
   "outputs": [],
   "source": [
    "# standard python utilities\n",
    "import os\n",
    "from os.path import join, exists, dirname, basename\n",
    "import glob\n",
    "import sys\n",
    "import time\n",
    "\n",
    "import pandas as pd\n",
    "import numpy as np\n",
    "\n",
    "import h5py\n",
    "from scipy.io import loadmat\n",
    "\n",
    "# standard python plotting utilities\n",
    "import matplotlib as mpl\n",
    "import matplotlib.pyplot as plt\n",
    "\n",
    "# standard geospatial python utilities\n",
    "import shapely\n",
    "import geopandas as gpd\n",
    "\n"
   ]
  },
  {
   "cell_type": "code",
   "execution_count": 2,
   "id": "02f105bc",
   "metadata": {},
   "outputs": [],
   "source": [
    "doc_dir = os.getcwd()\n",
    "while basename(doc_dir) != 'Documents':\n",
    "    doc_dir = dirname(doc_dir)\n",
    "# dir of all gwfm data\n",
    "gwfm_dir = dirname(doc_dir)+'/Box/research_cosumnes/GWFlowModel'\n",
    "gwfm_dir\n",
    "dis_dir = join(gwfm_dir, 'DIS_data')\n",
    "uzf_dir = join(gwfm_dir,'UZF_data')"
   ]
  },
  {
   "cell_type": "code",
   "execution_count": 3,
   "id": "dfe38b37",
   "metadata": {},
   "outputs": [],
   "source": [
    "proj_dir = join(dirname(doc_dir),'Box','SESYNC_paper1')\n",
    "data_dir = join(proj_dir, 'model_inputs')"
   ]
  },
  {
   "cell_type": "code",
   "execution_count": 4,
   "id": "f45e8cca",
   "metadata": {},
   "outputs": [],
   "source": [
    "# run_dir = 'C://WRDAPP/GWFlowModel'\n",
    "run_dir = 'F://WRDAPP/GWFlowModel'\n",
    "loadpth = run_dir +'/Cosumnes/levee_setback/streamflow/'\n",
    "# model_nam = 'setback_streamflow'\n",
    "model_nam = 'historical_streamflow'\n",
    "\n",
    "loadpth = run_dir +'/Cosumnes/Regional/'\n",
    "\n",
    "model_ws = loadpth + 'crop_modflow'"
   ]
  },
  {
   "cell_type": "code",
   "execution_count": 5,
   "id": "f5b95db9",
   "metadata": {},
   "outputs": [],
   "source": [
    "year = 2014\n",
    "crop='Corn'"
   ]
  },
  {
   "cell_type": "code",
   "execution_count": 6,
   "id": "ed6e4829-44a5-4b3b-b391-e0881e07a99d",
   "metadata": {},
   "outputs": [],
   "source": [
    "dem_data = np.loadtxt(gwfm_dir+'/DIS_data/dem_52_9_200m_mean.tsv')\n"
   ]
  },
  {
   "cell_type": "code",
   "execution_count": 7,
   "id": "51bd7e93",
   "metadata": {},
   "outputs": [],
   "source": [
    "nrow, ncol = dem_data.shape"
   ]
  },
  {
   "cell_type": "markdown",
   "id": "57ccb305",
   "metadata": {},
   "source": [
    "## Hydrologic data"
   ]
  },
  {
   "cell_type": "code",
   "execution_count": 8,
   "id": "7a0e590b",
   "metadata": {},
   "outputs": [],
   "source": [
    "fn = join(data_dir,'static_model_inputs.xlsx')\n",
    "var_gen = pd.read_excel(fn, sheet_name='General', comment='#')\n",
    "var_gen = var_gen.set_index('variable')['value'] # adjust for quick pulling of variables\n",
    "\n",
    "var_crops = pd.read_excel(fn, sheet_name='Crops', comment='#')\n",
    "var_yield = pd.read_excel(fn, sheet_name='Yield', comment='#')\n",
    "season = pd.read_excel(fn, sheet_name='Seasons', comment='#')\n",
    "# subset to crop for current simulation if looping, could also do ID\n",
    "var_crops = var_crops[var_crops.crop==crop]\n",
    "var_crops = var_crops.set_index('variable')['value'] # adjust for quick pulling of variables\n",
    "var_yield = var_yield[var_yield.crop==crop]\n",
    "\n",
    "season = season[season.crop==crop].iloc[0]\n"
   ]
  },
  {
   "cell_type": "code",
   "execution_count": 9,
   "id": "2d8bd5fe",
   "metadata": {},
   "outputs": [],
   "source": [
    "def ymd2dt(year, month, day):\n",
    "    date = pd.to_datetime(str(year)+'-'+ month.astype(str)+'-'+day.astype(str))\n",
    "    return(date)\n"
   ]
  },
  {
   "cell_type": "code",
   "execution_count": 12,
   "id": "031c415a",
   "metadata": {},
   "outputs": [],
   "source": [
    "# the model will run the irrigation optimizer on specified dates (multiple crops can be done at once or in sequence)\n",
    "# the modflow model will be run for the periods between the specified irrigation optimizer dates\n",
    "\n",
    "strt_date = ymd2dt(year, season.month_start, season.day_start)\n",
    "end_date = ymd2dt(year, season.month_end, season.day_end)\n",
    "\n",
    "# strt_date = pd.to_datetime('2014-4-30'); #Start date for growing season\n",
    "# end_date = pd.to_datetime('2014-9-8'); # End date for growing season\n",
    "\n",
    "dates = pd.date_range(strt_date, end_date, freq='D')\n",
    "\n",
    "model_ws = loadpth + 'crop_soilbudget/'+crop+'_'+str(strt_date.date())"
   ]
  },
  {
   "cell_type": "code",
   "execution_count": 13,
   "id": "703614ef",
   "metadata": {},
   "outputs": [],
   "source": [
    "nper = (end_date-strt_date).days +1\n"
   ]
  },
  {
   "cell_type": "code",
   "execution_count": 14,
   "id": "f7b6fd51",
   "metadata": {},
   "outputs": [],
   "source": [
    "## Potential ETo spatial interpolation from CIMIS\n",
    "fn = glob.glob(join(uzf_dir,'Cosumnes_dailyET_precip*.csv'))\n",
    "daily_data = pd.DataFrame()\n",
    "for file in fn:\n",
    "    new_data = pd.read_csv(file, index_col = ['Date'], parse_dates = True)\n",
    "    daily_data = pd.concat((daily_data, new_data))\n",
    "# units of mm\n",
    "data_in = daily_data[daily_data['Stn Name']=='Fair Oaks']\n",
    "\n",
    "# clean up data so columns are by location, units of Precip are in mm\n",
    "rain_in = data_in.pivot_table(index = 'Date', columns = 'Stn Name', values = 'Precip (mm)')\n",
    "rain_m = rain_in/1000\n",
    "# fill in missing days of rain with zero values\n",
    "rain_df = rain_m.reindex(dates)\n",
    "rain_df[rain_df.isna()]=0\n",
    "# convert to array for calculations\n",
    "rain = rain_df['Fair Oaks'].values\n",
    "\n",
    "# clean up ETo data\n",
    "# ETo_in = data_in.pivot_table(index = 'Date', columns = 'Stn Name', values = 'ETo (mm)')\n",
    "# ETo_m = ETo_in/1000\n",
    "# # linearly interpolate missing days for ET\n",
    "# ETo_df = ETo_m[strt_date:end_date].resample('D').interpolate('linear')['Fair Oaks']\n",
    "\n",
    "# create array for every period of rainfall\n",
    "# rain_df = rain_m[strt_date:end_date].resample('D').interpolate('linear')['Fair Oaks']\n",
    "# rain_arr = np.repeat(np.repeat(np.reshape(rain_df.values, (rain_df.shape[0],1,1)), nrow, axis=1),ncol, axis=2)\n"
   ]
  },
  {
   "cell_type": "code",
   "execution_count": 15,
   "id": "153f7710",
   "metadata": {},
   "outputs": [],
   "source": [
    "# load in pre-processed array of ETc for all time\n",
    "ETc_long = pd.read_hdf(join(uzf_dir, \"dwr_ETc\",'long_ETc_all_lu.hdf5'), key='variable')\n",
    "# identify crop to use\n",
    "etc_var = pd.Series(ETc_long.variable.unique())\n",
    "etc_var[etc_var.str.contains(crop)]\n",
    "crop_dict = {'Corn':'Corn (field & sweet)'}"
   ]
  },
  {
   "cell_type": "markdown",
   "id": "2cf1983c",
   "metadata": {},
   "source": [
    "While the database of Kc will work fine for the rest of the crops it may make sense to use Yusuke's specific Kc values.\n"
   ]
  },
  {
   "cell_type": "code",
   "execution_count": 16,
   "id": "36ff5e30",
   "metadata": {},
   "outputs": [],
   "source": [
    "# subset for crop\n",
    "ETc = ETc_long[ETc_long.variable==crop_dict[crop]]['value']\n",
    "# subset for model period\n",
    "ETc = ETc[strt_date:end_date]\n",
    "# fill in empty dates with interpolation (temporary since corn dates are slightly different)\n",
    "ETc = ETc.reindex(dates)\n",
    "ETc = ETc.bfill().ffill()\n",
    "\n",
    "# convert to an array for calculations\n",
    "ETc = ETc.values"
   ]
  },
  {
   "cell_type": "code",
   "execution_count": 17,
   "id": "c79d6df2",
   "metadata": {},
   "outputs": [],
   "source": [
    "in_2_m = (1/12)*0.3048"
   ]
  },
  {
   "cell_type": "code",
   "execution_count": 18,
   "id": "0e2e4953",
   "metadata": {},
   "outputs": [],
   "source": [
    "d_ini = 0; # Initial root zone depletion (in)\n",
    "y_max = var_crops['y_max'] # Maximum expected crop yield (tons/acre)\n",
    "\n",
    "phi = var_gen['phi'] # Energy requirement to raise a unit of water by a unit of vertical distance (kWh/acre-in/ft)\n",
    "p_c = var_crops['p_c'] # Crop price ($/ton)\n",
    "p_sw = var_gen['phi'] # Surface water charges and fees ($/acre-in)\n",
    "p_e = var_gen['p_e'] # Cost of energy for groundwater pumping ($/kWh)\n",
    "p_o = var_crops['p_o'] # Variable operating costs per acre, excluding irrigation costs ($/acre)\n",
    "\n"
   ]
  },
  {
   "cell_type": "code",
   "execution_count": 19,
   "id": "90b6cf02",
   "metadata": {},
   "outputs": [],
   "source": [
    "# create time series of daily yield response factors\n",
    "var_yield['dt'] = ymd2dt(year, var_yield.month, var_yield.day)\n",
    "K_Y = var_yield.set_index('dt').reindex(dates).ffill()\n",
    "K_Y = K_Y['K_Y'].values\n"
   ]
  },
  {
   "cell_type": "code",
   "execution_count": 20,
   "id": "6a7ca5a4",
   "metadata": {},
   "outputs": [
    {
     "data": {
      "text/plain": [
       "array([  0,  14,  28,  42,  56,  70,  84,  98, 112, 126])"
      ]
     },
     "execution_count": 20,
     "metadata": {},
     "output_type": "execute_result"
    }
   ],
   "source": [
    "\n",
    "gap_irr = var_crops['gap_irr'] # Number of days between irrigations\n",
    "n_irr = np.floor(len(dates)/gap_irr).astype(int) + 1 # Calculate number of irrigations\n",
    "irr_days = np.arange(0, (n_irr*gap_irr-1), gap_irr).astype(int) # Calculate days on which irrigation takes place\n",
    "irr_days"
   ]
  },
  {
   "cell_type": "markdown",
   "id": "f0b699ff",
   "metadata": {},
   "source": [
    "# Spatial data"
   ]
  },
  {
   "cell_type": "code",
   "execution_count": 21,
   "id": "1fab846d",
   "metadata": {},
   "outputs": [],
   "source": [
    "# load cleaned soil data for ag fields\n",
    "soil_path = join(uzf_dir,'clean_soil_data')\n",
    "# soil data for each ag field\n",
    "soil_ag = pd.read_csv(join(soil_path, 'soil_for_ag_fields.csv'), index_col=0)\n",
    "# connection of ag fields to grid cells\n",
    "grid_soil = pd.read_csv(join(soil_path, 'ag_field_to_cell.csv'),index_col=0)\n",
    "# curve numbers\n",
    "CN = pd.read_csv(join(soil_path, 'ag_field_CN.csv'),index_col = 0)\n",
    "\n",
    "soil_ag = pd.merge(soil_ag, CN)\n",
    "field_area = soil_ag.area_m2.values\n",
    "\n",
    "# identify crop to use\n",
    "crop_nam = pd.Series(soil_ag.name.unique())\n",
    "crop_nam[crop_nam.str.contains(crop)]\n",
    "crop_dict = {'Corn':'Corn (field & sweet)'}\n",
    "\n",
    "# subset for fields with the crop\n",
    "soil_crop = soil_ag[soil_ag.name==crop_dict[crop]]\n",
    "nfield = len(soil_crop)"
   ]
  },
  {
   "cell_type": "code",
   "execution_count": 22,
   "id": "b5226f5f",
   "metadata": {},
   "outputs": [],
   "source": [
    "# temporary input for dtw variables to calculate pumping cost\n",
    "dtw_time = np.linspace(90,95, nper)\n",
    "dtw_all = np.zeros((nper,nfield))\n",
    "for n in np.arange(nper):\n",
    "    dtw_all[n,:] = dtw_time[n]"
   ]
  },
  {
   "cell_type": "code",
   "execution_count": 23,
   "id": "d91fcec0",
   "metadata": {},
   "outputs": [],
   "source": [
    "#  we can't simplify to unique field/soil conditions because each field will have different GW, SW req's"
   ]
  },
  {
   "cell_type": "code",
   "execution_count": 999,
   "id": "3a21c5bb",
   "metadata": {},
   "outputs": [],
   "source": [
    "# the soil budget only needs to be run for unique soil conditions\n",
    "# the fields will then be ID joined to the results (rates) and multiplied by area\n",
    "# soil_ag_unique = soil_crop.drop_duplicates(['AWC', 'Porosity','Ksat_Low','CN'])"
   ]
  },
  {
   "cell_type": "code",
   "execution_count": 1000,
   "id": "55c37b60",
   "metadata": {},
   "outputs": [],
   "source": [
    "# soil_crop.shape, soil_ag_unique.shape"
   ]
  },
  {
   "cell_type": "markdown",
   "id": "53fe964a",
   "metadata": {},
   "source": [
    "## Iterate over each unique soil condition"
   ]
  },
  {
   "cell_type": "code",
   "execution_count": 24,
   "id": "1346a3a8",
   "metadata": {},
   "outputs": [],
   "source": [
    "ns=0\n",
    "soil_ag = soil_crop.iloc[[ns]] #keep as dataframe for consistency \n",
    "nfield = soil_ag.shape[0]\n",
    "\n",
    "dtw_arr = dtw_all[:,ns]\n",
    "\n",
    "etc_arr = np.zeros((nper,nfield))\n",
    "for n in np.arange(nper):\n",
    "    etc_arr[n,:] = ETc[n]"
   ]
  },
  {
   "cell_type": "code",
   "execution_count": 31,
   "id": "8d7b7015",
   "metadata": {},
   "outputs": [],
   "source": [
    "def prep_soil(soil_ag, etc_arr):\n",
    "    global soil_Ks, soil_por, soil_eps, soil_CN\n",
    "    global soildepth, soil_m, wc_f, wc_wp, taw, Smax, raw, P\n",
    "    \n",
    "    # # when soil_K_low is missing using a substitute of Ksat/10\n",
    "    soil_Ks = np.where(soil_ag.Ksat_Low==0, soil_ag.Ksat/10, soil_ag.Ksat_Low)\n",
    "    soil_por = soil_ag.Porosity.values/100\n",
    "    soil_eps = soil_ag.EPS.values\n",
    "    soil_CN = soil_ag.CN.values\n",
    "    \n",
    "    soildepth = soil_ag.SoilDepth.values\n",
    "    psdi =  soil_ag.PSDI.values\n",
    "    # parameter for Mualem, van Genuchten\n",
    "    soil_m = psdi/(psdi+1)\n",
    "    wc_f =  soil_ag.w3rdbar.values/100 #field capacity\n",
    "    wc_wp =  soil_ag.w15bar.values/100 #wilting point \n",
    "\n",
    "    # Calculate total available water in the root zone\n",
    "    taw = (wc_f - wc_wp)*soildepth \n",
    "\n",
    "    # for runoff, convert CN from fraction to CN\n",
    "    Smax = (1000/soil_CN) - 10\n",
    "    \n",
    "    p_table22 = var_crops['p_table22'] # Soil water depletion fraction for no stress\n",
    "    # requires ETc in mm/day\n",
    "    P = p_table22 + 0.04*((5-(etc_arr*1000))) # Calculate adjusted daily soil water depletion fraction for no stress\n",
    "    raw = taw*P # Calculate readily available water in the root zone\n",
    "\n",
    "\n",
    "prep_soil(soil_ag, etc_arr)"
   ]
  },
  {
   "cell_type": "code",
   "execution_count": 32,
   "id": "d33108ca",
   "metadata": {},
   "outputs": [],
   "source": [
    "def calc_S(wc, Smax, wc_f, soil_por):\n",
    "    \"\"\" Given an array of water contents return potential soil retention\"\"\"\n",
    "    S = np.zeros(Smax.shape)\n",
    "    # when water content is less than 1/2 field capacity, full retention\n",
    "    S[wc < wc_f/2] = Smax[wc < wc_f/2]\n",
    "    # wc > porosity then set as porosity for calculations (avoids S >1)\n",
    "    wc_calc = np.where(wc<soil_por, wc, soil_por)\n",
    "    # when water content is greater than 1/2 field capacity, partial retention \n",
    "    S1 = Smax * (1 - ((wc_calc - wc_f/2)/(soil_por - wc_f/2)))\n",
    "    S[wc >= wc_f/2]= S1[wc >= wc_f/2]\n",
    "    # convert S from inches to meters\n",
    "    S *= (0.3048/12)\n",
    "    return(S)"
   ]
  },
  {
   "cell_type": "markdown",
   "id": "246759cc",
   "metadata": {},
   "source": [
    "Total available water (TAW) is the water available between field content and the wilting point times the depth of the root zone (this could be assumed to be the soil depth at times).  \n",
    "Per the FAO report, rooting depths are:\n",
    "- Corn:1-1.7 m which is about where soil depth would put it  \n",
    "- Alfalfa:1-2 m  \n",
    "- Barley, Wheat: 1-1.5m  \n",
    "\n",
    "So all of these fall within the range where the soil depth should determine rooting depth."
   ]
  },
  {
   "cell_type": "markdown",
   "id": "e3858faa",
   "metadata": {},
   "source": [
    "If we need to remove ET from each step then we should reduce the number of crops used to simplify calculations unless the code runs quickly for all cells.\n",
    "- Need to assume initial water content of 0. \n",
    " \n",
    "* water content can't exceed porosity. It is assumed that θ can be computed to be greater than θT, and the difference between the θ and θT represents the depth of the pond."
   ]
  },
  {
   "cell_type": "markdown",
   "id": "bc066ea9-be8f-4ac9-945b-c47e289409d8",
   "metadata": {},
   "source": [
    "# Run the model\n",
    "The ETc, and rain will be preset inputs for the irrigation simulation (the ETc will be calculated when the crop is chosen at the start of the year).  \n",
    "The irrigation optimizer will be a function of crop - ETc, irrigation (variable calibrated)"
   ]
  },
  {
   "cell_type": "code",
   "execution_count": 27,
   "id": "28ff2327",
   "metadata": {},
   "outputs": [],
   "source": [
    "irr_lvl = np.zeros(2*n_irr); # Initial irrigation values for optimization\n",
    "irr_lvl[:] = (2/12)*0.3048 # irrigate with 2 inches (convert to meters)\n",
    "\n"
   ]
  },
  {
   "cell_type": "markdown",
   "id": "caf21b82",
   "metadata": {},
   "source": [
    "After the irrigation season ends, the model needs to be run from the end of irrigation to the start of the next season for calculating recharge from rainfall and maintaining the soil water budget.  \n",
    "\n",
    "The FAO model assumes \"that water can be stored in the root zone until field capacity is reached. Although following heavy rain or irrigation the water content might temporally exceed field capacity, the total amount of water above field capacity is assumed to be lost the same day by deep percolation, following any ET for that day. By assuming that the root zone is at field capacity following heavy rain or irrigation, the minimum value for the depletion Dr, i is zero.\"  \n",
    "\n",
    "-> this contrasts with IDC where water content is allowed to exceed porosity with the assumption that it has become ponded water."
   ]
  },
  {
   "cell_type": "code",
   "execution_count": 29,
   "id": "78cdac8f",
   "metadata": {},
   "outputs": [],
   "source": [
    "def swb(irr_lvl):\n",
    "    global wc, pc, rp, ETa, D, K_S, irr_sw, irr_gw\n",
    "    \n",
    "    m2_ac = (1/0.3048**2)/43560 # convert from m2 to acres\n",
    "    in_2_m = (1/12)*0.3048 # convert from inches to meters\n",
    "    nper = (end_date-strt_date).days +1\n",
    "\n",
    "    tic = time.time()\n",
    "    \n",
    "    irr_sw = np.zeros((nper,nfield))\n",
    "    irr_gw = np.zeros((nper,nfield))\n",
    "    for i in np.arange(0,n_irr):\n",
    "        irr_sw[irr_days[i]] = irr_lvl[i];\n",
    "        irr_gw[irr_days[i]] = irr_lvl[i+n_irr];\n",
    "    \n",
    "    wc = np.zeros((nper+1, nfield)) # water content, add initial conditions with +1\n",
    "    pc = np.zeros((nper, nfield)) # percolation\n",
    "    rp = np.zeros((nper, nfield)) # runoff \n",
    "    ETa = np.zeros((nper, nfield)) # actual ET\n",
    "    wb_sum= np.zeros((nper, nfield)) # water budget check\n",
    "    # time units are days for everything\n",
    "\n",
    "    D = np.zeros((nper+1, nfield)) # soil depletion, add initial conditions with +1\n",
    "    K_S = np.zeros((nper, nfield)) # crop water stress\n",
    "    \n",
    "    # initial water content and root zone depletion are pulled from the last step of the previous run\n",
    "    \n",
    "    # -1 starts at IC for BC\n",
    "    # WC/D starts at 0\n",
    "    for ns, n in enumerate(np.arange(-1, nper-1)):\n",
    "        # calculate soil saturation as water content can be greater than porosity assuming it represents ponding\n",
    "        sat = wc[ns]/soil_por\n",
    "        sat  = np.where(sat>1, 1, sat)\n",
    "        ## Runoff ##\n",
    "        S = calc_S(wc[ns+1], Smax, wc_f, soil_por)\n",
    "        water_in = rain[n+1] \n",
    "        # calculate runoff only when there is rain, and rain is uniform\n",
    "        if (water_in>0).any():\n",
    "            rp[n+1] = ((water_in - 0.2*S)**2)/(water_in + 0.8*S)\n",
    "        # where rainfall is less than initial abstraction (0.2S) set runoff as 0\n",
    "        rp[n+1] = np.where(water_in<0.2*S, 0, rp[n+1])\n",
    "        # add in irrigation after runoff (assume farm is set up to avoid runoff for irrigation season)\n",
    "        water_in = water_in + irr_sw[n+1] + irr_gw[n+1]\n",
    "        ## explicit percolation ##\n",
    "        pc[n+1] = soil_Ks*(sat)*(1- (1-(sat)**(1/soil_m))**soil_m)**2\n",
    "        # stepwise water budget, explicit to avoid iteration\n",
    "        # add rain and take away runoff first\n",
    "        wc[ns+1] = (wc[ns]*soildepth + (water_in - rp[n+1]))/soildepth\n",
    "        # take away ET, add term to prevent going to zero\n",
    "        ETa[n+1] = np.where(ETc[n+1] <= wc[ns+1]*soildepth, ETc[n+1], wc[ns+1]*soildepth - 1E-9)\n",
    "        wc[ns+1] = wc[ns+1] + (-ETa[n+1])/soildepth\n",
    "        # take away percolation\n",
    "        pc[n+1] = np.where(pc[n+1] <= wc[ns+1]*soildepth, pc[n+1], wc[ns+1]*soildepth - 1E-9)\n",
    "        wc[ns+1] = wc[ns+1] + (-pc[n+1])/soildepth\n",
    "        # check water budget error\n",
    "        wb_sum[n+1] = (wc[ns]-wc[ns+1])*soildepth + water_in - rp[n+1] - ETa[n+1] - pc[n+1] \n",
    "        if (wb_sum[n+1]>1E-3).any()|(wb_sum[n+1]<-1E-3).any():\n",
    "            print('WB error exceeds 1E-3',n )\n",
    "            ## additional code for optimizing irrigation\n",
    "        # calculate soil depletion for irrigation decision (must use ETc to see how much should be depleted)\n",
    "        D[ns+1] = D[ns] - water_in + ETc[n+1] + rp[n+1] + pc[n+1] \n",
    "        # root zone depletion can't be greater than TAW \n",
    "        D[ns+1] = np.min([D[ns+1], taw], axis=0)\n",
    "        # root zone depletion should be greater than 0\n",
    "        D[ns+1] = np.where(D[ns+1]<0,0, D[ns+1])\n",
    "        # default value of water stress is 1 (none):\n",
    "        K_S[n+1] = 1\n",
    "        # where rootzone depletion is greater than RAW there is water stress\n",
    "        K_S_ws = (taw - D[ns+1])/((1 - P[n+1])*taw);\n",
    "        K_S[n+1] = np.where(D[ns+1]>raw[n+1], K_S_ws, K_S[n+1])\n",
    "\n",
    "    ## Calculate daily crop outcomes \n",
    "    ETc_adj = np.transpose(K_S)*ETc # Calculate daily crop ET with soil water stress\n",
    "    ## Calculate economic outcomes \n",
    "    arr1 = np.ones((nfield,nper))\n",
    "    # average the yield scaling across the season\n",
    "    Y_A = y_max*np.mean(arr1- (arr1 - (ETc_adj/ETc))*K_Y) # Calculate actual yield (tons/acre)\n",
    "    # irrigation must be converted from meters to inches for calculating cost\n",
    "    c_gwtot = p_e*phi*(dtw_arr*irr_gw/in_2_m) # Calcualte total groundwater pumping costs for the season ($/acre)\n",
    "    c_swtot = p_sw*irr_sw/in_2_m # Calcualte total surface water costs for the season ($/acre)\n",
    "    cost = c_gwtot+c_swtot\n",
    "    # calculate profit (daily values must be summed for the seasonal value)\n",
    "    # profit can be left as $/acre with area assigned after if each field is done separate\n",
    "    pi = -((p_c*Y_A - np.sum(cost))- p_o) # Calculate profit ($/acre)\n",
    "#     pi = np.nansum(pi) \n",
    "    \n",
    "    toc = time.time()\n",
    "#     print('Run time was %.2f minutes' %((toc-tic)/60))\n",
    "    if wb_sum.sum(axis=1).mean() > 1E-6:\n",
    "        print('Avg WB error was %.2E m' % wb_sum.sum(axis=(1)).mean())\n",
    "    return(pi)\n"
   ]
  },
  {
   "cell_type": "code",
   "execution_count": 1020,
   "id": "03066091",
   "metadata": {},
   "outputs": [
    {
     "data": {
      "text/plain": [
       "814.9990514685343"
      ]
     },
     "execution_count": 1020,
     "metadata": {},
     "output_type": "execute_result"
    }
   ],
   "source": [
    "c_gwtot = p_e*phi*(dtw_arr*irr_gw/in_2_m) # Calcualte total groundwater pumping costs for the season ($/acre)\n",
    "c_swtot = p_sw*irr_sw/in_2_m\n",
    "\n",
    "# the yield scale is negative sometimes\n",
    "ETc_adj = np.transpose(K_S)*ETc\n",
    "scale = (arr1- (arr1 - (ETc_adj/ETc))*K_Y)\n",
    "np.mean(scale)*y_max*p_c\n",
    "# scale"
   ]
  },
  {
   "cell_type": "markdown",
   "id": "b99e2dd3",
   "metadata": {},
   "source": [
    "If Ks is never less than 1 then there is never water stress (D < RAW). Water stress does appear when lower irrigation levels are used.\n",
    "\n",
    "I should double check transpose is doing what I expect with the first two cells"
   ]
  },
  {
   "cell_type": "code",
   "execution_count": 881,
   "id": "2f721294",
   "metadata": {},
   "outputs": [],
   "source": [
    "# irr_lvl[:] = (1/12)*0.3048"
   ]
  },
  {
   "cell_type": "code",
   "execution_count": 33,
   "id": "e7d8d721",
   "metadata": {},
   "outputs": [
    {
     "name": "stdout",
     "output_type": "stream",
     "text": [
      "Profit -1.45e+04 ($/acre)\n"
     ]
    }
   ],
   "source": [
    "for ns in [0]:#np.arange(0,len(soil_ag_unique)):\n",
    "    soil_ag = soil_crop.iloc[[ns]] #keep as dataframe for consistency \n",
    "    nfield = soil_ag.shape[0]\n",
    "\n",
    "\n",
    "    etc_arr = np.zeros((nper,nfield))\n",
    "    for n in np.arange(nper):\n",
    "        etc_arr[n,:] = ETc[n]\n",
    "\n",
    "    prep_soil(soil_ag, etc_arr)\n",
    "    dtw_arr = dtw_all[:,ns]\n",
    "\n",
    "    irr_lvl = np.zeros(2*n_irr); # Initial irrigation values for optimization\n",
    "    irr_lvl[:] = (2/12)*0.3048 # irrigate with 2 inches (convert to meters)\n",
    "    pi = swb(irr_lvl)\n",
    "    print('Profit %.2e ($/acre)' %(-pi))"
   ]
  },
  {
   "cell_type": "code",
   "execution_count": 760,
   "id": "78b7a8d1",
   "metadata": {},
   "outputs": [],
   "source": [
    "# test = np.arange(0, 4, 0.5)\n",
    "# out = np.zeros(len(test))\n",
    "# for n,i in enumerate(test):\n",
    "#     irr_lvl[:] = i\n",
    "#     out[n] = swb(irr_lvl)"
   ]
  },
  {
   "cell_type": "code",
   "execution_count": 34,
   "id": "e6238919",
   "metadata": {},
   "outputs": [],
   "source": [
    "irr_tot = np.array([10, 10]) # Total surface water and groundwater available during the season (in)\n",
    "irr_tot = (irr_tot/12)*0.3048 # convert to meters\n",
    "# Coefficients for inequality constraints (first n_irr columns are for surface water; second n_irr columns are for groundwater)\n",
    "ACON = np.zeros((2,2*n_irr))\n",
    "ACON[0,:n_irr] = np.ones(n_irr)\n",
    "ACON[1,(n_irr):(2*n_irr)] = np.ones(n_irr)\n",
    "# AEQCON = [] #  No equality contraints\n",
    "# BEQCON = [] # No equality contraints\n",
    "# I_WMAXLBCON = np.zeros((1,2*n_irr)) # Irrigation cannot be negative\n",
    "\n",
    "# COBYLA can't use bounds so need extra inequality constraints\n",
    "# pos_con = np.zeros((len(irr_lvl), len(irr_lvl)))\n",
    "# np.fill_diagonal(pos_con,1)\n",
    "# ACON = np.append(ACON, pos_con, axis=0)\n",
    "# irr_tot = np.append(irr_tot, np.full(len(pos_con), 10))\n",
    "\n",
    "con_min = np.zeros(len(ACON)) "
   ]
  },
  {
   "cell_type": "code",
   "execution_count": 43,
   "id": "447d4c32",
   "metadata": {},
   "outputs": [
    {
     "data": {
      "text/plain": [
       "[0.0, 0.0]"
      ]
     },
     "execution_count": 43,
     "metadata": {},
     "output_type": "execute_result"
    }
   ],
   "source": []
  },
  {
   "cell_type": "code",
   "execution_count": 44,
   "id": "73d1e059",
   "metadata": {},
   "outputs": [],
   "source": [
    "from scipy.optimize import Bounds, LinearConstraint\n",
    "\n",
    "bounds = Bounds(lb = 0)\n",
    "linear_constraint = LinearConstraint(ACON, list(con_min), list(irr_tot))"
   ]
  },
  {
   "cell_type": "code",
   "execution_count": 1127,
   "id": "5200acab",
   "metadata": {},
   "outputs": [],
   "source": [
    "# # for SLSQP\n",
    "# ineq_cons = {'type':'ineq',\n",
    "#             'fun': lambda x: np.array([irr_tot[0] - np.sum(x[:n_irr]),\n",
    "#                                 irr_tot[1] - np.sum(x[n_irr:])]),\n",
    "#              'jac': lambda x: np.array([[10],\n",
    "#                                       [10]])\n",
    "#             }"
   ]
  },
  {
   "cell_type": "code",
   "execution_count": 1129,
   "id": "882b9db3",
   "metadata": {},
   "outputs": [],
   "source": [
    "# the minimization with 'trust-constr' and no constraints doesn't solve and has increasing WB error\n",
    "# out = minimize(swb, irr_lvl, method='SLSQP',\n",
    "# #         constraints = [ineq_cons],\n",
    "#         bounds=bounds,\n",
    "# #          options={'verbose':1}\n",
    "#         )"
   ]
  },
  {
   "cell_type": "code",
   "execution_count": 37,
   "id": "78de276f",
   "metadata": {},
   "outputs": [],
   "source": [
    "from scipy.optimize import minimize"
   ]
  },
  {
   "cell_type": "code",
   "execution_count": 45,
   "id": "3b261daa",
   "metadata": {},
   "outputs": [
    {
     "name": "stderr",
     "output_type": "stream",
     "text": [
      "C:\\Users\\ajcalder\\Anaconda3\\envs\\geo_env\\lib\\site-packages\\scipy\\optimize\\_hessian_update_strategy.py:182: UserWarning: delta_grad == 0.0. Check if the approximated function is linear. If the function is linear better results can be obtained by defining the Hessian as zero instead of using quasi-Newton approximations.\n",
      "  warn('delta_grad == 0.0. Check if the approximated '\n"
     ]
    }
   ],
   "source": [
    "# minimize?\n",
    "# 'trust-constr' , \n",
    "#'SLSQP' and 'COBYLA' -> don't seem to work easily\n",
    "# after trying to run SLSQP and COBYLA the trust-constr doesn't evaluate properly\n",
    "# i restarted the kernel and it didn't fix it, must be an issue with the function?\n",
    "out = minimize(swb, irr_lvl, method='trust-constr',\n",
    "        constraints = [linear_constraint],\n",
    "        bounds=bounds,\n",
    "#          options={'verbose':1}\n",
    "        )"
   ]
  },
  {
   "cell_type": "code",
   "execution_count": 46,
   "id": "fdec4fe9",
   "metadata": {},
   "outputs": [
    {
     "data": {
      "text/plain": [
       "(1.9471724516138165e-09, 2.3713581575497364e-09, 221.88838637719368)"
      ]
     },
     "execution_count": 46,
     "metadata": {},
     "output_type": "execute_result"
    }
   ],
   "source": [
    "out.x[:n_irr].sum(), out.x[n_irr:].sum(), out.fun"
   ]
  },
  {
   "cell_type": "code",
   "execution_count": 47,
   "id": "b6ff71b7",
   "metadata": {},
   "outputs": [
    {
     "data": {
      "text/plain": [
       "0.31568875710169475"
      ]
     },
     "execution_count": 47,
     "metadata": {},
     "output_type": "execute_result"
    }
   ],
   "source": [
    "out.execution_time/60"
   ]
  },
  {
   "cell_type": "code",
   "execution_count": 48,
   "id": "19fe9480",
   "metadata": {},
   "outputs": [
    {
     "data": {
      "text/plain": [
       "<matplotlib.legend.Legend at 0x1c298cbe650>"
      ]
     },
     "execution_count": 48,
     "metadata": {},
     "output_type": "execute_result"
    },
    {
     "data": {
      "image/png": "[encoded data removed]",
      "text/plain": [
       "<Figure size 640x480 with 1 Axes>"
      ]
     },
     "metadata": {},
     "output_type": "display_data"
    }
   ],
   "source": [
    "plt.bar(np.arange(0,n_irr)-.25/2,(out.x[:n_irr]/0.3048)*12, label='SW', width=0.25)\n",
    "plt.bar(np.arange(0,n_irr)+.25/2,(out.x[n_irr:]/0.3048)*12, label='GW', width=0.25)\n",
    "plt.legend()\n",
    "# out"
   ]
  },
  {
   "cell_type": "code",
   "execution_count": null,
   "id": "37e5d560",
   "metadata": {},
   "outputs": [],
   "source": [
    "# with constraints the model took 117 iterations\n",
    "# the x values all seem to be miniscule 1E-6 to 1E-7\n",
    "# function was -357647159\n",
    "# took 470 seconds\n",
    "# 1 inch = 0.0254 meters"
   ]
  },
  {
   "cell_type": "code",
   "execution_count": null,
   "id": "229b5f7c",
   "metadata": {},
   "outputs": [],
   "source": [
    "# 0.4 min @ 320 fields is 128 min just for corn which is excessive\n",
    "\n",
    "# code works in the loop ( no negatives like above)\n",
    "\n",
    "# for some reason the most recent run had run times in the minutes range for each optimization\n",
    "# so the total runtime was 14 hours\n",
    "# really need to figure out what the problem is with solving time"
   ]
  },
  {
   "cell_type": "code",
   "execution_count": 55,
   "id": "0b1d129c",
   "metadata": {},
   "outputs": [
    {
     "data": {
      "text/plain": [
       "(132, 350)"
      ]
     },
     "execution_count": 55,
     "metadata": {},
     "output_type": "execute_result"
    }
   ],
   "source": [
    "dtw_all.shape"
   ]
  },
  {
   "cell_type": "code",
   "execution_count": 56,
   "id": "41595dbf",
   "metadata": {},
   "outputs": [
    {
     "name": "stdout",
     "output_type": "stream",
     "text": [
      "-108.55 $ ,in 0.42 min\n",
      "-108.88 $ ,in 1.32 min\n",
      "-108.88 $ ,in 0.35 min\n",
      "-116.48 $ ,in 3.33 min\n",
      "-108.88 $ ,in 1.27 min\n",
      "-108.88 $ ,in 1.37 min\n",
      "-105.64 $ ,in 2.35 min\n",
      "-113.91 $ ,in 2.46 min\n",
      "-114.25 $ ,in 3.37 min\n",
      "-105.64 $ ,in 1.42 min\n",
      "-108.88 $ ,in 1.47 min\n",
      "-108.88 $ ,in 1.11 min\n",
      "-105.64 $ ,in 2.11 min\n",
      "-105.64 $ ,in 1.26 min\n",
      "-105.64 $ ,in 1.13 min\n",
      "-105.64 $ ,in 2.71 min\n",
      "-106.90 $ ,in 3.43 min\n",
      "-106.90 $ ,in 2.77 min\n",
      "-109.03 $ ,in 3.78 min\n",
      "-105.64 $ ,in 1.97 min\n",
      "-240.30 $ ,in 2.29 min\n",
      "-151.47 $ ,in 5.49 min\n",
      "-108.55 $ ,in 0.37 min\n",
      "-230.13 $ ,in 4.97 min\n",
      "-108.55 $ ,in 0.33 min\n",
      "-135.93 $ ,in 5.19 min\n",
      "-231.24 $ ,in 2.61 min\n",
      "-111.60 $ ,in 2.64 min\n",
      "-226.64 $ ,in 2.51 min\n",
      "-108.43 $ ,in 2.55 min\n",
      "-111.61 $ ,in 2.18 min\n",
      "-111.60 $ ,in 1.45 min\n",
      "-105.49 $ ,in 1.23 min\n",
      "-105.49 $ ,in 1.79 min\n",
      "-126.20 $ ,in 5.30 min\n",
      "-118.40 $ ,in 1.47 min\n",
      "-105.49 $ ,in 1.99 min\n",
      "-110.24 $ ,in 3.84 min\n",
      "-105.49 $ ,in 1.36 min\n",
      "-108.43 $ ,in 2.22 min\n",
      "-108.43 $ ,in 2.14 min\n",
      "-105.49 $ ,in 1.66 min\n",
      "-118.52 $ ,in 4.06 min\n",
      "-105.49 $ ,in 2.21 min\n",
      "-126.68 $ ,in 5.04 min\n",
      "-126.70 $ ,in 4.27 min\n",
      "-240.31 $ ,in 2.89 min\n",
      "-221.89 $ ,in 0.37 min\n",
      "-105.49 $ ,in 2.06 min\n",
      "-105.49 $ ,in 2.58 min\n",
      "-105.49 $ ,in 1.29 min\n",
      "-118.41 $ ,in 3.93 min\n",
      "-105.49 $ ,in 2.28 min\n",
      "-109.77 $ ,in 4.05 min\n",
      "-109.65 $ ,in 1.68 min\n",
      "-109.65 $ ,in 2.66 min\n",
      "-105.49 $ ,in 0.73 min\n",
      "-105.49 $ ,in 1.09 min\n",
      "-114.47 $ ,in 1.64 min\n",
      "-118.45 $ ,in 3.54 min\n",
      "-105.49 $ ,in 1.11 min\n",
      "-111.90 $ ,in 3.68 min\n",
      "-118.40 $ ,in 1.48 min\n",
      "-137.54 $ ,in 2.71 min\n",
      "-126.75 $ ,in 4.03 min\n",
      "-118.48 $ ,in 3.68 min\n",
      "-111.89 $ ,in 3.90 min\n",
      "-105.49 $ ,in 0.64 min\n",
      "-105.49 $ ,in 1.03 min\n",
      "-119.52 $ ,in 4.36 min\n",
      "-119.63 $ ,in 5.27 min\n",
      "-138.04 $ ,in 4.00 min\n",
      "-231.61 $ ,in 2.97 min\n",
      "-105.49 $ ,in 1.88 min\n",
      "-109.86 $ ,in 3.72 min\n",
      "-110.06 $ ,in 3.25 min\n",
      "-105.49 $ ,in 1.13 min\n",
      "-105.49 $ ,in 1.97 min\n",
      "-118.43 $ ,in 3.26 min\n",
      "-111.60 $ ,in 1.22 min\n",
      "-111.61 $ ,in 3.25 min\n",
      "-105.49 $ ,in 1.15 min\n",
      "-110.12 $ ,in 3.49 min\n",
      "-105.49 $ ,in 1.71 min\n",
      "-105.49 $ ,in 2.29 min\n",
      "-111.60 $ ,in 3.10 min\n",
      "-111.61 $ ,in 2.90 min\n",
      "-235.11 $ ,in 2.72 min\n",
      "-221.89 $ ,in 0.39 min\n",
      "-118.47 $ ,in 3.04 min\n",
      "-118.47 $ ,in 2.36 min\n",
      "-118.41 $ ,in 3.75 min\n",
      "-111.60 $ ,in 2.74 min\n",
      "-111.61 $ ,in 2.85 min\n",
      "-111.88 $ ,in 2.86 min\n",
      "-111.60 $ ,in 2.41 min\n",
      "-111.60 $ ,in 2.32 min\n",
      "-114.46 $ ,in 1.36 min\n",
      "-111.60 $ ,in 3.24 min\n",
      "-111.61 $ ,in 2.64 min\n",
      "-105.49 $ ,in 1.32 min\n",
      "-109.76 $ ,in 3.34 min\n",
      "-105.49 $ ,in 1.49 min\n",
      "-118.44 $ ,in 4.79 min\n",
      "-132.51 $ ,in 4.13 min\n",
      "-126.56 $ ,in 5.18 min\n",
      "-240.30 $ ,in 2.17 min\n",
      "-114.47 $ ,in 1.18 min\n",
      "-118.47 $ ,in 2.94 min\n",
      "-105.49 $ ,in 2.03 min\n",
      "-109.93 $ ,in 2.98 min\n",
      "-105.49 $ ,in 1.27 min\n",
      "-151.59 $ ,in 2.09 min\n",
      "-116.87 $ ,in 3.95 min\n",
      "-111.61 $ ,in 2.69 min\n",
      "-105.49 $ ,in 1.77 min\n",
      "-114.47 $ ,in 1.54 min\n",
      "-104.23 $ ,in 2.15 min\n",
      "-118.41 $ ,in 2.62 min\n",
      "-109.65 $ ,in 1.58 min\n",
      "-109.65 $ ,in 1.92 min\n",
      "-105.49 $ ,in 1.41 min\n",
      "-118.40 $ ,in 1.23 min\n",
      "-111.60 $ ,in 2.22 min\n",
      "-111.89 $ ,in 3.04 min\n",
      "-105.49 $ ,in 1.56 min\n",
      "-105.49 $ ,in 2.36 min\n",
      "-111.89 $ ,in 3.25 min\n",
      "-105.49 $ ,in 2.14 min\n",
      "-109.97 $ ,in 3.08 min\n",
      "-105.49 $ ,in 1.83 min\n",
      "-109.69 $ ,in 2.82 min\n",
      "-105.49 $ ,in 2.00 min\n",
      "-109.55 $ ,in 3.06 min\n",
      "-118.52 $ ,in 3.99 min\n",
      "-118.51 $ ,in 2.94 min\n",
      "-111.89 $ ,in 2.63 min\n",
      "-105.49 $ ,in 1.78 min\n",
      "-105.49 $ ,in 2.26 min\n",
      "-118.46 $ ,in 3.11 min\n",
      "-114.03 $ ,in 2.68 min\n",
      "-114.20 $ ,in 2.94 min\n",
      "-108.43 $ ,in 2.52 min\n",
      "-108.43 $ ,in 2.88 min\n",
      "-114.47 $ ,in 1.16 min\n",
      "-105.49 $ ,in 1.87 min\n",
      "-159.06 $ ,in 4.91 min\n",
      "-118.47 $ ,in 3.33 min\n",
      "-105.49 $ ,in 1.92 min\n",
      "-146.54 $ ,in 3.51 min\n",
      "-105.49 $ ,in 1.40 min\n",
      "-109.58 $ ,in 3.59 min\n",
      "-118.54 $ ,in 2.80 min\n",
      "-120.14 $ ,in 3.78 min\n",
      "-155.92 $ ,in 6.03 min\n",
      "-132.64 $ ,in 3.14 min\n",
      "-124.53 $ ,in 4.40 min\n",
      "-152.81 $ ,in 4.12 min\n",
      "-108.55 $ ,in 0.38 min\n",
      "-108.55 $ ,in 0.45 min\n",
      "-164.62 $ ,in 4.70 min\n",
      "-132.41 $ ,in 3.47 min\n",
      "-137.69 $ ,in 2.71 min\n",
      "-124.28 $ ,in 4.24 min\n",
      "-105.49 $ ,in 1.28 min\n",
      "-105.49 $ ,in 1.37 min\n",
      "-110.35 $ ,in 3.28 min\n",
      "-105.49 $ ,in 1.49 min\n",
      "-105.49 $ ,in 1.53 min\n",
      "-111.60 $ ,in 2.32 min\n",
      "-111.67 $ ,in 0.78 min\n",
      "-105.49 $ ,in 0.73 min\n",
      "-105.49 $ ,in 2.68 min\n",
      "-111.61 $ ,in 2.68 min\n",
      "-111.62 $ ,in 2.92 min\n",
      "-105.49 $ ,in 1.42 min\n",
      "-105.49 $ ,in 1.83 min\n",
      "-104.23 $ ,in 1.64 min\n",
      "-219.73 $ ,in 0.39 min\n",
      "-105.49 $ ,in 1.17 min\n",
      "-105.49 $ ,in 2.39 min\n",
      "-118.53 $ ,in 5.19 min\n",
      "-105.49 $ ,in 0.74 min\n",
      "-111.61 $ ,in 2.52 min\n",
      "-111.60 $ ,in 2.15 min\n",
      "-105.49 $ ,in 1.62 min\n",
      "-152.20 $ ,in 3.98 min\n",
      "-152.44 $ ,in 3.58 min\n",
      "-126.54 $ ,in 4.11 min\n",
      "-126.36 $ ,in 3.34 min\n",
      "-137.85 $ ,in 2.20 min\n",
      "-146.01 $ ,in 3.99 min\n",
      "-119.50 $ ,in 4.64 min\n",
      "-119.52 $ ,in 5.65 min\n",
      "-114.47 $ ,in 0.95 min\n",
      "-105.49 $ ,in 1.77 min\n",
      "-105.49 $ ,in 1.70 min\n",
      "-118.41 $ ,in 2.92 min\n",
      "-105.49 $ ,in 1.78 min\n",
      "-111.61 $ ,in 3.00 min\n",
      "-111.60 $ ,in 3.05 min\n",
      "-105.49 $ ,in 0.78 min\n",
      "-118.53 $ ,in 2.99 min\n",
      "-105.49 $ ,in 1.03 min\n",
      "-118.44 $ ,in 4.05 min\n",
      "-118.44 $ ,in 4.00 min\n",
      "-141.29 $ ,in 3.32 min\n",
      "-105.49 $ ,in 1.20 min\n",
      "-118.48 $ ,in 2.13 min\n",
      "-118.53 $ ,in 2.71 min\n",
      "-105.49 $ ,in 1.29 min\n",
      "-125.59 $ ,in 5.47 min\n",
      "-116.44 $ ,in 1.63 min\n",
      "-116.36 $ ,in 1.97 min\n",
      "-105.49 $ ,in 1.43 min\n",
      "-109.99 $ ,in 2.82 min\n",
      "-105.49 $ ,in 2.64 min\n",
      "-105.49 $ ,in 1.70 min\n",
      "-114.47 $ ,in 0.62 min\n",
      "-105.49 $ ,in 1.22 min\n",
      "-118.49 $ ,in 3.49 min\n",
      "-111.60 $ ,in 2.62 min\n",
      "-111.61 $ ,in 2.17 min\n",
      "-105.49 $ ,in 1.69 min\n",
      "-105.49 $ ,in 1.66 min\n",
      "-110.19 $ ,in 3.22 min\n",
      "-105.49 $ ,in 1.20 min\n",
      "-237.66 $ ,in 3.50 min\n",
      "-116.41 $ ,in 2.69 min\n",
      "-105.49 $ ,in 1.93 min\n",
      "-126.66 $ ,in 4.27 min\n",
      "-248.84 $ ,in 2.53 min\n",
      "-221.89 $ ,in 0.42 min\n",
      "-105.49 $ ,in 0.99 min\n",
      "-118.47 $ ,in 2.88 min\n",
      "-105.49 $ ,in 1.53 min\n",
      "-105.49 $ ,in 1.51 min\n",
      "-111.60 $ ,in 2.19 min\n",
      "-111.61 $ ,in 3.75 min\n",
      "-111.60 $ ,in 2.17 min\n",
      "-111.60 $ ,in 1.96 min\n",
      "-118.50 $ ,in 3.51 min\n",
      "-111.88 $ ,in 2.61 min\n",
      "-137.45 $ ,in 2.68 min\n",
      "-146.02 $ ,in 5.98 min\n",
      "-131.65 $ ,in 2.30 min\n",
      "-142.55 $ ,in 3.17 min\n",
      "-111.89 $ ,in 3.02 min\n",
      "-105.49 $ ,in 1.51 min\n",
      "-116.58 $ ,in 3.53 min\n",
      "-116.45 $ ,in 3.15 min\n",
      "-105.49 $ ,in 1.56 min\n",
      "-111.60 $ ,in 2.67 min\n",
      "-111.61 $ ,in 2.43 min\n",
      "-114.46 $ ,in 2.94 min\n",
      "-104.23 $ ,in 2.45 min\n",
      "-118.46 $ ,in 4.19 min\n",
      "-118.52 $ ,in 3.46 min\n",
      "-105.49 $ ,in 1.84 min\n",
      "-118.54 $ ,in 2.93 min\n",
      "-124.38 $ ,in 4.08 min\n",
      "-114.64 $ ,in 2.80 min\n",
      "-105.49 $ ,in 1.29 min\n",
      "-109.98 $ ,in 2.57 min\n",
      "-105.49 $ ,in 1.43 min\n",
      "-109.75 $ ,in 4.03 min\n",
      "-108.43 $ ,in 1.43 min\n",
      "-108.43 $ ,in 2.49 min\n",
      "-118.53 $ ,in 3.48 min\n",
      "-105.49 $ ,in 1.63 min\n",
      "-105.49 $ ,in 1.92 min\n",
      "-118.53 $ ,in 3.04 min\n",
      "-111.63 $ ,in 1.32 min\n",
      "-111.60 $ ,in 1.37 min\n",
      "-110.03 $ ,in 2.07 min\n",
      "-105.49 $ ,in 1.43 min\n",
      "-145.49 $ ,in 3.09 min\n",
      "-108.43 $ ,in 2.44 min\n",
      "-108.43 $ ,in 2.77 min\n",
      "-105.49 $ ,in 1.50 min\n",
      "-111.89 $ ,in 2.99 min\n",
      "-159.98 $ ,in 4.66 min\n",
      "-221.89 $ ,in 0.35 min\n",
      "-135.68 $ ,in 4.92 min\n",
      "-135.23 $ ,in 4.97 min\n",
      "-118.54 $ ,in 4.54 min\n",
      "-105.49 $ ,in 0.81 min\n",
      "-109.57 $ ,in 2.11 min\n",
      "-105.49 $ ,in 1.32 min\n",
      "-105.49 $ ,in 1.32 min\n",
      "-105.49 $ ,in 2.42 min\n",
      "-144.67 $ ,in 4.02 min\n",
      "-105.49 $ ,in 1.40 min\n",
      "-145.67 $ ,in 3.51 min\n",
      "-105.49 $ ,in 1.26 min\n",
      "-119.51 $ ,in 2.83 min\n",
      "-119.66 $ ,in 5.24 min\n",
      "-108.43 $ ,in 1.21 min\n",
      "-108.43 $ ,in 1.49 min\n",
      "-130.49 $ ,in 3.92 min\n",
      "-126.90 $ ,in 5.06 min\n",
      "-111.61 $ ,in 2.92 min\n",
      "-111.61 $ ,in 1.92 min\n",
      "-105.49 $ ,in 1.35 min\n",
      "-118.42 $ ,in 1.76 min\n",
      "-111.61 $ ,in 2.23 min\n",
      "-111.60 $ ,in 1.47 min\n",
      "-105.49 $ ,in 0.73 min\n",
      "-111.60 $ ,in 2.06 min\n",
      "-111.61 $ ,in 2.31 min\n",
      "-111.61 $ ,in 2.31 min\n",
      "-111.60 $ ,in 3.17 min\n",
      "-118.49 $ ,in 2.57 min\n",
      "-226.63 $ ,in 1.45 min\n",
      "-108.43 $ ,in 2.36 min\n",
      "-118.41 $ ,in 2.70 min\n",
      "-105.49 $ ,in 1.20 min\n",
      "-114.47 $ ,in 2.07 min\n",
      "-118.40 $ ,in 2.80 min\n",
      "-105.49 $ ,in 1.05 min\n",
      "-110.30 $ ,in 3.81 min\n",
      "-105.49 $ ,in 0.97 min\n",
      "-117.67 $ ,in 3.22 min\n",
      "-111.88 $ ,in 3.51 min\n",
      "-114.47 $ ,in 1.52 min\n",
      "-136.82 $ ,in 3.11 min\n",
      "-116.37 $ ,in 2.71 min\n",
      "-116.56 $ ,in 3.64 min\n",
      "-105.49 $ ,in 1.06 min\n",
      "-221.91 $ ,in 0.31 min\n",
      "-118.47 $ ,in 3.04 min\n",
      "-105.49 $ ,in 1.59 min\n",
      "-110.22 $ ,in 2.83 min\n",
      "-142.41 $ ,in 4.96 min\n",
      "-105.49 $ ,in 1.51 min\n",
      "-114.47 $ ,in 0.99 min\n",
      "-118.48 $ ,in 2.71 min\n",
      "-118.49 $ ,in 3.31 min\n",
      "-105.49 $ ,in 1.75 min\n",
      "-105.49 $ ,in 0.88 min\n",
      "-110.90 $ ,in 3.62 min\n",
      "-105.49 $ ,in 1.80 min\n",
      "-110.09 $ ,in 3.44 min\n",
      "-105.49 $ ,in 2.10 min\n",
      "-105.49 $ ,in 1.16 min\n",
      "-221.89 $ ,in 0.26 min\n",
      "-118.51 $ ,in 2.79 min\n",
      "-118.46 $ ,in 2.54 min\n",
      "-105.49 $ ,in 1.34 min\n",
      "-118.48 $ ,in 2.86 min\n"
     ]
    }
   ],
   "source": [
    "# save irrigation, function, time\n",
    "irr_all =np.empty((len(soil_crop),len(irr_lvl)))\n",
    "p_all = np.empty(len(soil_crop))\n",
    "t_all = np.empty(len(soil_crop))\n",
    "\n",
    "for ns in np.arange(0,len(soil_crop)):\n",
    "    soil_ag = soil_crop.iloc[[ns]] #keep as dataframe for consistency \n",
    "    nfield = soil_ag.shape[0]\n",
    "\n",
    "    dtw_arr = dtw_all[:,ns]\n",
    "\n",
    "    etc_arr = np.zeros((nper,nfield))\n",
    "    for n in np.arange(nper):\n",
    "        etc_arr[n,:] = ETc[n]\n",
    "\n",
    "    prep_soil(soil_ag, etc_arr)\n",
    "\n",
    "    irr_lvl = np.zeros(2*n_irr); # Initial irrigation values for optimization\n",
    "    irr_lvl[:] = (2/12)*0.3048 # irrigate with 2 inches (convert to meters)\n",
    "    if ns > 1:\n",
    "        irr_lvl[:] = irr_all[ns-1]\n",
    "    # the minimization with 'trust-constr' and no constraints doesn't solve and has increasing WB error\n",
    "    out = minimize(swb, irr_lvl, method='trust-constr',\n",
    "            constraints = [linear_constraint],\n",
    "            bounds=bounds,\n",
    "    #          options={'verbose':1}\n",
    "            )\n",
    "    irr_all[ns] = out.x\n",
    "    p_all[ns] = out.fun\n",
    "    t_all[ns] = out.execution_time\n",
    "    print('%.2f' %(-out.fun),'$ ,in %.2f' %(out.execution_time/60),'min')"
   ]
  },
  {
   "cell_type": "code",
   "execution_count": 71,
   "id": "363be3dd",
   "metadata": {},
   "outputs": [
    {
     "data": {
      "text/plain": [
       "14.507521518071492"
      ]
     },
     "execution_count": 71,
     "metadata": {},
     "output_type": "execute_result"
    }
   ],
   "source": [
    "t_all.sum()/60/60"
   ]
  },
  {
   "cell_type": "code",
   "execution_count": 57,
   "id": "6d45fc31",
   "metadata": {},
   "outputs": [
    {
     "data": {
      "image/png": "[encoded data removed]",
      "text/plain": [
       "<Figure size 640x480 with 1 Axes>"
      ]
     },
     "metadata": {},
     "output_type": "display_data"
    }
   ],
   "source": [
    "lines =plt.plot(np.transpose(irr_all))\n",
    " "
   ]
  },
  {
   "cell_type": "code",
   "execution_count": 887,
   "id": "947d2a2c",
   "metadata": {},
   "outputs": [],
   "source": [
    "# with improved constraints (meters not inches), iteration was only 54\n",
    "# something is off though if the SW is being favored and the irrigation is so low\n",
    "# plt.plot(out.x)"
   ]
  },
  {
   "cell_type": "code",
   "execution_count": null,
   "id": "ff9d3fa3",
   "metadata": {},
   "outputs": [],
   "source": [
    "# it seems scipy.optimize.minimize is the correct function to use\n",
    "#from there we need to specify the trust-constr to use the constraints"
   ]
  },
  {
   "cell_type": "code",
   "execution_count": 378,
   "id": "1e3f87a5",
   "metadata": {},
   "outputs": [],
   "source": [
    "# n = 32\n",
    "# chk = -(wc[n] - wc[n-1])*soildepth + rain_arr[n] - rp[n] - ETa[n] - pc[n]\n",
    "# chk.max()\n",
    "# (wc[n] - wc[n-1])*soildepth"
   ]
  },
  {
   "cell_type": "code",
   "execution_count": 419,
   "id": "edd956ed",
   "metadata": {},
   "outputs": [],
   "source": [
    "# n=14\n",
    "# S = calc_S(wc[n], Smax, wc_f, soil_por)\n",
    "# rp = ((rain_arr[n] - 0.2*S)**2)/(rain_arr[n] + 0.8*S)\n",
    "\n"
   ]
  },
  {
   "cell_type": "code",
   "execution_count": 1060,
   "id": "362969c2",
   "metadata": {},
   "outputs": [
    {
     "data": {
      "text/plain": [
       "<matplotlib.legend.Legend at 0x2309a71b2e0>"
      ]
     },
     "execution_count": 1060,
     "metadata": {},
     "output_type": "execute_result"
    },
    {
     "data": {
      "image/png": "[encoded data removed]",
      "text/plain": [
       "<Figure size 640x480 with 5 Axes>"
      ]
     },
     "metadata": {},
     "output_type": "display_data"
    }
   ],
   "source": [
    "fig,ax = plt.subplots(5,1,sharex=True)\n",
    "ax[0].plot(rain)\n",
    "# ax[0].plot(irr_sw[:,0])\n",
    "ax[0].bar(x=np.arange(0,len(irr_sw))-0.25, height=irr_sw[:,0], width=1,label='SW')\n",
    "ax[0].bar(x=np.arange(0,len(irr_gw))+0.25, height=irr_gw[:,0], width=.5, label='GW')\n",
    "ax[1].plot(rp.mean(axis=(1)))\n",
    "ax[2].plot(ETa.mean(axis=(1)))\n",
    "ax[3].plot(pc.mean(axis=(1)))\n",
    "ax[4].plot(wc.mean(axis=(1)))\n",
    "\n",
    "for n, l in enumerate(['Rain/\\nIrrigation','Runoff','ET','Perc','WC']):\n",
    "    ax[n].set_ylabel(l)\n",
    "ax[0].legend()"
   ]
  },
  {
   "cell_type": "markdown",
   "id": "88e23b44",
   "metadata": {},
   "source": [
    "## Save Output"
   ]
  },
  {
   "cell_type": "code",
   "execution_count": 21,
   "id": "5dadd9b7",
   "metadata": {},
   "outputs": [],
   "source": [
    "\n",
    "import h5py\n",
    "\n",
    "def arr_to_h5(arr, h5_fn):\n",
    "    # convert arrays of annual rates to hdf5 files individually\n",
    "    f = h5py.File(h5_fn, \"w\")\n",
    "    grp = f.require_group('array') # makes sure group exists\n",
    "    grp.attrs['units'] = 'meters/day'\n",
    "    grp.attrs['description'] = 'Each layer of the array is a day in the water year'\n",
    "    dset = grp.require_dataset('WY', arr.shape, dtype='f', compression=\"gzip\", compression_opts=4)\n",
    "    dset[:] = arr\n",
    "    f.close()\n",
    "    \n"
   ]
  },
  {
   "cell_type": "code",
   "execution_count": 123,
   "id": "5267af0c-0645-49e1-b5cf-5b1e56bbdbdd",
   "metadata": {},
   "outputs": [],
   "source": [
    "# years and array index \n",
    "years = pd.date_range(strt_date,end_date,freq='AS-Oct')\n",
    "yr_ind = (years-strt_date).days\n"
   ]
  },
  {
   "cell_type": "code",
   "execution_count": 124,
   "id": "84e76cf9",
   "metadata": {},
   "outputs": [],
   "source": [
    "\n",
    "# need separte hdf5 for each year because total is 300MB\n",
    "for n in np.arange(0,len(yr_ind)-1):\n",
    "    arr = pc[yr_ind[n]:yr_ind[n+1]]\n",
    "    fn = join(model_ws,\"percolation_WY\"+str(years[n].year+1)+\".hdf5\")\n",
    "    arr_to_h5(arr, fn)\n"
   ]
  },
  {
   "cell_type": "markdown",
   "id": "abfc08ea",
   "metadata": {},
   "source": [
    "## Review precip vs percolation"
   ]
  },
  {
   "cell_type": "code",
   "execution_count": 45,
   "id": "ca7a9b14",
   "metadata": {},
   "outputs": [
    {
     "name": "stdout",
     "output_type": "stream",
     "text": [
      "Perc 2.70e+04, Rain 3.39E+05, Frac 0.08\n",
      "Perc 1.60e+05, Rain 4.83E+05, Frac 0.33\n",
      "Perc 9.60e+04, Rain 3.07E+05, Frac 0.31\n",
      "Perc 7.89e+04, Rain 3.71E+05, Frac 0.21\n",
      "Perc 7.65e+04, Rain 3.59E+05, Frac 0.21\n",
      "Perc 7.56e+04, Rain 3.07E+05, Frac 0.25\n",
      "Perc 1.30e+05, Rain 4.87E+05, Frac 0.27\n",
      "Perc 1.64e+05, Rain 5.08E+05, Frac 0.32\n",
      "Perc 4.96e+04, Rain 2.62E+05, Frac 0.19\n",
      "Perc 5.08e+04, Rain 2.40E+05, Frac 0.21\n",
      "Perc 5.69e+04, Rain 3.12E+05, Frac 0.18\n",
      "Perc 7.73e+04, Rain 3.58E+05, Frac 0.22\n",
      "Perc 1.58e+05, Rain 5.38E+05, Frac 0.29\n",
      "Perc 6.39e+04, Rain 3.13E+05, Frac 0.20\n",
      "Perc 6.77e+04, Rain 2.94E+05, Frac 0.23\n",
      "Perc 4.37e+04, Rain 2.92E+05, Frac 0.15\n",
      "Perc 5.19e+04, Rain 2.87E+05, Frac 0.18\n",
      "Perc 6.59e+04, Rain 3.25E+05, Frac 0.20\n",
      "Perc 2.22e+05, Rain 7.01E+05, Frac 0.32\n",
      "Perc 8.53e+04, Rain 4.50E+05, Frac 0.19\n",
      "Perc 1.62e+05, Rain 5.76E+05, Frac 0.28\n",
      "Perc 5.36e+04, Rain 3.01E+05, Frac 0.18\n"
     ]
    }
   ],
   "source": [
    "chk = pc.sum(axis=(1,2))*200*200/((0.3048**3)*43560)\n",
    "chk1 = rain_arr.sum(axis=(1,2))*200*200/((0.3048**3)*43560)\n",
    "\n",
    "for n in np.arange(0,len(yr_ind)-1):\n",
    "    print('Perc %.2e'%(chk[yr_ind[n]:yr_ind[n+1]]).sum(), end=', ')\n",
    "    print('Rain %.2E' %(chk1[yr_ind[n]:yr_ind[n+1]].sum()), end=', ')\n",
    "    print('Frac %.2f'%(chk[yr_ind[n]:yr_ind[n+1]].sum()/chk1[yr_ind[n]:yr_ind[n+1]].sum()))\n"
   ]
  }
 ],
 "metadata": {
  "kernelspec": {
   "display_name": "Python 3 (ipykernel)",
   "language": "python",
   "name": "python3"
  },
  "language_info": {
   "codemirror_mode": {
    "name": "ipython",
    "version": 3
   },
   "file_extension": ".py",
   "mimetype": "text/x-python",
   "name": "python",
   "nbconvert_exporter": "python",
   "pygments_lexer": "ipython3",
   "version": "3.10.9"
  }
 },
 "nbformat": 4,
 "nbformat_minor": 5
}
