{
 "cells": [
  {
   "cell_type": "markdown",
   "id": "1c97e4bd",
   "metadata": {},
   "source": [
    "Code to build a basic soil water budget model based on the mathematical equations used by IDC with simplification as here the key is identifying percolation rather than applied water."
   ]
  },
  {
   "cell_type": "code",
   "execution_count": 1,
   "id": "9c5bdd5c",
   "metadata": {},
   "outputs": [],
   "source": [
    "# standard python utilities\n",
    "import os\n",
    "from os.path import join, exists, dirname, basename\n",
    "import glob\n",
    "import sys\n",
    "import time\n",
    "\n",
    "import pandas as pd\n",
    "import numpy as np\n",
    "\n",
    "import h5py\n",
    "from scipy.io import loadmat\n",
    "\n",
    "# standard python plotting utilities\n",
    "import matplotlib as mpl\n",
    "import matplotlib.pyplot as plt\n",
    "\n",
    "# standard geospatial python utilities\n",
    "import shapely\n",
    "import geopandas as gpd\n",
    "\n"
   ]
  },
  {
   "cell_type": "code",
   "execution_count": 2,
   "id": "21f20ee2",
   "metadata": {},
   "outputs": [],
   "source": [
    "# import cvxpy as cp"
   ]
  },
  {
   "cell_type": "code",
   "execution_count": 3,
   "id": "02f105bc",
   "metadata": {},
   "outputs": [],
   "source": [
    "doc_dir = os.getcwd()\n",
    "while basename(doc_dir) != 'Documents':\n",
    "    doc_dir = dirname(doc_dir)\n",
    "# dir of all gwfm data\n",
    "gwfm_dir = dirname(doc_dir)+'/Box/research_cosumnes/GWFlowModel'\n",
    "gwfm_dir\n",
    "dis_dir = join(gwfm_dir, 'DIS_data')\n",
    "uzf_dir = join(gwfm_dir,'UZF_data')"
   ]
  },
  {
   "cell_type": "code",
   "execution_count": 4,
   "id": "dfe38b37",
   "metadata": {},
   "outputs": [],
   "source": [
    "proj_dir = join(dirname(doc_dir),'Box','SESYNC_paper1')\n",
    "data_dir = join(proj_dir, 'model_inputs')"
   ]
  },
  {
   "cell_type": "code",
   "execution_count": 5,
   "id": "f45e8cca",
   "metadata": {},
   "outputs": [],
   "source": [
    "# run_dir = 'C://WRDAPP/GWFlowModel'\n",
    "run_dir = 'F://WRDAPP/GWFlowModel'\n",
    "loadpth = run_dir +'/Cosumnes/levee_setback/streamflow/'\n",
    "# model_nam = 'setback_streamflow'\n",
    "model_nam = 'historical_streamflow'\n",
    "\n",
    "loadpth = run_dir +'/Cosumnes/Regional/'\n",
    "\n",
    "model_ws = loadpth + 'crop_modflow'"
   ]
  },
  {
   "cell_type": "code",
   "execution_count": 554,
   "id": "f5b95db9",
   "metadata": {},
   "outputs": [],
   "source": [
    "year = int(2014)\n",
    "# crop='Grape'\n",
    "crop='Corn'\n",
    "crop='Alfalfa'\n",
    "# crop='Pasture' # will require extra work due to AUM vs hay\n",
    "# crop = 'Misc Grain and Hay'"
   ]
  },
  {
   "cell_type": "code",
   "execution_count": 555,
   "id": "ed6e4829-44a5-4b3b-b391-e0881e07a99d",
   "metadata": {},
   "outputs": [],
   "source": [
    "# dem_data = np.loadtxt(gwfm_dir+'/DIS_data/dem_52_9_200m_mean.tsv')\n"
   ]
  },
  {
   "cell_type": "code",
   "execution_count": 556,
   "id": "51bd7e93",
   "metadata": {},
   "outputs": [],
   "source": [
    "# nrow, ncol = dem_data.shape\n",
    "nrow,ncol = (100, 230)"
   ]
  },
  {
   "cell_type": "code",
   "execution_count": 557,
   "id": "20cba9ec",
   "metadata": {},
   "outputs": [],
   "source": [
    "def ymd2dt(year, month, day, year_adj):\n",
    "    \"\"\" Only year is expected to come as int the others as series/1D arrays\"\"\"\n",
    "    year = (year + year_adj).astype(str)\n",
    "    date = pd.to_datetime(year+'-'+ month.astype(str)+'-'+day.astype(str))\n",
    "    return(date)\n"
   ]
  },
  {
   "cell_type": "markdown",
   "id": "57ccb305",
   "metadata": {},
   "source": [
    "## Hydrologic data"
   ]
  },
  {
   "cell_type": "code",
   "execution_count": 558,
   "id": "7a0e590b",
   "metadata": {},
   "outputs": [],
   "source": [
    "fn = join(data_dir,'static_model_inputs.xlsx')\n",
    "var_gen = pd.read_excel(fn, sheet_name='General', comment='#')\n",
    "var_gen = var_gen.set_index('variable')['value'] # adjust for quick pulling of variables\n",
    "\n",
    "var_crops = pd.read_excel(fn, sheet_name='Crops', comment='#')\n",
    "var_yield = pd.read_excel(fn, sheet_name='Yield', comment='#')\n",
    "# subset to crop for current simulation if looping, could also do ID\n",
    "var_crops = var_crops[var_crops.crop==crop]\n",
    "var_crops = var_crops.set_index('variable')['value'] # adjust for quick pulling of variables\n",
    "var_yield = var_yield[var_yield.crop==crop]\n",
    "\n",
    "\n",
    "# cross-reference between simple and DWR full crop name\n",
    "crop_dict = pd.read_excel(fn, sheet_name='Name_dict', comment='#')\n",
    "crop_dict = crop_dict.set_index('Crop')['DWR_name'].to_dict()\n",
    "\n",
    "# season dates - primarily for calculating yield adjustments\n",
    "season = pd.read_excel(fn, sheet_name='Seasons', comment='#')\n",
    "season = season[season.crop==crop]\n",
    "#  get the dates for each yield cycle\n",
    "yield_start = ymd2dt(year, season.month_start, season.day_start, season.start_adj)\n",
    "yield_end = ymd2dt(year, season.month_end, season.day_end, season.end_adj)\n",
    "# adjust for dates in the next year\n",
    "# yield_end[yield_start>yield_end] += pd.DateOffset(years=1)\n",
    "# get the total extent of the irrigation season (calculation period)\n",
    "strt_date = yield_start.min()\n",
    "end_date = yield_end.max()"
   ]
  },
  {
   "cell_type": "code",
   "execution_count": 559,
   "id": "bfdc9100",
   "metadata": {},
   "outputs": [
    {
     "data": {
      "text/plain": [
       "array([  0,  48,  83, 113, 141, 170, 201, 235])"
      ]
     },
     "execution_count": 559,
     "metadata": {},
     "output_type": "execute_result"
    }
   ],
   "source": [
    "# days to index for calculating yield impacts, add 1 to include end day\n",
    "yield_ind = np.append([0], (yield_end-strt_date).dt.days.values +1)\n",
    "yield_ind\n"
   ]
  },
  {
   "cell_type": "code",
   "execution_count": 560,
   "id": "031c415a",
   "metadata": {},
   "outputs": [],
   "source": [
    "# the model will run the irrigation optimizer on specified dates (multiple crops can be done at once or in sequence)\n",
    "# the modflow model will be run for the periods between the specified irrigation optimizer dates\n",
    "\n",
    "# strt_date = ymd2dt(year, season.month_start, season.day_start)\n",
    "# end_date = ymd2dt(year, season.month_end, season.day_end)\n",
    "dates = pd.date_range(strt_date, end_date, freq='D')\n",
    "\n",
    "model_ws = loadpth + 'crop_soilbudget/'+crop+'_'+str(strt_date.date())"
   ]
  },
  {
   "cell_type": "code",
   "execution_count": 561,
   "id": "703614ef",
   "metadata": {},
   "outputs": [],
   "source": [
    "nper = (end_date-strt_date).days +1\n"
   ]
  },
  {
   "cell_type": "code",
   "execution_count": 562,
   "id": "f7b6fd51",
   "metadata": {},
   "outputs": [],
   "source": [
    "## Potential ETo spatial interpolation from CIMIS\n",
    "fn = glob.glob(join(uzf_dir,'CIMIS','Cosumnes_dailyET_precip*.csv'))\n",
    "daily_data = pd.DataFrame()\n",
    "for file in fn:\n",
    "    new_data = pd.read_csv(file, index_col = ['Date'], parse_dates = True)\n",
    "    daily_data = pd.concat((daily_data, new_data))\n",
    "# units of mm\n",
    "data_in = daily_data[daily_data['Stn Name']=='Fair Oaks']\n",
    "\n",
    "# clean up data so columns are by location, units of Precip are in mm\n",
    "rain_in = data_in.pivot_table(index = 'Date', columns = 'Stn Name', values = 'Precip (mm)')\n",
    "rain_m = rain_in/1000\n",
    "# fill in missing days of rain with zero values\n",
    "rain_df = rain_m.reindex(dates)\n",
    "rain_df[rain_df.isna()]=0\n",
    "# convert to array for calculations\n",
    "rain = rain_df['Fair Oaks'].values\n",
    "\n",
    "# clean up ETo data\n",
    "# ETo_in = data_in.pivot_table(index = 'Date', columns = 'Stn Name', values = 'ETo (mm)')\n",
    "# ETo_m = ETo_in/1000\n",
    "# # linearly interpolate missing days for ET\n",
    "# ETo_df = ETo_m[strt_date:end_date].resample('D').interpolate('linear')['Fair Oaks']\n",
    "\n",
    "# create array for every period of rainfall\n",
    "# rain_df = rain_m[strt_date:end_date].resample('D').interpolate('linear')['Fair Oaks']\n",
    "# rain_arr = np.repeat(np.repeat(np.reshape(rain_df.values, (rain_df.shape[0],1,1)), nrow, axis=1),ncol, axis=2)\n"
   ]
  },
  {
   "cell_type": "code",
   "execution_count": 563,
   "id": "153f7710",
   "metadata": {},
   "outputs": [],
   "source": [
    "# load in pre-processed array of ETc for all time\n",
    "ETc_long = pd.read_hdf(join(uzf_dir, \"dwr_ETc\",'long_ETc_all_lu.hdf5'), key='variable')\n",
    "# identify crop to use\n",
    "etc_var = pd.Series(ETc_long.variable.unique())\n",
    "# etc_var[etc_var.str.contains(crop, case=False)]\n",
    "# crop_dict = {'Corn':'Corn (field & sweet)'}"
   ]
  },
  {
   "cell_type": "code",
   "execution_count": 564,
   "id": "4bac26ff",
   "metadata": {},
   "outputs": [],
   "source": [
    "# etc_var[etc_var.str.contains('Grain', case=False)]\n",
    "# # ETc_long[['Grain and hay crops']]\n",
    "# ETc_long[ETc_long.variable=='Grain and hay crops']['value'][strt_date:end_date].plot()"
   ]
  },
  {
   "cell_type": "code",
   "execution_count": 565,
   "id": "ed9d9d40",
   "metadata": {},
   "outputs": [],
   "source": [
    "# ETc_long.variable[ETc_long.variable.str.contains('vineyards',case=False)]"
   ]
  },
  {
   "cell_type": "markdown",
   "id": "2cf1983c",
   "metadata": {},
   "source": [
    "While the database of Kc will work fine for the rest of the crops it may make sense to use Yusuke's specific Kc values.\n"
   ]
  },
  {
   "cell_type": "code",
   "execution_count": 566,
   "id": "36ff5e30",
   "metadata": {},
   "outputs": [],
   "source": [
    "# subset for crop\n",
    "ETc = ETc_long[ETc_long.variable==crop_dict[crop]]['value']\n",
    "# subset for model period\n",
    "ETc = ETc[strt_date:end_date]\n",
    "# fill in empty dates with interpolation (temporary since corn dates are slightly different)\n",
    "ETc = ETc.reindex(dates)\n",
    "ETc = ETc.bfill().ffill()\n",
    "\n",
    "# convert to an array for calculations\n",
    "ETc = ETc.values"
   ]
  },
  {
   "cell_type": "code",
   "execution_count": 567,
   "id": "c79d6df2",
   "metadata": {},
   "outputs": [],
   "source": [
    "in_2_m = (1/12)*0.3048"
   ]
  },
  {
   "cell_type": "code",
   "execution_count": 568,
   "id": "0e2e4953",
   "metadata": {},
   "outputs": [],
   "source": [
    "d_ini = 0; # Initial root zone depletion (in)\n",
    "y_max = var_crops[['y_max']].values # Maximum expected crop yield (tons/acre)\n",
    "\n",
    "phi = var_gen['phi'] # Energy requirement to raise a unit of water by a unit of vertical distance (kWh/acre-in/ft)\n",
    "p_c = var_crops['p_c'] # Crop price ($/ton)\n",
    "p_sw = var_gen['p_sw'] # Surface water charges and fees ($/acre-in)\n",
    "p_e = var_gen['p_e'] # Cost of energy for groundwater pumping ($/kWh)\n",
    "p_o = var_crops['p_o'] # Variable operating costs per acre, excluding irrigation costs ($/acre)\n",
    "\n"
   ]
  },
  {
   "cell_type": "code",
   "execution_count": 569,
   "id": "90b6cf02",
   "metadata": {},
   "outputs": [],
   "source": [
    "# create time series of daily yield response factors\n",
    "var_yield['dt'] = ymd2dt(year, var_yield.month, var_yield.day, var_yield.year_adj)\n",
    "# adjust for dates in the next year\n",
    "K_Y = var_yield.set_index('dt').reindex(dates).ffill()\n",
    "K_Y = K_Y['K_Y'].values\n"
   ]
  },
  {
   "cell_type": "code",
   "execution_count": 570,
   "id": "6a7ca5a4",
   "metadata": {},
   "outputs": [
    {
     "data": {
      "text/plain": [
       "array([  0,  31,  62,  93, 124, 155, 186, 217])"
      ]
     },
     "execution_count": 570,
     "metadata": {},
     "output_type": "execute_result"
    }
   ],
   "source": [
    "\n",
    "gap_irr = var_crops['gap_irr'] # Number of days between irrigations\n",
    "n_irr = np.floor(len(dates)/gap_irr).astype(int) + 1 # Calculate number of irrigations\n",
    "irr_days = np.arange(0, (n_irr*gap_irr-1), gap_irr).astype(int) # Calculate days on which irrigation takes place\n",
    "irr_days"
   ]
  },
  {
   "cell_type": "markdown",
   "id": "f0b699ff",
   "metadata": {},
   "source": [
    "# Spatial data"
   ]
  },
  {
   "cell_type": "code",
   "execution_count": 571,
   "id": "1fab846d",
   "metadata": {},
   "outputs": [],
   "source": [
    "# load cleaned soil data for ag fields\n",
    "soil_path = join(uzf_dir,'clean_soil_data')\n",
    "# soil data for each ag field\n",
    "soil_ag_all = pd.read_csv(join(soil_path, 'soil_for_ag_fields.csv'), index_col=0)\n",
    "# connection of ag fields to grid cells\n",
    "grid_soil = pd.read_csv(join(soil_path, 'ag_field_to_cell.csv'),index_col=0)\n",
    "# curve numbers\n",
    "CN = pd.read_csv(join(soil_path, 'ag_field_CN.csv'),index_col = 0)\n",
    "\n",
    "soil_ag_all = pd.merge(soil_ag_all, CN)\n",
    "field_area = soil_ag.field_area_m2.values\n",
    "\n",
    "# identify crop to use\n",
    "crop_nam = pd.Series(soil_ag_all.name.unique())\n",
    "crop_nam[crop_nam.str.contains(crop)]\n",
    "\n",
    "# subset for fields with the crop\n",
    "soil_crop = soil_ag_all[soil_ag_all.name==crop_dict[crop]]\n",
    "nfield = len(soil_crop)"
   ]
  },
  {
   "cell_type": "code",
   "execution_count": 572,
   "id": "a4a62e58",
   "metadata": {},
   "outputs": [],
   "source": [
    "# soil_ag_all[soil_ag_all.name.str.contains('grain and hay')].name.unique()"
   ]
  },
  {
   "cell_type": "code",
   "execution_count": 573,
   "id": "b5226f5f",
   "metadata": {},
   "outputs": [],
   "source": [
    "# temporary input for dtw variables to calculate pumping cost\n",
    "dtw_time = np.linspace(90,95, nper)\n",
    "dtw_all = np.zeros((nper,nfield))\n",
    "for n in np.arange(nper):\n",
    "    dtw_all[n,:] = dtw_time[n]"
   ]
  },
  {
   "cell_type": "markdown",
   "id": "53fe964a",
   "metadata": {},
   "source": [
    "## Iterate over each unique soil condition"
   ]
  },
  {
   "cell_type": "code",
   "execution_count": 574,
   "id": "1346a3a8",
   "metadata": {},
   "outputs": [],
   "source": [
    "ns=0\n",
    "soil_ag = soil_crop.iloc[[ns]] #keep as dataframe for consistency \n",
    "nfield = soil_ag.shape[0]\n",
    "\n",
    "dtw_arr = dtw_all[:,ns]\n",
    "\n",
    "etc_arr = np.zeros((nper,nfield))\n",
    "for n in np.arange(nper):\n",
    "    etc_arr[n,:] = ETc[n]"
   ]
  },
  {
   "cell_type": "code",
   "execution_count": 575,
   "id": "8d7b7015",
   "metadata": {},
   "outputs": [],
   "source": [
    "def prep_soil(soil_ag, etc_arr):\n",
    "    global soil_Ks, soil_por, soil_eps, soil_CN\n",
    "    global soildepth, soil_m, wc_f, wc_wp, taw, Smax, raw, P\n",
    "    \n",
    "    # # when soil_K_low is missing using a substitute of Ksat/10\n",
    "    soil_Ks = np.where(soil_ag.Ksat_Low==0, soil_ag.Ksat/10, soil_ag.Ksat_Low)\n",
    "    soil_por = soil_ag.Porosity.values/100\n",
    "    soil_eps = soil_ag.EPS.values\n",
    "    soil_CN = soil_ag.CN.values\n",
    "    \n",
    "    soildepth = soil_ag.SoilDepth.values\n",
    "    psdi =  soil_ag.PSDI.values\n",
    "    # parameter for Mualem, van Genuchten\n",
    "    soil_m = psdi/(psdi+1)\n",
    "    wc_f =  soil_ag.w3rdbar.values/100 #field capacity\n",
    "    wc_wp =  soil_ag.w15bar.values/100 #wilting point \n",
    "\n",
    "    # Calculate total available water in the root zone\n",
    "    taw = (wc_f - wc_wp)*soildepth \n",
    "\n",
    "    # for runoff, convert CN from fraction to CN\n",
    "    Smax = (1000/soil_CN) - 10\n",
    "    \n",
    "    p_table22 = var_crops['p_table22'] # Soil water depletion fraction for no stress\n",
    "    # requires ETc in mm/day\n",
    "    P = p_table22 + 0.04*((5-(etc_arr*1000))) # Calculate adjusted daily soil water depletion fraction for no stress\n",
    "    raw = taw*P # Calculate readily available water in the root zone\n",
    "\n",
    "\n",
    "prep_soil(soil_ag, etc_arr)"
   ]
  },
  {
   "cell_type": "code",
   "execution_count": 576,
   "id": "d33108ca",
   "metadata": {},
   "outputs": [],
   "source": [
    "def calc_S(wc, Smax, wc_f, soil_por):\n",
    "    \"\"\" Given an array of water contents return potential soil retention\"\"\"\n",
    "    S = np.zeros(Smax.shape)\n",
    "    # when water content is less than 1/2 field capacity, full retention\n",
    "    S[wc < wc_f/2] = Smax[wc < wc_f/2]\n",
    "    # wc > porosity then set as porosity for calculations (avoids S >1)\n",
    "    wc_calc = np.where(wc<soil_por, wc, soil_por)\n",
    "    # when water content is greater than 1/2 field capacity, partial retention \n",
    "    S1 = Smax * (1 - ((wc_calc - wc_f/2)/(soil_por - wc_f/2)))\n",
    "    S[wc >= wc_f/2]= S1[wc >= wc_f/2]\n",
    "    # convert S from inches to meters\n",
    "    S *= (0.3048/12)\n",
    "    return(S)"
   ]
  },
  {
   "cell_type": "code",
   "execution_count": 577,
   "id": "7090c337",
   "metadata": {},
   "outputs": [],
   "source": [
    "def calc_pc(wc, soil_por, soil_Ks, soil_m):\n",
    "    \"\"\" explicit calculation of percolation assuming water content of prior to \n",
    "    percolation is representative of conditions controlling percolation\"\"\"\n",
    "    # calculate soil saturation as water content can be greater than porosity assuming it represents ponding\n",
    "    sat = wc/soil_por\n",
    "    sat  = np.where(sat>1, 1, sat)\n",
    "    # explicit calculation of percolation\n",
    "    pc = soil_Ks*(sat)*(1- (1-(sat)**(1/soil_m))**soil_m)**2\n",
    "    return(pc)\n",
    "\n",
    "# calc_pc(wc[100], soil_por, soil_Ks, soil_m)"
   ]
  },
  {
   "cell_type": "markdown",
   "id": "246759cc",
   "metadata": {},
   "source": [
    "Total available water (TAW) is the water available between field content and the wilting point times the depth of the root zone (this could be assumed to be the soil depth at times).  \n",
    "Per the FAO report, rooting depths are:\n",
    "- Corn:1-1.7 m which is about where soil depth would put it  \n",
    "- Alfalfa:1-2 m  \n",
    "- Barley, Wheat: 1-1.5m  \n",
    "\n",
    "So all of these fall within the range where the soil depth should determine rooting depth."
   ]
  },
  {
   "cell_type": "markdown",
   "id": "e3858faa",
   "metadata": {},
   "source": [
    "If we need to remove ET from each step then we should reduce the number of crops used to simplify calculations unless the code runs quickly for all cells.\n",
    "- Need to assume initial water content of 0. \n",
    " \n",
    "* water content can't exceed porosity. It is assumed that θ can be computed to be greater than θT, and the difference between the θ and θT represents the depth of the pond."
   ]
  },
  {
   "cell_type": "code",
   "execution_count": null,
   "id": "7c528056",
   "metadata": {},
   "outputs": [],
   "source": []
  },
  {
   "cell_type": "markdown",
   "id": "bc066ea9-be8f-4ac9-945b-c47e289409d8",
   "metadata": {},
   "source": [
    "# Run the model\n",
    "The ETc, and rain will be preset inputs for the irrigation simulation (the ETc will be calculated when the crop is chosen at the start of the year).  \n",
    "The irrigation optimizer will be a function of crop - ETc, irrigation (variable calibrated)"
   ]
  },
  {
   "cell_type": "code",
   "execution_count": 578,
   "id": "28ff2327",
   "metadata": {},
   "outputs": [],
   "source": [
    "irr_lvl = np.zeros(2*n_irr); # Initial irrigation values for optimization\n",
    "irr_lvl[:] = (2/12)*0.3048 # irrigate with 2 inches (convert to meters)\n",
    "\n"
   ]
  },
  {
   "cell_type": "markdown",
   "id": "caf21b82",
   "metadata": {},
   "source": [
    "After the irrigation season ends, the model needs to be run from the end of irrigation to the start of the next season for calculating recharge from rainfall and maintaining the soil water budget.  \n",
    "\n",
    "The FAO model assumes \"that water can be stored in the root zone until field capacity is reached. Although following heavy rain or irrigation the water content might temporally exceed field capacity, the total amount of water above field capacity is assumed to be lost the same day by deep percolation, following any ET for that day. By assuming that the root zone is at field capacity following heavy rain or irrigation, the minimum value for the depletion Dr, i is zero.\"  \n",
    "\n",
    "-> this contrasts with IDC where water content is allowed to exceed porosity with the assumption that it has become ponded water."
   ]
  },
  {
   "cell_type": "code",
   "execution_count": 622,
   "id": "2a6ec31f",
   "metadata": {},
   "outputs": [
    {
     "data": {
      "text/plain": [
       "array([0., 0., 0., 0., 0., 0., 0.])"
      ]
     },
     "execution_count": 622,
     "metadata": {},
     "output_type": "execute_result"
    }
   ],
   "source": [
    "p_gw = p_e*phi*dtw_arr[irr_days]\n",
    "# where the gw costs more then set gw as 0 and vice versa\n",
    "irr_lvl[:n_irr][p_gw > p_sw] = 0\n",
    "irr_lvl[n_irr:][p_gw < p_sw] = 0"
   ]
  },
  {
   "cell_type": "code",
   "execution_count": 613,
   "id": "78cdac8f",
   "metadata": {},
   "outputs": [],
   "source": [
    "\n",
    "    \n",
    "def swb(irr_lvl):\n",
    "    global wc, pc, rp, ETa, D, K_S\n",
    "#     global c_gwtot, c_swtot\n",
    "    m2_ac = (1/0.3048**2)/43560 # convert from m2 to acres\n",
    "    in_2_m = (1/12)*0.3048 # convert from inches to meters\n",
    "    nper = (end_date-strt_date).days +1\n",
    "\n",
    "    tic = time.time()\n",
    "\n",
    "    irr_sw = np.zeros((nper,nfield))\n",
    "    irr_gw = np.zeros((nper,nfield))\n",
    "    for i in np.arange(0,n_irr):\n",
    "        irr_sw[irr_days[i]] = irr_lvl[i]\n",
    "        irr_gw[irr_days[i]] = irr_lvl[i+n_irr]\n",
    "        \n",
    "    wc = np.zeros((nper+1, nfield)) # water content, add initial conditions with +1\n",
    "    pc = np.zeros((nper, nfield)) # percolation\n",
    "    rp = np.zeros((nper, nfield)) # runoff \n",
    "    ETa = np.zeros((nper, nfield)) # actual ET\n",
    "    wb_sum= np.zeros((nper, nfield)) # water budget check\n",
    "    # time units are days for everything\n",
    "\n",
    "    D = np.zeros((nper+1, nfield)) # soil depletion, add initial conditions with +1\n",
    "    K_S = np.zeros((nper, nfield)) # crop water stress\n",
    "    \n",
    "    # initial water content and root zone depletion are pulled from the last step of the previous run\n",
    "    \n",
    "    # -1 starts at IC for BC\n",
    "    # WC/D starts at 0\n",
    "    for ns, n in enumerate(np.arange(-1, nper-1)):\n",
    "        ## Runoff ##\n",
    "        S = calc_S(wc[ns+1], Smax, wc_f, soil_por)\n",
    "        water_in = rain[n+1] \n",
    "        # calculate runoff only when there is rain, and rain is uniform\n",
    "        if (water_in>0).any():\n",
    "            rp[n+1] = ((water_in - 0.2*S)**2)/(water_in + 0.8*S)\n",
    "        # where rainfall is less than initial abstraction (0.2S) set runoff as 0\n",
    "        rp[n+1] = np.where(water_in<0.2*S, 0, rp[n+1])\n",
    "        # add in irrigation after runoff (assume farm is set up to avoid runoff for irrigation season)\n",
    "        water_in = water_in + irr_sw[n+1] + irr_gw[n+1]\n",
    "        ## explicit percolation ##\n",
    "        pc[n+1] = calc_pc(wc[ns], soil_por, soil_Ks, soil_m)\n",
    "        # stepwise water budget, explicit to avoid iteration\n",
    "        # add rain and take away runoff first\n",
    "        wc[ns+1] = (wc[ns]*soildepth + (water_in - rp[n+1]))/soildepth\n",
    "        # take away ET, add term to prevent going to zero\n",
    "        ETa[n+1] = np.where(ETc[n+1] <= wc[ns+1]*soildepth, ETc[n+1], wc[ns+1]*soildepth - 1E-9)\n",
    "        wc[ns+1] = wc[ns+1] + (-ETa[n+1])/soildepth\n",
    "        # take away percolation\n",
    "        pc[n+1] = np.where(pc[n+1] <= wc[ns+1]*soildepth, pc[n+1], wc[ns+1]*soildepth - 1E-9)\n",
    "        wc[ns+1] = wc[ns+1] + (-pc[n+1])/soildepth\n",
    "        # check water budget error\n",
    "        wb_sum[n+1] = (wc[ns]-wc[ns+1])*soildepth + water_in - rp[n+1] - ETa[n+1] - pc[n+1] \n",
    "        if (wb_sum[n+1]>1E-3).any()|(wb_sum[n+1]<-1E-3).any():\n",
    "            print('WB error exceeds 1E-3',n )\n",
    "            ## additional code for optimizing irrigation\n",
    "        # calculate soil depletion for irrigation decision (must use ETc to see how much should be depleted)\n",
    "        D[ns+1] = D[ns] - water_in + ETc[n+1] + rp[n+1] + pc[n+1] \n",
    "        # root zone depletion can't be greater than TAW \n",
    "        D[ns+1] = np.min([D[ns+1], taw], axis=0)\n",
    "        # root zone depletion should be greater than 0\n",
    "        D[ns+1] = np.where(D[ns+1]<0,0, D[ns+1])\n",
    "        # default value of water stress is 1 (none): # potentially unnecessary just fill in 1\n",
    "        K_S[n+1] = 1\n",
    "        # where rootzone depletion is greater than RAW there is water stress\n",
    "        K_S_ws = (taw - D[ns+1])/((1 - P[n+1])*taw);\n",
    "        K_S[n+1] = np.where(D[ns+1]>raw[n+1], K_S_ws, K_S[n+1])\n",
    "\n",
    "    ## Calculate daily crop outcomes \n",
    "    ETc_adj = np.transpose(K_S)*ETc # Calculate daily crop ET with soil water stress, pairwise functoin check?\n",
    "    ## Calculate economic outcomes \n",
    "    arr1 = np.ones((nfield,nper))\n",
    "    # average the yield scaling across the season\n",
    "    # yield max changes during the season so update this to be fluid for alfalfa (mean for eaching cutting then sum means)\n",
    "    Y_A_arr = np.zeros(len(y_max))\n",
    "    for n in np.arange(0,len(yield_ind)-1):\n",
    "        # subset the yield scaling by the growing period then multiply by the appropriate yield max for that period\n",
    "        Y_A_arr[n] = y_max[n]*np.mean((arr1- (arr1 - (ETc_adj/ETc))*K_Y)[:, yield_ind[n]:yield_ind[n+1]])\n",
    "    # the total yield is the sum of individual yields\n",
    "    Y_A = Y_A_arr.sum()\n",
    "    # irrigation must be converted from meters to inches for calculating cost\n",
    "    c_gwtot = p_e*phi*(np.multiply(dtw_arr, irr_gw[:,0])/in_2_m) # Calcualte total groundwater pumping costs for the season ($/acre)\n",
    "    c_swtot = np.multiply(p_sw, irr_sw[:,0])/in_2_m # Calcualte total surface water costs for the season ($/acre)\n",
    "    cost = c_gwtot+c_swtot\n",
    "    # calculate profit (daily values must be summed for the seasonal value)\n",
    "    # profit can be left as $/acre with area assigned after if each field is done separate\n",
    "    # for alfalfa it would be helpful to see the profit by cutting\n",
    "    pi = -((p_c*Y_A - np.sum(cost))- p_o) # Calculate profit ($/acre)\n",
    "    # forced internal boundary to prevent negatives\n",
    "    if any(irr_lvl <0):\n",
    "        # set a scalable penalty\n",
    "        pi = irr_lvl[irr_lvl<0].sum()*-1E4\n",
    "    \n",
    "    toc = time.time()\n",
    "#     print('Run time was %.2f minutes' %((toc-tic)/60))\n",
    "    if wb_sum.sum(axis=1).mean() > 1E-6:\n",
    "        print('Avg WB error was %.2E m' % wb_sum.sum(axis=(1)).mean())\n",
    "    return(pi)\n"
   ]
  },
  {
   "cell_type": "markdown",
   "id": "b99e2dd3",
   "metadata": {},
   "source": [
    "If Ks is never less than 1 then there is never water stress (D < RAW). Water stress does appear when lower irrigation levels are used.\n",
    "\n",
    "I should double check transpose is doing what I expect with the first two cells"
   ]
  },
  {
   "cell_type": "markdown",
   "id": "be7977f6",
   "metadata": {},
   "source": [
    "We had discussed that we could adjust the irrigation volumes to assign only SW or GW irrigation if the price of GW or SW is cheaper. The issue is that the price of GW will fluctuate throughout the season so at the beginning it might be cheaper but get more expensive by the end so it could reasonably put GW at the beginning and SW at the end. To do this we need to specify which irrigation events are more or less cost."
   ]
  },
  {
   "cell_type": "code",
   "execution_count": 623,
   "id": "e7d8d721",
   "metadata": {},
   "outputs": [
    {
     "name": "stdout",
     "output_type": "stream",
     "text": [
      "Profit 728.30 ($/acre)\n"
     ]
    }
   ],
   "source": [
    "for ns in [0]:#np.arange(0,len(soil_ag_unique)):\n",
    "    soil_ag = soil_crop.iloc[[ns]] #keep as dataframe for consistency \n",
    "    nfield = soil_ag.shape[0]\n",
    "    \n",
    "    etc_arr = np.zeros((nper,nfield))\n",
    "    for n in np.arange(nper):\n",
    "        etc_arr[n,:] = ETc[n]\n",
    "\n",
    "    prep_soil(soil_ag, etc_arr)\n",
    "    dtw_arr = dtw_all[:,ns]\n",
    "    irr_lvl = np.zeros(2*n_irr); # Initial irrigation values for optimization\n",
    "    irr_lvl[:] = (2/12)*0.3048 # irrigate with 2 inches (convert to meters)\n",
    "    \n",
    "    p_gw = p_e*phi*dtw_arr[irr_days]\n",
    "    # where the gw costs more then set gw as 0 and vice versa\n",
    "    irr_lvl[:n_irr][p_gw > p_sw] = 0\n",
    "    irr_lvl[n_irr:][p_gw < p_sw] = 0\n",
    "    \n",
    "    pi = swb(irr_lvl)\n",
    "    print('Profit %.2f ($/acre)' %(-pi))"
   ]
  },
  {
   "cell_type": "code",
   "execution_count": 624,
   "id": "cd23054e",
   "metadata": {},
   "outputs": [
    {
     "data": {
      "text/plain": [
       "array([0.0508, 0.    , 0.    , 0.    , 0.    , 0.    , 0.    , 0.    ,\n",
       "       0.    , 0.0508, 0.0508, 0.0508, 0.0508, 0.0508, 0.0508, 0.0508])"
      ]
     },
     "execution_count": 624,
     "metadata": {},
     "output_type": "execute_result"
    }
   ],
   "source": [
    "irr_lvl\n"
   ]
  },
  {
   "cell_type": "code",
   "execution_count": 582,
   "id": "bc896a93",
   "metadata": {},
   "outputs": [
    {
     "data": {
      "text/plain": [
       "4.8679253562342994"
      ]
     },
     "execution_count": 582,
     "metadata": {},
     "output_type": "execute_result"
    }
   ],
   "source": [
    "def calc_yield(ETc, K_S, y_max, yield_ind,  nfield, nper):\n",
    "    ## Calculate daily crop outcomes \n",
    "    ETc_adj = np.transpose(K_S)*ETc # Calculate daily crop ET with soil water stress, pairwise functoin check?\n",
    "    ## Calculate economic outcomes \n",
    "    arr1 = np.ones((nfield,nper))\n",
    "    # average the yield scaling across the season\n",
    "    # yield max changes during the season so update this to be fluid for alfalfa (mean for eaching cutting then sum means)\n",
    "    Y_A_arr = np.zeros(len(y_max))\n",
    "    for n in np.arange(0,len(yield_ind)-1):\n",
    "        # subset the yield scaling by the growing period then multiply by the appropriate yield max for that period\n",
    "        Y_A_arr[n] = y_max[n]*np.mean((arr1- (arr1 - (ETc_adj/ETc))*K_Y)[:, yield_ind[n]:yield_ind[n+1]])\n",
    "    # the total yield is the sum of individual yields\n",
    "    Y_A = Y_A_arr.sum()\n",
    "    return(Y_A)\n",
    "    \n",
    "calc_yield(ETc, K_S, y_max, yield_ind,  nfield, nper)"
   ]
  },
  {
   "cell_type": "code",
   "execution_count": 583,
   "id": "50e3e661",
   "metadata": {},
   "outputs": [
    {
     "data": {
      "text/plain": [
       "-433.4126972849864"
      ]
     },
     "execution_count": 583,
     "metadata": {},
     "output_type": "execute_result"
    }
   ],
   "source": [
    "def calc_profit(Y_A, p_c, p_e, phi, dtw_arr, irr_gw, p_sw, irr_sw):\n",
    "    in_2_m = (1/12)*0.3048 # convert from inches to meters\n",
    "    c_gwtot = p_e*phi*(np.multiply(dtw_arr, irr_gw[:,0])/in_2_m) # Calcualte total groundwater pumping costs for the season ($/acre)\n",
    "    c_swtot = np.multiply(p_sw, irr_sw[:,0])/in_2_m # Calcualte total surface water costs for the season ($/acre)\n",
    "    cost = c_gwtot+c_swtot\n",
    "    # calculate profit (daily values must be summed for the seasonal value)\n",
    "    pi = -((p_c*Y_A - np.sum(cost))- p_o) # Calculate profit ($/acre)\n",
    "    # forced internal boundary to prevent negatives\n",
    "    if any(irr_lvl <0):\n",
    "        # set a scalable penalty, assuming p_o would be a sizable penalty\n",
    "        pi = irr_lvl[irr_lvl<0].sum()*-p_o*10\n",
    "    return(pi)\n",
    "calc_profit(Y_A, p_c, p_e, phi, dtw_arr, irr_gw, p_sw, irr_sw)  "
   ]
  },
  {
   "cell_type": "code",
   "execution_count": 584,
   "id": "2443eaad",
   "metadata": {},
   "outputs": [
    {
     "name": "stdout",
     "output_type": "stream",
     "text": [
      "GW Cost 32.64 SW Cost 32.00\n"
     ]
    },
    {
     "data": {
      "text/plain": [
       "(1095.2832051527173, 64.64377777777777, 78.86)"
      ]
     },
     "execution_count": 584,
     "metadata": {},
     "output_type": "execute_result"
    }
   ],
   "source": [
    "## error checking\n",
    "c_gwtot = p_e*phi*(np.multiply(dtw_arr, irr_gw[:,0])/in_2_m) # Calcualte total groundwater pumping costs for the season ($/acre)\n",
    "c_swtot = np.multiply(p_sw, irr_sw[:,0])/in_2_m # Calcualte total surface water costs for the season ($/acre)\n",
    "cost = c_gwtot+c_swtot\n",
    "print('GW Cost %.2f' %c_gwtot.sum(),'SW Cost %.2f' %c_swtot.sum())\n",
    "\n",
    "# # the yield scale is negative sometimes\n",
    "# ETc_adj = np.transpose(K_S)*ETc\n",
    "# arr1 = np.ones((nfield,nper))\n",
    "# # average the yield scaling across the season\n",
    "# Y_A_arr = np.zeros(len(y_max))\n",
    "# for n in np.arange(0,len(yield_ind)-1):\n",
    "#     # subset the yield scaling by the growing period then multiply by the appropriate yield max for that period\n",
    "#     Y_A_arr[n] = y_max[n]*np.mean((arr1- (arr1 - (ETc_adj/ETc))*K_Y)[:, yield_ind[n]:yield_ind[n+1]])\n",
    "# # the total yield is the sum of individual yields\n",
    "# Y_A = Y_A_arr.sum()\n",
    "Y_A = calc_yield(ETc, K_S, y_max, yield_ind,  nfield, nper)\n",
    "p_c*Y_A - p_o - np.sum(cost)\n",
    "p_c*Y_A, np.sum(cost), p_o\n"
   ]
  },
  {
   "cell_type": "markdown",
   "id": "427296c4",
   "metadata": {},
   "source": [
    "profit for alfalfa (1,000) seems a little excessive but operating costs are low and if 7 cuttings are done then it's a lot\n",
    "vineyard profit is even greater (2,000)\n",
    "corn only nets around 200 \n",
    "\n",
    "Misc. grain and hay didn't find a positive solution (started -397 went -307) -> issue is the Kc values used were for summer crop not winter so there was no ETc to make yield"
   ]
  },
  {
   "cell_type": "code",
   "execution_count": 35,
   "id": "78b7a8d1",
   "metadata": {},
   "outputs": [],
   "source": [
    "# test = np.arange(0, 4, 0.5)\n",
    "# out = np.zeros(len(test))\n",
    "# for n,i in enumerate(test):\n",
    "#     irr_lvl[:] = i\n",
    "#     out[n] = swb(irr_lvl)"
   ]
  },
  {
   "cell_type": "code",
   "execution_count": 199,
   "id": "dc5e9c7a",
   "metadata": {},
   "outputs": [],
   "source": [
    "from scipy.optimize import Bounds, LinearConstraint\n",
    "from scipy.optimize import minimize"
   ]
  },
  {
   "cell_type": "code",
   "execution_count": 626,
   "id": "97a0b0de",
   "metadata": {},
   "outputs": [
    {
     "data": {
      "text/plain": [
       "array([[1., 1., 1., 1., 1., 1., 1., 1., 0., 0., 0., 0., 0., 0., 0., 0.],\n",
       "       [0., 0., 0., 0., 0., 0., 0., 0., 1., 1., 1., 1., 1., 1., 1., 1.]])"
      ]
     },
     "execution_count": 626,
     "metadata": {},
     "output_type": "execute_result"
    }
   ],
   "source": [
    "ACON"
   ]
  },
  {
   "cell_type": "code",
   "execution_count": 585,
   "id": "e6238919",
   "metadata": {},
   "outputs": [],
   "source": [
    "# Total surface water and groundwater available during the season (in)\n",
    "# irr_tot = np.array([10, 10]) \n",
    "# to represent unconstrained conditions set boundaries at 100, 100\n",
    "irr_tot = np.array([100, 100]) \n",
    "irr_tot = (irr_tot/12)*0.3048 # convert to meters\n",
    "# Coefficients for inequality constraints (first n_irr columns are for surface water; second n_irr columns are for groundwater)\n",
    "ACON = np.zeros((2,2*n_irr))\n",
    "ACON[0,:n_irr] = np.ones(n_irr)\n",
    "ACON[1,(n_irr):(2*n_irr)] = np.ones(n_irr)\n",
    "# AEQCON = [] #  No equality contraints\n",
    "# BEQCON = [] # No equality contraints\n",
    "# I_WMAXLBCON = np.zeros((1,2*n_irr)) # Irrigation cannot be negative\n",
    "\n",
    "# COBYLA can't use bounds so need extra inequality constraints\n",
    "# pos_con = np.zeros((len(irr_lvl), len(irr_lvl)))\n",
    "# np.fill_diagonal(pos_con,1)\n",
    "# ACON = np.append(ACON, pos_con, axis=0)\n",
    "# irr_tot = np.append(irr_tot, np.full(len(pos_con), 10))\n",
    "\n",
    "con_min = np.zeros(len(ACON)) \n",
    "\n",
    "\n",
    "bounds = Bounds(lb = 0)\n",
    "linear_constraint = LinearConstraint(ACON, list(con_min), list(irr_tot))"
   ]
  },
  {
   "cell_type": "markdown",
   "id": "3cac71be",
   "metadata": {},
   "source": [
    "Notes on solvers from:\n",
    "- fmincon from MATLAB was suggested anecodotally as faster than scipy.minimize\n",
    "- someone suggested CVXPY as an alternate which is what Jon Herman had us use for non-linear convex problems"
   ]
  },
  {
   "cell_type": "code",
   "execution_count": 201,
   "id": "5200acab",
   "metadata": {},
   "outputs": [],
   "source": [
    "# # for SLSQP\n",
    "# ineq_cons = {'type':'ineq',\n",
    "#             'fun': lambda x: np.array([irr_tot[0] - np.sum(x[:n_irr]),\n",
    "#                                 irr_tot[1] - np.sum(x[n_irr:])]),\n",
    "#              'jac': lambda x: np.array([[10],\n",
    "#                                       [10]])\n",
    "#             }"
   ]
  },
  {
   "cell_type": "code",
   "execution_count": 202,
   "id": "882b9db3",
   "metadata": {},
   "outputs": [],
   "source": [
    "# the minimization with 'trust-constr' and no constraints doesn't solve and has increasing WB error\n",
    "# out = minimize(swb, irr_lvl, method='SLSQP',\n",
    "# #         constraints = [ineq_cons],\n",
    "#         bounds=bounds,\n",
    "# #          options={'verbose':1}\n",
    "#         )"
   ]
  },
  {
   "cell_type": "code",
   "execution_count": 586,
   "id": "3b261daa",
   "metadata": {},
   "outputs": [
    {
     "name": "stderr",
     "output_type": "stream",
     "text": [
      "C:\\Users\\andrewc\\Anaconda3\\envs\\geo_env\\Lib\\site-packages\\scipy\\optimize\\_hessian_update_strategy.py:182: UserWarning: delta_grad == 0.0. Check if the approximated function is linear. If the function is linear better results can be obtained by defining the Hessian as zero instead of using quasi-Newton approximations.\n",
      "  warn('delta_grad == 0.0. Check if the approximated '\n"
     ]
    }
   ],
   "source": [
    "# 'trust-constr', \n",
    "#'SLSQP' and 'COBYLA' -> don't seem to work easily\n",
    "out = minimize(swb, irr_lvl, method='trust-constr',\n",
    "        constraints = [linear_constraint],\n",
    "        bounds=bounds,\n",
    "        tol = 0.0001\n",
    "#          options={'verbose':1}\n",
    "        )"
   ]
  },
  {
   "cell_type": "markdown",
   "id": "d8032da1",
   "metadata": {},
   "source": [
    "Nelder-Mead isn't faster, fails to solve with 300 maxiter (can be bounded)  \n",
    "CG - no bounds available, tried to set internal boundary but model accepted the penalty or after adjusting internal constraint it failed to solve  \n",
    "-> forcing an internal constraint only serves to create more non-linearity rather than setting the solve space  \n",
    "\n",
    "SLSQP was able to solve the problem with an internal 0-bound but it found a solution with primarily GW and a little bit of SW which doesn't make sense since GW is cheaper. This was not improved with finer tolerance (1E-2 times more).  \n",
    "COBYLA was able to evaluate successfully after increasing maxiter to 600. Same issue as SLSQP where a mix of GW and SW are used despite no constraints.  "
   ]
  },
  {
   "cell_type": "code",
   "execution_count": 207,
   "id": "1624a2e2",
   "metadata": {},
   "outputs": [],
   "source": [
    "# out = minimize(swb, irr_lvl, method='COBYLA',\n",
    "# #         constraints = [linear_constraint],\n",
    "# #         bounds=bounds,\n",
    "#          options={'disp':1, 'maxiter':600},\n",
    "#                tol=0.0001\n",
    "#         )"
   ]
  },
  {
   "cell_type": "markdown",
   "id": "2a96607e",
   "metadata": {},
   "source": [
    "The tolerance should be to about 1 mm (1 in = 25.4 mm) which requires tol = 0.001\n",
    "Testing different tolerances:\n",
    "- 0.1 evaluated to -250.9826\n",
    "- 0.01 to -251.8\n",
    "- 0.001 to -253.1\n",
    "- 0.0001 to -250.26\n",
    "- 0.00001 to -253.50609\n",
    "- 0.000001 to -253.50609  \n",
    "\n",
    "So far 0.1, 0.01 equally used up the water to the 3rd decimal. Also the testing was done using initial values near the final solution. "
   ]
  },
  {
   "cell_type": "code",
   "execution_count": 587,
   "id": "fdec4fe9",
   "metadata": {},
   "outputs": [
    {
     "data": {
      "text/plain": [
       "(0.4661046076523294, 0.4691413959741606, -1239.3469221013672)"
      ]
     },
     "execution_count": 587,
     "metadata": {},
     "output_type": "execute_result"
    }
   ],
   "source": [
    "out.x[:n_irr].sum(), out.x[n_irr:].sum(), out.fun"
   ]
  },
  {
   "cell_type": "code",
   "execution_count": 588,
   "id": "b6ff71b7",
   "metadata": {},
   "outputs": [
    {
     "data": {
      "text/plain": [
       "1.7348859270413717"
      ]
     },
     "execution_count": 588,
     "metadata": {},
     "output_type": "execute_result"
    }
   ],
   "source": [
    "out.execution_time/60"
   ]
  },
  {
   "cell_type": "code",
   "execution_count": 589,
   "id": "ac29fbfb",
   "metadata": {},
   "outputs": [
    {
     "name": "stdout",
     "output_type": "stream",
     "text": [
      "Irr (in) GW 18.35 SW 18.47\n",
      "Cost ($/acre) GW 32.64 SW 32.00\n"
     ]
    }
   ],
   "source": [
    "gw_irr_in= (out.x[:n_irr]/0.3048).sum()*12\n",
    "sw_irr_in = (out.x[n_irr:]/0.3048).sum()*12\n",
    "print('Irr (in) GW %.2f'%gw_irr_in, 'SW %.2f'%sw_irr_in)\n",
    "print('Cost ($/acre) GW %.2f' %(c_gwtot.sum()),'SW %.2f'%(c_swtot.sum()))"
   ]
  },
  {
   "cell_type": "code",
   "execution_count": 590,
   "id": "19fe9480",
   "metadata": {},
   "outputs": [
    {
     "data": {
      "text/plain": [
       "Text(0.5, 0, 'Irrigation Event')"
      ]
     },
     "execution_count": 590,
     "metadata": {},
     "output_type": "execute_result"
    },
    {
     "data": {
      "image/png": "[encoded data removed]",
      "text/plain": [
       "<Figure size 640x480 with 1 Axes>"
      ]
     },
     "metadata": {},
     "output_type": "display_data"
    }
   ],
   "source": [
    "plt.bar(np.arange(0,n_irr)-.25/2,(out.x[:n_irr]/0.3048)*12, label='SW', width=0.25)\n",
    "plt.bar(np.arange(0,n_irr)+.25/2,(out.x[n_irr:]/0.3048)*12, label='GW', width=0.25)\n",
    "plt.legend()\n",
    "plt.ylabel('Irrigation (in)')\n",
    "plt.xlabel('Irrigation Event')\n",
    "# out"
   ]
  },
  {
   "cell_type": "code",
   "execution_count": 54,
   "id": "f4768d63",
   "metadata": {},
   "outputs": [],
   "source": [
    "# cvxpy won't work with the same input, it seems that the function would need to be rewritten with cvxpy\n",
    "# functions instead of numpy\n",
    "\n",
    "# n = len(irr_lvl)\n",
    "# x = cp.Variable(n)\n",
    "# objective = cp.Minimize(swb(x))\n",
    "# # constraints = [0 <= x]\n",
    "\n",
    "# prob = cp.Problem(objective, constraints)\n",
    "\n",
    "# print(\"Optimal value\", prob.solve())\n",
    "# print(\"Optimal var\")\n",
    "# print(x.value) # A numpy ndarray."
   ]
  },
  {
   "cell_type": "code",
   "execution_count": null,
   "id": "37e5d560",
   "metadata": {},
   "outputs": [],
   "source": [
    "# with constraints the model took 117 iterations\n",
    "# the x values all seem to be miniscule 1E-6 to 1E-7\n",
    "# function was -357647159\n",
    "# took 470 seconds\n",
    "# 1 inch = 0.0254 meters"
   ]
  },
  {
   "cell_type": "code",
   "execution_count": null,
   "id": "229b5f7c",
   "metadata": {},
   "outputs": [],
   "source": [
    "# 0.4 min @ 320 fields is 128 min just for corn which is excessive\n",
    "\n",
    "# code works in the loop ( no negatives like above)\n",
    "\n",
    "# for some reason the most recent run had run times in the minutes range for each optimization\n",
    "# so the total runtime was 14 hours\n",
    "# really need to figure out what the problem is with solving time"
   ]
  },
  {
   "cell_type": "code",
   "execution_count": 46,
   "id": "0b1d129c",
   "metadata": {},
   "outputs": [],
   "source": [
    "# dtw_all.shape"
   ]
  },
  {
   "cell_type": "code",
   "execution_count": 216,
   "id": "41595dbf",
   "metadata": {},
   "outputs": [
    {
     "name": "stdout",
     "output_type": "stream",
     "text": [
      "300.86 $ ,in 0.47 min\n",
      "300.54 $ ,in 0.77 min\n",
      "300.78 $ ,in 1.31 min\n",
      "296.83 $ ,in 0.07 min\n",
      "300.78 $ ,in 0.05 min\n",
      "300.78 $ ,in 0.05 min\n",
      "300.57 $ ,in 0.80 min\n",
      "298.51 $ ,in 0.08 min\n",
      "299.92 $ ,in 1.00 min\n",
      "286.53 $ ,in 0.21 min\n",
      "299.63 $ ,in 0.83 min\n",
      "300.79 $ ,in 0.90 min\n",
      "296.03 $ ,in 0.44 min\n",
      "298.49 $ ,in 0.39 min\n",
      "294.92 $ ,in 0.07 min\n",
      "294.92 $ ,in 0.05 min\n",
      "31.91 $ ,in 0.36 min\n",
      "-45.60 $ ,in 0.14 min\n",
      "-147.25 $ ,in 0.18 min\n",
      "59.18 $ ,in 0.08 min\n",
      "297.56 $ ,in 0.99 min\n",
      "249.95 $ ,in 0.65 min\n",
      "300.91 $ ,in 1.89 min\n",
      "279.49 $ ,in 0.49 min\n",
      "300.68 $ ,in 0.71 min\n",
      "297.69 $ ,in 0.08 min\n",
      "297.95 $ ,in 0.07 min\n",
      "297.95 $ ,in 0.08 min\n",
      "300.02 $ ,in 0.07 min\n",
      "300.02 $ ,in 0.08 min\n",
      "297.95 $ ,in 0.08 min\n",
      "297.95 $ ,in 0.07 min\n",
      "300.74 $ ,in 0.77 min\n",
      "-80.21 $ ,in 0.19 min\n",
      "298.72 $ ,in 1.11 min\n",
      "295.88 $ ,in 0.43 min\n",
      "301.01 $ ,in 0.82 min\n",
      "-1.08 $ ,in 0.19 min\n",
      "299.11 $ ,in 0.66 min\n",
      "295.24 $ ,in 0.09 min\n",
      "285.40 $ ,in 0.12 min\n",
      "298.99 $ ,in 0.69 min\n",
      "299.14 $ ,in 0.96 min\n",
      "300.68 $ ,in 0.60 min\n",
      "292.80 $ ,in 0.66 min\n",
      "293.03 $ ,in 0.73 min\n",
      "280.42 $ ,in 0.39 min\n",
      "298.26 $ ,in 0.53 min\n",
      "300.15 $ ,in 0.42 min\n",
      "296.40 $ ,in 0.34 min\n",
      "294.73 $ ,in 0.08 min\n",
      "280.47 $ ,in 0.13 min\n",
      "300.83 $ ,in 1.06 min\n",
      "300.98 $ ,in 0.39 min\n",
      "216.79 $ ,in 0.25 min\n",
      "299.49 $ ,in 0.45 min\n",
      "300.89 $ ,in 1.08 min\n",
      "300.92 $ ,in 5.36 min\n",
      "297.72 $ ,in 0.06 min\n",
      "292.09 $ ,in 0.06 min\n",
      "299.39 $ ,in 0.74 min\n",
      "286.84 $ ,in 0.09 min\n",
      "285.82 $ ,in 0.04 min\n",
      "213.88 $ ,in 0.08 min\n",
      "292.54 $ ,in 0.42 min\n",
      "299.21 $ ,in 0.55 min\n",
      "228.97 $ ,in 0.08 min\n",
      "300.90 $ ,in 0.74 min\n",
      "301.00 $ ,in 0.37 min\n",
      "292.39 $ ,in 0.06 min\n",
      "292.39 $ ,in 0.06 min\n",
      "280.31 $ ,in 0.07 min\n",
      "300.75 $ ,in 0.19 min\n",
      "296.34 $ ,in 0.24 min\n",
      "299.61 $ ,in 0.48 min\n",
      "301.01 $ ,in 0.73 min\n",
      "300.92 $ ,in 0.56 min\n",
      "-0.74 $ ,in 0.15 min\n",
      "298.97 $ ,in 0.35 min\n",
      "292.76 $ ,in 0.23 min\n",
      "299.53 $ ,in 0.46 min\n",
      "297.73 $ ,in 0.32 min\n",
      "300.99 $ ,in 0.64 min\n",
      "300.78 $ ,in 0.80 min\n",
      "300.90 $ ,in 0.92 min\n",
      "300.77 $ ,in 0.25 min\n",
      "300.77 $ ,in 0.83 min\n",
      "299.57 $ ,in 0.07 min\n",
      "279.41 $ ,in 0.21 min\n",
      "298.05 $ ,in 0.59 min\n",
      "299.13 $ ,in 0.73 min\n",
      "272.78 $ ,in 0.08 min\n",
      "300.67 $ ,in 0.75 min\n",
      "300.76 $ ,in 0.94 min\n",
      "297.84 $ ,in 0.43 min\n",
      "300.27 $ ,in 0.59 min\n",
      "300.27 $ ,in 0.04 min\n",
      "299.76 $ ,in 0.05 min\n",
      "300.27 $ ,in 0.04 min\n",
      "300.27 $ ,in 0.04 min\n",
      "300.98 $ ,in 0.50 min\n",
      "-3.24 $ ,in 0.12 min\n",
      "299.91 $ ,in 0.44 min\n",
      "291.14 $ ,in 0.06 min\n",
      "290.76 $ ,in 0.51 min\n",
      "293.18 $ ,in 0.60 min\n",
      "-26.83 $ ,in 0.22 min\n",
      "300.60 $ ,in 0.64 min\n",
      "298.55 $ ,in 0.05 min\n",
      "300.82 $ ,in 0.85 min\n",
      "300.99 $ ,in 0.77 min\n",
      "-0.13 $ ,in 0.15 min\n",
      "279.49 $ ,in 0.41 min\n",
      "300.69 $ ,in 1.14 min\n",
      "300.80 $ ,in 0.37 min\n",
      "300.14 $ ,in 0.34 min\n",
      "300.28 $ ,in 0.76 min\n",
      "296.46 $ ,in 0.21 min\n",
      "298.37 $ ,in 0.48 min\n",
      "300.71 $ ,in 0.89 min\n",
      "300.71 $ ,in 0.04 min\n",
      "301.08 $ ,in 0.70 min\n",
      "288.75 $ ,in 0.06 min\n",
      "298.25 $ ,in 0.05 min\n",
      "298.25 $ ,in 0.05 min\n",
      "301.01 $ ,in 0.51 min\n",
      "-2.40 $ ,in 0.15 min\n",
      "300.22 $ ,in 0.72 min\n",
      "300.71 $ ,in 0.60 min\n",
      "300.71 $ ,in 0.04 min\n",
      "300.71 $ ,in 0.04 min\n",
      "300.71 $ ,in 0.04 min\n",
      "300.71 $ ,in 0.04 min\n",
      "300.71 $ ,in 0.04 min\n",
      "299.26 $ ,in 0.72 min\n",
      "298.71 $ ,in 0.95 min\n",
      "239.50 $ ,in 0.10 min\n",
      "300.75 $ ,in 0.58 min\n",
      "297.90 $ ,in 0.37 min\n",
      "299.14 $ ,in 0.74 min\n",
      "299.13 $ ,in 0.33 min\n",
      "299.24 $ ,in 0.52 min\n",
      "298.29 $ ,in 0.26 min\n",
      "297.16 $ ,in 0.06 min\n",
      "295.50 $ ,in 0.05 min\n",
      "290.64 $ ,in 0.06 min\n",
      "261.79 $ ,in 0.33 min\n",
      "298.36 $ ,in 0.96 min\n",
      "300.64 $ ,in 0.62 min\n",
      "235.21 $ ,in 0.41 min\n",
      "265.84 $ ,in 0.08 min\n",
      "300.85 $ ,in 0.84 min\n",
      "294.01 $ ,in 0.06 min\n",
      "295.65 $ ,in 0.16 min\n",
      "288.17 $ ,in 0.24 min\n",
      "292.19 $ ,in 0.45 min\n",
      "299.17 $ ,in 0.73 min\n",
      "276.71 $ ,in 0.06 min\n",
      "-104.56 $ ,in 0.15 min\n",
      "300.69 $ ,in 0.95 min\n",
      "292.89 $ ,in 0.06 min\n",
      "293.02 $ ,in 0.55 min\n",
      "-10.71 $ ,in 0.18 min\n",
      "299.15 $ ,in 1.08 min\n",
      "300.62 $ ,in 0.84 min\n",
      "301.02 $ ,in 0.62 min\n",
      "300.74 $ ,in 0.70 min\n",
      "-1.60 $ ,in 0.14 min\n",
      "300.57 $ ,in 0.45 min\n",
      "298.00 $ ,in 0.42 min\n",
      "299.30 $ ,in 0.54 min\n",
      "300.86 $ ,in 0.75 min\n",
      "300.91 $ ,in 0.22 min\n",
      "297.28 $ ,in 0.05 min\n",
      "297.28 $ ,in 0.05 min\n",
      "300.99 $ ,in 0.33 min\n",
      "300.99 $ ,in 1.37 min\n",
      "300.60 $ ,in 0.79 min\n",
      "295.56 $ ,in 0.20 min\n",
      "300.96 $ ,in 0.72 min\n",
      "300.59 $ ,in 0.80 min\n",
      "299.16 $ ,in 0.40 min\n",
      "291.62 $ ,in 0.24 min\n",
      "300.45 $ ,in 0.86 min\n",
      "283.55 $ ,in 0.16 min\n",
      "300.92 $ ,in 0.79 min\n",
      "253.66 $ ,in 0.58 min\n",
      "-13.36 $ ,in 0.03 min\n",
      "292.01 $ ,in 0.41 min\n",
      "287.41 $ ,in 0.06 min\n",
      "293.21 $ ,in 1.01 min\n",
      "292.09 $ ,in 0.58 min\n",
      "297.48 $ ,in 0.04 min\n",
      "297.48 $ ,in 0.04 min\n",
      "299.29 $ ,in 0.04 min\n",
      "289.89 $ ,in 0.12 min\n",
      "281.95 $ ,in 0.07 min\n",
      "73.61 $ ,in 0.22 min\n",
      "300.94 $ ,in 0.89 min\n",
      "297.91 $ ,in 0.06 min\n",
      "297.91 $ ,in 0.06 min\n",
      "300.77 $ ,in 0.48 min\n",
      "298.91 $ ,in 0.30 min\n",
      "300.88 $ ,in 0.58 min\n",
      "268.33 $ ,in 0.10 min\n",
      "268.33 $ ,in 0.04 min\n",
      "279.27 $ ,in 0.46 min\n",
      "300.86 $ ,in 0.57 min\n",
      "298.85 $ ,in 0.30 min\n",
      "-58.19 $ ,in 0.17 min\n",
      "301.07 $ ,in 1.09 min\n",
      "280.82 $ ,in 0.08 min\n",
      "300.02 $ ,in 0.74 min\n",
      "299.94 $ ,in 0.67 min\n",
      "300.79 $ ,in 0.74 min\n",
      "300.71 $ ,in 0.56 min\n",
      "284.80 $ ,in 0.23 min\n",
      "300.83 $ ,in 0.73 min\n",
      "293.05 $ ,in 0.06 min\n",
      "300.96 $ ,in 0.82 min\n",
      "299.13 $ ,in 0.43 min\n",
      "-63.17 $ ,in 0.12 min\n",
      "297.89 $ ,in 0.66 min\n",
      "288.04 $ ,in 0.10 min\n",
      "300.84 $ ,in 0.80 min\n",
      "300.96 $ ,in 0.21 min\n",
      "301.03 $ ,in 0.33 min\n",
      "279.79 $ ,in 0.12 min\n",
      "299.63 $ ,in 0.57 min\n",
      "300.69 $ ,in 0.57 min\n",
      "293.22 $ ,in 0.62 min\n",
      "292.87 $ ,in 0.84 min\n",
      "301.05 $ ,in 0.37 min\n",
      "-0.69 $ ,in 0.14 min\n",
      "298.90 $ ,in 0.44 min\n",
      "300.80 $ ,in 0.66 min\n",
      "300.92 $ ,in 0.19 min\n",
      "300.67 $ ,in 0.30 min\n",
      "300.63 $ ,in 0.69 min\n",
      "299.74 $ ,in 0.42 min\n",
      "292.11 $ ,in 0.16 min\n",
      "297.75 $ ,in 0.75 min\n",
      "299.72 $ ,in 0.39 min\n",
      "275.48 $ ,in 0.09 min\n",
      "293.20 $ ,in 0.57 min\n",
      "300.80 $ ,in 0.63 min\n",
      "283.76 $ ,in 0.06 min\n",
      "290.56 $ ,in 0.08 min\n",
      "278.98 $ ,in 0.08 min\n",
      "299.66 $ ,in 0.49 min\n",
      "299.86 $ ,in 0.70 min\n",
      "299.84 $ ,in 0.45 min\n",
      "278.77 $ ,in 0.11 min\n",
      "300.29 $ ,in 0.29 min\n",
      "300.46 $ ,in 0.23 min\n",
      "300.71 $ ,in 0.49 min\n",
      "287.33 $ ,in 0.06 min\n",
      "287.33 $ ,in 0.06 min\n",
      "300.98 $ ,in 0.40 min\n",
      "295.50 $ ,in 0.06 min\n",
      "288.70 $ ,in 0.09 min\n",
      "300.63 $ ,in 0.66 min\n",
      "292.65 $ ,in 0.17 min\n",
      "297.54 $ ,in 0.61 min\n",
      "287.75 $ ,in 0.07 min\n",
      "299.66 $ ,in 0.55 min\n",
      "298.11 $ ,in 0.05 min\n",
      "300.62 $ ,in 0.56 min\n",
      "299.12 $ ,in 0.24 min\n",
      "293.73 $ ,in 0.18 min\n",
      "300.71 $ ,in 0.69 min\n",
      "-10.71 $ ,in 0.08 min\n",
      "70.74 $ ,in 0.22 min\n",
      "68.98 $ ,in 0.25 min\n",
      "300.98 $ ,in 1.15 min\n",
      "-1.03 $ ,in 0.13 min\n",
      "278.69 $ ,in 0.66 min\n",
      "-42.14 $ ,in 0.10 min\n",
      "300.67 $ ,in 0.73 min\n",
      "300.87 $ ,in 0.50 min\n",
      "282.48 $ ,in 0.06 min\n",
      "263.33 $ ,in 0.50 min\n",
      "293.25 $ ,in 0.12 min\n",
      "288.57 $ ,in 0.63 min\n",
      "288.69 $ ,in 0.77 min\n",
      "286.82 $ ,in 0.14 min\n",
      "300.45 $ ,in 0.78 min\n",
      "300.66 $ ,in 0.37 min\n",
      "300.84 $ ,in 0.85 min\n",
      "300.51 $ ,in 0.52 min\n",
      "300.72 $ ,in 0.52 min\n",
      "271.51 $ ,in 0.10 min\n",
      "300.99 $ ,in 0.45 min\n",
      "279.55 $ ,in 0.85 min\n",
      "-132.87 $ ,in 0.14 min\n",
      "298.19 $ ,in 0.73 min\n",
      "298.55 $ ,in 0.87 min\n",
      "300.65 $ ,in 0.73 min\n",
      "300.87 $ ,in 0.30 min\n",
      "254.37 $ ,in 0.13 min\n",
      "292.90 $ ,in 0.49 min\n",
      "292.13 $ ,in 0.24 min\n",
      "287.37 $ ,in 0.06 min\n",
      "300.90 $ ,in 0.67 min\n",
      "295.44 $ ,in 0.06 min\n",
      "300.70 $ ,in 0.79 min\n",
      "300.67 $ ,in 0.37 min\n",
      "300.89 $ ,in 0.72 min\n",
      "273.66 $ ,in 0.10 min\n",
      "300.58 $ ,in 0.73 min\n",
      "300.63 $ ,in 0.73 min\n",
      "300.64 $ ,in 0.71 min\n",
      "299.01 $ ,in 0.30 min\n",
      "300.68 $ ,in 0.76 min\n",
      "278.86 $ ,in 0.17 min\n",
      "298.81 $ ,in 0.52 min\n",
      "300.76 $ ,in 0.72 min\n",
      "295.46 $ ,in 0.06 min\n",
      "290.09 $ ,in 0.06 min\n",
      "-1.27 $ ,in 0.14 min\n",
      "301.08 $ ,in 0.53 min\n",
      "255.64 $ ,in 0.19 min\n",
      "116.50 $ ,in 0.04 min\n",
      "116.50 $ ,in 0.04 min\n",
      "171.20 $ ,in 0.04 min\n",
      "230.48 $ ,in 0.04 min\n",
      "210.71 $ ,in 0.04 min\n",
      "210.71 $ ,in 0.04 min\n",
      "252.94 $ ,in 0.04 min\n",
      "252.94 $ ,in 0.04 min\n",
      "233.93 $ ,in 0.05 min\n",
      "246.45 $ ,in 0.06 min\n",
      "246.15 $ ,in 0.04 min\n",
      "225.70 $ ,in 0.05 min\n",
      "245.38 $ ,in 0.04 min\n",
      "144.03 $ ,in 0.04 min\n",
      "225.70 $ ,in 0.04 min\n",
      "225.70 $ ,in 0.04 min\n",
      "245.38 $ ,in 0.04 min\n",
      "245.38 $ ,in 0.04 min\n",
      "245.38 $ ,in 0.04 min\n",
      "245.38 $ ,in 0.04 min\n",
      "245.38 $ ,in 0.04 min\n",
      "245.38 $ ,in 0.04 min\n",
      "245.38 $ ,in 0.04 min\n",
      "245.38 $ ,in 0.04 min\n",
      "225.70 $ ,in 0.04 min\n",
      "225.70 $ ,in 0.04 min\n",
      "245.38 $ ,in 0.04 min\n",
      "225.70 $ ,in 0.04 min\n"
     ]
    }
   ],
   "source": [
    "# save irrigation, function, time\n",
    "irr_all =np.empty((len(soil_crop),len(irr_lvl)))\n",
    "p_all = np.empty(len(soil_crop))\n",
    "t_all = np.empty(len(soil_crop))\n",
    "\n",
    "for ns in np.arange(0,len(soil_crop)):\n",
    "    soil_ag = soil_crop.iloc[[ns]] #keep as dataframe for consistency \n",
    "    nfield = soil_ag.shape[0]\n",
    "\n",
    "    dtw_arr = dtw_all[:,ns]\n",
    "\n",
    "    etc_arr = np.zeros((nper,nfield))\n",
    "    for n in np.arange(nper):\n",
    "        etc_arr[n,:] = ETc[n]\n",
    "\n",
    "    prep_soil(soil_ag, etc_arr)\n",
    "\n",
    "    irr_lvl = np.zeros(2*n_irr); # Initial irrigation values for optimization\n",
    "    irr_lvl[:] = (2/12)*0.3048 # irrigate with 2 inches (convert to meters)\n",
    "    if ns > 1:\n",
    "        irr_lvl[:] = irr_all[ns-1]\n",
    "    # the minimization with 'trust-constr' and no constraints doesn't solve and has increasing WB error\n",
    "    out = minimize(swb, irr_lvl, method='trust-constr',\n",
    "            constraints = [linear_constraint],\n",
    "            bounds=bounds,\n",
    "    #          options={'verbose':1}\n",
    "                   tol = 0.01\n",
    "            )\n",
    "    irr_all[ns] = out.x\n",
    "    p_all[ns] = out.fun\n",
    "    t_all[ns] = out.execution_time\n",
    "    print('%.2f' %(-out.fun),'$ ,in %.2f' %(out.execution_time/60),'min')"
   ]
  },
  {
   "cell_type": "code",
   "execution_count": 217,
   "id": "363be3dd",
   "metadata": {},
   "outputs": [
    {
     "data": {
      "text/plain": [
       "2.3164472306436963"
      ]
     },
     "execution_count": 217,
     "metadata": {},
     "output_type": "execute_result"
    }
   ],
   "source": [
    "t_all.sum()/60/60"
   ]
  },
  {
   "cell_type": "code",
   "execution_count": 218,
   "id": "6d45fc31",
   "metadata": {},
   "outputs": [
    {
     "data": {
      "image/png": "[encoded data removed]",
      "text/plain": [
       "<Figure size 640x480 with 1 Axes>"
      ]
     },
     "metadata": {},
     "output_type": "display_data"
    }
   ],
   "source": [
    "lines =plt.plot(np.transpose(irr_all))\n",
    " "
   ]
  },
  {
   "cell_type": "code",
   "execution_count": 219,
   "id": "362969c2",
   "metadata": {},
   "outputs": [
    {
     "data": {
      "text/plain": [
       "<matplotlib.legend.Legend at 0x165eca19110>"
      ]
     },
     "execution_count": 219,
     "metadata": {},
     "output_type": "execute_result"
    },
    {
     "data": {
      "image/png": "[encoded data removed]",
      "text/plain": [
       "<Figure size 640x480 with 5 Axes>"
      ]
     },
     "metadata": {},
     "output_type": "display_data"
    }
   ],
   "source": [
    "fig,ax = plt.subplots(5,1,sharex=True)\n",
    "ax[0].plot(rain)\n",
    "# ax[0].plot(irr_sw[:,0])\n",
    "ax[0].bar(x=np.arange(0,len(irr_sw))-0.25, height=irr_sw[:,0], width=1,label='SW')\n",
    "ax[0].bar(x=np.arange(0,len(irr_gw))+0.25, height=irr_gw[:,0], width=.5, label='GW')\n",
    "ax[1].plot(rp.mean(axis=(1)))\n",
    "ax[2].plot(ETa.mean(axis=(1)))\n",
    "ax[3].plot(pc.mean(axis=(1)))\n",
    "ax[4].plot(wc.mean(axis=(1)))\n",
    "\n",
    "for n, l in enumerate(['Rain/\\nIrrigation','Runoff','ET','Perc','WC']):\n",
    "    ax[n].set_ylabel(l)\n",
    "ax[0].legend()"
   ]
  },
  {
   "cell_type": "markdown",
   "id": "88e23b44",
   "metadata": {},
   "source": [
    "## Save Output"
   ]
  },
  {
   "cell_type": "code",
   "execution_count": 21,
   "id": "5dadd9b7",
   "metadata": {},
   "outputs": [],
   "source": [
    "\n",
    "import h5py\n",
    "\n",
    "def arr_to_h5(arr, h5_fn):\n",
    "    # convert arrays of annual rates to hdf5 files individually\n",
    "    with h5py.File(h5_fn, \"w\") as f:\n",
    "        grp = f.require_group('array') # makes sure group exists\n",
    "        grp.attrs['units'] = 'meters/day'\n",
    "        grp.attrs['description'] = 'Each layer of the array is a day in the water year'\n",
    "        dset = grp.require_dataset('WY', arr.shape, dtype='f', compression=\"gzip\", compression_opts=4)\n",
    "        dset[:] = arr\n",
    "    \n"
   ]
  },
  {
   "cell_type": "code",
   "execution_count": 123,
   "id": "5267af0c-0645-49e1-b5cf-5b1e56bbdbdd",
   "metadata": {},
   "outputs": [],
   "source": [
    "# years and array index \n",
    "years = pd.date_range(strt_date,end_date,freq='AS-Oct')\n",
    "yr_ind = (years-strt_date).days\n"
   ]
  },
  {
   "cell_type": "code",
   "execution_count": 124,
   "id": "84e76cf9",
   "metadata": {},
   "outputs": [],
   "source": [
    "\n",
    "# need separte hdf5 for each year because total is 300MB\n",
    "for n in np.arange(0,len(yr_ind)-1):\n",
    "    arr = pc[yr_ind[n]:yr_ind[n+1]]\n",
    "    fn = join(model_ws,\"percolation_WY\"+str(years[n].year+1)+\".hdf5\")\n",
    "    arr_to_h5(arr, fn)\n"
   ]
  }
 ],
 "metadata": {
  "kernelspec": {
   "display_name": "Python 3 (ipykernel)",
   "language": "python",
   "name": "python3"
  },
  "language_info": {
   "codemirror_mode": {
    "name": "ipython",
    "version": 3
   },
   "file_extension": ".py",
   "mimetype": "text/x-python",
   "name": "python",
   "nbconvert_exporter": "python",
   "pygments_lexer": "ipython3",
   "version": "3.11.0"
  }
 },
 "nbformat": 4,
 "nbformat_minor": 5
}
