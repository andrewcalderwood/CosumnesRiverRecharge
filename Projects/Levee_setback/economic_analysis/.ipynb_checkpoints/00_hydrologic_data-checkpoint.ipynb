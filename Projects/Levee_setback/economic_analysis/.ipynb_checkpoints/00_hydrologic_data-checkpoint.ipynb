{
 "cells": [
  {
   "cell_type": "markdown",
   "id": "518ee7d2",
   "metadata": {},
   "source": [
    "Prepare hydrologic data for crop choice or irrigation optimization model.  \n",
    "\n",
    "\n",
    "[Water Supply information](https://cdec.water.ca.gov/water_supply.html)  \n",
    "Water Year Types come from the Department of Water Resources, California Cooperative Snow Surveys  \n",
    "Chronological Reconstructed Sacramento and San Joaquin Valley  \n",
    "[Water Year Hydrologic Classification Indices](https://cdec.water.ca.gov/reportapp/javareports?name=WSIHIST)"
   ]
  },
  {
   "cell_type": "code",
   "execution_count": null,
   "id": "b3a344f6",
   "metadata": {},
   "outputs": [],
   "source": [
    "# standard python utilities\n",
    "import os\n",
    "from os.path import join, exists, dirname, basename\n",
    "import glob\n",
    "import sys\n",
    "import time\n",
    "\n",
    "import pandas as pd\n",
    "import numpy as np\n",
    "\n",
    "import h5py\n",
    "from scipy.io import loadmat\n",
    "\n",
    "# standard python plotting utilities\n",
    "import matplotlib as mpl\n",
    "import matplotlib.pyplot as plt\n",
    "\n",
    "# standard geospatial python utilities\n",
    "import shapely\n",
    "import geopandas as gpd\n",
    "\n"
   ]
  },
  {
   "cell_type": "code",
   "execution_count": null,
   "id": "540626f0",
   "metadata": {},
   "outputs": [],
   "source": [
    "doc_dir = os.getcwd()\n",
    "while basename(doc_dir) != 'Documents':\n",
    "    doc_dir = dirname(doc_dir)\n",
    "    \n",
    "proj_dir = join(dirname(doc_dir),'Box','SESYNC_paper1')\n",
    "data_dir = join(proj_dir, 'model_inputs')"
   ]
  },
  {
   "cell_type": "code",
   "execution_count": null,
   "id": "60f00ab7",
   "metadata": {},
   "outputs": [],
   "source": [
    "# the left side is Sacramento, the right side is San Joaquin\n",
    "wyt = pd.read_csv(join(data_dir, 'historical_WY_types.txt'), delimiter=r'\\s+', engine='python', comment='#')\n",
    "\n",
    "sac_wyt = wyt.loc[:,~wyt.columns.str.contains('.1')]\n",
    "sj_wyt = pd.concat((wyt[['WY']],wyt.loc[:,wyt.columns.str.contains('.1')]), axis=1)\n"
   ]
  },
  {
   "cell_type": "code",
   "execution_count": null,
   "id": "80999578",
   "metadata": {},
   "outputs": [],
   "source": [
    "sac_wyt.to_csv(join(data_dir, 'sacramento_WY_types.txt'), index=False)\n",
    "sj_wyt.to_csv(join(data_dir, 'san_joaquin_WY_types.txt'),index=False)"
   ]
  },
  {
   "cell_type": "code",
   "execution_count": null,
   "id": "0fecb8fa",
   "metadata": {},
   "outputs": [],
   "source": [
    "sac_wyt"
   ]
  }
 ],
 "metadata": {
  "kernelspec": {
   "display_name": "Python 3 (ipykernel)",
   "language": "python",
   "name": "python3"
  },
  "language_info": {
   "codemirror_mode": {
    "name": "ipython",
    "version": 3
   },
   "file_extension": ".py",
   "mimetype": "text/x-python",
   "name": "python",
   "nbconvert_exporter": "python",
   "pygments_lexer": "ipython3",
   "version": "3.11.0"
  }
 },
 "nbformat": 4,
 "nbformat_minor": 5
}
