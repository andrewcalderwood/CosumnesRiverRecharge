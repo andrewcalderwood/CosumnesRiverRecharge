{
 "cells": [
  {
   "cell_type": "code",
   "execution_count": null,
   "id": "8f44e11b",
   "metadata": {},
   "outputs": [],
   "source": [
    "# standard python utilities\n",
    "import os\n",
    "from os.path import basename\n",
    "import sys\n",
    "from importlib import reload\n",
    "import glob\n",
    "import pandas as pd\n",
    "import numpy as np\n",
    "import calendar\n",
    "import time\n",
    "\n",
    "# standard python plotting utilities\n",
    "import matplotlib as mpl\n",
    "import matplotlib.pyplot as plt\n",
    "import matplotlib.dates as mdates\n",
    "\n",
    "# standard geospatial python utilities\n",
    "import pyproj # for converting proj4string\n",
    "import shapely\n",
    "import geopandas as gpd\n",
    "import rasterio\n",
    "\n",
    "# mapping utilities\n",
    "import contextily as ctx\n",
    "from mpl_toolkits.axes_grid1.inset_locator import inset_axes\n",
    "from mpl_toolkits.axes_grid1.anchored_artists import AnchoredSizeBar\n",
    "import matplotlib.font_manager as fm\n",
    "from matplotlib.ticker import MaxNLocator\n",
    "\n",
    "import flopy\n",
    "import flopy.utils.binaryfile as bf\n"
   ]
  },
  {
   "cell_type": "code",
   "execution_count": null,
   "id": "37edc965",
   "metadata": {},
   "outputs": [],
   "source": [
    "doc_dir = os.getcwd()\n",
    "while os.path.basename(doc_dir) != 'Documents':\n",
    "    doc_dir = os.path.dirname(doc_dir)\n",
    "    \n",
    "git_dir = os.getcwd()\n",
    "while os.path.basename(git_dir) != 'GitHub':\n",
    "    git_dir = os.path.dirname(git_dir)\n",
    "usr_dir = os.getcwd()\n",
    "while os.path.basename(usr_dir) != 'Users':\n",
    "    temp = os.path.basename(usr_dir)\n",
    "    usr_dir = os.path.dirname(usr_dir)\n",
    "usr_dir += '/'+temp\n",
    "\n",
    "py_dir = git_dir +'/CosumnesRiverRecharge/python_utilities/'\n",
    "## Set up directory referencing\n",
    "# Package data\n",
    "gwfm_dir = usr_dir+'/Box/research_cosumnes/GWFlowModel/'\n",
    "gwfm_dir\n",
    "bas_dir = gwfm_dir + 'BAS6/'\n",
    "proj_dir = gwfm_dir+'Levee_setback/'\n",
    "plt_dir = proj_dir+'figures/'\n"
   ]
  },
  {
   "cell_type": "markdown",
   "id": "8dba5c5d",
   "metadata": {},
   "source": [
    "## Pick model type to review\n",
    "RIV is the simple model with only SS assumptions about Blodgett Dam depth and area\n",
    "LAK is the complex model with interactive flow between the stream and Blodgett Dam"
   ]
  },
  {
   "cell_type": "code",
   "execution_count": null,
   "id": "7f222b49",
   "metadata": {},
   "outputs": [],
   "source": [
    "# run_dir = 'C://WRDAPP/GWFlowModel'\n",
    "run_dir = 'F://WRDAPP/GWFlowModel'\n",
    "loadpth = run_dir +'/Cosumnes/levee_setback/streamflow/'\n",
    "\n",
    "# runs = os.listdir(loadpth)\n",
    "# runs\n",
    "runs = ['setback_streamflow','historical_streamflow']\n"
   ]
  },
  {
   "cell_type": "code",
   "execution_count": null,
   "id": "7003435e",
   "metadata": {},
   "outputs": [],
   "source": [
    "# model_ws =loadpth+'/actual_200cfs'\n",
    "\n",
    "# i=0\n",
    "# os.listdir(loadpth+runs[i])\n",
    "# glob.glob(loadpth+runs[i]+'/*.nam')[0]\n",
    "# model_ws = loadpth+runs[i]\n",
    "\n",
    "# model_nam = 'setback_streamflow'\n",
    "model_nam = 'historical_streamflow'\n",
    "\n",
    "\n",
    "model_ws = loadpth+model_nam\n"
   ]
  },
  {
   "cell_type": "code",
   "execution_count": null,
   "id": "55536e58",
   "metadata": {},
   "outputs": [],
   "source": [
    "\n",
    "m = flopy.modflow.Modflow.load('MF.nam', model_ws= model_ws, \n",
    "                                exe_name='mf-owhm', version='mfnwt')\n",
    "\n",
    "# m_ss = flopy.modflow.Modflow.load('MF.nam', model_ws= loadpth+'historical_SS', \n",
    "#                                 exe_name='mf2005', version='mfnwt')"
   ]
  },
  {
   "cell_type": "code",
   "execution_count": null,
   "id": "0156c241",
   "metadata": {},
   "outputs": [],
   "source": [
    "if 'LPF' in m.get_package_list():\n",
    "    gel_nam = 'LPF'\n",
    "else:\n",
    "    gel_nam = 'UPW'\n",
    "gel = m.__getattr__(gel_nam)"
   ]
  },
  {
   "cell_type": "code",
   "execution_count": null,
   "id": "92950cee",
   "metadata": {},
   "outputs": [],
   "source": [
    "sfr_dir = gwfm_dir+'/SFR_data/'\n",
    "grid_sfr = gpd.read_file(sfr_dir+'/final_grid_sfr/grid_sfr.shp')\n",
    "grid_sfr['Kz'] = m.sfr.reach_data.strhc1\n",
    "m_domain = gpd.read_file(gwfm_dir+'/DIS_data/NewModelDomain/GWModelDomain_52_9deg_UTM10N_WGS84.shp')\n",
    "grid_p = gpd.read_file(gwfm_dir+'/DIS_data/grid/grid.shp')\n",
    "grid_p['easting'] = grid_p.geometry.centroid.x\n",
    "grid_p['northing'] = grid_p.geometry.centroid.y\n",
    "\n",
    "lak_grid_clip = gpd.read_file(proj_dir+'lak_grid_clip/lak_grid_clip.shp')\n"
   ]
  },
  {
   "cell_type": "code",
   "execution_count": null,
   "id": "285b9388",
   "metadata": {},
   "outputs": [],
   "source": [
    "map_fxn_dir = doc_dir+'/GitHub/CosumnesRiverRecharge/python_utilities'\n",
    "if map_fxn_dir not in sys.path:\n",
    "    sys.path.append(map_fxn_dir)\n",
    "# sys.path\n",
    "import map_obs_plt as mop\n",
    "from map_obs_plt import plt_bc_hk, plot_head_simple, plot_dtw_simple\n",
    "from map_cln import gdf_2_lims\n",
    "\n",
    "from importlib import reload\n",
    "# importlib.reload\n",
    "reload(mop)"
   ]
  },
  {
   "cell_type": "code",
   "execution_count": null,
   "id": "20bb543b",
   "metadata": {},
   "outputs": [],
   "source": [
    "osc_cells = [(4,193), (6,194),(9,195),(10,196) ,( 11,197),( 15,200),( 24,206),( 28,210) ]\n",
    "osc_cells = [(9,195),(10,196),(8,194),(7,194)]\n",
    "fig,ax = plt.subplots()\n",
    "# grid_sfr.plot(ax=ax)\n",
    "# m_domain.plot(ax=ax,color='none')\n",
    "mop.plt_bc_hk(m, ax, hk=True)\n",
    "\n",
    "grid_p.set_index(['row','column']).loc[osc_cells].plot(ax=ax, color='none',edgecolor='red')\n",
    "gdf_2_lims(grid_p.set_index(['row','column']).loc[osc_cells].buffer(2000),ax=ax)"
   ]
  },
  {
   "cell_type": "code",
   "execution_count": null,
   "id": "07922fda",
   "metadata": {},
   "outputs": [],
   "source": [
    "osc_arr = np.asarray(osc_cells)\n",
    "for n in ['hk','vka','sy','ss']:\n",
    "    print(n, getattr(gel,n).array[0,osc_arr[:,0]-1,osc_arr[:,1]-1])\n"
   ]
  },
  {
   "cell_type": "markdown",
   "id": "0f5df6e0",
   "metadata": {},
   "source": [
    "# Head plots and contours"
   ]
  },
  {
   "cell_type": "code",
   "execution_count": null,
   "id": "847dc808",
   "metadata": {},
   "outputs": [],
   "source": [
    "hdobj = flopy.utils.HeadFile(model_ws+'/MF.hds')\n",
    "spd_stp = hdobj.get_kstpkper()\n",
    "times = hdobj.get_times()\n",
    "cbc = model_ws+'/MF.cbc'\n",
    "\n",
    "strt_date = pd.to_datetime(m.dis.start_datetime)\n",
    "dates = strt_date+(np.asarray(times)-1).astype('timedelta64[D]')\n",
    "\n",
    "dt_ref = pd.DataFrame(dates, columns=['dt'])\n",
    "dt_ref['kstpkper'] = spd_stp\n"
   ]
  },
  {
   "cell_type": "code",
   "execution_count": null,
   "id": "ace28a2e",
   "metadata": {},
   "outputs": [],
   "source": [
    "dt_ref.shape, m.rch.rech.array.shape, m.dis.nper, len(times)"
   ]
  },
  {
   "cell_type": "code",
   "execution_count": null,
   "id": "22ebd075",
   "metadata": {},
   "outputs": [],
   "source": [
    "rech = m.rch.rech.array[:,0,:,:]\n",
    "rech_avg = pd.Series(rech.mean(axis=(1,2)))[1:]\n",
    "# rech_avg.index=dt_ref.dt[:-1]\n",
    "\n"
   ]
  },
  {
   "cell_type": "code",
   "execution_count": null,
   "id": "aa525e64",
   "metadata": {},
   "outputs": [],
   "source": [
    "storativity = np.array(pd.read_csv(model_ws+'/input_data/storativity.tsv', delimiter=' ',header=None))\n",
    "storativity = np.reshape(storativity, (m.dis.nlay, m.dis.nrow, m.dis.ncol))\n"
   ]
  },
  {
   "cell_type": "code",
   "execution_count": null,
   "id": "2c478918",
   "metadata": {},
   "outputs": [],
   "source": [
    "hdobj_ss = flopy.utils.HeadFile(loadpth+'historical_SS/MF.hds')\n",
    "# hdobj_ss = flopy.utils.HeadFile(loadpth+'historical_streamflow/MF.hds')\n",
    "# temp = hdobj_ss.get_data((0,0))\n",
    "# plt.imshow(temp[0,:,:])\n",
    "# plt.colorbar()"
   ]
  },
  {
   "cell_type": "code",
   "execution_count": null,
   "id": "093b86ad",
   "metadata": {},
   "outputs": [],
   "source": [
    "# shapefile rectangle of the area surrounding the Dam within about 5 cells\n",
    "zon_dam_gpd = gpd.read_file(gwfm_dir+'/Blodgett_Dam/geospatial/zon_bud_extent/zon_bud_extent.shp')\n",
    "\n",
    "zon_cells = gpd.sjoin(grid_p,zon_dam_gpd,how='right',op='within')\n",
    "# zon_cells = gpd.sjoin(grid_p,zon_dam_gpd) #includes more cells, including with high conductance\n",
    "\n",
    "# filter zone budget for Blodgett Dam to just within 5 cells or so of the Dam\n",
    "# zon_dam = np.zeros((m.dis.nrow,m.dis.ncol),dtype=int)\n",
    "zon_dam = np.zeros((grid_p.row.max(),grid_p.column.max()),dtype=int)\n",
    "\n",
    "zon_dam[zon_cells.row-1,zon_cells.column-1]=1\n",
    "\n",
    "zon_mod = np.ones((grid_p.row.max(),grid_p.column.max()),dtype=int)"
   ]
  },
  {
   "cell_type": "code",
   "execution_count": null,
   "id": "0cf57289",
   "metadata": {},
   "outputs": [],
   "source": [
    "# this doesn't seem to have helped much\n",
    "# dir_current = 'historical_streamflow'\n",
    "# dir_2010 = 'historical_SS'\n",
    "# head_current = np.zeros(m.dis.botm.shape)\n",
    "# head_2010 = np.zeros(m.dis.botm.shape)\n",
    "\n",
    "# for k in np.arange(0,m.dis.nlay):\n",
    "#     head_current[k,:,:] = np.loadtxt(bas_dir+'steadystate_heads/'+dir_current+'/layer'+str(k)+'.tsv',delimiter='\\t')\n",
    "#     head_2010[k,:,:] = np.loadtxt(bas_dir+'steadystate_heads/'+dir_2010+'/layer'+str(k)+'.tsv',delimiter='\\t')"
   ]
  },
  {
   "cell_type": "code",
   "execution_count": null,
   "id": "3afc70f8",
   "metadata": {},
   "outputs": [],
   "source": [
    "# plt.imshow((head_current-head_2010)[0,:,:], vmin=-100)\n",
    "# plt.colorbar()"
   ]
  },
  {
   "cell_type": "code",
   "execution_count": null,
   "id": "cd58d742",
   "metadata": {},
   "outputs": [],
   "source": [
    "# save steady state head to try to improve ss run time\n",
    "# head_ss = hdobj_ss.get_data((0,0))\n",
    "# os.makedirs(bas_dir+'steadystate_heads/'+basename(model_ws), exist_ok=True)\n",
    "# for k in np.arange(0,head_ss.shape[0]):\n",
    "#     np.savetxt(bas_dir+'steadystate_heads/'+basename(model_ws)+'/layer'+str(k)+'.tsv', head_ss[k,:,:],delimiter='\\t')"
   ]
  },
  {
   "cell_type": "markdown",
   "id": "fa761962",
   "metadata": {},
   "source": [
    "# Sim vs Obs Head\n"
   ]
  },
  {
   "cell_type": "code",
   "execution_count": null,
   "id": "cdc1a0a4",
   "metadata": {},
   "outputs": [],
   "source": [
    "# model_ws = loadpth+'historical_SS'\n",
    "# model_ws = loadpth+'historical_streamflow'"
   ]
  },
  {
   "cell_type": "code",
   "execution_count": null,
   "id": "d231c777",
   "metadata": {},
   "outputs": [],
   "source": [
    "hobout = pd.read_csv(model_ws+'/MF.hob.out',delimiter=r'\\s+', header = 0,names = ['sim_val','WSE','obs_nam'],\n",
    "                     dtype = {'sim_val':float,'obs_val':float,'obs_nam':object},\n",
    "                    na_values=[-9999.])\n",
    "# if only one obs exists correct naming convention\n",
    "one_obs = ~hobout.obs_nam.str.contains('.0')\n",
    "hobout.loc[one_obs,'obs_nam'] = hobout.loc[one_obs,'obs_nam']+'.'+str(1).zfill(5)"
   ]
  },
  {
   "cell_type": "code",
   "execution_count": null,
   "id": "6b8d5086",
   "metadata": {},
   "outputs": [],
   "source": [
    "fig, ax = plt.subplots(2,1,figsize=(10,8))\n",
    "\n",
    "# get boundary values for plotting a 1:1\n",
    "hobmax = hobout.loc[:,['sim_val','WSE']].max().min()\n",
    "hobmin = hobout.loc[:,['sim_val','WSE']].min().max()\n",
    "\n",
    "# plot observed vs simulated values\n",
    "hobout.plot.scatter(x='sim_val',y='WSE',marker='.',ax=ax[0])\n",
    "ax[0].plot([hobmin,hobmax],[hobmin,hobmax],'red')\n",
    "ax[0].set_ylabel('Observed Values (m)')\n",
    "ax[0].set_xlabel('Simulated Values (m)')\n",
    "\n",
    "hobout.plot.scatter(x='sim_val',y='WSE',marker='.',ax=ax[1])\n",
    "ax[1].set_xlim(-40,100)\n",
    "\n",
    "# plot 1:1 line\n",
    "ax[1].plot([hobmin,hobmax],[hobmin,hobmax],'red')\n",
    "\n",
    "plt.ylabel('Observed Values (m)')\n",
    "plt.xlabel('Simulated Values (m)')\n",
    "\n",
    "fig_nam = plt_dir+'GSP_WaterBudget/sim_vs_obs_heads'\n",
    "\n",
    "# plt.savefig(fig_nam+'.png',dpi=600,bbox_inches='tight')\n",
    "# plt.savefig(fig_nam+'.svg',dpi=600,bbox_inches='tight')"
   ]
  },
  {
   "cell_type": "code",
   "execution_count": null,
   "id": "904e7a18",
   "metadata": {},
   "outputs": [],
   "source": [
    "def mak_hob_gpd(hobout):\n",
    "    all_obs = pd.read_csv(model_ws+'/input_data/all_obs_grid_prepared.csv',index_col=0)\n",
    "    all_obs.index = all_obs.index.rename('MSMT_DATE')\n",
    "    all_obs = all_obs.reset_index()\n",
    "    # join more indepth obs data to output simulated heads\n",
    "    obs_data = hobout.join(all_obs.set_index('obs_nam'),on=['obs_nam'])\n",
    "    obs_data = obs_data.dropna(subset=['node'])\n",
    "    obs_data.loc[:,['row','column','node']] = obs_data.loc[:,['row','column','node']].astype(int)\n",
    "\n",
    "    # obs_data.index = obs_data.index\n",
    "    obs_grid = obs_data.join(grid_p.set_index(['row','column']).loc[:,['easting','northing']], \n",
    "                             on=['row','column'])\n",
    "    # # convert back to geospatial\n",
    "    hob_gpd = gpd.GeoDataFrame(obs_grid, geometry = gpd.points_from_xy(obs_grid.easting, obs_grid.northing))\n",
    "    hob_gpd['error'] = hob_gpd.WSE - hob_gpd.sim_val\n",
    "    hob_gpd['abs_error'] = hob_gpd.error.abs()\n",
    "    \n",
    "    if 'MSMT_DATE' in hob_gpd.columns:\n",
    "        hob_gpd = hob_gpd.set_index('MSMT_DATE')\n",
    "        hob_gpd.index = pd.to_datetime(hob_gpd.index)    \n",
    "        #     groupby values by season\n",
    "        hob_gpd.loc[(hob_gpd.index.month > 2)&(hob_gpd.index.month < 6),'season'] = 'spring'\n",
    "        hob_gpd.loc[(hob_gpd.index.month > 8)&(hob_gpd.index.month < 12),'season'] = 'fall'\n",
    "    \n",
    "    return(hob_gpd)\n",
    "    # set date\n",
    "    \n"
   ]
  },
  {
   "cell_type": "code",
   "execution_count": null,
   "id": "facb6b7c",
   "metadata": {},
   "outputs": [],
   "source": [
    "hob_gpd = mak_hob_gpd(hobout)\n",
    "\n",
    "hob_seasonal = hob_gpd.groupby(['node','season']).mean()\n",
    "hob_seasonal = gpd.GeoDataFrame(hob_seasonal, geometry = gpd.points_from_xy(hob_seasonal.easting, hob_seasonal.northing))\n",
    "hob_seasonal = hob_seasonal.reset_index()\n",
    "    \n"
   ]
  },
  {
   "cell_type": "code",
   "execution_count": null,
   "id": "12d006a0",
   "metadata": {},
   "outputs": [],
   "source": [
    "hob_gpd['Statistic'] = 0.01\n",
    "hob_gpd['StatFlag'] = 'SD'\n",
    "# locations with significant difference between RPE GSE and the DEM should have additional uncertainty included\n",
    "hob_gpd['Statistic'] += np.round(np.abs(hob_gpd.dem_wlm_gse),4)\n",
    "hob_gpd['Weight'] = 1/(hob_gpd.Statistic**2)\n",
    "\n",
    "soswr = (np.sum(np.abs(hob_gpd.sim_val-hob_gpd.WSE)*hob_gpd.Weight))\n",
    "print('Sum of absolute difference of OBS and SIM: %.2e' %soswr)"
   ]
  },
  {
   "cell_type": "code",
   "execution_count": null,
   "id": "6ece8d9c",
   "metadata": {},
   "outputs": [],
   "source": [
    "# print('Upper Cosumnes - deep DTW expected')\n",
    "\n",
    "# hob_interest = hob_gpd.loc[hob_gpd.node.isin([14644, 15343, 16963])]\n",
    "# print('Simulated DTW (ft): ',(hob_interest.dem_elev - hob_interest.sim_val).values/0.3048)\n",
    "# print('Observed DTW (ft): ',(hob_interest.dem_elev - hob_interest.WSE).values/0.3048)\n",
    "\n",
    "# # hob_interest\n",
    "# print('Lower Cosumnes - shallow DTW expected')\n",
    "# hob_interest = hob_gpd.loc[hob_gpd.node.isin([9448, 6458, 17487])]\n",
    "# print('Simulated DTW (ft): ',(hob_interest.dem_elev - hob_interest.sim_val).values/0.3048)\n",
    "# print('Observed DTW (ft): ',(hob_interest.dem_elev - hob_interest.WSE).values/0.3048)\n",
    "\n",
    "# hob_interest"
   ]
  },
  {
   "cell_type": "markdown",
   "id": "a2444fa9",
   "metadata": {},
   "source": [
    "The error is slightly smaller than presented because I used the raw GWE which is based on the surveyed land surface elevation instead of the adjusted water surface elevation based on the model top elevation. Additionally these three wells are in a part of the basin with grassland/pasture that I was not simulating for pumping because it was such a large portion of the domain and it is difficult to know whether it is irrigated or not. It may need to be adjusted to allow pumping on pasture when it is near a domestic or agricultural well (say a radius of 1000 ft or 300 m). South of the Cosumnes water levels tend to be even lower than on the north side where perhaps Deer Creek provides more recharge."
   ]
  },
  {
   "cell_type": "code",
   "execution_count": null,
   "id": "05430a92",
   "metadata": {},
   "outputs": [],
   "source": [
    "# convert pumping to array\n",
    "pump = np.zeros((m.dis.nper,m.dis.nrow,m.dis.ncol))\n",
    "for n in np.arange(0,m.dis.nper):\n",
    "    wel_n = m.wel.stress_period_data[n]\n",
    "    pump[n, wel_n.i, wel_n.j] += wel_n.flux*-1\n",
    "pump_rate = pump/(m.dis.delr[0]*m.dis.delc[0])"
   ]
  },
  {
   "cell_type": "code",
   "execution_count": null,
   "id": "8b106a8e",
   "metadata": {},
   "outputs": [],
   "source": [
    "# import contextily as ctx\n",
    "\n",
    "def background_plt(ax, arr):\n",
    "    ''' Plot Array data over background map data'''\n",
    "    mapview = flopy.plot.PlotMapView(model=m,ax=ax)\n",
    "\n",
    "    csa = mapview.plot_array(arr, ax=ax, alpha = 0.6) #norm=mpl.colors.LogNorm(),\n",
    "    cb = plt.colorbar(csa, shrink=0.3,ax=ax)\n",
    "    \n",
    "    # hob_gpd[hob_gpd.node.isin(nodes2chk)].plot('node', ax=ax, legend=True)\n",
    "    hob_gpd[hob_gpd.node.isin(nodes2chk)].plot('SITE_CODE', ax=ax, legend=False, legend_kwds={'loc':(1.2,0.4)})\n",
    "\n",
    "    grid_sfr.plot('Kz', ax=ax,legend=False, \n",
    "                  norm=mpl.colors.LogNorm(vmin=grid_sfr.Kz.min(), vmax=grid_sfr.Kz.max()),\n",
    "                  legend_kwds={'shrink':0.8})\n",
    "#     ctx.add_basemap(ax=ax, crs='epsg:32610', alpha = 0.6,\n",
    "#                     source = ctx.providers.Esri.WorldImagery, attribution=False)\n",
    "    return(mapview)\n",
    "\n",
    "# nodes2chk = [11084, 10383,10161,9290,8437,6564,14626,15314,6085,13407,10384,16614,20285]\n",
    "# nodes2chk = [11218,8437,16963,9580,5056,15343,14626,15314] # nodes with obs avg well below simulated\n",
    "# # nodes2chk = [9290,22825, 11218] # nodes without overly large 2017 fluctuations\n",
    "\n",
    "# fig,ax0=plt.subplots(1,2, figsize=(10,10))\n",
    "\n",
    "# ax = ax0[0]\n",
    "# mapview = background_plt(ax=ax0[0], arr = (hdobj.get_data((0,365)).mean(axis=0) - h_ss))\n",
    "\n",
    "# ax = ax0[1]\n",
    "# mapview = background_plt(ax=ax0[1], arr = m.rch.rech.array[1:365,0,:,:].mean(axis=0))\n",
    "\n",
    "\n",
    "# fig.tight_layout()"
   ]
  },
  {
   "cell_type": "code",
   "execution_count": null,
   "id": "615d4e3f",
   "metadata": {},
   "outputs": [],
   "source": [
    "fig,ax=plt.subplots(figsize=(8, 8))\n",
    "# m = m_ss\n",
    "m_domain.plot(ax=ax,color='None')\n",
    "mapview = flopy.plot.PlotMapView(model=m,ax=ax)\n",
    "a = gel.hk.array\n",
    "\n",
    "csa = mapview.plot_array(a[0,:,:], norm=mpl.colors.LogNorm())\n",
    "cb = plt.colorbar(csa, shrink=0.75,ax=ax)\n",
    "cb.set_label('Horiz. Cond. (m/d)')\n",
    "\n",
    "# hob_gpd.plot('error',scheme='EqualInterval', k= 6, ax=ax,legend=True,cmap='magma')\n",
    "hob_gpd.plot('error',markersize='abs_error',scheme='Quantiles', k = 6, ax=ax,\n",
    "                  legend=True,cmap='bwr',legend_kwds={'loc':(1.1,0.9),'title':'Error (Obs - Sim)'})\n",
    "# hob_gpd.apply(lambda x: ax.annotate(str(x.node), xy=x.geometry.centroid.coords[0], ha='right'),axis=1);\n",
    "# hob_gpd.apply(lambda x: ax.annotate(str(x.node), xy=list(x.geometry.coords)[0], ha='right'),axis=1);\n",
    "\n",
    "grid_sfr.plot(ax=ax,color='black')\n",
    "# ax.legend(loc=(1,0.5))"
   ]
  },
  {
   "cell_type": "code",
   "execution_count": null,
   "id": "085f1acb",
   "metadata": {},
   "outputs": [],
   "source": [
    "nodes2chk = [202825, 12944, 6085, 14626, 6564, 9580, 8437, 21451, 10384, 13407, 946] # not enough fluctuations\n",
    "\n",
    "# nodes2chk = [22825, 12944, 6085, 14626, 6564, 9580, 8437] # not enough fluctuations\n",
    "# nodes2chk = [10165, 9290, 10161, 11084, 11078, 10383] # fluctuate well, near river, shallow (6 from CRP)\n",
    "chk = hob_gpd[hob_gpd.node.isin(nodes2chk)]\n",
    "chk.layer.unique()\n",
    "# chk.dem_elev.unique()\n",
    "\n",
    "# chk.SITE_CODE.unique()"
   ]
  },
  {
   "cell_type": "code",
   "execution_count": null,
   "id": "789f4932",
   "metadata": {},
   "outputs": [],
   "source": [
    "ss_chk = m.upw.ss.array[chk.layer.astype(int), chk.row.astype(int), chk.column.astype(int)]\n",
    "hk_chk = m.upw.hk.array[chk.layer.astype(int), chk.row.astype(int), chk.column.astype(int)]\n",
    "# hk_chk"
   ]
  },
  {
   "cell_type": "code",
   "execution_count": null,
   "id": "2c88d440",
   "metadata": {},
   "outputs": [],
   "source": [
    "hob_gpd[hob_gpd.node.isin(nodes2chk)].columns\n",
    "hob_gpd[hob_gpd.node.isin(nodes2chk)].groupby('SITE_CODE').mean()"
   ]
  },
  {
   "cell_type": "code",
   "execution_count": null,
   "id": "82d19fa1",
   "metadata": {},
   "outputs": [],
   "source": [
    "fig,ax = plt.subplots(2,1,figsize=(8,8))\n",
    "# nodes2chk = [10165, 9290, 10161, 11084, 11078, 10383] # fluctuate well, near river, shallow (6 from CRP)\n",
    "nodes2chk = [4579, 5056] # fluctuate well, near river, shallow (6 from CRP)\n",
    "\n",
    "hob_gpd[hob_gpd.node.isin(nodes2chk)].reset_index().plot(x='MSMT_DATE',y='WSE',kind='scatter', ax=ax[0], \n",
    "                                                         marker='x', color='red')\n",
    "hob_gpd[hob_gpd.node.isin(nodes2chk)].reset_index().plot(x='MSMT_DATE',y='sim_val',kind='scatter', ax=ax[0], marker='o')\n",
    "\n",
    "# rech_avg.resample('M').sum().plot(ax=ax[1], sharex=ax[0])\n"
   ]
  },
  {
   "cell_type": "code",
   "execution_count": null,
   "id": "fd445b72",
   "metadata": {},
   "outputs": [],
   "source": [
    "# hdobj = flopy.utils.HeadFile(model_ws+'/MF.hds')\n",
    "# spd_stp = hdobj.get_kstpkper()\n",
    "# times = hdobj.get_times()\n",
    "# cbc = model_ws+'/MF.cbc'\n",
    "\n",
    "hobout = pd.read_csv(model_ws+'/MF.hob.out',delimiter=r'\\s+', header = 0,names = ['sim_val','WSE','obs_nam'],\n",
    "                     dtype = {'sim_val':float,'obs_val':float,'obs_nam':object},\n",
    "                    na_values=[-9999.])\n",
    "# if only one obs exists correct naming convention\n",
    "one_obs = ~hobout.obs_nam.str.contains('.0')\n",
    "hobout.loc[one_obs,'obs_nam'] = hobout.loc[one_obs,'obs_nam']+'.'+str(1).zfill(5)\n",
    "\n",
    "hob_gpd = mak_hob_gpd(hobout)\n",
    "\n",
    "# find sites with long time series of OBS\n",
    "hobs_long = (hob_gpd.groupby('SITE_CODE').count()>=int(m.dis.nper/365)*2)\n",
    "hobs_long = hobs_long.index[hobs_long.WSE].values\n",
    "# hobs_long.shape\n",
    "# get layer, row, column for extracting time series head data\n",
    "hob_kij = hob_gpd.drop_duplicates('node')[['node','layer','row','column']]\n",
    "hob_kij['kij'] = list(hob_kij[['layer','row','column']].astype(int).itertuples(index=False,name=None)) #hob_ts\n"
   ]
  },
  {
   "cell_type": "code",
   "execution_count": null,
   "id": "b83ce3f4",
   "metadata": {},
   "outputs": [],
   "source": [
    "# voi = [4579, 11218, 15343,\n",
    "#        14644, 14626, 11845,\n",
    "#        12511, 8594,10884,\n",
    "#        14789, 16614, 22825, \n",
    "#       11078, 14972, 19794]\n",
    "voi = hob_gpd[hob_gpd.SITE_CODE.isin(hobs_long)].node.unique()\n",
    "# voi = 22825\n",
    "# def obs_sim_node(voi):\n",
    "ny = 3\n",
    "nx = int(np.ceil(len(voi)/ny))\n",
    "fig,ax=plt.subplots(nx,ny,figsize=(12,3*nx))\n",
    "for i,voi_n in enumerate(voi):\n",
    "    ax_n = ax[int(i / ny), i % ny] if (nx > 1) else ax[i]\n",
    "    hob_n = hob_gpd[hob_gpd.node==voi_n]\n",
    "    hob_n.reset_index().plot(x='MSMT_DATE',y='WSE',kind='scatter', ax=ax_n,\n",
    "                                                  marker='x', s=40, label = 'Observed')\n",
    "    hob_n.reset_index().plot(x='MSMT_DATE',y='sim_val',kind='scatter', ax=ax_n, \n",
    "                                                  marker='o', s=40,label='Simulated')\n",
    "    # add time series of simulated data to see true peaks\n",
    "#     ts_i = pd.DataFrame(hdobj.get_ts(hob_kij[hob_kij.node==voi_n].kij.values[0]),columns=['spd','sim_val']) \n",
    "#     ts_i['dt'] = dt_ref.dt\n",
    "#     ts_i.plot(x='dt',y='sim_val', ax=ax_n, legend=False)\n",
    "\n",
    "    ax_n.set_xlabel('')\n",
    "    ax_n.set_ylabel('')\n",
    "    S_n = format(gel.ss.array[hob_n.layer.iloc[0],hob_n.row.iloc[0],hob_n.column.iloc[0]],'.1e')\n",
    "    K_n = format(gel.hk.array[hob_n.layer.iloc[0],hob_n.row.iloc[0],hob_n.column.iloc[0]], '.1e')\n",
    "\n",
    "    ax_n.set_title(str(voi_n)+' K'+K_n+' S'+S_n+'\\n'+hob_n.SITE_CODE.iloc[0])\n",
    "ax_n.legend()\n",
    "fig.text(-0.03, 0.2, 'Head (m)',rotation='vertical',size=26)\n",
    "fig.text(0.35, -0.05, 'Date',size=26)\n",
    "fig.tight_layout()\n",
    "\n",
    "# obs_sim_node(voi)\n",
    "# hob_gpd[hob_gpd.node==22825].plot(x='MSMT_DATE',y='WSE',kind='scatter')\n"
   ]
  },
  {
   "cell_type": "code",
   "execution_count": null,
   "id": "1ba3cc6c",
   "metadata": {},
   "outputs": [],
   "source": [
    "# hob_seasonal.loc[hob_seasonal.season=='spring'].plot('error',markersize='abs_error',scheme='Quantiles', k = 6,\n",
    "#                   legend=True,cmap='bwr',legend_kwds={'loc':(1.1,0.8),'title':'Error (Obs - Sim)'})\n",
    "# hob_seasonal.loc[hob_seasonal.season=='fall'].plot('error',markersize='abs_error',scheme='Quantiles', k = 6,\n",
    "#                   legend=True,cmap='bwr',legend_kwds={'loc':(1.1,0.8),'title':'Error (Obs - Sim)'})"
   ]
  },
  {
   "cell_type": "code",
   "execution_count": null,
   "id": "5d992988",
   "metadata": {},
   "outputs": [],
   "source": [
    "fig,ax = plt.subplots(figsize=(10, 10))\n",
    "# plot_head(hdobj,cbb, spd_stp[180], 'Steady State',hk=False)\n",
    "\n",
    "hob_gpd.plot('error',markersize='abs_error',scheme='Quantiles', k = 6, ax=ax,\n",
    "                  legend=True,cmap='bwr',legend_kwds={'loc':(1.1,0.8)})\n",
    "\n",
    "plt_bc_hk(m, ax, hk=False)\n",
    "# plot_head_simple(m, hdobj, cbc, spd_stp[0], 'steady state', 'MF',ax=ax,units='m')\n",
    "plot_dtw_simple(m, hdobj, cbc, spd_stp[0], 'steady state', 'MF',ax=ax,units='m')\n"
   ]
  },
  {
   "cell_type": "code",
   "execution_count": null,
   "id": "42eb6d8d",
   "metadata": {},
   "outputs": [],
   "source": []
  },
  {
   "cell_type": "code",
   "execution_count": null,
   "id": "dfc2bcd2",
   "metadata": {},
   "outputs": [],
   "source": [
    "fig = plt.figure(figsize=(40, 20))\n",
    "ax = fig.add_subplot(1, 1, 1)\n",
    "\n",
    "head = hdobj.get_data(kstpkper = spd_stp[0]) #spd_stp[0]\n",
    "head.shape\n",
    "# head[:,rownum,:].shape\n",
    "\n",
    "rownum = 50\n",
    "mcs = flopy.plot.PlotCrossSection(model=m, line={'Row' : rownum})\n",
    "\n",
    "# colnum = 150\n",
    "# mcs = flopy.plot.PlotCrossSection(model=m, line={'Column' : colnum})\n",
    "\n",
    "linecollection = mcs.plot_grid(linewidth = 0.3)\n",
    "ax.add_collection(linecollection)\n",
    "# mcs.contour_array(a=head)\n",
    "mcs.plot_array(a=m.lpf.hk.array)\n",
    "\n",
    "wt = mcs.plot_surface(a=head[:,:,:])\n"
   ]
  },
  {
   "cell_type": "code",
   "execution_count": null,
   "id": "f75ed432",
   "metadata": {},
   "outputs": [],
   "source": []
  },
  {
   "cell_type": "code",
   "execution_count": null,
   "id": "c31c2026",
   "metadata": {},
   "outputs": [],
   "source": []
  }
 ],
 "metadata": {
  "kernelspec": {
   "display_name": "Python 3 (ipykernel)",
   "language": "python",
   "name": "python3"
  },
  "language_info": {
   "codemirror_mode": {
    "name": "ipython",
    "version": 3
   },
   "file_extension": ".py",
   "mimetype": "text/x-python",
   "name": "python",
   "nbconvert_exporter": "python",
   "pygments_lexer": "ipython3",
   "version": "3.11.0"
  }
 },
 "nbformat": 4,
 "nbformat_minor": 5
}
