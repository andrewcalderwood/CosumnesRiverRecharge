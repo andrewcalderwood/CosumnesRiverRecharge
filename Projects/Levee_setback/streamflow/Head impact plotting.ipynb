{
 "cells": [
  {
   "cell_type": "code",
   "execution_count": null,
   "id": "9d27eb08",
   "metadata": {},
   "outputs": [],
   "source": [
    "# standard python utilities\n",
    "import os\n",
    "import sys\n",
    "import glob\n",
    "import pandas as pd\n",
    "import numpy as np\n",
    "import calendar\n",
    "import time\n",
    "\n",
    "# standard python plotting utilities\n",
    "import matplotlib as mpl\n",
    "import matplotlib.pyplot as plt\n",
    "import matplotlib.dates as mdates\n",
    "\n",
    "# standard geospatial python utilities\n",
    "import pyproj # for converting proj4string\n",
    "import shapely\n",
    "import geopandas as gpd\n",
    "# import rasterio\n",
    "\n",
    "# mapping utilities\n",
    "# import contextily as ctx\n",
    "from mpl_toolkits.axes_grid1.inset_locator import inset_axes\n",
    "from mpl_toolkits.axes_grid1.anchored_artists import AnchoredSizeBar\n",
    "import matplotlib.font_manager as fm\n",
    "from matplotlib.ticker import MaxNLocator\n",
    "\n",
    "import flopy\n",
    "import flopy.utils.binaryfile as bf\n"
   ]
  },
  {
   "cell_type": "code",
   "execution_count": null,
   "id": "f09ff9f3",
   "metadata": {},
   "outputs": [],
   "source": [
    "from os.path import dirname, basename\n",
    "doc_dir = os.getcwd()\n",
    "while basename(doc_dir) != 'Documents':\n",
    "    doc_dir =  dirname(doc_dir)\n",
    "# dir of all gwfm data\n",
    "gwfm_dir = dirname(doc_dir)+'/Box/research_cosumnes/GWFlowModel'\n",
    "\n",
    "py_dir = doc_dir +'/GitHub/CosumnesRiverRecharge/python_utilities/'\n",
    "## Set up directory referencing\n",
    "# Package data\n",
    "bas_dir = gwfm_dir + 'BAS6/'\n",
    "proj_dir = gwfm_dir+'/Levee_setback/'\n",
    "plt_dir = proj_dir+'figures/'\n"
   ]
  },
  {
   "cell_type": "code",
   "execution_count": null,
   "id": "2ebe95c5",
   "metadata": {},
   "outputs": [],
   "source": [
    "from importlib import reload\n",
    "\n",
    "map_fxn_dir = doc_dir+'/GitHub/CosumnesRiverRecharge/python_utilities'\n",
    "if map_fxn_dir not in sys.path:\n",
    "    sys.path.append(map_fxn_dir)\n",
    "# sys.path\n",
    "from map_obs_plt import plt_bc_hk, plot_head_simple, plot_dtw_simple\n",
    "from map_cln import gdf_2_lims\n",
    "\n",
    "# from importlib import reload\n",
    "# # importlib.reload\n",
    "# reload(tc)"
   ]
  },
  {
   "cell_type": "code",
   "execution_count": null,
   "id": "1f5e19e6",
   "metadata": {},
   "outputs": [],
   "source": [
    "# run_dir = 'C://WRDAPP/GWFlowModel'\n",
    "run_dir = 'F://WRDAPP/GWFlowModel'\n",
    "loadpth = run_dir +'/Cosumnes/levee_setback/streamflow/'\n",
    "\n",
    "# runs = os.listdir(loadpth)\n",
    "# runs\n",
    "runs = ['setback_streamflow','historical_streamflow']\n"
   ]
  },
  {
   "cell_type": "code",
   "execution_count": null,
   "id": "86674caa",
   "metadata": {},
   "outputs": [],
   "source": [
    "# model_ws =loadpth+'/actual_200cfs'\n",
    "\n",
    "# i=0\n",
    "# os.listdir(loadpth+runs[i])\n",
    "# glob.glob(loadpth+runs[i]+'/*.nam')[0]\n",
    "# model_ws = loadpth+runs[i]\n",
    "\n",
    "# model_nam = 'setback_streamflow'\n",
    "model_nam = 'historical_streamflow'\n",
    "\n",
    "\n",
    "model_ws = loadpth+model_nam\n"
   ]
  },
  {
   "cell_type": "code",
   "execution_count": null,
   "id": "b475342a",
   "metadata": {},
   "outputs": [],
   "source": [
    "\n",
    "m = flopy.modflow.Modflow.load('MF.nam', model_ws= model_ws, \n",
    "                                exe_name='mf-owhm', version='mfnwt')\n",
    "\n",
    "# m_ss = flopy.modflow.Modflow.load('MF.nam', model_ws= loadpth+'historical_SS', \n",
    "#                                 exe_name='mf2005', version='mfnwt')"
   ]
  },
  {
   "cell_type": "code",
   "execution_count": null,
   "id": "6d6285af",
   "metadata": {},
   "outputs": [],
   "source": [
    "sfr_dir = gwfm_dir+'/SFR_data/'\n",
    "grid_sfr = gpd.read_file(sfr_dir+'/final_grid_sfr/grid_sfr.shp')\n",
    "m_domain = gpd.read_file(gwfm_dir+'/DIS_data/NewModelDomain/GWModelDomain_52_9deg_UTM10N_WGS84.shp')\n",
    "grid_p = gpd.read_file(gwfm_dir+'/DIS_data/grid/grid.shp')\n",
    "lak_grid_clip = gpd.read_file(proj_dir+'lak_grid_clip/lak_grid_clip.shp')\n"
   ]
  },
  {
   "cell_type": "code",
   "execution_count": null,
   "id": "2af4732c",
   "metadata": {},
   "outputs": [],
   "source": [
    "hdobj = flopy.utils.HeadFile(model_ws+'/MF.hds')\n",
    "spd_stp = hdobj.get_kstpkper()\n",
    "times = hdobj.get_times()\n",
    "cbc = model_ws+'/MF.cbc'\n",
    "\n",
    "strt_date = pd.to_datetime(m.dis.start_datetime)\n",
    "dates = strt_date+(np.asarray(times)-1).astype('timedelta64[D]')\n",
    "\n",
    "dt_ref = pd.DataFrame(dates, columns=['dt'])\n",
    "dt_ref['kstpkper'] = spd_stp\n"
   ]
  },
  {
   "cell_type": "markdown",
   "id": "2bccc8ba",
   "metadata": {},
   "source": [
    "# Check oscillating cells"
   ]
  },
  {
   "cell_type": "code",
   "execution_count": null,
   "id": "e85fee95",
   "metadata": {},
   "outputs": [],
   "source": [
    "# grid_p.plot()\n",
    "fig,ax=plt.subplots(figsize=(6,6))\n",
    "ax.set_aspect(1)\n",
    "plt_bc_hk(model=m,ax=ax)\n",
    "\n",
    "rc_oscillate = [(54,124),(51,121),(51,123),(51,120),(51,119),(51,118),(57,114)]\n",
    "oscillate_gpd = grid_p.set_index(['row','column']).loc[rc_oscillate,:]\n",
    "oscillate_gpd.plot(ax=ax, color='green')\n",
    "\n",
    "oscillate_gpd.geometry = oscillate_gpd.buffer(1000)\n",
    "osc_sfr = gpd.sjoin(grid_sfr,oscillate_gpd,how='inner')\n",
    "# osc_sfr = osc_sfr.dissolve('node_left')\n",
    "# osc_sfr"
   ]
  },
  {
   "cell_type": "code",
   "execution_count": null,
   "id": "dbcee825",
   "metadata": {},
   "outputs": [],
   "source": [
    "np.quantile(m.sfr.reach_data.strhc1,[0,0.5,0.75,1])"
   ]
  },
  {
   "cell_type": "code",
   "execution_count": null,
   "id": "cafd49a5",
   "metadata": {},
   "outputs": [],
   "source": [
    "osc_sfr.reach.values"
   ]
  },
  {
   "cell_type": "code",
   "execution_count": null,
   "id": "2e8daa25",
   "metadata": {},
   "outputs": [],
   "source": [
    "m.sfr.reach_data.strhc1[osc_sfr.reach.values]"
   ]
  },
  {
   "cell_type": "code",
   "execution_count": null,
   "id": "791dce42",
   "metadata": {},
   "outputs": [],
   "source": [
    "# shapefile rectangle of the area surrounding the Dam within about 5 cells\n",
    "zon_dam_gpd = gpd.read_file(gwfm_dir+'/Blodgett_Dam/geospatial/zon_bud_extent/zon_bud_extent.shp')\n",
    "grid_p = gpd.read_file(gwfm_dir+'/DIS_data/grid/grid.shp')\n",
    "\n",
    "zon_cells = gpd.sjoin(grid_p,zon_dam_gpd,how='right',op='within')\n",
    "# zon_cells = gpd.sjoin(grid_p,zon_dam_gpd) #includes more cells, including with high conductance\n",
    "\n",
    "# filter zone budget for Blodgett Dam to just within 5 cells or so of the Dam\n",
    "# zon_dam = np.zeros((m.dis.nrow,m.dis.ncol),dtype=int)\n",
    "zon_dam = np.zeros((grid_p.row.max(),grid_p.column.max()),dtype=int)\n",
    "\n",
    "zon_dam[zon_cells.row-1,zon_cells.column-1]=1\n",
    "\n",
    "zon_mod = np.ones((grid_p.row.max(),grid_p.column.max()),dtype=int)"
   ]
  },
  {
   "cell_type": "code",
   "execution_count": null,
   "id": "64886c81",
   "metadata": {},
   "outputs": [],
   "source": [
    "# idx can be (layer, row, column)\n",
    "\n",
    "zon_allk = np.repeat(np.arange(0,m.dis.nlay),len(zon_cells))\n",
    "zon_alli = np.tile((zon_cells.row-1).values,m.dis.nlay)\n",
    "zon_allj = np.tile((zon_cells.column-1).values,m.dis.nlay)\n",
    "zon_allkij = list(zip(zon_allk,zon_alli,zon_allj))\n",
    "\n",
    "dem_data = m.dis.top.array"
   ]
  },
  {
   "cell_type": "code",
   "execution_count": null,
   "id": "7159ae6a",
   "metadata": {},
   "outputs": [],
   "source": [
    "dt_ref"
   ]
  },
  {
   "cell_type": "code",
   "execution_count": null,
   "id": "b357d302",
   "metadata": {},
   "outputs": [],
   "source": [
    "event_dates = ['2019-01-01','2019-02-01','2019-03-01','2019-04-01','2019-05-01','2019-06-01']\n",
    "post_dates = ['2019-7-01','2019-8-01','2019-9-01','2019-10-01']\n",
    "event_spd = dt_ref.set_index('dt').loc[event_dates].values\n",
    "post_spd = dt_ref.set_index('dt').loc[post_dates].values"
   ]
  },
  {
   "cell_type": "code",
   "execution_count": null,
   "id": "38e251de",
   "metadata": {},
   "outputs": [],
   "source": [
    "zon_hd = hdobj.get_data(kstpkper=(0,0))\n",
    "zon_ts = hdobj.get_ts(idx=zon_allkij)"
   ]
  },
  {
   "cell_type": "code",
   "execution_count": null,
   "id": "99a236ea",
   "metadata": {},
   "outputs": [],
   "source": [
    "start_date = pd.to_datetime(m.dis.start_datetime)- np.ones(1).astype('timedelta64[D]')"
   ]
  },
  {
   "cell_type": "code",
   "execution_count": null,
   "id": "739e3d5e",
   "metadata": {},
   "outputs": [],
   "source": [
    "ts_df = pd.DataFrame(zon_ts, columns = ['totim']+zon_allkij)\n",
    "ts_df = ts_df.set_index('totim')\n",
    "ts_df.index =  start_date + ts_df.index.values.astype('timedelta64[D]')\n",
    "ts_df.mean(axis=1).plot()\n",
    "\n",
    "mean_dem = dem_data[(zon_cells.row-1).values,(zon_cells.column-1).values].mean()\n",
    "plt.plot([ts_df.index.min(), ts_df.index.max()],[mean_dem,mean_dem], label='Mean Ground Surface Elevation')\n",
    "\n",
    "plt.ylabel('Groundwater Elevation (m)')"
   ]
  },
  {
   "cell_type": "code",
   "execution_count": null,
   "id": "8ec198f4",
   "metadata": {},
   "outputs": [],
   "source": [
    "ts_long = ts_df.melt(ignore_index=False,value_name='head_m')\n",
    "\n",
    "ts_long = ts_long.reset_index().rename({'index':'Date'},axis=1)\n",
    "ts_long['k'] = ts_long.variable.str[0].values\n",
    "ts_long['i'] = ts_long.variable.str[1].values\n",
    "ts_long['j'] = ts_long.variable.str[2].values\n",
    "ts_long = ts_long.drop(['variable'],axis=1)\n",
    "# get hk to help sort head by region\n",
    "ts_long['hk'] = m.lpf.hk.array[ts_long.k,ts_long.i,ts_long.j]\n",
    "\n",
    "n = ts_long.hk.quantile([0.76]).values\n",
    "ts_long.loc[ts_long.hk.values<n,'facies'] = 'fine'\n",
    "ts_long.loc[ts_long.hk.values>=n,'facies'] = 'coarse'"
   ]
  },
  {
   "cell_type": "code",
   "execution_count": null,
   "id": "f2a0d841",
   "metadata": {},
   "outputs": [],
   "source": [
    "# ts_long.to_csv(plt_dir+'head_timeseries_'+model_nam+'.csv')\n",
    "# ts_setback"
   ]
  },
  {
   "cell_type": "code",
   "execution_count": null,
   "id": "610aa6d2",
   "metadata": {},
   "outputs": [],
   "source": [
    "sfr_ij = grid_sfr.loc[:,['row','column','z']]\n",
    "sfr_ij.row = (sfr_ij.row-1).astype(int)\n",
    "sfr_ij.column = (sfr_ij.column-1).astype(int)\n",
    "ts_long_sfr = ts_long.join(sfr_ij.set_index(['row','column']),on=['i','j'],how='inner')\n",
    "ts_long_sfr.loc[ts_long_sfr.k==0]"
   ]
  },
  {
   "cell_type": "code",
   "execution_count": null,
   "id": "a8c7b568",
   "metadata": {},
   "outputs": [],
   "source": [
    "fig,ax=plt.subplots()\n",
    "ts_lay_mean = ts_long.groupby(['k','Date'],as_index=False).mean()\n",
    "ts_lay_mean.set_index('k').loc[0].plot(x='Date',y='head_m',ax=ax,label='Historic')\n",
    "\n",
    "ts_lay_mean = ts_setback.groupby(['k','Date'],as_index=False).mean()\n",
    "ts_lay_mean.set_index('k').loc[0].plot(x='Date',y='head_m',ax=ax,label='Setback')"
   ]
  },
  {
   "cell_type": "code",
   "execution_count": null,
   "id": "b71dc7af",
   "metadata": {},
   "outputs": [],
   "source": [
    "levels = [-60, -40,-20,-10,0,10,20,30,40,60]\n",
    "\n",
    "fig,ax=plt.subplots(3,2,figsize=(12,12), sharex='col',sharey='row')\n",
    "fig.tight_layout()\n",
    "for n,plt_spd in enumerate(event_spd):\n",
    "    ax_n =ax[int(n/2), n% 2]\n",
    "\n",
    "    zon_hd = hdobj.get_data(kstpkper=plt_spd[0])\n",
    "#     im = ax_n.imshow(zon_hd[0,:,:], vmin=0,vmax=40, cmap='viridis')\n",
    "    mapview = flopy.plot.PlotMapView(model=m,ax=ax_n)\n",
    "    contour_set = mapview.contour_array(zon_hd[0,:,:], masked_values=[-999.99], levels=levels, ax=ax_n)\n",
    "#     contour_set = ax_n.contour(zon_hd[0,:,:], levels = levels,cmap='viridis')\n",
    "    ax_n.set_title(event_dates[n])\n",
    "hcb = plt.colorbar(contour_set, shrink = 0.5,ax=ax)\n",
    "hcb.set_label('Head (m)')\n",
    "ax[0,0].ticklabel_format(style='plain')\n",
    "\n",
    "# ax.clabel(contour_set, contour_set.levels[0::2], inline=True, fontsize=8)\n",
    "# fig.colorbar(im)"
   ]
  }
 ],
 "metadata": {
  "kernelspec": {
   "display_name": "Python 3 (ipykernel)",
   "language": "python",
   "name": "python3"
  },
  "language_info": {
   "codemirror_mode": {
    "name": "ipython",
    "version": 3
   },
   "file_extension": ".py",
   "mimetype": "text/x-python",
   "name": "python",
   "nbconvert_exporter": "python",
   "pygments_lexer": "ipython3",
   "version": "3.10.6"
  }
 },
 "nbformat": 4,
 "nbformat_minor": 5
}
