{
 "cells": [
  {
   "cell_type": "code",
   "execution_count": null,
   "id": "returning-appraisal",
   "metadata": {},
   "outputs": [],
   "source": [
    "# standard python utilities\n",
    "import os\n",
    "import sys\n",
    "import glob\n",
    "import pandas as pd\n",
    "import numpy as np\n",
    "import calendar\n",
    "import time\n",
    "\n",
    "# standard python plotting utilities\n",
    "import matplotlib as mpl\n",
    "import matplotlib.pyplot as plt\n",
    "import matplotlib.dates as mdates\n",
    "\n",
    "# standard geospatial python utilities\n",
    "import pyproj # for converting proj4string\n",
    "import shapely\n",
    "import geopandas as gpd\n",
    "# import rasterio\n",
    "\n",
    "# mapping utilities\n",
    "# import contextily as ctx\n",
    "from mpl_toolkits.axes_grid1.inset_locator import inset_axes\n",
    "from mpl_toolkits.axes_grid1.anchored_artists import AnchoredSizeBar\n",
    "import matplotlib.font_manager as fm\n",
    "from matplotlib.ticker import MaxNLocator\n",
    "\n",
    "import flopy\n",
    "import flopy.utils.binaryfile as bf\n"
   ]
  },
  {
   "cell_type": "code",
   "execution_count": null,
   "id": "7d6e74c8",
   "metadata": {},
   "outputs": [],
   "source": [
    "git_dir = os.getcwd()\n",
    "while os.path.basename(git_dir) != 'GitHub':\n",
    "    git_dir = os.path.dirname(git_dir)\n",
    "usr_dir = os.getcwd()\n",
    "while os.path.basename(usr_dir) != 'Users':\n",
    "    temp = os.path.basename(usr_dir)\n",
    "    usr_dir = os.path.dirname(usr_dir)\n",
    "usr_dir += '/'+temp\n",
    "\n",
    "py_dir = git_dir +'/CosumnesRiverRecharge/python_utilities/'\n",
    "## Set up directory referencing\n",
    "# Package data\n",
    "gwfm_dir = usr_dir+'/Box/research_cosumnes/GWFlowModel'\n",
    "plt_dir = gwfm_dir+'/Levee_setback/figures/'\n",
    "gwfm_dir\n"
   ]
  },
  {
   "cell_type": "markdown",
   "id": "26bf2408",
   "metadata": {},
   "source": [
    "## Pick model type to review\n",
    "RIV is the simple model with only SS assumptions about Blodgett Dam depth and area\n",
    "LAK is the complex model with interactive flow between the stream and Blodgett Dam"
   ]
  },
  {
   "cell_type": "code",
   "execution_count": null,
   "id": "a3ffcafa",
   "metadata": {},
   "outputs": [],
   "source": [
    "# model_type = 'RIV'\n",
    "# model_type = 'LAK'"
   ]
  },
  {
   "cell_type": "code",
   "execution_count": null,
   "id": "studied-tract",
   "metadata": {},
   "outputs": [],
   "source": [
    "# run_dir = 'C://WRDAPP/GWFlowModel'\n",
    "run_dir = 'F://WRDAPP/GWFlowModel'\n",
    "loadpth = run_dir +'/Cosumnes/levee_setback/streamflow/'\n",
    "\n",
    "runs = os.listdir(loadpth)\n",
    "# runs"
   ]
  },
  {
   "cell_type": "code",
   "execution_count": null,
   "id": "painful-spank",
   "metadata": {},
   "outputs": [],
   "source": [
    "# model_ws =loadpth+'/actual_200cfs'\n",
    "\n",
    "# i=0\n",
    "# os.listdir(loadpth+runs[i])\n",
    "# glob.glob(loadpth+runs[i]+'/*.nam')[0]\n",
    "# model_ws = loadpth+runs[i]\n",
    "\n",
    "model_ws = loadpth+'historical_streamflow'\n",
    "# model_ws = loadpth+'setback_streamflow'\n",
    "\n",
    "model_type = 'LAK'"
   ]
  },
  {
   "cell_type": "code",
   "execution_count": null,
   "id": "accepting-hudson",
   "metadata": {},
   "outputs": [],
   "source": [
    "\n",
    "m = flopy.modflow.Modflow.load('MF.nam', model_ws= model_ws, \n",
    "                                exe_name='MODFLOW-NWT.exe', version='mfnwt')\n",
    "# m = flopy.modflow.Modflow.load('MF.nam', model_ws= model_ws, \n",
    "#                                 exe_name='mf2005.exe', version='mf2005')"
   ]
  },
  {
   "cell_type": "code",
   "execution_count": null,
   "id": "646889ef",
   "metadata": {},
   "outputs": [],
   "source": [
    "strt_date = pd.to_datetime(m.dis.start_datetime)\n",
    "end_date = (strt_date + pd.Series(m.dis.nper-1).astype('timedelta64[D]'))[0]\n",
    "# dates = strt_date+(np.asarray(times)-1).astype('timedelta64[D]')\n"
   ]
  },
  {
   "cell_type": "code",
   "execution_count": null,
   "id": "05f93ffc",
   "metadata": {},
   "outputs": [],
   "source": [
    "# hk = m.lpf.hk.array\n",
    "# hk_limit = np.quantile(hk,0.87)\n",
    "# hk_high = np.zeros(hk.shape)\n",
    "# hk_high[hk>hk_limit]=1\n",
    "# hk_high[:,(m.lak.lakarr.array==1)[0,0,:,:]]+=2"
   ]
  },
  {
   "cell_type": "code",
   "execution_count": null,
   "id": "c5e607d8",
   "metadata": {},
   "outputs": [],
   "source": [
    "# for n in [0,1,5,8,12]:\n",
    "#     plt.imshow(hk_high[n])\n",
    "#     plt.show()\n"
   ]
  },
  {
   "cell_type": "code",
   "execution_count": null,
   "id": "biblical-mining",
   "metadata": {},
   "outputs": [],
   "source": [
    "sfr_dir = gwfm_dir+'/SFR_data/'\n",
    "grid_sfr = gpd.read_file(sfr_dir+'/final_grid_sfr/grid_sfr.shp')\n",
    "m_domain = gpd.read_file(gwfm_dir+'/DIS_data/NewModelDomain/GWModelDomain_52_9deg_UTM10N_WGS84.shp')\n"
   ]
  },
  {
   "cell_type": "code",
   "execution_count": null,
   "id": "002787b6",
   "metadata": {},
   "outputs": [],
   "source": [
    "# m.dis.nper # perlen, nstp, tsmult, start_datetime\n",
    "# num_days = np.cumsum(m.dis.perlen.array).astype('timedelta64[D]')\n",
    "# spd_dates = pd.to_datetime(m.dis.start_datetime) + num_days - np.ones(1).astype('timedelta64[D]')\n",
    "\n",
    "# m.dis.nstp.array\n",
    "# m.dis.tsmult.array"
   ]
  },
  {
   "cell_type": "code",
   "execution_count": null,
   "id": "cce7457f",
   "metadata": {},
   "outputs": [],
   "source": [
    "mcc_d = pd.read_csv(sfr_dir+'MCC_flow_obs_all.csv', parse_dates = ['DATE TIME'], index_col='DATE TIME')\n",
    "mcc_d = mcc_d[(mcc_d.index>strt_date)&(mcc_d.index<end_date)]\n"
   ]
  },
  {
   "cell_type": "code",
   "execution_count": null,
   "id": "87fe2263",
   "metadata": {},
   "outputs": [],
   "source": [
    "mb = pd.read_csv(model_ws+'/input_data/inflow.csv',parse_dates=['datetime'],index_col='datetime')\n"
   ]
  },
  {
   "cell_type": "code",
   "execution_count": null,
   "id": "enormous-surveillance",
   "metadata": {},
   "outputs": [],
   "source": [
    "pd_sfr = pd.DataFrame(grid_sfr.set_index(['row','column']).loc[:,['length_m','z']])\n",
    "pd_sfr['Total distance (m)'] = pd_sfr['length_m'].cumsum()\n",
    "\n",
    "def clean_sfr_df(model_ws):\n",
    "    sfrout = flopy.utils.SfrFile( model_ws+'/MF.sfr.out')\n",
    "    sfrdf = sfrout.get_dataframe()\n",
    "    sfrdf = sfrdf.join(dt_ref.set_index('kstpkper'), on='kstpkper')\n",
    "    \n",
    "    sfrdf_plot = pd_sfr.join(sfrdf.set_index(['row','column']),on=['row','column'],how='inner',lsuffix='_all')\n",
    "    # dependent on number of time steps\n",
    "    sfrdf_plot['Qin_cfs'] = sfrdf_plot.Qin /(0.3048**3)/86400\n",
    "    sfrdf_plot['Qaquifer_AF'] = sfrdf_plot.Qaquifer /(0.3048**3)/43560\n",
    "    sfrdf_plot = sfrdf_plot.set_index('dt')\n",
    "    return(sfrdf_plot)\n",
    "\n"
   ]
  },
  {
   "cell_type": "code",
   "execution_count": null,
   "id": "11f62872",
   "metadata": {},
   "outputs": [],
   "source": [
    "gage_file = glob.glob(model_ws+'/*.go')\n",
    "gage_file[0]"
   ]
  },
  {
   "cell_type": "code",
   "execution_count": null,
   "id": "506a7b39",
   "metadata": {},
   "outputs": [],
   "source": [
    "def read_gage_sfr(gage_file):\n",
    "    gage = pd.read_csv(gage_file, skiprows = 1, delimiter = r'\\s+', engine='python')\n",
    "    cols = gage.columns[1:]\n",
    "    gage = gage.dropna(axis=1)\n",
    "    gage.columns = cols\n",
    "    gage['Time'] = strt_date + (gage.Time.values-1).astype('timedelta64[D]')\n",
    "    gage = gage.set_index('Time')\n",
    "    gage = gage.resample('D').mean()\n",
    "    gage['flow_sim_cfs'] = gage['Flow']/((0.3048**3)*86400)\n",
    "    return(gage)\n",
    "\n",
    "mcc_out = read_gage_sfr(gage_file[0])"
   ]
  },
  {
   "cell_type": "code",
   "execution_count": null,
   "id": "062f4610",
   "metadata": {},
   "outputs": [],
   "source": [
    "mcc_plt = mcc_out.join(mcc_d)\n",
    "\n",
    "fig,ax=plt.subplots(figsize=(8,4))\n",
    "mcc_plt.plot(y='flow_sim_cfs',label='MCC Simulated',ax=ax)\n",
    "\n",
    "mcc_plt.plot(y='flow_cfs',label='MCC Observed',ax=ax, linestyle='--')\n",
    "\n",
    "# mb.plot(y='flow_cfs',label= 'MB Observed', ax=ax)\n",
    "# under simulating flow most likely because we don't have any runoff\n",
    "# adding uzf to remove excess recharge to stream would most likely bring up the peak flows"
   ]
  },
  {
   "cell_type": "code",
   "execution_count": null,
   "id": "bbded281",
   "metadata": {},
   "outputs": [],
   "source": []
  },
  {
   "cell_type": "code",
   "execution_count": null,
   "id": "3c4a0b84",
   "metadata": {},
   "outputs": [],
   "source": [
    "# gage file output\n",
    "#Option 0: Use standard default listing of time, stage, volume, and concentration.\n",
    "#Option 1: Default values plus all inflows to and outflows from lake (as volumes during time increment),\n",
    "#total lake conductance, and time-step budget error (percent).\n",
    "#Computed runoff from UZF and lake infiltration to UZF is added whenever the UZF Package is active \n",
    "# gage_cols = ['time','stage','volume','conc','inflows','outflows','conductance','error']"
   ]
  },
  {
   "cell_type": "code",
   "execution_count": null,
   "id": "b1c46a96",
   "metadata": {},
   "outputs": [],
   "source": [
    "def read_gage(run):\n",
    "    gagenam = loadpth+run+'/MF.gage1.go'\n",
    "    gage = pd.read_csv(gagenam,skiprows=1, delimiter = '\\s+', engine='python')\n",
    "    cols = gage.columns[1:-1]\n",
    "    gage = gage.dropna(axis=1)\n",
    "    gage.columns = cols\n",
    "    gage['name'] = run\n",
    "    # convert from m3/day to cfs\n",
    "    gage['Inflw_cfs'] = gage['SW-Inflw'] /(0.3048**3)/86400\n",
    "    gage['Outflw_cfs'] = gage['SW-Outflw'] /(0.3048**3)/86400\n",
    "    gage['Seepage_cfs']  = gage['GW-Outflw'] /(0.3048**3)/86400\n",
    "    gage['Time'] = strt_date + gage.Time.values.astype('timedelta64[D]')\n",
    "    gage = gage.set_index('Time')\n",
    "    return(gage)\n",
    "\n",
    "# historical_gage = read_gage('historical_streamflow')\n",
    "\n",
    "# for i in np.arange(1,len(runs[0:8])):\n",
    "#     go = read_gage(runs[i])\n",
    "#     gage = gage.append(go)\n"
   ]
  },
  {
   "cell_type": "code",
   "execution_count": null,
   "id": "4eec7955",
   "metadata": {},
   "outputs": [],
   "source": [
    "hdobj = flopy.utils.HeadFile(model_ws+'/MF.hds')\n",
    "spd_stp = hdobj.get_kstpkper()\n",
    "times = hdobj.get_times()\n",
    "# cbc = model_ws+'/MF.cbc'\n",
    "strt_date = pd.to_datetime(m.dis.start_datetime)\n",
    "dates = strt_date+(np.asarray(times)-1).astype('timedelta64[D]')\n",
    "\n",
    "dt_ref = pd.DataFrame(dates, columns=['dt'])\n",
    "dt_ref['kstpkper'] = spd_stp"
   ]
  },
  {
   "cell_type": "code",
   "execution_count": null,
   "id": "88490781",
   "metadata": {},
   "outputs": [],
   "source": [
    "setback_df = clean_sfr_df('setback_streamflow')\n",
    "historical_df = clean_sfr_df('historical_streamflow')\n",
    "\n",
    "setback_gage = read_gage('setback_streamflow')\n"
   ]
  },
  {
   "cell_type": "code",
   "execution_count": null,
   "id": "16926f2d",
   "metadata": {},
   "outputs": [],
   "source": [
    "historical_join = historical_df.loc[:,['Qin_cfs','Qaquifer_AF', 'depth','kstpkper','i','j']].\\\n",
    "    set_index(['kstpkper','i','j'])\n",
    "sfrdf_plot = setback_df.join(historical_join, on=['kstpkper','i','j'], rsuffix = '_historic',lsuffix='_setback')"
   ]
  },
  {
   "cell_type": "code",
   "execution_count": null,
   "id": "831af2b4",
   "metadata": {},
   "outputs": [],
   "source": [
    "sfrdf_plot['Qin_cfs_diff'] = sfrdf_plot.Qin_cfs_setback - sfrdf_plot.Qin_cfs_historic\n",
    "sfrdf_plot['Qaquifer_AF_diff'] = sfrdf_plot.Qaquifer_AF_setback - sfrdf_plot.Qaquifer_AF_historic\n",
    "sfrdf_plot['depth_diff'] = sfrdf_plot.depth_setback - sfrdf_plot.depth_historic"
   ]
  },
  {
   "cell_type": "code",
   "execution_count": null,
   "id": "473d2460",
   "metadata": {},
   "outputs": [],
   "source": [
    "sfrdf_plot.plot(y='Qaquifer_AF_historic')\n",
    "plt.ylabel('Seepage to Aquifer')"
   ]
  },
  {
   "cell_type": "markdown",
   "id": "97cf3a83",
   "metadata": {},
   "source": [
    "# Graphics for ISMAR 2022"
   ]
  },
  {
   "cell_type": "code",
   "execution_count": null,
   "id": "4bd1bcf0",
   "metadata": {},
   "outputs": [],
   "source": [
    "# start flow, before diversion, after diversion, after floodplain, midway to end, end\n",
    "segments2check = np.asarray([10,14, 15, 18,24])\n",
    "fig,ax=plt.subplots(len(segments2check),1,figsize=(10,8),sharex='col', sharey='col')\n",
    "fig.tight_layout()\n",
    "\n",
    "for i,nseg in enumerate(segments2check):\n",
    "    sfrdf_plot.loc[(sfrdf_plot.segment ==nseg)&(sfrdf_plot.reach==1)].plot(y='Qin_cfs_setback',ax=ax[i],\n",
    "                                                                         label='Setback',linestyle='-',legend=False)\n",
    "    sfrdf_plot.loc[(sfrdf_plot.segment ==nseg)&(sfrdf_plot.reach==1)].plot(y='Qin_cfs_historic',ax=ax[i],\n",
    "                                                                     label='Historic',linestyle='-',legend=False)\n",
    "    ax[i].set_title('Segment '+str(nseg))\n",
    "# sfrdf_plot.loc[(sfrdf_plot.segment ==nseg)&(sfrdf_plot.reach==1)].plot(y='Qin_cfs_diff',ax=ax[0],\n",
    "#                                                                      label=str(nseg),linestyle='--')\n",
    "ax[0].legend()\n",
    "ax[0].set_yscale(\"log\", base=10)\n",
    "\n",
    "# ax[0].set_xlim('2019-01-01','2019-07-01')\n",
    "fig.text(-0.02,0.3,'Streamflow (cfs)',rotation='vertical',size=16)\n",
    "plt.xlabel('Date',size=16)\n",
    "\n",
    "plt.savefig(plt_dir+'selected_streamflow_logscale.png',dpi=600,bbox_inches='tight')"
   ]
  },
  {
   "cell_type": "code",
   "execution_count": null,
   "id": "0f0615d6",
   "metadata": {},
   "outputs": [],
   "source": [
    "# start flow, before diversion, after diversion, after floodplain, midway to end, end\n",
    "segments2check = np.asarray([10, 14, 15, 18,24])\n",
    "fig,ax=plt.subplots(len(segments2check),1,figsize=(10,8),sharex='col',sharey='col')\n",
    "fig.tight_layout()\n",
    "\n",
    "for i,nseg in enumerate(segments2check):\n",
    "    sfrdf_plot.loc[(sfrdf_plot.segment ==nseg)&(sfrdf_plot.reach==1)].plot(y='Qin_cfs_setback',ax=ax[i],\n",
    "                                                                         label='Setback',linestyle='-',legend=False)\n",
    "    sfrdf_plot.loc[(sfrdf_plot.segment ==nseg)&(sfrdf_plot.reach==1)].plot(y='Qin_cfs_historic',ax=ax[i],\n",
    "                                                                     label='Historic',linestyle='-',legend=False)\n",
    "    ax[i].set_title('Segment '+str(nseg))\n",
    "# sfrdf_plot.loc[(sfrdf_plot.segment ==nseg)&(sfrdf_plot.reach==1)].plot(y='Qin_cfs_diff',ax=ax[0],\n",
    "#                                                                      label=str(nseg),linestyle='--')\n",
    "ax[0].legend()\n",
    "ax[0].set_xlim('2019-07-01','2019-11-01')\n",
    "# ax[0].set_ylim(0,200)\n",
    "ax[0].set_yscale(\"log\", base=10)\n",
    "fig.text(-0.05,0.4, 'Streamflow (cfs)', rotation='vertical',size=16)\n",
    "plt.xlabel('Date')"
   ]
  },
  {
   "cell_type": "code",
   "execution_count": null,
   "id": "a2823697",
   "metadata": {},
   "outputs": [],
   "source": [
    "fig,ax=plt.subplots(2,1,figsize=(10,8),sharex='col')\n",
    "fig.tight_layout()\n",
    "\n",
    "setback_gage.plot(y='Stage(H)',ax=ax[0],legend=False)\n",
    "ax[0].set_ylabel('Lake Stage (m)',size=16)\n",
    "# setback_gage.plot(y='Inflw_cfs',ax=ax[-2],label = 'Inflow')\n",
    "# ax[-2].set_ylabel('Lake Flow (cfs)')\n",
    "\n",
    "# setback_gage.plot(y='Outflw_cfs',ax=ax[-2],label = 'Outflow',linestyle='--')\n",
    "setback_gage.plot(y='Seepage_cfs',ax=ax[1],legend=False)\n",
    "ax[1].set_ylabel('Lake Seepage (cfs)',size=16)\n",
    "plt.xlabel('Date',size=16)\n",
    "\n",
    "plt.savefig(plt_dir+'lake_stage_seepage.png',dpi=600,bbox_inches='tight')\n",
    "\n"
   ]
  },
  {
   "cell_type": "code",
   "execution_count": null,
   "id": "7f9bcad7",
   "metadata": {},
   "outputs": [],
   "source": [
    "(setback_gage.Seepage_cfs*86400/43560).resample('AS-Oct').sum() # convert to cubic feet per day then into AF/day\n"
   ]
  },
  {
   "cell_type": "code",
   "execution_count": null,
   "id": "9b0a07d5",
   "metadata": {},
   "outputs": [],
   "source": [
    "event_dates = ['2019-01-01','2019-02-01','2019-03-01','2019-04-01','2019-05-01']\n",
    "post_dates = ['2019-7-01','2019-8-01','2019-9-01','2019-10-01','2019-11-01']\n",
    "# mon_dates = pd.date_range('2018-10-01','2019-09-30', freq='MS')\n",
    "\n",
    "mon_dates = pd.date_range('2016-10-01','2020-09-30', freq='MS')\n",
    "\n",
    "mon_dates"
   ]
  },
  {
   "cell_type": "code",
   "execution_count": null,
   "id": "cd03e895",
   "metadata": {},
   "outputs": [],
   "source": [
    "sfr_mon = sfrdf_plot.groupby(['segment','reach']).resample('MS').mean().drop(['segment','reach'],axis=1).reset_index()\n",
    "sfr_mon = sfr_mon.set_index('dt')\n",
    "\n",
    "sfr_mon.loc[sfr_mon.index=='2019-01-01'].plot(x='Total distance (m)',y='Qaquifer_AF_setback')"
   ]
  },
  {
   "cell_type": "code",
   "execution_count": null,
   "id": "fbbb8228",
   "metadata": {},
   "outputs": [],
   "source": [
    "# setback - historic\n",
    "sfrdf_plot.resample('AS-Oct').sum().loc[:,['Qaquifer_AF_setback','Qaquifer_AF_historic','Qaquifer_AF_diff']]"
   ]
  },
  {
   "cell_type": "code",
   "execution_count": null,
   "id": "4a5d6df3",
   "metadata": {},
   "outputs": [],
   "source": [
    "sfrdf_plot.resample('AS-Oct').mean().loc[:,['Qin_cfs_setback','Qin_cfs_historic','Qin_cfs_diff']]"
   ]
  },
  {
   "cell_type": "code",
   "execution_count": null,
   "id": "cd5ff151",
   "metadata": {},
   "outputs": [],
   "source": [
    "sfr_ann = sfrdf_plot.groupby(['segment','reach']).resample('AS-Oct').mean().drop(['segment','reach'],axis=1).reset_index()\n",
    "sfr_ann = sfr_ann.set_index('dt')\n",
    "\n",
    "fig,ax=plt.subplots(4,1,figsize=(10,8),sharex='col')\n",
    "for n,y in enumerate(pd.date_range('2016-10-01','2020-09-30',freq='AS-Oct')):\n",
    "    ax[n].set_title(str(y.year)+ ' Average')\n",
    "    sfr_ann.loc[y].plot(x='Total distance (m)',y='Qaquifer_AF_setback',ax=ax[n],legend=False,label='Setback')\n",
    "    sfr_ann.loc[y].plot(x='Total distance (m)',y='Qaquifer_AF_historic',ax=ax[n],legend=False,label='Historic')\n",
    "\n",
    "# sfr_ann\n",
    "ax[-1].set_xlabel('')\n",
    "ax[0].legend()\n",
    "fig.text(0.04,0.3,'Seepage to Aquifer (AF/day)', rotation='vertical',size=16)\n",
    "fig.text(0.3,0.04,'Distance downstream (m)', size=16)\n",
    "# plt.savefig(plt_dir+'annual_avg_strm_seepage_AF.png',dpi=600,bbox_inches='tight')"
   ]
  },
  {
   "cell_type": "code",
   "execution_count": null,
   "id": "d6f21834",
   "metadata": {},
   "outputs": [],
   "source": [
    "fig,ax=plt.subplots(int(len(mon_dates)/2),1,figsize=(8,8),sharex='col')\n",
    "fig.tight_layout()\n",
    "for n, plt_date in enumerate(mon_dates[0:6]):\n",
    "    ax_n = ax[n]\n",
    "#     sfrdf_plot.loc[sfrdf_plot.index==plt_date].plot(x='Total distance (m)',y='Qin_cfs_diff',ax=ax[-3],legend=False)\n",
    "#     sfr_mon.loc[sfr_mon.index==plt_date].plot(x='Total distance (m)',y='Qaquifer_AF_diff',ax=ax_n)\n",
    "    sfr_mon.loc[sfr_mon.index==plt_date].plot(x='Total distance (m)',y='Qaquifer_AF_setback',\n",
    "                                              ax=ax_n,legend=False,label='Setback')\n",
    "    sfr_mon.loc[sfr_mon.index==plt_date].plot(x='Total distance (m)',y='Qaquifer_AF_historic',\n",
    "                                              ax=ax_n,legend=False,label='Historic')\n",
    "\n",
    "\n",
    "    ax_n.set_title(plt_date)\n",
    "ax[0].legend()"
   ]
  },
  {
   "cell_type": "code",
   "execution_count": null,
   "id": "32dd79db",
   "metadata": {},
   "outputs": [],
   "source": [
    "fig,ax=plt.subplots(2,1,figsize=(18,6))\n",
    "# fig.tight_layout()\n",
    "for plt_date in event_dates:\n",
    "#     sfrdf_plot.loc[sfrdf_plot.index==plt_date].plot(x='Total distance (m)',y='Qin_cfs_diff',ax=ax[-3],legend=False)\n",
    "    sfr_mon.loc[sfr_mon.index==plt_date].plot(x='Total distance (m)',y='Qaquifer_AF_diff',ax=ax[0],label=plt_date)\n",
    "#     sfr_mon.loc[sfr_mon.index==plt_date].plot(x='Total distance (m)',y='Qaquifer_AF_diff',ax=ax[-1,0],label=plt_date)\n",
    "for plt_date in post_dates:  \n",
    "    sfr_mon.loc[sfr_mon.index==plt_date].plot(x='Total distance (m)',y='Qaquifer_AF_diff',ax=ax[1],label=plt_date)\n",
    "    \n",
    "fig.text(0,0.2, 'Difference in Aquifer Seepage (AF/day) \\nbetween Setback and Historic',size=16,rotation='vertical')\n",
    "# for plt_date in event_dates:\n",
    "# #     sfrdf_plot.loc[sfrdf_plot.index==plt_date].plot(x='Total distance (m)',y='Qin_cfs_diff',ax=ax[-3],legend=False)\n",
    "#     sfrdf_plot.loc[sfrdf_plot.index==plt_date].plot(x='Total distance (m)',y='Qaquifer_AF_diff',ax=ax[-2,0],label=plt_date)\n",
    "# for plt_date in post_dates:  \n",
    "#     sfrdf_plot.loc[sfrdf_plot.index==plt_date].plot(x='Total distance (m)',y='Qaquifer_AF_diff',ax=ax[-2,1],label=plt_date)"
   ]
  },
  {
   "cell_type": "code",
   "execution_count": null,
   "id": "lyric-allergy",
   "metadata": {},
   "outputs": [],
   "source": [
    "# temp = sfrdf_plot.loc[sfrdf_plot.name=='actual_0025cfs']\n",
    "# temp = temp.loc[(temp.segment>13)&(temp.segment<21)]\n",
    "# # temp.plot(x='Total distance (m)',y='Qin')\n",
    "# temp.plot(x='segment',y='Qin')"
   ]
  },
  {
   "cell_type": "code",
   "execution_count": null,
   "id": "swedish-guarantee",
   "metadata": {},
   "outputs": [],
   "source": [
    "# fig,ax=plt.subplots(2,1,figsize=(8,6),sharex=True)\n",
    "# for i in sfrdf_plot.name.unique():\n",
    "#     typ='-'\n",
    "#     if 'new' in i:\n",
    "#         typ='--'\n",
    "# #     elif 'actual' in i:\n",
    "# #         typ = '-*'\n",
    "#     sfrdf_plot.loc[sfrdf_plot.name==i].plot(ax=ax[0],x='Total distance (m)',y='Qin_cfs',label=i,legend=False, style=typ)\n",
    "#     sfrdf_plot.loc[sfrdf_plot.name==i].plot(ax=ax[1],x='Total distance (m)',y='Qaquifer_AF',label=i,legend=False, style=typ)\n",
    "\n",
    "# # plt.legend(orientation='horizontal')\n",
    "# ax[0].legend(loc=[0.1,1.05],ncol=3)\n",
    "# ax[0].set_ylabel('Discharge (cfs)')\n",
    "# ax[1].set_ylabel('Streambed seepage (AF/day)') #($m^3$/d)\n",
    "\n",
    "# plt.savefig(plt_dir+'/streamflow between scenarios '+model_type+'.png',dpi=600,bbox_inches='tight')"
   ]
  },
  {
   "cell_type": "code",
   "execution_count": null,
   "id": "surface-street",
   "metadata": {},
   "outputs": [],
   "source": [
    "\n",
    "# for flow in ['0025','0100']:\n",
    "#     fig,axes = plt.subplots(2,1,figsize=(8,8),sharex=True)\n",
    "\n",
    "#     ax=axes[0]\n",
    "#     flownam = '_'+flow+'cfs'\n",
    "#     if75 = (sfrdf_plot.name=='actual'+flownam) |(sfrdf_plot.name=='design'+flownam)|(sfrdf_plot.name=='new'+flownam)\n",
    "#     sfrdf_75 = sfrdf_plot.loc[if75]\n",
    "#     sfrdf_75_dam = sfrdf_75.loc[(sfrdf_75['Total distance (m)']>18600 ) &(sfrdf_75['Total distance (m)']<21000)]\n",
    "\n",
    "#     # sfrdf_75_dam.Qaquifer = sfrdf_75_dam.groupby('name').cumsum().Qaquifer\n",
    "#     sfrdf_75_dam.groupby('name').plot(x = 'Total distance (m)',y='Qaquifer',ax=ax)\n",
    "\n",
    "#     ax.legend(['Actual','Design','New'])\n",
    "#     ax.set_ylabel('$\\mathregular{Q_{aquifer}}$ ($m^3$/day)')\n",
    "\n",
    "#     ax.annotate(\"Blodgett Dam\", xy=(0.35, 0.3), xytext=(0.2,0.5), xycoords=\"axes fraction\",\n",
    "#                arrowprops=dict(arrowstyle=\"->\",\n",
    "#                                 connectionstyle=\"arc3\"))\n",
    "\n",
    "#     ax=axes[1]\n",
    "#     # filter out just 75 cfs scenario for comparison\n",
    "#     if75 = (sfrdf_plot.name=='actual'+flownam) |(sfrdf_plot.name=='design'+flownam)|(sfrdf_plot.name=='new'+flownam)\n",
    "#     sfrdf_75 = sfrdf_plot.loc[if75]\n",
    "#     sfrdf_75_dam = sfrdf_75.loc[(sfrdf_75['Total distance (m)']>18600 ) &(sfrdf_75['Total distance (m)']<21000)]\n",
    "\n",
    "#     # fig,ax = plt.subplots(figsize=(6,6))\n",
    "#     sfrdf_75_dam.Qaquifer = sfrdf_75_dam.groupby('name').cumsum().Qaquifer\n",
    "#     sfrdf_75_dam.groupby('name').plot(x = 'Total distance (m)',y='Qaquifer',ax=ax)\n",
    "\n",
    "#     ax.legend(['Actual','Design','New'])\n",
    "#     ax.set_ylabel('Cumulative Seepage ($m^3$/day)')\n",
    "#     ax.set_xlabel('Total Distance (m) \\n from Michigan Bar')\n",
    "\n",
    "#     ax.annotate(\"Blodgett Dam\", xy=(0.37, 0.3), xytext=(0.42,0.1), xycoords=\"axes fraction\",\n",
    "#                arrowprops=dict(arrowstyle=\"->\",\n",
    "#                                 connectionstyle=\"arc3\"))\n",
    "#     plt.savefig(plt_dir+'sfr stream seepage all'+flownam+'.png',dpi=600,bbox_inches='tight')"
   ]
  },
  {
   "cell_type": "code",
   "execution_count": null,
   "id": "forced-ultimate",
   "metadata": {},
   "outputs": [],
   "source": [
    "def calc_lak_out(C, n, slope, lak_stage, str_top, width):\n",
    "    # is either 1.486 for cfs or 1 for cms or 86400 for cmd\n",
    "    flow = (C/n)*width*(((lak_stage-str_top)*(2/3))**(5/3))*((slope)**(1/2))\n",
    "    return(flow)\n",
    "dam_str_top = 22.111436\n",
    "# dam_str_top = 21.92\n",
    "dam_slope = 0.0003\n",
    "# dam_slope = 0.0008\n",
    "dam = calc_lak_out(86400,0.048,dam_slope,22.594511, dam_str_top,20)\n",
    "\n",
    "s1 = (124.5-116.5)/(1000*6+500+750)\n",
    "s2 = (114.85-110.65)/(1000*4+559*2)\n",
    "s1,s2\n",
    "ex1 = calc_lak_out(C=1.486*86400,n = 0.05,slope = s2,lak_stage=118.10,str_top = 114.85,width=5)\n",
    "dam, ex1"
   ]
  },
  {
   "cell_type": "code",
   "execution_count": null,
   "id": "executive-pharmaceutical",
   "metadata": {},
   "outputs": [],
   "source": []
  }
 ],
 "metadata": {
  "kernelspec": {
   "display_name": "Python 3 (ipykernel)",
   "language": "python",
   "name": "python3"
  },
  "language_info": {
   "codemirror_mode": {
    "name": "ipython",
    "version": 3
   },
   "file_extension": ".py",
   "mimetype": "text/x-python",
   "name": "python",
   "nbconvert_exporter": "python",
   "pygments_lexer": "ipython3",
   "version": "3.7.11"
  }
 },
 "nbformat": 4,
 "nbformat_minor": 5
}
