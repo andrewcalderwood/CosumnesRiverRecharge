{
 "cells": [
  {
   "cell_type": "code",
   "execution_count": null,
   "id": "returning-appraisal",
   "metadata": {},
   "outputs": [],
   "source": [
    "# standard python utilities\n",
    "import os\n",
    "import sys\n",
    "import glob\n",
    "import pandas as pd\n",
    "import numpy as np\n",
    "import calendar\n",
    "import time\n",
    "\n",
    "# standard python plotting utilities\n",
    "import matplotlib as mpl\n",
    "import matplotlib.pyplot as plt\n",
    "import matplotlib.dates as mdates\n",
    "\n",
    "# standard geospatial python utilities\n",
    "import pyproj # for converting proj4string\n",
    "import shapely\n",
    "import geopandas as gpd\n",
    "# import rasterio\n",
    "\n",
    "# mapping utilities\n",
    "# import contextily as ctx\n",
    "from mpl_toolkits.axes_grid1.inset_locator import inset_axes\n",
    "from mpl_toolkits.axes_grid1.anchored_artists import AnchoredSizeBar\n",
    "import matplotlib.font_manager as fm\n",
    "from matplotlib.ticker import MaxNLocator\n",
    "\n",
    "import flopy\n",
    "import flopy.utils.binaryfile as bf\n"
   ]
  },
  {
   "cell_type": "code",
   "execution_count": null,
   "id": "7d6e74c8",
   "metadata": {},
   "outputs": [],
   "source": [
    "git_dir = os.getcwd()\n",
    "while os.path.basename(git_dir) != 'GitHub':\n",
    "    git_dir = os.path.dirname(git_dir)\n",
    "usr_dir = os.getcwd()\n",
    "while os.path.basename(usr_dir) != 'Users':\n",
    "    temp = os.path.basename(usr_dir)\n",
    "    usr_dir = os.path.dirname(usr_dir)\n",
    "usr_dir += '/'+temp\n",
    "\n",
    "py_dir = git_dir +'/CosumnesRiverRecharge/python_utilities/'\n",
    "## Set up directory referencing\n",
    "# Package data\n",
    "gwfm_dir = usr_dir+'/Box/research_cosumnes/GWFlowModel'\n",
    "plt_dir = gwfm_dir+'/Levee_setback/figures/'\n",
    "gwfm_dir\n"
   ]
  },
  {
   "cell_type": "markdown",
   "id": "26bf2408",
   "metadata": {},
   "source": [
    "## Pick model type to review\n",
    "RIV is the simple model with only SS assumptions about Blodgett Dam depth and area\n",
    "LAK is the complex model with interactive flow between the stream and Blodgett Dam"
   ]
  },
  {
   "cell_type": "code",
   "execution_count": null,
   "id": "a3ffcafa",
   "metadata": {},
   "outputs": [],
   "source": [
    "# model_type = 'RIV'\n",
    "# model_type = 'LAK'"
   ]
  },
  {
   "cell_type": "code",
   "execution_count": null,
   "id": "studied-tract",
   "metadata": {},
   "outputs": [],
   "source": [
    "# run_dir = 'C://WRDAPP/GWFlowModel'\n",
    "run_dir = 'F://WRDAPP/GWFlowModel'\n",
    "loadpth = run_dir +'/Cosumnes/levee_setback/streamflow/'\n",
    "\n",
    "runs = ['setback_streamflow','historical_streamflow']\n",
    "runs"
   ]
  },
  {
   "cell_type": "code",
   "execution_count": null,
   "id": "painful-spank",
   "metadata": {},
   "outputs": [],
   "source": [
    "# model_ws =loadpth+'/actual_200cfs'\n",
    "\n",
    "# i=0\n",
    "# os.listdir(loadpth+runs[i])\n",
    "# glob.glob(loadpth+runs[i]+'/*.nam')[0]\n",
    "# model_ws = loadpth+runs[i]\n",
    "# model_nam = 'setback_streamflow'\n",
    "model_nam = 'historical_streamflow'\n",
    "\n",
    "model_ws = loadpth+model_nam\n",
    "model_type = 'LAK'"
   ]
  },
  {
   "cell_type": "code",
   "execution_count": null,
   "id": "accepting-hudson",
   "metadata": {},
   "outputs": [],
   "source": [
    "\n",
    "m = flopy.modflow.Modflow.load('MF.nam', model_ws= model_ws, \n",
    "                                exe_name='mf-owhm.exe', version='mfnwt')\n",
    "# m = flopy.modflow.Modflow.load('MF.nam', model_ws= model_ws, \n",
    "#                                 exe_name='mf2005.exe', version='mf2005')"
   ]
  },
  {
   "cell_type": "code",
   "execution_count": null,
   "id": "biblical-mining",
   "metadata": {},
   "outputs": [],
   "source": [
    "sfr_dir = gwfm_dir+'/SFR_data/'\n",
    "grid_sfr = gpd.read_file(sfr_dir+'/final_grid_sfr/grid_sfr.shp')\n",
    "m_domain = gpd.read_file(gwfm_dir+'/DIS_data/NewModelDomain/GWModelDomain_52_9deg_UTM10N_WGS84.shp')\n"
   ]
  },
  {
   "cell_type": "code",
   "execution_count": null,
   "id": "f5549da7",
   "metadata": {},
   "outputs": [],
   "source": [
    "hdobj = flopy.utils.HeadFile(model_ws+'/MF.hds')\n",
    "spd_stp = hdobj.get_kstpkper()\n",
    "times = hdobj.get_times()\n",
    "# cbc = model_ws+'/MF.cbc'\n",
    "strt_date = pd.to_datetime(m.dis.start_datetime)\n",
    "dates = strt_date+(np.asarray(times)-1).astype('timedelta64[D]')\n",
    "\n",
    "dt_ref = pd.DataFrame(dates, columns=['dt'])\n",
    "dt_ref['kstpkper'] = spd_stp"
   ]
  },
  {
   "cell_type": "markdown",
   "id": "da210ba7",
   "metadata": {},
   "source": [
    "# Water budget processing"
   ]
  },
  {
   "cell_type": "code",
   "execution_count": null,
   "id": "faced-sellers",
   "metadata": {},
   "outputs": [],
   "source": [
    "def zone_clean_tr(cbc,zon,  kstpkper):\n",
    "    zb = flopy.utils.ZoneBudget(cbc, zon)\n",
    "    zb_df = zb.get_dataframes()\n",
    "    # # ungroup by timestep\n",
    "    zb_df = zb_df.reset_index()\n",
    "    names = zb_df.name.unique()\n",
    "    zb_df = zb_df.pivot(index = 'totim', columns = 'name',values = 'ZONE_1')\n",
    "\n",
    "    # # multiply by -1 to have pulled out of water balance on plot\n",
    "    zb_df.loc[:,zb_df.columns.str.contains('TO_')] *= -1\n",
    "    zb_df['delSTORAGE'] = zb_df.TO_STORAGE - zb_df.FROM_STORAGE\n",
    "    # create date index\n",
    "    zb_df['Date'] = pd.to_datetime(m.start_datetime)+zb_df.index.values.astype('timedelta64[D]')- np.ones(1).astype('timedelta64[D]')\n",
    "    zb_df = zb_df.set_index('Date')\n",
    "    return(zb_df)"
   ]
  },
  {
   "cell_type": "code",
   "execution_count": null,
   "id": "commercial-tower",
   "metadata": {},
   "outputs": [],
   "source": [
    "# shapefile rectangle of the area surrounding the Dam within about 5 cells\n",
    "zon_dam_gpd = gpd.read_file(gwfm_dir+'/Blodgett_Dam/geospatial/zon_bud_extent/zon_bud_extent.shp')\n",
    "grid_p = gpd.read_file(gwfm_dir+'/DIS_data/grid/grid.shp')\n",
    "\n",
    "zon_cells = gpd.sjoin(grid_p,zon_dam_gpd,how='right',op='within')\n",
    "# zon_cells = gpd.sjoin(grid_p,zon_dam_gpd) #includes more cells, including with high conductance\n",
    "\n",
    "# filter zone budget for Blodgett Dam to just within 5 cells or so of the Dam\n",
    "# zon_dam = np.zeros((m.dis.nrow,m.dis.ncol),dtype=int)\n",
    "zon_dam = np.zeros((grid_p.row.max(),grid_p.column.max()),dtype=int)\n",
    "\n",
    "zon_dam[zon_cells.row-1,zon_cells.column-1]=1\n",
    "\n",
    "zon_mod = np.ones((grid_p.row.max(),grid_p.column.max()),dtype=int)"
   ]
  },
  {
   "cell_type": "code",
   "execution_count": null,
   "id": "complete-freeware",
   "metadata": {},
   "outputs": [],
   "source": [
    "dam_cols = ['FROM_RECHARGE','FROM_STREAM_LEAKAGE', 'TO_WELLS',\n",
    "            'TO_STREAM_LEAKAGE','FROM_ZONE_0','TO_ZONE_0']\n",
    "all_cols = ['FROM_CONSTANT_HEAD', 'FROM_RECHARGE','FROM_HEAD_DEP_BOUNDS','FROM_STREAM_LEAKAGE',\n",
    "              'TO_CONSTANT_HEAD','TO_HEAD_DEP_BOUNDS', 'TO_WELLS','TO_STREAM_LEAKAGE']\n",
    "if model_nam =='setback_streamflow':\n",
    "    extra_cols = ['FROM_LAKE_SEEPAGE','TO_LAKE_SEEPAGE']\n",
    "    dam_cols = np.append(dam_cols,extra_cols)\n",
    "    all_cols = np.append(all_cols,extra_cols)\n",
    "# elif model_type == 'RIV':\n",
    "#     extra_cols = ['FROM_RIVER_LEAKAGE','TO_RIVER_LEAKAGE']\n",
    "\n",
    "\n",
    "\n",
    "zb_dam_all = pd.DataFrame(columns = dam_cols)\n",
    "zb_dam_all.index.name = 'name'\n",
    "zb_mod_all = pd.DataFrame(columns = all_cols)\n",
    "zb_mod_all.index.name = 'name'"
   ]
  },
  {
   "cell_type": "code",
   "execution_count": null,
   "id": "touched-establishment",
   "metadata": {},
   "outputs": [],
   "source": [
    "# load cbb file from any model scneario to get listing of kstpkper\n",
    "cbc = model_ws+'/MF.cbc'\n",
    "# zb = flopy.utils.ZoneBudget(cbc, zon_dam)\n",
    "# kstpkper = zb.kstpkper\n",
    "\n"
   ]
  },
  {
   "cell_type": "code",
   "execution_count": null,
   "id": "0b1bd8be",
   "metadata": {},
   "outputs": [],
   "source": [
    "zb_dam_df = zone_clean_tr(cbc,zon_dam,spd_stp)\n",
    "zb_mod_df = zone_clean_tr(cbc,zon_mod,spd_stp)\n"
   ]
  },
  {
   "cell_type": "code",
   "execution_count": null,
   "id": "54407cd7",
   "metadata": {},
   "outputs": [],
   "source": [
    "zb_dam_all = zb_dam_df.loc[:,dam_cols]\n",
    "zb_mod_all = zb_mod_df.loc[:,all_cols]"
   ]
  },
  {
   "cell_type": "code",
   "execution_count": null,
   "id": "bronze-smith",
   "metadata": {},
   "outputs": [],
   "source": [
    "# for i in np.arange(0,len(runs)):\n",
    "#     cbc = loadpth+runs[i]+'/MF.cbc'\n",
    "\n",
    "#     # cbc = m.model_ws+'/MF.cbc'\n",
    "#     # # using 0 indicates not in zone\n",
    "#     # zon = m.bas6.ibound[0,:,:]\n",
    "\n",
    "#     # # Create a ZoneBudget object and get the budget record array\n",
    "\n",
    "#     zb_df = zone_clean_tr(cbc,zon_dam, kstpkper)\n",
    "#     final_cols = zb_df.columns.join(dam_cols,how='inner')\n",
    "#     zb_dam_all = zb_dam_all.append(zb_df.loc[:,final_cols])\n",
    "\n",
    "#     zb_df = zone_clean_tr(cbc,zon_mod, kstpkper)\n",
    "#     final_cols = zb_df.columns.join(all_cols,how='inner')\n",
    "#     zb_mod_all = zb_mod_all.append(zb_df.loc[:,final_cols])"
   ]
  },
  {
   "cell_type": "code",
   "execution_count": null,
   "id": "supreme-oklahoma",
   "metadata": {},
   "outputs": [],
   "source": [
    "zon_color_dict = pd.read_csv(plt_dir+'mf_wb_color_dict.csv',header=0, index_col='flux',skiprows=1).color.to_dict()\n",
    "zon_name_dict = pd.read_csv(plt_dir+'mf_wb_color_dict.csv',header=0, index_col='flux',skiprows=1).name.to_dict()\n",
    "m3_2_AF = (1/0.3048**3)*(1/43560)"
   ]
  },
  {
   "cell_type": "markdown",
   "id": "8ec79264",
   "metadata": {},
   "source": [
    "## Local water budget"
   ]
  },
  {
   "cell_type": "code",
   "execution_count": null,
   "id": "26f4e712",
   "metadata": {},
   "outputs": [],
   "source": [
    "zb_dam_all_M = zb_dam_all.resample('M').mean()\n",
    "fig, ax = plt.subplots(figsize=(16,6))\n",
    "\n",
    "\n",
    "zb_dam_all_M.plot(y=dam_cols,\n",
    "           kind='bar',ax=ax, stacked = True,legend=False,\n",
    "               color=[zon_color_dict[x] for x in dam_cols], label = [zon_name_dict[x] for x in dam_cols])\n",
    "\n",
    "stor_plt =  zb_dam_df.resample('M').mean().delSTORAGE\n",
    "ax.plot(stor_plt.index.values, stor_plt.values)\n",
    "\n",
    "plt.ylabel('Flux (AF/day)')\n",
    "plt.legend(loc=(0.01,1.1),ncol=5)\n",
    "plt.savefig('monthly_local_WB_'+model_nam+'.png', dpi=600)"
   ]
  },
  {
   "cell_type": "code",
   "execution_count": null,
   "id": "4480084c",
   "metadata": {},
   "outputs": [],
   "source": [
    "# convert m3/day to AF/30 days\n",
    "# zb_dam_all_AF = zb_dam_all*m3_2_AF\n",
    "\n",
    "# fig, ax = plt.subplots(figsize=(16,6))\n",
    "# zb_dam_all_AF.plot(y=dam_cols,\n",
    "#            kind='bar',ax=ax, stacked = True,legend=False,\n",
    "#                color=[zon_color_dict[x] for x in dam_cols], label = [zon_name_dict[x] for x in dam_cols])\n",
    "# ax.xaxis.set_major_locator(mdates.MonthLocator())\n",
    "\n",
    "# plt.ylabel('Flux (AF/day)')\n",
    "# plt.legend(loc=(0.01,1.1),ncol=5)\n",
    "\n",
    "\n",
    "# plt.xlabel('Scenario')\n",
    "# plt.savefig(plt_dir+'/dam_all_AF_day.png',dpi=600,bbox_inches='tight')\n"
   ]
  },
  {
   "cell_type": "markdown",
   "id": "d23a4977",
   "metadata": {},
   "source": [
    "## Domain water budget"
   ]
  },
  {
   "cell_type": "code",
   "execution_count": null,
   "id": "89327e40",
   "metadata": {},
   "outputs": [],
   "source": [
    "zb_mod_all_M = zb_mod_all.resample('M').mean()\n",
    "fig, ax = plt.subplots(figsize=(16,6))\n",
    "\n",
    "zb_mod_all_M.plot(y=all_cols,\n",
    "           kind='bar',ax=ax, stacked = True,legend=False,\n",
    "               color=[zon_color_dict[x] for x in all_cols], label = [zon_name_dict[x] for x in all_cols])\n",
    "plt.ylabel('Flux (AF/day)')\n",
    "plt.legend(loc=(0.01,1.1),ncol=5)\n",
    "plt.savefig('monthly_domain_WB_'+model_nam+'.png', dpi=600)"
   ]
  },
  {
   "cell_type": "code",
   "execution_count": null,
   "id": "9a6d69b7",
   "metadata": {},
   "outputs": [],
   "source": [
    "# convert m3/day to AF/day\n",
    "# zb_mod_all_AF = zb_mod_all*m3_2_AF\n",
    "\n",
    "# fig, ax = plt.subplots(figsize=(16,6))\n",
    "# zb_mod_all_AF.plot(y=all_cols,\n",
    "#            kind='bar',ax=ax, stacked = True,\n",
    "#                color=[zon_color_dict[x] for x in all_cols], label = [zon_name_dict[x] for x in all_cols])\n",
    "\n",
    "# # clean up x axis so there are not as many dates\n",
    "# ax.xaxis.set_major_locator(mdates.MonthLocator())\n",
    "\n",
    "# plt.legend(loc=(0.0,1.1),ncol=5)\n",
    "# plt.ylabel('Flux (AF/day)')\n",
    "# plt.title('Water Budget for Entire Domain')\n",
    "\n",
    "\n",
    "# plt.savefig(plt_dir+'/domain_waterbudget_'+model_type+'_AF_day.png',dpi=600,bbox_inches='tight')"
   ]
  },
  {
   "cell_type": "markdown",
   "id": "later-square",
   "metadata": {},
   "source": [
    "## Annual sum water budget"
   ]
  },
  {
   "cell_type": "code",
   "execution_count": null,
   "id": "breeding-longer",
   "metadata": {},
   "outputs": [],
   "source": [
    "def annual_WB(zb_annual,unit, zon):\n",
    "    # if unit = AF convert units, else leave as m3\n",
    "    if unit == 'AF':\n",
    "        # ((1 ft/ 0.3048 m)^3) * (1 acre/43560 ft2)\n",
    "        zb_annual = zb_annual/((0.3048**3) *43560)\n",
    "    if zon == 'valley':\n",
    "        cols = [ 'FROM_RECHARGE', 'FROM_ZONE_0', 'TO_ZONE_0', 'TO_WELLS']        \n",
    "    elif zon == 'all':\n",
    "        cols = ['FROM_CONSTANT_HEAD', 'FROM_GHB', 'FROM_RECHARGE', 'TO_CONSTANT_HEAD', 'TO_GHB', 'TO_WELLS']\n",
    "\n",
    "    #fixes issues with line and bar plotting\n",
    "    zb_annual.index = zb_annual.index.astype(str)\n",
    "    \n",
    "    fig, ax = plt.subplots(figsize=(16,6))\n",
    "    # clean up x axis so there are not as many dates\n",
    "    # ax.xaxis.set_major_locator(mdates.MonthLocator())\n",
    "    zb_annual.plot(y=['dSTORAGE'],ax=ax, color = 'black')\n",
    "    # define columns to plot\n",
    "    \n",
    "    # plot acre ft instead of meters\n",
    "    zb_annual.plot(y= cols,\n",
    "               kind='bar',ax=ax, stacked = True)\n",
    "    plt.ylabel('Flux (ac-ft/year)')\n",
    "\n",
    "    zb_annual.plot(y=['SUM_dSTORAGE'],ax=ax, secondary_y = True,rot=90)\n",
    "    plt.xticks(rotation=90)\n",
    "    ax.yaxis.set_major_locator(MaxNLocator(5)) \n",
    "\n",
    "    plt.ylabel('Flux (ac-ft/year)')\n",
    "    plt.xlabel('Datetime')\n",
    "    plt.title('Water Budget for Butte Valley')\n",
    "    plt.savefig(m.model_ws+'/Plots/annualsum_WB_'+zon+'_'+unit+'.png',dpi=300,bbox_inches = 'tight')\n",
    "    zb_annual.to_csv(m.model_ws+'/Plots/annualsum_WB_'+zon+'_'+unit+'.csv')"
   ]
  },
  {
   "cell_type": "code",
   "execution_count": null,
   "id": "classified-shark",
   "metadata": {},
   "outputs": [],
   "source": [
    "annual_WB(zb_annual118,unit = 'AF',zon='valley')\n",
    "annual_WB(zb_annual,unit = 'AF',zon='all')"
   ]
  },
  {
   "cell_type": "code",
   "execution_count": null,
   "id": "executive-pharmaceutical",
   "metadata": {},
   "outputs": [],
   "source": []
  },
  {
   "cell_type": "code",
   "execution_count": null,
   "id": "sophisticated-shade",
   "metadata": {},
   "outputs": [],
   "source": [
    "def monthly_WB(zb_df,unit, zon, wy,name):\n",
    "    plt_strt = pd.to_datetime(str(wy-1)+'-10-01')\n",
    "    plt_end = pd.to_datetime(str(wy)+'-9-30')\n",
    "    zb_plot = zb_df.loc[(zb_df.index>plt_strt)&(zb_df.index<plt_end)]\n",
    "    zb_plot.index = zb_plot.index.astype(str)\n",
    "    # if unit = AF convert units, else leave as m3\n",
    "    if unit == 'AF':\n",
    "        # ((1 ft/ 0.3048 m)^3) * (1 acre/43560 ft2)\n",
    "        zb_plot = zb_plot/((0.3048**3) *43560)\n",
    "    if zon == 'valley':\n",
    "        cols = [ 'FROM_RECHARGE', 'FROM_ZONE_0', 'TO_ZONE_0', 'TO_WELLS']        \n",
    "    elif zon == 'all':\n",
    "        cols = ['FROM_CONSTANT_HEAD', 'FROM_GHB', 'FROM_RECHARGE', 'TO_CONSTANT_HEAD', 'TO_GHB', 'TO_WELLS']\n",
    "\n",
    "    #fixes issues with line and bar plotting\n",
    "    zb_plot.index = zb_plot.index.astype(str)\n",
    "    \n",
    "    fig, ax = plt.subplots(figsize=(16,6))\n",
    "    # clean up x axis so there are not as many dates\n",
    "    # ax.xaxis.set_major_locator(mdates.MonthLocator())\n",
    "    zb_plot.plot(y=['dSTORAGE'],ax=ax, color = 'black')\n",
    "    ax.hlines(y=0, xmin = -1, xmax = 100, color = 'black')\n",
    "\n",
    "    # plot acre ft instead of meters\n",
    "    zb_plot.plot(y= cols,\n",
    "               kind='bar',ax=ax, stacked = True)\n",
    "    plt.ylabel('Flux (ac-ft/month)')\n",
    "\n",
    "    zb_plot.plot(y=['SUM_dSTORAGE'],ax=ax, secondary_y = True,rot=90)\n",
    "    plt.xticks(rotation=90)\n",
    "    ax.yaxis.set_major_locator(MaxNLocator(5)) \n",
    "\n",
    "    plt.ylabel('Flux (ac-ft/month)')\n",
    "    plt.xlabel('Datetime')\n",
    "    plt.title('Water Budget for Butte Valley WY'+str(wy)+' - '+name+' Year' )\n",
    "    plt.savefig(m.model_ws+'/Plots/'+name+'_'+str(wy)+'monthlyWB_'+zon+'_'+unit+'.png',dpi=300,bbox_inches = 'tight')"
   ]
  },
  {
   "cell_type": "code",
   "execution_count": null,
   "id": "floppy-portrait",
   "metadata": {},
   "outputs": [],
   "source": [
    "monthly_WB(zb_df_mon,unit='AF', zon='all', wy=1999,name='Wet')\n",
    "monthly_WB(zb_df_mon,unit='AF', zon='all', wy=2005,name='Avg')\n",
    "monthly_WB(zb_df_mon,unit='AF', zon='all', wy=2014,name='Dry')"
   ]
  }
 ],
 "metadata": {
  "kernelspec": {
   "display_name": "Python 3 (ipykernel)",
   "language": "python",
   "name": "python3"
  },
  "language_info": {
   "codemirror_mode": {
    "name": "ipython",
    "version": 3
   },
   "file_extension": ".py",
   "mimetype": "text/x-python",
   "name": "python",
   "nbconvert_exporter": "python",
   "pygments_lexer": "ipython3",
   "version": "3.7.11"
  }
 },
 "nbformat": 4,
 "nbformat_minor": 5
}
