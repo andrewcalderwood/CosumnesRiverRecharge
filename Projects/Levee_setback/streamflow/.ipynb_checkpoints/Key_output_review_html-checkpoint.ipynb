{
 "cells": [
  {
   "cell_type": "code",
   "execution_count": null,
   "id": "returning-appraisal",
   "metadata": {},
   "outputs": [],
   "source": [
    "# standard python utilities\n",
    "import os\n",
    "from os.path import basename\n",
    "import sys\n",
    "from importlib import reload\n",
    "import glob\n",
    "import pandas as pd\n",
    "import numpy as np\n",
    "import calendar\n",
    "import time\n",
    "\n",
    "# standard python plotting utilities\n",
    "import matplotlib as mpl\n",
    "import matplotlib.pyplot as plt\n",
    "import matplotlib.dates as mdates\n",
    "\n",
    "# standard geospatial python utilities\n",
    "import pyproj # for converting proj4string\n",
    "import shapely\n",
    "import geopandas as gpd\n",
    "# import rasterio\n",
    "\n",
    "# mapping utilities\n",
    "import contextily as ctx\n",
    "from mpl_toolkits.axes_grid1.inset_locator import inset_axes\n",
    "from mpl_toolkits.axes_grid1.anchored_artists import AnchoredSizeBar\n",
    "import matplotlib.font_manager as fm\n",
    "from matplotlib.ticker import MaxNLocator\n",
    "\n",
    "import flopy\n",
    "import flopy.utils.binaryfile as bf\n"
   ]
  },
  {
   "cell_type": "code",
   "execution_count": null,
   "id": "7d6e74c8",
   "metadata": {},
   "outputs": [],
   "source": [
    "doc_dir = os.getcwd()\n",
    "while os.path.basename(doc_dir) != 'Documents':\n",
    "    doc_dir = os.path.dirname(doc_dir)\n",
    "    \n",
    "git_dir = os.getcwd()\n",
    "while os.path.basename(git_dir) != 'GitHub':\n",
    "    git_dir = os.path.dirname(git_dir)\n",
    "usr_dir = os.getcwd()\n",
    "while os.path.basename(usr_dir) != 'Users':\n",
    "    temp = os.path.basename(usr_dir)\n",
    "    usr_dir = os.path.dirname(usr_dir)\n",
    "usr_dir += '/'+temp\n",
    "\n",
    "py_dir = git_dir +'/CosumnesRiverRecharge/python_utilities/'\n",
    "## Set up directory referencing\n",
    "# Package data\n",
    "gwfm_dir = usr_dir+'/Box/research_cosumnes/GWFlowModel/'\n",
    "gwfm_dir\n",
    "bas_dir = gwfm_dir + 'BAS6/'\n",
    "proj_dir = gwfm_dir+'Levee_setback/'\n",
    "plt_dir = proj_dir+'figures/'\n"
   ]
  },
  {
   "cell_type": "markdown",
   "id": "26bf2408",
   "metadata": {},
   "source": [
    "## Pick model type to review\n",
    "RIV is the simple model with only SS assumptions about Blodgett Dam depth and area\n",
    "LAK is the complex model with interactive flow between the stream and Blodgett Dam"
   ]
  },
  {
   "cell_type": "code",
   "execution_count": null,
   "id": "studied-tract",
   "metadata": {},
   "outputs": [],
   "source": [
    "# run_dir = 'C://WRDAPP/GWFlowModel'\n",
    "run_dir = 'F://WRDAPP/GWFlowModel'\n",
    "loadpth = run_dir +'/Cosumnes/levee_setback/streamflow/'\n",
    "\n",
    "# runs = os.listdir(loadpth)\n",
    "# runs\n",
    "runs = ['setback_streamflow','historical_streamflow']\n"
   ]
  },
  {
   "cell_type": "code",
   "execution_count": null,
   "id": "painful-spank",
   "metadata": {},
   "outputs": [],
   "source": [
    "\n",
    "# model_nam = 'setback_streamflow'\n",
    "model_nam = 'historical_streamflow'\n",
    "\n",
    "\n",
    "model_ws = loadpth+model_nam\n"
   ]
  },
  {
   "cell_type": "code",
   "execution_count": null,
   "id": "accepting-hudson",
   "metadata": {},
   "outputs": [],
   "source": [
    "\n",
    "m = flopy.modflow.Modflow.load('MF.nam', model_ws= model_ws, \n",
    "                                exe_name='mf-owhm', version='mfnwt')\n",
    "\n",
    "# m_ss = flopy.modflow.Modflow.load('MF.nam', model_ws= loadpth+'historical_SS', \n",
    "#                                 exe_name='mf2005', version='mfnwt')"
   ]
  },
  {
   "cell_type": "code",
   "execution_count": null,
   "id": "biblical-mining",
   "metadata": {},
   "outputs": [],
   "source": [
    "sfr_dir = gwfm_dir+'/SFR_data/'\n",
    "grid_sfr = gpd.read_file(sfr_dir+'/final_grid_sfr/grid_sfr.shp')\n",
    "grid_sfr['Kz'] = m.sfr.reach_data.strhc1\n",
    "m_domain = gpd.read_file(gwfm_dir+'/DIS_data/NewModelDomain/GWModelDomain_52_9deg_UTM10N_WGS84.shp')\n",
    "grid_p = gpd.read_file(gwfm_dir+'/DIS_data/grid/grid.shp')\n",
    "grid_p['easting'] = grid_p.geometry.centroid.x\n",
    "grid_p['northing'] = grid_p.geometry.centroid.y\n",
    "\n",
    "lak_grid_clip = gpd.read_file(proj_dir+'lak_grid_clip/lak_grid_clip.shp')\n"
   ]
  },
  {
   "cell_type": "code",
   "execution_count": null,
   "id": "572390f1",
   "metadata": {},
   "outputs": [],
   "source": [
    "map_fxn_dir = doc_dir+'/GitHub/CosumnesRiverRecharge/python_utilities'\n",
    "if map_fxn_dir not in sys.path:\n",
    "    sys.path.append(map_fxn_dir)\n",
    "# sys.path\n",
    "from map_obs_plt import plt_bc_hk, plot_head_simple, plot_dtw_simple\n",
    "from map_cln import gdf_2_lims\n",
    "\n",
    "# from importlib import reload\n",
    "# # importlib.reload\n",
    "# reload(tc)"
   ]
  },
  {
   "cell_type": "markdown",
   "id": "12e40f29",
   "metadata": {},
   "source": [
    "# Head plots and contours"
   ]
  },
  {
   "cell_type": "code",
   "execution_count": null,
   "id": "1447162c",
   "metadata": {},
   "outputs": [],
   "source": [
    "hdobj = flopy.utils.HeadFile(model_ws+'/MF.hds')\n",
    "spd_stp = hdobj.get_kstpkper()\n",
    "times = hdobj.get_times()\n",
    "cbc = model_ws+'/MF.cbc'\n",
    "\n",
    "strt_date = pd.to_datetime(m.dis.start_datetime)\n",
    "dates = strt_date+(np.asarray(times)-1).astype('timedelta64[D]')\n",
    "\n",
    "dt_ref = pd.DataFrame(dates, columns=['dt'])\n",
    "dt_ref['kstpkper'] = spd_stp\n"
   ]
  },
  {
   "cell_type": "code",
   "execution_count": null,
   "id": "1935004e",
   "metadata": {},
   "outputs": [],
   "source": [
    "dt_ref.shape, m.rch.rech.array.shape, m.dis.nper, len(times)"
   ]
  },
  {
   "cell_type": "code",
   "execution_count": null,
   "id": "b72ba70e",
   "metadata": {},
   "outputs": [],
   "source": [
    "rech = m.rch.rech.array[:,0,:,:]\n",
    "rech_avg = pd.Series(rech.mean(axis=(1,2)))[1:]\n",
    "# rech_avg.index=dt_ref.dt[:-1]\n",
    "\n"
   ]
  },
  {
   "cell_type": "code",
   "execution_count": null,
   "id": "d8d6fe81",
   "metadata": {},
   "outputs": [],
   "source": [
    "storativity = np.array(pd.read_csv(model_ws+'/input_data/storativity.tsv', delimiter=' ',header=None))\n",
    "storativity = np.reshape(storativity, (m.dis.nlay, m.dis.nrow, m.dis.ncol))\n"
   ]
  },
  {
   "cell_type": "code",
   "execution_count": null,
   "id": "3783ed0e",
   "metadata": {},
   "outputs": [],
   "source": [
    "mf_tprogs_dir = gwfm_dir+'/UPW_data/tprogs_final/'\n",
    "tprogs_files = glob.glob(mf_tprogs_dir+'*')\n",
    "\n",
    "gel_dir = gwfm_dir+'/UPW_data'\n",
    "if 'ZonePropertiesInitial.csv' in os.listdir(model_ws):\n",
    "    print('exists')\n",
    "    params = pd.read_csv(model_ws+'/ZonePropertiesInitial.csv',index_col='Zone')\n",
    "else:\n",
    "    params = pd.read_csv(gel_dir+'/ZonePropertiesInitial.csv',index_col='Zone')\n",
    "    params.to_csv(model_ws+'/ZonePropertiesInitial.csv')\n",
    "# convert from m/s to m/d\n",
    "params['K_m_d'] = params.K_m_s * 86400    "
   ]
  },
  {
   "cell_type": "code",
   "execution_count": null,
   "id": "8008e1e9",
   "metadata": {},
   "outputs": [],
   "source": [
    "params.dropna()"
   ]
  },
  {
   "cell_type": "code",
   "execution_count": null,
   "id": "8ed239bf",
   "metadata": {},
   "outputs": [],
   "source": [
    "gel_nam = pd.Series(['LPF','UPW'])[pd.Series(['LPF','UPW']).isin(m.get_package_list())].values[0]\n",
    "gel = getattr(m,gel_nam)\n",
    "frac = [0, 0.582, 0.159, 0.203, 0.056]\n",
    "frac = np.cumsum(frac)\n",
    "print('Quantiles in flow package paramters')\n",
    "# print('TPROGs fractions/quantiles: ',frac)\n",
    "print('{:8}'.format('TPROGs'), list('{:10.2E}'.format(qn, '.2E') for qn in frac))\n",
    "for n in ['hk','vka','sy','ss']:\n",
    "    q = np.quantile(getattr(gel,n).array,frac)\n",
    "    print('{:8}'.format(n),  list('{:10.2E}'.format(qn, '.2E') for qn in q))\n",
    "# np.histogram?"
   ]
  },
  {
   "cell_type": "markdown",
   "id": "cc8659e4",
   "metadata": {},
   "source": [
    "# Water Budget"
   ]
  },
  {
   "cell_type": "code",
   "execution_count": null,
   "id": "9ca68837",
   "metadata": {},
   "outputs": [],
   "source": [
    "# shapefile rectangle of the area surrounding the Dam within about 5 cells\n",
    "zon_dam_gpd = gpd.read_file(gwfm_dir+'/Blodgett_Dam/geospatial/zon_bud_extent/zon_bud_extent.shp')\n",
    "\n",
    "zon_cells = gpd.sjoin(grid_p,zon_dam_gpd,how='right',op='within')\n",
    "# zon_cells = gpd.sjoin(grid_p,zon_dam_gpd) #includes more cells, including with high conductance\n",
    "\n",
    "# filter zone budget for Blodgett Dam to just within 5 cells or so of the Dam\n",
    "# zon_dam = np.zeros((m.dis.nrow,m.dis.ncol),dtype=int)\n",
    "zon_dam = np.zeros((grid_p.row.max(),grid_p.column.max()),dtype=int)\n",
    "\n",
    "zon_dam[zon_cells.row-1,zon_cells.column-1]=1\n",
    "\n",
    "zon_mod = np.ones((grid_p.row.max(),grid_p.column.max()),dtype=int)"
   ]
  },
  {
   "cell_type": "code",
   "execution_count": null,
   "id": "e850fbb2",
   "metadata": {},
   "outputs": [],
   "source": [
    "def zone_clean_tr(cbc,zon,  kstpkper):\n",
    "    zb = flopy.utils.ZoneBudget(cbc, zon)\n",
    "    zb_df = zb.get_dataframes()\n",
    "    # # ungroup by timestep\n",
    "    zb_df = zb_df.reset_index()\n",
    "    names = zb_df.name.unique()\n",
    "    zb_df = zb_df.pivot(index = 'totim', columns = 'name',values = 'ZONE_1')\n",
    "\n",
    "    # # multiply by -1 to have pulled out of water balance on plot\n",
    "    zb_df.loc[:,zb_df.columns.str.contains('TO_')] *= -1\n",
    "    zb_df['delSTORAGE'] = zb_df.TO_STORAGE - zb_df.FROM_STORAGE\n",
    "    # create date index\n",
    "    zb_df['Date'] = pd.to_datetime(m.start_datetime)+zb_df.index.values.astype('timedelta64[D]')- np.ones(1).astype('timedelta64[D]')\n",
    "    zb_df = zb_df.set_index('Date')\n",
    "    return(zb_df)"
   ]
  },
  {
   "cell_type": "code",
   "execution_count": null,
   "id": "1bde94e1",
   "metadata": {},
   "outputs": [],
   "source": [
    "dam_cols = ['FROM_RECHARGE','FROM_STREAM_LEAKAGE', 'TO_WELLS',\n",
    "            'TO_STREAM_LEAKAGE','FROM_ZONE_0','TO_ZONE_0']\n",
    "all_cols = ['FROM_CONSTANT_HEAD', 'FROM_RECHARGE','FROM_HEAD_DEP_BOUNDS','FROM_STREAM_LEAKAGE',\n",
    "              'TO_CONSTANT_HEAD','TO_HEAD_DEP_BOUNDS', 'TO_WELLS','TO_STREAM_LEAKAGE']\n",
    "if model_nam =='setback_streamflow':\n",
    "    extra_cols = ['FROM_LAKE_SEEPAGE','TO_LAKE_SEEPAGE']\n",
    "    dam_cols = np.append(dam_cols,extra_cols)\n",
    "    all_cols = np.append(all_cols,extra_cols)\n",
    "# elif model_type == 'RIV':\n",
    "#     extra_cols = ['FROM_RIVER_LEAKAGE','TO_RIVER_LEAKAGE']\n",
    "\n",
    "\n",
    "\n",
    "zb_dam_all = pd.DataFrame(columns = dam_cols)\n",
    "zb_dam_all.index.name = 'name'\n",
    "zb_mod_all = pd.DataFrame(columns = all_cols)\n",
    "zb_mod_all.index.name = 'name'"
   ]
  },
  {
   "cell_type": "code",
   "execution_count": null,
   "id": "155f5b9f",
   "metadata": {},
   "outputs": [],
   "source": [
    "zb_dam_df = zone_clean_tr(cbc,zon_dam,spd_stp)\n",
    "zb_mod_df = zone_clean_tr(cbc,zon_mod,spd_stp)\n"
   ]
  },
  {
   "cell_type": "code",
   "execution_count": null,
   "id": "8418032b",
   "metadata": {},
   "outputs": [],
   "source": [
    "zb_dam_all = zb_dam_df.loc[:,dam_cols]\n",
    "zb_mod_all = zb_mod_df.loc[:,all_cols]"
   ]
  },
  {
   "cell_type": "code",
   "execution_count": null,
   "id": "4cca88b6",
   "metadata": {},
   "outputs": [],
   "source": [
    "zon_color_dict = pd.read_csv(plt_dir+'mf_wb_color_dict.csv',header=0, index_col='flux',skiprows=1).color.to_dict()\n",
    "zon_name_dict = pd.read_csv(plt_dir+'mf_wb_color_dict.csv',header=0, index_col='flux',skiprows=1).name.to_dict()\n",
    "m3_2_AF = (1/0.3048**3)*(1/43560)"
   ]
  },
  {
   "cell_type": "markdown",
   "id": "79e087cd",
   "metadata": {},
   "source": [
    "## Domain water budget"
   ]
  },
  {
   "cell_type": "code",
   "execution_count": null,
   "id": "e1d907a1",
   "metadata": {},
   "outputs": [],
   "source": [
    "zb_mod_all_M = zb_mod_all.resample('M').mean()\n",
    "fig, ax = plt.subplots(figsize=(16,6))\n",
    "\n",
    "zb_mod_all_M.plot(y=all_cols,\n",
    "           kind='bar',ax=ax, stacked = True,legend=False,\n",
    "               color=[zon_color_dict[x] for x in all_cols], label = [zon_name_dict[x] for x in all_cols])\n",
    "plt.ylabel('Flux (AF/day)')\n",
    "plt.legend(loc=(0.01,1.1),ncol=5)\n",
    "plt.savefig('monthly_domain_WB_'+model_nam+'.png', dpi=600)"
   ]
  },
  {
   "cell_type": "markdown",
   "id": "1470709e",
   "metadata": {},
   "source": [
    "## Blodgett Dam area water budget"
   ]
  },
  {
   "cell_type": "code",
   "execution_count": null,
   "id": "ac014606",
   "metadata": {},
   "outputs": [],
   "source": [
    "zb_dam_all_M = zb_dam_all.resample('M').mean()\n",
    "fig, ax = plt.subplots(figsize=(16,6))\n",
    "\n",
    "\n",
    "zb_dam_all_M.plot(y=dam_cols,\n",
    "           kind='bar',ax=ax, stacked = True,legend=False,\n",
    "               color=[zon_color_dict[x] for x in dam_cols], label = [zon_name_dict[x] for x in dam_cols])\n",
    "\n",
    "stor_plt =  zb_dam_df.resample('M').mean().delSTORAGE\n",
    "ax.plot(stor_plt.index.values, stor_plt.values)\n",
    "\n",
    "plt.ylabel('Flux (AF/day)')\n",
    "plt.legend(loc=(0.01,1.1),ncol=5)\n",
    "plt.savefig('monthly_local_WB_'+model_nam+'.png', dpi=600)"
   ]
  },
  {
   "cell_type": "markdown",
   "id": "48093ab7",
   "metadata": {},
   "source": [
    "# Sim vs Obs Head\n"
   ]
  },
  {
   "cell_type": "code",
   "execution_count": null,
   "id": "26aa916a",
   "metadata": {},
   "outputs": [],
   "source": [
    "hobout = pd.read_csv(model_ws+'/MF.hob.out',delimiter=r'\\s+', header = 0,names = ['sim_val','WSE','obs_nam'],\n",
    "                     dtype = {'sim_val':float,'obs_val':float,'obs_nam':object},\n",
    "                    na_values=[-9999.])\n",
    "# if only one obs exists correct naming convention\n",
    "one_obs = ~hobout.obs_nam.str.contains('.0')\n",
    "hobout.loc[one_obs,'obs_nam'] = hobout.loc[one_obs,'obs_nam']+'.'+str(1).zfill(5)"
   ]
  },
  {
   "cell_type": "code",
   "execution_count": null,
   "id": "1a36465e",
   "metadata": {},
   "outputs": [],
   "source": [
    "fig, ax = plt.subplots(2,1,figsize=(10,8))\n",
    "\n",
    "# get boundary values for plotting a 1:1\n",
    "hobmax = hobout.loc[:,['sim_val','WSE']].max().min()\n",
    "hobmin = hobout.loc[:,['sim_val','WSE']].min().max()\n",
    "\n",
    "# plot observed vs simulated values\n",
    "hobout.plot.scatter(x='sim_val',y='WSE',marker='.',ax=ax[0])\n",
    "ax[0].plot([hobmin,hobmax],[hobmin,hobmax],'red')\n",
    "ax[0].set_ylabel('Observed Values (m)')\n",
    "ax[0].set_xlabel('Simulated Values (m)')\n",
    "\n",
    "hobout.plot.scatter(x='sim_val',y='WSE',marker='.',ax=ax[1])\n",
    "ax[1].set_xlim(-40,100)\n",
    "\n",
    "# plot 1:1 line\n",
    "ax[1].plot([hobmin,hobmax],[hobmin,hobmax],'red')\n",
    "\n",
    "plt.ylabel('Observed Values (m)')\n",
    "plt.xlabel('Simulated Values (m)')\n",
    "\n",
    "fig_nam = plt_dir+'GSP_WaterBudget/sim_vs_obs_heads'\n",
    "\n",
    "# plt.savefig(fig_nam+'.png',dpi=600,bbox_inches='tight')\n",
    "# plt.savefig(fig_nam+'.svg',dpi=600,bbox_inches='tight')"
   ]
  },
  {
   "cell_type": "code",
   "execution_count": null,
   "id": "0c9b1e69",
   "metadata": {},
   "outputs": [],
   "source": [
    "def mak_hob_gpd(hobout):\n",
    "    all_obs = pd.read_csv(model_ws+'/input_data/all_obs_grid_prepared.csv',index_col=0)\n",
    "    all_obs.index = all_obs.index.rename('MSMT_DATE')\n",
    "    all_obs = all_obs.reset_index()\n",
    "    # join more indepth obs data to output simulated heads\n",
    "    obs_data = hobout.join(all_obs.set_index('obs_nam'),on=['obs_nam'])\n",
    "    obs_data = obs_data.dropna(subset=['node'])\n",
    "    obs_data.loc[:,['row','column','node']] = obs_data.loc[:,['row','column','node']].astype(int)\n",
    "\n",
    "    # obs_data.index = obs_data.index\n",
    "    obs_grid = obs_data.join(grid_p.set_index(['row','column']).loc[:,['easting','northing']], \n",
    "                             on=['row','column'])\n",
    "    # # convert back to geospatial\n",
    "    hob_gpd = gpd.GeoDataFrame(obs_grid, geometry = gpd.points_from_xy(obs_grid.easting, obs_grid.northing))\n",
    "    hob_gpd['error'] = hob_gpd.WSE - hob_gpd.sim_val\n",
    "    hob_gpd['abs_error'] = hob_gpd.error.abs()\n",
    "    \n",
    "    if 'MSMT_DATE' in hob_gpd.columns:\n",
    "        hob_gpd = hob_gpd.set_index('MSMT_DATE')\n",
    "        hob_gpd.index = pd.to_datetime(hob_gpd.index)    \n",
    "        #     groupby values by season\n",
    "        hob_gpd.loc[(hob_gpd.index.month > 2)&(hob_gpd.index.month < 6),'season'] = 'spring'\n",
    "        hob_gpd.loc[(hob_gpd.index.month > 8)&(hob_gpd.index.month < 12),'season'] = 'fall'\n",
    "    \n",
    "    return(hob_gpd)\n",
    "    # set date\n",
    "    \n"
   ]
  },
  {
   "cell_type": "code",
   "execution_count": null,
   "id": "c41b055e",
   "metadata": {},
   "outputs": [],
   "source": [
    "hob_gpd = mak_hob_gpd(hobout)\n",
    "\n",
    "hob_seasonal = hob_gpd.groupby(['node','season']).mean()\n",
    "hob_seasonal = gpd.GeoDataFrame(hob_seasonal, geometry = gpd.points_from_xy(hob_seasonal.easting, hob_seasonal.northing))\n",
    "hob_seasonal = hob_seasonal.reset_index()\n",
    "    \n"
   ]
  },
  {
   "cell_type": "code",
   "execution_count": null,
   "id": "6b2dd30e",
   "metadata": {},
   "outputs": [],
   "source": [
    "hob_gpd['Statistic'] = 0.01\n",
    "hob_gpd['StatFlag'] = 'SD'\n",
    "# locations with significant difference between RPE GSE and the DEM should have additional uncertainty included\n",
    "hob_gpd['Statistic'] += np.round(np.abs(hob_gpd.dem_wlm_gse),4)\n",
    "hob_gpd['Weight'] = 1/(hob_gpd.Statistic**2)\n",
    "\n",
    "soswr = (np.sum(np.abs(hob_gpd.sim_val-hob_gpd.WSE)*hob_gpd.Weight))\n",
    "print('Sum of absolute difference of OBS and SIM: %.2e' %soswr)"
   ]
  },
  {
   "cell_type": "code",
   "execution_count": null,
   "id": "0f625992",
   "metadata": {},
   "outputs": [],
   "source": [
    "# convert pumping to array\n",
    "pump = np.zeros((m.dis.nper,m.dis.nrow,m.dis.ncol))\n",
    "for n in np.arange(0,m.dis.nper):\n",
    "    wel_n = m.wel.stress_period_data[n]\n",
    "    pump[n, wel_n.i, wel_n.j] += wel_n.flux*-1\n",
    "pump_rate = pump/(m.dis.delr[0]*m.dis.delc[0])"
   ]
  },
  {
   "cell_type": "code",
   "execution_count": null,
   "id": "70c736d4",
   "metadata": {},
   "outputs": [],
   "source": [
    "import contextily as ctx\n",
    "\n",
    "def background_plt(ax, arr):\n",
    "    ''' Plot Array data over background map data'''\n",
    "    mapview = flopy.plot.PlotMapView(model=m,ax=ax)\n",
    "\n",
    "    csa = mapview.plot_array(arr, ax=ax, alpha = 0.6) #norm=mpl.colors.LogNorm(),\n",
    "    cb = plt.colorbar(csa, shrink=0.3,ax=ax)\n",
    "    \n",
    "    # hob_gpd[hob_gpd.node.isin(nodes2chk)].plot('node', ax=ax, legend=True)\n",
    "    hob_gpd[hob_gpd.node.isin(nodes2chk)].plot('SITE_CODE', ax=ax, legend=False, legend_kwds={'loc':(1.2,0.4)})\n",
    "\n",
    "    grid_sfr.plot('Kz', ax=ax,legend=False, \n",
    "                  norm=mpl.colors.LogNorm(vmin=grid_sfr.Kz.min(), vmax=grid_sfr.Kz.max()),\n",
    "                  legend_kwds={'shrink':0.8})\n",
    "    ctx.add_basemap(ax=ax, crs='epsg:32610', alpha = 0.6,\n",
    "                    source = ctx.providers.Esri.WorldImagery, attribution=False)\n",
    "    return(mapview)\n",
    "\n",
    "# nodes2chk = [11084, 10383,10161,9290,8437,6564,14626,15314,6085,13407,10384,16614,20285]\n",
    "nodes2chk = [11218,8437,16963,9580,5056,15343,14626,15314] # nodes with obs avg well below simulated\n",
    "# nodes2chk = [9290,22825, 11218] # nodes without overly large 2017 fluctuations\n",
    "\n",
    "fig,ax0=plt.subplots(1,2, figsize=(10,10))\n",
    "\n",
    "ax = ax0[0]\n",
    "ax.set_title('Pumping Avg 2017')\n",
    "mapview = background_plt(ax=ax0[0], arr = (pump_rate[1:365,:,:].mean(axis=0)))\n",
    "\n",
    "ax = ax0[1]\n",
    "ax.set_title('Recharge Avg 2017')\n",
    "mapview = background_plt(ax=ax0[1], arr = m.rch.rech.array[1:365,0,:,:].mean(axis=0))\n",
    "\n",
    "\n",
    "fig.tight_layout()"
   ]
  },
  {
   "cell_type": "code",
   "execution_count": null,
   "id": "9c09b287",
   "metadata": {},
   "outputs": [],
   "source": [
    "fig,ax=plt.subplots(figsize=(8, 8))\n",
    "# m = m_ss\n",
    "m_domain.plot(ax=ax,color='None')\n",
    "mapview = flopy.plot.PlotMapView(model=m,ax=ax)\n",
    "a = gel.hk.array\n",
    "\n",
    "csa = mapview.plot_array(a[0,:,:], norm=mpl.colors.LogNorm())\n",
    "cb = plt.colorbar(csa, shrink=0.75,ax=ax)\n",
    "cb.set_label('Horiz. Cond. (m/d)')\n",
    "\n",
    "# hob_gpd.plot('error',scheme='EqualInterval', k= 6, ax=ax,legend=True,cmap='magma')\n",
    "hob_gpd.plot('error',markersize='abs_error',scheme='Quantiles', k = 6, ax=ax,\n",
    "                  legend=True,cmap='bwr',legend_kwds={'loc':(1.1,0.9),'title':'Error (Obs - Sim)'})\n",
    "# hob_gpd.apply(lambda x: ax.annotate(str(x.node), xy=x.geometry.centroid.coords[0], ha='right'),axis=1);\n",
    "hob_gpd.apply(lambda x: ax.annotate(str(x.node), xy=list(x.geometry.coords)[0], ha='right'),axis=1);\n",
    "\n",
    "grid_sfr.plot(ax=ax,color='black')\n",
    "# ax.legend(loc=(1,0.5))"
   ]
  },
  {
   "cell_type": "code",
   "execution_count": null,
   "id": "a390bc38",
   "metadata": {},
   "outputs": [],
   "source": [
    "nodes2chk = [202825, 12944, 6085, 14626, 6564, 9580, 8437, 21451, 10384, 13407, 946] # not enough fluctuations\n",
    "\n",
    "# nodes2chk = [22825, 12944, 6085, 14626, 6564, 9580, 8437] # not enough fluctuations\n",
    "# nodes2chk = [10165, 9290, 10161, 11084, 11078, 10383] # fluctuate well, near river, shallow (6 from CRP)\n",
    "chk = hob_gpd[hob_gpd.node.isin(nodes2chk)]\n",
    "\n"
   ]
  },
  {
   "cell_type": "code",
   "execution_count": null,
   "id": "661ef134",
   "metadata": {},
   "outputs": [],
   "source": [
    "ss_chk = m.lpf.ss.array[chk.layer.astype(int), chk.row.astype(int), chk.column.astype(int)]\n",
    "hk_chk = m.lpf.hk.array[chk.layer.astype(int), chk.row.astype(int), chk.column.astype(int)]\n",
    "# hk_chk"
   ]
  },
  {
   "cell_type": "code",
   "execution_count": null,
   "id": "213a59b1",
   "metadata": {},
   "outputs": [],
   "source": [
    "hob_gpd[hob_gpd.node.isin(nodes2chk)].columns\n",
    "hob_gpd[hob_gpd.node.isin(nodes2chk)].groupby('SITE_CODE').mean()"
   ]
  },
  {
   "cell_type": "code",
   "execution_count": null,
   "id": "0ce1b177",
   "metadata": {},
   "outputs": [],
   "source": [
    "hdobj = flopy.utils.HeadFile(model_ws+'/MF.hds')\n",
    "spd_stp = hdobj.get_kstpkper()\n",
    "times = hdobj.get_times()\n",
    "cbc = model_ws+'/MF.cbc'\n",
    "\n",
    "hobout = pd.read_csv(model_ws+'/MF.hob.out',delimiter=r'\\s+', header = 0,names = ['sim_val','WSE','obs_nam'],\n",
    "                     dtype = {'sim_val':float,'obs_val':float,'obs_nam':object},\n",
    "                    na_values=[-9999.])\n",
    "# if only one obs exists correct naming convention\n",
    "one_obs = ~hobout.obs_nam.str.contains('.0')\n",
    "hobout.loc[one_obs,'obs_nam'] = hobout.loc[one_obs,'obs_nam']+'.'+str(1).zfill(5)\n",
    "\n",
    "hob_gpd = mak_hob_gpd(hobout)\n",
    "\n",
    "# find sites with long time series of OBS\n",
    "hobs_long = (hob_gpd.groupby('SITE_CODE').count()>=int(m.dis.nper/365)*2)\n",
    "hobs_long = hobs_long.index[hobs_long.WSE].values\n",
    "# hobs_long.shape\n",
    "# get layer, row, column for extracting time series head data\n",
    "hob_kij = hob_gpd.drop_duplicates('node')[['node','layer','row','column']]\n",
    "hob_kij['kij'] = list(hob_kij[['layer','row','column']].astype(int).itertuples(index=False,name=None)) #hob_ts\n"
   ]
  },
  {
   "cell_type": "code",
   "execution_count": null,
   "id": "cef7b397",
   "metadata": {},
   "outputs": [],
   "source": [
    "\n",
    "voi = hob_gpd[hob_gpd.SITE_CODE.isin(hobs_long)].node.unique()\n",
    "# def obs_sim_node(voi):\n",
    "ny = 3\n",
    "nx = int(np.ceil(len(voi)/ny))\n",
    "fig,ax=plt.subplots(nx,ny,figsize=(12,3*nx))\n",
    "for i,voi_n in enumerate(voi):\n",
    "    ax_n = ax[int(i / ny), i % ny] if (nx > 1) else ax[i]\n",
    "    hob_n = hob_gpd[hob_gpd.node==voi_n]\n",
    "    hob_n.reset_index().plot(x='MSMT_DATE',y='WSE',kind='scatter', ax=ax_n,\n",
    "                                                  marker='x', s=40, label = 'Observed')\n",
    "    hob_n.reset_index().plot(x='MSMT_DATE',y='sim_val',kind='scatter', ax=ax_n, \n",
    "                                                  marker='o', s=40,label='Simulated')\n",
    "    # add time series of simulated data to see true peaks\n",
    "    ts_i = pd.DataFrame(hdobj.get_ts(hob_kij[hob_kij.node==voi_n].kij.values[0]),columns=['spd','sim_val']) \n",
    "    ts_i['dt'] = dt_ref.dt\n",
    "    ts_i.plot(x='dt',y='sim_val', ax=ax_n, legend=False)\n",
    "\n",
    "    ax_n.set_xlabel('')\n",
    "    ax_n.set_ylabel('')\n",
    "    S_n = format(storativity[hob_n.layer.iloc[0],hob_n.row.iloc[0],hob_n.column.iloc[0]],'.1e')\n",
    "    K_n = format(m.lpf.hk.array[hob_n.layer.iloc[0],hob_n.row.iloc[0],hob_n.column.iloc[0]], '.1e')\n",
    "\n",
    "    ax_n.set_title(str(voi_n)+' K'+K_n+' S'+S_n+'\\n'+hob_n.SITE_CODE.iloc[0])\n",
    "ax_n.legend()\n",
    "fig.text(-0.03, 0.2, 'Head (m)',rotation='vertical',size=26)\n",
    "fig.text(0.35, -0.05, 'Date',size=26)\n",
    "fig.tight_layout()\n"
   ]
  },
  {
   "cell_type": "code",
   "execution_count": null,
   "id": "cb9eebf8",
   "metadata": {},
   "outputs": [],
   "source": [
    "hdobj.get_kstpkper()"
   ]
  },
  {
   "cell_type": "code",
   "execution_count": null,
   "id": "2909db9e",
   "metadata": {},
   "outputs": [],
   "source": [
    "# hdobj.get_data(spd_stp[1:365])\n",
    "# hdobj.get_data?\n",
    "# lets plot fall and spring or just spring for the 4 years\n",
    "plt_dt = dt_ref.set_index('dt').resample('AS-OCT').first()\n",
    "\n",
    "ny = 2\n",
    "nx = int(np.ceil(len(plt_dt)/ny))\n",
    "fig,ax=plt.subplots(nx,ny,figsize=(12,4*nx), sharex=True, sharey=True)\n",
    "# plt_bc_hk(m, ax, hk=False)\n",
    "\n",
    "for i in np.arange(0,len(plt_dt)):\n",
    "    ax_n = ax[int(i / ny), i % ny] if (nx > 1) else ax[i]\n",
    "    ax_n.set_aspect(1)\n",
    "    plot_head_simple(m, hdobj, cbc, plt_dt.kstpkper[i], plt_dt.index[i], 'MF',ax=ax_n,units='m')\n",
    "fig.tight_layout()"
   ]
  },
  {
   "cell_type": "code",
   "execution_count": null,
   "id": "c3488cd2",
   "metadata": {},
   "outputs": [],
   "source": [
    "# def plot_head_simple(model, hdobj, cbb, spd_stp,time, name, ax,units):\n",
    "#     hd_step = 5\n",
    "#     if units =='ft':\n",
    "#         fact = 0.3048\n",
    "#     elif units== 'm':\n",
    "#         fact=1\n",
    "#     head = hdobj.get_data(kstpkper = spd_stp)/fact\n",
    "#     levels_hmax = np.round(np.max(head[head!=1E+30/fact]),-1)\n",
    "#     levels_hmin = np.round(np.min(head[head>=-200/fact]),-1)\n",
    "#     levels = np.arange(levels_hmin, levels_hmax, int(hd_step/fact))\n",
    "\n",
    "#     ax.set_title(name+' Head Contours at '+ str(time))\n",
    "#     mapview = flopy.plot.PlotMapView(model=model,ax=ax)\n",
    "\n",
    "#     contour_set = mapview.contour_array(head, masked_values=[-999.99], levels=levels, ax=ax)\n",
    "#     hcb = plt.colorbar(contour_set, shrink = 0.5,ax=ax)\n",
    "#     hcb.set_label('Head ('+units+')')\n",
    "#     ax.clabel(contour_set, contour_set.levels[0::2], inline=True, fontsize=8)\n",
    "\n",
    "# #     quiver = mapview.plot_discharge(frf, fff, istep=10, jstep=10)  # no head array for volumetric discharge\n",
    "#     ax.ticklabel_format(style='plain')\n",
    "# #     linecollection = mapview.plot_grid(linewidths = 0.3,ax=ax)\n",
    "#     ax.set_xlabel('Easting (m)')\n",
    "#     ax.set_ylabel('Northing (m)')\n",
    "# #     fig.tight_layout()"
   ]
  },
  {
   "cell_type": "code",
   "execution_count": null,
   "id": "f372f8b6",
   "metadata": {},
   "outputs": [],
   "source": [
    "fig,ax = plt.subplots(figsize=(10, 10))\n",
    "\n",
    "hob_gpd.plot('error',markersize='abs_error',scheme='Quantiles', k = 6, ax=ax,\n",
    "                  legend=True,cmap='bwr',legend_kwds={'loc':(1.1,0.8)})\n",
    "\n",
    "plt_bc_hk(m, ax, hk=False)\n",
    "plot_head_simple(m, hdobj, cbc, spd_stp[0], 'steady state', 'MF',ax=ax,units='m')\n",
    "# plot_dtw_simple(m, hdobj, cbc, spd_stp[0], 'steady state', 'MF',ax=ax,units='m')\n"
   ]
  },
  {
   "cell_type": "code",
   "execution_count": null,
   "id": "6ba25777",
   "metadata": {},
   "outputs": [],
   "source": [
    "fig = plt.figure(figsize=(40, 20))\n",
    "ax = fig.add_subplot(1, 1, 1)\n",
    "\n",
    "head = hdobj.get_data(kstpkper = spd_stp[200]) #spd_stp[0]\n",
    "head.shape\n",
    "# head[:,rownum,:].shape\n",
    "\n",
    "rownum = 20\n",
    "mcs = flopy.plot.PlotCrossSection(model=m, line={'Row' : rownum})\n",
    "\n",
    "# colnum = 150\n",
    "# mcs = flopy.plot.PlotCrossSection(model=m, line={'Column' : colnum})\n",
    "\n",
    "linecollection = mcs.plot_grid(linewidth = 0.3)\n",
    "ax.add_collection(linecollection)\n",
    "# mcs.contour_array(a=head)\n",
    "mcs.plot_array(a=m.lpf.hk.array)\n",
    "\n",
    "wt = mcs.plot_surface(a=head[:,:,:])\n"
   ]
  },
  {
   "cell_type": "code",
   "execution_count": null,
   "id": "7f7698a6",
   "metadata": {},
   "outputs": [],
   "source": []
  },
  {
   "cell_type": "code",
   "execution_count": null,
   "id": "efe64de7",
   "metadata": {},
   "outputs": [],
   "source": []
  }
 ],
 "metadata": {
  "kernelspec": {
   "display_name": "Python 3 (ipykernel)",
   "language": "python",
   "name": "python3"
  },
  "language_info": {
   "codemirror_mode": {
    "name": "ipython",
    "version": 3
   },
   "file_extension": ".py",
   "mimetype": "text/x-python",
   "name": "python",
   "nbconvert_exporter": "python",
   "pygments_lexer": "ipython3",
   "version": "3.7.11"
  }
 },
 "nbformat": 4,
 "nbformat_minor": 5
}
