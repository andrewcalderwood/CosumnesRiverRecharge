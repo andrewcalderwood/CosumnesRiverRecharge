{
 "cells": [
  {
   "cell_type": "code",
   "execution_count": null,
   "id": "cf029dc2",
   "metadata": {},
   "outputs": [],
   "source": []
  },
  {
   "cell_type": "code",
   "execution_count": null,
   "id": "01fea44b",
   "metadata": {},
   "outputs": [],
   "source": []
  },
  {
   "cell_type": "code",
   "execution_count": null,
   "id": "6bfc9965",
   "metadata": {},
   "outputs": [],
   "source": [
    "for t in [0]:\n",
    "    base_fn = join(data_dir, 'r'+str(t).zfill(3)+'_')\n",
    "    # saving all of the flow at all steps, setbacks is needed to post-process\n",
    "    Q_in = np.loadtxt(base_fn+'flow.tsv')\n",
    "    Q = np.reshape(Q_in, ((q_in.shape[0],len(setbacks), xs_levee_smooth.shape[1]+1)))\n",
    "\n",
    "    # for recharge we want to aggregate across time steps but look at differences across setbacks\n",
    "    rch_in = np.loadtxt(base_fn+'recharge.tsv', rch_out)\n",
    "    rch_sum = np.reshape(rch_in, (len(setbacks), nrow, ncol))\n"
   ]
  }
 ],
 "metadata": {
  "kernelspec": {
   "display_name": "Python 3 (ipykernel)",
   "language": "python",
   "name": "python3"
  },
  "language_info": {
   "codemirror_mode": {
    "name": "ipython",
    "version": 3
   },
   "file_extension": ".py",
   "mimetype": "text/x-python",
   "name": "python",
   "nbconvert_exporter": "python",
   "pygments_lexer": "ipython3",
   "version": "3.10.6"
  }
 },
 "nbformat": 4,
 "nbformat_minor": 5
}
