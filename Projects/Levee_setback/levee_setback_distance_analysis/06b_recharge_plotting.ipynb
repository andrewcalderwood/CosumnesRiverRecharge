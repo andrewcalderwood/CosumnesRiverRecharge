{
 "cells": [
  {
   "cell_type": "code",
   "execution_count": 10,
   "id": "5d55de74",
   "metadata": {},
   "outputs": [],
   "source": [
    "import os\n",
    "from os.path import basename, dirname, join, exists\n",
    "import sys\n",
    "\n",
    "import numpy as np\n",
    "import numpy.ma as ma\n",
    "import scipy.stats as stats\n",
    "import pandas as pd\n",
    "import geopandas as gpd\n",
    "\n",
    "from scipy.optimize import minimize\n",
    "\n",
    "# from datetime import datetime\n",
    "# from datetime import timedelta\n",
    "import time\n",
    "\n",
    "import matplotlib as mpl\n",
    "import matplotlib.pyplot as plt\n",
    "import matplotlib.lines as lines\n",
    "\n",
    "# from pandas.tseries import converter"
   ]
  },
  {
   "cell_type": "code",
   "execution_count": 2,
   "id": "24a91fc8",
   "metadata": {},
   "outputs": [],
   "source": [
    "doc_dir = os.getcwd()\n",
    "while basename(doc_dir) != 'Documents':\n",
    "    doc_dir = dirname(doc_dir)\n",
    "    \n",
    "# dir of all gwfm data\n",
    "gwfm_dir = join(dirname(doc_dir),'Box/research_cosumnes/GWFlowModel')\n",
    "\n",
    "flopy_dir = doc_dir+'/GitHub/flopy'\n",
    "if flopy_dir not in sys.path:\n",
    "    sys.path.insert(0, flopy_dir)\n",
    "import flopy \n",
    "import flopy.utils.binaryfile as bf\n"
   ]
  },
  {
   "cell_type": "code",
   "execution_count": 3,
   "id": "7b0c1785",
   "metadata": {},
   "outputs": [],
   "source": [
    "# set box directory for output figures and data\n",
    "box_dir = gwfm_dir+'/Levee_setback/levee_setback_distance_analysis/'\n",
    "\n",
    "# tprogs_id = '' # original tprogs with conditioning data in output tsim\n",
    "# tprogs_id = '_no_conditioning'\n",
    "tprogs_id = '_no_cond_c3d'\n",
    "\n",
    "\n",
    "data_dir = box_dir+ tprogs_id+'/data_output/'\n",
    "fig_dir = box_dir+tprogs_id+'/figures/'\n",
    "\n",
    "chan_dir = box_dir+'channel_data/'\n",
    "gis_dir = chan_dir+'GIS/'"
   ]
  },
  {
   "cell_type": "code",
   "execution_count": 7,
   "id": "27b74547",
   "metadata": {},
   "outputs": [],
   "source": [
    "nrow = 100\n",
    "ncol = 230"
   ]
  },
  {
   "cell_type": "code",
   "execution_count": 5,
   "id": "b40a280a",
   "metadata": {},
   "outputs": [],
   "source": [
    "setbacks = np.arange(0, 3400,200)\n",
    "# smoothed XS data used for setback analysis\n",
    "xs_levee_smooth = pd.read_csv(chan_dir+'xs_levee_smooth.csv', index_col='dist_from_right_m')\n",
    "num_segs = xs_levee_smooth.shape[1]\n",
    "\n",
    "# load array identifying row,col to XS id (1,28)\n",
    "xs_arr = np.loadtxt(chan_dir+'XS_num_grid_reference.tsv')\n",
    "\n",
    "# load flood typology characteristics (based on daily data 1908 - 2014) - median values \n",
    "#\"cms_pk\" for peak discharge, \"pk_loc\" for time to peak, and \"log_no_d\" for duration\n",
    "flood_type = pd.read_csv(join(box_dir, 'whipple_grp6_w97ftmedians.csv'),index_col='Group.1')\n"
   ]
  },
  {
   "cell_type": "code",
   "execution_count": 11,
   "id": "682c98eb",
   "metadata": {},
   "outputs": [
    {
     "name": "stdout",
     "output_type": "stream",
     "text": [
      "75.78515219688416\n"
     ]
    }
   ],
   "source": [
    "tic = time.time()\n",
    "ft_in=2\n",
    "region = 'local_1'\n",
    "# region = 'regional'\n",
    "T_in = int(10**flood_type.loc[ft_in,'log_no_d'])\n",
    "p_l_in = flood_type.loc[ft_in,'pk_loc']\n",
    "tp_in = int(p_l_in*T_in)\n",
    "rch_hf_all = np.zeros((100, len(setbacks),nrow,ncol))\n",
    "Q_all = np.zeros((100, T_in, len(setbacks),xs_levee_smooth.shape[1]+1))\n",
    "\n",
    "# filter out for only those realizations that successfully ran\n",
    "base_fn = join(data_dir, region, 'type'+str(ft_in))\n",
    "r_out = pd.Series(os.listdir(base_fn)).str.extract(r'(\\d{3})')[0].unique().astype(int)\n",
    "# takes a \n",
    "for t in r_out: # np.arange(0,100): #[0]:\n",
    "    r_fn = join(base_fn,'r'+str(t).zfill(3)+'_')\n",
    "    # saving all of the flow at all steps, setbacks is needed to post-process\n",
    "    Q_in = np.loadtxt(r_fn+'flow.tsv')\n",
    "    Q = np.reshape(Q_in, ((T_in, len(setbacks), xs_levee_smooth.shape[1]+1)))\n",
    "    Q_all[t,:] = np.copy(Q)\n",
    "    \n",
    "    # for recharge we want to aggregate across time steps but look at differences across setbacks\n",
    "    rch_in = np.loadtxt(r_fn+'recharge.tsv')\n",
    "    rch_sum = np.reshape(rch_in, (len(setbacks), nrow, ncol))\n",
    "    rch_hf_all[t] = np.copy(rch_sum)\n",
    "# convert to m3/day and will have the total recharged after summing individual days\n",
    "rch_hf_all = rch_hf_all*86400\n",
    "\n",
    "# convert to total AF from total m3\n",
    "# rch_hf_all = rch_hf_all/((0.3048**3)*43560)\n",
    "\n",
    "toc = time.time()\n",
    "print((toc-tic))"
   ]
  },
  {
   "cell_type": "code",
   "execution_count": null,
   "id": "4bdf91fc",
   "metadata": {},
   "outputs": [],
   "source": [
    "\n",
    "fig, ax = plt.subplots(figsize=(6,3), dpi=300)\n",
    "\n",
    "# convert from \n",
    "rch_xs_sum = pd.DataFrame(np.sum(rch_hf_all, axis=(2,3)), columns= setbacks).transpose()/1E6\n",
    "rch_xs_sum.plot(legend=False, color='lightgray', ax =ax)\n",
    "rch_xs_sum.mean(axis=1).plot(color='black', ax=ax)\n",
    "\n",
    "\n",
    "ax.set_xlabel('Setback Distance (m)')\n",
    "ax.set_ylabel('Total Recharge ($10^6$ $m^3$)')\n",
    "\n",
    "# 1d so the smoothing is specific to each realization\n",
    "from scipy.ndimage import gaussian_filter1d\n",
    "# smooth across setback distances so the changes in high flow area are less abrupt, makes it easier to find gradients\n",
    "smooth = gaussian_filter1d(rch_xs_sum,2, axis=0)\n",
    "\n",
    "smooth = pd.DataFrame(smooth, index= setbacks)\n",
    "\n",
    "fig, ax = plt.subplots(figsize=(6,3), dpi=300)\n",
    "\n",
    "smooth.plot(legend=False, color='lightgray', ax=ax, label='Realizations')\n",
    "smooth.mean(axis=1).plot(color='black', ax=ax, label='Mean')\n",
    "\n",
    "ax.set_title('Gaussian Filter 1D (2 sigma)')\n",
    "\n",
    "ax.set_xlabel('Setback Distance (m)')\n",
    "\n",
    "# axes[1].legend()\n",
    "# tranpose to fit format for gradient analysis used previously\n",
    "smooth = smooth.transpose()\n"
   ]
  },
  {
   "cell_type": "code",
   "execution_count": null,
   "id": "7c1fc654",
   "metadata": {},
   "outputs": [],
   "source": [
    "r = np.arange(0,100)\n",
    "# can look at maximum of first derivative, or look where second derivative goes from + to -\n",
    "grad1_df = pd.DataFrame(np.gradient(smooth)[1],  columns = setbacks)\n",
    "\n",
    "grad2_df = pd.DataFrame(np.gradient(grad1_df)[1],  columns = setbacks)"
   ]
  },
  {
   "cell_type": "code",
   "execution_count": null,
   "id": "b3a650d4",
   "metadata": {},
   "outputs": [],
   "source": [
    "# np.sign gives + or -, np diff gives out[i] = a[i+1] - a[i]. \n",
    "# + to - means max of 1st derivative. So diff ==-2 means max, but to account for difference go up one indice\n",
    "fig,ax = plt.subplots(figsize=(6,3), dpi=300)\n",
    "max_df = pd.DataFrame(np.diff(np.sign(grad2_df)), columns = setbacks[:-1])\n",
    "max_df = 1*(max_df==-2)\n",
    "max_df.loc[r_out].transpose().plot(kind='bar',legend=False,stacked=True,ax=ax, color='lightgray') #.loc[n]\n",
    "plt.ylabel('Maximum gradient count\\n by realization')\n",
    "plt.xlabel('Setback distance (m)')"
   ]
  },
  {
   "cell_type": "code",
   "execution_count": null,
   "id": "01dac14b",
   "metadata": {},
   "outputs": [],
   "source": [
    "# t=0\n",
    "\n",
    "fig,ax = plt.subplots(figsize=(6,3), dpi=300)\n",
    "Q_plt = pd.DataFrame(Q_all[:,tp,-1,:], columns = np.arange(0,29*2,2)).transpose()\n",
    "Q_plt.plot(color='lightgray', legend=False, ax=ax)\n",
    "# plot min, max\n",
    "Q_plt.loc[:,Q_plt.mean(axis=0).isin(Q_plt.mean(axis=0).quantile([0, 1]).values)].plot(legend=False, color='red', ax=ax)\n",
    "\n",
    "Q_plt.mean(axis=1).plot(color='black', label='Averaged Realizations', ax=ax)\n",
    "plt.xlabel('Distance downstream (km)')\n",
    "plt.ylabel('Discharge ($m^3/s$)')\n",
    "\n",
    "fig.tight_layout()"
   ]
  },
  {
   "cell_type": "code",
   "execution_count": null,
   "id": "0e8780d0",
   "metadata": {},
   "outputs": [],
   "source": [
    "max_s = max_df.loc[r_out].sum().argmax()\n",
    "Q_s = Q_all[:,tp,max_s,:].mean(axis=0)\n",
    "d_Q_s = Q_s[0]-Q_s[-1]\n",
    "\n",
    "# summarize optimal setback distance with mean recharge and mean flow reduction\n",
    "print(flood_type.loc[ft_in,'Typology'], setbacks[max_s], '%.0f' %rch_xs_sum.iloc[max_s].mean(),'%.0f' %d_Q_s)"
   ]
  }
 ],
 "metadata": {
  "kernelspec": {
   "display_name": "Python 3 (ipykernel)",
   "language": "python",
   "name": "python3"
  },
  "language_info": {
   "codemirror_mode": {
    "name": "ipython",
    "version": 3
   },
   "file_extension": ".py",
   "mimetype": "text/x-python",
   "name": "python",
   "nbconvert_exporter": "python",
   "pygments_lexer": "ipython3",
   "version": "3.10.9"
  }
 },
 "nbformat": 4,
 "nbformat_minor": 5
}
