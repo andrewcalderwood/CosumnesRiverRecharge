{
 "cells": [
  {
   "cell_type": "code",
   "execution_count": null,
   "id": "069f29ed",
   "metadata": {},
   "outputs": [],
   "source": [
    "# standard python utilities\n",
    "import os\n",
    "import sys\n",
    "import glob\n",
    "import pandas as pd\n",
    "import numpy as np\n",
    "import calendar\n",
    "import time\n",
    "\n",
    "# standard python plotting utilities\n",
    "import matplotlib as mpl\n",
    "import matplotlib.pyplot as plt\n",
    "\n",
    "# standard geospatial python utilities\n",
    "import pyproj # for converting proj4string\n",
    "import shapely\n",
    "import geopandas as gpd\n",
    "import rasterio\n",
    "\n",
    "# mapping utilities\n",
    "import contextily as ctx\n",
    "from mpl_toolkits.axes_grid1.inset_locator import inset_axes\n",
    "from mpl_toolkits.axes_grid1.anchored_artists import AnchoredSizeBar\n",
    "import matplotlib.font_manager as fm\n",
    "\n",
    "# modflow utility\n",
    "import flopy\n",
    "import flopy.utils.binaryfile as bf\n"
   ]
  },
  {
   "cell_type": "code",
   "execution_count": null,
   "id": "4d4c5722",
   "metadata": {},
   "outputs": [],
   "source": [
    "## Set up directory referencing\n",
    "# Package data\n",
    "git_dir = os.path.dirname(os.path.dirname(os.getcwd()))\n",
    "git_dir = os.getcwd()\n",
    "while os.path.basename(git_dir) != 'CosumnesRiverRecharge':\n",
    "    git_dir = os.path.dirname(git_dir)\n",
    "gwfm_dir = '\\\\'.join(str.split(git_dir,'\\\\')[0:3])+ '/Box/research_cosumnes/GWFlowModel'\n",
    "print(git_dir, gwfm_dir)"
   ]
  },
  {
   "cell_type": "code",
   "execution_count": null,
   "id": "ffa3d239",
   "metadata": {},
   "outputs": [],
   "source": [
    "# set box directory for output figures and data\n",
    "box_dir = gwfm_dir+'/Levee_setback/levee_setback_distance_analysis/'\n",
    "\n",
    "# tprogs_id = '' # original tprogs with conditioning data in output tsim\n",
    "tprogs_id = '_no_conditioning'\n",
    "# tprogs_id = 'north_shifted_stream_distance_analysis'\n",
    "\n",
    "\n",
    "data_dir = box_dir+ tprogs_id+'/data_output/'\n",
    "fig_dir = box_dir+tprogs_id+'/figures/'\n"
   ]
  },
  {
   "cell_type": "code",
   "execution_count": null,
   "id": "5c48458f",
   "metadata": {},
   "outputs": [],
   "source": [
    "percentile = 95\n",
    "label='regional'\n",
    "hf_tot_df = pd.read_csv(data_dir+'surface_highflow_by_distance_'+label+'_'+str(percentile)+'.csv')\n",
    "label='local'\n",
    "# each set of 100 rows is a different location\n",
    "hf_tot_df_local = pd.read_csv(data_dir+'surface_highflow_by_distance_'+label+'_'+str(percentile)+'.csv')\n",
    "# join local and regional datasets\n",
    "hf_all = hf_tot_df.append(hf_tot_df_local)\n",
    "# create clean index for easier referencing\n",
    "site_order = ['Regional','Blodgett','Mahon','Oneto-Denier']\n",
    "site_realization = np.vstack((np.repeat(site_order,100),\n",
    "                              np.tile(np.arange(1,101),int(hf_all.shape[0]/100))))\n",
    "site_realization_index = pd.MultiIndex.from_arrays(site_realization,names=['Site','Realization'])\n",
    "hf_all = hf_all.set_index(site_realization_index)\n",
    "# convert from number of cells to area, m^2\n",
    "hf_all.loc[:] = hf_all.values*200*200\n",
    "# plot with setback as x and realizations as label\n",
    "hf_all.columns = pd.to_numeric(hf_all.columns)"
   ]
  },
  {
   "cell_type": "markdown",
   "id": "cd299002",
   "metadata": {},
   "source": [
    "## Cost Analysis\n",
    "When looking at the local scale there is much greater variability in the setback distances where the maximum gradient appears. I can plot at which setback distance the gradient occurs and calculate the standard deviation for the three local sites and on the regional scale. I can also plot the variability in the area encompassed by the maximum gradient.  \n",
    "\n",
    "Calculate XS area gain vs lost after setback to see if volume lost equals volume gained which means no fill dirt purchase is necessary. Then assume excavation cost for only half of it (elevation before > elevation after). This does not account for the need to build levees at a setback distance...  \n",
    "\n",
    "Average cost to excavate land is 50-200 \\\\$/cubic yard. Imagine a XS of levee is 300 yd^2, 6000\\\\$/yd of levee or 2000\\\\$/ft which gives 10,000,000\\\\$/mile of levee just to move the earth. This aligns with estimates of levee setback cost of 2.5-5M\\\\$ in washington state to up to 20M\\\\$ in Sacramento. According to acrevalue.com the average cost of an acre of farmland in Sac county is 20K\\\\$/acre. Per mile of 3200 m levee setback in both directions requires 2,500 acres of land which would put an average land cost of \\\\$51,000,000, at 400m back we would see 6,400,000"
   ]
  },
  {
   "cell_type": "markdown",
   "id": "30abadc5",
   "metadata": {},
   "source": [
    "I need to calculate what is considered diminishing returns. At what rate of area gained by distance setback is it not worth it? I could do some calculations on the cost benefit of recharge and the cost of the land and setback\n",
    "Each AF recharged equals about 4 ft of head increase in that local area, should you consider the value of recharge as reduction in pumping cost or actual cost of water saved for future; I lean toward water saved cost because we need to replenish aquifers to prevent overdraft, but I could see farmers/ag-res only viewing it as reduction in pumping energy because they assume groundwater will naturally maintain itself.  \n",
    "The cost analysis should be done on the 1-2 year flood scale (2000 cfs) and the 20 year flood scale (10,000 cfs) to show water recharged typically and benefit from less frequent big events. Because if 600k $ is done every year that is substantial, but more likely that would only occur during 20 year events with big recharge volumes.  \n",
    "Optimization looks along the setback distance vs high recharge area plot following these rules: \n",
    "1. Setback distance must be >= 0 and <= 3200 m\n",
    "2. Maximize the function benefit = dollars of water recharged - cost of setback and land  \n",
    "\n",
    "If I want to publish in an engineering journal then I need to include cost, if I'm seeking for more general scientific advancement then I should not directly include cost. The issue I'm having without cost is finding a way to pick the best setback distance with derivatives or maximum returns.  \n",
    "\n",
    "gravel K = 4E-3 m/s\n",
    "sand K = 1.5E-3 m/s  \n",
    "**GW Pumping energy cost**  \n",
    "C = 0.746 Q h c / (3960 μp μm)  \n",
    "C = cost per hour (USD/hour, EUR/hour, ...)  \n",
    "Q = volume flow (US gpm), h = differential head (ft)  \n",
    "c = cost rate per kWh (USD/kWh, EUR/kWh, ....)  \n",
    "μp = pump efficiency (0 - 1), μm= motor efficiency (0 - 1)  "
   ]
  },
  {
   "cell_type": "code",
   "execution_count": null,
   "id": "6a50b40c",
   "metadata": {},
   "outputs": [],
   "source": []
  },
  {
   "cell_type": "code",
   "execution_count": null,
   "id": "ccfdc359",
   "metadata": {},
   "outputs": [],
   "source": [
    "# Q = 500 # gpm, average between domestic 100 and ag 1000\n",
    "h = 80 # ft, typical DTW in basin\n",
    "c = 0.24 # USD/kWh, pge lists 24cents as low, 34 as tier 2\n",
    "ep = 0.9\n",
    "em = 0.9\n",
    "C_gpm_1 = 0.746 *h* c*24 / (3960 *ep *em) # USD/day/gpm\n",
    "C_AF_1 = C_gpm_1/(1/7.48)/(1/43560)/(60*24) #USD/day/AFd\n",
    "h= 76\n",
    "C_gpm_2 = 0.746 *h* c*24 / (3960 *ep *em) # USD/day/gpm\n",
    "C_AF_2 = C_gpm_2/(1/7.48)/(1/43560)/(60*24) #USD/day/AFd\n",
    "print('Cost per acre foot to pump GW for SASb: $%.2f '%C_AF_1) # USD/day/AFd or USD/AF\n",
    "print('Cost per acre foot change per 1 ft recharge for SASb: $%.2f '%(C_AF_1-C_AF_2)) # USD/day/AFd or USD/AF\n",
    "C_AF = C_AF_1"
   ]
  },
  {
   "cell_type": "markdown",
   "id": "22aa0628",
   "metadata": {},
   "source": [
    "To really flesh this analysis out it would be interesting to see what ecosystem benefit there is (some dollar ammount equivalent might exist). This would require particle tracking from each recharge cell under steady state to determine the percentage that travels to groundwater and the percentage that return to the river. I could estimate this by looking at how much TNC pays to keep water rights per AF to keep flow in a river and estimating how much of the recharge would return as baseflow."
   ]
  },
  {
   "cell_type": "code",
   "execution_count": null,
   "id": "19ea13a6",
   "metadata": {},
   "outputs": [],
   "source": [
    "from scipy.stats import gmean\n",
    "# K m/s\n",
    "K_grv = 4E-3\n",
    "K_snd = 1.5E-3\n",
    "# take geometric mean and convert to m/day\n",
    "K_coarse = gmean([K_grv,K_snd])*86400\n",
    "z_aniso = 100 # log between 100, 1000\n",
    "K_coarse /= z_aniso\n",
    "K_coarse\n",
    "\n"
   ]
  },
  {
   "cell_type": "code",
   "execution_count": null,
   "id": "81facf6e",
   "metadata": {},
   "outputs": [],
   "source": [
    "# hf_tot_df_local.iloc[0:100].mean(axis=0).plot()\n",
    "# mean number of cells for all setbacks for each realization\n",
    "mean_area = hf_tot_df_local.iloc[0:100].mean(axis=1)*200*200\n",
    "# m3/day\n",
    "m3_AF = (1/0.3048**3)*(1/43560)\n",
    "# looks like 200 AF per day is doable for most realizations, also would expect the flooding to happen for may 1-2 weeks per year\n",
    "(K_coarse*mean_area*m3_AF*C_AF/1000).plot()\n",
    "plt.ylabel('Estimated Recharge Benefit\\n (thousand dollars per day)')\n",
    "plt.xlabel('Realization')\n",
    "plt.show()\n",
    "\n",
    "# cost of surface water in sacramento valley $50-100/AF\n",
    "# cost of pumping?\n",
    "\n",
    "(K_coarse*mean_area*m3_AF*C_AF*14/1000).plot()\n",
    "plt.ylabel('Estimated Recharge Benefit\\n (thousand dollars per year)')\n",
    "plt.xlabel('Realization')"
   ]
  },
  {
   "cell_type": "markdown",
   "id": "201e6a11",
   "metadata": {},
   "source": [
    "Start with the best case scenario that every year every high recharge cell in the setback is activated with 0.5 meters of water (or calculated flood depth) which is typical of the flatter cross-sections. Then assume a cost of $50/AF water recharged and annualize the cost. Annualize cost of levee construction then perform cost benefit optimization."
   ]
  },
  {
   "cell_type": "code",
   "execution_count": null,
   "id": "3f808126",
   "metadata": {},
   "outputs": [],
   "source": [
    "local_setback = gpd.read_file(gwfm_dir+'/levee_setback/local_levee_setback_rectangles/local_levee_setback_rectangles.shp')\n",
    "local_setback = local_setback.dropna()"
   ]
  },
  {
   "cell_type": "code",
   "execution_count": null,
   "id": "a01c547b",
   "metadata": {},
   "outputs": [],
   "source": [
    "local_setback.geometry.iloc[0].area\n",
    "for n in np.arange(0,len(local_setback)):\n",
    "    xy = list(local_setback.geometry.iloc[n].exterior.coords)\n",
    "    xy_dists = np.sum(np.sqrt(np.diff(xy,axis=0)**2),axis=1)\n",
    "    local_setback.loc[n,'width_m'] = np.min(xy_dists)\n"
   ]
  },
  {
   "cell_type": "code",
   "execution_count": null,
   "id": "7d964430",
   "metadata": {},
   "outputs": [],
   "source": [
    "const_cost_m3 = 200 # 200$/m3 or yd3\n",
    "land_cost_m2 = 20000/43560/0.3048 # convert from cost per acre to cost per sq. ft then to sq m\n",
    "\n"
   ]
  },
  {
   "cell_type": "code",
   "execution_count": null,
   "id": "f6741dda",
   "metadata": {},
   "outputs": [],
   "source": [
    "const_int = 0.08 # higher interest rate for productive investments and lets assume levees are built for 100 years\n",
    "num_pers = 100 # number of periods, assume interest is compounding annually\n",
    "x_dist_m = 400 # setback distance total, increments of 400 from 400 to 6400 m\n",
    "const_cost = 2000/0.3048 # approx cost to move earth per meter of levee times total length (62 km) or local length (~2250 m)\n",
    "# land_cost = 2000/0.3048 # approx cost to move earth per meter of levee times total length (62 km) or local length (~2250 m)\n",
    "total_len = 62000\n",
    "local_len = 2250\n",
    "\n",
    "annual_cost = (const_cost*total_len + land_cost_m2*x_dist_m*total_len)*(const_int/(1-(1+const_int)**(-num_pers)))\n",
    "\n",
    "const_int, 0.08/12\n",
    "print('Annualized cost for all work is %.2f M$' %(annual_cost/1E6))\n",
    "# annual_cost = const_cost*2250"
   ]
  },
  {
   "cell_type": "code",
   "execution_count": null,
   "id": "678da909",
   "metadata": {},
   "outputs": [],
   "source": [
    "const_int = 0.08 # higher interest rate for productive investments and lets assume levees are built for 100 years\n",
    "num_pers = 100 # number of periods, assume interest is compounding annually\n",
    "x_dist_m = 400 # setback distance total, increments of 400 from 400 to 6400 m\n",
    "const_cost = 2000/0.3048 # approx cost to move earth per meter of levee times total length (62 km) or local length (~2250 m)\n",
    "# land_cost = 2000/0.3048 # approx cost to move earth per meter of levee times total length (62 km) or local length (~2250 m)\n",
    "\n",
    "annual_cost = (const_cost*local_len + land_cost_m2*x_dist_m*local_len)*(const_int/(1-(1+const_int)**(-num_pers)))\n",
    "\n",
    "const_int, 0.08/12\n",
    "print('Annualized cost for all work is %.2f M$' %(annual_cost/1E6))\n",
    "# annual_cost = const_cost*2250"
   ]
  },
  {
   "cell_type": "markdown",
   "id": "64442a57",
   "metadata": {},
   "source": [
    "because the cost so much greatly outweighs any potential benefit, rather than maximing profit we will focus on minimizing cost"
   ]
  },
  {
   "cell_type": "code",
   "execution_count": null,
   "id": "d9a39aee",
   "metadata": {},
   "outputs": [],
   "source": [
    "def annual_cost(x, df):\n",
    "    x = int(x)\n",
    "    x_dist_m = np.arange(0,6800,400)[x]\n",
    "    annual_cost = (const_cost*local_len + land_cost_m2*x_dist_m*local_len)*(const_int/(1-(1+const_int)**(-num_pers)))\n",
    "    # N rch_rate *area * rch_depth * AF conv * cost/AF\n",
    "    annual_benefit = (df.iloc[x]*200*200*0.5)*C_AF*m3_AF\n",
    "    net_cost = annual_cost - annual_benefit\n",
    "    return(net_cost)"
   ]
  },
  {
   "cell_type": "code",
   "execution_count": null,
   "id": "5f8266e1",
   "metadata": {},
   "outputs": [],
   "source": [
    "# C_AF = 1500\n",
    "C_AF=50"
   ]
  },
  {
   "cell_type": "code",
   "execution_count": null,
   "id": "5bd2bcbf",
   "metadata": {},
   "outputs": [],
   "source": [
    "from scipy.optimize import fsolve, least_squares, minimize, minimize_scalar\n",
    "# fsolve(mannings, [2], args = (Q_cms, xs_elevs), xtol=1E-5)\n",
    "# least_squares(mannings, [2], args = (Q_cms, xs_elevs), bounds = (0, 10), ftol=1E-5)\n",
    "# minimize(mannings, [1.], args = (Q_cms, xs_elevs), bounds=[(0,10)], tol=1E-5)\n",
    "\n",
    "res = minimize_scalar(annual_cost,  args = (hf_tot_df.iloc[0]), bounds=(0,17), method='bounded')\n",
    "res\n"
   ]
  },
  {
   "cell_type": "code",
   "execution_count": null,
   "id": "ee44b65a",
   "metadata": {},
   "outputs": [],
   "source": [
    "rch_depth = 2 # assume all water flooding infiltrates and becomes groundwater with value to be pumped"
   ]
  },
  {
   "cell_type": "code",
   "execution_count": null,
   "id": "45e8d3dd",
   "metadata": {},
   "outputs": [],
   "source": [
    "\n",
    "x_dist_m = np.arange(0,6800,400)\n",
    "annual_cost = (const_cost*total_len + land_cost_m2*x_dist_m*total_len)*(const_int/(1-(1+const_int)**(-num_pers)))\n",
    "annual_benefit = (hf_all.loc['Regional']*rch_depth)*C_AF*m3_AF \n",
    "net_cost = annual_cost - annual_benefit\n",
    "net_cost.transpose().plot(legend=False, cmap='gray')\n",
    "\n",
    "# print(annual_cost.mean(), annual_benefit.mean().median())\n",
    "print('Annual cost mean %.2E ' %annual_cost.mean(), ' annual benefit mean %.2E' %annual_benefit.mean().median())\n",
    "\n",
    "plt.ylabel('Net Annual Cost ($)')\n",
    "plt.title('Total Length (62 km)')\n",
    "# on a regional scale this will never be cost effective, even at 1000$/AF the zero setback is mostly the minimum\n",
    "# at $1500/AF there are minimums around 1200 m setback"
   ]
  },
  {
   "cell_type": "code",
   "execution_count": null,
   "id": "3c4c91ab",
   "metadata": {},
   "outputs": [],
   "source": [
    "\n",
    "x_dist_m = np.arange(0,6800,400)\n",
    "annual_cost = (const_cost*local_len + land_cost_m2*x_dist_m*local_len)*(const_int/(1-(1+const_int)**(-num_pers)))\n",
    "annual_benefit = (hf_all.loc['Mahon']*rch_depth)*C_AF*m3_AF \n",
    "net_cost = annual_cost - annual_benefit\n",
    "net_cost.transpose().plot(legend=False,cmap='gray')\n",
    "\n",
    "plt.xlabel('Setback distance (m)')\n",
    "plt.ylabel('Net cost ($)')\n",
    "plt.title('Avg Local Length (2250 m)')\n",
    "\n",
    "print('Annual cost mean %.2E ' %annual_cost.mean(), ' annual benefit mean %.2E' %annual_benefit.mean().median())\n",
    "\n",
    "# as the recharge depth increases we see more variability in the plots and the minimum\n",
    "# values are no longer at a zero setback distances\n",
    "# I could plot minimum values at different recharge rates to avoid the flood mapping, but I think\n",
    "# flood mapping is the best way"
   ]
  },
  {
   "cell_type": "code",
   "execution_count": null,
   "id": "7337d70c",
   "metadata": {},
   "outputs": [],
   "source": [
    "annual_benefit/annual_cost"
   ]
  },
  {
   "cell_type": "code",
   "execution_count": null,
   "id": "c4fe1961",
   "metadata": {},
   "outputs": [],
   "source": [
    "50*m3_AF # the value of water ends of 0.05 dollars per m^3 which is similar to Thomas' values with Mehrdad\n",
    " # area of recharge times depth (assumed 0.5 m now) * values/volume and assume yearly\n",
    "yearly_value = (hf_tot_df*200*200*0.5)*50*m3_AF\n",
    "# iterate through each realization\n",
    "yearly_value.iloc[0,:]"
   ]
  },
  {
   "cell_type": "code",
   "execution_count": null,
   "id": "2029cce6",
   "metadata": {},
   "outputs": [],
   "source": []
  }
 ],
 "metadata": {
  "kernelspec": {
   "display_name": "Python 3 (ipykernel)",
   "language": "python",
   "name": "python3"
  },
  "language_info": {
   "codemirror_mode": {
    "name": "ipython",
    "version": 3
   },
   "file_extension": ".py",
   "mimetype": "text/x-python",
   "name": "python",
   "nbconvert_exporter": "python",
   "pygments_lexer": "ipython3",
   "version": "3.7.11"
  }
 },
 "nbformat": 4,
 "nbformat_minor": 5
}
