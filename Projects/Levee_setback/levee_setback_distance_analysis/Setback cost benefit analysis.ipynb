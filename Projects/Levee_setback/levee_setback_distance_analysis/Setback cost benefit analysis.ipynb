{
 "cells": [
  {
   "cell_type": "code",
   "execution_count": 2,
   "id": "069f29ed",
   "metadata": {},
   "outputs": [],
   "source": [
    "# standard python utilities\n",
    "import os\n",
    "import sys\n",
    "import glob\n",
    "import pandas as pd\n",
    "import numpy as np\n",
    "import calendar\n",
    "import time\n",
    "\n",
    "# standard python plotting utilities\n",
    "import matplotlib as mpl\n",
    "import matplotlib.pyplot as plt\n",
    "\n",
    "# standard geospatial python utilities\n",
    "import pyproj # for converting proj4string\n",
    "import shapely\n",
    "import geopandas as gpd\n",
    "import rasterio\n",
    "\n",
    "# mapping utilities\n",
    "import contextily as ctx\n",
    "from mpl_toolkits.axes_grid1.inset_locator import inset_axes\n",
    "from mpl_toolkits.axes_grid1.anchored_artists import AnchoredSizeBar\n",
    "import matplotlib.font_manager as fm\n",
    "\n",
    "# modflow utility\n",
    "import flopy\n",
    "import flopy.utils.binaryfile as bf\n"
   ]
  },
  {
   "cell_type": "code",
   "execution_count": 3,
   "id": "4d4c5722",
   "metadata": {},
   "outputs": [
    {
     "name": "stdout",
     "output_type": "stream",
     "text": [
      "C:\\Users\\ajcalder\\Documents\\GitHub\\CosumnesRiverRecharge C:\\Users\\ajcalder/Box/research_cosumnes/GWFlowModel\n"
     ]
    }
   ],
   "source": [
    "## Set up directory referencing\n",
    "# Package data\n",
    "git_dir = os.path.dirname(os.path.dirname(os.getcwd()))\n",
    "git_dir = os.getcwd()\n",
    "while os.path.basename(git_dir) != 'CosumnesRiverRecharge':\n",
    "    git_dir = os.path.dirname(git_dir)\n",
    "gwfm_dir = '\\\\'.join(str.split(git_dir,'\\\\')[0:3])+ '/Box/research_cosumnes/GWFlowModel'\n",
    "print(git_dir, gwfm_dir)"
   ]
  },
  {
   "cell_type": "code",
   "execution_count": 4,
   "id": "ffa3d239",
   "metadata": {},
   "outputs": [],
   "source": [
    "# set box directory for output figures and data\n",
    "box_dir = gwfm_dir+'/Levee_setback/levee_setback_distance_analysis/'\n",
    "\n",
    "# tprogs_id = '' # original tprogs with conditioning data in output tsim\n",
    "tprogs_id = '_no_conditioning'\n",
    "# tprogs_id = 'north_shifted_stream_distance_analysis'\n",
    "\n",
    "\n",
    "data_dir = box_dir+ tprogs_id+'/data_output/'\n",
    "fig_dir = box_dir+tprogs_id+'/figures/'\n"
   ]
  },
  {
   "cell_type": "code",
   "execution_count": 5,
   "id": "5c48458f",
   "metadata": {},
   "outputs": [],
   "source": [
    "percentile = 95\n",
    "label='regional'\n",
    "hf_tot_df = pd.read_csv(data_dir+'surface_highflow_by_distance_'+label+'_'+str(percentile)+'.csv')\n",
    "label='local'\n",
    "# each set of 100 rows is a different location\n",
    "hf_tot_df_local = pd.read_csv(data_dir+'surface_highflow_by_distance_'+label+'_'+str(percentile)+'.csv')\n",
    "# join local and regional datasets\n",
    "hf_all = hf_tot_df.append(hf_tot_df_local)\n",
    "# create clean index for easier referencing\n",
    "site_order = ['Regional','Blodgett','Mahon','Oneto-Denier']\n",
    "site_realization = np.vstack((np.repeat(site_order,100),\n",
    "                              np.tile(np.arange(1,101),int(hf_all.shape[0]/100))))\n",
    "site_realization_index = pd.MultiIndex.from_arrays(site_realization,names=['Site','Realization'])\n",
    "hf_all = hf_all.set_index(site_realization_index)\n",
    "# convert from number of cells to area, m^2\n",
    "hf_all.loc[:] = hf_all.values*200*200\n",
    "# plot with setback as x and realizations as label\n",
    "hf_all.columns = pd.to_numeric(hf_all.columns)"
   ]
  },
  {
   "cell_type": "markdown",
   "id": "cd299002",
   "metadata": {},
   "source": [
    "## Cost Analysis\n",
    "When looking at the local scale there is much greater variability in the setback distances where the maximum gradient appears. I can plot at which setback distance the gradient occurs and calculate the standard deviation for the three local sites and on the regional scale. I can also plot the variability in the area encompassed by the maximum gradient.  \n",
    "\n",
    "Calculate XS area gain vs lost after setback to see if volume lost equals volume gained which means no fill dirt purchase is necessary. Then assume excavation cost for only half of it (elevation before > elevation after). This does not account for the need to build levees at a setback distance...  \n",
    "\n",
    "Average cost to excavate land is 50-200 \\\\$/cubic yard. Imagine a XS of levee is 300 yd^2, 6000\\\\$/yd of levee or 2000\\\\$/ft which gives 10,000,000\\\\$/mile of levee just to move the earth. This aligns with estimates of levee setback cost of 2.5-5M\\\\$ in washington state to up to 20M\\\\$ in Sacramento. According to acrevalue.com the average cost of an acre of farmland in Sac county is 20K\\\\$/acre. Per mile of 3200 m levee setback in both directions requires 2,500 acres of land which would put an average land cost of \\\\$51,000,000, at 400m back we would see 6,400,000"
   ]
  },
  {
   "cell_type": "markdown",
   "id": "30abadc5",
   "metadata": {},
   "source": [
    "I need to calculate what is considered diminishing returns. At what rate of area gained by distance setback is it not worth it? I could do some calculations on the cost benefit of recharge and the cost of the land and setback\n",
    "Each AF recharged equals about 4 ft of head increase in that local area, should you consider the value of recharge as reduction in pumping cost or actual cost of water saved for future; I lean toward water saved cost because we need to replenish aquifers to prevent overdraft, but I could see farmers/ag-res only viewing it as reduction in pumping energy because they assume groundwater will naturally maintain itself.  \n",
    "The cost analysis should be done on the 1-2 year flood scale (2000 cfs) and the 20 year flood scale (10,000 cfs) to show water recharged typically and benefit from less frequent big events. Because if 600k $ is done every year that is substantial, but more likely that would only occur during 20 year events with big recharge volumes.  \n",
    "Optimization looks along the setback distance vs high recharge area plot following these rules: \n",
    "1. Setback distance must be >= 0 and <= 3200 m\n",
    "2. Maximize the function benefit = dollars of water recharged - cost of setback and land  \n",
    "\n",
    "If I want to publish in an engineering journal then I need to include cost, if I'm seeking for more general scientific advancement then I should not directly include cost. The issue I'm having without cost is finding a way to pick the best setback distance with derivatives or maximum returns.  \n",
    "\n",
    "gravel K = 4E-3 m/s\n",
    "sand K = 1.5E-3 m/s  \n",
    "**GW Pumping energy cost**  \n",
    "C = 0.746 Q h c / (3960 μp μm)  \n",
    "C = cost per hour (USD/hour, EUR/hour, ...)  \n",
    "Q = volume flow (US gpm), h = differential head (ft)  \n",
    "c = cost rate per kWh (USD/kWh, EUR/kWh, ....)  \n",
    "μp = pump efficiency (0 - 1), μm= motor efficiency (0 - 1)  "
   ]
  },
  {
   "cell_type": "code",
   "execution_count": null,
   "id": "6a50b40c",
   "metadata": {},
   "outputs": [],
   "source": []
  },
  {
   "cell_type": "code",
   "execution_count": 6,
   "id": "ccfdc359",
   "metadata": {},
   "outputs": [
    {
     "name": "stdout",
     "output_type": "stream",
     "text": [
      "Cost per acre foot to pump GW for SASb: $24.25 \n",
      "Cost per acre foot change per 1 ft recharge for SASb: $1.21 \n"
     ]
    }
   ],
   "source": [
    "# Q = 500 # gpm, average between domestic 100 and ag 1000\n",
    "h = 80 # ft, typical DTW in basin\n",
    "c = 0.24 # USD/kWh, pge lists 24cents as low, 34 as tier 2\n",
    "ep = 0.9\n",
    "em = 0.9\n",
    "C_gpm_1 = 0.746 *h* c*24 / (3960 *ep *em) # USD/day/gpm\n",
    "C_AF_1 = C_gpm_1/(1/7.48)/(1/43560)/(60*24) #USD/day/AFd\n",
    "h= 76\n",
    "C_gpm_2 = 0.746 *h* c*24 / (3960 *ep *em) # USD/day/gpm\n",
    "C_AF_2 = C_gpm_2/(1/7.48)/(1/43560)/(60*24) #USD/day/AFd\n",
    "print('Cost per acre foot to pump GW for SASb: $%.2f '%C_AF_1) # USD/day/AFd or USD/AF\n",
    "print('Cost per acre foot change per 1 ft recharge for SASb: $%.2f '%(C_AF_1-C_AF_2)) # USD/day/AFd or USD/AF\n",
    "C_AF = C_AF_1"
   ]
  },
  {
   "cell_type": "markdown",
   "id": "22aa0628",
   "metadata": {},
   "source": [
    "To really flesh this analysis out it would be interesting to see what ecosystem benefit there is (some dollar ammount equivalent might exist). This would require particle tracking from each recharge cell under steady state to determine the percentage that travels to groundwater and the percentage that return to the river. I could estimate this by looking at how much TNC pays to keep water rights per AF to keep flow in a river and estimating how much of the recharge would return as baseflow."
   ]
  },
  {
   "cell_type": "code",
   "execution_count": 7,
   "id": "19ea13a6",
   "metadata": {},
   "outputs": [
    {
     "data": {
      "text/plain": [
       "2.116359137764666"
      ]
     },
     "execution_count": 7,
     "metadata": {},
     "output_type": "execute_result"
    }
   ],
   "source": [
    "from scipy.stats import gmean\n",
    "# K m/s\n",
    "K_grv = 4E-3\n",
    "K_snd = 1.5E-3\n",
    "# take geometric mean and convert to m/day\n",
    "K_coarse = gmean([K_grv,K_snd])*86400\n",
    "z_aniso = 100 # log between 100, 1000\n",
    "K_coarse /= z_aniso\n",
    "K_coarse\n",
    "\n"
   ]
  },
  {
   "cell_type": "code",
   "execution_count": 8,
   "id": "81facf6e",
   "metadata": {},
   "outputs": [
    {
     "data": {
      "image/png": "[encoded data removed]",
      "text/plain": [
       "<Figure size 432x288 with 1 Axes>"
      ]
     },
     "metadata": {
      "needs_background": "light"
     },
     "output_type": "display_data"
    },
    {
     "data": {
      "text/plain": [
       "Text(0.5, 0, 'Realization')"
      ]
     },
     "execution_count": 8,
     "metadata": {},
     "output_type": "execute_result"
    },
    {
     "data": {
      "image/png": "[encoded data removed]",
      "text/plain": [
       "<Figure size 432x288 with 1 Axes>"
      ]
     },
     "metadata": {
      "needs_background": "light"
     },
     "output_type": "display_data"
    }
   ],
   "source": [
    "# hf_tot_df_local.iloc[0:100].mean(axis=0).plot()\n",
    "# mean number of cells for all setbacks for each realization\n",
    "mean_area = hf_tot_df_local.iloc[0:100].mean(axis=1)*200*200\n",
    "# m3/day\n",
    "m3_AF = (1/0.3048**3)*(1/43560)\n",
    "# looks like 200 AF per day is doable for most realizations, also would expect the flooding to happen for may 1-2 weeks per year\n",
    "(K_coarse*mean_area*m3_AF*C_AF/1000).plot()\n",
    "plt.ylabel('Estimated Recharge Benefit\\n (thousand dollars per day)')\n",
    "plt.xlabel('Realization')\n",
    "plt.show()\n",
    "\n",
    "# cost of surface water in sacramento valley $50-100/AF\n",
    "# cost of pumping?\n",
    "\n",
    "(K_coarse*mean_area*m3_AF*C_AF*14/1000).plot()\n",
    "plt.ylabel('Estimated Recharge Benefit\\n (thousand dollars per year)')\n",
    "plt.xlabel('Realization')"
   ]
  },
  {
   "cell_type": "markdown",
   "id": "201e6a11",
   "metadata": {},
   "source": [
    "Start with the best case scenario that every year every high recharge cell in the setback is activated with 0.5 meters of water (or calculated flood depth) which is typical of the flatter cross-sections. Then assume a cost of $50/AF water recharged and annualize the cost. Annualize cost of levee construction then perform cost benefit optimization."
   ]
  },
  {
   "cell_type": "code",
   "execution_count": 9,
   "id": "3f808126",
   "metadata": {},
   "outputs": [
    {
     "name": "stderr",
     "output_type": "stream",
     "text": [
      "C:\\Users\\ajcalder\\Anaconda3\\envs\\geosp\\lib\\site-packages\\geopandas\\_vectorized.py:142: DeprecationWarning: An exception was ignored while fetching the attribute `__array_interface__` from an object of type 'Polygon'.  With the exception of `AttributeError` NumPy will always raise this exception in the future.  Raise this deprecation warning to see the original exception. (Warning added NumPy 1.21)\n",
      "  aout[:] = out\n",
      "C:\\Users\\ajcalder\\Anaconda3\\envs\\geosp\\lib\\site-packages\\geopandas\\_vectorized.py:142: DeprecationWarning: An exception was ignored while fetching the attribute `__array_interface__` from an object of type 'Polygon'.  With the exception of `AttributeError` NumPy will always raise this exception in the future.  Raise this deprecation warning to see the original exception. (Warning added NumPy 1.21)\n",
      "  aout[:] = out\n",
      "C:\\Users\\ajcalder\\Anaconda3\\envs\\geosp\\lib\\site-packages\\geopandas\\_vectorized.py:142: DeprecationWarning: An exception was ignored while fetching the attribute `__array_interface__` from an object of type 'Polygon'.  With the exception of `AttributeError` NumPy will always raise this exception in the future.  Raise this deprecation warning to see the original exception. (Warning added NumPy 1.21)\n",
      "  aout[:] = out\n"
     ]
    }
   ],
   "source": [
    "local_setback = gpd.read_file(gwfm_dir+'/levee_setback/local_levee_setback_rectangles/local_levee_setback_rectangles.shp')\n",
    "local_setback = local_setback.dropna()"
   ]
  },
  {
   "cell_type": "code",
   "execution_count": 10,
   "id": "a01c547b",
   "metadata": {},
   "outputs": [],
   "source": [
    "local_setback.geometry.iloc[0].area\n",
    "for n in np.arange(0,len(local_setback)):\n",
    "    xy = list(local_setback.geometry.iloc[n].exterior.coords)\n",
    "    xy_dists = np.sum(np.sqrt(np.diff(xy,axis=0)**2),axis=1)\n",
    "    local_setback.loc[n,'width_m'] = np.min(xy_dists)\n"
   ]
  },
  {
   "cell_type": "code",
   "execution_count": 11,
   "id": "7d964430",
   "metadata": {},
   "outputs": [],
   "source": [
    "const_cost_m3 = 200 # 200$/m3 or yd3\n",
    "land_cost_m2 = 20000/43560/0.3048 # convert from cost per acre to cost per sq. ft then to sq m\n",
    "\n"
   ]
  },
  {
   "cell_type": "code",
   "execution_count": 12,
   "id": "f6741dda",
   "metadata": {},
   "outputs": [
    {
     "name": "stdout",
     "output_type": "stream",
     "text": [
      "Annualized cost for all work is 35.55 M$\n"
     ]
    }
   ],
   "source": [
    "const_int = 0.08 # higher interest rate for productive investments and lets assume levees are built for 100 years\n",
    "num_pers = 100 # number of periods, assume interest is compounding annually\n",
    "x_dist_m = 400 # setback distance total, increments of 400 from 400 to 6400 m\n",
    "const_cost = 2000/0.3048 # approx cost to move earth per meter of levee times total length (62 km) or local length (~2250 m)\n",
    "# land_cost = 2000/0.3048 # approx cost to move earth per meter of levee times total length (62 km) or local length (~2250 m)\n",
    "total_len = 62000\n",
    "local_len = 2250\n",
    "\n",
    "annual_cost = (const_cost*total_len + land_cost_m2*x_dist_m*total_len)*(const_int/(1-(1+const_int)**(-num_pers)))\n",
    "\n",
    "const_int, 0.08/12\n",
    "print('Annualized cost for all work is %.2f M$' %(annual_cost/1E6))\n",
    "# annual_cost = const_cost*2250"
   ]
  },
  {
   "cell_type": "code",
   "execution_count": 13,
   "id": "678da909",
   "metadata": {},
   "outputs": [
    {
     "name": "stdout",
     "output_type": "stream",
     "text": [
      "Annualized cost for all work is 1.29 M$\n"
     ]
    }
   ],
   "source": [
    "const_int = 0.08 # higher interest rate for productive investments and lets assume levees are built for 100 years\n",
    "num_pers = 100 # number of periods, assume interest is compounding annually\n",
    "x_dist_m = 400 # setback distance total, increments of 400 from 400 to 6400 m\n",
    "const_cost = 2000/0.3048 # approx cost to move earth per meter of levee times total length (62 km) or local length (~2250 m)\n",
    "# land_cost = 2000/0.3048 # approx cost to move earth per meter of levee times total length (62 km) or local length (~2250 m)\n",
    "\n",
    "annual_cost = (const_cost*local_len + land_cost_m2*x_dist_m*local_len)*(const_int/(1-(1+const_int)**(-num_pers)))\n",
    "\n",
    "const_int, 0.08/12\n",
    "print('Annualized cost for all work is %.2f M$' %(annual_cost/1E6))\n",
    "# annual_cost = const_cost*2250"
   ]
  },
  {
   "cell_type": "markdown",
   "id": "64442a57",
   "metadata": {},
   "source": [
    "because the cost so much greatly outweighs any potential benefit, rather than maximing profit we will focus on minimizing cost"
   ]
  },
  {
   "cell_type": "code",
   "execution_count": 14,
   "id": "d9a39aee",
   "metadata": {},
   "outputs": [],
   "source": [
    "def annual_cost(x, df):\n",
    "    x = int(x)\n",
    "    x_dist_m = np.arange(0,6800,400)[x]\n",
    "    annual_cost = (const_cost*local_len + land_cost_m2*x_dist_m*local_len)*(const_int/(1-(1+const_int)**(-num_pers)))\n",
    "    # N rch_rate *area * rch_depth * AF conv * cost/AF\n",
    "    annual_benefit = (df.iloc[x]*200*200*0.5)*C_AF*m3_AF\n",
    "    net_cost = annual_cost - annual_benefit\n",
    "    return(net_cost)"
   ]
  },
  {
   "cell_type": "code",
   "execution_count": 59,
   "id": "5f8266e1",
   "metadata": {},
   "outputs": [],
   "source": [
    "# C_AF = 1500\n",
    "C_AF=50"
   ]
  },
  {
   "cell_type": "code",
   "execution_count": 16,
   "id": "5bd2bcbf",
   "metadata": {},
   "outputs": [
    {
     "data": {
      "text/plain": [
       "     fun: -7199951.627745669\n",
       " message: 'Solution found.'\n",
       "    nfev: 29\n",
       "  status: 0\n",
       " success: True\n",
       "       x: 16.1651451197394"
      ]
     },
     "execution_count": 16,
     "metadata": {},
     "output_type": "execute_result"
    }
   ],
   "source": [
    "from scipy.optimize import fsolve, least_squares, minimize, minimize_scalar\n",
    "# fsolve(mannings, [2], args = (Q_cms, xs_elevs), xtol=1E-5)\n",
    "# least_squares(mannings, [2], args = (Q_cms, xs_elevs), bounds = (0, 10), ftol=1E-5)\n",
    "# minimize(mannings, [1.], args = (Q_cms, xs_elevs), bounds=[(0,10)], tol=1E-5)\n",
    "\n",
    "res = minimize_scalar(annual_cost,  args = (hf_tot_df.iloc[0]), bounds=(0,17), method='bounded')\n",
    "res\n"
   ]
  },
  {
   "cell_type": "code",
   "execution_count": 17,
   "id": "ee44b65a",
   "metadata": {},
   "outputs": [],
   "source": [
    "rch_depth = 2 # assume all water flooding infiltrates and becomes groundwater with value to be pumped"
   ]
  },
  {
   "cell_type": "code",
   "execution_count": 60,
   "id": "45e8d3dd",
   "metadata": {},
   "outputs": [
    {
     "name": "stdout",
     "output_type": "stream",
     "text": [
      "Annual cost mean 5.65E+07   annual benefit mean 6.81E+05\n"
     ]
    },
    {
     "data": {
      "text/plain": [
       "Text(0.5, 1.0, 'Total Length (62 km)')"
      ]
     },
     "execution_count": 60,
     "metadata": {},
     "output_type": "execute_result"
    },
    {
     "data": {
      "image/png": "[encoded data removed]",
      "text/plain": [
       "<Figure size 432x288 with 1 Axes>"
      ]
     },
     "metadata": {
      "needs_background": "light"
     },
     "output_type": "display_data"
    }
   ],
   "source": [
    "\n",
    "x_dist_m = np.arange(0,6800,400)\n",
    "annual_cost = (const_cost*total_len + land_cost_m2*x_dist_m*total_len)*(const_int/(1-(1+const_int)**(-num_pers)))\n",
    "annual_benefit = (hf_all.loc['Regional']*rch_depth)*C_AF*m3_AF \n",
    "net_cost = annual_cost - annual_benefit\n",
    "net_cost.transpose().plot(legend=False, cmap='gray')\n",
    "\n",
    "# print(annual_cost.mean(), annual_benefit.mean().median())\n",
    "print('Annual cost mean %.2E ' %annual_cost.mean(), ' annual benefit mean %.2E' %annual_benefit.mean().median())\n",
    "\n",
    "plt.ylabel('Net Annual Cost ($)')\n",
    "plt.title('Total Length (62 km)')\n",
    "# on a regional scale this will never be cost effective, even at 1000$/AF the zero setback is mostly the minimum\n",
    "# at $1500/AF there are minimums around 1200 m setback"
   ]
  },
  {
   "cell_type": "code",
   "execution_count": 61,
   "id": "3c4c91ab",
   "metadata": {},
   "outputs": [
    {
     "name": "stdout",
     "output_type": "stream",
     "text": [
      "Annual cost mean 2.05E+06   annual benefit mean 3.04E+04\n"
     ]
    },
    {
     "data": {
      "image/png": "[encoded data removed]",
      "text/plain": [
       "<Figure size 432x288 with 1 Axes>"
      ]
     },
     "metadata": {
      "needs_background": "light"
     },
     "output_type": "display_data"
    }
   ],
   "source": [
    "\n",
    "x_dist_m = np.arange(0,6800,400)\n",
    "annual_cost = (const_cost*local_len + land_cost_m2*x_dist_m*local_len)*(const_int/(1-(1+const_int)**(-num_pers)))\n",
    "annual_benefit = (hf_all.loc['Mahon']*rch_depth)*C_AF*m3_AF \n",
    "net_cost = annual_cost - annual_benefit\n",
    "net_cost.transpose().plot(legend=False,cmap='gray')\n",
    "\n",
    "plt.xlabel('Setback distance (m)')\n",
    "plt.ylabel('Net cost ($)')\n",
    "plt.title('Avg Local Length (2250 m)')\n",
    "\n",
    "print('Annual cost mean %.2E ' %annual_cost.mean(), ' annual benefit mean %.2E' %annual_benefit.mean().median())\n",
    "\n",
    "# as the recharge depth increases we see more variability in the plots and the minimum\n",
    "# values are no longer at a zero setback distances\n",
    "# I could plot minimum values at different recharge rates to avoid the flood mapping, but I think\n",
    "# flood mapping is the best way"
   ]
  },
  {
   "cell_type": "code",
   "execution_count": 32,
   "id": "7337d70c",
   "metadata": {},
   "outputs": [
    {
     "data": {
      "text/html": [
       "<div>\n",
       "<style scoped>\n",
       "    .dataframe tbody tr th:only-of-type {\n",
       "        vertical-align: middle;\n",
       "    }\n",
       "\n",
       "    .dataframe tbody tr th {\n",
       "        vertical-align: top;\n",
       "    }\n",
       "\n",
       "    .dataframe thead th {\n",
       "        text-align: right;\n",
       "    }\n",
       "</style>\n",
       "<table border=\"1\" class=\"dataframe\">\n",
       "  <thead>\n",
       "    <tr style=\"text-align: right;\">\n",
       "      <th></th>\n",
       "      <th>0</th>\n",
       "      <th>200</th>\n",
       "      <th>400</th>\n",
       "      <th>600</th>\n",
       "      <th>800</th>\n",
       "      <th>1000</th>\n",
       "      <th>1200</th>\n",
       "      <th>1400</th>\n",
       "      <th>1600</th>\n",
       "      <th>1800</th>\n",
       "      <th>2000</th>\n",
       "      <th>2200</th>\n",
       "      <th>2400</th>\n",
       "      <th>2600</th>\n",
       "      <th>2800</th>\n",
       "      <th>3000</th>\n",
       "      <th>3200</th>\n",
       "    </tr>\n",
       "  </thead>\n",
       "  <tbody>\n",
       "    <tr>\n",
       "      <th>0</th>\n",
       "      <td>0.032932</td>\n",
       "      <td>0.070380</td>\n",
       "      <td>0.092742</td>\n",
       "      <td>0.146311</td>\n",
       "      <td>0.168599</td>\n",
       "      <td>0.184320</td>\n",
       "      <td>0.217643</td>\n",
       "      <td>0.233877</td>\n",
       "      <td>0.262631</td>\n",
       "      <td>0.296007</td>\n",
       "      <td>0.320464</td>\n",
       "      <td>0.329034</td>\n",
       "      <td>0.334245</td>\n",
       "      <td>0.360285</td>\n",
       "      <td>0.375828</td>\n",
       "      <td>0.376319</td>\n",
       "      <td>0.381218</td>\n",
       "    </tr>\n",
       "    <tr>\n",
       "      <th>1</th>\n",
       "      <td>0.082331</td>\n",
       "      <td>0.145786</td>\n",
       "      <td>0.204033</td>\n",
       "      <td>0.258196</td>\n",
       "      <td>0.264941</td>\n",
       "      <td>0.272718</td>\n",
       "      <td>0.316733</td>\n",
       "      <td>0.325757</td>\n",
       "      <td>0.360722</td>\n",
       "      <td>0.387664</td>\n",
       "      <td>0.416317</td>\n",
       "      <td>0.430066</td>\n",
       "      <td>0.432168</td>\n",
       "      <td>0.437847</td>\n",
       "      <td>0.449073</td>\n",
       "      <td>0.457123</td>\n",
       "      <td>0.470132</td>\n",
       "    </tr>\n",
       "    <tr>\n",
       "      <th>2</th>\n",
       "      <td>0.065865</td>\n",
       "      <td>0.138245</td>\n",
       "      <td>0.171573</td>\n",
       "      <td>0.219466</td>\n",
       "      <td>0.252898</td>\n",
       "      <td>0.272718</td>\n",
       "      <td>0.329119</td>\n",
       "      <td>0.344134</td>\n",
       "      <td>0.362304</td>\n",
       "      <td>0.380151</td>\n",
       "      <td>0.391997</td>\n",
       "      <td>0.424605</td>\n",
       "      <td>0.445224</td>\n",
       "      <td>0.464117</td>\n",
       "      <td>0.479091</td>\n",
       "      <td>0.507915</td>\n",
       "      <td>0.515700</td>\n",
       "    </tr>\n",
       "    <tr>\n",
       "      <th>3</th>\n",
       "      <td>0.054887</td>\n",
       "      <td>0.120651</td>\n",
       "      <td>0.176210</td>\n",
       "      <td>0.245286</td>\n",
       "      <td>0.297055</td>\n",
       "      <td>0.319739</td>\n",
       "      <td>0.352122</td>\n",
       "      <td>0.375874</td>\n",
       "      <td>0.397111</td>\n",
       "      <td>0.414710</td>\n",
       "      <td>0.430624</td>\n",
       "      <td>0.438258</td>\n",
       "      <td>0.438696</td>\n",
       "      <td>0.441600</td>\n",
       "      <td>0.435865</td>\n",
       "      <td>0.432882</td>\n",
       "      <td>0.432343</td>\n",
       "    </tr>\n",
       "    <tr>\n",
       "      <th>4</th>\n",
       "      <td>0.049399</td>\n",
       "      <td>0.108083</td>\n",
       "      <td>0.153025</td>\n",
       "      <td>0.176434</td>\n",
       "      <td>0.214763</td>\n",
       "      <td>0.221936</td>\n",
       "      <td>0.265419</td>\n",
       "      <td>0.265618</td>\n",
       "      <td>0.270542</td>\n",
       "      <td>0.273468</td>\n",
       "      <td>0.284698</td>\n",
       "      <td>0.300363</td>\n",
       "      <td>0.326411</td>\n",
       "      <td>0.354030</td>\n",
       "      <td>0.377029</td>\n",
       "      <td>0.390171</td>\n",
       "      <td>0.404558</td>\n",
       "    </tr>\n",
       "    <tr>\n",
       "      <th>...</th>\n",
       "      <td>...</td>\n",
       "      <td>...</td>\n",
       "      <td>...</td>\n",
       "      <td>...</td>\n",
       "      <td>...</td>\n",
       "      <td>...</td>\n",
       "      <td>...</td>\n",
       "      <td>...</td>\n",
       "      <td>...</td>\n",
       "      <td>...</td>\n",
       "      <td>...</td>\n",
       "      <td>...</td>\n",
       "      <td>...</td>\n",
       "      <td>...</td>\n",
       "      <td>...</td>\n",
       "      <td>...</td>\n",
       "      <td>...</td>\n",
       "    </tr>\n",
       "    <tr>\n",
       "      <th>95</th>\n",
       "      <td>0.063120</td>\n",
       "      <td>0.108083</td>\n",
       "      <td>0.136795</td>\n",
       "      <td>0.167827</td>\n",
       "      <td>0.188670</td>\n",
       "      <td>0.188082</td>\n",
       "      <td>0.222952</td>\n",
       "      <td>0.242230</td>\n",
       "      <td>0.257885</td>\n",
       "      <td>0.276473</td>\n",
       "      <td>0.297574</td>\n",
       "      <td>0.315382</td>\n",
       "      <td>0.330328</td>\n",
       "      <td>0.374046</td>\n",
       "      <td>0.403445</td>\n",
       "      <td>0.415567</td>\n",
       "      <td>0.436789</td>\n",
       "    </tr>\n",
       "    <tr>\n",
       "      <th>96</th>\n",
       "      <td>0.052143</td>\n",
       "      <td>0.098029</td>\n",
       "      <td>0.132158</td>\n",
       "      <td>0.165676</td>\n",
       "      <td>0.184656</td>\n",
       "      <td>0.195605</td>\n",
       "      <td>0.244185</td>\n",
       "      <td>0.260606</td>\n",
       "      <td>0.287945</td>\n",
       "      <td>0.318545</td>\n",
       "      <td>0.337632</td>\n",
       "      <td>0.364532</td>\n",
       "      <td>0.374719</td>\n",
       "      <td>0.387807</td>\n",
       "      <td>0.389036</td>\n",
       "      <td>0.393634</td>\n",
       "      <td>0.401224</td>\n",
       "    </tr>\n",
       "    <tr>\n",
       "      <th>97</th>\n",
       "      <td>0.060376</td>\n",
       "      <td>0.120651</td>\n",
       "      <td>0.150706</td>\n",
       "      <td>0.185040</td>\n",
       "      <td>0.200713</td>\n",
       "      <td>0.225698</td>\n",
       "      <td>0.267188</td>\n",
       "      <td>0.292346</td>\n",
       "      <td>0.314841</td>\n",
       "      <td>0.318545</td>\n",
       "      <td>0.344785</td>\n",
       "      <td>0.359071</td>\n",
       "      <td>0.382553</td>\n",
       "      <td>0.406572</td>\n",
       "      <td>0.421456</td>\n",
       "      <td>0.427110</td>\n",
       "      <td>0.436789</td>\n",
       "    </tr>\n",
       "    <tr>\n",
       "      <th>98</th>\n",
       "      <td>0.063120</td>\n",
       "      <td>0.128191</td>\n",
       "      <td>0.153025</td>\n",
       "      <td>0.182889</td>\n",
       "      <td>0.192684</td>\n",
       "      <td>0.210651</td>\n",
       "      <td>0.244185</td>\n",
       "      <td>0.262277</td>\n",
       "      <td>0.299020</td>\n",
       "      <td>0.321550</td>\n",
       "      <td>0.333340</td>\n",
       "      <td>0.364532</td>\n",
       "      <td>0.383859</td>\n",
       "      <td>0.419082</td>\n",
       "      <td>0.451474</td>\n",
       "      <td>0.467512</td>\n",
       "      <td>0.479023</td>\n",
       "    </tr>\n",
       "    <tr>\n",
       "      <th>99</th>\n",
       "      <td>0.068609</td>\n",
       "      <td>0.143273</td>\n",
       "      <td>0.169254</td>\n",
       "      <td>0.202253</td>\n",
       "      <td>0.214763</td>\n",
       "      <td>0.223817</td>\n",
       "      <td>0.260110</td>\n",
       "      <td>0.265618</td>\n",
       "      <td>0.286363</td>\n",
       "      <td>0.289996</td>\n",
       "      <td>0.306158</td>\n",
       "      <td>0.326304</td>\n",
       "      <td>0.338161</td>\n",
       "      <td>0.345273</td>\n",
       "      <td>0.349412</td>\n",
       "      <td>0.363621</td>\n",
       "      <td>0.381218</td>\n",
       "    </tr>\n",
       "  </tbody>\n",
       "</table>\n",
       "<p>100 rows × 17 columns</p>\n",
       "</div>"
      ],
      "text/plain": [
       "           0       200       400       600       800      1000      1200  \\\n",
       "0   0.032932  0.070380  0.092742  0.146311  0.168599  0.184320  0.217643   \n",
       "1   0.082331  0.145786  0.204033  0.258196  0.264941  0.272718  0.316733   \n",
       "2   0.065865  0.138245  0.171573  0.219466  0.252898  0.272718  0.329119   \n",
       "3   0.054887  0.120651  0.176210  0.245286  0.297055  0.319739  0.352122   \n",
       "4   0.049399  0.108083  0.153025  0.176434  0.214763  0.221936  0.265419   \n",
       "..       ...       ...       ...       ...       ...       ...       ...   \n",
       "95  0.063120  0.108083  0.136795  0.167827  0.188670  0.188082  0.222952   \n",
       "96  0.052143  0.098029  0.132158  0.165676  0.184656  0.195605  0.244185   \n",
       "97  0.060376  0.120651  0.150706  0.185040  0.200713  0.225698  0.267188   \n",
       "98  0.063120  0.128191  0.153025  0.182889  0.192684  0.210651  0.244185   \n",
       "99  0.068609  0.143273  0.169254  0.202253  0.214763  0.223817  0.260110   \n",
       "\n",
       "        1400      1600      1800      2000      2200      2400      2600  \\\n",
       "0   0.233877  0.262631  0.296007  0.320464  0.329034  0.334245  0.360285   \n",
       "1   0.325757  0.360722  0.387664  0.416317  0.430066  0.432168  0.437847   \n",
       "2   0.344134  0.362304  0.380151  0.391997  0.424605  0.445224  0.464117   \n",
       "3   0.375874  0.397111  0.414710  0.430624  0.438258  0.438696  0.441600   \n",
       "4   0.265618  0.270542  0.273468  0.284698  0.300363  0.326411  0.354030   \n",
       "..       ...       ...       ...       ...       ...       ...       ...   \n",
       "95  0.242230  0.257885  0.276473  0.297574  0.315382  0.330328  0.374046   \n",
       "96  0.260606  0.287945  0.318545  0.337632  0.364532  0.374719  0.387807   \n",
       "97  0.292346  0.314841  0.318545  0.344785  0.359071  0.382553  0.406572   \n",
       "98  0.262277  0.299020  0.321550  0.333340  0.364532  0.383859  0.419082   \n",
       "99  0.265618  0.286363  0.289996  0.306158  0.326304  0.338161  0.345273   \n",
       "\n",
       "        2800      3000      3200  \n",
       "0   0.375828  0.376319  0.381218  \n",
       "1   0.449073  0.457123  0.470132  \n",
       "2   0.479091  0.507915  0.515700  \n",
       "3   0.435865  0.432882  0.432343  \n",
       "4   0.377029  0.390171  0.404558  \n",
       "..       ...       ...       ...  \n",
       "95  0.403445  0.415567  0.436789  \n",
       "96  0.389036  0.393634  0.401224  \n",
       "97  0.421456  0.427110  0.436789  \n",
       "98  0.451474  0.467512  0.479023  \n",
       "99  0.349412  0.363621  0.381218  \n",
       "\n",
       "[100 rows x 17 columns]"
      ]
     },
     "execution_count": 32,
     "metadata": {},
     "output_type": "execute_result"
    }
   ],
   "source": [
    "annual_benefit/annual_cost"
   ]
  },
  {
   "cell_type": "code",
   "execution_count": 603,
   "id": "c4fe1961",
   "metadata": {},
   "outputs": [
    {
     "data": {
      "text/plain": [
       "0         8917.845132\n",
       "200      15403.550682\n",
       "400      24321.395814\n",
       "600      40535.659689\n",
       "800      55128.497178\n",
       "1000     77017.753410\n",
       "1200    113499.847131\n",
       "1400    139442.669332\n",
       "1600    166196.204727\n",
       "1800    197003.306091\n",
       "2000    216460.422742\n",
       "2200    242403.244943\n",
       "2400    266724.640757\n",
       "2600    282938.904633\n",
       "2800    295099.602540\n",
       "3000    322663.851128\n",
       "3200    354281.665686\n",
       "Name: 0, dtype: float64"
      ]
     },
     "execution_count": 603,
     "metadata": {},
     "output_type": "execute_result"
    }
   ],
   "source": [
    "50*m3_AF # the value of water ends of 0.05 dollars per m^3 which is similar to Thomas' values with Mehrdad\n",
    " # area of recharge times depth (assumed 0.5 m now) * values/volume and assume yearly\n",
    "yearly_value = (hf_tot_df*200*200*0.5)*50*m3_AF\n",
    "# iterate through each realization\n",
    "yearly_value.iloc[0,:]"
   ]
  },
  {
   "cell_type": "code",
   "execution_count": null,
   "id": "2029cce6",
   "metadata": {},
   "outputs": [],
   "source": []
  }
 ],
 "metadata": {
  "kernelspec": {
   "display_name": "Python 3 (ipykernel)",
   "language": "python",
   "name": "python3"
  },
  "language_info": {
   "codemirror_mode": {
    "name": "ipython",
    "version": 3
   },
   "file_extension": ".py",
   "mimetype": "text/x-python",
   "name": "python",
   "nbconvert_exporter": "python",
   "pygments_lexer": "ipython3",
   "version": "3.7.11"
  }
 },
 "nbformat": 4,
 "nbformat_minor": 5
}
