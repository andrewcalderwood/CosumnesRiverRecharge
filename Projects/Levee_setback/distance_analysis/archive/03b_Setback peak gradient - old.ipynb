{
 "cells": [
  {
   "cell_type": "code",
   "execution_count": null,
   "id": "069f29ed",
   "metadata": {},
   "outputs": [],
   "source": [
    "# standard python utilities\n",
    "import os\n",
    "from os.path import exists, join, dirname, basename\n",
    "import sys\n",
    "import glob\n",
    "import pandas as pd\n",
    "import numpy as np\n",
    "import calendar\n",
    "import time\n",
    "\n",
    "# standard python plotting utilities\n",
    "import matplotlib as mpl\n",
    "import matplotlib.pyplot as plt\n",
    "\n",
    "# standard geospatial python utilities\n",
    "import pyproj # for converting proj4string\n",
    "import shapely\n",
    "import geopandas as gpd\n",
    "import rasterio\n",
    "\n",
    "# mapping utilities\n",
    "import contextily as ctx\n",
    "from mpl_toolkits.axes_grid1.inset_locator import inset_axes\n",
    "from mpl_toolkits.axes_grid1.anchored_artists import AnchoredSizeBar\n",
    "import matplotlib.font_manager as fm\n",
    "\n"
   ]
  },
  {
   "cell_type": "code",
   "execution_count": null,
   "id": "4d4c5722",
   "metadata": {},
   "outputs": [],
   "source": [
    "doc_dir = os.getcwd()\n",
    "while basename(doc_dir) != 'Documents':\n",
    "    doc_dir = dirname(doc_dir)\n",
    "    \n",
    "# dir of all gwfm data\n",
    "gwfm_dir = join(dirname(doc_dir),'Box/research_cosumnes/GWFlowModel')\n",
    "\n",
    "flopy_dir = doc_dir+'/GitHub/flopy'\n",
    "if flopy_dir not in sys.path:\n",
    "    sys.path.insert(0, flopy_dir)\n",
    "import flopy \n",
    "\n",
    "import flopy.utils.binaryfile as bf\n"
   ]
  },
  {
   "cell_type": "code",
   "execution_count": null,
   "id": "ac73b0c3",
   "metadata": {},
   "outputs": [],
   "source": [
    "# set box directory for output figures and data\n",
    "box_dir = gwfm_dir+'/Levee_setback/levee_setback_distance_analysis/'\n",
    "# permeameter analysis\n",
    "# tprogs_id = '' # original tprogs with conditioning data in output tsim\n",
    "# tprogs_id = '_no_conditioning' # no conditioning data\n",
    "\n",
    "# tprogs_id = 'north_shifted_stream_distance_analysis'\n",
    "\n",
    "# connec3d analysis\n",
    "tprogs_id = '_no_cond_c3d' # no conditioning data\n",
    "\n",
    "\n",
    "\n",
    "data_dir = box_dir+ tprogs_id+'/data_output/'\n",
    "fig_dir = box_dir+tprogs_id+'/figures/'\n",
    "chan_dir = box_dir+'channel_data/'\n"
   ]
  },
  {
   "cell_type": "code",
   "execution_count": null,
   "id": "a4e7a080",
   "metadata": {},
   "outputs": [],
   "source": [
    "ext_dir = 'F:/WRDAPP'\n",
    "c_dir = 'C:/WRDAPP'\n",
    "\n",
    "if os.path.exists(ext_dir):\n",
    "    loadpth = ext_dir \n",
    "elif os.path.exists(c_dir):\n",
    "    loadpth = c_dir \n",
    "    \n",
    "loadpth = loadpth +'/GWFlowModel/Cosumnes/levee_setback/setback_distance_analysis/'\n",
    "# model_ws = loadpth+'Permeameter_for_velocity' + tprogs_id\n",
    "model_ws = loadpth+'Permeameter_for_velocity' \n",
    "\n",
    "load_only = ['DIS','OC']\n",
    "name = 'MF.nam'\n",
    "# name = 'MF_child.nam'\n",
    "m = flopy.modflow.Modflow.load(name, model_ws=model_ws, load_only = load_only,\n",
    "                                exe_name='mf2005', version='mf2005')\n"
   ]
  },
  {
   "cell_type": "code",
   "execution_count": null,
   "id": "18419a6f",
   "metadata": {},
   "outputs": [],
   "source": [
    "import h5py\n",
    "f = h5py.File(join(chan_dir, 'setback_locs.hdf5'), \"r\")\n",
    "local_str_setbacks = f['setbacks']['local'][:]\n",
    "str_setbacks = f['setbacks']['regional'][:]\n",
    "\n",
    "f.close()"
   ]
  },
  {
   "cell_type": "code",
   "execution_count": null,
   "id": "8a4a78c9",
   "metadata": {},
   "outputs": [],
   "source": [
    "setbacks = np.arange(0,3400,200)"
   ]
  },
  {
   "cell_type": "code",
   "execution_count": null,
   "id": "05cc811b",
   "metadata": {},
   "outputs": [],
   "source": [
    "\n",
    "def plt_hf_cum_area(hf_tot_df, percentile, label,ax):\n",
    "    ''' percentiles available are 87, 95 and 99th '''\n",
    "#     fig,ax = plt.subplots(figsize=(8,4))\n",
    "    hf_tot_df = hf_tot_df.transpose()\n",
    "    # convert to hectares from m2\n",
    "    hf_tot_df = hf_tot_df.multiply(1E-4)\n",
    "    hf_tot_df.index = hf_tot_df.index.astype(int)\n",
    "    hf_max = hf_tot_df.max().max()\n",
    "    hf_tot_df.plot(color='lightgray',ax=ax, legend=False)\n",
    "    hf_tot_df.mean(axis=1).plot(legend=False, ax=ax, color='black', label='Realizations Averaged') #colormap='gray',\n",
    "    \n",
    "    ax.set_xlabel('Setback Distance (m)')\n",
    "    ax.set_ylabel('Cumulative Area  (ha)')\n",
    "#     plt.title(label)\n",
    "#     ax.set_title(str(percentile)+'th percentile of Flow')\n",
    "    plt.plot([450,450],[0,hf_max],color='blue',label='Transverse Mean Length')\n",
    "    plt.plot([1200,1200],[0,hf_max],color='blue', label = 'Parallel Mean Length')\n",
    "#     plt.savefig(fig_dir+'high_flow_cells_by_distance_'+label+'_'+str(percentile)+'.png',dpi=600)\n",
    "    # plt.legend(ncol = 4, loc = (1.05, 0.05))\n",
    "    \n"
   ]
  },
  {
   "cell_type": "code",
   "execution_count": null,
   "id": "bb473219",
   "metadata": {},
   "outputs": [],
   "source": [
    "# percentile = 95\n",
    "percentile = 6\n",
    "\n",
    "\n",
    "label='regional'\n",
    "hf_tot_df = pd.read_csv(data_dir+'surface_highflow_by_distance_'+label+'_'+str(percentile)+'.csv')\n"
   ]
  },
  {
   "cell_type": "code",
   "execution_count": null,
   "id": "5c48458f",
   "metadata": {},
   "outputs": [],
   "source": [
    "\n",
    "label='local'\n",
    "# # each set of 100 rows is a different location\n",
    "hf_tot_df_local = pd.read_csv(data_dir+'surface_highflow_by_distance_'+label+'_'+str(percentile)+'.csv')\n",
    "# # join local and regional datasets\n",
    "hf_all = pd.concat((hf_tot_df, hf_tot_df_local))\n",
    "site_order = ['Regional','Lower','Middle','Upper']\n",
    "\n",
    "# hf_all = hf_tot_df.copy()\n",
    "# site_order = ['Regional']\n",
    "\n",
    "# # create clean index for easier referencing\n",
    "site_realization = np.vstack((np.repeat(site_order,100),\n",
    "                              np.tile(np.arange(1,101),int(hf_all.shape[0]/100))))\n",
    "site_realization_index = pd.MultiIndex.from_arrays(site_realization,names=['Site','Realization'])\n",
    "\n",
    "hf_all = hf_all.set_index(site_realization_index)\n",
    "\n",
    "# convert from number of cells to area, m^2\n",
    "hf_all.loc[:] = hf_all.values*200*200\n",
    "# plot with setback as x and realizations as label\n",
    "hf_all.columns = pd.to_numeric(hf_all.columns)"
   ]
  },
  {
   "cell_type": "code",
   "execution_count": null,
   "id": "ac991fd7",
   "metadata": {},
   "outputs": [],
   "source": [
    "def plt_hf_step_area(hf_tot_df, percentile, label,ax):\n",
    "    ''' percentiles available are 87, 95 and 99th '''\n",
    "#     fig,ax = plt.subplots(figsize=(8,4))\n",
    "    hf_tot_df = hf_tot_df.transpose()\n",
    "    # convert to hectares from m2\n",
    "    hf_tot_df = hf_tot_df.multiply(1E-4)\n",
    "    hf_tot_df.index = hf_tot_df.index.astype(int)\n",
    "\n",
    "    hf_diff = hf_tot_df.diff(axis=0)\n",
    "    hf_diff.iloc[0,:] = hf_tot_df.iloc[0,:]\n",
    "    hf_max = hf_diff.max().max()\n",
    "    # use cell numbers for axis\n",
    "#     hf_diff.index = np.arange(1, len(hf_diff)+1)\n",
    "    hf_diff.plot(legend=False, ax=ax,\n",
    "                 color='lightgray', #colormap='gray',\n",
    "                )\n",
    "    hf_diff.mean(axis=1).plot(legend=False, ax=ax, color='black', label='Realizations Averaged') \n",
    "    # so that xticks align with actual locations\n",
    "    ax.set_xticks(hf_diff.index[::2])\n",
    "    ax.set_xticks([], minor=True)\n",
    "#     ax.set_xlabel('Setback Cells')\n",
    "    ax.set_xlabel('Setback Distance (m)')\n",
    "    ax.set_ylabel('Area (ha)')\n",
    "#     ax.set_title(str(percentile)+'th percentile of Flow')\n",
    "#     ax.plot([450,450],[0,hf_max],color='blue',label='Transverse Mean Length')\n",
    "#     ax.plot([1200,1200],[0,hf_max],color='blue', label = 'Parallel Mean Length')\n",
    "    fig.tight_layout()\n",
    "#     plt.savefig(fig_dir+'high_flow_cells_diff_by_distance_'+str(percentile)+'.png',dpi=600)\n",
    "    \n"
   ]
  },
  {
   "cell_type": "markdown",
   "id": "b4c8d157",
   "metadata": {},
   "source": [
    "## Optimal gradient "
   ]
  },
  {
   "cell_type": "markdown",
   "id": "66305823",
   "metadata": {},
   "source": [
    "Gaussian filters serve to reduce noise and detail in datasets. They can aid in edge detection in imagery because the noise surrounding contours is reduced. In this case, it reduces detail between setback distances but overall allows a clearer picture of the trend."
   ]
  },
  {
   "cell_type": "code",
   "execution_count": null,
   "id": "a803d947",
   "metadata": {},
   "outputs": [],
   "source": [
    "# 1d so the smoothing is specific to each realization\n",
    "from scipy.ndimage import gaussian_filter1d\n",
    "# smooth across setback distances so the changes in high flow area are less abrupt, makes it easier to find gradients\n",
    "smooth = gaussian_filter1d(hf_all,2)\n",
    "\n",
    "smooth = pd.DataFrame(smooth, index=site_realization_index,columns=np.arange(0,3400,200))\n",
    "# smooth\n",
    "# plt_hf_cum_area(hf_all.loc['Regional'], percentile,'Regional')\n",
    "fig,ax=plt.subplots(2,2,figsize=(6,6), sharex=True, sharey=True)\n",
    "for i,n in enumerate(site_order):\n",
    "    ax_n = ax[int(i/2), i % 2]\n",
    "    plt_hf_cum_area(smooth.loc[n], percentile,n,ax=ax_n)\n",
    "# ax.set_ylabel('Smoothed Cumulative Area \\nof High Flow Cells ($m^2$)')\n"
   ]
  },
  {
   "cell_type": "code",
   "execution_count": null,
   "id": "313d34ff",
   "metadata": {},
   "outputs": [],
   "source": [
    "n='Regional'\n",
    "r = np.arange(1,100).astype(str)\n",
    "# can look at maximum of first derivative, or look where second derivative goes from + to -\n",
    "grad1_df = pd.DataFrame(np.gradient(smooth)[1], index=site_realization_index, columns = np.arange(0,3400,200))\n",
    "# plt_hf_cum_area(grad1_df.loc[n].loc[r], percentile, n)\n",
    "\n",
    "grad2_df = pd.DataFrame(np.gradient(grad1_df)[1], index=site_realization_index, columns = np.arange(0,3400,200))\n",
    "# # grad2_df\n",
    "# plt_hf_cum_area(grad2_df.loc[n], percentile, n)\n",
    "# find switching points\n",
    "# plt.show()\n",
    "fig,ax=plt.subplots(3,1,figsize=(6,12))\n",
    "smooth.loc[n].loc[r].transpose().plot(legend=False,ax=ax[0])\n",
    "plt.ylabel('High K area smoothed with setbacks')\n",
    "\n",
    "grad1_df.loc[n].loc[r].transpose().plot(legend=False,ax=ax[1])\n",
    "plt.ylabel('First derivative of High K area')\n",
    "\n",
    "# plt.legend(ncol=5,loc=(1.2,0.2))\n",
    "# np.sign gives + or -, np diff gives out[i] = a[i+1] - a[i]. \n",
    "# + to - means max of 1st derivative. So diff ==-2 means max, but to account for difference go up one indice\n",
    "max_df = pd.DataFrame(np.diff(np.sign(grad2_df)), index=site_realization_index,columns = np.arange(200,3400,200))\n",
    "max_df = 1*(max_df==-2)\n",
    "\n",
    "max_df.loc[n].loc[r].transpose().plot(kind='bar',legend=False,stacked=True,ax=ax[2])\n",
    "plt.ylabel('Realizations with a maximum gradient')\n",
    "# fig.tight_layout()\n"
   ]
  },
  {
   "cell_type": "code",
   "execution_count": null,
   "id": "e8a15203",
   "metadata": {},
   "outputs": [],
   "source": [
    "#example of how g\n",
    "# np.sign gives + or -, np diff gives out[i] = a[i+1] - a[i]. \n",
    "# + to - means max of 1st derivative. So diff ==-2 means max, but to account for difference go up one indice\n",
    "# grad1_max = np.where(np.diff(np.sign(grad2_df))==-2)\n",
    "\n",
    "# r = 20\n",
    "# plt.plot(smooth.values[r,:],label='smooth')\n",
    "\n",
    "# plt.plot(grad1_df.values[r,:],label='grad1')\n",
    "# plt.legend()\n",
    "# print('Grad1 max: ',grad1_df.values[r,:].argmax())\n",
    "# plt.show()\n",
    "# plt.plot(grad2_df.values[r,:],label='grad2')\n",
    "\n",
    "# plt.plot(np.sign(grad2_df).values[r,:],label='sign')\n",
    "# plt.plot(np.diff(np.sign(grad2_df))[r,:],label='diff')\n",
    "# plt.legend()"
   ]
  },
  {
   "cell_type": "markdown",
   "id": "cac6b067",
   "metadata": {},
   "source": [
    "# Plot Smooth, 1st Derivative, Maxima"
   ]
  },
  {
   "cell_type": "code",
   "execution_count": null,
   "id": "551b1591",
   "metadata": {},
   "outputs": [],
   "source": [
    "max_df_plt = max_df.loc['Regional'].transpose()\n",
    "max_df_plt.index"
   ]
  },
  {
   "cell_type": "code",
   "execution_count": null,
   "id": "88bb048a",
   "metadata": {},
   "outputs": [],
   "source": [
    "fig,ax=plt.subplots(figsize=(8,4))\n",
    "max_df.loc['Regional'].transpose().plot(kind='bar',legend=False,stacked=True,ax=ax, color='lightgray') \n",
    "\n",
    "# fig.text(-0.01, 0.2,'Number of realizations with a \\nmaximum gradient at the setback',rotation=90, fontdict={'size':18})\n",
    "\n",
    "# fig.text(-0.01, 0.2,'Maximum gradient count\\nby realization',rotation=90, fontdict={'size':14})\n",
    "# fig.text(0.4, -.1,'Setback distance (m)',  fontdict={'size':14})\n",
    "plt.xlabel('Setback distance (m)')\n",
    "plt.ylabel('Maximum gradient count\\nby realization')\n",
    "# plt.xlim(0,3200)"
   ]
  },
  {
   "cell_type": "code",
   "execution_count": null,
   "id": "d4607248",
   "metadata": {},
   "outputs": [],
   "source": [
    "fig,ax=plt.subplots(2,2,figsize=(8,8),sharex=True, sharey=True)\n",
    "for i,n in enumerate(site_order):\n",
    "    #.loc[r]\n",
    "    ax_n = ax[int(i/2), (i % 2)]\n",
    "    max_df.loc[n].transpose().plot(kind='bar',legend=False,stacked=True,ax=ax_n, color='lightgray') # colormap='gray'\n",
    "    ax_n.set_title(n)\n",
    "# fig.text(0.05,0.4,'Number of realizations with a \\nmaximum gradient at the setback',rotation=90, fontdict={'size':18})\n",
    "# fig.text(0.4,0.03,'Setback distance (m)',  fontdict={'size':18})\n",
    "fig.supylabel('Number of realizations with a \\nmaximum gradient at the setback')\n",
    "fig.supxlabel('Setback distance (m)')\n",
    "\n",
    "# plt.savefig()\n",
    "# plt.savefig(fig_dir+'all_sites_max_gradient_by_distance_'+str(percentile)+'.png',dpi=600)\n"
   ]
  },
  {
   "cell_type": "code",
   "execution_count": null,
   "id": "44a13912",
   "metadata": {},
   "outputs": [],
   "source": [
    "colors = ['lightgray', 'blue']\n",
    "scale = [0, 1]\n",
    "cmap=mpl.colors.ListedColormap(colors)\n",
    "norm=mpl.colors.BoundaryNorm(scale, len(colors))\n",
    "\n",
    "grid_sfr = gpd.read_file(gwfm_dir+'/SFR_data/final_grid_sfr/grid_sfr.shp')\n",
    "setbacks = np.arange(0,3200,200)"
   ]
  },
  {
   "cell_type": "code",
   "execution_count": null,
   "id": "03de1be9",
   "metadata": {},
   "outputs": [],
   "source": [
    "r=0\n",
    "folder = '/realization'+ str(r).zfill(3)+'/'\n",
    "run_ws = model_ws+folder"
   ]
  },
  {
   "cell_type": "code",
   "execution_count": null,
   "id": "0fabac6b",
   "metadata": {},
   "outputs": [],
   "source": [
    "flow_percentile=6\n",
    "hf_all_out = np.loadtxt(data_dir+'surface_highflow_by_realization_'+str(flow_percentile)+'.tsv', delimiter = '\\t')\n",
    "hf_tot = np.reshape(hf_all_out, (100, 100,230))"
   ]
  },
  {
   "cell_type": "code",
   "execution_count": null,
   "id": "bcc74bba",
   "metadata": {},
   "outputs": [],
   "source": [
    "grid_sfr = gpd.read_file(gwfm_dir+'/SFR_data/final_grid_sfr/grid_sfr.shp')\n"
   ]
  },
  {
   "cell_type": "code",
   "execution_count": null,
   "id": "51fbc7f4",
   "metadata": {},
   "outputs": [],
   "source": [
    "\n",
    "def plt_high_recharge_setback(qz_lay, str_setbacks,label):\n",
    "    nx = 5\n",
    "    ny = int(len(setbacks)/nx)\n",
    "    fig, ax = plt.subplots(ny,nx,figsize=(10,6), sharex=True,sharey=True)\n",
    "    fig.tight_layout(h_pad=1) # space between plots\n",
    "#     cmap = mpl.cm.get_cmap('viridis', 2)    # 2 discrete colors\n",
    "    buf_sfr = grid_sfr.copy()\n",
    "\n",
    "    n=0\n",
    "    for x in np.arange(0,ny):\n",
    "        for y in np.arange(0,nx):\n",
    "            temp = np.zeros(qz_lay.shape)\n",
    "            temp[str_setbacks[n,:,:].astype('bool')] = qz_lay[str_setbacks[n,:,:].astype('bool')]\n",
    "            mapview = flopy.plot.PlotMapView(model=m,ax=ax[x,y])\n",
    "            im = mapview.plot_array(temp, cmap=cmap)\n",
    "            ax[x,y].ticklabel_format(style='plain')\n",
    "#             im = ax[x,y].imshow(temp,cmap=cmap)\n",
    "            ax[x,y].set_title(str(200+200*n)+'m')\n",
    "            grid_sfr.plot(ax=ax[x,y], color='black')\n",
    "            sfr_union = gpd.GeoDataFrame(pd.DataFrame([0]), geometry = [grid_sfr.unary_union], crs='epsg:3310')\n",
    "            sfr_union.geometry = sfr_union.buffer(setbacks[n])\n",
    "            sfr_union.plot(color=\"None\", edgecolor='black',ax=ax[x,y], linewidth = 0.2)\n",
    "            plt.yticks(rotation=90)\n",
    "#             sfr_union.plot(color=\"None\", edgecolor='black',ax=ax[x,y])\n",
    "            n+=1\n",
    "\n",
    "    # color bar on all rows, with two discrete labels\n",
    "    cbar=plt.colorbar(mappable = im, ax=ax,  ticks = [0.25,.75], shrink= 0.7)\n",
    "    cbar.ax.set_yticklabels(['Low flow facies', 'High flow facies'])\n",
    "\n",
    "#     plt.savefig(fig_dir+'Comparison of ' + str(flow_percentile)+'th flow facies for '+ label+' setback distances.png',dpi=600)\n",
    "plt_high_recharge_setback(hf_tot[0], str_setbacks,label='regional')\n",
    "# plt_high_recharge_setback(q_plt, local_str_setbacks,label='local')"
   ]
  },
  {
   "cell_type": "markdown",
   "id": "99636baf",
   "metadata": {},
   "source": [
    "## High K Cell Group Area statistics "
   ]
  },
  {
   "cell_type": "code",
   "execution_count": null,
   "id": "b5c4dc4f",
   "metadata": {},
   "outputs": [],
   "source": [
    "def stats_cell2area(df):\n",
    "    ''' convert cell count stats to areas'''\n",
    "    df.Mean *= 200**2\n",
    "    df.Max *= 200**2\n",
    "    df.Min *= 200**2\n",
    "    df.Median *= 200**2\n",
    "    df.Setback *= 200\n",
    "#     df = df.set_index('Realization')\n",
    "    return(df)\n",
    "\n",
    "cell_stats_all=pd.read_csv(data_dir+'surface_highflow_cells_statistics_regional'+str(percentile)+'.csv')\n",
    "cell_stats_all = stats_cell2area(cell_stats_all)\n",
    "cell_stats_all['Location'] = 0\n",
    "cell_stats_all['Site'] = 'Regional'\n",
    "# 1:BLodgett, 2:Mahon, 3:Oneto-Denier\n",
    "# site_dict = {1:'Blodgett',2:'Mahon',3:'Oneto-Denier'}\n",
    "# cell_stats_all_local = pd.read_csv(data_dir+'surface_highflow_cells_statistics_local'+str(percentile)+'.csv')\n",
    "# cell_stats_all_local = stats_cell2area(cell_stats_all_local)\n",
    "# cell_stats_all_local['Site'] = list(site_dict[k] for k in cell_stats_all_local.Location.values)\n",
    "\n",
    "# cell_stats_all = cell_stats_all.append(cell_stats_all_local)\n",
    "cell_stats_all = cell_stats_all.set_index(['Site','Realization'])\n",
    "cell_stats_all['Mean_Num_Grps'] = cell_stats_all.Mean/cell_stats_all.Num_Grps\n"
   ]
  },
  {
   "cell_type": "code",
   "execution_count": null,
   "id": "56cb8f17",
   "metadata": {},
   "outputs": [],
   "source": [
    "n='Oneto-Denier'\n",
    "cell_stats_all.loc[n].pivot_table(columns='Realization',values='Mean_Num_Grps',index='Setback').plot(legend=False)"
   ]
  },
  {
   "cell_type": "markdown",
   "id": "f6da1ca1",
   "metadata": {},
   "source": [
    "A high number of groups with small mean areas suggests there is no one best place generally to place setbacks, while if the number of groups is small with large mean areas then it is worthwhile creating focused setback.\n",
    "Compare number of groups to mean area: doesn't seem to be a clear pattern in the mean area divided by the number of groups on a local scale, on a regional scale area divided by number of groups decreases with setback probably because as seback increases there are more small groups but not as many large groups. It could be on a local scale each realiztaion has significantly different outcrops so how it happens isn't regular unless you have geophysical data. This approach can't approximate best locations, only best distances based on cumulated high K area."
   ]
  },
  {
   "cell_type": "code",
   "execution_count": null,
   "id": "3d87ea5c",
   "metadata": {},
   "outputs": [],
   "source": [
    "# pd.DataFrame(cell_stats_all_local.loc[:,'Max'])\n",
    "param='Max'\n",
    "def plt_cell_stats(df, param):\n",
    "    df = df.loc[:,[param,'Setback']].pivot_table(values=param, columns='Realization', index='Setback')\n",
    "    df.plot(colormap='gray', legend=False)\n",
    "    plt.ylabel(param+' Area of High Flow Groups ($m^2$)')\n",
    "    plt.xlabel('Setback Distance (m)')\n",
    "    \n",
    "    \n",
    "# plt_cell_stats(cell_stats_all,'Max')\n",
    "n='Regional'\n",
    "plt_cell_stats(cell_stats_all.loc[n],'Mean')\n",
    "\n",
    "plt_cell_stats(cell_stats_all.loc[n],'Num_Grps')\n",
    "plt.ylabel('Number of High Flow Area Groups')"
   ]
  },
  {
   "cell_type": "code",
   "execution_count": null,
   "id": "2029cce6",
   "metadata": {},
   "outputs": [],
   "source": []
  }
 ],
 "metadata": {
  "kernelspec": {
   "display_name": "Python 3 (ipykernel)",
   "language": "python",
   "name": "python3"
  },
  "language_info": {
   "codemirror_mode": {
    "name": "ipython",
    "version": 3
   },
   "file_extension": ".py",
   "mimetype": "text/x-python",
   "name": "python",
   "nbconvert_exporter": "python",
   "pygments_lexer": "ipython3",
   "version": "3.10.9"
  }
 },
 "nbformat": 4,
 "nbformat_minor": 5
}
