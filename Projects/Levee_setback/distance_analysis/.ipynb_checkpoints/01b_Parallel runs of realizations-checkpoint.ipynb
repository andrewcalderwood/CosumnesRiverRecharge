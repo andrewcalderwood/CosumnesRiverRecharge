{
 "cells": [
  {
   "cell_type": "markdown",
   "metadata": {},
   "source": [
    "Cosumnes Model \n",
    "@author: Andrew"
   ]
  },
  {
   "cell_type": "code",
   "execution_count": null,
   "metadata": {},
   "outputs": [],
   "source": [
    "# standard python utilities\n",
    "import os\n",
    "import sys\n",
    "import glob\n",
    "import pandas as pd\n",
    "import numpy as np\n",
    "import calendar\n",
    "import time\n",
    "from scipy.stats import gmean\n",
    "\n",
    "# standard python plotting utilities\n",
    "import matplotlib as mpl\n",
    "import matplotlib.pyplot as plt\n",
    "\n",
    "# standard geospatial python utilities\n",
    "import pyproj # for converting proj4string\n",
    "import shapely\n",
    "import geopandas as gpd\n",
    "import rasterio\n",
    "\n",
    "# mapping utilities\n",
    "import contextily as ctx\n",
    "from mpl_toolkits.axes_grid1.inset_locator import inset_axes\n",
    "from mpl_toolkits.axes_grid1.anchored_artists import AnchoredSizeBar\n",
    "import matplotlib.font_manager as fm"
   ]
  },
  {
   "cell_type": "code",
   "execution_count": null,
   "metadata": {},
   "outputs": [],
   "source": [
    "\n",
    "# run installed version of flopy or add local path\n",
    "try:\n",
    "    import flopy\n",
    "    from flopy.discretization.structuredgrid import StructuredGrid\n",
    "    from flopy.utils.reference import SpatialReference\n",
    "    from flopy.utils import Raster\n",
    "except:\n",
    "    import flopy\n",
    "    fpth = os.path.abspath(os.path.join('..', '..'))\n",
    "    sys.path.append(fpth)\n",
    "    from flopy.discretization.structuredgrid import StructuredGrid\n",
    "    from flopy.utils.reference import SpatialReference\n",
    "    from flopy.utils import Raster\n",
    "from flopy.utils.gridgen import Gridgen\n",
    "from flopy.utils import OptionBlock\n",
    "import flopy.utils.binaryfile as bf\n",
    "\n",
    "\n",
    "print(sys.version)\n",
    "print('numpy version: {}'.format(np.__version__))\n",
    "print('matplotlib version: {}'.format(mpl.__version__))\n",
    "print('flopy version: {}'.format(flopy.__version__))"
   ]
  },
  {
   "cell_type": "code",
   "execution_count": null,
   "metadata": {},
   "outputs": [],
   "source": [
    "## Set up directory referencing\n",
    "# Package data\n",
    "git_dir = os.path.dirname(os.path.dirname(os.getcwd()))\n",
    "gwfm_dir = '\\\\'.join(str.split(git_dir,'\\\\')[0:3])+ '/Box/research_cosumnes/GWFlowModel'\n",
    "print(git_dir, gwfm_dir)"
   ]
  },
  {
   "cell_type": "markdown",
   "metadata": {},
   "source": [
    "## Individual Users may change loadpath \n",
    "The default loadpath is set to an existing external hard drive for Andrew as F://\n",
    "If the script doesn't find an external harddrive F:// then it will default to the C:// Drive in WRDAPP"
   ]
  },
  {
   "cell_type": "code",
   "execution_count": null,
   "metadata": {},
   "outputs": [],
   "source": [
    "ext_dir = 'F:/WRDAPP'\n",
    "c_dir = 'C:/WRDAPP'\n",
    "\n",
    "if os.path.exists(ext_dir):\n",
    "    loadpth = ext_dir \n",
    "elif os.path.exists(c_dir):\n",
    "    loadpth = c_dir \n",
    "\n",
    "loadpth = loadpth +'/GWFlowModel/Cosumnes/levee_setback/setback_distance_analysis/'\n",
    "model_ws = loadpth+'Permeameter_for_velocity'\n",
    "# tprogs_id= '' # tprogs data with conditioning data in the model\n",
    "tprogs_id = '_no_conditioning' # tprogs without conditioining data in the model\n",
    "\n",
    "model_ws = model_ws+tprogs_id\n",
    "\n",
    "print(model_ws)"
   ]
  },
  {
   "cell_type": "code",
   "execution_count": null,
   "metadata": {},
   "outputs": [],
   "source": [
    "m = flopy.modflow.Modflow.load('MF.nam',model_ws = model_ws)"
   ]
  },
  {
   "cell_type": "markdown",
   "metadata": {},
   "source": [
    "## Create 100 runs\n",
    "Copy existing modflow run folder 100 times with CHD, PCGN, BAS, OC, NAM, DIS\n",
    "Then iterate over the 100 TPROGs realizations making a new LPF package in each folder"
   ]
  },
  {
   "cell_type": "code",
   "execution_count": null,
   "metadata": {},
   "outputs": [],
   "source": [
    "pks = ['chd','dis','pcgn','bas','oc','nam']\n",
    "files = [glob.glob(model_ws+'/*'+p)[0] for p in pks]\n"
   ]
  },
  {
   "cell_type": "code",
   "execution_count": null,
   "metadata": {},
   "outputs": [],
   "source": [
    "import shutil, os\n",
    "\n",
    "for n in np.arange(0,100).astype(str):\n",
    "    for f in files:\n",
    "        folder = '/realization'+ n.zfill(3)+'/'\n",
    "        os.makedirs(model_ws+folder,exist_ok=True)\n",
    "        shutil.copy(f, model_ws+folder)"
   ]
  },
  {
   "cell_type": "code",
   "execution_count": null,
   "metadata": {},
   "outputs": [],
   "source": [
    "model_ws\n",
    "\n",
    "mf_tprogs_dir = gwfm_dir+'/UPW_data/tprogs_final'+tprogs_id+'/'\n",
    "tprogs_files = glob.glob(mf_tprogs_dir+'*')\n"
   ]
  },
  {
   "cell_type": "code",
   "execution_count": null,
   "metadata": {},
   "outputs": [],
   "source": [
    "def int_to_param(tprogs, params):\n",
    "    \"\"\"\n",
    "    Parameters\n",
    "    ----------\n",
    "    tprogs: 3D masked array of TPROGs realization\n",
    "    params: Reference table connecting TPROGs facie to a hydraulic value\n",
    "    \"\"\"\n",
    "    tprogs[tprogs<0] *= -1\n",
    "    tprogs = tprogs.astype(float)\n",
    "    # flip tprogs model along z axis to match modflow definition of 0 as top (TPROGS says 0 is bottom)\n",
    "    tprogs = np.flip(tprogs,axis=0)\n",
    "    tprogs_K = np.copy(tprogs)\n",
    "    tprogs_Sy = np.copy(tprogs)\n",
    "    tprogs_Ss = np.copy(tprogs)\n",
    "    # hydraulic parameters from fleckenstein 2006\n",
    "    # I-IV gravel, sand, muddy sand, mud\n",
    "    # K in m/s, Sy, Ss\n",
    "    for n in np.arange(1,5):\n",
    "        tprogs_K[tprogs==n]= params.loc[n,'K_m_d']\n",
    "    for n in np.arange(1,5):\n",
    "        tprogs_Sy[tprogs==n]= params.loc[n,'Sy']\n",
    "    for n in np.arange(1,5):\n",
    "        tprogs_Ss[tprogs==n]= params.loc[n,'Ss']\n",
    "            \n",
    "    return(tprogs_K,tprogs_Sy,tprogs_Ss)"
   ]
  },
  {
   "cell_type": "code",
   "execution_count": null,
   "metadata": {},
   "outputs": [],
   "source": [
    "gel_dir = gwfm_dir+'/UPW_data'\n",
    "params = pd.read_csv(model_ws+'/ZonePropertiesInitial.csv',index_col='Zone')\n",
    "\n",
    "# convert from m/s to m/d\n",
    "params['K_m_d'] = params.K_m_s * 86400 "
   ]
  },
  {
   "cell_type": "code",
   "execution_count": null,
   "metadata": {},
   "outputs": [],
   "source": [
    "tic = time.time()\n",
    "\n",
    "for n in np.arange(0,100):\n",
    "    tprogs_line = np.loadtxt(tprogs_files[n])\n",
    "    tprogs_arr = np.reshape(tprogs_line, (320, 100,230))\n",
    "\n",
    "    K, Sy, Ss= int_to_param(tprogs_arr, params)\n",
    "\n",
    "    # # take of 2 for the bottom layers and 1 for the unsat zone layer up top\n",
    "    # # for tprogs arrays 0 is the bottom of the model, so flipping on z will fix\n",
    "    hk = np.flip(K,axis=0)\n",
    "    #need to set anisotropy for TPROGs, may not matter for this\n",
    "    vka = np.flip(K,axis=0)\n",
    "    sy = np.flip(Sy,axis=0)\n",
    "    ss = np.flip(Ss,axis=0)\n",
    "\n",
    "#     plt.imshow(hk[0,:,:])\n",
    "#     plt.show()\n",
    "    # layvka 0 means vka is vert K, non zero means its the anisotropy ratio between horiz and vert\n",
    "    layvka = 0\n",
    "\n",
    "    # LAYTYP MUST BE GREATER THAN ZERO WHEN IUZFOPT IS 2\n",
    "    # 0 is confined, >0 convertible, <0 convertible unless the THICKSTRT option is in effect\n",
    "    # laytyp = np.ones(nlay)  \n",
    "    laytyp = np.zeros(m.dis.nlay)\n",
    "    # Laywet must be 0 if laytyp is confined laywet = [1,1,1,1,1]\n",
    "    laywet = np.zeros(len(laytyp))\n",
    "    laywet[laytyp==1] = 1\n",
    "    #ipakcb = 55 means cell-by-cell budget is saved because it is non zero (default is 53)\n",
    "\n",
    "    # until upscaling is begun then vertical and horiz K are the same for TPROGS\n",
    "    # upw = flopy.modflow.ModflowUpw(model = m, hk =hk, layvka = layvka, vka = hk, sy=sy, ss=ss,\n",
    "    #             laytyp=laytyp, ipakcb=55)\n",
    "    m.model_ws = model_ws+'/realization'+ str(n).zfill(3)+'/'\n",
    "\n",
    "    lpf = flopy.modflow.ModflowLpf(model = m, hk =hk, layvka = layvka, vka = hk, sy=sy, ss=ss,\n",
    "                                   laytyp=laytyp, laywet = laywet, ipakcb=55)\n",
    "#     plt.imshow(lpf.hk.array[0,:,:])\n",
    "#     plt.show()\n",
    "    lpf.write_file()\n",
    "toc = time.time()\n",
    "print('Time: '+str(toc-tic)+' (sec) or '+str((toc-tic)/60)+' (min)')\n",
    "# takes 0.5 min per, so 50 minutes for all 100"
   ]
  },
  {
   "cell_type": "code",
   "execution_count": null,
   "metadata": {},
   "outputs": [],
   "source": [
    "print('Time: '+str(toc-tic)+' (s)? or '+str((toc-tic)/60)+' (min)')"
   ]
  },
  {
   "cell_type": "markdown",
   "metadata": {},
   "source": [
    "## Write out batch file to iterate over model runs"
   ]
  },
  {
   "cell_type": "code",
   "execution_count": null,
   "metadata": {},
   "outputs": [],
   "source": [
    "# import shutil, os\n",
    "# # run_mf = 'mf2005.exe MF.nam\\n PAUSE' #useful if running manually\n",
    "# run_mf = 'mf2005.exe MF.nam\\n'\n",
    "\n",
    "# for n in np.arange(0,100).astype(str):\n",
    "#     folder = '/realization'+ n.zfill(3)+'/'\n",
    "#     f = open(model_ws+folder+\"00_run_mf.bat\", \"w\")\n",
    "#     f.write(run_mf)\n",
    "#     f.close()"
   ]
  },
  {
   "cell_type": "code",
   "execution_count": null,
   "metadata": {},
   "outputs": [],
   "source": [
    "# if the code is set up to run in order then it will all run automatically but in series so it will take 100 minutes\n",
    "# if I can set up runners then it can run all at once or perhaps in sets\n",
    "\n",
    "# this doesn't run from the correct folder\n",
    "# If you want the bat to be run on an independent console: (i.e. another window)\n",
    "# START CMD /C CALL \"foo.bat\" [args [...]]\n",
    "# If you want the other window to hang around afterwards:\n",
    "# START CMD /K CALL \"foo.bat\" [args [...]\n",
    "\n",
    "# simple\n",
    "# Start program1.exe\n",
    "# Start program2.exe"
   ]
  },
  {
   "cell_type": "code",
   "execution_count": null,
   "metadata": {},
   "outputs": [],
   "source": [
    "import subprocess\n",
    "n=str(0)\n",
    "folder = '/realization'+ n.zfill(3)+'/'\n",
    "\n",
    "\n",
    "# subprocess.call('cd '+ model_ws + folder, shell=True, check=True)\n",
    "rv = subprocess.run('mf2005.exe MF.nam', shell=True, check=True, capture_output=True, cwd = model_ws + folder)\n",
    "\n",
    "# 'cd '+ model_ws + folder"
   ]
  },
  {
   "cell_type": "code",
   "execution_count": null,
   "metadata": {},
   "outputs": [],
   "source": [
    "range(100)"
   ]
  },
  {
   "cell_type": "code",
   "execution_count": null,
   "metadata": {},
   "outputs": [],
   "source": [
    "# Open a file in write mode to open all runners\n",
    "f = open(model_ws+\"/00_run_all_parallel.bat\", \"w\")\n",
    "\n",
    "# write parallel runs\n",
    "#100\n",
    "for n in np.arange(0,100).astype(str):\n",
    "    folder = '/realization'+ n.zfill(3)+'\\\\'\n",
    "    f.write('cd '+ model_ws + folder+'\\n')\n",
    "#     f.write('Start 00_run_mf.bat' +'\\n') # alternate if needed\n",
    "    f.write('Start mf2005.exe MF.nam' +'\\n')\n",
    "\n",
    "    # close batch file now that all is written\n",
    "f.close()"
   ]
  },
  {
   "cell_type": "code",
   "execution_count": null,
   "metadata": {},
   "outputs": [],
   "source": [
    "# run modflow line doesn't change between realizations because namefile is constant\n",
    "run_mf_line = '\\nmf2005.exe ' + m.name +'.'+ m.namefile_ext+'\\n'\n",
    "\n",
    "# Open a file in write mode to run through all folders\n",
    "f = open(model_ws+\"/00_run_all_series.bat\", \"w\")\n",
    "\n",
    "# iterate through all 100 directory names to use the batch file to change directory and run the next file\n",
    "#100\n",
    "for n in np.arange(0,100).astype(str):\n",
    "    folder = '/realization'+ n.zfill(3)+'/'\n",
    "    f.write('cd ' + model_ws +folder)\n",
    "    f.write(run_mf_line)\n",
    "# close batch file now that all is written\n",
    "f.close()\n"
   ]
  }
 ],
 "metadata": {
  "kernelspec": {
   "display_name": "Python 3 (ipykernel)",
   "language": "python",
   "name": "python3"
  },
  "language_info": {
   "codemirror_mode": {
    "name": "ipython",
    "version": 3
   },
   "file_extension": ".py",
   "mimetype": "text/x-python",
   "name": "python",
   "nbconvert_exporter": "python",
   "pygments_lexer": "ipython3",
   "version": "3.7.11"
  }
 },
 "nbformat": 4,
 "nbformat_minor": 4
}
