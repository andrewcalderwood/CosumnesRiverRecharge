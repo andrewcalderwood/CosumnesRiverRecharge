{
 "cells": [
  {
   "cell_type": "code",
   "execution_count": null,
   "id": "937eb8ef",
   "metadata": {},
   "outputs": [],
   "source": [
    "import os\n",
    "from os.path import basename, dirname, join, exists\n",
    "import sys\n",
    "import glob \n",
    "\n",
    "import numpy as np\n",
    "import numpy.ma as ma\n",
    "\n",
    "\n",
    "import matplotlib as mpl\n",
    "import matplotlib.pyplot as plt\n",
    "\n"
   ]
  },
  {
   "cell_type": "code",
   "execution_count": null,
   "id": "a77da18b",
   "metadata": {},
   "outputs": [],
   "source": [
    "doc_dir = os.getcwd()\n",
    "while basename(doc_dir) != 'Documents':\n",
    "    doc_dir = dirname(doc_dir)\n",
    "    \n",
    "# dir of all gwfm data\n",
    "gwfm_dir = join(dirname(doc_dir),'Box/research_cosumnes/GWFlowModel')\n"
   ]
  },
  {
   "cell_type": "code",
   "execution_count": null,
   "id": "acf8f038",
   "metadata": {},
   "outputs": [],
   "source": []
  },
  {
   "cell_type": "code",
   "execution_count": null,
   "id": "2e031bae",
   "metadata": {},
   "outputs": [],
   "source": [
    "# set box directory for output figures and data\n",
    "box_dir = gwfm_dir+'/Levee_setback/levee_setback_distance_analysis/'\n",
    "\n",
    "# tprogs_id = '' # original tprogs with conditioning data in output tsim\n",
    "tprogs_id = '_no_conditioning'\n",
    "\n",
    "data_dir = box_dir+ tprogs_id+'/data_output/'\n",
    "fig_dir = box_dir+tprogs_id+'/figures/'\n",
    "\n",
    "chan_dir = box_dir+'channel_data/'\n",
    "gis_dir = chan_dir+'GIS/'"
   ]
  },
  {
   "cell_type": "markdown",
   "id": "9c6d5542",
   "metadata": {},
   "source": [
    "# Local model Connec3D example\n",
    "Based on review it seems that Alisha may have done the input wrong by having an array formatted as z y x before converting it to 1D because the output of the CCO shows random CCO values when they should be grouped correctly onto the components.  \n",
    "It also seems that just based on the shape of the coarse facies that Alisha converted the conditioning data (- values) into zeros instead of 1s as it should have been."
   ]
  },
  {
   "cell_type": "code",
   "execution_count": null,
   "id": "b8fbd9fc",
   "metadata": {},
   "outputs": [],
   "source": [
    "c3d_dir = join(box_dir, 'connec3d_local_results')\n",
    "os.listdir(c3d_dir)"
   ]
  },
  {
   "cell_type": "code",
   "execution_count": null,
   "id": "e62a3aa4",
   "metadata": {},
   "outputs": [],
   "source": [
    "# x,y, z\n",
    "nrow, ncol, nlay = 105, 60, 200"
   ]
  },
  {
   "cell_type": "code",
   "execution_count": null,
   "id": "b643157e",
   "metadata": {},
   "outputs": [],
   "source": [
    "# z, y,x is the shape that produces appropriate volumes\n",
    "dat_in = np.loadtxt(join(c3d_dir, 'R11newww.dat'))\n"
   ]
  },
  {
   "cell_type": "code",
   "execution_count": null,
   "id": "dc1357bb",
   "metadata": {},
   "outputs": [],
   "source": [
    "arr_shape = (nlay,ncol,nrow) # only format to give expected units in all three directions\n",
    "# arr_shape = (nrow, ncol, nlay) # totally wrong, creates very thin lines and weird staggers\n",
    "# arr_shape = (nlay, nrow, ncol) # creates weird straight lines as well, looks normal in y-z slices\n",
    "\n",
    "# z, y, x ordering\n",
    "dat = np.reshape(dat_in, arr_shape)\n",
    "\n",
    "# plt.imshow(dat[:,30,:])\n",
    "# plt.imshow(dat[:,:,50])\n",
    "plt.imshow(dat[50,:,:])\n",
    "# almost looks like the location of wells was clipped\n",
    "\n"
   ]
  },
  {
   "cell_type": "code",
   "execution_count": null,
   "id": "24a541b7",
   "metadata": {},
   "outputs": [],
   "source": [
    "arr_shape = (nlay,ncol,nrow) # gives normal body shape, but weird CCO number patterns\n",
    "# arr_shape = (nrow, ncol, nlay) # bodies are scattered irregularly but CCO numbers are distinct\n",
    "arr_shape = (nlay, nrow, ncol) # bodies are normal in XZ, weird elsewise and CCO numbers are off\n",
    "\n",
    "cco_18_in = np.loadtxt(join(c3d_dir, 'R11_18.CCO'))\n",
    "cco_6_in = np.loadtxt(join(c3d_dir, 'R11_6.CCO'))\n",
    "# reshape to array format\n",
    "cco_18 = np.reshape(cco_18_in, arr_shape)\n",
    "cco_6 = np.reshape(cco_6_in, arr_shape)"
   ]
  },
  {
   "cell_type": "code",
   "execution_count": null,
   "id": "7b3b27d3",
   "metadata": {},
   "outputs": [],
   "source": [
    "# in all directions it is unclear how the value of CCO is connected as it appears to be in straight lines\n",
    "temp = np.ma.masked_where(cco_6==0,cco_6)\n",
    "plt.imshow(temp[:,30,:])\n",
    "# plt.imshow(temp[50])\n",
    "# plt.imshow(temp[:,:,50])"
   ]
  },
  {
   "cell_type": "code",
   "execution_count": null,
   "id": "c7671229",
   "metadata": {},
   "outputs": [],
   "source": [
    "def cco_review(cco_in, name):\n",
    "    print('For ',name,' pt %.2f %% are connected' %(100*np.sum(cco_in!=0)/ cco_in.shape[0]))\n",
    "    n = np.unique(cco_in).shape[0]\n",
    "\n",
    "    cnt = np.histogram(cco_in, bins = np.arange(1, n+1)-0.5)\n",
    "    np.argmax(cnt[0])\n",
    "    print('Largest ', name, ' pt body is %.2f %% of volume' %(100*np.max(cnt[0])/cco_in.shape[0]))\n",
    "\n",
    "cco_review(cco_18_in, '18')\n",
    "cco_review(cco_6_in, '6')"
   ]
  },
  {
   "cell_type": "code",
   "execution_count": null,
   "id": "c240cdb4",
   "metadata": {},
   "outputs": [],
   "source": [
    "k = 50\n",
    "fig,ax =plt.subplots(1,2, figsize=(8,6))\n",
    "im = ax[0].imshow(cco_18[:,:,k]>1)\n",
    "# plt.colorbar(im)\n",
    "ax[0].set_title('18 pt')\n",
    "# plt.show()\n",
    "\n",
    "im = ax[1].imshow(cco_6[:,:,k]>1)\n",
    "# plt.colorbar(im)\n",
    "ax[1].set_title('6 pt')\n"
   ]
  }
 ],
 "metadata": {
  "kernelspec": {
   "display_name": "Python 3 (ipykernel)",
   "language": "python",
   "name": "python3"
  },
  "language_info": {
   "codemirror_mode": {
    "name": "ipython",
    "version": 3
   },
   "file_extension": ".py",
   "mimetype": "text/x-python",
   "name": "python",
   "nbconvert_exporter": "python",
   "pygments_lexer": "ipython3",
   "version": "3.10.9"
  }
 },
 "nbformat": 4,
 "nbformat_minor": 5
}
