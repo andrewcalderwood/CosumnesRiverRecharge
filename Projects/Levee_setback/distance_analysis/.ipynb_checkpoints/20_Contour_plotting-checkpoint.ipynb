{
 "cells": [
  {
   "cell_type": "code",
   "execution_count": null,
   "metadata": {},
   "outputs": [],
   "source": [
    "# standard python utilities\n",
    "import os\n",
    "import sys\n",
    "import glob\n",
    "import pandas as pd\n",
    "import numpy as np\n",
    "import calendar\n",
    "import time\n",
    "\n",
    "# standard python plotting utilities\n",
    "import matplotlib as mpl\n",
    "import matplotlib.pyplot as plt\n",
    "\n",
    "# standard geospatial python utilities\n",
    "import pyproj # for converting proj4string\n",
    "import shapely\n",
    "import geopandas as gpd\n",
    "import rasterio\n",
    "\n",
    "# mapping utilities\n",
    "import contextily as ctx\n",
    "from mpl_toolkits.axes_grid1.inset_locator import inset_axes\n",
    "from mpl_toolkits.axes_grid1.anchored_artists import AnchoredSizeBar\n",
    "import matplotlib.font_manager as fm"
   ]
  },
  {
   "cell_type": "code",
   "execution_count": null,
   "metadata": {},
   "outputs": [],
   "source": [
    "import flopy\n",
    "import flopy.utils.binaryfile as bf\n"
   ]
  },
  {
   "cell_type": "code",
   "execution_count": null,
   "metadata": {},
   "outputs": [],
   "source": [
    "## Set up directory referencing\n",
    "# Package data\n",
    "git_dir = os.path.dirname(os.path.dirname(os.getcwd()))\n",
    "gwfm_dir = '\\\\'.join(str.split(git_dir,'\\\\')[0:3])+ '/Box/research_cosumnes/GWFlowModel'\n",
    "print(git_dir, gwfm_dir)"
   ]
  },
  {
   "cell_type": "markdown",
   "metadata": {},
   "source": [
    "## Plotting head raster and contours"
   ]
  },
  {
   "cell_type": "code",
   "execution_count": null,
   "metadata": {},
   "outputs": [],
   "source": [
    "ext_dir = 'F:/WRDAPP'\n",
    "c_dir = 'C:/WRDAPP'\n",
    "\n",
    "if os.path.exists(ext_dir):\n",
    "    loadpth = ext_dir \n",
    "elif os.path.exists(c_dir):\n",
    "    loadpth = c_dir \n",
    "\n",
    "loadpth = loadpth +'/GWFlowModel/Cosumnes/levee_setback/setback_distance_analysis/'\n",
    "model_ws = loadpth+'Permeameter_for_velocity'"
   ]
  },
  {
   "cell_type": "code",
   "execution_count": null,
   "metadata": {},
   "outputs": [],
   "source": [
    "\n",
    "name = 'MF.nam'\n",
    "# name = 'MF_child.nam'\n",
    "m = flopy.modflow.Modflow.load(name, model_ws=model_ws, \n",
    "                                exe_name='mf2005', version='mf2005')\n"
   ]
  },
  {
   "cell_type": "code",
   "execution_count": null,
   "metadata": {},
   "outputs": [],
   "source": [
    "def plot_head(model, hdobj, cbb, spd_stp,time, name, ax, hk):\n",
    "    head = hdobj.get_data(kstpkper = spd_stp)\n",
    "    levels_hmax = np.round(np.max(head[head!=1E+30]),-1)\n",
    "#     levels_hmin = np.round(np.min(head[head!=-999.99]),-1)\n",
    "    levels_hmin = np.round(np.min(head[head>=-200]),-1)\n",
    "    levels = np.arange(levels_hmin, levels_hmax, 5)\n",
    "\n",
    "    ax.set_title(name+' Head Contours at '+ str(time))\n",
    "    mapview = flopy.plot.PlotMapView(model=model,ax=ax)\n",
    "    \n",
    "    contour_set = mapview.contour_array(head, masked_values=[-999.99], levels=levels, ax=ax)\n",
    "    hcb = plt.colorbar(contour_set, shrink = 0.5,ax=ax)\n",
    "    hcb.set_label('Head (m)')\n",
    "#     ax.clabel(contour_set, contour_set.levels[0::2], inline=True, fontsize=8)\n",
    "\n",
    "    # plot the horizontal hydraulic conductivities\n",
    "    if hk == True:\n",
    "        a = model.lpf.hk.array\n",
    "        csa = mapview.plot_array(a, norm=mpl.colors.LogNorm())\n",
    "        cb = plt.colorbar(csa, shrink=0.75,ax=ax)\n",
    "        cb.set_label('Horiz. Cond. (m/d)')\n",
    "    mapview.plot_bc(\"CHD\", plotAll=True)\n",
    "    \n",
    "    frf = cbb.get_data(text='FLOW RIGHT FACE')[0]\n",
    "    fff = cbb.get_data(text='FLOW FRONT FACE')[0]\n",
    "    quiver = mapview.plot_vector(frf, fff, istep=1000, jstep=1000)  # no head array for volumetric discharge\n",
    "\n",
    "    ax.ticklabel_format(style='plain')\n",
    "    linecollection = mapview.plot_grid(linewidths = 0.3)\n",
    "    plt.xlabel('Easting (m)')\n",
    "    plt.ylabel('Northing (m)')\n",
    "#     plt.savefig('Plots//'+name +'_head_contour.png', dpi = 600, bbox_inches='tight')"
   ]
  },
  {
   "cell_type": "code",
   "execution_count": null,
   "metadata": {},
   "outputs": [],
   "source": [
    "# cbb = flopy.utils.CellBudgetFile(model_ws+'/MF.upw.cbc')\n",
    "cbb = flopy.utils.CellBudgetFile(model_ws+'/MF.cbc')\n",
    "\n",
    "hdobj = flopy.utils.HeadFile(model_ws+'/MF.hds')\n",
    "spd_stp = hdobj.get_kstpkper()\n",
    "times = hdobj.get_times()\n"
   ]
  },
  {
   "cell_type": "code",
   "execution_count": null,
   "metadata": {},
   "outputs": [],
   "source": [
    "# create dates to match totim\n",
    "# strt_date = pd.to_datetime(m.dis.start_datetime)\n",
    "# end_date = strt_date+pd.DateOffset(months=m.dis.nper-1)\n",
    "# dates = strt_date+pd.to_timedelta(zb_df.index-1, unit = 'days')"
   ]
  },
  {
   "cell_type": "code",
   "execution_count": null,
   "metadata": {},
   "outputs": [],
   "source": [
    "# create dataframe referencing between date, totim and kstp,kper\n",
    "# time_spd = pd.DataFrame(np.transpose(np.array([times,spd_stp],dtype='object')),columns = ['totim','spd_stp'])\n",
    "# time_spd.index = dates\n",
    "# time_spd.totim = pd.to_numeric(time_spd.totim)"
   ]
  },
  {
   "cell_type": "markdown",
   "metadata": {},
   "source": [
    "## Velocity Analysis"
   ]
  },
  {
   "cell_type": "code",
   "execution_count": null,
   "metadata": {},
   "outputs": [],
   "source": [
    "fig,ax = plt.subplots(1,2,figsize=(12,3))\n",
    "K = m.lpf.hk.array\n",
    "cmap = plt.get_cmap('viridis',4)\n",
    "im = ax[0].imshow(K[0,:,:],  cmap=cmap)\n",
    "plt.colorbar(mappable = im, ax = ax[0], ticks = np.unique(K))\n",
    "\n",
    "im=ax[1].imshow(K[0,:,:], norm = mpl.colors.LogNorm(), cmap=cmap)\n",
    "plt.colorbar(mappable = im, ax = ax[1])\n",
    "fig.tight_layout()"
   ]
  },
  {
   "cell_type": "code",
   "execution_count": null,
   "metadata": {},
   "outputs": [],
   "source": [
    "qz_plt = np.zeros(qz.shape)\n",
    "qz_plt[qz>np.percentile(qz, [50])] =1\n",
    "plt.imshow(qz_plt[0,:,:])"
   ]
  },
  {
   "cell_type": "code",
   "execution_count": null,
   "metadata": {},
   "outputs": [],
   "source": [
    "K_c = np.zeros(K.shape)\n",
    "K_c[(K==np.unique(K)[-2])|(K==np.unique(K)[-1])] = 1\n",
    "plt.imshow(K_c[0,:,:])"
   ]
  },
  {
   "cell_type": "code",
   "execution_count": null,
   "metadata": {},
   "outputs": [],
   "source": [
    "# fig,ax = plt.subplots(figsize=(8,8))\n",
    "\n",
    "# mapview = flopy.plot.PlotMapView(model=m,ax=ax)\n",
    "# linecollection = mapview.plot_grid(linewidths = 0.1)\n",
    "\n",
    "extcbb = flopy.utils.postprocessing.get_extended_budget(cbb)\n",
    "\n",
    "(qx, qy, qz) = flopy.utils.postprocessing.get_specific_discharge(vectors = extcbb, model=m)\n",
    "# mapview.plot_vector(qx, qy, istep=10, jstep=10)\n",
    "qz *= -1\n",
    "qy *= -1\n",
    "qx *= -1"
   ]
  },
  {
   "cell_type": "code",
   "execution_count": null,
   "metadata": {},
   "outputs": [],
   "source": [
    "plt.imshow(qz[0,:,:]*-1, norm=mpl.colors.LogNorm())\n",
    "plt.colorbar()"
   ]
  },
  {
   "cell_type": "code",
   "execution_count": null,
   "metadata": {},
   "outputs": [],
   "source": [
    "# get percentiles to determine which to plot\n",
    "qz_quants = np.percentile(qz, [0,25,50,75,99,99.9])\n",
    "qz_quants"
   ]
  },
  {
   "cell_type": "markdown",
   "metadata": {},
   "source": [
    "# MPL 3D plotting"
   ]
  },
  {
   "cell_type": "code",
   "execution_count": null,
   "metadata": {},
   "outputs": [],
   "source": [
    "fig = plt.figure()\n",
    "# syntax for 3-D projection\n",
    "ax = plt.axes(projection ='3d')\n"
   ]
  },
  {
   "cell_type": "code",
   "execution_count": null,
   "metadata": {},
   "outputs": [],
   "source": [
    "K = m.lpf.hk.array\n",
    "vals = np.unique(K)\n",
    "z, x, y = np.where((K==vals[2])|(K==vals[3]))\n",
    "# z, x, y = np.where((K==vals[3]))\n",
    "\n",
    "c = K[z,x,y]\n",
    "\n",
    "fig = plt.figure(figsize=(10,10))\n",
    "ax = plt.axes(projection ='3d')\n",
    " \n",
    "ax.scatter(x, y, z, c = c, s = 0.2)\n",
    "# ax.contour3D(x, y, z)\n",
    "\n",
    "ax.set_box_aspect((1, 1,1/2))"
   ]
  },
  {
   "cell_type": "code",
   "execution_count": null,
   "metadata": {},
   "outputs": [],
   "source": [
    "def f(x, y):\n",
    "    return np.sin(np.sqrt(x ** 2 + y ** 3))\n",
    "x = np.linspace(-1, 5, 10)\n",
    "y = np.linspace(-1, 5, 10)\n",
    "X, Y = np.meshgrid(x, y)\n",
    "Z = f(X, Y)\n",
    "X.shape, Y.shape, Z.shape\n",
    "x\n"
   ]
  },
  {
   "cell_type": "code",
   "execution_count": null,
   "metadata": {},
   "outputs": [],
   "source": [
    "x = np.arange(1, 101)\n",
    "y = np.arange(1, 231)\n",
    "X, Y = np.meshgrid(x, y)\n"
   ]
  },
  {
   "cell_type": "code",
   "execution_count": null,
   "metadata": {},
   "outputs": [],
   "source": [
    "\n",
    "\n",
    "fig = plt.figure(figsize=(10,10))\n",
    "ax = plt.axes(projection ='3d')\n",
    " \n",
    "ax.scatter(x, y, z, c = c, s = 0.2)\n",
    "# ax.contour3D(x, y, z)\n",
    "\n",
    "ax.set_box_aspect((1, 1,1/2))"
   ]
  },
  {
   "cell_type": "code",
   "execution_count": null,
   "metadata": {},
   "outputs": [],
   "source": []
  },
  {
   "cell_type": "markdown",
   "metadata": {},
   "source": [
    "## Interactive Plotting"
   ]
  },
  {
   "cell_type": "code",
   "execution_count": null,
   "metadata": {},
   "outputs": [],
   "source": [
    "# sphinx_gallery_thumbnail_number = 2\n",
    "import pyvista as pv\n",
    "from pyvista import examples\n",
    "import numpy as np"
   ]
  },
  {
   "cell_type": "code",
   "execution_count": null,
   "metadata": {},
   "outputs": [],
   "source": [
    "from itkwidgets import view"
   ]
  },
  {
   "cell_type": "code",
   "execution_count": null,
   "metadata": {},
   "outputs": [],
   "source": [
    "# so far only ipyvtklink works\n",
    "pv.set_jupyter_backend(backend='ipyvtklink')"
   ]
  },
  {
   "cell_type": "markdown",
   "metadata": {},
   "source": [
    "## Grid"
   ]
  },
  {
   "cell_type": "code",
   "execution_count": null,
   "metadata": {},
   "outputs": [],
   "source": [
    "values.shape"
   ]
  },
  {
   "cell_type": "code",
   "execution_count": null,
   "metadata": {},
   "outputs": [],
   "source": [
    "#nx, ny, nz\n",
    "values = np.linspace(0, 10, 1000).reshape((20, 5, 10))\n",
    "values.shape\n",
    "\n",
    "# Create the spatial reference\n",
    "grid = pv.UniformGrid()\n",
    "\n",
    "# Set the grid dimensions: shape + 1 because we want to inject our values on\n",
    "#   the CELL data\n",
    "grid.dimensions = np.array(values.shape) + 1\n",
    "\n",
    "# Edit the spatial reference\n",
    "grid.origin = (100, 33, 55.6)  # The bottom left corner of the data set\n",
    "grid.spacing = (1, 5, 2)  # These are the cell sizes along each axis\n",
    "\n",
    "# Add the data values to the cell data\n",
    "grid.cell_data[\"values\"] = values.flatten(order=\"F\")  # Flatten the array!\n",
    "\n",
    "# Now plot the grid!\n",
    "grid.plot(show_edges=True)"
   ]
  },
  {
   "cell_type": "code",
   "execution_count": null,
   "metadata": {},
   "outputs": [],
   "source": [
    "import vtk\n",
    "import pyvista"
   ]
  },
  {
   "cell_type": "code",
   "execution_count": null,
   "metadata": {},
   "outputs": [],
   "source": [
    "grid = pyvista.RectilinearGrid()"
   ]
  },
  {
   "cell_type": "code",
   "execution_count": null,
   "metadata": {},
   "outputs": [],
   "source": [
    "vtkgrid = vtk.vtkRectilinearGrid()\n",
    "grid = pyvista.RectilinearGrid(vtkgrid)"
   ]
  },
  {
   "cell_type": "code",
   "execution_count": null,
   "metadata": {},
   "outputs": [],
   "source": [
    "K = m.lpf.hk.array\n",
    "K = np.transpose(K, (1,2,0))"
   ]
  },
  {
   "cell_type": "code",
   "execution_count": null,
   "metadata": {},
   "outputs": [],
   "source": [
    "plt.imshow(K[0,:,:])"
   ]
  },
  {
   "cell_type": "code",
   "execution_count": null,
   "metadata": {},
   "outputs": [],
   "source": [
    "x = np.linspace(0,100*2,101)\n",
    "y = np.linspace(0,230*2,231)\n",
    "z = np.linspace(-80,80,321)\n",
    "grid = pyvista.RectilinearGrid(x,y,z)"
   ]
  },
  {
   "cell_type": "code",
   "execution_count": null,
   "metadata": {},
   "outputs": [],
   "source": [
    "grid.origin = [0,0,0]\n"
   ]
  },
  {
   "cell_type": "code",
   "execution_count": null,
   "metadata": {},
   "outputs": [],
   "source": [
    "grid.cell_data['values'] = K.flatten(order=\"C\")"
   ]
  },
  {
   "cell_type": "code",
   "execution_count": null,
   "metadata": {},
   "outputs": [],
   "source": [
    "grid.plot(show_edges=True, show_grid=True)"
   ]
  }
 ],
 "metadata": {
  "kernelspec": {
   "display_name": "Python 3 (ipykernel)",
   "language": "python",
   "name": "python3"
  },
  "language_info": {
   "codemirror_mode": {
    "name": "ipython",
    "version": 3
   },
   "file_extension": ".py",
   "mimetype": "text/x-python",
   "name": "python",
   "nbconvert_exporter": "python",
   "pygments_lexer": "ipython3",
   "version": "3.7.11"
  }
 },
 "nbformat": 4,
 "nbformat_minor": 4
}
