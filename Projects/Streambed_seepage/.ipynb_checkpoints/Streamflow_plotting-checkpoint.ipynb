{
 "cells": [
  {
   "cell_type": "code",
   "execution_count": 1,
   "id": "e3e3557b",
   "metadata": {},
   "outputs": [],
   "source": [
    "# standard python utilities\n",
    "import os\n",
    "import sys\n",
    "import glob\n",
    "import pandas as pd\n",
    "import numpy as np\n",
    "import calendar\n",
    "import time\n",
    "\n",
    "# standard python plotting utilities\n",
    "import matplotlib as mpl\n",
    "import matplotlib.pyplot as plt\n",
    "import matplotlib.dates as mdates\n",
    "\n",
    "# standard geospatial python utilities\n",
    "import pyproj # for converting proj4string\n",
    "import shapely\n",
    "import geopandas as gpd\n",
    "# import rasterio\n",
    "\n",
    "# mapping utilities\n",
    "# import contextily as ctx\n",
    "from mpl_toolkits.axes_grid1.inset_locator import inset_axes\n",
    "from mpl_toolkits.axes_grid1.anchored_artists import AnchoredSizeBar\n",
    "import matplotlib.font_manager as fm\n",
    "from matplotlib.ticker import MaxNLocator\n",
    "\n",
    "import flopy\n",
    "import flopy.utils.binaryfile as bf\n"
   ]
  },
  {
   "cell_type": "code",
   "execution_count": 2,
   "id": "053f0b51",
   "metadata": {},
   "outputs": [
    {
     "data": {
      "text/plain": [
       "'C:\\\\Users/ajcalder/Box/research_cosumnes/GWFlowModel/'"
      ]
     },
     "execution_count": 2,
     "metadata": {},
     "output_type": "execute_result"
    }
   ],
   "source": [
    "git_dir = os.getcwd()\n",
    "while os.path.basename(git_dir) != 'GitHub':\n",
    "    git_dir = os.path.dirname(git_dir)\n",
    "usr_dir = os.getcwd()\n",
    "while os.path.basename(usr_dir) != 'Users':\n",
    "    temp = os.path.basename(usr_dir)\n",
    "    usr_dir = os.path.dirname(usr_dir)\n",
    "usr_dir += '/'+temp\n",
    "\n",
    "py_dir = git_dir +'/CosumnesRiverRecharge/python_utilities/'\n",
    "## Set up directory referencing\n",
    "# Package data\n",
    "gwfm_dir = usr_dir+'/Box/research_cosumnes/GWFlowModel/'\n",
    "proj_dir = gwfm_dir+'Stream_seepage/'\n",
    "dat_dir = proj_dir+'Stream_level_data/'\n",
    "fig_dir = proj_dir+'/Streambed_seepage/figures/'\n",
    "gwfm_dir\n"
   ]
  },
  {
   "cell_type": "code",
   "execution_count": 3,
   "id": "96ab77f7",
   "metadata": {},
   "outputs": [],
   "source": [
    "# run_dir = 'C://WRDAPP/GWFlowModel'\n",
    "# run_dir = 'F://WRDAPP/GWFlowModel'\n",
    "# loadpth = run_dir +'/Cosumnes/'\n",
    "\n",
    "\n",
    "\n",
    "model_ws = proj_dir+'data'\n",
    "\n",
    "m = flopy.modflow.Modflow.load('MF.nam', model_ws= model_ws, \n",
    "                                exe_name='MODFLOW-NWT.exe', version='mfnwt')\n",
    "# m = flopy.modflow.Modflow.load('MF.nam', model_ws= model_ws, \n",
    "#                                 exe_name='mf2005.exe', version='mf2005')"
   ]
  },
  {
   "cell_type": "code",
   "execution_count": 4,
   "id": "7ead43ab",
   "metadata": {},
   "outputs": [],
   "source": [
    "strt_date = pd.to_datetime(m.dis.start_datetime)\n",
    "# end_date = (strt_date + pd.Series((m.dis.nper-1)*15).astype('timedelta64[m]'))[0] # SS\n",
    "end_date = (strt_date + pd.Series((m.dis.nper)*15).astype('timedelta64[m]'))[0]\n",
    "\n",
    "dates_per = pd.date_range(strt_date, end_date, freq = '15min')\n",
    "dates_stps = pd.date_range(strt_date, end_date, freq = '5min')[:-1]\n"
   ]
  },
  {
   "cell_type": "code",
   "execution_count": 5,
   "id": "1fbbab52",
   "metadata": {},
   "outputs": [],
   "source": [
    "hdobj = flopy.utils.HeadFile(model_ws+'/MF.hds')\n",
    "spd_stp = hdobj.get_kstpkper()\n",
    "times = hdobj.get_times()\n",
    "\n",
    "# kstp = np.append([0], np.tile(np.arange(0,3), m.dis.nper)) # with SS period\n",
    "# kper = np.repeat(np.arange(0,m.dis.nper),m.dis.nstp)\n",
    "\n",
    "kstp = np.tile(np.arange(0,3), m.dis.nper)\n",
    "kper = np.repeat(np.arange(0,m.dis.nper),m.dis.nstp)\n",
    "\n",
    "kstpkper = list(zip(kstp,kper))\n",
    "\n",
    "dt_ref = pd.DataFrame(dates_stps, columns=['dt'])\n",
    "dt_ref['kstpkper'] = kstpkper\n",
    "# dt_ref"
   ]
  },
  {
   "cell_type": "code",
   "execution_count": null,
   "id": "8b189a03",
   "metadata": {},
   "outputs": [],
   "source": []
  },
  {
   "cell_type": "markdown",
   "id": "f9e39bef",
   "metadata": {},
   "source": [
    "## Sensor data and XS data"
   ]
  },
  {
   "cell_type": "code",
   "execution_count": 6,
   "id": "c90f8dc9",
   "metadata": {},
   "outputs": [],
   "source": [
    "df = pd.read_csv(dat_dir+'instream_sensor_latlong.csv',comment='#', engine='python')\n",
    "df['id_num'] = df.Sensor.str.extract(pat=r'(\\d+)').astype(float)\n",
    "rm = df[df.Type=='Level']\n",
    "rm_sp = gpd.GeoDataFrame(rm, geometry=gpd.points_from_xy(rm.Longitude,rm.Latitude))\n",
    "rm_sp.crs = 'epsg:4326'\n",
    "rm_sp = rm_sp.to_crs('epsg:32610')\n",
    "\n",
    "rm_teichert = rm_sp[rm_sp.id_num>3]\n",
    "\n",
    "\n",
    "rm_xs = gpd.read_file(proj_dir+ 'rm_xs/rm_xs.shp')"
   ]
  },
  {
   "cell_type": "code",
   "execution_count": 7,
   "id": "48ab8133",
   "metadata": {},
   "outputs": [],
   "source": [
    "# XS are every 100 m\n",
    "xs_all = pd.read_csv(dat_dir+'XS_point_elevations.csv',index_col=0)\n",
    "xs_all = gpd.GeoDataFrame(xs_all,geometry = gpd.points_from_xy(xs_all.Easting,xs_all.Northing), crs='epsg:32610')\n"
   ]
  },
  {
   "cell_type": "code",
   "execution_count": 8,
   "id": "03bf7446",
   "metadata": {},
   "outputs": [
    {
     "data": {
      "text/plain": [
       "<AxesSubplot:xlabel='xs_num'>"
      ]
     },
     "execution_count": 8,
     "metadata": {},
     "output_type": "execute_result"
    },
    {
     "data": {
      "image/png": "[encoded data removed]",
      "text/plain": [
       "<Figure size 432x288 with 1 Axes>"
      ]
     },
     "metadata": {
      "needs_background": "light"
     },
     "output_type": "display_data"
    }
   ],
   "source": [
    "# create summary of XS for creating SFR inputs\n",
    "# XSg = xs_all.dissolve('xs_num', 'mean')\n",
    "XSg = xs_all.loc[(xs_all.dist_from_right_m==100).values,:].set_index('xs_num') # use center point for assigning segment data\n",
    "XSg['iseg'] = XSg.index + 1 # add the segment that corresponds to each cross section\n",
    "\n",
    "# find minimum value in XS related to thalweg\n",
    "XSg['z_m_min'] = xs_all.dissolve('xs_num','min').z_m\n",
    "#roling mean of 6 window centered removes any negative slope\n",
    "XSg['z_m_min_cln'] = XSg.z_m_min.rolling(6,center=False).mean()\n",
    "\n",
    "# calculate slope and fill NAs, fill slope with nearby\n",
    "z_cln_diff = XSg.z_m_min_cln.diff().bfill()\n",
    "XSg['slope'] = z_cln_diff.abs()/m.dis.delr\n",
    "\n",
    "# fix str bot so all is downward sloping\n",
    "for i in np.arange(len(XSg)-1,-1,-1):\n",
    "#     if XSg.z_m.values[i] >= XSg.z_m.values[i-1]:\n",
    "#         XSg.z_m_min.values[i] = XSg.z_m_min.values[i-1] - XSg.slope.values[i]*delc\n",
    "# fill NAs due to rolling mean\n",
    "    if XSg.z_m_min_cln.isna()[i]:\n",
    "        XSg.z_m_min_cln.values[i] = XSg.z_m_min_cln.values[i + 1] + XSg.slope.values[i]*m.dis.delr[i]\n",
    "\n",
    "        \n",
    "# plot, large spike in top elevation causes discontinuity\n",
    "# plt.plot(m.dis.top.array[0,:])\n",
    "# plt.plot(m.dis.botm.array[0,0,:])\n",
    "\n",
    "XSg.z_m_min_cln.plot()\n",
    "XSg.z_m_min.plot()\n",
    "# XSg.slope.plot(secondary_y = True)"
   ]
  },
  {
   "cell_type": "code",
   "execution_count": 9,
   "id": "53410735",
   "metadata": {},
   "outputs": [
    {
     "name": "stderr",
     "output_type": "stream",
     "text": [
      "C:\\Users\\ajcalder\\Anaconda3\\envs\\geosp\\lib\\site-packages\\geopandas\\geodataframe.py:1322: SettingWithCopyWarning: \n",
      "A value is trying to be set on a copy of a slice from a DataFrame.\n",
      "Try using .loc[row_indexer,col_indexer] = value instead\n",
      "\n",
      "See the caveats in the documentation: https://pandas.pydata.org/pandas-docs/stable/user_guide/indexing.html#returning-a-view-versus-a-copy\n",
      "  super(GeoDataFrame, self).__setitem__(key, value)\n",
      "C:\\Users\\ajcalder\\Anaconda3\\envs\\geosp\\lib\\site-packages\\geopandas\\geodataframe.py:1322: SettingWithCopyWarning: \n",
      "A value is trying to be set on a copy of a slice from a DataFrame.\n",
      "Try using .loc[row_indexer,col_indexer] = value instead\n",
      "\n",
      "See the caveats in the documentation: https://pandas.pydata.org/pandas-docs/stable/user_guide/indexing.html#returning-a-view-versus-a-copy\n",
      "  super(GeoDataFrame, self).__setitem__(key, value)\n",
      "C:\\Users\\ajcalder\\Anaconda3\\envs\\geosp\\lib\\site-packages\\geopandas\\_vectorized.py:786: DeprecationWarning: An exception was ignored while fetching the attribute `__array_interface__` from an object of type 'Polygon'.  With the exception of `AttributeError` NumPy will always raise this exception in the future.  Raise this deprecation warning to see the original exception. (Warning added NumPy 1.21)\n",
      "  out[:] = [\n",
      "C:\\Users\\ajcalder\\Anaconda3\\envs\\geosp\\lib\\site-packages\\geopandas\\_vectorized.py:786: DeprecationWarning: An exception was ignored while fetching the attribute `__array_interface__` from an object of type 'Polygon'.  With the exception of `AttributeError` NumPy will always raise this exception in the future.  Raise this deprecation warning to see the original exception. (Warning added NumPy 1.21)\n",
      "  out[:] = [\n",
      "C:\\Users\\ajcalder\\Anaconda3\\envs\\geosp\\lib\\site-packages\\geopandas\\_vectorized.py:786: DeprecationWarning: An exception was ignored while fetching the attribute `__array_interface__` from an object of type 'Polygon'.  With the exception of `AttributeError` NumPy will always raise this exception in the future.  Raise this deprecation warning to see the original exception. (Warning added NumPy 1.21)\n",
      "  out[:] = [\n",
      "C:\\Users\\ajcalder\\Anaconda3\\envs\\geosp\\lib\\site-packages\\geopandas\\_vectorized.py:786: DeprecationWarning: An exception was ignored while fetching the attribute `__array_interface__` from an object of type 'Polygon'.  With the exception of `AttributeError` NumPy will always raise this exception in the future.  Raise this deprecation warning to see the original exception. (Warning added NumPy 1.21)\n",
      "  out[:] = [\n",
      "C:\\Users\\ajcalder\\Anaconda3\\envs\\geosp\\lib\\site-packages\\geopandas\\_vectorized.py:786: DeprecationWarning: An exception was ignored while fetching the attribute `__array_interface__` from an object of type 'Polygon'.  With the exception of `AttributeError` NumPy will always raise this exception in the future.  Raise this deprecation warning to see the original exception. (Warning added NumPy 1.21)\n",
      "  out[:] = [\n",
      "C:\\Users\\ajcalder\\Anaconda3\\envs\\geosp\\lib\\site-packages\\geopandas\\_vectorized.py:142: DeprecationWarning: An exception was ignored while fetching the attribute `__array_interface__` from an object of type 'Polygon'.  With the exception of `AttributeError` NumPy will always raise this exception in the future.  Raise this deprecation warning to see the original exception. (Warning added NumPy 1.21)\n",
      "  aout[:] = out\n",
      "C:\\Users\\ajcalder\\Anaconda3\\envs\\geosp\\lib\\site-packages\\geopandas\\_vectorized.py:142: DeprecationWarning: An exception was ignored while fetching the attribute `__array_interface__` from an object of type 'Polygon'.  With the exception of `AttributeError` NumPy will always raise this exception in the future.  Raise this deprecation warning to see the original exception. (Warning added NumPy 1.21)\n",
      "  aout[:] = out\n",
      "C:\\Users\\ajcalder\\Anaconda3\\envs\\geosp\\lib\\site-packages\\geopandas\\_vectorized.py:142: DeprecationWarning: An exception was ignored while fetching the attribute `__array_interface__` from an object of type 'Polygon'.  With the exception of `AttributeError` NumPy will always raise this exception in the future.  Raise this deprecation warning to see the original exception. (Warning added NumPy 1.21)\n",
      "  aout[:] = out\n",
      "C:\\Users\\ajcalder\\Anaconda3\\envs\\geosp\\lib\\site-packages\\geopandas\\_vectorized.py:142: DeprecationWarning: An exception was ignored while fetching the attribute `__array_interface__` from an object of type 'Polygon'.  With the exception of `AttributeError` NumPy will always raise this exception in the future.  Raise this deprecation warning to see the original exception. (Warning added NumPy 1.21)\n",
      "  aout[:] = out\n",
      "C:\\Users\\ajcalder\\Anaconda3\\envs\\geosp\\lib\\site-packages\\geopandas\\_vectorized.py:142: DeprecationWarning: An exception was ignored while fetching the attribute `__array_interface__` from an object of type 'Polygon'.  With the exception of `AttributeError` NumPy will always raise this exception in the future.  Raise this deprecation warning to see the original exception. (Warning added NumPy 1.21)\n",
      "  aout[:] = out\n"
     ]
    }
   ],
   "source": [
    "rm_teichert['Easting'] = rm_teichert.geometry.x\n",
    "rm_teichert['Northing'] = rm_teichert.geometry.y\n",
    "rm_poly = rm_teichert.copy()\n",
    "# buffer sensor points for joining\n",
    "rm_poly.geometry = rm_poly.geometry.buffer(50)\n",
    "# correspond XS to sensors\n",
    "rm_elev = gpd.sjoin(xs_all, rm_poly, how='inner',lsuffix='xs', rsuffix='rm')"
   ]
  },
  {
   "cell_type": "code",
   "execution_count": 10,
   "id": "1242adb5",
   "metadata": {},
   "outputs": [
    {
     "name": "stderr",
     "output_type": "stream",
     "text": [
      "C:\\Users\\ajcalder\\AppData\\Local\\Temp\\ipykernel_13380\\2766180489.py:2: FutureWarning: Dropping invalid columns in DataFrameGroupBy.min is deprecated. In a future version, a TypeError will be raised. Before calling .min, select only columns which should be valid for the function.\n",
      "  mindists = rm_elev.groupby('xs_num').min().dist\n"
     ]
    }
   ],
   "source": [
    "rm_elev['dist'] = np.sqrt((rm_elev.Easting_xs - rm_elev.Easting_rm)**2 + (rm_elev.Northing_xs - rm_elev.Northing_rm)**2)\n",
    "mindists = rm_elev.groupby('xs_num').min().dist\n",
    "# rm_elev.columns\n",
    "rm_elev_final = rm_elev.set_index(['xs_num','dist']).loc[list(zip(mindists.index, mindists.values))]\n",
    "# join with XS minimum and slope data\n",
    "rm_elev_final = rm_elev_final.join(XSg[['z_m_min','slope']])\n",
    "\n",
    "# field data with measurements\n",
    "field = pd.read_excel(dat_dir+'Field_measurements.xlsx',sheet_name='Summarized').rename(columns={'Site':'Sensor'})\n",
    "rm_elev_final = rm_elev_final.join(field.set_index('Sensor'),on='Sensor')\n",
    "\n",
    "# rm_elev_final['height_above_thalweg_m'] = rm_elev_final.z_m - rm_elev_final.z_m_min\n",
    "rm_elev_final['height_above_thalweg_m'] = rm_elev_final['Height above thalweg (ft)']  * 0.3048\n",
    "# sensor height above thalweg\n",
    "rm_elev_final['sensor_height_m'] = rm_elev_final.z_m_min + rm_elev_final.height_above_thalweg_m"
   ]
  },
  {
   "cell_type": "code",
   "execution_count": 11,
   "id": "caf12faf",
   "metadata": {},
   "outputs": [],
   "source": [
    "FLD = pd.read_csv(dat_dir+'FLD.csv', parse_dates=['DATE TIME'], na_values='---')\n",
    "ANU = pd.read_csv(dat_dir+'ANU.csv', parse_dates=['DATE TIME'], na_values='---')\n"
   ]
  },
  {
   "cell_type": "code",
   "execution_count": 12,
   "id": "05f291c6",
   "metadata": {},
   "outputs": [],
   "source": [
    "baro = pd.concat((FLD,ANU)).pivot(columns='STATION_ID',values='VALUE',index='DATE TIME')\n",
    "# resample to hour for consistent units\n",
    "baro = baro.resample('H').mean()\n",
    "# convert from inches to meters\n",
    "baro = (baro/12) * 0.3048\n",
    "baro = baro.resample('15min').ffill()"
   ]
  },
  {
   "cell_type": "code",
   "execution_count": 13,
   "id": "172dcc23",
   "metadata": {},
   "outputs": [],
   "source": [
    "lvl = pd.read_csv(dat_dir+'Stream_level_m_temp_C_long.csv', parse_dates=['dt'])\n",
    "lvl = lvl[lvl.param=='LEVEL']\n",
    "# lvl.loc[lvl.value>9,'value'] -= 9.5\n",
    "# lvl = lv.pivot(columns = 'site_nam',values='value', index='dt')\n",
    "\n",
    "# adjust level data for uniform baro pressure\n",
    "lvl = lvl.pivot(columns='site_nam',values='value',index='dt')\n",
    "lvl.loc[:,(lvl.mean()>9.5)] -= 9.5\n",
    "lvl = lvl.melt(ignore_index=False).dropna()\n",
    "\n",
    "# join with barometric pressure by date\n",
    "lvl = lvl.join(baro, on='dt')\n",
    "lvl['lvl_adj'] = lvl.value - lvl.FLD"
   ]
  },
  {
   "cell_type": "code",
   "execution_count": 246,
   "id": "ae37b7fd",
   "metadata": {},
   "outputs": [],
   "source": [
    "# params = pd.read_csv(model_ws+'/instream_sensor_params.csv',comment='#',engine='python')\n",
    "params = pd.read_csv(model_ws+'/teichert_params.csv',comment='#',engine='python')\n",
    "\n",
    "# stage = lvl.join(rm_elev_final[['height_above_thalweg_m','Sensor']].set_index('Sensor'), on='site_nam')\n",
    "# stage = stage.dropna(subset='height_above_thalweg_m')\n",
    "# calculate stage with height above thalweg\n",
    "# stage['stage_m'] = stage.lvl_adj + stage.height_above_thalweg_m\n",
    "\n",
    "# need to calibrate offset slightly manually\n",
    "stage = lvl.join(params[['Sensor','stg_offset']].set_index('Sensor'), on='site_nam')\n",
    "stage = stage.dropna(subset='stg_offset')\n",
    "stage['stage_m'] = stage.lvl_adj + stage.stg_offset\n",
    "\n",
    "# need to skip first six hours for model burn in (initial low flows)\n",
    "stage_m = stage[(stage.index>dt_ref.dt.min()+pd.DateOffset(hours=6))&(stage.index<dt_ref.dt.max())]"
   ]
  },
  {
   "cell_type": "code",
   "execution_count": 17,
   "id": "18543073",
   "metadata": {},
   "outputs": [],
   "source": [
    "sfr_dir = gwfm_dir+'/SFR_data/'\n",
    "# grid_sfr = gpd.read_file(sfr_dir+'/final_grid_sfr/grid_sfr.shp')\n",
    "# m_domain = gpd.read_file(gwfm_dir+'/DIS_data/NewModelDomain/GWModelDomain_52_9deg_UTM10N_WGS84.shp')\n"
   ]
  },
  {
   "cell_type": "code",
   "execution_count": 19,
   "id": "31eeec1e",
   "metadata": {},
   "outputs": [],
   "source": [
    "mcc_d = pd.read_csv(sfr_dir+'MCC_flow_obs_all.csv', parse_dates = ['DATE TIME'], index_col='DATE TIME')\n",
    "mcc_d = mcc_d[(mcc_d.index>strt_date)&(mcc_d.index<end_date)]\n"
   ]
  },
  {
   "cell_type": "code",
   "execution_count": 21,
   "id": "2782bdaf",
   "metadata": {},
   "outputs": [],
   "source": [
    "grid_sfr = pd.DataFrame().from_records(m.sfr.reach_data).rename(columns={'i':'row','j':'column'})\n",
    "grid_sfr[['row','column']] += 1 # convert to 1 based to match with SFR output\n",
    "pd_sfr = pd.DataFrame(grid_sfr.set_index(['row','column'])[['rchlen','strtop']])\n",
    "pd_sfr['Total distance (m)'] = pd_sfr['rchlen'].cumsum()\n",
    "\n",
    "def clean_sfr_df(model_ws):\n",
    "    sfrout = flopy.utils.SfrFile(model_ws+'/MF.sfr.out')\n",
    "    sfrdf = sfrout.get_dataframe()\n",
    "    sfrdf = sfrdf.join(dt_ref.set_index('kstpkper'), on='kstpkper')\n",
    "    cmm2cfs = 1/((0.3048**3)*60) # cubic meters per minute to cfs\n",
    "\n",
    "#     sfrdf_plot = pd_sfr.join(sfrdf.set_index(['row','column']),on=['row','column'],how='inner',lsuffix='_all')\n",
    "    sfrdf_plot = sfrdf.join(pd_sfr ,on=['row','column'],how='inner',lsuffix='_all')\n",
    "    # dependent on number of time steps\n",
    "    sfrdf_plot['Qin_cfs'] = sfrdf_plot.Qin * cmm2cfs\n",
    "    sfrdf_plot['Qout_cfs'] = sfrdf_plot.Qout * cmm2cfs\n",
    "    sfrdf_plot['Qaquifer_cfs'] = sfrdf_plot.Qaquifer * cmm2cfs\n",
    "    sfrdf_plot = sfrdf_plot.set_index('dt')\n",
    "    return(sfrdf_plot)\n",
    "\n"
   ]
  },
  {
   "cell_type": "code",
   "execution_count": 73,
   "id": "28f5b136",
   "metadata": {},
   "outputs": [],
   "source": [
    "sfrdf_plot = clean_sfr_df(model_ws)\n",
    "# gage_file = glob.glob(model_ws+'/*.go')\n",
    "# gage_file[0]"
   ]
  },
  {
   "cell_type": "code",
   "execution_count": 25,
   "id": "5adbdb27",
   "metadata": {},
   "outputs": [],
   "source": [
    "# mcc_plt = mcc_out.join(mcc_d)\n",
    "\n",
    "# fig,ax=plt.subplots(figsize=(8,4))\n",
    "# mcc_plt.plot(y='flow_sim_cfs',label='MCC Simulated',ax=ax)\n",
    "\n",
    "# mcc_plt.plot(y='flow_cfs',label='MCC Observed',ax=ax, linestyle='--')\n",
    "\n",
    "# mb.plot(y='flow_cfs',label= 'MB Observed', ax=ax)\n",
    "# under simulating flow most likely because we don't have any runoff\n",
    "# adding uzf to remove excess recharge to stream would most likely bring up the peak flows"
   ]
  },
  {
   "cell_type": "code",
   "execution_count": 26,
   "id": "016f3b6f",
   "metadata": {},
   "outputs": [
    {
     "name": "stderr",
     "output_type": "stream",
     "text": [
      "<>:3: DeprecationWarning: invalid escape sequence \\s\n",
      "<>:3: DeprecationWarning: invalid escape sequence \\s\n",
      "C:\\Users\\ajcalder\\AppData\\Local\\Temp\\ipykernel_13380\\3313131711.py:3: DeprecationWarning: invalid escape sequence \\s\n",
      "  gage = pd.read_csv(gagenam,skiprows=1, delimiter = '\\s+', engine='python')\n"
     ]
    }
   ],
   "source": [
    "def read_sfr_gage(xs_num):\n",
    "    gagenam = model_ws+'/MF_gage_' + str(xs_num) + '.go'\n",
    "    gage = pd.read_csv(gagenam,skiprows=1, delimiter = '\\s+', engine='python')\n",
    "    cols = gage.columns[1:]\n",
    "\n",
    "    gage = gage.dropna(axis=1)\n",
    "    gage.columns = cols\n",
    "    cmm2cfs = 1/((0.3048**3)*60) # cubic meters per minute to cfs\n",
    "    # convert from m3/day to cfs\n",
    "    gage['Stream_leakage'] = gage['Conductance']* gage['HeadDiff'] /(0.3048**3)/86400\n",
    "    gage['Stream_leakage_cfs'] = gage['Stream_leakage'] * cmm2cfs\n",
    "    gage['Flow_cfs']  = gage['Flow'] * cmm2cfs\n",
    "    gage['Time'] = strt_date + gage.Time.values.astype('timedelta64[m]')\n",
    "    gage = gage.set_index('Time')\n",
    "    return(gage)\n"
   ]
  },
  {
   "cell_type": "code",
   "execution_count": 27,
   "id": "0ce98e08",
   "metadata": {},
   "outputs": [],
   "source": [
    "stage_cln = stage[stage.lvl_adj>0.2].pivot(columns='site_nam',values='lvl_adj').dropna(axis=0)\n",
    "# stage_cln"
   ]
  },
  {
   "cell_type": "code",
   "execution_count": 249,
   "id": "6d4b4a6e",
   "metadata": {},
   "outputs": [
    {
     "data": {
      "text/plain": [
       "<AxesSubplot:xlabel='dt'>"
      ]
     },
     "execution_count": 249,
     "metadata": {},
     "output_type": "execute_result"
    },
    {
     "data": {
      "image/png": "[encoded data removed]",
      "text/plain": [
       "<Figure size 432x288 with 1 Axes>"
      ]
     },
     "metadata": {
      "needs_background": "light"
     },
     "output_type": "display_data"
    }
   ],
   "source": [
    "stage[stage.lvl_adj>0.2].pivot(columns='site_nam',values='lvl_adj').plot()"
   ]
  },
  {
   "cell_type": "markdown",
   "id": "9668d0ce",
   "metadata": {},
   "source": [
    "Calibration should be done with change in stage rather than absolute values. I can create an offset to align values better as well. The first few XS seems to represent the observations well, but it appears that there may be some baseflow prevent a decline in flow downstream, starting at XS25 where the simulated stage appears to oscillate following a decline. When I check heads the first time there was a mound causing some baseflow but even after correcting the higher streamflow seems to stay. It starts with the flow leaving XS 21 with oscillations (1000 to 1500 cmm)\n",
    "\n",
    "This issue only occurs with the UZF package"
   ]
  },
  {
   "cell_type": "code",
   "execution_count": 178,
   "id": "809425b8",
   "metadata": {},
   "outputs": [],
   "source": [
    "# 20 is the problem\n",
    "# n=2\n",
    "# fig,ax = plt.subplots(3,1, figsize=(12,6), sharex=True)\n",
    "# sfrdf_plot[sfrdf_plot.segment==n].plot(y=['Qin','Qout'], ax=ax[0])\n",
    "# sfrdf_plot[sfrdf_plot.segment==n].plot(y='Qaquifer', ax=ax[1])\n",
    "\n",
    "# sfrdf_plot[sfrdf_plot.segment==n].plot(y='stage', ax=ax[2])\n",
    "# # sfrdf_plot[sfrdf_plot.segment==n].plot(y=['Qovr','Qprecip','Qet']) # 0 as expected\n",
    "# sfrdf_plot.columns\n",
    "\n",
    "# fig.tight_layout()\n",
    "# the listing file confirmed Segment 20 was having non-convergence issues"
   ]
  },
  {
   "cell_type": "markdown",
   "id": "824da4af",
   "metadata": {},
   "source": [
    "the obs data set for UCODE will either be absolute observed stage or change in stage. And UCODE can read the absolute stage directly from the gage file, but would need an additional post-processor script to write out a change in stage file."
   ]
  },
  {
   "cell_type": "code",
   "execution_count": 243,
   "id": "c633526e",
   "metadata": {},
   "outputs": [
    {
     "name": "stdout",
     "output_type": "stream",
     "text": [
      "Sensor    RM8\n",
      "iseg       40\n",
      "Name: 4, dtype: object\n"
     ]
    },
    {
     "data": {
      "text/plain": [
       "<AxesSubplot:xlabel='dt'>"
      ]
     },
     "execution_count": 243,
     "metadata": {},
     "output_type": "execute_result"
    },
    {
     "data": {
      "image/png": "[encoded data removed]",
      "text/plain": [
       "<Figure size 576x432 with 1 Axes>"
      ]
     },
     "metadata": {
      "needs_background": "light"
     },
     "output_type": "display_data"
    }
   ],
   "source": [
    "# skip past first 4 hours for observations to allow for burn in\n",
    "\n",
    "n=4 # have 0 through 4\n",
    "print(rm_xs[['Sensor','iseg']].iloc[n])\n",
    "fig,ax=plt.subplots(figsize=(8,6))\n",
    "read_sfr_gage(rm_xs.iseg[n]).iloc[3*4*6:].plot(y='Depth', ax=ax, label='Simulated Stage')\n",
    "stage_m.loc[stage_m.site_nam==rm_xs.Sensor[n]].iloc[3*4*6:].plot(y='stage_m', ax=ax, label='Observed Stage')\n",
    "# stage_m.loc[stage_m.site_nam==rm_xs.Sensor[n]].iloc[3*4*4:].plot(y='lvl_adj', ax=ax, label='Level Adjusted')\n",
    "\n",
    "# ax.set_xlim()"
   ]
  },
  {
   "cell_type": "code",
   "execution_count": 247,
   "id": "c02ab63f",
   "metadata": {
    "scrolled": false
   },
   "outputs": [
    {
     "name": "stderr",
     "output_type": "stream",
     "text": [
      "C:\\Users\\ajcalder\\AppData\\Local\\Temp\\ipykernel_13380\\1532982922.py:3: SettingWithCopyWarning: \n",
      "A value is trying to be set on a copy of a slice from a DataFrame.\n",
      "Try using .loc[row_indexer,col_indexer] = value instead\n",
      "\n",
      "See the caveats in the documentation: https://pandas.pydata.org/pandas-docs/stable/user_guide/indexing.html#returning-a-view-versus-a-copy\n",
      "  stage_m['dt_nam'] = stage_m.index.astype(str).str.slice(5,-3).str.replace('-| |:','_', regex=True)\n",
      "C:\\Users\\ajcalder\\AppData\\Local\\Temp\\ipykernel_13380\\1532982922.py:4: SettingWithCopyWarning: \n",
      "A value is trying to be set on a copy of a slice from a DataFrame.\n",
      "Try using .loc[row_indexer,col_indexer] = value instead\n",
      "\n",
      "See the caveats in the documentation: https://pandas.pydata.org/pandas-docs/stable/user_guide/indexing.html#returning-a-view-versus-a-copy\n",
      "  stage_m['obs_nam'] = stage_m['site_nam']+'_'+stage_m['dt_nam']\n"
     ]
    }
   ],
   "source": [
    "\n",
    "# need save flow_obs file for UCODE obs.data\n",
    "# create unique obsnam\n",
    "stage_m['dt_nam'] = stage_m.index.astype(str).str.slice(5,-3).str.replace('-| |:','_', regex=True)\n",
    "stage_m['obs_nam'] = stage_m['site_nam']+'_'+stage_m['dt_nam']\n",
    "stage_m = stage_m.dropna(subset='stage_m')\n",
    "#  ObsName GroupName ObsValue\n",
    "flow_arr = stage_m[['obs_nam','site_nam','stage_m']].values\n",
    "\n",
    "cols_out = ['ObsName','GroupName','ObsValue']\n",
    "\n",
    "header = 'BEGIN Observation_Data Table\\n'+\\\n",
    "    'NROW= '+str(len(flow_arr))+' NCOL= '+str(len(cols_out))+' COLUMNLABELS\\n'+\\\n",
    "    ' '.join(cols_out)\n",
    "\n",
    "footer = 'End Observation_Data'\n",
    "# get array of just strings\n",
    "# pull out observed value and name of obs\n",
    "np.savetxt(model_ws+'/flow_obs.dat', flow_arr,\n",
    "           fmt='%s', header = header, footer = footer, comments = '' )\n",
    "\n",
    "# set up .jif file for 4 gage files\n",
    "# if there is not a corresponding obs_nam for a simulated value you must use the filler 'dum'"
   ]
  },
  {
   "cell_type": "code",
   "execution_count": 256,
   "id": "6144364e",
   "metadata": {},
   "outputs": [
    {
     "data": {
      "text/plain": [
       "(2016, 2)"
      ]
     },
     "execution_count": 256,
     "metadata": {},
     "output_type": "execute_result"
    }
   ],
   "source": [
    "gag_out = read_sfr_gage(rm_xs.iseg[n])[['Stage']]\n",
    "gag_out.shape\n",
    "gag_out = gag_out.join(stage_m.loc[stage_m.site_nam==rm_xs.Sensor[n]][['obs_nam']])\n",
    "gag_out.shape"
   ]
  },
  {
   "cell_type": "code",
   "execution_count": 257,
   "id": "3b553e16",
   "metadata": {},
   "outputs": [],
   "source": [
    "for n in np.arange(0,5):\n",
    "    gag_out = read_sfr_gage(rm_xs.iseg[n])[['Stage']]\n",
    "    gag_out = gag_out.join(stage_m.loc[stage_m.site_nam==rm_xs.Sensor[n]][['obs_nam']])\n",
    "    gag_out.loc[gag_out.obs_nam.isna(),'obs_nam'] = 'dum'\n",
    "    gag_obs_out = gag_out.obs_nam.values\n",
    "\n",
    "\n",
    "    # 1st number is lines to skip, 2nd is column to read, third is number of values\n",
    "    # for gage file 2 is stage (m), 3 is flow (cubic meters per minute), 4 is depth\n",
    "    # where there is no obs_nam place 'dum'\n",
    "    header = 'jif @\\nStandardFile 2 4 '+str(len(gag_obs_out))\n",
    "\n",
    "    np.savetxt(model_ws+'/MF_gage_'+str(rm_xs.iseg[n])+'.go.jif', gag_obs_out,\n",
    "               fmt='%s', header = header, comments = '' )\n"
   ]
  },
  {
   "cell_type": "markdown",
   "id": "bebbeec8",
   "metadata": {},
   "source": [
    "### Plot stream discretization"
   ]
  },
  {
   "cell_type": "code",
   "execution_count": 70,
   "id": "e3e014d7",
   "metadata": {},
   "outputs": [
    {
     "data": {
      "text/plain": [
       "<matplotlib.legend.Legend at 0x1ec50f5ceb0>"
      ]
     },
     "execution_count": 70,
     "metadata": {},
     "output_type": "execute_result"
    },
    {
     "data": {
      "image/png": "[encoded data removed]",
      "text/plain": [
       "<Figure size 432x288 with 1 Axes>"
      ]
     },
     "metadata": {
      "needs_background": "light"
     },
     "output_type": "display_data"
    }
   ],
   "source": [
    "plt.plot(m.dis.top.array[0],label='Model Top', ls='--',color='black')\n",
    "plt.plot(m.sfr.reach_data.strtop-m.sfr.reach_data.strthick, label= 'Stream Bottom', ls=':',color='black')\n",
    "\n",
    "# spd_hd = dt_ref[dt_ref.dt == '2020-05-21'].kstpkper.values[0]\n",
    "# head = hdobj.get_data(spd_hd)[0][0]\n",
    "\n",
    "for t in dt_ref[0::12*4].dt: # every hour (12)\n",
    "    spd_hd = dt_ref[dt_ref.dt == t].kstpkper.values[0]\n",
    "    head = hdobj.get_data(spd_hd)[0][0]\n",
    "\n",
    "    plt.plot(head, color='black')\n",
    "plt.plot(head,label = 'GWE',  color='black')\n",
    "\n",
    "plt.legend()"
   ]
  }
 ],
 "metadata": {
  "kernelspec": {
   "display_name": "Python 3 (ipykernel)",
   "language": "python",
   "name": "python3"
  },
  "language_info": {
   "codemirror_mode": {
    "name": "ipython",
    "version": 3
   },
   "file_extension": ".py",
   "mimetype": "text/x-python",
   "name": "python",
   "nbconvert_exporter": "python",
   "pygments_lexer": "ipython3",
   "version": "3.9.12"
  }
 },
 "nbformat": 4,
 "nbformat_minor": 5
}
