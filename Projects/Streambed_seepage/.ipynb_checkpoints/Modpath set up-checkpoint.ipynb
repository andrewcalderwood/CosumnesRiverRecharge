{
 "cells": [
  {
   "cell_type": "code",
   "execution_count": 1,
   "id": "1da80bc5",
   "metadata": {},
   "outputs": [],
   "source": [
    "import os \n",
    "import sys\n",
    "from os.path import basename, dirname, join\n",
    "import numpy as np\n",
    "import pandas as pd\n",
    "import geopandas as gpd\n",
    "\n",
    "\n",
    "# import flopy\n",
    "# import flopy.utils.binaryfile as bf\n",
    "\n",
    "import matplotlib.pyplot as plt\n",
    "import matplotlib as mpl\n",
    "import contextily as ctx\n",
    "\n"
   ]
  },
  {
   "cell_type": "code",
   "execution_count": 2,
   "id": "69b421cd",
   "metadata": {},
   "outputs": [],
   "source": [
    "doc_dir = os.getcwd()\n",
    "while os.path.basename(doc_dir) != 'Documents':\n",
    "    doc_dir = os.path.dirname(doc_dir)\n",
    "# dir of all gwfm data\n",
    "gwfm_dir = os.path.dirname(doc_dir)+'/Box/research_cosumnes/GWFlowModel'\n",
    "# dir of stream level data for seepage study\n",
    "proj_dir = gwfm_dir + '/Stream_seepage/'\n",
    "dat_dir = proj_dir+'Stream_level_data/'\n",
    "\n",
    "sfr_dir = gwfm_dir+'/SFR_data/'"
   ]
  },
  {
   "cell_type": "code",
   "execution_count": 3,
   "id": "9e7e22c2",
   "metadata": {},
   "outputs": [
    {
     "data": {
      "text/plain": [
       "<module 'flopy' from 'C:\\\\Users\\\\ajcalder\\\\Anaconda3\\\\envs\\\\geosp\\\\lib\\\\site-packages\\\\flopy\\\\__init__.py'>"
      ]
     },
     "execution_count": 3,
     "metadata": {},
     "output_type": "execute_result"
    }
   ],
   "source": [
    "flopy_dir = doc_dir+'/GitHub/flopy/'\n",
    "if flopy_dir not in sys.path:\n",
    "    sys.path.append(flopy_dir)\n",
    "# sys.path\n",
    "import flopy \n",
    "\n",
    "from importlib import reload\n",
    "# importlib.reload\n",
    "reload(flopy)"
   ]
  },
  {
   "cell_type": "code",
   "execution_count": 4,
   "id": "d7a341c4",
   "metadata": {},
   "outputs": [],
   "source": [
    "def gdf_bnds(gdf, ax):\n",
    "    minx, miny, maxx, maxy = gdf.geometry.unary_union.bounds\n",
    "    ax.set_xlim(minx, maxx)\n",
    "    ax.set_ylim(miny, maxy)\n",
    "\n",
    "def get_nodes(locs):\n",
    "    ''' Converts layer, row, column into model node number '''\n",
    "    nodes = []\n",
    "    for k, i, j in locs:\n",
    "        nodes.append(k * m.dis.nrow * m.dis.ncol + i * m.dis.ncol + j)\n",
    "    return nodes\n",
    " "
   ]
  },
  {
   "cell_type": "code",
   "execution_count": 5,
   "id": "8597658e",
   "metadata": {},
   "outputs": [],
   "source": [
    "\n",
    "loadpth = 'C:/WRDAPP/GWFlowModel/Cosumnes/Stream_seepage/'\n",
    "model_ws = loadpth+'inset_model'\n",
    "\n",
    "m = flopy.modflow.Modflow.load('MF.nam', model_ws=model_ws, \n",
    "                                exe_name='mf-owhm', version='mfnwt') #, load_only = load_only)"
   ]
  },
  {
   "cell_type": "code",
   "execution_count": 6,
   "id": "6448de14",
   "metadata": {},
   "outputs": [],
   "source": [
    "nlay = m.dis.nlay\n",
    "nrow = m.dis.nrow\n",
    "ncol = m.dis.ncol"
   ]
  },
  {
   "cell_type": "code",
   "execution_count": 7,
   "id": "fd6a3b65",
   "metadata": {},
   "outputs": [],
   "source": [
    "nper = m.dis.nper # number of months\n",
    "# m.dis.nstp.array[1:] # number of steps\n",
    "perlen = m.dis.perlen.array # days per period\n",
    "\n",
    "strt_date = np.datetime64(m.start_datetime)\n",
    "# strt_date = np.datetime64('1990-10-01')\n",
    "end_date = strt_date + np.timedelta64(int(perlen.sum()-1),'D')\n"
   ]
  },
  {
   "cell_type": "code",
   "execution_count": 8,
   "id": "0699dda3",
   "metadata": {},
   "outputs": [],
   "source": [
    "hdobj = flopy.utils.HeadFile(model_ws+'/MF.hds')\n",
    "spd_stp = hdobj.get_kstpkper()\n",
    "cbb = flopy.utils.CellBudgetFile(model_ws+'/MF.cbc')\n",
    "\n",
    "times = hdobj.get_times()\n",
    "# subtract 1 to have start of each period\n",
    "dt_ref = pd.DataFrame(np.asarray(times), columns=['time']) \n",
    "dt_ref['timedelta'] = pd.to_timedelta(dt_ref.time, 'D').round('H')\n",
    "dt_ref['dt'] = strt_date+dt_ref.timedelta\n",
    "dt_ref['kstpkper'] = spd_stp\n",
    "dt_ref[['kstp','kper']] = dt_ref.kstpkper.tolist()"
   ]
  },
  {
   "cell_type": "markdown",
   "id": "c6b7be32",
   "metadata": {},
   "source": [
    "## Identify locations for particle release"
   ]
  },
  {
   "cell_type": "code",
   "execution_count": 9,
   "id": "50fcd2fa",
   "metadata": {},
   "outputs": [],
   "source": [
    "# sfr dataframe\n",
    "sfrdf = pd.DataFrame(m.sfr.reach_data)\n",
    "# layer, row, column to identify particle release\n",
    "sfr_kij = sfrdf[['k','i','j']]-1\n",
    "# sfr_kij.dtypes"
   ]
  },
  {
   "cell_type": "code",
   "execution_count": 10,
   "id": "3f1dc29f",
   "metadata": {},
   "outputs": [],
   "source": [
    "\n",
    "# Num particles \n",
    "# ParticleID, GroupNumber, Grid, Layer, Row, Column, LocalX, LocalY, LocalZ, ReleaseTime Label\n",
    "# find location of all active cells for forward tracking\n",
    "ibound = m.bas6.ibound.array\n",
    "# adjust forward tracking start cells to focus on expected Big Springs source area\n",
    "# particle should also start in layer 1 only\n",
    "# ibound[0,bs_src_grid.HRU_ROW-1, bs_src_grid.HRU_COL-1] +=1\n",
    "ibound[sfr_kij.k, sfr_kij.i, sfr_kij.j] += 1\n",
    "ibound[ibound<2] = 0\n",
    "\n",
    "k_all,i_all, j_all = np.where(ibound !=0)\n",
    "\n",
    "kij_arr = np.transpose((k_all,i_all, j_all))\n",
    "kij_all = list(zip(k_all,i_all, j_all))\n",
    "\n",
    "nodes_all = get_nodes(kij_all)"
   ]
  },
  {
   "cell_type": "code",
   "execution_count": 11,
   "id": "2c348d3e",
   "metadata": {},
   "outputs": [],
   "source": [
    "# plt.imshow(ibound[0])\n",
    "# kij_all"
   ]
  },
  {
   "cell_type": "code",
   "execution_count": 12,
   "id": "69df7c08",
   "metadata": {},
   "outputs": [],
   "source": [
    "m_dates = pd.date_range(strt_date, end_date, freq=\"MS\")\n",
    "\n",
    "nnodes = m.modelgrid.nnodes\n",
    "\n"
   ]
  },
  {
   "cell_type": "markdown",
   "id": "dbce1aee",
   "metadata": {},
   "source": [
    "# Modpath "
   ]
  },
  {
   "cell_type": "code",
   "execution_count": 13,
   "id": "0154d190",
   "metadata": {},
   "outputs": [],
   "source": [
    "# run shorter MODPATH simulation to reduce run time\n",
    "\n",
    "\n",
    "n_days = (dt_ref.dt.max()-dt_ref.dt.min()).days # full time period\n",
    "# stoptime is related to the reftime set in modpath as zero and is same in both directions\n",
    "stoptime = dt_ref.time.max()- dt_ref.time.min()\n"
   ]
  },
  {
   "cell_type": "code",
   "execution_count": 42,
   "id": "7b9127f6",
   "metadata": {},
   "outputs": [],
   "source": [
    "modelname = 'Modpath7'\n",
    "exe_name = 'mpath7.exe'\n",
    "\n",
    "tracking = 'forward'\n",
    "# tracking = 'backward'\n",
    "\n",
    "mp_ws = join(model_ws,'mp',tracking, 'mp_'+str(n_days)+'days')\n",
    "\n",
    "mp = flopy.modpath.Modpath7(modelname= modelname, version='modpath7',exe_name= exe_name, flowmodel=m,  \n",
    "                             headfilename = join(model_ws,'MF.hds'), \n",
    "                            budgetfilename = join(model_ws,'MF.cbc'), model_ws = mp_ws)"
   ]
  },
  {
   "cell_type": "code",
   "execution_count": 15,
   "id": "8fffd1d8",
   "metadata": {},
   "outputs": [
    {
     "data": {
      "text/plain": [
       "'C:/WRDAPP/GWFlowModel/Cosumnes/Stream_seepage/inset_model\\\\mp\\\\forward\\\\mp_365days/MF.dis'"
      ]
     },
     "execution_count": 15,
     "metadata": {},
     "output_type": "execute_result"
    }
   ],
   "source": [
    "import shutil\n",
    "shutil.copy(model_ws+'/MF.dis', mp_ws+'/MF.dis')"
   ]
  },
  {
   "cell_type": "code",
   "execution_count": 16,
   "id": "ce3a8694",
   "metadata": {},
   "outputs": [],
   "source": [
    "# get times for first time step in each stress period to release particles\n",
    "times_tr = dt_ref.time[1:]\n",
    "\n",
    "# reference time represent the starting time\n",
    "if tracking=='backward':\n",
    "    reftime = [dt_ref.time.values[-1]]\n",
    "    # get stress period that gives the end \n",
    "    spd_ref = np.min(np.where(times_tr>=reftime[0]-stoptime)) \n",
    "elif tracking =='forward':\n",
    "    reftime = [1]\n",
    "    #     reftime = [1] # don't start in steady state\n",
    "    # get stress period that start the simulation given the reference time\n",
    "    spd_ref = np.min(np.where(times_tr>=reftime[0])) \n",
    "\n",
    "# print(tracking)"
   ]
  },
  {
   "cell_type": "markdown",
   "id": "77fe9b4b",
   "metadata": {},
   "source": [
    "## Release time info\n",
    "releasestarttime is the release time (modpath time) for starting particles in a particle group.  \n",
    "*ReleaseStartTime* is a value of tracking time; therefore, it is always greater than or equal to 0.  \n",
    "*Release Option*:  \n",
    "1. a single release time,  \n",
    "2. particles released over a period of time beginning at relase time for a length  \n",
    "3. particles in a group are released at specified time values  \n"
   ]
  },
  {
   "cell_type": "code",
   "execution_count": 17,
   "id": "f81dbabb",
   "metadata": {},
   "outputs": [],
   "source": [
    "# release data from reference time (0) used by modpath\n",
    "# head is measured at end of each stress period, particles should be released at same time so results are comparable\n",
    "# release particles at day end that corresponds to end of stress period\n",
    "releasetimes = dt_ref[dt_ref.kstp==0].time.values[1:]\n",
    "# releasedata = [len(releasedata), releasedata.tolist()]\n",
    "# flopy interprets release option 2 to have length of 3 [ReleaseEventCount, specified time, release interval]\n",
    "releasedata = [len(releasetimes),  releasetimes[0], 30.4375] # interval results in year length of 365.25\n",
    "# and release option to have length of 2 [ReleaseEventCount, specified times]\n",
    "# releasedata = [len(releasetimes),  releasetimes] # interval results in year length of 365.25\n",
    "\n"
   ]
  },
  {
   "cell_type": "code",
   "execution_count": 18,
   "id": "9b76cd70",
   "metadata": {},
   "outputs": [
    {
     "name": "stdout",
     "output_type": "stream",
     "text": [
      "Total time:  1 spd  1 release time -0.16666662693023682\n"
     ]
    }
   ],
   "source": [
    "# 372, \n",
    "spd = 0\n",
    "print('Total time: ',reftime[0], 'spd ', spd+1, 'release time', reftime[0] - releasetimes[spd])\n"
   ]
  },
  {
   "cell_type": "code",
   "execution_count": 19,
   "id": "283e9c14",
   "metadata": {},
   "outputs": [
    {
     "name": "stdout",
     "output_type": "stream",
     "text": [
      "SPD 11 0.998   SPD 21 0.997   SPD 31 0.998   SPD 41 0.998   SPD 51 0.997   SPD 61 0.998   SPD 71 0.996   SPD 81 0.998   SPD 91 0.998   SPD 101 0.998   SPD 111 0.998   SPD 121 0.997   SPD 131 0.997   SPD 141 0.998   SPD 151 0.998   SPD 161 0.998   SPD 171 0.997   SPD 181 0.997   SPD 191 0.998   SPD 201 0.998   SPD 211 0.997   SPD 221 0.998   SPD 231 0.997   SPD 241 0.998   SPD 251 0.998   SPD 261 0.997   SPD 271 0.997   SPD 281 0.998   SPD 291 0.997   SPD 301 0.997   SPD 311 0.998   SPD 321 0.998   SPD 331 0.998   SPD 341 0.998   SPD 351 0.998   SPD 361 0.997   "
     ]
    }
   ],
   "source": [
    "os.makedirs(mp_ws+'/sloc',exist_ok=True)\n",
    "from datetime import datetime\n",
    "# takes .34 seconds to write out one particle group, avg of first 10 is 0.5 seconds so 150 minutes\n",
    "particlegroups = []\n",
    "# useful in determing how many particles to release on a cell by cell basis\n",
    "simple_particles = np.ones((nper,m.dis.nrow,m.dis.ncol)).astype(int)\n",
    "# plus one to account for steady state\n",
    "for spd in np.arange(spd_ref+1, nper-1): #spd_ref + 1\n",
    "    tic = datetime.now()\n",
    "#   1 particle per cell, scale influence in post-processing\n",
    " # forward tracking uses source area\n",
    "    if tracking == 'forward':\n",
    "#         scale particles by recharge rate\n",
    "        ij_spd = np.repeat(kij_arr, 10, axis=0)\n",
    "#         ij_spd = np.repeat(bs_ij.values, simple_particles[spd, bs_ij.HRU_ROW, bs_ij.HRU_COL], axis=0)\n",
    "    # backward tracking uses sink area\n",
    "#     elif tracking == 'backward':\n",
    "#  # repeat for 10 by 10 over cell face over 5 cell faces\n",
    "# #         ij_spd = np.repeat(bs_arr.values, 10*10*5, axis=0)\n",
    "#         # pull out layer, row, column to repeat for number of particles then across cells\n",
    "#         ij_spd = np.repeat(np.reshape(bs_arr.values[0], (1,-1)), 10*10*len(faces[0]), axis=0)\n",
    "#         for f in np.arange(1,len(faces)):\n",
    "#             ij_spd = np.vstack((ij_spd, np.repeat(np.reshape(bs_arr.values[f], (1,-1)), 10*10*len(faces[f]),axis=0)))\n",
    "\n",
    "    # compile row, column data\n",
    "#     kij_all = list(zip(ij_spd[:,0],ij_spd[:,1], ij_spd[:,2]))\n",
    "    # layer is defined as top layer where head > laybot\n",
    "#     kij_all = list(zip(layer[spd, ij_spd[:,1], ij_spd[:,2]],ij_spd[:,1], ij_spd[:,2])) \n",
    "#     ij_spd = pd.DataFrame(ij_spd).assign(spd=spd)\n",
    "    pg_spd = str(spd+1).zfill(4)\n",
    "    pid = pg_spd + (pd.Series(np.arange(0,len(kij_all)).astype(str)).str.zfill(6))\n",
    "    pid = pid.astype(np.int64)\n",
    "#     pid.plot()\n",
    "    # forward tracking from expected Big Springs source area\n",
    "    # drape is 0 means not released if 0, drape is 1 means set in next layer below\n",
    "    part1 = flopy.modpath.ParticleData(\n",
    "        kij_all, drape=1, structured=True, particleids=pid,\n",
    "#         localx = localx_all, localy = localy_all, localz = localz_all,\n",
    "    )\n",
    "    if tracking == 'forward':\n",
    "        releasedata = [releasetimes[spd] - reftime[0]]\n",
    "    elif tracking == 'backward':\n",
    "        releasedata = [reftime[0] - releasetimes[spd]]\n",
    "    pg1 = flopy.modpath.ParticleGroup(\n",
    "        particlegroupname=\"PG_SPD\"+pg_spd, particledata=part1, filename=\"sloc/Modpath7.pg_spd\"+pg_spd+\".sloc\",\n",
    "        releasedata = releasedata \n",
    "    )\n",
    "    # list of particle groups to write\n",
    "    particlegroups += [pg1]\n",
    "    toc = datetime.now()\n",
    "    if spd == np.round(spd, -1):\n",
    "        print('SPD '+str(spd+1) +' %.3f' %((tic-toc).microseconds/1E6), end=\"   \")\n"
   ]
  },
  {
   "cell_type": "code",
   "execution_count": 20,
   "id": "f9454c51",
   "metadata": {},
   "outputs": [],
   "source": [
    "# new porosity variable added to zone properties based on approximate literature values\n",
    "porosity = np.reshape(np.loadtxt(model_ws+'/porosity_arr.tsv', delimiter='\\t'),(nlay,nrow,ncol))"
   ]
  },
  {
   "cell_type": "code",
   "execution_count": 37,
   "id": "0d0c06eb",
   "metadata": {},
   "outputs": [
    {
     "data": {
      "text/plain": [
       "array([  1.1666666,  31.166666 ,  61.166668 ,  92.166664 , 123.166664 ,\n",
       "       152.16667  , 183.16667  , 213.16667  , 244.16667  , 274.16666  ,\n",
       "       305.16666  , 336.16666  , 366.16666  ], dtype=float32)"
      ]
     },
     "execution_count": 37,
     "metadata": {},
     "output_type": "execute_result"
    }
   ],
   "source": [
    "dt_ref[dt_ref.kstp==0].time.values[1:]\n",
    "dt_months = dt_ref.iloc[1:].resample('MS', on='dt').first()\n"
   ]
  },
  {
   "cell_type": "code",
   "execution_count": 45,
   "id": "25838910",
   "metadata": {},
   "outputs": [
    {
     "name": "stdout",
     "output_type": "stream",
     "text": [
      "0.765403\n"
     ]
    }
   ],
   "source": [
    "# default iface for MODFLOW-2005 and MODFLOW 6\n",
    "defaultiface = {\"UZF\": 6, \"RECHARGE\": 6} #, \"RECHARGE\": 6, \"ET\": 6\n",
    "\n",
    "tic = datetime.now()\n",
    "mpbas = flopy.modpath.Modpath7Bas(mp, porosity=porosity, defaultiface=defaultiface)\n",
    "mpsim = flopy.modpath.Modpath7Sim(\n",
    "    mp,\n",
    "    simulationtype= 'timeseries', #'timeseries', #\"pathline\" always fails to write\n",
    "    trackingdirection=tracking,\n",
    "    weaksinkoption='pass_through', #pass_through, \"stop_at\"\n",
    "    weaksourceoption=\"pass_through\",\n",
    "#     Valid budget output options are ‘no’ - individual cell water balance errors are not computed and budget record headers \n",
    "#     are not printed, ‘summary’  - a summary of individual cell water balance errors for each time step is printed in the\n",
    "#     listing file without record headers\n",
    "    budgetoutputoption=\"summary\",\n",
    "#     budgetcellnumbers=[1049, 1259], #Cell numbers (zero-based) for which detailed water budgets are computed. \n",
    "    # List or tuple with two ints that define the particle group and particle id (zero-based) of the specified\n",
    "    # particle that is followed in detail. \n",
    "#     traceparticledata=[1, 1000], \n",
    "#     referencetime=[0, 0, 0.0],\n",
    "    referencetime=reftime, # important to start mid way in through flow model to run last 10 or 20 years\n",
    "    stoptimeoption=\"extend\", # 'total' = full run time, or 'specified' to specify stop, 'extend' is continue until termination\n",
    "    stoptime = stoptime,\n",
    "#     timepointdata= [dt_months.time.values.shape[0], dt_months.time.values], # try sampling points once per month\n",
    "    timepointdata= [releasetimes[::7].shape[0], releasetimes[::7]], # try sampling points once per week\n",
    "#     zonedataoption=\"on\",\n",
    "#     zones=zones,\n",
    "    particlegroups=particlegroups,\n",
    ")\n",
    "\n",
    "# write modpath datasets\n",
    "mp.write_input()\n",
    "\n",
    "toc = datetime.now()\n",
    "print((tic-toc).microseconds/1E6)\n",
    "# run modpath\n",
    "# mp.run_model()"
   ]
  },
  {
   "cell_type": "markdown",
   "id": "e1dfbfbd",
   "metadata": {},
   "source": [
    "## Troubleshooting\n",
    "The initial attempt had a unit 116 error which I found with modpath at shasta originally where there are too many particles for the pathline output. I will switch to timepoint tracking, weekly timepoints were enough to allow a file to write."
   ]
  },
  {
   "cell_type": "markdown",
   "id": "994e7f9a",
   "metadata": {},
   "source": [
    "# Scientific thoughts\n",
    "## Particle tracking - Where does river recharge go?\n",
    "Rather than thinking about the hyporheic zone specifically I can look at the end points of the river's recharge in terms of deep groundwater, lateral outflow, return to streamflow, storage as these help answer the questions surrounding the benefits of levee setback. Where does the water go?\n",
    "## Streamflow and storage - When does river recharge provide benefit?\n",
    "This is more related to the modeling effort looking at how a local levee setback provides recharge benefits. It could also be posed to the Oneto-Denier site.\n",
    "\n",
    "If I apply the same model to the Oneto-Denier site I will have the calibration data to validate making the results more interesting."
   ]
  },
  {
   "cell_type": "code",
   "execution_count": null,
   "id": "2c02b600",
   "metadata": {},
   "outputs": [],
   "source": []
  }
 ],
 "metadata": {
  "kernelspec": {
   "display_name": "Python 3 (ipykernel)",
   "language": "python",
   "name": "python3"
  },
  "language_info": {
   "codemirror_mode": {
    "name": "ipython",
    "version": 3
   },
   "file_extension": ".py",
   "mimetype": "text/x-python",
   "name": "python",
   "nbconvert_exporter": "python",
   "pygments_lexer": "ipython3",
   "version": "3.9.12"
  }
 },
 "nbformat": 4,
 "nbformat_minor": 5
}
