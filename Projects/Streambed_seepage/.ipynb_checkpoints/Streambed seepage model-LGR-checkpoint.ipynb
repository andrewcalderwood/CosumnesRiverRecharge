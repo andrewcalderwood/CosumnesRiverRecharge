{
 "cells": [
  {
   "cell_type": "markdown",
   "id": "meaning-colony",
   "metadata": {},
   "source": [
    "# Streambed seepage model of river by Teichert and Rooney\n",
    "The goal of this MODFLOW model is to apply detailed field data collected over two years to a diffusive wave streamflow routing package. Due to the location of this study, the regional groundwater table is well below the stream (60-80ft) such that the bottom of the model will be modeled as a seepage face. The diffusive wave model will be applied to calibrate the streambed hydraulic conductivities to match the stream stage and floodwave front velocities."
   ]
  },
  {
   "cell_type": "code",
   "execution_count": 1,
   "id": "requested-boost",
   "metadata": {},
   "outputs": [],
   "source": [
    "# standard python utilities\n",
    "import os\n",
    "import sys\n",
    "import glob\n",
    "import pandas as pd\n",
    "import numpy as np\n",
    "import calendar\n",
    "import time\n",
    "from scipy.stats import gmean\n",
    "\n",
    "# standard python plotting utilities\n",
    "import matplotlib as mpl\n",
    "import matplotlib.pyplot as plt\n",
    "\n",
    "# standard geospatial python utilities\n",
    "import pyproj # for converting proj4string\n",
    "import shapely\n",
    "import shapefile\n",
    "import geopandas as gpd\n",
    "import rasterio\n",
    "\n",
    "# mapping utilities\n",
    "import contextily as ctx\n",
    "from mpl_toolkits.axes_grid1.inset_locator import inset_axes\n",
    "from mpl_toolkits.axes_grid1.anchored_artists import AnchoredSizeBar\n",
    "import matplotlib.font_manager as fm"
   ]
  },
  {
   "cell_type": "code",
   "execution_count": 2,
   "id": "complex-pricing",
   "metadata": {},
   "outputs": [],
   "source": [
    "flopy_dir = doc_dir+'/GitHub/flopy/'\n",
    "if flopy_dir not in sys.path:\n",
    "    sys.path.append(flopy_dir)\n",
    "# sys.path\n",
    "import flopy \n",
    "\n",
    "from importlib import reload\n",
    "# importlib.reload\n",
    "reload(flopy)"
   ]
  },
  {
   "cell_type": "code",
   "execution_count": 4,
   "id": "viral-fight",
   "metadata": {},
   "outputs": [],
   "source": [
    "doc_dir = os.getcwd()\n",
    "while os.path.basename(doc_dir) != 'Documents':\n",
    "    doc_dir = os.path.dirname(doc_dir)\n",
    "# dir of all gwfm data\n",
    "gwfm_dir = os.path.dirname(doc_dir)+'/Box/research_cosumnes/GWFlowModel'\n"
   ]
  },
  {
   "cell_type": "markdown",
   "id": "composite-celebration",
   "metadata": {},
   "source": [
    "# Time discretization\n",
    "Streambed stage data was collected from December 2019 to December 2021 and successfully captured the first winter flows for both WY2020 and WY2021."
   ]
  },
  {
   "cell_type": "code",
   "execution_count": 5,
   "id": "unexpected-hazard",
   "metadata": {},
   "outputs": [],
   "source": [
    "\n",
    "# Transient -> might want to think about making SP1 steady\n",
    "end_date = '2020-09-30'\n",
    "# end_date = '2018-01-02'\n",
    "strt_date = '2019-10-01'\n",
    "\n",
    "dates = pd.date_range(strt_date, end_date)\n",
    "\n",
    "# The number of periods is the number of dates \n",
    "nper = len(dates)+1\n",
    "\n",
    "# Each period has a length of one because the timestep is one day, have the 1st stress period be out of the date range\n",
    "# need to have the transient packages start on the second stress period\n",
    "perlen = np.ones(nper)\n",
    "# Steady or transient periods\n",
    "steady = np.zeros(nper)\n",
    "steady[0] = 1 # first period is steady state, rest are transient\n",
    "steady = steady.astype('bool').tolist()\n",
    "# Reduce the number of timesteps to decrease run time\n",
    "nstp = np.ones(nper)*np.append(np.ones(1),6*np.ones(nper-1))"
   ]
  },
  {
   "cell_type": "markdown",
   "id": "subsequent-combining",
   "metadata": {},
   "source": [
    "# Grid discretization\n",
    "The stream stage sensors are installed roughly every 500m in the stream channel, a discretization of 100m is the minimum in the transverse direction of the stream channel or else the stream will fill more space than just one model cell."
   ]
  },
  {
   "cell_type": "code",
   "execution_count": 6,
   "id": "front-officer",
   "metadata": {},
   "outputs": [],
   "source": [
    "delr=100\n",
    "delc=100\n",
    "rotation=52.9\n",
    "\n",
    "# model will only be in upper 0-70 ft of the domain, most likely only 0-30ft\n",
    "unsat_thick = 20 # 20 meter depth roughly\n",
    "thick = 5\n",
    "nlay = int(unsat_thick/thick)\n",
    "\n",
    "# There is essentially no difference bewtween WGS84 and NAD83 for UTM Zone 10N\n",
    "# proj4_str='EPSG:26910'\n",
    "proj4_str='+proj=utm +zone=10 +ellps=WGS84 +datum=WGS84 +units=m +no_defs '"
   ]
  },
  {
   "cell_type": "code",
   "execution_count": 7,
   "id": "israeli-direction",
   "metadata": {},
   "outputs": [],
   "source": [
    "# load approximate extent of child model\n",
    "child_extent = gpd.read_file(gwfm_dir+'/DIS_data/streambed_seepage/child_model_extent/streambed_seepage_child_model_extent.shp')\n",
    "# load parent model grid\n",
    "parent_grid = gpd.read_file(gwfm_dir+'/DIS_data/grid/grid.shp')\n",
    "# join desired child domain extent to parent grid\n",
    "child_grid_parent_id = gpd.overlay(child_extent,parent_grid)\n",
    "# create model domain that fits grid\n",
    "m_domain = child_grid_parent_id.dissolve(by='id')"
   ]
  },
  {
   "cell_type": "code",
   "execution_count": 8,
   "id": "owned-papua",
   "metadata": {},
   "outputs": [],
   "source": [
    "ncol = 2*(child_grid_parent_id.column.max() - child_grid_parent_id.column.min())\n",
    "nrow = 2*(child_grid_parent_id.row.max() - child_grid_parent_id.row.min())"
   ]
  },
  {
   "cell_type": "code",
   "execution_count": 9,
   "id": "executive-channels",
   "metadata": {},
   "outputs": [],
   "source": [
    "coords = list(m_domain.geometry.values[0].exterior.coords)\n",
    "xul = np.min(coords)\n",
    "yul = coords[np.where(coords==xul)[0][0]][1]"
   ]
  },
  {
   "cell_type": "code",
   "execution_count": 10,
   "id": "equal-stroke",
   "metadata": {},
   "outputs": [],
   "source": [
    "loadpth = 'F:/WRDAPP/GWFlowModel/Cosumnes/'\n",
    "model_ws = loadpth+'streambed_seepage'"
   ]
  },
  {
   "cell_type": "code",
   "execution_count": 11,
   "id": "freelance-veteran",
   "metadata": {},
   "outputs": [],
   "source": [
    "# m = flopy.modflow.Modflow(modelname = 'MF', exe_name = 'MODFLOW-NWT.exe', \n",
    "#                           version = 'mfnwt', model_ws=model_ws)\n",
    "m = flopy.modflow.Modflow(modelname = 'MF', exe_name = 'mf2005', \n",
    "                          version = 'mf2005', model_ws=model_ws)\n",
    "#lenuni = 1 is in ft, lenuni = 2 is in meters\n",
    "# itmuni is time unit 5 = years, 4=days, 3 =hours, 2=minutes, 1=seconds\n",
    "dis = flopy.modflow.ModflowDis(nrow=nrow, ncol=ncol, \n",
    "                               nlay=nlay, delr=delr, delc=delc,\n",
    "                               model=m, lenuni = 2, itmuni = 4,\n",
    "                               xul = xul, yul = yul,rotation=rotation, proj4_str=proj4_str,\n",
    "                              nper = nper, perlen=perlen, nstp=nstp, steady = steady,\n",
    "                              start_datetime = strt_date)\n"
   ]
  },
  {
   "cell_type": "code",
   "execution_count": 12,
   "id": "handmade-geneva",
   "metadata": {},
   "outputs": [
    {
     "name": "stdout",
     "output_type": "stream",
     "text": [
      "(654963.8857424802, 4240319.35466039) (641085.9253809212, 4250815.173647158) (659302.8066108287, 4274902.20829768) (673180.7669723877, 4264406.389310912)\n"
     ]
    }
   ],
   "source": [
    "mg = m.modelgrid\n",
    "ll = mg.get_coords(0, 0) #lower left\n",
    "lr = mg.get_coords(0, nrow*delr) #lower right\n",
    "ur = mg.get_coords(ncol*delc, nrow*delr) #upper right\n",
    "ul = mg.get_coords(ncol*delc, 0) #upper left\n",
    "print(ll, lr, ur, ul)\n",
    "\n",
    "# Shapefile of model bounds\n",
    "from shapely.geometry import Polygon\n",
    "vertices = np.stack(np.asarray((ll,lr, ur, ul)))\n",
    "vertices\n",
    "geoms = Polygon(vertices)"
   ]
  },
  {
   "cell_type": "code",
   "execution_count": 24,
   "id": "indonesian-bishop",
   "metadata": {},
   "outputs": [],
   "source": [
    "# write modelgrid to get updated row and col numbers specific to the child grid\n",
    "# m.modelgrid.write_shapefile(gwfm_dir+'/DIS_data/streambed_seepage/grid/grid.shp')\n",
    "grid_p = gpd.read_file(gwfm_dir+'/DIS_data/streambed_seepage/grid/grid.shp')\n",
    "grid_p.crs = 'epsg:32610'"
   ]
  },
  {
   "cell_type": "code",
   "execution_count": 33,
   "id": "interim-profession",
   "metadata": {},
   "outputs": [
    {
     "data": {
      "text/plain": [
       "(52548, 4)"
      ]
     },
     "execution_count": 33,
     "metadata": {},
     "output_type": "execute_result"
    }
   ],
   "source": [
    "grid_p.shape"
   ]
  },
  {
   "cell_type": "code",
   "execution_count": 30,
   "id": "postal-cradle",
   "metadata": {},
   "outputs": [],
   "source": [
    "# find matching based on current grid\n",
    "child_parent_match = gpd.sjoin(child_grid_parent_id, grid_p, op = 'within', how = 'right', lsuffix = '_P',rsuffix='_C')"
   ]
  },
  {
   "cell_type": "code",
   "execution_count": 35,
   "id": "southeast-robinson",
   "metadata": {},
   "outputs": [
    {
     "data": {
      "text/html": [
       "<div>\n",
       "<style scoped>\n",
       "    .dataframe tbody tr th:only-of-type {\n",
       "        vertical-align: middle;\n",
       "    }\n",
       "\n",
       "    .dataframe tbody tr th {\n",
       "        vertical-align: top;\n",
       "    }\n",
       "\n",
       "    .dataframe thead th {\n",
       "        text-align: right;\n",
       "    }\n",
       "</style>\n",
       "<table border=\"1\" class=\"dataframe\">\n",
       "  <thead>\n",
       "    <tr style=\"text-align: right;\">\n",
       "      <th></th>\n",
       "      <th>id</th>\n",
       "      <th>node</th>\n",
       "      <th>row</th>\n",
       "      <th>column</th>\n",
       "      <th>geometry</th>\n",
       "    </tr>\n",
       "  </thead>\n",
       "  <tbody>\n",
       "    <tr>\n",
       "      <th>0</th>\n",
       "      <td>0</td>\n",
       "      <td>2839</td>\n",
       "      <td>13</td>\n",
       "      <td>79</td>\n",
       "      <td>POLYGON ((641136.854 4250776.659, 641085.925 4...</td>\n",
       "    </tr>\n",
       "    <tr>\n",
       "      <th>1</th>\n",
       "      <td>0</td>\n",
       "      <td>2840</td>\n",
       "      <td>13</td>\n",
       "      <td>80</td>\n",
       "      <td>POLYGON ((641101.793 4250836.165, 641222.398 4...</td>\n",
       "    </tr>\n",
       "    <tr>\n",
       "      <th>2</th>\n",
       "      <td>0</td>\n",
       "      <td>2841</td>\n",
       "      <td>13</td>\n",
       "      <td>81</td>\n",
       "      <td>POLYGON ((641222.398 4250995.710, 641343.002 4...</td>\n",
       "    </tr>\n",
       "    <tr>\n",
       "      <th>3</th>\n",
       "      <td>0</td>\n",
       "      <td>2842</td>\n",
       "      <td>13</td>\n",
       "      <td>82</td>\n",
       "      <td>POLYGON ((641343.002 4251155.255, 641463.607 4...</td>\n",
       "    </tr>\n",
       "    <tr>\n",
       "      <th>4</th>\n",
       "      <td>0</td>\n",
       "      <td>2843</td>\n",
       "      <td>13</td>\n",
       "      <td>83</td>\n",
       "      <td>POLYGON ((641463.607 4251314.799, 641584.212 4...</td>\n",
       "    </tr>\n",
       "    <tr>\n",
       "      <th>...</th>\n",
       "      <td>...</td>\n",
       "      <td>...</td>\n",
       "      <td>...</td>\n",
       "      <td>...</td>\n",
       "      <td>...</td>\n",
       "    </tr>\n",
       "    <tr>\n",
       "      <th>13371</th>\n",
       "      <td>0</td>\n",
       "      <td>22996</td>\n",
       "      <td>100</td>\n",
       "      <td>226</td>\n",
       "      <td>POLYGON ((672484.843 4263711.918, 672605.484 4...</td>\n",
       "    </tr>\n",
       "    <tr>\n",
       "      <th>13372</th>\n",
       "      <td>0</td>\n",
       "      <td>22997</td>\n",
       "      <td>100</td>\n",
       "      <td>227</td>\n",
       "      <td>POLYGON ((672605.484 4263871.435, 672726.126 4...</td>\n",
       "    </tr>\n",
       "    <tr>\n",
       "      <th>13373</th>\n",
       "      <td>0</td>\n",
       "      <td>22998</td>\n",
       "      <td>100</td>\n",
       "      <td>228</td>\n",
       "      <td>POLYGON ((672726.126 4264030.952, 672846.767 4...</td>\n",
       "    </tr>\n",
       "    <tr>\n",
       "      <th>13374</th>\n",
       "      <td>0</td>\n",
       "      <td>22999</td>\n",
       "      <td>100</td>\n",
       "      <td>229</td>\n",
       "      <td>POLYGON ((672846.767 4264190.469, 672967.409 4...</td>\n",
       "    </tr>\n",
       "    <tr>\n",
       "      <th>13375</th>\n",
       "      <td>0</td>\n",
       "      <td>23000</td>\n",
       "      <td>100</td>\n",
       "      <td>230</td>\n",
       "      <td>POLYGON ((672967.409 4264349.986, 673088.051 4...</td>\n",
       "    </tr>\n",
       "  </tbody>\n",
       "</table>\n",
       "<p>13376 rows × 5 columns</p>\n",
       "</div>"
      ],
      "text/plain": [
       "       id   node  row  column  \\\n",
       "0       0   2839   13      79   \n",
       "1       0   2840   13      80   \n",
       "2       0   2841   13      81   \n",
       "3       0   2842   13      82   \n",
       "4       0   2843   13      83   \n",
       "...    ..    ...  ...     ...   \n",
       "13371   0  22996  100     226   \n",
       "13372   0  22997  100     227   \n",
       "13373   0  22998  100     228   \n",
       "13374   0  22999  100     229   \n",
       "13375   0  23000  100     230   \n",
       "\n",
       "                                                geometry  \n",
       "0      POLYGON ((641136.854 4250776.659, 641085.925 4...  \n",
       "1      POLYGON ((641101.793 4250836.165, 641222.398 4...  \n",
       "2      POLYGON ((641222.398 4250995.710, 641343.002 4...  \n",
       "3      POLYGON ((641343.002 4251155.255, 641463.607 4...  \n",
       "4      POLYGON ((641463.607 4251314.799, 641584.212 4...  \n",
       "...                                                  ...  \n",
       "13371  POLYGON ((672484.843 4263711.918, 672605.484 4...  \n",
       "13372  POLYGON ((672605.484 4263871.435, 672726.126 4...  \n",
       "13373  POLYGON ((672726.126 4264030.952, 672846.767 4...  \n",
       "13374  POLYGON ((672846.767 4264190.469, 672967.409 4...  \n",
       "13375  POLYGON ((672967.409 4264349.986, 673088.051 4...  \n",
       "\n",
       "[13376 rows x 5 columns]"
      ]
     },
     "execution_count": 35,
     "metadata": {},
     "output_type": "execute_result"
    }
   ],
   "source": [
    "child_grid"
   ]
  },
  {
   "cell_type": "code",
   "execution_count": 15,
   "id": "controversial-fields",
   "metadata": {},
   "outputs": [
    {
     "data": {
      "text/html": [
       "<div>\n",
       "<style scoped>\n",
       "    .dataframe tbody tr th:only-of-type {\n",
       "        vertical-align: middle;\n",
       "    }\n",
       "\n",
       "    .dataframe tbody tr th {\n",
       "        vertical-align: top;\n",
       "    }\n",
       "\n",
       "    .dataframe thead th {\n",
       "        text-align: right;\n",
       "    }\n",
       "</style>\n",
       "<table border=\"1\" class=\"dataframe\">\n",
       "  <thead>\n",
       "    <tr style=\"text-align: right;\">\n",
       "      <th></th>\n",
       "      <th>id</th>\n",
       "      <th>node</th>\n",
       "      <th>row</th>\n",
       "      <th>column</th>\n",
       "      <th>geometry</th>\n",
       "    </tr>\n",
       "  </thead>\n",
       "  <tbody>\n",
       "    <tr>\n",
       "      <th>0</th>\n",
       "      <td>0</td>\n",
       "      <td>2839</td>\n",
       "      <td>13</td>\n",
       "      <td>79</td>\n",
       "      <td>POLYGON ((641136.854 4250776.659, 641085.925 4...</td>\n",
       "    </tr>\n",
       "    <tr>\n",
       "      <th>1</th>\n",
       "      <td>0</td>\n",
       "      <td>2840</td>\n",
       "      <td>13</td>\n",
       "      <td>80</td>\n",
       "      <td>POLYGON ((641101.793 4250836.165, 641222.398 4...</td>\n",
       "    </tr>\n",
       "    <tr>\n",
       "      <th>2</th>\n",
       "      <td>0</td>\n",
       "      <td>2841</td>\n",
       "      <td>13</td>\n",
       "      <td>81</td>\n",
       "      <td>POLYGON ((641222.398 4250995.710, 641343.002 4...</td>\n",
       "    </tr>\n",
       "    <tr>\n",
       "      <th>3</th>\n",
       "      <td>0</td>\n",
       "      <td>2842</td>\n",
       "      <td>13</td>\n",
       "      <td>82</td>\n",
       "      <td>POLYGON ((641343.002 4251155.255, 641463.607 4...</td>\n",
       "    </tr>\n",
       "    <tr>\n",
       "      <th>4</th>\n",
       "      <td>0</td>\n",
       "      <td>2843</td>\n",
       "      <td>13</td>\n",
       "      <td>83</td>\n",
       "      <td>POLYGON ((641463.607 4251314.799, 641584.212 4...</td>\n",
       "    </tr>\n",
       "    <tr>\n",
       "      <th>...</th>\n",
       "      <td>...</td>\n",
       "      <td>...</td>\n",
       "      <td>...</td>\n",
       "      <td>...</td>\n",
       "      <td>...</td>\n",
       "    </tr>\n",
       "    <tr>\n",
       "      <th>13371</th>\n",
       "      <td>0</td>\n",
       "      <td>22996</td>\n",
       "      <td>100</td>\n",
       "      <td>226</td>\n",
       "      <td>POLYGON ((672484.843 4263711.918, 672605.484 4...</td>\n",
       "    </tr>\n",
       "    <tr>\n",
       "      <th>13372</th>\n",
       "      <td>0</td>\n",
       "      <td>22997</td>\n",
       "      <td>100</td>\n",
       "      <td>227</td>\n",
       "      <td>POLYGON ((672605.484 4263871.435, 672726.126 4...</td>\n",
       "    </tr>\n",
       "    <tr>\n",
       "      <th>13373</th>\n",
       "      <td>0</td>\n",
       "      <td>22998</td>\n",
       "      <td>100</td>\n",
       "      <td>228</td>\n",
       "      <td>POLYGON ((672726.126 4264030.952, 672846.767 4...</td>\n",
       "    </tr>\n",
       "    <tr>\n",
       "      <th>13374</th>\n",
       "      <td>0</td>\n",
       "      <td>22999</td>\n",
       "      <td>100</td>\n",
       "      <td>229</td>\n",
       "      <td>POLYGON ((672846.767 4264190.469, 672967.409 4...</td>\n",
       "    </tr>\n",
       "    <tr>\n",
       "      <th>13375</th>\n",
       "      <td>0</td>\n",
       "      <td>23000</td>\n",
       "      <td>100</td>\n",
       "      <td>230</td>\n",
       "      <td>POLYGON ((672967.409 4264349.986, 673088.051 4...</td>\n",
       "    </tr>\n",
       "  </tbody>\n",
       "</table>\n",
       "<p>13376 rows × 5 columns</p>\n",
       "</div>"
      ],
      "text/plain": [
       "       id   node  row  column  \\\n",
       "0       0   2839   13      79   \n",
       "1       0   2840   13      80   \n",
       "2       0   2841   13      81   \n",
       "3       0   2842   13      82   \n",
       "4       0   2843   13      83   \n",
       "...    ..    ...  ...     ...   \n",
       "13371   0  22996  100     226   \n",
       "13372   0  22997  100     227   \n",
       "13373   0  22998  100     228   \n",
       "13374   0  22999  100     229   \n",
       "13375   0  23000  100     230   \n",
       "\n",
       "                                                geometry  \n",
       "0      POLYGON ((641136.854 4250776.659, 641085.925 4...  \n",
       "1      POLYGON ((641101.793 4250836.165, 641222.398 4...  \n",
       "2      POLYGON ((641222.398 4250995.710, 641343.002 4...  \n",
       "3      POLYGON ((641343.002 4251155.255, 641463.607 4...  \n",
       "4      POLYGON ((641463.607 4251314.799, 641584.212 4...  \n",
       "...                                                  ...  \n",
       "13371  POLYGON ((672484.843 4263711.918, 672605.484 4...  \n",
       "13372  POLYGON ((672605.484 4263871.435, 672726.126 4...  \n",
       "13373  POLYGON ((672726.126 4264030.952, 672846.767 4...  \n",
       "13374  POLYGON ((672846.767 4264190.469, 672967.409 4...  \n",
       "13375  POLYGON ((672967.409 4264349.986, 673088.051 4...  \n",
       "\n",
       "[13376 rows x 5 columns]"
      ]
     },
     "execution_count": 15,
     "metadata": {},
     "output_type": "execute_result"
    }
   ],
   "source": [
    "parent_grid\n",
    "child_grid"
   ]
  },
  {
   "cell_type": "markdown",
   "id": "religious-offering",
   "metadata": {},
   "source": [
    "Top of child grid needs to coincide with the top of the parent grid if vertical grid refinement is applied\n",
    "It would be interesting to look at including the transfer of flow between the parent and child model as it is not currently implemented in MODFLOW. Need to create relation between parent and child grid row, column numbers"
   ]
  },
  {
   "cell_type": "code",
   "execution_count": 13,
   "id": "crazy-completion",
   "metadata": {},
   "outputs": [
    {
     "data": {
      "text/plain": [
       "<AxesSubplot:>"
      ]
     },
     "execution_count": 13,
     "metadata": {},
     "output_type": "execute_result"
    },
    {
     "data": {
      "image/png": "[encoded data removed]",
      "text/plain": [
       "<Figure size 432x288 with 2 Axes>"
      ]
     },
     "metadata": {
      "needs_background": "light"
     },
     "output_type": "display_data"
    }
   ],
   "source": [
    "\n",
    "# Based on Maribeth's grid aligned with Alisha's TPROGS model\n",
    "dem_data = np.loadtxt(gwfm_dir+'\\DIS_data\\dem_52_9_200m_linear.tsv', delimiter = '\\t')\n",
    "\n",
    "import seaborn as sns\n",
    "sns.heatmap(dem_data, cmap = 'viridis', vmin = 0,square=True)"
   ]
  },
  {
   "cell_type": "code",
   "execution_count": null,
   "id": "amateur-satisfaction",
   "metadata": {},
   "outputs": [],
   "source": []
  },
  {
   "cell_type": "markdown",
   "id": "convenient-powell",
   "metadata": {},
   "source": [
    "# SFR"
   ]
  },
  {
   "cell_type": "code",
   "execution_count": null,
   "id": "willing-feeding",
   "metadata": {},
   "outputs": [],
   "source": [
    "sfr_dir = gwfm_dir+'/SFR_data/'"
   ]
  }
 ],
 "metadata": {
  "kernelspec": {
   "display_name": "Python 3 (ipykernel)",
   "language": "python",
   "name": "python3"
  },
  "language_info": {
   "codemirror_mode": {
    "name": "ipython",
    "version": 3
   },
   "file_extension": ".py",
   "mimetype": "text/x-python",
   "name": "python",
   "nbconvert_exporter": "python",
   "pygments_lexer": "ipython3",
   "version": "3.7.11"
  }
 },
 "nbformat": 4,
 "nbformat_minor": 5
}
