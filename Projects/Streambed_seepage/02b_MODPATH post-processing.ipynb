{
 "cells": [
  {
   "cell_type": "code",
   "execution_count": 11,
   "id": "a4ffe5dc",
   "metadata": {},
   "outputs": [],
   "source": [
    "import sys\n",
    "import os\n",
    "from os.path import dirname, basename,join\n",
    "import glob\n",
    "\n",
    "# operations\n",
    "import numpy as np\n",
    "import pandas as pd\n",
    "import geopandas as gpd\n",
    "import flopy\n",
    "\n",
    "# plotting\n",
    "from PIL import Image\n",
    "import matplotlib as mpl\n",
    "import matplotlib.pyplot as plt\n",
    "import contextily as ctx\n",
    "\n"
   ]
  },
  {
   "cell_type": "code",
   "execution_count": 2,
   "id": "2e149e22",
   "metadata": {},
   "outputs": [],
   "source": [
    "doc_dir = os.getcwd()\n",
    "while os.path.basename(doc_dir) != 'Documents':\n",
    "    doc_dir = os.path.dirname(doc_dir)\n",
    "# dir of all gwfm data\n",
    "gwfm_dir = os.path.dirname(doc_dir)+'/Box/research_cosumnes/GWFlowModel'\n",
    "# dir of stream level data for seepage study\n",
    "proj_dir = gwfm_dir + '/Stream_seepage/'\n",
    "dat_dir = proj_dir+'Stream_level_data/'\n",
    "\n",
    "sfr_dir = gwfm_dir+'/SFR_data/'"
   ]
  },
  {
   "cell_type": "code",
   "execution_count": 3,
   "id": "219a7451",
   "metadata": {},
   "outputs": [
    {
     "data": {
      "text/plain": [
       "<module 'flopy' from 'C:\\\\Users\\\\ajcalder\\\\Anaconda3\\\\envs\\\\geosp\\\\lib\\\\site-packages\\\\flopy\\\\__init__.py'>"
      ]
     },
     "execution_count": 3,
     "metadata": {},
     "output_type": "execute_result"
    }
   ],
   "source": [
    "flopy_dir = doc_dir+'/GitHub/flopy/'\n",
    "if flopy_dir not in sys.path:\n",
    "    sys.path.append(flopy_dir)\n",
    "# sys.path\n",
    "import flopy \n",
    "\n",
    "from importlib import reload\n",
    "# importlib.reload\n",
    "reload(flopy)"
   ]
  },
  {
   "cell_type": "code",
   "execution_count": 4,
   "id": "12b3fda8",
   "metadata": {},
   "outputs": [],
   "source": [
    "def get_nodes(locs):\n",
    "    ''' Converts layer, row, column into model node number '''\n",
    "    nodes = []\n",
    "    for k, i, j in locs:\n",
    "        nodes.append(k * m.dis.nrow * m.dis.ncol + i * m.dis.ncol + j)\n",
    "    return nodes\n"
   ]
  },
  {
   "cell_type": "code",
   "execution_count": 104,
   "id": "35ba7a66",
   "metadata": {},
   "outputs": [],
   "source": [
    "def epd_2_df(epd):\n",
    "    epd_df = pd.DataFrame().from_records(epd)\n",
    "    # status meaning\n",
    "    status_dict = {0:'Pending',1:'Active',2:'NormallyTerminated',3:'ZoneTerminated',4:'Unreleased',5:'Stranded'}\n",
    "    epd_df['status_name'] = [status_dict.get(key) for key in epd_df.status]\n",
    "    # return particle status\n",
    "    print(str((epd_df.status==1).sum())+' particles still active. ')\n",
    "    print(str((epd_df.status==5).sum()) +' particles stranded in dry cells')\n",
    "    print(str((epd_df.status==2).sum())+' particles normally terminated')\n",
    "    # present age in days\n",
    "    epd_df['age_days'] = epd_df.time - epd_df.time0\n",
    "    # age in years\n",
    "    epd_df['age_years'] = epd_df.age_days/365\n",
    "    if tracking == 'forward':\n",
    "        loc_id = '' # with backward tracking final location is source\n",
    "    elif tracking =='backward':\n",
    "        loc_id = '0' # with forward tracking initial location is source\n",
    "    # identify source row/column \n",
    "    epd_df['j'] = (epd_df['x'+loc_id]/delr-0.5).astype(int)\n",
    "    epd_df['i'] = (epd_df['y'+loc_id]/delc-0.5).astype(int)\n",
    "    # group by elevation rounded\n",
    "    epd_df['elev_m'] = m.dis.top.array[epd_df.i.astype(int), epd_df.j.astype(int)]\n",
    "    epd_df['elev_m_grp'] = ((epd_df['elev_m'] *0.5).round(-2))/0.5 # every 200 meters\n",
    "    # summarize by modflow node\n",
    "    epd_df_mean = epd_df.groupby('node'+loc_id).mean().reset_index()\n",
    "\n",
    "    epd_gdf = gpd.GeoDataFrame(epd_df, geometry = gpd.points_from_xy(epd_df['x'+loc_id]+xll, \n",
    "                                                                           epd_df['y'+loc_id]+yll), crs='epsg:3310')\n",
    "    epd_mean_gdf = gpd.GeoDataFrame(epd_df_mean, \n",
    "                                   geometry = gpd.points_from_xy(epd_df_mean['x'+loc_id]+xll, \n",
    "                                                                 epd_df_mean['y'+loc_id]+yll),\n",
    "                                    crs='epsg:3310')\n",
    "\n",
    "    return(epd_gdf, epd_mean_gdf)\n",
    "\n"
   ]
  },
  {
   "cell_type": "code",
   "execution_count": 6,
   "id": "178b5d9f",
   "metadata": {},
   "outputs": [],
   "source": [
    "def src_area_bnds(epd, aoi):\n",
    "    if tracking == 'forward':\n",
    "        loc_id = '0' # with forward tracking initial location is source\n",
    "    elif tracking =='backward':\n",
    "        loc_id = '' # with backward tracking final location is source\n",
    "    from shapely.geometry import box\n",
    "    outx = xll+epd['x'+loc_id]\n",
    "    outy = yll+epd['y'+loc_id]\n",
    "    src_box = box(outx.min(), outy.min(), outx.max() ,  outy.max())\n",
    "    src_area = aoi[['Name','Hydrologic','geometry']].copy()\n",
    "    src_area.geometry = [src_box]\n",
    "    src_area.crs='epsg:3310'\n",
    "    return(src_area)"
   ]
  },
  {
   "cell_type": "code",
   "execution_count": 29,
   "id": "d58a7a0f",
   "metadata": {},
   "outputs": [],
   "source": [
    "\n",
    "loadpth = 'C:/WRDAPP/GWFlowModel/Cosumnes/Stream_seepage/'\n",
    "model_ws = loadpth+'inset_model'\n",
    "\n",
    "m = flopy.modflow.Modflow.load('MF.nam', model_ws=model_ws, \n",
    "                                exe_name='mf-owhm', version='mfnwt') #, load_only = load_only)\n",
    "\n",
    "nlay = m.dis.nlay\n",
    "nrow = m.dis.nrow\n",
    "ncol = m.dis.ncol\n",
    "xll,yll = m.modelgrid.xoffset,m.modelgrid.yoffset"
   ]
  },
  {
   "cell_type": "code",
   "execution_count": 35,
   "id": "85d69513",
   "metadata": {},
   "outputs": [],
   "source": [
    "delr = m.dis.delr.array[0]\n",
    "delc = m.dis.delc.array[0]"
   ]
  },
  {
   "cell_type": "code",
   "execution_count": 8,
   "id": "4a75c329",
   "metadata": {},
   "outputs": [],
   "source": [
    "nper = m.dis.nper # number of months\n",
    "perlen = m.dis.perlen.array # days per period\n",
    "\n",
    "strt_date = np.datetime64(m.start_datetime)\n",
    "end_date = strt_date + np.timedelta64(int(perlen.sum()-1),'D')"
   ]
  },
  {
   "cell_type": "code",
   "execution_count": 9,
   "id": "e7fe2210",
   "metadata": {},
   "outputs": [],
   "source": [
    "hdobj = flopy.utils.HeadFile(model_ws+'/MF.hds')\n",
    "spd_stp = hdobj.get_kstpkper()\n",
    "cbb = flopy.utils.CellBudgetFile(model_ws+'/MF.cbc')\n",
    "\n",
    "times = hdobj.get_times()\n",
    "# subtract 1 to have start of each period\n",
    "dt_ref = pd.DataFrame(np.asarray(times), columns=['time']) \n",
    "dt_ref['timedelta'] = pd.to_timedelta(dt_ref.time, 'D').round('H')\n",
    "dt_ref['dt'] = strt_date+dt_ref.timedelta\n",
    "dt_ref['kstpkper'] = spd_stp\n",
    "dt_ref[['kstp','kper']] = dt_ref.kstpkper.tolist()"
   ]
  },
  {
   "cell_type": "code",
   "execution_count": 14,
   "id": "62cd8b39",
   "metadata": {},
   "outputs": [],
   "source": [
    "# run shorter MODPATH simulation to reduce run time\n",
    "n_days = (dt_ref.dt.max()-dt_ref.dt.min()).days # full time period\n",
    "\n",
    "tracking = 'forward'\n",
    "# tracking = 'backward'\n",
    "\n",
    "mp_ws = join(model_ws,'mp',tracking, 'mp_'+str(n_days)+'days')\n",
    "modelname = 'Modpath7'\n"
   ]
  },
  {
   "cell_type": "code",
   "execution_count": 45,
   "id": "5f67e93f",
   "metadata": {},
   "outputs": [],
   "source": [
    "sfrdf = pd.DataFrame(m.sfr.reach_data)\n"
   ]
  },
  {
   "cell_type": "code",
   "execution_count": 47,
   "id": "76938fc6",
   "metadata": {},
   "outputs": [
    {
     "name": "stdout",
     "output_type": "stream",
     "text": [
      "64\n"
     ]
    }
   ],
   "source": [
    "# get nodes for Big Springs at the area of interest scale\n",
    "\n",
    "aoi_arr = sfrdf[['k','i','j']]\n",
    "aoi_arr = aoi_arr-1 # convert to 0 based\n",
    "aoi_ids = list(zip(aoi_arr.k, aoi_arr.i, aoi_arr.j))\n",
    "\n",
    "nodes_aoi = get_nodes(aoi_ids) # get nodes\n",
    "print(len(nodes_aoi))"
   ]
  },
  {
   "cell_type": "code",
   "execution_count": 90,
   "id": "2b2fb29c",
   "metadata": {},
   "outputs": [],
   "source": [
    "# p = flopy.utils.PathlineFile(mp_ws + modelname+'.mppth')\n",
    "e = flopy.utils.EndpointFile(join(mp_ws, modelname + \".mpend\"))\n",
    "\n",
    "# big springs iso\n",
    "# p_bs = p.get_destination_pathline_data(nodes_bs, to_recarray=True)\n",
    "# p_bs = p.get_destination_pathline_data(nodes_bs_sfr, to_recarray=True)\n",
    "\n",
    "# if tracking == 'forward':\n",
    "#     epd_src = e.get_alldata() # returns the same result because backward tracking is a small initial area\n",
    "# if tracking == 'backward':\n",
    "#     epd_src = e.get_destination_endpoint_data(dest_cells=nodes_aoi)\n",
    "# # epd_src = e.get_destination_endpoint_data(dest_cells=nodes_aoi, source=True)\n",
    "    \n",
    "epd_src = e.get_alldata() # returns the same result because backward tracking is a small initial area\n"
   ]
  },
  {
   "cell_type": "code",
   "execution_count": null,
   "id": "3f5056b0",
   "metadata": {},
   "outputs": [],
   "source": []
  },
  {
   "cell_type": "code",
   "execution_count": 91,
   "id": "fed95fd4",
   "metadata": {},
   "outputs": [
    {
     "name": "stdout",
     "output_type": "stream",
     "text": [
      "0 particles still active. \n",
      "23360 particles stranded in dry cells\n",
      "0 particles normally terminated\n"
     ]
    }
   ],
   "source": [
    "epd_gdf, epd_mean_gdf = epd_2_df(epd_src)\n",
    "\n",
    "# bs_src_area = src_area_bnds(epd_src, bs_aoi)"
   ]
  },
  {
   "cell_type": "code",
   "execution_count": 100,
   "id": "c1d15724",
   "metadata": {},
   "outputs": [
    {
     "data": {
      "text/plain": [
       "0        5\n",
       "1        5\n",
       "2        5\n",
       "3        5\n",
       "4        5\n",
       "        ..\n",
       "23355    5\n",
       "23356    5\n",
       "23357    5\n",
       "23358    5\n",
       "23359    5\n",
       "Name: status, Length: 23360, dtype: int32"
      ]
     },
     "execution_count": 100,
     "metadata": {},
     "output_type": "execute_result"
    }
   ],
   "source": [
    "pd.DataFrame(epd_src).status"
   ]
  },
  {
   "cell_type": "code",
   "execution_count": 92,
   "id": "f8450aa1",
   "metadata": {},
   "outputs": [
    {
     "data": {
      "text/html": [
       "<div>\n",
       "<style scoped>\n",
       "    .dataframe tbody tr th:only-of-type {\n",
       "        vertical-align: middle;\n",
       "    }\n",
       "\n",
       "    .dataframe tbody tr th {\n",
       "        vertical-align: top;\n",
       "    }\n",
       "\n",
       "    .dataframe thead th {\n",
       "        text-align: right;\n",
       "    }\n",
       "</style>\n",
       "<table border=\"1\" class=\"dataframe\">\n",
       "  <thead>\n",
       "    <tr style=\"text-align: right;\">\n",
       "      <th></th>\n",
       "      <th>k0</th>\n",
       "      <th>xloc0</th>\n",
       "      <th>yloc0</th>\n",
       "      <th>k</th>\n",
       "      <th>xloc</th>\n",
       "      <th>yloc</th>\n",
       "    </tr>\n",
       "  </thead>\n",
       "  <tbody>\n",
       "    <tr>\n",
       "      <th>0</th>\n",
       "      <td>2</td>\n",
       "      <td>0.5</td>\n",
       "      <td>0.5</td>\n",
       "      <td>2</td>\n",
       "      <td>0.5</td>\n",
       "      <td>0.5</td>\n",
       "    </tr>\n",
       "    <tr>\n",
       "      <th>1</th>\n",
       "      <td>2</td>\n",
       "      <td>0.5</td>\n",
       "      <td>0.5</td>\n",
       "      <td>2</td>\n",
       "      <td>0.5</td>\n",
       "      <td>0.5</td>\n",
       "    </tr>\n",
       "    <tr>\n",
       "      <th>2</th>\n",
       "      <td>2</td>\n",
       "      <td>0.5</td>\n",
       "      <td>0.5</td>\n",
       "      <td>2</td>\n",
       "      <td>0.5</td>\n",
       "      <td>0.5</td>\n",
       "    </tr>\n",
       "    <tr>\n",
       "      <th>3</th>\n",
       "      <td>2</td>\n",
       "      <td>0.5</td>\n",
       "      <td>0.5</td>\n",
       "      <td>2</td>\n",
       "      <td>0.5</td>\n",
       "      <td>0.5</td>\n",
       "    </tr>\n",
       "    <tr>\n",
       "      <th>4</th>\n",
       "      <td>2</td>\n",
       "      <td>0.5</td>\n",
       "      <td>0.5</td>\n",
       "      <td>2</td>\n",
       "      <td>0.5</td>\n",
       "      <td>0.5</td>\n",
       "    </tr>\n",
       "    <tr>\n",
       "      <th>...</th>\n",
       "      <td>...</td>\n",
       "      <td>...</td>\n",
       "      <td>...</td>\n",
       "      <td>...</td>\n",
       "      <td>...</td>\n",
       "      <td>...</td>\n",
       "    </tr>\n",
       "    <tr>\n",
       "      <th>23355</th>\n",
       "      <td>2</td>\n",
       "      <td>0.5</td>\n",
       "      <td>0.5</td>\n",
       "      <td>2</td>\n",
       "      <td>0.5</td>\n",
       "      <td>0.5</td>\n",
       "    </tr>\n",
       "    <tr>\n",
       "      <th>23356</th>\n",
       "      <td>2</td>\n",
       "      <td>0.5</td>\n",
       "      <td>0.5</td>\n",
       "      <td>2</td>\n",
       "      <td>0.5</td>\n",
       "      <td>0.5</td>\n",
       "    </tr>\n",
       "    <tr>\n",
       "      <th>23357</th>\n",
       "      <td>2</td>\n",
       "      <td>0.5</td>\n",
       "      <td>0.5</td>\n",
       "      <td>2</td>\n",
       "      <td>0.5</td>\n",
       "      <td>0.5</td>\n",
       "    </tr>\n",
       "    <tr>\n",
       "      <th>23358</th>\n",
       "      <td>2</td>\n",
       "      <td>0.5</td>\n",
       "      <td>0.5</td>\n",
       "      <td>2</td>\n",
       "      <td>0.5</td>\n",
       "      <td>0.5</td>\n",
       "    </tr>\n",
       "    <tr>\n",
       "      <th>23359</th>\n",
       "      <td>2</td>\n",
       "      <td>0.5</td>\n",
       "      <td>0.5</td>\n",
       "      <td>2</td>\n",
       "      <td>0.5</td>\n",
       "      <td>0.5</td>\n",
       "    </tr>\n",
       "  </tbody>\n",
       "</table>\n",
       "<p>23360 rows × 6 columns</p>\n",
       "</div>"
      ],
      "text/plain": [
       "       k0  xloc0  yloc0  k  xloc  yloc\n",
       "0       2    0.5    0.5  2   0.5   0.5\n",
       "1       2    0.5    0.5  2   0.5   0.5\n",
       "2       2    0.5    0.5  2   0.5   0.5\n",
       "3       2    0.5    0.5  2   0.5   0.5\n",
       "4       2    0.5    0.5  2   0.5   0.5\n",
       "...    ..    ...    ... ..   ...   ...\n",
       "23355   2    0.5    0.5  2   0.5   0.5\n",
       "23356   2    0.5    0.5  2   0.5   0.5\n",
       "23357   2    0.5    0.5  2   0.5   0.5\n",
       "23358   2    0.5    0.5  2   0.5   0.5\n",
       "23359   2    0.5    0.5  2   0.5   0.5\n",
       "\n",
       "[23360 rows x 6 columns]"
      ]
     },
     "execution_count": 92,
     "metadata": {},
     "output_type": "execute_result"
    }
   ],
   "source": [
    "# particles instantly terminated\n",
    "# even setting the start layer to 4 all of the particles instantly terminate, may be due to leakage face?\n",
    "# layer 2 same issue so there is a problem with model set up\n",
    "# before changing from stop_at to pass_through\n",
    "epd_gdf[['k0','xloc0','yloc0','k','xloc','yloc']]\n"
   ]
  },
  {
   "cell_type": "code",
   "execution_count": 83,
   "id": "3be55252",
   "metadata": {},
   "outputs": [
    {
     "name": "stderr",
     "output_type": "stream",
     "text": [
      "C:\\Users\\ajcalder\\Anaconda3\\envs\\geosp\\lib\\site-packages\\geopandas\\plotting.py:71: DeprecationWarning: distutils Version classes are deprecated. Use packaging.version instead.\n",
      "  if mpl >= LooseVersion(\"3.4\") or (mpl > LooseVersion(\"3.3.2\") and \"+\" in mpl):\n",
      "C:\\Users\\ajcalder\\Anaconda3\\envs\\geosp\\lib\\site-packages\\setuptools\\_distutils\\version.py:351: DeprecationWarning: distutils Version classes are deprecated. Use packaging.version instead.\n",
      "  other = LooseVersion(other)\n"
     ]
    },
    {
     "data": {
      "text/plain": [
       "<AxesSubplot: >"
      ]
     },
     "execution_count": 83,
     "metadata": {},
     "output_type": "execute_result"
    },
    {
     "data": {
      "image/png": "[encoded data removed]",
      "text/plain": [
       "<Figure size 2400x1200 with 2 Axes>"
      ]
     },
     "metadata": {
      "needs_background": "light"
     },
     "output_type": "display_data"
    }
   ],
   "source": [
    "# most are weakly terminated\n",
    "fig,ax = plt.subplots(figsize=(8,4), dpi=300)\n",
    "epd_gdf.plot('age_days', ax=ax, legend=True, legend_kwds = {'shrink':0.6,'orientation':'horizontal'})"
   ]
  },
  {
   "cell_type": "markdown",
   "id": "52016fa8",
   "metadata": {},
   "source": [
    "Initial forward tracking shows essentially all termination in zones ('weak sinks') and the map of the end points suggests very close points to the stream network from a top view. \n",
    "\n",
    "Plot a vertical slice to look at vertical pathways"
   ]
  },
  {
   "cell_type": "code",
   "execution_count": null,
   "id": "36e41763",
   "metadata": {},
   "outputs": [],
   "source": [
    "t = flopy.utils.TimeseriesFile(mp_ws+ modelname + \".timeseries\")\n",
    "\n",
    "# file is 1.3 Gb\n",
    "# ts = t.get_data() # loads nothing\n",
    "ts = t.get_destination_timeseries_data(dest_cells=nodes_bs_aoi)\n",
    "# create dataframe\n",
    "ts_df = pd.DataFrame().from_records(ts)"
   ]
  },
  {
   "cell_type": "markdown",
   "id": "ab1497c5",
   "metadata": {},
   "source": [
    "# Cumulative age plots"
   ]
  },
  {
   "cell_type": "code",
   "execution_count": null,
   "id": "695b8307",
   "metadata": {},
   "outputs": [],
   "source": [
    "\n",
    "# old code from shasta that needs to be updated\n",
    "#normalize item number values to colormap\n",
    "norm = mpl.colors.Normalize(vmin=0, vmax=len(epd_flow.date.unique()))\n",
    "\n",
    "# plot a cumulative age plot for the cumulative three cells\n",
    "# for each time step\n",
    "fig,ax = plt.subplots(figsize=(6,6))\n",
    "plt.cmap = 'gray'\n",
    "\n",
    "for n, t in enumerate(epd_flow.date.unique()):\n",
    "    t_epd = pd.DataFrame(epd_flow[epd_flow.date==t].copy())\n",
    "    t_epd['weight'] = t_epd.flow/t_epd.flow.sum()\n",
    "    t_epd = t_epd.sort_values('age_years')\n",
    "    t_epd['weight_cum'] = t_epd.weight.cumsum()\n",
    "\n",
    "    t_epd.plot(x='age_years',y='weight_cum', ax=ax,  label=str(t), color=cm.gray(norm(n)))\n",
    "ax.set_xlabel('Age (years)')\n",
    "ax.set_xscale('log') \n",
    "ax.set_ylabel('Flow Weighted Fraction of Particles')\n",
    "ax.set_title('Cumulative Age Distribution\\nby Stress Period')\n",
    "\n",
    "\n",
    "custom_lines = [Line2D([0], [0], color=cm.gray(norm(0)), lw=4),\n",
    "                Line2D([0], [0], color=cm.gray(norm(n)), lw=4)]\n",
    "ax.legend(custom_lines, [epd_dates[0], epd_dates[n]], facecolor='lightgray', framealpha=1)\n",
    "\n",
    "plt.savefig(fig_dir+'/'+tracking+'/big springs cumulative age average' +  mp_info['strt_date'].values[0]+ '.png',\n",
    "            dpi=300, bbox_inches='tight')"
   ]
  }
 ],
 "metadata": {
  "kernelspec": {
   "display_name": "Python 3 (ipykernel)",
   "language": "python",
   "name": "python3"
  },
  "language_info": {
   "codemirror_mode": {
    "name": "ipython",
    "version": 3
   },
   "file_extension": ".py",
   "mimetype": "text/x-python",
   "name": "python",
   "nbconvert_exporter": "python",
   "pygments_lexer": "ipython3",
   "version": "3.9.12"
  }
 },
 "nbformat": 4,
 "nbformat_minor": 5
}
