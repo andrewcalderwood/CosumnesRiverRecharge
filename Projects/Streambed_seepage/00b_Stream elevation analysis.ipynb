{
 "cells": [
  {
   "cell_type": "code",
   "execution_count": null,
   "metadata": {},
   "outputs": [],
   "source": [
    "import os\n",
    "from os.path import join, basename, dirname\n",
    "import glob\n",
    "import numpy as np\n",
    "import pandas as pd\n",
    "import geopandas as gpd\n",
    "import matplotlib.pyplot as plt\n",
    "\n",
    "# import plotly #allows interactive plotting\n",
    "# import contextily as ctx # back ground maps\n",
    "from osgeo import gdal # need to import first for rasterio\n",
    "import rasterio\n",
    "import shapely\n",
    "\n",
    "from shapely.ops import linemerge\n",
    "from shapely.geometry import LineString, Point, shape, mapping\n",
    "import fiona\n"
   ]
  },
  {
   "cell_type": "code",
   "execution_count": null,
   "metadata": {},
   "outputs": [],
   "source": [
    "usr_dir = os.getcwd()\n",
    "while basename(usr_dir) != 'Users':\n",
    "    temp = basename(usr_dir)\n",
    "    usr_dir = dirname(usr_dir)\n",
    "usr_dir += '/' + temp\n",
    "\n",
    "gwfm_dir = usr_dir+'/Box/research_cosumnes/GWFlowModel/'\n",
    "\n",
    "proj_dir = gwfm_dir+'Stream_seepage/'\n",
    "dat_dir = proj_dir+'Stream_level_data/'"
   ]
  },
  {
   "cell_type": "code",
   "execution_count": null,
   "metadata": {},
   "outputs": [],
   "source": [
    "\n",
    "dem_dir = gwfm_dir+ '/DEM_data'\n",
    "\n"
   ]
  },
  {
   "cell_type": "code",
   "execution_count": null,
   "metadata": {},
   "outputs": [],
   "source": [
    "# raster_name = dem_dir+'/USGS_ten_meter_dem/regional_10m.tif'\n",
    "# raster_name = dem_dir+'/USGS_one_meter_dem/cropped_dem.tif'\n",
    "# raster_name = dem_dir+'/HECRAS_dem/Terrain.Cos.tif'\n",
    "# load 1M DEM\n",
    "raster_name = dem_dir+'/HECRAS_dem/Terrain.Cos.reprojected.tif'\n",
    "conv = 0.3048 # for hec-ras DEM, ft to meters"
   ]
  },
  {
   "cell_type": "markdown",
   "metadata": {},
   "source": [
    "# Quick Map of Loggers"
   ]
  },
  {
   "cell_type": "code",
   "execution_count": null,
   "metadata": {},
   "outputs": [],
   "source": [
    "df = pd.read_csv(dat_dir+'/instream_sensor_latlong.csv')\n",
    "rm_sp = gpd.GeoDataFrame(df, geometry=gpd.points_from_xy(df.Longitude,df.Latitude))\n",
    "rm_sp.crs = 'epsg:4326'\n",
    "rm_sp = rm_sp.to_crs('epsg:32610')\n",
    "\n",
    "fig, ax =plt.subplots(figsize=(6,6))\n",
    "rm_sp.plot(ax=ax)\n",
    "# USGS. USImagery, USImageryTopo, USTopo; Esri. WorldImagery, WorldTopoMap\n",
    "# ctx.add_basemap(ax=ax, source=ctx.providers.Esri.WorldImagery, crs='epsg:26910', attribution=False)\n"
   ]
  },
  {
   "cell_type": "markdown",
   "metadata": {},
   "source": [
    "# Get elevation of logger locations"
   ]
  },
  {
   "cell_type": "code",
   "execution_count": null,
   "metadata": {},
   "outputs": [],
   "source": [
    "\n",
    "dem_f = rasterio.open(raster_name)\n",
    "dem = dem_f.read(1)\n",
    "xmin, xmax = dem_f.bounds[0], dem_f.bounds[2]\n",
    "ymin, ymax = dem_f.bounds[1], dem_f.bounds[3]\n",
    " \n",
    "# crop in-stream sensors to those covered by the 1m DEM\n",
    "rm_t = rm_sp.cx[xmin:xmax, ymin:ymax]\n",
    "rm_t['Easting'] = rm_t.geometry.x.values\n",
    "rm_t['Northing'] = rm_t.geometry.y.values\n",
    "\n",
    "point = rm_t.loc[:,['Easting','Northing']].values\n",
    "\n",
    "with rasterio.open(raster_name) as src:\n",
    "    rm_t['z_ft'] = [sample[0] for sample in src.sample(point)]\n",
    "\n",
    "rm_t['z_m'] = rm_t.loc[:,'z_ft']*conv\n"
   ]
  },
  {
   "cell_type": "code",
   "execution_count": null,
   "metadata": {},
   "outputs": [],
   "source": [
    "fig,ax=plt.subplots(figsize=(6,6))\n",
    "rm_t.plot('Sensor', ax=ax, legend=True)\n",
    "\n",
    "im = ax.imshow(dem, extent = [xmin,xmax,ymin,ymax],vmin=0)\n",
    "fig.colorbar(im)\n",
    "\n",
    "# plt.xlim(cr_xmin, cr_xmax )\n",
    "# plt.ylim(cr_ymin, cr_ymax )"
   ]
  },
  {
   "cell_type": "markdown",
   "metadata": {},
   "source": [
    "## Crop analysis to area with 1m DEM (Teichert to MCC)"
   ]
  },
  {
   "cell_type": "code",
   "execution_count": null,
   "metadata": {},
   "outputs": [],
   "source": [
    "# remove McConnell from teichert locations\n",
    "rm_t = rm_t.loc[rm_t.Sensor != 'MCC']\n",
    "\n",
    "# limit analysis to boundary box of stream sensors\n",
    "cr_xmin, cr_ymin, cr_xmax, cr_ymax = rm_t.buffer(400).total_bounds\n"
   ]
  },
  {
   "cell_type": "code",
   "execution_count": null,
   "metadata": {},
   "outputs": [],
   "source": [
    "# Rivers and creeks in the larger area encompassing Cosumnes River in both South American and Cosumnes Subbasins\n",
    "rivers = gpd.read_file(gwfm_dir+\"/SFR_data/Sac_valley_rivers/Sac_valley_rivers.shp\")\n",
    "rivers = rivers.to_crs('EPSG:32610')\n",
    "cr = rivers[rivers.GNIS_Name =='Cosumnes River']\n",
    "# filter to DEM extents\n",
    "cr = cr.cx[xmin:xmax, ymin:ymax]\n",
    "\n",
    "# Stream segments, there is a new segment each time two rivers/creeks join one another\n",
    "cr_line = shapely.geometry.MultiLineString(cr.geometry.values)\n"
   ]
  },
  {
   "cell_type": "code",
   "execution_count": null,
   "metadata": {},
   "outputs": [],
   "source": [
    "cr.cx[cr_xmin:cr_xmax, cr_ymin:cr_ymax].length.sum()/100\n",
    "fig,ax = plt.subplots()\n",
    "cr.cx[cr_xmin:cr_xmax, cr_ymin:cr_ymax].plot(ax=ax)\n",
    "rm_t.plot(ax=ax)"
   ]
  },
  {
   "cell_type": "markdown",
   "metadata": {},
   "source": [
    "# Get elevation of \"thalweg\"\n",
    "Thalweg here is elevation at shapefile location."
   ]
  },
  {
   "cell_type": "code",
   "execution_count": null,
   "metadata": {},
   "outputs": [],
   "source": [
    "\n",
    "# alternate raster\n",
    "raster_name = dem_dir+'/mwt_peri_2_3.tif/mwt_peri_2_3_clipped.tif'\n",
    "proj_dir = gwfm_dir+'Oneto_Denier/'\n",
    "dat_dir = proj_dir+'Stream_level_data/'\n",
    "\n",
    "# raster_name = gwfm_dir+\"/DEM_data/USGS_ten_meter_dem/modeldomain_10m_transformed.tif\"\n",
    "# proj_dir = gwfm_dir+'SFR_data/'\n",
    "# dat_dir = proj_dir+'Stream_level_data/'\n",
    "\n",
    "conv = 1 # for other dem, keep meters\n"
   ]
  },
  {
   "cell_type": "code",
   "execution_count": null,
   "metadata": {},
   "outputs": [],
   "source": [
    "dem_f = rasterio.open(raster_name)\n",
    "# dem = dem_f.read(1)\n",
    "xmin, xmax = dem_f.bounds[0], dem_f.bounds[2]\n",
    "ymin, ymax = dem_f.bounds[1], dem_f.bounds[3]\n",
    " \n",
    "# Rivers and creeks in the larger area encompassing Cosumnes River in both South American and Cosumnes Subbasins\n",
    "rivers = gpd.read_file(gwfm_dir+\"/SFR_data/Sac_valley_rivers/Sac_valley_rivers.shp\")\n",
    "# rivers = gpd.read_file(gwfm_dir+\"/SFR_data/NHD_MajorRivers/NHD_MajorRivers.shp\")\n",
    "# cr = rivers[rivers.GNIS_Name=='Cosumnes River']\n",
    "\n",
    "rivers = rivers.to_crs('EPSG:32610')\n",
    "cr = rivers[rivers.GNIS_Name =='Cosumnes River']\n",
    "# filter to DEM extents\n",
    "cr = cr.cx[xmin:xmax, ymin:ymax]\n",
    "cr['temp_id'] = np.arange(0,len(cr)) # id to track original order to final\n",
    "\n",
    "# Stream segments, there is a new segment each time two rivers/creeks join one another\n",
    "cr_line = shapely.geometry.MultiLineString(cr.geometry.values)\n"
   ]
  },
  {
   "cell_type": "code",
   "execution_count": null,
   "metadata": {},
   "outputs": [],
   "source": [
    "# linemerge is essential because it joins linesegments by matching (x,y) so the line is continuous\n",
    "geom = linemerge(cr.geometry.unary_union)\n",
    "\n",
    "# # length of the LineString\n",
    "length = int(geom.length)\n",
    "sfr_sp = gpd.GeoDataFrame(pd.DataFrame(np.zeros((length,1)),columns=['id']))\n",
    "sfr_sp['geometry'] = shapely.geometry.Point(0,0)\n",
    "# enumerate keeps track of the count in addition to the object being iterated on\n",
    "for i, distance in enumerate(range(0, length, 1)):\n",
    "    point = geom.interpolate(distance)\n",
    "    sfr_sp.loc[i,'geometry'] = point\n",
    "    sfr_sp.loc[i,'id'] = i"
   ]
  },
  {
   "cell_type": "code",
   "execution_count": null,
   "metadata": {},
   "outputs": [],
   "source": [
    "sfr_sp['Easting'] = sfr_sp.geometry.x.values\n",
    "sfr_sp['Northing'] = sfr_sp.geometry.y.values\n",
    "\n",
    "point = sfr_sp.loc[:,['Easting','Northing']].values\n",
    "\n",
    "with rasterio.open(raster_name) as src:\n",
    "    sfr_sp['z_ft'] = [sample[0] for sample in src.sample(point)]\n",
    "    \n",
    "sfr_sp['z_m'] = sfr_sp.loc[:,'z_ft']*conv\n"
   ]
  },
  {
   "cell_type": "code",
   "execution_count": null,
   "metadata": {},
   "outputs": [],
   "source": [
    "dat_dir"
   ]
  },
  {
   "cell_type": "code",
   "execution_count": null,
   "metadata": {},
   "outputs": [],
   "source": [
    "sfr_sp.drop(columns=['geometry']).to_csv(dat_dir+'/stream_line_elevation.csv', index=False)"
   ]
  },
  {
   "cell_type": "markdown",
   "metadata": {},
   "source": [
    "## Convert the parallel lines to points "
   ]
  },
  {
   "cell_type": "code",
   "execution_count": null,
   "metadata": {},
   "outputs": [],
   "source": [
    "# using lengths on the parallel lines won't work because around bends one will become offset\n",
    "# one option is to pick a point on the line to interpolate and pick one point a little further \n",
    "# then do parallel offset to that line and create the transect that way"
   ]
  },
  {
   "cell_type": "code",
   "execution_count": null,
   "metadata": {},
   "outputs": [],
   "source": [
    "\n",
    "geom = linemerge(cr.geometry.unary_union)\n",
    "\n",
    "# geom = geom.simplify(10)\n",
    "# how often to interpolate a point\n",
    "# since small-scale flow data isn't in use 200 m is fine\n",
    "dline = 100\n",
    "# # length of the LineString\n",
    "length = int(geom.length)\n",
    "\n",
    "transects = pd.DataFrame(np.zeros((int(np.ceil(length/dline)),1)), columns = ['line'])\n",
    "transects['geometry'] = LineString([(0,0),(0,1)]) #initiate LineString geometry column\n",
    "\n",
    "# 300 meter width so that 100 meter can be cutoff to have 200m around true thalweg\n",
    "xs_width = 300\n",
    "for i, distance in enumerate(np.arange(0, int(length), dline)):\n",
    "    short_line = LineString([geom.interpolate(distance),geom.interpolate(distance+dline)])\n",
    "    geom_left = short_line.parallel_offset(xs_width/2,'left', resolution = 32, join_style = 2)\n",
    "    geom_right = short_line.parallel_offset(xs_width/2,'right', resolution = 32, join_style = 2)\n",
    "    # old method was geom_left.boundary but broke with update\n",
    "    perp_line = LineString([list(geom_left.coords)[0], list(geom_right.coords)[0]])\n",
    "    transects.loc[i,'geometry'] = perp_line"
   ]
  },
  {
   "cell_type": "code",
   "execution_count": null,
   "metadata": {},
   "outputs": [],
   "source": [
    "transg = gpd.GeoDataFrame(transects)\n",
    "transg = transg.drop_duplicates('geometry')\n",
    "transg['line'] = np.arange(0,len(transg))\n",
    "# check cross section lines are paralle\n",
    "fig,ax=plt.subplots(figsize=(6,6))\n",
    "transg.plot('line',ax=ax)\n",
    "cr.plot(ax=ax)"
   ]
  },
  {
   "cell_type": "markdown",
   "metadata": {},
   "source": [
    "## Sample elevations for each point\n",
    "Can sample elevation by converting all lines to points then sampling each point or by sampling one line at a time."
   ]
  },
  {
   "cell_type": "code",
   "execution_count": null,
   "metadata": {},
   "outputs": [],
   "source": [
    "# # how often to interpolate a point in a XS\n",
    "dline = 1\n",
    "\n",
    "xs_all = gpd.GeoDataFrame(pd.DataFrame(columns=['xs_num','dist_from_right_m','geometry']))\n",
    "xs = gpd.GeoDataFrame(pd.DataFrame(np.zeros((int(xs_width/dline),2)), columns=['xs_num','dist_from_right_m']))\n",
    "\n",
    "\n",
    "for j in np.arange(0,len(transg)):\n",
    "    xs['geometry'] = Point([(0,0)])\n",
    "    xs['xs_num'] = j\n",
    "    \n",
    "    # pick one geometry at a time\n",
    "    geom = transg.iloc[j].geometry\n",
    "\n",
    "    # # # length of the LineString\n",
    "    length = int(geom.length)\n",
    "    # create discrete points for each lien\n",
    "    for i, distance in enumerate(range(0, int(length), dline)):\n",
    "        point = geom.interpolate(distance)\n",
    "        xs.loc[i,'geometry'] = point\n",
    "        xs.loc[i,'dist_from_right_m'] = i\n",
    "    # append individual cross section to all dataframe\n",
    "    xs_all = pd.concat((xs_all, xs))"
   ]
  },
  {
   "cell_type": "code",
   "execution_count": null,
   "metadata": {},
   "outputs": [],
   "source": [
    "xs_all.crs='epsg:32610'\n",
    "xs_all['Easting'] = xs_all.geometry.x\n",
    "xs_all['Northing'] = xs_all.geometry.y\n",
    "point = xs_all.loc[:,['Easting','Northing']].values\n",
    "\n",
    "with rasterio.open(raster_name) as src:\n",
    "    xs_all['z_ft'] = [sample[0] for sample in src.sample(point)]\n",
    "\n",
    "xs_all['z_m'] = xs_all.loc[:,'z_ft']*conv\n",
    "\n"
   ]
  },
  {
   "cell_type": "code",
   "execution_count": null,
   "metadata": {},
   "outputs": [],
   "source": [
    "\n",
    "# remove any NA values picked up from DEM raster\n",
    "xs_all.loc[xs_all['z_ft']==dem_f.nodata,['z_ft','z_m']] = np.nan\n",
    "xs_all.index = np.arange(0,len(xs_all))\n",
    "\n",
    "# need to drop XS where there are a lot of NAs (>250)\n",
    "xs_num_full = xs_all.xs_num.unique()[(xs_all.groupby('xs_num').count()['z_ft']>250).values]\n",
    "xs_all = xs_all[xs_all.xs_num.isin(xs_num_full)]\n",
    "\n",
    "# clean xs to only center 200 m out from true thalweg rather than NHD line\n",
    "xs_all_cln = gpd.GeoDataFrame()\n",
    "# correct XS points by those that were chosen for final XS\n",
    "for n in xs_all.xs_num.unique():\n",
    "    mid = xs_all.loc[xs_all.xs_num==n,'z_m'].iloc[int(xs_width/2)-50:int(xs_width/2)+50].idxmin()\n",
    "    mid_vals = xs_all.loc[mid-100:mid+99]\n",
    "    xs_all_cln = pd.concat((xs_all_cln,mid_vals))\n",
    "# clean up distance from right\n",
    "xs_all_cln['dist_from_right_m'] = np.tile(np.arange(0,200), len(xs_all_cln.xs_num.unique()))\n"
   ]
  },
  {
   "cell_type": "code",
   "execution_count": null,
   "metadata": {},
   "outputs": [],
   "source": [
    "# convert to dataframe for creating table of XS\n",
    "xs_all_df = pd.DataFrame(xs_all_cln.copy())\n",
    "# pivot based on XS number and save only elevation in z_m\n",
    "xs_all_df = xs_all_df.pivot_table(index='dist_from_right_m',columns='xs_num',values='z_m')\n"
   ]
  },
  {
   "cell_type": "code",
   "execution_count": null,
   "metadata": {},
   "outputs": [],
   "source": [
    "dat_dir"
   ]
  },
  {
   "cell_type": "code",
   "execution_count": null,
   "metadata": {},
   "outputs": [],
   "source": [
    "# save point data and XS\n",
    "xs_all_cln.drop(['geometry'],axis=1).to_csv(dat_dir+'/XS_point_elevations.csv')\n",
    "xs_all_df.to_csv(dat_dir+'/Elevation_by_XS_number_meters.csv')\n"
   ]
  }
 ],
 "metadata": {
  "kernelspec": {
   "display_name": "Python 3 (ipykernel)",
   "language": "python",
   "name": "python3"
  },
  "language_info": {
   "codemirror_mode": {
    "name": "ipython",
    "version": 3
   },
   "file_extension": ".py",
   "mimetype": "text/x-python",
   "name": "python",
   "nbconvert_exporter": "python",
   "pygments_lexer": "ipython3",
   "version": "3.11.4"
  }
 },
 "nbformat": 4,
 "nbformat_minor": 4
}
