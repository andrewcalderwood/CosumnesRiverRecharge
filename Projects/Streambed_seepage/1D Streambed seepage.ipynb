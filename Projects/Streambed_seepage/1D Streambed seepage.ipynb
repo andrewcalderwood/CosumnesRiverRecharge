{
 "cells": [
  {
   "cell_type": "code",
   "execution_count": 316,
   "id": "340690ab",
   "metadata": {},
   "outputs": [],
   "source": [
    "import os\n",
    "from os.path import basename,dirname,join\n",
    "import glob\n",
    "import numpy as np\n",
    "import pandas as pd\n",
    "import geopandas as gpd\n",
    "\n",
    "import flopy\n",
    "\n",
    "import matplotlib.pyplot as plt\n",
    "# import plotly #allows interactive plotting\n",
    "# import contextily as ctx # back ground maps\n",
    "\n",
    "# import rasterio\n",
    "import shapely\n",
    "from shapely.ops import linemerge\n",
    "from shapely.geometry import LineString, Point, shape, mapping\n",
    "import fiona\n"
   ]
  },
  {
   "cell_type": "code",
   "execution_count": 317,
   "id": "c7f99811",
   "metadata": {},
   "outputs": [],
   "source": [
    "doc_dir = os.getcwd()\n",
    "while basename(doc_dir) != 'Documents':\n",
    "    doc_dir = dirname(doc_dir)\n",
    "\n",
    "gwfm_dir = dirname(doc_dir)+'/Box/research_cosumnes/GWFlowModel/'\n",
    "proj_dir = gwfm_dir+'Stream_seepage/'\n",
    "dat_dir = proj_dir+'Stream_level_data/'"
   ]
  },
  {
   "cell_type": "code",
   "execution_count": 318,
   "id": "765e5771",
   "metadata": {},
   "outputs": [],
   "source": [
    "sfr_dir = gwfm_dir+'SFR_data/'"
   ]
  },
  {
   "cell_type": "code",
   "execution_count": 387,
   "id": "83608840",
   "metadata": {},
   "outputs": [],
   "source": [
    "\n",
    "loadpth =  'C:/WRDAPP/GWFlowModel/Cosumnes/Stream_seepage'\n",
    "model_ws = loadpth+'/data'\n"
   ]
  },
  {
   "cell_type": "markdown",
   "id": "353e9120",
   "metadata": {},
   "source": [
    "# Stream XS data\n",
    "I updated the stream thalweg and 8 pt XS data to use a 300m transect that is reduced to 200m by filtering 100m out from the thalweg which is not always at center (ranges 20-30 m off center designated by NHD). I also updated the 8 pt XS data to simplify to 8 pt and if needed backfill the end points. \n",
    "\n",
    "After updating the XS, the runtime was very long compared to usual 30 sec. There could be a discrepancy between the xs_all geodataframe and xs_df, it seems the bigger issue was the impact on stream slope. The reaches with slope well under 1E-3 had failures with the secant method repeatedly (0 based segment 48, 51, 54). After fixing slope run time went from 3 hr to 23 min.\n",
    "\n",
    "Even switching back to the original 200m sampling the model was running slow still. I realized that I had turned UZF off in the text file, but not in flopy... For 23 min vs 30 sec, it would be a much slower cailbration. The initial calibration could be without UZF then add it and re-run sensitivity and check error."
   ]
  },
  {
   "cell_type": "code",
   "execution_count": 672,
   "id": "1bdcdebe",
   "metadata": {},
   "outputs": [
    {
     "name": "stderr",
     "output_type": "stream",
     "text": [
      "C:\\Users\\ajcalder\\AppData\\Local\\Temp\\ipykernel_4524\\4037242658.py:12: FutureWarning: The frame.append method is deprecated and will be removed from pandas in a future version. Use pandas.concat instead.\n",
      "  rm_teichert = rm_teichert.append(rm_sp[rm_sp.Sensor=='MCC'])\n"
     ]
    }
   ],
   "source": [
    "params = pd.read_csv(model_ws+'/instream_sensor_params.csv',comment='#',engine='python')\n",
    "params = params.dropna(how='all',axis=1)\n",
    "params['id_num'] = params.Sensor.str.extract(pat=r'(\\d+)').astype(float)\n",
    "rm = params[params.Type=='Level']\n",
    "rm_sp = gpd.GeoDataFrame(rm, geometry=gpd.points_from_xy(rm.Longitude,rm.Latitude))\n",
    "rm_sp.crs = 'epsg:4326'\n",
    "rm_sp = rm_sp.to_crs('epsg:32610')\n",
    "\n",
    "rm_teichert = rm_sp[rm_sp.id_num>3]\n",
    "\n",
    "# add MCC info to teichert\n",
    "rm_teichert = rm_teichert.append(rm_sp[rm_sp.Sensor=='MCC'])\n",
    "# write out parameters for teichert only plus MCC for downstream\n",
    "pd.DataFrame(rm_teichert).drop(columns = ['geometry']).to_csv(model_ws+'/teichert_params.csv')"
   ]
  },
  {
   "cell_type": "code",
   "execution_count": 680,
   "id": "3dd6c631",
   "metadata": {},
   "outputs": [],
   "source": [
    "xmin, ymin, xmax, ymax = rm_teichert[rm_teichert.Sensor!='MCC'].unary_union.buffer(400).bounds\n",
    "# xmin, ymin, xmax, ymax = rm_teichert[rm_teichert.Sensor!='MCC'].buffer(400).total_bounds\n"
   ]
  },
  {
   "cell_type": "code",
   "execution_count": 704,
   "id": "f7c23f74",
   "metadata": {},
   "outputs": [],
   "source": [
    "# XS are every 100 m\n",
    "xs_all = pd.read_csv(dat_dir+'XS_point_elevations.csv',index_col=0)\n",
    "xs_all = gpd.GeoDataFrame(xs_all,geometry = gpd.points_from_xy(xs_all.Easting,xs_all.Northing), crs='epsg:32610')\n",
    "\n",
    "# find XS that are in the modeled domain by thalweg point\n",
    "thalweg = xs_all[xs_all.dist_from_right_m==100]\n",
    "thalweg = thalweg.cx[xmin:xmax, ymin:ymax]\n",
    "\n",
    "# pivot based on XS number and save only elevation in z_m\n",
    "xs_all_df = pd.read_csv(dat_dir+'Elevation_by_XS_number_meters.csv',index_col=0)\n",
    "xs_all_df = xs_all_df.dropna(axis=0,how='any')\n",
    "\n",
    "# filter XS by those that are within the domain bounds\n",
    "xs_all = xs_all[xs_all.xs_num.isin(thalweg.xs_num.values)]\n",
    "xs_all_df = xs_all_df.loc[:, thalweg.xs_num.astype(str)]\n",
    "\n",
    "# renumber XS\n",
    "xs_all.xs_num = np.repeat(np.arange(0,thalweg.shape[0]),xs_all.dist_from_right_m.max()+1)\n",
    "xs_all_df.columns = np.arange(0,thalweg.shape[0])"
   ]
  },
  {
   "cell_type": "code",
   "execution_count": 707,
   "id": "d2040d69",
   "metadata": {
    "scrolled": false
   },
   "outputs": [
    {
     "name": "stderr",
     "output_type": "stream",
     "text": [
      "C:\\Users\\ajcalder\\Anaconda3\\envs\\geosp\\lib\\site-packages\\geopandas\\plotting.py:71: DeprecationWarning: distutils Version classes are deprecated. Use packaging.version instead.\n",
      "  if mpl >= LooseVersion(\"3.4\") or (mpl > LooseVersion(\"3.3.2\") and \"+\" in mpl):\n",
      "C:\\Users\\ajcalder\\Anaconda3\\envs\\geosp\\lib\\site-packages\\setuptools\\_distutils\\version.py:351: DeprecationWarning: distutils Version classes are deprecated. Use packaging.version instead.\n",
      "  other = LooseVersion(other)\n",
      "C:\\Users\\ajcalder\\Anaconda3\\envs\\geosp\\lib\\site-packages\\geopandas\\plotting.py:71: DeprecationWarning: distutils Version classes are deprecated. Use packaging.version instead.\n",
      "  if mpl >= LooseVersion(\"3.4\") or (mpl > LooseVersion(\"3.3.2\") and \"+\" in mpl):\n",
      "C:\\Users\\ajcalder\\Anaconda3\\envs\\geosp\\lib\\site-packages\\setuptools\\_distutils\\version.py:351: DeprecationWarning: distutils Version classes are deprecated. Use packaging.version instead.\n",
      "  other = LooseVersion(other)\n"
     ]
    },
    {
     "data": {
      "text/plain": [
       "<AxesSubplot:>"
      ]
     },
     "execution_count": 707,
     "metadata": {},
     "output_type": "execute_result"
    },
    {
     "data": {
      "image/png": "[encoded data removed]",
      "text/plain": [
       "<Figure size 432x432 with 2 Axes>"
      ]
     },
     "metadata": {
      "needs_background": "light"
     },
     "output_type": "display_data"
    }
   ],
   "source": [
    "fig, ax =plt.subplots(figsize=(6,6))\n",
    "# USGS. USImagery, USImageryTopo, USTopo; Esri. WorldImagery, WorldTopoMap\n",
    "# ctx.add_basemap(ax=ax, source=ctx.providers.Esri.WorldImagery, crs='epsg:26910', attribution=False)\n",
    "\n",
    "\n",
    "xs_all.plot('z_m', markersize=0.2,legend=True,ax=ax,alpha=0.7)\n",
    "\n",
    "rm_teichert.plot('Sensor',ax=ax,legend=True,marker='x')\n"
   ]
  },
  {
   "cell_type": "code",
   "execution_count": 708,
   "id": "0599c026",
   "metadata": {},
   "outputs": [
    {
     "data": {
      "text/plain": [
       "<matplotlib.legend.Legend at 0x1af0d308ee0>"
      ]
     },
     "execution_count": 708,
     "metadata": {},
     "output_type": "execute_result"
    },
    {
     "data": {
      "image/png": "[encoded data removed]",
      "text/plain": [
       "<Figure size 432x288 with 1 Axes>"
      ]
     },
     "metadata": {
      "needs_background": "light"
     },
     "output_type": "display_data"
    }
   ],
   "source": [
    "xs_all_df.plot()\n",
    "plt.legend(ncol=4, loc=(1,0.01), title='XS Number')\n"
   ]
  },
  {
   "cell_type": "markdown",
   "id": "ebfe6511",
   "metadata": {},
   "source": [
    "## Simplify from 200 to 8 pt XS"
   ]
  },
  {
   "cell_type": "code",
   "execution_count": 709,
   "id": "c850327e",
   "metadata": {},
   "outputs": [
    {
     "name": "stdout",
     "output_type": "stream",
     "text": [
      "0 : 8 - 1 : 8 - 2 : 8 - 3 : 8 - 4 : 8 - "
     ]
    },
    {
     "name": "stderr",
     "output_type": "stream",
     "text": [
      "C:\\Users\\ajcalder\\AppData\\Local\\Temp\\ipykernel_4524\\2110285611.py:34: SettingWithCopyWarning: \n",
      "A value is trying to be set on a copy of a slice from a DataFrame\n",
      "\n",
      "See the caveats in the documentation: https://pandas.pydata.org/pandas-docs/stable/user_guide/indexing.html#returning-a-view-versus-a-copy\n",
      "  lp.geometry.iloc[int(i)] = LineString(lms)\n"
     ]
    },
    {
     "name": "stdout",
     "output_type": "stream",
     "text": [
      "5 : 7 - 6 : 7 - 7 : 8 - 8 : 8 - 9 : 8 - 10 : 7 - 11 : 8 - 12 : 7 - 13 : 8 - 14 : 8 - 15 : 8 - 16 : 8 - 17 : 8 - 18 : 7 - 19 : 8 - 20 : 8 - 21 : 8 - 22 : 7 - 23 : 8 - 24 : 8 - 25 : 8 - 26 : 8 - 27 : 8 - 28 : 8 - 29 : 8 - 30 : 8 - 31 : 8 - 32 : 8 - 33 : 7 - 34 : 8 - 35 : 8 - 36 : 7 - 37 : 8 - "
     ]
    }
   ],
   "source": [
    "from shapely.geometry import LineString\n",
    "i = 0\n",
    "# Number of cross sections\n",
    "numxs = int(len(xs_all_df.columns))\n",
    "# i is the cross-section number\n",
    "lp = pd.DataFrame(np.linspace(1,int(numxs),int(numxs)))\n",
    "lp['geometry'] = LineString([(0,0),(0,1)])\n",
    "\n",
    "for i in np.arange(0,numxs): #numxs\n",
    "    # Number of points in each cross section\n",
    "    numl = np.sum(pd.notna(xs_all_df.iloc[:,i]))\n",
    "    # Create empty array to fill with coordinates\n",
    "    lines = np.zeros((numl,2))\n",
    "    # j is the number of points in each individual cross-section\n",
    "    lm = LineString(list(zip(xs_all_df.index.values, xs_all_df.iloc[:,i].values)))\n",
    "    tol = 0.6\n",
    "    deltol = 0.1\n",
    "    count = 0\n",
    "    lms = LineString(lm).simplify(tolerance = tol)\n",
    "    while len(list(lms.coords))>8:\n",
    "        if len(list(lms.coords)) <5:\n",
    "            deltol = 0.001\n",
    "        temp = lms\n",
    "        lms = LineString(lm).simplify(tolerance = tol)\n",
    "        tol += deltol\n",
    "#         if count drops below 8 then reduce deltol\n",
    "#         if len(list(lms.coords)) <6:\n",
    "#             lms = temp\n",
    "#             tol -= deltol\n",
    "#             deltol *= 0.5     \n",
    "        count += 1\n",
    "\n",
    "    print(i,':',len(list(lms.coords)),end = ' - ') #count, \n",
    "    lp.geometry.iloc[int(i)] = LineString(lms)\n",
    "    \n",
    "# some segments will never be able to match the ideal number of points despite very fine loops"
   ]
  },
  {
   "cell_type": "code",
   "execution_count": 710,
   "id": "cfbf6be3",
   "metadata": {},
   "outputs": [],
   "source": [
    "XS8pt = pd.DataFrame(np.zeros((numxs*8, 3)), columns=['xs_num','dist_from_right_m','z_m'])\n",
    "XS8pt.xs_num = np.repeat(np.arange(0,numxs), 8)\n",
    "\n",
    "# lpg = gpd.GeoDataFrame(lp[:])\n",
    "xscoords = np.zeros((8, numxs))\n",
    "filler = np.zeros(2)\n",
    "filler[:] = np.nan\n",
    "for i in np.arange(0, numxs):\n",
    "    coordtemp = np.array(list(lp.geometry.iloc[i].coords))\n",
    "    coordtemp = coordtemp[~np.isnan(coordtemp[:,0])]\n",
    "    # if missing points add to make 8\n",
    "    while len(coordtemp) < 8:\n",
    "        endfill = np.copy(coordtemp[-1,:]) # take last and add new point\n",
    "        endfill[0] += 1 # offset with different x\n",
    "        coordtemp = np.vstack((coordtemp, endfill))\n",
    "    # reset distance from right to start at 0\n",
    "    coordtemp[:,0] -= coordtemp[0,0]\n",
    "    XS8pt.loc[XS8pt.xs_num==i,['dist_from_right_m','z_m']] = coordtemp   \n"
   ]
  },
  {
   "cell_type": "code",
   "execution_count": 711,
   "id": "eeef2c3d",
   "metadata": {},
   "outputs": [],
   "source": [
    "XS8pt.to_csv(proj_dir + '8pointXS_Teichert_1D.csv', index = False)\n",
    "XS8pt = XS8pt.set_index('xs_num')\n"
   ]
  },
  {
   "cell_type": "code",
   "execution_count": 712,
   "id": "554e8e46",
   "metadata": {},
   "outputs": [
    {
     "name": "stdout",
     "output_type": "stream",
     "text": [
      "0 0 0 0 0 "
     ]
    },
    {
     "data": {
      "image/png": "[encoded data removed]",
      "text/plain": [
       "<Figure size 576x576 with 5 Axes>"
      ]
     },
     "metadata": {
      "needs_background": "light"
     },
     "output_type": "display_data"
    }
   ],
   "source": [
    "# i=0\n",
    "# fig,ax=plt.subplots()\n",
    "rm = [0,11,17,24,32,39]\n",
    "\n",
    "fig,ax=plt.subplots(len(rm)-1,1,figsize=(8,8))\n",
    "\n",
    "# np.array(list(lp.geometry.iloc[i].coords))\n",
    "for i in np.arange(1, len(rm)):#np.arange(0,numxs): #\n",
    "#     XS8pt.loc[XS8pt.index==i,:].plot(x='dist_from_right_m',y = 'z_m',ax=ax,label=str(i))\n",
    "    ax_n = ax[i-1]\n",
    "    temp = XS8pt.loc[(XS8pt.index<=rm[i])&(XS8pt.index>=rm[i-1]),:]\n",
    "    for n in temp.index.unique():\n",
    "        temp.loc[n].plot(x='dist_from_right_m',y = 'z_m',ax=ax_n,label=str(n))\n",
    "\n",
    "    print(XS8pt.loc[XS8pt.index==i,:].z_m.isna().sum(),end=' ')\n",
    "    XS8pt.loc[XS8pt.index==i,:].z_m.isna().sum()\n",
    "\n",
    "    ax_n.legend(ncol=5,loc=(1,0.2))"
   ]
  },
  {
   "cell_type": "code",
   "execution_count": 395,
   "id": "c2d3e5a6",
   "metadata": {},
   "outputs": [],
   "source": [
    "# i=5\n",
    "# fig, ax_n = plt.subplots(figsize=(8,8))\n",
    "# temp = XS8pt.loc[(XS8pt.index<=rm[i])&(XS8pt.index>=rm[i-1]),:]\n",
    "# for n in [35,37]:#temp.index.unique():\n",
    "#     temp[temp.index==n].plot(x='dist_from_right_m', y= 'z_m',ax=ax_n,label=str(n),kind='line')\n"
   ]
  },
  {
   "cell_type": "markdown",
   "id": "088c009e",
   "metadata": {},
   "source": [
    "# Model DIS\n",
    "The transects were created every 100 m traveling down the NHD streamline. Model discretization should be 100 m with a new segment every 100m for 54 segments. The cross-sections have a transverse length of 200m."
   ]
  },
  {
   "cell_type": "code",
   "execution_count": 396,
   "id": "90deb425",
   "metadata": {},
   "outputs": [],
   "source": [
    "# xs_all_df\n",
    "nrow=1\n",
    "ncol = xs_all_df.columns.shape[0]\n",
    "nlay=1\n",
    "\n",
    "delr = 100 #longitudinal\n",
    "delc= 200 # transverse\n",
    "rotation=0"
   ]
  },
  {
   "cell_type": "code",
   "execution_count": 397,
   "id": "6bc9fc5a",
   "metadata": {},
   "outputs": [
    {
     "data": {
      "text/html": [
       "<div>\n",
       "<style scoped>\n",
       "    .dataframe tbody tr th:only-of-type {\n",
       "        vertical-align: middle;\n",
       "    }\n",
       "\n",
       "    .dataframe tbody tr th {\n",
       "        vertical-align: top;\n",
       "    }\n",
       "\n",
       "    .dataframe thead th {\n",
       "        text-align: right;\n",
       "    }\n",
       "</style>\n",
       "<table border=\"1\" class=\"dataframe\">\n",
       "  <thead>\n",
       "    <tr style=\"text-align: right;\">\n",
       "      <th></th>\n",
       "      <th>start</th>\n",
       "      <th>end</th>\n",
       "      <th>length</th>\n",
       "    </tr>\n",
       "  </thead>\n",
       "  <tbody>\n",
       "    <tr>\n",
       "      <th>0</th>\n",
       "      <td>2019-12-13 00:15:00</td>\n",
       "      <td>2019-12-13 23:45:00</td>\n",
       "      <td>0 days 23:30:00</td>\n",
       "    </tr>\n",
       "    <tr>\n",
       "      <th>1</th>\n",
       "      <td>2019-12-15 00:00:00</td>\n",
       "      <td>2019-12-16 23:45:00</td>\n",
       "      <td>1 days 23:45:00</td>\n",
       "    </tr>\n",
       "    <tr>\n",
       "      <th>2</th>\n",
       "      <td>2020-01-27 00:00:00</td>\n",
       "      <td>2020-01-28 23:45:00</td>\n",
       "      <td>1 days 23:45:00</td>\n",
       "    </tr>\n",
       "    <tr>\n",
       "      <th>3</th>\n",
       "      <td>2020-03-14 00:00:00</td>\n",
       "      <td>2020-03-14 23:45:00</td>\n",
       "      <td>0 days 23:45:00</td>\n",
       "    </tr>\n",
       "    <tr>\n",
       "      <th>4</th>\n",
       "      <td>2020-03-16 00:00:00</td>\n",
       "      <td>2020-05-14 23:45:00</td>\n",
       "      <td>59 days 23:45:00</td>\n",
       "    </tr>\n",
       "    <tr>\n",
       "      <th>5</th>\n",
       "      <td>2020-05-17 00:00:00</td>\n",
       "      <td>2020-05-23 23:45:00</td>\n",
       "      <td>6 days 23:45:00</td>\n",
       "    </tr>\n",
       "    <tr>\n",
       "      <th>6</th>\n",
       "      <td>2021-01-28 00:00:00</td>\n",
       "      <td>2021-01-30 23:45:00</td>\n",
       "      <td>2 days 23:45:00</td>\n",
       "    </tr>\n",
       "    <tr>\n",
       "      <th>7</th>\n",
       "      <td>2021-02-15 00:00:00</td>\n",
       "      <td>2021-02-16 23:45:00</td>\n",
       "      <td>1 days 23:45:00</td>\n",
       "    </tr>\n",
       "    <tr>\n",
       "      <th>8</th>\n",
       "      <td>2021-03-19 00:00:00</td>\n",
       "      <td>2021-03-23 23:45:00</td>\n",
       "      <td>4 days 23:45:00</td>\n",
       "    </tr>\n",
       "  </tbody>\n",
       "</table>\n",
       "</div>"
      ],
      "text/plain": [
       "                start                 end           length\n",
       "0 2019-12-13 00:15:00 2019-12-13 23:45:00  0 days 23:30:00\n",
       "1 2019-12-15 00:00:00 2019-12-16 23:45:00  1 days 23:45:00\n",
       "2 2020-01-27 00:00:00 2020-01-28 23:45:00  1 days 23:45:00\n",
       "3 2020-03-14 00:00:00 2020-03-14 23:45:00  0 days 23:45:00\n",
       "4 2020-03-16 00:00:00 2020-05-14 23:45:00 59 days 23:45:00\n",
       "5 2020-05-17 00:00:00 2020-05-23 23:45:00  6 days 23:45:00\n",
       "6 2021-01-28 00:00:00 2021-01-30 23:45:00  2 days 23:45:00\n",
       "7 2021-02-15 00:00:00 2021-02-16 23:45:00  1 days 23:45:00\n",
       "8 2021-03-19 00:00:00 2021-03-23 23:45:00  4 days 23:45:00"
      ]
     },
     "execution_count": 397,
     "metadata": {},
     "output_type": "execute_result"
    }
   ],
   "source": [
    "events = pd.read_csv(dat_dir+'event_dates.csv',index_col=0,parse_dates=['start','end']).dropna(axis=0)\n",
    "\n",
    "events['length'] = events.end-events.start\n",
    "events\n"
   ]
  },
  {
   "cell_type": "markdown",
   "id": "6f42c32a",
   "metadata": {},
   "source": [
    "Currently the first 6 hours of observations are skipped to allow burn in, it might be better to add a short steady state period or burn in stress periods to enable the better use of these sub-daily events (2) out of the total of 9. \n",
    "\n",
    "There are several goals of the calibration exercise: 1. look at variability in calibrated value and sensitivity between events 2. look at variability bewteen segments to connect to geophysics or TPROGs and field measured soil characteristics. The physical expression of calibration of HK is the variable soil saturation and water level which can decrease outflow rate. THe model can be improved by allowing water table connection but for now this proxy should be enough to match seepage.\n",
    "\n",
    "I do need to do a sensitivity at least with all parameters to justify calibration of conductivity. It may be worth allowing calibration of roughness before returning to conductivity.\n",
    "\n",
    "Create a folder to run each event with a calibration (9 folders), 1 folder with all events sequentially for sensitivity. UPW/BAS6 are independent of stress periods, DIS/SFR (tab file) need to be updated for each different event.\n",
    "\n",
    "Need sub daily steps to capture passage of flow between gages in 15 minutes. "
   ]
  },
  {
   "cell_type": "code",
   "execution_count": 398,
   "id": "bb92d7e4",
   "metadata": {},
   "outputs": [],
   "source": [
    "mb_15min = pd.read_csv(sfr_dir+'MB_15min_2010_10_01.csv',index_col='Datetime',parse_dates=['Datetime'])\n",
    "# mb_15min = mb_15min[end_date:strt_date]"
   ]
  },
  {
   "cell_type": "code",
   "execution_count": 399,
   "id": "9231b337",
   "metadata": {},
   "outputs": [
    {
     "data": {
      "text/plain": [
       "<AxesSubplot:xlabel='Datetime'>"
      ]
     },
     "execution_count": 399,
     "metadata": {},
     "output_type": "execute_result"
    },
    {
     "data": {
      "image/png": "[encoded data removed]",
      "text/plain": [
       "<Figure size 432x288 with 1 Axes>"
      ]
     },
     "metadata": {
      "needs_background": "light"
     },
     "output_type": "display_data"
    }
   ],
   "source": [
    "# Transient -> might want to think about making SP1 steady\n",
    "# end_date = pd.to_datetime('2020-01-22')\n",
    "# strt_date = pd.to_datetime('2020-01-14')\n",
    "# 5, 6, 8 have good peaks at MB\n",
    "num = 5\n",
    "\n",
    "strt_date = events.start[num]\n",
    "end_date = events.end[num]\n",
    "\n",
    "\n",
    "mb_15min_sim = mb_15min[strt_date:end_date]\n",
    "# mb_15min_sim.index\n",
    "mb_15min_sim.plot()"
   ]
  },
  {
   "cell_type": "markdown",
   "id": "4b88836a",
   "metadata": {},
   "source": [
    "Removing the steady state period caused higher error in the first two stress periods, but then was fine. Spd 1 75% Spd 2 7% to near 0 after."
   ]
  },
  {
   "cell_type": "code",
   "execution_count": 400,
   "id": "f01267a9",
   "metadata": {},
   "outputs": [],
   "source": [
    "# 15 minute stress periods with 5 min steps?\n",
    "\n",
    "dates = pd.date_range(strt_date, end_date, freq = '15min')\n",
    "\n",
    "# The number of periods is the number of dates \n",
    "# nper = len(dates)+1\n",
    "\n",
    "# Each period has a length of one because the timestep is one day, have the 1st stress period be out of the date range\n",
    "# need to have the transient packages start on the second stress period\n",
    "# For new version each period has a length of 15 minutes\n",
    "# perlen = np.ones(nper) # original with quick runtime\n",
    "# perlen = np.append([1], np.full(nper-1, 15)) # correct version should be 15 minute periods\n",
    "\n",
    "nper = len(dates) # try without SS period, the few pre storm events act as burn in\n",
    "perlen = np.full(nper, 15) # no steady state period\n",
    "nstp = 3*np.ones(nper)\n",
    "\n",
    "# Reduce the number of timesteps to decrease run time\n",
    "# 5 minute timessteps\n",
    "# nstp = np.append(np.ones(1),3*np.ones(nper-1))\n",
    "\n",
    "\n",
    "# Steady or transient periods\n",
    "steady = np.zeros(nper)\n",
    "# steady[0] = 1 # first period is steady state, rest are transient\n",
    "steady = steady.astype('bool').tolist()\n"
   ]
  },
  {
   "cell_type": "code",
   "execution_count": 401,
   "id": "b3501c50",
   "metadata": {},
   "outputs": [],
   "source": [
    "# the model ran 770 periods in 3 minutes then I went to adjust period length from 1 to 15 and re-wrote the DIS file\n",
    "# which seemed to change the run in a way that caused a lot of error\n",
    "# I updated the perlen to 15 and then corrected the SFR package to have the correct tab file input timing then\n",
    "# the model ran quickly with no issues"
   ]
  },
  {
   "cell_type": "code",
   "execution_count": 402,
   "id": "46eec6c4",
   "metadata": {},
   "outputs": [],
   "source": [
    "# m = flopy.modflow.Modflow(modelname = 'MF', exe_name = 'MODFLOW-NWT.exe', \n",
    "#                           version = 'mfnwt', model_ws=model_ws)\n",
    "\n",
    "\n",
    "# save data to Box because model run size will be small\n",
    "m = flopy.modflow.Modflow(modelname = 'MF', exe_name = 'mf-owhm', \n",
    "                          version = 'mfnwt', model_ws=model_ws)\n",
    "#lenuni = 1 is in ft, lenuni = 2 is in meters\n",
    "# itmuni is time unit 5 = years, 4=days, 3 =hours, 2=minutes, 1=seconds\n",
    "dis = flopy.modflow.ModflowDis(nrow=nrow, ncol=ncol, \n",
    "                               nlay=nlay, delr=delr, delc=delc,\n",
    "                               model=m, lenuni = 2, itmuni = 2, # in minutes because of SFR\n",
    "                               rotation=rotation, \n",
    "                              nper = nper, perlen=perlen, nstp=nstp, steady = steady,\n",
    "                              start_datetime = strt_date)\n"
   ]
  },
  {
   "cell_type": "code",
   "execution_count": 403,
   "id": "9bd46ae1",
   "metadata": {},
   "outputs": [
    {
     "name": "stderr",
     "output_type": "stream",
     "text": [
      "C:\\Users\\ajcalder\\Anaconda3\\envs\\geosp\\lib\\site-packages\\geopandas\\_vectorized.py:142: DeprecationWarning: An exception was ignored while fetching the attribute `__array_interface__` from an object of type 'Polygon'.  With the exception of `AttributeError` NumPy will always raise this exception in the future.  Raise this deprecation warning to see the original exception. (Warning added NumPy 1.21)\n",
      "  aout[:] = out\n",
      "C:\\Users\\ajcalder\\Anaconda3\\envs\\geosp\\lib\\site-packages\\geopandas\\_vectorized.py:142: DeprecationWarning: An exception was ignored while fetching the attribute `__array_interface__` from an object of type 'Polygon'.  With the exception of `AttributeError` NumPy will always raise this exception in the future.  Raise this deprecation warning to see the original exception. (Warning added NumPy 1.21)\n",
      "  aout[:] = out\n",
      "C:\\Users\\ajcalder\\Anaconda3\\envs\\geosp\\lib\\site-packages\\geopandas\\_vectorized.py:142: DeprecationWarning: An exception was ignored while fetching the attribute `__array_interface__` from an object of type 'Polygon'.  With the exception of `AttributeError` NumPy will always raise this exception in the future.  Raise this deprecation warning to see the original exception. (Warning added NumPy 1.21)\n",
      "  aout[:] = out\n",
      "C:\\Users\\ajcalder\\Anaconda3\\envs\\geosp\\lib\\site-packages\\geopandas\\_vectorized.py:142: DeprecationWarning: An exception was ignored while fetching the attribute `__array_interface__` from an object of type 'Polygon'.  With the exception of `AttributeError` NumPy will always raise this exception in the future.  Raise this deprecation warning to see the original exception. (Warning added NumPy 1.21)\n",
      "  aout[:] = out\n",
      "C:\\Users\\ajcalder\\Anaconda3\\envs\\geosp\\lib\\site-packages\\geopandas\\_vectorized.py:142: DeprecationWarning: An exception was ignored while fetching the attribute `__array_interface__` from an object of type 'Polygon'.  With the exception of `AttributeError` NumPy will always raise this exception in the future.  Raise this deprecation warning to see the original exception. (Warning added NumPy 1.21)\n",
      "  aout[:] = out\n",
      "C:\\Users\\ajcalder\\Anaconda3\\envs\\geosp\\lib\\site-packages\\geopandas\\_vectorized.py:142: DeprecationWarning: An exception was ignored while fetching the attribute `__array_interface__` from an object of type 'Polygon'.  With the exception of `AttributeError` NumPy will always raise this exception in the future.  Raise this deprecation warning to see the original exception. (Warning added NumPy 1.21)\n",
      "  aout[:] = out\n",
      "C:\\Users\\ajcalder\\Anaconda3\\envs\\geosp\\lib\\site-packages\\geopandas\\_vectorized.py:142: DeprecationWarning: An exception was ignored while fetching the attribute `__array_interface__` from an object of type 'Polygon'.  With the exception of `AttributeError` NumPy will always raise this exception in the future.  Raise this deprecation warning to see the original exception. (Warning added NumPy 1.21)\n",
      "  aout[:] = out\n",
      "C:\\Users\\ajcalder\\Anaconda3\\envs\\geosp\\lib\\site-packages\\geopandas\\_vectorized.py:142: DeprecationWarning: An exception was ignored while fetching the attribute `__array_interface__` from an object of type 'Polygon'.  With the exception of `AttributeError` NumPy will always raise this exception in the future.  Raise this deprecation warning to see the original exception. (Warning added NumPy 1.21)\n",
      "  aout[:] = out\n",
      "C:\\Users\\ajcalder\\Anaconda3\\envs\\geosp\\lib\\site-packages\\geopandas\\_vectorized.py:142: DeprecationWarning: An exception was ignored while fetching the attribute `__array_interface__` from an object of type 'Polygon'.  With the exception of `AttributeError` NumPy will always raise this exception in the future.  Raise this deprecation warning to see the original exception. (Warning added NumPy 1.21)\n",
      "  aout[:] = out\n",
      "C:\\Users\\ajcalder\\Anaconda3\\envs\\geosp\\lib\\site-packages\\geopandas\\_vectorized.py:142: DeprecationWarning: An exception was ignored while fetching the attribute `__array_interface__` from an object of type 'Polygon'.  With the exception of `AttributeError` NumPy will always raise this exception in the future.  Raise this deprecation warning to see the original exception. (Warning added NumPy 1.21)\n",
      "  aout[:] = out\n",
      "C:\\Users\\ajcalder\\Anaconda3\\envs\\geosp\\lib\\site-packages\\geopandas\\_vectorized.py:142: DeprecationWarning: An exception was ignored while fetching the attribute `__array_interface__` from an object of type 'Polygon'.  With the exception of `AttributeError` NumPy will always raise this exception in the future.  Raise this deprecation warning to see the original exception. (Warning added NumPy 1.21)\n",
      "  aout[:] = out\n",
      "C:\\Users\\ajcalder\\Anaconda3\\envs\\geosp\\lib\\site-packages\\geopandas\\_vectorized.py:142: DeprecationWarning: An exception was ignored while fetching the attribute `__array_interface__` from an object of type 'Polygon'.  With the exception of `AttributeError` NumPy will always raise this exception in the future.  Raise this deprecation warning to see the original exception. (Warning added NumPy 1.21)\n",
      "  aout[:] = out\n",
      "C:\\Users\\ajcalder\\Anaconda3\\envs\\geosp\\lib\\site-packages\\geopandas\\_vectorized.py:142: DeprecationWarning: An exception was ignored while fetching the attribute `__array_interface__` from an object of type 'Polygon'.  With the exception of `AttributeError` NumPy will always raise this exception in the future.  Raise this deprecation warning to see the original exception. (Warning added NumPy 1.21)\n",
      "  aout[:] = out\n",
      "C:\\Users\\ajcalder\\Anaconda3\\envs\\geosp\\lib\\site-packages\\geopandas\\_vectorized.py:142: DeprecationWarning: An exception was ignored while fetching the attribute `__array_interface__` from an object of type 'Polygon'.  With the exception of `AttributeError` NumPy will always raise this exception in the future.  Raise this deprecation warning to see the original exception. (Warning added NumPy 1.21)\n",
      "  aout[:] = out\n",
      "C:\\Users\\ajcalder\\Anaconda3\\envs\\geosp\\lib\\site-packages\\geopandas\\_vectorized.py:142: DeprecationWarning: An exception was ignored while fetching the attribute `__array_interface__` from an object of type 'Polygon'.  With the exception of `AttributeError` NumPy will always raise this exception in the future.  Raise this deprecation warning to see the original exception. (Warning added NumPy 1.21)\n",
      "  aout[:] = out\n",
      "C:\\Users\\ajcalder\\Anaconda3\\envs\\geosp\\lib\\site-packages\\geopandas\\_vectorized.py:142: DeprecationWarning: An exception was ignored while fetching the attribute `__array_interface__` from an object of type 'Polygon'.  With the exception of `AttributeError` NumPy will always raise this exception in the future.  Raise this deprecation warning to see the original exception. (Warning added NumPy 1.21)\n",
      "  aout[:] = out\n",
      "C:\\Users\\ajcalder\\Anaconda3\\envs\\geosp\\lib\\site-packages\\geopandas\\_vectorized.py:142: DeprecationWarning: An exception was ignored while fetching the attribute `__array_interface__` from an object of type 'Polygon'.  With the exception of `AttributeError` NumPy will always raise this exception in the future.  Raise this deprecation warning to see the original exception. (Warning added NumPy 1.21)\n",
      "  aout[:] = out\n",
      "C:\\Users\\ajcalder\\Anaconda3\\envs\\geosp\\lib\\site-packages\\geopandas\\_vectorized.py:142: DeprecationWarning: An exception was ignored while fetching the attribute `__array_interface__` from an object of type 'Polygon'.  With the exception of `AttributeError` NumPy will always raise this exception in the future.  Raise this deprecation warning to see the original exception. (Warning added NumPy 1.21)\n",
      "  aout[:] = out\n",
      "C:\\Users\\ajcalder\\Anaconda3\\envs\\geosp\\lib\\site-packages\\geopandas\\_vectorized.py:142: DeprecationWarning: An exception was ignored while fetching the attribute `__array_interface__` from an object of type 'Polygon'.  With the exception of `AttributeError` NumPy will always raise this exception in the future.  Raise this deprecation warning to see the original exception. (Warning added NumPy 1.21)\n",
      "  aout[:] = out\n",
      "C:\\Users\\ajcalder\\Anaconda3\\envs\\geosp\\lib\\site-packages\\geopandas\\_vectorized.py:142: DeprecationWarning: An exception was ignored while fetching the attribute `__array_interface__` from an object of type 'Polygon'.  With the exception of `AttributeError` NumPy will always raise this exception in the future.  Raise this deprecation warning to see the original exception. (Warning added NumPy 1.21)\n",
      "  aout[:] = out\n",
      "C:\\Users\\ajcalder\\Anaconda3\\envs\\geosp\\lib\\site-packages\\geopandas\\_vectorized.py:142: DeprecationWarning: An exception was ignored while fetching the attribute `__array_interface__` from an object of type 'Polygon'.  With the exception of `AttributeError` NumPy will always raise this exception in the future.  Raise this deprecation warning to see the original exception. (Warning added NumPy 1.21)\n",
      "  aout[:] = out\n",
      "C:\\Users\\ajcalder\\Anaconda3\\envs\\geosp\\lib\\site-packages\\geopandas\\_vectorized.py:142: DeprecationWarning: An exception was ignored while fetching the attribute `__array_interface__` from an object of type 'Polygon'.  With the exception of `AttributeError` NumPy will always raise this exception in the future.  Raise this deprecation warning to see the original exception. (Warning added NumPy 1.21)\n",
      "  aout[:] = out\n",
      "C:\\Users\\ajcalder\\Anaconda3\\envs\\geosp\\lib\\site-packages\\geopandas\\_vectorized.py:142: DeprecationWarning: An exception was ignored while fetching the attribute `__array_interface__` from an object of type 'Polygon'.  With the exception of `AttributeError` NumPy will always raise this exception in the future.  Raise this deprecation warning to see the original exception. (Warning added NumPy 1.21)\n",
      "  aout[:] = out\n",
      "C:\\Users\\ajcalder\\Anaconda3\\envs\\geosp\\lib\\site-packages\\geopandas\\_vectorized.py:142: DeprecationWarning: An exception was ignored while fetching the attribute `__array_interface__` from an object of type 'Polygon'.  With the exception of `AttributeError` NumPy will always raise this exception in the future.  Raise this deprecation warning to see the original exception. (Warning added NumPy 1.21)\n",
      "  aout[:] = out\n",
      "C:\\Users\\ajcalder\\Anaconda3\\envs\\geosp\\lib\\site-packages\\geopandas\\_vectorized.py:142: DeprecationWarning: An exception was ignored while fetching the attribute `__array_interface__` from an object of type 'Polygon'.  With the exception of `AttributeError` NumPy will always raise this exception in the future.  Raise this deprecation warning to see the original exception. (Warning added NumPy 1.21)\n",
      "  aout[:] = out\n",
      "C:\\Users\\ajcalder\\Anaconda3\\envs\\geosp\\lib\\site-packages\\geopandas\\_vectorized.py:142: DeprecationWarning: An exception was ignored while fetching the attribute `__array_interface__` from an object of type 'Polygon'.  With the exception of `AttributeError` NumPy will always raise this exception in the future.  Raise this deprecation warning to see the original exception. (Warning added NumPy 1.21)\n",
      "  aout[:] = out\n",
      "C:\\Users\\ajcalder\\Anaconda3\\envs\\geosp\\lib\\site-packages\\geopandas\\_vectorized.py:142: DeprecationWarning: An exception was ignored while fetching the attribute `__array_interface__` from an object of type 'Polygon'.  With the exception of `AttributeError` NumPy will always raise this exception in the future.  Raise this deprecation warning to see the original exception. (Warning added NumPy 1.21)\n",
      "  aout[:] = out\n",
      "C:\\Users\\ajcalder\\Anaconda3\\envs\\geosp\\lib\\site-packages\\geopandas\\_vectorized.py:142: DeprecationWarning: An exception was ignored while fetching the attribute `__array_interface__` from an object of type 'Polygon'.  With the exception of `AttributeError` NumPy will always raise this exception in the future.  Raise this deprecation warning to see the original exception. (Warning added NumPy 1.21)\n",
      "  aout[:] = out\n",
      "C:\\Users\\ajcalder\\Anaconda3\\envs\\geosp\\lib\\site-packages\\geopandas\\_vectorized.py:142: DeprecationWarning: An exception was ignored while fetching the attribute `__array_interface__` from an object of type 'Polygon'.  With the exception of `AttributeError` NumPy will always raise this exception in the future.  Raise this deprecation warning to see the original exception. (Warning added NumPy 1.21)\n",
      "  aout[:] = out\n",
      "C:\\Users\\ajcalder\\Anaconda3\\envs\\geosp\\lib\\site-packages\\geopandas\\_vectorized.py:142: DeprecationWarning: An exception was ignored while fetching the attribute `__array_interface__` from an object of type 'Polygon'.  With the exception of `AttributeError` NumPy will always raise this exception in the future.  Raise this deprecation warning to see the original exception. (Warning added NumPy 1.21)\n",
      "  aout[:] = out\n",
      "C:\\Users\\ajcalder\\Anaconda3\\envs\\geosp\\lib\\site-packages\\geopandas\\_vectorized.py:142: DeprecationWarning: An exception was ignored while fetching the attribute `__array_interface__` from an object of type 'Polygon'.  With the exception of `AttributeError` NumPy will always raise this exception in the future.  Raise this deprecation warning to see the original exception. (Warning added NumPy 1.21)\n",
      "  aout[:] = out\n",
      "C:\\Users\\ajcalder\\Anaconda3\\envs\\geosp\\lib\\site-packages\\geopandas\\_vectorized.py:142: DeprecationWarning: An exception was ignored while fetching the attribute `__array_interface__` from an object of type 'Polygon'.  With the exception of `AttributeError` NumPy will always raise this exception in the future.  Raise this deprecation warning to see the original exception. (Warning added NumPy 1.21)\n",
      "  aout[:] = out\n",
      "C:\\Users\\ajcalder\\Anaconda3\\envs\\geosp\\lib\\site-packages\\geopandas\\_vectorized.py:142: DeprecationWarning: An exception was ignored while fetching the attribute `__array_interface__` from an object of type 'Polygon'.  With the exception of `AttributeError` NumPy will always raise this exception in the future.  Raise this deprecation warning to see the original exception. (Warning added NumPy 1.21)\n",
      "  aout[:] = out\n",
      "C:\\Users\\ajcalder\\Anaconda3\\envs\\geosp\\lib\\site-packages\\geopandas\\_vectorized.py:142: DeprecationWarning: An exception was ignored while fetching the attribute `__array_interface__` from an object of type 'Polygon'.  With the exception of `AttributeError` NumPy will always raise this exception in the future.  Raise this deprecation warning to see the original exception. (Warning added NumPy 1.21)\n",
      "  aout[:] = out\n",
      "C:\\Users\\ajcalder\\Anaconda3\\envs\\geosp\\lib\\site-packages\\geopandas\\_vectorized.py:142: DeprecationWarning: An exception was ignored while fetching the attribute `__array_interface__` from an object of type 'Polygon'.  With the exception of `AttributeError` NumPy will always raise this exception in the future.  Raise this deprecation warning to see the original exception. (Warning added NumPy 1.21)\n",
      "  aout[:] = out\n",
      "C:\\Users\\ajcalder\\Anaconda3\\envs\\geosp\\lib\\site-packages\\geopandas\\_vectorized.py:142: DeprecationWarning: An exception was ignored while fetching the attribute `__array_interface__` from an object of type 'Polygon'.  With the exception of `AttributeError` NumPy will always raise this exception in the future.  Raise this deprecation warning to see the original exception. (Warning added NumPy 1.21)\n",
      "  aout[:] = out\n",
      "C:\\Users\\ajcalder\\Anaconda3\\envs\\geosp\\lib\\site-packages\\geopandas\\_vectorized.py:142: DeprecationWarning: An exception was ignored while fetching the attribute `__array_interface__` from an object of type 'Polygon'.  With the exception of `AttributeError` NumPy will always raise this exception in the future.  Raise this deprecation warning to see the original exception. (Warning added NumPy 1.21)\n",
      "  aout[:] = out\n",
      "C:\\Users\\ajcalder\\Anaconda3\\envs\\geosp\\lib\\site-packages\\geopandas\\_vectorized.py:142: DeprecationWarning: An exception was ignored while fetching the attribute `__array_interface__` from an object of type 'Polygon'.  With the exception of `AttributeError` NumPy will always raise this exception in the future.  Raise this deprecation warning to see the original exception. (Warning added NumPy 1.21)\n",
      "  aout[:] = out\n",
      "C:\\Users\\ajcalder\\Anaconda3\\envs\\geosp\\lib\\site-packages\\geopandas\\_vectorized.py:142: DeprecationWarning: An exception was ignored while fetching the attribute `__array_interface__` from an object of type 'Polygon'.  With the exception of `AttributeError` NumPy will always raise this exception in the future.  Raise this deprecation warning to see the original exception. (Warning added NumPy 1.21)\n",
      "  aout[:] = out\n",
      "C:\\Users\\ajcalder\\Anaconda3\\envs\\geosp\\lib\\site-packages\\geopandas\\_vectorized.py:142: DeprecationWarning: An exception was ignored while fetching the attribute `__array_interface__` from an object of type 'Polygon'.  With the exception of `AttributeError` NumPy will always raise this exception in the future.  Raise this deprecation warning to see the original exception. (Warning added NumPy 1.21)\n",
      "  aout[:] = out\n",
      "C:\\Users\\ajcalder\\Anaconda3\\envs\\geosp\\lib\\site-packages\\geopandas\\_vectorized.py:142: DeprecationWarning: An exception was ignored while fetching the attribute `__array_interface__` from an object of type 'Polygon'.  With the exception of `AttributeError` NumPy will always raise this exception in the future.  Raise this deprecation warning to see the original exception. (Warning added NumPy 1.21)\n",
      "  aout[:] = out\n",
      "C:\\Users\\ajcalder\\Anaconda3\\envs\\geosp\\lib\\site-packages\\geopandas\\_vectorized.py:142: DeprecationWarning: An exception was ignored while fetching the attribute `__array_interface__` from an object of type 'Polygon'.  With the exception of `AttributeError` NumPy will always raise this exception in the future.  Raise this deprecation warning to see the original exception. (Warning added NumPy 1.21)\n",
      "  aout[:] = out\n",
      "C:\\Users\\ajcalder\\Anaconda3\\envs\\geosp\\lib\\site-packages\\geopandas\\_vectorized.py:142: DeprecationWarning: An exception was ignored while fetching the attribute `__array_interface__` from an object of type 'Polygon'.  With the exception of `AttributeError` NumPy will always raise this exception in the future.  Raise this deprecation warning to see the original exception. (Warning added NumPy 1.21)\n",
      "  aout[:] = out\n",
      "C:\\Users\\ajcalder\\Anaconda3\\envs\\geosp\\lib\\site-packages\\geopandas\\_vectorized.py:142: DeprecationWarning: An exception was ignored while fetching the attribute `__array_interface__` from an object of type 'Polygon'.  With the exception of `AttributeError` NumPy will always raise this exception in the future.  Raise this deprecation warning to see the original exception. (Warning added NumPy 1.21)\n",
      "  aout[:] = out\n",
      "C:\\Users\\ajcalder\\Anaconda3\\envs\\geosp\\lib\\site-packages\\geopandas\\_vectorized.py:142: DeprecationWarning: An exception was ignored while fetching the attribute `__array_interface__` from an object of type 'Polygon'.  With the exception of `AttributeError` NumPy will always raise this exception in the future.  Raise this deprecation warning to see the original exception. (Warning added NumPy 1.21)\n",
      "  aout[:] = out\n",
      "C:\\Users\\ajcalder\\Anaconda3\\envs\\geosp\\lib\\site-packages\\geopandas\\_vectorized.py:142: DeprecationWarning: An exception was ignored while fetching the attribute `__array_interface__` from an object of type 'Polygon'.  With the exception of `AttributeError` NumPy will always raise this exception in the future.  Raise this deprecation warning to see the original exception. (Warning added NumPy 1.21)\n",
      "  aout[:] = out\n",
      "C:\\Users\\ajcalder\\Anaconda3\\envs\\geosp\\lib\\site-packages\\geopandas\\_vectorized.py:142: DeprecationWarning: An exception was ignored while fetching the attribute `__array_interface__` from an object of type 'Polygon'.  With the exception of `AttributeError` NumPy will always raise this exception in the future.  Raise this deprecation warning to see the original exception. (Warning added NumPy 1.21)\n",
      "  aout[:] = out\n",
      "C:\\Users\\ajcalder\\Anaconda3\\envs\\geosp\\lib\\site-packages\\geopandas\\_vectorized.py:142: DeprecationWarning: An exception was ignored while fetching the attribute `__array_interface__` from an object of type 'Polygon'.  With the exception of `AttributeError` NumPy will always raise this exception in the future.  Raise this deprecation warning to see the original exception. (Warning added NumPy 1.21)\n",
      "  aout[:] = out\n",
      "C:\\Users\\ajcalder\\Anaconda3\\envs\\geosp\\lib\\site-packages\\geopandas\\_vectorized.py:142: DeprecationWarning: An exception was ignored while fetching the attribute `__array_interface__` from an object of type 'Polygon'.  With the exception of `AttributeError` NumPy will always raise this exception in the future.  Raise this deprecation warning to see the original exception. (Warning added NumPy 1.21)\n",
      "  aout[:] = out\n",
      "C:\\Users\\ajcalder\\Anaconda3\\envs\\geosp\\lib\\site-packages\\geopandas\\_vectorized.py:142: DeprecationWarning: An exception was ignored while fetching the attribute `__array_interface__` from an object of type 'Polygon'.  With the exception of `AttributeError` NumPy will always raise this exception in the future.  Raise this deprecation warning to see the original exception. (Warning added NumPy 1.21)\n",
      "  aout[:] = out\n",
      "C:\\Users\\ajcalder\\Anaconda3\\envs\\geosp\\lib\\site-packages\\geopandas\\_vectorized.py:142: DeprecationWarning: An exception was ignored while fetching the attribute `__array_interface__` from an object of type 'Polygon'.  With the exception of `AttributeError` NumPy will always raise this exception in the future.  Raise this deprecation warning to see the original exception. (Warning added NumPy 1.21)\n",
      "  aout[:] = out\n",
      "C:\\Users\\ajcalder\\Anaconda3\\envs\\geosp\\lib\\site-packages\\geopandas\\_vectorized.py:142: DeprecationWarning: An exception was ignored while fetching the attribute `__array_interface__` from an object of type 'Polygon'.  With the exception of `AttributeError` NumPy will always raise this exception in the future.  Raise this deprecation warning to see the original exception. (Warning added NumPy 1.21)\n",
      "  aout[:] = out\n",
      "C:\\Users\\ajcalder\\Anaconda3\\envs\\geosp\\lib\\site-packages\\geopandas\\_vectorized.py:142: DeprecationWarning: An exception was ignored while fetching the attribute `__array_interface__` from an object of type 'Polygon'.  With the exception of `AttributeError` NumPy will always raise this exception in the future.  Raise this deprecation warning to see the original exception. (Warning added NumPy 1.21)\n",
      "  aout[:] = out\n",
      "C:\\Users\\ajcalder\\Anaconda3\\envs\\geosp\\lib\\site-packages\\geopandas\\_vectorized.py:142: DeprecationWarning: An exception was ignored while fetching the attribute `__array_interface__` from an object of type 'Polygon'.  With the exception of `AttributeError` NumPy will always raise this exception in the future.  Raise this deprecation warning to see the original exception. (Warning added NumPy 1.21)\n",
      "  aout[:] = out\n",
      "C:\\Users\\ajcalder\\Anaconda3\\envs\\geosp\\lib\\site-packages\\geopandas\\_vectorized.py:142: DeprecationWarning: An exception was ignored while fetching the attribute `__array_interface__` from an object of type 'Polygon'.  With the exception of `AttributeError` NumPy will always raise this exception in the future.  Raise this deprecation warning to see the original exception. (Warning added NumPy 1.21)\n",
      "  aout[:] = out\n"
     ]
    }
   ],
   "source": [
    "# write modelgrid to get updated row and col numbers specific to the child grid\n",
    "# m.modelgrid.write_shapefile(gwfm_dir+'/DIS_data/streambed_seepage/1D_grid/1D_grid.shp')\n",
    "grid_p = gpd.read_file(gwfm_dir+'/DIS_data/streambed_seepage/1D_grid/1D_grid.shp')\n",
    "# grid_p.crs = 'epsg:32610'\n",
    "# convert to 0 based\n",
    "grid_p[['node','row','column']] -=1"
   ]
  },
  {
   "cell_type": "code",
   "execution_count": 404,
   "id": "db043bbb",
   "metadata": {},
   "outputs": [
    {
     "data": {
      "image/png": "[encoded data removed]",
      "text/plain": [
       "<Figure size 432x288 with 1 Axes>"
      ]
     },
     "metadata": {
      "needs_background": "light"
     },
     "output_type": "display_data"
    }
   ],
   "source": [
    "xs_all.dissolve('xs_num','max').z_m.plot()\n",
    "xs_all.dissolve('xs_num','mean').z_m.plot()\n",
    "xs_all.dissolve('xs_num','min').z_m.plot()\n",
    "# max seems to high, switching to mean\n",
    "top = np.reshape(xs_all.dissolve('xs_num','mean').z_m.values, (nrow,ncol))\n",
    "\n",
    "bot = top - 30 # interested in unsaturated zone (~20m, 65 ft thick)\n",
    "bot[0,:] = pd.Series(bot[0,:]).rolling(5, center=True).mean().ffill().bfill().values\n",
    "\n",
    "\n",
    "m.dis.top = top\n",
    "m.dis.botm = bot"
   ]
  },
  {
   "cell_type": "code",
   "execution_count": 405,
   "id": "23d03070",
   "metadata": {},
   "outputs": [],
   "source": [
    "m.dis.write_file()"
   ]
  },
  {
   "cell_type": "markdown",
   "id": "40a29bdb",
   "metadata": {},
   "source": [
    "# SFR\n",
    " XS data was sampled every 100 m going downstream\n",
    " THTS, THTI, EPS are activated ISFROPT = 2,3\n",
    " UHC (unsat hydraulic conductivity) is activated when ISFROPT = 3 (unsat zone active and specify UHC)\n",
    " \n",
    "SFR2: NSTRM NSS NSFRPAR NPARSEG CONST DLEAK ISTCB1 ISTCB2 {ISFROPT} {NSTRAIL} {ISUZN} {NSFRSETS} {IRTFLG} {NUMTIM} {WEIGHT}{FLWTOL}\n",
    "DFW: NSEG NRCH CONST ISTCB1 ISTCB2 ISFROPT\n",
    " \n",
    "SFR2: KRCH IRCH JRCH ISEG IREACH RCHLEN STRTOP SLOPE STRTHICK STRHC1 THTS THTI EPS UHC  \n",
    "DFW:  KRCH IRCH JRCH ISEG IREACH RCHLEN STRTOP SLOPE STRTHICK UHC THTS THTI THTR  \n",
    "I can make flopy cheat to write the DFW file by replacing EPS with THTR and specifying ISFROPT = 2, and STRHC1 replaces UHC \n",
    "\n",
    "Once dfw is written out, I need to switch ISFROPT from 2 to 1, and delete NSTRAIL (20) and NSFRSETS (30)"
   ]
  },
  {
   "cell_type": "code",
   "execution_count": 497,
   "id": "cb74b9bf",
   "metadata": {},
   "outputs": [],
   "source": [
    "# specify DFW or SFR2 (UZF) output\n",
    "DFW = False\n"
   ]
  },
  {
   "cell_type": "code",
   "execution_count": 495,
   "id": "7ec018f1",
   "metadata": {},
   "outputs": [],
   "source": [
    "# create summary of XS for creating SFR inputs\n",
    "xs_wide = xs_all.pivot_table(index='dist_from_right_m',values='z_m',columns='xs_num')\n",
    "thalweg_pts = xs_wide.idxmin().values.astype(int)\n",
    "xs_mins = xs_all.set_index(['dist_from_right_m','xs_num']).loc[list(zip(thalweg_pts, xs_wide.columns))]\n",
    "XSg_in = xs_mins.reset_index('dist_from_right_m')\n",
    "# XSg = xs_all.dissolve('xs_num', 'mean')\n",
    "# XSg_in = xs_all.loc[(xs_all.dist_from_right_m==100).values,:].set_index('xs_num').copy() # use center point for assigning segment data\n",
    "XSg_in['iseg'] = XSg_in.index + 1 # add the segment that corresponds to each cross section"
   ]
  },
  {
   "cell_type": "code",
   "execution_count": 408,
   "id": "6b4bf90d",
   "metadata": {},
   "outputs": [],
   "source": [
    "# There is one reach for each cell that a river crosses\n",
    "NSTRM = -len(XSg_in)\n",
    "# There should a be a stream segment if there are major changes\n",
    "# in variables in Item 4 or Item 6\n",
    "# 1st segment is for the usgs Michigan Bar rating curve, one for each XS, plus 2 for the floodplain diversion\n",
    "NSS = len(XSg_in) \n",
    "# NSS = 2\n",
    "# nparseg (int) number of stream-segment definition with all parameters, must be zero when nstrm is negative\n",
    "NPARSEG = 0\n",
    "CONST = 60 # mannings constant for SI units, 1.0 for seconds, 86400 for days, 60 for minutes\n",
    "# real value equal to the tolerance of stream depth used in\n",
    "# computing leakage between each stream reach and active model cell\n",
    "DLEAK = 0.0001 # unit in lengths, 0.0001 is sufficient for units of meters\n",
    "IPAKCB = 55\n",
    "# writes out stream depth, width, conductance, gradient when cell by cell\n",
    "# budget is specified and istcb2 is the unit folder\n",
    "ISTCB2 = 54\n",
    "# isfropt = 1 is no unsat flow\n",
    "# specifies whether unsat flow beneath stream or not, isfropt 2 has properties read for each reach, isfropt 3 also has UHC\n",
    "# read for each reach, isfropt 4 has properties read for each segment (no UHC), 5 reads for each segment with UHC\n",
    "ISFROPT = 1\n",
    "# nstrail (int), number of trailing weave increments used to represent a trailing wave, used to represent a decrease \n",
    "# in the surface infiltration rate. Can be increased to improve mass balance, values between 10-20 work well with error \n",
    "# beneath streams ranging between 0.001 and 0.01 percent, default is 10 (only when isfropt >1)\n",
    "NSTRAIL = 20\n",
    "# isuzn (int) tells max number of vertical cells used to define the unsaturated zone beneath a stream reach (default is 1)\n",
    "ISUZN = 1\n",
    "#nsfrsets (int) is max number of different sets of trailing waves (used to allocate arrays), a value of 30 is sufficient for problems\n",
    "# where stream depth varies often, value doesn't effect run time (default is 30)\n",
    "NSFRSETS = 30\n",
    "# IRTFLG (int) indicates whether transient streamflow routing is active, must be specified if NSTRM <0. If IRTFLG >0 then\n",
    "# flow will be routed with the kinematic-wave equations, otherwise it should be 0 (only for MF2005), default is 1\n",
    "IRTFLG = 1\n",
    "# numtim (int) is number of sub time steps used to route streamflow. Streamflow time step = MF Time step / NUMTIM. \n",
    "# Default is 2, only when IRTFLG >0\n",
    "NUMTIM = 5\n",
    "# weight (float) is a weighting factor used to calculate change in channel storage 0.5 - 1 (default of 0.75) \n",
    "WEIGHT = 0.75\n",
    "# flwtol (float), flow tolerance, a value of 0.00003 m3/s has been used successfully (default of 0.0001)\n",
    "# 0.00003 m3/s = 2.592 m3/day = 0.001 cfs\n",
    "# a flow tolerance of 1 cfs is equal to 2446.57 m3/day\n",
    "# if my units are in m3/day then flwtol should be in m3/day\n",
    "FLWTOL = 0.00003*60\n",
    "\n",
    "extension = 'sfr'\n",
    "if DFW == True:\n",
    "    ISFROPT = 2\n",
    "    extension = 'dfw'\n",
    "\n",
    "sfr = flopy.modflow.ModflowSfr2(model = m, nstrm = NSTRM, nss = NSS, nparseg = NPARSEG, \n",
    "                           const = CONST, dleak = DLEAK, ipakcb = IPAKCB, istcb2 = ISTCB2, \n",
    "                          isfropt = ISFROPT, nstrail = NSTRAIL, isuzn = ISUZN, irtflg = IRTFLG, \n",
    "                          numtim = NUMTIM, weight = WEIGHT, flwtol = FLWTOL,\n",
    "                                reachinput=True, transroute=True, tabfiles=True,\n",
    "                                tabfiles_dict={1: {'numval': nper, 'inuit': 56}},\n",
    "                               extension = extension)"
   ]
  },
  {
   "cell_type": "code",
   "execution_count": 409,
   "id": "3f4e800f",
   "metadata": {},
   "outputs": [],
   "source": [
    "# Add option block at the top of the sfr input file for tabfiles\n",
    "tab_option = flopy.utils.OptionBlock(options_line = ' reachinput transroute tabfiles 1 ' + str(nper), package = sfr, block = True)\n",
    "sfr.options = tab_option\n",
    "# sfr.options"
   ]
  },
  {
   "cell_type": "code",
   "execution_count": 498,
   "id": "1113b30c",
   "metadata": {},
   "outputs": [],
   "source": [
    "# xs_sfr = grid_sfr.set_index('reach')\n",
    "# # set all reaches to start as segment 1 which will be changed iteratively based on the number of cross-sections\n",
    "# xs_sfr['iseg'] = 1\n",
    "# # add a column reach_new that will be changed iteratively as the segment number is changed\n",
    "# xs_sfr['reach_new'] = xs_sfr.index\n",
    "# # xs_sfr\n",
    "xs_strt = 1 # specify is XS start at 0 or after rating curve\n",
    "\n",
    "XSg_in['reach'] = 1\n",
    "XSg_in['column'] = XSg_in.index\n",
    "XSg_in['row'] = 0\n",
    "XSg_in['layer'] = 0\n",
    "\n",
    "XSg_in['node'] = grid_p.set_index(['row','column']).loc[list(zip(XSg_in.row, XSg_in.column))].node.values\n"
   ]
  },
  {
   "cell_type": "code",
   "execution_count": 610,
   "id": "d1bc7828",
   "metadata": {},
   "outputs": [
    {
     "name": "stderr",
     "output_type": "stream",
     "text": [
      "C:\\Users\\ajcalder\\Anaconda3\\envs\\geosp\\lib\\site-packages\\geopandas\\_vectorized.py:786: DeprecationWarning: An exception was ignored while fetching the attribute `__array_interface__` from an object of type 'Polygon'.  With the exception of `AttributeError` NumPy will always raise this exception in the future.  Raise this deprecation warning to see the original exception. (Warning added NumPy 1.21)\n",
      "  out[:] = [\n",
      "C:\\Users\\ajcalder\\Anaconda3\\envs\\geosp\\lib\\site-packages\\geopandas\\_vectorized.py:786: DeprecationWarning: An exception was ignored while fetching the attribute `__array_interface__` from an object of type 'Polygon'.  With the exception of `AttributeError` NumPy will always raise this exception in the future.  Raise this deprecation warning to see the original exception. (Warning added NumPy 1.21)\n",
      "  out[:] = [\n",
      "C:\\Users\\ajcalder\\Anaconda3\\envs\\geosp\\lib\\site-packages\\geopandas\\_vectorized.py:786: DeprecationWarning: An exception was ignored while fetching the attribute `__array_interface__` from an object of type 'Polygon'.  With the exception of `AttributeError` NumPy will always raise this exception in the future.  Raise this deprecation warning to see the original exception. (Warning added NumPy 1.21)\n",
      "  out[:] = [\n",
      "C:\\Users\\ajcalder\\Anaconda3\\envs\\geosp\\lib\\site-packages\\geopandas\\_vectorized.py:786: DeprecationWarning: An exception was ignored while fetching the attribute `__array_interface__` from an object of type 'Polygon'.  With the exception of `AttributeError` NumPy will always raise this exception in the future.  Raise this deprecation warning to see the original exception. (Warning added NumPy 1.21)\n",
      "  out[:] = [\n",
      "C:\\Users\\ajcalder\\Anaconda3\\envs\\geosp\\lib\\site-packages\\geopandas\\_vectorized.py:786: DeprecationWarning: An exception was ignored while fetching the attribute `__array_interface__` from an object of type 'Polygon'.  With the exception of `AttributeError` NumPy will always raise this exception in the future.  Raise this deprecation warning to see the original exception. (Warning added NumPy 1.21)\n",
      "  out[:] = [\n",
      "C:\\Users\\ajcalder\\Anaconda3\\envs\\geosp\\lib\\site-packages\\geopandas\\_vectorized.py:786: DeprecationWarning: An exception was ignored while fetching the attribute `__array_interface__` from an object of type 'Polygon'.  With the exception of `AttributeError` NumPy will always raise this exception in the future.  Raise this deprecation warning to see the original exception. (Warning added NumPy 1.21)\n",
      "  out[:] = [\n",
      "C:\\Users\\ajcalder\\Anaconda3\\envs\\geosp\\lib\\site-packages\\geopandas\\_vectorized.py:142: DeprecationWarning: An exception was ignored while fetching the attribute `__array_interface__` from an object of type 'Polygon'.  With the exception of `AttributeError` NumPy will always raise this exception in the future.  Raise this deprecation warning to see the original exception. (Warning added NumPy 1.21)\n",
      "  aout[:] = out\n",
      "C:\\Users\\ajcalder\\Anaconda3\\envs\\geosp\\lib\\site-packages\\geopandas\\_vectorized.py:142: DeprecationWarning: An exception was ignored while fetching the attribute `__array_interface__` from an object of type 'Polygon'.  With the exception of `AttributeError` NumPy will always raise this exception in the future.  Raise this deprecation warning to see the original exception. (Warning added NumPy 1.21)\n",
      "  aout[:] = out\n",
      "C:\\Users\\ajcalder\\Anaconda3\\envs\\geosp\\lib\\site-packages\\geopandas\\_vectorized.py:142: DeprecationWarning: An exception was ignored while fetching the attribute `__array_interface__` from an object of type 'Polygon'.  With the exception of `AttributeError` NumPy will always raise this exception in the future.  Raise this deprecation warning to see the original exception. (Warning added NumPy 1.21)\n",
      "  aout[:] = out\n",
      "C:\\Users\\ajcalder\\Anaconda3\\envs\\geosp\\lib\\site-packages\\geopandas\\_vectorized.py:142: DeprecationWarning: An exception was ignored while fetching the attribute `__array_interface__` from an object of type 'Polygon'.  With the exception of `AttributeError` NumPy will always raise this exception in the future.  Raise this deprecation warning to see the original exception. (Warning added NumPy 1.21)\n",
      "  aout[:] = out\n",
      "C:\\Users\\ajcalder\\Anaconda3\\envs\\geosp\\lib\\site-packages\\geopandas\\_vectorized.py:142: DeprecationWarning: An exception was ignored while fetching the attribute `__array_interface__` from an object of type 'Polygon'.  With the exception of `AttributeError` NumPy will always raise this exception in the future.  Raise this deprecation warning to see the original exception. (Warning added NumPy 1.21)\n",
      "  aout[:] = out\n",
      "C:\\Users\\ajcalder\\Anaconda3\\envs\\geosp\\lib\\site-packages\\geopandas\\_vectorized.py:142: DeprecationWarning: An exception was ignored while fetching the attribute `__array_interface__` from an object of type 'Polygon'.  With the exception of `AttributeError` NumPy will always raise this exception in the future.  Raise this deprecation warning to see the original exception. (Warning added NumPy 1.21)\n",
      "  aout[:] = out\n"
     ]
    }
   ],
   "source": [
    "rm_poly = rm_teichert.copy()\n",
    "# buffer sensor points for joining, should update to a nearest join rather than manual setting to 55\n",
    "rm_poly.geometry = rm_poly.geometry.buffer(55)\n",
    "# correspond XS to sensors\n",
    "XSg = gpd.sjoin(XSg_in.copy(), rm_poly.copy(), how='left', op='intersects')\n",
    "# keep only sensors in final\n",
    "rm_xs = XSg.dropna(subset=['Sensor']).copy()\n",
    "\n",
    "# use MCC to set downstream parameters\n",
    "mcc_sp = rm_teichert[rm_teichert.Sensor=='MCC'].copy()\n",
    "# set last XS to be filled with values upstream from McConnell gage even though not directly used\n",
    "XSg.loc[XSg.index.max(), mcc_sp.columns]  = mcc_sp.values[0]"
   ]
  },
  {
   "cell_type": "code",
   "execution_count": 549,
   "id": "4b95d076",
   "metadata": {},
   "outputs": [],
   "source": [
    "# save XSg structure for when iterating over parameters\n",
    "sensor_dict = XSg[['iseg','reach','Sensor']].bfill()\n",
    "sensor_dict.to_csv(join(model_ws,'sensor_xs_dict.csv'))"
   ]
  },
  {
   "cell_type": "code",
   "execution_count": 569,
   "id": "8e2300d4",
   "metadata": {},
   "outputs": [
    {
     "data": {
      "text/plain": [
       "<AxesSubplot:xlabel='xs_num'>"
      ]
     },
     "execution_count": 569,
     "metadata": {},
     "output_type": "execute_result"
    },
    {
     "data": {
      "image/png": "[encoded data removed]",
      "text/plain": [
       "<Figure size 432x288 with 1 Axes>"
      ]
     },
     "metadata": {
      "needs_background": "light"
     },
     "output_type": "display_data"
    }
   ],
   "source": [
    "# find minimum value in XS related to thalweg\n",
    "XSg['z_m_min'] = xs_all.dissolve('xs_num','min').z_m\n",
    "#roling mean of 6 window centered removes any negative slope\n",
    "XSg['z_m_min_cln'] = XSg.z_m_min.rolling(6,center=False).mean()\n",
    "\n",
    "# calculate slope and fill NAs, fill slope with nearby\n",
    "z_cln_diff = XSg.z_m_min_cln.diff().bfill()\n",
    "XSg['slope'] = z_cln_diff.abs()/delr\n",
    "# correct slope less than 1E-4\n",
    "XSg.loc[XSg.slope<1E-4,'slope'] = 1E-4\n",
    "\n",
    "# fix str bot so all is downward sloping\n",
    "for i in np.arange(len(XSg)-1,-1,-1):\n",
    "#     if XSg.z_m.values[i] >= XSg.z_m.values[i-1]:\n",
    "#         XSg.z_m_min.values[i] = XSg.z_m_min.values[i-1] - XSg.slope.values[i]*delc\n",
    "# fill NAs due to rolling mean\n",
    "    if XSg.z_m_min_cln.isna()[i]:\n",
    "        XSg.z_m_min_cln.values[i] = XSg.z_m_min_cln.values[i + 1] + XSg.slope.values[i]*delr\n",
    "\n",
    "        \n",
    "# plot, large spike in top elevation causes discontinuity\n",
    "# plt.plot(m.dis.top.array[0,:])\n",
    "# plt.plot(m.dis.botm.array[0,0,:])\n",
    "\n",
    "XSg.z_m_min_cln.plot()\n",
    "XSg.z_m_min.plot()\n",
    "# XSg.slope.plot(secondary_y = True)"
   ]
  },
  {
   "cell_type": "code",
   "execution_count": 571,
   "id": "fc0169c3",
   "metadata": {},
   "outputs": [],
   "source": [
    "# fill upstream with parameters from sensors\n",
    "pcols= ['strhc1', 'strthick', 'thts','thti','eps','uhc','thtr', 'roughch','roughbk']\n",
    "XSg[pcols] = XSg[pcols].bfill()\n",
    "\n",
    "XSg.to_csv(join(model_ws,'04_XSg_filled.csv'))"
   ]
  },
  {
   "cell_type": "code",
   "execution_count": 583,
   "id": "479c36bc",
   "metadata": {},
   "outputs": [],
   "source": [
    "# KRCH, IRCH, JRCH, ISEG, IREACH, RCHLEN, STRTOP, SLOPE, STRTHICK, STRHC1, THTS, THTI, EPS, UHC\n",
    "\n",
    "columns = ['KRCH', 'IRCH', 'JRCH', 'ISEG', 'IREACH', 'RCHLEN', 'STRTOP', \n",
    "               'SLOPE', 'STRTHICK', 'STRHC1', 'THTS', 'THTI', 'EPS', 'UHC']\n",
    "\n",
    "sfr.reach_data.node = XSg.node\n",
    "sfr.reach_data.k = XSg.layer.astype(int)\n",
    "sfr.reach_data.i = XSg.row\n",
    "sfr.reach_data.j = XSg.column\n",
    "sfr.reach_data.iseg = XSg.iseg - 1 + xs_strt\n",
    "sfr.reach_data.ireach = XSg.reach\n",
    "sfr.reach_data.rchlen = delr\n",
    "sfr.reach_data.strtop = XSg.z_m_min_cln\n",
    "sfr.reach_data.slope = XSg.slope\n",
    " # a guess of 2 meters thick streambed was appropriate\n",
    "sfr.reach_data.strthick = XSg.strthick\n",
    "\n",
    "sfr.reach_data.strhc1 = XSg.strhc1/(24*60) # start with low conductivity 10 m/day (sandy muddish) to m/min\n",
    "\n",
    "# UZF parameters\n",
    "sfr.reach_data.thts = XSg.thts\n",
    "sfr.reach_data.thti = XSg.thti # partially saturated initially\n",
    "sfr.reach_data.eps = XSg.eps\n",
    "sfr.reach_data.uhc = XSg.uhc/(24*60)\n",
    "\n",
    "if DFW == True:\n",
    "    # use eps/strhc1 to write out THTR/uhc when DFW is written\n",
    "    sfr.reach_data.eps = XSg.thtr\n",
    "    sfr.reach_data.strhc1 = XSg.uhc/(24*60) # start with low conductivity 10 m/day (sandy muddish) to m/min\n"
   ]
  },
  {
   "cell_type": "code",
   "execution_count": 584,
   "id": "305b8e24",
   "metadata": {},
   "outputs": [],
   "source": [
    "mb4rl = pd.read_csv(sfr_dir+'/michigan_bar_icalc4_data.csv', skiprows = 0, sep = ',')\n"
   ]
  },
  {
   "cell_type": "code",
   "execution_count": 585,
   "id": "5c16b480",
   "metadata": {},
   "outputs": [],
   "source": [
    "\n",
    "sfr_seg = sfr.segment_data[0].copy()\n",
    "# start at 0 for XS at Teichert\n",
    "sfr_seg.nseg = np.arange(xs_strt,NSS+xs_strt)\n",
    "\n",
    "sfr_seg.icalc = 2 # Mannings and 8 point channel XS is 2 with plain MF, 5 with SAFE\n",
    "# sfr_seg.icalc = 4 # Mannings and 8 point channel XS is 2 with plain MF, 5 with SAFE\n",
    "# sfr_seg.icalc[0] = 4 # use stage, discharge width method for Michigan Bar (nseg=1)\n",
    "# sfr_seg.nstrpts[sfr_seg.icalc==4] = 50 # specify number of points used for flow calcs\n",
    "\n",
    "sfr_seg.outseg = sfr_seg.nseg+1 # the outsegment will typically be the next segment in the sequence\n",
    "sfr_seg.outseg[-1] = 0 # final segment goes to nothing\n",
    "sfr_seg.iupseg = 0 # iupseg is zero for no diversion\n"
   ]
  },
  {
   "cell_type": "markdown",
   "id": "c09ac6e9",
   "metadata": {},
   "source": [
    "I need to validate the PPT and water body ET are low numbers. I can neglect runoff for the Teichert property because the channel has levees so the only runoff would come from PPT directly into the channel or banks."
   ]
  },
  {
   "cell_type": "code",
   "execution_count": 586,
   "id": "051057a1",
   "metadata": {},
   "outputs": [
    {
     "data": {
      "text/plain": [
       "<AxesSubplot:xlabel='Date'>"
      ]
     },
     "execution_count": 586,
     "metadata": {},
     "output_type": "execute_result"
    },
    {
     "data": {
      "image/png": "[encoded data removed]",
      "text/plain": [
       "<Figure size 432x288 with 1 Axes>"
      ]
     },
     "metadata": {
      "needs_background": "light"
     },
     "output_type": "display_data"
    }
   ],
   "source": [
    "cimis = pd.read_csv(proj_dir+'/cimis_daily_all_sensors_2019_2022.csv', parse_dates= ['Date'])\n",
    "cimis = cimis[['Date','ETo (mm)', 'Precip (mm)']].set_index('Date')\n",
    "cimis = cimis[(cimis.index>strt_date)&(cimis.index<end_date)]\n",
    "# strt_date\n",
    "cimis.plot()"
   ]
  },
  {
   "cell_type": "code",
   "execution_count": 587,
   "id": "d99fd113",
   "metadata": {},
   "outputs": [],
   "source": [
    "# set a flow into segment 1 for the steady state model run\n",
    "sfr_seg.flow[0] = 2.834*60. # m3/min, originally 15 m3/s\n",
    "# set the values for ET, runoff and PPT to 0 as the inflow will be small relative to the flow in the river\n",
    "sfr_seg.runoff = 0.0\n",
    "sfr_seg.etsw = 0.0\n",
    "sfr_seg.pptsw = 0.0\n",
    "\n",
    "# Manning's n data comes from Barnes 1967 UGSS Paper 1849 and USGS 1989 report on selecting manning's n\n",
    "# RoughCH is only specified for icalc = 1 or 2\n",
    "sfr_seg.roughch[(sfr_seg.icalc==1) | (sfr_seg.icalc==2)] = XSg.roughch[(sfr_seg.icalc==1) | (sfr_seg.icalc==2)].values\n",
    "# ROUGHBK is only specified for icalc = 2\n",
    "sfr_seg.roughbk[(sfr_seg.icalc==2)] = XSg.roughbk[(sfr_seg.icalc==2)].values # 0.035 higher due to vegetation"
   ]
  },
  {
   "cell_type": "code",
   "execution_count": 588,
   "id": "c49207f8",
   "metadata": {},
   "outputs": [],
   "source": [
    "sfr.segment_data[0] = sfr_seg"
   ]
  },
  {
   "cell_type": "code",
   "execution_count": 589,
   "id": "4541d379",
   "metadata": {},
   "outputs": [],
   "source": [
    "# Pull out data for upstream and downstream reach of each segment\n",
    "XSup = XSg.dissolve('iseg','first')\n",
    "XSdn = XSg.dissolve('iseg','last')\n",
    "\n",
    "# Need to return to later and remove hard coding\n",
    "# These are getting used for initial guesses\n",
    "# Read in first stress period when ICALC = 1 or 2 and ISFROPT is 5\n",
    "# Dataset 6b\n",
    "sfr.segment_data[0].hcond1 = XSup.strhc1/(24*60)\n",
    "sfr.segment_data[0].thickm1 = XSup.strthick\n",
    "sfr.segment_data[0].elevup = XSup.z_m_min_cln.values\n",
    "sfr.segment_data[0].width1 = 100\n",
    "sfr.segment_data[0].depth1 = 1\n",
    "sfr.segment_data[0].thts1 = XSup.thts\n",
    "sfr.segment_data[0].thti1 = XSup.thti\n",
    "sfr.segment_data[0].eps1 = XSup.eps\n",
    "sfr.segment_data[0].uhc1 = XSup.uhc/(24*60)\n",
    "\n",
    "# Dataset 6c\n",
    "sfr.segment_data[0].hcond2 = XSdn.strhc1/(24*60)\n",
    "sfr.segment_data[0].thickm2 = XSdn.strthick\n",
    "sfr.segment_data[0].elevdn = XSdn.z_m_min_cln.values\n",
    "sfr.segment_data[0].width2 = 100\n",
    "sfr.segment_data[0].depth2 = 1\n",
    "sfr.segment_data[0].thts2 = XSdn.thts\n",
    "sfr.segment_data[0].thti2 = XSdn.thti\n",
    "sfr.segment_data[0].eps2 = XSdn.eps\n",
    "sfr.segment_data[0].uhc2 = XSdn.uhc/(24*60)\n"
   ]
  },
  {
   "cell_type": "code",
   "execution_count": 590,
   "id": "02cbba4e",
   "metadata": {},
   "outputs": [
    {
     "name": "stdout",
     "output_type": "stream",
     "text": [
      "NA with elev at 199:  0 . NA without 199:  0\n"
     ]
    }
   ],
   "source": [
    "print('NA with elev at 199: ', xs_all_df.isna().sum().sum(), '. NA without 199: ',xs_all_df.iloc[:-1].isna().sum().sum())\n",
    "# Shanafield said that you can have more than 8 pts in a XS\n",
    "# XS8pt = xs_all_df.iloc[:-1]"
   ]
  },
  {
   "cell_type": "markdown",
   "id": "e7a4973b",
   "metadata": {},
   "source": [
    "Need to reduce to 8 point XS for method as is or pre - calculate flow, depth and width relation with mannings which may be better since I can decide when to use different mannings n  \n",
    "GWF2SFR7FLW - 8-point cross-section module"
   ]
  },
  {
   "cell_type": "markdown",
   "id": "ade5e421",
   "metadata": {},
   "source": [
    "# Mannings equation\n",
    "The assumption of levee setback is that as the setback distance increases so does the wetted xs perimeter which increases the hydraulic radius (there is more roughness impacting the water) so the velocity will be lower. This analysis is independent of varying geology, and river reach under the assumption that any recontoured reach would undergo restoration resulting in similar reach rougnesses of the floodplain (small bushes, trees). And it will assume the existing average bed slope of the lower Cosumnes river applies.  \n",
    "\n",
    "$ Q = VA = (\\frac{1.00}{n}) A  {R}^{2/3} \\sqrt{S} $  \n",
    "$ R = \\frac{A}{Wp}$  \n",
    "hydraulic radius r is XS area divided by wetted perimeter  \n",
    "[Manning's eqn reference](http://www.fsl.orst.edu/geowater/FX3/help/8_Hydraulic_Reference/Manning_s_Equation.htm)  \n",
    "Avg manning's n for in channel is 0.048  - clean, winding, some pools and shoals, but some weeds and stones, lower stages, more ineffective, slopes and sections\n",
    "Floodplains have much broader range, due to variability in vegetation type: tall grass is 0.035 but dense willows is 0.15  \n",
    "[Manning's n reference](http://www.fsl.orst.edu/geowater/FX3/help/8_Hydraulic_Reference/Mannings_n_Tables.htm)  \n",
    "\n",
    "Slope for Cosumnes could be considered the 0.0006 which is the mean for all reaches"
   ]
  },
  {
   "cell_type": "code",
   "execution_count": 602,
   "id": "39b12c4c",
   "metadata": {},
   "outputs": [],
   "source": [
    "def mannings_tab(xs_elevs, n=0.048, S= 0.001):\n",
    "    \"\"\" Given a depth (m) , XS (m by m), n and S returns discharge in cubic meters per second\"\"\"\n",
    "    Q = np.zeros(50)\n",
    "    width = np.zeros(50)\n",
    "    V = np.zeros(50)\n",
    "    d_tab = np.geomspace(0.1, xs_elevs.max()-xs_elevs.min(),50)\n",
    "\n",
    "    for x, d in enumerate(d_tab):\n",
    "        # d = np.linspace(0, xs_elevs.max()-xs_elevs.min(),50)\n",
    "\n",
    "        wse = xs_elevs.min()+d\n",
    "        xs_wet = wse - xs_elevs\n",
    "\n",
    "\n",
    "        xs_wet[xs_wet < 0] = 0\n",
    "        width[x] = (xs_wet>0).sum()\n",
    "        # multiply by 1m to get area and sum for area\n",
    "        A = xs_wet.sum() * 1\n",
    "        # calculate wetted perimeter\n",
    "        xy = xs_elevs[wse - xs_elevs > 0]\n",
    "        Wp = np.sum(np.sqrt(np.diff(xy.values)**2 + np.diff(xy.index.values)**2))\n",
    "        Q[x] = (np.sqrt(S)/n) * (A**(5/3)) / (Wp**(2/3))\n",
    "        V[x] = Q[x]/A\n",
    "\n",
    "    return(Q, d_tab, width, V)\n",
    "\n",
    "# channel_flow = {0: {1:[] }}\n",
    "# # flow must increase\n",
    "# # ICALC4 can't have unsaturated zone flow\n",
    "# for i in XSg.index:\n",
    "#     # output is cubic meters per second\n",
    "#     # model needs cubic meters per minute\n",
    "#     FLOWTAB, DPTHTAB, WDTHTAB, V = mannings_tab(XS8pt.iloc[:,i], n= 0.025, S = XSg.slope[i])\n",
    "#     channel_flow[0][i+1] = [FLOWTAB*60, DPTHTAB, WDTHTAB]\n",
    "    \n",
    "# # DPTHTAB = mb4rl.gage_height_va.values\n",
    "# # WDTHTAB = mb4rl.chan_width.values\n",
    "# # sfr.channel_flow_data = channel_flow"
   ]
  },
  {
   "cell_type": "code",
   "execution_count": 605,
   "id": "ff5be851",
   "metadata": {},
   "outputs": [],
   "source": [
    "import sys\n",
    "py_fxn_dir = doc_dir+'/GitHub/CosumnesRiverRecharge/python_utilities'\n",
    "if py_fxn_dir not in sys.path:\n",
    "    sys.path.append(py_fxn_dir)\n",
    "from muskingum_recharge import mannings"
   ]
  },
  {
   "cell_type": "code",
   "execution_count": 606,
   "id": "eb79a91b",
   "metadata": {},
   "outputs": [
    {
     "data": {
      "text/plain": [
       "1887.4196909636253"
      ]
     },
     "execution_count": 606,
     "metadata": {},
     "output_type": "execute_result"
    }
   ],
   "source": [
    "i=0 \n",
    "mannings(1, XS8pt.iloc[:,i], n= 0.025, S = XSg.slope[i])"
   ]
  },
  {
   "cell_type": "code",
   "execution_count": 592,
   "id": "acb7b639",
   "metadata": {},
   "outputs": [],
   "source": [
    "# i=0\n",
    "# FLOWTAB, DPTHTAB, WDTHTAB, V = mannings(XS8pt.iloc[:,i], n= 0.025, S = XSg.slope[i])\n",
    "# plt.plot(DPTHTAB, FLOWTAB/(0.3048**3))\n",
    "# plt.show()"
   ]
  },
  {
   "cell_type": "code",
   "execution_count": 593,
   "id": "1f5a38e8",
   "metadata": {},
   "outputs": [],
   "source": [
    "# Change column name to float type for easier referencing in iteration\n",
    "# XS8pt.columns = XS8pt.columns.astype('float')\n",
    "# XS8pt\n",
    "# must start at 0 if only at teichert\n",
    "xsnum = 1\n",
    "\n",
    "# Pre-create dictionary to be filled in loop\n",
    "sfr.channel_geometry_data = {0:{j:[] for j in np.arange(xsnum,len(XSg)+xsnum)}  }\n",
    "\n",
    "\n",
    "for k in XSg.index:\n",
    "        XCPT = XS8pt.loc[k].dist_from_right_m.values # old XS8pt[k].index\n",
    "        ZCPT = XS8pt.loc[k].z_m.values # old XS8pt[k].values\n",
    "        ZCPT_min = np.min(ZCPT)\n",
    "        ZCPT-= ZCPT_min\n",
    "        sfr.channel_geometry_data[0][xsnum] = [XCPT, ZCPT]\n",
    "        xsnum += 1\n",
    "\n"
   ]
  },
  {
   "cell_type": "code",
   "execution_count": 594,
   "id": "b4e2522a",
   "metadata": {},
   "outputs": [],
   "source": [
    "# FLOWTAB = mb4rl.discharge_va.values\n",
    "# DPTHTAB = mb4rl.gage_height_va.values\n",
    "# WDTHTAB = mb4rl.chan_width.values\n",
    "# sfr.channel_flow_data = {0: {1: [FLOWTAB, DPTHTAB, WDTHTAB]}}"
   ]
  },
  {
   "cell_type": "code",
   "execution_count": 598,
   "id": "7de332d1",
   "metadata": {},
   "outputs": [],
   "source": [
    "# sfr.check()\n",
    "sfr.write_file()"
   ]
  },
  {
   "cell_type": "code",
   "execution_count": 596,
   "id": "dafcd28b",
   "metadata": {},
   "outputs": [],
   "source": [
    "# For the tab files the left column is time (in model units) and the right column is flow (model units)\n",
    "# Time is days, flow is cubic meters per day\n",
    "# USGS presents flow in cfs (cubic feet per second)\n",
    "# inflow = pd.read_csv(sfr_dir+'MB_daily_flow_cfs_2010_2019.csv', index_col = 'datetime', parse_dates = True)\n",
    "# filter out data between the stress period dates\n",
    "# inflow = inflow.loc[strt_date:end_date]\n",
    "\n",
    "# covnert flow from cubic feet per second to cubic meters per day\n",
    "inflow = mb_15min_sim.copy()\n",
    "inflow['flow_cmm'] = inflow.Discharge_cfs * (60*(0.3048**3))\n",
    "\n",
    "# get time of each flow starting\n",
    "time_mins = (inflow.index- inflow.index[0]).values.astype(float)/(60*1E9)+1\n",
    "# time_flow = np.vstack((np.arange(1,len(inflow.flow_cmm)+1),inflow.flow_cmm)) # by days\n",
    "time_flow = np.vstack((time_mins, inflow.flow_cmm))\n",
    "\n",
    "time_flow = np.transpose(time_flow)\n",
    "# add a first row to account for the steady state stress period\n",
    "# median instead of mean because of too much influence from large values\n",
    "time_flow = np.row_stack(([0, inflow.flow_cmm.median()], time_flow))\n",
    "\n",
    "np.savetxt(model_ws+'/MF.tab',time_flow, delimiter = '\\t')"
   ]
  },
  {
   "cell_type": "code",
   "execution_count": 597,
   "id": "e8f4b215",
   "metadata": {},
   "outputs": [],
   "source": [
    "if DFW== True:\n",
    "    os.rename(model_ws+'/'+m.name+'.sfr', model_ws+'/'+m.name+'.dfw')\n",
    "    print('SFR renamed to DFW')"
   ]
  },
  {
   "cell_type": "code",
   "execution_count": 432,
   "id": "56b9f158",
   "metadata": {},
   "outputs": [
    {
     "data": {
      "text/plain": [
       "Outside Package class"
      ]
     },
     "execution_count": 432,
     "metadata": {},
     "output_type": "execute_result"
    }
   ],
   "source": [
    "flopy.modflow.mfaddoutsidefile(model = m, name = 'DATA',extension = 'tab',unitnumber = 56)"
   ]
  },
  {
   "cell_type": "markdown",
   "id": "8279e78a",
   "metadata": {},
   "source": [
    "# Model discretization with SFR"
   ]
  },
  {
   "cell_type": "code",
   "execution_count": 433,
   "id": "82ff8921",
   "metadata": {},
   "outputs": [],
   "source": [
    "ibound = np.ones((nlay,nrow,ncol))\n",
    "# to maintain gw flow gradient that mimics ground surface slope shanafield used a CHD at up and down stream\n",
    "ibound[:,:,0] = -1\n",
    "ibound[:,:,-1] = -1\n",
    "\n",
    "#originally started heads 5 m below stream bottom but gw mound started connection in middle reaches\n",
    "strt = np.reshape(XSg.z_m_min.values, (nrow,ncol)) - 10 # start heads below the stream bottom\n",
    "\n"
   ]
  },
  {
   "cell_type": "code",
   "execution_count": 434,
   "id": "186301a0",
   "metadata": {},
   "outputs": [],
   "source": [
    "# ibound < 0 is constant head\n",
    "# ibound = 0 is inactive cell\n",
    "# ibound > 0 is active cell\n",
    "# strt is array of starting heads\n",
    "# add option: STOPERROR 0.01 to reduce percent error when OWHM stops model\n",
    "# if solver criteria are not met, the model will continue if model percent error is less than stoperror\n",
    "bas = flopy.modflow.ModflowBas(model = m, ibound=ibound, strt = strt, stoper = 0.1) #"
   ]
  },
  {
   "cell_type": "code",
   "execution_count": 369,
   "id": "ba9c32da",
   "metadata": {},
   "outputs": [],
   "source": [
    "# may have to manually add since it seems to overwrite\n",
    "# allows model to continue even if convergence fails\n",
    "# bas.options = bas.options +' NO_FAILED_CONVERGENCE_STOP'\n",
    "bas.write_file()"
   ]
  },
  {
   "cell_type": "code",
   "execution_count": 370,
   "id": "061a4c3c",
   "metadata": {},
   "outputs": [],
   "source": [
    "hk = np.zeros(m.dis.botm.shape)\n",
    "hk[:,:,:] = 10\n",
    "vka = 1\n",
    "sy = np.zeros(m.dis.botm.shape)\n",
    "sy[:,:,:] = 0.2\n",
    "ss = np.zeros(m.dis.botm.shape)\n",
    "ss[:,:,:] = 1E-4\n"
   ]
  },
  {
   "cell_type": "code",
   "execution_count": 371,
   "id": "70fc8da0",
   "metadata": {},
   "outputs": [],
   "source": [
    "# layvka 0 means vka is vert K, non zero means its the anisotropy ratio between horiz and vert\n",
    "layvka = 1\n",
    "\n",
    "# LAYTYP MUST BE GREATER THAN ZERO WHEN IUZFOPT IS 2\n",
    "# 0 is confined, >0 convertible, <0 convertible unless the THICKSTRT option is in effect\n",
    "# laytyp = np.ones(nlay)  \n",
    "# laytyp = np.zeros(nlay)\n",
    "# try making first 10 layers convertible/ unconfined, model crashes trying to convert wet/dry\n",
    "num_unconf = 1\n",
    "laytyp = np.append(np.ones(num_unconf), np.zeros(nlay-num_unconf))\n",
    "\n",
    "# Laywet must be 0 if laytyp is confined laywet = [1,1,1,1,1]\n",
    "laywet = np.zeros(len(laytyp))\n",
    "# laywet[laytyp==1] = 1\n",
    "laywet = 0 # flopy said laywet must be 0 for upw\n",
    "#ipakcb = 55 means cell-by-cell budget is saved because it is non zero (default is 53)\n",
    "\n",
    "# until upscaling is begun then vertical and horiz K are the same for TPROGS\n",
    "gel = flopy.modflow.ModflowUpw(model = m, hk =hk, layvka = layvka, vka = hk, sy=sy, \n",
    "#                                ss = storativity, storagecoefficient=True, \n",
    "                               ss=ss, \n",
    "                               laytyp=laytyp, laywet = laywet, ipakcb=55)\n",
    "\n",
    "# gel = flopy.modflow.ModflowLpf(model = m, hk =hk, layvka = layvka, vka = hk, sy=sy, \n",
    "# #                                ss = storativity, storagecoefficient=True, \n",
    "#                                ss=ss, \n",
    "#                                laytyp=laytyp, laywet = laywet, ipakcb=55)"
   ]
  },
  {
   "cell_type": "code",
   "execution_count": 372,
   "id": "3b30515b",
   "metadata": {},
   "outputs": [],
   "source": [
    "gel.write_file()"
   ]
  },
  {
   "cell_type": "markdown",
   "id": "ca361061",
   "metadata": {},
   "source": [
    "# Gage outflow\n",
    "Can set up files for each stream stage sensor or use the primary sfr/dfw out file\n",
    "numgage is total number of gages  \n",
    "gage_data (list, or array), includes 2 to 3 entries (LAKE -UNIT (OUTTYPE)) for each LAK entry  \n",
    "4 entries (GAGESEG, GAGERCH, UNIT, OUTTYPE) for each SFR package entry  \n",
    "OUTTYPE:\n",
    "1 Default values plus depth, width, and flow at midpoint.  \n",
    "2 Default values plus streambed conductance for the reach, head difference across streambed, and hydraulic gradient across streambed.  \n",
    "4 All of the above  \n"
   ]
  },
  {
   "cell_type": "code",
   "execution_count": 373,
   "id": "2ec8e118",
   "metadata": {},
   "outputs": [],
   "source": [
    "\n",
    "# values for Unit number and specify gage output type\n",
    "rm_xs['unit'] = 200 + rm_xs.iseg\n",
    "rm_xs['outtype'] = 4\n",
    "\n",
    "# rm_xs.to_file(proj_dir+ 'rm_xs/rm_xs.shp')"
   ]
  },
  {
   "cell_type": "code",
   "execution_count": 374,
   "id": "a2a627e7",
   "metadata": {},
   "outputs": [],
   "source": [
    "gage_data = rm_xs[['iseg','reach','unit', 'outtype']].values.tolist()\n",
    "gage_file = 'MF.gage'\n",
    "gag_out_files = 'MF_gage_' + rm_xs.iseg.astype(str) +'.go'\n",
    "gag = flopy.modflow.ModflowGage(model=m,numgage= len(gage_data),gage_data=gage_data,\n",
    "                                filenames =[gage_file]+gag_out_files.values.tolist())\n"
   ]
  },
  {
   "cell_type": "code",
   "execution_count": 375,
   "id": "13174f6f",
   "metadata": {},
   "outputs": [],
   "source": [
    "# gag.write_file()"
   ]
  },
  {
   "cell_type": "markdown",
   "id": "c9696aa9",
   "metadata": {},
   "source": [
    "# Output and Solver "
   ]
  },
  {
   "cell_type": "code",
   "execution_count": 376,
   "id": "97c8e405",
   "metadata": {},
   "outputs": [],
   "source": [
    "# Output control\n",
    "# default unit number for heads is 51, cell by cell is 53 and drawdown is 52\n",
    "# (0,0) is (stress period, time step)\n",
    "\n",
    "# For later model runs when all the data is needed to be saved\n",
    "spd = { (j,0): ['save head'] for j in np.arange(0,nper,1)}\n",
    "\n",
    "# get the first of each month to print the budget\n",
    "month_intervals = (pd.date_range(strt_date,end_date, freq=\"MS\")-strt_date).days\n",
    "\n",
    "for j in month_intervals:\n",
    "    spd[j,0] = ['save head','print budget']\n",
    "    \n",
    "oc = flopy.modflow.ModflowOc(model = m, stress_period_data = spd, compact = True)"
   ]
  },
  {
   "cell_type": "code",
   "execution_count": 377,
   "id": "6f188c06",
   "metadata": {},
   "outputs": [],
   "source": [
    "oc.write_file()"
   ]
  },
  {
   "cell_type": "code",
   "execution_count": 378,
   "id": "ffaedc14",
   "metadata": {},
   "outputs": [],
   "source": [
    "# Shanafield input for nWT\n",
    "#  MODFLOW2005 NWT Input File\n",
    "\n",
    "# HEADTOL FLUXTOL MAXITEROUT THICKFACT LINMETH IPRNWT IBOTAV OPTIONS [DBDTHETA] [DBDKAPPA] [DBDGAMMA] [MOMFACT] [BACKFLAG] [MAXBACKITER] [BACKTOL] [BACKREDUCE]\n",
    "# 1.0E-3 0.01 5000 0.001  2  1 1 SPECIFIED 0.80 0.0001 0.000  0.10 0  20 2.0 0.6  linmeth=1 (GMRES); =2 (xmd)     \n",
    "#[IACL][NORDER][LEVEL][NORTH][IREDSYS][RRCTOLS][IDROPTOL][EPSRN] [HCLOSEXMD][MXITERXMD]\n",
    "# 2 0 1 2 0 0.0 1 1 1.0E-3 7 1.0e-4      100 2  2  1.0e-9  20  4       XMD (faster results--6.7 seconds) \n",
    "\n",
    "\n",
    "# 1.0e-4 5.0e-4 500 0.001  2  1 1 0.70 0.0001 0.000  0.00 0  20 2.0 0.6  linmeth=1 (GMRES); =2 (xmd)  \n",
    "# 2 0 1 2 0 0.0 1 1 1.0E-3 7 1.0e-4     XMD (faster results--6.7 seconds)\n",
    "\n",
    "#  MODFLOW2005 NWT Input File\n",
    "# 1.0E-2 15.0 500 0.001  2  1 1 0.70 0.0001 0.000  0.00 0  20 2.0 0.6  linmeth=1 (GMRES); =2 (xmd)  \n",
    "# 2 0 8 2 0 0.0 1 1 1.0E-3 7 1.0e-4     XMD (faster results--6.7 seconds)"
   ]
  },
  {
   "cell_type": "code",
   "execution_count": 379,
   "id": "82f4765c",
   "metadata": {},
   "outputs": [],
   "source": [
    "nwt = flopy.modflow.ModflowNwt(model = m, headtol=1E-4, fluxtol=500, maxiterout=200, thickfact=1e-05, \n",
    "                               linmeth=1, iprnwt=1, ibotav=0, options='Specified', Continue=False)\n",
    "# continue = true causes issue with nwt read in\n",
    "nwt_dict = nwt.__dict__\n",
    "# nwt_dict\n",
    "# nwt_dict['headtol'] = 1E-3\n",
    "# nwt.__dict__ = nwt_dict\n",
    "# nwt.__dict__\n",
    "# nwt.write_file()"
   ]
  },
  {
   "cell_type": "code",
   "execution_count": 380,
   "id": "9924ecc7",
   "metadata": {},
   "outputs": [],
   "source": [
    "# load in parameters used by margaret shanafield for DFW\n",
    "nwt_ex = pd.read_csv(gwfm_dir+'Solvers/nwt_solver_input_from_dfw.csv', comment='#')\n",
    "nwt_ex['nwt_vars'] = nwt_ex.NWT_setting.str.lower()\n",
    "nwt_ex = nwt_ex.set_index('nwt_vars')\n",
    "nwt_ex = nwt_ex.dropna(axis=1, how='all')\n",
    "# nwt_ex.select_dtypes([float, int])\n",
    "\n",
    "for v in nwt_ex.index.values:\n",
    "    nwt_dict[v] = nwt_ex.loc[v,'First'].astype(nwt_ex.loc[v,'nwt_dtype'])"
   ]
  },
  {
   "cell_type": "code",
   "execution_count": 381,
   "id": "6c5f730f",
   "metadata": {},
   "outputs": [],
   "source": [
    "# set stricter standards to stop non-converge in routchan\n",
    "nwt_dict['fluxtol'] = 1E-4 \n",
    "nwt_dict['headtol'] = 1E-4\n",
    "# try increasing allowed iterations\n",
    "# nwt_dict['maxbackiter'] = 100\n",
    "# nwt_dict['maxitinner'] = 200\n",
    "# this seems to be the culprit!!!!! was set to 7 which was where all iterations were stopping??\n",
    "# may need to increase to 200 for non-convergence in flow routing\n",
    "nwt_dict['mxiterxmd'] = 50"
   ]
  },
  {
   "cell_type": "code",
   "execution_count": 382,
   "id": "2cc90aeb",
   "metadata": {},
   "outputs": [],
   "source": [
    "# update NWT sovler parameters\n",
    "nwt.__dict__ = nwt_dict\n",
    "\n",
    "nwt.write_file()"
   ]
  },
  {
   "cell_type": "code",
   "execution_count": 383,
   "id": "177ca9ca",
   "metadata": {},
   "outputs": [],
   "source": [
    "# nwt = flopy.modflow.ModflowNwt(model= m)\n",
    "# thickfact: portion of cell thickness used for smoothly adjusting storage and conductance coefficients to zero (default is 1e-5)\n",
    "# linmeth (linear method): 1 for GMRES and 2 for XMD (1 is default)\n",
    "# iprnwt: flag whether additional info about solver convergence will be printed to the main listing file (default is 0)\n",
    "# ibotav: flag whether corretion will be made to gw head relative to cell-bottom if surrounded by dry cells.\n",
    "# 1 = corrections and  0 = no correction (default is 0)\n",
    "# options: specify comlexity of solver. SIMPLE : default solver for linear models, MODERATE for moderately nonlinear models,\n",
    "# COMPLEX for highly nonlinear models (default is COMPLEX)\n",
    "# Continue: if model fails to converge during a time step it will continue to solve the next time step (default is False) \n",
    "# epsrn (XMD) is the drop tolerance for preconditioning (default is 1E-4)\n",
    "# hclosexmd (XMD) head closure criteria for inner (linear) iterations (default 1e-4)\n",
    "# headtol/flux tol are in m/day\n",
    "# solver = flopy.modflow.ModflowNwt(model = m, headtol=1E-4, fluxtol=500, maxiterout=200, thickfact=1e-05, \n",
    "#                                linmeth=1, iprnwt=1, ibotav=0, options='SPECIFIED', Continue=True,\n",
    "#                                maxbackiter=50, backtol=1.1, maxitinner=50, ilumethod=2, \n",
    "#                                levfill=5, stoptol=1e-10, msdr=15, iacl=2, norder=1, level=5, north=7, \n",
    "#                                iredsys=0, rrctols=0.0, idroptol=1, epsrn=0.0001, hclosexmd=0.0001, \n",
    "#                                mxiterxmd=50, extension='nwt', unitnumber=27)\n",
    "\n",
    "\n"
   ]
  },
  {
   "cell_type": "code",
   "execution_count": 384,
   "id": "6b52c5dd",
   "metadata": {},
   "outputs": [
    {
     "data": {
      "text/plain": [
       "['DIS', 'SFR', 'DATA', 'BAS6', 'UPW', 'GAGE', 'OC', 'NWT']"
      ]
     },
     "execution_count": 384,
     "metadata": {},
     "output_type": "execute_result"
    }
   ],
   "source": [
    "m.get_package_list()"
   ]
  },
  {
   "cell_type": "code",
   "execution_count": 385,
   "id": "1cd633db",
   "metadata": {},
   "outputs": [],
   "source": [
    "# sfr.check()\n",
    "# sfr.write_file()\n",
    "# m.dis.write_file()\n"
   ]
  },
  {
   "cell_type": "code",
   "execution_count": 386,
   "id": "49c38839",
   "metadata": {},
   "outputs": [],
   "source": [
    "m.write_input()"
   ]
  },
  {
   "cell_type": "code",
   "execution_count": null,
   "id": "7061a79e",
   "metadata": {},
   "outputs": [],
   "source": [
    "# m.write_name_file()"
   ]
  },
  {
   "cell_type": "markdown",
   "id": "020ba309",
   "metadata": {},
   "source": [
    "# UCODE input\n",
    "jif for gage output if using only absolute values (else need post-processor script to write file for jif)\n",
    "jtf for updating STRHC1, etc"
   ]
  },
  {
   "cell_type": "markdown",
   "id": "9b3cac40",
   "metadata": {},
   "source": [
    "Sensitivity Analysis:  \n",
    "Goal of SA is to run through all parameters for all segments to identify if parameters such as THTS, THTI, EPS.  \n",
    "For SFR2 when ISFROPT = 3 then UHC is used instead of strhc1.  \n",
    "For DFW, ISFROPT must equal 1 and formatting is slightly different  \n",
    "\n"
   ]
  },
  {
   "cell_type": "code",
   "execution_count": 191,
   "id": "142b3fd5",
   "metadata": {},
   "outputs": [],
   "source": [
    "# for num in np.arange(0, events.shape[0]):\n",
    "num = 0\n",
    "model_ws2 = proj_dir + 'data_'+str(num)\n",
    "\n",
    "strt_date = events.start[num]\n",
    "end_date = events.end[num]\n",
    "mb_sim = mb_15min[strt_date:end_date]\n",
    "\n",
    "# 15 minute stress periods with 5 min steps?\n",
    "dates = pd.date_range(strt_date, end_date, freq = '15min')\n",
    "# The number of periods is the number of dates \n",
    "# nper = len(dates)+1\n",
    "# perlen = np.append([1], np.full(nper-1, 15)) # correct version should be 15 minute periods\n",
    "# nstp = np.append([1], 3*np.ones(nper-1))\n",
    "\n",
    "nper = len(dates) # try without SS period, the few pre storm events act as burn in\n",
    "perlen = np.full(nper, 15) # no steady state period\n",
    "nstp = 3*np.ones(nper)\n",
    "\n",
    "# Steady or transient periods\n",
    "steady = np.zeros(nper)\n",
    "# steady[0] = 1 # first period is steady state, rest are transient\n",
    "steady = steady.astype('bool').tolist()\n",
    "\n",
    "# save data to Box because model run size will be small\n",
    "m2 = flopy.modflow.Modflow(modelname = 'MF', exe_name = 'mf-owhm', \n",
    "                          version = 'mfnwt', model_ws=model_ws2)\n",
    "#lenuni = 1 is in ft, lenuni = 2 is in meters\n",
    "# itmuni is time unit 5 = years, 4=days, 3 =hours, 2=minutes, 1=seconds\n",
    "dis2 = flopy.modflow.ModflowDis(nrow=nrow, ncol=ncol, \n",
    "                               nlay=nlay, delr=delr, delc=delc,\n",
    "                               model=m2, lenuni = 2, itmuni = 2, # in minutes because of SFR\n",
    "                               rotation=rotation, \n",
    "                              nper = nper, perlen=perlen, nstp=nstp, steady = steady,\n",
    "                              start_datetime = strt_date)\n",
    "\n",
    "sfr2 = flopy.modflow.ModflowSfr2(model = m2)\n",
    "sfr2 = sfr2.load(model_ws+'/MF.sfr', model = m2, nper = m.dis.nper)\n",
    "\n",
    "# covnert flow from cubic feet per second to cubic meters per day\n",
    "inflow = mb_15min_sim.copy()\n",
    "inflow['flow_cmm'] = inflow.Discharge_cfs * (60*(0.3048**3))\n",
    "\n",
    "# get time of each flow starting\n",
    "time_mins = (inflow.index- inflow.index[0]).values.astype(float)/(60*1E9)+1\n",
    "time_flow = np.transpose((time_mins, inflow.flow_cmm))\n",
    "# add a first row to account for the steady state stress period\n",
    "# median instead of mean because of too much influence from large values\n",
    "time_flow = np.row_stack(([0, inflow.flow_cmm.median()], time_flow))\n",
    "np.savetxt(model_ws2+'/MF.tab',time_flow, delimiter = '\\t')\n",
    "flopy.modflow.mfaddoutsidefile(model = m2, name = 'DATA',extension = 'tab',unitnumber = 56)\n",
    "\n",
    "# packages without changes\n",
    "upw2 = flopy.modflow.ModflowUpw.load(model_ws+'/MF.upw',model = m2)\n",
    "bas2 = flopy.modflow.ModflowBas.load(model_ws+'/MF.bas',model = m2)\n",
    "\n",
    "oc2 = flopy.modflow.ModflowOc.load(model_ws+'/MF.oc',model = m2)\n",
    "nwt2 = flopy.modflow.ModflowNwt.load(model_ws+'/MF.nwt',model = m2)\n",
    "\n",
    "# gag2 = flopy.modflow.ModflowGage.load(model_ws+'/Mf.gage', model = m2, nper = m2.dis.nper)"
   ]
  },
  {
   "cell_type": "code",
   "execution_count": 192,
   "id": "a398a995",
   "metadata": {},
   "outputs": [],
   "source": [
    "# m2.write_input()"
   ]
  },
  {
   "cell_type": "markdown",
   "id": "21e42e38",
   "metadata": {},
   "source": [
    "# Ucode flopy test"
   ]
  },
  {
   "cell_type": "code",
   "execution_count": 543,
   "id": "8b07ce8a",
   "metadata": {},
   "outputs": [],
   "source": [
    "m_ucode = flopy.modflow.Modflow.load('MF.nam', model_ws=model_ws, \n",
    "                                exe_name='mf-owhm', version='mfnwt')\n"
   ]
  },
  {
   "cell_type": "code",
   "execution_count": 581,
   "id": "a61aa992",
   "metadata": {},
   "outputs": [],
   "source": [
    "params_u = pd.read_csv(join(model_ws,'teichert_params.csv'),comment='#',engine='python')\n"
   ]
  },
  {
   "cell_type": "code",
   "execution_count": 582,
   "id": "d84fad0f",
   "metadata": {},
   "outputs": [],
   "source": [
    "# code for parameter estimation\n",
    "sensor_dict = pd.read_csv(join(model_ws, 'sensor_xs_dict.csv'))\n",
    "XS_params = sensor_dict.join(params_u.set_index('Sensor'), on='Sensor')\n",
    "# base sfr params\n",
    "sfr.reach_data.strthick = XS_params.strthick\n",
    "sfr.reach_data.strhc1 = XS_params.strhc1/(24*60) # start with low conductivity 10 m/day (sandy muddish) to m/min\n",
    "# UZF parameters\n",
    "sfr.reach_data.thts = XS_params.thts\n",
    "sfr.reach_data.thti = XS_params.thti # partially saturated initially\n",
    "sfr.reach_data.eps = XS_params.eps\n",
    "sfr.reach_data.uhc = XS_params.uhc/(24*60)\n",
    "if DFW == True:\n",
    "    # use eps/strhc1 to write out THTR/uhc when DFW is written\n",
    "    sfr.reach_data.eps = XS_params.thtr\n",
    "    sfr.reach_data.strhc1 = XS_params.uhc/(24*60) # start with low conductivity 10 m/day (sandy muddish) to m/min\n",
    "\n",
    "    #update mannings roughness\n",
    "sfr_seg = sfr.segment_data[0].copy()\n",
    "# Manning's n data comes from Barnes 1967 UGSS Paper 1849 and USGS 1989 report on selecting manning's n\n",
    "# RoughCH is only specified for icalc = 1 or 2\n",
    "sfr_seg.roughch[(sfr_seg.icalc==1) | (sfr_seg.icalc==2)] = XS_params.roughch[(sfr_seg.icalc==1) | (sfr_seg.icalc==2)].values\n",
    "# ROUGHBK is only specified for icalc = 2\n",
    "sfr_seg.roughbk[(sfr_seg.icalc==2)] = XS_params.roughbk[(sfr_seg.icalc==2)].values # 0.035 higher due to vegetation\n",
    "sfr.segment_data[0] = sfr_seg\n",
    "\n",
    "# sfr.reach_data.strtop = XSg.z_m_min_cln + XS_params.stg_offset\n"
   ]
  },
  {
   "cell_type": "markdown",
   "id": "94dc6b55",
   "metadata": {},
   "source": [
    "## Pdata "
   ]
  },
  {
   "cell_type": "code",
   "execution_count": 346,
   "id": "496ffd5c",
   "metadata": {},
   "outputs": [
    {
     "data": {
      "text/plain": [
       "Index(['stg_offset', 'strthick', 'strhc1', 'thts', 'thti', 'eps', 'uhc',\n",
       "       'thtr', 'roughch', 'roughbk'],\n",
       "      dtype='object')"
      ]
     },
     "execution_count": 346,
     "metadata": {},
     "output_type": "execute_result"
    }
   ],
   "source": [
    "pcols = params.columns[~params.columns.isin(['Sensor','Type','Latitude','Longitude', 'id_num'])]\n",
    "pcols"
   ]
  },
  {
   "cell_type": "code",
   "execution_count": 342,
   "id": "c8e626db",
   "metadata": {},
   "outputs": [],
   "source": [
    "def get_magnitude(x):\n",
    "    return(10.0**(np.log10(x).astype(int)))\n",
    "\n",
    "def make_pdata(params):\n",
    "    # melt parameter data and rename columns to fit UCODE format for .pdata\n",
    "    pdata = params.set_index('Sensor')[pcols]\n",
    "    pdata = pdata.melt(ignore_index=False)\n",
    "    pdata['ParamName'] = pdata.variable + '_' + pdata.index.astype(str)\n",
    "    # organize columns\n",
    "    pdata = pdata[['variable','ParamName','value']]\n",
    "    pdata = pdata.rename(columns={'variable':'GroupName','value':'StartValue'}).reset_index(drop=True)\n",
    "\n",
    "    # default values for pdata input\n",
    "    pdata['LowerValue'] = 1E-38\n",
    "    pdata['UpperValue'] = 1E38\n",
    "\n",
    "    # local adjustment based on typical parameter scaling (start value scaled by a range)\n",
    "    # need to find a better rounding function\n",
    "    grps = pdata.GroupName.isin(['strhc1','uhc'])\n",
    "    pdata.loc[grps,'LowerValue'] = get_magnitude(pdata.loc[grps,'StartValue']) *1E-3\n",
    "    pdata.loc[grps,'UpperValue'] = get_magnitude(pdata.loc[grps,'StartValue']) *1E3\n",
    "    grps = pdata.GroupName.isin(['thts', 'thti'])\n",
    "    pdata.loc[grps,'LowerValue'] = 1E-3\n",
    "    pdata.loc[grps,'UpperValue'] = 1\n",
    "    # double check eps range\n",
    "    grps = pdata.GroupName.isin(['strthick','eps'])\n",
    "    pdata.loc[grps,'LowerValue'] = 0.5\n",
    "    pdata.loc[grps,'UpperValue'] = 5\n",
    "\n",
    "    # assume constraints align with expected range\n",
    "    pdata['Constrain'] = 'No'\n",
    "    pdata['LowerConstraint'] = pdata.LowerValue\n",
    "    pdata['UpperConstraint'] = pdata.UpperValue\n",
    "\n",
    "\n",
    "    # left justify data so it is clean for writing to text file\n",
    "    pdata = pdata.astype(str)\n",
    "    for n in pdata.columns:\n",
    "        pdata[n] = pdata[n].str.ljust(int(pdata[n].str.len().max()*1.2))\n",
    "    return(pdata)\n",
    "# pdata = make_pdata(params)\n",
    "pdata = make_pdata(rm_teichert.drop(columns=['id_num','geometry']))"
   ]
  },
  {
   "cell_type": "code",
   "execution_count": 343,
   "id": "e7eaac93",
   "metadata": {},
   "outputs": [],
   "source": [
    "pdata_header = 'BEGIN Parameter_Data Table\\nNROW='+str(pdata.shape[0])+' NCOL=8 COLUMNLABELS\\n'\n",
    "import csv\n",
    "\n",
    "with open(model_ws+'/MF_ucode.pdata', 'w',newline='') as f:\n",
    "    f.write(pdata_header)\n",
    "    # write pdata to model workspace\n",
    "    pdata.to_csv(f, sep=' ', index=False, quoting=csv.QUOTE_NONE, escapechar=' ') # quoting=csv.QUOTE_NONE, escapechar=' '\n",
    "    f.write('END Parameter_Data Table')"
   ]
  },
  {
   "cell_type": "markdown",
   "id": "0dd5dd04",
   "metadata": {},
   "source": [
    "## Pgroup"
   ]
  },
  {
   "cell_type": "code",
   "execution_count": 344,
   "id": "baa1c60c",
   "metadata": {},
   "outputs": [],
   "source": [
    "#'GroupName Adjustable Transform MaxChange SenMethod  PerturbAmt'\n",
    "pgroup =  pd.DataFrame(pdata.GroupName.unique(), columns=['GroupName'])\n",
    "# pgroup = pdata.set_index(['GroupName']).drop(columns=['ParamName','Constrain']).astype(float)\n",
    "# pgroup = pgroup.groupby('GroupName').mean()\n",
    "pgroup['Adjustable'] = 'no'\n",
    "pgroup['Transform'] = 'no'\n",
    "pgroup['MaxChange'] = 1\n",
    "pgroup['SenMethod'] = 1\n",
    "pgroup['PerturbAmt'] = 0.01\n",
    "# hydraulic parameters should be log scale to prevent negatives\n",
    "pgroup.loc[pgroup.GroupName.isin(['strhc1','uhc']),'Transform'] = 'yes'\n",
    "\n",
    "# left justify all columns for cleaner table\n",
    "for c in pgroup.columns:\n",
    "    pgroup[c] = pgroup[c].astype(str).str.ljust(len(c)+1)"
   ]
  },
  {
   "cell_type": "code",
   "execution_count": 345,
   "id": "c132cbb3",
   "metadata": {},
   "outputs": [],
   "source": [
    "pgroup_header = 'BEGIN Parameter_Groups Table\\nNROW='+str(pgroup.shape[0])+' NCOL='+str(pgroup.shape[1])+' COLUMNLABELS\\n'\n",
    "import csv\n",
    "\n",
    "with open(model_ws+'/MF_ucode.pgroup', 'w',newline='') as f:\n",
    "    f.write(pgroup_header)\n",
    "    # write pdata to model workspace\n",
    "    f.write(pgroup.columns.str.cat(sep=' '))\n",
    "    f.write('\\n')\n",
    "    for n in pgroup.index:\n",
    "        f.write(pgroup.loc[n].str.cat())\n",
    "        f.write('\\n')\n",
    "#     pgroup.to_csv(f, sep=' ', index=False, quoting=csv.QUOTE_NONE, escapechar=' ') # quoting=csv.QUOTE_NONE, escapechar=' '\n",
    "    f.write('END Parameter_Groups Table')"
   ]
  },
  {
   "cell_type": "markdown",
   "id": "54a157eb",
   "metadata": {},
   "source": [
    "## JTF for parameters"
   ]
  },
  {
   "cell_type": "code",
   "execution_count": 347,
   "id": "9760faf1",
   "metadata": {},
   "outputs": [],
   "source": [
    "pout = rm_teichert.set_index('Sensor').copy()\n",
    "for n in pcols:\n",
    "    pout[n] = '@'+(n+'_'+pout.index.astype(str)).str.ljust(20)+'@'\n",
    "with open(model_ws+'/teichert_params.csv.jtf', 'w',newline='') as f:\n",
    "    f.write('jtf @\\n')\n",
    "    pout.to_csv(f,index=True, mode=\"a\") \n",
    "    "
   ]
  },
  {
   "cell_type": "code",
   "execution_count": null,
   "id": "7258a268",
   "metadata": {},
   "outputs": [],
   "source": []
  },
  {
   "cell_type": "code",
   "execution_count": null,
   "id": "87acf39c",
   "metadata": {},
   "outputs": [],
   "source": [
    "ucode_fxn_dir = doc_dir+'/GitHub/CosumnesRiverRecharge/ucode_utilities'\n",
    "if ucode_fxn_dir not in sys.path:\n",
    "    sys.path.append(ucode_fxn_dir)\n",
    "# sys.path\n",
    "import ucode_input\n",
    "\n",
    "from importlib import reload\n",
    "# importlib.reload\n",
    "reload(ucode_input)"
   ]
  },
  {
   "cell_type": "code",
   "execution_count": null,
   "id": "1a373e1d",
   "metadata": {},
   "outputs": [],
   "source": [
    "hobout = pd.read_csv(m.model_ws+'/MF.hob.out',delimiter = r'\\s+')\n",
    "\n",
    "# here std deviation represents the actual value one expects\n",
    "# for a well the accuracy is 0.01 ft at best based on measuring tape scale\n",
    "all_obs['Statistic'] = 0.01\n",
    "all_obs['StatFlag'] = 'SD'\n",
    "# locations with significant difference between RPE GSE and the DEM should have additional uncertainty included\n",
    "all_obs['Statistic'] += np.round(np.abs(all_obs.dem_wlm_gse),4)\n",
    "\n",
    "hobout_in = hobout.join(all_obs.set_index('obs_nam')[['Statistic','StatFlag']],on=['OBSERVATION NAME'])\n",
    "# temporary fix for misjoin for single observation HOB nodes\n",
    "hobout_in.loc[hobout_in.Statistic.isna(),'Statistic'] = 0.01 \n",
    "hobout_in['StatFlag'] = 'SD'\n",
    "\n",
    "ucode_input.write_hob_jif_dat(model_ws, hobout_in, statflag=True)"
   ]
  },
  {
   "cell_type": "code",
   "execution_count": null,
   "id": "328d370d",
   "metadata": {},
   "outputs": [],
   "source": [
    "# data for obs table\n",
    "mcc_d = pd.read_csv(sfr_dir+'MCC_flow_obs_all.csv', index_col='DATE TIME', parse_dates=True)\n",
    "\n",
    "mcc_d = mcc_d[(mcc_d.index>=strt_date)&(mcc_d.index<=end_date)]\n",
    "# ObsName ObsValue Statistic StatFlag GroupName\n",
    "mcc_d['ObsName'] = ('mcc_'+pd.Series(np.arange(0,len(mcc_d)).astype(str)).str.zfill(5)).values\n",
    "# make sure units are flow in m^3/day\n",
    "mcc_d = mcc_d.rename(columns={'flow_cmd':'ObsValue'})\n",
    "\n",
    "cols_out = ['ObsName','ObsValue','Statistic','StatFlag','GroupName']\n",
    "\n",
    "header = 'BEGIN Observation_Data Table\\n'+\\\n",
    "    'NROW= '+str(len(mcc_d))+' NCOL= 5 COLUMNLABELS\\n'+\\\n",
    "    ' '.join(cols_out)\n",
    "\n",
    "footer = 'End Observation_Data'\n",
    "# get array of just strings\n",
    "flow_arr = mcc_d[cols_out].values\n",
    "# pull out observed value and name of obs\n",
    "np.savetxt(model_ws+'/flow_obs_table.dat', flow_arr,\n",
    "           fmt='%s', header = header, footer = footer, comments = '' )\n",
    "\n",
    "# for gage file JIFs need to specify which flows are used by specify the observation name\n",
    "# for the correct row (time) and filling the rest with a dummy variable (Cab used dum)"
   ]
  },
  {
   "cell_type": "code",
   "execution_count": null,
   "id": "ba24e195",
   "metadata": {},
   "outputs": [],
   "source": [
    "gagenam = model_ws+'/MF.gage1.go'\n",
    "gage = pd.read_csv(gagenam,skiprows=1, delimiter = r'\\s+', engine='python')\n",
    "# clean issue with column name read in\n",
    "cols = gage.columns[1:]\n",
    "gage = gage.dropna(axis=1)\n",
    "gage.columns = cols\n",
    "# set datetime for joining with flow obs data\n",
    "gage['dt'] = strt_date + (gage.Time-1).astype('timedelta64[D]')\n",
    "gage = gage.set_index('dt').resample('D').mean()\n",
    "gage_jif = gage[['Time','Flow']].join(mcc_d)\n",
    "# if I leave Nan values then ucode gets upset, Cab used the filler dum which I think Ucode identifies\n",
    "gage_jif.loc[gage_jif.ObsName.isna(),'ObsName'] = 'dum'"
   ]
  },
  {
   "cell_type": "code",
   "execution_count": null,
   "id": "6720300d",
   "metadata": {},
   "outputs": [],
   "source": [
    "# def write_flw_jif(model_ws, gagout):\n",
    "#     # skip 2 rows, use 3rd column values for 1345 values for std MF gage out file\n",
    "header = 'jif @\\nStandardFile 2 3 '+str(len(gage_jif))\n",
    "# header = 'jif @\\n'+'StandardFile  1  1  '+str(len(obsoutnames))\n",
    "# obsoutnames.to_file(m.model_ws+'/MF.hob.out.jif', delimiter = '\\s+', index = )\n",
    "np.savetxt(model_ws+'/MF.gage1.go.jif', gage_jif.ObsName.values,\n",
    "           fmt='%s', delimiter = r'\\s+',header = header, comments = '')"
   ]
  },
  {
   "cell_type": "code",
   "execution_count": null,
   "id": "91c32746",
   "metadata": {},
   "outputs": [],
   "source": [
    "# Parallel"
   ]
  },
  {
   "cell_type": "code",
   "execution_count": null,
   "id": "957ab424",
   "metadata": {},
   "outputs": [],
   "source": [
    "n_nodes = ucode_input.get_n_nodes(13)"
   ]
  },
  {
   "cell_type": "code",
   "execution_count": null,
   "id": "c2e03032",
   "metadata": {},
   "outputs": [],
   "source": [
    "# 2400 seconds is about 40 minutes which is avg run time\n",
    "# may need to extend upward to 3 hours (10800) for slow runs\n",
    "ucode_input.write_parallel(model_ws, n_nodes,2400) "
   ]
  },
  {
   "cell_type": "code",
   "execution_count": null,
   "id": "be7f16b3",
   "metadata": {},
   "outputs": [],
   "source": [
    "# copy mf files except cbc and hds\n",
    "mf_files = pd.Series(glob.glob(m.model_ws+'/MF.*'))\n",
    "mf_files = mf_files[~mf_files.str.contains('cbc|hds').values].tolist()\n",
    "jtfs = glob.glob(m.model_ws+'/*.jtf')\n",
    "run = glob.glob(m.model_ws+'/*py*')\n",
    "\n",
    "files = mf_files+jtfs+run\n",
    "files = glob.glob(m.model_ws+'/*.jtf')"
   ]
  },
  {
   "cell_type": "code",
   "execution_count": null,
   "id": "450b1d68",
   "metadata": {},
   "outputs": [],
   "source": [
    "# when dealing with larger data sets, it may be worthwhile using parallel subprocess\n",
    "import shutil, os\n",
    "\n",
    "\n",
    "for n in np.arange(0, n_nodes).astype(str):\n",
    "    folder = '/r'+ n.zfill(3)+'/'\n",
    "    os.makedirs(m.model_ws+folder,exist_ok=True)\n",
    "    for f in files:\n",
    "        shutil.copy(f, m.model_ws+folder)"
   ]
  },
  {
   "cell_type": "code",
   "execution_count": null,
   "id": "d176dfda",
   "metadata": {},
   "outputs": [],
   "source": [
    "# replace oc file with simplified version that only prints the budget monthly\n",
    "f = glob.glob(m.model_ws+'/MF_parallel.oc')[0]\n",
    "\n",
    "for n in np.arange(0, n_nodes).astype(str):\n",
    "    folder = '/r'+ n.zfill(3)+'/'\n",
    "    os.makedirs(m.model_ws+folder,exist_ok=True)\n",
    "    shutil.copy(f, m.model_ws+folder+'/MF.oc')"
   ]
  },
  {
   "cell_type": "code",
   "execution_count": null,
   "id": "b45a0864",
   "metadata": {},
   "outputs": [],
   "source": [
    "import shutil, os\n",
    "\n",
    "# write out just the updated python write file\n",
    "write_file = glob.glob(model_ws+'/*.py')\n",
    "for n in np.arange(0,n_nodes).astype(str):\n",
    "    folder = '/r'+ n.zfill(3)\n",
    "    shutil.copy(write_file[0], model_ws+folder)"
   ]
  }
 ],
 "metadata": {
  "kernelspec": {
   "display_name": "Python 3 (ipykernel)",
   "language": "python",
   "name": "python3"
  },
  "language_info": {
   "codemirror_mode": {
    "name": "ipython",
    "version": 3
   },
   "file_extension": ".py",
   "mimetype": "text/x-python",
   "name": "python",
   "nbconvert_exporter": "python",
   "pygments_lexer": "ipython3",
   "version": "3.9.12"
  }
 },
 "nbformat": 4,
 "nbformat_minor": 5
}
