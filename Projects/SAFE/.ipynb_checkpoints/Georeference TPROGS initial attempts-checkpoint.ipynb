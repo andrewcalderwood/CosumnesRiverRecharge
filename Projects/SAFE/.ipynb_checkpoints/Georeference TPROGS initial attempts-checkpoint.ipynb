{
 "cells": [
  {
   "cell_type": "code",
   "execution_count": null,
   "metadata": {},
   "outputs": [],
   "source": [
    "# raster's coord systems has it's origin at the \"bottom left\" as displayed on the screen\n",
    "# Node 105 is the bottom right, and Node 105x60 -105 or 105x59 is the top left\n",
    "ultcoord = tcoords.loc[105*60-105].values\n",
    "\n",
    "\n",
    "#The affine.Affine.from_gdal() class method helps convert GDAL GeoTransform, sequences of 6 numbers \n",
    "# in which the first and fourth are the x and y offsets and the second and sixth are the x and y pixel sizes.\n",
    "ultcoord, bltcoord, urtcoord, brtcoord\n",
    "# geotransform = (ultcoord[1], 200.0, 0.0, ultcoord[2], 0.0, -200.0)"
   ]
  },
  {
   "cell_type": "code",
   "execution_count": null,
   "metadata": {},
   "outputs": [],
   "source": [
    "khmat.shape, 60*105"
   ]
  },
  {
   "cell_type": "code",
   "execution_count": null,
   "metadata": {},
   "outputs": [],
   "source": [
    "import rasterio\n",
    "from rasterio.transform import from_origin\n",
    "\n",
    "arr = np.moveaxis(khmat,-1, 0)\n",
    "transform = from_origin(ultcoord[1], ultcoord[2], 200.0, 200.0)\n",
    "\n",
    "new_dataset = rasterio.open('TPROGS_mat\\\\test3.tif', 'w', driver='GTiff',\n",
    "                            height = arr.shape[1], width = arr.shape[2],\n",
    "                            count=arr.shape[0], dtype=str(arr.dtype),\n",
    "                            crs='+proj=aea +lat_1=34 +lat_2=40.5 +lat_0=0 +lon_0=-120 +x_0=0 +y_0=-4000000 +ellps=GRS80 +datum=NAD83 +units=m +no_defs',\n",
    "                            transform=transform)\n",
    "new_dataset.write(arr)\n",
    "# new_dataset.close()"
   ]
  },
  {
   "cell_type": "code",
   "execution_count": null,
   "metadata": {},
   "outputs": [],
   "source": [
    "tcoords[1].min()"
   ]
  },
  {
   "cell_type": "code",
   "execution_count": null,
   "metadata": {},
   "outputs": [],
   "source": [
    "src.bounds.left, src.bounds.right, src.bounds.top, src.bounds.bottom"
   ]
  },
  {
   "cell_type": "code",
   "execution_count": null,
   "metadata": {},
   "outputs": [],
   "source": [
    "from rasterio.crs import CRS\n",
    "# height,wdith,bot,right,top are from source, resolution is from target\n",
    "# dst_height cannot be used with dst resolution\n",
    "alb = CRS.from_dict(init='epsg:3310')\n",
    "alb2crs = CRS.from_dict(init='epsg:32610')\n",
    "alb2transform, alb2width, alb2height = rasterio.warp.calculate_default_transform(alb,alb2crs, \n",
    "                                          height = arr.shape[1], width = arr.shape[2], bottom = src.bounds.bottom, \n",
    "                                          right = src.bounds.right, top = src.bounds.top, left= src.bounds.left,\n",
    "                                          resolution =(200.,200.))\n",
    "ultcoord, bltcoord, urtcoord, brtcoord\n",
    "\n",
    "from rasterio.warp import reproject\n",
    "reproject(src.read(), destination = new, src_transform= src.transform, src_crs = src.crs, dst_transform = alb2transform,\n",
    "         dst_crs = alb2crs, dst_resolution = (200.,200.))"
   ]
  },
  {
   "cell_type": "code",
   "execution_count": null,
   "metadata": {},
   "outputs": [],
   "source": [
    "src = rasterio.open('TPROGS_mat\\\\test3.tif')\n",
    "band1 = src.read(1)\n",
    "# plt.imshow(band1)"
   ]
  },
  {
   "cell_type": "code",
   "execution_count": null,
   "metadata": {},
   "outputs": [],
   "source": [
    "src.close()"
   ]
  },
  {
   "cell_type": "code",
   "execution_count": null,
   "metadata": {},
   "outputs": [],
   "source": [
    "# from rasterio.crs import CRS\n",
    "# # height,wdith,bot,right,top are from source, resolution is from target\n",
    "# # dst_height cannot be used with dst resolution\n",
    "# alb2crs = CRS.from_dict(init='epsg:32610')\n",
    "# alb2transform, alb2width, alb2height = rasterio.warp.calculate_default_transform(src.crs,alb2crs, \n",
    "#                                           height = src.height, width = src.width, bottom = src.bounds.bottom, \n",
    "#                                           right = src.bounds.right, top = src.bounds.top, left= src.bounds.left,\n",
    "#                                           resolution =(200.,200.))\n",
    "# from rasterio.warp import reproject\n",
    "# new = reproject(src.read(), destination = new, src_transform= src.transform, src_crs = src.crs, dst_transform = alb2transform,\n",
    "#          dst_crs = alb2crs, dst_resolution = (200.,200.))"
   ]
  },
  {
   "cell_type": "code",
   "execution_count": null,
   "metadata": {},
   "outputs": [],
   "source": [
    "crs_alb = pyproj.CRS(\"epsg:3310\")\n",
    "crs_utm = pyproj.CRS(\"epsg:32610\")\n",
    "# crs_utm = pyproj.CRS(\"epsg:26910\")\n",
    "\n",
    "transformer = pyproj.Transformer.from_crs(crs_alb, crs_utm, always_xy = True)\n",
    "# Convert WGS Lat and long to Easting and Northing in Zone 10N\n",
    "ucoord1, ucoord2 = transformer.transform(ultcoord[1], ultcoord[2])\n",
    "arr = np.moveaxis(khmat,-1, 0)\n"
   ]
  },
  {
   "cell_type": "code",
   "execution_count": null,
   "metadata": {},
   "outputs": [],
   "source": [
    "import numpy as np\n",
    "import rasterio\n",
    "from rasterio import Affine as A\n",
    "from rasterio.warp import reproject, Resampling\n",
    "from affine import Affine\n",
    "\n",
    "\n",
    "\n",
    "with rasterio.Env():\n",
    "    from rasterio.transform import from_origin\n",
    "\n",
    "    arr = np.moveaxis(khmat,-1, 0)\n",
    "#     src_transform = from_origin(ultcoord[1], ultcoord[2], 200.0, 200.0)\n",
    "#     src_transform = src_transform*Affine.shear(45)\n",
    "    src_transform = Affine(200.,0,ultcoord[1],np.deg2rad(45.),-200., ultcoord[2])\n",
    "    src_crs = {'init': 'EPSG:3310'}\n",
    "    source = arr[:,:,:]\n",
    "#     dst_transform = from_origin(ucoord1, ucoord2, 200.0, 200.0)\n",
    "#     dst_transform = dst_transform*Affine.shear(45)\n",
    "    dst_transform = Affine(200.,0,ucoord1,np.deg2rad(45.),-200., ucoord2)\n",
    "    dst_crs = {'init': 'EPSG:32610'}\n",
    "#     dst_crs = {'init': 'EPSG:26910'}\n",
    "\n",
    "    destination = np.zeros(arr.shape, np.float)\n",
    "\n",
    "    reproject(\n",
    "        source,\n",
    "        destination,\n",
    "        src_transform=src_transform,\n",
    "        src_crs=src_crs,\n",
    "        dst_transform=dst_transform,\n",
    "        dst_crs=dst_crs,\n",
    "        resampling=Resampling.nearest)\n",
    "\n",
    "    # Assert that the destination is only partly filled.\n",
    "#     assert destination.any()\n",
    "#     assert not destination.all()"
   ]
  },
  {
   "cell_type": "code",
   "execution_count": null,
   "metadata": {},
   "outputs": [],
   "source": [
    "# Affine(200.,44.7,ultcoord[1],0.,-200., ultcoord[2])"
   ]
  },
  {
   "cell_type": "code",
   "execution_count": null,
   "metadata": {},
   "outputs": [],
   "source": [
    "test = Raster(destination, np.arange(0,arr.shape[0]), dst_crs, dst_transform, \n",
    "       nodataval = 0., \n",
    "       driver = 'GTiff', \n",
    "       rio_ds = None)\n"
   ]
  },
  {
   "cell_type": "code",
   "execution_count": null,
   "metadata": {},
   "outputs": [],
   "source": [
    "t0 = time.time()\n",
    "test.resample_to_grid(m.modelgrid.xcellcenters,\n",
    "                                m.modelgrid.ycellcenters,\n",
    "                                band=test.bands[0],\n",
    "                                method=\"nearest\")\n",
    "\n",
    "resample_time = time.time() - t0\n",
    "print(\"Resample time, nearest neighbor: {:.3f} sec\".format(time.time() - t0))"
   ]
  },
  {
   "cell_type": "code",
   "execution_count": null,
   "metadata": {},
   "outputs": [],
   "source": [
    "# tcoordsg = gpd.GeoDataFrame(tcoords, geometry = gpd.points_from_xy(tcoords[1].values, tcoords[2].values), crs = \"EPSG:3310\")\n",
    "# tcoordsg.plot()\n",
    "# tcoordsg.to_crs('EPSG:32610').plot()\n",
    "# tcoordsg.loc[105*60-105]"
   ]
  },
  {
   "cell_type": "code",
   "execution_count": null,
   "metadata": {},
   "outputs": [],
   "source": [
    "fig, ax = plt.subplots(figsize = (20,10))\n",
    "\n",
    "m.dis.top.plot(alpha = 0.01)\n",
    "test.plot()\n",
    "# tcoordsg.to_crs('EPSG:32610').plot(alpha = 0.1, ax=ax)"
   ]
  }
 ],
 "metadata": {
  "kernelspec": {
   "display_name": "Python 3",
   "language": "python",
   "name": "python3"
  },
  "language_info": {
   "codemirror_mode": {
    "name": "ipython",
    "version": 3
   },
   "file_extension": ".py",
   "mimetype": "text/x-python",
   "name": "python",
   "nbconvert_exporter": "python",
   "pygments_lexer": "ipython3",
   "version": "3.7.7"
  }
 },
 "nbformat": 4,
 "nbformat_minor": 4
}
