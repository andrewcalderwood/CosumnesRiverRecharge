{
 "cells": [
  {
   "cell_type": "code",
   "execution_count": 1,
   "id": "running-replacement",
   "metadata": {},
   "outputs": [],
   "source": [
    "# standard python utilities\n",
    "import os\n",
    "import sys\n",
    "import glob\n",
    "import pandas as pd\n",
    "import numpy as np\n",
    "import calendar\n",
    "import time\n",
    "from scipy.stats import hmean\n",
    "from scipy.stats import gmean\n",
    "\n",
    "# standard python plotting utilities\n",
    "import matplotlib as mpl\n",
    "import matplotlib.pyplot as plt\n",
    "\n",
    "# standard geospatial python utilities\n",
    "import pyproj # for converting proj4string\n",
    "import shapely\n",
    "import geopandas as gpd\n",
    "import rasterio\n",
    "\n",
    "# mapping utilities\n",
    "import contextily as ctx\n",
    "from mpl_toolkits.axes_grid1.inset_locator import inset_axes\n",
    "from mpl_toolkits.axes_grid1.anchored_artists import AnchoredSizeBar\n",
    "import matplotlib.font_manager as fm"
   ]
  },
  {
   "cell_type": "code",
   "execution_count": 2,
   "id": "liberal-tongue",
   "metadata": {},
   "outputs": [
    {
     "name": "stdout",
     "output_type": "stream",
     "text": [
      "3.7.10 (default, Feb 26 2021, 13:06:18) [MSC v.1916 64 bit (AMD64)]\n",
      "numpy version: 1.19.2\n",
      "matplotlib version: 3.3.4\n",
      "flopy version: 3.3.3\n"
     ]
    }
   ],
   "source": [
    "\n",
    "# run installed version of flopy or add local path\n",
    "try:\n",
    "    import flopy\n",
    "    from flopy.discretization.structuredgrid import StructuredGrid\n",
    "    from flopy.utils.reference import SpatialReference\n",
    "    from flopy.utils import Raster\n",
    "except:\n",
    "    import flopy\n",
    "    fpth = os.path.abspath(os.path.join('..', '..'))\n",
    "    sys.path.append(fpth)\n",
    "    from flopy.discretization.structuredgrid import StructuredGrid\n",
    "    from flopy.utils.reference import SpatialReference\n",
    "    from flopy.utils import Raster\n",
    "from flopy.utils.gridgen import Gridgen\n",
    "from flopy.utils import OptionBlock\n",
    "import flopy.utils.binaryfile as bf\n",
    "\n",
    "\n",
    "print(sys.version)\n",
    "print('numpy version: {}'.format(np.__version__))\n",
    "print('matplotlib version: {}'.format(mpl.__version__))\n",
    "print('flopy version: {}'.format(flopy.__version__))"
   ]
  },
  {
   "cell_type": "markdown",
   "id": "convinced-soldier",
   "metadata": {},
   "source": [
    "## Load MODFLOW model\n",
    "The DIS, RCH, CHD, SFR, WEL, BAS6, OC and PCGN packages can be left constant"
   ]
  },
  {
   "cell_type": "code",
   "execution_count": 88,
   "id": "small-client",
   "metadata": {},
   "outputs": [],
   "source": [
    "loadpth = 'C:/WRDAPP/GWFlowModel/Cosumnes_Blodgett_10yr/'\n",
    "all_model_ws = loadpth+'WEL_SFR_RCH_tprogs_123layers'\n",
    "m = flopy.modflow.Modflow.load('MF.nam',model_ws = all_model_ws)"
   ]
  },
  {
   "cell_type": "markdown",
   "id": "several-glory",
   "metadata": {},
   "source": [
    "### Copy all constant files over into the realization folders"
   ]
  },
  {
   "cell_type": "code",
   "execution_count": 95,
   "id": "certified-romance",
   "metadata": {},
   "outputs": [],
   "source": [
    "tprogs_iter_ws = 'C:/WRDAPP/GWFlowModel/Cosumnes_Blodgett_10yr/tprogs_iteration'\n",
    "# use expansion drive because there is not enough disk space left on the C drive\n",
    "tprogs_iter_ws = 'F:/WRDAPP/GWFlowModel/Cosumnes_Blodgett_10yr/tprogs_iteration'\n"
   ]
  },
  {
   "cell_type": "code",
   "execution_count": 98,
   "id": "funky-guide",
   "metadata": {},
   "outputs": [
    {
     "data": {
      "text/plain": [
       "'C:/WRDAPP/GWFlowModel/Cosumnes_Blodgett_10yr/WEL_SFR_RCH_tprogs\\\\MF.wel'"
      ]
     },
     "execution_count": 98,
     "metadata": {},
     "output_type": "execute_result"
    }
   ],
   "source": [
    "tprogs_iter_ws+fdir\n",
    "f"
   ]
  },
  {
   "cell_type": "code",
   "execution_count": 96,
   "id": "rough-arctic",
   "metadata": {},
   "outputs": [],
   "source": [
    "# takes 10 mintues to run at least\n",
    "import shutil, os\n",
    "\n",
    "\n",
    "for n in np.arange(0,100):\n",
    "    fdir = '/realization'+str(n).zfill(3)\n",
    "    os.makedirs(tprogs_iter_ws+fdir,exist_ok=True)\n",
    "    for f in files:\n",
    "        shutil.copy(f, tprogs_iter_ws+fdir)"
   ]
  },
  {
   "cell_type": "code",
   "execution_count": 46,
   "id": "disciplinary-borough",
   "metadata": {},
   "outputs": [],
   "source": [
    "botm = m.dis.botm\n",
    "nlay,nrow,ncol = m.dis.botm.shape"
   ]
  },
  {
   "cell_type": "code",
   "execution_count": 17,
   "id": "czech-jersey",
   "metadata": {},
   "outputs": [
    {
     "data": {
      "text/plain": [
       "Timestamp('2019-09-30 00:00:00')"
      ]
     },
     "execution_count": 17,
     "metadata": {},
     "output_type": "execute_result"
    }
   ],
   "source": [
    "strt_date = pd.to_datetime(m.dis.start_datetime)\n",
    "end_date = strt_date+pd.DateOffset(m.dis.nper-2)\n",
    "end_date"
   ]
  },
  {
   "cell_type": "code",
   "execution_count": 15,
   "id": "stainless-orlando",
   "metadata": {},
   "outputs": [],
   "source": [
    "## Set up directory referencing\n",
    "# Package data\n",
    "gwfm_dir = os.path.dirname(os.path.dirname(os.getcwd()))\n",
    "mf_tprogs_dir = gwfm_dir+'/UPW_data/tprogs_final/'\n",
    "tprogs_files = glob.glob(mf_tprogs_dir+'*')\n"
   ]
  },
  {
   "cell_type": "code",
   "execution_count": 47,
   "id": "chicken-trustee",
   "metadata": {},
   "outputs": [],
   "source": [
    "# load average of spring and fall groundwater elevations for the chosen model period\n",
    "# that are calculated in the set-up jupyter notebook\n",
    "kriged_fall_spring_avg = np.loadtxt(m.model_ws+'/input_data/'+str(strt_date.year)+'_'+str(end_date.year)\n",
    "           +'avg fall and spring kriged wse.tsv')\n",
    "dem_data = np.loadtxt(gwfm_dir+'\\DIS_data\\dem_52_9_200m_linear.tsv', delimiter = '\\t')\n",
    "\n",
    "deep_geology = np.loadtxt(m.model_ws+'/input_data/deep_geology.tsv', delimiter ='\\t')\n",
    "deep_geology = np.reshape(deep_geology, (nlay,nrow,ncol))"
   ]
  },
  {
   "cell_type": "code",
   "execution_count": 20,
   "id": "indie-adjustment",
   "metadata": {},
   "outputs": [],
   "source": [
    "params = pd.read_csv(m.model_ws+'/ZonePropertiesInitial.csv',index_col='Zone')\n",
    "# convert from m/s to m/d\n",
    "params['K_m_d'] = params.K_m_s * 86400    "
   ]
  },
  {
   "cell_type": "code",
   "execution_count": 21,
   "id": "found-designer",
   "metadata": {},
   "outputs": [],
   "source": [
    "def tprogs_cut_elev(tprogs_line):\n",
    "    tprogs_arr = np.reshape(tprogs_line, (320, 100,230))\n",
    "    tprogs_elev = np.copy(tprogs_arr)\n",
    "    # the bottom layer of the tprogs model is at -50 m amsl and the top layer is 50 m amsl\n",
    "    t = 0\n",
    "    for k in np.arange(-80,80,0.5):\n",
    "        tprogs_elev[t,dem_data<k]= np.NaN\n",
    "        t+=1\n",
    "    masked_tprogs = ma.masked_invalid(tprogs_elev)\n",
    "    return(masked_tprogs)"
   ]
  },
  {
   "cell_type": "code",
   "execution_count": 34,
   "id": "handled-advice",
   "metadata": {},
   "outputs": [],
   "source": [
    "import numpy.ma as ma\n",
    "def tprogs_cut_saturated(tprogs,kriged):\n",
    "    tprogs_unsat = np.copy(tprogs)\n",
    "    # the bottom layer of the tprogs model is at -80 m amsl and the top layer is 80 m amsl\n",
    "    # set any tprogs cells below the average fall water table depth as np.nan\n",
    "    t = 0\n",
    "    for k in np.arange(-80,80,0.5):\n",
    "        tprogs_unsat[t,kriged>k]= np.NaN\n",
    "        t+=1\n",
    "    masked_tprogs = ma.masked_invalid(tprogs_unsat)\n",
    "    return(masked_tprogs)"
   ]
  },
  {
   "cell_type": "code",
   "execution_count": 23,
   "id": "assigned-motor",
   "metadata": {},
   "outputs": [],
   "source": [
    "def int_to_param(tprogs):\n",
    "    tprogs[tprogs<0] *= -1\n",
    "    tprogs = tprogs.astype(float)\n",
    "    # flip tprogs model along z axis to match modflow definition of 0 as top (TPROGS says 0 is bottom)\n",
    "    tprogs = np.flip(tprogs,axis=0)\n",
    "    tprogs_K = np.copy(tprogs)\n",
    "    tprogs_Sy = np.copy(tprogs)\n",
    "    tprogs_Ss = np.copy(tprogs)\n",
    "    # hydraulic parameters from fleckenstein 2006\n",
    "    # I-IV gravel, sand, muddy sand, mud\n",
    "    # K in m/s, Sy, Ss\n",
    "    for n in np.arange(1,5):\n",
    "        tprogs_K[tprogs==n]= params.loc[n,'K_m_d']\n",
    "    for n in np.arange(1,5):\n",
    "        tprogs_Sy[tprogs==n]= params.loc[n,'Sy']\n",
    "    for n in np.arange(1,5):\n",
    "        tprogs_Ss[tprogs==n]= params.loc[n,'Ss']\n",
    "            \n",
    "    return(tprogs_K,tprogs_Sy,tprogs_Ss)\n"
   ]
  },
  {
   "cell_type": "code",
   "execution_count": 50,
   "id": "loaded-detector",
   "metadata": {},
   "outputs": [],
   "source": [
    "\n",
    "def write_tprogs_lpf(tprogs_line):\n",
    "    masked_tprogs=tprogs_cut_elev(tprogs_line)\n",
    "    K, Sy, Ss= int_to_param(masked_tprogs)\n",
    "\n",
    "    unsat_hk = np.mean(tprogs_cut_saturated(K,kriged_fall_spring_avg),axis=0)\n",
    "    unsat_vka = hmean(tprogs_cut_saturated(K,kriged_fall_spring_avg))\n",
    "    unsat_sy = np.mean(tprogs_cut_saturated(Sy,kriged_fall_spring_avg),axis=0)\n",
    "    unsat_ss = np.mean(tprogs_cut_saturated(Ss,kriged_fall_spring_avg),axis=0)\n",
    "\n",
    "    # set any zero values to the average of the domain, should be added to the function above\n",
    "    # arithmetic mean is used because we are filling data and not calculating vertical averages\n",
    "    unsat_hk[unsat_hk.data==0] = np.mean(unsat_hk)\n",
    "    unsat_vka[unsat_vka.data==0] = np.mean(unsat_vka)\n",
    "    unsat_sy[unsat_sy.data==0] = np.mean(unsat_sy)\n",
    "    unsat_ss[unsat_ss.data==0] = np.mean(unsat_ss)\n",
    "\n",
    "    hk = np.zeros(botm.shape)\n",
    "    vka = np.zeros(botm.shape)\n",
    "    sy = np.zeros(botm.shape)\n",
    "    ss = np.zeros(botm.shape)\n",
    "\n",
    "    # # take of 2 for the bottom layers and 1 for the unsat zone layer up top\n",
    "    # # for tprogs arrays 0 is the bottom of the model, so flipping on z will fix\n",
    "    hk[1:-2,:,:] = np.flip(K[-hk.shape[0]+1:-2,:,:],axis=0)\n",
    "    sy[1:-2,:,:] = np.flip(Sy[-sy.shape[0]+1:-2,:,:],axis=0)\n",
    "    ss[1:-2,:,:] = np.flip(Ss[-ss.shape[0]+1:-2,:,:],axis=0)\n",
    "\n",
    "    # set parameters based on upscaled unsaturated zone\n",
    "    hk[0,:,:] = unsat_hk\n",
    "    vka[0,:,:] = unsat_vka\n",
    "    sy[0,:,:] = unsat_sy\n",
    "    ss[0,:,:] = unsat_ss\n",
    "\n",
    "    # set values for second to bottom layer, Laguna formation\n",
    "    hk[-2,:,:] = params.loc[5,'K_m_d']\n",
    "    vka[-2,:,:] = params.loc[5,'K_m_d']/100 # assume 1/100 for Kx to Kz\n",
    "    sy[-2,:,:] = params.loc[5,'Sy']\n",
    "    ss[-2,:,:] = params.loc[5,'Ss']\n",
    "\n",
    "    # the deep_geology array shows where the mehrten formation comes out of the surface\n",
    "    hk[deep_geology[:,:,:].astype(bool)] = params.loc[6,'K_m_d']\n",
    "    vka[deep_geology[:,:,:].astype(bool)] = params.loc[6,'K_m_d']/100 # assume 1/100 for Kx to Kz\n",
    "    sy[deep_geology[:,:,:].astype(bool)] = params.loc[6,'Sy']\n",
    "    ss[deep_geology[:,:,:].astype(bool)] = params.loc[6,'Ss']\n",
    "\n",
    "    # set values for bottom layer, Mehrten formation\n",
    "    hk[-1,:,:] = params.loc[6,'K_m_d']\n",
    "    vka[-1,:,:] = params.loc[6,'K_m_d']/100 # assume 1/100 for Kx to Kz\n",
    "    sy[-1,:,:] = params.loc[6,'Sy']\n",
    "    ss[-1,:,:] = params.loc[6,'Ss']\n",
    "\n",
    "    # layvka 0 means vka is vert K, non zero means its the anisotropy ratio between horiz and vert\n",
    "    layvka = 0\n",
    "\n",
    "    # LAYTYP MUST BE GREATER THAN ZERO WHEN IUZFOPT IS 2\n",
    "    laytyp = 1 # 0 is confined, >0 convertible, <0 convertible unless the THICKSTRT option is in effect\n",
    "    # Laywet must be 0 if laytyp is confined laywet = [1,1,1,1,1]\n",
    "    #ipakcb = 55 means cell-by-cell budget is saved because it is non zero (default is 53)\n",
    "\n",
    "    # until upscaling is begun then vertical and horiz K are the same for TPROGS\n",
    "    # upw = flopy.modflow.ModflowUpw(model = m, hk =hk, layvka = layvka, vka = hk, sy=sy, ss=ss,\n",
    "    #             laytyp=laytyp, ipakcb=53)\n",
    "\n",
    "    lpf = flopy.modflow.ModflowLpf(model = m, hk =hk, layvka = layvka, vka = hk, sy=sy, ss=ss,\n",
    "                                   laytyp=laytyp, ipakcb=55)\n",
    "    \n",
    "    return(lpf)"
   ]
  },
  {
   "cell_type": "code",
   "execution_count": null,
   "id": "thirty-philippines",
   "metadata": {},
   "outputs": [],
   "source": [
    "t=0\n",
    "tprogs_line = np.loadtxt(tprogs_files[t])\n"
   ]
  },
  {
   "cell_type": "code",
   "execution_count": 52,
   "id": "finnish-folder",
   "metadata": {},
   "outputs": [],
   "source": [
    "lpf = write_tprogs_lpf(tprogs_line)"
   ]
  },
  {
   "cell_type": "code",
   "execution_count": 63,
   "id": "manufactured-devil",
   "metadata": {},
   "outputs": [],
   "source": []
  },
  {
   "cell_type": "code",
   "execution_count": 79,
   "id": "mighty-sodium",
   "metadata": {},
   "outputs": [
    {
     "data": {
      "text/plain": [
       "array(['', '', '', '', '', '', '', '', '', '', '', ''], dtype='<U1')"
      ]
     },
     "execution_count": 79,
     "metadata": {},
     "output_type": "execute_result"
    }
   ],
   "source": []
  },
  {
   "cell_type": "code",
   "execution_count": 68,
   "id": "becoming-emission",
   "metadata": {},
   "outputs": [],
   "source": [
    "mf_files = glob.glob(all_model_ws+'/MF.*')\n",
    "jtfs = glob.glob(all_model_ws+'/*.jtf')\n",
    "run = glob.glob(all_model_ws+'/*py*')\n",
    "files = mf_files+jtfs+run"
   ]
  },
  {
   "cell_type": "code",
   "execution_count": 85,
   "id": "intensive-coating",
   "metadata": {},
   "outputs": [],
   "source": [
    "const_files = ['bas','chd','dis','hob','lak','nam','oc','pcgn','sfr','tab','txt','wel']\n",
    "files = np.empty(len(const_files), dtype=object)\n",
    "for m in np.arange(0,len(const_files)):\n",
    "    files[m] = glob.glob(all_model_ws+'/*.'+const_files[m])[0]"
   ]
  },
  {
   "cell_type": "code",
   "execution_count": 86,
   "id": "continued-american",
   "metadata": {},
   "outputs": [
    {
     "data": {
      "text/plain": [
       "array(['C:/WRDAPP/GWFlowModel/Cosumnes_Blodgett_10yr/WEL_SFR_RCH_tprogs\\\\MF.bas',\n",
       "       'C:/WRDAPP/GWFlowModel/Cosumnes_Blodgett_10yr/WEL_SFR_RCH_tprogs\\\\MF.chd',\n",
       "       'C:/WRDAPP/GWFlowModel/Cosumnes_Blodgett_10yr/WEL_SFR_RCH_tprogs\\\\MF.dis',\n",
       "       'C:/WRDAPP/GWFlowModel/Cosumnes_Blodgett_10yr/WEL_SFR_RCH_tprogs\\\\MF.hob',\n",
       "       'C:/WRDAPP/GWFlowModel/Cosumnes_Blodgett_10yr/WEL_SFR_RCH_tprogs\\\\MF.lak',\n",
       "       'C:/WRDAPP/GWFlowModel/Cosumnes_Blodgett_10yr/WEL_SFR_RCH_tprogs\\\\MF.nam',\n",
       "       'C:/WRDAPP/GWFlowModel/Cosumnes_Blodgett_10yr/WEL_SFR_RCH_tprogs\\\\MF.oc',\n",
       "       'C:/WRDAPP/GWFlowModel/Cosumnes_Blodgett_10yr/WEL_SFR_RCH_tprogs\\\\MF.pcgn',\n",
       "       'C:/WRDAPP/GWFlowModel/Cosumnes_Blodgett_10yr/WEL_SFR_RCH_tprogs\\\\MF.sfr',\n",
       "       'C:/WRDAPP/GWFlowModel/Cosumnes_Blodgett_10yr/WEL_SFR_RCH_tprogs\\\\MF.tab',\n",
       "       'C:/WRDAPP/GWFlowModel/Cosumnes_Blodgett_10yr/WEL_SFR_RCH_tprogs\\\\MF.txt',\n",
       "       'C:/WRDAPP/GWFlowModel/Cosumnes_Blodgett_10yr/WEL_SFR_RCH_tprogs\\\\MF.wel'],\n",
       "      dtype=object)"
      ]
     },
     "execution_count": 86,
     "metadata": {},
     "output_type": "execute_result"
    }
   ],
   "source": [
    "glob.glob(all_model_ws+'/*.'+const_files[m])[0]\n",
    "files"
   ]
  },
  {
   "cell_type": "code",
   "execution_count": null,
   "id": "democratic-ladder",
   "metadata": {},
   "outputs": [],
   "source": [
    "import shutil, os\n",
    "\n",
    "\n",
    "for n in np.arange(1,8).astype(str):\n",
    "    for f in files:\n",
    "        folder = '/r'+ n.zfill(2)+'/'\n",
    "        os.makedirs(m.model_ws+folder,exist_ok=True)\n",
    "        shutil.copy(f, m.model_ws+folder)"
   ]
  },
  {
   "cell_type": "code",
   "execution_count": null,
   "id": "productive-junction",
   "metadata": {},
   "outputs": [],
   "source": []
  }
 ],
 "metadata": {
  "kernelspec": {
   "display_name": "Python 3",
   "language": "python",
   "name": "python3"
  },
  "language_info": {
   "codemirror_mode": {
    "name": "ipython",
    "version": 3
   },
   "file_extension": ".py",
   "mimetype": "text/x-python",
   "name": "python",
   "nbconvert_exporter": "python",
   "pygments_lexer": "ipython3",
   "version": "3.7.10"
  }
 },
 "nbformat": 4,
 "nbformat_minor": 5
}
