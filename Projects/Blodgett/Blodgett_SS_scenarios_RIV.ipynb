{
 "cells": [
  {
   "cell_type": "markdown",
   "metadata": {},
   "source": [
    "Cosumnes Model \n",
    "@author: Andrew"
   ]
  },
  {
   "cell_type": "code",
   "execution_count": 1,
   "metadata": {},
   "outputs": [],
   "source": [
    "# standard python utilities\n",
    "import os\n",
    "import sys\n",
    "import glob\n",
    "import pandas as pd\n",
    "import numpy as np\n",
    "import calendar\n",
    "import time\n",
    "from scipy.stats import gmean\n",
    "\n",
    "# standard python plotting utilities\n",
    "import matplotlib as mpl\n",
    "import matplotlib.pyplot as plt\n",
    "\n",
    "# standard geospatial python utilities\n",
    "import pyproj # for converting proj4string\n",
    "import shapely\n",
    "import geopandas as gpd\n",
    "# import rasterio\n",
    "\n",
    "# mapping utilities\n",
    "# import contextily as ctx\n",
    "from mpl_toolkits.axes_grid1.inset_locator import inset_axes\n",
    "from mpl_toolkits.axes_grid1.anchored_artists import AnchoredSizeBar\n",
    "import matplotlib.font_manager as fm"
   ]
  },
  {
   "cell_type": "code",
   "execution_count": 2,
   "metadata": {},
   "outputs": [
    {
     "name": "stdout",
     "output_type": "stream",
     "text": [
      "3.7.10 (default, Feb 26 2021, 13:06:18) [MSC v.1916 64 bit (AMD64)]\n",
      "numpy version: 1.19.2\n",
      "matplotlib version: 3.3.4\n",
      "flopy version: 3.3.3\n"
     ]
    }
   ],
   "source": [
    "\n",
    "# run installed version of flopy or add local path\n",
    "try:\n",
    "    import flopy\n",
    "    from flopy.discretization.structuredgrid import StructuredGrid\n",
    "    from flopy.utils.reference import SpatialReference\n",
    "    from flopy.utils import Raster\n",
    "except:\n",
    "    import flopy\n",
    "    fpth = os.path.abspath(os.path.join('..', '..'))\n",
    "    sys.path.append(fpth)\n",
    "    from flopy.discretization.structuredgrid import StructuredGrid\n",
    "    from flopy.utils.reference import SpatialReference\n",
    "    from flopy.utils import Raster\n",
    "from flopy.utils.gridgen import Gridgen\n",
    "from flopy.utils import OptionBlock\n",
    "import flopy.utils.binaryfile as bf\n",
    "\n",
    "\n",
    "print(sys.version)\n",
    "print('numpy version: {}'.format(np.__version__))\n",
    "print('matplotlib version: {}'.format(mpl.__version__))\n",
    "print('flopy version: {}'.format(flopy.__version__))"
   ]
  },
  {
   "cell_type": "code",
   "execution_count": 6,
   "metadata": {},
   "outputs": [],
   "source": [
    "# loadpth = 'C://WRDAPP/GWFlowModel'\n",
    "# all_model_ws = loadpth+'/Cosumnes_simple/WEL_SFR_RCH_layercake'\n",
    "\n",
    "# # model_ws = loadpth+'/ButteValley_tr_parallel'\n",
    "\n",
    "# # model_ws = loadpth+'/ButteValley_tr'\n",
    "\n",
    "# m = flopy.modflow.Modflow.load('MF.nam', model_ws=all_model_ws, \n",
    "#                                 exe_name='mf2005', version='mf2005')\n",
    "\n",
    "# # HOB package is not necessary for scenario testing\n",
    "# m.remove_package('HOB')\n",
    "# m.remove_package('SFR') # remove sfr package to avoid issue with tab file extension?"
   ]
  },
  {
   "cell_type": "markdown",
   "metadata": {},
   "source": [
    "## Reuse the steady state period from the 2018-2019 period\n",
    "No change is needed for the LPF, BAS6, OC, or PCGN packages"
   ]
  },
  {
   "cell_type": "code",
   "execution_count": 7,
   "metadata": {},
   "outputs": [],
   "source": [
    "# can resuse the steady state from the WEL, RCH (UZF), GHB and CHD packages\n",
    "wel0 = m.wel.stress_period_data[0]\n",
    "ghb0 = m.ghb.stress_period_data[0]\n",
    "chd0 = m.chd.stress_period_data[0]\n",
    "\n",
    "# may need to switch out with UZF later\n",
    "rch0 = m.rch.rech.array[0,0,:,:]\n",
    "\n",
    "# save bottom and top definitions for rewriting DIS package\n",
    "botm = m.dis.botm.array\n",
    "top = m.dis.top.array"
   ]
  },
  {
   "cell_type": "code",
   "execution_count": 8,
   "metadata": {},
   "outputs": [],
   "source": [
    "\n",
    "# arbitrary start date\n",
    "strt_date = '2018-01-01'\n",
    "\n",
    "# one steady state and 10 transient period of 1 day to find an equilibrium lake stage\n",
    "nper = 1 + 20\n",
    "# steady state period of 1 day for unit simplicity\n",
    "perlen = np.ones(nper)\n",
    "# Steady state period, followed by 10 transient periods\n",
    "steady = np.zeros(nper)\n",
    "steady[0] = 1\n",
    "steady = steady.astype('bool').tolist()\n",
    "# Reduce the number of timesteps to decrease run time\n",
    "nstp = 6*np.ones(nper)"
   ]
  },
  {
   "cell_type": "code",
   "execution_count": 9,
   "metadata": {
    "scrolled": true
   },
   "outputs": [],
   "source": [
    "#Maribeth's model parameters, had to switch nrow and ncol due to her issue in xul, yul\n",
    "nrow=100\n",
    "ncol=230\n",
    "delr=200\n",
    "delc=200\n",
    "rotation=52.9\n",
    "\n",
    "# The number of layers should be 1 for the Mehrten formation, 1 for the laguna plus the number of TPROGS layers,\n",
    "# where the Laguna formation will be clipped by the TPROGS layers\n",
    "# num_tprogs = 120\n",
    "num_tprogs=1\n",
    "nlay = 2 + num_tprogs\n",
    "# tprog_thick = 0.5\n",
    "tprog_thick = 120*0.5\n",
    "\n",
    "\n",
    "# There is essentially no difference bewtween WGS84 and NAD83 for UTM Zone 10N\n",
    "# proj4_str='EPSG:26910'\n",
    "proj4_str='+proj=utm +zone=10 +ellps=WGS84 +datum=WGS84 +units=m +no_defs '"
   ]
  },
  {
   "cell_type": "code",
   "execution_count": 3,
   "metadata": {},
   "outputs": [],
   "source": [
    "## Set up directory referencing\n",
    "# Package data\n",
    "gwfm_dir = os.path.dirname(os.path.dirname(os.getcwd()))"
   ]
  },
  {
   "cell_type": "code",
   "execution_count": 11,
   "metadata": {},
   "outputs": [
    {
     "data": {
      "text/plain": [
       "[(645500.0, 4227700.0),\n",
       " (629548.3214234954, 4239764.159754906),\n",
       " (657295.8888597784, 4276453.020480867),\n",
       " (673247.567436283, 4264388.860725961),\n",
       " (645500.0, 4227700.0)]"
      ]
     },
     "execution_count": 11,
     "metadata": {},
     "output_type": "execute_result"
    }
   ],
   "source": [
    "from flopy.utils.geometry import Polygon, LineString, Point\n",
    "# Original model domain, 44.7 deg angle\n",
    "# m_domain = gpd.read_file(gwfm_dir+'\\\\GWModelDomain_UTM10N\\\\GWModelDomain_Rec_UTM10N.shp')\n",
    "# New model domain 52.9 deg\n",
    "m_domain = gpd.read_file(gwfm_dir+'\\\\NewModelDomain\\\\GWModelDomain_52_9deg_UTM10N_WGS84.shp')\n",
    "\n",
    "# Need to check this when changing model domains\n",
    "xul, yul = list(m_domain.geometry.values[0].exterior.coords)[1]\n",
    "list(m_domain.geometry.values[0].exterior.coords)\n",
    "# m_domain.geometry.values[0].exterior"
   ]
  },
  {
   "cell_type": "code",
   "execution_count": 12,
   "metadata": {},
   "outputs": [],
   "source": [
    "# m = flopy.modflow.Modflow(modelname = 'MF', exe_name = 'MODFLOW-NWT.exe', \n",
    "#                           version = 'mfnwt', model_ws=model_ws)\n",
    "# m = flopy.modflow.Modflow(modelname = 'MF', exe_name = 'mf2005', \n",
    "#                           version = 'mf2005', model_ws=model_ws)\n",
    "#lenuni = 1 is in ft, lenuni = 2 is in meters\n",
    "# itmuni is time unit 5 = years, 4=days, 3 =hours, 2=minutes, 1=seconds\n",
    "\n",
    "dis = flopy.modflow.ModflowDis(nrow=nrow, ncol=ncol, \n",
    "                               nlay=nlay, delr=delr, delc=delc,\n",
    "                               model=m, lenuni = 2, itmuni = 4,\n",
    "                               xul = xul, yul = yul,rotation=rotation, proj4_str=proj4_str,\n",
    "                              nper = nper, perlen=perlen, nstp=nstp, steady = steady,\n",
    "                              start_datetime = strt_date, botm = botm, top = top)\n",
    "# create new discretization package with 1 steady state period\n"
   ]
  },
  {
   "cell_type": "code",
   "execution_count": 13,
   "metadata": {},
   "outputs": [],
   "source": [
    "# load package with the SS period\n",
    "ghb = flopy.modflow.ModflowGhb(model=m, stress_period_data = ghb0,ipakcb=55)\n",
    "chd = flopy.modflow.ModflowChd(model=m, stress_period_data = chd0,ipakcb=55)\n",
    "rch = flopy.modflow.ModflowRch(model=m, rech = rch0,ipakcb=55)\n",
    "wel = flopy.modflow.ModflowWel(model=m, stress_period_data = wel0,ipakcb=55)"
   ]
  },
  {
   "cell_type": "code",
   "execution_count": 14,
   "metadata": {},
   "outputs": [
    {
     "data": {
      "text/plain": [
       "['DIS', 'BAS6', 'LPF', 'GHB', 'CHD', 'RCH', 'WEL', 'OC', 'PCGN']"
      ]
     },
     "execution_count": 14,
     "metadata": {},
     "output_type": "execute_result"
    }
   ],
   "source": [
    "m.get_package_list()\n",
    "# m.dis.nper\n"
   ]
  },
  {
   "cell_type": "code",
   "execution_count": 15,
   "metadata": {},
   "outputs": [],
   "source": [
    "# Load model grid as geopandas object\n",
    "grid_p = gpd.read_file(gwfm_dir+'/DIS_data/grid/grid.shp')\n",
    "# grid_p = gpd.read_file(gwfm_dir+'/DIS_data/44_7_grid/44_7_grid.shp')\n",
    "# print(gwfm_dir)\n",
    "\n",
    "# Find Michigan Bar location\n",
    "# mb_gpd = sensors[sensors.Sensor_id == \"MI_Bar\"]\n",
    "# mb_grid = gpd.sjoin(mb_gpd, grid_p, how = 'left', op = 'intersects')"
   ]
  },
  {
   "cell_type": "code",
   "execution_count": 16,
   "metadata": {},
   "outputs": [],
   "source": [
    "# K values are in m/s\n",
    "scaling_factors = pd.read_csv(all_model_ws+'/GHB_UZF_WEL_scaling.csv',delimiter = ',')\n",
    "\n"
   ]
  },
  {
   "cell_type": "markdown",
   "metadata": {},
   "source": [
    "## Import soil data for Lake Package, UZF Package, SFR Package hydraulic parameters"
   ]
  },
  {
   "cell_type": "code",
   "execution_count": 10,
   "metadata": {},
   "outputs": [],
   "source": [
    "mb_name = gwfm_dir+\"/NewModelDomain/GWModelDomain_52_9deg_UTM10N_WGS84.shp\"\n",
    "\n",
    "mb = gpd.read_file(mb_name)\n",
    "mb = mb.to_crs('epsg:32610')"
   ]
  },
  {
   "cell_type": "code",
   "execution_count": 11,
   "metadata": {},
   "outputs": [],
   "source": [
    "uzf_path = gwfm_dir+'\\\\UZF_data'\n",
    "soil_path = uzf_path+'\\\\wss_gsmsoil_CA'\n",
    "# # Read in the soil map spatial data\n",
    "# soil_gpd = gpd.read_file(uzf_path+'\\\\wss_gsmsoil_CA\\\\spatial\\\\gsmsoilmu_a_ca.shp')\n",
    "# soil_gpd = soil_gpd.to_crs('EPSG:32610')\n",
    "# # soil_gpd.plot()"
   ]
  },
  {
   "cell_type": "markdown",
   "metadata": {},
   "source": [
    "### Write grid_uzf to shapefile to avoid having to repeat analysis"
   ]
  },
  {
   "cell_type": "code",
   "execution_count": 12,
   "metadata": {},
   "outputs": [],
   "source": [
    "# grid_uzf.to_file(uzf_path+'/final_grid_uzf/griduzf.shp')\n",
    "# grid_uzf = gpd.read_file(uzf_path+'/final_grid_uzf/griduzf.shp')"
   ]
  },
  {
   "cell_type": "code",
   "execution_count": 13,
   "metadata": {},
   "outputs": [],
   "source": [
    "# def fill_uzf(uzfvalues, grid_uzf):\n",
    "#     # convert geopandas object to regular np array for soil data\n",
    "#     temp = np.zeros((nrow,ncol))\n",
    "#     temp[(grid_uzf.row.values-1).astype(int),(grid_uzf.column.values-1).astype(int)] = uzfvalues\n",
    "#     return(temp)"
   ]
  },
  {
   "cell_type": "code",
   "execution_count": 14,
   "metadata": {},
   "outputs": [],
   "source": [
    "soilKs_array = np.loadtxt(uzf_path+'/final_soil_arrays/final_soilKs.tsv', delimiter = '\\t')\n",
    "soiln_array = np.loadtxt(uzf_path+'/final_soil_arrays/final_soiln.tsv', delimiter = '\\t')\n",
    "soileps_array = np.loadtxt(uzf_path+'/final_soil_arrays/final_soileps.tsv', delimiter = '\\t')\n",
    "soildepth_array = np.loadtxt(uzf_path+'/final_soil_arrays/final_soildepth.tsv', delimiter = '\\t')\n",
    "\n",
    "# soilKs_array = fill_uzf(grid_uzf.Ksat_Rep, grid_uzf)\n",
    "# soiln_array = fill_uzf(grid_uzf.Porosity_R, grid_uzf)\n",
    "# soileps_array = fill_uzf(grid_uzf.EPS, grid_uzf)\n",
    "\n",
    "# np.savetxt(uzf_path+'/final_soilKs.tsv', soilKs_array, delimiter = '\\t')\n",
    "# np.savetxt(uzf_path+'/final_soiln.tsv', soiln_array, delimiter = '\\t')\n",
    "# np.savetxt(uzf_path+'/final_soileps.tsv', soileps_array, delimiter = '\\t')"
   ]
  },
  {
   "cell_type": "markdown",
   "metadata": {},
   "source": [
    "## Reload already set steady state model"
   ]
  },
  {
   "cell_type": "code",
   "execution_count": 15,
   "metadata": {},
   "outputs": [],
   "source": [
    "loadpth = 'C://WRDAPP/GWFlowModel/Cosumnes_Blodgett_scenarios/'\n",
    "model_ws = loadpth +'new_0025cfs'\n",
    "m = flopy.modflow.Modflow.load('MF.nam', model_ws= model_ws, \n",
    "                                exe_name='mf2005', version='mf2005')"
   ]
  },
  {
   "cell_type": "code",
   "execution_count": 16,
   "metadata": {},
   "outputs": [],
   "source": [
    "m.get_package_list()\n",
    "m.remove_package('SFR')"
   ]
  },
  {
   "cell_type": "markdown",
   "metadata": {},
   "source": [
    "# SFR"
   ]
  },
  {
   "cell_type": "code",
   "execution_count": 103,
   "metadata": {},
   "outputs": [],
   "source": [
    "gwfm_dir = os.path.dirname(os.path.dirname(os.getcwd()))\n",
    "sfr = m.sfr\n",
    "sfr_dir = gwfm_dir+'/SFR_data/'"
   ]
  },
  {
   "cell_type": "code",
   "execution_count": 104,
   "metadata": {},
   "outputs": [],
   "source": [
    "# grid_sfr.to_file(sfr_dir+'/final_grid_sfr/grid_sfr.shp')\n",
    "grid_sfr = gpd.read_file(sfr_dir+'/final_grid_sfr/grid_sfr.shp')\n"
   ]
  },
  {
   "cell_type": "markdown",
   "metadata": {},
   "source": [
    "## Adjust Blodgett Dam scenario here"
   ]
  },
  {
   "cell_type": "code",
   "execution_count": 105,
   "metadata": {},
   "outputs": [],
   "source": [
    "# scenario = 'design'\n",
    "scenario = 'actual'\n",
    "# scenario = 'new'\n"
   ]
  },
  {
   "cell_type": "code",
   "execution_count": 106,
   "metadata": {},
   "outputs": [
    {
     "name": "stderr",
     "output_type": "stream",
     "text": [
      "C:\\Users\\ajcalder\\Anaconda3\\envs\\geosp\\lib\\site-packages\\pandas\\core\\indexing.py:1720: SettingWithCopyWarning: \n",
      "A value is trying to be set on a copy of a slice from a DataFrame.\n",
      "Try using .loc[row_indexer,col_indexer] = value instead\n",
      "\n",
      "See the caveats in the documentation: https://pandas.pydata.org/pandas-docs/stable/user_guide/indexing.html#returning-a-view-versus-a-copy\n",
      "  self._setitem_single_column(loc, value, pi)\n",
      "C:\\Users\\ajcalder\\Anaconda3\\envs\\geosp\\lib\\site-packages\\pandas\\core\\indexing.py:1720: SettingWithCopyWarning: \n",
      "A value is trying to be set on a copy of a slice from a DataFrame.\n",
      "Try using .loc[row_indexer,col_indexer] = value instead\n",
      "\n",
      "See the caveats in the documentation: https://pandas.pydata.org/pandas-docs/stable/user_guide/indexing.html#returning-a-view-versus-a-copy\n",
      "  self._setitem_single_column(loc, value, pi)\n"
     ]
    }
   ],
   "source": [
    "# XSlocs = gpd.read_file(sfr_dir+'8pointXS_locs/8pointXS_locs.shp')\n",
    "# new shapefile with an extra point for blodgett dam as site 16.5\n",
    "XSlocs = gpd.read_file(gwfm_dir+'/Blodgett_Dam/geospatial/8pointXS_locs/8pointXS_locs.shp')\n",
    "XSlocs.crs = 32610\n",
    "\n",
    "XSg  = gpd.sjoin(grid_sfr, XSlocs, how = \"inner\", op= \"contains\", lsuffix = 'sfr',rsuffix = 'xs')\n",
    "# print(len(XSg))\n",
    "\n",
    "# # Append the grid_breach location to the list of cross sections to split the segment\n",
    "# XSg = XSg.append(grid_breach).sort_values('reach')\n",
    "# # Copy the XS site name from the previous last site to the breach site to keep same XS\n",
    "# XSg.Site.iloc[-1] = XSg.Site.iloc[-2]\n",
    "# len(XSg), len(XS8pt.loc[0,:])/2\n",
    "\n",
    "# for all scenarios there will be a new XS 16.5 representing the XS just after the dam\n",
    "# and a new XS 16.2 just before the dam for routing/diversion programming\n",
    "# XS 16.4 represents the side channel for teh actual scenario and the recontoured XS for the new scenario\n",
    "if (scenario == 'actual')|(scenario=='new'):\n",
    "    XSg_side = XSg.loc[XSg.Site==16.5]\n",
    "    XSg_side.loc[:,'Site'] = 16.4\n",
    "    XSg = XSg.append(XSg_side)\n",
    "if scenario=='actual':\n",
    "    XSg_rout = XSg.loc[XSg.Site==16.5]\n",
    "    XSg_rout.loc[:,'Site'] = 16.3\n",
    "    XSg = XSg.append(XSg_rout)\n",
    "# if the scneario is the restructured or designed dam then no change in the segments is necessary\n",
    "# sort by site to make sure any XS added are properly included\n",
    "XSg = XSg.sort_values('Site')\n",
    "# print(len(XSg))\n"
   ]
  },
  {
   "cell_type": "code",
   "execution_count": 107,
   "metadata": {},
   "outputs": [],
   "source": [
    "# segment 16.2 is just an extra artificial reach to help with diversion\n",
    "# since it exists in the actual and design scenario it should be kept in the new scenario as well for uniformity in recharge\n",
    "# if (scenario =='actual') | (scenario=='design'):\n",
    "# keep extra short segment before dam for now in case needed for later and for consistency in stream leakage\n",
    "pre_rch_num = XSg.loc[XSg.Site==16.2,'reach'].iloc[0]\n",
    "add_rch = grid_sfr.loc[grid_sfr.reach== pre_rch_num].copy()\n",
    "# for all reaches after added reach, need to add 1 to the reach number\n",
    "grid_sfr.loc[grid_sfr.reach>pre_rch_num,'reach'] = grid_sfr.loc[grid_sfr.reach>pre_rch_num,'reach'] +1\n",
    "# using the desired reach add 1 to just the duplicate\n",
    "add_rch.reach +=1\n",
    "# extra channel is 10m in length because it is there just to allow transfer of flow\n",
    "grid_sfr.loc[grid_sfr.reach== pre_rch_num,'length_m'] = 10\n",
    "add_rch.z = add_rch.z-10*add_rch.slope # adjust elevation of added reach to account for slope required\n",
    "grid_sfr = grid_sfr.append(add_rch).sort_values('reach')\n",
    "# adjust XSg to account for chnages to grid_sfr\n",
    "XSg.loc[XSg.reach>pre_rch_num,'reach'] +=1\n",
    "XSg.loc[XSg.Site==16.2,'reach']+=1 #add one to 16.2 because can't have two of the same reach\n",
    "   \n",
    "    \n",
    "if scenario=='actual':\n",
    "       # need to duplicate the side channel reach for the segment\n",
    "    add_rch_num = XSg.loc[XSg.Site==16.3,'reach'].iloc[0]\n",
    "    add_rch = grid_sfr.loc[grid_sfr.reach== add_rch_num].copy()\n",
    "    # for all reaches after added reach, need to add 1 to the reach number\n",
    "    grid_sfr.loc[grid_sfr.reach>add_rch_num,'reach'] = grid_sfr.loc[grid_sfr.reach>add_rch_num,'reach'] +1\n",
    "    # using the desired reach add 1 to just the duplicate\n",
    "    add_rch.reach +=1\n",
    "\n",
    "    # side channel is 70m in length from satellite\n",
    "    # length of reach after dam can be kept the same but could be reduced slightly to account for addition of flooding/lake\n",
    "    grid_sfr.loc[grid_sfr.reach== add_rch_num,'length_m'] = 5\n",
    "    add_rch.z = add_rch.z-5*add_rch.slope # adjust elevation of added reach to account for slope required\n",
    "    grid_sfr = grid_sfr.append(add_rch).sort_values('reach')\n",
    "    \n",
    "    # adjust XSg to account for chnages to grid_sfr\n",
    "    XSg.loc[XSg.reach>add_rch_num,'reach'] +=1\n",
    "    XSg.loc[XSg.Site==16.4,'reach']+=1 #add one to 16.5 because can't have two of the same reach\n",
    "    XSg.loc[XSg.Site==16.5,'reach']+=1\n",
    "    \n",
    "# in the actual scenario 16.4 represents the side channel, in the new scenario it represents the recontoured Blodgett Dam\n",
    "if (scenario =='actual')|(scenario=='new'):\n",
    "    # need to duplicate the side channel reach for the segment\n",
    "    add_rch_num = XSg.loc[XSg.Site==16.4,'reach'].iloc[0]\n",
    "    add_rch = grid_sfr.loc[grid_sfr.reach== add_rch_num].copy()\n",
    "    # for all reaches after added reach, need to add 1 to the reach number\n",
    "    grid_sfr.loc[grid_sfr.reach>add_rch_num,'reach'] = grid_sfr.loc[grid_sfr.reach>add_rch_num,'reach'] +1\n",
    "    # using the desired reach add 1 to just the duplicate\n",
    "    add_rch.reach +=1\n",
    "\n",
    "    # side channel is 70m in length from satellite\n",
    "    # length of reach after dam can be kept the same but could be reduced slightly to account for addition of flooding/lake\n",
    "    grid_sfr.loc[grid_sfr.reach== add_rch_num,'length_m'] = 70\n",
    "    add_rch.z = add_rch.z-70*add_rch.slope # adjust elevation of added reach to account for slope required\n",
    "    grid_sfr = grid_sfr.append(add_rch).sort_values('reach')\n",
    "    \n",
    "    # adjust XSg to account for chnages to grid_sfr\n",
    "    XSg.loc[XSg.reach>add_rch_num,'reach'] +=1\n",
    "    XSg.loc[XSg.Site==16.5,'reach']+=1 #add one to 16.5 because can't have two of the same reach\n",
    "\n"
   ]
  },
  {
   "cell_type": "code",
   "execution_count": 108,
   "metadata": {},
   "outputs": [],
   "source": [
    "XSg['iseg'] = np.arange(2,len(XSg)+2) # add the segment that corresponds to each cross section"
   ]
  },
  {
   "cell_type": "code",
   "execution_count": 109,
   "metadata": {},
   "outputs": [],
   "source": [
    "XS8pt = pd.read_csv(sfr_dir+'8pointXS.csv')\n",
    "\n",
    "if scenario == 'design':\n",
    "    # designed scenario flow through dam only\n",
    "    new_xs = pd.read_csv(gwfm_dir+'/Blodgett_Dam/geospatial/02_designed_XS.csv', skiprows=1)\n",
    "elif scenario =='actual':\n",
    "    # current situation, flow around dam and after dam\n",
    "    new_xs = pd.read_csv(gwfm_dir+'/Blodgett_Dam/geospatial/03_actual_XS.csv', skiprows=1)\n",
    "elif scenario =='new':\n",
    "    # depending scenario, use different input cross sections for 16.5\n",
    "    new_xs = pd.read_csv(gwfm_dir+'/Blodgett_Dam/geospatial/01_New_wide_XS.csv',skiprows=1)\n",
    "\n",
    "# if there is a scenario then need to add the new XS\n",
    "if scenario != 'none':\n",
    "    XS8pt = pd.concat([XS8pt,new_xs],axis=1)"
   ]
  },
  {
   "cell_type": "markdown",
   "metadata": {},
   "source": [
    "some of the XS are not lining up with grid_sfr so they aren't being connected. Need to fix this and also look at how many XS are really needed to capture the change in river morphology"
   ]
  },
  {
   "cell_type": "code",
   "execution_count": 110,
   "metadata": {},
   "outputs": [],
   "source": [
    "# all parameters were removed that use the default values (UZF params unused)\n",
    "# There is one reach for each cell that a river crosses\n",
    "NSTRM = -len(grid_sfr)\n",
    "# There should a be a stream segment if there are major changes\n",
    "# in variables in Item 4 or Item 6\n",
    "# 1st segment is for the usgs Michigan Bar rating curve, one for each XS, plus 2 for the floodplain diversion\n",
    "NSS = 1 + len(XSg) \n",
    "# nparseg (int) number of stream-segment definition with all parameters, must be zero when nstrm is negative\n",
    "NPARSEG = 0\n",
    "CONST = 86400 # mannings constant for SI units, 1.0 for seconds, 86400 for days\n",
    "# real value equal to the tolerance of stream depth used in computing leakage between each stream reach and active model cell\n",
    "DLEAK = 0.0001 # unit in lengths, 0.0001 is sufficient for units of meters\n",
    "IPAKCB = 55 # writes out stream depth, width, conductance, gradient when cell by cell\n",
    "ISTCB2 = 54 # formatted file for stream output\n",
    "ISFROPT = 1 # isfropt = 1 is no unsat flow\n",
    "# flwtol (float), flow tolerance, a value of 0.00003 m3/s has been used successfully (default of 0.0001)\n",
    "FLWTOL = 3 # 0.00003 m3/s = 2.592 m3/day\n",
    "\n",
    "\n",
    "sfr = flopy.modflow.ModflowSfr2(model = m, nstrm = NSTRM, nss = NSS, nparseg = NPARSEG, \n",
    "                           const = CONST, dleak = DLEAK, ipakcb = IPAKCB, istcb2 = ISTCB2, \n",
    "                          isfropt = ISFROPT, flwtol = FLWTOL,\n",
    "                                reachinput=True, transroute=True, tabfiles=False)\n",
    "# tabfiles is False as we are running steady state scenarios"
   ]
  },
  {
   "cell_type": "code",
   "execution_count": 111,
   "metadata": {},
   "outputs": [],
   "source": [
    "xs_sfr = grid_sfr.set_index('reach')\n",
    "# set all reaches to start as segment 1 which will be changed iteratively based on the number of cross-sections\n",
    "xs_sfr['iseg'] = 1\n",
    "# add a column reach_new that will be changed iteratively as the segment number is changed\n",
    "xs_sfr['reach_new'] = xs_sfr.index\n",
    "# xs_sfr"
   ]
  },
  {
   "cell_type": "code",
   "execution_count": 112,
   "metadata": {},
   "outputs": [
    {
     "name": "stderr",
     "output_type": "stream",
     "text": [
      "C:\\Users\\ajcalder\\Anaconda3\\envs\\geosp\\lib\\site-packages\\pandas\\core\\indexing.py:1637: SettingWithCopyWarning: \n",
      "A value is trying to be set on a copy of a slice from a DataFrame\n",
      "\n",
      "See the caveats in the documentation: https://pandas.pydata.org/pandas-docs/stable/user_guide/indexing.html#returning-a-view-versus-a-copy\n",
      "  self._setitem_single_block(indexer, value, name)\n"
     ]
    }
   ],
   "source": [
    "## Given the reach number of each XS, the 718 reaches will be broken down into each segment\n",
    "## create a new reach column based on XS reach number and \n",
    "\n",
    "for i in np.arange(0,len(XSg)):\n",
    "    temp_reach = XSg.reach.values[i]\n",
    "    rchnum = xs_sfr.index[-1] - temp_reach+1\n",
    "    xs_sfr.reach_new.loc[temp_reach:] = np.linspace(1,rchnum, rchnum)\n",
    "#     xs_sfr.iseg.loc[temp_reach:] = segcount\n",
    "    xs_sfr.iseg.loc[temp_reach:] = XSg.iseg.values[i]\n"
   ]
  },
  {
   "cell_type": "code",
   "execution_count": 113,
   "metadata": {},
   "outputs": [],
   "source": [
    "xs_sfr.reach_new = xs_sfr.reach_new.astype(int)\n"
   ]
  },
  {
   "cell_type": "code",
   "execution_count": 114,
   "metadata": {},
   "outputs": [],
   "source": [
    "nlay = m.dis.nlay\n",
    "botm = m.dis.botm.array"
   ]
  },
  {
   "cell_type": "code",
   "execution_count": 115,
   "metadata": {},
   "outputs": [],
   "source": [
    "# Determine which layer the streamcell is in\n",
    "# since the if statement only checks whether the first layer is greater than the streambed elevation, \n",
    "# otherwise it would be less than and zero (most should be in layer 0)\n",
    "sfr_lay = np.zeros(len(grid_sfr))\n",
    "\n",
    "for i in np.arange(0,nlay-1):\n",
    "    # pull out elevation of layer bottom\n",
    "    lay_elev = botm[i, (grid_sfr.row.values-1).astype(int), (grid_sfr.column.values-1).astype(int)]\n",
    "    for j in np.arange(0,len(grid_sfr)):\n",
    "        # want to compare if streambed is lower than the layer bottom\n",
    "        # 1 will be subtracted from each z value to make sure it is lower than the model top in the upper reaches\n",
    "        if lay_elev[j] < (grid_sfr.z.values-1)[j]:\n",
    "            sfr_lay[j] = i \n",
    "        \n"
   ]
  },
  {
   "cell_type": "code",
   "execution_count": 116,
   "metadata": {},
   "outputs": [],
   "source": [
    "# KRCH, IRCH, JRCH, ISEG, IREACH, RCHLEN, STRTOP, SLOPE, STRTHICK, STRHC1, THTS, THTI, EPS, UHC\n",
    "\n",
    "columns = ['KRCH', 'IRCH', 'JRCH', 'ISEG', 'IREACH', 'RCHLEN', 'STRTOP', \n",
    "               'SLOPE', 'STRTHICK', 'STRHC1', 'THTS', 'THTI', 'EPS', 'UHC']\n",
    "\n",
    "sfr.reach_data.node = grid_sfr.index\n",
    "sfr.reach_data.k = sfr_lay.astype(int)\n",
    "sfr.reach_data.i = grid_sfr.row.values-1\n",
    "sfr.reach_data.j = grid_sfr.column.values-1\n",
    "sfr.reach_data.iseg = xs_sfr.iseg\n",
    "sfr.reach_data.ireach = xs_sfr.reach_new\n",
    "sfr.reach_data.rchlen = xs_sfr.length_m.values\n",
    "sfr.reach_data.strtop = grid_sfr.z.values-1\n",
    "sfr.reach_data.slope = grid_sfr.slope.values\n",
    " # a guess of 2 meters thick streambed was appropriate\n",
    "sfr.reach_data.strthick = soildepth_array[sfr.reach_data.i, sfr.reach_data.j]\n",
    "sfr.reach_data.thts = soiln_array[sfr.reach_data.i, sfr.reach_data.j]\n",
    "sfr.reach_data.thti = sfr.reach_data.thts\n",
    "sfr.reach_data.eps = soileps_array[sfr.reach_data.i, sfr.reach_data.j]\n",
    "\n",
    "# sfr.reach_data.strthick = 1.5\n",
    "# sfr.reach_data.thts = 0.4\n",
    "# sfr.reach_data.thti = 0.2\n",
    "# sfr.reach_data.eps = 4\n"
   ]
  },
  {
   "cell_type": "code",
   "execution_count": 117,
   "metadata": {},
   "outputs": [],
   "source": [
    "grid_sfr['dist_m'] = grid_sfr.length_m.cumsum()\n",
    "grid_sfr.dist_m -= grid_sfr.dist_m.iloc[0]"
   ]
  },
  {
   "cell_type": "code",
   "execution_count": null,
   "metadata": {},
   "outputs": [],
   "source": []
  },
  {
   "cell_type": "code",
   "execution_count": 118,
   "metadata": {},
   "outputs": [],
   "source": [
    "# based on FIgure 7 Subtrate composition profile map of the Cosumnes RIver from COnstantine 2001\n",
    "# calculate distance from MB to first XS measured by Constantine and start of soil profile\n",
    "dist_from_MB_to_XS = xs_sfr.loc[xs_sfr.iseg==1].length_m.sum()\n",
    "subs_prof = pd.read_csv(sfr_dir+'substrate_river_profile.csv',skiprows=1)\n",
    "# the start of the Constantine profile is about 20km downstream from Michigann Bar which is the start of SFR\n",
    "subs_prof.end_river_km += (dist_from_MB_to_XS/1000)\n",
    "subs_prof['river_m'] = subs_prof.end_river_km * 1000\n",
    "\n",
    "# range for tprogs is from 300 m/d for gravel to 0.5 m/d for mud\n",
    "# but anything above 0.1 causes too much interchange with the aquifer\n",
    "k_alluv = 0.1\n",
    "k_duri = 1E-3#0.001 \n",
    "k_alt = gmean([k_alluv,k_duri])\n",
    "subs_prof['ksat'] = 0\n",
    "subs_prof.loc[subs_prof.substrate=='alluvial','ksat'] = k_alluv\n",
    "subs_prof.loc[subs_prof.substrate=='duripan','ksat'] = k_duri\n",
    "subs_prof.loc[subs_prof.substrate=='alternating','ksat'] = k_alt\n",
    "\n",
    "sfr_K = np.ones(len(grid_sfr))*subs_prof.ksat[0]\n",
    "subs_prof\n",
    "for i in np.arange(0,len(subs_prof)-1):\n",
    "    sfr_K[grid_sfr.dist_m>subs_prof.river_m[i]] = subs_prof.ksat[i+1]"
   ]
  },
  {
   "cell_type": "code",
   "execution_count": null,
   "metadata": {},
   "outputs": [],
   "source": []
  },
  {
   "cell_type": "code",
   "execution_count": 119,
   "metadata": {},
   "outputs": [],
   "source": [
    "if scenario=='actual':\n",
    "    rout_reach = xs_sfr.loc[xs_sfr.iseg==XSg.loc[XSg.Site==16.3,'iseg'].iloc[0]].index\n",
    "    \n",
    "    # remove Ksat for short seg after dam\n",
    "    sfr_K[rout_reach] = 1E-8"
   ]
  },
  {
   "cell_type": "code",
   "execution_count": 120,
   "metadata": {},
   "outputs": [],
   "source": [
    "# set stream hydraulic conductivity based on soil maps\n",
    "# sfr.reach_data.strhc1 = soilKs_array[sfr.reach_data.i, sfr.reach_data.j]*scalingfactors.RIV\n",
    "# set hydraulic conductivity smaller than aquifer hydraulic conductivity to limit interaction\n",
    "# and ease the numerical stress\n",
    "sfr.reach_data.strhc1 = sfr_K\n",
    "\n",
    "# calibration of the whole river now by scaling conductivity\n",
    "# m.sfr.reach_data.strhc1 = m.sfr.reach_data.strhc1 * scaling_factors.RIV.values\n",
    "# next step is to break river up into reaches based on the grain size analysis or perhaps just by stream segment"
   ]
  },
  {
   "cell_type": "code",
   "execution_count": 121,
   "metadata": {},
   "outputs": [],
   "source": [
    "# grid_sfr['sfr_K'] = sfr_K\n",
    "# plt_dir = gwfm_dir+'/Blodgett_Dam/figures/'\n",
    "\n",
    "# if grid_sfr.sfr_K.min() >1E-4:\n",
    "#     vmin = grid_sfr.sfr_K.min()\n",
    "# else:\n",
    "#     vmin = 1E-3\n",
    "    \n",
    "# fig,ax=plt.subplots(1,2,figsize=(12,6))\n",
    "# grid_sfr.plot('sfr_K',ax=ax[0],alpha=0.5,legend=False,\n",
    "#              norm=mpl.colors.LogNorm(vmin=vmin, vmax=grid_sfr.sfr_K.max()))\n",
    "# ctx.add_basemap(ax[0], source = ctx.providers.Esri.WorldImagery, crs='epsg:26910', alpha = 0.6)\n",
    "\n",
    "# K_plot = grid_sfr[(grid_sfr.reach>90)&(grid_sfr.reach<110)].plot('sfr_K',ax=ax[1],alpha=0.6,legend=True, \n",
    "#                                                                  norm=mpl.colors.LogNorm(vmin=vmin, vmax=grid_sfr.sfr_K.max()),\n",
    "#                                                                 legend_kwds={'shrink':0.7,'label':'Hydr. Cond. (m/d)'})\n",
    "# # ax[1].colorbar(shrink=0.7)\n",
    "# ctx.add_basemap(ax[1], source = ctx.providers.Esri.WorldImagery, crs='epsg:26910', alpha = 0.6)\n",
    "# ax[0].ticklabel_format(style='plain')\n",
    "# ax[1].ticklabel_format(style='plain')\n",
    "\n",
    "# plt.savefig(plt_dir+scenario+'stream_K_longitudinal mapping.png',dpi=600,bbox_inches='tight')"
   ]
  },
  {
   "cell_type": "code",
   "execution_count": 122,
   "metadata": {},
   "outputs": [],
   "source": [
    "mb4rl = pd.read_csv(sfr_dir+'michigan_bar_icalc4_data.csv', skiprows = 0, sep = ',')\n"
   ]
  },
  {
   "cell_type": "markdown",
   "metadata": {},
   "source": [
    "## Define segment data"
   ]
  },
  {
   "cell_type": "code",
   "execution_count": 123,
   "metadata": {},
   "outputs": [],
   "source": [
    "sfr_seg = sfr.segment_data[0].copy()"
   ]
  },
  {
   "cell_type": "code",
   "execution_count": 124,
   "metadata": {},
   "outputs": [
    {
     "name": "stdout",
     "output_type": "stream",
     "text": [
      "15 17\n",
      "18\n"
     ]
    }
   ],
   "source": [
    "# 15.0=14, 16.2 = 15, 16.4 = 16, 16.5 = 17, 17.0=18\n",
    "# 14 outseg will be the side channel (16), 15 is the diversion before the Dam from 14 iupseg\n",
    "# outseg for 15 will be -1 for the lake representing BLodgett Dam\n",
    "# there is a diversion from 15 (segment to Dam) to 16 (side channel) to correct for the flood diversion\n",
    "# so that below 500 cfs flow only goes to the side channel and above 500 cfs flow is 80% to Dam and 20% to side channel\n",
    "# based on the idea that the side channel has a XS roughly 1/4 the size of the main channel and under high flows there\n",
    "# will be more depth and force that flow will most likely be dominantly straight and avoid the side channel more\n",
    "if scenario =='actual':\n",
    "    pre_seg = XSg.loc[XSg.Site==16.2,'iseg'].iloc[0]\n",
    "    side_seg = XSg.loc[XSg.Site==16.4,'iseg'].iloc[0]\n",
    "    rout_seg = XSg.loc[XSg.Site==16.3,'iseg'].iloc[0]\n",
    "    print(pre_seg, side_seg)\n",
    "if (scenario =='actual') | (scenario=='design'):\n",
    "    post_seg = XSg.loc[XSg.Site==16.5,'iseg'].iloc[0]\n",
    "    print(post_seg)"
   ]
  },
  {
   "cell_type": "code",
   "execution_count": 125,
   "metadata": {},
   "outputs": [
    {
     "name": "stdout",
     "output_type": "stream",
     "text": [
      "Seepage average (m^3/d) 1500.0 seep avg (cfs) 0.6131018528036212\n",
      "Seepage as % of flow: 0.024524074112144845  for 25 cfs 0.004087345685357475 for 150 cfs\n"
     ]
    }
   ],
   "source": [
    "# there is roughly 1000 sq. m inundated by the Blodgett Dam under lower flow conditions\n",
    "# (with 1000 m^2 being generous/assuming more than actual\n",
    "dam_area = 1000\n",
    "# ksat_guess = 0.01 # m/day, silty\n",
    "ksat_guess = 1 # sandy\n",
    "flow_guess = ksat_guess*dam_area\n",
    "cfs_guess = flow_guess/(0.3048**3)/86400\n",
    "# assuming head gradient is 1.5, roughly 3 ft deep and may be 6 ft clogging layer we would have 9/6 = 1.5\n",
    "print('Seepage average (m^3/d)',flow_guess*1.5, 'seep avg (cfs)',cfs_guess*1.5)\n",
    "print( 'Seepage as % of flow:', cfs_guess*1.5/25,' for 25 cfs', cfs_guess*1.5/150, 'for 150 cfs')\n",
    "dam_div = 0.05 # set the diversion as 5% of given streamflow as conservative estimate\n",
    "# assuming the sandy hydraulic conductivity and a disconnected aquifer, we would expect for very low flows a high \n",
    "# of around 2.5% of flow seeping into the ground, we could assume more water going in because of more area under higher flow"
   ]
  },
  {
   "cell_type": "markdown",
   "metadata": {},
   "source": [
    "## Need to adjust segment connections to add or remove LAK under different scenarios"
   ]
  },
  {
   "cell_type": "code",
   "execution_count": 126,
   "metadata": {},
   "outputs": [],
   "source": [
    "# alternate version of segment data loading using if statements when filtering data rather than in a loop\n",
    "sfr_seg.nseg = np.arange(1,NSS+1)\n",
    "\n",
    "sfr_seg.icalc = 2 # Mannings and 8 point channel XS is 2 with plain MF, 5 with SAFE\n",
    "sfr_seg.icalc[0] = 4 # use stage, discharge width method for Michigan Bar (nseg=1)\n",
    "sfr_seg.nstrpts[sfr_seg.icalc==4] = len(mb4rl) # specify number of points used for flow calcs\n",
    "sfr_seg.outseg = sfr_seg.nseg+1 # the outsegment will typically be the next segment in the sequence\n",
    "sfr_seg.iupseg = 0 # iupseg is zero for no diversion\n",
    "# correct outseg and iupseg to account for Blodgett Dam scenario\n",
    "if scenario =='design':\n",
    "    sfr_seg.outseg[sfr_seg.nseg==post_seg-1]=0 # segment before dam flows to RIV and so \"leaves\" domain, assume fills up dam\n",
    "#     sfr_seg.iupseg[sfr_seg.nseg==post_seg]=-1 # lake outflow is diverted to segment after dam\n",
    "elif scenario == 'actual':\n",
    "    # given that dam is only used a low flows, dam will divert a steady 20%\n",
    "    sfr_seg.outseg[sfr_seg.nseg==pre_seg-1] = side_seg # the river should flow to the side segment first\n",
    "     # there will be a diversion from the river to the dam above 500 cfs, of which 20% will be returned to the side channel\n",
    "    sfr_seg.iupseg[sfr_seg.nseg==pre_seg] = pre_seg-1\n",
    "    sfr_seg.iprior[sfr_seg.nseg==pre_seg] = -2 # iprior=-3 any flows above the flow specified will be diverted\n",
    "    sfr_seg.flow[sfr_seg.nseg==pre_seg] = dam_div #\n",
    "    sfr_seg.outseg[sfr_seg.nseg==pre_seg] = 0 #outflow from short segment before Dam is the LAK for the dam, but to nowhere for RIV\n",
    "    # there is a problem with flow routing to S16 after the diversion to 15 so the remaining diversion will be to S16\n",
    "    sfr_seg.iupseg[sfr_seg.nseg==side_seg] = pre_seg-1\n",
    "    sfr_seg.iprior[sfr_seg.nseg==side_seg] = -2 # iprior=-3 any flows above the flow specified will be diverted\n",
    "    sfr_seg.flow[sfr_seg.nseg==side_seg] = 1-dam_div  #(0.3048**3)*86400 # 500 cfs is the start of higher flow in the Cosumnes\n",
    "    # adjust for flow from pre dam segment back to side channel, remove diversion from dam to side\n",
    "#     sfr_seg.iupseg[sfr_seg.nseg==side_seg] = pre_seg\n",
    "#     sfr_seg.iprior[sfr_seg.nseg==side_seg] = -2 # the flow diverted is a % of the total flow in the channel\n",
    "#     sfr_seg.flow[sfr_seg.nseg==side_seg] = 0.2 # the side channel is about 1/4 the size so 20% of flow should run through\n",
    "    # divert flow from lake back into the segment after the dam\n",
    "#     sfr_seg.iupseg[sfr_seg.nseg==rout_seg] = -1 # no need to change iprior because diversion is based on lake stage\n",
    "    sfr_seg.outseg[sfr_seg.nseg==rout_seg] = post_seg\n",
    "    # try routing flow from 16 to 18 with a diversionn\n",
    "#     sfr_seg.iupseg[sfr_seg.nseg==post_seg+1] = side_seg\n",
    "#     sfr_seg.iprior[sfr_seg.nseg==post_seg+1] = -2\n",
    "#     sfr_seg.flow[sfr_seg.nseg==post_seg+1] = 1\n",
    "\n",
    "# set the values for ET, runoff and PPT to 0 as the inflow will be small relative to the flow in the river\n",
    "sfr_seg.runoff = 0.0\n",
    "sfr_seg.etsw = 0.0\n",
    "sfr_seg.pptsw = 0.0\n",
    "\n",
    "# Manning's n data comes from Barnes 1967 UGSS Paper 1849 and USGS 1989 report on selecting manning's n\n",
    "# RoughCH is only specified for icalc = 1 or 2\n",
    "sfr_seg.roughch[(sfr_seg.icalc==1) | (sfr_seg.icalc==2)] = 0.048\n",
    "# ROUGHBK is only specified for icalc = 2\n",
    "sfr_seg.roughbk[(sfr_seg.icalc==2) | (sfr_seg.icalc==5)] = 0.083# higher due to vegetation"
   ]
  },
  {
   "cell_type": "code",
   "execution_count": 127,
   "metadata": {},
   "outputs": [],
   "source": [
    "sfr.segment_data[0] = sfr_seg"
   ]
  },
  {
   "cell_type": "code",
   "execution_count": 128,
   "metadata": {},
   "outputs": [],
   "source": [
    "# Pull out data for upstream and downstream reach of each segment\n",
    "up_data = xs_sfr.drop_duplicates('iseg')\n",
    "dn_data = xs_sfr.sort_values('reach_new',ascending = False).drop_duplicates('iseg').sort_values('iseg')\n",
    "\n",
    "\n",
    "# Need to return to later and remove hard coding\n",
    "# These are getting used for initial guesses\n",
    "# Read in first stress period when ICALC = 1 or 2 and ISFROPT is 5\n",
    "# Dataset 6b\n",
    "sfr.segment_data[0].hcond1 = sfr.reach_data.strhc1[0]\n",
    "sfr.segment_data[0].thickm1 = 2\n",
    "sfr.segment_data[0].elevup = up_data.z.values\n",
    "sfr.segment_data[0].width1 = 20\n",
    "sfr.segment_data[0].depth1 = 1\n",
    "sfr.segment_data[0].thts1 = 0.4\n",
    "sfr.segment_data[0].thti1 = 0.15\n",
    "sfr.segment_data[0].eps1 = 4\n",
    "sfr.segment_data[0].uhc1 = sfr.reach_data.strhc1[0]\n",
    "\n",
    "# Dataset 6c\n",
    "sfr.segment_data[0].hcond2 = sfr.reach_data.strhc1[-1]\n",
    "sfr.segment_data[0].thickm2 = 2\n",
    "sfr.segment_data[0].elevdn = dn_data.z.values\n",
    "sfr.segment_data[0].width2 = 20\n",
    "sfr.segment_data[0].depth2 = 1\n",
    "sfr.segment_data[0].thts2 = 0.4\n",
    "sfr.segment_data[0].thti2 = 0.15\n",
    "sfr.segment_data[0].eps2 = 4\n",
    "sfr.segment_data[0].uhc2 = sfr.reach_data.strhc1[-1]\n"
   ]
  },
  {
   "cell_type": "code",
   "execution_count": 129,
   "metadata": {},
   "outputs": [],
   "source": [
    "# Change column name to float type for easier referencing in iteration\n",
    "XS8pt.columns = XS8pt.columns.astype('float')\n",
    "# Pre-create dictionary to be filled in loop\n",
    "sfr.channel_geometry_data = {0:{j:[] for j in np.arange(2,len(XSg)+2)}  }\n",
    "\n",
    "xsnum = 2\n",
    "for k in XSg.Site.values:\n",
    "        pos = int(XS8pt.columns.get_loc(k))\n",
    "        XCPT = XS8pt.iloc[:,pos].values\n",
    "        ZCPT = XS8pt.iloc[:,pos+1].values\n",
    "        ZCPT_min = np.min(ZCPT)\n",
    "        ZCPT-= ZCPT_min\n",
    "        sfr.channel_geometry_data[0][xsnum] = [XCPT, ZCPT]\n",
    "        xsnum += 1\n",
    "\n"
   ]
  },
  {
   "cell_type": "code",
   "execution_count": 130,
   "metadata": {},
   "outputs": [],
   "source": [
    "FLOWTAB = mb4rl.discharge_va.values\n",
    "DPTHTAB = mb4rl.gage_height_va.values\n",
    "WDTHTAB = mb4rl.chan_width.values\n",
    "sfr.channel_flow_data = {0: {1: [FLOWTAB, DPTHTAB, WDTHTAB]}}"
   ]
  },
  {
   "cell_type": "markdown",
   "metadata": {},
   "source": [
    "## Test a range of flows for the scenarios\n",
    "Because we are looking at all low flow scenarios we are assuming that river disconnection has already occurred and that the boards for the dam were previously installed\n",
    "1. Dam is typically installed around 75 cfs when disconnection occurs\n",
    "2. Dam can be used up to 100 cfs or so\n",
    "3. Dam is most likely continued in use until river is dry 25 cfs\n",
    "4. It would be interesting to test the scenario of higher flows with the dam in place, 150 cfs\n",
    "\n",
    "\n",
    "Test with Riv package at two depths each assumed for 25 and 100 cfs\n",
    "*No changes to LAK package are necessary for individual scenarios*"
   ]
  },
  {
   "cell_type": "code",
   "execution_count": null,
   "metadata": {},
   "outputs": [],
   "source": []
  },
  {
   "cell_type": "code",
   "execution_count": 131,
   "metadata": {},
   "outputs": [],
   "source": [
    "# flows_cfs = np.asarray([25, 75, 100, 150])\n",
    "flows_cfs = np.asarray([25, 100])\n",
    "\n",
    "flows_cmd = flows_cfs *(0.3048**3)*86400\n"
   ]
  },
  {
   "cell_type": "code",
   "execution_count": 132,
   "metadata": {},
   "outputs": [],
   "source": [
    "# m.write_input()\n",
    "# sfr.write_file()\n",
    "\n",
    "# m.remove_package(\"LAK\")\n",
    "# m.remove_package(\"DATA\")"
   ]
  },
  {
   "cell_type": "code",
   "execution_count": 133,
   "metadata": {},
   "outputs": [
    {
     "data": {
      "text/plain": [
       "array([52.])"
      ]
     },
     "execution_count": 133,
     "metadata": {},
     "output_type": "execute_result"
    }
   ],
   "source": [
    "blodgett = XSg.loc[XSg.Site==16.5]\n",
    "blodgett.row.values-1"
   ]
  },
  {
   "cell_type": "markdown",
   "metadata": {},
   "source": [
    "## RIV package"
   ]
  },
  {
   "cell_type": "code",
   "execution_count": 6,
   "metadata": {},
   "outputs": [
    {
     "data": {
      "text/plain": [
       "array([[1.99400000e+01, 0.00000000e+00, 0.00000000e+00],\n",
       "       [1.99600000e+01, 3.52216601e-02, 1.81451250e+00],\n",
       "       [1.99900000e+01, 1.65279119e-01, 5.44353750e+00],\n",
       "       [2.00200000e+01, 4.39727388e-01, 1.17943313e+01],\n",
       "       [2.00500000e+01, 8.87802486e-01, 1.81451250e+01],\n",
       "       [2.00700000e+01, 1.36338661e+00, 2.90322000e+01],\n",
       "       [2.01000000e+01, 2.42007275e+00, 4.62700688e+01],\n",
       "       [2.01300000e+01, 4.10415402e+00, 6.80442187e+01],\n",
       "       [2.01600000e+01, 6.59141684e+00, 9.61691625e+01],\n",
       "       [2.01800000e+01, 8.71501264e+00, 1.10685263e+02],\n",
       "       [2.02100000e+01, 1.25412990e+01, 1.37902950e+02],\n",
       "       [2.02400000e+01, 1.73719201e+01, 1.76007712e+02],\n",
       "       [2.02700000e+01, 2.33237594e+01, 2.26814063e+02],\n",
       "       [2.02900000e+01, 2.81760804e+01, 2.73991388e+02],\n",
       "       [2.03200000e+01, 3.81726240e+01, 4.41833794e+02],\n",
       "       [2.03500000e+01, 5.47202562e+01, 6.82256700e+02],\n",
       "       [2.03800000e+01, 7.96693601e+01, 9.64413394e+02],\n",
       "       [2.04000000e+01, 1.00882199e+02, 1.13497757e+03],\n",
       "       [2.04300000e+01, 1.40962420e+02, 1.43618664e+03],\n",
       "       [2.04600000e+01, 1.86271907e+02, 1.56773880e+03],\n",
       "       [2.04900000e+01, 2.34069122e+02, 1.62489594e+03],\n",
       "       [2.05100000e+01, 2.66754269e+02, 1.64939186e+03],\n",
       "       [2.05400000e+01, 3.16939178e+02, 1.69203291e+03],\n",
       "       [2.05700000e+01, 3.68170943e+02, 1.72287962e+03],\n",
       "       [2.06000000e+01, 4.20303015e+02, 1.74828279e+03],\n",
       "       [2.06200000e+01, 4.55529354e+02, 1.76914969e+03],\n",
       "       [2.06500000e+01, 5.09080730e+02, 1.79364561e+03],\n",
       "       [2.06800000e+01, 5.63222620e+02, 1.81723427e+03],\n",
       "       [2.07100000e+01, 6.17952145e+02, 1.83628665e+03],\n",
       "       [2.07300000e+01, 6.54771830e+02, 1.84535921e+03],\n",
       "       [2.07600000e+01, 7.10533481e+02, 1.86985513e+03],\n",
       "       [2.07900000e+01, 7.66859564e+02, 1.88527849e+03],\n",
       "       [2.08200000e+01, 8.23745594e+02, 1.90523813e+03],\n",
       "       [2.08400000e+01, 8.61965923e+02, 1.91431069e+03],\n",
       "       [2.08700000e+01, 9.19731411e+02, 1.93517758e+03],\n",
       "       [2.09000000e+01, 9.77945156e+02, 1.94969368e+03],\n",
       "       [2.09300000e+01, 1.03669011e+03, 1.96965332e+03],\n",
       "       [2.09500000e+01, 1.07618112e+03, 1.97963314e+03],\n",
       "       [2.09800000e+01, 1.13577828e+03, 1.99324198e+03],\n",
       "       [2.10100000e+01, 1.19575421e+03, 2.00322180e+03],\n",
       "       [2.10400000e+01, 1.25608365e+03, 2.01773790e+03],\n",
       "       [2.10600000e+01, 1.29650728e+03, 2.02953223e+03],\n",
       "       [2.10900000e+01, 1.35751783e+03, 2.04132656e+03],\n",
       "       [2.11200000e+01, 1.41890758e+03, 2.05312089e+03],\n",
       "       [2.11500000e+01, 1.48067698e+03, 2.06582248e+03],\n",
       "       [2.11700000e+01, 1.52207464e+03, 2.07580230e+03],\n",
       "       [2.12000000e+01, 1.58462271e+03, 2.09031840e+03],\n",
       "       [2.12300000e+01, 1.64776640e+03, 2.11481432e+03],\n",
       "       [2.12600000e+01, 1.71149273e+03, 2.13477396e+03],\n",
       "       [2.12800000e+01, 1.75430721e+03, 2.15473359e+03],\n",
       "       [2.13100000e+01, 1.81906805e+03, 2.16834244e+03],\n",
       "       [2.13400000e+01, 1.88451764e+03, 2.19646738e+03],\n",
       "       [2.13700000e+01, 1.95074978e+03, 2.22187056e+03],\n",
       "       [2.13900000e+01, 1.99536571e+03, 2.23820117e+03],\n",
       "       [2.14200000e+01, 2.06287877e+03, 2.26178983e+03],\n",
       "       [2.14500000e+01, 2.13130308e+03, 2.29445106e+03],\n",
       "       [2.14800000e+01, 2.20083355e+03, 2.33255582e+03],\n",
       "       [2.15000000e+01, 2.24763832e+03, 2.35614448e+03],\n",
       "       [2.15300000e+01, 2.31872282e+03, 2.38608394e+03],\n",
       "       [2.15600000e+01, 2.39083507e+03, 2.42055967e+03],\n",
       "       [2.15900000e+01, 2.46405880e+03, 2.45594267e+03],\n",
       "       [2.16100000e+01, 2.51358844e+03, 2.49314018e+03],\n",
       "       [2.16400000e+01, 2.58917644e+03, 2.53396671e+03],\n",
       "       [2.16700000e+01, 2.66619510e+03, 2.59566013e+03],\n",
       "       [2.17000000e+01, 2.74476158e+03, 2.65644630e+03],\n",
       "       [2.17200000e+01, 2.79821639e+03, 2.69727283e+03],\n",
       "       [2.17500000e+01, 2.87990422e+03, 2.75170821e+03],\n",
       "       [2.17800000e+01, 2.96320944e+03, 2.80342181e+03],\n",
       "       [2.18100000e+01, 3.04822772e+03, 2.85967170e+03],\n",
       "       [2.18300000e+01, 3.10583451e+03, 2.89505469e+03],\n",
       "       [2.18600000e+01, 3.19425722e+03, 3.00392544e+03],\n",
       "       [2.18900000e+01, 3.28517244e+03, 3.06924789e+03],\n",
       "       [2.19200000e+01, 3.37803841e+03, 3.12731229e+03],\n",
       "       [2.19400000e+01, 3.44091352e+03, 3.16450980e+03],\n",
       "       [2.19700000e+01, 3.53672674e+03, 3.21622341e+03],\n",
       "       [2.20000000e+01, 3.63392653e+03, 3.26249348e+03],\n",
       "       [2.20300000e+01, 3.73265953e+03, 3.31420708e+03],\n",
       "       [2.20500000e+01, 3.79945185e+03, 3.35140459e+03],\n",
       "       [2.20800000e+01, 3.90104948e+03, 3.41581978e+03],\n",
       "       [2.21100000e+01, 4.00402661e+03, 3.45392454e+03],\n",
       "       [2.21400000e+01, 4.10825742e+03, 3.49928736e+03],\n",
       "       [2.21600000e+01, 4.17850687e+03, 3.52831956e+03],\n",
       "       [2.21900000e+01, 4.28511923e+03, 3.56823883e+03],\n",
       "       [2.22200000e+01, 4.39283110e+03, 3.60906536e+03],\n",
       "       [2.22500000e+01, 4.50172267e+03, 3.64172659e+03],\n",
       "       [2.22700000e+01, 4.57480597e+03, 3.66622251e+03],\n",
       "       [2.23000000e+01, 4.68521746e+03, 3.70432727e+03],\n",
       "       [2.23300000e+01, 4.79686846e+03, 3.74243203e+03],\n",
       "       [2.23600000e+01, 4.90956492e+03, 3.77055697e+03],\n",
       "       [2.23800000e+01, 4.98525614e+03, 3.80049643e+03],\n",
       "       [2.24100000e+01, 5.09978263e+03, 3.83406491e+03],\n",
       "       [2.24400000e+01, 5.21519421e+03, 3.85583906e+03],\n",
       "       [2.24700000e+01, 5.33146344e+03, 3.89394383e+03],\n",
       "       [2.24900000e+01, 5.40941439e+03, 3.90664541e+03],\n",
       "       [2.25200000e+01, 5.52683053e+03, 3.92388328e+03],\n",
       "       [2.25500000e+01, 5.64492358e+03, 3.95200823e+03],\n",
       "       [2.25800000e+01, 5.76394204e+03, 3.98013317e+03],\n",
       "       [2.26000000e+01, 5.84370661e+03, 3.99374201e+03],\n",
       "       [2.26300000e+01, 5.96401685e+03, 4.01733068e+03],\n",
       "       [2.26600000e+01, 6.08507576e+03, 4.05271367e+03],\n",
       "       [2.26900000e+01, 6.20688776e+03, 4.07267331e+03],\n",
       "       [2.27100000e+01, 6.28844203e+03, 4.09172569e+03],\n",
       "       [2.27400000e+01, 6.41148335e+03, 4.11259258e+03],\n",
       "       [2.27700000e+01, 6.53531585e+03, 4.14434655e+03],\n",
       "       [2.28000000e+01, 6.65998960e+03, 4.17065698e+03],\n",
       "       [2.28200000e+01, 6.74362773e+03, 4.18970936e+03],\n",
       "       [2.28500000e+01, 6.86973281e+03, 4.21692705e+03],\n",
       "       [2.28800000e+01, 6.99670793e+03, 4.25049553e+03],\n",
       "       [2.29100000e+01, 7.12449151e+03, 4.27862048e+03],\n",
       "       [2.29300000e+01, 7.21027685e+03, 4.30311639e+03],\n",
       "       [2.29600000e+01, 7.33985280e+03, 4.33668487e+03],\n",
       "       [2.29900000e+01, 7.47022038e+03, 4.35573726e+03],\n",
       "       [2.30200000e+01, 7.60131714e+03, 4.38386220e+03],\n",
       "       [2.30400000e+01, 7.68934934e+03, 4.41198714e+03],\n",
       "       [2.30700000e+01, 7.82207987e+03, 4.44374111e+03],\n",
       "       [2.31000000e+01, 7.95577879e+03, 4.47730959e+03],\n",
       "       [2.31300000e+01, 8.09052849e+03, 4.50724905e+03],\n",
       "       [2.31500000e+01, 8.18083061e+03, 4.52539418e+03],\n",
       "       [2.31800000e+01, 8.31680653e+03, 4.53991028e+03],\n",
       "       [2.32100000e+01, 8.45332821e+03, 4.55714814e+03],\n",
       "       [2.32400000e+01, 8.59037264e+03, 4.57620053e+03],\n",
       "       [2.32600000e+01, 8.68213133e+03, 4.59253114e+03],\n",
       "       [2.32900000e+01, 8.82034615e+03, 4.62065608e+03],\n",
       "       [2.33200000e+01, 8.95906687e+03, 4.63063590e+03],\n",
       "       [2.33500000e+01, 9.09809769e+03, 4.63789395e+03],\n",
       "       [2.33700000e+01, 9.19091868e+03, 4.64333749e+03],\n",
       "       [2.34000000e+01, 9.33044477e+03, 4.65603908e+03],\n",
       "       [2.34300000e+01, 9.47036690e+03, 4.67055518e+03],\n",
       "       [2.34600000e+01, 9.61063279e+03, 4.68053499e+03],\n",
       "       [2.34800000e+01, 9.70440446e+03, 4.69414384e+03],\n",
       "       [2.35100000e+01, 9.84540129e+03, 4.70775268e+03],\n",
       "       [2.35400000e+01, 9.98675961e+03, 4.71501073e+03],\n",
       "       [2.35700000e+01, 1.01283545e+04, 4.72408329e+03],\n",
       "       [2.35900000e+01, 1.02228624e+04, 4.72680506e+03],\n",
       "       [2.36200000e+01, 1.03648542e+04, 4.73859939e+03],\n",
       "       [2.36500000e+01, 1.05072252e+04, 4.74857921e+03],\n",
       "       [2.36800000e+01, 1.06497495e+04, 4.75220824e+03],\n",
       "       [2.37000000e+01, 1.07448307e+04, 4.75674452e+03],\n",
       "       [2.37300000e+01, 1.08875499e+04, 4.75855903e+03],\n",
       "       [2.37600000e+01, 1.10303825e+04, 4.76309531e+03],\n",
       "       [2.37900000e+01, 1.11733409e+04, 4.76763159e+03],\n",
       "       [2.38100000e+01, 1.12687145e+04, 4.77035336e+03],\n",
       "       [2.38400000e+01, 1.14118359e+04, 4.77126062e+03],\n",
       "       [2.38700000e+01, 1.15550043e+04, 4.77307513e+03],\n",
       "       [2.39000000e+01, 1.16981904e+04, 4.77307513e+03],\n",
       "       [2.39200000e+01, 1.17936544e+04, 4.77307513e+03],\n",
       "       [2.39500000e+01, 1.19368750e+04, 4.77488964e+03],\n",
       "       [2.39800000e+01, 1.20801152e+04, 4.77488964e+03],\n",
       "       [2.40100000e+01, 1.22233713e+04, 4.77579690e+03],\n",
       "       [2.40300000e+01, 1.23189061e+04, 4.77670416e+03],\n",
       "       [2.40600000e+01, 1.24622092e+04, 4.77761141e+03]])"
      ]
     },
     "execution_count": 6,
     "metadata": {},
     "output_type": "execute_result"
    }
   ],
   "source": [
    "## need to update ibound array to have noflow cell at first cell under lake\n",
    "bath = np.loadtxt(gwfm_dir+'/LAK_data/Blodgett_bath.txt')\n",
    "# bath[:,0] = bath[:,0]+10*0.3048 # remove the artifical 10 ft lowering from LAK package\n",
    "bath"
   ]
  },
  {
   "cell_type": "code",
   "execution_count": 7,
   "metadata": {},
   "outputs": [
    {
     "data": {
      "text/plain": [
       "(32.99456899377253, 87.14952802359882)"
      ]
     },
     "execution_count": 7,
     "metadata": {},
     "output_type": "execute_result"
    }
   ],
   "source": [
    "0.01*1993*2.5255/1.5255, 0.01*3771*3.5255/1.5255"
   ]
  },
  {
   "cell_type": "code",
   "execution_count": 2,
   "metadata": {},
   "outputs": [
    {
     "data": {
      "text/plain": [
       "262.2091117666339"
      ]
     },
     "execution_count": 2,
     "metadata": {},
     "output_type": "execute_result"
    }
   ],
   "source": [
    "200*200*0.01/1.5255"
   ]
  },
  {
   "cell_type": "code",
   "execution_count": 135,
   "metadata": {},
   "outputs": [],
   "source": [
    "# assume actual depth is 1 and 2 m with side channel\n",
    "actual_depths = bath[0,0] + [1,2]\n",
    "# assume design depth is 2.5 and 5m without side channel\n",
    "design_depths = bath[0,0] + [2.5, 4]\n",
    "if scenario == 'design':\n",
    "    depths = design_depths\n",
    "elif scenario == 'actual':\n",
    "    depths = actual_depths"
   ]
  },
  {
   "cell_type": "code",
   "execution_count": 136,
   "metadata": {},
   "outputs": [],
   "source": [
    "# vertK * Area / thickness, K and thickness are constant\n",
    "lkbd_thick = sfr.reach_data.strthick[XSg.loc[XSg.Site==16.5].reach][0]\n",
    "lkbd_K = sfr_K[XSg.loc[XSg.Site==16.5].reach][0]\n",
    "# k,i,j\n",
    "rlay,rrow,rcol = 0, int(blodgett.row.values[0]-1), int(blodgett.column.values[0]-1)\n"
   ]
  },
  {
   "cell_type": "code",
   "execution_count": 137,
   "metadata": {},
   "outputs": [],
   "source": [
    "# no inactive cells needed if LAK package not used\n",
    "# m.bas6.ibound = np.ones(m.dis.botm.shape)\n",
    "# m.bas6.write_file()"
   ]
  },
  {
   "cell_type": "markdown",
   "metadata": {},
   "source": [
    "## Write SFR and RIV (LAK) output"
   ]
  },
  {
   "cell_type": "code",
   "execution_count": 139,
   "metadata": {},
   "outputs": [
    {
     "name": "stdout",
     "output_type": "stream",
     "text": [
      "61164.38863872001\n",
      "\n",
      "changing model workspace...\n",
      "   C:/WRDAPP/GWFlowModel/Cosumnes_Blodgett_RIV_scenarios/actual_0025cfs\n",
      "Errors and/or Warnings encountered.\n",
      "Errors and/or Warnings encountered.\n",
      "  see C:/WRDAPP/GWFlowModel/Cosumnes_Blodgett_RIV_scenarios/actual_0025cfs\\RIV.chk for details.\n",
      "\n",
      "244657.55455488004\n",
      "\n",
      "changing model workspace...\n",
      "   C:/WRDAPP/GWFlowModel/Cosumnes_Blodgett_RIV_scenarios/actual_0100cfs\n",
      "Errors and/or Warnings encountered.\n",
      "Errors and/or Warnings encountered.\n",
      "  see C:/WRDAPP/GWFlowModel/Cosumnes_Blodgett_RIV_scenarios/actual_0100cfs\\RIV.chk for details.\n",
      "\n"
     ]
    }
   ],
   "source": [
    "# set a flow into segment 1 for the steady state model run\n",
    "for n in np.arange(0,2):\n",
    "# n=2\n",
    "    sfr.segment_data[0].flow[0] = flows_cmd[n] # m3/day, originally 15 m3/s\n",
    "    print(flows_cmd[n])\n",
    "    loadpth = 'C:/WRDAPP/GWFlowModel/Cosumnes_Blodgett_RIV_scenarios/'\n",
    "    m.model_ws = loadpth+scenario+'_'+str(flows_cfs[n]).zfill(4)+'cfs'\n",
    "\n",
    "    lak_stage,lak_area = bath[np.min(np.where(depths[n]<bath[:,0])),0:2]\n",
    "    cond = lkbd_K * lak_area / lkbd_thick\n",
    "    riv_spd = np.asarray([rlay,rrow, rcol,lak_stage, cond, bath[0,0] ])\n",
    "    riv = flopy.modflow.ModflowRiv(model=m, stress_period_data = riv_spd,ipakcb=55)\n",
    "#     m.write_input()\n",
    "#     sfr.write_file()\n",
    "    riv.write_file()"
   ]
  },
  {
   "cell_type": "code",
   "execution_count": 95,
   "metadata": {},
   "outputs": [
    {
     "name": "stdout",
     "output_type": "stream",
     "text": [
      "Errors and/or Warnings encountered.\n",
      "\n",
      "RIV PACKAGE DATA VALIDATION:\n",
      "  1 Warning:\n",
      "    1 instance of BC in inactive cell\n",
      "\n",
      "  Checks that passed:\n",
      "    stage below cell bottom\n",
      "    rbot below cell bottom\n",
      "    RIV stage below rbots\n",
      "\n"
     ]
    },
    {
     "data": {
      "text/plain": [
       "<flopy.utils.check.check at 0x19c3e73bcc8>"
      ]
     },
     "execution_count": 95,
     "metadata": {},
     "output_type": "execute_result"
    }
   ],
   "source": [
    "riv.check()"
   ]
  },
  {
   "cell_type": "code",
   "execution_count": 113,
   "metadata": {},
   "outputs": [],
   "source": []
  },
  {
   "cell_type": "code",
   "execution_count": 116,
   "metadata": {},
   "outputs": [
    {
     "data": {
      "text/plain": [
       "['DIS', 'BAS6', 'LPF', 'GHB', 'CHD', 'RCH', 'WEL', 'OC', 'PCGN', 'SFR', 'RIV']"
      ]
     },
     "execution_count": 116,
     "metadata": {},
     "output_type": "execute_result"
    }
   ],
   "source": [
    "m.get_package_list()"
   ]
  },
  {
   "cell_type": "markdown",
   "metadata": {},
   "source": [
    "## LAK package"
   ]
  },
  {
   "cell_type": "code",
   "execution_count": 46,
   "metadata": {},
   "outputs": [],
   "source": [
    "nrow = m.dis.nrow\n",
    "ncol = m.dis.ncol"
   ]
  },
  {
   "cell_type": "code",
   "execution_count": 96,
   "metadata": {},
   "outputs": [
    {
     "data": {
      "text/plain": [
       "array([1.5255], dtype=float32)"
      ]
     },
     "execution_count": 96,
     "metadata": {},
     "output_type": "execute_result"
    }
   ],
   "source": []
  },
  {
   "cell_type": "code",
   "execution_count": 56,
   "metadata": {},
   "outputs": [],
   "source": [
    "# Set empty array of zeros for nonlake cells\n",
    "lakarr = np.zeros((nlay, nrow,ncol))\n",
    "# Each lake is given a different integer, and needs to be specified depending on the layer\n",
    "lakarr[0,(blodgett.row.values-1).astype(int),(blodgett.column.values-1).astype(int)] = 1\n",
    "\n",
    "bdlknc = np.zeros(( nrow,ncol))\n",
    "# set blodgett dam Ksat same as stream Ksat at same location, leakance is K/lakebed thickness\n",
    "lkbd_thick = sfr.reach_data.strthick[XSg.loc[XSg.Site==16.5].reach]\n",
    "lkbd_K = sfr_K[XSg.loc[XSg.Site==16.5].reach]\n",
    "bdlknc[(blodgett.row.values-1).astype(int),(blodgett.column.values-1).astype(int)] = lkbd_K/lkbd_thick"
   ]
  },
  {
   "cell_type": "code",
   "execution_count": 72,
   "metadata": {},
   "outputs": [],
   "source": [
    "# set ibound cell to zero where lake is\n",
    "ibound = m.bas6.ibound.array\n",
    "ibound[lakarr==1]=0\n",
    "m.bas6.ibound = ibound\n",
    "\n",
    "m.bas6.write_file()"
   ]
  },
  {
   "cell_type": "code",
   "execution_count": null,
   "metadata": {},
   "outputs": [],
   "source": []
  },
  {
   "cell_type": "code",
   "execution_count": 49,
   "metadata": {},
   "outputs": [
    {
     "ename": "NameError",
     "evalue": "name 'rasterio' is not defined",
     "output_type": "error",
     "traceback": [
      "\u001b[1;31m---------------------------------------------------------------------------\u001b[0m",
      "\u001b[1;31mNameError\u001b[0m                                 Traceback (most recent call last)",
      "\u001b[1;32m<ipython-input-49-ea79ac1ebfc3>\u001b[0m in \u001b[0;36m<module>\u001b[1;34m\u001b[0m\n\u001b[1;32m----> 1\u001b[1;33m \u001b[0mlakeRst\u001b[0m \u001b[1;33m=\u001b[0m \u001b[0mrasterio\u001b[0m\u001b[1;33m.\u001b[0m\u001b[0mopen\u001b[0m\u001b[1;33m(\u001b[0m\u001b[0mgwfm_dir\u001b[0m\u001b[1;33m+\u001b[0m\u001b[1;34m'/Blodgett_Dam/geospatial/DEMs/hecras_1m_bathymetry.tif'\u001b[0m\u001b[1;33m)\u001b[0m\u001b[1;33m\u001b[0m\u001b[1;33m\u001b[0m\u001b[0m\n\u001b[0m\u001b[0;32m      2\u001b[0m \u001b[0mlakeBottom\u001b[0m \u001b[1;33m=\u001b[0m \u001b[0mlakeRst\u001b[0m\u001b[1;33m.\u001b[0m\u001b[0mread\u001b[0m\u001b[1;33m(\u001b[0m\u001b[1;36m1\u001b[0m\u001b[1;33m)\u001b[0m\u001b[1;33m\u001b[0m\u001b[1;33m\u001b[0m\u001b[0m\n\u001b[0;32m      3\u001b[0m \u001b[0mnoDataValue\u001b[0m \u001b[1;33m=\u001b[0m \u001b[0mnp\u001b[0m\u001b[1;33m.\u001b[0m\u001b[0mcopy\u001b[0m\u001b[1;33m(\u001b[0m\u001b[0mlakeBottom\u001b[0m\u001b[1;33m[\u001b[0m\u001b[1;36m0\u001b[0m\u001b[1;33m,\u001b[0m\u001b[1;36m0\u001b[0m\u001b[1;33m]\u001b[0m\u001b[1;33m)\u001b[0m\u001b[1;33m\u001b[0m\u001b[1;33m\u001b[0m\u001b[0m\n\u001b[0;32m      4\u001b[0m \u001b[1;31m#replace value for np.nan\u001b[0m\u001b[1;33m\u001b[0m\u001b[1;33m\u001b[0m\u001b[1;33m\u001b[0m\u001b[0m\n\u001b[0;32m      5\u001b[0m \u001b[0mlakeBottom\u001b[0m\u001b[1;33m[\u001b[0m\u001b[0mlakeBottom\u001b[0m\u001b[1;33m==\u001b[0m\u001b[0mnoDataValue\u001b[0m\u001b[1;33m]\u001b[0m\u001b[1;33m=\u001b[0m \u001b[0mnp\u001b[0m\u001b[1;33m.\u001b[0m\u001b[0mnan\u001b[0m\u001b[1;33m\u001b[0m\u001b[1;33m\u001b[0m\u001b[0m\n",
      "\u001b[1;31mNameError\u001b[0m: name 'rasterio' is not defined"
     ]
    }
   ],
   "source": [
    "lakeRst = rasterio.open(gwfm_dir+'/Blodgett_Dam/geospatial/DEMs/hecras_1m_bathymetry.tif')\n",
    "lakeBottom = lakeRst.read(1)\n",
    "noDataValue = np.copy(lakeBottom[0,0])\n",
    "#replace value for np.nan\n",
    "lakeBottom[lakeBottom==noDataValue]= np.nan\n",
    "# the stage for the stream section just after the dam is 23.04 m thus the bottom of the lake must be set 10 ft below that\n",
    "lakeBottom = lakeBottom - 10\n",
    "lakeBottom *= 0.3048\n",
    "\n",
    "# get raster minimum and maximum \n",
    "minElev = np.nanmin(lakeBottom)\n",
    "maxElev = np.nanmax(lakeBottom)\n",
    "print('Min bottom elevation %.2f m., max bottom elevation %.2f m.'%(minElev,maxElev))\n",
    "\n",
    "# steps for calculation\n",
    "nSteps = 151\n",
    "# lake bottom elevation intervals\n",
    "elevSteps = np.round(np.linspace(minElev,maxElev,nSteps),2)\n"
   ]
  },
  {
   "cell_type": "code",
   "execution_count": 48,
   "metadata": {},
   "outputs": [
    {
     "ename": "NameError",
     "evalue": "name 'lakeBottom' is not defined",
     "output_type": "error",
     "traceback": [
      "\u001b[1;31m---------------------------------------------------------------------------\u001b[0m",
      "\u001b[1;31mNameError\u001b[0m                                 Traceback (most recent call last)",
      "\u001b[1;32m<ipython-input-48-dbe9f26d4dae>\u001b[0m in \u001b[0;36m<module>\u001b[1;34m\u001b[0m\n\u001b[1;32m----> 1\u001b[1;33m \u001b[0mlakeBottom\u001b[0m\u001b[1;33m\u001b[0m\u001b[1;33m\u001b[0m\u001b[0m\n\u001b[0m",
      "\u001b[1;31mNameError\u001b[0m: name 'lakeBottom' is not defined"
     ]
    }
   ],
   "source": [
    "lakeBottom"
   ]
  },
  {
   "cell_type": "code",
   "execution_count": 474,
   "metadata": {},
   "outputs": [],
   "source": [
    "# definition of volume function\n",
    "def calculateVol_A(elevStep,elevDem,lakeRst):\n",
    "    tempDem = elevStep - elevDem[elevDem<elevStep]\n",
    "    tempArea = len(tempDem)*lakeRst.res[0]*0.3048*lakeRst.res[1]*0.3048\n",
    "    tempVol = tempDem.sum()*lakeRst.res[0]*0.3048*lakeRst.res[1]*0.3048\n",
    "    return(tempVol, tempArea)\n",
    "# calculate volumes, areas for each elevation\n",
    "volArray = [0]\n",
    "saArray = [0]\n",
    "for elev in elevSteps[1:]:\n",
    "    tempVol,tempArea = calculateVol_A(elev,lakeBottom,lakeRst)\n",
    "    volArray.append(tempVol)\n",
    "    saArray.append(tempArea)\n",
    "    "
   ]
  },
  {
   "cell_type": "markdown",
   "metadata": {},
   "source": [
    "## Artificial lowering of lake stage to limit outflow\n",
    "The stage range of the lake is artifically reduced by 10 ft to account for the implementation of Blodgett Dam during the winter as outflow from a LAK to SFR reach is calculated using the lake stage minus the stream bottom thus when the lake depth reaches 10 ft the top of the lake will be at the bottom of the stream bottom and start flowing out to the channel.\n"
   ]
  },
  {
   "cell_type": "code",
   "execution_count": 475,
   "metadata": {},
   "outputs": [],
   "source": [
    "# Exactly 151 lines must be included within each lake bathymetry input file and each line must contain 1 value \n",
    "#  of lake stage (elevation), volume, and area (3 numbers per line) if the keyword “TABLEINPUT” is specified in item 1a.\n",
    "# A separate file is required for each lake. \n",
    "\n",
    "stages = minElev+0.1\n",
    "# (ssmn, ssmx) max and min stage of each lake for steady state solution, there is a stage range for each lake\n",
    "# so double array is necessary\n",
    "stage_range = [[minElev, maxElev]]\n",
    "\n",
    "# lake stage (elevation), volume, and area (3 numbers per line)\n",
    "lak_depth = elevSteps - elevSteps[0]\n",
    "bathtxt = np.column_stack((elevSteps, volArray, saArray))\n",
    "\n",
    "np.savetxt(m.model_ws+'/MF.txt', bathtxt, delimiter = '\\t')\n"
   ]
  },
  {
   "cell_type": "code",
   "execution_count": 476,
   "metadata": {},
   "outputs": [],
   "source": [
    "## Need to specify flux data\n",
    "# Dict of lists keyed by stress period. The list for each stress period is a list of lists,\n",
    "# with each list containing the variables PRCPLK EVAPLK RNF WTHDRW [SSMN] [SSMX] from the documentation.\n",
    "# flux_data = np.zeros((nrow,ncol))\n",
    "\n",
    "# flux_data = {0:{0:[0,0,0,0]}}\n",
    "\n",
    "# # filler value for bdlknc until soil map data is loaded by uzf\n",
    "# lak = flopy.modflow.ModflowLak(model = m, lakarr = lakarr, bdlknc = bdlknc,  stages=stages, \n",
    "#                                stage_range=stage_range, flux_data = flux_data,tabdata= True, \n",
    "#                                tab_files='MF.txt', tab_units=[57],ipakcb=55)\n",
    "\n",
    "# # the lak package doesn't specify the tab file unit number when the files are written\n",
    "# # example:      110.0     100.0     170.0   22   Item 3:  STAGES,SSMN,SSMX,IUNITLAKTAB\n",
    "# lak.options = ['TABLEINPUT']"
   ]
  },
  {
   "cell_type": "code",
   "execution_count": 477,
   "metadata": {},
   "outputs": [],
   "source": [
    "# lak.theta\n",
    "# lak.sscncr=0.01\n",
    "# # need to reset tabdata as True before writing output for LAK\n",
    "# lak.tabdata = True"
   ]
  },
  {
   "cell_type": "code",
   "execution_count": 615,
   "metadata": {},
   "outputs": [
    {
     "data": {
      "text/plain": [
       "Outside Package class"
      ]
     },
     "execution_count": 615,
     "metadata": {},
     "output_type": "execute_result"
    }
   ],
   "source": [
    "# flopy.modflow.mfaddoutsidefile(model = m, name = 'DATA',extension = 'txt',unitnumber = 57)"
   ]
  },
  {
   "cell_type": "markdown",
   "metadata": {},
   "source": [
    "### Gage file for output"
   ]
  },
  {
   "cell_type": "code",
   "execution_count": 613,
   "metadata": {},
   "outputs": [],
   "source": [
    "# numgage is total number of gages\n",
    "# gage_data (list, or array), includes 2 to 3 entries (LAKE UNIT (OUTTYPE)) for each LAK entry\n",
    "#  4 entries (GAGESEG< GAGERCH, UNIT, OUTTYPE) for each SFR package entry\n",
    "lak_gage_data = [[-1, -37, 1]]\n",
    "lak_file = 'MF.lak.gage'\n",
    "lak_file_out = 'MF.lak.gage.out'\n",
    "gag = flopy.modflow.ModflowGage(model=m,numgage= 1,gage_data=lak_gage_data,file =[lak_file_out], filenames =[lak_file])\n"
   ]
  },
  {
   "cell_type": "markdown",
   "metadata": {},
   "source": [
    "## Summary of model fluxes"
   ]
  },
  {
   "cell_type": "markdown",
   "metadata": {},
   "source": [
    "## Output Control"
   ]
  },
  {
   "cell_type": "code",
   "execution_count": 63,
   "metadata": {},
   "outputs": [],
   "source": [
    "# Output control\n",
    "# default unit number for heads is 51, cell by cell is 53 and drawdown is 52\n",
    "# (0,0) is (stress period, time step)\n",
    "\n",
    "# For later model runs when all the data is needed to be saved\n",
    "spd = { (j,0): ['save head', 'save budget'] for j in np.arange(0,nper,1)}\n",
    "\n",
    "  \n",
    "oc = flopy.modflow.ModflowOc(model = m, stress_period_data = spd, compact = True)"
   ]
  },
  {
   "cell_type": "code",
   "execution_count": 64,
   "metadata": {},
   "outputs": [],
   "source": [
    "# iter_mo max outer iters, ter_mi = max inner iters, close_r residual criterion for stopping iteration\n",
    "# close_h is alternate criterion for nonlinear problem, and is head closure which should be smaller than residual closer\n",
    "# ipunit =0 means no info on solver, ipunit=1 means output about solver issues is written\n",
    "# if iter_mo >1 then closer_r is used not close_h and closer_r is compared to \n",
    "# the square root of the inner product of the residuals (the residual norm)\n",
    "# adamp =0 is std damping, adamp=1 is adaptive damping that further decreases or increases damping based on picard\n",
    "# iteration sucess\n",
    "#adamp is 0.7 to resolve issues with heads oscillating near solution +1 m\n",
    "# damp_lb = lower bound, rate_d is rate of increase of damping based picard iteration success\n",
    "pcgn = flopy.modflow.ModflowPcgn(m, iter_mo = 100, iter_mi=60, close_r=1e-01, close_h=1e-02, ipunit=28)\n",
    "#                                adamp=1, damp=0.7, damp_lb=0.1, rate_d=0.01)"
   ]
  },
  {
   "cell_type": "code",
   "execution_count": 215,
   "metadata": {
    "scrolled": false
   },
   "outputs": [
    {
     "data": {
      "text/plain": [
       "['DIS',\n",
       " 'SFR',\n",
       " 'BAS6',\n",
       " 'LPF',\n",
       " 'GHB',\n",
       " 'CHD',\n",
       " 'RCH',\n",
       " 'WEL',\n",
       " 'OC',\n",
       " 'PCGN',\n",
       " 'LAK',\n",
       " 'DATA']"
      ]
     },
     "execution_count": 215,
     "metadata": {},
     "output_type": "execute_result"
    }
   ],
   "source": [
    "m.get_package_list()\n",
    "# m.remove_package('DATA')\n",
    "# m.remove_package('RIV')\n",
    "# m.remove_package('WEL')\n",
    "# m.remove_package('RCH')\n",
    "# m.remove_package('NWT')"
   ]
  },
  {
   "cell_type": "code",
   "execution_count": 216,
   "metadata": {
    "scrolled": false
   },
   "outputs": [
    {
     "name": "stdout",
     "output_type": "stream",
     "text": [
      "\n",
      "MF MODEL DATA VALIDATION SUMMARY:\n",
      "  No errors or warnings encountered.\n",
      "\n",
      "  Checks that passed:\n",
      "    Unit number conflicts\n",
      "    Compatible solver package\n",
      "    DIS package: zero or negative thickness\n",
      "    DIS package: thin cells (less than checker threshold of 1.0)\n",
      "    DIS package: nan values in top array\n",
      "    DIS package: nan values in bottom array\n",
      "    BAS6 package: isolated cells in ibound array\n",
      "    BAS6 package: Not a number\n",
      "    LPF package: zero or negative horizontal hydraulic conductivity values\n",
      "    LPF package: zero or negative vertical hydraulic conductivity values\n",
      "    LPF package: negative horizontal anisotropy values\n",
      "    LPF package: horizontal hydraulic conductivity values below checker threshold of 1e-11\n",
      "    LPF package: horizontal hydraulic conductivity values above checker threshold of 100000.0\n",
      "    LPF package: vertical hydraulic conductivity values below checker threshold of 1e-11\n",
      "    LPF package: vertical hydraulic conductivity values above checker threshold of 100000.0\n",
      "    LPF package: zero or negative specific storage values\n",
      "    LPF package: specific storage values below checker threshold of 1e-06\n",
      "    LPF package: specific storage values above checker threshold of 0.01\n",
      "    LPF package: zero or negative specific yield values\n",
      "    LPF package: specific yield values below checker threshold of 0.01\n",
      "    LPF package: specific yield values above checker threshold of 0.5\n",
      "    GHB package: BC indices valid\n",
      "    GHB package: not a number (Nan) entries\n",
      "    GHB package: BC in inactive cells\n",
      "    GHB package: BC elevation below cell bottom\n",
      "    CHD package: BC indices valid\n",
      "    CHD package: not a number (Nan) entries\n",
      "    CHD package: BC in inactive cells\n",
      "    RCH package: Mean R/T is between 2e-08 and 0.0002\n",
      "    RCH package: Variable NRCHOP set to 3.\n",
      "    WEL package: BC indices valid\n",
      "    WEL package: not a number (Nan) entries\n",
      "    WEL package: BC in inactive cells\n",
      "\n"
     ]
    },
    {
     "data": {
      "text/plain": [
       "<flopy.utils.check.check at 0x204d54b5c88>"
      ]
     },
     "execution_count": 216,
     "metadata": {},
     "output_type": "execute_result"
    }
   ],
   "source": [
    "\n",
    "m.check()\n",
    "# lak.check()\n",
    "# upw.check()"
   ]
  },
  {
   "cell_type": "markdown",
   "metadata": {},
   "source": [
    "## Write the input files"
   ]
  },
  {
   "cell_type": "code",
   "execution_count": 356,
   "metadata": {},
   "outputs": [],
   "source": [
    "# Writing the MODFLOW data files\n",
    "m.write_input()\n"
   ]
  },
  {
   "cell_type": "markdown",
   "metadata": {},
   "source": [
    "# Run the model\n",
    "with batch file"
   ]
  },
  {
   "cell_type": "code",
   "execution_count": 11,
   "metadata": {},
   "outputs": [
    {
     "data": {
      "text/plain": [
       "['actual_0025cfs',\n",
       " 'actual_0075cfs',\n",
       " 'actual_0100cfs',\n",
       " 'actual_0150cfs',\n",
       " 'design_0025cfs',\n",
       " 'design_0075cfs',\n",
       " 'design_0100cfs',\n",
       " 'design_0150cfs',\n",
       " 'new_0025cfs',\n",
       " 'new_0075cfs',\n",
       " 'new_0100cfs',\n",
       " 'new_0150cfs']"
      ]
     },
     "execution_count": 11,
     "metadata": {},
     "output_type": "execute_result"
    }
   ],
   "source": [
    "loadpth = 'C://WRDAPP/GWFlowModel/Cosumnes_Blodgett_scenarios/'\n",
    "\n",
    "runs = os.listdir(loadpth)\n",
    "runs"
   ]
  },
  {
   "cell_type": "code",
   "execution_count": 54,
   "metadata": {},
   "outputs": [],
   "source": [
    "# import shutil, os\n",
    "\n",
    "\n",
    "# for n in np.arange(1,8).astype(str):\n",
    "#     for f in files:\n",
    "#         folder = '/r'+ n.zfill(2)+'/'\n",
    "#         os.makedirs(m.model_ws+folder,exist_ok=True)\n",
    "#         shutil.copy(f, m.model_ws+folder)"
   ]
  },
  {
   "cell_type": "code",
   "execution_count": 294,
   "metadata": {},
   "outputs": [],
   "source": []
  }
 ],
 "metadata": {
  "kernelspec": {
   "display_name": "Python 3",
   "language": "python",
   "name": "python3"
  },
  "language_info": {
   "codemirror_mode": {
    "name": "ipython",
    "version": 3
   },
   "file_extension": ".py",
   "mimetype": "text/x-python",
   "name": "python",
   "nbconvert_exporter": "python",
   "pygments_lexer": "ipython3",
   "version": "3.7.10"
  }
 },
 "nbformat": 4,
 "nbformat_minor": 4
}
