{
 "cells": [
  {
   "cell_type": "code",
   "execution_count": null,
   "id": "returning-appraisal",
   "metadata": {},
   "outputs": [],
   "source": [
    "# standard python utilities\n",
    "import os\n",
    "from os.path import join, exists, dirname, basename\n",
    "import sys\n",
    "import glob\n",
    "import pandas as pd\n",
    "import numpy as np\n",
    "import calendar\n",
    "import time\n",
    "\n",
    "# standard python plotting utilities\n",
    "import matplotlib as mpl\n",
    "import matplotlib.pyplot as plt\n",
    "import matplotlib.dates as mdates\n",
    "\n",
    "# standard geospatial python utilities\n",
    "import geopandas as gpd\n",
    "# import rasterio\n",
    "\n",
    "# mapping utilities\n",
    "# import contextily as ctx\n",
    "from mpl_toolkits.axes_grid1.inset_locator import inset_axes\n",
    "from mpl_toolkits.axes_grid1.anchored_artists import AnchoredSizeBar\n",
    "import matplotlib.font_manager as fm\n",
    "from matplotlib.ticker import MaxNLocator"
   ]
  },
  {
   "cell_type": "code",
   "execution_count": null,
   "id": "7d6e74c8",
   "metadata": {},
   "outputs": [],
   "source": [
    "git_dir = os.getcwd()\n",
    "while basename(git_dir) != 'GitHub':\n",
    "    git_dir = dirname(git_dir)\n",
    "usr_dir = os.getcwd()\n",
    "while basename(usr_dir) != 'Users':\n",
    "    temp = basename(usr_dir)\n",
    "    usr_dir = dirname(usr_dir)\n",
    "usr_dir += '/'+temp\n",
    "doc_dir = join(usr_dir,'Documents')\n",
    "## Set up directory referencing\n",
    "# Package data\n",
    "gwfm_dir = join(usr_dir,'Box/research_cosumnes/GWFlowModel')\n",
    "gwfm_dir"
   ]
  },
  {
   "cell_type": "code",
   "execution_count": null,
   "id": "a6cf135b",
   "metadata": {},
   "outputs": [],
   "source": [
    "flopy_dir = doc_dir+'/GitHub/flopy'\n",
    "if flopy_dir not in sys.path:\n",
    "    sys.path.insert(0, flopy_dir)\n",
    "    \n",
    "import flopy\n",
    "import flopy.utils.binaryfile as bf\n"
   ]
  },
  {
   "cell_type": "code",
   "execution_count": null,
   "id": "sharp-vision",
   "metadata": {},
   "outputs": [],
   "source": [
    "plt_dir = join(gwfm_dir, 'Oneto_Denier/figures')"
   ]
  },
  {
   "cell_type": "code",
   "execution_count": null,
   "id": "studied-tract",
   "metadata": {},
   "outputs": [],
   "source": [
    "ext_dir = 'F:/WRDAPP'\n",
    "c_dir = 'C:/WRDAPP'\n",
    "if os.path.exists(ext_dir):\n",
    "    loadpth = ext_dir \n",
    "elif os.path.exists(c_dir):\n",
    "    loadpth = c_dir \n",
    "loadpth +='/GWFlowModel/Cosumnes/Stream_seepage/'\n",
    "\n",
    "# model_nam = 'inset_model'\n",
    "# model_nam = 'inset_oneto_denier'\n",
    "# model_nam = 'oneto_denier_2014_2018'\n",
    "upscale=''\n",
    "upscale = 'upscale4x_'\n",
    "model_nam = 'oneto_denier_'+upscale+'2014_2020'\n",
    "\n",
    "model_ws = loadpth+ model_nam\n",
    "\n",
    "# model_ws = join(loadpth,'parallel_oneto_denier','realization000')"
   ]
  },
  {
   "cell_type": "code",
   "execution_count": null,
   "id": "accepting-hudson",
   "metadata": {},
   "outputs": [],
   "source": [
    "# may want to skip loading rch, evt and wel which take up a lot of memory with stress period data\n",
    "load_only = ['DIS','UPW','SFR','OC']\n",
    "m = flopy.modflow.Modflow.load('MF.nam', model_ws= model_ws, \n",
    "                                exe_name='mf-owhm', version='mfnwt',\n",
    "                              load_only = load_only,\n",
    "                              )"
   ]
  },
  {
   "cell_type": "code",
   "execution_count": null,
   "id": "dfa04f68",
   "metadata": {},
   "outputs": [],
   "source": [
    "nlay, nrow, ncol = m.dis.botm.shape"
   ]
  },
  {
   "cell_type": "code",
   "execution_count": null,
   "id": "biblical-mining",
   "metadata": {},
   "outputs": [],
   "source": [
    "model_grp = 'inset_oneto_denier'\n",
    "grid_dir = join(gwfm_dir, 'DIS_data/streambed_seepage/grid')\n",
    "grid_fn = join(grid_dir, model_grp,'rm_only_grid.shp')\n",
    "grid_p = gpd.read_file(grid_fn)\n",
    "grid_p.crs='epsg:32610'\n",
    "m_domain = gpd.GeoDataFrame(pd.DataFrame([0]), geometry = [grid_p.unary_union], crs='epsg:32610')\n",
    "\n",
    "sfrdf = pd.DataFrame(m.sfr.reach_data)\n",
    "grid_sfr = grid_p.set_index(['row','column']).loc[list(zip(sfrdf.i+1,sfrdf.j+1))].reset_index(drop=True)\n",
    "grid_sfr = pd.concat((grid_sfr,sfrdf),axis=1)\n",
    "\n",
    "sfr_dir = gwfm_dir+'/SFR_data/'\n"
   ]
  },
  {
   "cell_type": "code",
   "execution_count": null,
   "id": "a7e60aca",
   "metadata": {},
   "outputs": [],
   "source": [
    "# characterize streambed into different hydrofacies\n",
    "tprogs_quants = np.array([0.590, 0.155, 0.197, 0.058]).cumsum()\n",
    "# use facies of vka just below stream\n",
    "vka = m.upw.vka.array\n",
    "vka_quants = pd.DataFrame(np.quantile(vka, tprogs_quants))\n",
    "# vka_quants.index=['mud','sandy mud','sand','gravel']\n",
    "vka_quants.index = [4,3,2,1]\n",
    "tprogs_facies = 4*np.ones((nlay,nrow,ncol))\n",
    "for n in np.arange(0,len(vka_quants)-1):\n",
    "    tprogs_facies[vka > vka_quants.iloc[n].values[0]] = vka_quants.index[n+1]\n"
   ]
  },
  {
   "cell_type": "code",
   "execution_count": null,
   "id": "faced-sellers",
   "metadata": {},
   "outputs": [],
   "source": [
    "def zone_clean(cbc,zon, kstpkper):\n",
    "    zb = flopy.utils.ZoneBudget(cbc, zon, kstpkper)\n",
    "    zb_df = zb.get_dataframes()\n",
    "    # ungroup by timestep\n",
    "    zb_df = zb_df.reset_index()\n",
    "    names = zb_df.name.unique()\n",
    "    zb_df = zb_df.pivot(index = 'totim', columns = 'name',values = 'ZONE_1')\n",
    "    \n",
    "    # columns to make negative\n",
    "    to_cols = zb_df.columns[zb_df.columns.str.contains('TO_')]\n",
    "    # multiply by -1 to have pulled out of water balance on plot\n",
    "    zb_df.loc[:, to_cols] *= -1\n",
    "    # correct for storage change\n",
    "    # to storage is gw increase (positive)\n",
    "    stor_cols = zb_df.columns[zb_df.columns.str.contains('STORAGE')]\n",
    "#     zb_df.loc[:, stor_cols] *= -1\n",
    "    zb_df['dSTORAGE'] = (zb_df.TO_STORAGE + zb_df.FROM_STORAGE) * -1\n",
    "    zb_df = zb_df.drop(columns=stor_cols)\n",
    "    zb_df = zb_df.reset_index()\n",
    "    strt_date = pd.to_datetime(m.dis.start_datetime)\n",
    "    zb_df.totim = strt_date+(zb_df.totim*24).astype('timedelta64[h]')\n",
    "    zb_df = zb_df.set_index('totim')\n",
    "    # convert 4 hr time steps to daily basis\n",
    "    zb_df = zb_df.resample('D').mean()\n",
    "    # summarize to monthly sum\n",
    "    zb_mon = zb_df.resample('MS').sum()\n",
    "    zb_mon['PERCENT_ERROR'] = zb_mon['IN-OUT']/np.mean((zb_mon.TOTAL_IN, zb_mon.TOTAL_OUT), axis=0)\n",
    "    return(zb_df, zb_mon)"
   ]
  },
  {
   "cell_type": "code",
   "execution_count": null,
   "id": "commercial-tower",
   "metadata": {},
   "outputs": [],
   "source": [
    "lak_shp = join(gwfm_dir,'LAK_data/floodplain_delineation')\n",
    "# shapefile rectangle of the area surrounding the Dam within about 5 cells\n",
    "zon_gpd = gpd.read_file(join(lak_shp,'LCRFR_ModelDom_2017/LCRFR_2DArea_2015.shp' )).to_crs('epsg:32610')\n",
    "\n",
    "zon_cells = gpd.sjoin(grid_p,zon_gpd,how='right',predicate='within')\n",
    "\n",
    "# filter zone budget for Blodgett Dam to just within 5 cells or so of the Dam\n",
    "zon_lak = np.zeros((grid_p.row.max(),grid_p.column.max()),dtype=int)\n",
    "zon_lak[zon_cells.row-1,zon_cells.column-1]=1\n",
    "\n",
    "zon_mod = np.ones((grid_p.row.max(),grid_p.column.max()),dtype=int)"
   ]
  },
  {
   "cell_type": "code",
   "execution_count": null,
   "id": "40a095de",
   "metadata": {},
   "outputs": [],
   "source": [
    "zon_color_dict = pd.read_excel('mf_wb_color_dict.xlsx', index_col='flux',comment='#', sheet_name='mf_wb_dict').color.to_dict()\n",
    "zon_name_dict = pd.read_excel('mf_wb_color_dict.xlsx',index_col='flux',comment='#', sheet_name='mf_wb_dict').name.to_dict()"
   ]
  },
  {
   "cell_type": "code",
   "execution_count": null,
   "id": "touched-establishment",
   "metadata": {},
   "outputs": [],
   "source": [
    "# # load cbb file from any model scneario to get listing of kstpkper\n",
    "# cbc = join(m.model_ws, 'MF.cbc')\n",
    "# # zb = flopy.utils.ZoneBudget(cbc, zon_mod)\n",
    "# zb = flopy.utils.ZoneBudget(cbc, tprogs_facies.astype(int))\n",
    "# kstpkper = zb.kstpkper\n"
   ]
  },
  {
   "cell_type": "code",
   "execution_count": null,
   "id": "76532284",
   "metadata": {},
   "outputs": [],
   "source": [
    "#     zb = flopy.utils.ZoneBudget(cbc, zon, kstpkper)\n",
    "# zb_df = zb.get_dataframes()\n",
    "# # ungroup by timestep\n",
    "# zb_df = zb_df.reset_index()\n",
    "# names = zb_df.name.unique()\n",
    "# zb_df = zb_df.pivot(index = 'totim', columns = 'name',values = 'ZONE_1')\n",
    "    "
   ]
  },
  {
   "cell_type": "code",
   "execution_count": null,
   "id": "21a82110",
   "metadata": {},
   "outputs": [],
   "source": [
    "fine = (tprogs_facies==3).astype(int)+ (tprogs_facies==4).astype(int)"
   ]
  },
  {
   "cell_type": "code",
   "execution_count": null,
   "id": "8cafaaba",
   "metadata": {},
   "outputs": [],
   "source": [
    "\n",
    "all_d, all_mon = zone_clean(cbc,tprogs_facies.astype(int), kstpkper)\n",
    "mod_cols = all_d.columns[all_d.columns.str.contains('TO_|FROM_')].values\n",
    "mod_cols = mod_cols[(np.abs(all_d[mod_cols])>0).sum(axis=0).astype(bool)]\n"
   ]
  },
  {
   "cell_type": "code",
   "execution_count": null,
   "id": "156a889c",
   "metadata": {},
   "outputs": [],
   "source": [
    "fig,ax = plt.subplots(2,1, figsize=(6,4), sharex=True)\n",
    "all_d.plot(y='PERCENT_DISCREPANCY', ax=ax[0]) \n",
    "all_d.plot(y='IN-OUT', ax=ax[1])\n",
    "# there are huge budget errors during peak flows\n",
    "# there is way too much flow going in during the peak flows"
   ]
  },
  {
   "cell_type": "code",
   "execution_count": null,
   "id": "9a6d69b7",
   "metadata": {},
   "outputs": [],
   "source": [
    "# convert m3 to AF\n",
    "zb_mod_all_AF = (all_mon*(1/0.3048**3)*(1/43560))\n",
    "\n",
    "fig, ax = plt.subplots(figsize=(16,6))\n",
    "# bar plot xticks are plotted as values\n",
    "zb_mod_all_AF.plot(y=mod_cols,\n",
    "           kind='bar',ax=ax, stacked = True,\n",
    "               color=[zon_color_dict[x] for x in mod_cols], label = [zon_name_dict[x] for x in mod_cols])\n",
    "ax.hlines(y=0, xmin = 0, xmax = 100, color = 'black')\n",
    "# lines are continuous xticks, either force datetime into strings or reuse previous xticks\n",
    "ax.plot(zb_mod_all_AF.index.astype(str), zb_mod_all_AF.dSTORAGE, color='black')\n",
    "\n",
    "plt.legend(loc=(0.0,1.1),ncol=5)\n",
    "plt.ylabel('Flux (AF/month)')\n",
    "plt.title('Water Budget for Entire Domain')\n",
    "# plt.savefig(plt_dir+'/domain_waterbudget_'+model_type+'_AF_day.png',dpi=600,bbox_inches='tight')"
   ]
  },
  {
   "cell_type": "code",
   "execution_count": null,
   "id": "15bbaf5e",
   "metadata": {},
   "outputs": [],
   "source": [
    "zb_mod_all_AF = (all_d*(1/0.3048**3)*(1/43560))\n",
    "plt_strt = '2015-3-1'\n",
    "plt_end = '2015-4-1'\n",
    "\n",
    "zb_mod_all_AF[plt_strt:plt_end]\n",
    "fig, ax = plt.subplots(figsize=(16,6))\n",
    "# bar plot xticks are plotted as values\n",
    "zb_mod_all_AF.plot(y=mod_cols,\n",
    "           kind='bar',ax=ax, stacked = True,\n",
    "               color=[zon_color_dict[x] for x in mod_cols], label = [zon_name_dict[x] for x in mod_cols])\n",
    "ax.hlines(y=0, xmin = 0, xmax = 100, color = 'black')\n",
    "# lines are continuous xticks, either force datetime into strings or reuse previous xticks\n",
    "ax.plot(zb_mod_all_AF.index.astype(str), zb_mod_all_AF.dSTORAGE, color='black')\n"
   ]
  },
  {
   "cell_type": "markdown",
   "id": "2bace4c3",
   "metadata": {},
   "source": [
    "## Lake budget"
   ]
  },
  {
   "cell_type": "code",
   "execution_count": null,
   "id": "7de38f32",
   "metadata": {},
   "outputs": [],
   "source": [
    "lak_d, lak_mon = zone_clean(cbc,zon_lak, 'LAK',kstpkper)\n",
    "lak_cols = lak_d.columns[lak_d.columns.str.contains('TO_|FROM_')].values\n",
    "lak_cols = lak_cols[(np.abs(lak_d[lak_cols])>0).sum(axis=0).astype(bool)]\n"
   ]
  },
  {
   "cell_type": "code",
   "execution_count": null,
   "id": "5222501e",
   "metadata": {},
   "outputs": [],
   "source": [
    "# convert m3/day to AF/30 days\n",
    "zb_lak_all_AF = (lak_mon*(1/0.3048**3)*(1/43560))\n",
    "\n",
    "fig, ax = plt.subplots(figsize=(16,6))\n",
    "zb_lak_all_AF.plot(y=lak_cols,\n",
    "           kind='bar',ax=ax, stacked = True,legend=False,\n",
    "               color=[zon_color_dict[x] for x in lak_cols], label = [zon_name_dict[x] for x in lak_cols]\n",
    "                  )\n",
    "\n",
    "plt.ylabel('Flux (AF/month)')\n",
    "plt.legend(loc=(0.01,1.1),ncol=5)\n",
    "plt.xlabel('Scenario')\n",
    "# plt.savefig(plt_dir+'/AOI_waterbudget_GW_'+model_nam+'_AF_day.png',dpi=600,bbox_inches='tight')\n"
   ]
  },
  {
   "cell_type": "code",
   "execution_count": null,
   "id": "ec89028e",
   "metadata": {},
   "outputs": [],
   "source": []
  },
  {
   "cell_type": "markdown",
   "id": "later-square",
   "metadata": {},
   "source": [
    "## Annual sum water budget"
   ]
  },
  {
   "cell_type": "code",
   "execution_count": null,
   "id": "breeding-longer",
   "metadata": {},
   "outputs": [],
   "source": [
    "def annual_WB(zb_annual,unit, zon):\n",
    "    # if unit = AF convert units, else leave as m3\n",
    "    if unit == 'AF':\n",
    "        # ((1 ft/ 0.3048 m)^3) * (1 acre/43560 ft2)\n",
    "        zb_annual = zb_annual/((0.3048**3) *43560)\n",
    "    if zon == 'valley':\n",
    "        cols = [ 'FROM_RECHARGE', 'FROM_ZONE_0', 'TO_ZONE_0', 'TO_WELLS']        \n",
    "    elif zon == 'all':\n",
    "        cols = ['FROM_CONSTANT_HEAD', 'FROM_GHB', 'FROM_RECHARGE', 'TO_CONSTANT_HEAD', 'TO_GHB', 'TO_WELLS']\n",
    "\n",
    "    #fixes issues with line and bar plotting\n",
    "    zb_annual.index = zb_annual.index.astype(str)\n",
    "    \n",
    "    fig, ax = plt.subplots(figsize=(16,6))\n",
    "    # clean up x axis so there are not as many dates\n",
    "    # ax.xaxis.set_major_locator(mdates.MonthLocator())\n",
    "    zb_annual.plot(y=['dSTORAGE'],ax=ax, color = 'black')\n",
    "    # define columns to plot\n",
    "    \n",
    "    # plot acre ft instead of meters\n",
    "    zb_annual.plot(y= cols,\n",
    "               kind='bar',ax=ax, stacked = True)\n",
    "    plt.ylabel('Flux (ac-ft/year)')\n",
    "\n",
    "    zb_annual.plot(y=['SUM_dSTORAGE'],ax=ax, secondary_y = True,rot=90)\n",
    "    plt.xticks(rotation=90)\n",
    "    ax.yaxis.set_major_locator(MaxNLocator(5)) \n",
    "\n",
    "    plt.ylabel('Flux (ac-ft/year)')\n",
    "    plt.xlabel('Datetime')\n",
    "    plt.title('Water Budget for Butte Valley')\n",
    "    plt.savefig(m.model_ws+'/Plots/annualsum_WB_'+zon+'_'+unit+'.png',dpi=300,bbox_inches = 'tight')\n",
    "    zb_annual.to_csv(m.model_ws+'/Plots/annualsum_WB_'+zon+'_'+unit+'.csv')"
   ]
  },
  {
   "cell_type": "code",
   "execution_count": null,
   "id": "classified-shark",
   "metadata": {},
   "outputs": [],
   "source": [
    "annual_WB(zb_annual118,unit = 'AF',zon='valley')\n",
    "annual_WB(zb_annual,unit = 'AF',zon='all')"
   ]
  },
  {
   "cell_type": "code",
   "execution_count": null,
   "id": "executive-pharmaceutical",
   "metadata": {},
   "outputs": [],
   "source": []
  },
  {
   "cell_type": "code",
   "execution_count": null,
   "id": "sophisticated-shade",
   "metadata": {},
   "outputs": [],
   "source": [
    "def monthly_WB(zb_df,unit, zon, wy,name):\n",
    "    plt_strt = pd.to_datetime(str(wy-1)+'-10-01')\n",
    "    plt_end = pd.to_datetime(str(wy)+'-9-30')\n",
    "    zb_plot = zb_df.loc[(zb_df.index>plt_strt)&(zb_df.index<plt_end)]\n",
    "    zb_plot.index = zb_plot.index.astype(str)\n",
    "    # if unit = AF convert units, else leave as m3\n",
    "    if unit == 'AF':\n",
    "        # ((1 ft/ 0.3048 m)^3) * (1 acre/43560 ft2)\n",
    "        zb_plot = zb_plot/((0.3048**3) *43560)\n",
    "\n",
    "    #fixes issues with line and bar plotting\n",
    "    zb_plot.index = zb_plot.index.astype(str)\n",
    "    \n",
    "    fig, ax = plt.subplots(figsize=(16,6))\n",
    "    # clean up x axis so there are not as many dates\n",
    "    # ax.xaxis.set_major_locator(mdates.MonthLocator())\n",
    "    zb_plot.plot(y=['dSTORAGE'],ax=ax, color = 'black')\n",
    "    ax.hlines(y=0, xmin = -1, xmax = 100, color = 'black')\n",
    "\n",
    "    # plot acre ft instead of meters\n",
    "    zb_plot.plot(y= cols,\n",
    "               kind='bar',ax=ax, stacked = True)\n",
    "    plt.ylabel('Flux (ac-ft/month)')\n",
    "\n",
    "    zb_plot.plot(y=['SUM_dSTORAGE'],ax=ax, secondary_y = True,rot=90)\n",
    "    plt.xticks(rotation=90)\n",
    "    ax.yaxis.set_major_locator(MaxNLocator(5)) \n",
    "\n",
    "    plt.ylabel('Flux (ac-ft/month)')\n",
    "    plt.xlabel('Datetime')\n",
    "    plt.title('Water Budget for Butte Valley WY'+str(wy)+' - '+name+' Year' )\n",
    "#     plt.savefig(m.model_ws+'/Plots/'+name+'_'+str(wy)+'monthlyWB_'+zon+'_'+unit+'.png',dpi=300,bbox_inches = 'tight')"
   ]
  },
  {
   "cell_type": "code",
   "execution_count": null,
   "id": "floppy-portrait",
   "metadata": {},
   "outputs": [],
   "source": [
    "monthly_WB(zb_df_mon,unit='AF', zon='all', wy=1999,name='Wet')\n",
    "monthly_WB(zb_df_mon,unit='AF', zon='all', wy=2005,name='Avg')\n",
    "monthly_WB(zb_df_mon,unit='AF', zon='all', wy=2014,name='Dry')"
   ]
  }
 ],
 "metadata": {
  "kernelspec": {
   "display_name": "Python 3 (ipykernel)",
   "language": "python",
   "name": "python3"
  },
  "language_info": {
   "codemirror_mode": {
    "name": "ipython",
    "version": 3
   },
   "file_extension": ".py",
   "mimetype": "text/x-python",
   "name": "python",
   "nbconvert_exporter": "python",
   "pygments_lexer": "ipython3",
   "version": "3.11.4"
  }
 },
 "nbformat": 4,
 "nbformat_minor": 5
}
