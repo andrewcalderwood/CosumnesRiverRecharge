{
 "cells": [
  {
   "cell_type": "code",
   "execution_count": 10,
   "id": "a4ffe5dc",
   "metadata": {},
   "outputs": [],
   "source": [
    "import sys\n",
    "import os\n",
    "from os.path import dirname, basename,join, exists\n",
    "import glob\n",
    "\n",
    "# operations\n",
    "import numpy as np\n",
    "import pandas as pd\n",
    "import geopandas as gpd\n",
    "# import flopy\n",
    "\n",
    "# plotting\n",
    "# from PIL import Image\n",
    "import matplotlib as mpl\n",
    "import matplotlib.pyplot as plt\n",
    "\n",
    "from osgeo import gdal\n",
    "import contextily as ctx\n",
    "\n"
   ]
  },
  {
   "cell_type": "code",
   "execution_count": 11,
   "id": "2e149e22",
   "metadata": {},
   "outputs": [],
   "source": [
    "doc_dir = os.getcwd()\n",
    "while basename(doc_dir) != 'Documents':\n",
    "    doc_dir = dirname(doc_dir)\n",
    "# dir of all gwfm data\n",
    "gwfm_dir = dirname(doc_dir)+'/Box/research_cosumnes/GWFlowModel'\n",
    "# dir of stream level data for seepage study\n",
    "proj_dir = gwfm_dir + '/Stream_seepage/'\n",
    "dat_dir = proj_dir+'Stream_level_data/'\n",
    "\n",
    "sfr_dir = gwfm_dir+'/SFR_data/'"
   ]
  },
  {
   "cell_type": "code",
   "execution_count": 12,
   "id": "219a7451",
   "metadata": {},
   "outputs": [
    {
     "data": {
      "text/plain": [
       "<module 'flopy' from 'C:\\\\Users\\\\ajcalder\\\\anaconda3\\\\envs\\\\geo_env\\\\Lib\\\\site-packages\\\\flopy\\\\__init__.py'>"
      ]
     },
     "execution_count": 12,
     "metadata": {},
     "output_type": "execute_result"
    }
   ],
   "source": [
    "flopy_dir = doc_dir+'/GitHub/flopy/'\n",
    "if flopy_dir not in sys.path:\n",
    "    sys.path.append(flopy_dir)\n",
    "# sys.path\n",
    "import flopy \n",
    "\n",
    "from importlib import reload\n",
    "# importlib.reload\n",
    "reload(flopy)"
   ]
  },
  {
   "cell_type": "code",
   "execution_count": 13,
   "id": "12b3fda8",
   "metadata": {},
   "outputs": [],
   "source": [
    "def get_nodes(locs):\n",
    "    ''' Converts layer, row, column into model node number '''\n",
    "    nodes = []\n",
    "    for k, i, j in locs:\n",
    "        nodes.append(k * m.dis.nrow * m.dis.ncol + i * m.dis.ncol + j)\n",
    "    return nodes\n"
   ]
  },
  {
   "cell_type": "code",
   "execution_count": 67,
   "id": "35ba7a66",
   "metadata": {},
   "outputs": [],
   "source": [
    "def epd_2_df(epd, rot = 0, crs=None):\n",
    "    \"\"\" Provide an Endpoint recarray and rotation of grid (degrees) if one exists\"\"\"\n",
    "    epd_df = pd.DataFrame().from_records(epd)\n",
    "    # status meaning\n",
    "    status_dict = {0:'Pending',1:'Active',2:'NormallyTerminated',3:'ZoneTerminated',4:'Unreleased',5:'Stranded'}\n",
    "    epd_df['status_name'] = [status_dict.get(key) for key in epd_df.status]\n",
    "    # return particle status\n",
    "    print(str((epd_df.status==1).sum())+' particles still active. ')\n",
    "    print(str((epd_df.status==5).sum()) +' particles stranded in dry cells')\n",
    "    print(str((epd_df.status==2).sum())+' particles normally terminated')\n",
    "    # present age in days\n",
    "    epd_df['age_days'] = epd_df.time - epd_df.time0\n",
    "    # age in years\n",
    "    epd_df['age_years'] = epd_df.age_days/365\n",
    "    if tracking == 'forward':\n",
    "        loc_id = '' # with backward tracking final location is source\n",
    "    elif tracking =='backward':\n",
    "        loc_id = '0' # with forward tracking initial location is source\n",
    "    # identify source row/column \n",
    "    epd_df['j'] = (epd_df['x'+loc_id]/delr-0.5).astype(int)\n",
    "    epd_df['i'] = (epd_df['y'+loc_id]/delc-0.5).astype(int)\n",
    "    # group by elevation rounded\n",
    "    epd_df['elev_m'] = m.dis.top.array[epd_df.i.astype(int), epd_df.j.astype(int)]\n",
    "    epd_df['elev_m_grp'] = ((epd_df['elev_m'] *0.5).round(-2))/0.5 # every 200 meters\n",
    "    # summarize by modflow node\n",
    "    epd_df_mean = epd_df.groupby('node'+loc_id).mean().reset_index()\n",
    "    # convert the grid referenced x,y to a coordinate system referenced grid\n",
    "    rot *= (np.pi/180) # convert degrees to radians\n",
    "    lx = epd_df['x'+loc_id]\n",
    "    ly = epd_df['y'+loc_id]\n",
    "    x = lx*np.cos(rot) - ly*np.sin(rot)\n",
    "    y = ly*np.cos(rot) + lx*np.sin(rot)\n",
    "    epd_gdf = gpd.GeoDataFrame(epd_df, geometry = gpd.points_from_xy(x+xll, y+yll), crs=crs)\n",
    "    lx = epd_df_mean['x'+loc_id]\n",
    "    ly = epd_df_mean['y'+loc_id]\n",
    "    x = lx*np.cos(rot) - ly*np.sin(rot)\n",
    "    y = ly*np.cos(rot) + lx*np.sin(rot)\n",
    "    epd_mean_gdf = gpd.GeoDataFrame(epd_df_mean, geometry = gpd.points_from_xy(x+xll, y+yll), crs=crs)\n",
    "\n",
    "    return(epd_gdf, epd_mean_gdf)\n",
    "\n"
   ]
  },
  {
   "cell_type": "code",
   "execution_count": 15,
   "id": "178b5d9f",
   "metadata": {},
   "outputs": [],
   "source": [
    "def src_area_bnds(epd, aoi):\n",
    "    if tracking == 'forward':\n",
    "        loc_id = '0' # with forward tracking initial location is source\n",
    "    elif tracking =='backward':\n",
    "        loc_id = '' # with backward tracking final location is source\n",
    "    from shapely.geometry import box\n",
    "    outx = xll+epd['x'+loc_id]\n",
    "    outy = yll+epd['y'+loc_id]\n",
    "    src_box = box(outx.min(), outy.min(), outx.max() ,  outy.max())\n",
    "    src_area = aoi[['Name','Hydrologic','geometry']].copy()\n",
    "    src_area.geometry = [src_box]\n",
    "    src_area.crs='epsg:3310'\n",
    "    return(src_area)"
   ]
  },
  {
   "cell_type": "code",
   "execution_count": 5,
   "id": "d58a7a0f",
   "metadata": {},
   "outputs": [],
   "source": [
    "\n",
    "loadpth = 'C:/WRDAPP/GWFlowModel/Cosumnes/Stream_seepage/'\n",
    "model_nam = 'inset_oneto_denier'\n",
    "\n",
    "model_ws = loadpth+model_nam\n",
    "\n",
    "m = flopy.modflow.Modflow.load('MF.nam', model_ws=model_ws, \n",
    "                                exe_name='mf-owhm', version='mfnwt') #, load_only = load_only)\n",
    "\n",
    "nlay = m.dis.nlay\n",
    "nrow = m.dis.nrow\n",
    "ncol = m.dis.ncol\n",
    "xll,yll = m.modelgrid.xoffset,m.modelgrid.yoffset\n",
    "\n",
    "delr = m.dis.delr.array[0]\n",
    "delc = m.dis.delc.array[0]\n",
    "\n",
    "nper = m.dis.nper # number of months\n",
    "perlen = m.dis.perlen.array # days per period\n",
    "\n",
    "strt_date = np.datetime64(m.start_datetime)\n",
    "end_date = strt_date + np.timedelta64(int(perlen.sum()-1),'D')"
   ]
  },
  {
   "cell_type": "code",
   "execution_count": 6,
   "id": "e7fe2210",
   "metadata": {},
   "outputs": [],
   "source": [
    "hdobj = flopy.utils.HeadFile(model_ws+'/MF.hds')\n",
    "spd_stp = hdobj.get_kstpkper()\n",
    "cbb = flopy.utils.CellBudgetFile(model_ws+'/MF.cbc')\n",
    "\n",
    "times = hdobj.get_times()\n",
    "# subtract 1 to have start of each period\n",
    "dt_ref = pd.DataFrame(np.asarray(times), columns=['time']) \n",
    "dt_ref['timedelta'] = pd.to_timedelta(dt_ref.time, 'D').round('H')\n",
    "dt_ref['dt'] = strt_date+dt_ref.timedelta\n",
    "dt_ref['kstpkper'] = spd_stp\n",
    "dt_ref[['kstp','kper']] = dt_ref.kstpkper.tolist()"
   ]
  },
  {
   "cell_type": "code",
   "execution_count": 48,
   "id": "62cd8b39",
   "metadata": {},
   "outputs": [
    {
     "name": "stdout",
     "output_type": "stream",
     "text": [
      "mp_364days\n"
     ]
    }
   ],
   "source": [
    "# run shorter MODPATH simulation to reduce run time\n",
    "n_days = (dt_ref.dt.max()-dt_ref.dt.min()).days # full time period\n",
    "\n",
    "tracking = 'forward'\n",
    "# tracking = 'backward'\n",
    "\n",
    "mp_ws = join(model_ws,'mp',tracking, 'mp_'+str(n_days)+'days')\n",
    "modelname = 'Modpath7'\n",
    "print(basename(mp_ws))"
   ]
  },
  {
   "cell_type": "code",
   "execution_count": 37,
   "id": "c5dc5544",
   "metadata": {},
   "outputs": [],
   "source": [
    "# write modelgrid to get updated row and col numbers specific to the child grid\n",
    "grid_dir = join(gwfm_dir, 'DIS_data/streambed_seepage/grid')\n",
    "grid_fn = join(grid_dir, model_nam,'rm_only_grid.shp')\n",
    "\n",
    "# m.modelgrid.write_shapefile(grid_fn)\n",
    "grid_p = gpd.read_file(grid_fn)\n",
    "grid_p.crs = 'epsg:32610'"
   ]
  },
  {
   "cell_type": "code",
   "execution_count": 60,
   "id": "5f67e93f",
   "metadata": {},
   "outputs": [],
   "source": [
    "sfrdf = pd.DataFrame(m.sfr.reach_data)\n",
    "# get geodataframe for sfr\n",
    "grid_sfr = grid_p.set_index(['row','column']).loc[list(zip(sfrdf.i+1, sfrdf.j+1))]\n",
    "grid_sfr = pd.concat((grid_sfr.reset_index(), sfrdf), axis=1)\n",
    "# gdf for lak\n",
    "lak_row, lak_col = np.where(m.lak.lakarr.array[0,0]>0)\n",
    "grid_lak = grid_p.set_index(['row','column']).loc[list(zip(lak_row+1, lak_col+1))].reset_index()"
   ]
  },
  {
   "cell_type": "code",
   "execution_count": 16,
   "id": "76938fc6",
   "metadata": {},
   "outputs": [
    {
     "name": "stdout",
     "output_type": "stream",
     "text": [
      "74\n"
     ]
    }
   ],
   "source": [
    "# get nodes for Big Springs at the area of interest scale\n",
    "\n",
    "aoi_arr = sfrdf[['k','i','j']]\n",
    "aoi_arr = aoi_arr-1 # convert to 0 based\n",
    "aoi_ids = list(zip(aoi_arr.k, aoi_arr.i, aoi_arr.j))\n",
    "\n",
    "nodes_aoi = get_nodes(aoi_ids) # get nodes\n",
    "print(len(nodes_aoi))"
   ]
  },
  {
   "cell_type": "code",
   "execution_count": 116,
   "id": "2b2fb29c",
   "metadata": {},
   "outputs": [],
   "source": [
    "# p = flopy.utils.PathlineFile(mp_ws + modelname+'.mppth')\n",
    "e = flopy.utils.EndpointFile(join(mp_ws, modelname + \".mpend\"))\n",
    "\n",
    "# big springs iso\n",
    "# p_bs = p.get_destination_pathline_data(nodes_bs, to_recarray=True)\n",
    "# p_bs = p.get_destination_pathline_data(nodes_bs_sfr, to_recarray=True)\n",
    "\n",
    "# if tracking == 'forward':\n",
    "#     epd_src = e.get_alldata() # returns the same result because backward tracking is a small initial area\n",
    "# if tracking == 'backward':\n",
    "#     epd_src = e.get_destination_endpoint_data(dest_cells=nodes_aoi)\n",
    "# # epd_src = e.get_destination_endpoint_data(dest_cells=nodes_aoi, source=True)\n",
    "    \n",
    "epd_src = e.get_alldata() # returns the same result because backward tracking is a small initial area\n"
   ]
  },
  {
   "cell_type": "code",
   "execution_count": 124,
   "id": "a1eaea3c",
   "metadata": {},
   "outputs": [
    {
     "data": {
      "text/plain": [
       "array([0.0000000e+00, 2.3841858e-07, 7.6293945e-06], dtype=float32)"
      ]
     },
     "execution_count": 124,
     "metadata": {},
     "output_type": "execute_result"
    }
   ],
   "source": [
    "(pd.DataFrame(epd_src).time - pd.DataFrame(epd_src).time0).unique()\n",
    "# even releasing particles everywhere in the domain we see them all terminate immediately\n"
   ]
  },
  {
   "cell_type": "code",
   "execution_count": 106,
   "id": "fed95fd4",
   "metadata": {},
   "outputs": [
    {
     "name": "stdout",
     "output_type": "stream",
     "text": [
      "0 particles still active. \n",
      "26499 particles stranded in dry cells\n",
      "0 particles normally terminated\n"
     ]
    },
    {
     "name": "stderr",
     "output_type": "stream",
     "text": [
      "C:\\Users\\ajcalder\\AppData\\Local\\Temp\\ipykernel_9724\\69198164.py:26: FutureWarning: The default value of numeric_only in DataFrameGroupBy.mean is deprecated. In a future version, numeric_only will default to False. Either specify numeric_only or select only columns which should be valid for the function.\n",
      "  epd_df_mean = epd_df.groupby('node'+loc_id).mean().reset_index()\n"
     ]
    }
   ],
   "source": [
    "epd_gdf, epd_mean_gdf = epd_2_df(epd_src, rot=52.9, crs=grid_p.crs)\n",
    "\n",
    "# bs_src_area = src_area_bnds(epd_src, bs_aoi)"
   ]
  },
  {
   "cell_type": "code",
   "execution_count": 114,
   "id": "c3f6447e",
   "metadata": {},
   "outputs": [],
   "source": [
    "# there is a small\n",
    "# epd_gdf[epd_gdf.age_days>0].plot()"
   ]
  },
  {
   "cell_type": "code",
   "execution_count": 53,
   "id": "c1d15724",
   "metadata": {},
   "outputs": [],
   "source": [
    "# epd_gdf.age_days.unique()"
   ]
  },
  {
   "cell_type": "code",
   "execution_count": 85,
   "id": "f8450aa1",
   "metadata": {},
   "outputs": [],
   "source": [
    "# particles instantly terminated\n",
    "# even setting the start layer to 4 all of the particles instantly terminate, may be due to leakage face?\n",
    "# layer 2 same issue so there is a problem with model set up\n",
    "# before changing from stop_at to pass_through\n",
    "# epd_gdf[['k0','xloc0','yloc0','k','xloc','yloc']]\n"
   ]
  },
  {
   "cell_type": "code",
   "execution_count": 107,
   "id": "3be55252",
   "metadata": {},
   "outputs": [
    {
     "data": {
      "text/plain": [
       "<AxesSubplot: >"
      ]
     },
     "execution_count": 107,
     "metadata": {},
     "output_type": "execute_result"
    },
    {
     "data": {
      "image/png": "[encoded data removed]",
      "text/plain": [
       "<Figure size 400x400 with 2 Axes>"
      ]
     },
     "metadata": {},
     "output_type": "display_data"
    }
   ],
   "source": [
    "# most are weakly terminated\n",
    "fig,ax = plt.subplots(figsize=(4,4))\n",
    "epd_gdf.plot('age_days', ax=ax, legend=True, legend_kwds = {'shrink':0.6,'orientation':'vertical'})\n",
    "grid_sfr.plot(ax=ax)\n",
    "grid_lak.plot(ax=ax,color='none')"
   ]
  },
  {
   "cell_type": "markdown",
   "id": "52016fa8",
   "metadata": {},
   "source": [
    "Initial forward tracking shows essentially all termination in zones ('weak sinks') and the map of the end points suggests very close points to the stream network from a top view. \n",
    "\n",
    "Plot a vertical slice to look at vertical pathways"
   ]
  },
  {
   "cell_type": "code",
   "execution_count": 33,
   "id": "36e41763",
   "metadata": {},
   "outputs": [
    {
     "ename": "FileNotFoundError",
     "evalue": "[Errno 2] No such file or directory: 'C:/WRDAPP/GWFlowModel/Cosumnes/Stream_seepage/inset_oneto_denier\\\\mp\\\\forward\\\\mp_364daysModpath7.timeseries'",
     "output_type": "error",
     "traceback": [
      "\u001b[1;31m---------------------------------------------------------------------------\u001b[0m",
      "\u001b[1;31mFileNotFoundError\u001b[0m                         Traceback (most recent call last)",
      "Cell \u001b[1;32mIn[33], line 1\u001b[0m\n\u001b[1;32m----> 1\u001b[0m t \u001b[38;5;241m=\u001b[39m \u001b[43mflopy\u001b[49m\u001b[38;5;241;43m.\u001b[39;49m\u001b[43mutils\u001b[49m\u001b[38;5;241;43m.\u001b[39;49m\u001b[43mTimeseriesFile\u001b[49m\u001b[43m(\u001b[49m\u001b[43mmp_ws\u001b[49m\u001b[38;5;241;43m+\u001b[39;49m\u001b[43m \u001b[49m\u001b[43mmodelname\u001b[49m\u001b[43m \u001b[49m\u001b[38;5;241;43m+\u001b[39;49m\u001b[43m \u001b[49m\u001b[38;5;124;43m\"\u001b[39;49m\u001b[38;5;124;43m.timeseries\u001b[39;49m\u001b[38;5;124;43m\"\u001b[39;49m\u001b[43m)\u001b[49m\n\u001b[0;32m      3\u001b[0m \u001b[38;5;66;03m# file is 1.3 Gb\u001b[39;00m\n\u001b[0;32m      4\u001b[0m \u001b[38;5;66;03m# ts = t.get_data() # loads nothing\u001b[39;00m\n\u001b[0;32m      5\u001b[0m ts \u001b[38;5;241m=\u001b[39m t\u001b[38;5;241m.\u001b[39mget_destination_timeseries_data(dest_cells\u001b[38;5;241m=\u001b[39mnodes_bs_aoi)\n",
      "File \u001b[1;32m~\\anaconda3\\envs\\geo_env\\Lib\\site-packages\\flopy\\utils\\modpathfile.py:1300\u001b[0m, in \u001b[0;36mTimeseriesFile.__init__\u001b[1;34m(self, filename, verbose)\u001b[0m\n\u001b[0;32m   1295\u001b[0m \u001b[38;5;28;01mdef\u001b[39;00m \u001b[38;5;21m__init__\u001b[39m(\u001b[38;5;28mself\u001b[39m, filename, verbose\u001b[38;5;241m=\u001b[39m\u001b[38;5;28;01mFalse\u001b[39;00m):\n\u001b[0;32m   1296\u001b[0m \u001b[38;5;250m    \u001b[39m\u001b[38;5;124;03m\"\"\"\u001b[39;00m\n\u001b[0;32m   1297\u001b[0m \u001b[38;5;124;03m    Class constructor.\u001b[39;00m\n\u001b[0;32m   1298\u001b[0m \n\u001b[0;32m   1299\u001b[0m \u001b[38;5;124;03m    \"\"\"\u001b[39;00m\n\u001b[1;32m-> 1300\u001b[0m     \u001b[38;5;28;43msuper\u001b[39;49m\u001b[43m(\u001b[49m\u001b[43m)\u001b[49m\u001b[38;5;241;43m.\u001b[39;49m\u001b[38;5;21;43m__init__\u001b[39;49m\u001b[43m(\u001b[49m\u001b[43mfilename\u001b[49m\u001b[43m,\u001b[49m\u001b[43m \u001b[49m\u001b[43mverbose\u001b[49m\u001b[38;5;241;43m=\u001b[39;49m\u001b[43mverbose\u001b[49m\u001b[43m,\u001b[49m\u001b[43m \u001b[49m\u001b[43moutput_type\u001b[49m\u001b[38;5;241;43m=\u001b[39;49m\u001b[38;5;124;43m\"\u001b[39;49m\u001b[38;5;124;43mtimeseries\u001b[39;49m\u001b[38;5;124;43m\"\u001b[39;49m\u001b[43m)\u001b[49m\n\u001b[0;32m   1302\u001b[0m     \u001b[38;5;66;03m# set dtype\u001b[39;00m\n\u001b[0;32m   1303\u001b[0m     \u001b[38;5;28mself\u001b[39m\u001b[38;5;241m.\u001b[39mdtype \u001b[38;5;241m=\u001b[39m \u001b[38;5;28mself\u001b[39m\u001b[38;5;241m.\u001b[39m_get_dtypes()\n",
      "File \u001b[1;32m~\\anaconda3\\envs\\geo_env\\Lib\\site-packages\\flopy\\utils\\modpathfile.py:42\u001b[0m, in \u001b[0;36m_ModpathSeries.__init__\u001b[1;34m(self, filename, verbose, output_type)\u001b[0m\n\u001b[0;32m     39\u001b[0m \u001b[38;5;28mself\u001b[39m\u001b[38;5;241m.\u001b[39mverbose \u001b[38;5;241m=\u001b[39m verbose\n\u001b[0;32m     40\u001b[0m \u001b[38;5;28mself\u001b[39m\u001b[38;5;241m.\u001b[39moutput_type \u001b[38;5;241m=\u001b[39m output_type\u001b[38;5;241m.\u001b[39mupper()\n\u001b[1;32m---> 42\u001b[0m \u001b[38;5;28;43mself\u001b[39;49m\u001b[38;5;241;43m.\u001b[39;49m\u001b[43m_build_index\u001b[49m\u001b[43m(\u001b[49m\u001b[43m)\u001b[49m\n\u001b[0;32m     44\u001b[0m \u001b[38;5;66;03m# set output type\u001b[39;00m\n\u001b[0;32m     45\u001b[0m \u001b[38;5;28mself\u001b[39m\u001b[38;5;241m.\u001b[39moutdtype \u001b[38;5;241m=\u001b[39m \u001b[38;5;28mself\u001b[39m\u001b[38;5;241m.\u001b[39m_get_outdtype()\n",
      "File \u001b[1;32m~\\anaconda3\\envs\\geo_env\\Lib\\site-packages\\flopy\\utils\\modpathfile.py:1332\u001b[0m, in \u001b[0;36mTimeseriesFile._build_index\u001b[1;34m(self)\u001b[0m\n\u001b[0;32m   1330\u001b[0m compact \u001b[38;5;241m=\u001b[39m \u001b[38;5;28;01mFalse\u001b[39;00m\n\u001b[0;32m   1331\u001b[0m \u001b[38;5;28mself\u001b[39m\u001b[38;5;241m.\u001b[39mskiprows \u001b[38;5;241m=\u001b[39m \u001b[38;5;241m0\u001b[39m\n\u001b[1;32m-> 1332\u001b[0m \u001b[38;5;28mself\u001b[39m\u001b[38;5;241m.\u001b[39mfile \u001b[38;5;241m=\u001b[39m \u001b[38;5;28;43mopen\u001b[39;49m\u001b[43m(\u001b[49m\u001b[38;5;28;43mself\u001b[39;49m\u001b[38;5;241;43m.\u001b[39;49m\u001b[43mfname\u001b[49m\u001b[43m,\u001b[49m\u001b[43m \u001b[49m\u001b[38;5;124;43m\"\u001b[39;49m\u001b[38;5;124;43mr\u001b[39;49m\u001b[38;5;124;43m\"\u001b[39;49m\u001b[43m)\u001b[49m\n\u001b[0;32m   1333\u001b[0m \u001b[38;5;28;01mwhile\u001b[39;00m \u001b[38;5;28;01mTrue\u001b[39;00m:\n\u001b[0;32m   1334\u001b[0m     line \u001b[38;5;241m=\u001b[39m \u001b[38;5;28mself\u001b[39m\u001b[38;5;241m.\u001b[39mfile\u001b[38;5;241m.\u001b[39mreadline()\n",
      "\u001b[1;31mFileNotFoundError\u001b[0m: [Errno 2] No such file or directory: 'C:/WRDAPP/GWFlowModel/Cosumnes/Stream_seepage/inset_oneto_denier\\\\mp\\\\forward\\\\mp_364daysModpath7.timeseries'"
     ]
    }
   ],
   "source": [
    "t = flopy.utils.TimeseriesFile(mp_ws+ modelname + \".timeseries\")\n",
    "\n",
    "# file is 1.3 Gb\n",
    "# ts = t.get_data() # loads nothing\n",
    "ts = t.get_destination_timeseries_data(dest_cells=nodes_bs_aoi)\n",
    "# create dataframe\n",
    "ts_df = pd.DataFrame().from_records(ts)"
   ]
  },
  {
   "cell_type": "markdown",
   "id": "ab1497c5",
   "metadata": {},
   "source": [
    "# Cumulative age plots"
   ]
  },
  {
   "cell_type": "code",
   "execution_count": null,
   "id": "695b8307",
   "metadata": {},
   "outputs": [],
   "source": [
    "\n",
    "# old code from shasta that needs to be updated\n",
    "#normalize item number values to colormap\n",
    "norm = mpl.colors.Normalize(vmin=0, vmax=len(epd_flow.date.unique()))\n",
    "\n",
    "# plot a cumulative age plot for the cumulative three cells\n",
    "# for each time step\n",
    "fig,ax = plt.subplots(figsize=(6,6))\n",
    "plt.cmap = 'gray'\n",
    "\n",
    "for n, t in enumerate(epd_flow.date.unique()):\n",
    "    t_epd = pd.DataFrame(epd_flow[epd_flow.date==t].copy())\n",
    "    t_epd['weight'] = t_epd.flow/t_epd.flow.sum()\n",
    "    t_epd = t_epd.sort_values('age_years')\n",
    "    t_epd['weight_cum'] = t_epd.weight.cumsum()\n",
    "\n",
    "    t_epd.plot(x='age_years',y='weight_cum', ax=ax,  label=str(t), color=cm.gray(norm(n)))\n",
    "ax.set_xlabel('Age (years)')\n",
    "ax.set_xscale('log') \n",
    "ax.set_ylabel('Flow Weighted Fraction of Particles')\n",
    "ax.set_title('Cumulative Age Distribution\\nby Stress Period')\n",
    "\n",
    "\n",
    "custom_lines = [Line2D([0], [0], color=cm.gray(norm(0)), lw=4),\n",
    "                Line2D([0], [0], color=cm.gray(norm(n)), lw=4)]\n",
    "ax.legend(custom_lines, [epd_dates[0], epd_dates[n]], facecolor='lightgray', framealpha=1)\n",
    "\n",
    "# plt.savefig(fig_dir+'/'+tracking+'/big springs cumulative age average' +  mp_info['strt_date'].values[0]+ '.png',\n",
    "#             dpi=300, bbox_inches='tight')"
   ]
  }
 ],
 "metadata": {
  "kernelspec": {
   "display_name": "Python 3 (ipykernel)",
   "language": "python",
   "name": "python3"
  },
  "language_info": {
   "codemirror_mode": {
    "name": "ipython",
    "version": 3
   },
   "file_extension": ".py",
   "mimetype": "text/x-python",
   "name": "python",
   "nbconvert_exporter": "python",
   "pygments_lexer": "ipython3",
   "version": "3.11.0"
  }
 },
 "nbformat": 4,
 "nbformat_minor": 5
}
