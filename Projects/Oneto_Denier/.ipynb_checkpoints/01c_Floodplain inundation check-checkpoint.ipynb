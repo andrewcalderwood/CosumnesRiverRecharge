{
 "cells": [
  {
   "cell_type": "code",
   "execution_count": null,
   "id": "97426904",
   "metadata": {},
   "outputs": [],
   "source": [
    "# standard python utilities\n",
    "import os\n",
    "from os.path import join, basename,dirname\n",
    "import sys\n",
    "import glob\n",
    "\n",
    "import pandas as pd\n",
    "import numpy as np\n",
    "import geopandas as gpd\n",
    "\n",
    "# standard python plotting utilities\n",
    "import matplotlib as mpl\n",
    "import matplotlib.pyplot as plt\n"
   ]
  },
  {
   "cell_type": "code",
   "execution_count": null,
   "id": "38b7fce0",
   "metadata": {},
   "outputs": [],
   "source": [
    "git_dir = os.getcwd()\n",
    "while basename(git_dir) != 'GitHub':\n",
    "    git_dir = dirname(git_dir)\n",
    "usr_dir = os.getcwd()\n",
    "while basename(usr_dir) != 'Users':\n",
    "    temp = basename(usr_dir)\n",
    "    usr_dir = dirname(usr_dir)\n",
    "usr_dir += '/'+temp\n",
    "\n",
    "py_dir = git_dir +'/CosumnesRiverRecharge/python_utilities/'\n",
    "## Set up directory referencing\n",
    "# Package data\n",
    "gwfm_dir = join(usr_dir,'Box/research_cosumnes/GWFlowModel')\n",
    "proj_dir = join(gwfm_dir,'Oneto_Denier')\n",
    "# dat_dir = proj_dir+'Stream_level_data/'\n",
    "# fig_dir = proj_dir+'/Streambed_seepage/figures/'\n",
    "\n"
   ]
  },
  {
   "cell_type": "code",
   "execution_count": null,
   "id": "be9dc18b",
   "metadata": {},
   "outputs": [],
   "source": [
    "sw_dir = join(dirname(gwfm_dir), 'Oneto_Denier', 'Cosumnes_GageHeight')\n"
   ]
  },
  {
   "cell_type": "code",
   "execution_count": null,
   "id": "28ce6f1e",
   "metadata": {},
   "outputs": [],
   "source": [
    "fn = pd.Series(os.listdir(sw_dir))\n",
    "fn = fn[fn.str.contains(r'\\d{4}.xlsx')]\n",
    "\n",
    "fn"
   ]
  },
  {
   "cell_type": "code",
   "execution_count": null,
   "id": "e483354e",
   "metadata": {},
   "outputs": [],
   "source": [
    "# most significant loggers are installed in WY2014\n",
    "xl_fn = join(sw_dir, 'Depth_WSE_WY2014.xlsx')\n",
    "sw_meta = pd.read_excel(xl_fn, header=0, skiprows=[1])\n",
    "# extract loggers atcually in the field\n",
    "sw_name = pd.DataFrame(pd.ExcelFile(xl_fn).sheet_names[1:], columns=['sheet'])\n",
    "sw_name['name'] = sw_name.iloc[:,0].str.upper().values # standardize names as capitalized\n",
    "\n",
    "# ll_name = sw_meta['Logger Location']\n"
   ]
  },
  {
   "cell_type": "code",
   "execution_count": null,
   "id": "c0f76d17",
   "metadata": {},
   "outputs": [],
   "source": [
    "sw_select = sw_meta[sw_meta['Logger Type'].isin(['Floodplain'])]['Logger Location']\n",
    "sw_load = sw_name.loc[sw_name.name.isin(sw_select),'sheet']\n",
    "# sw_name, sw_select\n",
    "sw_load\n"
   ]
  },
  {
   "cell_type": "code",
   "execution_count": null,
   "id": "55ac1711",
   "metadata": {},
   "outputs": [],
   "source": [
    "sw_gdf = gpd.GeoDataFrame(sw_meta, geometry=gpd.points_from_xy(sw_meta.Easting, sw_meta.Northing), crs='epsg:32610')"
   ]
  },
  {
   "cell_type": "code",
   "execution_count": null,
   "id": "59576945",
   "metadata": {},
   "outputs": [],
   "source": [
    "fig,ax = plt.subplots()\n",
    "gdf_plt = sw_gdf.loc[sw_gdf['Logger Location'].isin(sw_load.str.upper())]\n",
    "gdf_plt.plot(ax=ax)\n",
    "gdf_plt\n",
    "gdf_plt.apply(lambda x: ax.annotate(x['Logger Location'], xy=x.geometry.coords[0], ha='center', fontsize=6,\n",
    "                                    xytext = (5,10), textcoords='offset pixels',\n",
    "#                                     arrowprops = {'shrink':1},\n",
    "                                    bbox=dict(boxstyle=\"square,pad=0.3\", fc=\"lightgrey\", ec=\"black\", lw=2)\n",
    "                                                        ),axis=1);\n",
    "# sw_load\n",
    "# sw_gdf\n"
   ]
  },
  {
   "cell_type": "code",
   "execution_count": null,
   "id": "53473d66",
   "metadata": {},
   "outputs": [],
   "source": [
    "sw_all = pd.DataFrame()\n",
    "for n in sw_load:\n",
    "# for n in [sw_name[0]]:\n",
    "    sw_data = pd.read_excel(xl_fn, sheet_name=n, header=0)\n",
    "    sw_data['name'] = n\n",
    "    sw_all = pd.concat((sw_all, sw_data))\n",
    "\n",
    "# ll_name.loc[0]\n",
    "# create datetime column\n",
    "sw_all['dt'] = pd.to_datetime(sw_all.Date.astype(str)+' '+sw_all.Time.astype(str))\n",
    "sw_all = sw_all.set_index('dt')"
   ]
  },
  {
   "cell_type": "code",
   "execution_count": null,
   "id": "e7ea22d6",
   "metadata": {},
   "outputs": [],
   "source": [
    "# USGS presents flow in cfs (cubic feet per second)\n",
    "inflow_in = pd.read_csv(join(gwfm_dir, 'SFR_data','MB_15min_2010_10_01.csv'),\n",
    "                             index_col = 'Datetime', parse_dates = True)\n",
    "inflow_in = inflow_in.dropna(axis=1, how='all')"
   ]
  },
  {
   "cell_type": "code",
   "execution_count": null,
   "id": "75135767",
   "metadata": {},
   "outputs": [],
   "source": [
    "inflow_in.index"
   ]
  },
  {
   "cell_type": "code",
   "execution_count": null,
   "id": "69cf8dea",
   "metadata": {},
   "outputs": [],
   "source": [
    "\n",
    "fig,ax=plt.subplots(1+len(sw_load),1)\n",
    "inflow_in[sw_all.index.min():sw_all.index.max()].plot(ax=ax[0])\n",
    "\n",
    "for nn, n in enumerate(sw_load):\n",
    "    sw_all[sw_all.name==n].plot(y='WSE_m', ax=ax[1+nn],label=n)\n",
    "# inflow_in.index, sw_all.dt"
   ]
  },
  {
   "cell_type": "code",
   "execution_count": null,
   "id": "7f66d7c6",
   "metadata": {},
   "outputs": [],
   "source": []
  },
  {
   "cell_type": "code",
   "execution_count": null,
   "id": "b9f66410",
   "metadata": {},
   "outputs": [],
   "source": [
    "min_date = pd.to_datetime('2014-2-7')\n",
    "max_date = pd.to_datetime('2014-2-14')\n",
    "fig,ax = plt.subplots(2,1, sharex=True)\n",
    "inflow_in[min_date:max_date].plot(ax=ax[0])\n",
    "sw_201 = sw_all[sw_all.name=='Site_201']\n",
    "sw_201[min_date:max_date].plot(x='Date',y='WSE_m', ax=ax[1])"
   ]
  },
  {
   "cell_type": "code",
   "execution_count": null,
   "id": "17559b98",
   "metadata": {},
   "outputs": [],
   "source": [
    "fld_min = sw_201[sw_201.WSE_m>5.9].index.min()\n",
    "inflow_in[fld_min - pd.DateOffset(hours=13):]\n",
    "# pd.DateOffset?"
   ]
  },
  {
   "cell_type": "code",
   "execution_count": null,
   "id": "e4f86bad",
   "metadata": {},
   "outputs": [],
   "source": [
    "inflow_in[min_date:max_date].max()*0.3048**3"
   ]
  },
  {
   "cell_type": "markdown",
   "id": "6e1ce440",
   "metadata": {},
   "source": [
    "There is definitely some flooding under the non-reconnected scenario but the threshold seems higher? And perhaps less flow makes it there.  \n",
    "\n",
    "Following levee removal in 1995 at the lower site Florsheim et al 2006 found flows from 23-25.5 cms led to floodplain connection. This suggests the flow connection requirement was higher prior to removal.  \n",
    "\n",
    "The flow threshold pre-restoration could be estimated with Manning's equation at LWC gage if we could create a cross-section before and after.  \n",
    "\n",
    "Map key dates with floods at 23, 50, 75, 100, 150, 200 cms to see dates when we should reference data sources like satellite. We know from Whipple thesis that RBI recorded inundation at 300 cms with aerial photographs."
   ]
  }
 ],
 "metadata": {
  "kernelspec": {
   "display_name": "Python 3 (ipykernel)",
   "language": "python",
   "name": "python3"
  },
  "language_info": {
   "codemirror_mode": {
    "name": "ipython",
    "version": 3
   },
   "file_extension": ".py",
   "mimetype": "text/x-python",
   "name": "python",
   "nbconvert_exporter": "python",
   "pygments_lexer": "ipython3",
   "version": "3.11.0"
  }
 },
 "nbformat": 4,
 "nbformat_minor": 5
}
