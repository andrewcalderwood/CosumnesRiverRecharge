{
 "cells": [
  {
   "cell_type": "code",
   "execution_count": null,
   "id": "b08e9dc4",
   "metadata": {},
   "outputs": [],
   "source": [
    "# standard python utilities\n",
    "import os\n",
    "from os.path import join, basename,dirname\n",
    "import sys\n",
    "import glob\n",
    "import pandas as pd\n",
    "import numpy as np\n",
    "import calendar\n",
    "import time\n",
    "\n",
    "# standard python plotting utilities\n",
    "import matplotlib as mpl\n",
    "import matplotlib.pyplot as plt\n",
    "import matplotlib.dates as mdates\n",
    "# import seaborn as sns\n",
    "\n",
    "# standard geospatial python utilities\n",
    "# import pyproj # for converting proj4string\n",
    "import shapely\n",
    "import geopandas as gpd\n",
    "\n",
    "from osgeo import gdal # need to load before rasterio because of issue\n",
    "\n",
    "import rasterio\n",
    "\n",
    "# mapping utilities\n",
    "# import contextily as ctx\n",
    "from mpl_toolkits.axes_grid1.inset_locator import inset_axes\n",
    "from mpl_toolkits.axes_grid1.anchored_artists import AnchoredSizeBar\n",
    "import matplotlib.font_manager as fm\n",
    "from matplotlib.ticker import MaxNLocator\n",
    "\n",
    "import flopy"
   ]
  },
  {
   "cell_type": "code",
   "execution_count": null,
   "id": "135beb9e",
   "metadata": {},
   "outputs": [],
   "source": [
    "git_dir = os.getcwd()\n",
    "while basename(git_dir) != 'GitHub':\n",
    "    git_dir = dirname(git_dir)\n",
    "usr_dir = os.getcwd()\n",
    "while basename(usr_dir) != 'Users':\n",
    "    temp = basename(usr_dir)\n",
    "    usr_dir = dirname(usr_dir)\n",
    "usr_dir += '/'+temp\n",
    "\n",
    "py_dir = git_dir +'/CosumnesRiverRecharge/python_utilities/'\n",
    "## Set up directory referencing\n",
    "# Package data\n",
    "gwfm_dir = usr_dir+'/Box/research_cosumnes/GWFlowModel/'\n",
    "proj_dir = gwfm_dir+'Oneto_Denier/'\n",
    "dat_dir = proj_dir+'Stream_level_data/'\n",
    "fig_dir = proj_dir+'/Streambed_seepage/figures/'\n",
    "\n"
   ]
  },
  {
   "cell_type": "code",
   "execution_count": null,
   "id": "0c6994b8",
   "metadata": {},
   "outputs": [],
   "source": [
    "hob_dir = join(gwfm_dir, 'HOB_data')\n",
    "dem_dir = gwfm_dir+ '/DEM_data'"
   ]
  },
  {
   "cell_type": "code",
   "execution_count": null,
   "id": "1176cb9c",
   "metadata": {},
   "outputs": [],
   "source": [
    "loadpth =  'C:/WRDAPP/GWFlowModel/Cosumnes/Stream_seepage'\n",
    "\n",
    "model_nam = 'inset_oneto_denier'\n",
    "model_ws = join(loadpth,model_nam)\n",
    "\n",
    "m = flopy.modflow.Modflow.load('MF.nam', model_ws= model_ws, \n",
    "                                exe_name='mf-owhm.exe', version='mfnwt')\n"
   ]
  },
  {
   "cell_type": "code",
   "execution_count": null,
   "id": "414829f0",
   "metadata": {},
   "outputs": [],
   "source": [
    "grid_dir = join(gwfm_dir, 'DIS_data/streambed_seepage/grid')\n",
    "grid_fn = join(grid_dir, model_nam,'rm_only_grid.shp')\n",
    "grid_p = gpd.read_file(grid_fn)\n",
    "grid_p.crs='epsg:32610'\n",
    "m_domain = gpd.GeoDataFrame(pd.DataFrame([0]), geometry = [grid_p.unary_union], crs='epsg:32610')"
   ]
  },
  {
   "cell_type": "code",
   "execution_count": null,
   "id": "b34f7c38",
   "metadata": {},
   "outputs": [],
   "source": [
    "sfrdf = pd.DataFrame(m.sfr.reach_data)\n",
    "grid_sfr = grid_p.set_index(['row','column']).loc[list(zip(sfrdf.i+1,sfrdf.j+1))].reset_index(drop=True)\n",
    "grid_sfr = pd.concat((grid_sfr,sfrdf),axis=1)"
   ]
  },
  {
   "cell_type": "code",
   "execution_count": null,
   "id": "f2f61dbe",
   "metadata": {},
   "outputs": [],
   "source": [
    "map_dir = gwfm_dir+'/Mapping/'\n",
    "df = pd.read_csv(join(hob_dir,'CosumnesRiverPreserve_MW_screened_interval.csv'))\n",
    "rm_sp = gpd.GeoDataFrame(df, geometry = gpd.points_from_xy(df.Longitude,df.Latitude), crs='epsg:4326')\n",
    "rm_sp = rm_sp.to_crs('epsg:32610')\n",
    "rm_sp = rm_sp.rename(columns={'Well ID':'Sensor'})\n",
    "\n",
    "# prepare output for modelgrid join\n",
    "rm_t = rm_sp[rm_sp['At Oneto-Denier']=='Yes']\n",
    "\n",
    "\n",
    "# find HOB well grid cell\n",
    "rm_grid = gpd.sjoin(rm_t, grid_p)\n",
    "\n",
    "# get model layer for heads\n",
    "hob_row = rm_grid.row.values-1\n",
    "hob_col = rm_grid.column.values-1"
   ]
  },
  {
   "cell_type": "code",
   "execution_count": null,
   "id": "3e639219",
   "metadata": {},
   "outputs": [],
   "source": [
    "point = list(zip(rm_t.geometry.x.values,rm_t.geometry.y.values))\n",
    "\n",
    "raster_name = dem_dir+'/mwt_peri_2_3.tif/mwt_peri_2_3_clipped.tif'\n",
    "with rasterio.open(raster_name) as src:\n",
    "    rm_t['z_OD_m'] = [sample[0] for sample in src.sample(point)]\n",
    "\n",
    "raster_name = gwfm_dir+\"/DEM_data/USGS_ten_meter_dem/modeldomain_10m_transformed.tif\"\n",
    "with rasterio.open(raster_name) as src:\n",
    "    rm_t['z_USGS_m'] = [sample[0] for sample in src.sample(point)]\n"
   ]
  },
  {
   "cell_type": "code",
   "execution_count": null,
   "id": "f6f7be02",
   "metadata": {},
   "outputs": [],
   "source": [
    "pd.DataFrame(rm_t).plot(x='Sensor', y=['MPE (meters)', 'z_OD_m','z_USGS_m'])\n",
    "# rm_t"
   ]
  },
  {
   "cell_type": "markdown",
   "id": "151812ec",
   "metadata": {},
   "source": [
    "## Zonal stats on 2m DEM"
   ]
  },
  {
   "cell_type": "code",
   "execution_count": null,
   "id": "28b6dcb4",
   "metadata": {},
   "outputs": [],
   "source": [
    "from rasterstats import zonal_stats"
   ]
  },
  {
   "cell_type": "code",
   "execution_count": null,
   "id": "a7a80595",
   "metadata": {},
   "outputs": [],
   "source": [
    "fn = proj_dir+'/local_grid_elevation_m_statistics.shp'\n",
    "if exists(fn):\n",
    "    zs_df = gpd.read_file(fn)\n",
    "    zs_df[['row','column']]-=1\n",
    "else:\n",
    "    raster_name = dem_dir+'/mwt_peri_2_3.tif/mwt_peri_2_3_clipped.tif'\n",
    "    dem = rasterio.open(raster_name)\n",
    "    # affine = dem.affine # didn't work\n",
    "    affine = dem.meta['transform']\n",
    "\n",
    "    stats = ['mean', 'median', 'majority','std','min','max']\n",
    "\n",
    "    # takes several minutes\n",
    "    zs_grid = zonal_stats(grid_p, raster=raster_name, stats=stats)\n",
    "    # convert to dataframe\n",
    "    zs_df = pd.DataFrame(zs_grid)\n",
    "    # join zone stats of DEM to parcel data\n",
    "    zs_df = grid_p.join(zs_df)\n",
    "    # save to shapefile\n",
    "    zs_df.to_file(proj_dir+'/local_grid_elevation_m_statistics.shp')\n",
    "    zs_df[['row','column']]-=1"
   ]
  },
  {
   "cell_type": "code",
   "execution_count": null,
   "id": "790ed931",
   "metadata": {},
   "outputs": [],
   "source": [
    "# zs_df.plot('mean',legend=True)\n"
   ]
  },
  {
   "cell_type": "code",
   "execution_count": null,
   "id": "8334e1cc",
   "metadata": {},
   "outputs": [],
   "source": [
    "dem_local = np.zeros((m.dis.nrow,m.dis.ncol))\n",
    "dem_local[zs_df.row-1, zs_df.column-1] = zs_df['mean']"
   ]
  },
  {
   "cell_type": "code",
   "execution_count": null,
   "id": "84c16579",
   "metadata": {},
   "outputs": [],
   "source": [
    "vmin = np.nanmin((dem_local, m.dis.top.array))\n",
    "vmax = np.nanmax((dem_local, m.dis.top.array))"
   ]
  },
  {
   "cell_type": "code",
   "execution_count": null,
   "id": "98162f03",
   "metadata": {},
   "outputs": [],
   "source": [
    "\n",
    "fig,ax=plt.subplots(1,2)\n",
    "ax[0].imshow(dem_local, vmin=vmin,vmax=vmax)\n",
    "ax[0].set_title('Local DEM')\n",
    "ax[1].set_title('Regional DEM')\n",
    "im = ax[1].imshow(m.dis.top.array, vmin=vmin,vmax=vmax)\n",
    "cbar_ax = fig.add_axes([0.95, 0.25, 0.04, 0.4])\n",
    "fig.colorbar(im, cax=cbar_ax)"
   ]
  },
  {
   "cell_type": "code",
   "execution_count": null,
   "id": "5ca419d6",
   "metadata": {},
   "outputs": [],
   "source": [
    "plt.imshow(m.dis.top.array - dem_local, vmax=2)\n",
    "plt.colorbar()"
   ]
  },
  {
   "cell_type": "markdown",
   "id": "1a5acc99",
   "metadata": {},
   "source": [
    "The local DEM has very similar trends and magnitude to the regional DEM yet with better channel and drainage definition which explains why the channel appears so much lower for the local DEM."
   ]
  },
  {
   "cell_type": "code",
   "execution_count": null,
   "id": "2df7d8e8",
   "metadata": {},
   "outputs": [],
   "source": [
    "grid_sfr"
   ]
  },
  {
   "cell_type": "code",
   "execution_count": null,
   "id": "8d98ceaf",
   "metadata": {},
   "outputs": [],
   "source": [
    "dem_stat = gpd.read_file(join(gwfm_dir,'DIS_data/grid_elevation_m_statistics.shp'))\n",
    "dem_stat[['row','column']]-=1\n",
    "\n",
    "grid_reg = grid_sfr.join(dem_stat.set_index(['row','column'])[['mean','percentile','percenti10']], on=['i','j'])\n",
    "grid_loc = grid_sfr.join(zs_df.set_index(['row','column'])[['mean','min','max']], on=['i','j'])\n"
   ]
  },
  {
   "cell_type": "code",
   "execution_count": null,
   "id": "22e85bd3",
   "metadata": {},
   "outputs": [],
   "source": [
    "fig,ax=plt.subplots()\n",
    "grid_reg.plot(y=['strtop','mean','percentile','percenti10'],kind='line', ax=ax)\n",
    "grid_loc.plot(y=['strtop','mean','min','max'],kind='line',style='--',ax=ax)\n",
    "\n",
    "(grid_sfr.strtop/0.3048).plot(ax=ax)"
   ]
  },
  {
   "cell_type": "markdown",
   "id": "91c7e827",
   "metadata": {},
   "source": [
    "Plotting the zonal stats on the local scale shows that the elevation minimums for all sfr grid cells are much higher than what was predicted by the cross-section sampling which means that the cross-section might be accidentally pulling lower points at further distances. I multiplied the minimums sampled by 3.28084 and found that I hadn't removed the conversion from ft to meters in the XS sampling code which is what is causing the error."
   ]
  },
  {
   "cell_type": "code",
   "execution_count": null,
   "id": "d1d2552f",
   "metadata": {},
   "outputs": [],
   "source": [
    "fp_logger = pd.read_csv(join(gwfm_dir,'LAK_data','floodplain_logger_metadata.csv'))\n",
    "fp_logger = gpd.GeoDataFrame(fp_logger, geometry = gpd.points_from_xy(fp_logger.Easting, fp_logger.Northing), crs='epsg:32610')\n",
    "# find grid cell it is within\n",
    "fp_grid = gpd.sjoin(fp_logger, grid_p, how='left',predicate='within')"
   ]
  },
  {
   "cell_type": "code",
   "execution_count": null,
   "id": "ad6a994d",
   "metadata": {},
   "outputs": [],
   "source": [
    "fp_grid['local_dem'] = dem_local[fp_grid.row-1,fp_grid.column-1]\n",
    "fp_grid['regional_dem'] = m.dis.top.array[fp_grid.row-1,fp_grid.column-1]"
   ]
  },
  {
   "cell_type": "markdown",
   "id": "4e988070",
   "metadata": {},
   "source": [
    "Plotting the mean elevation from the local versus the preset elevations of the floodplain loggers shows that it is actually higher than expected. So the 2m DEM isn't actually too low in terms of height. The issue for the strm top may lie in how the raster is sampled and the minimum is chosen."
   ]
  },
  {
   "cell_type": "code",
   "execution_count": null,
   "id": "6e2dece4",
   "metadata": {},
   "outputs": [],
   "source": [
    "fp_grid[fp_grid['Logger Type']=='River'].plot(x = 'Logger Location', y=['Elevation','local_dem','regional_dem'],kind='line')\n",
    "plt.xticks(rotation=90)"
   ]
  }
 ],
 "metadata": {
  "kernelspec": {
   "display_name": "Python 3 (ipykernel)",
   "language": "python",
   "name": "python3"
  },
  "language_info": {
   "codemirror_mode": {
    "name": "ipython",
    "version": 3
   },
   "file_extension": ".py",
   "mimetype": "text/x-python",
   "name": "python",
   "nbconvert_exporter": "python",
   "pygments_lexer": "ipython3",
   "version": "3.11.0"
  }
 },
 "nbformat": 4,
 "nbformat_minor": 5
}
