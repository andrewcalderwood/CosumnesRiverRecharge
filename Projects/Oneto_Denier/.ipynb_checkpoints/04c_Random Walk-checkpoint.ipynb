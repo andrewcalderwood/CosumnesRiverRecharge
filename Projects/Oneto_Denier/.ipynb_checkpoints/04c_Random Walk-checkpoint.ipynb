{
 "cells": [
  {
   "cell_type": "markdown",
   "id": "f7864eb7",
   "metadata": {},
   "source": [
    "RWhet by Eric Labolle is a Random Walk model for particle tracking to estimate the concentrations of contaminants through an aquifer which is a step above what I need where I'm focusing only on age although I do have an interest in the partition of groundwater from the stream vs floodplain. \n",
    "\n",
    "PAR2 is a similar concept but Lagrangian based with parallelization.  \n",
    "\n",
    "Are these necessary or relevant to differentiating the benefits of floodplain reconnection?"
   ]
  },
  {
   "cell_type": "code",
   "execution_count": 1,
   "id": "7d56a32f",
   "metadata": {},
   "outputs": [],
   "source": [
    "import os \n",
    "import sys\n",
    "from os.path import basename, dirname, join, exists\n",
    "import time\n",
    "\n",
    "import numpy as np\n",
    "import pandas as pd\n",
    "import geopandas as gpd\n",
    "\n",
    "\n",
    "import matplotlib.pyplot as plt\n",
    "import matplotlib as mpl\n",
    "\n",
    "from osgeo import gdal\n",
    "import contextily as ctx\n",
    "\n"
   ]
  },
  {
   "cell_type": "code",
   "execution_count": 2,
   "id": "16d491d6",
   "metadata": {},
   "outputs": [],
   "source": [
    "doc_dir = os.getcwd()\n",
    "while basename(doc_dir) != 'Documents':\n",
    "    doc_dir = dirname(doc_dir)\n",
    "    \n",
    "# dir of all gwfm data\n",
    "gwfm_dir = os.path.dirname(doc_dir)+'/Box/research_cosumnes/GWFlowModel'\n",
    "# dir of stream level data for seepage study\n",
    "proj_dir = gwfm_dir + '/Oneto_Denier/'\n",
    "dat_dir = proj_dir+'Stream_level_data/'\n",
    "\n",
    "fig_dir = proj_dir+'/Streambed_seepage/figures/'\n",
    "hob_dir = join(gwfm_dir, 'HOB_data')\n",
    "sfr_dir = gwfm_dir+'/SFR_data/'\n",
    "\n",
    "\n"
   ]
  },
  {
   "cell_type": "code",
   "execution_count": 3,
   "id": "09352540",
   "metadata": {},
   "outputs": [],
   "source": [
    "\n",
    "def add_path(fxn_dir):\n",
    "    \"\"\" Insert fxn directory into first position on path so local functions supercede the global\"\"\"\n",
    "    if fxn_dir not in sys.path:\n",
    "        sys.path.insert(0, fxn_dir)\n"
   ]
  },
  {
   "cell_type": "code",
   "execution_count": 4,
   "id": "f2a4c403",
   "metadata": {},
   "outputs": [],
   "source": [
    "\n",
    "add_path(doc_dir+'/GitHub/flopy')\n",
    "import flopy "
   ]
  },
  {
   "cell_type": "code",
   "execution_count": 5,
   "id": "d3147ebc",
   "metadata": {},
   "outputs": [],
   "source": [
    "py_dir = join(doc_dir,'GitHub/CosumnesRiverRecharge/python_utilities')\n",
    "\n",
    "add_path(py_dir)\n",
    "\n",
    "from mf_utility import get_dates, get_layer_from_elev, clean_wb\n",
    "from map_cln import gdf_bnds, plt_cln"
   ]
  },
  {
   "cell_type": "code",
   "execution_count": 31,
   "id": "6758bc5d",
   "metadata": {},
   "outputs": [],
   "source": [
    "# scenario=''\n",
    "scenario='no_reconnection'\n",
    "\n",
    "loadpth = 'C:/WRDAPP/GWFlowModel/Cosumnes/Stream_seepage/'\n",
    "model_nam = 'oneto_denier_upscale4x_2014_2020'\n",
    "\n",
    "\n",
    "model_ws = join(loadpth,model_nam)\n",
    "if scenario != '':\n",
    "    model_ws += '_' + scenario\n",
    "    \n",
    "# model_ws = join(loadpth,'parallel_oneto_denier','realization000')\n",
    "# load_only = ['DIS','UPW','SFR','OC', \"EVT\",'BAS6']\n",
    "m = flopy.modflow.Modflow.load('MF.nam', model_ws= model_ws, \n",
    "                                exe_name='mf-owhm.exe', version='mfnwt',\n",
    "#                               load_only=load_only,\n",
    "                              )\n",
    "\n"
   ]
  },
  {
   "cell_type": "code",
   "execution_count": null,
   "id": "f975c441",
   "metadata": {},
   "outputs": [],
   "source": []
  },
  {
   "cell_type": "markdown",
   "id": "166f49b2",
   "metadata": {},
   "source": [
    "## Add LMT package\n",
    "LMT package is used for linking MODFLOW to MT3DS so the developers of PAR2 use it as a convenient way to build inputs."
   ]
  },
  {
   "cell_type": "code",
   "execution_count": 36,
   "id": "acd62617",
   "metadata": {},
   "outputs": [],
   "source": [
    "lmt?"
   ]
  },
  {
   "cell_type": "code",
   "execution_count": 37,
   "id": "f119575f",
   "metadata": {},
   "outputs": [],
   "source": [
    "# Name of the ftl output file\n",
    "outftl_name  = 'MF.ftl'\n",
    "\n",
    "# Add LMT package to the MODFLOW model\n",
    "lmt = flopy.modflow.ModflowLmt(m, output_file_header = 'extended',\n",
    "                                   output_file_format = 'formatted',\n",
    "                                   unitnumber = 24,\n",
    "                                   output_file_name = outftl_name)"
   ]
  },
  {
   "cell_type": "code",
   "execution_count": 33,
   "id": "ba3c9555",
   "metadata": {},
   "outputs": [],
   "source": [
    "m.write_name_file()"
   ]
  },
  {
   "cell_type": "code",
   "execution_count": 38,
   "id": "55c80193",
   "metadata": {},
   "outputs": [],
   "source": [
    "lmt.write_file()"
   ]
  },
  {
   "cell_type": "markdown",
   "id": "5ccfbc8e",
   "metadata": {},
   "source": [
    "# Set up PAR2"
   ]
  },
  {
   "cell_type": "code",
   "execution_count": null,
   "id": "07789fa0",
   "metadata": {},
   "outputs": [],
   "source": []
  },
  {
   "cell_type": "markdown",
   "id": "c9860752",
   "metadata": {},
   "source": [
    "# Run PAR2"
   ]
  },
  {
   "cell_type": "code",
   "execution_count": null,
   "id": "8399f4e9",
   "metadata": {},
   "outputs": [],
   "source": [
    "import yaml\n",
    "import os\n",
    "import subprocess\n",
    "\n",
    "from subprocess import call\n",
    "\n",
    "# NOTE: update this variable with the path to PAR2 executable\n",
    "par2_exe = '../../Build/Release/par2.exe'\n",
    "\n",
    "# YAML Configuration file, particle tracking parameters can be modified here\n",
    "config_file = 'config.yaml'\n",
    "\n",
    "# Print the parameters in the configuration file\n",
    "with open(config_file, 'r') as stream:\n",
    "    try:\n",
    "        params = yaml.load(stream)\n",
    "        print(yaml.dump(params))\n",
    "    except yaml.YAMLError as exc:\n",
    "        print(exc)\n",
    "        \n",
    "# Create the output directory\n",
    "if not os.path.exists('output'):\n",
    "    os.mkdir('output')\n",
    "\n",
    "print()\n",
    "\n",
    "# Run PAR2\n",
    "print('STARTING SIMULATION...')\n",
    "proc = subprocess.run([par2_exe, config_file], capture_output = True, text = True)\n",
    "print('DONE - RETURN CODE', proc.returncode)\n",
    "# TODO show par2 console output in jupyter"
   ]
  },
  {
   "cell_type": "code",
   "execution_count": null,
   "id": "a19edde1",
   "metadata": {},
   "outputs": [],
   "source": []
  },
  {
   "cell_type": "code",
   "execution_count": null,
   "id": "7fcf15a5",
   "metadata": {},
   "outputs": [],
   "source": [
    "output_csv = 'output/result.csv'\n",
    "\n",
    "with open(output_csv, 'r') as instream:\n",
    "    labels = instream.readline()[:-1].split(',')\n",
    "    data = np.loadtxt(instream, delimiter = ',')\n",
    "\n",
    "ID_STEP = 0\n",
    "ID_TIME = 1\n",
    "    \n",
    "plt.figure()\n",
    "for i in range(2, len(labels)):\n",
    "    plt.plot(data[:, ID_TIME], data[:, i], label = labels[i])\n",
    "    \n",
    "plt.legend()"
   ]
  },
  {
   "cell_type": "code",
   "execution_count": null,
   "id": "65f2b134",
   "metadata": {},
   "outputs": [],
   "source": [
    "output_snap = 'output/snap-{}.csv'\n",
    "\n",
    "steps = [0, 500, 1000]\n",
    "\n",
    "plt.figure()\n",
    "for step in steps:\n",
    "    positions = np.loadtxt(output_snap.format(step), skiprows = 1, delimiter = ',')\n",
    "    plt.plot(positions[:, 1], positions[:, 2], 'o')\n",
    "\n",
    "plt.axis('scaled')\n",
    "plt.xlim([0, Lx])\n",
    "plt.ylim([0, Ly])"
   ]
  }
 ],
 "metadata": {
  "kernelspec": {
   "display_name": "Python 3 (ipykernel)",
   "language": "python",
   "name": "python3"
  },
  "language_info": {
   "codemirror_mode": {
    "name": "ipython",
    "version": 3
   },
   "file_extension": ".py",
   "mimetype": "text/x-python",
   "name": "python",
   "nbconvert_exporter": "python",
   "pygments_lexer": "ipython3",
   "version": "3.11.0"
  }
 },
 "nbformat": 4,
 "nbformat_minor": 5
}
