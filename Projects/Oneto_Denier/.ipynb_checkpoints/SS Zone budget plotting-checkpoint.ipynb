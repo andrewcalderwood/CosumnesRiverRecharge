{
 "cells": [
  {
   "cell_type": "code",
   "execution_count": 1,
   "id": "returning-appraisal",
   "metadata": {},
   "outputs": [],
   "source": [
    "# standard python utilities\n",
    "import os\n",
    "from os.path import join, exists, dirname, basename\n",
    "import sys\n",
    "import glob\n",
    "import pandas as pd\n",
    "import numpy as np\n",
    "import calendar\n",
    "import time\n",
    "\n",
    "# standard python plotting utilities\n",
    "import matplotlib as mpl\n",
    "import matplotlib.pyplot as plt\n",
    "import matplotlib.dates as mdates\n",
    "\n",
    "# standard geospatial python utilities\n",
    "import pyproj # for converting proj4string\n",
    "import shapely\n",
    "import geopandas as gpd\n",
    "# import rasterio\n",
    "\n",
    "# mapping utilities\n",
    "# import contextily as ctx\n",
    "from mpl_toolkits.axes_grid1.inset_locator import inset_axes\n",
    "from mpl_toolkits.axes_grid1.anchored_artists import AnchoredSizeBar\n",
    "import matplotlib.font_manager as fm\n",
    "from matplotlib.ticker import MaxNLocator\n",
    "\n",
    "import flopy\n",
    "import flopy.utils.binaryfile as bf\n"
   ]
  },
  {
   "cell_type": "code",
   "execution_count": 2,
   "id": "7d6e74c8",
   "metadata": {},
   "outputs": [
    {
     "data": {
      "text/plain": [
       "'C:\\\\Users/ajcalder\\\\Box/research_cosumnes/GWFlowModel'"
      ]
     },
     "execution_count": 2,
     "metadata": {},
     "output_type": "execute_result"
    }
   ],
   "source": [
    "git_dir = os.getcwd()\n",
    "while basename(git_dir) != 'GitHub':\n",
    "    git_dir = dirname(git_dir)\n",
    "usr_dir = os.getcwd()\n",
    "while basename(usr_dir) != 'Users':\n",
    "    temp = basename(usr_dir)\n",
    "    usr_dir = dirname(usr_dir)\n",
    "usr_dir += '/'+temp\n",
    "\n",
    "## Set up directory referencing\n",
    "# Package data\n",
    "gwfm_dir = join(usr_dir,'Box/research_cosumnes/GWFlowModel')\n",
    "gwfm_dir"
   ]
  },
  {
   "cell_type": "code",
   "execution_count": 3,
   "id": "sharp-vision",
   "metadata": {},
   "outputs": [],
   "source": [
    "plt_dir = join(gwfm_dir, 'Oneto_Denier/figures')"
   ]
  },
  {
   "cell_type": "code",
   "execution_count": 4,
   "id": "studied-tract",
   "metadata": {},
   "outputs": [],
   "source": [
    "loadpth = 'C:/WRDAPP/GWFlowModel/Cosumnes/Stream_seepage/'\n",
    "# model_nam = 'inset_model'\n",
    "model_nam = 'inset_oneto_denier'\n",
    "\n",
    "model_ws = loadpth+ model_nam\n"
   ]
  },
  {
   "cell_type": "code",
   "execution_count": 5,
   "id": "accepting-hudson",
   "metadata": {},
   "outputs": [],
   "source": [
    "\n",
    "m = flopy.modflow.Modflow.load('MF.nam', model_ws= model_ws, \n",
    "                                exe_name='mf-owhm', version='mfnwt')"
   ]
  },
  {
   "cell_type": "code",
   "execution_count": 6,
   "id": "biblical-mining",
   "metadata": {},
   "outputs": [],
   "source": [
    "grid_dir = join(gwfm_dir, 'DIS_data/streambed_seepage/grid')\n",
    "grid_fn = join(grid_dir, model_nam,'rm_only_grid.shp')\n",
    "grid_p = gpd.read_file(grid_fn)\n",
    "grid_p.crs='epsg:32610'\n",
    "m_domain = gpd.GeoDataFrame(pd.DataFrame([0]), geometry = [grid_p.unary_union], crs='epsg:32610')\n",
    "\n",
    "sfrdf = pd.DataFrame(m.sfr.reach_data)\n",
    "grid_sfr = grid_p.set_index(['row','column']).loc[list(zip(sfrdf.i+1,sfrdf.j+1))].reset_index(drop=True)\n",
    "grid_sfr = pd.concat((grid_sfr,sfrdf),axis=1)\n",
    "\n",
    "sfr_dir = gwfm_dir+'/SFR_data/'\n"
   ]
  },
  {
   "cell_type": "code",
   "execution_count": 90,
   "id": "faced-sellers",
   "metadata": {},
   "outputs": [],
   "source": [
    "def zone_clean(cbc,zon, ind_name,  kstpkper):\n",
    "    zb = flopy.utils.ZoneBudget(cbc, zon, kstpkper)\n",
    "    zb_df = zb.get_dataframes()\n",
    "    # ungroup by timestep\n",
    "    zb_df = zb_df.reset_index()\n",
    "    names = zb_df.name.unique()\n",
    "    zb_df = zb_df.pivot(index = 'totim', columns = 'name',values = 'ZONE_1')\n",
    "    \n",
    "    # columns to make negative\n",
    "    to_cols = zb_df.columns[zb_df.columns.str.contains('TO')]\n",
    "    # multiply by -1 to have pulled out of water balance on plot\n",
    "    zb_df.loc[:,to_cols] *= -1\n",
    "    # correct for storage change\n",
    "    stor_cols = zb_df.columns[zb_df.columns.str.contains('STORAGE')]\n",
    "    zb_df.loc[:,stor_cols] *= -1\n",
    "    zb_df = zb_df.reset_index()\n",
    "    strt_date = pd.to_datetime(m.dis.start_datetime)\n",
    "    zb_df.totim = strt_date+(zb_df.totim*24).astype('timedelta64[h]')\n",
    "    zb_df = zb_df.set_index('totim')\n",
    "    zb_df = zb_df.resample('MS').sum()\n",
    "    return(zb_df)"
   ]
  },
  {
   "cell_type": "code",
   "execution_count": 8,
   "id": "commercial-tower",
   "metadata": {},
   "outputs": [],
   "source": [
    "lak_shp = join(gwfm_dir,'LAK_data/floodplain_delineation')\n",
    "# shapefile rectangle of the area surrounding the Dam within about 5 cells\n",
    "zon_gpd = gpd.read_file(join(lak_shp,'LCRFR_ModelDom_2017/LCRFR_2DArea_2015.shp' )).to_crs('epsg:32610')\n",
    "# grid_p = gpd.read_file(gwfm_dir+'/DIS_data/grid/grid.shp')\n",
    "\n",
    "zon_cells = gpd.sjoin(grid_p,zon_gpd,how='right',predicate='within')\n",
    "# zon_cells = gpd.sjoin(grid_p,zon_dam_gpd) #includes more cells, including with high conductance\n",
    "\n",
    "# filter zone budget for Blodgett Dam to just within 5 cells or so of the Dam\n",
    "# zon_dam = np.zeros((m.dis.nrow,m.dis.ncol),dtype=int)\n",
    "zon_lak = np.zeros((grid_p.row.max(),grid_p.column.max()),dtype=int)\n",
    "\n",
    "zon_lak[zon_cells.row-1,zon_cells.column-1]=1\n",
    "\n",
    "zon_mod = np.ones((grid_p.row.max(),grid_p.column.max()),dtype=int)"
   ]
  },
  {
   "cell_type": "code",
   "execution_count": 31,
   "id": "99799f9e",
   "metadata": {},
   "outputs": [],
   "source": [
    "zon_color_dict = pd.read_csv('mf_wb_color_dict.csv',header=0, index_col='flux',skiprows=1).color.to_dict()\n",
    "zon_name_dict = pd.read_csv('mf_wb_color_dict.csv',header=0, index_col='flux',skiprows=1).name.to_dict()"
   ]
  },
  {
   "cell_type": "code",
   "execution_count": 28,
   "id": "touched-establishment",
   "metadata": {},
   "outputs": [],
   "source": [
    "# load cbb file from any model scneario to get listing of kstpkper\n",
    "cbc = join(m.model_ws, 'MF.cbc')\n",
    "zb = flopy.utils.ZoneBudget(cbc, zon_lak)\n",
    "kstpkper = zb.kstpkper\n"
   ]
  },
  {
   "cell_type": "code",
   "execution_count": null,
   "id": "8cafaaba",
   "metadata": {},
   "outputs": [],
   "source": [
    "spd = 0\n",
    "zb_lak_df = zone_clean(cbc,zon_lak, 'LAK',kstpkper)\n",
    "lak_cols = zb_lak_df.columns[zb_lak_df.columns.str.contains('TO_|FROM_')].values\n",
    "lak_cols = lak_cols[(np.abs(zb_lak_df[lak_cols])>0).sum(axis=0).astype(bool)]\n",
    "\n",
    "zb_mod_df = zone_clean(cbc,zon_mod, 'LAK', kstpkper)\n",
    "mod_cols = zb_mod_df.columns[zb_mod_df.columns.str.contains('TO_|FROM_')].values\n",
    "mod_cols = mod_cols[(np.abs(zb_mod_df[mod_cols])>0).sum(axis=0).astype(bool)]\n"
   ]
  },
  {
   "cell_type": "code",
   "execution_count": null,
   "id": "f7bc66e4",
   "metadata": {},
   "outputs": [],
   "source": [
    "# convert m3/day to AF/30 days\n",
    "zb_lak_all_AF = zb_lak_df*(1/0.3048**3)*(1/43560)\n",
    "\n",
    "fig, ax = plt.subplots(figsize=(16,6))\n",
    "zb_lak_all_AF.plot(y=lak_cols,\n",
    "           kind='bar',ax=ax, stacked = True,legend=False,\n",
    "               color=[zon_color_dict[x] for x in lak_cols], label = [zon_name_dict[x] for x in lak_cols]\n",
    "                  )\n",
    "\n",
    "plt.ylabel('Flux (AF/month)')\n",
    "plt.legend(loc=(0.01,1.1),ncol=5)\n",
    "plt.xlabel('Scenario')\n",
    "# plt.savefig(plt_dir+'/AOI_waterbudget_GW_'+model_nam+'_AF_day.png',dpi=600,bbox_inches='tight')\n"
   ]
  },
  {
   "cell_type": "code",
   "execution_count": null,
   "id": "1be0aa33",
   "metadata": {},
   "outputs": [],
   "source": [
    "fig,ax = plt.subplots(1,2)\n",
    "\n",
    "im0 = ax[0].imshow(m.evt.evtr.array[0,0])\n",
    "plt.colorbar(im0, shrink=0.5)\n",
    "im1 = ax[1].imshow(m.evt.exdp.array[0,0])\n",
    "plt.colorbar(im1, shrink=0.5)\n",
    "\n",
    "fig.tight_layout()"
   ]
  },
  {
   "cell_type": "code",
   "execution_count": null,
   "id": "8c68d8d5",
   "metadata": {},
   "outputs": [],
   "source": [
    "# predicting about 0.3 m of ET which is low considering estimates \n",
    "(zb_mod_df.TO_ET/(100**2)).plot()"
   ]
  },
  {
   "cell_type": "code",
   "execution_count": null,
   "id": "e4a03517",
   "metadata": {},
   "outputs": [],
   "source": [
    "# zb_mod_df"
   ]
  },
  {
   "cell_type": "code",
   "execution_count": null,
   "id": "9a6d69b7",
   "metadata": {},
   "outputs": [],
   "source": [
    "# convert m3 to AF\n",
    "zb_mod_all_AF = zb_mod_df*(1/0.3048**3)*(1/43560)\n",
    "\n",
    "fig, ax = plt.subplots(figsize=(16,6))\n",
    "zb_mod_all_AF.plot(y=mod_cols,\n",
    "           kind='bar',ax=ax, stacked = True,\n",
    "               color=[zon_color_dict[x] for x in mod_cols], label = [zon_name_dict[x] for x in mod_cols])\n",
    "# ax.hlines(y=0, xmin = 0, xmax = 100, color = 'black'\n",
    "\n",
    "# zb_df.plot(y = ['dSTORAGE'],ax=ax)\n",
    "# clean up x axis so there are not as many dates\n",
    "# ax.xaxis.set_major_locator(mdates.MonthLocator())\n",
    "\n",
    "plt.legend(loc=(0.0,1.1),ncol=5)\n",
    "plt.ylabel('Flux (AF/month)')\n",
    "plt.xlabel('Scenario')\n",
    "plt.title('Water Budget for Entire Domain')\n",
    "# plt.savefig(plt_dir+'/domain_waterbudget_'+model_type+'_AF_day.png',dpi=600,bbox_inches='tight')"
   ]
  },
  {
   "cell_type": "markdown",
   "id": "later-square",
   "metadata": {},
   "source": [
    "## Annual sum water budget"
   ]
  },
  {
   "cell_type": "code",
   "execution_count": null,
   "id": "breeding-longer",
   "metadata": {},
   "outputs": [],
   "source": [
    "def annual_WB(zb_annual,unit, zon):\n",
    "    # if unit = AF convert units, else leave as m3\n",
    "    if unit == 'AF':\n",
    "        # ((1 ft/ 0.3048 m)^3) * (1 acre/43560 ft2)\n",
    "        zb_annual = zb_annual/((0.3048**3) *43560)\n",
    "    if zon == 'valley':\n",
    "        cols = [ 'FROM_RECHARGE', 'FROM_ZONE_0', 'TO_ZONE_0', 'TO_WELLS']        \n",
    "    elif zon == 'all':\n",
    "        cols = ['FROM_CONSTANT_HEAD', 'FROM_GHB', 'FROM_RECHARGE', 'TO_CONSTANT_HEAD', 'TO_GHB', 'TO_WELLS']\n",
    "\n",
    "    #fixes issues with line and bar plotting\n",
    "    zb_annual.index = zb_annual.index.astype(str)\n",
    "    \n",
    "    fig, ax = plt.subplots(figsize=(16,6))\n",
    "    # clean up x axis so there are not as many dates\n",
    "    # ax.xaxis.set_major_locator(mdates.MonthLocator())\n",
    "    zb_annual.plot(y=['dSTORAGE'],ax=ax, color = 'black')\n",
    "    # define columns to plot\n",
    "    \n",
    "    # plot acre ft instead of meters\n",
    "    zb_annual.plot(y= cols,\n",
    "               kind='bar',ax=ax, stacked = True)\n",
    "    plt.ylabel('Flux (ac-ft/year)')\n",
    "\n",
    "    zb_annual.plot(y=['SUM_dSTORAGE'],ax=ax, secondary_y = True,rot=90)\n",
    "    plt.xticks(rotation=90)\n",
    "    ax.yaxis.set_major_locator(MaxNLocator(5)) \n",
    "\n",
    "    plt.ylabel('Flux (ac-ft/year)')\n",
    "    plt.xlabel('Datetime')\n",
    "    plt.title('Water Budget for Butte Valley')\n",
    "    plt.savefig(m.model_ws+'/Plots/annualsum_WB_'+zon+'_'+unit+'.png',dpi=300,bbox_inches = 'tight')\n",
    "    zb_annual.to_csv(m.model_ws+'/Plots/annualsum_WB_'+zon+'_'+unit+'.csv')"
   ]
  },
  {
   "cell_type": "code",
   "execution_count": null,
   "id": "classified-shark",
   "metadata": {},
   "outputs": [],
   "source": [
    "annual_WB(zb_annual118,unit = 'AF',zon='valley')\n",
    "annual_WB(zb_annual,unit = 'AF',zon='all')"
   ]
  },
  {
   "cell_type": "code",
   "execution_count": null,
   "id": "executive-pharmaceutical",
   "metadata": {},
   "outputs": [],
   "source": []
  },
  {
   "cell_type": "code",
   "execution_count": null,
   "id": "sophisticated-shade",
   "metadata": {},
   "outputs": [],
   "source": [
    "def monthly_WB(zb_df,unit, zon, wy,name):\n",
    "    plt_strt = pd.to_datetime(str(wy-1)+'-10-01')\n",
    "    plt_end = pd.to_datetime(str(wy)+'-9-30')\n",
    "    zb_plot = zb_df.loc[(zb_df.index>plt_strt)&(zb_df.index<plt_end)]\n",
    "    zb_plot.index = zb_plot.index.astype(str)\n",
    "    # if unit = AF convert units, else leave as m3\n",
    "    if unit == 'AF':\n",
    "        # ((1 ft/ 0.3048 m)^3) * (1 acre/43560 ft2)\n",
    "        zb_plot = zb_plot/((0.3048**3) *43560)\n",
    "\n",
    "    #fixes issues with line and bar plotting\n",
    "    zb_plot.index = zb_plot.index.astype(str)\n",
    "    \n",
    "    fig, ax = plt.subplots(figsize=(16,6))\n",
    "    # clean up x axis so there are not as many dates\n",
    "    # ax.xaxis.set_major_locator(mdates.MonthLocator())\n",
    "    zb_plot.plot(y=['dSTORAGE'],ax=ax, color = 'black')\n",
    "    ax.hlines(y=0, xmin = -1, xmax = 100, color = 'black')\n",
    "\n",
    "    # plot acre ft instead of meters\n",
    "    zb_plot.plot(y= cols,\n",
    "               kind='bar',ax=ax, stacked = True)\n",
    "    plt.ylabel('Flux (ac-ft/month)')\n",
    "\n",
    "    zb_plot.plot(y=['SUM_dSTORAGE'],ax=ax, secondary_y = True,rot=90)\n",
    "    plt.xticks(rotation=90)\n",
    "    ax.yaxis.set_major_locator(MaxNLocator(5)) \n",
    "\n",
    "    plt.ylabel('Flux (ac-ft/month)')\n",
    "    plt.xlabel('Datetime')\n",
    "    plt.title('Water Budget for Butte Valley WY'+str(wy)+' - '+name+' Year' )\n",
    "#     plt.savefig(m.model_ws+'/Plots/'+name+'_'+str(wy)+'monthlyWB_'+zon+'_'+unit+'.png',dpi=300,bbox_inches = 'tight')"
   ]
  },
  {
   "cell_type": "code",
   "execution_count": null,
   "id": "floppy-portrait",
   "metadata": {},
   "outputs": [],
   "source": [
    "monthly_WB(zb_df_mon,unit='AF', zon='all', wy=1999,name='Wet')\n",
    "monthly_WB(zb_df_mon,unit='AF', zon='all', wy=2005,name='Avg')\n",
    "monthly_WB(zb_df_mon,unit='AF', zon='all', wy=2014,name='Dry')"
   ]
  }
 ],
 "metadata": {
  "kernelspec": {
   "display_name": "Python 3 (ipykernel)",
   "language": "python",
   "name": "python3"
  },
  "language_info": {
   "codemirror_mode": {
    "name": "ipython",
    "version": 3
   },
   "file_extension": ".py",
   "mimetype": "text/x-python",
   "name": "python",
   "nbconvert_exporter": "python",
   "pygments_lexer": "ipython3",
   "version": "3.11.0"
  }
 },
 "nbformat": 4,
 "nbformat_minor": 5
}
