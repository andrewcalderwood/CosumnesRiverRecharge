{
 "cells": [
  {
   "cell_type": "code",
   "execution_count": null,
   "id": "b114ef86",
   "metadata": {},
   "outputs": [],
   "source": [
    "import os\n",
    "import sys\n",
    "from os.path import join, exists, basename, dirname\n",
    "import glob\n",
    "\n",
    "import geopandas as gpd\n",
    "import pandas as pd\n",
    "import numpy as np\n",
    "import matplotlib.pyplot as plt\n",
    "\n",
    "import contextily as ctx\n",
    "from mpl_toolkits.axes_grid1.inset_locator import inset_axes, zoomed_inset_axes, mark_inset\n",
    "from mpl_toolkits.axes_grid1.anchored_artists import AnchoredSizeBar\n",
    "import matplotlib.font_manager as fm\n",
    "from matplotlib.patches import Patch\n",
    "from matplotlib.lines import Line2D"
   ]
  },
  {
   "cell_type": "code",
   "execution_count": null,
   "id": "f5237ca6",
   "metadata": {},
   "outputs": [],
   "source": [
    "doc_dir = os.getcwd()\n",
    "while basename(doc_dir) != 'Documents':\n",
    "    doc_dir = dirname(doc_dir)\n",
    "# dir of all gwfm data\n",
    "gwfm_dir = dirname(doc_dir)+'/Box/research_cosumnes/GWFlowModel'\n",
    "# dir of stream level data for seepage study\n",
    "proj_dir = join(gwfm_dir, 'Oneto_Denier')\n",
    "dat_dir = join(proj_dir,'Stream_level_data')\n",
    "map_dir = join(gwfm_dir,'Mapping')\n",
    "\n",
    "sfr_dir = join(gwfm_dir,'SFR_data')\n",
    "hob_dir = join(gwfm_dir,'HOB_data')\n",
    "uzf_dir = join(gwfm_dir, 'UZF_data')\n"
   ]
  },
  {
   "cell_type": "code",
   "execution_count": null,
   "id": "fd71d403",
   "metadata": {},
   "outputs": [],
   "source": [
    "out_dir = join(proj_dir, 'output')\n",
    "fig_dir = join(proj_dir, 'figures')"
   ]
  },
  {
   "cell_type": "code",
   "execution_count": null,
   "id": "f442e0ab",
   "metadata": {},
   "outputs": [],
   "source": [
    "from importlib import reload\n",
    "def add_path(fxn_dir):\n",
    "    if fxn_dir not in sys.path:\n",
    "        sys.path.append(fxn_dir)\n",
    "        \n",
    "flopy_dir = doc_dir+'/GitHub/flopy'\n",
    "if flopy_dir not in sys.path:\n",
    "    sys.path.insert(0, flopy_dir)\n",
    "\n",
    "import flopy \n",
    "import flopy.utils.binaryfile as bf\n",
    "\n",
    "\n",
    "add_path(doc_dir+'/GitHub/CosumnesRiverRecharge/tprogs_utilities')\n",
    "add_path(doc_dir+'/GitHub/CosumnesRiverRecharge/python_utilities')"
   ]
  },
  {
   "cell_type": "code",
   "execution_count": null,
   "id": "71192aed",
   "metadata": {},
   "outputs": [],
   "source": [
    "from map_cln import gdf_bnds, pnt_2_tup, lab_pnt, plt_cln\n",
    "from mf_utility import get_dates, get_layer_from_elev, clean_wb"
   ]
  },
  {
   "cell_type": "code",
   "execution_count": null,
   "id": "5c30b81a",
   "metadata": {},
   "outputs": [],
   "source": [
    "# import mf_utility\n",
    "# reload(mf_utility)"
   ]
  },
  {
   "cell_type": "code",
   "execution_count": null,
   "id": "a8e6c84a",
   "metadata": {},
   "outputs": [],
   "source": [
    "grid_r = gpd.read_file(gwfm_dir+'/DIS_data/grid/grid.shp')\n"
   ]
  },
  {
   "cell_type": "code",
   "execution_count": null,
   "id": "de61a472",
   "metadata": {},
   "outputs": [],
   "source": [
    "# write modelgrid to get updated row and col numbers specific to the child grid\n",
    "grid_dir = join(gwfm_dir, 'DIS_data/streambed_seepage/grid')\n",
    "grid_fn = join(grid_dir, 'inset_oneto_denier','rm_only_grid.shp')\n",
    "\n",
    "# m.modelgrid.write_shapefile(grid_fn)\n",
    "grid_p = gpd.read_file(grid_fn)\n",
    "grid_p.crs = 'epsg:32610'"
   ]
  },
  {
   "cell_type": "code",
   "execution_count": null,
   "id": "1bbf9a5f",
   "metadata": {},
   "outputs": [],
   "source": [
    "grid_match = gpd.sjoin(grid_p, grid_r, how='left',lsuffix='c',rsuffix='p')\n",
    "grid_match = grid_match.rename(columns={'node_c':'node','row_c':'row','column_c':'column'})"
   ]
  },
  {
   "cell_type": "code",
   "execution_count": null,
   "id": "b5270c51",
   "metadata": {},
   "outputs": [],
   "source": [
    "grid_p['id'] = 0\n",
    "m_domain = grid_p.dissolve('id')"
   ]
  },
  {
   "cell_type": "code",
   "execution_count": null,
   "id": "bf87e97e",
   "metadata": {},
   "outputs": [],
   "source": [
    "# get exterior polyline of model grid\n",
    "grid_bnd = gpd.GeoDataFrame(pd.DataFrame([0]), geometry = [grid_p.unary_union.exterior], crs=grid_p.crs)\n",
    "# find cells that construct the model boundary\n",
    "bnd_cells = gpd.sjoin(grid_p, grid_bnd)\n",
    "# bnd_cells = bnd_cells[['row','column']] - 1\n",
    "# bnd_cells['grid_id'] = np.arange(0,len(bnd_cells))\n",
    "# bnd_rows, bnd_cols = bnd_cells.row.values, bnd_cells.column.values"
   ]
  },
  {
   "cell_type": "code",
   "execution_count": null,
   "id": "d365dcc8",
   "metadata": {},
   "outputs": [],
   "source": [
    "rivers = gpd.read_file(join(sfr_dir,\"Sac_valley_rivers/Sac_valley_rivers.shp\"))\n",
    "rivers = rivers.to_crs('EPSG:32610')\n",
    "\n",
    "mb_regional = gpd.read_file(join(gwfm_dir,\"DIS_data/NewModelDomain/GWModelDomain_52_9deg_UTM10N_WGS84.shp\"))\n",
    "# mb = gpd.read_file(join(gwfm_dir,\"DIS_data/NewModelDomain/GWModelDomain_52_9deg_UTM10N_WGS84.shp\"))\n",
    "rivers_clip = gpd.clip(rivers, mb_regional)\n",
    "\n",
    "soam = gpd.read_file(join(map_dir,\"so_am_subbasin/so_am_subbasin.shp\"))\n",
    "soam = soam.to_crs('EPSG:32610')\n",
    "cos = gpd.read_file(join(map_dir,\"cos_subbasin/cos_subbasin.shp\"))\n",
    "cos = cos.to_crs('EPSG:32610')\n",
    "\n",
    "ca = gpd.read_file(join(map_dir,\"ca_state_boundary/CA_State_TIGER2016.shp\"))\n",
    "ca = ca.to_crs('EPSG:32610')"
   ]
  },
  {
   "cell_type": "code",
   "execution_count": null,
   "id": "6cfcef28",
   "metadata": {},
   "outputs": [],
   "source": [
    "cr = rivers_clip[rivers_clip.GNIS_Name=='Cosumnes River']\n",
    "mr = rivers_clip[rivers_clip.GNIS_Name=='Mokelumne River']"
   ]
  },
  {
   "cell_type": "code",
   "execution_count": null,
   "id": "6044ebd2",
   "metadata": {},
   "outputs": [],
   "source": [
    "prms_gis = join(gwfm_dir,'PRMS','GIS')\n",
    "ws_gdf = gpd.read_file(join(prms_gis, \"NHD_H_18040013_HU8_Shape\\Shape\\WBDHU8.shp\"))\n",
    "ws_gdf=ws_gdf.to_crs(m_domain.crs)"
   ]
  },
  {
   "cell_type": "code",
   "execution_count": null,
   "id": "fd2e8016",
   "metadata": {},
   "outputs": [],
   "source": [
    "df = pd.read_csv(join(hob_dir,'CosumnesRiverPreserve_MW_screened_interval.csv'))\n",
    "rm_sp = gpd.GeoDataFrame(df, geometry = gpd.points_from_xy(df.Longitude,df.Latitude), crs='epsg:4326')\n",
    "rm_sp = rm_sp.to_crs('epsg:32610')\n",
    "rm_sp = rm_sp.rename(columns={'Well ID':'Sensor'})\n",
    "\n",
    "# prepare output for modelgrid join\n",
    "rm_t = rm_sp[rm_sp['At Oneto-Denier']=='Yes']\n"
   ]
  },
  {
   "cell_type": "code",
   "execution_count": null,
   "id": "6fd9bed2",
   "metadata": {},
   "outputs": [],
   "source": [
    "levee_removal = gpd.read_file(join(map_dir, 'levee_removal_OD','levee_removal_OD.shp'))"
   ]
  },
  {
   "cell_type": "code",
   "execution_count": null,
   "id": "b35c2065",
   "metadata": {},
   "outputs": [],
   "source": [
    "lak_shp = join(gwfm_dir,'LAK_data/floodplain_delineation')\n",
    "# ifp = gpd.read_file(join(lak_shp,'inner_floodplain_domain/inner_floodplain_domain.shp' )).to_crs('epsg:32610')\n",
    "# lfp = gpd.read_file(join(lak_shp,'lower_floodplain_approximate_area/lower_floodplain_approximate_area.shp' )).to_crs('epsg:32610')\n",
    "lak_extent = gpd.read_file(join(lak_shp,'LCRFR_ModelDom_2017/LCRFR_2DArea_2015.shp' )).to_crs('epsg:32610')\n",
    "\n",
    "fp_logger = pd.read_csv(join(gwfm_dir,'LAK_data','floodplain_logger_metadata.csv'))\n",
    "fp_logger = gpd.GeoDataFrame(fp_logger, geometry = gpd.points_from_xy(fp_logger.Easting, fp_logger.Northing), crs='epsg:32610')\n",
    "# find grid cell it is within\n",
    "# fp_grid = gpd.sjoin(fp_logger, grid_p, how='left',op='within')"
   ]
  },
  {
   "cell_type": "code",
   "execution_count": null,
   "id": "75948251",
   "metadata": {},
   "outputs": [],
   "source": [
    "od_breach = fp_logger[fp_logger['Logger Location']=='OD_Excavation']\n",
    "od_swale = fp_logger[fp_logger['Logger Location']=='SwaleBreach_1']"
   ]
  },
  {
   "cell_type": "code",
   "execution_count": null,
   "id": "5adb7324",
   "metadata": {},
   "outputs": [],
   "source": [
    "\n",
    "\n",
    "legend_elements = [\n",
    "    Patch(facecolor='none', edgecolor='black', linestyle = '--', alpha=1., label='Watershed Extent'),\n",
    "    Patch(facecolor='none', edgecolor='black',alpha=1., label='Model Extent'),\n",
    "    Patch(facecolor='none', edgecolor='red',alpha=1., label='Levee removal and\\nexcavation areas'),\n",
    "    Patch(facecolor='tab:blue', alpha=0.5, label='Reconnected Floodplain'),\n",
    "    Line2D([0], [0],color='tab:blue',label='Cosumnes River'),\n",
    "    Line2D([0], [0], marker='.', linestyle='', color='blue', label='Monitoring Well'),\n",
    "]\n",
    "\n"
   ]
  },
  {
   "cell_type": "code",
   "execution_count": null,
   "id": "b5abd81f",
   "metadata": {},
   "outputs": [],
   "source": [
    "fig, axins =plt.subplots(figsize=(6.5,6.5))\n",
    "\n",
    "# second one is smaller inset\n",
    "axins.tick_params(labelleft=False, labelbottom=False, left = False, bottom = False)\n",
    "\n",
    "ca.plot(ax = axins,alpha = 0.2, edgecolor='black')\n",
    "axins.annotate(text='California', xy=lab_pnt(ca), \n",
    "            xytext = (6,6), textcoords = 'offset pixels',\n",
    "            bbox=dict(boxstyle=\"square,pad=0.3\", fc=\"lightgrey\", ec=\"black\", lw=2))\n",
    "# soam.plot(ax = axins, edgecolor = 'black')\n",
    "# cos.plot(ax = axins, edgecolor = 'black')\n",
    "ws_gdf.plot(color='none',ax=axins, linestyle='--')\n",
    "m_domain.plot(color=\"none\",edgecolor='black',ax=axins)\n",
    "\n",
    "\n",
    "# first one is CA map\n",
    "ax = inset_axes(axins, width=\"100%\", height=\"100%\", bbox_to_anchor=(0.8, -.1, 1.3, 1.3),\n",
    "                  bbox_transform=axins.transAxes, loc=2)\n",
    "ax.tick_params(labelleft=False, labelbottom=False, left = False, bottom = False)\n",
    "\n",
    "plt_bnds = gdf_bnds(m_domain,ax=ax, buf=200)\n",
    "# plt_bnds.plot(ax=axins, color='none')\n",
    "\n",
    "# od_breach.plot(ax=ax)\n",
    "# od_swale.plot(ax=ax)\n",
    "\n",
    "m_domain.plot(color=\"none\",edgecolor='black',ax=ax)\n",
    "\n",
    "cr.plot(ax=ax, color='tab:blue')\n",
    "mr.plot(ax=ax, color='tab:blue')\n",
    "\n",
    "lak_extent.plot(ax=ax, color='tab:blue',  alpha=0.5)\n",
    "rm_t.plot(legend=False,ax=ax, color='blue', markersize=1)\n",
    "levee_removal.plot(ax=ax, color='red', edgecolor='red', alpha=0.5)\n",
    "\n",
    "ctx.add_basemap(ax=ax, source = ctx.providers.Esri.WorldImagery, attribution=False, attribution_size=6,\n",
    "                crs = 'epsg:26910', alpha=0.8)\n",
    "\n",
    "x, y, arrow_length = 0.7, 0.15, 0.1\n",
    "ax.annotate('N', xy=(x, y), xytext=(x, y-arrow_length),\n",
    "            arrowprops=dict(facecolor='black', width=5, headwidth=15),\n",
    "            ha='center', va='center', fontsize=20, \n",
    "            xycoords=ax.transAxes)\n",
    "\n",
    "fontprops = fm.FontProperties(size=18)\n",
    "scalebar = AnchoredSizeBar(ax.transData,\n",
    "                           2000, '2 km', 'lower right', pad=0.3, sep=2,color='black',\n",
    "                           frameon=False, size_vertical=1E2, fontproperties=fontprops)\n",
    "ax.add_artist(scalebar)\n",
    "\n",
    "ax.legend(handles=legend_elements, loc='upper left')\n",
    "\n",
    "mark_inset(axins, ax, loc1=2, loc2=3, fc=\"none\", ec=\"black\")\n",
    "fig.savefig(join(fig_dir, 'CA_domain_map.png'), bbox_inches='tight')"
   ]
  },
  {
   "cell_type": "markdown",
   "id": "a653f21d-141f-40a1-82f7-acf4b2cf56a3",
   "metadata": {},
   "source": [
    "## Interior floodplain plot of wells"
   ]
  },
  {
   "cell_type": "code",
   "execution_count": null,
   "id": "e1f9dd8f-d9cf-45df-9ea5-73b3867f0000",
   "metadata": {},
   "outputs": [],
   "source": [
    "fig, ax =plt.subplots(figsize=(6.5,6.5))\n",
    "ax.tick_params(labelleft=False, labelbottom=False, left = False, bottom = False)\n",
    "\n",
    "plt_bnds = gdf_bnds(rm_t,ax=ax, buf=200)\n",
    "\n",
    "m_domain.plot(color=\"none\",edgecolor='black',ax=ax)\n",
    "\n",
    "cr.plot(ax=ax, color='tab:blue')\n",
    "mr.plot(ax=ax, color='tab:blue')\n",
    "\n",
    "lak_extent.plot(ax=ax, color='tab:blue',  alpha=0.5)\n",
    "rm_t.plot(legend=False,ax=ax, color='blue', markersize=1)\n",
    "\n",
    "\n",
    "rm_t.apply(lambda x: ax.annotate(x.Sensor.replace('MW_',''), xy=x.geometry.coords[0], ha='center', fontsize=6,\n",
    "                                    xytext = (5,10), textcoords='offset pixels',\n",
    "                                    bbox=dict(boxstyle=\"square,pad=0.3\", fc=\"lightgrey\", ec=\"black\", lw=2)\n",
    "                                                        ),axis=1);# ax.annotate?\n",
    "\n",
    "ctx.add_basemap(ax=ax, source = ctx.providers.Esri.WorldImagery, attribution=False, attribution_size=6,\n",
    "                crs = 'epsg:26910', alpha=0.7)\n",
    "fig.savefig(join(fig_dir, 'floodplain_map.png'), bbox_inches='tight')"
   ]
  },
  {
   "cell_type": "markdown",
   "id": "15c56d4a-9a8c-4c83-b9fc-4880062a3989",
   "metadata": {},
   "source": [
    "### Need to identify extent of floodplain on channel"
   ]
  },
  {
   "cell_type": "code",
   "execution_count": null,
   "id": "748a1c87-0ad9-40b5-952a-a3b56694e481",
   "metadata": {},
   "outputs": [],
   "source": []
  },
  {
   "cell_type": "markdown",
   "id": "a8a05699-a519-4204-9163-ea885ef27f2f",
   "metadata": {},
   "source": [
    "# Model summary plots\n",
    "It would be cool to have functions that are built on using the flopy output rather than using input data even slightly slower because then there is more interoperability"
   ]
  },
  {
   "cell_type": "code",
   "execution_count": null,
   "id": "d0a107ba",
   "metadata": {},
   "outputs": [],
   "source": [
    "loadpth = 'F:/WRDAPP/GWFlowModel/Cosumnes/Stream_seepage/'\n",
    "model_nam = 'oneto_denier_upscale4x_2014_2018/'\n",
    "\n",
    "# loadpth = 'C:/WRDAPP/GWFlowModel/Cosumnes/Stream_seepage/'\n",
    "# model_nam = 'oneto_denier_upscale4x_2014_2020_no_reconnection/'\n",
    "\n",
    "model_ws = loadpth+model_nam\n",
    "model_ws"
   ]
  },
  {
   "cell_type": "code",
   "execution_count": null,
   "id": "56e19b6b",
   "metadata": {},
   "outputs": [],
   "source": [
    "m = flopy.modflow.Modflow.load(f = 'MF.nam',  model_ws = model_ws)"
   ]
  },
  {
   "cell_type": "code",
   "execution_count": null,
   "id": "25b3222d",
   "metadata": {},
   "outputs": [],
   "source": [
    "dis = m.dis"
   ]
  },
  {
   "cell_type": "code",
   "execution_count": null,
   "id": "c74dd80f",
   "metadata": {},
   "outputs": [],
   "source": [
    "tmuni = ['s','m','h','D','M','Y'][m.dis.itmuni-1]\n",
    "tr = ~m.dis.steady.array\n",
    "delr = m.dis.delr[0]\n",
    "delc = m.dis.delc[0]\n"
   ]
  },
  {
   "cell_type": "code",
   "execution_count": null,
   "id": "c91ecfa5",
   "metadata": {},
   "outputs": [],
   "source": [
    "strt_date, end_date, dt_ref = get_dates(m.dis, ref='strt')\n"
   ]
  },
  {
   "cell_type": "markdown",
   "id": "e375ee97",
   "metadata": {},
   "source": [
    "### Hydrologic input plots (methods)"
   ]
  },
  {
   "cell_type": "code",
   "execution_count": null,
   "id": "94a104e2",
   "metadata": {},
   "outputs": [],
   "source": [
    "sfr_dir = join(gwfm_dir, 'SFR_data')\n",
    "# USGS presents flow in cfs (cubic feet per second)\n",
    "inflow_in = pd.read_csv(join(sfr_dir,'MB_daily_flow_cfs_2010_2019.csv'), index_col = 'datetime', parse_dates = True)\n",
    "\n",
    "# covnert flow from cubic feet per second to cubic meters per day\n",
    "inflow_in['flow_cms'] = inflow_in.flow_cfs * (1/(3.28**3))\n",
    "# filter out data between the stress period dates\n",
    "inflow = inflow_in.loc[strt_date:end_date]"
   ]
  },
  {
   "cell_type": "code",
   "execution_count": null,
   "id": "adf64733",
   "metadata": {},
   "outputs": [],
   "source": [
    "## Potential ETo spatial interpolation from CIMIS\n",
    "fn = glob.glob(join(uzf_dir,'CIMIS', 'Cosumnes_dailyET_precip*.csv'))\n",
    "daily_data = pd.DataFrame()\n",
    "for file in fn:\n",
    "    new_data = pd.read_csv(file, index_col = ['Date'], parse_dates = True)\n",
    "    daily_data = pd.concat((daily_data, new_data))\n",
    "# units of mm\n",
    "data_in = daily_data[daily_data['Stn Name']=='Fair Oaks']\n",
    "# clean up data so columns are by location, units of Precip are in mm\n",
    "rain_in = data_in.pivot_table(index = 'Date', columns = 'Stn Name', values = 'Precip (mm)')\n",
    "rain_m = rain_in/1000\n",
    "# subset to model and reindex to match streamflow dates\n",
    "rain_plt = rain_m['Fair Oaks'].loc[strt_date:end_date]\n",
    "rain_plt = rain_plt.reindex(inflow.index)"
   ]
  },
  {
   "cell_type": "code",
   "execution_count": null,
   "id": "40bab56a",
   "metadata": {},
   "outputs": [],
   "source": [
    "fig, ax = plt.subplots(figsize=(6.5,3))\n",
    "\n",
    "dt = inflow.index.values\n",
    "ax.plot(dt, inflow['flow_cms'], color='brown', alpha=0.6)\n",
    "# Create second axes, in order to get the bars from the top you can multiply by -1\n",
    "ax2 = ax.twinx()\n",
    "ax2.bar(dt, -rain_plt, 0.9)\n",
    "# Now need to fix the axis labels\n",
    "max_pre = np.max(rain_plt)+0.01\n",
    "y2_ticks = np.arange(0, max_pre, 0.02)\n",
    "y2_ticklabels = [str(i) for i in y2_ticks]\n",
    "ax2.set_yticks(-1 * y2_ticks)\n",
    "ax2.set_yticklabels(y2_ticklabels)\n",
    "\n",
    "ax2.set_ylabel('Rainfall (m)')\n",
    "ax.set_ylabel('Streamflow (cms)')\n",
    "ax.ticklabel_format(style='plain', axis='y') \n",
    "ax.set_xlabel('Date')\n",
    "\n",
    "plt.show()\n"
   ]
  },
  {
   "cell_type": "markdown",
   "id": "e5152446",
   "metadata": {},
   "source": [
    "#### Identify general hydrologic characteristics"
   ]
  },
  {
   "cell_type": "code",
   "execution_count": null,
   "id": "30ecef29",
   "metadata": {},
   "outputs": [],
   "source": [
    "print('Days above 23 cms:',(inflow.flow_cms>23).sum())\n",
    "(inflow.flow_cms>23).resample('AS-Oct').sum()"
   ]
  },
  {
   "cell_type": "markdown",
   "id": "b463b6f0",
   "metadata": {},
   "source": [
    "## Time series plots"
   ]
  },
  {
   "cell_type": "markdown",
   "id": "d887ca08",
   "metadata": {},
   "source": [
    "In Randy Hanson 2010 paper on FMP applications. ET Groundwater is pink, ET irrig is blue, ET precip is orange. Recharge is green, runoff is brown  \n",
    "\n",
    "For the water budget figure, it is a little deceving to show the input ET since most of that is not used in the end due to a lack of groundwater."
   ]
  },
  {
   "cell_type": "markdown",
   "id": "50342b92",
   "metadata": {},
   "source": [
    "### Water budget (results)"
   ]
  },
  {
   "cell_type": "code",
   "execution_count": null,
   "id": "1bdbff24",
   "metadata": {},
   "outputs": [],
   "source": [
    "wb_color = pd.read_excel('mf_wb_color_dict.xlsx',sheet_name='owhm_wb_dict', comment='#')\n",
    "color_dict = wb_color.set_index('flux')['color'].to_dict()\n",
    "label_dict = wb_color.set_index('flux')['name'].to_dict()"
   ]
  },
  {
   "cell_type": "code",
   "execution_count": null,
   "id": "21d4ad92",
   "metadata": {},
   "outputs": [],
   "source": [
    "wb, out_cols, in_cols = clean_wb(model_ws, dt_ref)"
   ]
  },
  {
   "cell_type": "code",
   "execution_count": null,
   "id": "36992cd1",
   "metadata": {},
   "outputs": [],
   "source": [
    "# import matplotlib.ticker as ticker\n",
    "# ax[0].set_yscale('log')\n",
    "# ax[0].yaxis.set_major_formatter(ticker.FuncFormatter(lambda x, pos: '{:,.1E}'.format(x)))\n"
   ]
  },
  {
   "cell_type": "code",
   "execution_count": null,
   "id": "feb65ff1",
   "metadata": {},
   "outputs": [],
   "source": []
  },
  {
   "cell_type": "code",
   "execution_count": null,
   "id": "145d65b4",
   "metadata": {},
   "outputs": [],
   "source": [
    "fig,ax= plt.subplots(2,1, sharex=True, figsize=(6.5, 4), dpi=300)\n",
    "# wb.plot(y='PERCENT_ERROR', ax=ax[0])\n",
    "wb.plot(y=out_cols, ax=ax[-2], legend=True, color=[color_dict[n] for n in out_cols], \n",
    "        label=[label_dict[n] for n in out_cols])\n",
    "wb.plot(y=in_cols, ax=ax[-1], legend=True, color= [color_dict[n] for n in in_cols], \n",
    "        label=[label_dict[n] for n in in_cols])\n",
    "plt.xlabel('Date')\n",
    "fig.supylabel('Flux ($m^3/d$)')\n",
    "fig.tight_layout()"
   ]
  },
  {
   "cell_type": "code",
   "execution_count": null,
   "id": "2c6fdaf6",
   "metadata": {},
   "outputs": [],
   "source": [
    "sfr_dir = join(gwfm_dir, 'SFR_data')\n",
    "# USGS presents flow in cfs (cubic feet per second)\n",
    "inflow_in = pd.read_csv(join(sfr_dir,'MB_daily_flow_cfs_2010_2019.csv'), index_col = 'datetime', parse_dates = True)\n",
    "\n",
    "# covnert flow from cubic feet per second to cubic meters per day\n",
    "inflow_in['flow_cms'] = inflow_in.flow_cfs * (1/(3.28**3))\n",
    "# filter out data between the stress period dates\n",
    "inflow = inflow_in.loc[strt_date:end_date]"
   ]
  },
  {
   "cell_type": "code",
   "execution_count": null,
   "id": "4cc66670",
   "metadata": {},
   "outputs": [],
   "source": [
    "## Potential ETo spatial interpolation from CIMIS\n",
    "fn = glob.glob(join(uzf_dir,'Cosumnes_dailyET_precip*.csv'))\n",
    "daily_data = pd.DataFrame()\n",
    "for file in fn:\n",
    "    new_data = pd.read_csv(file, index_col = ['Date'], parse_dates = True)\n",
    "    daily_data = pd.concat((daily_data, new_data))\n",
    "# units of mm\n",
    "data_in = daily_data[daily_data['Stn Name']=='Fair Oaks']\n",
    "# clean up data so columns are by location, units of Precip are in mm\n",
    "rain_in = data_in.pivot_table(index = 'Date', columns = 'Stn Name', values = 'Precip (mm)')\n",
    "rain_m = rain_in/1000\n",
    "# subset to model and reindex to match streamflow dates\n",
    "rain_plt = rain_m['Fair Oaks'].loc[strt_date:end_date]\n",
    "rain_plt = rain_plt.reindex(inflow.index)"
   ]
  },
  {
   "cell_type": "code",
   "execution_count": null,
   "id": "d21df550-8a7b-44eb-b155-4c07afe9f432",
   "metadata": {},
   "outputs": [],
   "source": [
    "rain_plt.resample('AS-Oct').sum()*12/0.3048"
   ]
  },
  {
   "cell_type": "code",
   "execution_count": null,
   "id": "321e576c",
   "metadata": {},
   "outputs": [],
   "source": [
    "fig, ax = plt.subplots(figsize=(6.5,3))\n",
    "\n",
    "dt = inflow.index.values\n",
    "ax.plot(dt, inflow['flow_cms'], color='brown', alpha=0.6)\n",
    "# Create second axes, in order to get the bars from the top you can multiply by -1\n",
    "ax2 = ax.twinx()\n",
    "ax2.bar(dt, -rain_plt, 0.9)\n",
    "# Now need to fix the axis labels\n",
    "max_pre = np.max(rain_plt)+0.01\n",
    "y2_ticks = np.arange(0, max_pre, 0.02)\n",
    "y2_ticklabels = [str(i) for i in y2_ticks]\n",
    "ax2.set_yticks(-1 * y2_ticks)\n",
    "ax2.set_yticklabels(y2_ticklabels)\n",
    "\n",
    "ax2.set_ylabel('Rainfall (m)')\n",
    "ax.set_ylabel('Streamflow (cms)')\n",
    "ax.ticklabel_format(style='plain', axis='y') \n",
    "ax.set_xlabel('Date')\n",
    "\n",
    "plt.show()\n"
   ]
  },
  {
   "cell_type": "markdown",
   "id": "930851a6",
   "metadata": {},
   "source": [
    "## Map spatial coverage of boundary conditions"
   ]
  },
  {
   "cell_type": "code",
   "execution_count": null,
   "id": "64303832",
   "metadata": {},
   "outputs": [],
   "source": [
    "gde_dir = join(uzf_dir,'shp_GDE_TFT')\n",
    "GDE_cell = gpd.read_file(join(gde_dir,'Oneto_Denier','GDE_cell.shp'))\n",
    "\n"
   ]
  },
  {
   "cell_type": "code",
   "execution_count": null,
   "id": "2da7993b",
   "metadata": {},
   "outputs": [],
   "source": [
    "\n",
    "def spd_2_arr(sp_data, sp_col, dis):\n",
    "    \"\"\"Given the stress_period_data from flopy return the data in an array format\n",
    "    \"\"\"\n",
    "    # convert pumping to array\n",
    "    arr = np.zeros((dis.nper,dis.nrow,dis.ncol))\n",
    "    for n in np.arange(0,dis.nper):\n",
    "        data_n = sp_data[n]\n",
    "        # only index array if there is data for a stress period\n",
    "        if data_n is not None:\n",
    "            arr[n, data_n.i, data_n.j] += data_n[sp_col]\n",
    "    return(arr)\n"
   ]
  },
  {
   "cell_type": "code",
   "execution_count": null,
   "id": "b3643730",
   "metadata": {},
   "outputs": [],
   "source": [
    "wel_arr = spd_2_arr(m.wel.stress_period_data, 'flux', m.dis)\n",
    "wel_rate = wel_arr/(dis.delr[0]*dis.delc[0])\n",
    "wel_row, wel_col = np.where(wel_rate.sum(axis=0)<0)"
   ]
  },
  {
   "cell_type": "code",
   "execution_count": null,
   "id": "0fc31f7b",
   "metadata": {},
   "outputs": [],
   "source": [
    "\n",
    "wel_ss = pd.DataFrame(m.wel.stress_period_data[0])\n",
    "ag_grid_p = grid_p.set_index(['row','column']).loc[list(zip(wel_row+1, wel_col+1))].reset_index()\n",
    "GDE_grid_p = grid_p.join(GDE_cell.drop(columns='geometry').set_index(['node','row','column']), \n",
    "                         on=['node','row','column'], how='inner')\n",
    "# save dataframe of stream reach data\n",
    "sfrdf = pd.DataFrame(m.sfr.reach_data)\n",
    "grid_sfr = grid_match.set_index(['row','column']).loc[list(zip(sfrdf.i+1,sfrdf.j+1))].reset_index()\n",
    "\n",
    "lak_grid = gpd.overlay(grid_match,lak_extent)\n"
   ]
  },
  {
   "cell_type": "code",
   "execution_count": null,
   "id": "df20092c",
   "metadata": {},
   "outputs": [],
   "source": [
    "from matplotlib.patches import Patch\n",
    "from matplotlib.lines import Line2D\n",
    "\n",
    "legend_elements = [\n",
    "    Patch(facecolor='brown',alpha=0.8,label='Boundary Groundwater Flow'),\n",
    "    Patch(facecolor='aqua',alpha=0.8,label='GDE Evapotranspiration'),\n",
    "    Patch(facecolor='red', edgecolor='r',alpha=0.6,label='Agricultural Pumping Wells'),\n",
    "    # Patch(facecolor='red', edgecolor='r',alpha=0.6,label='Irrigated Lands'),\n",
    "    Patch(facecolor='none', edgecolor='tab:blue',alpha=1,label='Reconnected Floodplain'),\n",
    "#     Line2D([0], [0],color='tab:blue',label='Stream Segments', linewidth=4),\n",
    "    Patch(facecolor='tab:blue', label='Stream Segments'),\n",
    "                    ]\n"
   ]
  },
  {
   "cell_type": "code",
   "execution_count": null,
   "id": "5d3994a3",
   "metadata": {},
   "outputs": [],
   "source": [
    "# deepest ag wells are about 180 m below ground which would be below model bottom\n",
    "# and explains why some ag fields aren't plotted"
   ]
  },
  {
   "cell_type": "code",
   "execution_count": null,
   "id": "ac25b2e0-6c82-4cb1-afba-4d5142588e07",
   "metadata": {},
   "outputs": [],
   "source": [
    "# ag_grid_p"
   ]
  },
  {
   "cell_type": "code",
   "execution_count": null,
   "id": "1d3d37f6",
   "metadata": {},
   "outputs": [],
   "source": [
    "fig, ax = plt.subplots(figsize=(6.5,6.5))\n",
    "ag_grid_p.plot(ax=ax, color='red', alpha=0.6)\n",
    "GDE_grid_p.plot(ax=ax, color='aqua', alpha=0.6)\n",
    "bnd_cells.plot(ax=ax, color='brown')\n",
    "m_domain.plot(ax=ax, color='none', edgecolor='black')\n",
    "\n",
    "grid_sfr.plot(ax=ax, color='tab:blue')\n",
    "lak_extent.plot(ax=ax,color='none',edgecolor='tab:blue')\n",
    "\n",
    "ax.legend(handles=legend_elements, loc='lower right')\n",
    "\n",
    "ctx.add_basemap(ax=ax, source = ctx.providers.Esri.WorldImagery, attribution=False, attribution_size=6,\n",
    "                crs = 'epsg:26910', alpha=0.8)\n",
    "\n",
    "# drop axis labels for cleaner plot\n",
    "plt.tick_params(axis='x', which='both', bottom=False, top=False, labelbottom=False)\n",
    "plt.tick_params(axis='y', which='both', left=False, right=False, labelleft=False)"
   ]
  },
  {
   "cell_type": "markdown",
   "id": "816aa59e",
   "metadata": {},
   "source": [
    "# TPROGs"
   ]
  },
  {
   "cell_type": "code",
   "execution_count": null,
   "id": "73cabf0d",
   "metadata": {},
   "outputs": [],
   "source": [
    "dem_data = np.loadtxt(gwfm_dir+'\\DIS_data\\dem_52_9_200m_mean.tsv')\n"
   ]
  },
  {
   "cell_type": "code",
   "execution_count": null,
   "id": "1e2c40c5",
   "metadata": {},
   "outputs": [],
   "source": [
    "import glob as glob\n",
    "import tprogs_cleaning as tc\n",
    "import pyvista as pv\n"
   ]
  },
  {
   "cell_type": "code",
   "execution_count": null,
   "id": "054a2a32",
   "metadata": {},
   "outputs": [],
   "source": [
    "\n",
    "tprogs_id = ''\n",
    "mf_tprogs_dir = gwfm_dir+'/UPW_data/tprogs_final' + tprogs_id+'/'\n",
    "tprogs_files = glob.glob(mf_tprogs_dir+'*')\n",
    "# tprogs_files\n"
   ]
  },
  {
   "cell_type": "code",
   "execution_count": null,
   "id": "00f936cd",
   "metadata": {},
   "outputs": [],
   "source": [
    "t = 0\n",
    "tprogs_line = np.loadtxt(tprogs_files[t])\n",
    "# convert any negatives representing input data to same value\n",
    "tprogs_arr = np.abs(np.reshape(tprogs_line, (320, 100,230)))\n"
   ]
  },
  {
   "cell_type": "code",
   "execution_count": null,
   "id": "55a82507",
   "metadata": {},
   "outputs": [],
   "source": [
    "# bottom elevations array of tprogs\n",
    "bot_elev = np.reshape(np.flip(np.arange(-80,80,0.5)), (320, 1,1))\n",
    "bot_elev = np.repeat(np.repeat(bot_elev, 100, axis=1), 230, axis=2)\n",
    "\n",
    "\n",
    "tprogs_info = [80, -80, 320]\n",
    "\n",
    "tprogs_lay = tc.elev_to_tprogs_layers(elev=dem_data, tprogs_info=tprogs_info)\n"
   ]
  },
  {
   "cell_type": "code",
   "execution_count": null,
   "id": "5aa9dea4",
   "metadata": {},
   "outputs": [],
   "source": [
    "arr_dim = (320, 100, 230)"
   ]
  },
  {
   "cell_type": "code",
   "execution_count": null,
   "id": "09f10f2c",
   "metadata": {},
   "outputs": [],
   "source": [
    "def mfarr2grid(arr):\n",
    "    grid = pv.UniformGrid()\n",
    "    # Set the grid dimensions: shape because we want to inject our values on the\n",
    "    # I have to add 1 to each dimension to have it be built on the cells\n",
    "    grid.dimensions = [101, 231, 321]\n",
    "    # real origin, but incorrect because of no rotation\n",
    "    # simple origin that allows easier data output cleaning\n",
    "    grid.origin = (0, 0, 0) # bottom left corner of the dataset\n",
    "    grid.spacing = (200,200,0.5)\n",
    "    arr_in = np.moveaxis(arr,0,2).flatten(order='F').astype(int)\n",
    "    grid.cell_data[\"facies\"] = arr_in\n",
    "\n",
    "    return(grid)\n"
   ]
  },
  {
   "cell_type": "code",
   "execution_count": null,
   "id": "ab8eaca3",
   "metadata": {},
   "outputs": [],
   "source": [
    "river_arr = np.zeros(arr_dim)\n",
    "r_lay = tprogs_lay[grid_sfr.row_p.astype(int)-1, grid_sfr.column_p.astype(int)-1]\n",
    "river_arr[r_lay-2, grid_sfr.row_p.astype(int)-1, grid_sfr.column_p.astype(int)-1] = 1\n",
    "lak_lay = tprogs_lay[lak_grid.row_p.astype(int)-1, lak_grid.column_p.astype(int)-1]\n",
    "river_arr[lak_lay-2, lak_grid.row_p.astype(int)-1, lak_grid.column_p.astype(int)-1] = 1\n",
    "\n",
    "river_arr = np.flip(river_arr, axis=0)\n",
    "river = mfarr2grid(river_arr)\n",
    "river = river.threshold(value = [0.9, 1.1], scalars='facies') #, preference='cell'\n"
   ]
  },
  {
   "cell_type": "code",
   "execution_count": null,
   "id": "8ab1c051",
   "metadata": {},
   "outputs": [],
   "source": [
    "# array to multiply others\n",
    "local_cells = np.zeros(tprogs_arr.shape).astype(bool)\n",
    "local_cells[:,grid_match.row_p-1, grid_match.column_p-1] = True"
   ]
  },
  {
   "cell_type": "code",
   "execution_count": null,
   "id": "77e799cc",
   "metadata": {},
   "outputs": [],
   "source": [
    "def pv_rot(mesh):\n",
    "    mesh.rotate_z(90)\n",
    "    mesh.rotate_x(10)\n",
    "    # it seems that the tprogs data is somehow flipped when importing it into pyvista\n",
    "    # because it requires an extra 180 degree rotation\n",
    "    mesh.rotate_y(10)\n",
    "#     mesh.rotate_y(200)"
   ]
  },
  {
   "cell_type": "code",
   "execution_count": null,
   "id": "b76e8271",
   "metadata": {},
   "outputs": [],
   "source": [
    "\n",
    "def grid_plt(grid, fig_nam, grid2=None):\n",
    "    plotter = pv.Plotter(notebook=False, \n",
    "#                          lighting=None,\n",
    "                         off_screen=True # if true then screenshots work\n",
    "                        )\n",
    "#     plotter.show_axes()\n",
    "#     plotter.show_grid()\n",
    "#     plotter.show_bounds()\n",
    "    plotter.background_color='white'\n",
    "    # show_egdes should be done locally but not regionally\n",
    "    # but if I add lighting then I might not need edges\n",
    "    mesh = plotter.add_mesh(grid, scalars=\"facies\", cmap='viridis', lighting=True)\n",
    "    pv_rot(mesh)\n",
    "    # 50 x is good for regional, 20x is good for local\n",
    "    plotter.set_scale(1, 1, 20)\n",
    "    if grid2 is not None:\n",
    "        mesh = plotter.add_mesh(grid2, color='black')\n",
    "        pv_rot(mesh)\n",
    "    plotter.show(screenshot=fig_nam + '.png')\n",
    "    "
   ]
  },
  {
   "cell_type": "code",
   "execution_count": null,
   "id": "b2b8b01a-c319-4f14-99be-cea4514aa3ac",
   "metadata": {},
   "outputs": [],
   "source": [
    "tprogs_figs = join(fig_dir, 'tprogs')"
   ]
  },
  {
   "cell_type": "code",
   "execution_count": null,
   "id": "8c2647b7",
   "metadata": {},
   "outputs": [],
   "source": [
    "t = 0\n",
    "# 11 was a realization with good fit\n",
    "for t in [11]:#[0,1,2]:\n",
    "    tprogs_line = np.loadtxt(tprogs_files[t])\n",
    "    # convert any negatives representing input data to same value\n",
    "    tprogs_arr = np.abs(np.reshape(tprogs_line, (320, 100,230)))\n",
    "\n",
    "    tprogs_in = tprogs_arr.copy()\n",
    "    # crop data above land\n",
    "    tprogs_in[bot_elev>dem_data] = 0\n",
    "    # flip to keep orientation for pyvista\n",
    "    tprogs_in = np.flip(tprogs_in, axis=0)\n",
    "    # locally plot all facies\n",
    "    tprogs_local = tprogs_in.copy()\n",
    "    tprogs_local *= local_cells\n",
    "\n",
    "    tprogs_local_grid = mfarr2grid(tprogs_local)\n",
    "    tprogs_local_active = tprogs_local_grid.threshold(value = [0.9, 4.1], scalars='facies') #, preference='cell'\n",
    "\n",
    "    tprogs_grid = mfarr2grid(tprogs_in)\n",
    "    tprogs_active = tprogs_grid.threshold(value = [0.9, 4.1], scalars='facies') #, preference='cell'\n",
    "    grid_plt(tprogs_local_active, join(tprogs_figs,'tprogs_local_facies_r'+str(t).zfill(3)), river)\n",
    "    grid_plt(tprogs_active, join(tprogs_figs,'tprogs_facies_r'+str(t).zfill(3)), river)\n"
   ]
  },
  {
   "cell_type": "code",
   "execution_count": null,
   "id": "0d0c3d0d",
   "metadata": {},
   "outputs": [],
   "source": [
    "grid_plt(tprogs_local_active, join(tprogs_figs,'tprogs_local_facies_r'+str(t).zfill(3)), river)\n",
    "grid_plt(tprogs_active, join(tprogs_figs,'tprogs_facies_r'+str(t).zfill(3)), river)\n",
    "\n",
    "# on the local scale we can start to distinguish paths but it isn't very clear still"
   ]
  },
  {
   "cell_type": "code",
   "execution_count": null,
   "id": "ed0e4b14",
   "metadata": {},
   "outputs": [],
   "source": []
  }
 ],
 "metadata": {
  "kernelspec": {
   "display_name": "Python 3 (ipykernel)",
   "language": "python",
   "name": "python3"
  },
  "language_info": {
   "codemirror_mode": {
    "name": "ipython",
    "version": 3
   },
   "file_extension": ".py",
   "mimetype": "text/x-python",
   "name": "python",
   "nbconvert_exporter": "python",
   "pygments_lexer": "ipython3",
   "version": "3.11.4"
  }
 },
 "nbformat": 4,
 "nbformat_minor": 5
}
