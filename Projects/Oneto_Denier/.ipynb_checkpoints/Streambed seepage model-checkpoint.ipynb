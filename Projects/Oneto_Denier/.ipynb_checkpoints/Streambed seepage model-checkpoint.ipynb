{
 "cells": [
  {
   "cell_type": "markdown",
   "id": "a2e12fa1",
   "metadata": {},
   "source": [
    "# Streambed seepage model of river at Oneto-Denier\n",
    "We can apply TPROGs realizations to look at the expected variability in seepage and hyporheic zone residence times. This hyporheic zone residence time modeling could be completed on the local scale or regionally with a focus on the stream channel. Alternatively, the gages at McConnell, LWC and TWC could be used for regional seepage loss estimates, and again their is that satellite drying data."
   ]
  },
  {
   "cell_type": "markdown",
   "id": "a7dee7de",
   "metadata": {},
   "source": [
    "## Model set up\n",
    "Initial set up was a year long flow test with the primary boundary condition the SFR package and the GHB included to allow lateral groundwater outflow which is expected as the water entering the perched aquifers may transfer horizontally. Added evapotranspiration with EVT to allow dry season perched aquifer usage. Recharge was added then removed because it caused too much of a jump in levels. Added lake package to represent floodplain recharge in the 2D floodplain."
   ]
  },
  {
   "cell_type": "code",
   "execution_count": 2,
   "id": "00fa273f",
   "metadata": {},
   "outputs": [],
   "source": [
    "# standard python utilities\n",
    "import os\n",
    "import sys\n",
    "from os.path import basename, dirname, join, exists\n",
    "import glob\n",
    "import pandas as pd\n",
    "import numpy as np\n",
    "import calendar\n",
    "import time\n",
    "from scipy.stats import gmean\n",
    "\n",
    "# standard python plotting utilities\n",
    "import matplotlib as mpl\n",
    "import matplotlib.pyplot as plt\n",
    "\n",
    "# standard geospatial python utilities\n",
    "# import pyproj # for converting proj4string\n",
    "import shapely\n",
    "# import shapefile\n",
    "import geopandas as gpd\n",
    "from osgeo import gdal\n",
    "import rasterio\n",
    "\n",
    "# mapping utilities\n",
    "import contextily as ctx\n",
    "from mpl_toolkits.axes_grid1.inset_locator import inset_axes\n",
    "from mpl_toolkits.axes_grid1.anchored_artists import AnchoredSizeBar\n",
    "import matplotlib.font_manager as fm"
   ]
  },
  {
   "cell_type": "code",
   "execution_count": 3,
   "id": "aba7b912",
   "metadata": {},
   "outputs": [],
   "source": [
    "doc_dir = os.getcwd()\n",
    "while os.path.basename(doc_dir) != 'Documents':\n",
    "    doc_dir = os.path.dirname(doc_dir)\n",
    "# dir of all gwfm data\n",
    "gwfm_dir = os.path.dirname(doc_dir)+'/Box/research_cosumnes/GWFlowModel'\n",
    "# dir of stream level data for seepage study\n",
    "proj_dir = gwfm_dir + '/Oneto_Denier/'\n",
    "dat_dir = proj_dir+'Stream_level_data/'\n",
    "\n",
    "sfr_dir = gwfm_dir+'/SFR_data/'"
   ]
  },
  {
   "cell_type": "code",
   "execution_count": 4,
   "id": "9f9eab90",
   "metadata": {},
   "outputs": [],
   "source": [
    "flopy_dir = doc_dir+'/GitHub/flopy'\n",
    "if flopy_dir not in sys.path:\n",
    "#     sys.path.append(flopy_dir)\n",
    "    sys.path.insert(0, flopy_dir)\n",
    "# sys.path\n",
    "import flopy \n",
    "\n",
    "# from importlib import reload\n",
    "# importlib.reload\n",
    "# reload(flopy)"
   ]
  },
  {
   "cell_type": "code",
   "execution_count": 5,
   "id": "fb7753df",
   "metadata": {},
   "outputs": [],
   "source": [
    "from importlib.util import spec_from_file_location\n",
    "spec = spec_from_file_location(\"flopy\",flopy_dir)\n"
   ]
  },
  {
   "cell_type": "code",
   "execution_count": 6,
   "id": "4fee06de",
   "metadata": {},
   "outputs": [],
   "source": [
    "spec?"
   ]
  },
  {
   "cell_type": "code",
   "execution_count": 7,
   "id": "57df2dcc",
   "metadata": {},
   "outputs": [],
   "source": [
    "flopy?"
   ]
  },
  {
   "cell_type": "markdown",
   "id": "9b192fd3",
   "metadata": {},
   "source": [
    "# Time discretization\n",
    "Streambed stage data was collected from December 2019 to December 2021 and successfully captured the first winter flows for both WY2020 and WY2021."
   ]
  },
  {
   "cell_type": "code",
   "execution_count": 8,
   "id": "9907189a",
   "metadata": {},
   "outputs": [],
   "source": [
    "no_ss = False"
   ]
  },
  {
   "cell_type": "code",
   "execution_count": 9,
   "id": "c4800ec6",
   "metadata": {},
   "outputs": [],
   "source": [
    "# Oneto-Denier is about 2012-2019\n",
    "# Transient -> might want to think about making SP1 steady\n",
    "end_date = pd.to_datetime('2018-09-30')\n",
    "# end_date = '2018-01-02'\n",
    "strt_date = pd.to_datetime('2017-10-01')\n",
    "\n",
    "dates = pd.date_range(strt_date, end_date)\n",
    "\n",
    "# The number of periods is the number of dates \n",
    "nper = len(dates)+1\n",
    "\n",
    "# Each period has a length of one because the timestep is one day, have the 1st stress period be out of the date range\n",
    "# need to have the transient packages start on the second stress period\n",
    "perlen = [1/86400] + np.ones(nper-1).tolist()\n",
    "# Steady or transient periods\n",
    "steady = np.zeros(nper)\n",
    "steady[0] = 1 # first period is steady state, rest are transient\n",
    "steady = steady.astype('bool').tolist()\n",
    "# Reduce the number of timesteps to decrease run time\n",
    "# when 1 day period have 6 stps, else 1 step\n",
    "nstp = np.where(np.asarray(perlen)==1, 6, 1)"
   ]
  },
  {
   "cell_type": "code",
   "execution_count": 10,
   "id": "b3a3b9fa",
   "metadata": {},
   "outputs": [
    {
     "name": "stdout",
     "output_type": "stream",
     "text": [
      "NPER  366 NPER_TR  365\n"
     ]
    }
   ],
   "source": [
    "# adjusters for boundary condition input\n",
    "if no_ss == True:\n",
    "    time_tr0 = 0  \n",
    "    nper_tr = nper \n",
    "else:\n",
    "    time_tr0 = 1\n",
    "    nper_tr = nper-1\n",
    "print('NPER ', nper, 'NPER_TR ',nper_tr)"
   ]
  },
  {
   "cell_type": "code",
   "execution_count": 11,
   "id": "70731f30",
   "metadata": {},
   "outputs": [],
   "source": [
    "def gdf_bnds(gdf, ax, buf=1):\n",
    "    gdf_bnd = gpd.GeoDataFrame(pd.DataFrame([0]), geometry = [gdf.unary_union.buffer(buf)], crs=gdf.crs)\n",
    "    minx, miny, maxx, maxy = gdf_bnd.bounds.values[0]\n",
    "    ax.set_xlim(minx, maxx)\n",
    "    ax.set_ylim(miny, maxy)\n",
    "    return(gdf_bnd)\n",
    "\n"
   ]
  },
  {
   "cell_type": "markdown",
   "id": "6ddebf7d",
   "metadata": {},
   "source": [
    "# Grid discretization\n",
    "The stream stage sensors are installed roughly every 500m in the stream channel, a discretization of 100m is the minimum in the transverse direction of the stream channel or else the stream will fill more space than just one model cell."
   ]
  },
  {
   "cell_type": "code",
   "execution_count": 12,
   "id": "dffd7fda",
   "metadata": {},
   "outputs": [],
   "source": [
    "delr = 100\n",
    "delc = 100\n",
    "rotation=52.9\n",
    "\n",
    "# model will only be in upper 0-70 ft of the domain, most likely only 0-30ft\n",
    "unsat_thick = 20 # 20 meter depth roughly, original\n",
    "unsat_thick = 40 # updated to enable inclusion of deeper ag pumping, and depth of Oneto-Ag\n",
    "thick = 4\n",
    "upscale = 8 # from usual 0.5m\n",
    "nlay = int(unsat_thick/thick)\n",
    "\n",
    "# There is essentially no difference bewtween WGS84 and NAD83 for UTM Zone 10N\n",
    "# proj4_str='EPSG:26910'\n",
    "proj4_str='+proj=utm +zone=10 +ellps=WGS84 +datum=WGS84 +units=m +no_defs '"
   ]
  },
  {
   "cell_type": "code",
   "execution_count": 13,
   "id": "028d286a",
   "metadata": {
    "scrolled": true
   },
   "outputs": [],
   "source": [
    "# load parent model grid\n",
    "parent_grid = gpd.read_file(gwfm_dir+'/DIS_data/grid/grid.shp')\n",
    "nrow_p = int(parent_grid.row.max())\n",
    "ncol_p = int(parent_grid.column.max())"
   ]
  },
  {
   "cell_type": "markdown",
   "id": "0e11778e",
   "metadata": {},
   "source": [
    "# Choose location to subset grid"
   ]
  },
  {
   "cell_type": "code",
   "execution_count": 14,
   "id": "451a5e5e",
   "metadata": {},
   "outputs": [],
   "source": [
    "hob_dir = join(gwfm_dir,'HOB_data')"
   ]
  },
  {
   "cell_type": "code",
   "execution_count": 15,
   "id": "26b01c75",
   "metadata": {},
   "outputs": [
    {
     "name": "stderr",
     "output_type": "stream",
     "text": [
      "C:\\Users\\ajcalder\\anaconda3\\envs\\geo_env\\Lib\\site-packages\\geopandas\\geodataframe.py:1443: SettingWithCopyWarning: \n",
      "A value is trying to be set on a copy of a slice from a DataFrame.\n",
      "Try using .loc[row_indexer,col_indexer] = value instead\n",
      "\n",
      "See the caveats in the documentation: https://pandas.pydata.org/pandas-docs/stable/user_guide/indexing.html#returning-a-view-versus-a-copy\n",
      "  super().__setitem__(key, value)\n",
      "C:\\Users\\ajcalder\\anaconda3\\envs\\geo_env\\Lib\\site-packages\\geopandas\\geodataframe.py:1443: SettingWithCopyWarning: \n",
      "A value is trying to be set on a copy of a slice from a DataFrame.\n",
      "Try using .loc[row_indexer,col_indexer] = value instead\n",
      "\n",
      "See the caveats in the documentation: https://pandas.pydata.org/pandas-docs/stable/user_guide/indexing.html#returning-a-view-versus-a-copy\n",
      "  super().__setitem__(key, value)\n",
      "C:\\Users\\ajcalder\\anaconda3\\envs\\geo_env\\Lib\\site-packages\\geopandas\\geodataframe.py:1443: SettingWithCopyWarning: \n",
      "A value is trying to be set on a copy of a slice from a DataFrame.\n",
      "Try using .loc[row_indexer,col_indexer] = value instead\n",
      "\n",
      "See the caveats in the documentation: https://pandas.pydata.org/pandas-docs/stable/user_guide/indexing.html#returning-a-view-versus-a-copy\n",
      "  super().__setitem__(key, value)\n",
      "C:\\Users\\ajcalder\\anaconda3\\envs\\geo_env\\Lib\\site-packages\\geopandas\\geodataframe.py:1443: SettingWithCopyWarning: \n",
      "A value is trying to be set on a copy of a slice from a DataFrame.\n",
      "Try using .loc[row_indexer,col_indexer] = value instead\n",
      "\n",
      "See the caveats in the documentation: https://pandas.pydata.org/pandas-docs/stable/user_guide/indexing.html#returning-a-view-versus-a-copy\n",
      "  super().__setitem__(key, value)\n"
     ]
    }
   ],
   "source": [
    "df = pd.read_csv(join(hob_dir,'CosumnesRiverPreserve_MW_screened_interval.csv'))\n",
    "rm_sp = gpd.GeoDataFrame(df, geometry = gpd.points_from_xy(df.Longitude,df.Latitude), crs='epsg:4326')\n",
    "rm_sp = rm_sp.to_crs('epsg:32610')\n",
    "rm_sp = rm_sp.rename(columns={'Well ID':'Sensor'})\n",
    "\n",
    "# prepare output for modelgrid join\n",
    "rm_t = rm_sp[rm_sp['At Oneto-Denier']=='Yes']\n",
    "\n",
    "rm_t[['top_screen','bot_screen']] = rm_t['Screened Interval (ft)'].str.split('-',n=2, expand=True).astype(float)\n",
    "# calculate elevation from screened interval depth\n",
    "rm_t['top_screen_m'] = rm_t['MPE (meters)'] - rm_t.top_screen*0.3048\n",
    "rm_t['bot_screen_m'] = rm_t['MPE (meters)'] - rm_t.bot_screen*0.3048\n",
    "\n",
    "\n"
   ]
  },
  {
   "cell_type": "code",
   "execution_count": 16,
   "id": "1b54a575",
   "metadata": {},
   "outputs": [
    {
     "name": "stderr",
     "output_type": "stream",
     "text": [
      "C:\\Users\\ajcalder\\AppData\\Local\\Temp\\ipykernel_15048\\1174948741.py:4: FutureWarning: The default value of numeric_only in GeoDataFrame.min is deprecated. In a future version, it will default to False. In addition, specifying 'numeric_only=None' is deprecated. Select only valid columns or specify the value of numeric_only to silence this warning.\n",
      "  beg_row, beg_col = rm_p_grid.min()[['row','column']] - int(1000/delr)\n",
      "C:\\Users\\ajcalder\\AppData\\Local\\Temp\\ipykernel_15048\\1174948741.py:5: FutureWarning: The default value of numeric_only in GeoDataFrame.max is deprecated. In a future version, it will default to False. In addition, specifying 'numeric_only=None' is deprecated. Select only valid columns or specify the value of numeric_only to silence this warning.\n",
      "  end_row, end_col = rm_p_grid.max()[['row','column']] + int(1000/delr)\n"
     ]
    }
   ],
   "source": [
    "# join monitoring extent with parent grid\n",
    "rm_p_grid = gpd.sjoin(rm_t, parent_grid)\n",
    "# add 1000 m outward to limit bounary effects\n",
    "beg_row, beg_col = rm_p_grid.min()[['row','column']] - int(1000/delr)\n",
    "end_row, end_col = rm_p_grid.max()[['row','column']] + int(1000/delr)\n"
   ]
  },
  {
   "cell_type": "code",
   "execution_count": 17,
   "id": "8ed45014",
   "metadata": {},
   "outputs": [],
   "source": [
    "\n",
    "beg_lay = 0\n",
    "end_lay = 1\n",
    "\n",
    "child_grid = parent_grid.loc[(parent_grid.row>=beg_row)&(parent_grid.row<end_row)]\n",
    "child_grid = child_grid.loc[(child_grid.column>=beg_col)&(child_grid.column<end_col)]\n",
    "\n",
    "child_grid = child_grid.rename({'node':'p_node','row':'p_row','column':'p_column'},axis=1)"
   ]
  },
  {
   "cell_type": "code",
   "execution_count": 18,
   "id": "dd52687f",
   "metadata": {},
   "outputs": [],
   "source": [
    "child_grid['id'] = 0\n",
    "m_domain = child_grid.dissolve('id')"
   ]
  },
  {
   "cell_type": "code",
   "execution_count": 19,
   "id": "e6dc0725",
   "metadata": {},
   "outputs": [
    {
     "data": {
      "text/plain": [
       "<AxesSubplot: >"
      ]
     },
     "execution_count": 19,
     "metadata": {},
     "output_type": "execute_result"
    },
    {
     "data": {
      "image/png": "[encoded data removed]",
      "text/plain": [
       "<Figure size 640x480 with 1 Axes>"
      ]
     },
     "metadata": {},
     "output_type": "display_data"
    }
   ],
   "source": [
    "fig,ax=plt.subplots()\n",
    "# child_extent.plot(ax=ax,color=\"None\")\n",
    "child_grid.plot(ax=ax, color=\"None\")\n",
    "m_domain.plot(color=\"none\",edgecolor='red',ax=ax)\n",
    "rm_t.plot('Sensor',legend=True,ax=ax)"
   ]
  },
  {
   "cell_type": "code",
   "execution_count": 20,
   "id": "00fdb27c",
   "metadata": {},
   "outputs": [],
   "source": [
    "# scale the nuber of rows/cols by change in dimensions\n",
    "ncol = int(200/delr)*(child_grid.p_column.max() - child_grid.p_column.min()) + 1\n",
    "nrow = int(200/delc)*(child_grid.p_row.max() - child_grid.p_row.min()) + 1"
   ]
  },
  {
   "cell_type": "code",
   "execution_count": 21,
   "id": "0286e96e",
   "metadata": {},
   "outputs": [],
   "source": [
    "coords = list(m_domain.geometry.values[0].exterior.coords)\n",
    "xul = np.min(coords)\n",
    "yul = coords[np.where(coords==xul)[0][0]][1]"
   ]
  },
  {
   "cell_type": "code",
   "execution_count": 22,
   "id": "287e24d9",
   "metadata": {},
   "outputs": [],
   "source": [
    "ext_dir = 'F:/WRDAPP'\n",
    "c_dir = 'C:/WRDAPP'\n",
    "\n",
    "if os.path.exists(ext_dir):\n",
    "    loadpth = ext_dir \n",
    "elif os.path.exists(c_dir):\n",
    "    loadpth = c_dir \n",
    "    \n",
    "loadpth += '/GWFlowModel/Cosumnes/Stream_seepage/'\n",
    "model_nam = 'inset_oneto_denier'\n",
    "\n",
    "model_ws = loadpth+ model_nam\n"
   ]
  },
  {
   "cell_type": "code",
   "execution_count": 23,
   "id": "77eef841",
   "metadata": {},
   "outputs": [],
   "source": [
    "# m = flopy.modflow.Modflow(modelname = 'MF', exe_name = 'MODFLOW-NWT.exe', \n",
    "#                           version = 'mfnwt', model_ws=model_ws)\n",
    "m = flopy.modflow.Modflow(modelname = 'MF', exe_name = 'mf-owhm', \n",
    "                          version = 'mfnwt', model_ws=model_ws)\n",
    "\n",
    "#lenuni = 1 is in ft, lenuni = 2 is in meters\n",
    "# itmuni is time unit 5 = years, 4=days, 3 =hours, 2=minutes, 1=seconds\n",
    "dis = flopy.modflow.ModflowDis(nrow=nrow, ncol=ncol, \n",
    "                               nlay=nlay, delr=delr, delc=delc,\n",
    "                               model=m, lenuni = 2, itmuni = 4,\n",
    "                               xul = xul, yul = yul,rotation=rotation, proj4_str=proj4_str,\n",
    "                              nper = nper, perlen=perlen, nstp=nstp, steady = steady,\n",
    "                              start_datetime = strt_date)\n"
   ]
  },
  {
   "cell_type": "code",
   "execution_count": 24,
   "id": "c96665b0",
   "metadata": {},
   "outputs": [
    {
     "name": "stdout",
     "output_type": "stream",
     "text": [
      "(641534.168551493, 4236215.995862045) (637147.4569429542, 4239533.639794644) (640947.6672657495, 4244558.418546243) (645334.3788742883, 4241240.774613644)\n"
     ]
    }
   ],
   "source": [
    "mg = m.modelgrid\n",
    "ll = mg.get_coords(0, 0) #lower left\n",
    "lr = mg.get_coords(0, nrow*delr) #lower right\n",
    "ur = mg.get_coords(ncol*delc, nrow*delr) #upper right\n",
    "ul = mg.get_coords(ncol*delc, 0) #upper left\n",
    "print(ll, lr, ur, ul)\n",
    "\n",
    "# Shapefile of model bounds\n",
    "from shapely.geometry import Polygon\n",
    "vertices = np.stack(np.asarray((ll,lr, ur, ul)))\n",
    "vertices\n",
    "geoms = Polygon(vertices)"
   ]
  },
  {
   "cell_type": "code",
   "execution_count": 25,
   "id": "4677a349",
   "metadata": {},
   "outputs": [],
   "source": [
    "# write modelgrid to get updated row and col numbers specific to the child grid\n",
    "grid_dir = join(gwfm_dir, 'DIS_data/streambed_seepage/grid')\n",
    "grid_fn = join(grid_dir, model_nam,'rm_only_grid.shp')\n",
    "\n",
    "# m.modelgrid.write_shapefile(grid_fn)\n",
    "grid_p = gpd.read_file(grid_fn)\n",
    "grid_p.crs = 'epsg:32610'"
   ]
  },
  {
   "cell_type": "code",
   "execution_count": 26,
   "id": "e32d532e",
   "metadata": {},
   "outputs": [],
   "source": [
    "# find matching based on current grid\n",
    "grid_match = gpd.sjoin(child_grid, grid_p, predicate = 'intersects', how = 'left')\n",
    "# grid_match.row = grid_match.row.astype(int)\n",
    "# grid_match.column = grid_match.column.astype(int)"
   ]
  },
  {
   "cell_type": "markdown",
   "id": "c6d6777b",
   "metadata": {},
   "source": [
    "Top of child grid needs to coincide with the top of the parent grid if vertical grid refinement is applied\n",
    "It would be interesting to look at including the transfer of flow between the parent and child model as it is not currently implemented in MODFLOW. Need to create relation between parent and child grid row, column numbers"
   ]
  },
  {
   "cell_type": "code",
   "execution_count": 27,
   "id": "63f0ce7e",
   "metadata": {},
   "outputs": [
    {
     "name": "stderr",
     "output_type": "stream",
     "text": [
      "<>:1: DeprecationWarning: invalid escape sequence '\\D'\n",
      "<>:1: DeprecationWarning: invalid escape sequence '\\D'\n",
      "C:\\Users\\ajcalder\\AppData\\Local\\Temp\\ipykernel_15048\\1074893619.py:1: DeprecationWarning: invalid escape sequence '\\D'\n",
      "  dem_data_p = np.loadtxt(gwfm_dir+'\\DIS_data\\dem_52_9_200m_mean.tsv')\n"
     ]
    }
   ],
   "source": [
    "\n",
    "dem_data_p = np.loadtxt(gwfm_dir+'\\DIS_data\\dem_52_9_200m_mean.tsv')\n",
    "\n",
    "dem_data = np.zeros((nrow,ncol))\n",
    "dem_data[grid_match.row-1, grid_match.column-1] = dem_data_p[grid_match.p_row-1, grid_match.p_column-1]\n"
   ]
  },
  {
   "cell_type": "code",
   "execution_count": 28,
   "id": "ba65d526",
   "metadata": {},
   "outputs": [],
   "source": [
    "# model top is the same as the regional model\n",
    "m.dis.top = np.copy(dem_data)\n",
    "botm = np.zeros(m.dis.botm.shape)\n",
    "botm[0,:] = dem_data -  thick\n",
    "# model bottom is the same as TPROGs bottoms\n",
    "for k in np.arange(1, nlay):\n",
    "    botm[k,:] = botm[k-1,:] - thick\n",
    "    \n",
    "m.dis.botm = botm"
   ]
  },
  {
   "cell_type": "code",
   "execution_count": 29,
   "id": "1a3bee53",
   "metadata": {},
   "outputs": [],
   "source": [
    "# list(grid_p.unary_union.exterior.coords)\n",
    "# bounding box of model grid\n",
    "xmin,ymin,xmax,ymax = grid_p.unary_union.bounds\n",
    "\n",
    "# corners of model grid\n",
    "# xmin, ymin = grid_p.geometry.bounds.min()[['minx','miny']]\n",
    "# xmax, ymax = grid_p.geometry.bounds.max()[['maxx','maxy']]"
   ]
  },
  {
   "cell_type": "markdown",
   "id": "5a88a1d4",
   "metadata": {},
   "source": [
    "# LPF"
   ]
  },
  {
   "cell_type": "code",
   "execution_count": 30,
   "id": "3fbd9102",
   "metadata": {},
   "outputs": [
    {
     "name": "stdout",
     "output_type": "stream",
     "text": [
      "exists\n"
     ]
    }
   ],
   "source": [
    "mf_tprogs_dir = gwfm_dir+'/UPW_data/tprogs_final/'\n",
    "tprogs_files = glob.glob(mf_tprogs_dir+'*')\n",
    "\n",
    "gel_dir = gwfm_dir+'/UPW_data'\n",
    "if 'ZonePropertiesInitial.csv' in os.listdir(model_ws):\n",
    "    print('exists')\n",
    "    params = pd.read_csv(model_ws+'/ZonePropertiesInitial.csv',index_col='Zone')\n",
    "else:\n",
    "    params = pd.read_csv(gel_dir+'/ZonePropertiesInitial.csv',index_col='Zone')\n",
    "    params.to_csv(model_ws+'/ZonePropertiesInitial.csv')\n",
    "    \n",
    "# convert from m/s to m/d\n",
    "params['K_m_d'] = params.K_m_s * 86400    "
   ]
  },
  {
   "cell_type": "code",
   "execution_count": 31,
   "id": "a0dcf2cf",
   "metadata": {},
   "outputs": [
    {
     "data": {
      "text/plain": [
       "<module 'tprogs_cleaning' from 'C:\\\\Users\\\\ajcalder\\\\Documents/GitHub/CosumnesRiverRecharge/tprogs_utilities\\\\tprogs_cleaning.py'>"
      ]
     },
     "execution_count": 31,
     "metadata": {},
     "output_type": "execute_result"
    }
   ],
   "source": [
    "tprogs_fxn_dir = doc_dir+'/GitHub/CosumnesRiverRecharge/tprogs_utilities'\n",
    "if tprogs_fxn_dir not in sys.path:\n",
    "    sys.path.append(tprogs_fxn_dir)\n",
    "# sys.path\n",
    "import tprogs_cleaning as tc\n",
    "\n",
    "from importlib import reload\n",
    "# importlib.reload\n",
    "reload(tc)"
   ]
  },
  {
   "cell_type": "code",
   "execution_count": 32,
   "id": "b4d77edb",
   "metadata": {},
   "outputs": [],
   "source": [
    "tprogs_info = [80, -80, 320]\n",
    "\n",
    "#  one based is  min:1, 90:mean, max:34\n",
    "t=89 #0, 33,89\n",
    "tprogs_line = np.loadtxt(tprogs_files[t])\n",
    "# filter elevation by regional model\n",
    "masked_tprogs= tc.tprogs_cut_elev(tprogs_line, dem_data_p, tprogs_info)\n",
    "# subset masked data to local model\n",
    "masked_tprogs_local = np.zeros((tprogs_info[2], nrow, ncol))\n",
    "masked_tprogs_local[:, grid_match.row-1, grid_match.column-1] = masked_tprogs[:,grid_match.p_row-1, grid_match.p_column-1]\n",
    "\n",
    "# K, Sy, Ss= tc.int_to_param(masked_tprogs_local, params)\n",
    "K, Sy, Ss,porosity = tc.int_to_param(masked_tprogs_local, params, porosity=True)\n",
    "\n",
    "# save tprogs facies array as input data for use during calibration\n",
    "# tprogs_dim = masked_tprogs.shape\n",
    "# np.savetxt(model_ws+'/input_data/tprogs_facies_array.tsv', np.reshape(masked_tprogs, (tprogs_dim[0]*nrow,ncol)), delimiter='\\t')\n",
    "# masked_tprogs = np.reshape(np.loadtxt(model_ws+'/input_data/tprogs_facies_array.tsv', delimiter='\\t'), (320,100,230))\n"
   ]
  },
  {
   "cell_type": "code",
   "execution_count": 33,
   "id": "ccc855c1",
   "metadata": {},
   "outputs": [],
   "source": [
    "hk = np.zeros(botm.shape)\n",
    "vka = np.zeros(botm.shape)\n",
    "sy = np.zeros(botm.shape)\n",
    "ss = np.zeros(botm.shape)\n",
    "n = np.zeros(botm.shape)"
   ]
  },
  {
   "cell_type": "code",
   "execution_count": 34,
   "id": "64eeee96",
   "metadata": {},
   "outputs": [],
   "source": [
    "top = np.copy(m.dis.top.array)\n",
    "bot1 = np.copy(botm[-1,:,:])\n",
    "# tprogs_info = ()\n",
    "from scipy.stats import hmean, gmean\n",
    "\n",
    "# I need to verify if a flattening layer is needed (e.g., variable thickness to maintain TPROGs connectivity)\n",
    "# pull out the TPROGS data for the corresponding depths\n",
    "K_c = tc.get_tprogs_for_elev(K, top, bot1,tprogs_info)\n",
    "Ss_c = tc.get_tprogs_for_elev(Ss, top, bot1,tprogs_info)\n",
    "Sy_c = tc.get_tprogs_for_elev(Sy, top, bot1,tprogs_info)\n",
    "n_c = tc.get_tprogs_for_elev(porosity, top, bot1,tprogs_info)\n",
    "\n",
    "# upscale as preset\n",
    "for k in np.arange(0,nlay):\n",
    "    hk[k,:] = np.mean(K_c[upscale*k:upscale*(k+1)], axis=0)\n",
    "    vka[k,:] = hmean(K_c[upscale*k:upscale*(k+1)], axis=0)\n",
    "    ss[k,:] = np.mean(Ss_c[upscale*k:upscale*(k+1)], axis=0)\n",
    "    sy[k,:] = np.mean(Sy_c[upscale*k:upscale*(k+1)], axis=0)\n",
    "    n[k,:] = np.mean(n_c[upscale*k:upscale*(k+1)], axis=0)\n",
    "\n",
    "np.savetxt(model_ws+'/porosity_arr.tsv', np.reshape(n, (nlay*nrow,ncol)),delimiter='\\t')"
   ]
  },
  {
   "cell_type": "code",
   "execution_count": 35,
   "id": "2c6afbce",
   "metadata": {},
   "outputs": [],
   "source": [
    "# check proportions of hydrofacies in TPROGs realization\n",
    "tprogs_hist = np.histogram(masked_tprogs, [0,1.1,2.1,3.1,4.1])[0]\n",
    "tprogs_hist = tprogs_hist/np.sum(tprogs_hist)\n",
    "\n",
    "# scale vertical conductivity with a vertical anisotropy factor based\n",
    "# on quantiles in the upscaled tprogs data\n",
    "for n, p in enumerate(np.arange(1,5)):\n",
    "    vka[vka >np.quantile(vka, (1-tprogs_hist[n]))] /= params.vani[p]"
   ]
  },
  {
   "cell_type": "code",
   "execution_count": 36,
   "id": "104e019e",
   "metadata": {},
   "outputs": [
    {
     "data": {
      "text/plain": [
       "array([0.05799038, 0.19671352, 0.15515291, 0.59014319])"
      ]
     },
     "execution_count": 36,
     "metadata": {},
     "output_type": "execute_result"
    }
   ],
   "source": [
    "tprogs_hist"
   ]
  },
  {
   "cell_type": "code",
   "execution_count": 37,
   "id": "ed47fa95",
   "metadata": {},
   "outputs": [
    {
     "data": {
      "text/plain": [
       "[<matplotlib.lines.Line2D at 0x1dd848dc750>,\n",
       " <matplotlib.lines.Line2D at 0x1dd84ba6ed0>,\n",
       " <matplotlib.lines.Line2D at 0x1dd84ba4650>,\n",
       " <matplotlib.lines.Line2D at 0x1dd84ba6290>,\n",
       " <matplotlib.lines.Line2D at 0x1dd84bb8150>,\n",
       " <matplotlib.lines.Line2D at 0x1dd84bb8c90>,\n",
       " <matplotlib.lines.Line2D at 0x1dd84afdc50>,\n",
       " <matplotlib.lines.Line2D at 0x1dd84bba210>,\n",
       " <matplotlib.lines.Line2D at 0x1dd84bb8550>,\n",
       " <matplotlib.lines.Line2D at 0x1dd84bb91d0>]"
      ]
     },
     "execution_count": 37,
     "metadata": {},
     "output_type": "execute_result"
    },
    {
     "data": {
      "image/png": "[encoded data removed]",
      "text/plain": [
       "<Figure size 640x480 with 1 Axes>"
      ]
     },
     "metadata": {},
     "output_type": "display_data"
    }
   ],
   "source": [
    "plt.plot(np.transpose(botm[:,int(nrow/2),:]))"
   ]
  },
  {
   "cell_type": "code",
   "execution_count": 38,
   "id": "d4f7871b",
   "metadata": {},
   "outputs": [],
   "source": [
    "# layvka 0 means vka is vert K, non zero means its the anisotropy ratio between horiz and vert\n",
    "layvka = 0\n",
    "\n",
    "# LAYTYP MUST BE GREATER THAN ZERO WHEN IUZFOPT IS 2\n",
    "# 0 is confined, >0 convertible, <0 convertible unless the THICKSTRT option is in effect\n",
    "# try making first 5 layers convertible/ unconfined, \n",
    "num_unconf = 5\n",
    "laytyp = np.append(np.ones(num_unconf), np.zeros(nlay-num_unconf))\n",
    "\n",
    "# Laywet must be 0 if laytyp is confined laywet = [1,1,1,1,1]\n",
    "laywet = np.zeros(len(laytyp))\n",
    "laywet[laytyp==1] = 1\n",
    "#ipakcb = 55 means cell-by-cell budget is saved because it is non zero (default is 53)\n",
    "\n",
    "gel = flopy.modflow.ModflowUpw(model = m, hk =hk, layvka = layvka, vka = vka, \n",
    "                               sy=sy, ss=ss,\n",
    "                            laytyp=laytyp, laywet = 0, ipakcb=55) # laywet must be 0 for UPW\n",
    "\n",
    "# gel = flopy.modflow.ModflowLpf(model = m, hk =hk, layvka = layvka, vka = hk, sy=sy, \n",
    "# #                                ss = storativity, storagecoefficient=True, #storativity\n",
    "#                                ss=ss, \n",
    "#                                laytyp=laytyp, laywet = laywet, ipakcb=55)"
   ]
  },
  {
   "cell_type": "code",
   "execution_count": 39,
   "id": "2e71e547",
   "metadata": {},
   "outputs": [],
   "source": [
    "# gel.write_file()"
   ]
  },
  {
   "cell_type": "code",
   "execution_count": 40,
   "id": "b7c19aff",
   "metadata": {},
   "outputs": [
    {
     "data": {
      "image/png": "[encoded data removed]",
      "text/plain": [
       "<Figure size 1200x800 with 2 Axes>"
      ]
     },
     "metadata": {},
     "output_type": "display_data"
    }
   ],
   "source": [
    "fig,ax = plt.subplots(1,2, figsize=(12,8))\n",
    "ax[0].set_title('XY View, Layer 0')\n",
    "ax[0].imshow(gel.hk.array[0,:,:], norm = mpl.colors.LogNorm())\n",
    "ax[1].set_title('XZ View, Row 25')\n",
    "ax[1].imshow(gel.hk.array[:,25,:], norm = mpl.colors.LogNorm())\n",
    "ax[1].set_aspect(2)"
   ]
  },
  {
   "cell_type": "markdown",
   "id": "1b545b26",
   "metadata": {},
   "source": [
    "# SFR/LAKE data"
   ]
  },
  {
   "cell_type": "code",
   "execution_count": 41,
   "id": "fbb49013",
   "metadata": {},
   "outputs": [
    {
     "name": "stderr",
     "output_type": "stream",
     "text": [
      "C:\\Users\\ajcalder\\anaconda3\\envs\\geo_env\\Lib\\site-packages\\IPython\\core\\interactiveshell.py:3382: FutureWarning: The `op` parameter is deprecated and will be removed in a future release. Please use the `predicate` parameter instead.\n",
      "  if await self.run_code(code, result, async_=asy):\n"
     ]
    }
   ],
   "source": [
    "lak_shp = join(gwfm_dir,'LAK_data/floodplain_delineation')\n",
    "# ifp = gpd.read_file(join(lak_shp,'inner_floodplain_domain/inner_floodplain_domain.shp' )).to_crs('epsg:32610')\n",
    "# lfp = gpd.read_file(join(lak_shp,'lower_floodplain_approximate_area/lower_floodplain_approximate_area.shp' )).to_crs('epsg:32610')\n",
    "lak_extent = gpd.read_file(join(lak_shp,'LCRFR_ModelDom_2017/LCRFR_2DArea_2015.shp' )).to_crs('epsg:32610')\n",
    "\n",
    "fp_logger = pd.read_csv(join(gwfm_dir,'LAK_data','floodplain_logger_metadata.csv'))\n",
    "fp_logger = gpd.GeoDataFrame(fp_logger, geometry = gpd.points_from_xy(fp_logger.Easting, fp_logger.Northing), crs='epsg:32610')\n",
    "# find grid cell it is within\n",
    "fp_grid = gpd.sjoin(fp_logger, grid_p, how='left',op='within')"
   ]
  },
  {
   "cell_type": "code",
   "execution_count": 42,
   "id": "017710ef",
   "metadata": {},
   "outputs": [],
   "source": [
    "ETc = np.zeros((nper_tr,nrow_p,ncol_p))\n",
    "agETc = np.zeros((nper_tr,nrow_p,ncol_p))\n",
    "rain = np.zeros((nper_tr,nrow_p,ncol_p))\n",
    "non_dev_rain = np.zeros((nper_tr,nrow_p,ncol_p))\n",
    "ag_rch = np.zeros((nper_tr,nrow_p,ncol_p))\n",
    "\n",
    "ETc_count = 0\n",
    "for y in np.arange(strt_date.year, end_date.year+1):\n",
    "    # set start and end date for range for the year to be iterated over\n",
    "    yr_strt = pd.to_datetime(str(y)+'-01-01')\n",
    "    yr_end = pd.to_datetime(str(y)+'-12-31')\n",
    "    # get the length of the date range needed for that year\n",
    "    yearlen = len(pd.date_range(yr_strt, yr_end))\n",
    "    if yr_strt < strt_date:\n",
    "        yr_strt = strt_date\n",
    "    if yr_end > end_date:\n",
    "        yr_end = end_date\n",
    "        \n",
    "    # read in text file of all of the ETc data for each year in array format    \n",
    "    ET_year = np.loadtxt(gwfm_dir+'/UZF_data/ETa_all_txt_arrays/ETa_array_'+str(y)+'.tsv', delimiter = '\\t')\n",
    "    rain_year = np.loadtxt(gwfm_dir+'/UZF_data/Rain_all_txt_arrays/Rain_array_'+str(y)+'.tsv', delimiter = '\\t')\n",
    "    all_ag_arr = np.loadtxt( gwfm_dir+'/WEL_data/simple_landuse_arrays/ag_land_'+str(y)+'.tsv',  delimiter='\\t')\n",
    "    dev_arr = np.loadtxt( gwfm_dir+'/WEL_data/simple_landuse_arrays/developed_land_'+str(y)+'.tsv',  delimiter='\\t')\n",
    "    non_dev_arr = ~dev_arr.astype(bool) # flip array to have non-developed land array for recharge estimates\n",
    "    # estimate floodplain and Ag recharge\n",
    "    natl_flood_y = np.loadtxt(gwfm_dir+'/WEL_data/simple_landuse_arrays/natl_flood_land_'+str(y)+'.tsv', delimiter='\\t')\n",
    "    ag_flood_arr = np.loadtxt(gwfm_dir+'/WEL_data/simple_landuse_arrays/ag_flood_land_'+str(y)+'.tsv', delimiter='\\t')\n",
    "    # aggregate floodplain array over years\n",
    "    natl_flood_arr = np.where(natl_flood_y>0,1,0)\n",
    "#     ag_flood_arr = np.where(ag_flood_y>0,1,0)\n",
    "    \n",
    "    # correct the shape of the text file from 2D to 3D\n",
    "    revertETc = np.reshape(ET_year, (yearlen, nrow_p, ncol_p))\n",
    "    revertrain = np.reshape(rain_year, (yearlen, nrow_p, ncol_p))\n",
    "    # filter the 3D array based on the desired date range\n",
    "    filtered_date_ETc = revertETc[yr_strt.dayofyear-1:yr_end.dayofyear,:,:]\n",
    "    filtered_date_rain = revertrain[yr_strt.dayofyear-1:yr_end.dayofyear,:,:]\n",
    "    # get the length of the date range needed for that year\n",
    "    yr_len = len(pd.date_range(yr_strt, yr_end))\n",
    "    # add the data to the ETc array for the whole model time period\n",
    "    ETc[ETc_count:ETc_count+yr_len,:,:] = filtered_date_ETc\n",
    "    agETc[ETc_count:ETc_count+yr_len,:,:] = filtered_date_ETc*all_ag_arr\n",
    "    rain[ETc_count:ETc_count+yr_len,:,:] = filtered_date_rain\n",
    "    non_dev_rain[ETc_count:ETc_count+yr_len,:,:] = filtered_date_rain*non_dev_arr\n",
    "    # extra recharge for alfalfa irrigation to offset lowered water levels\n",
    "    ag_rch[ETc_count:ETc_count+yr_len,:,:] = filtered_date_ETc*ag_flood_arr\n",
    "    ETc_count += yr_len"
   ]
  },
  {
   "cell_type": "code",
   "execution_count": 43,
   "id": "e92cfe7d",
   "metadata": {},
   "outputs": [],
   "source": [
    "# subset data to local model\n",
    "et_local = np.zeros((nper_tr, nrow, ncol))\n",
    "et_local[:, grid_match.row-1, grid_match.column-1] = ETc[:,grid_match.p_row-1, grid_match.p_column-1]\n",
    "\n",
    "# subset data to local model\n",
    "finf_local = np.zeros((nper_tr, nrow, ncol))\n",
    "finf_local[:, grid_match.row-1, grid_match.column-1] = rain[:,grid_match.p_row-1, grid_match.p_column-1]\n",
    "\n",
    "\n",
    "# subset data to local model\n",
    "ag_local = np.zeros((nper_tr, nrow, ncol))\n",
    "ag_local[:, grid_match.row-1, grid_match.column-1] = agETc[:,grid_match.p_row-1, grid_match.p_column-1]\n",
    "\n"
   ]
  },
  {
   "cell_type": "markdown",
   "id": "30a6dcb4",
   "metadata": {},
   "source": [
    "# SFR"
   ]
  },
  {
   "cell_type": "markdown",
   "id": "946a0bd4",
   "metadata": {},
   "source": [
    "## XS pre-processing"
   ]
  },
  {
   "cell_type": "code",
   "execution_count": 44,
   "id": "86c6cc6b",
   "metadata": {},
   "outputs": [],
   "source": [
    "# cross sections sampled using NHD lines at regular 100 m intervals (not aligned with any grid)\n",
    "xs_all = pd.read_csv(dat_dir+'XS_point_elevations.csv',index_col=0)\n",
    "xs_all = gpd.GeoDataFrame(xs_all,geometry = gpd.points_from_xy(xs_all.Easting,xs_all.Northing), crs='epsg:32610')\n",
    "\n",
    "# find XS that are in the modeled domain by thalweg point\n",
    "thalweg = xs_all[xs_all.dist_from_right_m==100]\n",
    "thalweg = gpd.overlay(thalweg, grid_p)\n",
    "# thalweg = thalweg.cx[xmin:xmax, ymin:ymax]\n",
    "\n",
    "# pivot based on XS number and save only elevation in z_m\n",
    "xs_all_df = pd.read_csv(dat_dir+'Elevation_by_XS_number_meters.csv',index_col=0)\n",
    "xs_all_df = xs_all_df.dropna(axis=0,how='any')\n",
    "\n",
    "# filter XS by those that are within the domain bounds\n",
    "xs_all = xs_all[xs_all.xs_num.isin(thalweg.xs_num.values)]\n",
    "xs_all_df = xs_all_df.loc[:, thalweg.xs_num.astype(str)]\n",
    "\n",
    "# renumber XS\n",
    "thalweg.xs_num = np.arange(0,thalweg.shape[0])\n",
    "xs_all.xs_num = np.repeat(thalweg.xs_num.values,xs_all.dist_from_right_m.max()+1)\n",
    "xs_all_df.columns = thalweg.xs_num"
   ]
  },
  {
   "cell_type": "code",
   "execution_count": 45,
   "id": "f3708033",
   "metadata": {},
   "outputs": [
    {
     "name": "stdout",
     "output_type": "stream",
     "text": [
      "0 : 7 - 1 : 7 - 2 : 6 - 3 : 7 - 4 : 7 - 5 : 8 - 6 : 8 - 7 : 8 - 8 : 8 - 9 : 8 - 10 : 8 - 11 : 8 - 12 : 8 - 13 : 8 - 14 : 8 - 15 : 7 - 16 : 6 - 17 : 8 - 18 : 8 - 19 : 8 - 20 : 8 - 21 : 8 - 22 : 7 - 23 : 8 - 24 : 8 - 25 : 8 - 26 : 8 - 27 : 8 - 28 : 8 - 29 : 7 - 30 : 8 - 31 : 7 - 32 : 8 - 33 : 6 - 34 : 8 - 35 : 8 - 36 : 7 - 37 : 7 - "
     ]
    },
    {
     "name": "stderr",
     "output_type": "stream",
     "text": [
      "C:\\Users\\ajcalder\\AppData\\Local\\Temp\\ipykernel_15048\\2110285611.py:34: SettingWithCopyWarning: \n",
      "A value is trying to be set on a copy of a slice from a DataFrame\n",
      "\n",
      "See the caveats in the documentation: https://pandas.pydata.org/pandas-docs/stable/user_guide/indexing.html#returning-a-view-versus-a-copy\n",
      "  lp.geometry.iloc[int(i)] = LineString(lms)\n"
     ]
    },
    {
     "name": "stdout",
     "output_type": "stream",
     "text": [
      "38 : 7 - 39 : 7 - 40 : 8 - 41 : 8 - 42 : 8 - 43 : 7 - 44 : 8 - 45 : 8 - 46 : 7 - 47 : 8 - 48 : 5 - 49 : 7 - 50 : 7 - 51 : 7 - 52 : 8 - 53 : 6 - 54 : 8 - 55 : 8 - 56 : 8 - 57 : 8 - 58 : 7 - 59 : 8 - 60 : 8 - 61 : 8 - 62 : 8 - 63 : 7 - 64 : 6 - 65 : 8 - 66 : 7 - 67 : 5 - 68 : 7 - 69 : 7 - 70 : 7 - 71 : 7 - 72 : 8 - 73 : 8 - 74 : 8 - 75 : 6 - 76 : 8 - "
     ]
    }
   ],
   "source": [
    "from shapely.geometry import LineString\n",
    "i = 0\n",
    "# Number of cross sections\n",
    "numxs = int(len(xs_all_df.columns))\n",
    "# i is the cross-section number\n",
    "lp = pd.DataFrame(np.linspace(1,int(numxs),int(numxs)))\n",
    "lp['geometry'] = LineString([(0,0),(0,1)])\n",
    "\n",
    "for i in np.arange(0,numxs): #numxs\n",
    "    # Number of points in each cross section\n",
    "    numl = np.sum(pd.notna(xs_all_df.iloc[:,i]))\n",
    "    # Create empty array to fill with coordinates\n",
    "    lines = np.zeros((numl,2))\n",
    "    # j is the number of points in each individual cross-section\n",
    "    lm = LineString(list(zip(xs_all_df.index.values, xs_all_df.iloc[:,i].values)))\n",
    "    tol = 0.6\n",
    "    deltol = 0.1\n",
    "    count = 0\n",
    "    lms = LineString(lm).simplify(tolerance = tol)\n",
    "    while len(list(lms.coords))>8:\n",
    "        if len(list(lms.coords)) <5:\n",
    "            deltol = 0.001\n",
    "        temp = lms\n",
    "        lms = LineString(lm).simplify(tolerance = tol)\n",
    "        tol += deltol\n",
    "#         if count drops below 8 then reduce deltol\n",
    "#         if len(list(lms.coords)) <6:\n",
    "#             lms = temp\n",
    "#             tol -= deltol\n",
    "#             deltol *= 0.5     \n",
    "        count += 1\n",
    "\n",
    "    print(i,':',len(list(lms.coords)),end = ' - ') #count, \n",
    "    lp.geometry.iloc[int(i)] = LineString(lms)\n",
    "    \n",
    "# some segments will never be able to match the ideal number of points despite very fine loops"
   ]
  },
  {
   "cell_type": "code",
   "execution_count": 46,
   "id": "6a0e7564",
   "metadata": {},
   "outputs": [
    {
     "name": "stderr",
     "output_type": "stream",
     "text": [
      "C:\\Users\\ajcalder\\anaconda3\\envs\\geo_env\\Lib\\site-packages\\IPython\\core\\interactiveshell.py:3382: FutureWarning: The `op` parameter is deprecated and will be removed in a future release. Please use the `predicate` parameter instead.\n",
      "  if await self.run_code(code, result, async_=asy):\n"
     ]
    }
   ],
   "source": [
    "# create summary of XS for creating SFR inputs\n",
    "xs_wide = xs_all.pivot_table(index='dist_from_right_m',values='z_m',columns='xs_num')\n",
    "thalweg_pts = xs_wide.idxmin().values.astype(int)\n",
    "xs_mins = xs_all.set_index(['dist_from_right_m','xs_num']).loc[list(zip(thalweg_pts, xs_wide.columns))]\n",
    "XSg_in = xs_mins.reset_index('dist_from_right_m')\n",
    "\n",
    "# join segment data to grid\n",
    "XSg_in = gpd.sjoin(XSg_in, grid_p, op='within', how='inner')\n",
    "# if multiple points in one cell take first, not a big deal since there are points every 100 m\n",
    "XSg_in = XSg_in.reset_index().groupby(['row','column'], as_index=False).first()\n",
    "XSg_in = XSg_in.sort_values('xs_num')\n",
    "# create segment numbers, starting at 1 to allow for first segment defined by michigan bar criteria\n",
    "XSg_in['iseg'] = np.arange(1, XSg_in.shape[0]+1) # add the segment that corresponds to each cross section\n",
    "XSg_in.crs = xs_all.crs\n"
   ]
  },
  {
   "cell_type": "code",
   "execution_count": 47,
   "id": "ff622f71",
   "metadata": {},
   "outputs": [],
   "source": [
    "# filter cross sections to those that matched in the grid\n",
    "xs_all = xs_all[xs_all.xs_num.isin(XSg_in.xs_num)]\n",
    "xs_all_df = xs_all_df.loc[:, XSg_in.xs_num]"
   ]
  },
  {
   "cell_type": "code",
   "execution_count": 48,
   "id": "72206fc3",
   "metadata": {},
   "outputs": [],
   "source": [
    "XS8pt = pd.DataFrame(np.zeros((numxs*8, 3)), columns=['xs_num','dist_from_right_m','z_m'])\n",
    "XS8pt.xs_num = np.repeat(np.arange(0,numxs), 8)\n",
    "\n",
    "# lpg = gpd.GeoDataFrame(lp[:])\n",
    "xscoords = np.zeros((8, numxs))\n",
    "filler = np.zeros(2)\n",
    "filler[:] = np.nan\n",
    "for i in np.arange(0, numxs):\n",
    "    coordtemp = np.array(list(lp.geometry.iloc[i].coords))\n",
    "    coordtemp = coordtemp[~np.isnan(coordtemp[:,0])]\n",
    "    # if missing points add to make 8\n",
    "    while len(coordtemp) < 8:\n",
    "        endfill = np.copy(coordtemp[-1,:]) # take last and add new point\n",
    "        endfill[0] += 1 # offset with different x\n",
    "        coordtemp = np.vstack((coordtemp, endfill))\n",
    "    # reset distance from right to start at 0\n",
    "    coordtemp[:,0] -= coordtemp[0,0]\n",
    "    XS8pt.loc[XS8pt.xs_num==i,['dist_from_right_m','z_m']] = coordtemp   \n",
    "\n",
    "# filter for XS in final segments\n",
    "XS8pt = XS8pt.loc[XS8pt.xs_num.isin(XSg_in.xs_num)]\n",
    "XS8pt.to_csv(proj_dir + '8pointXS_'+model_nam+'.csv', index = False)\n",
    "XS8pt = XS8pt.set_index('xs_num')\n"
   ]
  },
  {
   "cell_type": "code",
   "execution_count": 49,
   "id": "1e757eb2",
   "metadata": {},
   "outputs": [
    {
     "data": {
      "image/png": "[encoded data removed]",
      "text/plain": [
       "<Figure size 640x480 with 1 Axes>"
      ]
     },
     "metadata": {},
     "output_type": "display_data"
    }
   ],
   "source": [
    "# even plotting all XS they show the same triangular shape\n",
    "fig,ax = plt.subplots()\n",
    "for n in XS8pt.index.unique()[::10]:\n",
    "    XS8pt.loc[n].plot(x='dist_from_right_m',y='z_m', ax=ax,legend=False)"
   ]
  },
  {
   "cell_type": "code",
   "execution_count": 50,
   "id": "5324eb29",
   "metadata": {},
   "outputs": [],
   "source": [
    "def get_layer_from_elev(elev, botm_slice, nlay):\n",
    "    \"\"\"  Return uppermost model layer occupied at least partly by some elevation data\n",
    "    Parameters\n",
    "    ----------\n",
    "    elev: 1D array (n) with elevations matching model elevation units\n",
    "    botm: 2D array (nlay, n) with layer elevations of model using same x,y locations at elev1D\n",
    "    \"\"\"\n",
    "    elev_lay = np.zeros(len(elev))\n",
    "    for k in np.arange(0,nlay-1):\n",
    "        for j in np.arange(0,len(elev)):\n",
    "            if botm_slice[k,j] > elev[j]:\n",
    "                elev_lay[j] = k +1\n",
    "    return(elev_lay.astype(int))\n",
    "                "
   ]
  },
  {
   "cell_type": "code",
   "execution_count": 51,
   "id": "452a801f",
   "metadata": {},
   "outputs": [],
   "source": [
    "XSg_z = XSg_in.copy().set_index('iseg')\n",
    "\n",
    "# find minimum value in XS related to thalweg\n",
    "XSg_z['z_m_min'] = xs_all.dissolve('xs_num','min').z_m\n",
    "#roling mean of 6 window centered removes any negative slope\n",
    "XSg_z['z_m_min_cln'] = XSg_z.z_m_min.rolling(6,center=False).mean()\n",
    "\n",
    "# calculate slope and fill NAs, fill slope with nearby\n",
    "z_cln_diff = XSg_z.z_m_min_cln.diff().bfill()\n",
    "XSg_z['slope'] = z_cln_diff.abs()/delr\n",
    "# correct slope less than 1E-4\n",
    "XSg_z.loc[XSg_z.slope<1E-4,'slope'] = 1E-4\n",
    "\n",
    "# fix str bot so all is downward sloping\n",
    "for i in XSg_z.index[-2::-1]:\n",
    "# fill NAs due to rolling mean, with backward filling\n",
    "    if np.isnan(XSg_z.loc[i,'z_m_min_cln']):\n",
    "        XSg_z.loc[i,'z_m_min_cln'] = XSg_z.loc[i+1,'z_m_min_cln'] + XSg_z.loc[i,'slope']*delr\n",
    "\n",
    "for i in XSg_z.index[:-1]:\n",
    "    if XSg_z.loc[i+1,'z_m_min_cln'] >= XSg_z.loc[i,'z_m_min_cln']:\n",
    "        XSg_z.loc[i+1,'z_m_min_cln'] = XSg_z.loc[i,'z_m_min_cln'] - XSg_z.loc[i,'slope']*delr\n",
    "\n",
    "\n",
    "# XSg_z.slope.plot(secondary_y = True)"
   ]
  },
  {
   "cell_type": "code",
   "execution_count": 52,
   "id": "442a9e79",
   "metadata": {},
   "outputs": [],
   "source": [
    "# identify XS to be copied for diversion reaches\n",
    "fp_grid_xs = fp_grid[['Logger Location','geometry']].sjoin_nearest(XSg_z.reset_index().drop(columns=['index_right']), how='inner')\n",
    "# od_breach is the sensor location where the breach was made in the levees for flow to leave the river\n",
    "od_breach = fp_grid_xs[fp_grid_xs['Logger Location']=='OD_Excavation']\n",
    "od_swale = fp_grid_xs[fp_grid_xs['Logger Location']=='SwaleBreach_1']\n"
   ]
  },
  {
   "cell_type": "code",
   "execution_count": 53,
   "id": "05f0a2ea",
   "metadata": {},
   "outputs": [],
   "source": [
    "# add reaches for diversion\n",
    "# is it worth redefining the row,column? Could cause issues with disconnected cells\n",
    "XSg = pd.concat((XSg_z.reset_index(), od_breach,od_swale)) #, od_swale\n",
    "#, od_swale don't need extra seg for the outflow\n",
    "XSg = XSg[~((XSg.xs_num==od_swale.xs_num.values[0])&(XSg['Logger Location'].isna()))]\n",
    "# redefine xs_num/iseg\n",
    "XSg  = XSg.sort_values('xs_num')\n",
    "XSg['iseg'] = np.arange(1,XSg.shape[0]+1)\n",
    "XSg = XSg.set_index('iseg')"
   ]
  },
  {
   "cell_type": "code",
   "execution_count": 54,
   "id": "a0a6074a",
   "metadata": {},
   "outputs": [],
   "source": [
    "# fill upstream with parameters from sensors\n",
    "# pcols= ['strhc1', 'strthick', 'thts','thti','eps','uhc','thtr', 'roughch','roughbk']\n",
    "# XSg[pcols] = XSg[pcols].bfill()\n",
    "\n",
    "XSg.to_csv(join(model_ws,'04_XSg_filled.csv'))"
   ]
  },
  {
   "cell_type": "code",
   "execution_count": 55,
   "id": "33b7ef9e",
   "metadata": {},
   "outputs": [],
   "source": [
    "# plot, large spike in top elevation causes discontinuity\n",
    "sfr_rows = (XSg.row.values-1).astype(int)\n",
    "sfr_cols = (XSg.column.values-1).astype(int)\n",
    "# Determine which layer the streamcell is in\n",
    "# since the if statement only checks whether the first layer is greater than the streambed elevation, \n",
    "# owhm default raises layer to topmost active which is 1\n",
    "strthick = 1\n",
    "strtop = XSg.z_m_min_cln.values - strthick\n",
    "\n"
   ]
  },
  {
   "cell_type": "code",
   "execution_count": 56,
   "id": "73dfeda9",
   "metadata": {},
   "outputs": [],
   "source": [
    "#as long as I base the sfr layer on str bottom there shouldn't be an issue in owhm if NO_REACH_LAYER_CHANGE is\n",
    "# specified becasue it likes to set the layer to the uppermost active layer"
   ]
  },
  {
   "cell_type": "code",
   "execution_count": 57,
   "id": "11a275f8",
   "metadata": {},
   "outputs": [],
   "source": [
    "sft_lay = get_layer_from_elev(strtop, botm[:, sfr_rows, sfr_cols], m.dis.nlay)\n",
    "sfr_lay = get_layer_from_elev(strtop-strthick, botm[:, sfr_rows, sfr_cols], m.dis.nlay)\n",
    "# if the str top and botm are in different layers then adjust model bottom to str bot minus a small adjustment\n",
    "# sfr_l = sfrb_lay > sfr_lay\n",
    "# botm_sfr = botm.copy()\n",
    "# botm_sfr[sfr_lay[sfr_l], sfr_rows[sfr_l],sfr_cols[sfr_l]] = strtop[sfr_l] - strthick - 0.1\n",
    "# m.dis.botm = botm"
   ]
  },
  {
   "cell_type": "code",
   "execution_count": 58,
   "id": "128ba745",
   "metadata": {},
   "outputs": [],
   "source": [
    "# m.sfr.write_file()\n",
    "# m.dis.write_file()"
   ]
  },
  {
   "cell_type": "code",
   "execution_count": 59,
   "id": "e3bb082c",
   "metadata": {},
   "outputs": [
    {
     "ename": "NameError",
     "evalue": "name 'botm_sfr' is not defined",
     "output_type": "error",
     "traceback": [
      "\u001b[1;31m---------------------------------------------------------------------------\u001b[0m",
      "\u001b[1;31mNameError\u001b[0m                                 Traceback (most recent call last)",
      "Cell \u001b[1;32mIn[59], line 7\u001b[0m\n\u001b[0;32m      5\u001b[0m plt\u001b[38;5;241m.\u001b[39mplot(m\u001b[38;5;241m.\u001b[39mdis\u001b[38;5;241m.\u001b[39mtop\u001b[38;5;241m.\u001b[39marray[ sfr_rows, sfr_cols], label\u001b[38;5;241m=\u001b[39m\u001b[38;5;124m'\u001b[39m\u001b[38;5;124mModel Top\u001b[39m\u001b[38;5;124m'\u001b[39m, ls\u001b[38;5;241m=\u001b[39m\u001b[38;5;124m'\u001b[39m\u001b[38;5;124m--\u001b[39m\u001b[38;5;124m'\u001b[39m,color\u001b[38;5;241m=\u001b[39m\u001b[38;5;124m'\u001b[39m\u001b[38;5;124mgreen\u001b[39m\u001b[38;5;124m'\u001b[39m)\n\u001b[0;32m      6\u001b[0m \u001b[38;5;66;03m# plt.plot(m.dis.botm.array[0, sfr_rows, sfr_cols], label='Lay 1 Bottom', ls='--',color='brown')\u001b[39;00m\n\u001b[1;32m----> 7\u001b[0m plt\u001b[38;5;241m.\u001b[39mplot(\u001b[43mbotm_sfr\u001b[49m[sfrt_lay, sfr_rows, sfr_cols], label\u001b[38;5;241m=\u001b[39m\u001b[38;5;124m'\u001b[39m\u001b[38;5;124mSFRT Lay Bot\u001b[39m\u001b[38;5;124m'\u001b[39m, ls\u001b[38;5;241m=\u001b[39m\u001b[38;5;124m'\u001b[39m\u001b[38;5;124m--\u001b[39m\u001b[38;5;124m'\u001b[39m,color\u001b[38;5;241m=\u001b[39m\u001b[38;5;124m'\u001b[39m\u001b[38;5;124mblack\u001b[39m\u001b[38;5;124m'\u001b[39m)\n\u001b[0;32m      8\u001b[0m plt\u001b[38;5;241m.\u001b[39mplot(botm_sfr[sfr_lay, sfr_rows, sfr_cols], label\u001b[38;5;241m=\u001b[39m\u001b[38;5;124m'\u001b[39m\u001b[38;5;124mSFRB Lay Bot\u001b[39m\u001b[38;5;124m'\u001b[39m, ls\u001b[38;5;241m=\u001b[39m\u001b[38;5;124m'\u001b[39m\u001b[38;5;124m-.\u001b[39m\u001b[38;5;124m'\u001b[39m,color\u001b[38;5;241m=\u001b[39m\u001b[38;5;124m'\u001b[39m\u001b[38;5;124mgrey\u001b[39m\u001b[38;5;124m'\u001b[39m)\n\u001b[0;32m     10\u001b[0m plt\u001b[38;5;241m.\u001b[39mlegend()\n",
      "\u001b[1;31mNameError\u001b[0m: name 'botm_sfr' is not defined"
     ]
    },
    {
     "data": {
      "image/png": "[encoded data removed]",
      "text/plain": [
       "<Figure size 640x480 with 1 Axes>"
      ]
     },
     "metadata": {},
     "output_type": "display_data"
    }
   ],
   "source": [
    "(XSg.z_m_min_cln).plot(label='Str Top')\n",
    "XSg.z_m_min.plot(label='min')\n",
    "(XSg.z_m_min_cln-strthick).plot(label='Str Bot')\n",
    "\n",
    "plt.plot(m.dis.top.array[ sfr_rows, sfr_cols], label='Model Top', ls='--',color='green')\n",
    "# plt.plot(m.dis.botm.array[0, sfr_rows, sfr_cols], label='Lay 1 Bottom', ls='--',color='brown')\n",
    "plt.plot(botm_sfr[sfrt_lay, sfr_rows, sfr_cols], label='SFRT Lay Bot', ls='--',color='black')\n",
    "plt.plot(botm_sfr[sfr_lay, sfr_rows, sfr_cols], label='SFRB Lay Bot', ls='-.',color='grey')\n",
    "\n",
    "plt.legend()\n",
    "\n",
    "# it seems that the sfr layer is forced based on the str top but that the str botm can't be below the modflow cell bottom\n",
    "# this means the top and bottom must be in the same cell"
   ]
  },
  {
   "cell_type": "code",
   "execution_count": null,
   "id": "dcf3ee3f",
   "metadata": {},
   "outputs": [],
   "source": [
    "\n",
    "fig,ax=plt.subplots()\n",
    "# gdf_bnds(breach_grid,ax=ax, buf=200)\n",
    "XSg.plot(ax=ax)\n",
    "od_breach.plot(ax=ax)\n",
    "od_swale.plot(ax=ax)\n",
    "# grid_p.plot(ax=ax,color='none')\n",
    "\n",
    "# fp_logger[fp_logger['Logger Type']=='Breach'].plot('Logger Location',ax=ax, legend=True, legend_kwds={'loc':(1,0.3)})\n",
    "lak_extent.plot(ax=ax, color='none')\n",
    "ctx.add_basemap(ax=ax, source = ctx.providers.Esri.WorldImagery, attribution=False, attribution_size=6,\n",
    "                crs = 'epsg:26910', alpha=0.8)"
   ]
  },
  {
   "cell_type": "markdown",
   "id": "79606306",
   "metadata": {},
   "source": [
    "## SFR input"
   ]
  },
  {
   "cell_type": "code",
   "execution_count": null,
   "id": "07569f2e",
   "metadata": {},
   "outputs": [],
   "source": [
    "# There is one reach for each cell that a river crosses\n",
    "NSTRM = -len(XSg)\n",
    "# There should a be a stream segment if there are major changes\n",
    "# in variables in Item 4 or Item 6\n",
    "# 1st segment is for the usgs Michigan Bar rating curve, one for each XS, plus 2 for the floodplain diversion\n",
    "NSS = len(XSg) \n",
    "# NSS = 2\n",
    "# nparseg (int) number of stream-segment definition with all parameters, must be zero when nstrm is negative\n",
    "NPARSEG = 0\n",
    "CONST = 86400 # mannings constant for SI units, 1.0 for seconds, 86400 for days, 60 for minutes\n",
    "# real value equal to the tolerance of stream depth used in\n",
    "# computing leakage between each stream reach and active model cell\n",
    "DLEAK = 0.0001 # unit in lengths, 0.0001 is sufficient for units of meters\n",
    "IPAKCB = 55\n",
    "# writes out stream depth, width, conductance, gradient when cell by cell\n",
    "# budget is specified and istcb2 is the unit folder\n",
    "ISTCB2 = 54\n",
    "# isfropt = 1 is no unsat flow\n",
    "# specifies whether unsat flow beneath stream or not, isfropt 2 has properties read for each reach, isfropt 3 also has UHC\n",
    "# read for each reach, isfropt 4 has properties read for each segment (no UHC), 5 reads for each segment with UHC\n",
    "ISFROPT = 1\n",
    "# nstrail (int), number of trailing weave increments used to represent a trailing wave, used to represent a decrease \n",
    "# in the surface infiltration rate. Can be increased to improve mass balance, values between 10-20 work well with error \n",
    "# beneath streams ranging between 0.001 and 0.01 percent, default is 10 (only when isfropt >1)\n",
    "NSTRAIL = 20\n",
    "# isuzn (int) tells max number of vertical cells used to define the unsaturated zone beneath a stream reach (default is 1)\n",
    "ISUZN = 1\n",
    "#nsfrsets (int) is max number of different sets of trailing waves (used to allocate arrays), a value of 30 is sufficient for problems\n",
    "# where stream depth varies often, value doesn't effect run time (default is 30)\n",
    "NSFRSETS = 30\n",
    "# IRTFLG (int) indicates whether transient streamflow routing is active, must be specified if NSTRM <0. If IRTFLG >0 then\n",
    "# flow will be routed with the kinematic-wave equations, otherwise it should be 0 (only for MF2005), default is 1\n",
    "IRTFLG = 1\n",
    "# numtim (int) is number of sub time steps used to route streamflow. Streamflow time step = MF Time step / NUMTIM. \n",
    "# Default is 2, only when IRTFLG >0\n",
    "NUMTIM = 5\n",
    "# weight (float) is a weighting factor used to calculate change in channel storage 0.5 - 1 (default of 0.75) \n",
    "WEIGHT = 0.75\n",
    "# flwtol (float), flow tolerance, a value of 0.00003 m3/s has been used successfully (default of 0.0001)\n",
    "# 0.00003 m3/s = 2.592 m3/day = 0.001 cfs\n",
    "# a flow tolerance of 1 cfs is equal to 2446.57 m3/day\n",
    "# if my units are in m3/day then flwtol should be in m3/day\n",
    "FLWTOL = 0.00003*CONST\n",
    "\n",
    "sfr = flopy.modflow.ModflowSfr2(model = m, nstrm = NSTRM, nss = NSS, nparseg = NPARSEG, \n",
    "                           const = CONST, dleak = DLEAK, ipakcb = IPAKCB, istcb2 = ISTCB2, \n",
    "                          isfropt = ISFROPT, nstrail = NSTRAIL, isuzn = ISUZN, irtflg = IRTFLG, \n",
    "                          numtim = NUMTIM, weight = WEIGHT, flwtol = FLWTOL,\n",
    "                                reachinput=True, transroute=True, tabfiles=True,\n",
    "#                                 options = ['NO_REACH_LAYER_CHANGE'],\n",
    "                                tabfiles_dict={1: {'numval': nper, 'inuit': 56}}\n",
    "                               )"
   ]
  },
  {
   "cell_type": "code",
   "execution_count": null,
   "id": "40be7210",
   "metadata": {},
   "outputs": [],
   "source": [
    "# Add option block at the top of the sfr input file for tabfiles\n",
    "options_line = ' reachinput transroute tabfiles 1 ' + str(nper) \n",
    "tab_option = flopy.utils.OptionBlock(options_line = options_line, package = sfr, block = True)\n",
    "sfr.options = tab_option\n",
    "# sfr.options"
   ]
  },
  {
   "cell_type": "code",
   "execution_count": null,
   "id": "e6528190",
   "metadata": {},
   "outputs": [],
   "source": [
    "# KRCH, IRCH, JRCH, ISEG, IREACH, RCHLEN, STRTOP, SLOPE, STRTHICK, STRHC1, THTS, THTI, EPS, UHC\n",
    "\n",
    "columns = ['KRCH', 'IRCH', 'JRCH', 'ISEG', 'IREACH', 'RCHLEN', 'STRTOP', \n",
    "               'SLOPE', 'STRTHICK', 'STRHC1', 'THTS', 'THTI', 'EPS', 'UHC']\n",
    "\n",
    "sfr.reach_data.node = XSg.node\n",
    "sfr.reach_data.k = sfr_lay.astype(int)\n",
    "sfr.reach_data.i = sfr_rows\n",
    "sfr.reach_data.j = sfr_cols\n",
    "sfr.reach_data.iseg = XSg.index\n",
    "sfr.reach_data.ireach = 1 \n",
    "sfr.reach_data.rchlen = 100 #xs_sfr.length_m.values\n",
    "sfr.reach_data.strtop = XSg.z_m_min_cln.values\n",
    "sfr.reach_data.slope = XSg.slope.values\n",
    " # a guess of 2 meters thick streambed was appropriate\n",
    "sfr.reach_data.strthick = strthick\n",
    "sfr.reach_data.strhc1 = vka[sfr.reach_data.k, sfr.reach_data.i, sfr.reach_data.j] #/10\n",
    "\n",
    "# UZF parameters\n",
    "# sfr.reach_data.thts = soiln_array[sfr.reach_data.i, sfr.reach_data.j]/100\n",
    "# sfr.reach_data.thti = sfr.reach_data.thts\n",
    "# sfr.reach_data.eps = soileps_array[sfr.reach_data.i, sfr.reach_data.j]\n",
    "# sfr.reach_data.uhc = vka[0,sfr.reach_data.i, sfr.reach_data.j]\n"
   ]
  },
  {
   "cell_type": "code",
   "execution_count": null,
   "id": "5668a8f2",
   "metadata": {},
   "outputs": [],
   "source": [
    "\n",
    "plt.plot(sfr.reach_data.strhc1)\n",
    "plt.xlabel('ISEG')\n",
    "plt.ylabel('VKA (m/s)')\n",
    "plt.yscale('log')"
   ]
  },
  {
   "cell_type": "code",
   "execution_count": null,
   "id": "a0c971a2",
   "metadata": {},
   "outputs": [],
   "source": [
    "mb4rl = pd.read_csv(sfr_dir+'michigan_bar_icalc4_data.csv', skiprows = 0, sep = ',')\n"
   ]
  },
  {
   "cell_type": "code",
   "execution_count": null,
   "id": "2b995b38",
   "metadata": {},
   "outputs": [],
   "source": [
    "sfr_seg = sfr.segment_data[0].copy()"
   ]
  },
  {
   "cell_type": "code",
   "execution_count": null,
   "id": "065821f4",
   "metadata": {},
   "outputs": [],
   "source": [
    "# alternate version of segment data loading using if statements when filtering data rather than in a loop\n",
    "sfr_seg.nseg = np.arange(1,NSS+1)\n",
    "\n",
    "sfr_seg.icalc = 2 # Mannings and 8 point channel XS is 2 with plain MF, 5 with SAFE\n",
    "# sfr_seg.icalc[0] = 4 # use stage, discharge width method for Michigan Bar (nseg=1)\n",
    "sfr_seg.nstrpts[sfr_seg.icalc==4] = len(mb4rl) # specify number of points used for flow calcs\n",
    "sfr_seg.outseg = sfr_seg.nseg+1 # the outsegment will typically be the next segment in the sequence\n",
    "sfr_seg.iupseg = 0 # iupseg is zero for no diversion\n",
    "\n",
    "# set a flow into segment 1 for the steady state model run\n",
    "sfr_seg.flow[0] = 2.834*86400. # m3/day, originally 15 m3/s\n",
    "# set the values for ET, runoff and PPT to 0 as the inflow will be small relative to the flow in the river\n",
    "sfr_seg.runoff = 0.0\n",
    "sfr_seg.etsw = 0.0\n",
    "sfr_seg.pptsw = 0.0\n",
    "\n",
    "# Manning's n data comes from Barnes 1967 UGSS Paper 1849 and USGS 1989 report on selecting manning's n\n",
    "# RoughCH is only specified for icalc = 1 or 2\n",
    "sfr_seg.roughch[(sfr_seg.icalc==1) | (sfr_seg.icalc==2)] = 0.048\n",
    "# ROUGHBK is only specified for icalc = 2\n",
    "sfr_seg.roughbk[(sfr_seg.icalc==2) | (sfr_seg.icalc==5)] = 0.083# higher due to vegetation"
   ]
  },
  {
   "cell_type": "code",
   "execution_count": null,
   "id": "91b33e24",
   "metadata": {},
   "outputs": [],
   "source": [
    "# diversion segment\n",
    "od_div = XSg[XSg['Logger Location']=='OD_Excavation']\n",
    "# downstream channel segment\n",
    "od_sfr = XSg[XSg.xs_num==od_div.xs_num.values[0]]\n",
    "od_sfr = od_sfr[od_sfr['Logger Location'].isna()]\n",
    "# upstream segment to diversion and channel\n",
    "up_div = XSg[XSg.xs_num == od_div.xs_num.values[0]-1]\n",
    "\n",
    "\n",
    "# outflow from floodplain\n",
    "od_out = XSg[XSg['Logger Location']=='SwaleBreach_1']\n",
    "od_sfr_out = XSg[XSg.xs_num==od_out.xs_num.values[0]]"
   ]
  },
  {
   "cell_type": "code",
   "execution_count": null,
   "id": "47831cb0",
   "metadata": {},
   "outputs": [],
   "source": [
    "div_seg = od_div.index[0]\n",
    "chan_seg = od_sfr.index[0]\n",
    "up_seg = up_div.index[0]"
   ]
  },
  {
   "cell_type": "code",
   "execution_count": null,
   "id": "6cfd7fef",
   "metadata": {},
   "outputs": [],
   "source": [
    "# adjust segments to include floodplain connection\n",
    "# for previous work I used a different XS input to add these side segments, but on a large scale I can probably\n",
    "# use the existing reaches allowing for a gap (100m)\n",
    "sfr_seg.outseg[sfr_seg.nseg==up_seg] = chan_seg # the river should flow to the channel segment first\n",
    " # there will be a diversion from the river to the dam above 27 cms, of which 20% will be returned to the side channel\n",
    "sfr_seg.iupseg[sfr_seg.nseg==div_seg] = up_seg\n",
    "sfr_seg.iprior[sfr_seg.nseg==div_seg] = -3 # iprior=-3 any flows above the flow specified will be diverted\n",
    "sfr_seg.flow[sfr_seg.nseg==div_seg] = 27*86400 # 27 cms is floodplain threshold per Whipple in the Cosumnes\n",
    "sfr_seg.outseg[sfr_seg.nseg==div_seg] = -1 #outflow from segment is OD floodplain\n",
    "\n",
    "# adjust for flow from diversion segment back to  channel\n",
    "sfr_seg.iupseg[sfr_seg.nseg==chan_seg] = div_seg\n",
    "sfr_seg.iprior[sfr_seg.nseg==chan_seg] = -2 # the flow diverted is a % of the total flow in the channel\n",
    "sfr_seg.flow[sfr_seg.nseg==chan_seg] = 0.5 # the side channel is about 1/4 the size so 20% of flow should run through\n",
    "\n",
    "# divert flow from lake back into the segment after the dam\n",
    "sfr_seg.iupseg[sfr_seg.nseg==od_sfr_out.index[0]] = -1 # no need to change iprior because diversion is based on lake stage\n",
    "    "
   ]
  },
  {
   "cell_type": "code",
   "execution_count": null,
   "id": "91d9b29b",
   "metadata": {},
   "outputs": [],
   "source": [
    "sfr.segment_data[0] = sfr_seg"
   ]
  },
  {
   "cell_type": "code",
   "execution_count": null,
   "id": "e1135b55",
   "metadata": {},
   "outputs": [],
   "source": [
    "# Change column name to float type for easier referencing in iteration\n",
    "# XS8pt.columns = XS8pt.columns.astype('float')\n",
    "# XS8pt\n",
    "# must start at 0 if only at teichert\n",
    "xsnum = 1\n",
    "\n",
    "# Pre-create dictionary to be filled in loop\n",
    "sfr.channel_geometry_data = {0:{j:[] for j in np.arange(xsnum,len(XSg)+xsnum)}  }\n",
    "\n",
    "\n",
    "for k in XSg.xs_num:\n",
    "        XCPT = XS8pt.loc[k].dist_from_right_m.values # old XS8pt[k].index\n",
    "        ZCPT = XS8pt.loc[k].z_m.values # old XS8pt[k].values\n",
    "        ZCPT_min = np.min(ZCPT)\n",
    "        ZCPT-= ZCPT_min\n",
    "        sfr.channel_geometry_data[0][xsnum] = [XCPT, ZCPT]\n",
    "        xsnum += 1\n",
    "\n"
   ]
  },
  {
   "cell_type": "code",
   "execution_count": null,
   "id": "8bcfe611",
   "metadata": {
    "scrolled": false
   },
   "outputs": [],
   "source": [
    "sfr.check()"
   ]
  },
  {
   "cell_type": "code",
   "execution_count": null,
   "id": "b96f5bbd",
   "metadata": {},
   "outputs": [],
   "source": [
    "# FLOWTAB = mb4rl.discharge_va.values\n",
    "# DPTHTAB = mb4rl.gage_height_va.values\n",
    "# WDTHTAB = mb4rl.chan_width.values\n",
    "# sfr.channel_flow_data = {0: {1: [FLOWTAB, DPTHTAB, WDTHTAB]}}"
   ]
  },
  {
   "cell_type": "code",
   "execution_count": null,
   "id": "18cb4abe",
   "metadata": {},
   "outputs": [],
   "source": [
    "sfr.write_file()"
   ]
  },
  {
   "cell_type": "markdown",
   "id": "8eacc2a0",
   "metadata": {},
   "source": [
    "## SFR Tab File"
   ]
  },
  {
   "cell_type": "code",
   "execution_count": null,
   "id": "690d894b",
   "metadata": {},
   "outputs": [],
   "source": [
    "# For the tab files the left column is time (in model units) and the right column is flow (model units)\n",
    "# Time is days, flow is cubic meters per day\n",
    "# USGS presents flow in cfs (cubic feet per second)\n",
    "inflow = pd.read_csv(sfr_dir+'MB_daily_flow_cfs_2010_2019.csv', index_col = 'datetime', parse_dates = True)\n",
    "\n",
    "# filter out data between the stress period dates\n",
    "inflow = inflow.loc[strt_date:end_date]\n",
    "# covnert flow from cubic feet per second to cubic meters per day\n",
    "inflow['flow_cmd'] = inflow.flow_cfs * (86400/(3.28**3))\n",
    "\n",
    "# # np.arange(0,len(flow_cmd))\n",
    "\n",
    "time_flow = np.vstack((np.arange(time_tr0,len(inflow.flow_cmd)+time_tr0),inflow.flow_cmd))\n",
    "time_flow = np.transpose(time_flow)\n",
    "# add a first row to account for the steady state stress period\n",
    "# median instead of mean because of too much influence from large values\n",
    "if no_ss == False:\n",
    "    time_flow = np.row_stack(([0, inflow.flow_cmd.median()], time_flow))\n",
    "\n",
    "np.savetxt(model_ws+'/MF.tab',time_flow, delimiter = '\\t')"
   ]
  },
  {
   "cell_type": "code",
   "execution_count": null,
   "id": "3b61842a",
   "metadata": {},
   "outputs": [],
   "source": [
    "# inflow.plot(y='flow_cfs')\n",
    "inflow.plot(y='flow_cmd',legend=False)\n",
    "# plt.plot(time_flow[:,0], time_flow[:,1])\n",
    "plt.xlabel('Stress Period')\n",
    "plt.ylabel('Flow ($m^3/d$)')"
   ]
  },
  {
   "cell_type": "code",
   "execution_count": null,
   "id": "5a27d7e0",
   "metadata": {},
   "outputs": [],
   "source": [
    "flopy.modflow.mfaddoutsidefile(model = m, name = 'DATA',extension = 'tab',unitnumber = 56)"
   ]
  },
  {
   "cell_type": "markdown",
   "id": "6a3117f8",
   "metadata": {},
   "source": [
    "# LAK Package"
   ]
  },
  {
   "cell_type": "code",
   "execution_count": null,
   "id": "aba4d976",
   "metadata": {},
   "outputs": [],
   "source": [
    "fig,ax=plt.subplots()\n",
    "# ifp.plot(ax=ax, color='none')\n",
    "lak_extent.plot(ax=ax,color='none',edgecolor='red')\n",
    "# lfp.plot(ax=ax, color='none')\n",
    "\n",
    "fp_logger.plot(ax=ax)"
   ]
  },
  {
   "cell_type": "code",
   "execution_count": null,
   "id": "41354625",
   "metadata": {},
   "outputs": [],
   "source": [
    "# create clipped raster of just lake area\n",
    "dem_dir = join(gwfm_dir,'DEM_data')\n",
    "raster_name = dem_dir+'/mwt_peri_2_3.tif/mwt_peri_2_3_clipped.tif'\n",
    "import rasterio.mask\n",
    "with rasterio.open(raster_name) as src:\n",
    "    out_image, out_transform = rasterio.mask.mask(src, lak_extent.geometry.values, crop=True)\n",
    "    out_meta = src.meta\n",
    "# write output\n",
    "out_meta.update({\"driver\": \"GTiff\",\n",
    "                 \"height\": out_image.shape[1],\n",
    "                 \"width\": out_image.shape[2],\n",
    "                 \"transform\": out_transform})\n",
    "\n",
    "with rasterio.open(join(lak_shp,\"floodplain_crop.tif\"), \"w\", **out_meta) as dest:\n",
    "    dest.write(out_image)"
   ]
  },
  {
   "cell_type": "code",
   "execution_count": null,
   "id": "bf9743ea",
   "metadata": {},
   "outputs": [],
   "source": [
    "lak_buf = lak_extent.copy()\n",
    "lak_buf.geometry = lak_buf.buffer(100)\n",
    "# gpd.sjoin(grid_c_nums, lak_buf, how='left',op='contains').plot()\n",
    "lak_grid = gpd.overlay(grid_p, lak_extent, how='intersection')\n",
    "# get cells with more than 1/3 of Blodgett Dam \"lake extent\"\n",
    "# lak_grid = lak_grid.loc[lak_grid.geometry.area > delr[lak_grid.row]*delr[lak_grid.column]/3]\n",
    "\n",
    "# Set empty array of zeros for nonlake cells\n",
    "lakarr = np.zeros((nlay, nrow,ncol))\n",
    "# Each lake is given a different integer, and needs to be specified depending on the layer\n",
    "lakarr[0,(lak_grid.row.values-1).astype(int),(lak_grid.column.values-1).astype(int)] = 1\n",
    "\n",
    "# set Ksat same as vertical conductivity, \n",
    "lkbd_thick = 2\n",
    "lkbd_K = vka[0,:,:]\n",
    "lkbd_K[lakarr[0]==0] = 0 # where lake cells don't exist set K as 0\n",
    "# leakance is K/lakebed thickness\n",
    "bdlknc = lkbd_K/lkbd_thick\n",
    "\n",
    "lakeRst = rasterio.open(join(lak_shp,\"floodplain_crop.tif\"))\n",
    "lakeBottom = lakeRst.read(1)\n",
    "noDataValue = np.copy(lakeBottom[0,0])\n",
    "#replace value for np.nan\n",
    "lakeBottom[lakeBottom==noDataValue]= np.nan\n",
    "\n",
    "# get raster minimum and maximum \n",
    "minElev = np.nanmin(lakeBottom)\n",
    "maxElev = np.nanmax(lakeBottom)\n",
    "print('Min bottom elevation %.2f m., max bottom elevation %.2f m.'%(minElev,maxElev))\n",
    "\n",
    "# steps for calculation\n",
    "nSteps = 151\n",
    "# lake bottom elevation intervals\n",
    "elevSteps = np.round(np.linspace(minElev,maxElev,nSteps),2)\n",
    "\n",
    "# definition of volume function\n",
    "def calculateVol_A(elevStep,elevDem,lakeRst):\n",
    "    tempDem = elevStep - elevDem[elevDem<elevStep]\n",
    "    tempArea = len(tempDem)*lakeRst.res[0]*0.3048*lakeRst.res[1]*0.3048\n",
    "    tempVol = tempDem.sum()*lakeRst.res[0]*0.3048*lakeRst.res[1]*0.3048\n",
    "    return(tempVol, tempArea)\n",
    "# calculate volumes, areas for each elevation\n",
    "volArray = [0]\n",
    "saArray = [0]\n",
    "for elev in elevSteps[1:]:\n",
    "    tempVol,tempArea = calculateVol_A(elev,lakeBottom,lakeRst)\n",
    "    volArray.append(tempVol)\n",
    "    saArray.append(tempArea)\n",
    "\n",
    "\n",
    "# print(\"Lake bottom elevations %s\"%elevSteps)\n",
    "# volArrayMCM = [round(i/1000000,2) for i in volArray]\n",
    "# print(\"Lake volume in million of cubic meters %s\"%volArrayMCM)"
   ]
  },
  {
   "cell_type": "code",
   "execution_count": null,
   "id": "11d87ba9",
   "metadata": {},
   "outputs": [],
   "source": [
    "# get average et lake in floodplain for lake package\n",
    "et_lake = et_local*lakarr[0]\n",
    "et_lake = et_lake.sum(axis=(1,2))/(lakarr[0].sum())\n",
    "# et_lake"
   ]
  },
  {
   "cell_type": "code",
   "execution_count": null,
   "id": "7008bab4",
   "metadata": {},
   "outputs": [],
   "source": [
    "# Exactly 151 lines must be included within each lake bathymetry input file and each line must contain 1 value \n",
    "#  of lake stage (elevation), volume, and area (3 numbers per line) if the keyword “TABLEINPUT” is specified in item 1a.\n",
    "# A separate file is required for each lake. \n",
    "# initial lake stage should be dry (below lake bottom)\n",
    "# stages = minElev - lkbd_thick - 0.1 # causes lake to remain dry for entire simulation\n",
    "stages = minElev +0.01\n",
    "\n",
    "# (ssmn, ssmx) max and min stage of each lake for steady state solution, there is a stage range for each lake\n",
    "# so double array is necessary\n",
    "stage_range = [[minElev, maxElev]]\n",
    "\n",
    "# lake stage (elevation), volume, and area (3 numbers per line)\n",
    "lak_depth = elevSteps - elevSteps[0]\n",
    "bathtxt = np.column_stack((elevSteps, volArray, saArray))\n",
    "\n",
    "np.savetxt(m.model_ws+'/MF.bath', bathtxt, delimiter = '\\t')\n",
    "\n",
    "\n",
    "## Need to specify flux data\n",
    "# Dict of lists keyed by stress period. The list for each stress period is a list of lists,\n",
    "# with each list containing the variables PRCPLK EVAPLK RNF WTHDRW [SSMN] [SSMX] from the documentation.\n",
    "flux_data = { (j) : {0: [0, et_lake[j-1], 0, 0] } for j in np.arange(time_tr0,nper)}\n",
    "\n",
    "flux_data[0] = {0:[0, et_lake.mean(),0,0]}\n",
    "\n",
    "# flux_data = {0:{0:[0,0,0,0]}}\n",
    "\n",
    "# 1 1000 1E-5 0.02 - taken from mt shasta\n",
    "# filler value for bdlknc until soil map data is loaded by uzf\n",
    "lak = flopy.modflow.ModflowLak(model = m, lakarr = lakarr, bdlknc = bdlknc,  stages=stages, \n",
    "                               stage_range=stage_range, flux_data = flux_data,\n",
    "                               theta = 1, nssitr = 1000, sscncr = 1E-5, surfdepth = 0.02, # take from Shasta model\n",
    "                               tabdata= True, tab_files='MF.bath', tab_units=[57],ipakcb=55)\n",
    "\n",
    "# the lak package doesn't specify the tab file unit number when the files are written\n",
    "# example:      110.0     100.0     170.0   22   Item 3:  STAGES,SSMN,SSMX,IUNITLAKTAB\n",
    "\n",
    "lak.options = ['TABLEINPUT']\n",
    "\n",
    "# # need to reset tabdata as True before writing output for LAK\n",
    "lak.tabdata = True"
   ]
  },
  {
   "cell_type": "code",
   "execution_count": null,
   "id": "64068ea1",
   "metadata": {},
   "outputs": [],
   "source": [
    "# lak.write_file()"
   ]
  },
  {
   "cell_type": "code",
   "execution_count": null,
   "id": "da1cf2d4",
   "metadata": {},
   "outputs": [],
   "source": [
    "# numgage is total number of gages\n",
    "# gage_data (list, or array), includes 2 to 3 entries (LAKE UNIT (OUTTYPE)) for each LAK entry\n",
    "#  4 entries (GAGESEG< GAGERCH, UNIT, OUTTYPE) for each SFR package entry\n",
    "# gage_data = rm_xs[['iseg','reach','unit', 'outtype']].values.tolist()\n",
    "gage_file = ['MF.gage']\n",
    "gag_out_files = ('MF_gage_' + XSg.index.astype(str) +'.go').values.tolist()\n",
    "\n",
    "lak_gage_data = [[-1, -37, 1]]\n",
    "gage_file = ['MF.gage']\n",
    "gag_out_files = ['MF_lak.go']\n",
    "gag = flopy.modflow.ModflowGage(model=m,numgage= 1,gage_data=lak_gage_data, \n",
    "                                filenames =gage_file+gag_out_files)\n"
   ]
  },
  {
   "cell_type": "markdown",
   "id": "de148f5a",
   "metadata": {},
   "source": [
    "# BAS6"
   ]
  },
  {
   "cell_type": "code",
   "execution_count": null,
   "id": "44c87d61",
   "metadata": {},
   "outputs": [],
   "source": [
    "ibound = np.ones((nlay,nrow,ncol))\n",
    "# to maintain gw flow gradient that mimics ground surface slope shanafield used a CHD at up and down stream\n",
    "# ibound[:,:,0] = -1\n",
    "# ibound[:,:,-1] = -1\n",
    "\n",
    "#originally started heads 5 m below stream bottom but gw mound started connection in middle reaches\n",
    "strt = np.zeros(ibound.shape)\n",
    "strt[:] = m.dis.top.array\n",
    "# strt = np.reshape(XSg.z_m_min.values, (nrow,ncol)) - 10 # start heads below the stream bottom\n",
    "#lake cells must be set as inactive\n",
    "\n",
    "ibound[lakarr>0] = 0"
   ]
  },
  {
   "cell_type": "code",
   "execution_count": null,
   "id": "43b4d6e9",
   "metadata": {},
   "outputs": [],
   "source": [
    "# ibound < 0 is constant head\n",
    "# ibound = 0 is inactive cell\n",
    "# ibound > 0 is active cell\n",
    "# strt is array of starting heads\n",
    "# add option: STOPERROR 0.01 to reduce percent error when OWHM stops model\n",
    "# if solver criteria are not met, the model will continue if model percent error is less than stoperror\n",
    "bas = flopy.modflow.ModflowBas(model = m, ibound=ibound, strt = strt, stoper = 2) #"
   ]
  },
  {
   "cell_type": "code",
   "execution_count": null,
   "id": "7fc14412",
   "metadata": {},
   "outputs": [],
   "source": [
    "# bas.write_file()"
   ]
  },
  {
   "cell_type": "markdown",
   "id": "ab5ccae7",
   "metadata": {},
   "source": [
    "# Evapotranspiration\n",
    "Groundwater elevations are too high in the steady state of the model before the inclusion of ET and there are large amounts of GDEs that are drawing groundwater from the shallow system. The ET could be estimated with the diurnal fluctuation method by White or through a standard method such as CIMIS data times crop coefficients.  \n",
    "The previous analysis I did with the White method using diurnal groundwater fluctuations indicated a large gap between GW estimated ET and CIMIS likely because CIMIS ET doesn't directly account for whether the soil has water.  \n",
    "Research during GSP development indicated a maximum of 30 ft for riparian vegetation like valley oaks, but the USDA/LANDIQ maps aren't specific to crops on the floodplains (gives general term of riparian vegetation or wetland). The NAIP imagery used in the GSP might help identify the zones that should have this used.  \n",
    "Model will assume no irrigation unless demonstrated as needed because limited amounts of the preserve are irrigated for corn."
   ]
  },
  {
   "cell_type": "code",
   "execution_count": null,
   "id": "af068ad9",
   "metadata": {},
   "outputs": [],
   "source": [
    "uzf_dir = join(gwfm_dir, 'UZF_data')\n",
    "gde_dir = join(uzf_dir,'shp_GDE_TFT')\n",
    "\n",
    "glob.glob(join(gde_dir,'SA_subbasin_GDE','*shp'))\n",
    "\n",
    "if not exists(join(gde_dir,'gde_domain.shp')):\n",
    "    # large file\n",
    "    GDE_union = gpd.read_file(join(gde_dir,'SA_subbasin_GDE','GDE_union.shp'))\n",
    "    # GDE_union = gpd.read_file(join(gde_dir,'SA_subbasin_GDE','NCAG_vegetation.shp'))\n",
    "    # is it worth differentiating mixed riparian scrub, woodland, forest? for et rates and rooting depths\n",
    "    GDE_domain = gpd.overlay(GDE_union, m_domain.to_crs(GDE_union.crs))\n",
    "    # save file\n",
    "    GDE_domain.to_file(join(gde_dir, 'gde_domain.shp'))\n",
    "else:\n",
    "    GDE_domain = gpd.read_file(join(gde_dir, 'gde_domain.shp'))\n"
   ]
  },
  {
   "cell_type": "code",
   "execution_count": null,
   "id": "3e9080cf",
   "metadata": {},
   "outputs": [],
   "source": [
    "# the visual map combined with field knowledge suggests that it is mapping the location of higher tree density\n",
    "# that occur along the river channel and near certains roads/drainages\n",
    "# it's worth identifying these as zones up to 30 ft (9 m) while leaving the rest up to 6 ft (2 m) which is max depth for \n",
    "# more field type crops\n",
    "GDE_domain.plot('Type',legend=True, legend_kwds={'loc':(1.05,0.4)})"
   ]
  },
  {
   "cell_type": "code",
   "execution_count": null,
   "id": "a1b8c888",
   "metadata": {},
   "outputs": [],
   "source": [
    "if not join(gde_dir,'GDE_cell.shp'):\n",
    "    # spatial join with grid to identify cells with deeper rooting depth\n",
    "    GDE_grid = gpd.sjoin(GDE_domain.to_crs(grid_p.crs), grid_p, how='inner', op='intersects')\n",
    "\n",
    "    GDE_grid['rtg_dp'] = 2 # default rooting depth to 2 meters\n",
    "    # scrub could be an intermediate??\n",
    "    GDE_grid.loc[GDE_grid.Type=='Mixed Riparian Scrub','rtg_dp']=4\n",
    "    # those described as woodland/forest get deeper designation\n",
    "    GDE_grid.loc[GDE_grid.Type=='Mixed Riparian Woodland','rtg_dp']=10\n",
    "    GDE_grid.loc[GDE_grid.Type=='RIPARIAN FOREST','rtg_dp']=10\n",
    "\n",
    "    # slow to compute\n",
    "    GDE_cell = GDE_grid.dissolve(by='node', aggfunc = 'mean')\n",
    "    GDE_cell.to_file(join(gde_dir,'GDE_cell.shp'))\n",
    "else:\n",
    "    GDE_cell = gpd.read_file(join(gde_dir,'GDE_cell.shp'))"
   ]
  },
  {
   "cell_type": "code",
   "execution_count": null,
   "id": "1ece4f3e",
   "metadata": {},
   "outputs": [],
   "source": [
    "# as expected we see much deeper rooting depth in the main area of the preserve\n",
    "# the adjustment up to 4 seems appropriate for scrubland\n",
    "GDE_cell.plot('rtg_dp',legend=True)"
   ]
  },
  {
   "cell_type": "code",
   "execution_count": null,
   "id": "76fe60a7",
   "metadata": {},
   "outputs": [],
   "source": [
    "# convert rooting depth to array format for modflow input\n",
    "ext_dp = np.full((nrow,ncol),2)\n",
    "ext_dp[(GDE_cell.row-1).astype(int), (GDE_cell.column-1).astype(int)] = GDE_cell.rtg_dp"
   ]
  },
  {
   "cell_type": "code",
   "execution_count": null,
   "id": "56d5c81e",
   "metadata": {},
   "outputs": [],
   "source": [
    "# plt.imshow(et_local.sum(axis=0))\n",
    "# plt.colorbar()\n",
    "\n",
    "max_ET = et_local.mean(axis=0).sum()*100*100 # the full water usage from ET could be up to 86,000\n",
    "max_ET_dp = (et_local.mean(axis=0)*(ext_dp>7)).sum()*100*100 # if only looking at ET deeper than \n",
    "print('Max SS ET: %.2f' %max_ET, 'Max SS ET with GW below 7m: %.2f' %max_ET_dp)"
   ]
  },
  {
   "cell_type": "code",
   "execution_count": null,
   "id": "3e8831d9",
   "metadata": {},
   "outputs": [],
   "source": [
    "# remove evapotranspiration in stream cells\n",
    "et_local[:, sfr_rows, sfr_cols] = 0\n",
    "# remove evapotranspiration in stream cells\n",
    "ag_local[:, sfr_rows, sfr_cols] = 0\n",
    "\n",
    "\n",
    "# have transient recharge start after the 1st spd\n",
    "et_spd = { (j): et_local[j-1,:,:] for j in np.arange(time_tr0,nper)}\n",
    "finf_spd = { (j): finf_local[j-1,:,:] for j in np.arange(time_tr0,nper)}"
   ]
  },
  {
   "cell_type": "code",
   "execution_count": null,
   "id": "97f6e2cd",
   "metadata": {},
   "outputs": [],
   "source": [
    "\n",
    "if no_ss == False:\n",
    "    finf_spd[0] = finf_local.mean(axis=0)\n",
    "    et_spd[0] = et_local.mean(axis=0)\n",
    "    \n",
    "# still need to consider additional recharge due to flooding"
   ]
  },
  {
   "cell_type": "code",
   "execution_count": null,
   "id": "d18ff4c3",
   "metadata": {},
   "outputs": [],
   "source": [
    "# can use the RCH + EVT packages to almost replace UZF minus the soil budget calculation, but\n",
    "# at Oneto-Denier much of the interaction is near the water surface so perhaps valid? adjust if too much recharge\n",
    "\n",
    "# surf : et surface elevation. evtr: maximum ET flux\n",
    "# exdp: extinction depth. ievt : layer indicator variable\n",
    "evt = flopy.modflow.ModflowEvt(model=m, nevtop = 3, evtr = et_spd, exdp = ext_dp, ievt = 0, \n",
    "                               surf = m.dis.top.array, ipakcb = 55)\n",
    "\n"
   ]
  },
  {
   "cell_type": "code",
   "execution_count": null,
   "id": "6ae27390",
   "metadata": {},
   "outputs": [],
   "source": [
    "# evt.write_file()\n"
   ]
  },
  {
   "cell_type": "code",
   "execution_count": null,
   "id": "723a0888",
   "metadata": {},
   "outputs": [],
   "source": [
    "# nrchtop : rch to which layer, rech:array of recharge rates\n",
    "# rch = flopy.modflow.ModflowRch(model=m, nrchop = 3, rech = finf_spd, ipakcb = 55)\n",
    "# rch.write_file()"
   ]
  },
  {
   "cell_type": "code",
   "execution_count": null,
   "id": "3fbf2de1",
   "metadata": {},
   "outputs": [],
   "source": [
    "# recharge to top active layer (nuztop=3), iuzfopt=0=no rch routing,\n",
    "# irunflg =0=no runoff routing, ietflg=1=et is active\n",
    "# uzf = flopy.modflow.ModflowUzf1(model = m, nuztop = 3, iuzfopt=0, irunflg = 0, ietflg = 1,\n",
    "#                          ipakcb=65)\n",
    "# # defin the hydrologic inputs\n",
    "# uzf.finf = finf_spd\n",
    "# uzf.pet = et_spd\n",
    "# uzf.extdp = ext_dp\n",
    "# extwc\n",
    "# uzf.write_file()\n",
    "# before adding UZF runs were around 3 minutes"
   ]
  },
  {
   "cell_type": "markdown",
   "id": "aa1054da",
   "metadata": {},
   "source": [
    "# WEL\n",
    "Pumping to bring summer levels down.\n"
   ]
  },
  {
   "cell_type": "code",
   "execution_count": null,
   "id": "3dba7f5b",
   "metadata": {},
   "outputs": [],
   "source": [
    "ET_ag = np.copy(ag_local)\n",
    "if no_ss ==False:\n",
    "    ET_ag_SS = np.reshape(ET_ag.mean(axis=0),(1, nrow,ncol))\n",
    "    ET_ag = np.concatenate((ET_ag_SS, ET_ag), axis=0)\n",
    "print(ET_ag[0].sum())\n",
    "# remove pumping where it is considered GDE, reduced SS by almost 1/2 (5.7 to 3.6)\n",
    "ET_ag[:, (GDE_cell.row-1).astype(int), (GDE_cell.column-1).astype(int)] = 0\n",
    "print(ET_ag[0].sum())\n",
    "# remove pumping where it is known restoration (floodplain), doesn't remove much (3.65 to 3.61)\n",
    "ET_ag[:, lakarr[0] >0] = 0\n",
    "print(ET_ag[0].sum())\n",
    "# since there would likely still be too much pumping maybe it's an issue with pumping next to the boundary and\n",
    "# some landowners might use surface water supply?"
   ]
  },
  {
   "cell_type": "code",
   "execution_count": null,
   "id": "e05105f9",
   "metadata": {},
   "outputs": [],
   "source": [
    "# plt.imshow(ET_ag[7*30:].sum(axis=0))\n",
    "# plt.colorbar()\n",
    "# np.unique(gel.ss.array)*8"
   ]
  },
  {
   "cell_type": "code",
   "execution_count": null,
   "id": "f098f268",
   "metadata": {},
   "outputs": [],
   "source": [
    "# fig, ax = plt.subplots()\n",
    "# GDE_cell.plot(color='none', ax=ax)\n",
    "# ctx.add_basemap(ax=ax, source = ctx.providers.Esri.WorldImagery, attribution=False, attribution_size=6,\n",
    "#                 crs = 'epsg:26910', alpha=0.8)"
   ]
  },
  {
   "cell_type": "code",
   "execution_count": null,
   "id": "72aa0987",
   "metadata": {},
   "outputs": [],
   "source": [
    "wells_grid = pd.read_csv(gwfm_dir+'/WEL_data/wells_grid.csv')\n",
    "wells_grid = gpd.GeoDataFrame(wells_grid, geometry = gpd.points_from_xy(wells_grid.easting, wells_grid.northing),\n",
    "                              crs='epsg:32610')\n",
    "# filter to local grid area\n",
    "wells_grid = wells_grid.drop(columns=['node','row','column']).sjoin(grid_p)"
   ]
  },
  {
   "cell_type": "code",
   "execution_count": null,
   "id": "fc2ec756",
   "metadata": {},
   "outputs": [],
   "source": [
    "reg_ag_well_depth_arr = np.loadtxt(gwfm_dir+'/WEL_data/ag_well_depth_arr.tsv', delimiter='\\t')\n",
    "ag_well_depth_arr = np.zeros((nrow,ncol))\n",
    "ag_well_depth_arr[grid_match.row-1, grid_match.column-1] = reg_ag_well_depth_arr[grid_match.p_row-1, grid_match.p_column-1]\n"
   ]
  },
  {
   "cell_type": "code",
   "execution_count": null,
   "id": "f3fde9f1",
   "metadata": {},
   "outputs": [],
   "source": [
    "ag_screen_botm = np.where(dem_data-ag_well_depth_arr<botm)\n",
    "ag_screen_botm = np.rot90(ag_screen_botm)\n",
    "ag_screen_botm = pd.DataFrame(ag_screen_botm, columns=['layer','row','column'])\n",
    "ag_max_lay = ag_screen_botm.groupby(['row','column']).max()\n",
    "# any wells below most bottom go in bottom layer\n",
    "ag_max_lay.layer[ag_max_lay.layer == nlay] = nlay-1\n",
    "\n",
    "# assume 10% of well is screened? Pauloo? tprogs lay thickness is 4m, so 12ft, not quite enough for typical well?\n",
    "# if we go two layers we have 8 m which is near the average expected well screen\n",
    "ag_screen_top = np.where((dem_data-ag_well_depth_arr*0.9)<botm)\n",
    "ag_screen_top = np.rot90(ag_screen_top)\n",
    "ag_screen_top = pd.DataFrame(ag_screen_top, columns=['layer','row','column'])\n",
    "ag_min_lay = ag_screen_top.groupby(['row','column']).max()\n",
    "ag_min_lay.layer[ag_min_lay.layer == nlay] = nlay-1\n"
   ]
  },
  {
   "cell_type": "code",
   "execution_count": null,
   "id": "528dbd30",
   "metadata": {},
   "outputs": [],
   "source": [
    "# iterate over all row, col and get layers for each well based on \"screen\" \n",
    "ag_well_lay = np.zeros((1,3))\n",
    "for i,j in zip(ag_min_lay.reset_index().row,ag_min_lay.reset_index().column):\n",
    "    lays = np.arange(ag_min_lay.layer.loc[i,j],ag_max_lay.layer.loc[i,j]+1)\n",
    "    ijk = np.rot90(np.vstack((np.tile(i,len(lays)), np.tile(j,len(lays)),lays)))\n",
    "    ag_well_lay = np.vstack((ag_well_lay,ijk))\n",
    "# delete filler first row\n",
    "ag_well_lay = ag_well_lay[1:]\n",
    "ag_well_lay = pd.DataFrame(ag_well_lay.astype(int), columns=['row','column','layer'])"
   ]
  },
  {
   "cell_type": "code",
   "execution_count": null,
   "id": "638ec84e",
   "metadata": {},
   "outputs": [],
   "source": [
    "num_ag_layers = (ag_max_lay - ag_min_lay+1).reset_index()\n",
    "# divide ET_ag by the number of layers it will go into\n",
    "ET_ag_layered = np.copy(ET_ag)\n",
    "ET_ag_layered[:,num_ag_layers.row,num_ag_layers.column] /= num_ag_layers.layer.values\n",
    "# adjustments to allow connection with rows,cols with pumping\n",
    "row_col = ag_well_lay.loc[:,['row','column']].rename({'row':'rowi','column':'colj'},axis=1)\n",
    "ag_well_lay = ag_well_lay.set_index(['row','column'])\n",
    "ag_well_lay['rowi'] = row_col.rowi.values\n",
    "ag_well_lay['colj'] = row_col.colj.values"
   ]
  },
  {
   "cell_type": "code",
   "execution_count": null,
   "id": "1515cd96",
   "metadata": {},
   "outputs": [],
   "source": [
    "# layer for ETc ag well pumping\n",
    "# ETc_lay = 1\n",
    "# create empty dictionary to fill with stress period data\n",
    "wel_ETc_dict = {}\n",
    "# end date is not included as a stress period, starting at 1st TR spd (2)\n",
    "for t in np.arange(0,nper):\n",
    "    wel_i, wel_j = np.where(ET_ag[t,:,:]>0)\n",
    "    new_xyz = ag_well_lay.loc[list(zip(wel_i,wel_j))] \n",
    "# use new row,cols because there are more layers to use\n",
    "    wel_ETc = -ET_ag_layered[t,new_xyz.rowi,new_xyz.colj]*delr*delr\n",
    "    # ['layer','row','column', 'flux'] are necessary for WEL package\n",
    "    spd_ag = np.stack((new_xyz.layer, new_xyz.rowi, new_xyz.colj,wel_ETc),axis=1)\n",
    "    # correct by dropping any rows or cols without pumping as some may be added\n",
    "    spd_ag = spd_ag[spd_ag[:,-1]!=0,:]\n",
    "    # join pumping from ag with point pumping from domstic/supply wells that are constant\n",
    "#     spd_all = np.vstack((spd_ag,spd_noag)) \n",
    "    spd_all = np.copy(spd_ag)\n",
    "    wel_ETc_dict[t] = spd_all"
   ]
  },
  {
   "cell_type": "code",
   "execution_count": null,
   "id": "41e45146",
   "metadata": {},
   "outputs": [],
   "source": [
    "# Create well flopy object\n",
    "wel = flopy.modflow.ModflowWel(m, stress_period_data=wel_ETc_dict,ipakcb=55)"
   ]
  },
  {
   "cell_type": "code",
   "execution_count": null,
   "id": "8c70df92",
   "metadata": {},
   "outputs": [],
   "source": [
    "# wel.write_file()"
   ]
  },
  {
   "cell_type": "markdown",
   "id": "b4d9a896",
   "metadata": {},
   "source": [
    "# GHB\n",
    "\n",
    "We have a fairly shallow groundwater level so the interpolated levels can be inserted here. \n",
    "\n",
    "The whole LGR process is beyond the complexity here as we don't need the local model feeding results back to a regional scale, we just need to know the regional model output on a local scale so as a starting point I'm using kriged levels. (There is a way to do this with LGR but would require reworking SFR etc.)"
   ]
  },
  {
   "cell_type": "code",
   "execution_count": null,
   "id": "d0d03d92",
   "metadata": {},
   "outputs": [],
   "source": []
  },
  {
   "cell_type": "code",
   "execution_count": null,
   "id": "5b84c923",
   "metadata": {},
   "outputs": [],
   "source": [
    "# raster cropping will be done in outside script so the only part read in will be the final array\n",
    "ghb_dir = gwfm_dir+'/GHB_data'"
   ]
  },
  {
   "cell_type": "code",
   "execution_count": null,
   "id": "5740196d",
   "metadata": {},
   "outputs": [],
   "source": [
    "nrow_r, ncol_r = (100,230)\n",
    "strtyear = strt_date.year\n",
    "endyear = end_date.year+1\n",
    "kriged_fall = np.zeros((int(endyear-strtyear),nrow_r,ncol_r))\n",
    "kriged_spring = np.zeros((int(endyear-strtyear),nrow_r,ncol_r))\n",
    "\n",
    "kriged_NW = np.zeros((int(endyear-strtyear)*2,ncol_r))\n",
    "kriged_SE = np.zeros((int(endyear-strtyear)*2,ncol_r))\n",
    "# keep track of which place in array matches to year\n",
    "year_to_int = np.zeros((endyear-strtyear,2))\n",
    "\n",
    "t=0\n",
    "for year in np.arange(strtyear,endyear):\n",
    "    \n",
    "    # load and place spring kriged data in np array, load spring first\n",
    "    filename = glob.glob(ghb_dir+'/final_WSEL_arrays/spring'+str(year)+'_kriged_WSEL.tsv')[0]\n",
    "    df_grid = np.loadtxt(filename)\n",
    "    kriged_spring[t,:,:] = df_grid\n",
    "    \n",
    "    # load and place fall kriged data in np array\n",
    "    filename = glob.glob(ghb_dir+'/final_WSEL_arrays/fall'+str(year)+'_kriged_WSEL.tsv')[0]\n",
    "    df_grid = np.loadtxt(filename)\n",
    "    kriged_fall[t,:,:] = df_grid\n",
    "\n",
    "    year_to_int[t,0] = t\n",
    "    year_to_int[t,1] = year\n",
    "    t+=1\n",
    "    "
   ]
  },
  {
   "cell_type": "code",
   "execution_count": null,
   "id": "a7bebeb5",
   "metadata": {},
   "outputs": [],
   "source": [
    "# convert from\n",
    "kriged_fall_c = np.zeros((kriged_fall.shape[0], nrow,ncol))\n",
    "kriged_fall_c[:, grid_match.row-1,grid_match.column-1] = kriged_fall[:, grid_match.p_row-1,grid_match.p_column-1]\n",
    "\n",
    "kriged_spring_c = np.zeros((kriged_spring.shape[0], nrow,ncol))\n",
    "kriged_spring_c[:, grid_match.row-1,grid_match.column-1] = kriged_spring[:, grid_match.p_row-1,grid_match.p_column-1]"
   ]
  },
  {
   "cell_type": "code",
   "execution_count": null,
   "id": "7f000e78",
   "metadata": {},
   "outputs": [],
   "source": [
    "## NW is row 0, SE is last row\n",
    "kriged_NW = np.vstack((kriged_spring_c[:,0,:],kriged_fall_c[:,0,:]))\n",
    "kriged_SE = np.vstack((kriged_spring_c[:,nrow-1,:],kriged_fall_c[:,nrow-1,:] ))\n",
    "    "
   ]
  },
  {
   "cell_type": "code",
   "execution_count": null,
   "id": "227f0fe0",
   "metadata": {},
   "outputs": [],
   "source": [
    "y_num=0\n",
    "\n",
    "# nwhead_fall = kriged_fall[:,0,:]\n",
    "# sehead_fall = kriged_fall[:,-1,:]\n",
    "\n",
    "\n",
    "# Set kriged water table elevations that are above land surface to land surface minus 15 ft (based on historical levels)\n",
    "# nwhead_fall = np.where(nwhead_fall>dem_data[0,:], dem_data[0,:] - 15*0.3048, nwhead_fall)\n",
    "# sehead_fall = np.where(sehead_fall>dem_data[-1,:], dem_data[-1,:]- 15*0.3048, sehead_fall)\n",
    "dem_offset = 15*0.3048\n",
    "# dem_offset = 0\n",
    "\n",
    "kriged_NW = np.where(kriged_NW>dem_data[0,:], dem_data[0,:]- dem_offset, kriged_NW)\n",
    "kriged_SE = np.where(kriged_SE>dem_data[-1,:], dem_data[-1,:]- dem_offset, kriged_SE)\n",
    "\n",
    "# calculate the average depth to water table for the spring and from 2013-2018 for the northwest and southeast boundary\n",
    "avg_nw = np.nanmean(kriged_NW,axis=0)\n",
    "avg_se = np.nanmean(kriged_SE,axis=0)"
   ]
  },
  {
   "cell_type": "code",
   "execution_count": null,
   "id": "b23b9f71",
   "metadata": {},
   "outputs": [],
   "source": [
    "# join top and botm for easier array referencing for elevations\n",
    "top_botm = np.zeros((m.dis.nlay+1,m.dis.nrow,m.dis.ncol))\n",
    "top_botm[0,:,:] = m.dis.top.array\n",
    "top_botm[1:,:,:] = m.dis.botm.array\n"
   ]
  },
  {
   "cell_type": "code",
   "execution_count": null,
   "id": "1ca76773",
   "metadata": {},
   "outputs": [],
   "source": [
    "def get_layer_from_elev(elev, botm_slice, nlay):\n",
    "    \"\"\"  Return uppermost model layer occupied at least partly by some elevation data\n",
    "    Parameters\n",
    "    ----------\n",
    "    elev: 1D array (n) with elevations matching model elevation units\n",
    "    botm: 2D array (nlay, n) with layer elevations of model using same x,y locations at elev1D\n",
    "    \"\"\"\n",
    "    elev_lay = np.zeros(len(elev))\n",
    "    for k in np.arange(0,nlay-1):\n",
    "        for j in np.arange(0,len(elev)):\n",
    "            if botm_slice[k,j] > elev[j]:\n",
    "                elev_lay[j] = k + 1\n",
    "#             if botm_slice[k,j] < elev[j]:\n",
    "#                 elev_lay[j] = k \n",
    "    return(elev_lay.astype(int))\n",
    "                \n",
    "nw_lay = get_layer_from_elev(avg_nw, botm[:,0,:], m.dis.nlay)\n",
    "se_lay = get_layer_from_elev(avg_se, botm[:,-1,:], m.dis.nlay)"
   ]
  },
  {
   "cell_type": "code",
   "execution_count": null,
   "id": "61539df8",
   "metadata": {},
   "outputs": [],
   "source": [
    "# ghb_hk_nw = scaling_factors.K_nw\n",
    "# ghb_hk_se = scaling_factors.K_se\n",
    "\n",
    "distance = 5000\n",
    "t0 = time.time()\n",
    "\n",
    "col_strt=1\n",
    "\n",
    "ghbnw_spd = pd.DataFrame(np.zeros((np.sum(nlay-nw_lay[col_strt:]),5)))\n",
    "ghbnw_spd.columns = ['k','i','j','bhead','cond']\n",
    "# start 1 column in to avoid conflict with delta boundary\n",
    "\n",
    "# get all of the j,k indices to reduce math done in the for loop\n",
    "yz = np.zeros((np.sum(nlay-nw_lay[col_strt:]),2)).astype(int)\n",
    "n=0\n",
    "for j in np.arange(col_strt,ncol):\n",
    "    for k in np.arange(nw_lay[j], nlay):\n",
    "        yz[n,0] = j\n",
    "        yz[n,1] = k\n",
    "        n+=1\n",
    "        \n",
    "condnw = hk[yz[:,1],0,yz[:,0]]*(top_botm[yz[:,1],0,yz[:,0]]-top_botm[yz[:,1]+1,0,yz[:,0]])*delr/distance\n",
    "# condnw = ghb_hk_nw*(top_botm[yz[:,1],0,yz[:,0]]-top_botm[yz[:,1]+1,0,yz[:,0]])*delr/distance\n",
    "\n",
    "ghbnw_spd.cond = condnw\n",
    "ghbnw_spd.bhead = avg_nw[yz[:,0]]\n",
    "ghbnw_spd.k = yz[:,1]\n",
    "ghbnw_spd.j = yz[:,0]\n",
    "ghbnw_spd.i = 0\n",
    "\n",
    "ghbse_spd = pd.DataFrame(np.zeros((np.sum(nlay-se_lay[col_strt:]),5)))\n",
    "ghbse_spd.columns = ['k','i','j','bhead','cond']\n",
    "\n",
    "# get all of the j,k indices to reduce math done in the for loop\n",
    "yz = np.zeros((np.sum(nlay-se_lay[col_strt:]),2)).astype(int)\n",
    "n=0\n",
    "for j in np.arange(col_strt,ncol):\n",
    "    for k in np.arange(se_lay[j], nlay):\n",
    "        yz[n,0] = j\n",
    "        yz[n,1] = k\n",
    "        n+=1\n",
    "condse = hk[yz[:,1],int(nrow-1),yz[:,0]]*(top_botm[yz[:,1],-1,yz[:,0]]-top_botm[yz[:,1]+1,-1,yz[:,0]])*delr/distance\n",
    "# condse = ghb_hk_se*(top_botm[yz[:,1],-1,yz[:,0]]-top_botm[yz[:,1]+1,-1,yz[:,0]])*delr/distance\n",
    "\n",
    "ghbse_spd.cond = condse\n",
    "ghbse_spd.bhead = avg_se[yz[:,0]]\n",
    "ghbse_spd.k = yz[:,1]\n",
    "ghbse_spd.j = yz[:,0]\n",
    "ghbse_spd.i = nrow-1\n",
    "        \n",
    "resample_time = time.time() - t0\n",
    "print(\"GHB time: {:.3f} sec\".format(time.time() - t0))"
   ]
  },
  {
   "cell_type": "code",
   "execution_count": null,
   "id": "23733aa5",
   "metadata": {},
   "outputs": [],
   "source": [
    "distance = 5000\n",
    "# Fine sand\t2×10-7 to 2×10-4 m/s\n",
    "# Silt, loess\t1×10-9 to 2×10-5 m/s\n",
    "# delta soils have some sand mixed in\n",
    "delta_hk = (2E-4) *86400\n",
    "\n",
    "ghbdelta_spd = pd.DataFrame(np.zeros(((nlay*nrow),5)))\n",
    "ghbdelta_spd.columns = ['k','i','j','bhead','cond']\n",
    "\n",
    "# get all of the j,k indices to reduce math done in the for loop\n",
    "xz = np.zeros((nlay*nrow,2)).astype(int)\n",
    "n=0\n",
    "for i in np.arange(0,nrow):\n",
    "    for k in np.arange(0, nlay):\n",
    "        xz[n,0] = i\n",
    "        xz[n,1] = k\n",
    "        n+=1\n",
    "cond = delta_hk*(top_botm[xz[:,1],:,0]-top_botm[xz[:,1]+1,:,0])*delr/distance\n",
    "ghbdelta_spd.cond = cond\n",
    "ghbdelta_spd.bhead = 0\n",
    "ghbdelta_spd.k = xz[:,1]\n",
    "ghbdelta_spd.j = 0\n",
    "ghbdelta_spd.i = xz[:,0]"
   ]
  },
  {
   "cell_type": "code",
   "execution_count": null,
   "id": "a1885bf5",
   "metadata": {},
   "outputs": [],
   "source": [
    "# lay, row, col for delta ghb\n",
    "zxy = ghbdelta_spd.values[:,:3].astype(int)\n",
    "# drop any delta ghb cells where cell bottom is below sea level\n",
    "ghbdn_spd =  ghbdelta_spd.values[botm[zxy[:,0],zxy[:,1],zxy[:,2]]<0]\n",
    "# join dataframes of 3 ghb boundaries together\n",
    "ghb_spd = np.vstack((ghbdn_spd, ghbse_spd.values, ghbnw_spd.values))\n"
   ]
  },
  {
   "cell_type": "code",
   "execution_count": null,
   "id": "8440abdf",
   "metadata": {},
   "outputs": [],
   "source": [
    "\n",
    "# GHB for east and west model boundaries\n",
    "ghb = flopy.modflow.ModflowGhb(model=m, stress_period_data =  {0: ghb_spd},ipakcb=55)\n",
    "# GHB for only Delta, west side of model\n",
    "# ghb.stress_period_data =  {0: ghbdn_spd}"
   ]
  },
  {
   "cell_type": "code",
   "execution_count": null,
   "id": "18eef312",
   "metadata": {},
   "outputs": [],
   "source": [
    "# flopy writes an error when a GHB cell head is below a cell elevation which is good to consider\n",
    "# but necessary to allow some outflow\n",
    "# owhm also warns when this occurs stating it may cause convergence problems\n",
    "# ghb.write_file()\n",
    "# ghb.check()"
   ]
  },
  {
   "cell_type": "markdown",
   "id": "084def0a",
   "metadata": {},
   "source": [
    "# HOB"
   ]
  },
  {
   "cell_type": "code",
   "execution_count": null,
   "id": "606ce28e",
   "metadata": {},
   "outputs": [],
   "source": []
  },
  {
   "cell_type": "code",
   "execution_count": null,
   "id": "4829595e",
   "metadata": {},
   "outputs": [],
   "source": [
    "# spatial join with child grid\n",
    "rm_grid = gpd.sjoin(rm_t, grid_p)\n"
   ]
  },
  {
   "cell_type": "code",
   "execution_count": null,
   "id": "ad11a03c",
   "metadata": {},
   "outputs": [],
   "source": [
    "# get model layer for heads\n",
    "hob_row = rm_grid.row.values-1\n",
    "hob_col = rm_grid.column.values-1\n",
    "\n",
    "avg_screen = rm_grid[['top_screen_m','bot_screen_m']].mean(axis=1).values\n",
    "rm_grid['lay'] = get_layer_from_elev(avg_screen, m.dis.botm[:,hob_row, hob_col], m.dis.nlay)\n"
   ]
  },
  {
   "cell_type": "code",
   "execution_count": null,
   "id": "af631fc4",
   "metadata": {},
   "outputs": [],
   "source": [
    "proj_dir"
   ]
  },
  {
   "cell_type": "code",
   "execution_count": null,
   "id": "791c0bc5",
   "metadata": {},
   "outputs": [],
   "source": [
    "# rm_grid.drop(columns=['geometry'])\n",
    "rm_grid.to_csv(join(proj_dir, 'mw_hob_cleaned.csv'), index=False)"
   ]
  },
  {
   "cell_type": "code",
   "execution_count": null,
   "id": "a45bc97e",
   "metadata": {},
   "outputs": [],
   "source": [
    "# load field data\n",
    "gwl = pd.read_csv(join(hob_dir,'AllSets.csv'), parse_dates=['dt'], index_col=['dt'], dtype=object)\n",
    "gwl.index = gwl.index.tz_localize(None)\n",
    "gwl = gwl.apply(lambda x: pd.to_numeric(x, errors='coerce'))\n",
    "# filter for wells within the grid\n",
    "gwl = gwl.loc[:,gwl.columns.isin(rm_t.Sensor.values)]\n",
    "# filter for dates within the period\n",
    "gwl = gwl.loc[strt_date:end_date]\n",
    "\n",
    "# taking daily average only changes maximum/minimum values by 0.01-0.3\n",
    "# np.max(np.abs(gwl.resample('D').mean().min()- gwl.min())), np.max(np.abs(gwl.resample('D').mean().max()- gwl.max()))\n",
    "gwl_D = gwl.resample('D').mean()\n",
    "\n",
    "# long format to prepare for identifier\n",
    "gwl_long = gwl_D.melt(ignore_index=False, var_name='Well',value_name='obs')\n",
    "# drop NAs\n",
    "gwl_long = gwl_long.dropna(subset=['obs'])\n",
    "# # get spd corresponding to dates\n",
    "gwl_long['spd'] = (gwl_long.index-strt_date).days.values + time_tr0\n",
    "# create unique obs name for each obs based on spd\n",
    "gwl_long['obs_nam'] = gwl_long.Well +'p'+ gwl_long.spd.astype(str).str.zfill(3)"
   ]
  },
  {
   "cell_type": "code",
   "execution_count": null,
   "id": "d76142ca",
   "metadata": {},
   "outputs": [],
   "source": [
    "# calculate offset from the centroid\n",
    "hob_centroids = grid_p.set_index(['row','column']).loc[list(zip(rm_grid.row, rm_grid.column))].geometry.centroid.values\n",
    "rm_grid['coff'] = hob_centroids.x - rm_grid.geometry.x \n",
    "rm_grid['roff'] = hob_centroids.y - rm_grid.geometry.y \n"
   ]
  },
  {
   "cell_type": "code",
   "execution_count": null,
   "id": "b1f11e29",
   "metadata": {},
   "outputs": [],
   "source": [
    "# create a new hob object\n",
    "obs_data = []\n",
    "hob_wells = rm_grid.Sensor[rm_grid.Sensor.isin(gwl_long.Well.unique())]\n",
    "for i, s in enumerate(hob_wells): # for each well location\n",
    "    # get stress period data and water surface elevation for well\n",
    "    site = rm_grid.set_index('Sensor').loc[s]\n",
    "    row = site.row - 1\n",
    "    col = site.column - 1\n",
    "    layer = site.lay\n",
    "    roff = site.roff # row (y), col (x) offset from center of cell\n",
    "    coff = site.coff\n",
    "    names = gwl_long[gwl_long.Well==s].obs_nam.tolist()\n",
    "    obsname = s\n",
    "        \n",
    "    tsd = gwl_long[gwl_long.Well==s][['spd','obs']].values\n",
    "    # need to minus 1 for grid_p which is 1 based\n",
    "    temp = flopy.modflow.HeadObservation(m, layer=layer, row=row, \n",
    "                                                  column=col,\n",
    "                                                  time_series_data=tsd,\n",
    "                                                  obsname=obsname, names = names)\n",
    "    # correct time offset from stress period to be 0\n",
    "    temp.time_series_data['toffset'] = 0\n",
    "    obs_data.append(temp)\n"
   ]
  },
  {
   "cell_type": "code",
   "execution_count": null,
   "id": "a77832af",
   "metadata": {},
   "outputs": [],
   "source": [
    "hob = flopy.modflow.ModflowHob(m, iuhobsv=50, hobdry=-9999., obs_data=obs_data, unitnumber = 39,\n",
    "                              hobname = 'MF.hob.out')"
   ]
  },
  {
   "cell_type": "code",
   "execution_count": null,
   "id": "76d5cfa1",
   "metadata": {},
   "outputs": [],
   "source": [
    "# hob.write_file()"
   ]
  },
  {
   "cell_type": "markdown",
   "id": "dfb034bc",
   "metadata": {},
   "source": [
    "# Output Control\n",
    "For modpath need to specify comact budget\n",
    "I also may need to print the budget and head for every timestep"
   ]
  },
  {
   "cell_type": "code",
   "execution_count": 62,
   "id": "94c7e958",
   "metadata": {},
   "outputs": [],
   "source": [
    "# get ALL stress periods and time steps list, not just those in the output\n",
    "kstpkper = []\n",
    "for n,stps in enumerate(m.dis.nstp.array):\n",
    "    kstpkper += list(zip(np.arange(0,stps),np.full(stps,n)))\n"
   ]
  },
  {
   "cell_type": "code",
   "execution_count": 64,
   "id": "ace306f6",
   "metadata": {},
   "outputs": [],
   "source": [
    "# Output control\n",
    "# default unit number for heads is 51, cell by cell is 53 and drawdown is 52\n",
    "# (0,0) is (stress period, time step)\n",
    "\n",
    "# get the first of each month to print the budget\n",
    "month_intervals = (pd.date_range(strt_date,end_date, freq=\"MS\")-strt_date).days\n",
    "spd = {}\n",
    "# output file for parallel runs when head/cbc is not needed\n",
    "for j in month_intervals:\n",
    "    spd[j,0] = ['print budget']\n",
    "oc = flopy.modflow.ModflowOc(model = m, stress_period_data = spd, compact = True, filenames='MF_parallel.oc')\n",
    "oc.write_file()\n",
    "\n",
    "\n",
    "# For later model runs when all the data is needed to be saved\n",
    "spd = {}\n",
    "# spd = { (j,0): ['save head', 'save budget'] for j in np.arange(0,nper,1)}\n",
    "spd = { j: ['save head', 'save budget'] for j in kstpkper}\n",
    "\n",
    "for j in month_intervals:\n",
    "    spd[j,0] = ['save head', 'save budget','print budget']\n",
    "    \n",
    "oc = flopy.modflow.ModflowOc(model = m, stress_period_data = spd, compact = True)"
   ]
  },
  {
   "cell_type": "code",
   "execution_count": 66,
   "id": "8731c010",
   "metadata": {},
   "outputs": [],
   "source": [
    "# oc.write_file()"
   ]
  },
  {
   "cell_type": "markdown",
   "id": "38404d45",
   "metadata": {},
   "source": [
    "# Solver"
   ]
  },
  {
   "cell_type": "code",
   "execution_count": 217,
   "id": "b90b7cda",
   "metadata": {},
   "outputs": [],
   "source": [
    "nwt = flopy.modflow.ModflowNwt(model = m, headtol=1E-4, fluxtol=500, maxiterout=200, thickfact=1e-05, \n",
    "                               linmeth=1, iprnwt=1, ibotav=0, options='Specified', Continue=True)\n",
    "nwt_dict = nwt.__dict__\n",
    "\n",
    "# load in parameters used by margaret shanafield for DFW\n",
    "nwt_ex = pd.read_csv(gwfm_dir+'/Solvers/nwt_solver_input_from_dfw.csv', comment='#')\n",
    "nwt_ex['nwt_vars'] = nwt_ex.NWT_setting.str.lower()\n",
    "nwt_ex = nwt_ex.set_index('nwt_vars')\n",
    "nwt_ex = nwt_ex.dropna(axis=1, how='all')\n",
    "# nwt_ex.select_dtypes([float, int])\n",
    "\n",
    "for v in nwt_ex.index.values:\n",
    "    nwt_dict[v] = nwt_ex.loc[v,'Second'].astype(nwt_ex.loc[v,'nwt_dtype'])\n",
    "    \n",
    "# correct fluxtol for model units of m3/day instead of m3/second\n",
    "nwt_dict['fluxtol'] = 500 \n",
    "    # update NWT sovler parameters\n",
    "nwt.__dict__ = nwt_dict\n",
    "\n",
    "nwt.write_file()"
   ]
  },
  {
   "cell_type": "code",
   "execution_count": null,
   "id": "254c8ee9",
   "metadata": {},
   "outputs": [],
   "source": [
    "# m.write_name_file()"
   ]
  },
  {
   "cell_type": "markdown",
   "id": "97184dfd",
   "metadata": {},
   "source": [
    "# Write input"
   ]
  },
  {
   "cell_type": "code",
   "execution_count": 126,
   "id": "22a278ff",
   "metadata": {},
   "outputs": [],
   "source": [
    "# Writing the MODFLOW data files\n",
    "m.write_input()\n"
   ]
  },
  {
   "cell_type": "markdown",
   "id": "355a6add",
   "metadata": {},
   "source": [
    "#"
   ]
  }
 ],
 "metadata": {
  "kernelspec": {
   "display_name": "Python 3 (ipykernel)",
   "language": "python",
   "name": "python3"
  },
  "language_info": {
   "codemirror_mode": {
    "name": "ipython",
    "version": 3
   },
   "file_extension": ".py",
   "mimetype": "text/x-python",
   "name": "python",
   "nbconvert_exporter": "python",
   "pygments_lexer": "ipython3",
   "version": "3.11.0"
  }
 },
 "nbformat": 4,
 "nbformat_minor": 5
}
