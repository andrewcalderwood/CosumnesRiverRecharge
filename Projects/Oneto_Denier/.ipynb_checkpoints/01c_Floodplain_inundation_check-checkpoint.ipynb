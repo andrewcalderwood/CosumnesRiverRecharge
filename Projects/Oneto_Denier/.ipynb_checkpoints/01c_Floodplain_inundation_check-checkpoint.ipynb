{
 "cells": [
  {
   "cell_type": "markdown",
   "id": "8d1838c2-0630-4870-b730-63eee1f66754",
   "metadata": {},
   "source": [
    "The goal of this code was to identify the flows at which the floodplain inundates pre- and post-restoration to confirm what Alison Whipple showed. In general it seems like around a few thousand cfs that we get inundation of the floodplain pre-restoration but the lack of distributed data makes it difficult to be certain on the water source. Post-restoration it seems like the flow threshold may not have been reduced as much as we supposed.  \n",
    "- this suggests that to provide a more reliable assumption we should run the simulation at a third or fourth flow (e.g., 50 cms)\n",
    "- this might also mean it could be helpful to look at the elevation data from cross-sections. The interesting piece might be given the 23, 50, 109 cms flows what height of flood makes that approximately so what heigh can go over the bank.\n",
    "- Ultimately this should just be mentioned as a short-coming of the paper that it is not using a 2D hydrodynamic model to estimate when the floodplain is activated.\n",
    "\n",
    "The peak flow I was using (109 cms) was identified by Alison Whipple as the only flood event with significant inundation but she specified the peak average flow (71.6 cms). It likely is better to switch to the 71.5 and cite the Whipple paper rather than rely on other anecdotal information"
   ]
  },
  {
   "cell_type": "code",
   "execution_count": null,
   "id": "97426904",
   "metadata": {},
   "outputs": [],
   "source": [
    "# standard python utilities\n",
    "import os\n",
    "from os.path import join, basename,dirname,exists, expanduser\n",
    "import sys\n",
    "import glob\n",
    "\n",
    "import pandas as pd\n",
    "import numpy as np\n",
    "import geopandas as gpd\n",
    "\n",
    "# standard python plotting utilities\n",
    "import matplotlib as mpl\n",
    "import matplotlib.pyplot as plt\n"
   ]
  },
  {
   "cell_type": "code",
   "execution_count": null,
   "id": "38b7fce0",
   "metadata": {},
   "outputs": [],
   "source": [
    "usr_dir = expanduser('~')\n",
    "git_dir = join(usr_dir,'Documents','GitHub')\n",
    "py_dir = git_dir +'/CosumnesRiverRecharge/python_utilities/'\n",
    "## Set up directory referencing\n",
    "# Package data\n",
    "gwfm_dir = join(usr_dir,'Box/research_cosumnes/GWFlowModel')\n",
    "proj_dir = join(gwfm_dir,'Oneto_Denier')\n"
   ]
  },
  {
   "cell_type": "code",
   "execution_count": null,
   "id": "e67222e9-45eb-477c-960f-666354e961c3",
   "metadata": {},
   "outputs": [],
   "source": [
    "from importlib import reload\n",
    "def add_path(fxn_dir):\n",
    "    if fxn_dir not in sys.path:\n",
    "        sys.path.append(fxn_dir)\n",
    "\n",
    "add_path(git_dir+'/CosumnesRiverRecharge/python_utilities')\n",
    "from map_cln import gdf_bnds, pnt_2_tup, lab_pnt, plt_cln\n"
   ]
  },
  {
   "cell_type": "markdown",
   "id": "eba6a45c-da09-49af-8da1-0780949b70ad",
   "metadata": {},
   "source": [
    "# General data"
   ]
  },
  {
   "cell_type": "code",
   "execution_count": null,
   "id": "b486abc3-5b61-477c-a435-2b3ecf5eef0d",
   "metadata": {},
   "outputs": [],
   "source": [
    "# general GIS\n",
    "lak_shp = join(gwfm_dir,'LAK_data/floodplain_delineation')\n",
    "lak_extent = gpd.read_file(join(lak_shp,'LCRFR_ModelDom_2017/LCRFR_2DArea_2015.shp' )).to_crs('epsg:32610')\n",
    "\n",
    "rivers = gpd.read_file(join(gwfm_dir, \"SFR_data\",\"Sac_valley_rivers/Sac_valley_rivers.shp\"))\n",
    "rivers = rivers.to_crs('EPSG:32610')\n"
   ]
  },
  {
   "cell_type": "code",
   "execution_count": null,
   "id": "e7ea22d6",
   "metadata": {},
   "outputs": [],
   "source": [
    "# USGS presents flow in cfs (cubic feet per second)\n",
    "inflow_in = pd.read_csv(join(gwfm_dir, 'SFR_data','MB_15min_2010_10_01.csv'),\n",
    "                             index_col = 'Datetime', parse_dates = True)\n",
    "inflow_in = inflow_in.dropna(axis=1, how='all')"
   ]
  },
  {
   "cell_type": "markdown",
   "id": "b72c6916-5cd1-41af-befa-e55148b68062",
   "metadata": {},
   "source": [
    "# Floodplain data"
   ]
  },
  {
   "cell_type": "code",
   "execution_count": null,
   "id": "be9dc18b",
   "metadata": {},
   "outputs": [],
   "source": [
    "sw_dir = join(dirname(gwfm_dir), 'Oneto_Denier', 'Cosumnes_GageHeight')\n"
   ]
  },
  {
   "cell_type": "code",
   "execution_count": null,
   "id": "28ce6f1e",
   "metadata": {},
   "outputs": [],
   "source": [
    "fn = pd.Series(os.listdir(sw_dir))\n",
    "fn = fn[fn.str.contains(r'\\d{4}.xlsx')]\n",
    "\n",
    "fn"
   ]
  },
  {
   "cell_type": "code",
   "execution_count": null,
   "id": "e483354e",
   "metadata": {},
   "outputs": [],
   "source": [
    "def load_sw_meta(xl_fn):\n",
    "    sw_meta = pd.read_excel(xl_fn, header=0, skiprows=[1])\n",
    "    # extract loggers atcually in the field\n",
    "    sw_name = pd.DataFrame(pd.ExcelFile(xl_fn).sheet_names[1:], columns=['sheet'])\n",
    "    sw_name['name'] = sw_name.iloc[:,0].str.upper().values # standardize names as capitalized\n",
    "\n",
    "    # ll_name = sw_meta['Logger Location']\n",
    "    sw_select = sw_meta[sw_meta['Logger Type'].isin(['Floodplain', 'Breach'])]['Logger Location']\n",
    "    sw_load = sw_name.loc[sw_name.name.isin(sw_select),'sheet']\n",
    "    sw_gdf = gpd.GeoDataFrame(sw_meta, \n",
    "                              geometry=gpd.points_from_xy(sw_meta.Easting, sw_meta.Northing), \n",
    "                              crs='epsg:32610')\n",
    "    return(sw_name, sw_load, sw_gdf)\n",
    "\n",
    "def load_sw_ts(xl_fn, sw_load):\n",
    "    sw_all = pd.DataFrame()\n",
    "    for n in sw_load:\n",
    "    # for n in [sw_name[0]]:\n",
    "        sw_data = pd.read_excel(xl_fn, sheet_name=n, header=0)\n",
    "        sw_data['name'] = n\n",
    "        sw_all = pd.concat((sw_all, sw_data))\n",
    "    \n",
    "    # ll_name.loc[0]\n",
    "    # create datetime column\n",
    "    sw_all['dt'] = pd.to_datetime(sw_all.Date.astype(str)+' '+sw_all.Time.astype(str))\n",
    "    sw_all = sw_all.set_index('dt')\n",
    "    return(sw_all)"
   ]
  },
  {
   "cell_type": "code",
   "execution_count": null,
   "id": "55ac1711",
   "metadata": {},
   "outputs": [],
   "source": []
  },
  {
   "cell_type": "markdown",
   "id": "1708549e-5ee3-4f7c-9088-671139279c1a",
   "metadata": {},
   "source": [
    "# Review location of sites on the floodplain\n",
    "The west basin is the only logger available in 2013 and it is only slightly higher elevation than the lower sites so it is a fair equivalent it appears, albiet closer to the levee and river"
   ]
  },
  {
   "cell_type": "code",
   "execution_count": null,
   "id": "59576945",
   "metadata": {},
   "outputs": [],
   "source": [
    "def plt_loggers(sw_gdf):\n",
    "    fig,ax = plt.subplots()\n",
    "    gdf_plt = sw_gdf.loc[sw_gdf['Logger Location'].isin(sw_load.str.upper())]\n",
    "    gdf_plt.plot(ax=ax)\n",
    "    gdf_bnds(gdf_plt, buf=400,ax=ax)\n",
    "    lak_extent.plot(ax=ax,color='None')\n",
    "    rivers.plot(ax=ax)\n",
    "    \n",
    "    \n",
    "    gdf_plt.apply(lambda x: ax.annotate(x['Logger Location'], xy=x.geometry.coords[0], ha='center', fontsize=6,\n",
    "                                        xytext = (5,10), textcoords='offset pixels',\n",
    "                                        bbox=dict(boxstyle=\"square,pad=0.3\", fc=\"lightgrey\", ec=\"black\", lw=2)\n",
    "                                                            ),axis=1);\n",
    "\n",
    "# sw_gdf[sw_gdf['Logger Type'].isin(['Breach'])].plot(ax=ax)\n",
    "# sw_gdf[sw_gdf['Logger Type'].isin(['Breach'])].apply(lambda x: ax.annotate(x['Logger Location'], \n",
    "#                                                                            xy=x.geometry.coords[0], ha='center', fontsize=6,\n",
    "#                                     xytext = (5,10), textcoords='offset pixels',\n",
    "#                                     bbox=dict(boxstyle=\"square,pad=0.3\", fc=\"lightgrey\", ec=\"black\", lw=2)\n",
    "#                                                         ),axis=1);"
   ]
  },
  {
   "cell_type": "markdown",
   "id": "aeb702c6-6574-4559-b6a1-6a23b8885ff9",
   "metadata": {},
   "source": [
    "# Identify when there is floodplain inundation and the corresponding stream flow that led to it (assuming over topping)\n",
    "- one concern thta came to me recently was, how much drainage was there before levee removal. Wouldn't the water remain in the floodplain longer pre-restoration? The answer isn't totally clear but at least the short nature of the inundation during the 109 cms event seems to suggest it is able to drain off relatively quickly."
   ]
  },
  {
   "cell_type": "code",
   "execution_count": null,
   "id": "53473d66",
   "metadata": {},
   "outputs": [],
   "source": [
    "# most significant loggers are installed in WY2014\n",
    "xl_fn = join(sw_dir, 'Depth_WSE_WY2014.xlsx')\n",
    "\n",
    "sw_name, sw_load, sw_gdf = load_sw_meta(xl_fn)\n",
    "plt_loggers(sw_gdf)\n",
    "\n",
    "sw_all = load_sw_ts(xl_fn, sw_load)"
   ]
  },
  {
   "cell_type": "code",
   "execution_count": null,
   "id": "69cf8dea",
   "metadata": {},
   "outputs": [],
   "source": [
    "\n",
    "fig,ax=plt.subplots(1+len(sw_load),1)\n",
    "inflow_in[sw_all.index.min():sw_all.index.max()].plot(ax=ax[0])\n",
    "\n",
    "for nn, n in enumerate(sw_load):\n",
    "    sw_all[sw_all.name==n].plot(y='WSE_m', ax=ax[1+nn],label=n)\n",
    "# inflow_in.index, sw_all.dt"
   ]
  },
  {
   "cell_type": "markdown",
   "id": "145420ba-e208-44b3-a8d0-5fd8e7e7ddeb",
   "metadata": {},
   "source": [
    "Zoom in to the event to understand the timin gof peak flow to flooding"
   ]
  },
  {
   "cell_type": "code",
   "execution_count": null,
   "id": "b9f66410",
   "metadata": {},
   "outputs": [],
   "source": [
    "min_date = pd.to_datetime('2014-2-7')\n",
    "max_date = pd.to_datetime('2014-2-14')\n",
    "fig,ax = plt.subplots(2,1, sharex=True)\n",
    "inflow_in[min_date:max_date].plot(ax=ax[0])\n",
    "sw_201 = sw_all[sw_all.name=='Site_201']\n",
    "sw_201[min_date:max_date].plot(x='Date',y='WSE_m', ax=ax[1])"
   ]
  },
  {
   "cell_type": "code",
   "execution_count": null,
   "id": "17559b98",
   "metadata": {},
   "outputs": [],
   "source": [
    "fld_min = sw_201[sw_201.WSE_m>5.9].index.min()\n",
    "inflow_in[fld_min - pd.DateOffset(hours=13):]\n",
    "# pd.DateOffset?"
   ]
  },
  {
   "cell_type": "code",
   "execution_count": null,
   "id": "e4f86bad",
   "metadata": {},
   "outputs": [],
   "source": [
    "max_flw = inflow_in[min_date:max_date].max()*0.3048**3\n",
    "max_daily_flw = inflow_in[min_date:max_date].resample('D').mean().max()*0.3048**3\n",
    "print(max_flw, max_daily_flw)"
   ]
  },
  {
   "cell_type": "markdown",
   "id": "6e1ce440",
   "metadata": {},
   "source": [
    "There is definitely some flooding under the non-reconnected scenario but the threshold seems higher? And perhaps less flow makes it there.  \n",
    "\n",
    "Following levee removal in 1995 at the lower site Florsheim et al 2006 found flows from 23-25.5 cms led to floodplain connection. This suggests the flow connection requirement was higher prior to removal.  \n",
    "\n",
    "The flow threshold pre-restoration could be estimated with Manning's equation at LWC gage if we could create a cross-section before and after.  \n",
    "\n",
    "Map key dates with floods at 23, 50, 75, 100, 150, 200 cms to see dates when we should reference data sources like satellite. We know from Whipple thesis that RBI recorded inundation at 300 cms with aerial photographs."
   ]
  },
  {
   "cell_type": "markdown",
   "id": "40fbbe04-3799-4ead-adff-28c221359128",
   "metadata": {},
   "source": [
    "# Flows when no inundation occurs\n",
    "\n",
    "1. Filter for dates with no inundation\n",
    "2. then identify the corresponding maximum streamflows\n",
    "\n",
    "\n",
    "- The issue with 2012,2013 is that not many floodplain loggers are installed. Only WestBasin is in 2013  \n",
    "**It doesn't seem like there is enough data pre-flood to identify the maximum discharge without overtopping**"
   ]
  },
  {
   "cell_type": "code",
   "execution_count": null,
   "id": "50ffe760-4186-489a-b1bf-12012b3c2ee5",
   "metadata": {},
   "outputs": [],
   "source": [
    "fn"
   ]
  },
  {
   "cell_type": "code",
   "execution_count": null,
   "id": "2d1dcadc-bdac-4bac-80b6-65024828e2ed",
   "metadata": {},
   "outputs": [],
   "source": [
    "# most significant loggers are installed in WY2014\n",
    "xl_fn = join(sw_dir, 'Depth_WSE_WY2013.xlsx')\n",
    "\n",
    "sw_name, sw_load, sw_gdf = load_sw_meta(xl_fn)\n",
    "# sw_all = load_sw_ts(xl_fn, ['WestBasin'])\n",
    "\n"
   ]
  },
  {
   "cell_type": "code",
   "execution_count": null,
   "id": "a58a6353-b743-4092-96f9-f3d9d336ba08",
   "metadata": {},
   "outputs": [],
   "source": [
    "plt_loggers(sw_gdf)\n"
   ]
  },
  {
   "cell_type": "code",
   "execution_count": null,
   "id": "3705a5ae-a990-4e7c-a21b-d1ac775ab82f",
   "metadata": {},
   "outputs": [],
   "source": [
    "inflow_in[sw_data.index.min():sw_data.index.max()].index\n",
    "# sw_data.index"
   ]
  },
  {
   "cell_type": "code",
   "execution_count": null,
   "id": "34b6a15d-bfd7-4427-8961-4b6174b19fc2",
   "metadata": {},
   "outputs": [],
   "source": [
    "sw_data = pd.read_excel(xl_fn, sheet_name='WestBasin', header=0,).set_index('Timestamp')\n",
    "sw_data.index = pd.to_datetime(sw_data.index)\n",
    "fig,ax = plt.subplots(2,1)\n",
    "inflow_in[sw_data.index.min():sw_data.index.max()].plot(ax=ax[0])\n",
    "\n",
    "\n",
    "sw_data.plot(y='Depth', ax=ax[1])"
   ]
  },
  {
   "cell_type": "markdown",
   "id": "a1f02f21-f47a-46c8-b7db-62d7dba86204",
   "metadata": {},
   "source": [
    "For WY2013:\n",
    "The main inundation events are at the end of december. There ar several smaller flood events in march/april with no inundation"
   ]
  },
  {
   "cell_type": "code",
   "execution_count": null,
   "id": "5727d084-2833-4163-b4cc-9bc23b7be589",
   "metadata": {},
   "outputs": [],
   "source": [
    "min_date = pd.to_datetime('2012-11-30')\n",
    "max_date = pd.to_datetime('2012-12-31')\n",
    "fig,ax = plt.subplots(2,1, sharex=True)\n",
    "inflow_in[min_date:max_date].plot(ax=ax[0])\n",
    "sw_data[min_date:max_date].plot(y='Depth', ax=ax[1])"
   ]
  },
  {
   "cell_type": "markdown",
   "id": "2bc8d929-c63c-4f18-a051-d5fc80ad9f82",
   "metadata": {},
   "source": [
    "For WY2013:  \n",
    "The flood Dec 18/19 didn't inundate (1000 cfs, 28 cms) and the slightly larger flood on Dec 6 did (1800 cfs, 51 cms ). The joint flood on Dec 23 (1800 cfs, 51 cms) and then Dec 24 (2460, 70 cms) cause initial flooding then a bump up further.\n",
    "\n",
    "Numbers come from manual adjustment of plotted dates"
   ]
  },
  {
   "cell_type": "code",
   "execution_count": null,
   "id": "8e24a1c6-8b42-4ffe-a453-a30eaddbebc3",
   "metadata": {},
   "outputs": [],
   "source": [
    "2460*(0.3048**3)"
   ]
  },
  {
   "cell_type": "code",
   "execution_count": null,
   "id": "dc33defe-5aa7-4376-aff3-f6626931ec59",
   "metadata": {},
   "outputs": [],
   "source": [
    "min_date = pd.to_datetime('2012-12-22')\n",
    "max_date = pd.to_datetime('2012-12-25')\n",
    "fig,ax = plt.subplots(2,1, sharex=True)\n",
    "inflow_in[min_date:max_date].plot(ax=ax[0])\n",
    "sw_data[min_date:max_date].plot(y='Depth', ax=ax[1])\n",
    "\n",
    "print(inflow_in[min_date:max_date].max())"
   ]
  },
  {
   "cell_type": "markdown",
   "id": "a1b1ea89-b795-47ea-9f40-7cfca87f6f35",
   "metadata": {},
   "source": [
    "# Post-restoration review\n",
    "Look at minimum inundation flow as well"
   ]
  },
  {
   "cell_type": "code",
   "execution_count": null,
   "id": "12324370-6e9e-40ba-b6ec-f1c76ed136a7",
   "metadata": {},
   "outputs": [],
   "source": [
    "# most significant loggers are installed in WY2014\n",
    "xl_fn = join(sw_dir, 'Depth_WSE_WY2015.xlsx')\n",
    "\n",
    "sw_name, sw_load, sw_gdf = load_sw_meta(xl_fn)\n",
    "sw_all = load_sw_ts(xl_fn, sw_load)"
   ]
  },
  {
   "cell_type": "code",
   "execution_count": null,
   "id": "2522a631-00e4-44a7-b0ac-3b5820ee83de",
   "metadata": {},
   "outputs": [],
   "source": [
    "plt_loggers(sw_gdf)\n"
   ]
  },
  {
   "cell_type": "code",
   "execution_count": null,
   "id": "2bc1967d-9ca1-40c8-a7ff-e7c9744f14e4",
   "metadata": {},
   "outputs": [],
   "source": [
    "\n",
    "fig,ax=plt.subplots(1+len(sw_load),1)\n",
    "inflow_in[sw_all.index.min():sw_all.index.max()].plot(ax=ax[0])\n",
    "\n",
    "for nn, n in enumerate(sw_load):\n",
    "    sw_all[sw_all.name==n].plot(y='WSE_m', ax=ax[1+nn],label=n)\n",
    "# inflow_in.index, sw_all.dt"
   ]
  },
  {
   "cell_type": "markdown",
   "id": "cf9b6312-0de1-4572-957d-55dc6a22f8f2",
   "metadata": {},
   "source": [
    "There are some small flood events at the beginning of the year that lead to inundation. What's interesting is that the event in Dec 2014 is over 2000 cfs (57 cms) but only the lowest logger shows a little under a meter of inundation. It's not until the event in Feb 2015 (initial pulse of 3000 cfs, 85 cms) that all loggers show a significant response."
   ]
  },
  {
   "cell_type": "code",
   "execution_count": null,
   "id": "706c817c-26e5-4a34-956d-21d123c0f140",
   "metadata": {},
   "outputs": [],
   "source": [
    "3000*(0.3048**3)"
   ]
  },
  {
   "cell_type": "code",
   "execution_count": null,
   "id": "a2d4bda9-b401-4c82-984b-b4071acbe701",
   "metadata": {},
   "outputs": [],
   "source": [
    "min_date = pd.to_datetime('2015-2-7')\n",
    "max_date = pd.to_datetime('2015-2-9')\n",
    "fig,ax = plt.subplots(2,1, sharex=True)\n",
    "inflow_in[min_date:max_date].plot(ax=ax[0])\n",
    "sw_site = sw_all[sw_all.name=='ODF_1']\n",
    "sw_site[min_date:max_date].plot(x='Date',y='WSE_m', ax=ax[1])"
   ]
  }
 ],
 "metadata": {
  "kernelspec": {
   "display_name": "Python 3 (ipykernel)",
   "language": "python",
   "name": "python3"
  },
  "language_info": {
   "codemirror_mode": {
    "name": "ipython",
    "version": 3
   },
   "file_extension": ".py",
   "mimetype": "text/x-python",
   "name": "python",
   "nbconvert_exporter": "python",
   "pygments_lexer": "ipython3",
   "version": "3.11.4"
  }
 },
 "nbformat": 4,
 "nbformat_minor": 5
}
