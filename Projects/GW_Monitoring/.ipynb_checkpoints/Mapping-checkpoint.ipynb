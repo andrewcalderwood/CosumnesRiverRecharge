{
 "cells": [
  {
   "cell_type": "code",
   "execution_count": null,
   "id": "0e0ce8d5",
   "metadata": {},
   "outputs": [],
   "source": [
    "import geopandas as gpd\n",
    "import pandas as pd\n",
    "import numpy as np\n",
    "import matplotlib.pyplot as plt\n",
    "import os\n",
    "\n",
    "import contextily as ctx\n",
    "from mpl_toolkits.axes_grid1.inset_locator import inset_axes\n",
    "from mpl_toolkits.axes_grid1.anchored_artists import AnchoredSizeBar\n",
    "import matplotlib.font_manager as fm"
   ]
  },
  {
   "cell_type": "code",
   "execution_count": null,
   "id": "3169b711",
   "metadata": {},
   "outputs": [],
   "source": [
    "## Set up directory referencing\n",
    "from os.path import basename, dirname, exists\n",
    "# Package data\n",
    "usr_dir = os.getcwd()\n",
    "while basename(usr_dir)!='Users':\n",
    "    temp = basename(usr_dir)\n",
    "    usr_dir = dirname(usr_dir)\n",
    "gwfm_dir = usr_dir+'/'+temp+'/Box/research_cosumnes/GWFlowModel/'\n",
    "map_dir = gwfm_dir+'Mapping/'\n",
    "sfr_dir = gwfm_dir+'SFR_data/'\n",
    "lak_data = gwfm_dir+'LAK_data/'"
   ]
  },
  {
   "cell_type": "code",
   "execution_count": null,
   "id": "f48685c4",
   "metadata": {},
   "outputs": [],
   "source": [
    "grid_sfr = gpd.read_file(sfr_dir+'final_grid_sfr/grid_sfr.shp')\n"
   ]
  },
  {
   "cell_type": "code",
   "execution_count": null,
   "id": "1fe8d57c",
   "metadata": {},
   "outputs": [],
   "source": [
    "rivpath = sfr_dir+\"Sac_valley_rivers/Sac_valley_rivers.shp\"\n",
    "mb_name = gwfm_dir+\"/NewModelDomain/GWModelDomain_52_9deg_UTM10N_WGS84.shp\"\n",
    "# mb_name = gwfm_dir+\"/GWModelDomain_UTM10N/GWModelDomain_Rec_UTM10N.shp\"\n",
    "capath = map_dir+\"ca_state_boundary/CA_State_TIGER2016.shp\"\n",
    "soampath = map_dir+\"so_am_subbasin/so_am_subbasin.shp\"\n",
    "cospath = map_dir+\"cos_subbasin/cos_subbasin.shp\""
   ]
  },
  {
   "cell_type": "code",
   "execution_count": null,
   "id": "cd8f9fcf",
   "metadata": {},
   "outputs": [],
   "source": [
    "rivers = gpd.read_file(rivpath)\n",
    "rivers = rivers.to_crs('EPSG:32610')\n",
    "\n",
    "mb = gpd.read_file(mb_name)\n",
    "rivers_clip = gpd.clip(rivers, mb)\n",
    "\n",
    "soam = gpd.read_file(soampath)\n",
    "soam = soam.to_crs('EPSG:32610')\n",
    "cos = gpd.read_file(cospath)\n",
    "cos = cos.to_crs('EPSG:32610')\n",
    "\n",
    "ca = gpd.read_file(capath)\n",
    "ca = ca.to_crs('EPSG:32610')"
   ]
  },
  {
   "cell_type": "code",
   "execution_count": null,
   "id": "924d565b",
   "metadata": {},
   "outputs": [],
   "source": [
    "fld_gis = lak_data+'floodplain_delineation/'\n",
    "# floodplain = gpd.read_file(fld_gis+'lower_floodplain_approximate_area/lower_floodplain_approximate_area.shp')\n",
    "floodplain = gpd.read_file(fld_gis+'inner_floodplain_domain/inner_floodplain_domain.shp')"
   ]
  },
  {
   "cell_type": "code",
   "execution_count": null,
   "id": "f75bed23",
   "metadata": {},
   "outputs": [],
   "source": [
    "df = pd.read_csv(map_dir+'CosumnesRiverPreserve_MW_screened_interval.csv')\n",
    "gdf = gpd.GeoDataFrame(df, geometry = gpd.points_from_xy(df.Longitude,df.Latitude))\n",
    "gdf.crs = 'epsg:4326' # set crs as lat long crs\n",
    "gdf = gdf.to_crs('epsg:32610')\n",
    "# gdf = gpd.overlay(gdf,teichert)"
   ]
  },
  {
   "cell_type": "code",
   "execution_count": null,
   "id": "13ac7f97",
   "metadata": {},
   "outputs": [],
   "source": [
    "# remove wells off site\n",
    "gdf = gdf[gdf['At Oneto-Denier']=='Yes']\n",
    "gdf['Type']= 'No telemetry'\n",
    "# gdf.Type\n",
    "gdf.loc[gdf['LevelSender']=='Yes','Type'] = 'Telemetry'"
   ]
  },
  {
   "cell_type": "code",
   "execution_count": null,
   "id": "2fe2f69b",
   "metadata": {},
   "outputs": [],
   "source": [
    "from shapely.geometry import Polygon\n",
    "gdf.bounds.loc[:,['minx','maxx']].values\n",
    "gdf_bnds = Polygon(gdf.geometry.to_list()).buffer(300).bounds\n"
   ]
  },
  {
   "cell_type": "code",
   "execution_count": null,
   "id": "ccf6b0d9",
   "metadata": {},
   "outputs": [],
   "source": [
    "fig,ax = plt.subplots(figsize=(8,6))\n",
    "for n in gdf.Type.unique():\n",
    "    gdf.loc[gdf.Type==n].plot(ax=ax,label=n)\n",
    "    \n",
    "    \n",
    "ax.set_xlim(gdf_bnds[0], gdf_bnds[2])\n",
    "ax.set_ylim(gdf_bnds[1], gdf_bnds[3])\n",
    "\n",
    "rivers.plot( ax=ax,label='Cosumnes River')\n",
    "# rivers.plot( ax=ax,label='Deer Creek',color='navy')\n",
    "\n",
    "\n",
    "gdf.apply(lambda x: ax.annotate(s=x['Well ID'], xy=x.geometry.centroid.coords[0], ha='left'),axis=1);\n",
    "\n",
    "ctx.add_basemap(ax, source = ctx.providers.Esri.WorldImagery, crs='epsg:26910', alpha = 0.6, attribution=False)\n",
    "# ctx.add_basemap(ax, source = ctx.providers.Esri.WorldStreetMap, crs='epsg:26910', attribution=False)\n",
    "\n",
    "x, y, arrow_length = 0.7, 0.15, 0.1\n",
    "ax.annotate('N', xy=(x, y), xytext=(x, y-arrow_length),\n",
    "            arrowprops=dict(facecolor='black', width=5, headwidth=15),\n",
    "            ha='center', va='center', fontsize=20,\n",
    "            xycoords=ax.transAxes)\n",
    "\n",
    "ax.ticklabel_format(style='plain')\n",
    "\n",
    "\n",
    "fontprops = fm.FontProperties(size=18)\n",
    "scalebar = AnchoredSizeBar(ax.transData,\n",
    "                           500, '500 m', 'lower right', \n",
    "                           pad=0.1,\n",
    "                           sep=2,\n",
    "                           color='black',\n",
    "                           frameon=False,\n",
    "                           size_vertical=1,\n",
    "                           fontproperties=fontprops)\n",
    "ax.add_artist(scalebar)\n",
    "\n",
    "ax.legend(loc='upper left')\n",
    "plt.xlabel('Easting (m)')\n",
    "plt.ylabel('Northing (m)')\n",
    "\n",
    "# first one is CA map\n",
    "# axins = inset_axes(ax, width=\"80%\", height=\"80%\", bbox_to_anchor=(0, .5, .5, .5),\n",
    "#                   bbox_transform=ax.transAxes, loc=2)\n",
    "# # second one is smaller inset\n",
    "# axins2 = inset_axes(ax, width=\"40%\", height=\"40%\", bbox_to_anchor=(0.18, .5, .5, .5),\n",
    "#                   bbox_transform=ax.transAxes, loc=2)\n",
    "# axins.tick_params(labelleft=False, labelbottom=False, left = False, bottom = False)\n",
    "# axins2.tick_params(labelleft=False, labelbottom=False, left = False, bottom = False)\n",
    "\n",
    "# ca.plot(ax = axins,alpha = 0.2)\n",
    "# soam.plot(ax = axins, edgecolor = 'black')\n",
    "# cos.plot(ax = axins, edgecolor = 'black')\n",
    "\n",
    "# cos.plot(ax = axins2, edgecolor = 'black')\n",
    "# soam.plot(ax = axins2, edgecolor = 'black')\n",
    "# teichert.plot(ax = axins2, edgecolor = 'black', color = 'none')\n",
    "\n",
    "plt.savefig('Oneto-Denier_gw_well_map.png', dpi = 600, bbox_inches='tight')\n",
    "\n"
   ]
  },
  {
   "cell_type": "code",
   "execution_count": null,
   "id": "9bde997b",
   "metadata": {},
   "outputs": [],
   "source": [
    "os.getcwd()"
   ]
  }
 ],
 "metadata": {
  "kernelspec": {
   "display_name": "Python 3 (ipykernel)",
   "language": "python",
   "name": "python3"
  },
  "language_info": {
   "codemirror_mode": {
    "name": "ipython",
    "version": 3
   },
   "file_extension": ".py",
   "mimetype": "text/x-python",
   "name": "python",
   "nbconvert_exporter": "python",
   "pygments_lexer": "ipython3",
   "version": "3.11.0"
  }
 },
 "nbformat": 4,
 "nbformat_minor": 5
}
