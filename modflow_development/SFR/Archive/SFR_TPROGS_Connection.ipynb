{
 "cells": [
  {
   "cell_type": "code",
   "execution_count": null,
   "metadata": {},
   "outputs": [],
   "source": [
    "# standard python utilities\n",
    "import os\n",
    "import sys\n",
    "import glob\n",
    "import pandas as pd\n",
    "import numpy as np\n",
    "import calendar\n",
    "import time\n",
    "\n",
    "# unique functions for this notebook\n",
    "import numpy.ma as ma\n",
    "from scipy.stats import hmean\n",
    "from scipy.stats import gmean\n",
    "\n",
    "# standard python plotting utilities\n",
    "import matplotlib as mpl\n",
    "import matplotlib.pyplot as plt\n",
    "\n",
    "# standard geospatial python utilities\n",
    "import pyproj # for converting proj4string\n",
    "import shapely\n",
    "import geopandas as gpd\n",
    "import rasterio\n",
    "\n",
    "# mapping utilities\n",
    "import contextily as ctx\n",
    "from mpl_toolkits.axes_grid1.inset_locator import inset_axes\n",
    "from mpl_toolkits.axes_grid1.anchored_artists import AnchoredSizeBar\n",
    "import matplotlib.font_manager as fm"
   ]
  },
  {
   "cell_type": "code",
   "execution_count": null,
   "metadata": {},
   "outputs": [],
   "source": [
    "\n",
    "# run installed version of flopy or add local path\n",
    "try:\n",
    "    import flopy\n",
    "    from flopy.discretization.structuredgrid import StructuredGrid\n",
    "    from flopy.utils.reference import SpatialReference\n",
    "    from flopy.utils import Raster\n",
    "except:\n",
    "    import flopy\n",
    "    fpth = os.path.abspath(os.path.join('..', '..'))\n",
    "    sys.path.append(fpth)\n",
    "    from flopy.discretization.structuredgrid import StructuredGrid\n",
    "    from flopy.utils.reference import SpatialReference\n",
    "    from flopy.utils import Raster\n",
    "from flopy.utils.gridgen import Gridgen\n",
    "from flopy.utils import OptionBlock\n",
    "import flopy.utils.binaryfile as bf\n",
    "\n",
    "\n",
    "print(sys.version)\n",
    "print('numpy version: {}'.format(np.__version__))\n",
    "print('matplotlib version: {}'.format(mpl.__version__))\n",
    "print('flopy version: {}'.format(flopy.__version__))"
   ]
  },
  {
   "cell_type": "code",
   "execution_count": null,
   "metadata": {},
   "outputs": [],
   "source": [
    "## Set up directory referencing\n",
    "# Package data\n",
    "gwfm_dir = os.path.dirname(os.path.dirname(os.getcwd()))\n",
    "# upw dir\n",
    "upw_dir = gwfm_dir+'/UPW_data'"
   ]
  },
  {
   "cell_type": "code",
   "execution_count": null,
   "metadata": {},
   "outputs": [],
   "source": [
    "# use the simpler model with less load required\n",
    "loadpth = gwfm_dir+'/JupyterNotebooks/WEL/data'\n",
    "m = flopy.modflow.Modflow.load('MF.nam', model_ws=loadpth, \n",
    "                                exe_name='mf-NWT', version='mfNWT')"
   ]
  },
  {
   "cell_type": "code",
   "execution_count": null,
   "metadata": {},
   "outputs": [],
   "source": [
    "nrow = m.dis.nrow\n",
    "ncol = m.dis.ncol\n",
    "nlay = m.dis.nlay"
   ]
  },
  {
   "cell_type": "code",
   "execution_count": null,
   "metadata": {},
   "outputs": [],
   "source": [
    "# Load model grid as geopandas object\n",
    "grid_p = gpd.read_file(gwfm_dir+'/DIS_data/grid/grid.shp')\n",
    "# grid_p = gpd.read_file(gwfm_dir+'/DIS_data/44_7_grid/44_7_grid.shp')\n",
    "grid_p.row -=1\n",
    "grid_p.column -=1"
   ]
  },
  {
   "cell_type": "code",
   "execution_count": null,
   "metadata": {},
   "outputs": [],
   "source": [
    "# same numbering as model grid which is 1 based\n",
    "grid_sfr = gpd.read_file(gwfm_dir+'/SFR_data/final_grid_sfr/grid_sfr.shp')\n"
   ]
  },
  {
   "cell_type": "markdown",
   "metadata": {},
   "source": [
    "### Load kriged water table data"
   ]
  },
  {
   "cell_type": "code",
   "execution_count": null,
   "metadata": {},
   "outputs": [],
   "source": [
    "# raster cropping will be done in outside script so the only part read in will be the final array\n",
    "ghb_dir = gwfm_dir+'/GHB_data'"
   ]
  },
  {
   "cell_type": "code",
   "execution_count": null,
   "metadata": {},
   "outputs": [],
   "source": [
    "strtyear = 2013\n",
    "endyear = 2019\n",
    "kriged_fall = np.zeros((int(endyear-strtyear),nrow,ncol))\n",
    "kriged_spring = np.zeros((int(endyear-strtyear),nrow,ncol))\n",
    "\n",
    "kriged_NW = np.zeros((int(endyear-strtyear)*2,ncol))\n",
    "kriged_SE = np.zeros((int(endyear-strtyear)*2,ncol))\n",
    "# keep track of which place in array matches to year\n",
    "year_to_int = np.zeros((endyear-strtyear,2))\n",
    "\n",
    "t=0\n",
    "for year in np.arange(strtyear,endyear):\n",
    "    \n",
    "    # load and place spring kriged data in np array, load spring first\n",
    "    filename = glob.glob(ghb_dir+'/final_WSEL_arrays/spring'+str(year)+'_kriged_WSEL.tsv')[0]\n",
    "    df_grid = np.loadtxt(filename)\n",
    "    kriged_spring[t,:,:] = df_grid\n",
    "    \n",
    "    # load and place fall kriged data in np array\n",
    "    filename = glob.glob(ghb_dir+'/final_WSEL_arrays/fall'+str(year)+'_kriged_WSEL.tsv')[0]\n",
    "    df_grid = np.loadtxt(filename)\n",
    "    kriged_fall[t,:,:] = df_grid\n",
    "\n",
    "    \n",
    "    # save NW  dataframe\n",
    "    kriged_NW[t] = kriged_spring[t,0,:]\n",
    "    kriged_NW[2*t] = kriged_fall[t,0,:]\n",
    "    # save SE data frame\n",
    "    kriged_SE[t] = kriged_spring[t,0,:]\n",
    "    kriged_SE[2*t] = kriged_fall[t,0,:]\n",
    "    \n",
    "    year_to_int[t,0] = t\n",
    "    year_to_int[t,1] = year\n",
    "    t+=1\n",
    "    "
   ]
  },
  {
   "cell_type": "code",
   "execution_count": null,
   "metadata": {},
   "outputs": [],
   "source": [
    "print(np.arange(strtyear, endyear),'mean water elevation by year',np.nanmean(df_grid,axis=(0,1)))\n",
    "# 2015 represents the lowest water, 2018 the highest, 2016 median"
   ]
  },
  {
   "cell_type": "markdown",
   "metadata": {},
   "source": [
    "## Read in TPROGS data"
   ]
  },
  {
   "cell_type": "code",
   "execution_count": null,
   "metadata": {},
   "outputs": [],
   "source": [
    "# \"C:\\Users\\ajcalder\\Box\\research_cosumnes\\Large_TPROGS_run\\TPROGS_realizations\\tsim_Cosumnes_Full_Model.asc1\"\n",
    "# create tprogs directory reference to 100 large tprogs runs ascii files\n",
    "tprogs_dir = os.path.dirname(gwfm_dir)+'/Large_TPROGS_run/TPROGS_realizations_final/'\n",
    "# get all file names\n",
    "tprogs_line_files = glob.glob(tprogs_dir+'*')\n",
    "\n",
    "mf_tprogs_dir = gwfm_dir+'/UPW_data/tprogs_final/'\n",
    "tprogs_files = glob.glob(mf_tprogs_dir+'*')"
   ]
  },
  {
   "cell_type": "code",
   "execution_count": null,
   "metadata": {},
   "outputs": [],
   "source": [
    "# t0 = time.time()\n",
    "\n",
    "# for n in np.arange(0,len(tprogs_files)):\n",
    "#     tprogs_line = np.loadtxt(tprogs_line_files[n],skiprows = 1)\n",
    "#     tprogs_arr = np.reshape(tprogs_line, (320, 100, 230 ))\n",
    "\n",
    "#     name = '/tprogs_final/tsim_realization'+str(n).zfill(3)+'.tsv'\n",
    "#     np.savetxt(upw_dir+name,np.reshape(tprogs_arr, (320*100,230)), delimiter = '\\t')\n",
    "                   \n",
    "# resample_time = time.time() - t0\n",
    "# print(\"Resample time, nearest neighbor: {:.3f} sec\".format(time.time() - t0))"
   ]
  },
  {
   "cell_type": "code",
   "execution_count": null,
   "metadata": {},
   "outputs": [],
   "source": [
    "# Based on Maribeth's grid aligned with Alisha's TPROGS model\n",
    "# dem_data = np.loadtxt(gwfm_dir+'\\DIS_data\\dem_52_9_200m_nearest.tsv', delimiter = '\\t')\n",
    "dem_data = np.loadtxt(gwfm_dir+'\\DIS_data\\dem_52_9_200m_linear.tsv', delimiter = '\\t')\n",
    "# dem_data = np.loadtxt(gwfm_dir+'\\DIS_data\\dem_44_7_200m_linear_missing_right_corner.tsv', delimiter = '\\t')\n"
   ]
  },
  {
   "cell_type": "code",
   "execution_count": null,
   "metadata": {},
   "outputs": [],
   "source": [
    "def int_to_K(tprogs_arr):\n",
    "    tprogs = tprogs_arr[:]\n",
    "    tprogs[tprogs<0] *= -1\n",
    "    tprogs = tprogs.astype(float)\n",
    "    # from fleckenstein et al 2008 (m/s)\n",
    "    # I-IV gravel, sand, muddy sand, mud\n",
    "    tprogs[tprogs==1]= 1e-3\n",
    "    tprogs[tprogs==2]= 5e-4\n",
    "    tprogs[tprogs==3]= 5e-5\n",
    "    tprogs[tprogs==4]= 1.5e-6\n",
    "    return(tprogs)"
   ]
  },
  {
   "cell_type": "code",
   "execution_count": null,
   "metadata": {},
   "outputs": [],
   "source": [
    "def tprogs_cut_elev(tprogs):\n",
    "    tprogs_elev = np.copy(tprogs)\n",
    "    # the bottom layer of the tprogs model is at -80 m amsl and the top layer is 80 m amsl\n",
    "    # set any tprogs cells above the DEm to np.nan\n",
    "    t = 0\n",
    "    for k in np.arange(-80,80,0.5):\n",
    "        tprogs_elev[t,dem_data<k]= np.NaN\n",
    "        t+=1\n",
    "    masked_tprogs = ma.masked_invalid(tprogs_elev[:],copy=True)\n",
    "    return(masked_tprogs, tprogs_elev)"
   ]
  },
  {
   "cell_type": "code",
   "execution_count": null,
   "metadata": {},
   "outputs": [],
   "source": [
    "def tprogs_cut_saturated(tprogs,kriged):\n",
    "    tprogs_unsat = np.copy(tprogs)\n",
    "    # the bottom layer of the tprogs model is at -80 m amsl and the top layer is 80 m amsl\n",
    "    # set any tprogs cells below the average fall water table depth as np.nan\n",
    "    t = 0\n",
    "    for k in np.arange(-80,80,0.5):\n",
    "        tprogs_unsat[t,kriged>k]= np.NaN\n",
    "        t+=1\n",
    "    masked_tprogs = ma.masked_invalid(tprogs_unsat[:],copy=True)\n",
    "    return(masked_tprogs)"
   ]
  },
  {
   "cell_type": "code",
   "execution_count": null,
   "metadata": {},
   "outputs": [],
   "source": [
    "# temporary botm array for tprogs\n",
    "botm = np.array([[np.arange(-80,80,0.5)]*230]*100)\n"
   ]
  },
  {
   "cell_type": "code",
   "execution_count": null,
   "metadata": {},
   "outputs": [],
   "source": [
    "t=0\n",
    "tprogs_arr = np.reshape(np.loadtxt(tprogs_files[t]), (320, 100,230))\n",
    "tprogs = int_to_K(tprogs_arr)\n",
    "masked_tprogs, tprogs_elev =tprogs_cut_elev(tprogs)\n"
   ]
  },
  {
   "cell_type": "code",
   "execution_count": null,
   "metadata": {},
   "outputs": [],
   "source": [
    "plt.imshow(tprogs[:,0,:],aspect=1/4)\n",
    "plt.show()\n",
    "plt.imshow(tprogs_arr[:,0,:],aspect=1/4)"
   ]
  },
  {
   "cell_type": "code",
   "execution_count": null,
   "metadata": {},
   "outputs": [],
   "source": [
    "# use dem elevation to get tprogs layer at ground surface\n",
    "tprogs_top_ind = ((dem_data+80)*2).astype(int)\n",
    "# take any indices above the top of the tprogs top to be the max\n",
    "tprogs_top_ind[tprogs_top_ind>=320] = 319\n",
    "# create empty array to keep tprogs data from ground surface\n",
    "tprogs_ground = np.zeros(dem_data.shape)\n",
    "for i in np.arange(0,dem_data.shape[0]):\n",
    "    for j in np.arange(0,dem_data.shape[1]):\n",
    "        tprogs_ground[i,j] = tprogs[tprogs_top_ind[i,j],i,j]"
   ]
  },
  {
   "cell_type": "code",
   "execution_count": null,
   "metadata": {},
   "outputs": [],
   "source": [
    "plt.imshow(tprogs_ground)"
   ]
  },
  {
   "cell_type": "code",
   "execution_count": null,
   "metadata": {},
   "outputs": [],
   "source": [
    "# remove columns with extra grid information as new grid information will be joined after buffering\n",
    "sfr = grid_sfr.loc[:,['Point_orde','length_m','reach','geometry']]"
   ]
  },
  {
   "cell_type": "code",
   "execution_count": null,
   "metadata": {},
   "outputs": [],
   "source": [
    "def sfr_tprogs(sfr,dem_data, dist):\n",
    "    # buffer the sfr grid cells by a distance to expand out from the channel\n",
    "    sfr_buf = sfr.copy()\n",
    "    sfr_buf.geometry = sfr_buf.buffer(dist)\n",
    "    # join buffered sfr line with model grid to find new bunch of cells that are in the channel\n",
    "    sfr_buf_grid = gpd.sjoin(grid_p, sfr_buf, op='within')\n",
    "    # create array to be filled with cells that sfr array is in contact with\n",
    "    sfr_arr = np.zeros(dem_data.shape)\n",
    "    sfr_arr[:] = np.nan\n",
    "    # fill sfr_arr with tprogs cell\n",
    "    sfr_arr[sfr_buf_grid.row,sfr_buf_grid.column] = tprogs_ground[sfr_buf_grid.row,sfr_buf_grid.column]\n",
    "    return(sfr_buf_grid, sfr_arr)\n"
   ]
  },
  {
   "cell_type": "code",
   "execution_count": null,
   "metadata": {},
   "outputs": [],
   "source": [
    "sfr_buf = sfr.copy()\n",
    "dist=0\n",
    "sfr_buf.geometry = sfr_buf.buffer(dist)\n",
    "# join buffered sfr line with model grid to find new bunch of cells that are in the channel\n",
    "sfr_buf_grid = gpd.sjoin(grid_p, sfr_buf, op='within')\n",
    "# create array to be filled with cells that sfr array is in contact with\n",
    "sfr_arr = np.zeros(dem_data.shape)\n",
    "sfr_arr[:] = np.nan\n",
    "# fill sfr_arr with tprogs cell\n",
    "sfr_arr[sfr_buf_grid.row,sfr_buf_grid.column] = tprogs_ground[sfr_buf_grid.row,sfr_buf_grid.column]\n",
    "sfr_buf_grid"
   ]
  },
  {
   "cell_type": "code",
   "execution_count": null,
   "metadata": {},
   "outputs": [],
   "source": [
    "for dist in np.arange(0,1600,400):\n",
    "    sfr_buf_grid, sfr_arr = sfr_tprogs(sfr,dem_data,dist=dist)\n",
    "    fig,ax=plt.subplots(1,2,figsize=(12,3))\n",
    "    sfr_buf_grid.plot(ax=ax[0])\n",
    "    # focus in on middle section to look at buffer effect\n",
    "    ax[0].set_ylim(4.255e6,4.265e6)\n",
    "    ax[0].set_xlim(6.5e5, 6.7e5)\n",
    "    # plot tprogs data\n",
    "    im=ax[1].imshow(sfr_arr,norm=mpl.colors.LogNorm())\n",
    "    plt.colorbar(im,ax=ax[1],orientation='horizontal',shrink = 0.7)\n",
    "    plt.show()"
   ]
  },
  {
   "cell_type": "code",
   "execution_count": null,
   "metadata": {},
   "outputs": [],
   "source": [
    "# create array to be filled with cells that sfr array is in contact with\n",
    "sfr_arr = np.zeros(dem_data.shape)\n",
    "sfr_arr[:] = np.nan\n",
    "# fill sfr_arr with tprogs cell\n",
    "sfr_arr[sfr_buf_grid.row,sfr_buf_grid.column] = tprogs_ground[sfr_buf_grid.row,sfr_buf_grid.column]\n",
    "plt.imshow(sfr_arr, norm=mpl.colors.LogNorm())"
   ]
  },
  {
   "cell_type": "code",
   "execution_count": null,
   "metadata": {},
   "outputs": [],
   "source": [
    "# # col, row, layer 230, 100, 320\n",
    "# # tprogs_arr = np.reshape(tprogs_line, (230, 100,320))\n",
    "# tprogs_arr = np.reshape(tprogs_line, (320, 100, 230 ))\n",
    "\n",
    "# fig, ax = plt.subplots(1,3, figsize=(12,6))\n",
    "# #first layer\n",
    "# im = ax[0].imshow(tprogs_arr[:,:,0])\n",
    "# fig.colorbar(im, ax=ax[0], orientation = 'horizontal')\n",
    "# # first row\n",
    "# im = ax[1].imshow(tprogs_arr[:,0,:])\n",
    "# fig.colorbar(im, ax=ax[1], orientation = 'horizontal')\n",
    "# # first column\n",
    "# im = ax[2].imshow(tprogs_arr[0,:,:])\n",
    "# fig.colorbar(im, ax=ax[2], orientation = 'horizontal')\n",
    "# fig.tight_layout()"
   ]
  },
  {
   "cell_type": "code",
   "execution_count": null,
   "metadata": {},
   "outputs": [],
   "source": []
  }
 ],
 "metadata": {
  "kernelspec": {
   "display_name": "Python 3",
   "language": "python",
   "name": "python3"
  },
  "language_info": {
   "codemirror_mode": {
    "name": "ipython",
    "version": 3
   },
   "file_extension": ".py",
   "mimetype": "text/x-python",
   "name": "python",
   "nbconvert_exporter": "python",
   "pygments_lexer": "ipython3",
   "version": "3.7.7"
  }
 },
 "nbformat": 4,
 "nbformat_minor": 4
}
