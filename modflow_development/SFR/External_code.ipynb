{
 "cells": [
  {
   "cell_type": "markdown",
   "metadata": {},
   "source": [
    "## External code for model set up\n",
    "This notebook will hold code used in the initial set up of the model but is not needed for every run (ie transforming the large scale 10 meter dem from epsg 4326 to epsg 32610 only needs to be done once)"
   ]
  },
  {
   "cell_type": "code",
   "execution_count": null,
   "metadata": {},
   "outputs": [],
   "source": [
    "spath = \"C://Users/ajcalder/Box/Research_Calderwood/dem\"\n",
    "\n",
    "# 1 meter dem\n",
    "raster_name = spath+\"/model_dem.tif\"\n",
    "\n",
    "rio = Raster.load(raster_name)"
   ]
  },
  {
   "cell_type": "code",
   "execution_count": null,
   "metadata": {},
   "outputs": [],
   "source": [
    "fig = plt.figure(figsize=(12, 12))\n",
    "ax = fig.add_subplot(1, 1, 1, aspect='equal')\n",
    "\n",
    "ax = rio.plot(ax=ax)\n",
    "plt.colorbar(ax.images[0], shrink=0.7);"
   ]
  },
  {
   "cell_type": "code",
   "execution_count": null,
   "metadata": {},
   "outputs": [],
   "source": [
    "# 10 meter dem\n",
    "raster_name = spath+\"/USGS_ten_meter_dem/USGS_13_n39w122_10meterdem.tif\"\n",
    "\n",
    "rio10 = Raster.load(raster_name)"
   ]
  },
  {
   "cell_type": "code",
   "execution_count": null,
   "metadata": {},
   "outputs": [],
   "source": [
    "# Convert 10 meter dem crs from lat long to utm zone 10n\n",
    "import rasterio\n",
    "from rasterio.warp import calculate_default_transform, reproject, Resampling\n",
    "\n",
    "dst_crs = 'EPSG:32610'\n",
    "\n",
    "raster_name = spath+\"/USGS_ten_meter_dem/USGS_13_n39w122_10meterdem.tif\"\n",
    "with rasterio.open(raster_name) as src:\n",
    "    transform, width, height = calculate_default_transform(\n",
    "        src.crs, dst_crs, src.width, src.height, *src.bounds)\n",
    "    kwargs = src.meta.copy()\n",
    "    kwargs.update({\n",
    "        'crs': dst_crs,\n",
    "        'transform': transform,\n",
    "        'width': width,\n",
    "        'height': height\n",
    "    })\n",
    "\n",
    "    with rasterio.open(spath+'/USGS_ten_meter_dem/transformed.tif', 'w', **kwargs) as dst:\n",
    "        for i in range(1, src.count + 1):\n",
    "            reproject(\n",
    "                source=rasterio.band(src, i),\n",
    "                destination=rasterio.band(dst, i),\n",
    "                src_transform=src.transform,\n",
    "                src_crs=src.crs,\n",
    "                dst_transform=transform,\n",
    "                dst_crs=dst_crs,\n",
    "                resampling=Resampling.nearest)"
   ]
  },
  {
   "cell_type": "markdown",
   "metadata": {},
   "source": [
    "# Model vertices, shapefile"
   ]
  },
  {
   "cell_type": "code",
   "execution_count": null,
   "metadata": {},
   "outputs": [],
   "source": [
    "# Get vertexes of model domain\n",
    "ll = mg.get_coords(0, 0) #lower left\n",
    "lr = mg.get_coords(nrow*delr, 0) #lower right\n",
    "ur = mg.get_coords(nrow*delr, ncol*delc) #upper right\n",
    "ul = mg.get_coords(0, ncol*delc) #upper left\n",
    "print(ll, lr, ur, ul)\n",
    "\n",
    "# Shapefile of model bounds\n",
    "vertices = np.stack(np.asarray((ll,lr, ur, ul)))\n",
    "vertices"
   ]
  },
  {
   "cell_type": "code",
   "execution_count": null,
   "metadata": {},
   "outputs": [],
   "source": [
    "geoms = Polygon(vertices)\n",
    "geoms.plot() # this feature requires descartes\n",
    "geoms.type"
   ]
  },
  {
   "cell_type": "markdown",
   "metadata": {},
   "source": [
    "# Saving a polygon to a shapefile"
   ]
  },
  {
   "cell_type": "code",
   "execution_count": null,
   "metadata": {},
   "outputs": [],
   "source": [
    "# How to save a polygon to shapefile\n",
    "import shapely\n",
    "import shapefile\n",
    "w = shapefile.Writer('polygon')\n",
    "w.field('name', 'C')\n",
    "w.poly([vertices])\n",
    "w.record('polygon1')\n",
    "w.close()"
   ]
  },
  {
   "cell_type": "markdown",
   "metadata": {},
   "source": [
    "# Raster cropping"
   ]
  },
  {
   "cell_type": "code",
   "execution_count": null,
   "metadata": {},
   "outputs": [],
   "source": [
    "t0 = time.time()\n",
    "rio10_utm.crop(vertices, invert=False)\n",
    "crop_time = time.time() - t0"
   ]
  },
  {
   "cell_type": "code",
   "execution_count": null,
   "metadata": {},
   "outputs": [],
   "source": [
    "rio10_utm.plot()"
   ]
  },
  {
   "cell_type": "code",
   "execution_count": null,
   "metadata": {},
   "outputs": [],
   "source": [
    "rio10_utm.write()"
   ]
  },
  {
   "cell_type": "markdown",
   "metadata": {},
   "source": [
    "# Capture cross section of deeper geology\n",
    "Not the best method to create the cells, its better to just plot the change points and then apply those to a grid"
   ]
  },
  {
   "cell_type": "code",
   "execution_count": null,
   "metadata": {},
   "outputs": [],
   "source": [
    "# vertical resolution is -400 ft to 500 ft divided by 5m (16.4 ft) 55 layers or 500/16.4 is 30 layers\n",
    "# horizontal resolution is 0-38 miles, 0 to 200,640 ft\n",
    "# assuming 100 meter grid would be 328 feet and need 611 rows\n",
    "gelnlay = 55\n",
    "gelnrow = 611\n",
    "gel = np.ones((gelnlay,gelnrow))\n",
    "\n",
    "# Pre-cretaceous, Ione and Valley Springs will be set to inactive due to low water bearing\n",
    "# Slope of bottom of Mehrten is run= 32.25 mi- 26.125 and rise =(200ft--300ft)\n",
    "mslp = (200-(-300))/((32.25-26.125)*5280)\n",
    "# assuming the bottom of the model is the last row of the array\n",
    "\n",
    "xlb = int((6/38)*gelnrow)\n",
    "ylb = int((50/900)*gelnlay)\n",
    "xlt = int((20/38)*gelnrow)\n",
    "ylt = int((150/900)*gelnlay)\n",
    "aslp =  (ylt-ylb)/(xlt-xlb)\n",
    "ratio = int(1/aslp) # for every 1 up three overs\n",
    "j = xlb\n",
    "gel[-1:-ylb:-1,:] = 2\n",
    "for i in np.arange(-ylb,-ylt,-1):\n",
    "    gel[i,j:] = 2 # represents mehrten unit\n",
    "    j = j+ratio\n",
    "    \n",
    "xmb = int((26/38)*gelnrow)\n",
    "ymb = int((100/900)*gelnlay)\n",
    "xmt = int((32/38)*gelnrow)\n",
    "ymt = int((600/900)*gelnlay)\n",
    "aslp =  (ymt-ymb)/(xmt-xmb)\n",
    "ratio = int(1/aslp) # for every 1 up three overs\n",
    "j = xmb\n",
    "for i in np.arange(-1,-ymt,-1):\n",
    "    gel[i,j:] = 0 # represents deep geology\n",
    "    j = j+ratio"
   ]
  },
  {
   "cell_type": "markdown",
   "metadata": {},
   "source": [
    "## Geo cube to convert point data to raster"
   ]
  },
  {
   "cell_type": "code",
   "execution_count": null,
   "metadata": {},
   "outputs": [],
   "source": [
    "import json\n",
    "from shapely.geometry import box, mapping\n",
    "from geocube.api.core import make_geocube\n",
    "from geocube.rasterize import rasterize_points_griddata, rasterize_points_radial\n",
    "\n",
    "geo_grid = make_geocube(\n",
    "    vector_data=gcoords,\n",
    "#     measurements = ['Node', 'elev','DTW'],\n",
    "#     geom=json.dumps(mapping(box(652500, 4250000, 660000, 4270000))),\n",
    "    resolution=(-200, 200),\n",
    "    rasterize_function=rasterize_points_griddata,\n",
    "    fill = np.nan,\n",
    "    interpolate_na_method = None,\n",
    "#     align = (100,100)\n",
    ")\n",
    "geo_grid['0'].plot()\n"
   ]
  },
  {
   "cell_type": "markdown",
   "metadata": {},
   "source": [
    "## Using soilmaps from SSURGO"
   ]
  }
 ],
 "metadata": {
  "kernelspec": {
   "display_name": "Python 3",
   "language": "python",
   "name": "python3"
  },
  "language_info": {
   "codemirror_mode": {
    "name": "ipython",
    "version": 3
   },
   "file_extension": ".py",
   "mimetype": "text/x-python",
   "name": "python",
   "nbconvert_exporter": "python",
   "pygments_lexer": "ipython3",
   "version": "3.7.7"
  }
 },
 "nbformat": 4,
 "nbformat_minor": 4
}
