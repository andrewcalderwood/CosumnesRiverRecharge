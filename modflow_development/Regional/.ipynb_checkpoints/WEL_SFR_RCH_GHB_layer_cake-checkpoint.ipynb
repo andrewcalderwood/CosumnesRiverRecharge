{
 "cells": [
  {
   "cell_type": "markdown",
   "metadata": {},
   "source": [
    "Cosumnes Model \n",
    "@author: Andrew"
   ]
  },
  {
   "cell_type": "code",
   "execution_count": 1,
   "metadata": {},
   "outputs": [],
   "source": [
    "# standard python utilities\n",
    "import os\n",
    "import sys\n",
    "import glob\n",
    "import pandas as pd\n",
    "import numpy as np\n",
    "import calendar\n",
    "import time\n",
    "from scipy.stats import gmean\n",
    "\n",
    "# standard python plotting utilities\n",
    "import matplotlib as mpl\n",
    "import matplotlib.pyplot as plt\n",
    "\n",
    "# standard geospatial python utilities\n",
    "import pyproj # for converting proj4string\n",
    "import shapely\n",
    "import geopandas as gpd\n",
    "import rasterio\n",
    "\n",
    "# mapping utilities\n",
    "import contextily as ctx\n",
    "from mpl_toolkits.axes_grid1.inset_locator import inset_axes\n",
    "from mpl_toolkits.axes_grid1.anchored_artists import AnchoredSizeBar\n",
    "import matplotlib.font_manager as fm"
   ]
  },
  {
   "cell_type": "code",
   "execution_count": 2,
   "metadata": {},
   "outputs": [
    {
     "name": "stdout",
     "output_type": "stream",
     "text": [
      "3.7.11 (default, Jul 27 2021, 09:42:29) [MSC v.1916 64 bit (AMD64)]\n",
      "numpy version: 1.21.2\n",
      "matplotlib version: 3.4.3\n",
      "flopy version: 3.3.4\n"
     ]
    }
   ],
   "source": [
    "\n",
    "# run installed version of flopy or add local path\n",
    "try:\n",
    "    import flopy\n",
    "    from flopy.discretization.structuredgrid import StructuredGrid\n",
    "    from flopy.utils.reference import SpatialReference\n",
    "    from flopy.utils import Raster\n",
    "except:\n",
    "    import flopy\n",
    "    fpth = os.path.abspath(os.path.join('..', '..'))\n",
    "    sys.path.append(fpth)\n",
    "    from flopy.discretization.structuredgrid import StructuredGrid\n",
    "    from flopy.utils.reference import SpatialReference\n",
    "    from flopy.utils import Raster\n",
    "from flopy.utils.gridgen import Gridgen\n",
    "from flopy.utils import OptionBlock\n",
    "import flopy.utils.binaryfile as bf\n",
    "\n",
    "\n",
    "print(sys.version)\n",
    "print('numpy version: {}'.format(np.__version__))\n",
    "print('matplotlib version: {}'.format(mpl.__version__))\n",
    "print('flopy version: {}'.format(flopy.__version__))"
   ]
  },
  {
   "cell_type": "code",
   "execution_count": 3,
   "metadata": {},
   "outputs": [],
   "source": [
    "\n",
    "# Transient -> might want to think about making SP1 steady\n",
    "end_date = '2019-12-31'\n",
    "# end_date = '2018-01-02'\n",
    "strt_date = '2018-01-01'\n",
    "\n",
    "dates = pd.date_range(strt_date, end_date)\n",
    "\n",
    "# The number of periods is the number of dates \n",
    "nper = len(dates)+1\n",
    "\n",
    "# Each period has a length of one because the timestep is one day, have the 1st stress period be out of the date range\n",
    "# need to have the transient packages start on the second stress period\n",
    "perlen = np.ones(nper)\n",
    "# Steady or transient periods\n",
    "steady = np.zeros(nper)\n",
    "steady[0] = 1 # first period is steady state, rest are transient\n",
    "steady = steady.astype('bool').tolist()\n",
    "# Reduce the number of timesteps to decrease run time\n",
    "nstp = np.ones(nper)*np.append(np.ones(1),6*np.ones(nper-1))"
   ]
  },
  {
   "cell_type": "code",
   "execution_count": 4,
   "metadata": {
    "scrolled": true
   },
   "outputs": [],
   "source": [
    "#Maribeth's model parameters, had to switch nrow and ncol due to her issue in xul, yul\n",
    "nrow=100\n",
    "ncol=230\n",
    "delr=200\n",
    "delc=200\n",
    "rotation=52.9\n",
    "\n",
    "# The number of layers should be 1 for the Mehrten formation, 1 for the laguna plus the number of TPROGS layers,\n",
    "# where the Laguna formation will be clipped by the TPROGS layers\n",
    "# num_tprogs = 120\n",
    "num_leveling_layers = 1 # layers to create the upscaled unsaturated zone\n",
    "num_tprogs=0\n",
    "nlay = 2 + num_leveling_layers + num_tprogs\n",
    "# tprog_thick = 0.5\n",
    "tprog_thick = 120*0.5\n",
    "\n",
    "\n",
    "# There is essentially no difference bewtween WGS84 and NAD83 for UTM Zone 10N\n",
    "# proj4_str='EPSG:26910'\n",
    "proj4_str='+proj=utm +zone=10 +ellps=WGS84 +datum=WGS84 +units=m +no_defs '"
   ]
  },
  {
   "cell_type": "code",
   "execution_count": 4,
   "metadata": {},
   "outputs": [
    {
     "name": "stdout",
     "output_type": "stream",
     "text": [
      "C:\\Users\\andrewc\\Documents\\GitHub\\GWFlowModel C:\\Users\\andrewc/Box/research_cosumnes/GWFlowModel\n"
     ]
    }
   ],
   "source": [
    "## Set up directory referencing\n",
    "# Package data\n",
    "git_dir = os.path.dirname(os.path.dirname(os.getcwd()))\n",
    "gwfm_dir = '\\\\'.join(str.split(git_dir,'\\\\')[0:3])+ '/Box/research_cosumnes/GWFlowModel'\n",
    "print(git_dir, gwfm_dir)"
   ]
  },
  {
   "cell_type": "code",
   "execution_count": 6,
   "metadata": {},
   "outputs": [
    {
     "data": {
      "text/plain": [
       "[(645500.0, 4227700.0),\n",
       " (629548.3214234954, 4239764.159754906),\n",
       " (657295.8888597784, 4276453.020480867),\n",
       " (673247.567436283, 4264388.860725961),\n",
       " (645500.0, 4227700.0)]"
      ]
     },
     "execution_count": 6,
     "metadata": {},
     "output_type": "execute_result"
    }
   ],
   "source": [
    "from flopy.utils.geometry import Polygon, LineString, Point\n",
    "# Original model domain, 44.7 deg angle\n",
    "# m_domain = gpd.read_file(gwfm_dir+'\\\\GWModelDomain_UTM10N\\\\GWModelDomain_Rec_UTM10N.shp')\n",
    "# New model domain 52.9 deg\n",
    "m_domain = gpd.read_file(gwfm_dir+'\\\\NewModelDomain\\\\GWModelDomain_52_9deg_UTM10N_WGS84.shp')\n",
    "\n",
    "# Need to check this when changing model domains\n",
    "xul, yul = list(m_domain.geometry.values[0].exterior.coords)[1]\n",
    "list(m_domain.geometry.values[0].exterior.coords)\n",
    "# m_domain.geometry.values[0].exterior"
   ]
  },
  {
   "cell_type": "markdown",
   "metadata": {},
   "source": [
    "According to Flopy GitHub \"Technically you need to create both a SpatialReference object and a ModelGrid object, but in practice the code looks very similar and can easily be implemented in one line.\"\n",
    "WGS84 Zone 10N has EPSG: 32610  \n",
    "Lower left corner of model is   \n",
    "Zone 10 N  \n",
    "Easting: 661211.18 m E  \n",
    "Northing: 4249696.50 m N  \n",
    "angle is approximate 53 degrees  "
   ]
  },
  {
   "cell_type": "markdown",
   "metadata": {},
   "source": [
    "## Individual Users may change loadpath \n",
    "The default loadpath is set to an existing external hard drive for Andrew as F://\n",
    "If the script doesn't find an external harddrive F:// then it will default to the C:// Drive in WRDAPP"
   ]
  },
  {
   "cell_type": "code",
   "execution_count": 7,
   "metadata": {},
   "outputs": [],
   "source": [
    "ext_dir = 'F:/WRDAPP'\n",
    "c_dir = 'C:/WRDAPP'\n",
    "\n",
    "if os.path.exists(ext_dir):\n",
    "    loadpth = ext_dir \n",
    "elif os.paht.exists(c_dir):\n",
    "    loadpth = c_dir \n",
    "\n",
    "loadpth = loadpth +'/GWFlowModel/Cosumnes/Cosumnes_simple/'\n",
    "model_ws = loadpth+'WEL_SFR_RCH_layercake'"
   ]
  },
  {
   "cell_type": "code",
   "execution_count": 8,
   "metadata": {},
   "outputs": [],
   "source": [
    "# m = flopy.modflow.Modflow(modelname = 'MF', exe_name = 'MODFLOW-NWT.exe', \n",
    "#                           version = 'mfnwt', model_ws=model_ws)\n",
    "m = flopy.modflow.Modflow(modelname = 'MF', exe_name = 'mf2005', \n",
    "                          version = 'mf2005', model_ws=model_ws)\n",
    "#lenuni = 1 is in ft, lenuni = 2 is in meters\n",
    "# itmuni is time unit 5 = years, 4=days, 3 =hours, 2=minutes, 1=seconds\n",
    "dis = flopy.modflow.ModflowDis(nrow=nrow, ncol=ncol, \n",
    "                               nlay=nlay, delr=delr, delc=delc,\n",
    "                               model=m, lenuni = 2, itmuni = 4,\n",
    "                               xul = xul, yul = yul,rotation=rotation, proj4_str=proj4_str,\n",
    "                              nper = nper, perlen=perlen, nstp=nstp, steady = steady,\n",
    "                              start_datetime = strt_date)\n"
   ]
  },
  {
   "cell_type": "code",
   "execution_count": 9,
   "metadata": {},
   "outputs": [],
   "source": [
    "# m.modelgrid.set_coord_info(xoff=xoff, yoff=yoff, proj4='EPSG:32610', angrot=angrot)\n",
    "mg = m.modelgrid\n",
    "# Write model grid to shapefile for later use\n",
    "# mg.write_shapefile(gwfm_dir+'/DIS_data/grid/grid.shp', epsg = '32610')\n",
    "# mg.write_shapefile(gwfm_dir+'/DIS_data/44_7_grid/44_7_grid.shp', epsg = '32610')\n"
   ]
  },
  {
   "cell_type": "code",
   "execution_count": 10,
   "metadata": {},
   "outputs": [],
   "source": [
    "# Load model grid as geopandas object\n",
    "grid_p = gpd.read_file(gwfm_dir+'/DIS_data/grid/grid.shp')\n",
    "# grid_p = gpd.read_file(gwfm_dir+'/DIS_data/44_7_grid/44_7_grid.shp')\n",
    "# print(gwfm_dir)\n",
    "\n",
    "# Find Michigan Bar location\n",
    "# mb_gpd = sensors[sensors.Sensor_id == \"MI_Bar\"]\n",
    "# mb_grid = gpd.sjoin(mb_gpd, grid_p, how = 'left', op = 'intersects')"
   ]
  },
  {
   "cell_type": "code",
   "execution_count": 11,
   "metadata": {},
   "outputs": [
    {
     "name": "stdout",
     "output_type": "stream",
     "text": [
      "(645500.0, 4227700.0) (629548.3214234954, 4239764.159754906) (657295.8888597784, 4276453.020480867) (673247.567436283, 4264388.860725961)\n"
     ]
    }
   ],
   "source": [
    "# Get vertexes of model domain\n",
    "# ll = mg.get_coords(0, 0) #lower left\n",
    "# lr = mg.get_coords(nrow*delr, 0) #lower right\n",
    "# ur = mg.get_coords(nrow*delr, ncol*delc) #upper right\n",
    "# ul = mg.get_coords(0, ncol*delc) #upper left\n",
    "ll = mg.get_coords(0, 0) #lower left\n",
    "lr = mg.get_coords(0, nrow*delr) #lower right\n",
    "ur = mg.get_coords(ncol*delc, nrow*delr) #upper right\n",
    "ul = mg.get_coords(ncol*delc, 0) #upper left\n",
    "print(ll, lr, ur, ul)\n",
    "\n",
    "# Shapefile of model bounds\n",
    "from shapely.geometry import Polygon\n",
    "vertices = np.stack(np.asarray((ll,lr, ur, ul)))\n",
    "vertices\n",
    "geoms = Polygon(vertices)"
   ]
  },
  {
   "cell_type": "code",
   "execution_count": 12,
   "metadata": {},
   "outputs": [
    {
     "name": "stderr",
     "output_type": "stream",
     "text": [
      "<>:5: DeprecationWarning: invalid escape sequence \\D\n",
      "<>:5: DeprecationWarning: invalid escape sequence \\D\n",
      "<>:5: DeprecationWarning: invalid escape sequence \\D\n",
      "C:\\Users\\ajcalder\\AppData\\Local\\Temp/ipykernel_37704/3944873049.py:5: DeprecationWarning: invalid escape sequence \\D\n",
      "  dem_data = np.loadtxt(gwfm_dir+'\\DIS_data\\dem_52_9_200m_linear.tsv', delimiter = '\\t')\n"
     ]
    },
    {
     "data": {
      "text/plain": [
       "<AxesSubplot:>"
      ]
     },
     "execution_count": 12,
     "metadata": {},
     "output_type": "execute_result"
    },
    {
     "data": {
      "image/png": "[encoded data removed]",
      "text/plain": [
       "<Figure size 432x288 with 2 Axes>"
      ]
     },
     "metadata": {
      "needs_background": "light"
     },
     "output_type": "display_data"
    }
   ],
   "source": [
    "# np.savetxt(gwfm_dir+'\\DIS_data\\dem_44_7_200m_nearest.tsv', dem_data, delimiter = '\\t')\n",
    "\n",
    "# Based on Maribeth's grid aligned with Alisha's TPROGS model\n",
    "# dem_data = np.loadtxt(gwfm_dir+'\\DIS_data\\dem_52_9_200m_nearest.tsv', delimiter = '\\t')\n",
    "dem_data = np.loadtxt(gwfm_dir+'\\DIS_data\\dem_52_9_200m_linear.tsv', delimiter = '\\t')\n",
    "# dem_data = np.loadtxt(gwfm_dir+'\\DIS_data\\dem_44_7_200m_linear_missing_right_corner.tsv', delimiter = '\\t')\n",
    "\n",
    "# dem_data = np.loadtxt(gwfm_dir+'\\DIS_data\\dem_44_7_200m_nearest.tsv', delimiter = '\\t')\n",
    "\n",
    "import seaborn as sns\n",
    "sns.heatmap(dem_data, cmap = 'viridis', vmin = 0,square=True)"
   ]
  },
  {
   "cell_type": "markdown",
   "metadata": {},
   "source": [
    "# Capture cross section of deeper geology"
   ]
  },
  {
   "cell_type": "code",
   "execution_count": 13,
   "metadata": {},
   "outputs": [],
   "source": [
    "# Pre-cretaceous metamorphic rocks - (variable thickness 200-500 ft thick)\n",
    "# Ione formation (200 ft thick)\n",
    "# Valley Springs formation (300 ft thick)\n",
    "# Mehrten Formation (100 ft thick to 300 ft thick) (1-2 deg dip)\n",
    "# Laguna Formation (less than 100 ft to between 200-300 ft thick) (less than 1 deg dip)\n",
    "# upper formation (informed by well logs) (100 ft)\n",
    "# ibound < 0 is constant head\n",
    "# ibound = 0 is inactive cell\n",
    "# ibound > 0 is active cell"
   ]
  },
  {
   "cell_type": "markdown",
   "metadata": {},
   "source": [
    "## Need to adjust for change in model grid, based on Michigan Bar previously, maybe also look at effect of model domain angle vs cross section angle"
   ]
  },
  {
   "cell_type": "code",
   "execution_count": 14,
   "metadata": {},
   "outputs": [],
   "source": [
    "\n",
    "# The stream gage at michigan bar is now 13 columns in from the boundary\n",
    "# mehrtenbound\n",
    "\n",
    "# Cross section E appears to have an angle of 0 compared to the model domain,"
   ]
  },
  {
   "cell_type": "code",
   "execution_count": 15,
   "metadata": {
    "scrolled": true
   },
   "outputs": [
    {
     "data": {
      "text/plain": [
       "[<matplotlib.lines.Line2D at 0x1e3ecd04948>]"
      ]
     },
     "execution_count": 15,
     "metadata": {},
     "output_type": "execute_result"
    },
    {
     "data": {
      "image/png": "[encoded data removed]",
      "text/plain": [
       "<Figure size 432x288 with 1 Axes>"
      ]
     },
     "metadata": {
      "needs_background": "light"
     },
     "output_type": "display_data"
    }
   ],
   "source": [
    "# # columns are xtop_miles, ytop_ft_amsl, xbot_miles, ytop_ft_amsl\n",
    "# # XS upper bound should be at Michigan bar which is between Jackson road and Sacramento-Amador county line split\n",
    "# # Mile 36 is approximately where Michigan bar aligns with the cross section\n",
    "MB_XS_mile = 36\n",
    "mehrtenbound = pd.read_csv(gwfm_dir+'/DIS_data/Mehrten_boundary_x_y.csv', parse_dates = False, \n",
    "                index_col = False, sep = ',', header = 'infer')\n",
    "# Convert miles to feet and sets x value based on location of Michigan bar\n",
    "# 0 is michigan bar and each major change in geologic dip is based on distance from Michigan Bar\n",
    "mehrtenbound.xtop_miles = -5280*(MB_XS_mile - mehrtenbound.xtop_miles)\n",
    "mehrtenbound.xbot_miles = -5280*(MB_XS_mile - mehrtenbound.xbot_miles)\n",
    "# No flod boundary based on the original coordinates of the bottom of the Mehrten formation\n",
    "mehrtenbound.noflow_x_miles = -5280*(MB_XS_mile - mehrtenbound.noflow_x_miles)\n",
    "\n",
    "# East of mile 32 the entire vertical cross section, including up to the near entire surface\n",
    "# is composed of old geologic formations that are not water bearing\n",
    "volcanic_bound = (MB_XS_mile - 32)*-5280\n",
    "# noflow_ind = int((1-(volcanic_bound/sumx))*ncol)\n",
    "\n",
    "# Plot the x and y values\n",
    "fig, ax = plt.subplots(1, 1)\n",
    "mehrtenbound.plot(x = 'xtop_miles', y = 'ytop_ft_amsl', ax = ax)\n",
    "mehrtenbound.plot(x = 'xbot_miles', y = 'ybot_ft_amsl', ax = ax)\n",
    "plt.plot(-100*3.28*np.arange(0,len(dis.top[40,:])), np.flip(3.28*dis.top[40,:]))\n",
    "# print(mehrtenbound)"
   ]
  },
  {
   "cell_type": "code",
   "execution_count": 16,
   "metadata": {},
   "outputs": [],
   "source": [
    "\n",
    "def xy_to_botm(xbound_ft, ybound_ft, nspace,ntransversespace):\n",
    "    laybotm = np.zeros((ntransversespace, nspace))\n",
    "    # Nspace will be either nrow or ncol depending model direction\n",
    "    # ntransversespace is the opposite of nspace (ie nrow if nspace is ncol)\n",
    "    # Calculate the distance between each major change in dip\n",
    "    dx = np.diff(xbound_ft)\n",
    "    # Scale by the total distance across the coordinates to get percentages\n",
    "    sumx = np.sum(dx)\n",
    "    dx /= sumx\n",
    "    # Multiply the number of columns by the percent of columns in each section of constant dip\n",
    "    dx *= nspace\n",
    "    # Round the number of columns to allow proper use for indexing\n",
    "    nx = np.round(dx).astype(int)\n",
    "    # Fix any discrepancy in number of columns due to issues with rouding the percentages of columns\n",
    "    # Add a column to the last set of columns because there is already uncertainty at the deeper end\n",
    "    while(np.sum(nx)-nspace !=0):\n",
    "        if np.sum(nx)-nspace <0:\n",
    "            nx[-1] += 1\n",
    "        elif np.sum(nx)-nspace >0:\n",
    "            nx[-1] -= 1\n",
    "    sum(nx)\n",
    "\n",
    "    # Now split the coordinates into downsized coordinates in between each major change in dip\n",
    "    k = 0\n",
    "    for i in np.arange(0,len(nx)):\n",
    "        for j in np.arange(0,ntransversespace):\n",
    "            laybotm[j, k:k+nx[i]] = np.arange(ybound_ft[i],ybound_ft[i+1], -(ybound_ft[i]-ybound_ft[i+1])/nx[i])\n",
    "        k += nx[i]\n",
    "    return(laybotm)"
   ]
  },
  {
   "cell_type": "code",
   "execution_count": 17,
   "metadata": {},
   "outputs": [],
   "source": [
    "# X (east -west) and y (up-down vertical) of major dip changes for Mehrten Formation top boundary\n",
    "\n",
    "mehrten_top = xy_to_botm(mehrtenbound.xtop_miles,mehrtenbound.ytop_ft_amsl, ncol, nrow)\n",
    "# X (east -west) and y (up-down vertical) of major dip changes for Mehrten Formation bottom boundary\n",
    "# drop na is because there are less values to mark changes in the bottom than top boundary\n",
    "mehrten_bottom = xy_to_botm(mehrtenbound.xbot_miles.dropna(),mehrtenbound.ybot_ft_amsl.dropna(), ncol, nrow)\n",
    "\n",
    "# Original x,y data for Mehrten bottom boundary to represent the noflow bounds\n",
    "no_flow_bound = xy_to_botm(mehrtenbound.noflow_x_miles.dropna(), mehrtenbound.noflow_y_ft_amsl.dropna(),ncol,nrow)"
   ]
  },
  {
   "cell_type": "code",
   "execution_count": 18,
   "metadata": {
    "scrolled": false
   },
   "outputs": [],
   "source": [
    "botm = np.zeros((nlay, nrow, ncol))\n",
    "# Convert units from ft to meters and flip to match direction\n",
    "botm[-2,:,:] = np.flip(mehrten_top/3.28)\n",
    "botm[-1,:,:] = np.flip(mehrten_bottom/3.28)\n",
    "no_flow_bound = np.flip(no_flow_bound/3.28)\n",
    "dis.botm = botm\n",
    "# dis.plot()"
   ]
  },
  {
   "cell_type": "markdown",
   "metadata": {},
   "source": [
    "## Adjustment to bottom boundary to ensure sufficient top layer thickness for the TPROGS model\n",
    "Although the bottom boundaries are being artifically lowered to allow for sufficient layer thickness, this will be corrected when ibound is implemented based on where the actual bottom boundary is and where there is high elevations based on likelihood to be volcanics geology."
   ]
  },
  {
   "cell_type": "code",
   "execution_count": 19,
   "metadata": {},
   "outputs": [],
   "source": [
    "# The TPROGS model is 100m thick with some of it above the land surface\n",
    "# to be safe, there should be at least 50 meters below ground surface to the bottom boundary\n",
    "\n",
    "# Create 4 layers representing the upscaled \"unsaturated\" zone \n",
    "# ensures there is at least 1 m for each upscaled layer and rounded to create a clean boundary with the TPROGS data\n",
    "leveling_layer_bottom = np.round(np.min(dem_data) - num_leveling_layers*1) \n",
    "leveling_layer_thickness = -10 # (dem_data - leveling_layer_bottom)/num_leveling_layers\n",
    "botm[num_leveling_layers-1,:,:] = leveling_layer_bottom\n",
    "for i in np.arange(num_leveling_layers-1,0,-1):\n",
    "    botm[i-1,:,:] = botm[i,:,:] + leveling_layer_thickness\n",
    "    \n",
    "# Create TPROGS layers from top down\n",
    "for i in np.arange(num_leveling_layers, num_leveling_layers + num_tprogs):\n",
    "    botm[i,:,:] = botm[i-1,:,:] -tprog_thick\n",
    "    \n",
    "# Thickness to give to bottom layers below the TPROGS layers just to provide adequate spacing,\n",
    "# this will be corrected by changing the geology in the layers above to account for what is actually in\n",
    "# the Mehrten and what is in the Laguna formations, thickness of 5 also prevents any messy overlap\n",
    "thickness_to_skip =10\n",
    "# # Find where top boundary of Mehrten Formation rises within 10 meters of the top layer (10m for sufficient layer thickness)\n",
    "bot3ind = np.min(np.where(botm[-2,:,:]>botm[-3,:,:]- thickness_to_skip)[1])\n",
    "\n",
    "# # Where the top boundary of Mehrten was within 10 meters of the top layer \n",
    "# # set it equal to top layer elevation minus 10 for sufficient layer thickness\n",
    "botm[-2,:,bot3ind:] = botm[-3,0,bot3ind]- thickness_to_skip\n",
    "# # Repeat steps above for bottom of Mehrten formation with the top of the Mehrten formation\n",
    "bot3ind = np.min(np.where(botm[-1,0,:]>botm[-2,0,:]- thickness_to_skip))\n",
    "botm[-1,:,bot3ind:] = botm[-2,0,bot3ind]-thickness_to_skip"
   ]
  },
  {
   "cell_type": "code",
   "execution_count": 20,
   "metadata": {},
   "outputs": [
    {
     "data": {
      "image/png": "[encoded data removed]",
      "text/plain": [
       "<Figure size 864x864 with 1 Axes>"
      ]
     },
     "metadata": {
      "needs_background": "light"
     },
     "output_type": "display_data"
    }
   ],
   "source": [
    "# when you apply the 1/200 aspect the dips in the cell seem a lot less severe, so may just leave the layering as is\n",
    "# for now with 4 layers representing the unsaturated zone\n",
    "fig,ax = plt.subplots(figsize = (12,12))\n",
    "# ax.set_aspect(aspect = 1/10)\n",
    "plotrow = 80\n",
    "plt.plot(dem_data[plotrow,:])\n",
    "\n",
    "for i in np.arange(0,nlay):\n",
    "    plt.plot(botm[i,plotrow,:])"
   ]
  },
  {
   "cell_type": "code",
   "execution_count": 21,
   "metadata": {},
   "outputs": [
    {
     "name": "stdout",
     "output_type": "stream",
     "text": [
      "\n",
      "DIS PACKAGE DATA VALIDATION:\n",
      "  No errors or warnings encountered.\n",
      "\n",
      "  Checks that passed:\n",
      "    zero or negative thickness\n",
      "    thin cells (less than checker threshold of 1.0)\n",
      "    nan values in top array\n",
      "    nan values in bottom array\n",
      "\n"
     ]
    },
    {
     "data": {
      "text/plain": [
       "rec.array([],\n",
       "          dtype=[('type', 'O'), ('package', 'O'), ('k', '<i4'), ('i', '<i4'), ('j', '<i4'), ('value', '<f8'), ('desc', 'O')])"
      ]
     },
     "execution_count": 21,
     "metadata": {},
     "output_type": "execute_result"
    }
   ],
   "source": [
    "# Set the elevation of the top layer based on the DEM\n",
    "m.dis.top = dem_data\n",
    "# Bottom of model based on geology\n",
    "m.dis.botm = botm\n",
    "chk = dis.check()\n",
    "chk.summary_array"
   ]
  },
  {
   "cell_type": "markdown",
   "metadata": {},
   "source": [
    "## Complex ibound"
   ]
  },
  {
   "cell_type": "markdown",
   "metadata": {},
   "source": [
    "### Define no flow cells based on elevation, informed by DWR cross sections and geologic maps of volcanic geology fingers leaving the mountains\n",
    "In general, the location of Michigan Bar is near the boundary where there is total volcanics to majority alluvium. However there is a major finger North and South of the Cosumnes River of andesititc conglomerate, sandstone, breccia"
   ]
  },
  {
   "cell_type": "code",
   "execution_count": 22,
   "metadata": {},
   "outputs": [
    {
     "data": {
      "text/plain": [
       "<matplotlib.image.AxesImage at 0x1e3ecdb5748>"
      ]
     },
     "execution_count": 22,
     "metadata": {},
     "output_type": "execute_result"
    },
    {
     "data": {
      "image/png": "[encoded data removed]",
      "text/plain": [
       "<Figure size 432x288 with 1 Axes>"
      ]
     },
     "metadata": {
      "needs_background": "light"
     },
     "output_type": "display_data"
    }
   ],
   "source": [
    "# Simplified ibound, only no flow cell if it is below the bottom of the Mehrten Formation\n",
    "# Specify no flow boundary based on rough approx of geology (upper basin volcanics)\n",
    "ibound = np.ones([nlay, nrow,ncol])\n",
    "strt = np.ones((nlay, nrow, ncol), dtype = np.float32)\n",
    "# The model should start in hydraulic connection\n",
    "strt[:,:,:] = np.mean(m.dis.top[:,:], axis = 0)\n",
    "\n",
    "cutoff_elev = 56\n",
    "ibound = ibound*(dem_data<cutoff_elev)\n",
    "\n",
    "plt.imshow(ibound[0,:,:])"
   ]
  },
  {
   "cell_type": "markdown",
   "metadata": {},
   "source": [
    "### Create a line bounding the noflow region to set the specified head boundary"
   ]
  },
  {
   "cell_type": "code",
   "execution_count": 23,
   "metadata": {},
   "outputs": [
    {
     "name": "stdout",
     "output_type": "stream",
     "text": [
      "[647. 607.]\n"
     ]
    }
   ],
   "source": [
    "import pprint\n",
    "from rasterio.features import shapes, rasterize\n",
    "\n",
    "# The function shapes from rasterio requires uint8 format\n",
    "ibound_line = ibound.astype(rasterio.uint8)\n",
    "out = shapes(ibound_line,connectivity = 8)\n",
    "alldata = list(out)\n",
    "\n",
    "# maxl = 0\n",
    "maxl = np.zeros(len(alldata))\n",
    "for i in np.arange(0,len(alldata)):\n",
    "    maxl[i] = len(alldata[i][0].get('coordinates')[0])\n",
    "#     if len(alldata[i][0].get('coordinates')[0])>maxl:\n",
    "#         maxl = len(alldata[i][0].get('coordinates')[0])\n",
    "#         ind = i\n",
    "# select the two longest linestring indexes (1st will be chunk down of divide (lower elevation) 2nd will chunk above (high elev))\n",
    "maxl1, maxl2 = np.where(maxl>np.mean(maxl))[0]\n",
    "print(maxl[maxl>np.mean(maxl)])"
   ]
  },
  {
   "cell_type": "code",
   "execution_count": 24,
   "metadata": {},
   "outputs": [
    {
     "data": {
      "text/plain": [
       "<flopy.utils.geometry.LineString at 0x1e3ecdee888>"
      ]
     },
     "execution_count": 24,
     "metadata": {},
     "output_type": "execute_result"
    }
   ],
   "source": [
    "temp = alldata[maxl2][0].get('coordinates')[0]\n",
    "tl = LineString(temp)\n",
    "tl"
   ]
  },
  {
   "cell_type": "code",
   "execution_count": 25,
   "metadata": {},
   "outputs": [
    {
     "data": {
      "text/plain": [
       "(100, 230)"
      ]
     },
     "execution_count": 25,
     "metadata": {},
     "output_type": "execute_result"
    }
   ],
   "source": [
    "from shapely.ops import LineString, linemerge, polygonize, unary_union\n",
    "tl = LineString(temp)\n",
    "\n",
    "# Get the constant head or general head boundary after the no flow cells\n",
    "linerast = rasterio.features.rasterize([tl], out_shape = np.array((nrow,ncol)))\n",
    "# remove far east bound line\n",
    "linerast[:,ncol-1] = 0\n",
    "fix_bound = np.min(np.argwhere(linerast[0,:]==1))\n",
    "linerast[0,:] = 0\n",
    "linerast[0,fix_bound]\n",
    "np.shape(linerast)\n",
    "\n",
    "# ibound[0,linerast==1] = -1"
   ]
  },
  {
   "cell_type": "code",
   "execution_count": 26,
   "metadata": {},
   "outputs": [],
   "source": [
    "from shapely.ops import LineString, linemerge, polygonize, unary_union\n",
    "tl = LineString(temp)\n",
    "tu = unary_union(tl)\n",
    "poly = list(polygonize(tu))\n",
    "# Set the polygon/raster for the top layer, no buffer needed\n",
    "poly0 = poly[0].buffer(distance = 0)\n",
    "polyrast0 = rasterio.features.rasterize([poly0], out_shape = np.array((nrow,ncol)))\n",
    "# Set the polygon/raster for the top layer, slight buffer needed to expand geologic formation outward with depth as \n",
    "# naturally occurs\n",
    "poly1 = poly[0].buffer(distance = 13)\n",
    "polyrast1 = rasterio.features.rasterize([poly1], out_shape = np.array((nrow,ncol)))\n",
    "# Set the polygon/raster for the bottom layer, largest buffer needed\n",
    "poly2 = poly[0].buffer(distance = 17)\n",
    "polyrast2 = rasterio.features.rasterize([poly2], out_shape = np.array((nrow,ncol)))\n",
    "\n",
    "ibound = np.ones([nlay, nrow,ncol])\n",
    "# Need to decide whether all layers or just the top layer are affected by ibound from elevation\n",
    "# it is better to define the top layer with a simple dem>elevation check than the rasterize functins that isn't perfect\n",
    "# ibound[0,polyrast0==1] = 0\n",
    "# Need to decide whether all layers or just the top layer are affected by ibound from elevation\n",
    "ibound[-2,polyrast1==1] = 0\n",
    "# Need to decide whether all layers or just the top layer are affected by ibound from elevation\n",
    "ibound[-1,polyrast2==1] = 0\n",
    "\n",
    "# The bottom boundary has a dip of 1-2 degrees which is essentially a slope of 0.015 based on given cross section data\n",
    "# The layer thickness for TPROGS\n",
    "laythk = tprog_thick\n",
    "# It appeared shapely buffer is on the scale of kilometers\n",
    "run = (laythk/0.015)/1000\n",
    "run_const = run\n",
    "for i in np.arange(1,nlay-2):\n",
    "    # error saying poly[i] is not subscriptable\n",
    "    polyi = poly[0].buffer(distance = run)\n",
    "    polyrast = rasterio.features.rasterize([polyi], out_shape = np.array((nrow,ncol)))\n",
    "    # Need to decide whether all layers or just the top layer are affected by ibound from elevation\n",
    "    ibound[i,polyrast==1] = 0\n",
    "    run += run_const"
   ]
  },
  {
   "cell_type": "code",
   "execution_count": 27,
   "metadata": {},
   "outputs": [
    {
     "data": {
      "text/plain": [
       "<matplotlib.colorbar.Colorbar at 0x1e3ececa8c8>"
      ]
     },
     "execution_count": 27,
     "metadata": {},
     "output_type": "execute_result"
    },
    {
     "data": {
      "image/png": "[encoded data removed]",
      "text/plain": [
       "<Figure size 432x288 with 2 Axes>"
      ]
     },
     "metadata": {
      "needs_background": "light"
     },
     "output_type": "display_data"
    }
   ],
   "source": [
    "# wherever the constant head/specified head bound is the cells need to be active\n",
    "ibound[0,dem_data>cutoff_elev] = 0\n",
    "ibound[0,linerast==1] = 1\n",
    "plt.imshow(ibound[0,:,:])\n",
    "plt.colorbar()"
   ]
  },
  {
   "cell_type": "code",
   "execution_count": 28,
   "metadata": {},
   "outputs": [],
   "source": [
    "# copy the ibound array to alter the geology array to set these cells as low permeability formations\n",
    "# either marine or volcanic based\n",
    "deep_geology = np.invert(ibound[:,:,:].astype(bool))\n",
    "\n",
    "# reset ibound to all active cells to reduce non-linearity\n",
    "# still need to take account of no flow cells for lake package\n",
    "ibound = np.ones([nlay, nrow,ncol])"
   ]
  },
  {
   "cell_type": "code",
   "execution_count": 29,
   "metadata": {},
   "outputs": [],
   "source": [
    "# np.savetxt(gwfm_dir+'/BAS6/deep_geology_'+str(nlay)'layer.tsv',np.reshape(deep_geology, (nlay*nrow,ncol)), delimiter ='\\t')\n",
    "# deep_geology = np.loadtxt(m.model_ws+'/input_data/deep_geology.tsv', delimiter ='\\t')\n",
    "# deep_geology = np.reshape(deep_geology, (nlay,nrow,ncol))"
   ]
  },
  {
   "cell_type": "markdown",
   "metadata": {},
   "source": [
    "### Remove no flow cells in the first layer where there are stream cells"
   ]
  },
  {
   "cell_type": "code",
   "execution_count": 30,
   "metadata": {},
   "outputs": [],
   "source": [
    "# where the specified head boundary is the cells must be active\n",
    "# ibound[0,chd_locs[0], chd_locs[1]] = -1"
   ]
  },
  {
   "cell_type": "code",
   "execution_count": 31,
   "metadata": {},
   "outputs": [],
   "source": [
    "# Basic package, BAS\n",
    "\n",
    "# ibound < 0 is constant head\n",
    "# ibound = 0 is inactive cell\n",
    "# ibound > 0 is active cell\n",
    "# strt is array of starting heads\n",
    "bas = flopy.modflow.ModflowBas(model = m, ibound=ibound, strt = strt)"
   ]
  },
  {
   "cell_type": "code",
   "execution_count": 32,
   "metadata": {
    "scrolled": false
   },
   "outputs": [
    {
     "name": "stdout",
     "output_type": "stream",
     "text": [
      "\n",
      "BAS6 PACKAGE DATA VALIDATION:\n",
      "  No errors or warnings encountered.\n",
      "\n",
      "  Checks that passed:\n",
      "    isolated cells in ibound array\n",
      "    Not a number\n",
      "\n"
     ]
    },
    {
     "data": {
      "text/plain": [
       "<flopy.utils.check.check at 0x1e3ecf04908>"
      ]
     },
     "execution_count": 32,
     "metadata": {},
     "output_type": "execute_result"
    }
   ],
   "source": [
    "bas.check()\n"
   ]
  },
  {
   "cell_type": "markdown",
   "metadata": {},
   "source": [
    "## Northwest and Southeast GHB boundaries based on historical WSEL"
   ]
  },
  {
   "cell_type": "code",
   "execution_count": 33,
   "metadata": {},
   "outputs": [],
   "source": [
    "# raster cropping will be done in outside script so the only part read in will be the final array\n",
    "ghb_dir = gwfm_dir+'/GHB_data'"
   ]
  },
  {
   "cell_type": "code",
   "execution_count": 34,
   "metadata": {},
   "outputs": [],
   "source": [
    "strtyear = 2013\n",
    "endyear = 2019\n",
    "kriged_fall = np.zeros((int(endyear-strtyear),nrow,ncol))\n",
    "kriged_spring = np.zeros((int(endyear-strtyear),nrow,ncol))\n",
    "\n",
    "kriged_NW = np.zeros((int(endyear-strtyear)*2,ncol))\n",
    "kriged_SE = np.zeros((int(endyear-strtyear)*2,ncol))\n",
    "# keep track of which place in array matches to year\n",
    "year_to_int = np.zeros((endyear-strtyear,2))\n",
    "\n",
    "t=0\n",
    "for year in np.arange(strtyear,endyear):\n",
    "    \n",
    "    # load and place spring kriged data in np array, load spring first\n",
    "    filename = glob.glob(ghb_dir+'/final_WSEL_arrays/spring'+str(year)+'_kriged_WSEL.tsv')[0]\n",
    "    df_grid = np.loadtxt(filename)\n",
    "    kriged_spring[t,:,:] = df_grid\n",
    "    \n",
    "    # load and place fall kriged data in np array\n",
    "    filename = glob.glob(ghb_dir+'/final_WSEL_arrays/fall'+str(year)+'_kriged_WSEL.tsv')[0]\n",
    "    df_grid = np.loadtxt(filename)\n",
    "    kriged_fall[t,:,:] = df_grid\n",
    "\n",
    "    \n",
    "    # save NW  dataframe\n",
    "    kriged_NW[t] = kriged_spring[t,0,:]\n",
    "    kriged_NW[2*t] = kriged_fall[t,0,:]\n",
    "    # save SE data frame\n",
    "    kriged_SE[t] = kriged_spring[t,nrow-1,:]\n",
    "    kriged_SE[2*t] = kriged_fall[t,nrow-1,:]\n",
    "    \n",
    "    year_to_int[t,0] = t\n",
    "    year_to_int[t,1] = year\n",
    "    t+=1\n",
    "    "
   ]
  },
  {
   "cell_type": "code",
   "execution_count": 35,
   "metadata": {},
   "outputs": [],
   "source": [
    "y_num=0\n",
    "\n",
    "nwhead_fall = kriged_fall[:,0,:]\n",
    "sehead_fall = kriged_fall[:,-1,:]\n",
    "\n",
    "\n",
    "# Set kriged water table elevations that are above land surface to land surface\n",
    "nwhead_fall = np.where(nwhead_fall>dem_data[0,:], dem_data[0,:], nwhead_fall)\n",
    "sehead_fall = np.where(sehead_fall>dem_data[-1,:], dem_data[-1,:], sehead_fall)\n",
    "\n",
    "kriged_NW = np.where(kriged_NW>dem_data[0,:], dem_data[0,:], kriged_NW)\n",
    "kriged_SE = np.where(kriged_SE>dem_data[-1,:], dem_data[-1,:], kriged_SE)\n",
    "\n",
    "# calculate the average depth to water table for the spring and from 2013-2018 for the northwest and southeast boundary\n",
    "avg_nw = np.nanmean(kriged_NW,axis=0)\n",
    "avg_se = np.nanmean(kriged_SE,axis=0)"
   ]
  },
  {
   "cell_type": "code",
   "execution_count": 36,
   "metadata": {},
   "outputs": [],
   "source": [
    "# steady state GHB layering\n",
    "nw_lay = np.zeros(ncol)\n",
    "se_lay = np.zeros(ncol)\n",
    "for k in np.arange(0,nlay-1):\n",
    "        # pull out elevation of layer bottom\n",
    "        lay_elevnw = botm[k, 0, :]\n",
    "        lay_elevse = botm[k, -1, :]\n",
    "        for j in np.arange(0,ncol):\n",
    "            if lay_elevnw[j] > avg_nw[j]:\n",
    "                nw_lay[j] = k+1\n",
    "            if lay_elevse[j] > avg_se[j]:\n",
    "                se_lay[j] = k+1\n",
    "# correct from float to integer for cell referencing\n",
    "nw_lay = nw_lay.astype(int)\n",
    "se_lay = se_lay.astype(int)"
   ]
  },
  {
   "cell_type": "markdown",
   "metadata": {},
   "source": [
    "## Read in TPROGS data"
   ]
  },
  {
   "cell_type": "code",
   "execution_count": 37,
   "metadata": {},
   "outputs": [],
   "source": [
    "# \"C:\\Users\\ajcalder\\Box\\research_cosumnes\\Large_TPROGS_run\\TPROGS_realizations\\tsim_Cosumnes_Full_Model.asc1\"\n",
    "# create tprogs directory reference to 100 large tprogs runs ascii files\n",
    "# tprogs_dir = os.path.dirname(gwfm_dir)+'/Large_TPROGS_run/Archive/TPROGS_realizations/'\n",
    "# # get all file names\n",
    "# tprogs_files = glob.glob(tprogs_dir+'*')\n"
   ]
  },
  {
   "cell_type": "code",
   "execution_count": 38,
   "metadata": {},
   "outputs": [],
   "source": [
    "mf_tprogs_dir = gwfm_dir+'/UPW_data/tprogs_final/'\n",
    "tprogs_files = glob.glob(mf_tprogs_dir+'*')\n"
   ]
  },
  {
   "cell_type": "code",
   "execution_count": 39,
   "metadata": {},
   "outputs": [],
   "source": [
    "gel_dir = gwfm_dir+'/UPW_data'\n",
    "if 'ZonePropertiesInitial.csv' in os.listdir(model_ws):\n",
    "    params = pd.read_csv(model_ws+'/ZonePropertiesInitial.csv',index_col='Zone')\n",
    "else:\n",
    "    params = pd.read_csv(gel_dir+'/ZonePropertiesInitial.csv',index_col='Zone')\n",
    "    params.to_csv(model_ws+'/ZonePropertiesInitial.csv')\n",
    "# convert from m/s to m/d\n",
    "params['K_m_d'] = params.K_m_s * 86400    "
   ]
  },
  {
   "cell_type": "code",
   "execution_count": 40,
   "metadata": {},
   "outputs": [],
   "source": [
    "def tprogs_cut_elev(tprogs_line, dem_data, **kwargs):\n",
    "    rows = kwargs.get('rows', np.where(np.ones(dem_data.shape)==1)[0])\n",
    "    cols = kwargs.get('cols', np.where(np.ones(dem_data.shape)==1)[1])\n",
    "    tprogs_arr = np.reshape(tprogs_line, (320, 100,230))\n",
    "    tprogs_c = np.reshape(tprogs_arr[:, rows,cols],\n",
    "                             (tprogs_arr.shape[0],dem_data.shape[0],dem_data.shape[1]))\n",
    "    tprogs_elev = np.copy(tprogs_c)\n",
    "    # the bottom layer of the tprogs model is at -50 m amsl and the top layer is 50 m amsl\n",
    "    t = 0\n",
    "    for k in np.arange(-80,80,0.5):\n",
    "        tprogs_elev[t,dem_data<k]= np.NaN\n",
    "        t+=1\n",
    "    masked_tprogs = ma.masked_invalid(tprogs_elev)\n",
    "    return(masked_tprogs)"
   ]
  },
  {
   "cell_type": "code",
   "execution_count": 41,
   "metadata": {},
   "outputs": [],
   "source": [
    "import numpy.ma as ma\n",
    "def tprogs_cut_saturated(tprogs,kriged):\n",
    "    tprogs_unsat = np.copy(tprogs)\n",
    "    # the bottom layer of the tprogs model is at -80 m amsl and the top layer is 80 m amsl\n",
    "    # set any tprogs cells below the average fall water table depth as np.nan\n",
    "    t = 0\n",
    "    for k in np.arange(-80,80,0.5):\n",
    "        tprogs_unsat[t,kriged>k]= np.NaN\n",
    "        t+=1\n",
    "    masked_tprogs = ma.masked_invalid(tprogs_unsat)\n",
    "    return(masked_tprogs)"
   ]
  },
  {
   "cell_type": "code",
   "execution_count": 42,
   "metadata": {},
   "outputs": [],
   "source": [
    "def int_to_param(tprogs):\n",
    "    tprogs[tprogs<0] *= -1\n",
    "    tprogs = tprogs.astype(float)\n",
    "    # flip tprogs model along z axis to match modflow definition of 0 as top (TPROGS says 0 is bottom)\n",
    "    tprogs = np.flip(tprogs,axis=0)\n",
    "    tprogs_K = np.copy(tprogs)\n",
    "    tprogs_Sy = np.copy(tprogs)\n",
    "    tprogs_Ss = np.copy(tprogs)\n",
    "    # hydraulic parameters from fleckenstein 2006\n",
    "    # I-IV gravel, sand, muddy sand, mud\n",
    "    # K in m/s, Sy, Ss\n",
    "    for n in np.arange(1,5):\n",
    "        tprogs_K[tprogs==n]= params.loc[n,'K_m_d']\n",
    "    for n in np.arange(1,5):\n",
    "        tprogs_Sy[tprogs==n]= params.loc[n,'Sy']\n",
    "    for n in np.arange(1,5):\n",
    "        tprogs_Ss[tprogs==n]= params.loc[n,'Ss']\n",
    "            \n",
    "    return(tprogs_K,tprogs_Sy,tprogs_Ss)\n"
   ]
  },
  {
   "cell_type": "code",
   "execution_count": 43,
   "metadata": {},
   "outputs": [],
   "source": [
    "t=0\n",
    "tprogs_line = np.loadtxt(tprogs_files[t])\n",
    "masked_tprogs=tprogs_cut_elev(tprogs_line, dem_data)\n",
    "K, Sy, Ss= int_to_param(masked_tprogs)\n"
   ]
  },
  {
   "cell_type": "code",
   "execution_count": 44,
   "metadata": {},
   "outputs": [],
   "source": [
    "# take the mean water surface elevations for fall and spring\n",
    "kriged_fall_avg = np.nanmean(kriged_fall,axis=0)\n",
    "kriged_spring_avg = np.nanmean(kriged_spring,axis=0)\n",
    "# take average between fall and spring water surface elevations\n",
    "kriged_fall_spring_avg = (kriged_fall_avg+kriged_spring_avg)/2"
   ]
  },
  {
   "cell_type": "code",
   "execution_count": 45,
   "metadata": {},
   "outputs": [],
   "source": [
    "from scipy.stats import hmean\n",
    "unsat_hk = np.mean(tprogs_cut_saturated(K,kriged_fall_spring_avg),axis=0)\n",
    "unsat_vka = hmean(tprogs_cut_saturated(K,kriged_fall_spring_avg))\n",
    "unsat_sy = np.mean(tprogs_cut_saturated(Sy,kriged_fall_spring_avg),axis=0)\n",
    "unsat_ss = np.mean(tprogs_cut_saturated(Ss,kriged_fall_spring_avg),axis=0)\n",
    "\n",
    "# set any zero values to the average of the domain, should be added to the function above\n",
    "# arithmetic mean is used because we are filling data and not calculating vertical averages\n",
    "unsat_hk[unsat_hk.data==0] = np.mean(unsat_hk)\n",
    "unsat_vka[unsat_vka.data==0] = np.mean(unsat_vka)\n",
    "unsat_sy[unsat_sy.data==0] = np.mean(unsat_sy)\n",
    "unsat_ss[unsat_ss.data==0] = np.mean(unsat_ss)"
   ]
  },
  {
   "cell_type": "code",
   "execution_count": 46,
   "metadata": {},
   "outputs": [],
   "source": [
    "# the first layer starts at -10 m which corresponds to 20 layers below 0\n",
    "# 0m AMSL is 160 layers above the bottom of tprogs which ends up giving 160-20 is layer 140 or 139 for 0 based"
   ]
  },
  {
   "cell_type": "markdown",
   "metadata": {},
   "source": [
    "## LPF/UPW package"
   ]
  },
  {
   "cell_type": "code",
   "execution_count": 47,
   "metadata": {},
   "outputs": [],
   "source": [
    "def elev_to_tprogs_layers(elev):\n",
    "    # function to get the tprogs layers based on the given elevation\n",
    "    # layer 0 is 80 meters, layer 1 is 79.5 meters, layer -1 is -80 meters\n",
    "    elev_05 = np.round((elev) * 2) / 2 # dem rounded to the nearest 0.5\n",
    "    elev_05[elev_05 >= 80] = 80# any elevation above 80 m is set to 80\n",
    "    elev_indices = 160 - elev_05*2 # subtract the calculated row from 160 to get to 0 at 160 and 320 and -160\n",
    "    return(elev_indices.astype(int))\n",
    "    \n",
    "def get_tprogs_for_elev(tprogs_arr, top_elev, bot_elev, **kwargs):\n",
    "    rows = kwargs.get('rows', np.where(np.ones(top_elev.shape)==1)[0])\n",
    "    cols = kwargs.get('cols', np.where(np.ones(top_elev.shape)==1)[1])\n",
    "    top_indices = elev_to_tprogs_layers(top_elev)\n",
    "    bot_indices = elev_to_tprogs_layers(bot_elev)\n",
    "    # find tprogs layer for desired rows and columns\n",
    "    top_indices = top_indices[rows, cols].astype(int)\n",
    "    bot_indices = bot_indices[rows, cols].astype(int)\n",
    "    # the first row of the array will be the top layer and will progress downward until the max bottom is reached\n",
    "    # with NaNs for rows,cols where there are less layers indexed than the max\n",
    "    tprogs_subset = np.full(shape = (np.max(bot_indices - top_indices).astype(int), len(rows)),\n",
    "                       fill_value = np.nan, dtype = float)\n",
    "    max_layers = np.max(bot_indices - top_indices)\n",
    "    for k in np.arange(0,max_layers):\n",
    "        layexist = (bot_indices-top_indices) > k # pick where data should be referenced\n",
    "        tprogs_subset[k, layexist] = tprogs_arr[top_indices[layexist]+k, rows[layexist], cols[layexist]]\n",
    "    # return grabbed data in array format if entire domain was used\n",
    "    if len(rows) == top_elev.shape[0]*top_elev.shape[1]:\n",
    "        tprogs_subset = np.reshape(tprogs_subset, (max_layers, top_elev.shape[0], top_elev.shape[1]))\n",
    "    # mask na values so they don't cause issues with gmean or hmean\n",
    "    tprogs_subset = ma.masked_array(tprogs_subset, mask = np.isnan(tprogs_subset))\n",
    "    return(tprogs_subset)"
   ]
  },
  {
   "cell_type": "code",
   "execution_count": 48,
   "metadata": {
    "scrolled": true
   },
   "outputs": [],
   "source": [
    "hk = np.zeros(botm.shape)\n",
    "vka = np.zeros(botm.shape)\n",
    "sy = np.zeros(botm.shape)\n",
    "ss = np.zeros(botm.shape)"
   ]
  },
  {
   "cell_type": "code",
   "execution_count": 49,
   "metadata": {},
   "outputs": [],
   "source": [
    "# # take of 2 for the bottom layers and 1 for the unsat zone layer up top\n",
    "# # for tprogs arrays 0 is the bottom of the model, so flipping on z will fix\n",
    "# hk[1:-2,:,:] = np.flip(K[-hk.shape[0]+1:-2,:,:],axis=0)\n",
    "# sy[1:-2,:,:] = np.flip(Sy[-sy.shape[0]+1:-2,:,:],axis=0)\n",
    "# ss[1:-2,:,:] = np.flip(Ss[-ss.shape[0]+1:-2,:,:],axis=0)\n"
   ]
  },
  {
   "cell_type": "code",
   "execution_count": 50,
   "metadata": {},
   "outputs": [],
   "source": [
    "# hk[0,:,:] = unsat_hk\n",
    "# vka[0,:,:] = unsat_vka\n",
    "# sy[0,:,:] = unsat_sy\n",
    "# ss[0,:,:] = unsat_ss"
   ]
  },
  {
   "cell_type": "markdown",
   "metadata": {},
   "source": [
    "the unsat hk is designed for use in the vka parameter in the uzf package to be representative of the average vertical \n",
    "hydraulic conductivity of the unsaturated zone"
   ]
  },
  {
   "cell_type": "code",
   "execution_count": 51,
   "metadata": {},
   "outputs": [],
   "source": [
    "np.savetxt(m.model_ws+'/input_data/unsat_hk.tsv', unsat_hk.data, delimiter = '\\t')\n",
    "np.savetxt(m.model_ws+'/input_data/unsat_vka.tsv', unsat_vka.data,delimiter = '\\t')\n",
    "np.savetxt(m.model_ws+'/input_data/unsat_sy.tsv', unsat_sy.data,delimiter = '\\t')\n",
    "np.savetxt(m.model_ws+'/input_data/unsat_s.tsv', unsat_ss.data,delimiter = '\\t')\n",
    "\n",
    "# unsat_hk = np.loadtxt(m.model_ws+'/input_data/unsat_hk.tsv',delimiter = '\\t')\n",
    "# unsat_vka = np.loadtxt(m.model_ws+'/input_data/unsat_vka.tsv',delimiter = '\\t')\n",
    "# unsat_sy = np.loadtxt(m.model_ws+'/input_data/unsat_sy.tsv',delimiter = '\\t')\n",
    "# unsat_ss = np.loadtxt(m.model_ws+'/input_data/unsat_s.tsv', delimiter = '\\t')"
   ]
  },
  {
   "cell_type": "markdown",
   "metadata": {},
   "source": [
    "The LPF package should use the means for the complete TPROGs layers available for the first layer"
   ]
  },
  {
   "cell_type": "code",
   "execution_count": 52,
   "metadata": {},
   "outputs": [],
   "source": [
    "lay1_HK = np.mean(get_tprogs_for_elev(K, m.dis.top.array, m.dis.botm.array[0,:,:]),axis=0)\n",
    "lay1_VK = hmean(get_tprogs_for_elev(K, m.dis.top.array, m.dis.botm.array[0,:,:]),axis=0)\n",
    "lay1_Sy = np.mean(get_tprogs_for_elev(Sy, m.dis.top.array, m.dis.botm.array[0,:,:]),axis=0)\n",
    "lay1_Ss = np.mean(get_tprogs_for_elev(Ss, m.dis.top.array, m.dis.botm.array[0,:,:]),axis=0)\n",
    "\n"
   ]
  },
  {
   "cell_type": "code",
   "execution_count": 53,
   "metadata": {},
   "outputs": [],
   "source": [
    "# set parameters based on upscaled unsaturated zone\n",
    "hk[0,:,:] = lay1_HK\n",
    "vka[0,:,:] = lay1_VK\n",
    "sy[0,:,:] = lay1_Sy\n",
    "ss[0,:,:] = lay1_Ss"
   ]
  },
  {
   "cell_type": "markdown",
   "metadata": {},
   "source": [
    "The tuff breccia is very dense, hard and low water yielding. It is supposedly responsible for the many \"haystack\" hills in the eastern part of the county\n",
    "\n",
    "DWR report has a few final well pumping rates, drawdowns and specific capacities but limited.\n",
    "\n",
    "Fleckenstein et al. 2006 found the Mehrten had\n",
    "Kh = 1 to 1.8 x10^-5 m/s\n",
    "Kv = 1 to 1.8 x10^-7 m/s\n",
    "Sy = 0.15 to 0.2\n",
    "Ss = 1e-4 to 1e-3 m^-1"
   ]
  },
  {
   "cell_type": "code",
   "execution_count": 54,
   "metadata": {},
   "outputs": [],
   "source": [
    "# set values for second to bottom layer, Laguna formation\n",
    "hk[-2,:,:] = params.loc[5,'K_m_d']\n",
    "vka[-2,:,:] = params.loc[5,'K_m_d']/100 # assume 1/100 for Kx to Kz\n",
    "sy[-2,:,:] = params.loc[5,'Sy']\n",
    "ss[-2,:,:] = params.loc[5,'Ss']\n",
    "\n",
    "# the deep_geology array shows where the mehrten formation comes out of the surface\n",
    "hk[deep_geology[:,:,:].astype(bool)] = params.loc[6,'K_m_d']\n",
    "vka[deep_geology[:,:,:].astype(bool)] = params.loc[6,'K_m_d']/100 # assume 1/100 for Kx to Kz\n",
    "sy[deep_geology[:,:,:].astype(bool)] = params.loc[6,'Sy']\n",
    "ss[deep_geology[:,:,:].astype(bool)] = params.loc[6,'Ss']\n",
    "\n",
    "# set values for bottom layer, Mehrten formation\n",
    "hk[-1,:,:] = params.loc[6,'K_m_d']\n",
    "vka[-1,:,:] = params.loc[6,'K_m_d']/100 # assume 1/100 for Kx to Kz\n",
    "sy[-1,:,:] = params.loc[6,'Sy']\n",
    "ss[-1,:,:] = params.loc[6,'Ss']"
   ]
  },
  {
   "cell_type": "code",
   "execution_count": 55,
   "metadata": {},
   "outputs": [
    {
     "data": {
      "text/plain": [
       "0.21314492753623188"
      ]
     },
     "execution_count": 55,
     "metadata": {},
     "output_type": "execute_result"
    }
   ],
   "source": [
    "# 14707 dry cells, 20 % of the model is dry which is substantial\n",
    "14707/(230*100*3)"
   ]
  },
  {
   "cell_type": "code",
   "execution_count": 56,
   "metadata": {},
   "outputs": [],
   "source": [
    "# layvka 0 means vka is vert K, non zero means its the anisotropy ratio between horiz and vert\n",
    "layvka = 0\n",
    "\n",
    "# LAYTYP MUST BE GREATER THAN ZERO WHEN IUZFOPT IS 2\n",
    "# 0 is confined, >0 convertible, <0 convertible unless the THICKSTRT option is in effect\n",
    "# laytyp = np.ones(nlay)  \n",
    "laytyp = np.zeros(nlay)\n",
    "# Laywet must be 0 if laytyp is confined laywet = [1,1,1,1,1]\n",
    "laywet = np.zeros(len(laytyp))\n",
    "laywet[laytyp==1] = 1\n",
    "#ipakcb = 55 means cell-by-cell budget is saved because it is non zero (default is 53)\n",
    "\n",
    "# until upscaling is begun then vertical and horiz K are the same for TPROGS\n",
    "# upw = flopy.modflow.ModflowUpw(model = m, hk =hk, layvka = layvka, vka = hk, sy=sy, ss=ss,\n",
    "#             laytyp=laytyp, ipakcb=55)\n",
    "\n",
    "lpf = flopy.modflow.ModflowLpf(model = m, hk =hk, layvka = layvka, vka = hk, sy=sy, ss=ss,\n",
    "                               laytyp=laytyp, laywet = laywet, ipakcb=55)"
   ]
  },
  {
   "cell_type": "code",
   "execution_count": 57,
   "metadata": {},
   "outputs": [],
   "source": [
    "# lpf.write_file()"
   ]
  },
  {
   "cell_type": "code",
   "execution_count": 58,
   "metadata": {},
   "outputs": [],
   "source": [
    "# m.remove_package('UPW')"
   ]
  },
  {
   "cell_type": "code",
   "execution_count": 59,
   "metadata": {},
   "outputs": [],
   "source": [
    "# option to make switching between packages easier\n",
    "# 'LPF' in m.get_package_list()"
   ]
  },
  {
   "cell_type": "markdown",
   "metadata": {},
   "source": [
    "### Scaling factors for GHB, RIV, UZF/RCH and WEL package"
   ]
  },
  {
   "cell_type": "code",
   "execution_count": 60,
   "metadata": {},
   "outputs": [],
   "source": [
    "gel_dir = gwfm_dir+'/UPW_data'\n",
    "if 'GHB_UZF_WEL_scaling.csv' in os.listdir(model_ws):\n",
    "    scaling_factors = pd.read_csv(model_ws+'/GHB_UZF_WEL_scaling.csv',delimiter = ',')\n",
    "else:\n",
    "    scaling_factors = pd.read_csv(gel_dir+'/GHB_UZF_WEL_scaling.csv',delimiter = ',')\n",
    "    scaling_factors.to_csv(model_ws+'/GHB_UZF_WEL_scaling.csv')\n",
    "\n"
   ]
  },
  {
   "cell_type": "markdown",
   "metadata": {},
   "source": [
    "## Import soil data for Lake Package, UZF Package, SFR Package hydraulic parameters"
   ]
  },
  {
   "cell_type": "code",
   "execution_count": 61,
   "metadata": {},
   "outputs": [],
   "source": [
    "mb_name = gwfm_dir+\"/NewModelDomain/GWModelDomain_52_9deg_UTM10N_WGS84.shp\"\n",
    "\n",
    "mb = gpd.read_file(mb_name)\n",
    "mb = mb.to_crs('epsg:32610')"
   ]
  },
  {
   "cell_type": "code",
   "execution_count": 62,
   "metadata": {},
   "outputs": [],
   "source": [
    "uzf_path = gwfm_dir+'\\\\UZF_data'\n",
    "soil_path = uzf_path+'\\\\wss_gsmsoil_CA'\n",
    "# # Read in the soil map spatial data\n",
    "# soil_gpd = gpd.read_file(uzf_path+'\\\\wss_gsmsoil_CA\\\\spatial\\\\gsmsoilmu_a_ca.shp')\n",
    "# soil_gpd = soil_gpd.to_crs('EPSG:32610')\n",
    "# # soil_gpd.plot()"
   ]
  },
  {
   "cell_type": "markdown",
   "metadata": {},
   "source": [
    "### Write grid_uzf to shapefile to avoid having to repeat analysis"
   ]
  },
  {
   "cell_type": "code",
   "execution_count": 63,
   "metadata": {},
   "outputs": [],
   "source": [
    "# grid_uzf.to_file(uzf_path+'/final_grid_uzf/griduzf.shp')\n",
    "# grid_uzf = gpd.read_file(uzf_path+'/final_grid_uzf/griduzf.shp')"
   ]
  },
  {
   "cell_type": "code",
   "execution_count": 64,
   "metadata": {},
   "outputs": [],
   "source": [
    "# def fill_uzf(uzfvalues, grid_uzf):\n",
    "#     # convert geopandas object to regular np array for soil data\n",
    "#     temp = np.zeros((nrow,ncol))\n",
    "#     temp[(grid_uzf.row.values-1).astype(int),(grid_uzf.column.values-1).astype(int)] = uzfvalues\n",
    "#     return(temp)"
   ]
  },
  {
   "cell_type": "code",
   "execution_count": 65,
   "metadata": {},
   "outputs": [],
   "source": [
    "soilKs_array = np.loadtxt(uzf_path+'/final_soilKs.tsv', delimiter = '\\t')\n",
    "soiln_array = np.loadtxt(uzf_path+'/final_soiln.tsv', delimiter = '\\t')\n",
    "soileps_array = np.loadtxt(uzf_path+'/final_soileps.tsv', delimiter = '\\t')\n",
    "soildepth_array = np.loadtxt(uzf_path+'/final_soildepth.tsv', delimiter = '\\t')\n",
    "\n",
    "# soilKs_array = fill_uzf(grid_uzf.Ksat_Rep, grid_uzf)\n",
    "# soiln_array = fill_uzf(grid_uzf.Porosity_R, grid_uzf)\n",
    "# soileps_array = fill_uzf(grid_uzf.EPS, grid_uzf)\n",
    "\n",
    "# np.savetxt(uzf_path+'/final_soilKs.tsv', soilKs_array, delimiter = '\\t')\n",
    "# np.savetxt(uzf_path+'/final_soiln.tsv', soiln_array, delimiter = '\\t')\n",
    "# np.savetxt(uzf_path+'/final_soileps.tsv', soileps_array, delimiter = '\\t')"
   ]
  },
  {
   "cell_type": "markdown",
   "metadata": {},
   "source": [
    "# SFR"
   ]
  },
  {
   "cell_type": "code",
   "execution_count": 66,
   "metadata": {},
   "outputs": [],
   "source": [
    "sfr_dir = gwfm_dir+'/SFR_data/'"
   ]
  },
  {
   "cell_type": "code",
   "execution_count": 67,
   "metadata": {},
   "outputs": [],
   "source": [
    "# mb_name = gwfm_dir+\"/NewModelDomain/GWModelDomain_52_9deg_UTM10N_WGS84.shp\"\n",
    "# # mb_name = gwfm_dir+\"/GWModelDomain_UTM10N/GWModelDomain_Rec_UTM10N.shp\"\n",
    "\n",
    "# # Rivers and creeks in the larger area encompassing Cosumnes River in both South American and Cosumnes Subbasins\n",
    "# rivers = gpd.read_file(gwfm_dir+\"/SFR_data/Sac_valley_rivers/Sac_valley_rivers.shp\")\n",
    "# mb = gpd.read_file(mb_name)\n",
    "# mb = mb.to_crs('epsg:32610')\n",
    "# rivers = rivers.to_crs('EPSG:32610')\n",
    "# rivers_clip = gpd.clip(rivers, mb)\n",
    "# rivers_clip.plot()\n",
    "# # rivers_clip.GNIS_Name.unique()"
   ]
  },
  {
   "cell_type": "code",
   "execution_count": 68,
   "metadata": {},
   "outputs": [],
   "source": [
    "# print(rivers_clip.columns)\n",
    "# # Split into individual streams/creeks\n",
    "# cr_ind = rivers_clip[rivers_clip.GNIS_Name == 'Cosumnes River']\n",
    "# dc_ind = rivers_clip[rivers_clip.GNIS_Name == 'Deer Creek']\n",
    "# cc_ind = rivers_clip[rivers_clip.GNIS_Name ==  'Coyote Creek']\n",
    "# # Pull out data for each river/creek\n",
    "# cr = rivers_clip.loc[cr_ind.index,]\n",
    "# dc = rivers_clip.loc[dc_ind.index,]\n",
    "# cc = rivers_clip.loc[cc_ind.index,]\n"
   ]
  },
  {
   "cell_type": "code",
   "execution_count": 69,
   "metadata": {},
   "outputs": [],
   "source": [
    "# import fiona\n",
    "# from shapely.geometry import shape, mapping\n",
    "# from shapely.ops import linemerge\n",
    "\n",
    "# cr.geometry.values.crs = \"epsg:32610\"\n",
    "# geom = linemerge(cr.geometry.values)\n",
    "# # how often to interpolate a point\n",
    "# dline = 10\n",
    "# # # length of the LineString\n",
    "# length = int(geom.length)\n",
    "# point = np.zeros((int(length/dline)+1,3))\n",
    "# for i, distance in enumerate(range(0, int(length), dline)):\n",
    "#          point[i,:] = geom.interpolate(distance).coords[:][0]\n",
    "# point = point[:,[0,1]]\n",
    "# plt.plot(point[:,0],point[:,1])\n"
   ]
  },
  {
   "cell_type": "code",
   "execution_count": 70,
   "metadata": {},
   "outputs": [],
   "source": [
    "# raster_name = gwfm_dir+'/DEM_data/USGS_ten_meter_dem/regional_10m.tif'\n",
    "\n",
    "# # dem10 = rasterio.open(raster_name)\n",
    "\n",
    "# pnts = pd.DataFrame()\n",
    "# with rasterio.open(raster_name) as src:\n",
    "#     pnts['z'] = [sample[0] for sample in src.sample(point)]\n",
    "# pnts\n",
    "# pnts['easting'] = point[:,0]\n",
    "# pnts['northing'] = point[:,1]\n",
    "# pnts = pnts[pnts.z > -1E4]\n",
    "\n"
   ]
  },
  {
   "cell_type": "code",
   "execution_count": 71,
   "metadata": {},
   "outputs": [],
   "source": [
    "# plt.figure(figsize = (10,10))\n",
    "# pnts.z.plot()\n",
    "# pnts['slope'] = 0.002\n",
    "# for i in np.arange(1,len(pnts)):\n",
    "#     if pnts.z.values[i] >= pnts.z.values[i-1]:\n",
    "#         # if strtop is greater than previous strtop use previous elevation minus the average slope\n",
    "#         slope = ((np.max(pnts.z) - np.min(pnts.z))/geom.length)*dline\n",
    "#         if pnts.index[i] < 800:\n",
    "#             slope = 0.002\n",
    "#         elif pnts.index[i] < 2700:\n",
    "#             slope = 0.0003\n",
    "#         elif pnts.index[i] < 3200:\n",
    "#             slope = 0.001\n",
    "#         else:\n",
    "#             slope = 0.0003\n",
    "#         pnts.z.values[i] = pnts.z.values[i-1] - slope*dline\n",
    "#         pnts.slope.values[i] = slope\n",
    "# pnts.z.plot()"
   ]
  },
  {
   "cell_type": "code",
   "execution_count": 72,
   "metadata": {},
   "outputs": [],
   "source": [
    "#  pnts['Point_order'] = pnts.index"
   ]
  },
  {
   "cell_type": "code",
   "execution_count": 73,
   "metadata": {},
   "outputs": [],
   "source": [
    "# pnts_gpd = gpd.GeoDataFrame(pnts, geometry = gpd.points_from_xy(pnts.easting, pnts.northing))\n",
    "# pnts_gpd.crs = 'epsg:32610'"
   ]
  },
  {
   "cell_type": "code",
   "execution_count": 74,
   "metadata": {},
   "outputs": [],
   "source": [
    "# plot_lines(m.modelgrid.grid_lines)\n",
    "# Write model grid to shapefile of polygons\n",
    "# m.modelgrid.write_shapefile('grid/grid.shp', epsg = '32610')\n",
    "# grid_p = gpd.read_file('grid/grid.shp')"
   ]
  },
  {
   "cell_type": "code",
   "execution_count": 75,
   "metadata": {},
   "outputs": [],
   "source": [
    "# # Samples the points every 10 meters to match with the 100 meter grid\n",
    "# grid_sfr = gpd.sjoin(grid_p, pnts_gpd, how = \"inner\", op= \"intersects\")\n",
    "# "
   ]
  },
  {
   "cell_type": "code",
   "execution_count": 76,
   "metadata": {
    "scrolled": false
   },
   "outputs": [],
   "source": [
    "# # Set reach length for each reach based on the separation used to create the points from the line object\n",
    "# # dline is 10 meters\n",
    "# grid_sfr['length_m'] = dline\n",
    "\n",
    "# # Dissolve the points again but using sum this time to get the total length of each reach\n",
    "# temp = grid_sfr.dissolve(by = 'node', aggfunc = 'sum').length_m.values\n",
    "\n",
    "# # Dissolves the points every 10 meters to the 200 meter spacing, using mean because the interested component is elevation\n",
    "# grid_sfr = grid_sfr.dissolve(by = 'node', aggfunc = 'mean')\n",
    "# grid_sfr.length_m = temp"
   ]
  },
  {
   "cell_type": "code",
   "execution_count": 77,
   "metadata": {},
   "outputs": [],
   "source": [
    "# print('mean stream length in cell is ', grid_sfr.length_m.mean(), ' meters')\n",
    "# grid_sfr.length_m.hist()\n",
    "\n",
    "\n",
    "# length_threshold =100\n",
    "\n",
    "# fig,ax=plt.subplots(figsize=(10,10))\n",
    "# grid_sfr.loc[grid_sfr.length_m >length_threshold].plot(ax=ax)\n",
    "# grid_sfr.loc[grid_sfr.length_m >length_threshold].shape\n",
    "\n",
    "# print('even after setting cutoff at 100m there is still stream connection')"
   ]
  },
  {
   "cell_type": "code",
   "execution_count": 78,
   "metadata": {},
   "outputs": [],
   "source": [
    "# remove reaches with a length less than 100m, short reaches with high conductance can lead to large errors\n",
    "# in the SFR package and unneccessarily increase computation time\n",
    "# grid_sfr = grid_sfr.loc[grid_sfr.length_m >length_threshold]\n",
    "\n",
    "# reorder reaches, and relabel the reach numbering after removing very shroty reaches\n",
    "# grid_sfr = grid_sfr.sort_values(by = 'Point_order')\n",
    "# grid_sfr['reach'] = np.arange(1,len(grid_sfr)+1)"
   ]
  },
  {
   "cell_type": "markdown",
   "metadata": {},
   "source": [
    "## Adjust Blodgett Dam scenario here"
   ]
  },
  {
   "cell_type": "code",
   "execution_count": 79,
   "metadata": {},
   "outputs": [],
   "source": [
    "# scenario = 'dam'\n",
    "# scenario = 'actual'\n",
    "# scenario = 'new'\n",
    "scenario = 'none'"
   ]
  },
  {
   "cell_type": "code",
   "execution_count": 80,
   "metadata": {},
   "outputs": [],
   "source": [
    "# grid_sfr.to_file(sfr_dir+'/final_grid_sfr/grid_sfr.shp')\n",
    "grid_sfr = gpd.read_file(sfr_dir+'/final_grid_sfr/grid_sfr.shp')\n"
   ]
  },
  {
   "cell_type": "code",
   "execution_count": 81,
   "metadata": {},
   "outputs": [],
   "source": [
    "XS8pt = pd.read_csv(sfr_dir+'8pointXS.csv')\n",
    "# XSlocs = gpd.read_file(sfr_dir+'8pointXS_locs/8pointXS_locs.shp')\n",
    "# new shapefile with an extra point for blodgett dam as site 16.5\n",
    "XSlocs = gpd.read_file(gwfm_dir+'/Blodgett_Dam/geospatial/8pointXS_locs/8pointXS_locs.shp')\n",
    "XSlocs.crs = 32610\n",
    "\n",
    "XSg  = gpd.sjoin(grid_sfr, XSlocs, how = \"inner\", op= \"contains\", lsuffix = 'sfr',rsuffix = 'xs')\n",
    "# print(len(XSg))\n",
    "\n",
    "# # Append the grid_breach location to the list of cross sections to split the segment\n",
    "# XSg = XSg.append(grid_breach).sort_values('reach')\n",
    "# # Copy the XS site name from the previous last site to the breach site to keep same XS\n",
    "# XSg.Site.iloc[-1] = XSg.Site.iloc[-2]\n",
    "# len(XSg), len(XS8pt.loc[0,:])/2\n",
    "\n",
    "if scenario == 'none':\n",
    "    # if no blodgett dam scenario then remove the extra cross section\n",
    "    XSg = XSg.loc[(XSg.Site!=16.5)]\n",
    "    XSg = XSg.loc[(XSg.Site!=16.2)]\n",
    "#     XSg = XSg.loc[XSg.Site!=16.2]\n",
    "elif scenario == 'actual':\n",
    "    XSg_side = XSg.loc[XSg.Site==16.5]\n",
    "    XSg_side.loc[:,'Site'] = 16.4\n",
    "    XSg = XSg.append(XSg_side)\n",
    "elif scenario == 'design':\n",
    "    # may or may not want to remove the segment before\n",
    "    XSg = XSg.loc[(XSg.Site!=16.2)]\n",
    "\n",
    "# if the scneario is the restructured or designed dam then no change in the segments is necessary\n",
    "# sort by site to make sure any XS added are properly included\n",
    "XSg = XSg.sort_values('Site')\n",
    "# print(len(XSg))\n"
   ]
  },
  {
   "cell_type": "code",
   "execution_count": 82,
   "metadata": {},
   "outputs": [],
   "source": [
    "if scenario =='actual':\n",
    "    pre_rch_num = XSg.loc[XSg.Site==16.2,'reach'].iloc[0]\n",
    "    add_rch = grid_sfr.loc[grid_sfr.reach== pre_rch_num].copy()\n",
    "    # for all reaches after added reach, need to add 1 to the reach number\n",
    "    grid_sfr.loc[grid_sfr.reach>pre_rch_num,'reach'] = grid_sfr.loc[grid_sfr.reach>pre_rch_num,'reach'] +1\n",
    "    # using the desired reach add 1 to just the duplicate\n",
    "    add_rch.reach +=1\n",
    "    # extra channel is 10m in length because it is there just to allow transfer of flow\n",
    "    grid_sfr.loc[grid_sfr.reach== pre_rch_num,'length_m'] = 10\n",
    "    add_rch.z = add_rch.z-10*add_rch.slope # adjust elevation of added reach to account for slope required\n",
    "    grid_sfr = grid_sfr.append(add_rch).sort_values('reach')\n",
    "    # adjust XSg to account for chnages to grid_sfr\n",
    "    XSg.loc[XSg.reach>pre_rch_num,'reach'] +=1\n",
    "    XSg.loc[XSg.Site==16.2,'reach']+=1 #add one to 16.2 because can't have two of the same reach\n",
    "    \n",
    "    # need to duplicate the reach for the segment\n",
    "    add_rch_num = XSg.loc[XSg.Site==16.4,'reach'].iloc[0]\n",
    "    add_rch = grid_sfr.loc[grid_sfr.reach== add_rch_num].copy()\n",
    "    # for all reaches after added reach, need to add 1 to the reach number\n",
    "    grid_sfr.loc[grid_sfr.reach>add_rch_num,'reach'] = grid_sfr.loc[grid_sfr.reach>add_rch_num,'reach'] +1\n",
    "    # using the desired reach add 1 to just the duplicate\n",
    "    add_rch.reach +=1\n",
    "\n",
    "    # side channel is 70m in length from satellite\n",
    "    # length of reach after dam can be kept the same but could be reduced slightly to account for addition of flooding/lake\n",
    "    grid_sfr.loc[grid_sfr.reach== add_rch_num,'length_m'] = 70\n",
    "    add_rch.z = add_rch.z-70*add_rch.slope # adjust elevation of added reach to account for slope required\n",
    "    grid_sfr = grid_sfr.append(add_rch).sort_values('reach')\n",
    "    \n",
    "    # adjust XSg to account for chnages to grid_sfr\n",
    "    XSg.loc[XSg.reach>add_rch_num,'reach'] +=1\n",
    "    XSg.loc[XSg.Site==16.5,'reach']+=1 #add one to 16.5 because can't have two of the same reach\n"
   ]
  },
  {
   "cell_type": "code",
   "execution_count": 83,
   "metadata": {},
   "outputs": [],
   "source": [
    "XSg['iseg'] = np.arange(2,len(XSg)+2) # add the segment that corresponds to each cross section"
   ]
  },
  {
   "cell_type": "code",
   "execution_count": 84,
   "metadata": {},
   "outputs": [],
   "source": [
    "\n",
    "if scenario == 'dam':\n",
    "    # designed scenario flow through dam only\n",
    "    new_xs = pd.read_csv(gwfm_dir+'/Blodgett_Dam/geospatial/02_designed_XS.csv', skiprows=1)\n",
    "elif scenario =='actual':\n",
    "    # current situation, flow around dam and after dam\n",
    "    new_xs = pd.read_csv(gwfm_dir+'/Blodgett_Dam/geospatial/03_actual_XS.csv', skiprows=1)\n",
    "elif scenario =='new':\n",
    "    # depending scenario, use different input cross sections for 16.5\n",
    "    new_xs = pd.read_csv(gwfm_dir+'/Blodgett_Dam/geospatial/01_New_wide_XS.csv')\n",
    "\n",
    "# if there is a scneario then need to add the new XS\n",
    "if scenario != 'none':\n",
    "    XS8pt = pd.concat([XS8pt,new_xs],axis=1)"
   ]
  },
  {
   "cell_type": "markdown",
   "metadata": {},
   "source": [
    "some of the XS are not lining up with grid_sfr so they aren't being connected. Need to fix this and also look at how many XS are really needed to capture the change in river morphology"
   ]
  },
  {
   "cell_type": "markdown",
   "metadata": {},
   "source": [
    "### Read in 8 pt XS, revised by simplifying from Constantine 2001"
   ]
  },
  {
   "cell_type": "code",
   "execution_count": 85,
   "metadata": {},
   "outputs": [],
   "source": [
    "# There is one reach for each cell that a river crosses\n",
    "NSTRM = -len(grid_sfr)\n",
    "# There should a be a stream segment if there are major changes\n",
    "# in variables in Item 4 or Item 6\n",
    "# 1st segment is for the usgs Michigan Bar rating curve, one for each XS, plus 2 for the floodplain diversion\n",
    "NSS = 1 + len(XSg) \n",
    "# NSS = 2\n",
    "# nparseg (int) number of stream-segment definition with all parameters, must be zero when nstrm is negative\n",
    "NPARSEG = 0\n",
    "CONST = 86400 # mannings constant for SI units, 1.0 for seconds, 86400 for days\n",
    "# real value equal to the tolerance of stream depth used in\n",
    "# computing leakage between each stream reach and active model cell\n",
    "DLEAK = 0.0001 # unit in lengths, 0.0001 is sufficient for units of meters\n",
    "IPAKCB = 55\n",
    "# writes out stream depth, width, conductance, gradient when cell by cell\n",
    "# budget is specified and istcb2 is the unit folder\n",
    "ISTCB2 = 54\n",
    "# isfropt = 1 is no unsat flow\n",
    "# specifies whether unsat flow beneath stream or not, isfropt 2 has properties read for each reach, isfropt 3 also has UHC\n",
    "# read for each reach, isfropt 4 has properties read for each segment (no UHC), 5 reads for each segment with UHC\n",
    "ISFROPT = 1\n",
    "# nstrail (int), number of trailing weave increments used to represent a trailing wave, used to represent a decrease \n",
    "# in the surface infiltration rate. Can be increased to improve mass balance, values between 10-20 work well with error \n",
    "# beneath streams ranging between 0.001 and 0.01 percent, default is 10 (only when isfropt >1)\n",
    "NSTRAIL = 20\n",
    "# isuzn (int) tells max number of vertical cells used to define the unsaturated zone beneath a stream reach (default is 1)\n",
    "ISUZN = 1\n",
    "#nsfrsets (int) is max number of different sets of trailing waves (used to allocate arrays), a value of 30 is sufficient for problems\n",
    "# where stream depth varies often, value doesn't effect run time (default is 30)\n",
    "NSFRSETS = 30\n",
    "# IRTFLG (int) indicates whether transient streamflow routing is active, must be specified if NSTRM <0. If IRTFLG >0 then\n",
    "# flow will be routed with the kinematic-wave equations, otherwise it should be 0 (only for MF2005), default is 1\n",
    "IRTFLG = 1\n",
    "# numtim (int) is number of sub time steps used to route streamflow. Streamflow time step = MF Time step / NUMTIM. \n",
    "# Default is 2, only when IRTFLG >0\n",
    "NUMTIM = 4\n",
    "# weight (float) is a weighting factor used to calculate change in channel storage 0.5 - 1 (default of 0.75) \n",
    "WEIGHT = 0.75\n",
    "# flwtol (float), flow tolerance, a value of 0.00003 m3/s has been used successfully (default of 0.0001)\n",
    "# 0.00003 m3/s = 2.592 m3/day\n",
    "# a flow tolerance of 1 cfs is equal to 2446.57 m3/day\n",
    "# if my units are in m3/day then flwtol should be in m3/day\n",
    "FLWTOL = 3\n",
    "\n",
    "\n",
    "sfr = flopy.modflow.ModflowSfr2(model = m, nstrm = NSTRM, nss = NSS, nparseg = NPARSEG, \n",
    "                           const = CONST, dleak = DLEAK, ipakcb = IPAKCB, istcb2 = ISTCB2, \n",
    "                          isfropt = ISFROPT, nstrail = NSTRAIL, isuzn = ISUZN, irtflg = IRTFLG, \n",
    "                          numtim = NUMTIM, weight = WEIGHT, flwtol = FLWTOL,\n",
    "                                reachinput=True, transroute=True, tabfiles=True,\n",
    "                                tabfiles_dict={1: {'numval': nper, 'inuit': 56}})"
   ]
  },
  {
   "cell_type": "code",
   "execution_count": 86,
   "metadata": {},
   "outputs": [],
   "source": [
    "# Add option block at the top of the sfr input file for tabfiles\n",
    "tab_option = flopy.utils.OptionBlock(options_line = ' reachinput transroute tabfiles 1 ' + str(nper), package = sfr, block = True)\n",
    "sfr.options = tab_option\n",
    "# sfr.options"
   ]
  },
  {
   "cell_type": "code",
   "execution_count": 87,
   "metadata": {},
   "outputs": [],
   "source": [
    "# Modflow NWT additions to SFR package set up\n",
    "# sfr.transroute = True\n",
    "# sfr.reachinput = True\n",
    "# sfr.tabfiles = True\n",
    "# # numval is the number of values in the flow tab files, inuit is the corresponding unit file\n",
    "# sfr.tabfiles_dict = {1: {'numval': nper, 'inuit': 56}}"
   ]
  },
  {
   "cell_type": "code",
   "execution_count": 88,
   "metadata": {},
   "outputs": [],
   "source": [
    "xs_sfr = grid_sfr.set_index('reach')\n",
    "# set all reaches to start as segment 1 which will be changed iteratively based on the number of cross-sections\n",
    "xs_sfr['iseg'] = 1\n",
    "# add a column reach_new that will be changed iteratively as the segment number is changed\n",
    "xs_sfr['reach_new'] = xs_sfr.index\n",
    "# xs_sfr"
   ]
  },
  {
   "cell_type": "markdown",
   "metadata": {},
   "source": [
    "## Define reach data based on ISFROPT"
   ]
  },
  {
   "cell_type": "code",
   "execution_count": 89,
   "metadata": {},
   "outputs": [
    {
     "name": "stderr",
     "output_type": "stream",
     "text": [
      "C:\\Users\\ajcalder\\Anaconda3\\envs\\geosp\\lib\\site-packages\\pandas\\core\\indexing.py:1637: SettingWithCopyWarning: \n",
      "A value is trying to be set on a copy of a slice from a DataFrame\n",
      "\n",
      "See the caveats in the documentation: https://pandas.pydata.org/pandas-docs/stable/user_guide/indexing.html#returning-a-view-versus-a-copy\n",
      "  self._setitem_single_block(indexer, value, name)\n"
     ]
    }
   ],
   "source": [
    "## Given the reach number of each XS, the 718 reaches will be broken down into each segment\n",
    "## create a new reach column based on XS reach number and \n",
    "\n",
    "# segcount = 2\n",
    "for i in np.arange(0,len(XSg)):\n",
    "    temp_reach = XSg.reach.values[i]\n",
    "    rchnum = xs_sfr.index[-1] - temp_reach+1\n",
    "    xs_sfr.reach_new.loc[temp_reach:] = np.linspace(1,rchnum, rchnum)\n",
    "#     xs_sfr.iseg.loc[temp_reach:] = segcount\n",
    "    xs_sfr.iseg.loc[temp_reach:] = XSg.iseg.values[i]\n",
    "#     segcount +=1\n",
    "    \n",
    "# for simple 1 XS model\n",
    "# temp_reach = XSg.reach\n",
    "# rchnum = xs_sfr.index[-1] - temp_reach+1\n",
    "# xs_sfr.reach_new.loc[temp_reach:] = np.linspace(1,rchnum, rchnum)\n",
    "# xs_sfr.iseg.loc[temp_reach:] = segcount\n",
    "# segcount +=1"
   ]
  },
  {
   "cell_type": "code",
   "execution_count": 90,
   "metadata": {},
   "outputs": [],
   "source": [
    "xs_sfr.reach_new = xs_sfr.reach_new.astype(int)\n"
   ]
  },
  {
   "cell_type": "code",
   "execution_count": 91,
   "metadata": {},
   "outputs": [],
   "source": [
    "# Determine which layer the streamcell is in\n",
    "# since the if statement only checks whether the first layer is greater than the streambed elevation, \n",
    "# otherwise it would be less than and zero (most should be in layer 0)\n",
    "sfr_lay = np.zeros(len(grid_sfr))\n",
    "\n",
    "for i in np.arange(0,nlay-1):\n",
    "    # pull out elevation of layer bottom\n",
    "    lay_elev = botm[i, (grid_sfr.row.values-1).astype(int), (grid_sfr.column.values-1).astype(int)]\n",
    "    for j in np.arange(0,len(grid_sfr)):\n",
    "        # want to compare if streambed is lower than the layer bottom\n",
    "        # 1 will be subtracted from each z value to make sure it is lower than the model top in the upper reaches\n",
    "        if lay_elev[j] < (grid_sfr.z.values-1)[j]:\n",
    "            sfr_lay[j] = i -1\n",
    "        \n"
   ]
  },
  {
   "cell_type": "code",
   "execution_count": 92,
   "metadata": {},
   "outputs": [],
   "source": [
    "# KRCH, IRCH, JRCH, ISEG, IREACH, RCHLEN, STRTOP, SLOPE, STRTHICK, STRHC1, THTS, THTI, EPS, UHC\n",
    "\n",
    "columns = ['KRCH', 'IRCH', 'JRCH', 'ISEG', 'IREACH', 'RCHLEN', 'STRTOP', \n",
    "               'SLOPE', 'STRTHICK', 'STRHC1', 'THTS', 'THTI', 'EPS', 'UHC']\n",
    "\n",
    "sfr_rows = (grid_sfr.row.values-1).astype(int)\n",
    "sfr_cols = (grid_sfr.column.values-1).astype(int)\n",
    "\n",
    "sfr.reach_data.node = grid_sfr.index\n",
    "sfr.reach_data.k = sfr_lay.astype(int)\n",
    "sfr.reach_data.i = sfr_rows\n",
    "sfr.reach_data.j = sfr_cols\n",
    "sfr.reach_data.iseg = xs_sfr.iseg\n",
    "sfr.reach_data.ireach = xs_sfr.reach_new\n",
    "sfr.reach_data.rchlen = xs_sfr.length_m.values\n",
    "sfr.reach_data.strtop = grid_sfr.z.values-1\n",
    "sfr.reach_data.slope = grid_sfr.slope.values\n",
    " # a guess of 2 meters thick streambed was appropriate\n",
    "sfr.reach_data.strthick = soildepth_array[sfr.reach_data.i, sfr.reach_data.j]\n",
    "\n",
    "# UZF parameters\n",
    "sfr.reach_data.thts = soiln_array[sfr.reach_data.i, sfr.reach_data.j]/100\n",
    "sfr.reach_data.thti = sfr.reach_data.thts\n",
    "sfr.reach_data.eps = soileps_array[sfr.reach_data.i, sfr.reach_data.j]\n",
    "sfr.reach_data.uch = unsat_vka[sfr.reach_data.i, sfr.reach_data.j].data\n"
   ]
  },
  {
   "cell_type": "code",
   "execution_count": 93,
   "metadata": {},
   "outputs": [],
   "source": [
    "grid_sfr['dist_m'] = grid_sfr.length_m.cumsum()\n",
    "grid_sfr.dist_m -= grid_sfr.dist_m.iloc[0]"
   ]
  },
  {
   "cell_type": "markdown",
   "metadata": {},
   "source": [
    "## Could try TPROGs alternative "
   ]
  },
  {
   "cell_type": "code",
   "execution_count": 94,
   "metadata": {},
   "outputs": [],
   "source": [
    "topbotm = np.zeros((m.dis.nlay+1,m.dis.nrow,m.dis.ncol))\n",
    "topbotm[0,:,:] = m.dis.top.array\n",
    "topbotm[1:,:,:] = m.dis.botm.array"
   ]
  },
  {
   "cell_type": "code",
   "execution_count": 95,
   "metadata": {},
   "outputs": [],
   "source": [
    "def elev_to_tprogs_layers(elev):\n",
    "    # function to get the tprogs layers based on the given elevation\n",
    "    # layer 0 is 80 meters, layer 1 is 79.5 meters, layer -1 is -80 meters\n",
    "    elev_05 = np.round((elev) * 2) / 2 # dem rounded to the nearest 0.5\n",
    "    elev_05[elev_05 >= 80] = 80# any elevation above 80 m is set to 80\n",
    "    elev_indices = 160 - elev_05*2 # subtract the calculated row from 160 to get to 0 at 160 and 320 and -160\n",
    "    return(elev_indices.astype(int))\n",
    "    \n",
    "def get_tprogs_for_elev(tprogs_arr, top_elev, bot_elev, **kwargs):\n",
    "    rows = kwargs.get('rows', np.where(np.ones(top_elev.shape)==1)[0])\n",
    "    cols = kwargs.get('cols', np.where(np.ones(top_elev.shape)==1)[1])\n",
    "    top_indices = elev_to_tprogs_layers(top_elev)\n",
    "    bot_indices = elev_to_tprogs_layers(bot_elev)\n",
    "    # find tprogs layer for desired rows and columns\n",
    "    top_indices = top_indices[rows, cols].astype(int)\n",
    "    bot_indices = bot_indices[rows, cols].astype(int)\n",
    "    # the first row of the array will be the top layer and will progress downward until the max bottom is reached\n",
    "    # with NaNs for rows,cols where there are less layers indexed than the max\n",
    "    tprogs_subset = np.full(shape = (np.max(bot_indices - top_indices).astype(int), len(rows)),\n",
    "                       fill_value = np.nan, dtype = float)\n",
    "    max_layers = np.max(bot_indices - top_indices)\n",
    "    for k in np.arange(0,max_layers):\n",
    "        layexist = (bot_indices-top_indices) > k # pick where data should be referenced\n",
    "        tprogs_subset[k, layexist] = K[top_indices[layexist]+k, rows[layexist], cols[layexist]]\n",
    "    # return grabbed data in array format if entire domain was used\n",
    "    if len(rows) == top_elev.shape[0]*top_elev.shape[1]:\n",
    "        tprogs_subset = np.reshape(tprogs_subset, (max_layers, top_elev.shape[0], top_elev.shape[1]))\n",
    "    return(tprogs_subset)"
   ]
  },
  {
   "cell_type": "code",
   "execution_count": 96,
   "metadata": {},
   "outputs": [],
   "source": [
    "strbd_thick = 4\n",
    "# get_tprogs_for_elev(K, m_c.dis.top.array, m_c.dis.top.array- np.linspace(1,4,m_c.dis.ncol), rows = sfr_rows, cols = sfr_cols)\n",
    "strbd_tprogs = get_tprogs_for_elev(K, m.dis.top.array, m.dis.top.array- strbd_thick, rows = sfr_rows, cols = sfr_cols)\n",
    "sfr_K = gmean(strbd_tprogs,axis=0)/1000 # divide by 100 to ease convergence, but variability is still there\n",
    "\n",
    "# temp fix to get convergence\n",
    "# sfr_K = 0.01"
   ]
  },
  {
   "cell_type": "code",
   "execution_count": 97,
   "metadata": {},
   "outputs": [],
   "source": [
    "# based on FIgure 7 Subtrate composition profile map of the Cosumnes RIver from COnstantine 2001\n",
    "\n",
    "# subs_prof = pd.read_csv(sfr_dir+'substrate_river_profile.csv',skiprows=1)\n",
    "# # the start of the Constantine profile is about 20km downstream from Michigann Bar which is the start of SFR\n",
    "# subs_prof.end_river_km +=20\n",
    "# subs_prof['river_m'] = subs_prof.end_river_km * 1000\n",
    "\n",
    "# # range for tprogs is from 300 m/d for gravel to 0.5 m/d for mud\n",
    "# # but anything above 0.1 causes too much interchange with the aquifer\n",
    "# k_alluv = 0.1\n",
    "# k_duri = 0.001\n",
    "# k_alt = gmean([k_alluv,k_duri])\n",
    "# subs_prof['ksat'] = 0\n",
    "# subs_prof.loc[subs_prof.substrate=='alluvial','ksat'] = k_alluv\n",
    "# subs_prof.loc[subs_prof.substrate=='duirpan','ksat'] = k_duri\n",
    "# subs_prof.loc[subs_prof.substrate=='alternating','ksat'] = k_alt\n",
    "\n",
    "# sfr_K = np.zeros(len(grid_sfr))\n",
    "# subs_prof\n",
    "# for i in np.arange(0,len(subs_prof)):\n",
    "#     sfr_K[grid_sfr.dist_m<subs_prof.river_m[i]] = subs_prof.ksat[i]"
   ]
  },
  {
   "cell_type": "code",
   "execution_count": 98,
   "metadata": {},
   "outputs": [],
   "source": [
    "# set stream hydraulic conductivity based on soil maps\n",
    "# sfr.reach_data.strhc1 = soilKs_array[sfr.reach_data.i, sfr.reach_data.j]*scalingfactors.RIV\n",
    "# set hydraulic conductivity smaller than aquifer hydraulic conductivity to limit interaction\n",
    "# and ease the numerical stress\n",
    "sfr.reach_data.strhc1 = sfr_K\n",
    "\n",
    "# calibration of the whole river now by scaling conductivity\n",
    "m.sfr.reach_data.strhc1 = m.sfr.reach_data.strhc1\n",
    "# next step is to break river up into reaches based on the grain size analysis or perhaps just by stream segment"
   ]
  },
  {
   "cell_type": "markdown",
   "metadata": {},
   "source": [
    "The range of of maximum log(river bed K) (m/s) from Fleckenstein's cosumnes paper was -4.0 to -4.8 which gives VKA = 1.6e-5 to 1E-4 m/s and 1.38 - 8.64 m/day. Minimim of 1E-7 m/s or 8.64E-3 m/day. The mean was around 0.17 m/day"
   ]
  },
  {
   "cell_type": "code",
   "execution_count": 99,
   "metadata": {},
   "outputs": [
    {
     "data": {
      "text/plain": [
       "[<matplotlib.lines.Line2D at 0x1e3ecf9b248>]"
      ]
     },
     "execution_count": 99,
     "metadata": {},
     "output_type": "execute_result"
    },
    {
     "data": {
      "image/png": "[encoded data removed]",
      "text/plain": [
       "<Figure size 432x288 with 1 Axes>"
      ]
     },
     "metadata": {
      "needs_background": "light"
     },
     "output_type": "display_data"
    }
   ],
   "source": [
    "plt.plot(np.log(sfr_K))\n",
    "# plt.yscale('log')"
   ]
  },
  {
   "cell_type": "code",
   "execution_count": 100,
   "metadata": {},
   "outputs": [],
   "source": [
    "# sfr.write_file()"
   ]
  },
  {
   "cell_type": "markdown",
   "metadata": {},
   "source": [
    "With no sfr K reduction, the model failed to converge in stress period 12 time step 3. With sfr K reduced by a factor of 1/100 the model ran to stress period 1246 time step 4 while the previous model with low K went to stress period 2026 time step 4. Dividing by 1000 actually caused the model to fail to converge at stress period 100 which shows that there was not enough water coming in to the aquifer from the stream, and "
   ]
  },
  {
   "cell_type": "code",
   "execution_count": 101,
   "metadata": {},
   "outputs": [],
   "source": [
    "mb4rl = pd.read_csv(sfr_dir+'michigan_bar_icalc4_data.csv', skiprows = 0, sep = ',')\n",
    "# mb4rl.plot(x='gage_height_va',y='discharge_va', legend = False)\n",
    "# plt.xlabel('Gage height (m)')\n",
    "# plt.ylabel('Discharge $(m^3/d$)')\n",
    "# plt.ticklabel_format(style='scientific') # plain to show all zeros\n",
    "# plt.title('Simplified USGS Michigan Bar Rating Curve')\n",
    "# plt.savefig('Plots/Model_SFR_UZF_Progress/MB_ratingcurve', dpi = 300, bbox_inches='tight')"
   ]
  },
  {
   "cell_type": "code",
   "execution_count": 102,
   "metadata": {},
   "outputs": [],
   "source": [
    "# strtest_KsRep_array = fill_uzf(grid_uzf.Ksat_Rep, grid_uzf)\n",
    "# plt.plot(sfr.reach_data.strhc1, label = 'Strm VKA')\n",
    "# # plt.plot(strtest_KsRep_array[sfr.reach_data.i, sfr.reach_data.j], label = 'Strm HK')\n",
    "# plt.plot(upw.vka.array[0,sfr.reach_data.i, sfr.reach_data.j], label = 'Aq VKA')\n",
    "# plt.legend()\n",
    "# plt.show()\n",
    "# plt.title('Ksat_Rep divided by Ksat_Low from Soil map')\n",
    "# plt.plot(strtest_KsRep_array[sfr.reach_data.i, sfr.reach_data.j]/sfr.reach_data.strhc1)"
   ]
  },
  {
   "cell_type": "markdown",
   "metadata": {},
   "source": [
    "## Define segment data"
   ]
  },
  {
   "cell_type": "markdown",
   "metadata": {},
   "source": [
    "Median grain size (mm) ranges from 1 mm – 30 mm along surveyed sites, which gives a range of 0.026-0.035 for a stable channel\n",
    "Moderate channel irregularity due to channel scouring and pools alternating, range of 0.006-0.010\n",
    "Gradual cross section change: 0.000 adjustment\n",
    "Effect of obstructions: minor due to occasional downed logs and debris in river, 0.005-0.015\n",
    "Amount of vegetation: large on banks due to willows and cottonwood trees, 0.025-0.050, and negligible in the channel\n",
    "Degree of meandering: minor due to levees, m = 1.0\n",
    "\n",
    "n = (nb+n1+n2+n3+n4)*m (b=base,1=surface irregularity, 2 = XS variation, 3 = obstructions, 4 = vegetation, m = correction for meandering)\n",
    "n = (0.03+0.08+0.01) = 0.048 in channel\n",
    "n = (0.048 +0.03) = 0.078 on banks\n"
   ]
  },
  {
   "cell_type": "code",
   "execution_count": 103,
   "metadata": {},
   "outputs": [],
   "source": [
    "sfr_seg = sfr.segment_data[0].copy()"
   ]
  },
  {
   "cell_type": "code",
   "execution_count": 104,
   "metadata": {},
   "outputs": [],
   "source": [
    "# There is one dictionary key for each stress period (starting at 0) and in each dictionary key there is a \n",
    "# rec array holding an entry for each stream segment where nseg shows which segment it is (ie no dictionary key for segment)\n",
    "# If ITMP = 0 Item 4 is used, if ITMP >0 Item 6 is used, \n",
    "# if ITMP <0 the stream segment data not defined in Item 4 will be reused form the last stress period\n",
    "\n",
    "# Define stress period data need one for each stress period\n",
    "# Dataset 5 will be built automatically from segment_data unless specified\n",
    "# ITMP (int) for reusing or reading stream seg data that can change each stress period\n",
    "#IRDFLG, 0 is input data printed, greater than 0 input data is not printed\n",
    "# doesn't seem to change the value\n",
    "# IPTFLG, 0 is streamflow-routing results printed, greater than 0 not"
   ]
  },
  {
   "cell_type": "code",
   "execution_count": 105,
   "metadata": {},
   "outputs": [],
   "source": [
    "# 15.0=14, 16.2 = 15, 16.4 = 16, 16.5 = 17, 17.0=18\n",
    "# 14 outseg will be the side channel (16), 15 is the diversion before the Dam from 14 iupseg\n",
    "# outseg for 15 will be -1 for the lake representing BLodgett Dam\n",
    "# there is a diversion from 15 (segment to Dam) to 16 (side channel) to correct for the flood diversion\n",
    "# so that below 500 cfs flow only goes to the side channel and above 500 cfs flow is 80% to Dam and 20% to side channel\n",
    "# based on the idea that the side channel has a XS roughly 1/4 the size of the main channel and under high flows there\n",
    "# will be more depth and force that flow will most likely be dominantly straight and avoid the side channel more\n",
    "if scenario =='actual':\n",
    "    pre_seg = XSg.loc[XSg.Site==16.2,'iseg'].iloc[0]\n",
    "    side_seg = XSg.loc[XSg.Site==16.4,'iseg'].iloc[0]\n",
    "elif (scenario =='actual') | (scenario=='design'):\n",
    "    post_seg = XSg.loc[XSg.Site==16.5,'iseg'].iloc[0]\n",
    "# print(pre_seg,side_seg,post_seg)"
   ]
  },
  {
   "cell_type": "code",
   "execution_count": 106,
   "metadata": {},
   "outputs": [],
   "source": [
    "# alternate version of segment data loading using if statements when filtering data rather than in a loop\n",
    "sfr_seg.nseg = np.arange(1,NSS+1)\n",
    "\n",
    "sfr_seg.icalc = 2 # Mannings and 8 point channel XS is 2 with plain MF, 5 with SAFE\n",
    "sfr_seg.icalc[0] = 4 # use stage, discharge width method for Michigan Bar (nseg=1)\n",
    "sfr_seg.nstrpts[sfr_seg.icalc==4] = len(mb4rl) # specify number of points used for flow calcs\n",
    "sfr_seg.outseg = sfr_seg.nseg+1 # the outsegment will typically be the next segment in the sequence\n",
    "sfr_seg.iupseg = 0 # iupseg is zero for no diversion\n",
    "# correct outseg and iupseg to account for Blodgett Dam scenario\n",
    "if scenario =='design':\n",
    "    sfr_seg.outseg[sfr_seg.nseg==post_seg-1]=-1 # segment before dam flows to lake\n",
    "    sfr_seg.iupseg[sfr_seg.nseg==post_seg]=-1 # lake outflow is diverted to segment after dam\n",
    "elif scenario == 'actual':\n",
    "    sfr_seg.outseg[sfr_seg.nseg==pre_seg-1] = side_seg # the river should flow to the side segment first\n",
    "     # there will be a diversion from the river to the dam above 500 cfs, of which 20% will be returned to the side channel\n",
    "    sfr_seg.iupseg[sfr_seg.nseg==pre_seg] = pre_seg-1\n",
    "    sfr_seg.iprior[sfr_seg.nseg==pre_seg] = -3 # iprior=-3 any flows above the flow specified will be diverted\n",
    "    sfr_seg.flow[sfr_seg.nseg==pre_seg] = 500*0.3048*86400 # 500 cfs is the start of higher flow in the Cosumnes\n",
    "    sfr_seg.outseg[sfr_seg.nseg==pre_seg] = -1 #outflow from short segment before Dam is the LAK for the dam\n",
    "\n",
    "    # adjust for flow from pre dam segment back to side channel\n",
    "    sfr_seg.iupseg[sfr_seg.nseg==side_seg] = pre_seg\n",
    "    sfr_seg.iprior[sfr_seg.nseg==side_seg] = -2 # the flow diverted is a % of the total flow in the channel\n",
    "    sfr_seg.flow[sfr_seg.nseg==side_seg] = 0.2 # the side channel is about 1/4 the size so 20% of flow should run through\n",
    "    # divert flow from lake back into the segment after the dam\n",
    "    sfr_seg.iupseg[sfr_seg.nseg==post_seg] = -1 # no need to change iprior because diversion is based on lake stage\n",
    "    \n",
    "# set a flow into segment 1 for the steady state model run\n",
    "sfr_seg.flow[0] = 2.834*86400. # m3/day, originally 15 m3/s\n",
    "# set the values for ET, runoff and PPT to 0 as the inflow will be small relative to the flow in the river\n",
    "sfr_seg.runoff = 0.0\n",
    "sfr_seg.etsw = 0.0\n",
    "sfr_seg.pptsw = 0.0\n",
    "\n",
    "# Manning's n data comes from Barnes 1967 UGSS Paper 1849 and USGS 1989 report on selecting manning's n\n",
    "# RoughCH is only specified for icalc = 1 or 2\n",
    "sfr_seg.roughch[(sfr_seg.icalc==1) | (sfr_seg.icalc==2)] = 0.048\n",
    "# ROUGHBK is only specified for icalc = 2\n",
    "sfr_seg.roughbk[(sfr_seg.icalc==2) | (sfr_seg.icalc==5)] = 0.083# higher due to vegetation"
   ]
  },
  {
   "cell_type": "code",
   "execution_count": 107,
   "metadata": {},
   "outputs": [],
   "source": [
    "sfr.segment_data[0] = sfr_seg"
   ]
  },
  {
   "cell_type": "code",
   "execution_count": 108,
   "metadata": {},
   "outputs": [],
   "source": [
    "# Pull out data for upstream and downstream reach of each segment\n",
    "up_data = xs_sfr.drop_duplicates('iseg')\n",
    "dn_data = xs_sfr.sort_values('reach_new',ascending = False).drop_duplicates('iseg').sort_values('iseg')\n",
    "\n",
    "\n",
    "# Need to return to later and remove hard coding\n",
    "# These are getting used for initial guesses\n",
    "# Read in first stress period when ICALC = 1 or 2 and ISFROPT is 5\n",
    "# Dataset 6b\n",
    "sfr.segment_data[0].hcond1 = sfr.reach_data.strhc1[0]\n",
    "sfr.segment_data[0].thickm1 = 2\n",
    "sfr.segment_data[0].elevup = up_data.z.values\n",
    "sfr.segment_data[0].width1 = 20\n",
    "sfr.segment_data[0].depth1 = 1\n",
    "sfr.segment_data[0].thts1 = 0.4\n",
    "sfr.segment_data[0].thti1 = 0.15\n",
    "sfr.segment_data[0].eps1 = 4\n",
    "sfr.segment_data[0].uhc1 = sfr.reach_data.strhc1[0]\n",
    "\n",
    "# Dataset 6c\n",
    "sfr.segment_data[0].hcond2 = sfr.reach_data.strhc1[-1]\n",
    "sfr.segment_data[0].thickm2 = 2\n",
    "sfr.segment_data[0].elevdn = dn_data.z.values\n",
    "sfr.segment_data[0].width2 = 20\n",
    "sfr.segment_data[0].depth2 = 1\n",
    "sfr.segment_data[0].thts2 = 0.4\n",
    "sfr.segment_data[0].thti2 = 0.15\n",
    "sfr.segment_data[0].eps2 = 4\n",
    "sfr.segment_data[0].uhc2 = sfr.reach_data.strhc1[-1]\n"
   ]
  },
  {
   "cell_type": "code",
   "execution_count": 109,
   "metadata": {},
   "outputs": [],
   "source": [
    "# Change column name to float type for easier referencing in iteration\n",
    "XS8pt.columns = XS8pt.columns.astype('float')\n",
    "# Pre-create dictionary to be filled in loop\n",
    "sfr.channel_geometry_data = {0:{j:[] for j in np.arange(2,len(XSg)+2)}  }\n",
    "\n",
    "xsnum = 2\n",
    "for k in XSg.Site.values:\n",
    "        pos = int(XS8pt.columns.get_loc(k))\n",
    "        XCPT = XS8pt.iloc[:,pos].values\n",
    "        ZCPT = XS8pt.iloc[:,pos+1].values\n",
    "        ZCPT_min = np.min(ZCPT)\n",
    "        ZCPT-= ZCPT_min\n",
    "        sfr.channel_geometry_data[0][xsnum] = [XCPT, ZCPT]\n",
    "        xsnum += 1\n",
    "\n"
   ]
  },
  {
   "cell_type": "code",
   "execution_count": 110,
   "metadata": {},
   "outputs": [],
   "source": [
    "FLOWTAB = mb4rl.discharge_va.values\n",
    "DPTHTAB = mb4rl.gage_height_va.values\n",
    "WDTHTAB = mb4rl.chan_width.values\n",
    "sfr.channel_flow_data = {0: {1: [FLOWTAB, DPTHTAB, WDTHTAB]}}"
   ]
  },
  {
   "cell_type": "code",
   "execution_count": 111,
   "metadata": {},
   "outputs": [],
   "source": [
    "# sfr.plot_path(start_seg=1, end_seg=0, plot_segment_lines=True)\n",
    "# plt.savefig('Plots/Model_SFR_UZF_Progress/sfr_elev_vs_model_top.png', dpi = 600, bbox_inches='tight')"
   ]
  },
  {
   "cell_type": "markdown",
   "metadata": {},
   "source": [
    "### Tab Files for SFR"
   ]
  },
  {
   "cell_type": "code",
   "execution_count": 112,
   "metadata": {},
   "outputs": [],
   "source": [
    "# For the tab files the left column is time (in model units) and the right column is flow (model units)\n",
    "# Time is days, flow is cubic meters per day\n",
    "# USGS presents flow in cfs (cubic feet per second)\n",
    "inflow = pd.read_csv(sfr_dir+'MB_daily_flow_cfs_2010_2019.csv', index_col = 'datetime', parse_dates = True)\n",
    "\n",
    "# filter out data between the stress period dates\n",
    "inflow = inflow.loc[strt_date:end_date]\n",
    "# covnert flow from cubic feet per second to cubic meters per day\n",
    "inflow['flow_cmd'] = inflow.flow_cfs * (86400/(3.28**3))\n",
    "\n",
    "# # np.arange(0,len(flow_cmd))\n",
    "time_flow = np.vstack((np.arange(1,len(inflow.flow_cmd)+1),inflow.flow_cmd))\n",
    "time_flow = np.transpose(time_flow)\n",
    "# add a first row to account for the steady state stress period\n",
    "time_flow = np.row_stack(([0, inflow.flow_cmd.mean()], time_flow))\n",
    "\n",
    "np.savetxt(model_ws+'/MF.tab',time_flow, delimiter = '\\t')"
   ]
  },
  {
   "cell_type": "code",
   "execution_count": 113,
   "metadata": {},
   "outputs": [
    {
     "data": {
      "text/plain": [
       "Outside Package class"
      ]
     },
     "execution_count": 113,
     "metadata": {},
     "output_type": "execute_result"
    }
   ],
   "source": [
    "flopy.modflow.mfaddoutsidefile(model = m, name = 'DATA',extension = 'tab',unitnumber = 56)"
   ]
  },
  {
   "cell_type": "markdown",
   "metadata": {},
   "source": [
    "## LAK package"
   ]
  },
  {
   "cell_type": "code",
   "execution_count": 114,
   "metadata": {},
   "outputs": [
    {
     "data": {
      "text/plain": [
       "<Projected CRS: EPSG:32610>\n",
       "Name: WGS 84 / UTM zone 10N\n",
       "Axis Info [cartesian]:\n",
       "- E[east]: Easting (metre)\n",
       "- N[north]: Northing (metre)\n",
       "Area of Use:\n",
       "- name: World - N hemisphere - 126°W to 120°W - by country\n",
       "- bounds: (-126.0, 0.0, -120.0, 84.0)\n",
       "Coordinate Operation:\n",
       "- name: UTM zone 10N\n",
       "- method: Transverse Mercator\n",
       "Datum: World Geodetic System 1984\n",
       "- Ellipsoid: WGS 84\n",
       "- Prime Meridian: Greenwich"
      ]
     },
     "execution_count": 114,
     "metadata": {},
     "output_type": "execute_result"
    }
   ],
   "source": [
    "lak_extent = gpd.read_file(gwfm_dir+'/Blodgett_Dam/geospatial/bathymetry_extent/bathymetry_extent.shp')\n",
    "lak_extent.crs"
   ]
  },
  {
   "cell_type": "code",
   "execution_count": 115,
   "metadata": {},
   "outputs": [],
   "source": [
    "if (scenario == 'actual') | (scenario == 'design'):\n",
    "    lak_buf = lak_extent.copy()\n",
    "    lak_buf.geometry = lak_buf.buffer(100)\n",
    "    # grid_sfr.drop('index_right',axis=1)\n",
    "    # gpd.sjoin(grid_c_nums, lak_buf, how='left',op='contains').plot()\n",
    "    lak_grid = gpd.overlay(grid_p, lak_extent, how='intersection')\n",
    "    # get cells with more than 1/3 of Blodgett Dam \"lake extent\"\n",
    "    lak_grid = lak_grid.loc[lak_grid.geometry.area > delr[lak_grid.row]*delr[lak_grid.column]/3]\n",
    "\n",
    "    # Set empty array of zeros for nonlake cells\n",
    "    lakarr = np.zeros((nlay, nrow,ncol))\n",
    "    # Each lake is given a different integer, and needs to be specified depending on the layer\n",
    "    lakarr[0,(lak_grid.row.values-1).astype(int),(lak_grid.column.values-1).astype(int)] = 1\n",
    "\n",
    "    bdlknc = np.zeros(( nrow,ncol))\n",
    "    # set blodgett dam Ksat same as stream Ksat at same location, leakance is K/lakebed thickness\n",
    "    lkbd_thick = sfr.reach_data.strthick[XSg.loc[XSg.Site==16.5].reach]\n",
    "    lkbd_K = sfr_K[XSg.loc[XSg.Site==16.5].reach]\n",
    "    bdlknc[(lak_grid.row.values-1).astype(int),(lak_grid.column.values-1).astype(int)] = lkbd_K/lkbd_thick\n",
    "\n",
    "    lakeRst = rasterio.open(gwfm_dir+'/Blodgett_Dam/geospatial/DEMs/hecras_1m_bathymetry.tif')\n",
    "    lakeBottom = lakeRst.read(1)\n",
    "    noDataValue = np.copy(lakeBottom[0,0])\n",
    "    #replace value for np.nan\n",
    "    lakeBottom[lakeBottom==noDataValue]= np.nan\n",
    "    # the stage for the stream section just after the dam is 23.04 m thus the bottom of the lake must be set 10 ft below that\n",
    "    lakeBottom = lakeBottom - 10\n",
    "    lakeBottom *= 0.3048\n",
    "\n",
    "    # get raster minimum and maximum \n",
    "    minElev = np.nanmin(lakeBottom)\n",
    "    maxElev = np.nanmax(lakeBottom)\n",
    "    print('Min bottom elevation %.2f m., max bottom elevation %.2f m.'%(minElev,maxElev))\n",
    "\n",
    "    # steps for calculation\n",
    "    nSteps = 151\n",
    "\n",
    "    # lake bottom elevation intervals\n",
    "    elevSteps = np.round(np.linspace(minElev,maxElev,nSteps),2)\n",
    "\n",
    "\n",
    "    # definition of volume function\n",
    "    def calculateVol_A(elevStep,elevDem,lakeRst):\n",
    "        tempDem = elevStep - elevDem[elevDem<elevStep]\n",
    "        tempArea = len(tempDem)*lakeRst.res[0]*0.3048*lakeRst.res[1]*0.3048\n",
    "        tempVol = tempDem.sum()*lakeRst.res[0]*0.3048*lakeRst.res[1]*0.3048\n",
    "        return(tempVol, tempArea)\n",
    "    # calculate volumes, areas for each elevation\n",
    "    volArray = [0]\n",
    "    saArray = [0]\n",
    "    for elev in elevSteps[1:]:\n",
    "        tempVol,tempArea = calculateVol_A(elev,lakeBottom,lakeRst)\n",
    "        volArray.append(tempVol)\n",
    "        saArray.append(tempArea)\n",
    "\n",
    "\n",
    "    # print(\"Lake bottom elevations %s\"%elevSteps)\n",
    "    # volArrayMCM = [round(i/1000000,2) for i in volArray]\n",
    "    # print(\"Lake volume in million of cubic meters %s\"%volArrayMCM)"
   ]
  },
  {
   "cell_type": "code",
   "execution_count": 116,
   "metadata": {},
   "outputs": [],
   "source": [
    "if (scenario == 'actual') | (scenario == 'design'):\n",
    "    # Exactly 151 lines must be included within each lake bathymetry input file and each line must contain 1 value \n",
    "    #  of lake stage (elevation), volume, and area (3 numbers per line) if the keyword “TABLEINPUT” is specified in item 1a.\n",
    "    # A separate file is required for each lake. \n",
    "\n",
    "    stages = minElev+0.1\n",
    "    # (ssmn, ssmx) max and min stage of each lake for steady state solution, there is a stage range for each lake\n",
    "    # so double array is necessary\n",
    "    stage_range = [[minElev, maxElev]]\n",
    "\n",
    "    # lake stage (elevation), volume, and area (3 numbers per line)\n",
    "    lak_depth = elevSteps - elevSteps[0]\n",
    "    bathtxt = np.column_stack((elevSteps, volArray, saArray))\n",
    "\n",
    "    np.savetxt(m.model_ws+'/MF_child.txt', bathtxt, delimiter = '\\t')\n",
    "\n",
    "\n",
    "    ## Need to specify flux data\n",
    "    # Dict of lists keyed by stress period. The list for each stress period is a list of lists,\n",
    "    # with each list containing the variables PRCPLK EVAPLK RNF WTHDRW [SSMN] [SSMX] from the documentation.\n",
    "    # flux_data = np.zeros((nrow,ncol))\n",
    "\n",
    "    flux_data = {0:{0:[0,0,0,0]}}\n",
    "    # filler value for bdlknc until soil map data is loaded by uzf\n",
    "    lak = flopy.modflow.ModflowLak(model = m, lakarr = lakarr, bdlknc = bdlknc,  stages=stages, \n",
    "                                   stage_range=stage_range, flux_data = flux_data,tabdata= True, \n",
    "                                   tab_files='MF.txt', tab_units=[57],ipakcb=55)\n",
    "\n",
    "    # the lak package doesn't specify the tab file unit number when the files are written\n",
    "    # example:      110.0     100.0     170.0   22   Item 3:  STAGES,SSMN,SSMX,IUNITLAKTAB\n",
    "\n",
    "    lak.options = ['TABLEINPUT']\n",
    "\n",
    "    # need to reset tabdata as True before writing output for LAK\n",
    "    lak.tabdata = True"
   ]
  },
  {
   "cell_type": "code",
   "execution_count": 117,
   "metadata": {},
   "outputs": [],
   "source": [
    "# m.remove_package('LAK')\n",
    "# flopy.modflow.mfaddoutsidefile(model = m, name = 'DATA',extension = 'txt',unitnumber = 57)"
   ]
  },
  {
   "cell_type": "markdown",
   "metadata": {},
   "source": [
    "## Lak Gage Package"
   ]
  },
  {
   "cell_type": "code",
   "execution_count": 118,
   "metadata": {},
   "outputs": [],
   "source": [
    "if (scenario == 'actual') | (scenario == 'design'):\n",
    "    # numgage is total number of gages\n",
    "    # gage_data (list, or array), includes 2 to 3 entries (LAKE UNIT (OUTTYPE)) for each LAK entry\n",
    "    #  4 entries (GAGESEG< GAGERCH, UNIT, OUTTYPE) for each SFR package entry\n",
    "\n",
    "    lak_gage_data = [[-1, -37, 1]]\n",
    "    lak_file = 'MF.lak.gage'\n",
    "    lak_file_out = 'MF.lak.gage.out'\n",
    "    gag = flopy.modflow.ModflowGage(model=m,numgage= 1,gage_data=lak_gage_data,file =[lak_file_out], filenames =[lak_file])\n"
   ]
  },
  {
   "cell_type": "markdown",
   "metadata": {},
   "source": [
    "\"When subsurface recharge (MBR2) is negligible,\n",
    "stream runoff at the mountain front (runoff measured at\n",
    "point B in Figure 1, or RO) may be considered the total\n",
    "contribution to MFR [Anderholm, 2000].\" (Wilson and Guan 2004)"
   ]
  },
  {
   "cell_type": "markdown",
   "metadata": {},
   "source": [
    "## GHB NW, SE set up"
   ]
  },
  {
   "cell_type": "code",
   "execution_count": 119,
   "metadata": {},
   "outputs": [],
   "source": [
    "# join top and botm for easier array referencing for elevations\n",
    "top_botm = np.zeros((m.dis.nlay+1,m.dis.nrow,m.dis.ncol))\n",
    "top_botm[0,:,:] = m.dis.top.array\n",
    "top_botm[1:,:,:] = m.dis.botm.array\n"
   ]
  },
  {
   "cell_type": "code",
   "execution_count": 120,
   "metadata": {},
   "outputs": [],
   "source": [
    "# get hydraulic conductivities \n",
    "ghb_hk_nw = scaling_factors.loc[0,'K_nw']*86400\n",
    "ghb_hk_se = scaling_factors.loc[0,'K_se']*86400"
   ]
  },
  {
   "cell_type": "code",
   "execution_count": 121,
   "metadata": {},
   "outputs": [
    {
     "data": {
      "text/plain": [
       "17.1072"
      ]
     },
     "execution_count": 121,
     "metadata": {},
     "output_type": "execute_result"
    }
   ],
   "source": [
    "ghb_hk_nw\n",
    "ghb_hk_se"
   ]
  },
  {
   "cell_type": "code",
   "execution_count": 122,
   "metadata": {
    "scrolled": true
   },
   "outputs": [
    {
     "name": "stdout",
     "output_type": "stream",
     "text": [
      "GHB time: 0.011 sec\n"
     ]
    }
   ],
   "source": [
    "distance = 5000\n",
    "t0 = time.time()\n",
    "\n",
    "ghbnw_spd = pd.DataFrame(np.zeros((np.sum(nlay-nw_lay),5)))\n",
    "ghbnw_spd.columns = ['k','i','j','bhead','cond']\n",
    "\n",
    "# get all of the j,k indices to reduce math done in the for loop\n",
    "yz = np.zeros((np.sum(nlay-nw_lay),2)).astype(int)\n",
    "n=0\n",
    "for j in np.arange(0,ncol):\n",
    "    for k in np.arange(nw_lay[j], nlay):\n",
    "        yz[n,0] = j\n",
    "        yz[n,1] = k\n",
    "        n+=1\n",
    "        \n",
    "condnw = hk[yz[:,1],0,yz[:,0]]*(top_botm[yz[:,1],0,yz[:,0]]-top_botm[yz[:,1]+1,0,yz[:,0]])*delr/distance\n",
    "# condnw = ghb_hk_nw*(top_botm[yz[:,1],0,yz[:,0]]-top_botm[yz[:,1]+1,0,yz[:,0]])*delr/distance\n",
    "\n",
    "ghbnw_spd.cond = condnw\n",
    "ghbnw_spd.bhead = avg_nw[yz[:,0]]\n",
    "ghbnw_spd.k = yz[:,1]\n",
    "ghbnw_spd.j = yz[:,0]\n",
    "ghbnw_spd.i = 0\n",
    "\n",
    "ghbse_spd = pd.DataFrame(np.zeros((np.sum(nlay-se_lay),5)))\n",
    "ghbse_spd.columns = ['k','i','j','bhead','cond']\n",
    "\n",
    "# get all of the j,k indices to reduce math done in the for loop\n",
    "yz = np.zeros((np.sum(nlay-se_lay),2)).astype(int)\n",
    "n=0\n",
    "for j in np.arange(0,ncol):\n",
    "    for k in np.arange(se_lay[j], nlay):\n",
    "        yz[n,0] = j\n",
    "        yz[n,1] = k\n",
    "        n+=1\n",
    "condse = hk[yz[:,1],int(nrow-1),yz[:,0]]*(top_botm[yz[:,1],-1,yz[:,0]]-top_botm[yz[:,1]+1,-1,yz[:,0]])*delr/distance\n",
    "# condse = ghb_hk_se*(top_botm[yz[:,1],-1,yz[:,0]]-top_botm[yz[:,1]+1,-1,yz[:,0]])*delr/distance\n",
    "\n",
    "ghbse_spd.cond = condse\n",
    "ghbse_spd.bhead = avg_se[yz[:,0]]\n",
    "ghbse_spd.k = yz[:,1]\n",
    "ghbse_spd.j = yz[:,0]\n",
    "ghbse_spd.i = nrow-1\n",
    "        \n",
    "resample_time = time.time() - t0\n",
    "print(\"GHB time: {:.3f} sec\".format(time.time() - t0))"
   ]
  },
  {
   "cell_type": "code",
   "execution_count": 123,
   "metadata": {},
   "outputs": [],
   "source": [
    "# only need to recalculate conductance in ucode\n",
    "def recalc_cond(i,j,k,hk):\n",
    "    distance = 5000\n",
    "    delr = m.dis.delr.array.mean()\n",
    "    cond = hk*(top_botm[k,i,j]-top_botm[k+1,i,j])*delr/distance\n",
    "    return(cond)\n"
   ]
  },
  {
   "cell_type": "markdown",
   "metadata": {},
   "source": [
    "## Southwest GHB boundary (specified head for outflow to the Delta)"
   ]
  },
  {
   "cell_type": "markdown",
   "metadata": {},
   "source": [
    "How much would the expected head gradient be near the delta, how fast would head decrease with depth.\n",
    "Perhaps it would only go down a few meters for every layer"
   ]
  },
  {
   "cell_type": "code",
   "execution_count": 124,
   "metadata": {},
   "outputs": [],
   "source": [
    "distance = 5000\n",
    "# Fine sand\t2×10-7 to 2×10-4 m/s\n",
    "# Silt, loess\t1×10-9 to 2×10-5 m/s\n",
    "# delta soils have some sand mixed in\n",
    "# convert from m/s to m/d\n",
    "delta_hk = scaling_factors.loc[0,'K_delta']*86400\n",
    "\n",
    "ghbdelta_spd = pd.DataFrame(np.zeros(((nlay*nrow),5)))\n",
    "ghbdelta_spd.columns = ['k','i','j','bhead','cond']\n",
    "\n",
    "# get all of the j,k indices to reduce math done in the for loop\n",
    "xz = np.zeros((nlay*nrow,2)).astype(int)\n",
    "n=0\n",
    "for i in np.arange(0,nrow):\n",
    "    for k in np.arange(0, nlay):\n",
    "        xz[n,0] = i\n",
    "        xz[n,1] = k\n",
    "        n+=1\n",
    "cond = delta_hk*(top_botm[xz[:,1],:,0]-top_botm[xz[:,1]+1,:,0])*delr/distance\n",
    "ghbdelta_spd.cond = cond\n",
    "ghbdelta_spd.bhead = 0\n",
    "ghbdelta_spd.k = xz[:,1]\n",
    "ghbdelta_spd.j = 0\n",
    "ghbdelta_spd.i = xz[:,0]"
   ]
  },
  {
   "cell_type": "code",
   "execution_count": 125,
   "metadata": {},
   "outputs": [],
   "source": [
    "# write to csv for use in UCODE file edits\n",
    "ghbse_spd.to_csv(m.model_ws+'/input_data/ghbse_spd.csv',index=False)\n",
    "ghbnw_spd.to_csv(m.model_ws+'/input_data/ghbnw_spd.csv',index=False)\n",
    "ghbdelta_spd.to_csv(m.model_ws+'/input_data/ghbdelta_spd.csv',index=False)"
   ]
  },
  {
   "cell_type": "code",
   "execution_count": 126,
   "metadata": {},
   "outputs": [],
   "source": [
    "# lay, row, col for delta ghb\n",
    "zxy = ghbdelta_spd.values[:,:3].astype(int)\n",
    "# drop any delta ghb cells where cell bottom is below sea level\n",
    "ghbdn_spd =  ghbdelta_spd.values[botm[zxy[:,0],zxy[:,1],zxy[:,2]]<0]\n",
    "# join dataframes of 3 ghb boundaries together\n",
    "ghb_spd = np.vstack((ghbdn_spd, ghbse_spd.values, ghbnw_spd.values))\n"
   ]
  },
  {
   "cell_type": "code",
   "execution_count": 127,
   "metadata": {},
   "outputs": [],
   "source": [
    "# # lay, row, col, head, cond\n",
    "# k = ghb_spd[:,0].astype(int)\n",
    "# i = ghb_spd[:,1].astype(int)\n",
    "# j = ghb_spd[:,2].astype(int)\n",
    "\n",
    "# # find where the ghb overlaps with the no flow cells\n",
    "# active_bc =bas.ibound.array[k,i,j]\n",
    "# # ghb_spd = ghb_spd[active_bc.astype(bool)]"
   ]
  },
  {
   "cell_type": "code",
   "execution_count": 128,
   "metadata": {},
   "outputs": [],
   "source": [
    "# ghb_spd = ghb_spd[:][active_bc.astype(bool)]"
   ]
  },
  {
   "cell_type": "code",
   "execution_count": 129,
   "metadata": {},
   "outputs": [],
   "source": [
    "\n",
    "# GHB for east and west model boundaries\n",
    "ghb = flopy.modflow.ModflowGhb(model=m, stress_period_data =  {0: ghb_spd},ipakcb=55)\n",
    "# GHB for only Delta, west side of model\n",
    "# ghb.stress_period_data =  {0: ghbdn_spd}"
   ]
  },
  {
   "cell_type": "code",
   "execution_count": 130,
   "metadata": {},
   "outputs": [
    {
     "name": "stdout",
     "output_type": "stream",
     "text": [
      "\n",
      "GHB PACKAGE DATA VALIDATION:\n",
      "  No errors or warnings encountered.\n",
      "\n",
      "  Checks that passed:\n",
      "    BC indices valid\n",
      "    not a number (Nan) entries\n",
      "    BC in inactive cells\n",
      "    BC elevation below cell bottom\n",
      "\n"
     ]
    },
    {
     "data": {
      "text/plain": [
       "<flopy.utils.check.check at 0x1e3ed090d08>"
      ]
     },
     "execution_count": 130,
     "metadata": {},
     "output_type": "execute_result"
    }
   ],
   "source": [
    "ghb.check()"
   ]
  },
  {
   "cell_type": "code",
   "execution_count": 131,
   "metadata": {},
   "outputs": [],
   "source": [
    "# ghb.write_file()"
   ]
  },
  {
   "cell_type": "markdown",
   "metadata": {},
   "source": [
    "## CHD Package Time variant head"
   ]
  },
  {
   "cell_type": "code",
   "execution_count": 132,
   "metadata": {},
   "outputs": [],
   "source": [
    "chd = flopy.modflow.ModflowChd(model=m,ipakcb=55)"
   ]
  },
  {
   "cell_type": "code",
   "execution_count": 133,
   "metadata": {},
   "outputs": [],
   "source": [
    "# Determine which layer the specified head cell is in\n",
    "# since the if statement only checks whether the first layer is greater than the streambed elevation, \n",
    "# otherwise it would be less than and zero (most should be in layer 0)\n",
    "chd_lay = np.zeros(nrow)\n",
    "\n",
    "head = dem_data[:,ncol-1]\n",
    "headmin = np.min(head)\n",
    "ch_weight = 0.9\n",
    "chd_vals = head*(1-ch_weight)+headmin*ch_weight\n",
    "\n",
    "\n",
    "\n",
    "for k in np.arange(0,nlay-1):\n",
    "    # pull out elevation of layer bottom\n",
    "    lay_elev = botm[k, :, ncol-1]\n",
    "    for i in np.arange(0,nrow):\n",
    "        # want to compare if streambed is lower than the layer bottom\n",
    "        # 1 will be subtracted from each z value to make sure it is lower than the model top in the upper reaches\n",
    "        if lay_elev[i] > chd_vals[i]:\n",
    "            chd_lay[i] = k\n",
    "\n"
   ]
  },
  {
   "cell_type": "code",
   "execution_count": 134,
   "metadata": {},
   "outputs": [
    {
     "name": "stdout",
     "output_type": "stream",
     "text": [
      "Number of CHD cells for upland bound 300\n"
     ]
    }
   ],
   "source": [
    "# layer (int), row (int), column (int), shead (float), ehead (float) shead is the head at the\n",
    "# start of the stress period, and ehead is the head at the end of the stress period\n",
    "# nlay_ghb = 1\n",
    "\n",
    "# constant head boundary for mountain front recharge\n",
    "# assume that near the mountains the head should be at the surface becaues the aquifer is thin\n",
    "\n",
    "# new specified head boundary will be linear at the uppermost column to reduce nonlinearity\n",
    "# as the no flow cells will be removed and replaced with low hydraulic conductivity cells\n",
    "\n",
    "# chd_spd = np.zeros((len(chd_locs[0]),5))\n",
    "chd_spd = np.zeros((int(np.sum((nlay-chd_lay))),5))\n",
    "\n",
    "# # head for mountain front recharge\n",
    "shead = chd_vals\n",
    "ehead = chd_vals\n",
    "p=0\n",
    "for i in np.arange(0,nrow):\n",
    "    for k in np.arange(0,nlay-chd_lay[i]):\n",
    "        chd_spd[p] = [int(chd_lay[i]+k), i, ncol-1, shead[i], ehead[i]]\n",
    "        p+=1\n",
    "print('Number of CHD cells for upland bound', p)\n",
    "\n",
    "# p = 0\n",
    "# # head for mountain front recharge\n",
    "# shead = head\n",
    "# ehead = head\n",
    "\n",
    "# for i, j in zip(chd_locs[0], chd_locs[1]):\n",
    "#     chd_spd[p] = [0, i, j, shead[p], ehead[p]]\n",
    "#     p+=1\n",
    "# print('Number of CHD cells for upland bound', p)\n"
   ]
  },
  {
   "cell_type": "code",
   "execution_count": 135,
   "metadata": {},
   "outputs": [
    {
     "data": {
      "text/plain": [
       "[<matplotlib.lines.Line2D at 0x1e3ed078e48>]"
      ]
     },
     "execution_count": 135,
     "metadata": {},
     "output_type": "execute_result"
    },
    {
     "data": {
      "image/png": "[encoded data removed]",
      "text/plain": [
       "<Figure size 432x288 with 1 Axes>"
      ]
     },
     "metadata": {
      "needs_background": "light"
     },
     "output_type": "display_data"
    }
   ],
   "source": [
    "plt.plot(chd_vals)"
   ]
  },
  {
   "cell_type": "code",
   "execution_count": 136,
   "metadata": {},
   "outputs": [],
   "source": [
    "chd.stress_period_data =  {0: chd_spd}"
   ]
  },
  {
   "cell_type": "code",
   "execution_count": 137,
   "metadata": {},
   "outputs": [
    {
     "name": "stdout",
     "output_type": "stream",
     "text": [
      "\n",
      "CHD PACKAGE DATA VALIDATION:\n",
      "  No errors or warnings encountered.\n",
      "\n",
      "  Checks that passed:\n",
      "    BC indices valid\n",
      "    not a number (Nan) entries\n",
      "    BC in inactive cells\n",
      "\n"
     ]
    },
    {
     "data": {
      "text/plain": [
       "<flopy.utils.check.check at 0x1e3ed04cc88>"
      ]
     },
     "execution_count": 137,
     "metadata": {},
     "output_type": "execute_result"
    }
   ],
   "source": [
    "chd.check()"
   ]
  },
  {
   "cell_type": "markdown",
   "metadata": {},
   "source": [
    "The code that originally imported the state soil map data was moved up above to be readily applicable to the LAK package and SFR package. gpd_mb and grid_uzf are created above"
   ]
  },
  {
   "cell_type": "markdown",
   "metadata": {},
   "source": [
    "## RCH Package\n",
    "1. Load in already interpolated ET and rainfall data\n",
    "2. Determine where there is agricultural land to add irrigation multiplied by an efficiency factor to the rainfall array\n",
    "3. Difference the rainfall and ETc arrays to dtermine how much water will recharge the aquifer"
   ]
  },
  {
   "cell_type": "code",
   "execution_count": null,
   "metadata": {},
   "outputs": [],
   "source": []
  },
  {
   "cell_type": "code",
   "execution_count": 138,
   "metadata": {},
   "outputs": [],
   "source": [
    "ETc = np.zeros((nper-1,nrow,ncol))\n",
    "rain = np.zeros((nper-1,nrow,ncol))\n",
    "\n",
    "ETc_count = 0\n",
    "for y in np.arange(pd.to_datetime(strt_date).year, pd.to_datetime(end_date).year+1):\n",
    "    # set start and end date for range for the year to be iterated over\n",
    "    yr_strt = pd.to_datetime(str(y)+'-01-01')\n",
    "    yr_end = pd.to_datetime(str(y)+'-12-31')\n",
    "    # get the length of the date range needed for that year\n",
    "    yearlen = len(pd.date_range(yr_strt, yr_end))\n",
    "    if yr_strt < pd.to_datetime(strt_date):\n",
    "        yr_strt = pd.to_datetime(strt_date)\n",
    "    if yr_end > pd.to_datetime(end_date):\n",
    "        yr_end = pd.to_datetime(end_date)\n",
    "        \n",
    "    # read in text file of all of the ETc data for each year in array format    \n",
    "    ET_year = np.loadtxt(gwfm_dir+'/UZF_data/ETa_all_txt_arrays/ETa_array_'+str(y)+'.tsv', delimiter = '\\t')\n",
    "    rain_year = np.loadtxt(gwfm_dir+'/UZF_data/Rain_all_txt_arrays/Rain_array_'+str(y)+'.tsv', delimiter = '\\t')\n",
    "\n",
    "    # correct the shape of the text file from 2D to 3D\n",
    "    revertETc = np.reshape(ET_year, (yearlen, nrow, ncol))\n",
    "    revertrain = np.reshape(rain_year, (yearlen, nrow, ncol))\n",
    "    # filter the 3D array based on the desired date range\n",
    "    filtered_date_ETc = revertETc[yr_strt.dayofyear-1:yr_end.dayofyear,:,:]\n",
    "    filtered_date_rain = revertrain[yr_strt.dayofyear-1:yr_end.dayofyear,:,:]\n",
    "    # get the length of the date range needed for that year\n",
    "    perlen = len(pd.date_range(yr_strt, yr_end))\n",
    "    # add the data to the ETc array for the whole model time period\n",
    "    ETc[ETc_count:ETc_count+perlen,:,:] = filtered_date_ETc\n",
    "    rain[ETc_count:ETc_count+perlen,:,:] = filtered_date_rain\n",
    "    ETc_count += perlen"
   ]
  },
  {
   "cell_type": "code",
   "execution_count": 139,
   "metadata": {},
   "outputs": [],
   "source": [
    "\n",
    "# logical array where 1 represents ag land and 0 represents non ag land as listed above\n",
    "ag_land_arr = np.loadtxt(gwfm_dir+'/UZF_data/array_of_agriculture_land.tsv')\n",
    "# create a bool array of the oppostite of ag land\n",
    "non_ag_land_arr = ~ag_land_arr.astype(bool)"
   ]
  },
  {
   "cell_type": "code",
   "execution_count": 140,
   "metadata": {},
   "outputs": [],
   "source": [
    "# wherever there is ag land and not enough rain to meet the ETc then it will be met by applying 1.05*ETc\n",
    "# to the .FINF array\n",
    "# start by setting the rain of non_ag_land to np.nan to be ignored in calculations\n",
    "ag_rch = np.copy(rain)\n",
    "ag_rch[:,non_ag_land_arr] = np.nan\n",
    "# whereever the rain is less than ETc for ag land set the recharge equal to the etc times 0.05 for irrigation inefficiency\n",
    "# could calibrate this irrigation efficiency later\n",
    "ag_rch[ag_rch<ETc] = ETc[ag_rch<ETc]*0.05\n",
    "# return np.nan values to zeros\n",
    "ag_rch[np.isnan(ag_rch)] = 0"
   ]
  },
  {
   "cell_type": "code",
   "execution_count": 141,
   "metadata": {},
   "outputs": [],
   "source": [
    "# final calculation for RCH package\n",
    "\n",
    "net_inf = rain + ag_rch - ETc\n",
    "# assuming there is irrigation to make up lack of rainfall\n",
    "# net_inf should never be less than zero\n",
    "np.mean(net_inf, axis = (1,2))\n",
    "\n",
    "net_inf = np.where(net_inf<0, 0, net_inf)\n"
   ]
  },
  {
   "cell_type": "code",
   "execution_count": 142,
   "metadata": {},
   "outputs": [],
   "source": [
    "# add an empty array for the first blank stress period\n",
    "# net_inf = np.vstack((np.zeros((1,nrow,ncol)),net_inf))"
   ]
  },
  {
   "cell_type": "code",
   "execution_count": 143,
   "metadata": {},
   "outputs": [],
   "source": [
    "# have transient recharge start after the 1st spd\n",
    "rech_spd = { (j): net_inf[j-1,:,:] for j in np.arange(1,nper)}"
   ]
  },
  {
   "cell_type": "code",
   "execution_count": 144,
   "metadata": {},
   "outputs": [],
   "source": [
    "# set average recharge for whole period as steady state\n",
    "rech_spd[0] = net_inf.mean(axis=(0))"
   ]
  },
  {
   "cell_type": "code",
   "execution_count": 145,
   "metadata": {},
   "outputs": [],
   "source": [
    "# nrchop = 3, to highest active cell\n",
    "rch =flopy.modflow.ModflowRch(model = m, nrchop=3, rech = rech_spd, ipakcb=55)"
   ]
  },
  {
   "cell_type": "code",
   "execution_count": 146,
   "metadata": {},
   "outputs": [],
   "source": [
    "# rch.write_file()"
   ]
  },
  {
   "cell_type": "markdown",
   "metadata": {},
   "source": [
    "## Well Package\n"
   ]
  },
  {
   "cell_type": "code",
   "execution_count": 147,
   "metadata": {},
   "outputs": [],
   "source": [
    "wells = pd.read_csv(gwfm_dir+'/WEL_data/all_wells_type.csv')\n",
    "wells_grid = gpd.GeoDataFrame(wells, geometry = gpd.points_from_xy(wells.easting,wells.northing), crs = 'epsg:32610')"
   ]
  },
  {
   "cell_type": "code",
   "execution_count": 148,
   "metadata": {},
   "outputs": [],
   "source": [
    "wells_grid_ag = wells_grid.copy()\n",
    "wells_grid_ag = wells_grid.loc[wells_grid.Simple_type == 'irrigation'].dissolve('node', aggfunc = 'mean')\n",
    "wells_grid_ag.geometry = wells_grid.loc[wells_grid.Simple_type == 'irrigation'].dissolve('node', aggfunc = 'first').geometry"
   ]
  },
  {
   "cell_type": "code",
   "execution_count": 149,
   "metadata": {},
   "outputs": [],
   "source": [
    "wells_grid['depth_m'] = wells_grid.TotalCompletedDepth*0.3048\n"
   ]
  },
  {
   "cell_type": "code",
   "execution_count": 150,
   "metadata": {},
   "outputs": [],
   "source": [
    "wells_grid['flux'] = 0\n",
    "wells_grid['layer'] = 0"
   ]
  },
  {
   "cell_type": "code",
   "execution_count": 151,
   "metadata": {},
   "outputs": [],
   "source": [
    "num_ag = (wells_grid.Simple_type == 'irrigation').sum()\n",
    "ET_ag = ETc*ag_land_arr\n",
    "ET_ag_monthly_sum = ET_ag.sum(axis=(1,2))\n",
    "# calculate ag well flux by average ET\n",
    "aggregated_irrig_flux = ET_ag_monthly_sum/num_ag\n"
   ]
  },
  {
   "cell_type": "code",
   "execution_count": 152,
   "metadata": {},
   "outputs": [
    {
     "name": "stdout",
     "output_type": "stream",
     "text": [
      "Irrig flux: 2.441e+03 Public flux: 9.464e+02 Domestic flux: 1.635e+02\n"
     ]
    }
   ],
   "source": [
    "# assume each public supply well serves 5-10,000 people each needing 50 gpd, then need to convert to ft^3\n",
    "public_flux = (5000*50/7.48)*(0.3048**3)\n",
    "# public_flux = 1500*(1/7.48)*(0.3048**3)*60*24\n",
    "\n",
    "# averge pumping rate of domestic wells is 10-100 gpm, typically on the lower end and \n",
    "# should end up being around 50 gal/person a day and average 3 people is 150 gal/day\n",
    "# 10 gpm * (1 ft^3/ 7.48 gal) (ft^3/m^3)*60 min hour* 3 hours in a day * 30 days\n",
    "\n",
    "dom_flux = 30*(1/7.48)*(0.3048**3)*60*24\n",
    "print('Irrig flux:', '%.3e' % (aggregated_irrig_flux.mean()*270*270), 'Public flux:', '%.3e' %public_flux,'Domestic flux:', '%.3e' %dom_flux)"
   ]
  },
  {
   "cell_type": "code",
   "execution_count": 153,
   "metadata": {},
   "outputs": [],
   "source": [
    "# define pumping rate based on well use, average pumping rate in m^3/day\n",
    "# wells_grid.loc[wells_grid.Simple_type == 'irrigation', 'flux'] = -irrig_flux\n",
    "wells_grid.loc[wells_grid.Simple_type == 'domestic', 'flux'] = -dom_flux\n",
    "wells_grid.loc[wells_grid.Simple_type == 'public', 'flux'] = -public_flux"
   ]
  },
  {
   "cell_type": "code",
   "execution_count": 154,
   "metadata": {},
   "outputs": [],
   "source": [
    "if wells_grid.row.min()==1:\n",
    "    wells_grid.row = (wells_grid.row-1).astype(int)\n",
    "    wells_grid.column = (wells_grid.column -1).astype(int)"
   ]
  },
  {
   "cell_type": "code",
   "execution_count": 155,
   "metadata": {},
   "outputs": [
    {
     "data": {
      "text/plain": [
       "107.05973"
      ]
     },
     "execution_count": 155,
     "metadata": {},
     "output_type": "execute_result"
    }
   ],
   "source": [
    "mean_ag_well_depth = wells_grid.loc[wells_grid.Simple_type == 'irrigation'].TotalCompletedDepth.mean()*0.3048\n",
    "mean_ag_well_depth"
   ]
  },
  {
   "cell_type": "code",
   "execution_count": 156,
   "metadata": {},
   "outputs": [
    {
     "name": "stderr",
     "output_type": "stream",
     "text": [
      "C:\\Users\\ajcalder\\Anaconda3\\envs\\geosp\\lib\\site-packages\\pandas\\core\\indexing.py:1637: SettingWithCopyWarning: \n",
      "A value is trying to be set on a copy of a slice from a DataFrame\n",
      "\n",
      "See the caveats in the documentation: https://pandas.pydata.org/pandas-docs/stable/user_guide/indexing.html#returning-a-view-versus-a-copy\n",
      "  self._setitem_single_block(indexer, value, name)\n"
     ]
    }
   ],
   "source": [
    "\n",
    "for k in np.arange(0,nlay-1):\n",
    "    # pull out elevation of layer bottom\n",
    "    lay_elev = botm[k, :, :]\n",
    "    for i in np.arange(0,len(wells_grid)):\n",
    "        # want to compare if streambed is lower than the layer bottom\n",
    "        # 1 will be subtracted from each z value to make sure it is lower than the model top in the upper reaches\n",
    "        if lay_elev[wells_grid.row.values[i],wells_grid.column.values[i]] > dem_data[wells_grid.row.values[i],wells_grid.column.values[i]]-wells_grid.depth_m.iloc[i]:\n",
    "            wells_grid.layer.iloc[i] = k     "
   ]
  },
  {
   "cell_type": "code",
   "execution_count": 157,
   "metadata": {},
   "outputs": [
    {
     "name": "stdout",
     "output_type": "stream",
     "text": [
      "Cells with wells:  1380 total wells:  2482\n",
      "Wells with TRS accuracy:  823\n"
     ]
    }
   ],
   "source": [
    "print('Cells with wells: ', wells_grid.dissolve(by='node',aggfunc='first').shape[0], 'total wells: ', wells_grid.shape[0])\n",
    "print('Wells with TRS accuracy: ', (wells_grid.MethodofDeterminationLL == 'Derived from TRS').sum())\n",
    "\n",
    "wells_grid_notrs = wells_grid.loc[wells_grid.MethodofDeterminationLL != 'Derived from TRS']"
   ]
  },
  {
   "cell_type": "code",
   "execution_count": 158,
   "metadata": {},
   "outputs": [],
   "source": [
    "# wells_grid_notrs['count_per_cell'] = 1\n",
    "# # all_wells_grid['MFCell'] = all_wells_grid.Township+all_wells_grid.Range+all_wells_grid.k.astype(str)\n",
    "# wells_grid_sum = wells_grid_notrs.dissolve(by = 'node', aggfunc='sum')\n",
    "# wells_grid_sum.plot('count_per_cell',legend=True)\n",
    "# print(wells_grid_sum.count_per_cell.median(), wells_grid_sum.count_per_cell.mean(), wells_grid_sum.count_per_cell.max())\n"
   ]
  },
  {
   "cell_type": "code",
   "execution_count": 159,
   "metadata": {},
   "outputs": [],
   "source": [
    "# save domestic, public wells for their pumping doesn't depend on ET\n",
    "wells_grid_no_ag = wells_grid.loc[wells_grid.Simple_type != 'irrigation']\n",
    "# filter out data for wel package\n",
    "spd_noag = wells_grid_no_ag.loc[:,['layer','row','column', 'flux']].values\n"
   ]
  },
  {
   "cell_type": "markdown",
   "metadata": {},
   "source": [
    "#### Using ETc in all cells for pumping"
   ]
  },
  {
   "cell_type": "code",
   "execution_count": 160,
   "metadata": {},
   "outputs": [],
   "source": [
    "# layer for ETc ag well pumping\n",
    "ETc_lay = 1\n",
    "# create empty dictionary to fill with stress period data\n",
    "wel_ETc_dict = {}\n",
    "# end date is not included as a stress period, starting at 1st TR spd (2)\n",
    "for t in np.arange(1,nper):\n",
    "    wel_i, wel_j = np.where(ET_ag[t-1,:,:]>0)\n",
    "    wel_ETc = -ET_ag[t-1,wel_i,wel_j]*delr*delr\n",
    "    # ['layer','row','column', 'flux'] are necessary for WEL package\n",
    "    spd_ag = np.stack((ETc_lay*np.ones(len(wel_i)), wel_i, wel_j,wel_ETc),axis=1)\n",
    "    spd_all = np.vstack((spd_ag,spd_noag)) # join pumping from ag with point pumping from domstic/supply wells that are constant\n",
    "    wel_ETc_dict[t] = spd_all"
   ]
  },
  {
   "cell_type": "code",
   "execution_count": 161,
   "metadata": {},
   "outputs": [],
   "source": [
    "ET_ag_ss = ET_ag.mean(axis=(0))\n",
    "wel_i, wel_j = np.where(ET_ag_ss[:,:]>0)\n",
    "wel_ETc = -ET_ag_ss[wel_i,wel_j]*delr*delr\n",
    "# ['layer','row','column', 'flux'] are necessary for WEL package\n",
    "# add average ag well pumping as steady state period\n",
    "wel_ETc_dict[0] = np.stack((ETc_lay*np.ones(len(wel_i)), wel_i, wel_j,wel_ETc),axis=1)"
   ]
  },
  {
   "cell_type": "code",
   "execution_count": 162,
   "metadata": {},
   "outputs": [
    {
     "data": {
      "text/plain": [
       "<matplotlib.colorbar.Colorbar at 0x1e3ed1a2108>"
      ]
     },
     "execution_count": 162,
     "metadata": {},
     "output_type": "execute_result"
    },
    {
     "data": {
      "image/png": "[encoded data removed]",
      "text/plain": [
       "<Figure size 432x288 with 2 Axes>"
      ]
     },
     "metadata": {
      "needs_background": "light"
     },
     "output_type": "display_data"
    }
   ],
   "source": [
    "t=100\n",
    "plt.imshow(ET_ag[t,:,:]*200*200)\n",
    "plt.colorbar()"
   ]
  },
  {
   "cell_type": "code",
   "execution_count": 163,
   "metadata": {},
   "outputs": [],
   "source": [
    "# Create well flopy object\n",
    "wel = flopy.modflow.ModflowWel(m, stress_period_data=wel_ETc_dict,ipakcb=55)"
   ]
  },
  {
   "cell_type": "code",
   "execution_count": 164,
   "metadata": {},
   "outputs": [],
   "source": [
    "# wel.write_file()"
   ]
  },
  {
   "cell_type": "code",
   "execution_count": 165,
   "metadata": {},
   "outputs": [],
   "source": [
    "# spd = { t: spd_gdf_array for t in np.arange(1,nper)}\n",
    "# spd = { t: wells_grid_notrs.loc[:,['layer','row','column', 'flux']] for t in np.arange(1,nper)}\n",
    "# spd = {}\n",
    "# for t in np.arange(1,nper):\n",
    "#     # create duplicate of dataframe\n",
    "#     temp = wells_grid_notrs[:]\n",
    "#     # set flux for all ag wells based on ET requirements downscaled\n",
    "#     temp.loc[temp.Simple_type == 'irrigation'].flux = aggregated_irrig_flux[t-1]\n",
    "#     # get wel package necessary data\n",
    "#     spd[t] = temp.loc[:,['layer','row','column', 'flux']].dropna().values\n"
   ]
  },
  {
   "cell_type": "code",
   "execution_count": 166,
   "metadata": {},
   "outputs": [],
   "source": [
    "# Create well flopy object\n",
    "# wel = flopy.modflow.ModflowWel(m, stress_period_data=spd, ipakcb=55)"
   ]
  },
  {
   "cell_type": "markdown",
   "metadata": {},
   "source": [
    "## HOB Package"
   ]
  },
  {
   "cell_type": "code",
   "execution_count": 167,
   "metadata": {},
   "outputs": [],
   "source": [
    "hob_dir = gwfm_dir+'/HOB_data'"
   ]
  },
  {
   "cell_type": "code",
   "execution_count": 168,
   "metadata": {},
   "outputs": [],
   "source": [
    "domain_periodic_2010s = pd.read_csv(hob_dir+'/dwr_gwe_data_2010s.csv', index_col = 'MSMT_DATE', parse_dates =True)\n",
    "# filter out columns relevant to observation\n",
    "domain_periodic_2010s = domain_periodic_2010s.filter(['SITE_CODE', 'WSE', 'RPE_WSE','WLM_RPE','WLM_GSE',\n",
    "                              'WLM_ACC', 'WLM_ACC_DESC','LATITUDE','LONGITUDE','WELL_DEPTH'],axis=1)\n",
    "\n",
    "# filter out measurements for the actual modeled period\n",
    "dwr_obs = domain_periodic_2010s.loc[strt_date:end_date]\n",
    "# convert observations to geodataframe to merge with\n",
    "dwr_obs_gpd = gpd.GeoDataFrame(dwr_obs, geometry = gpd.points_from_xy(dwr_obs.LONGITUDE,dwr_obs.LATITUDE))\n",
    "dwr_obs_gpd.crs = 'epsg:4326'\n",
    "dwr_obs_gpd = dwr_obs_gpd.to_crs('epsg:32610')\n",
    "# the grid is a 1 based system\n",
    "dwr_obs_grid = gpd.sjoin(dwr_obs_gpd,grid_p)\n",
    "\n",
    "# convert units from ft to meters\n",
    "dwr_obs_grid.loc[:,['WSE','RPE_WSE','WLM_RPE','WLM_GSE']] /=3.28\n",
    "dwr_obs_grid = dwr_obs_grid.dropna(subset=['WSE'])"
   ]
  },
  {
   "cell_type": "code",
   "execution_count": 169,
   "metadata": {},
   "outputs": [],
   "source": [
    "ucd_meta = pd.read_csv(hob_dir+'/Cosumnes_MW_metadata.csv')\n",
    "ucd_mon = pd.read_csv(hob_dir+'/ucd_wells_monthly.csv', index_col = 'dt', parse_dates = True)\n",
    "# filter out measurements for the actual modeled period\n",
    "ucd_mon = ucd_mon.loc[strt_date:end_date]\n",
    "# remove timezone component of date format\n",
    "ucd_mon.index = ucd_mon.index.tz_localize(tz=None)\n",
    "# melt dataframe by id and date\n",
    "ucd_mon = ucd_mon.reset_index().melt(id_vars = ['dt'], value_vars=ucd_mon.columns)\n",
    "ucd_mon = ucd_mon.rename({'variable':'Well_ID','value':'wse_m'},axis=1)\n",
    "\n",
    "# remove TZ adjustment from dt\n"
   ]
  },
  {
   "cell_type": "code",
   "execution_count": 170,
   "metadata": {},
   "outputs": [],
   "source": [
    "# convert observations to geodataframe to merge with\n",
    "ucd_meta_gpd = gpd.GeoDataFrame(ucd_meta, geometry = gpd.points_from_xy(ucd_meta.LONGITUDE,ucd_meta.LATITUDE))\n",
    "ucd_meta_gpd.crs = 'epsg:4326'\n",
    "ucd_meta_gpd = ucd_meta_gpd.to_crs('epsg:32610')\n",
    "# the grid is a 1 based system\n",
    "ucd_meta_grid = gpd.sjoin(ucd_meta_gpd,grid_p)\n",
    "\n",
    "# estimate GSE from RPE\n",
    "ucd_meta_grid['WLM_GSE'] = ucd_meta_grid['MPE (meters)']-1"
   ]
  },
  {
   "cell_type": "code",
   "execution_count": 171,
   "metadata": {},
   "outputs": [],
   "source": [
    "# simplify from 22 to 8 wells for now because there will be overfitting of wells at Oneto-Denier and \n",
    "# these wells all have LevelSenders allowing for easier data access\n",
    "well_vertices = ucd_meta_grid.set_index('Well_ID').loc[['MW_DR1', 'MW_9', 'MW_11', 'MW_19','MW_5', 'MW_22','Rooney1']]"
   ]
  },
  {
   "cell_type": "code",
   "execution_count": 172,
   "metadata": {},
   "outputs": [],
   "source": [
    "# join wse data with location and metadata\n",
    "ucd_obs = ucd_mon.join(well_vertices, how = 'right',on = 'Well_ID')\n",
    "ucd_obs = ucd_obs.dropna(subset=['wse_m']) # remove NA values\n",
    "\n",
    "# prepare UCD obs for joining with DWR obs\n",
    "ucd_obs = ucd_obs.set_index('dt').loc[:,['Well_ID','wse_m','WLM_GSE','node','row','column']].rename({'Well_ID':'SITE_CODE','wse_m':'WSE'},axis=1)"
   ]
  },
  {
   "cell_type": "code",
   "execution_count": 173,
   "metadata": {},
   "outputs": [],
   "source": [
    "# join UCD and DWR obs\n",
    "all_obs = dwr_obs_grid.loc[:,['SITE_CODE','WSE','WLM_GSE','node','row','column']].append(ucd_obs)\n",
    "# make row and column 0 based\n",
    "all_obs.row -= 1\n",
    "all_obs.column -=1"
   ]
  },
  {
   "cell_type": "code",
   "execution_count": 174,
   "metadata": {},
   "outputs": [],
   "source": [
    "# find DEM elevation and difference between measured and DEM\n",
    "all_obs['dem_elev'] = dem_data[(all_obs.row).values.astype(int),(all_obs.column).values.astype(int)]\n",
    "all_obs['dem_wlm_gse'] = all_obs.dem_elev - all_obs.WLM_GSE\n",
    "# recalculate WSE based on DEM elevation\n",
    "all_obs['wse_m_adj'] = all_obs.dem_elev - (all_obs['WLM_GSE'] - all_obs.WSE)\n",
    "\n",
    "# get spd corresponding to dates\n",
    "all_obs['spd'] = (all_obs.index-pd.to_datetime(strt_date)).days.values\n"
   ]
  },
  {
   "cell_type": "code",
   "execution_count": 175,
   "metadata": {},
   "outputs": [
    {
     "name": "stdout",
     "output_type": "stream",
     "text": [
      "27.78 % of the sites have a difference > 1 m\n"
     ]
    },
    {
     "data": {
      "image/png": "[encoded data removed]",
      "text/plain": [
       "<Figure size 432x288 with 1 Axes>"
      ]
     },
     "metadata": {
      "needs_background": "light"
     },
     "output_type": "display_data"
    }
   ],
   "source": [
    "# dwr_obs_grid['dem_wlm_gse'] = dwr_obs_grid.dem_elev - dwr_obs_grid.WLM_GSE\n",
    "# ucd_meta_grid['dem_elev'] = dem_data[(ucd_meta_grid.row-1).values.astype(int),(ucd_meta_grid.column-1).values.astype(int)]\n",
    "# ucd_meta_grid['dem_rpe'] = ucd_meta_grid.dem_elev - ucd_meta_grid['MPE (meters)']\n",
    "# aggregate by site id and then plot to look at difference\n",
    "temp = all_obs.groupby('SITE_CODE').aggregate( func = 'mean').dem_wlm_gse.abs()\n",
    "temp.plot(label = 'DWR MW GSE')\n",
    "# ucd_meta_grid['dem_wlm_gse'].plot(label = 'UCD MW RPE')\n",
    "plt.legend()\n",
    "max_diff = 1\n",
    "plt.ylabel('Difference in DEM and GSE/RPE (m)')\n",
    "print('%.2f'%(((temp>max_diff).sum()/temp.shape)[0]*100) ,'% of the sites have a difference >', max_diff,'m' )"
   ]
  },
  {
   "cell_type": "markdown",
   "metadata": {},
   "source": [
    "UCD Monitoring wells differences  \n",
    "MWDR1 (-6m), MW UCD26(-2m), MW23 (-1m) and MWCP1 (-2m) have the worst errors"
   ]
  },
  {
   "cell_type": "code",
   "execution_count": 176,
   "metadata": {},
   "outputs": [],
   "source": [
    "dwr_site_codes = all_obs.SITE_CODE.unique()\n"
   ]
  },
  {
   "cell_type": "code",
   "execution_count": 177,
   "metadata": {},
   "outputs": [
    {
     "name": "stderr",
     "output_type": "stream",
     "text": [
      "C:\\Users\\ajcalder\\Anaconda3\\envs\\geosp\\lib\\site-packages\\pandas\\core\\indexing.py:1637: SettingWithCopyWarning: \n",
      "A value is trying to be set on a copy of a slice from a DataFrame\n",
      "\n",
      "See the caveats in the documentation: https://pandas.pydata.org/pandas-docs/stable/user_guide/indexing.html#returning-a-view-versus-a-copy\n",
      "  self._setitem_single_block(indexer, value, name)\n",
      "C:\\Users\\ajcalder\\Anaconda3\\envs\\geosp\\lib\\site-packages\\pandas\\core\\indexing.py:692: SettingWithCopyWarning: \n",
      "A value is trying to be set on a copy of a slice from a DataFrame\n",
      "\n",
      "See the caveats in the documentation: https://pandas.pydata.org/pandas-docs/stable/user_guide/indexing.html#returning-a-view-versus-a-copy\n",
      "  iloc._setitem_with_indexer(indexer, value, self.name)\n"
     ]
    }
   ],
   "source": [
    "all_obs['obs_nam'] = all_obs.node.astype(str)\n",
    "# use the model grid node number to shorten the dwr_site code name\n",
    "nodes = all_obs.obs_nam.unique()\n",
    "\n",
    "for i in np.arange(0,len(nodes)):\n",
    "    # find matching observations to the unique node\n",
    "    df = all_obs.loc[all_obs.obs_nam==nodes[i]]\n",
    "    # check ndim for counting number of obs per node\n",
    "    if df.ndim >1: nobs = len(df)\n",
    "    else: nobs=1    \n",
    "    for n in np.arange(0,nobs):\n",
    "        df.obs_nam.iloc[n] = 'N'+df.obs_nam.iloc[n]+'.'+str(n+1).zfill(5)\n",
    "#     # reset node name in dwr_obs\n",
    "    all_obs.loc[all_obs.obs_nam==nodes[i],:] = df.copy()\n",
    "    "
   ]
  },
  {
   "cell_type": "code",
   "execution_count": 178,
   "metadata": {},
   "outputs": [],
   "source": [
    "# create a new hob object\n",
    "obs_data = []\n",
    "dwr_spd_wse = all_obs.loc[:,['SITE_CODE','spd','WSE']]\n",
    "for i in np.arange(0,len(dwr_site_codes)): # for each well location\n",
    "    # time_series_data needs stress period in col 0 and WSE in col 1\n",
    "    # the row and column are already one based as they come from grid_p\n",
    "    # need to return and adjust layer later, for now layer 2 should be good so that it doesn't go dry\n",
    "    # get stress period data and water surface elevation for well\n",
    "    dwr_site = all_obs.set_index('SITE_CODE').loc[dwr_site_codes[i]]\n",
    "    if dwr_site.ndim >1:\n",
    "        row = dwr_site.row.values[0]\n",
    "        col = dwr_site.column.values[0]\n",
    "        names = dwr_site.obs_nam.tolist()\n",
    "        obsname = 'N'+str(dwr_site.node.values[0])\n",
    "    else:\n",
    "        row = dwr_site.row\n",
    "        col = dwr_site.column\n",
    "        names = dwr_site.obs_nam\n",
    "        obsname = 'N'+str(dwr_site.node)\n",
    "        \n",
    "    tsd = dwr_spd_wse.set_index('SITE_CODE').loc[dwr_site_codes[i]].values\n",
    "    # need to minus 1 for grid_p which is 1 based\n",
    "    temp = flopy.modflow.HeadObservation(m, layer=2, row=row, \n",
    "                                                  column=col,\n",
    "                                                  time_series_data=tsd,\n",
    "                                                  obsname=obsname, names = names)\n",
    "    # correct time offset from stress period to be 0\n",
    "    temp.time_series_data['toffset'] = 0\n",
    "    obs_data.append(temp)\n"
   ]
  },
  {
   "cell_type": "code",
   "execution_count": 179,
   "metadata": {},
   "outputs": [],
   "source": [
    "hob = flopy.modflow.ModflowHob(m, iuhobsv=50, hobdry=-9999., obs_data=obs_data, unitnumber = 39,\n",
    "                              hobname = 'MF.hob.out')"
   ]
  },
  {
   "cell_type": "code",
   "execution_count": 180,
   "metadata": {},
   "outputs": [],
   "source": [
    "# hob.write_file()"
   ]
  },
  {
   "cell_type": "code",
   "execution_count": null,
   "metadata": {},
   "outputs": [],
   "source": []
  },
  {
   "cell_type": "markdown",
   "metadata": {},
   "source": [
    "## Output Control"
   ]
  },
  {
   "cell_type": "code",
   "execution_count": 181,
   "metadata": {},
   "outputs": [],
   "source": [
    "# Output control\n",
    "# default unit number for heads is 51, cell by cell is 53 and drawdown is 52\n",
    "# (0,0) is (stress period, time step)\n",
    "\n",
    "# For later model runs when all the data is needed to be saved\n",
    "spd = { (j,0): ['save head', 'save budget'] for j in np.arange(0,nper,1)}\n",
    "\n",
    "# get the first of each month to print the budget\n",
    "month_intervals = (pd.date_range(strt_date,end_date, freq=\"MS\")-pd.to_datetime(strt_date)).days\n",
    "\n",
    "for j in month_intervals:\n",
    "    spd[j,0] = ['save head', 'save budget','print budget']\n",
    "    \n",
    "oc = flopy.modflow.ModflowOc(model = m, stress_period_data = spd, compact = True)"
   ]
  },
  {
   "cell_type": "markdown",
   "metadata": {},
   "source": [
    "## Newton Solver"
   ]
  },
  {
   "cell_type": "code",
   "execution_count": 182,
   "metadata": {},
   "outputs": [],
   "source": [
    "# m.version = 'mfnwt'\n",
    "# m.exe_name = 'mf-nwt.exe'"
   ]
  },
  {
   "cell_type": "code",
   "execution_count": 183,
   "metadata": {},
   "outputs": [],
   "source": [
    "# pcg = flopy.modflow.ModflowPcg(model = m)\n",
    "# nwt = flopy.modflow.ModflowNwt(model= m)\n",
    "# thickfact: portion of cell thickness used for smoothly adjusting storage and conductance coefficients to zero (default is 1e-5)\n",
    "# linmeth (linear method): 1 for GMRES and 2 for XMD (1 is default)\n",
    "# iprnwt: flag whether additional info about solver convergence will be printed to the main listing file (default is 0)\n",
    "# ibotav: flag whether corretion will be made to gw head relative to cell-bottom if surrounded by dry cells.\n",
    "# 1 = corrections and  0 = no correction (default is 0)\n",
    "# options: specify comlexity of solver. SIMPLE : default solver for linear models, MODERATE for moderately nonlinear models,\n",
    "# COMPLEX for highly nonlinear models (default is COMPLEX)\n",
    "# Continue: if model fails to converge during a time step it will continue to solve the next time step (default is False) \n",
    "# epsrn (XMD) is the drop tolerance for preconditioning (default is 1E-4)\n",
    "# hclosexmd (XMD) head closure criteria for inner (linear) iterations (default 1e-4)\n",
    "\n",
    "# solver = flopy.modflow.ModflowNwt(model = m, headtol=0.01, fluxtol=500, maxiterout=200, thickfact=1e-05, \n",
    "#                                linmeth=1, iprnwt=1, ibotav=0, options='MODERATE', Continue=False,\n",
    "#                                maxbackiter=50, backtol=1.1, maxitinner=50, ilumethod=2, \n",
    "#                                levfill=5, stoptol=1e-10, msdr=15, iacl=2, norder=1, level=5, north=7, \n",
    "#                                iredsys=0, rrctols=0.0, idroptol=1, epsrn=0.0001, hclosexmd=0.0001, \n",
    "#                                mxiterxmd=50, extension='nwt', unitnumber=27)\n",
    "\n",
    "# solver = flopy.modflow.ModflowNwt(model = m,options='MODERATE', Continue=False,\n",
    "#                                extension='nwt', unitnumber=28, filenames='MF.nwt.out')\n",
    "\n",
    "# GMG is more successful than pcg which is fine for steady state model\n",
    "# mxiter, max outer, iiter = max inner, hclose = head change criterion for convergence, \n",
    "# rclose = residual criterion for convergence\n",
    "\n",
    "# solver = flopy.modflow.ModflowGmg(model = m, mxiter=50, iiter=30, hclose = 1e-5, rclose = 1e-5)"
   ]
  },
  {
   "cell_type": "code",
   "execution_count": 184,
   "metadata": {},
   "outputs": [],
   "source": [
    "# nwt.write_file()"
   ]
  },
  {
   "cell_type": "code",
   "execution_count": 185,
   "metadata": {},
   "outputs": [],
   "source": [
    "max_outer = 200\n",
    "max_inner = 100\n",
    "# iter_mo max outer iters, ter_mi = max inner iters, close_r residual criterion for stopping iteration\n",
    "# close_h is alternate criterion for nonlinear problem, and is head closure which should be smaller than residual closer\n",
    "# ipunit =0 means no info on solver, ipunit=1 means output about solver issues is written\n",
    "# if iter_mo >1 then closer_r is used not close_h and closer_r is compared to \n",
    "# the square root of the inner product of the residuals (the residual norm)\n",
    "# adamp =0 is std damping, adamp=1 is adaptive damping that further decreases or increases damping based on picard\n",
    "# iteration sucess\n",
    "#adamp is 0.7 to resolve issues with heads oscillating near solution +1 m\n",
    "# damp_lb = lower bound, rate_d is rate of increase of damping based picard iteration success\n",
    "\n",
    "# solver = flopy.modflow.ModflowPcgn(m, max_outer = max_outer, max_inner=max_inner, close_r=1e-01, close_h=1e-02, ipunit=28) \n",
    "#                                 relax = 0.99, ifill=1)\n",
    "#                                adamp=1, damp=0.7, damp_lb=0.1, rate_d=0.01)\n",
    "\n",
    "\n",
    "# mxiter = max outer iterations, iter1 = max inner iterations\n",
    "solver = flopy.modflow.ModflowPcg(m, mxiter = max_outer, iter1=max_inner, rclose=1e-01, hclose=1e-03)\n",
    "#                                adamp=1, damp=0.7, damp_lb=0.1, rate_d=0.01)\n",
    "\n",
    "\n",
    "# solver = flopy.modflow.ModflowDe4(m, itermx = max_inner, hclose=1E-2)\n",
    "# solver = flopy.modflow.ModflowSip(m, mxiter = max_inner, hclose=1e-02)\n"
   ]
  },
  {
   "cell_type": "code",
   "execution_count": 186,
   "metadata": {},
   "outputs": [],
   "source": [
    "# solver.write_file()"
   ]
  },
  {
   "cell_type": "code",
   "execution_count": 187,
   "metadata": {},
   "outputs": [],
   "source": [
    "# m.exe_name = 'mf2005.exe' #MODFLOW-NWT.exe\n",
    "# m.version = 'mf2005' #mfnwt"
   ]
  },
  {
   "cell_type": "code",
   "execution_count": 188,
   "metadata": {
    "scrolled": false
   },
   "outputs": [
    {
     "data": {
      "text/plain": [
       "['DIS',\n",
       " 'BAS6',\n",
       " 'LPF',\n",
       " 'SFR',\n",
       " 'DATA',\n",
       " 'GHB',\n",
       " 'CHD',\n",
       " 'RCH',\n",
       " 'WEL',\n",
       " 'HOB',\n",
       " 'OC',\n",
       " 'PCG']"
      ]
     },
     "execution_count": 188,
     "metadata": {},
     "output_type": "execute_result"
    }
   ],
   "source": [
    "m.get_package_list()\n",
    "# m.remove_package('DATA')\n",
    "# m.remove_package('LAK')\n",
    "# m.remove_package('WEL')\n",
    "# m.remove_package('RCH')\n",
    "# m.remove_package('NWT')"
   ]
  },
  {
   "cell_type": "code",
   "execution_count": 189,
   "metadata": {},
   "outputs": [
    {
     "data": {
      "text/plain": [
       "'mf2005'"
      ]
     },
     "execution_count": 189,
     "metadata": {},
     "output_type": "execute_result"
    }
   ],
   "source": [
    "#irtflg, default nstrm is negative for transient/reach input\n",
    "m.version"
   ]
  },
  {
   "cell_type": "code",
   "execution_count": 190,
   "metadata": {
    "scrolled": true
   },
   "outputs": [
    {
     "name": "stdout",
     "output_type": "stream",
     "text": [
      "\n",
      "MF MODEL DATA VALIDATION SUMMARY:\n",
      "  1 Warning:\n",
      "    1 instance of \r",
      "    RCH package: Mean R/T ratio < checker warning threshold of 2e-08 for 598 stress periods\n",
      "\n",
      "  Checks that passed:\n",
      "    Unit number conflicts\n",
      "    Compatible solver package\n",
      "    DIS package: zero or negative thickness\n",
      "    DIS package: thin cells (less than checker threshold of 1.0)\n",
      "    DIS package: nan values in top array\n",
      "    DIS package: nan values in bottom array\n",
      "    BAS6 package: isolated cells in ibound array\n",
      "    BAS6 package: Not a number\n",
      "    LPF package: zero or negative horizontal hydraulic conductivity values\n",
      "    LPF package: zero or negative vertical hydraulic conductivity values\n",
      "    LPF package: negative horizontal anisotropy values\n",
      "    LPF package: horizontal hydraulic conductivity values below checker threshold of 1e-11\n",
      "    LPF package: horizontal hydraulic conductivity values above checker threshold of 100000.0\n",
      "    LPF package: vertical hydraulic conductivity values below checker threshold of 1e-11\n",
      "    LPF package: vertical hydraulic conductivity values above checker threshold of 100000.0\n",
      "    LPF package: zero or negative specific storage values\n",
      "    LPF package: specific storage values below checker threshold of 1e-06\n",
      "    LPF package: specific storage values above checker threshold of 0.01\n",
      "    LPF package: zero or negative specific yield values\n",
      "    LPF package: specific yield values below checker threshold of 0.01\n",
      "    LPF package: specific yield values above checker threshold of 0.5\n",
      "    GHB package: BC indices valid\n",
      "    GHB package: not a number (Nan) entries\n",
      "    GHB package: BC in inactive cells\n",
      "    GHB package: BC elevation below cell bottom\n",
      "    CHD package: BC indices valid\n",
      "    CHD package: not a number (Nan) entries\n",
      "    CHD package: BC in inactive cells\n",
      "    RCH package: Variable NRCHOP set to 3.\n",
      "    WEL package: BC indices valid\n",
      "    WEL package: not a number (Nan) entries\n",
      "    WEL package: BC in inactive cells\n",
      "\n"
     ]
    },
    {
     "data": {
      "text/plain": [
       "<flopy.utils.check.check at 0x1e3ed333c48>"
      ]
     },
     "execution_count": 190,
     "metadata": {},
     "output_type": "execute_result"
    }
   ],
   "source": [
    "\n",
    "m.check()\n",
    "# lak.check()\n",
    "# upw.check()"
   ]
  },
  {
   "cell_type": "markdown",
   "metadata": {},
   "source": [
    "## Write the input files"
   ]
  },
  {
   "cell_type": "code",
   "execution_count": 191,
   "metadata": {},
   "outputs": [],
   "source": [
    "# loadpth = 'C:/WRDAPP/GWFlowModel/Cosumnes_Blodgett_10yr/'\n",
    "# model_ws = loadpth+'WEL_SFR_RCH_layercake'\n",
    "# m = flopy.modflow.Modflow.load('MF.nam',model_ws = model_ws)"
   ]
  },
  {
   "cell_type": "code",
   "execution_count": 192,
   "metadata": {},
   "outputs": [
    {
     "data": {
      "text/plain": [
       "'F:/WRDAPP/GWFlowModel/Cosumnes/Cosumnes_simple/WEL_SFR_RCH_layercake'"
      ]
     },
     "execution_count": 192,
     "metadata": {},
     "output_type": "execute_result"
    }
   ],
   "source": [
    "m.model_ws"
   ]
  },
  {
   "cell_type": "code",
   "execution_count": 193,
   "metadata": {},
   "outputs": [],
   "source": [
    "# Writing the MODFLOW data files\n",
    "m.write_input()\n"
   ]
  },
  {
   "cell_type": "markdown",
   "metadata": {},
   "source": [
    "# Run the model"
   ]
  },
  {
   "cell_type": "code",
   "execution_count": 203,
   "metadata": {},
   "outputs": [],
   "source": [
    "# success, buff = m.run_model()"
   ]
  },
  {
   "cell_type": "markdown",
   "metadata": {},
   "source": [
    " insufficient virtual memory means there is way too much data for the fortran arrays too hold, more than the 16 gb I have available"
   ]
  },
  {
   "cell_type": "markdown",
   "metadata": {},
   "source": [
    "## UCODE file input"
   ]
  },
  {
   "cell_type": "code",
   "execution_count": 199,
   "metadata": {},
   "outputs": [],
   "source": [
    "hobout = pd.read_csv(m.model_ws+'/MF.hob.out',delimiter = '\\s+')"
   ]
  },
  {
   "cell_type": "code",
   "execution_count": 200,
   "metadata": {},
   "outputs": [],
   "source": [
    "obsoutnames = hobout['OBSERVATION NAME']\n",
    "obs_vals = hobout['OBSERVED VALUE']"
   ]
  },
  {
   "cell_type": "code",
   "execution_count": 554,
   "metadata": {},
   "outputs": [],
   "source": [
    "# this works for now because the chunk below is failing\n",
    "# pd.DataFrame(obsoutnames).to_csv(m.model_ws+'/MF.hob.out.jif', sep = ' ',index=False)\n",
    "# you must then manually add these two lines to the top of the file\n",
    "# jif @ \n",
    "# StandardFile  1  1  "
   ]
  },
  {
   "cell_type": "code",
   "execution_count": 419,
   "metadata": {},
   "outputs": [],
   "source": [
    "# the issue seems to be with using the m.model_ws\n",
    "# model_ws ='C:/WRDAPP/GWFlowModel/Cosumnes_simple/WEL_RIV_RCH_layercake'"
   ]
  },
  {
   "cell_type": "code",
   "execution_count": 201,
   "metadata": {},
   "outputs": [],
   "source": [
    "header = 'jif @\\n'+'StandardFile  1  1  '+str(len(obsoutnames))\n",
    "# obsoutnames.to_file(m.model_ws+'/MF.hob.out.jif', delimiter = '\\s+', index = )\n",
    "np.savetxt(model_ws+'/MF.hob.out.jif', obsoutnames.values,\n",
    "           fmt='%s', delimiter = '\\s+',header = header, comments = '')\n",
    "\n"
   ]
  },
  {
   "cell_type": "markdown",
   "metadata": {},
   "source": [
    "### hob_obs_table.dat"
   ]
  },
  {
   "cell_type": "code",
   "execution_count": 202,
   "metadata": {},
   "outputs": [],
   "source": [
    "# ucode wants the observed value already written out to the obs_table\n",
    "# the simulated equivalent and obs name must be referenced \n",
    "# in the hob.out.jif file\n",
    "# file1.writelines('  NROW='+str(len(obs_vals))+' NCOL=3 COLUMNLABELS \\n')\n",
    "# file1.writelines('  ObsName GroupName ObsValue'+'\\n')\n",
    "header = 'BEGIN Observation_Data Table\\n'+\\\n",
    "    'NROW='+str(len(obs_vals))+' NCOL=3 COLUMNLABELS \\n'+\\\n",
    "    'ObsName GroupName ObsValue'\n",
    "\n",
    "# header_flow = chobout.nam.values[0]+' flows '+str(chobout.obs.values[0])\n",
    "\n",
    "footer = 'End Observation_Data'\n",
    "\n",
    "# add column for group\n",
    "hobout['group'] = 'Heads'\n",
    "# chobout['group'] = 'flows'\n",
    "# get array of just strings\n",
    "hob_arr = hobout.loc[:,['OBSERVATION NAME','group','OBSERVED VALUE']].values\n",
    "# chob_arr = chobout.loc[:,['nam','group','obs']].values\n",
    "# hob_arr = np.vstack((hob_arr, chob_arr))\n",
    "# pull out observed value and name of obs\n",
    "np.savetxt(model_ws+'/hob_obs_table.dat', hob_arr,\n",
    "           fmt='%s', header = header, footer = footer, comments = '' )"
   ]
  },
  {
   "cell_type": "markdown",
   "metadata": {},
   "source": [
    "## File transfer for parallel set up"
   ]
  },
  {
   "cell_type": "code",
   "execution_count": 215,
   "metadata": {},
   "outputs": [],
   "source": [
    "mf_files = glob.glob(m.model_ws+'/MF.*')\n",
    "jtfs = glob.glob(m.model_ws+'/*.jtf')\n",
    "run = glob.glob(m.model_ws+'/*py*')\n",
    "files = mf_files+jtfs+run"
   ]
  },
  {
   "cell_type": "code",
   "execution_count": 224,
   "metadata": {},
   "outputs": [],
   "source": []
  },
  {
   "cell_type": "code",
   "execution_count": 227,
   "metadata": {},
   "outputs": [],
   "source": [
    "import shutil, os\n",
    "\n",
    "\n",
    "for n in np.arange(1,8).astype(str):\n",
    "    for f in files:\n",
    "        folder = '/r'+ n.zfill(2)+'/'\n",
    "        os.makedirs(m.model_ws+folder,exist_ok=True)\n",
    "        shutil.copy(f, m.model_ws+folder)"
   ]
  },
  {
   "cell_type": "code",
   "execution_count": null,
   "metadata": {},
   "outputs": [],
   "source": [
    "model_ws ='C:/WRDAPP/GWFlowModel//Cosumnes_simple/WEL_RIV_RCH_layercake'"
   ]
  },
  {
   "cell_type": "code",
   "execution_count": 293,
   "metadata": {},
   "outputs": [],
   "source": [
    "import shutil, os\n",
    "\n",
    "# write out just the updated python write file\n",
    "write_file = glob.glob(model_ws+'/*.py')\n",
    "for n in np.arange(1,8).astype(str):\n",
    "    folder = '/r'+ n.zfill(2)\n",
    "    shutil.copy(write_file[0], model_ws+folder)"
   ]
  },
  {
   "cell_type": "code",
   "execution_count": 294,
   "metadata": {},
   "outputs": [],
   "source": []
  }
 ],
 "metadata": {
  "kernelspec": {
   "display_name": "Python 3 (ipykernel)",
   "language": "python",
   "name": "python3"
  },
  "language_info": {
   "codemirror_mode": {
    "name": "ipython",
    "version": 3
   },
   "file_extension": ".py",
   "mimetype": "text/x-python",
   "name": "python",
   "nbconvert_exporter": "python",
   "pygments_lexer": "ipython3",
   "version": "3.7.11"
  }
 },
 "nbformat": 4,
 "nbformat_minor": 4
}
