{
 "cells": [
  {
   "cell_type": "code",
   "execution_count": null,
   "id": "70d6a331",
   "metadata": {},
   "outputs": [],
   "source": [
    "#Import packages\n",
    "import os\n",
    "import flopy\n",
    "import numpy as np\n",
    "import matplotlib.pyplot as plt\n",
    "import flopy.utils.binaryfile as bf\n",
    "import geopandas as gpd\n",
    "from scipy.stats import norm"
   ]
  },
  {
   "cell_type": "code",
   "execution_count": null,
   "id": "ab73ba3d",
   "metadata": {},
   "outputs": [],
   "source": [
    "## Set up directory referencing\n",
    "# Package data\n",
    "git_dir = os.path.dirname(os.path.dirname(os.getcwd()))\n",
    "gwfm_dir = '\\\\'.join(str.split(git_dir,'\\\\')[0:3])+ '/Box/research_cosumnes/GWFlowModel'\n",
    "print(git_dir, gwfm_dir)"
   ]
  },
  {
   "cell_type": "code",
   "execution_count": null,
   "id": "26d4c6da",
   "metadata": {},
   "outputs": [],
   "source": [
    "loadpth = 'C:/wrdapp/GWFlowModel/Cosumnes/Cosumnes_simple'\n",
    "model_ws = loadpth+'/WEL_RIV_RCH_tprogs_200layers/realization000'\n",
    "m = flopy.modflow.Modflow.load('MF.nam', model_ws=model_ws, \n",
    "                                exe_name='MF2005', version='mf2005')"
   ]
  },
  {
   "cell_type": "code",
   "execution_count": null,
   "id": "68bceb67",
   "metadata": {},
   "outputs": [],
   "source": [
    "def plot_lines(lines):\n",
    "    fig, ax = plt.subplots()\n",
    "    for ln in lines:\n",
    "        plt.plot([ln[0][0], ln[1][0]], [ln[0][1], ln[1][1]], linewidth = 0.1)"
   ]
  },
  {
   "cell_type": "code",
   "execution_count": null,
   "id": "f76818a7",
   "metadata": {},
   "outputs": [],
   "source": [
    "##Grid Creation for Large Model\n",
    "# Load model grid as geopandas object\n",
    "grid_regional = gpd.read_file(gwfm_dir+'/DIS_data/grid/grid.shp')\n",
    "# grid_p = gpd.read_file(gwfm_dir+'/DIS_data/44_7_grid/44_7_grid.shp')\n",
    "grid_p = gpd.read_file(gwfm_dir+'/DIS_data/Inset_grid_44_7/44_7_grid.shp')\n",
    "\n",
    "grid_p_temp = grid_p.copy()\n",
    "grid_p_temp.geometry = grid_p_temp.buffer(-99.9999)\n",
    "# grid_regional.geometry = grid_regional.buffer(-100)\n",
    "\n",
    "grid_ref = gpd.sjoin(grid_p_temp, grid_regional.to_crs('epsg:3310'), how = 'left',predicate = 'within',\n",
    "                     lsuffix='inset', rsuffix = 'regional')\n",
    "# grid_ref = pd.DataFrame(grid_ref.loc[:,['row_inset','column_inset','row_regional','column_regional']])\n",
    "# reset geometry from tiny polygon to rectangle\n",
    "grid_ref.geometry = grid_p.geometry\n",
    "\n",
    "grid_ref = grid_ref.rename({'row_inset':'row','column_inset':'column'},axis=1)"
   ]
  },
  {
   "cell_type": "code",
   "execution_count": null,
   "id": "bdb87131",
   "metadata": {},
   "outputs": [],
   "source": []
  },
  {
   "cell_type": "code",
   "execution_count": null,
   "id": "d48bf93f",
   "metadata": {},
   "outputs": [],
   "source": [
    "##Teichert Model Load\n",
    "Teichert = gpd.read_file('C:/wrdapp/OHWD recharge project files/Kautz Property.shp')\n",
    "Teichert_3310 = Teichert.to_crs('epsg:3310')"
   ]
  },
  {
   "cell_type": "code",
   "execution_count": null,
   "id": "e3c8e02d",
   "metadata": {},
   "outputs": [],
   "source": [
    "for n in np.arange(0,100).astype(str):\n",
    "    model = 'C:/wrdapp/GWFlowModel/Cosumnes/Cosumnes_simple/WEL_RIV_RCH_tprogs_200layers/realization'+ n.zfill(3)+'/'\n",
    "    hdobj = flopy.utils.HeadFile(model + '/MF.hds')\n",
    "    head = hdobj.get_data(kstpkper = spd_stp[0])\n",
    "    head.shape\n",
    "    A = head[100,:,:]\n",
    "    A_new = np.reshape(A,(6300,1))\n",
    "    grid_ref[\"Head\"+n] = A_new\n"
   ]
  },
  {
   "cell_type": "code",
   "execution_count": null,
   "id": "2041c2cb",
   "metadata": {},
   "outputs": [],
   "source": [
    "grid_ref"
   ]
  },
  {
   "cell_type": "code",
   "execution_count": null,
   "id": "02bd52c2",
   "metadata": {},
   "outputs": [],
   "source": [
    "##Clip Data\n",
    "#grid_ref = gpd.sjoin(grid_p_temp, grid_regional.to_crs('epsg:3310'), how = 'left',predicate = 'within',\n",
    "                     #lsuffix='inset', rsuffix = 'regional')\n",
    "grid_teichert = gpd.sjoin(grid_ref, Teichert_3310)\n",
    "#grid_teichert.plot()\n",
    "grid_teichert"
   ]
  },
  {
   "cell_type": "code",
   "execution_count": null,
   "id": "1db03e25",
   "metadata": {},
   "outputs": [],
   "source": [
    "for r in np.arange(0,104):\n",
    "    Plt = plt.figure(r)\n",
    "    X = grid_teichert.iloc[r,9:108]    \n",
    "    #norm.pdf(X)\n",
    "    Plt = X.plot.kde()\n",
    "    plt.xlabel('Head Value')"
   ]
  },
  {
   "cell_type": "code",
   "execution_count": null,
   "id": "7d92062e",
   "metadata": {},
   "outputs": [],
   "source": [
    "X"
   ]
  },
  {
   "cell_type": "code",
   "execution_count": null,
   "id": "a84e949c",
   "metadata": {},
   "outputs": [],
   "source": [
    "##Plot Head Data\n",
    "def plot_head(hdobj, name):\n",
    "    head = hdobj.get_data()\n",
    "    levels_hmax = np.round(np.max(head[head!=1E+30]),-1)\n",
    "#     levels_hmin = np.round(np.min(head[head!=-999.99]),-1)\n",
    "    levels_hmin = np.round(np.min(head[head>=-200]),-1)\n",
    "   # frf = cbb.get_data(text='FLOW RIGHT FACE')[0]\n",
    "   # fff = cbb.get_data(text='FLOW FRONT FACE')[0]\n",
    "\n",
    "    levels = np.arange(levels_hmin, levels_hmax, 2)\n",
    "\n",
    "    fig = plt.figure(figsize=(30,20))\n",
    "\n",
    "    ax = fig.add_subplot(1,1,1)\n",
    "    ax.set_title(name+'Head Contours')\n",
    "    mapview = flopy.plot.PlotMapView(model=m)\n",
    "    quadmesh = mapview.plot_ibound()\n",
    "#     line = mapview.plot_bc('RIV', plotAll=True)\n",
    "    mapview.plot_bc(\"GHB\", plotAll=True)\n",
    "    mapview.plot_bc(\"CHD\", plotAll=True)\n",
    "    Teichert = gpd.read_file('C:/wrdapp/OHWD recharge project files/Kautz Property.shp')\n",
    "    Teichert_3310 = Teichert.to_crs('epsg:3310')\n",
    "    Teichert_3310.plot(ax = ax)\n",
    "\n",
    "    contour_set = mapview.contour_array(head[5,:,:], masked_values=[-999.99, 1e+30], levels=levels)\n",
    "#     quiver = mapview.plot_discharge(frf, fff, istep=10, jstep=10)  # no head array for volumetric discharge\n",
    "\n",
    "    cb = plt.colorbar(contour_set, shrink = 0.5)\n",
    "    cb.set_label('Head (m)')\n",
    "\n",
    "    ax.ticklabel_format(style='plain')\n",
    "\n",
    "    linecollection = mapview.plot_grid(linewidths = 0.3)\n",
    "    plt.xlabel('Easting (m)')\n",
    "    plt.ylabel('Northing (m)')\n",
    "#     plt.savefig('Plots//'+name +'_head_contour.png', dpi = 600, bbox_inches='tight')"
   ]
  },
  {
   "cell_type": "code",
   "execution_count": null,
   "id": "56ede5be",
   "metadata": {},
   "outputs": [],
   "source": [
    "##Extract Heads to Array\n",
    "hdobj = flopy.utils.HeadFile(model_ws + '/MF.hds')\n",
    "#spd_stp = hdobj.get_kstpkper()\n",
    "# for i in np.arange(0,len(spd_stp)):\n",
    "plot_head(hdobj, 'MF')\n",
    "#spd_stp\n",
    "plt.savefig('Head_Contours')"
   ]
  },
  {
   "cell_type": "code",
   "execution_count": null,
   "id": "cb939282",
   "metadata": {},
   "outputs": [],
   "source": [
    "hdobj = flopy.utils.HeadFile(model_ws + '/MF.hds')\n",
    "#hdobj.list_records()\n",
    "rec = hdobj.get_data()\n",
    "len(hdobj)"
   ]
  },
  {
   "cell_type": "code",
   "execution_count": null,
   "id": "2502d8f0",
   "metadata": {},
   "outputs": [],
   "source": [
    "\n"
   ]
  }
 ],
 "metadata": {
  "kernelspec": {
   "display_name": "Python 3 (ipykernel)",
   "language": "python",
   "name": "python3"
  },
  "language_info": {
   "codemirror_mode": {
    "name": "ipython",
    "version": 3
   },
   "file_extension": ".py",
   "mimetype": "text/x-python",
   "name": "python",
   "nbconvert_exporter": "python",
   "pygments_lexer": "ipython3",
   "version": "3.8.12"
  }
 },
 "nbformat": 4,
 "nbformat_minor": 5
}
