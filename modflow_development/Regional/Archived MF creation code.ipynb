{
 "cells": [
  {
   "cell_type": "code",
   "execution_count": null,
   "id": "ef4fab2b",
   "metadata": {},
   "outputs": [],
   "source": []
  },
  {
   "cell_type": "code",
   "execution_count": null,
   "id": "e9ea54a7",
   "metadata": {},
   "outputs": [],
   "source": []
  },
  {
   "cell_type": "markdown",
   "id": "5b4b4f15",
   "metadata": {},
   "source": [
    "# GHB"
   ]
  },
  {
   "cell_type": "code",
   "execution_count": null,
   "id": "beb84f32",
   "metadata": {},
   "outputs": [],
   "source": [
    "y_num=0\n",
    "\n",
    "nwhead_fall = kriged_fall[:,0,:]\n",
    "sehead_fall = kriged_fall[:,-1,:]\n",
    "\n",
    "\n",
    "# Set kriged water table elevations that are above land surface to land surface minus 15 ft (based on historical levels)\n",
    "# nwhead_fall = np.where(nwhead_fall>dem_data[0,:], dem_data[0,:] - 15*0.3048, nwhead_fall)\n",
    "# sehead_fall = np.where(sehead_fall>dem_data[-1,:], dem_data[-1,:]- 15*0.3048, sehead_fall)\n",
    "dem_offset = 15*0.3048\n",
    "# dem_offset = 0\n",
    "\n",
    "kriged_NW = np.where(kriged_NW>dem_data[0,:], dem_data[0,:]- dem_offset, kriged_NW)\n",
    "kriged_SE = np.where(kriged_SE>dem_data[-1,:], dem_data[-1,:]- dem_offset, kriged_SE)\n",
    "\n",
    "# calculate the average depth to water table for the spring and from 2013-2018 for the northwest and southeast boundary\n",
    "avg_nw = np.nanmean(kriged_NW,axis=0)\n",
    "avg_se = np.nanmean(kriged_SE,axis=0)\n",
    "\n",
    "\n",
    "nw_lay = get_layer_from_elev(avg_nw, botm[:,0,:], m.dis.nlay)\n",
    "se_lay = get_layer_from_elev(avg_se, botm[:,-1,:], m.dis.nlay)"
   ]
  },
  {
   "cell_type": "markdown",
   "id": "f042a952",
   "metadata": {},
   "source": [
    "# RCH"
   ]
  },
  {
   "cell_type": "code",
   "execution_count": null,
   "id": "688800e3",
   "metadata": {},
   "outputs": [],
   "source": [
    "import h5py\n",
    "uzf_dir = join(gwfm_dir, 'UZF_data')\n",
    "nrow_p, ncol_p = 100,230\n"
   ]
  },
  {
   "cell_type": "code",
   "execution_count": null,
   "id": "6642c6b5",
   "metadata": {},
   "outputs": [],
   "source": [
    "def load_climate(strt_date, end_date):\n",
    "    nper_tr = (end_date-strt_date).days+1\n",
    "    ETc = np.zeros((nper_tr,nrow_p,ncol_p))\n",
    "    agETc = np.zeros((nper_tr,nrow_p,ncol_p))\n",
    "    rain = np.zeros((nper_tr,nrow_p,ncol_p))\n",
    "    non_dev_rain = np.zeros((nper_tr,nrow_p,ncol_p))\n",
    "    ag_rch = np.zeros((nper_tr,nrow_p,ncol_p))\n",
    "\n",
    "    ETc_count = 0\n",
    "    for y in np.arange(strt_date.year, end_date.year+1):\n",
    "        # set start and end date for range for the year to be iterated over\n",
    "        yr_strt = pd.to_datetime(str(y)+'-01-01')\n",
    "        yr_end = pd.to_datetime(str(y)+'-12-31')\n",
    "        # get the length of the date range needed for that year\n",
    "        yearlen = len(pd.date_range(yr_strt, yr_end))\n",
    "        if yr_strt < strt_date:\n",
    "            yr_strt = strt_date\n",
    "        if yr_end > end_date:\n",
    "            yr_end = end_date\n",
    "\n",
    "        # read in text file of all of the ETc data for each year in array format    \n",
    "#         ET_year = np.loadtxt(gwfm_dir+'/UZF_data/ETa_all_txt_arrays/ETa_array_'+str(y)+'.tsv', delimiter = '\\t')\n",
    "#         rain_year = np.loadtxt(gwfm_dir+'/UZF_data/Rain_all_txt_arrays/Rain_array_'+str(y)+'.tsv', delimiter = '\\t')\n",
    "        # correct the shape of the text file from 2D to 3D\n",
    "#         revertETc = np.reshape(ET_year, (yearlen, nrow_p, ncol_p))\n",
    "#         revertrain = np.reshape(rain_year, (yearlen, nrow_p, ncol_p))\n",
    "        all_ag_arr = np.loadtxt( gwfm_dir+'/WEL_data/simple_landuse_arrays/ag_land_'+str(y)+'.tsv',  delimiter='\\t')\n",
    "        dev_arr = np.loadtxt( gwfm_dir+'/WEL_data/simple_landuse_arrays/developed_land_'+str(y)+'.tsv',  delimiter='\\t')\n",
    "        non_dev_arr = ~dev_arr.astype(bool) # flip array to have non-developed land array for recharge estimates\n",
    "        # estimate floodplain and Ag recharge\n",
    "        ag_flood_arr = np.loadtxt(gwfm_dir+'/WEL_data/simple_landuse_arrays/ag_flood_land_'+str(y)+'.tsv', delimiter='\\t')\n",
    "        # aggregate floodplain array over years\n",
    "    #     ag_flood_arr = np.where(ag_flood_y>0,1,0)\n",
    "\n",
    "        revertETc = f_clim['evapotranspiration'][str(y)][:]\n",
    "        revertrain = f_clim['precipitation'][str(y)][:]\n",
    "        # filter the 3D array based on the desired date range\n",
    "        filtered_date_ETc = revertETc[yr_strt.dayofyear-1:yr_end.dayofyear,:,:]\n",
    "        filtered_date_rain = revertrain[yr_strt.dayofyear-1:yr_end.dayofyear,:,:]\n",
    "        # get the length of the date range needed for that year\n",
    "        yr_len = len(pd.date_range(yr_strt, yr_end))\n",
    "#         print(y, yr_len, ETc[ETc_count:ETc_count+yr_len,:,:].shape, filtered_date_ETc.shape)\n",
    "        # add the data to the ETc array for the whole model time period\n",
    "        ETc[ETc_count:ETc_count+yr_len,:,:] = filtered_date_ETc\n",
    "        agETc[ETc_count:ETc_count+yr_len,:,:] = filtered_date_ETc*all_ag_arr\n",
    "        rain[ETc_count:ETc_count+yr_len,:,:] = filtered_date_rain\n",
    "        non_dev_rain[ETc_count:ETc_count+yr_len,:,:] = filtered_date_rain*non_dev_arr\n",
    "        # extra recharge for alfalfa irrigation to offset lowered water levels\n",
    "        ag_rch[ETc_count:ETc_count+yr_len,:,:] = filtered_date_ETc*ag_flood_arr\n",
    "        ETc_count += yr_len\n",
    "    return(ETc, agETc, rain, non_dev_rain, ag_rch)"
   ]
  },
  {
   "cell_type": "code",
   "execution_count": null,
   "id": "8ec7a71c",
   "metadata": {},
   "outputs": [],
   "source": [
    "nyrs = end_date.year-strt_date.year\n",
    "natl_flood_arr = np.zeros((nyrs, nrow,ncol))\n",
    "for yn, y in enumerate(np.arange(strt_date.year+1, end_date.year+1)):\n",
    "    # estimate floodplain and Ag recharge\n",
    "    natl_flood_y = np.loadtxt(gwfm_dir+'/WEL_data/simple_landuse_arrays/natl_flood_land_'+str(y)+'.tsv', delimiter='\\t')\n",
    "    # aggregate floodplain array over years\n",
    "    natl_flood_arr[yn, natl_flood_y>0] = 1\n",
    "# aggregate, where vegetation exists in all years\n",
    "natl_flood_arr = natl_flood_arr.sum(axis=0) >= nyrs"
   ]
  },
  {
   "cell_type": "code",
   "execution_count": null,
   "id": "d67ff45e",
   "metadata": {},
   "outputs": [],
   "source": [
    "\n",
    "f_clim = h5py.File(join(uzf_dir, \"processed_climate_data.hdf5\"), \"r\")\n",
    "\n",
    "# f_lu = h5py.File(join(uzf_dir, \"simple_land_use_data.hdf5\"), \"r\")\n"
   ]
  },
  {
   "cell_type": "code",
   "execution_count": null,
   "id": "ff4fefa7",
   "metadata": {},
   "outputs": [],
   "source": [
    "# load climate data for the model period\n",
    "old_ETc, old_agETc, rain, non_dev_rain, ag_rch = load_climate(strt_date, end_date)"
   ]
  },
  {
   "cell_type": "code",
   "execution_count": null,
   "id": "c4cd2058",
   "metadata": {},
   "outputs": [],
   "source": [
    "ss_ndays = (strt_date - ss_strt).days + 1\n",
    "# load the recent years data to formulate a steady state period\n",
    "ss_ETc, ss_agETc, ss_rain, ss_non_dev_rain, ss_ag_rch = load_climate(ss_strt, strt_date)"
   ]
  },
  {
   "cell_type": "markdown",
   "id": "58ffe16f",
   "metadata": {},
   "source": [
    "## Functions to augment recharge\n",
    "It is expected that alfalfa fields using flood irrigation lead to some recharge and that designated wetland vegetation would experience more flooding. The code below was designed to apply increased recharged. After updating crop mapping this is no longer suited as pumping was greatly reduced and recharge became the issue with overestimation, so I made a basic soil budget model that in a way allows for zones of higher and lower recharge based on soil type."
   ]
  },
  {
   "cell_type": "code",
   "execution_count": null,
   "id": "593203f5",
   "metadata": {},
   "outputs": [],
   "source": [
    "# if len(ag_rch.shape) >2:\n",
    "ag_rch_ss = ag_rch.mean(axis=0)\n",
    "\n",
    "np.savetxt(model_ws+'/input_data/ag_rch_input.csv', np.reshape(ag_rch, ((nper_tr)*nrow,ncol)))\n",
    "\n",
    "# np.savetxt(model_ws+'/input_data/ag_rch_input_ss.csv', ag_rch_ss)\n",
    "# determine ag recharge by loss factor\n",
    "ag_rch_scaled = ag_rch* scaling_factors.ag_rch_efficiency # assume 5% or 10% irrigation losses for now"
   ]
  },
  {
   "cell_type": "code",
   "execution_count": null,
   "id": "4673036b",
   "metadata": {},
   "outputs": [],
   "source": [
    "# copy over files from steady state input run\n",
    "# import shutil, os\n",
    "# files = ['base_rch_input_ss.csv', 'wel_input_ss.csv', 'ag_rch_input_ss.csv']\n",
    "# # np.savetxt(model_ws+'/input_data/base_rch_input_ss.csv', net_inf_ss)\n",
    "# ss_model_input = loadpth+'historical_SS/input_data/'\n",
    "\n",
    "# for f in files:\n",
    "#     f = ss_model_input + f\n",
    "#     shutil.copy(f, m.model_ws+'/input_data')"
   ]
  },
  {
   "cell_type": "code",
   "execution_count": null,
   "id": "2b4cf02f",
   "metadata": {},
   "outputs": [],
   "source": [
    "np.savetxt(model_ws+'/input_data/natl_flood_arr.csv',natl_flood_arr)\n",
    "inflow.to_csv(model_ws+'/input_data/inflow.csv', index=True)\n",
    "\n",
    "# flood stage is 12 ft which corresponds to about 10,000 cfs so when flow is above 10,000 cfs\n",
    "# 10000 cfs cutoff means it only floods in 2017, lets try 3,000 cfs floodplain connection limit\n",
    "# 3,000 cfs gives 127 days which is 30 days per year\n",
    "fp_days = (inflow[inflow.flow_cfs>scaling_factors.fp_active_flow].index - strt_date).days +1 # to account for steady state\n",
    "\n",
    "fp_rch = np.zeros((nper_tr,nrow,ncol)) # floodplain recharge\n",
    "# assume constant rate of 1 ft/day for days when flooding happens\n",
    "fp_rch[fp_days,:,:] = np.ones((nrow,ncol))*natl_flood_arr*0.3048 \n",
    "# reduce flooding by vka in layer 1\n",
    "fp_rch = np.where(fp_rch > vka[0,:,:]*natl_flood_arr.astype(bool), vka[0,:,:]*natl_flood_arr.astype(bool), fp_rch)\n",
    "\n",
    "# any locations more than 10,000 meters from Mokelumne Confluence are less likely to be floodplain inundation\n",
    "fp_rch[:,:,scaling_factors.fp_column_extent.astype(int):]=0\n",
    "fp_rch_ss = fp_rch.mean(axis=0)\n",
    "np.savetxt(model_ws+'/input_data/fp_rch_input_ss.csv', fp_rch_ss)\n"
   ]
  },
  {
   "cell_type": "markdown",
   "id": "9f5a6f66",
   "metadata": {},
   "source": [
    "# UZF"
   ]
  },
  {
   "cell_type": "code",
   "execution_count": null,
   "id": "d1e80897",
   "metadata": {},
   "outputs": [],
   "source": [
    "# required to do this method to insure correct formatting and then change parameters in code below, these are \n",
    "# mostly default values\n",
    "# uzf = flopy.modflow.ModflowUzf1(model = m,\n",
    "#                                 nuztop=3, iuzfopt=1, irunflg=0, ietflg=1,\n",
    "#                                 ipakcb=55, # unformatted output file of  ground-water recharge, ET, and ground-water discharge to land surface rates\n",
    "#                                 iuzfcb2=61,# binary output of recharge and groundwater discharge\n",
    "#                                 specifythtr = True,\n",
    "#                                 specifythti = False,\n",
    "#                                 specifysurfk = True,\n",
    "#                                 unitnumber=19)"
   ]
  },
  {
   "cell_type": "code",
   "execution_count": null,
   "id": "5b49ca7c",
   "metadata": {},
   "outputs": [],
   "source": [
    "# nuztop define which cell in column that recharge and discharge is simulated\n",
    "# 1 = recharge/discharge for top model layer only, 2 = rch/dis to layer specified in iuzfbnd\n",
    "# 3 = rch/dis to highest active cell in each column, top layer is iuzfbnd, const head node prevents deeper perc\n",
    "# uzf.nuztop = 3\n",
    "# # iuzfopt (int) 0 = no unsat zone routing, 1 = kvert specified by UZF in VKS, 2 = kvert taken from LPF or BCF input\n",
    "# uzf.iuzfopt = 1\n",
    "# # irunflg (int), whether gw discharge to land surface will be routed to stream (+1) segments specified by irunbnd or removed\n",
    "# # from the model and accounted as a loss (0)\n",
    "# # start with removed for simplicitly and this would most likely occur on the lower river where it is near model bounds\n",
    "# uzf.irunflg = 0\n",
    "# # ietflg (int) specifies whether ET will be simulated, 0 = no ET, other = ET\n",
    "# # Start with no ET to get simple UZF running\n",
    "# uzf.ietflg = 1\n",
    "# # nstrail2, number of trailing waves used to define he water content profile following a decrease in the infiltration rate\n",
    "# # range between 10 and 20 is usually adequate\n",
    "# uzf.ntrail2 = 10\n",
    "# # nsets2 (in) number of wave sets used to simulate multiple infiltration periods, should be set to 20 for most problems\n",
    "# uzf.nsets = 30\n",
    "# # nuzgag = num of cells that will be specified for printing detailed information\n",
    "# # uzf.nuzgag = 0\n",
    "# # surfdep = avg undulation depth in the land surface within a finite-difference cell\n",
    "# uzf.surfdep = (6/12)*0.3048"
   ]
  },
  {
   "cell_type": "code",
   "execution_count": null,
   "id": "99b628c2",
   "metadata": {},
   "outputs": [],
   "source": [
    "# uzf.vks = vka[0,:,:] \n",
    "# the low K units end causing too many waves, and if there are 3d paths then vka would be higher\n",
    "# uzf.vks = vka.mean()\n",
    "# # try with very high VKS to allow rapid infiltration to water table while maintaining Soil Water Budget\n",
    "# # if water is below EXTDP then no ET occurs so high VKS kills ET until GW is available\n",
    "# # uzf.vks = 10\n",
    "\n",
    "# # specify surfk to set VKA that rejects infiltration\n",
    "# uzf.surfk = soilKs_array"
   ]
  },
  {
   "cell_type": "code",
   "execution_count": null,
   "id": "f341ac78",
   "metadata": {},
   "outputs": [],
   "source": [
    "# areal extent in which UZF will be simulated\n",
    "# iuzfbnd = np.copy(ibound[0,:,:])\n",
    "# # removes -1 from const head boundary and convert to just active vs inactive cells\n",
    "# iuzfbnd[iuzfbnd[:,:] == -1] = 0\n",
    "# uzf.iuzfbnd = iuzfbnd[:,:]\n",
    "# # if irunflg>0 then specify irunbnd\n",
    "# # array of (int) to define stream segments that overland runoff from excess infil and gw discharge\n",
    "# # to land surface will be added\n",
    "# uzf.irunbnd = iuzfbnd[:,:]\n"
   ]
  },
  {
   "cell_type": "code",
   "execution_count": null,
   "id": "e58bf834",
   "metadata": {},
   "outputs": [],
   "source": [
    "# uzf.eps = soileps_array\n",
    "# uzf.eps = 3.5 # default value\n",
    "# # # Convert from percent into decimal\n",
    "# # maybe overestimating porositiy by using soil data\n",
    "# # uzf.thts = soiln_array/100\n",
    "# # porosity estimated with TPROGs, mostly reduces from soil estimate\n",
    "# uzf.thts = np.mean(tc.get_tprogs_for_elev(por, top, bot1,tprogs_info),axis=0)"
   ]
  },
  {
   "cell_type": "code",
   "execution_count": null,
   "id": "6498b02b",
   "metadata": {},
   "outputs": [],
   "source": [
    "# if 'upw' in globals():\n",
    "#     # residual water content is equal to the porosity minus specific yield\n",
    "#     uzf.thtr = uzf.thts.array - upw.sy.array[0,:,:]\n",
    "# elif 'lpf' in globals():\n",
    "#     uzf.thtr = uzf.thts.array - lpf.sy.array[0,:,:]\n"
   ]
  },
  {
   "cell_type": "markdown",
   "id": "844cca2f",
   "metadata": {},
   "source": [
    "### For each stress period\n",
    "For the UZF package, rainfall should be directly applied as runoff and ET will both be calculated internally.  \n",
    "**Steady state** - is consistenly too high with recharge because subtracting ET and some runoff likely misses the overlap of ET due to soil zone residence time and runoff due to steep slopes as well."
   ]
  },
  {
   "cell_type": "code",
   "execution_count": null,
   "id": "97f2cc8a",
   "metadata": {},
   "outputs": [],
   "source": [
    "# have transient recharge start after the 1st spd\n",
    "# finf_dict = {}\n",
    "# ETc_dict = {}\n",
    "# for t in np.arange(time_tr0, nper):\n",
    "# #     finf_dict[t] = np.ones((nrow,ncol))*rain_in[t-time_tr0]\n",
    "#     finf_dict[t] = rain_arr[t-time_tr0]*(1- soilCN_arr)\n",
    "\n",
    "#     ETc_dict[t] = ETc[t-time_tr0]\n",
    "\n",
    "# # set average recharge for previous period as steady state\n",
    "# # steady state ET only seems to apply to GW, not the soil zone\n",
    "# if ss_bool == True:\n",
    "# #     finf_dict[0] = np.ones((nrow,ncol))*rain_in_ss.mean()\n",
    "#     finf_dict[0] = finf_ss # about 2/3 of assuming average\n",
    "#     ETc_dict[0] = ss_ETc.mean(axis=0)"
   ]
  },
  {
   "cell_type": "code",
   "execution_count": null,
   "id": "78b0e0e3",
   "metadata": {},
   "outputs": [],
   "source": [
    "# infiltration rates (L/T) at land surface\n",
    "# uzf.finf = finf_dict\n",
    "\n",
    "# # Potential ET (L/T)\n",
    "# uzf.pet = ETc_dict\n",
    "\n",
    "# # ET extinction depths (L), 1.5 avg value\n",
    "# uzf.extdp = 10 # first 3 to give more access, increase to 10\n",
    "# # Extinction water content, (THTS-Sy) < extwc < THTS\n",
    "# uzf.extwc = uzf.thtr.array"
   ]
  }
 ],
 "metadata": {
  "kernelspec": {
   "display_name": "Python 3 (ipykernel)",
   "language": "python",
   "name": "python3"
  },
  "language_info": {
   "codemirror_mode": {
    "name": "ipython",
    "version": 3
   },
   "file_extension": ".py",
   "mimetype": "text/x-python",
   "name": "python",
   "nbconvert_exporter": "python",
   "pygments_lexer": "ipython3",
   "version": "3.10.9"
  }
 },
 "nbformat": 4,
 "nbformat_minor": 5
}
