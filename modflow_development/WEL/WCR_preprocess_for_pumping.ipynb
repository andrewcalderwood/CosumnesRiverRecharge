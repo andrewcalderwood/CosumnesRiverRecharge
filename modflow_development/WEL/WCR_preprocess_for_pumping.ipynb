{
 "cells": [
  {
   "cell_type": "markdown",
   "id": "46be70d5",
   "metadata": {},
   "source": [
    "Goal: Preprocess the WCR information further based on well age, depth and location to prepare a general dataset useful for the Cosumnes modeling work. This was originally in the main model code, but was set aside to reduce clutter."
   ]
  },
  {
   "cell_type": "code",
   "execution_count": 1,
   "id": "9d87d09d",
   "metadata": {},
   "outputs": [],
   "source": [
    "import os\n",
    "from os.path import basename, dirname, exists, join\n",
    "import numpy as np\n",
    "import pandas as pd\n",
    "import geopandas as gpd"
   ]
  },
  {
   "cell_type": "code",
   "execution_count": 2,
   "id": "6e06ef9a",
   "metadata": {},
   "outputs": [
    {
     "data": {
      "text/plain": [
       "'C:\\\\Users\\\\ajcalder/Box/research_cosumnes/GWFlowModel'"
      ]
     },
     "execution_count": 2,
     "metadata": {},
     "output_type": "execute_result"
    }
   ],
   "source": [
    "doc_dir = os.getcwd()\n",
    "while basename(doc_dir) != 'Documents':\n",
    "    doc_dir = dirname(doc_dir)\n",
    "# dir of all gwfm data\n",
    "gwfm_dir = dirname(doc_dir)+'/Box/research_cosumnes/GWFlowModel'\n",
    "gwfm_dir"
   ]
  },
  {
   "cell_type": "code",
   "execution_count": 3,
   "id": "d5d12dce",
   "metadata": {},
   "outputs": [],
   "source": [
    "# model can't run before 2010 due to input limitations for crop coefficients so this will be considered the oldest date\n",
    "# for wells (going 60 years back from 2010 will allow a 70 year age)\n",
    "strt_date = pd.to_datetime('2010-10-01')\n"
   ]
  },
  {
   "cell_type": "code",
   "execution_count": 4,
   "id": "7d70a7a0",
   "metadata": {},
   "outputs": [],
   "source": [
    "# Load model grid as geopandas object\n",
    "grid_p = gpd.read_file(gwfm_dir+'/DIS_data/grid/grid.shp')"
   ]
  },
  {
   "cell_type": "code",
   "execution_count": 5,
   "id": "f6abef13",
   "metadata": {},
   "outputs": [],
   "source": [
    "nrow = grid_p.row.max()\n",
    "ncol = grid_p.column.max()"
   ]
  },
  {
   "cell_type": "code",
   "execution_count": 13,
   "id": "5c43d4ac",
   "metadata": {},
   "outputs": [],
   "source": [
    "wells = pd.read_csv(gwfm_dir+'/WEL_data/all_wells_type.csv')\n",
    "wells_grid = gpd.GeoDataFrame(wells, geometry = gpd.points_from_xy(wells.easting,wells.northing), crs = 'epsg:32610')\n",
    "# remove wells that didn't exist before model start date, could improve later to start pumping mid-model\n",
    "wells_grid.DateWorkEnded = pd.to_datetime(wells_grid.DateWorkEnded )\n",
    "wells_grid['well_age_days'] = (strt_date - wells_grid.DateWorkEnded).dt.days\n",
    "\n",
    "# if wells_grid.row.min()==1:\n",
    "wells_grid.row = (wells_grid.row-1).astype(int)\n",
    "wells_grid.column = (wells_grid.column -1).astype(int)"
   ]
  },
  {
   "cell_type": "code",
   "execution_count": 14,
   "id": "aa893709",
   "metadata": {},
   "outputs": [],
   "source": [
    "wells_grid['depth_m'] = wells_grid.TotalCompletedDepth*0.3048\n",
    "wells_grid['flux'] = 0\n",
    "wells_grid['layer'] = 0"
   ]
  },
  {
   "cell_type": "code",
   "execution_count": 30,
   "id": "7cad6013",
   "metadata": {},
   "outputs": [],
   "source": [
    "wells_grid.to_csv(gwfm_dir+'/WEL_data/wells_grid.csv', index=False)"
   ]
  },
  {
   "cell_type": "code",
   "execution_count": 31,
   "id": "453c416e",
   "metadata": {},
   "outputs": [],
   "source": [
    "# wells_grid = pd.read_csv(gwfm_dir+'/WEL_data/wells_grid.csv')\n",
    "# wells_grid = gpd.GeoDataFrame(wells_grid, geometry = gpd.points_from_xy(wells_grid.easting, wells_grid.northing),\n",
    "#                               crs='epsg:32610')"
   ]
  },
  {
   "cell_type": "code",
   "execution_count": 8,
   "id": "25aa8f8e",
   "metadata": {},
   "outputs": [
    {
     "name": "stderr",
     "output_type": "stream",
     "text": [
      "C:\\Users\\ajcalder\\anaconda3\\envs\\geo_env\\Lib\\site-packages\\geopandas\\geodataframe.py:1676: FutureWarning: The default value of numeric_only in DataFrameGroupBy.mean is deprecated. In a future version, numeric_only will default to False. Either specify numeric_only or select only columns which should be valid for the function.\n",
      "  aggregated_data = data.groupby(**groupby_kwargs).agg(aggfunc)\n",
      "C:\\Users\\ajcalder\\anaconda3\\envs\\geo_env\\Lib\\site-packages\\IPython\\core\\interactiveshell.py:3382: FutureWarning: The `op` parameter is deprecated and will be removed in a future release. Please use the `predicate` parameter instead.\n",
      "  if await self.run_code(code, result, async_=asy):\n"
     ]
    },
    {
     "name": "stdout",
     "output_type": "stream",
     "text": [
      "280 (280, 17) 267\n"
     ]
    }
   ],
   "source": [
    "wells_grid_ag = wells_grid.copy()\n",
    "wells_grid_ag = wells_grid.loc[wells_grid.Simple_type == 'irrigation'].dissolve('node', aggfunc = 'mean')\n",
    "wells_grid_ag.geometry = wells_grid.loc[wells_grid.Simple_type == 'irrigation'].dissolve('node', aggfunc = 'first').geometry\n",
    "\n",
    "# remove wells older than 60 years for ag, think of Teichert wells from 60s (domestic wells age out earlier)\n",
    "print(wells_grid_ag.well_age_days.notna().sum(), wells_grid_ag.shape, (wells_grid_ag.well_age_days < 60*365).sum())\n",
    "wells_grid_ag = wells_grid_ag[wells_grid_ag.well_age_days < 60*365]\n",
    "\n",
    "# the longest road on Teichert is 1500 m, and on a regional scale these seem to be the largest ag fields.\n",
    "# Visually a 500 m buffer results in a small amount of ag, 1000 m causes near total coverage in upper basin\n",
    "ag_wells_buffer = wells_grid_ag.loc[:,['well_age_days','geometry']]\n",
    "ag_wells_buffer.geometry = ag_wells_buffer.geometry.buffer(1500)\n",
    "pasture_ag_land = gpd.sjoin(grid_p, ag_wells_buffer, op='within')"
   ]
  },
  {
   "cell_type": "code",
   "execution_count": 9,
   "id": "f9577a5f",
   "metadata": {},
   "outputs": [
    {
     "name": "stdout",
     "output_type": "stream",
     "text": [
      "Mean ag well_depth  107.05973\n"
     ]
    }
   ],
   "source": [
    "# wells_grid_ag is the same thing, but already dissolved by node\n",
    "ag_well = wells_grid.loc[wells_grid.Simple_type == 'irrigation']\n",
    "mean_ag_well_depth = ag_well.TotalCompletedDepth.mean()*0.3048\n",
    "print('Mean ag well_depth ',mean_ag_well_depth)"
   ]
  },
  {
   "cell_type": "code",
   "execution_count": 10,
   "id": "da696b5f",
   "metadata": {},
   "outputs": [],
   "source": [
    "ncell = nrow*ncol\n",
    "\n",
    "df = ag_well.depth_m\n",
    "# Get the xy cell centers for the model grid\n",
    "# xy = np.append(m.modelgrid.xcellcenters,m.modelgrid.ycellcenters, axis = 0)\n",
    "# reshape the xy data\n",
    "# out_xy = np.transpose(np.vstack([np.reshape(xy[0:nrow], ncell),np.reshape(xy[nrow:],ncell)]))\n",
    "\n",
    "out_xy = np.transpose(np.vstack([grid_p.geometry.centroid.x.values, grid_p.geometry.centroid.y.values]))\n",
    "\n",
    "\n",
    "from scipy.interpolate import griddata\n",
    "in_xy = np.transpose(np.vstack([ag_well.geometry.x.values, ag_well.geometry.y.values]))\n",
    "# Final reshaped array of interpolated ET\n",
    "ag_well_depth_arr = np.zeros((nrow, ncol))\n",
    "\n",
    "# scipy interpolation based on point locations\n",
    "notna_data = df.notna().values\n",
    "grid = griddata(in_xy[notna_data], df.loc[notna_data].values, xi = out_xy, method = 'nearest')\n",
    "\n",
    "ag_well_depth_arr[:,:] = np.reshape(grid, (nrow,ncol))\n",
    "\n",
    "# plt.imshow(ag_well_depth_arr)\n",
    "# plt.colorbar()"
   ]
  },
  {
   "cell_type": "code",
   "execution_count": 30,
   "id": "48a8ef5a",
   "metadata": {},
   "outputs": [],
   "source": [
    "np.savetxt('ag_well_depth_arr.tsv',ag_well_depth_arr, delimiter='\\t')"
   ]
  }
 ],
 "metadata": {
  "kernelspec": {
   "display_name": "Python 3 (ipykernel)",
   "language": "python",
   "name": "python3"
  },
  "language_info": {
   "codemirror_mode": {
    "name": "ipython",
    "version": 3
   },
   "file_extension": ".py",
   "mimetype": "text/x-python",
   "name": "python",
   "nbconvert_exporter": "python",
   "pygments_lexer": "ipython3",
   "version": "3.11.0"
  }
 },
 "nbformat": 4,
 "nbformat_minor": 5
}
