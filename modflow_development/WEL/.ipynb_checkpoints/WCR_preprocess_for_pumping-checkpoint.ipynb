{
 "cells": [
  {
   "cell_type": "markdown",
   "id": "46be70d5",
   "metadata": {},
   "source": [
    "Goal: Preprocess the WCR information further based on well age, depth and location to prepare a general dataset useful for the Cosumnes modeling work. This was originally in the main model code, but was set aside to reduce clutter."
   ]
  },
  {
   "cell_type": "code",
   "execution_count": null,
   "id": "9d87d09d",
   "metadata": {},
   "outputs": [],
   "source": [
    "import os\n",
    "from os.path import basename, dirname, exists, join\n",
    "import glob\n",
    "\n",
    "import numpy as np\n",
    "import pandas as pd\n",
    "import geopandas as gpd\n",
    "\n",
    "import matplotlib.pyplot as plt"
   ]
  },
  {
   "cell_type": "code",
   "execution_count": null,
   "id": "6e06ef9a",
   "metadata": {},
   "outputs": [],
   "source": [
    "doc_dir = os.getcwd()\n",
    "while basename(doc_dir) != 'Documents':\n",
    "    doc_dir = dirname(doc_dir)\n",
    "# dir of all gwfm data\n",
    "gwfm_dir = dirname(doc_dir)+'/Box/research_cosumnes/GWFlowModel'\n",
    "gwfm_dir\n",
    "wel_dir = join(gwfm_dir, 'WEL_Data')\n",
    "uzf_dir = join(gwfm_dir, 'UZF_data')\n"
   ]
  },
  {
   "cell_type": "code",
   "execution_count": null,
   "id": "d5d12dce",
   "metadata": {},
   "outputs": [],
   "source": [
    "# model can't run before 2010 due to input limitations for crop coefficients so this will be considered the oldest date\n",
    "# for wells (going 60 years back from 2010 will allow a 70 year age)\n",
    "strt_date = pd.to_datetime('2010-10-01')\n"
   ]
  },
  {
   "cell_type": "code",
   "execution_count": null,
   "id": "7d70a7a0",
   "metadata": {},
   "outputs": [],
   "source": [
    "# Load model grid as geopandas object\n",
    "grid_p = gpd.read_file(gwfm_dir+'/DIS_data/grid/grid.shp')"
   ]
  },
  {
   "cell_type": "code",
   "execution_count": null,
   "id": "a77617dd",
   "metadata": {},
   "outputs": [],
   "source": [
    "m_domain = gpd.GeoDataFrame(pd.DataFrame([0], columns=['id']),geometry = [grid_p.unary_union], crs=grid_p.crs)\n"
   ]
  },
  {
   "cell_type": "code",
   "execution_count": null,
   "id": "f6abef13",
   "metadata": {},
   "outputs": [],
   "source": [
    "nrow = grid_p.row.max()\n",
    "ncol = grid_p.column.max()"
   ]
  },
  {
   "cell_type": "code",
   "execution_count": null,
   "id": "5c43d4ac",
   "metadata": {},
   "outputs": [],
   "source": [
    "wells = pd.read_csv(wel_dir+'/all_wells_type.csv')\n",
    "wells_grid = gpd.GeoDataFrame(wells, geometry = gpd.points_from_xy(wells.easting,wells.northing), crs = 'epsg:32610')\n",
    "# remove wells that didn't exist before model start date, could improve later to start pumping mid-model\n",
    "wells_grid.DateWorkEnded = pd.to_datetime(wells_grid.DateWorkEnded, errors='coerce' )\n",
    "wells_grid['well_age_days'] = (strt_date - wells_grid.DateWorkEnded).dt.days\n",
    "\n",
    "wells_grid.row = wells_grid.row.astype(int)\n",
    "wells_grid.column = wells_grid.column.astype(int)"
   ]
  },
  {
   "cell_type": "code",
   "execution_count": null,
   "id": "aa893709",
   "metadata": {},
   "outputs": [],
   "source": [
    "wells_grid['depth_m'] = wells_grid.TotalCompletedDepth*0.3048\n",
    "wells_grid['flux'] = 0\n",
    "wells_grid['layer'] = 0"
   ]
  },
  {
   "cell_type": "code",
   "execution_count": null,
   "id": "7cad6013",
   "metadata": {},
   "outputs": [],
   "source": [
    "wells_grid.drop(columns=['geometry']).to_csv(wel_dir+'/wells_grid.csv', index=False)"
   ]
  },
  {
   "cell_type": "code",
   "execution_count": null,
   "id": "453c416e",
   "metadata": {},
   "outputs": [],
   "source": [
    "# wells_grid = pd.read_csv(gwfm_dir+'/WEL_data/wells_grid.csv')\n",
    "# wells_grid = gpd.GeoDataFrame(wells_grid, geometry = gpd.points_from_xy(wells_grid.easting, wells_grid.northing),\n",
    "#                               crs='epsg:32610')"
   ]
  },
  {
   "cell_type": "code",
   "execution_count": null,
   "id": "202c1399",
   "metadata": {},
   "outputs": [],
   "source": [
    "ag_lu = gpd.read_file(join(uzf_dir,'county_landuse', 'domain_ag_lu_2018.shp'))\n",
    "\n",
    "native = gpd.read_file(join(uzf_dir, 'county_landuse','domain_native_lu_2018.shp'))\n",
    "# add spots with irrigatoin\n",
    "native = native.loc[~native.irr_name.isna()]\n",
    "\n",
    "ag_lu = pd.concat((ag_lu, native))"
   ]
  },
  {
   "cell_type": "code",
   "execution_count": null,
   "id": "25aa8f8e",
   "metadata": {},
   "outputs": [],
   "source": [
    "def well_class(wells_grid, use, age_yrs):\n",
    "    \"\"\"Screen wells by use and age in years\"\"\"\n",
    "    wells_use = wells_grid.copy()\n",
    "    wells_use = wells_use.loc[:, wells_use.dtypes!=object]\n",
    "    wells_use = wells_use.loc[wells_grid.Simple_type == use].dissolve('node', aggfunc = 'mean')\n",
    "    wells_use.geometry = wells_grid.loc[wells_grid.Simple_type == use].dissolve('node', aggfunc = 'first').geometry\n",
    "    wells_use.geometry = wells_use.geometry.centroid # simplify to one point if multipoint\n",
    "    # remove wells older than 60 years for ag, think of Teichert wells from 60s (domestic wells age out earlier)\n",
    "    print('Wells total', wells_use.well_age_days.notna().sum())\n",
    "    print('Well within age limit', (wells_use.well_age_days < age_yrs*365).sum())\n",
    "    wells_use = wells_use[wells_use.well_age_days < age_yrs*365]\n",
    "    return(wells_use)\n",
    "wells_grid_ag = well_class(wells_grid, 'irrigation', 60)\n",
    "# wells_ag_all = well_class(wells_grid, 'irrigation', 100)"
   ]
  },
  {
   "cell_type": "markdown",
   "id": "93a517e8",
   "metadata": {},
   "source": [
    "# Create spatial map of expected well depth by type"
   ]
  },
  {
   "cell_type": "code",
   "execution_count": null,
   "id": "da696b5f",
   "metadata": {},
   "outputs": [],
   "source": [
    "def interp_depth(wells):\n",
    "    # wells_grid_ag is the same thing, but already dissolved by node\n",
    "#     wells = wells_grid.loc[wells_grid.Simple_type == use]\n",
    "    mean_well_depth = wells.TotalCompletedDepth.mean()*0.3048\n",
    "    print('Mean well_depth ',mean_well_depth)\n",
    "    ncell = nrow*ncol\n",
    "\n",
    "    df = wells.depth_m\n",
    "    # Get the xy cell centers for the model grid\n",
    "    # xy = np.append(m.modelgrid.xcellcenters,m.modelgrid.ycellcenters, axis = 0)\n",
    "    # reshape the xy data\n",
    "    # out_xy = np.transpose(np.vstack([np.reshape(xy[0:nrow], ncell),np.reshape(xy[nrow:],ncell)]))\n",
    "    out_xy = np.transpose(np.vstack([grid_p.geometry.centroid.x.values, grid_p.geometry.centroid.y.values]))\n",
    "\n",
    "    from scipy.interpolate import griddata\n",
    "    in_xy = np.transpose(np.vstack([wells.geometry.x.values, wells.geometry.y.values]))\n",
    "    # Final reshaped array of interpolated ET\n",
    "    well_depth_arr = np.zeros((nrow, ncol))\n",
    "\n",
    "    # scipy interpolation based on point locations\n",
    "    notna_data = df.notna().values\n",
    "    grid = griddata(in_xy[notna_data], df.loc[notna_data].values, xi = out_xy, method = 'nearest')\n",
    "\n",
    "    well_depth_arr[:,:] = np.reshape(grid, (nrow,ncol))\n",
    "\n",
    "    plt.imshow(well_depth_arr)\n",
    "    plt.colorbar(shrink=0.6)\n",
    "    return(well_depth_arr)"
   ]
  },
  {
   "cell_type": "markdown",
   "id": "7d3d3908",
   "metadata": {},
   "source": [
    "From 60 to 30 years the mean depth goes from 112 to 128 m and half the wells are excluded or so. There are areas with shifts of 100-200 m deeper which may be where wells were previously going dry.  \n"
   ]
  },
  {
   "cell_type": "code",
   "execution_count": null,
   "id": "6f917db3",
   "metadata": {},
   "outputs": [],
   "source": [
    "# wells_grid_ag = well_class(wells_grid, 'irrigation', 30)\n",
    "# ag_well_depth_arr_30 = interp_depth(wells_grid_ag)\n",
    "# plt.show()\n",
    "# wells_grid_ag = well_class(wells_grid, 'irrigation', 60)\n",
    "# ag_well_depth_arr = interp_depth(wells_grid_ag)\n",
    "# plt.show()\n",
    "# plt.imshow(ag_well_depth_arr_30-ag_well_depth_arr)\n",
    "# plt.colorbar()"
   ]
  },
  {
   "cell_type": "code",
   "execution_count": null,
   "id": "c8afe49d",
   "metadata": {},
   "outputs": [],
   "source": [
    "# better to use recent wells for classifying depth as not all well deepenings are recorded\n",
    "# there are quite a bit deeper wells between 40 and 60 years ago\n",
    "wells_grid_ag = well_class(wells_grid, 'irrigation', 30)\n",
    "# wells_grid_ag = well_class(wells_grid, 'irrigation', 60)\n",
    "\n",
    "ag_well_depth_arr = interp_depth(wells_grid_ag)\n",
    "np.savetxt(wel_dir+'/ag_well_depth_arr.tsv',ag_well_depth_arr, delimiter='\\t')"
   ]
  },
  {
   "cell_type": "code",
   "execution_count": null,
   "id": "88419c5b",
   "metadata": {},
   "outputs": [],
   "source": [
    "# for considering well depth we should look at recent wells since they are more representative of depths\n",
    "wells_dom = well_class(wells_grid, 'domestic', 40)\n",
    "domestic_well_depth_arr = interp_depth(wells_dom)\n",
    "np.savetxt(wel_dir+'/domestic_well_depth_arr.tsv', domestic_well_depth_arr, delimiter='\\t')"
   ]
  },
  {
   "cell_type": "markdown",
   "id": "b1877e3b",
   "metadata": {},
   "source": [
    "# Ag field locations"
   ]
  },
  {
   "cell_type": "code",
   "execution_count": null,
   "id": "937547e2",
   "metadata": {},
   "outputs": [],
   "source": [
    "# grab all irrigation wells to use for identifying the nearest wells\n",
    "wells_irr = wells_grid[wells_grid.Simple_type=='irrigation']"
   ]
  },
  {
   "cell_type": "code",
   "execution_count": null,
   "id": "456f4ebe",
   "metadata": {},
   "outputs": [],
   "source": [
    "# assume fields are approximately square and take root to find median length\n",
    "# given this length there will likely be pipes at least this length\n",
    "ag_lu.geometry.area.apply(np.sqrt).quantile([0.25, 0.5, 0.75])/0.3048\n",
    "# lets use a max length of 1000 ft"
   ]
  },
  {
   "cell_type": "code",
   "execution_count": null,
   "id": "a78e119b",
   "metadata": {},
   "outputs": [],
   "source": [
    "# ag_lu_buf = ag_lu.copy()\n",
    "# 1000 ft of subsurface pipe is reasonable\n",
    "# ag_lu_buf.geometry= ag_lu_buf.geometry.buffer(1000*0.3048) # include 200 ft buffer around fields for wells\n",
    "# lu_wells = gpd.sjoin(ag_lu_buf, wells_irr, predicate='intersects', how='left')\n",
    "# 2600 fields, only 425 connect to a well with 200 ft buffer, \n",
    "# captures 1400 with 1000 ft buffer\n",
    "# lu_wells_filled = lu_wells.dropna(subset='WCRNumber')\n"
   ]
  },
  {
   "cell_type": "code",
   "execution_count": null,
   "id": "e581c3ff",
   "metadata": {},
   "outputs": [],
   "source": [
    "ag_lu_cln = ag_lu.drop_duplicates(['geom_id','name','irr_name'])"
   ]
  },
  {
   "cell_type": "code",
   "execution_count": null,
   "id": "17c92537",
   "metadata": {},
   "outputs": [],
   "source": [
    "grid_p.row.min()"
   ]
  },
  {
   "cell_type": "code",
   "execution_count": null,
   "id": "dd9a979d",
   "metadata": {},
   "outputs": [],
   "source": [
    "## identify the well location and depth for each ag field\n",
    "# find nearest well within 1000 ft limit\n",
    "lu_well_nearest = gpd.sjoin_nearest(ag_lu_cln, wells_irr, max_distance = 1000*0.3048, distance_col = 'dist_m')\n",
    "# create geometry based on the well location\n",
    "lu_well_nearest.geometry = gpd.points_from_xy(lu_well_nearest.easting, lu_well_nearest.northing)\n",
    "# prepare wells that are not near a well record\n",
    "lu_no_well = ag_lu_cln[~ag_lu_cln.index.isin(lu_well_nearest.index)].copy()\n",
    "# for wells without sufficient information, identify an exterior point to apply the pumping to\n",
    "# lu_no_well.geometry = lu_no_well.geometry.exterior.representative_point()\n",
    "# centroid avoids issues with well location changing between outputs\n",
    "lu_no_well.geometry = lu_no_well.geometry.centroid\n",
    "# identify the grid cell it is within, nearest for cells that might be on the edge\n",
    "lu_no_well = gpd.sjoin_nearest(lu_no_well, grid_p,  how='left', max_distance = 20, distance_col = 'dist_m')\n",
    "\n",
    "# duplicates are introduced in this section"
   ]
  },
  {
   "cell_type": "code",
   "execution_count": null,
   "id": "fa168b90",
   "metadata": {},
   "outputs": [],
   "source": [
    "# fill in information for wells with location based on the centroid\n",
    "lu_no_well['depth_m'] = ag_well_depth_arr[lu_no_well.row-1, lu_no_well.column-1]\n",
    "lu_no_well['Simple_type'] = 'irrigation'\n",
    "lu_no_well['easting'] = lu_no_well.geometry.x\n",
    "lu_no_well['northing'] = lu_no_well.geometry.y"
   ]
  },
  {
   "cell_type": "code",
   "execution_count": null,
   "id": "df4d1892",
   "metadata": {},
   "outputs": [],
   "source": [
    "lu_wells_out = pd.concat((lu_well_nearest, lu_no_well))\n",
    "# drop duplicates keeping well with nearer distance\n",
    "lu_wells_out = lu_wells_out.sort_values(['geom_id','name','irr_name','dist_m']).drop_duplicates(['geom_id','name','irr_name'])\n",
    "lu_wells_out = lu_wells_out.drop(columns=['DateWorkEnded'])\n",
    "lu_wells_out.to_file(join(wel_dir, 'ag_fields_to_wells', 'ag_fields_to_wells.shp'))"
   ]
  },
  {
   "cell_type": "code",
   "execution_count": null,
   "id": "1c22a81b-0e60-4291-9da8-f5f74c3932e8",
   "metadata": {},
   "outputs": [],
   "source": [
    "fig,ax = plt.subplots()\n",
    "ag_lu_cln.plot(ax=ax)\n",
    "lu_wells_out.plot(ax=ax, markersize=0.5,color='red', marker='x')\n"
   ]
  },
  {
   "cell_type": "markdown",
   "id": "5de357d5",
   "metadata": {},
   "source": [
    "## Test specifying AW to cells"
   ]
  },
  {
   "cell_type": "code",
   "execution_count": null,
   "id": "7f2f1a99",
   "metadata": {},
   "outputs": [],
   "source": [
    "lu_wells = gpd.read_file(join(wel_dir, 'ag_fields_to_wells', 'ag_fields_to_wells.shp'))\n",
    "fields = pd.read_csv(join(uzf_dir, 'clean_soil_data', 'fields_output_reference.csv'))"
   ]
  },
  {
   "cell_type": "code",
   "execution_count": null,
   "id": "926d939c",
   "metadata": {},
   "outputs": [],
   "source": [
    "import h5py\n",
    "def load_swb_data(strt_date, end_date, param):\n",
    "    \"\"\"Returns data in an array format with the first dimension for time\n",
    "    and then either a 1D or 2D array representing fields or model grid cells\"\"\"\n",
    "    nper_tr = (end_date-strt_date).days+1\n",
    "#     nrow_p,ncol_p = (100,230)\n",
    "#     param_arr = np.zeros((nper_tr, nrow_p,ncol_p))\n",
    "    # years and array index, include extra year in index to fully index years\n",
    "    years = pd.date_range(strt_date,end_date+pd.DateOffset(years=1),freq='AS-Oct')\n",
    "    yr_ind = (years-strt_date).days\n",
    "    years= years[:-1]\n",
    "    # need separte hdf5 for each year because total is 300MB\n",
    "    for n in np.arange(0,len(yr_ind)-1):\n",
    "        fn = join(uzf_dir, 'basic_soil_budget',param+\"_WY\"+str(years[n].year+1)+\".hdf5\")\n",
    "        with h5py.File(fn, \"r\") as f:\n",
    "            # load first dataset then allocate array\n",
    "            if n == 0:\n",
    "                dim  = list(f['array']['WY'].shape)\n",
    "                dim[0] = nper_tr\n",
    "                param_arr = np.zeros(dim)\n",
    "            arr = f['array']['WY'][:]\n",
    "            param_arr[yr_ind[n]:yr_ind[n+1]] = arr\n",
    "    return(param_arr)"
   ]
  },
  {
   "cell_type": "code",
   "execution_count": null,
   "id": "4854c1bb",
   "metadata": {},
   "outputs": [],
   "source": [
    "m_strt= pd.to_datetime('2014-10-1')\n",
    "m_end = pd.to_datetime('2018-9-30')\n",
    "dates = pd.date_range(m_strt, m_end)\n"
   ]
  },
  {
   "cell_type": "code",
   "execution_count": null,
   "id": "e1aa739e",
   "metadata": {},
   "outputs": [],
   "source": [
    "\n",
    "# load applied water from soil water budget\n",
    "# it is the ETc scaled by irrigation efficiencies\n",
    "AW = load_swb_data(m_strt,m_end, 'field_applied_water')\n",
    "# AW_ss = load_swb_data(ss_strt, strt_date, 'applied_water')\n"
   ]
  },
  {
   "cell_type": "code",
   "execution_count": null,
   "id": "b53b5d1c",
   "metadata": {},
   "outputs": [],
   "source": [
    "# extract applied water estimates where we have a known irrigaton type\n",
    "AW_irr = AW[:, fields.irr_name != 'no irrig']\n",
    "fields_irr = fields[fields.irr_name != 'no irrig']"
   ]
  },
  {
   "cell_type": "code",
   "execution_count": null,
   "id": "9d587ea1",
   "metadata": {},
   "outputs": [],
   "source": [
    "# pd.DataFrame(AW_irr)"
   ]
  },
  {
   "cell_type": "code",
   "execution_count": null,
   "id": "7a8e9efc",
   "metadata": {},
   "outputs": [],
   "source": [
    "# identify the well to the field area\n",
    "fields_well = pd.merge(fields_irr[['geom_id','name','irr_name','field_area_m2']],\n",
    "         lu_wells[['geom_id','name','irr_name','row','column', 'depth_m', 'dist_m']], \n",
    "          how='left')\n",
    "\n",
    "fields_spd = fields_well[['depth_m','row','column','field_area_m2']].copy()"
   ]
  },
  {
   "cell_type": "code",
   "execution_count": null,
   "id": "ed6148a0",
   "metadata": {},
   "outputs": [],
   "source": [
    "# the irrigated sum is the same as the total which is correct\n",
    "AW_irr.sum(), AW.sum()"
   ]
  },
  {
   "cell_type": "code",
   "execution_count": null,
   "id": "cf28b118",
   "metadata": {},
   "outputs": [],
   "source": [
    "ex_dict = {}\n",
    "for n,d in enumerate(dates):\n",
    "    AW_spd = AW_irr[n]\n",
    "    fields_spd['flux'] = -AW_spd*fields_spd.field_area_m2\n",
    "    ex_dict[n+1] = fields_spd[['depth_m','row','column','flux']].values"
   ]
  },
  {
   "cell_type": "code",
   "execution_count": null,
   "id": "207c12a0",
   "metadata": {},
   "outputs": [],
   "source": []
  }
 ],
 "metadata": {
  "kernelspec": {
   "display_name": "Python 3 (ipykernel)",
   "language": "python",
   "name": "python3"
  },
  "language_info": {
   "codemirror_mode": {
    "name": "ipython",
    "version": 3
   },
   "file_extension": ".py",
   "mimetype": "text/x-python",
   "name": "python",
   "nbconvert_exporter": "python",
   "pygments_lexer": "ipython3",
   "version": "3.10.9"
  }
 },
 "nbformat": 4,
 "nbformat_minor": 5
}
