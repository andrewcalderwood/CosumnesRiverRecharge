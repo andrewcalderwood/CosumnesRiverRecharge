{
 "cells": [
  {
   "cell_type": "markdown",
   "id": "46be70d5",
   "metadata": {},
   "source": [
    "Goal: Preprocess the WCR information further based on well age, depth and location to prepare a general dataset useful for the Cosumnes modeling work. This was originally in the main model code, but was set aside to reduce clutter."
   ]
  },
  {
   "cell_type": "code",
   "execution_count": 1,
   "id": "9d87d09d",
   "metadata": {},
   "outputs": [],
   "source": [
    "import os\n",
    "from os.path import basename, dirname, exists, join\n",
    "import glob\n",
    "\n",
    "import numpy as np\n",
    "import pandas as pd\n",
    "import geopandas as gpd\n",
    "\n",
    "import matplotlib.pyplot as plt"
   ]
  },
  {
   "cell_type": "code",
   "execution_count": 2,
   "id": "6e06ef9a",
   "metadata": {},
   "outputs": [],
   "source": [
    "doc_dir = os.getcwd()\n",
    "while basename(doc_dir) != 'Documents':\n",
    "    doc_dir = dirname(doc_dir)\n",
    "# dir of all gwfm data\n",
    "gwfm_dir = dirname(doc_dir)+'/Box/research_cosumnes/GWFlowModel'\n",
    "gwfm_dir\n",
    "wel_dir = join(gwfm_dir, 'WEL_Data')"
   ]
  },
  {
   "cell_type": "code",
   "execution_count": 3,
   "id": "7d70a7a0",
   "metadata": {},
   "outputs": [],
   "source": [
    "# Load model grid as geopandas object\n",
    "grid_p = gpd.read_file(gwfm_dir+'/DIS_data/grid/grid.shp')"
   ]
  },
  {
   "cell_type": "code",
   "execution_count": 4,
   "id": "a77617dd",
   "metadata": {},
   "outputs": [],
   "source": [
    "m_domain = gpd.GeoDataFrame(pd.DataFrame([0], columns=['id']),geometry = [grid_p.unary_union], crs=grid_p.crs)\n"
   ]
  },
  {
   "cell_type": "code",
   "execution_count": 5,
   "id": "f6abef13",
   "metadata": {},
   "outputs": [],
   "source": [
    "nrow = grid_p.row.max()\n",
    "ncol = grid_p.column.max()"
   ]
  },
  {
   "cell_type": "code",
   "execution_count": 6,
   "id": "7cad6013",
   "metadata": {},
   "outputs": [],
   "source": [
    "wells_grid = pd.read_csv(wel_dir+'/wells_grid.csv')\n",
    "wells_grid = gpd.GeoDataFrame(wells_grid, \n",
    "                              geometry= gpd.points_from_xy(wells_grid.easting, wells_grid.northing), crs = m_domain.crs)\n",
    "domestic_pts = wells_grid[wells_grid.Simple_type=='domestic']"
   ]
  },
  {
   "cell_type": "code",
   "execution_count": 7,
   "id": "88419c5b",
   "metadata": {},
   "outputs": [],
   "source": [
    "domestic_well_depth_arr = np.loadtxt(wel_dir+'/domestic_well_depth_arr.tsv', delimiter='\\t')"
   ]
  },
  {
   "cell_type": "markdown",
   "id": "2b069704",
   "metadata": {},
   "source": [
    "# Identify the total extent of domestic pumping\n",
    "Review of residential land use against domestic pumping well point locations found that the points underestimate the total number of ag-residential parcels. This will result in an underestimate of pumping which is most prominent south of the Cosumnes River where it leads to largely oversimulated groundwater elevations. Parcel data is neded to subdivide the land use classification polygons. "
   ]
  },
  {
   "cell_type": "code",
   "execution_count": 8,
   "id": "4cd58534",
   "metadata": {},
   "outputs": [],
   "source": [
    "uzf_dir = join(gwfm_dir,'UZF_Data')"
   ]
  },
  {
   "cell_type": "markdown",
   "id": "5dad5002",
   "metadata": {},
   "source": [
    "Prepare parcel data for model domain."
   ]
  },
  {
   "cell_type": "code",
   "execution_count": 9,
   "id": "d7296fc1",
   "metadata": {},
   "outputs": [],
   "source": [
    "f_out = join(uzf_dir, 'Parcels','domain_parcels.shp')\n",
    "if exists(f_out):\n",
    "    parcels = gpd.read_file(f_out)\n",
    "else:\n",
    "    # very slow to run because of large file size\n",
    "    fp = glob.glob(join(uzf_dir,'Parcels', 'Parcels - *'))\n",
    "    parcels_all = gpd.GeoDataFrame()\n",
    "    for f in fp:\n",
    "        parcels_add = gpd.read_file(join(f, 'Parcels.shp'))\n",
    "        parcels_all = pd.concat((parcels_all, parcels_add.to_crs(parcels.crs)))\n",
    "    # crop to domain and save file\n",
    "    parcels = gpd.overlay(parcels_all, m_domain.to_crs(parcels.crs)).to_crs(m_domain.crs)\n",
    "    parcels.to_file(join(uzf_dir, 'Parcels','domain_parcels.shp'))"
   ]
  },
  {
   "cell_type": "code",
   "execution_count": 10,
   "id": "015cd8cb",
   "metadata": {},
   "outputs": [],
   "source": [
    "# land use from county data (Sac:2015, SJ:2018)\n",
    "lu = gpd.read_file(join(uzf_dir, 'county_landuse','domain_urban_lu_2018.shp'))"
   ]
  },
  {
   "cell_type": "code",
   "execution_count": 11,
   "id": "d1963b47",
   "metadata": {},
   "outputs": [],
   "source": [
    "# break up the landuse data into individual parcels\n",
    "lu_parcels = gpd.overlay(lu, parcels)"
   ]
  },
  {
   "cell_type": "code",
   "execution_count": 12,
   "id": "40c16155",
   "metadata": {},
   "outputs": [
    {
     "data": {
      "text/plain": [
       "(0.897347143687576, 0.9344712783385298)"
      ]
     },
     "execution_count": 12,
     "metadata": {},
     "output_type": "execute_result"
    }
   ],
   "source": [
    "# with parcels LU_GENERAL 90% are covered by Residential when cropped to county landuse\n",
    "perc_res1 = lu_parcels[lu_parcels.LU_GENERAL.isin(['Residential'])].shape[0]/lu_parcels.shape[0]\n",
    "# 93.4% coverage using general residential str in LU name\n",
    "perc_res2 = lu_parcels[lu_parcels.name.str.contains('residential')].shape[0]/lu_parcels.shape[0]\n",
    "perc_res1, perc_res2"
   ]
  },
  {
   "cell_type": "code",
   "execution_count": 13,
   "id": "b4815aa3",
   "metadata": {},
   "outputs": [],
   "source": [
    "# filter to those only classified as residential, not urban which would be covered by municipal\n",
    "lu_res = lu_parcels[lu_parcels.name.str.contains('residential')]"
   ]
  },
  {
   "cell_type": "code",
   "execution_count": 14,
   "id": "e1d5eb2b",
   "metadata": {},
   "outputs": [],
   "source": [
    "lu_res.LU_SPECIF.unique(), lu_res.LU_DETAIL.unique()\n",
    "# Rural tag under LU_DETAIL\n",
    "lu_rural = lu_parcels[lu_parcels.LU_DETAIL.str.contains('Rural', na=False)]"
   ]
  },
  {
   "cell_type": "markdown",
   "id": "fb2f8d37",
   "metadata": {},
   "source": [
    "The number of parcels is much greater than the number of domestic wells because parcels in the Elk Grove/Galt are connected to municipal water systems and are accounted for in the municipal well pumping. Alternatively, I could remove the pumping based on domestic wells and municipal wells as is and instead estimate all residential pumping based on parcel size and use. \n",
    "\n",
    "- The column LU_DETAIL from the parcel database is useful to identify rural residential parcels (those dependent on domestic wells). Water use at these locations should be about 2 AF/year because of high outdoor water use and the daily pumping should be scaled by the percent the daily ET is of the year after a minimum of 150 gpd for household use.  \n",
    "    - The LU_DETAIL 'Rural' caegories all showed only classificiations as LU_GENERAL:'Residential', LU_SPECIF:'Single-Family'  \n",
    "- This leaves the choice to update municipal pumping based on parcels or continue guessing the number of connections, realistically it should be updated to water use at each parcel since we don't know the number of connections or pumping data. For municipal locations water use should be kept at a constant 150 gpd for household use."
   ]
  },
  {
   "cell_type": "code",
   "execution_count": 15,
   "id": "c4751f7d",
   "metadata": {},
   "outputs": [
    {
     "data": {
      "text/plain": [
       "<Axes: >"
      ]
     },
     "execution_count": 15,
     "metadata": {},
     "output_type": "execute_result"
    },
    {
     "data": {
      "image/png": "[encoded data removed]",
      "text/plain": [
       "<Figure size 640x480 with 1 Axes>"
      ]
     },
     "metadata": {},
     "output_type": "display_data"
    }
   ],
   "source": [
    "fig,ax= plt.subplots()\n",
    "lu_res.plot(ax=ax)\n",
    "lu_rural.plot(ax=ax,color='green')\n",
    "domestic_pts.plot(ax=ax, markersize=0.3, color='red')"
   ]
  },
  {
   "cell_type": "code",
   "execution_count": 16,
   "id": "56eb6d93",
   "metadata": {},
   "outputs": [
    {
     "data": {
      "text/plain": [
       "2.7779495105615664"
      ]
     },
     "execution_count": 16,
     "metadata": {},
     "output_type": "execute_result"
    }
   ],
   "source": [
    "lu_rural.shape[0]/domestic_pts.shape[0]\n",
    "# using parcels nearly triples the number of ag-res which is what we expected"
   ]
  },
  {
   "cell_type": "code",
   "execution_count": 17,
   "id": "2225c0ac",
   "metadata": {},
   "outputs": [],
   "source": [
    "# each ag-residential parcel should sum on annual scale to 2AF, with a minimum daily value of 150 gpd\n",
    "# join to model grid by the centroid of the parcel\n",
    "lu_rural_out = lu_rural[['LU_SPECIF','LU_DETAIL','LOT_SIZE', 'geometry']]\n",
    "# spatial join with WCR points to keep information on well age and depth\n",
    "lu_rural_out = gpd.sjoin(lu_rural_out,\n",
    "                         domestic_pts[['WCRNumber','depth_m','geometry']], \n",
    "                         how='left').drop(columns=['index_right'])\n",
    "# join parcels to the model grid assuming the well is in the centroid of the parcel\n",
    "lu_rural_out.geometry = lu_rural_out.geometry.centroid\n",
    "rural_grid = gpd.sjoin(lu_rural_out, grid_p).drop(columns='index_right')\n"
   ]
  },
  {
   "cell_type": "code",
   "execution_count": 18,
   "id": "a9d50399",
   "metadata": {},
   "outputs": [],
   "source": [
    "# fill in depth of wells based on interpolated domestic well depths\n",
    "rural_grid['fill_depth_m'] = domestic_well_depth_arr[rural_grid.row-1, rural_grid.column-1]\n",
    "rural_grid.loc[~rural_grid.depth_m.isna(),'fill_depth_m'] = rural_grid.loc[~rural_grid.depth_m.isna(), 'fill_depth_m']"
   ]
  },
  {
   "cell_type": "code",
   "execution_count": 19,
   "id": "8449c73f",
   "metadata": {},
   "outputs": [],
   "source": [
    "rural_grid.drop(columns=['geometry']).to_csv(join(wel_dir, 'ag_res_parcel_domestic_wells.csv'))"
   ]
  },
  {
   "cell_type": "code",
   "execution_count": 20,
   "id": "2ee272b4",
   "metadata": {},
   "outputs": [],
   "source": [
    "import h5py\n",
    "nrow_p, ncol_p = (100,230)\n",
    "def dwr_etc(strt_date, end_date):\n",
    "    nper_tr = (end_date-strt_date).days+1\n",
    "    natETc = np.zeros((nper_tr,nrow_p,ncol_p))\n",
    "    agETc = np.zeros((nper_tr,nrow_p,ncol_p))\n",
    "\n",
    "    per_n = 0 \n",
    "    for y in np.arange(strt_date.year, end_date.year+1):\n",
    "        # set start and end date for range for the year to be iterated over\n",
    "        yr_strt = pd.to_datetime(str(y)+'-01-01')\n",
    "        yr_end = pd.to_datetime(str(y)+'-12-31')\n",
    "        # get the length of the date range needed for that year\n",
    "        yearlen = len(pd.date_range(yr_strt, yr_end))\n",
    "        if yr_strt < strt_date:\n",
    "            yr_strt = strt_date\n",
    "        if yr_end > end_date:\n",
    "            yr_end = end_date\n",
    "        yr_len = len(pd.date_range(yr_strt, yr_end))\n",
    "        # load hdf5 files\n",
    "        f_irr = h5py.File(join(uzf_dir, \"dwr_ETc/irrigated_\"+str(y)+\".hdf5\"), \"r\")\n",
    "        agETc[per_n:per_n+yr_len,:,:] = f_irr['array'][str(y)][:][yr_strt.dayofyear-1:yr_end.dayofyear,:,:]\n",
    "        f_irr.close()\n",
    "        f_nat = h5py.File(join(uzf_dir, \"dwr_ETc/native_\"+str(y)+\".hdf5\"), \"r\")\n",
    "        natETc[per_n:per_n+yr_len,:,:] = f_nat['array'][str(y)][:][yr_strt.dayofyear-1:yr_end.dayofyear,:,:]\n",
    "        f_nat.close()\n",
    "        per_n += yr_len\n",
    "    # make sure the return value is separate from the loop\n",
    "    return(agETc, natETc)"
   ]
  },
  {
   "cell_type": "code",
   "execution_count": 21,
   "id": "6d002ee7",
   "metadata": {},
   "outputs": [],
   "source": [
    "strt_date = pd.to_datetime('1998-10-01')\n",
    "end_date = pd.to_datetime('2020-9-30')"
   ]
  },
  {
   "cell_type": "code",
   "execution_count": 22,
   "id": "15328cd0",
   "metadata": {},
   "outputs": [
    {
     "ename": "KeyboardInterrupt",
     "evalue": "",
     "output_type": "error",
     "traceback": [
      "\u001b[1;31m---------------------------------------------------------------------------\u001b[0m",
      "\u001b[1;31mKeyboardInterrupt\u001b[0m                         Traceback (most recent call last)",
      "Cell \u001b[1;32mIn[22], line 1\u001b[0m\n\u001b[1;32m----> 1\u001b[0m agETc, natETc \u001b[38;5;241m=\u001b[39m \u001b[43mdwr_etc\u001b[49m\u001b[43m(\u001b[49m\u001b[43mstrt_date\u001b[49m\u001b[43m,\u001b[49m\u001b[43m \u001b[49m\u001b[43mend_date\u001b[49m\u001b[43m)\u001b[49m\n\u001b[0;32m      2\u001b[0m \u001b[38;5;66;03m# net ETc should be ETc from ag and native plants joined\u001b[39;00m\n\u001b[0;32m      3\u001b[0m ETc \u001b[38;5;241m=\u001b[39m agETc \u001b[38;5;241m+\u001b[39m natETc\n",
      "Cell \u001b[1;32mIn[20], line 22\u001b[0m, in \u001b[0;36mdwr_etc\u001b[1;34m(strt_date, end_date)\u001b[0m\n\u001b[0;32m     20\u001b[0m \u001b[38;5;66;03m# load hdf5 files\u001b[39;00m\n\u001b[0;32m     21\u001b[0m f_irr \u001b[38;5;241m=\u001b[39m h5py\u001b[38;5;241m.\u001b[39mFile(join(uzf_dir, \u001b[38;5;124m\"\u001b[39m\u001b[38;5;124mdwr_ETc/irrigated_\u001b[39m\u001b[38;5;124m\"\u001b[39m\u001b[38;5;241m+\u001b[39m\u001b[38;5;28mstr\u001b[39m(y)\u001b[38;5;241m+\u001b[39m\u001b[38;5;124m\"\u001b[39m\u001b[38;5;124m.hdf5\u001b[39m\u001b[38;5;124m\"\u001b[39m), \u001b[38;5;124m\"\u001b[39m\u001b[38;5;124mr\u001b[39m\u001b[38;5;124m\"\u001b[39m)\n\u001b[1;32m---> 22\u001b[0m agETc[per_n:per_n\u001b[38;5;241m+\u001b[39myr_len,:,:] \u001b[38;5;241m=\u001b[39m \u001b[43mf_irr\u001b[49m\u001b[43m[\u001b[49m\u001b[38;5;124;43m'\u001b[39;49m\u001b[38;5;124;43marray\u001b[39;49m\u001b[38;5;124;43m'\u001b[39;49m\u001b[43m]\u001b[49m\u001b[43m[\u001b[49m\u001b[38;5;28;43mstr\u001b[39;49m\u001b[43m(\u001b[49m\u001b[43my\u001b[49m\u001b[43m)\u001b[49m\u001b[43m]\u001b[49m\u001b[43m[\u001b[49m\u001b[43m:\u001b[49m\u001b[43m]\u001b[49m[yr_strt\u001b[38;5;241m.\u001b[39mdayofyear\u001b[38;5;241m-\u001b[39m\u001b[38;5;241m1\u001b[39m:yr_end\u001b[38;5;241m.\u001b[39mdayofyear,:,:]\n\u001b[0;32m     23\u001b[0m f_irr\u001b[38;5;241m.\u001b[39mclose()\n\u001b[0;32m     24\u001b[0m f_nat \u001b[38;5;241m=\u001b[39m h5py\u001b[38;5;241m.\u001b[39mFile(join(uzf_dir, \u001b[38;5;124m\"\u001b[39m\u001b[38;5;124mdwr_ETc/native_\u001b[39m\u001b[38;5;124m\"\u001b[39m\u001b[38;5;241m+\u001b[39m\u001b[38;5;28mstr\u001b[39m(y)\u001b[38;5;241m+\u001b[39m\u001b[38;5;124m\"\u001b[39m\u001b[38;5;124m.hdf5\u001b[39m\u001b[38;5;124m\"\u001b[39m), \u001b[38;5;124m\"\u001b[39m\u001b[38;5;124mr\u001b[39m\u001b[38;5;124m\"\u001b[39m)\n",
      "File \u001b[1;32mh5py\\_objects.pyx:54\u001b[0m, in \u001b[0;36mh5py._objects.with_phil.wrapper\u001b[1;34m()\u001b[0m\n",
      "File \u001b[1;32mh5py\\_objects.pyx:55\u001b[0m, in \u001b[0;36mh5py._objects.with_phil.wrapper\u001b[1;34m()\u001b[0m\n",
      "File \u001b[1;32m~\\Anaconda3\\envs\\geo_env\\lib\\site-packages\\h5py\\_hl\\dataset.py:768\u001b[0m, in \u001b[0;36mDataset.__getitem__\u001b[1;34m(self, args, new_dtype)\u001b[0m\n\u001b[0;32m    766\u001b[0m \u001b[38;5;28;01mif\u001b[39;00m \u001b[38;5;28mself\u001b[39m\u001b[38;5;241m.\u001b[39m_fast_read_ok \u001b[38;5;129;01mand\u001b[39;00m (new_dtype \u001b[38;5;129;01mis\u001b[39;00m \u001b[38;5;28;01mNone\u001b[39;00m):\n\u001b[0;32m    767\u001b[0m     \u001b[38;5;28;01mtry\u001b[39;00m:\n\u001b[1;32m--> 768\u001b[0m         \u001b[38;5;28;01mreturn\u001b[39;00m \u001b[38;5;28;43mself\u001b[39;49m\u001b[38;5;241;43m.\u001b[39;49m\u001b[43m_fast_reader\u001b[49m\u001b[38;5;241;43m.\u001b[39;49m\u001b[43mread\u001b[49m\u001b[43m(\u001b[49m\u001b[43margs\u001b[49m\u001b[43m)\u001b[49m\n\u001b[0;32m    769\u001b[0m     \u001b[38;5;28;01mexcept\u001b[39;00m \u001b[38;5;167;01mTypeError\u001b[39;00m:\n\u001b[0;32m    770\u001b[0m         \u001b[38;5;28;01mpass\u001b[39;00m  \u001b[38;5;66;03m# Fall back to Python read pathway below\u001b[39;00m\n",
      "\u001b[1;31mKeyboardInterrupt\u001b[0m: "
     ]
    }
   ],
   "source": [
    "agETc, natETc = dwr_etc(strt_date, end_date)\n",
    "# net ETc should be ETc from ag and native plants joined\n",
    "ETc = agETc + natETc"
   ]
  },
  {
   "cell_type": "code",
   "execution_count": null,
   "id": "759db2af",
   "metadata": {},
   "outputs": [],
   "source": [
    "years = pd.date_range(strt_date, end_date+pd.DateOffset(days=1), freq='AS-Oct')\n",
    "year_ind = (years-strt_date).days"
   ]
  },
  {
   "cell_type": "code",
   "execution_count": null,
   "id": "cc42d798",
   "metadata": {},
   "outputs": [],
   "source": [
    "# take average daily ET across the domain to use for scaling the domestic use\n",
    "mean_ETc = agETc.mean(axis=(1,2))\n",
    "scaled_ETc = mean_ETc.copy()\n",
    "# group ET on an annual scale to determine the contribution each day makes to the year\n",
    "for n in np.arange(0, len(years)-1):\n",
    "    yr_scaled = mean_ETc[year_ind[n]:year_ind[n+1]]/mean_ETc[year_ind[n]:year_ind[n+1]].sum()\n",
    "    scaled_ETc[year_ind[n]:year_ind[n+1]] = yr_scaled"
   ]
  },
  {
   "cell_type": "code",
   "execution_count": null,
   "id": "3e141f66",
   "metadata": {},
   "outputs": [],
   "source": [
    "# the average minimum daily pumping in a single family household is 50 gpd for ~3 people (0.16 AF/yr)\n",
    "min_pump = 150*(1/7.48)*(0.3048**3)\n",
    "# typical max usage is 2AF/year for domestic\n",
    "annual_domestic_irr = 2*43560*(0.3048**3) - min_pump*365\n",
    "# the total annual pumping is downscaled to daily based on ET and minimum pumping is added back\n",
    "domestic_use = scaled_ETc*annual_domestic_irr+min_pump\n"
   ]
  },
  {
   "cell_type": "code",
   "execution_count": null,
   "id": "51e05f20",
   "metadata": {},
   "outputs": [],
   "source": [
    "plt.plot(domestic_use)"
   ]
  },
  {
   "cell_type": "code",
   "execution_count": 86,
   "id": "296ad303",
   "metadata": {},
   "outputs": [],
   "source": [
    "# save to output with dates as ID\n",
    "dom_use_out = pd.DataFrame(domestic_use, columns=['flux_m3d'])\n",
    "dom_use_out.index = pd.date_range(strt_date, end_date)\n",
    "dom_use_out.to_csv(join(wel_dir, 'domestic_water_use.csv'))"
   ]
  },
  {
   "cell_type": "code",
   "execution_count": 75,
   "id": "6f33fa7f",
   "metadata": {},
   "outputs": [],
   "source": [
    "# for n in np.arange(0, len(year_ind)-1):\n",
    "#     print(domestic_use[year_ind[n]:year_ind[n+1]].sum()*(1/0.3048**3)/43560)"
   ]
  }
 ],
 "metadata": {
  "kernelspec": {
   "display_name": "Python 3 (ipykernel)",
   "language": "python",
   "name": "python3"
  },
  "language_info": {
   "codemirror_mode": {
    "name": "ipython",
    "version": 3
   },
   "file_extension": ".py",
   "mimetype": "text/x-python",
   "name": "python",
   "nbconvert_exporter": "python",
   "pygments_lexer": "ipython3",
   "version": "3.10.9"
  }
 },
 "nbformat": 4,
 "nbformat_minor": 5
}
