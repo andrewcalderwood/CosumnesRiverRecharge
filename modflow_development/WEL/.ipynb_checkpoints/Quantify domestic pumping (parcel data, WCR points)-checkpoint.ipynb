{
 "cells": [
  {
   "cell_type": "markdown",
   "id": "46be70d5",
   "metadata": {},
   "source": [
    "Goal: Preprocess the WCR information further based on well age, depth and location to prepare a general dataset useful for the Cosumnes modeling work. This was originally in the main model code, but was set aside to reduce clutter."
   ]
  },
  {
   "cell_type": "code",
   "execution_count": null,
   "id": "9d87d09d",
   "metadata": {},
   "outputs": [],
   "source": [
    "import os\n",
    "from os.path import basename, dirname, exists, join\n",
    "import glob\n",
    "\n",
    "import numpy as np\n",
    "import pandas as pd\n",
    "import geopandas as gpd\n",
    "\n",
    "import matplotlib.pyplot as plt"
   ]
  },
  {
   "cell_type": "code",
   "execution_count": null,
   "id": "6e06ef9a",
   "metadata": {},
   "outputs": [],
   "source": [
    "doc_dir = os.getcwd()\n",
    "while basename(doc_dir) != 'Documents':\n",
    "    doc_dir = dirname(doc_dir)\n",
    "# dir of all gwfm data\n",
    "gwfm_dir = dirname(doc_dir)+'/Box/research_cosumnes/GWFlowModel'\n",
    "gwfm_dir\n",
    "wel_dir = join(gwfm_dir, 'WEL_Data')"
   ]
  },
  {
   "cell_type": "code",
   "execution_count": null,
   "id": "7d70a7a0",
   "metadata": {},
   "outputs": [],
   "source": [
    "# Load model grid as geopandas object\n",
    "grid_p = gpd.read_file(gwfm_dir+'/DIS_data/grid/grid.shp')"
   ]
  },
  {
   "cell_type": "code",
   "execution_count": null,
   "id": "a77617dd",
   "metadata": {},
   "outputs": [],
   "source": [
    "m_domain = gpd.GeoDataFrame(pd.DataFrame([0], columns=['id']),geometry = [grid_p.unary_union], crs=grid_p.crs)\n"
   ]
  },
  {
   "cell_type": "code",
   "execution_count": null,
   "id": "f6abef13",
   "metadata": {},
   "outputs": [],
   "source": [
    "nrow = grid_p.row.max()\n",
    "ncol = grid_p.column.max()"
   ]
  },
  {
   "cell_type": "code",
   "execution_count": null,
   "id": "7cad6013",
   "metadata": {},
   "outputs": [],
   "source": [
    "wells_grid = pd.read_csv(wel_dir+'/wells_grid.csv')\n",
    "wells_grid = gpd.GeoDataFrame(wells_grid, \n",
    "                              geometry= gpd.points_from_xy(wells_grid.easting, wells_grid.northing), crs = m_domain.crs)\n",
    "domestic_pts = wells_grid[wells_grid.Simple_type=='domestic']"
   ]
  },
  {
   "cell_type": "code",
   "execution_count": null,
   "id": "88419c5b",
   "metadata": {},
   "outputs": [],
   "source": [
    "domestic_well_depth_arr = np.loadtxt(wel_dir+'/domestic_well_depth_arr.tsv', delimiter='\\t')"
   ]
  },
  {
   "cell_type": "markdown",
   "id": "2b069704",
   "metadata": {},
   "source": [
    "# Identify the total extent of domestic pumping\n",
    "Review of residential land use against domestic pumping well point locations found that the points underestimate the total number of ag-residential parcels. This will result in an underestimate of pumping which is most prominent south of the Cosumnes River where it leads to largely oversimulated groundwater elevations. Parcel data is neded to subdivide the land use classification polygons. "
   ]
  },
  {
   "cell_type": "code",
   "execution_count": null,
   "id": "4cd58534",
   "metadata": {},
   "outputs": [],
   "source": [
    "uzf_dir = join(gwfm_dir,'UZF_Data')"
   ]
  },
  {
   "cell_type": "markdown",
   "id": "5dad5002",
   "metadata": {},
   "source": [
    "Prepare parcel data for model domain."
   ]
  },
  {
   "cell_type": "code",
   "execution_count": null,
   "id": "d7296fc1",
   "metadata": {},
   "outputs": [],
   "source": [
    "f_out = join(uzf_dir, 'Parcels','domain_parcels.shp')\n",
    "if exists(f_out):\n",
    "    parcels = gpd.read_file(f_out)\n",
    "else:\n",
    "    # very slow to run because of large file size\n",
    "    fp = glob.glob(join(uzf_dir,'Parcels', 'Parcels - *'))\n",
    "    parcels_all = gpd.GeoDataFrame()\n",
    "    for f in fp:\n",
    "        parcels_add = gpd.read_file(join(f, 'Parcels.shp'))\n",
    "        parcels_all = pd.concat((parcels_all, parcels_add.to_crs(parcels.crs)))\n",
    "    # crop to domain and save file\n",
    "    parcels = gpd.overlay(parcels_all, m_domain.to_crs(parcels.crs)).to_crs(m_domain.crs)\n",
    "    parcels.to_file(join(uzf_dir, 'Parcels','domain_parcels.shp'))"
   ]
  },
  {
   "cell_type": "code",
   "execution_count": null,
   "id": "015cd8cb",
   "metadata": {},
   "outputs": [],
   "source": [
    "# land use from county data (Sac:2015, SJ:2018)\n",
    "lu = gpd.read_file(join(uzf_dir, 'county_landuse','domain_urban_lu_2018.shp'))"
   ]
  },
  {
   "cell_type": "markdown",
   "id": "ca79ba2a",
   "metadata": {},
   "source": [
    "Upon review of parcels and land use in QGIS, the rural parcels are not always totally covered by the urban land use class as the classification sometimes only covers the footprint of the home so the area of a parcel is underestimated.  \n",
    "Also regions like Rancho Murieta are not classified as urban when they are, and there is no public well identified in that area from WCRs so it would be better practice to assume they are drawing water from each parcel even though they are likely on one or two wells.\n",
    "\n",
    "**By not cropping rural parcels by land use classification the area of ag-residential doubles!**"
   ]
  },
  {
   "cell_type": "code",
   "execution_count": null,
   "id": "d1963b47",
   "metadata": {},
   "outputs": [],
   "source": [
    "# break up the landuse data into individual parcels\n",
    "# need to use a spatial join to keep the area of each parcel as the land use doesn't fully cover parcels sometimes\n",
    "lu_parcels = gpd.sjoin(parcels, lu)\n",
    "\n",
    "# calculate area of the parcel\n",
    "lu_parcels['area_m2'] = lu_parcels.geometry.area.copy()\n",
    "lu_parcels['area_acres'] = lu_parcels.area_m2*(1/0.3048**2)/43560\n",
    "lu_parcels = lu_parcels[['LU_GENERAL','LU_SPECIF','name','LU_DETAIL', 'CITY','area_m2','area_acres', 'geometry']]\n"
   ]
  },
  {
   "cell_type": "code",
   "execution_count": null,
   "id": "07e02a03",
   "metadata": {},
   "outputs": [],
   "source": [
    "# divide parcels into cities for aggregating numbers later\n",
    "# cities = parcels.dissolve('CITY')"
   ]
  },
  {
   "cell_type": "code",
   "execution_count": null,
   "id": "40c16155",
   "metadata": {},
   "outputs": [],
   "source": [
    "# with parcels LU_GENERAL 90% are covered by Residential when cropped to county landuse\n",
    "perc_res1 = lu_parcels[lu_parcels.LU_GENERAL.isin(['Residential'])].shape[0]/lu_parcels.shape[0]\n",
    "# 93.4% coverage using general residential str in LU name\n",
    "perc_res2 = lu_parcels[lu_parcels.name.str.contains('residential')].shape[0]/lu_parcels.shape[0]\n",
    "perc_res1, perc_res2"
   ]
  },
  {
   "cell_type": "code",
   "execution_count": null,
   "id": "b4815aa3",
   "metadata": {},
   "outputs": [],
   "source": [
    "# filter to those only classified as residential, not urban which would be covered by municipal\n",
    "# lu_res = lu_parcels[lu_parcels.name.str.contains('residential')]\n",
    "lu_res = lu_parcels[lu_parcels.LU_GENERAL.str.contains('Residential', na=False)]"
   ]
  },
  {
   "cell_type": "code",
   "execution_count": null,
   "id": "e1d5eb2b",
   "metadata": {},
   "outputs": [],
   "source": [
    "lu_res.LU_SPECIF.unique(), lu_res.LU_DETAIL.unique()\n",
    "# Rural tag under LU_DETAIL\n",
    "lu_rural = lu_parcels[lu_parcels.LU_DETAIL.str.contains('Rural', na=False)]\n"
   ]
  },
  {
   "cell_type": "code",
   "execution_count": null,
   "id": "9257d09c",
   "metadata": {},
   "outputs": [],
   "source": [
    "# lu_muni = lu_parcels[lu_parcels.LU_DETAIL.str.contains('Family|Neighborhood|Story', na=False)]\n",
    "# lu_parcels.LU_DETAIL.unique()\n",
    "lu_muni= lu_res[~lu_res.LU_DETAIL.str.contains('Rural', na=False)]\n",
    "muni_pts = wells_grid[wells_grid.Simple_type=='public']\n"
   ]
  },
  {
   "cell_type": "markdown",
   "id": "fb2f8d37",
   "metadata": {},
   "source": [
    "The number of parcels is much greater than the number of domestic wells because parcels in the Elk Grove/Galt are connected to municipal water systems and are accounted for in the municipal well pumping. Alternatively, I could remove the pumping based on domestic wells and municipal wells as is and instead estimate all residential pumping based on parcel size and use. \n",
    "\n",
    "- The column LU_DETAIL from the parcel database is useful to identify rural residential parcels (those dependent on domestic wells). Water use at these locations should be about 2 AF/year because of high outdoor water use and the daily pumping should be scaled by the percent the daily ET is of the year after a minimum of 150 gpd for household use.  \n",
    "    - The LU_DETAIL 'Rural' caegories all showed only classificiations as LU_GENERAL:'Residential', LU_SPECIF:'Single-Family'  \n",
    "- This leaves the choice to update municipal pumping based on parcels or continue guessing the number of connections, realistically it should be updated to water use at each parcel since we don't know the number of connections or pumping data. For municipal locations water use should be kept at a constant 150 gpd for household use."
   ]
  },
  {
   "cell_type": "code",
   "execution_count": null,
   "id": "a7885392",
   "metadata": {},
   "outputs": [],
   "source": [
    "lu_muni.shape[0]*0.5, muni_pts.shape[0]*5000*365/7.48/43560, 0.5*43560*7.48/365"
   ]
  },
  {
   "cell_type": "code",
   "execution_count": null,
   "id": "c4751f7d",
   "metadata": {},
   "outputs": [],
   "source": [
    "fig,ax= plt.subplots(1,2)\n",
    "# lu_res.plot(ax=ax)\n",
    "lu_muni.plot(ax=ax[1], color='yellow')\n",
    "muni_pts_buf = muni_pts.copy()\n",
    "muni_pts_buf.geometry = muni_pts_buf.buffer(1E3)\n",
    "muni_pts_buf.plot(ax=ax[1], color='purple', alpha=0.4)\n",
    "\n",
    "lu_rural.plot(ax=ax[0],color='green')\n",
    "domestic_pts.plot(ax=ax[0], markersize=0.3, color='red')"
   ]
  },
  {
   "cell_type": "code",
   "execution_count": null,
   "id": "56eb6d93",
   "metadata": {},
   "outputs": [],
   "source": [
    "lu_rural.shape[0]/domestic_pts.shape[0]\n",
    "# using parcels nearly triples the number of ag-res which is what we expected"
   ]
  },
  {
   "cell_type": "markdown",
   "id": "ca539f98",
   "metadata": {},
   "source": [
    "Each ag-residential parcel should sum on annual scale to 2AF, with a minimum daily value of 150 gpd\n"
   ]
  },
  {
   "cell_type": "code",
   "execution_count": null,
   "id": "2225c0ac",
   "metadata": {},
   "outputs": [],
   "source": [
    "\n",
    "# spatial join with WCR points to keep information on well age and depth\n",
    "lu_rural_out = gpd.sjoin(lu_rural,\n",
    "                         domestic_pts[['WCRNumber','depth_m','geometry']], \n",
    "                         how='left').drop(columns=['index_right'])\n",
    "# join parcels to the model grid assuming the well is in the centroid of the parcel\n",
    "lu_rural_out.geometry = lu_rural_out.geometry.centroid\n",
    "# rural_grid = gpd.sjoin(lu_rural_out, grid_p).drop(columns='index_right')\n",
    "rural_grid = gpd.sjoin(grid_p, lu_rural_out).drop(columns='index_right')\n",
    "# drop extra large parcels that shouldn't be considered residential, 20+ acres\n",
    "rural_grid = rural_grid[rural_grid.area_acres < rural_grid.area_acres.quantile(0.99)]"
   ]
  },
  {
   "cell_type": "markdown",
   "id": "8eaccab0",
   "metadata": {},
   "source": [
    "Groupby parcels into area categories based on calculated area. By irrigating, it more generally means that water usage is scaled to property size.\n",
    "- 0-1.5 acres, at minimum each parcel should use about 2AF/year, so any p\n",
    "- 1.5-5, assume landowners are irrigating 80% of their parcel\n",
    "- 5-10 assume landowners are irrigating 60% of their parcel\n",
    "- 10-20 assume landowners are irrigating 40% of their parcel"
   ]
  },
  {
   "cell_type": "code",
   "execution_count": null,
   "id": "d7f2fb19",
   "metadata": {},
   "outputs": [],
   "source": [
    "rural_grid['usage_scale'] = 1/rural_grid.area_acres # default is 1 for area less than 1.5 acres\n",
    "rural_grid.loc[rural_grid.area_acres>1.5,'usage_scale'] = 0.8\n",
    "rural_grid.loc[rural_grid.area_acres>5,'usage_scale'] = 0.6\n",
    "rural_grid.loc[rural_grid.area_acres>10,'usage_scale'] = 0.4\n",
    "# calculated scaled area\n",
    "rural_grid['used_area_acres'] = rural_grid.usage_scale * rural_grid.area_acres\n"
   ]
  },
  {
   "cell_type": "code",
   "execution_count": null,
   "id": "98191221",
   "metadata": {},
   "outputs": [],
   "source": [
    "# rural_grid.dissolve('CITY', aggfunc='sum').plot('used_area_acres', legend=True)\n",
    "rural_grid.dissolve('CITY', aggfunc='sum').plot('area_acres', legend=True)"
   ]
  },
  {
   "cell_type": "code",
   "execution_count": null,
   "id": "a9d50399",
   "metadata": {},
   "outputs": [],
   "source": [
    "# fill in depth of wells based on interpolated domestic well depths\n",
    "rural_grid['fill_depth_m'] = domestic_well_depth_arr[rural_grid.row-1, rural_grid.column-1]\n",
    "rural_grid.loc[~rural_grid.depth_m.isna(),'fill_depth_m'] = rural_grid.loc[~rural_grid.depth_m.isna(), 'fill_depth_m']"
   ]
  },
  {
   "cell_type": "code",
   "execution_count": null,
   "id": "8449c73f",
   "metadata": {},
   "outputs": [],
   "source": [
    "rural_grid.drop(columns=['geometry']).to_csv(join(wel_dir, 'ag_res_parcel_domestic_wells.csv'))"
   ]
  },
  {
   "cell_type": "markdown",
   "id": "260f81fd",
   "metadata": {},
   "source": [
    "# Calculate water use time-series\n",
    "Assume baseline water usage for an ag-residential parcel of 1 acre is 2AF per year with a minimum daily usage of 50 gpd per capita with 3 people per parcel and the remaining daily water usage scaled by the ETc."
   ]
  },
  {
   "cell_type": "code",
   "execution_count": null,
   "id": "2ee272b4",
   "metadata": {},
   "outputs": [],
   "source": [
    "import h5py\n",
    "nrow_p, ncol_p = (100,230)\n",
    "def dwr_etc(strt_date, end_date):\n",
    "    nper_tr = (end_date-strt_date).days+1\n",
    "    natETc = np.zeros((nper_tr,nrow_p,ncol_p))\n",
    "    agETc = np.zeros((nper_tr,nrow_p,ncol_p))\n",
    "\n",
    "    per_n = 0 \n",
    "    for y in np.arange(strt_date.year, end_date.year+1):\n",
    "        # set start and end date for range for the year to be iterated over\n",
    "        yr_strt = pd.to_datetime(str(y)+'-01-01')\n",
    "        yr_end = pd.to_datetime(str(y)+'-12-31')\n",
    "        # get the length of the date range needed for that year\n",
    "        yearlen = len(pd.date_range(yr_strt, yr_end))\n",
    "        if yr_strt < strt_date:\n",
    "            yr_strt = strt_date\n",
    "        if yr_end > end_date:\n",
    "            yr_end = end_date\n",
    "        yr_len = len(pd.date_range(yr_strt, yr_end))\n",
    "        # load hdf5 files\n",
    "        f_irr = h5py.File(join(uzf_dir, \"dwr_ETc/irrigated_\"+str(y)+\".hdf5\"), \"r\")\n",
    "        agETc[per_n:per_n+yr_len,:,:] = f_irr['array'][str(y)][:][yr_strt.dayofyear-1:yr_end.dayofyear,:,:]\n",
    "        f_irr.close()\n",
    "        f_nat = h5py.File(join(uzf_dir, \"dwr_ETc/native_\"+str(y)+\".hdf5\"), \"r\")\n",
    "        natETc[per_n:per_n+yr_len,:,:] = f_nat['array'][str(y)][:][yr_strt.dayofyear-1:yr_end.dayofyear,:,:]\n",
    "        f_nat.close()\n",
    "        per_n += yr_len\n",
    "    # make sure the return value is separate from the loop\n",
    "    return(agETc, natETc)"
   ]
  },
  {
   "cell_type": "code",
   "execution_count": null,
   "id": "6d002ee7",
   "metadata": {},
   "outputs": [],
   "source": [
    "strt_date = pd.to_datetime('1998-10-01')\n",
    "end_date = pd.to_datetime('2020-9-30')"
   ]
  },
  {
   "cell_type": "code",
   "execution_count": null,
   "id": "15328cd0",
   "metadata": {},
   "outputs": [],
   "source": [
    "agETc, natETc = dwr_etc(strt_date, end_date)\n",
    "# net ETc should be ETc from ag and native plants joined\n",
    "ETc = agETc + natETc"
   ]
  },
  {
   "cell_type": "code",
   "execution_count": null,
   "id": "759db2af",
   "metadata": {},
   "outputs": [],
   "source": [
    "years = pd.date_range(strt_date, end_date+pd.DateOffset(days=1), freq='AS-Oct')\n",
    "year_ind = (years-strt_date).days"
   ]
  },
  {
   "cell_type": "code",
   "execution_count": null,
   "id": "cc42d798",
   "metadata": {},
   "outputs": [],
   "source": [
    "# take average daily ET across the domain to use for scaling the domestic use\n",
    "mean_ETc = agETc.mean(axis=(1,2))\n",
    "scaled_ETc = mean_ETc.copy()\n",
    "# group ET on an annual scale to determine the contribution each day makes to the year\n",
    "for n in np.arange(0, len(years)-1):\n",
    "    yr_scaled = mean_ETc[year_ind[n]:year_ind[n+1]]/mean_ETc[year_ind[n]:year_ind[n+1]].sum()\n",
    "    scaled_ETc[year_ind[n]:year_ind[n+1]] = yr_scaled"
   ]
  },
  {
   "cell_type": "code",
   "execution_count": null,
   "id": "3e141f66",
   "metadata": {},
   "outputs": [],
   "source": [
    "# the average minimum daily pumping in a single family household is 50 gpd for ~3 people (0.16 AF/yr)\n",
    "min_pump = 150*(1/7.48)*(0.3048**3)\n",
    "# typical max usage is 2AF/year for domestic\n",
    "annual_domestic_irr = 2*43560*(0.3048**3) - min_pump*365\n",
    "# the total annual pumping is downscaled to daily based on ET and minimum pumping is added back\n",
    "domestic_use = scaled_ETc*annual_domestic_irr+min_pump\n"
   ]
  },
  {
   "cell_type": "code",
   "execution_count": null,
   "id": "51e05f20",
   "metadata": {},
   "outputs": [],
   "source": [
    "plt.plot(domestic_use)"
   ]
  },
  {
   "cell_type": "code",
   "execution_count": null,
   "id": "296ad303",
   "metadata": {},
   "outputs": [],
   "source": [
    "# save to output with dates as ID\n",
    "dom_use_out = pd.DataFrame(domestic_use, columns=['flux_m3d'])\n",
    "dom_use_out.index = pd.date_range(strt_date, end_date)\n",
    "dom_use_out.to_csv(join(wel_dir, 'domestic_water_use.csv'))"
   ]
  },
  {
   "cell_type": "code",
   "execution_count": null,
   "id": "6f33fa7f",
   "metadata": {},
   "outputs": [],
   "source": [
    "# for n in np.arange(0, len(year_ind)-1):\n",
    "#     print(domestic_use[year_ind[n]:year_ind[n+1]].sum()*(1/0.3048**3)/43560)"
   ]
  }
 ],
 "metadata": {
  "kernelspec": {
   "display_name": "Python 3 (ipykernel)",
   "language": "python",
   "name": "python3"
  },
  "language_info": {
   "codemirror_mode": {
    "name": "ipython",
    "version": 3
   },
   "file_extension": ".py",
   "mimetype": "text/x-python",
   "name": "python",
   "nbconvert_exporter": "python",
   "pygments_lexer": "ipython3",
   "version": "3.10.9"
  }
 },
 "nbformat": 4,
 "nbformat_minor": 5
}
