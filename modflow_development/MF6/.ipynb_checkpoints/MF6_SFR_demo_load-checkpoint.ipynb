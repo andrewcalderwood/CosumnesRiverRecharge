{
 "cells": [
  {
   "cell_type": "code",
   "execution_count": 2,
   "id": "stock-store",
   "metadata": {},
   "outputs": [],
   "source": [
    "# standard python utilities\n",
    "import os\n",
    "import sys\n",
    "import glob\n",
    "import pandas as pd\n",
    "import numpy as np\n",
    "import calendar\n",
    "import time\n",
    "from scipy.stats import gmean\n",
    "\n",
    "# standard python plotting utilities\n",
    "import matplotlib as mpl\n",
    "import matplotlib.pyplot as plt\n",
    "\n",
    "# standard geospatial python utilities\n",
    "import pyproj # for converting proj4string\n",
    "import shapely\n",
    "import geopandas as gpd\n",
    "# import rasterio\n",
    "# \n",
    "# mapping utilities\n",
    "# import contextily as ctx\n",
    "from mpl_toolkits.axes_grid1.inset_locator import inset_axes\n",
    "from mpl_toolkits.axes_grid1.anchored_artists import AnchoredSizeBar\n",
    "import matplotlib.font_manager as fm"
   ]
  },
  {
   "cell_type": "code",
   "execution_count": 3,
   "id": "photographic-living",
   "metadata": {},
   "outputs": [
    {
     "name": "stdout",
     "output_type": "stream",
     "text": [
      "3.7.10 (default, Feb 26 2021, 13:06:18) [MSC v.1916 64 bit (AMD64)]\n",
      "numpy version: 1.19.2\n",
      "matplotlib version: 3.3.4\n",
      "flopy version: 3.3.3\n"
     ]
    }
   ],
   "source": [
    "\n",
    "# run installed version of flopy or add local path\n",
    "try:\n",
    "    import flopy\n",
    "    from flopy.discretization.structuredgrid import StructuredGrid\n",
    "    from flopy.utils.reference import SpatialReference\n",
    "    from flopy.utils import Raster\n",
    "except:\n",
    "    import flopy\n",
    "    fpth = os.path.abspath(os.path.join('..', '..'))\n",
    "    sys.path.append(fpth)\n",
    "    from flopy.discretization.structuredgrid import StructuredGrid\n",
    "    from flopy.utils.reference import SpatialReference\n",
    "    from flopy.utils import Raster\n",
    "from flopy.utils.gridgen import Gridgen\n",
    "from flopy.utils import OptionBlock\n",
    "import flopy.utils.binaryfile as bf\n",
    "\n",
    "\n",
    "print(sys.version)\n",
    "print('numpy version: {}'.format(np.__version__))\n",
    "print('matplotlib version: {}'.format(mpl.__version__))\n",
    "print('flopy version: {}'.format(flopy.__version__))"
   ]
  },
  {
   "cell_type": "code",
   "execution_count": 4,
   "id": "different-asian",
   "metadata": {},
   "outputs": [
    {
     "name": "stdout",
     "output_type": "stream",
     "text": [
      "loading simulation...\n",
      "  loading simulation name file...\n",
      "  loading tdis package...\n",
      "  loading model gwf6...\n",
      "    loading package dis...\n",
      "    loading package ic...\n",
      "    loading package npf...\n",
      "    loading package oc...\n",
      "    loading package chd...\n",
      "    loading package chd...\n",
      "    loading package sfr...\n",
      "  loading model gwf6...\n",
      "    loading package dis...\n",
      "    loading package ic...\n",
      "    loading package npf...\n",
      "    loading package oc...\n",
      "    loading package sfr...\n",
      "  loading exchange package gwf-gwf_exg_0...\n",
      "  loading ims package gwf-lgr-parent...\n"
     ]
    }
   ],
   "source": [
    "loadpth = 'C:/WRDAPP/mf6.2.2/examples/'\n",
    "model_ws = loadpth+'ex-gwf-lgr'\n",
    "s = flopy.mf6.MFSimulation.load(sim_name = 'gwf-lgr', version='mf6', exe_name='mf6.exe',sim_ws = model_ws)"
   ]
  },
  {
   "cell_type": "code",
   "execution_count": 5,
   "id": "shaped-guard",
   "metadata": {},
   "outputs": [],
   "source": [
    "# set parent and child models from loaded model\n",
    "m_p = s.gwf[0]\n",
    "m_c = s.gwf[1]"
   ]
  },
  {
   "cell_type": "markdown",
   "id": "revised-reader",
   "metadata": {},
   "source": [
    "# SFR Package\n",
    "flopy MF6 SFR definitions\n",
    "\n",
    "No direct application of geometry, MF6 returned SFR to a rectangular only package. FOr now that means I should continue with the model as is in MF2005 and use the latest version of LGR available with the flow routing options between parent and child. If I switch to MF6 in the future I'll need to switch to the SWR package\n",
    "\n",
    "**Package Data**  \n",
    "Package Data variables: rno, cellid (index variable), rlen, rwid, rgrd, rtp, rbth, rhk, man, ncon, ustrf, ndiv)  \n",
    "Meaning: Reach number, cell ID (layer, row, column), length, width, gradient (slope),  top,  thickness, hydraulic conductivity, manning's n, number of connected reaches, fraction of upstream flow that enters as inflow, number of diversions\n",
    "\n",
    "USTRF: upstream fraction—real value that defines the fraction of upstream flow (USTRF) from each upstream reach that is applied as upstream inflow to the reach. The sum of all USTRF values for all reaches connected to the same upstream reach must be equal to one.\n",
    "**Connection data**\n",
    "Connection data: rno, ic_0, ic_1  \n",
    "Meaning, reach number, defines the reach number of the reach connected to the current reach and whether it is upstream or downstream, negative values indicate connected reaches are downstream, positive are upstream\n",
    "ic is not specified when NCON is zero\n",
    "\n",
    "**Diversion**  \n",
    "rno, idv, iconr, cprior\n",
    "reach number, defines downstream diversion number of the diversion for reach RNO, defines downstream reach that will receive diverted water, cprior defines prioritization system (used in conjunction with value of FLOW from STRESS_PERIOD_DATA)\n",
    "\n",
    "**Period data**  \n",
    "rno, sfrsettings"
   ]
  },
  {
   "cell_type": "code",
   "execution_count": 6,
   "id": "isolated-testament",
   "metadata": {},
   "outputs": [
    {
     "data": {
      "text/plain": [
       "{internal}\n",
       "(rec.array([( 0, -1.,  nan), ( 1,  0.,  -2.), ( 2,  1.,  -3.),\n",
       "           ( 3,  2.,  -4.), ( 4,  3.,  -5.), ( 5,  4.,  -6.),\n",
       "           ( 6,  5.,  -7.), ( 7,  6.,  nan), ( 8, -9.,  nan),\n",
       "           ( 9,  8., -10.), (10,  9., -11.), (11, 10., -12.),\n",
       "           (12, 11., -13.), (13, 12., -14.), (14, 13., -15.),\n",
       "           (15, 14., -16.), (16, 15., -17.), (17, 16.,  nan)],\n",
       "          dtype=[('rno', '<i4'), ('ic_0', '<f8'), ('ic_1', '<f8')]))"
      ]
     },
     "execution_count": 6,
     "metadata": {},
     "output_type": "execute_result"
    }
   ],
   "source": [
    "# Reach number, cell ID (node?), length, width, gradient (slope),  top,  thickness, hydraulic conductivity,\n",
    "# manning's n, number of connected reaches\n",
    "# rno, cellid (index variable), rlen, rwid, rgrd, rtp, rbth, rhk, man, ncon,)\n",
    "m_p.sfr.packagedata\n",
    "m_p.sfr.connectiondata"
   ]
  },
  {
   "cell_type": "code",
   "execution_count": 16,
   "id": "9f7e3ef7",
   "metadata": {},
   "outputs": [
    {
     "data": {
      "text/plain": [
       "rec.array([(0, None, nan, nan, nan, nan, nan, nan, None, 0, nan, 0)],\n",
       "          dtype=[('rno', '<i4'), ('cellid', 'O'), ('rlen', '<f8'), ('rwid', '<f8'), ('rgrd', '<f8'), ('rtp', '<f8'), ('rbth', '<f8'), ('rhk', '<f8'), ('man', 'O'), ('ncon', '<i4'), ('ustrf', '<f8'), ('ndv', '<i4')])"
      ]
     },
     "execution_count": 16,
     "metadata": {},
     "output_type": "execute_result"
    }
   ],
   "source": [
    "flopy.mf6.ModflowGwfsfr.packagedata.empty(m_p)"
   ]
  }
 ],
 "metadata": {
  "kernelspec": {
   "display_name": "Python 3 (ipykernel)",
   "language": "python",
   "name": "python3"
  },
  "language_info": {
   "codemirror_mode": {
    "name": "ipython",
    "version": 3
   },
   "file_extension": ".py",
   "mimetype": "text/x-python",
   "name": "python",
   "nbconvert_exporter": "python",
   "pygments_lexer": "ipython3",
   "version": "3.11.0"
  }
 },
 "nbformat": 4,
 "nbformat_minor": 5
}
