{
 "cells": [
  {
   "cell_type": "code",
   "execution_count": null,
   "id": "3267ddd9",
   "metadata": {},
   "outputs": [],
   "source": [
    "# standard python utilities\n",
    "import os\n",
    "from os.path import join, dirname, basename\n",
    "import glob\n",
    "import sys\n",
    "import time\n",
    "import pandas as pd\n",
    "import numpy as np\n",
    "\n",
    "# standard python plotting utilities\n",
    "import matplotlib as mpl\n",
    "import matplotlib.pyplot as plt\n",
    "\n",
    "# standard geospatial python utilities\n",
    "import pyproj # for converting proj4string\n",
    "import shapely\n",
    "import geopandas as gpd\n",
    "import rasterio\n",
    "\n",
    "# mapping utilities\n",
    "import contextily as ctx\n",
    "from mpl_toolkits.axes_grid1.inset_locator import inset_axes\n",
    "from mpl_toolkits.axes_grid1.anchored_artists import AnchoredSizeBar\n",
    "import matplotlib.font_manager as fm"
   ]
  },
  {
   "cell_type": "code",
   "execution_count": null,
   "id": "1daae301",
   "metadata": {},
   "outputs": [],
   "source": [
    "doc_dir = os.getcwd()\n",
    "while os.path.basename(doc_dir) != 'Documents':\n",
    "    doc_dir = os.path.dirname(doc_dir)\n",
    "# dir of all gwfm data\n",
    "gwfm_dir = os.path.dirname(doc_dir)+'/Box/research_cosumnes/GWFlowModel'\n",
    "gwfm_dir\n"
   ]
  },
  {
   "cell_type": "code",
   "execution_count": null,
   "id": "2967b9fe",
   "metadata": {},
   "outputs": [],
   "source": [
    "# New model domain 52.9 deg\n",
    "m_domain = gpd.read_file(join(gwfm_dir,'DIS_data/NewModelDomain/GWModelDomain_52_9deg_UTM10N_WGS84.shp'))\n",
    "\n",
    "# Load model grid as geopandas object\n",
    "grid_p = gpd.read_file(gwfm_dir+'/DIS_data/grid/grid.shp')\n",
    "\n"
   ]
  },
  {
   "cell_type": "code",
   "execution_count": null,
   "id": "36efe07e",
   "metadata": {},
   "outputs": [],
   "source": [
    "uzf_path = gwfm_dir+'/UZF_data'\n",
    "soil_path = uzf_path+'/wss_gsmsoil_CA'\n",
    "# Read in the soil map spatial data\n",
    "soil_gpd = gpd.read_file(soil_path+'/spatial/gsmsoilmu_a_ca.shp')\n",
    "soil_gpd = soil_gpd.to_crs('EPSG:32610')\n",
    "# soil_gpd.plot()"
   ]
  },
  {
   "cell_type": "code",
   "execution_count": null,
   "id": "8e50cc9d",
   "metadata": {},
   "outputs": [],
   "source": [
    "# Intersect state soil map with model domain\n",
    "mb.crs = \"EPSG:32610\"\n",
    "gpd_mb = gpd.overlay(soil_gpd, m_domain, how = 'intersection')\n",
    "# gpd_mb.plot(column = 'MUKEY')"
   ]
  },
  {
   "cell_type": "code",
   "execution_count": null,
   "id": "08a93d4d",
   "metadata": {},
   "outputs": [],
   "source": [
    "# Read in files relevant to water content, sat K, and epsilon that correspond to the spatial data\n",
    "por = pd.read_csv(soil_path+'/soildb_US_2003_Porosity.txt',sep=',', header = 0)\n",
    "ksat = pd.read_csv(soil_path+'/soildb_US_2003_Ksat.txt',sep=',', header = 0)\n",
    "psdi = pd.read_csv(soil_path+'/soildb_US_2003_PSDI.txt',sep=',', header = 0)\n",
    "# Pull out representative values for porosity, saturated hydraulic conductivity and pore size distribution index\n",
    "por = por.drop(labels = ['Porosity_Low', 'Porosity_High'], axis = 1)\n",
    "ksat = ksat.drop(labels = ['Ksat_Low', 'Ksat_High'], axis = 1)\n",
    "psdi = psdi.drop(labels = ['PSDI_Low', 'PSDI_High'], axis = 1)"
   ]
  },
  {
   "cell_type": "code",
   "execution_count": null,
   "id": "2a3dd65c",
   "metadata": {},
   "outputs": [],
   "source": [
    "# Prepare the column name for joining spatial data with the reference data\n",
    "gpd_mb = gpd_mb.rename(columns={'MUKEY':'mukey'})\n",
    "# gpd_mb, por\n",
    "# gpd_mb.join(por, on = 'mukey')\n",
    "soil = por.merge(ksat, on = 'mukey', how = 'inner')\n",
    "soil = soil.merge(psdi, on = 'mukey', how = 'inner')\n",
    "# Calculate epsilon using the pore size distribution index equation from Brooks and Corey 1960\n",
    "soil['EPS'] = (2 + 3*soil.PSDI_Rep)/soil.PSDI_Rep\n",
    "gpd_mb.mukey = gpd_mb.mukey.values.astype('int64')\n",
    "gpd_mb = gpd_mb.merge(soil, on = 'mukey')\n"
   ]
  },
  {
   "cell_type": "code",
   "execution_count": null,
   "id": "334ee534",
   "metadata": {},
   "outputs": [],
   "source": [
    "# Samples the points every 10 meters to match with the 100 meter grid\n",
    "grid_uzf = gpd.sjoin(gpd_mb, grid_p,   how = \"inner\", op= \"intersects\")\n",
    "# grid_uzf = gpd.overlay(grid_p, gpd_mb,  how = 'intersection')\n"
   ]
  },
  {
   "cell_type": "code",
   "execution_count": null,
   "id": "c58079f6",
   "metadata": {},
   "outputs": [],
   "source": [
    "# Dissolves the points every 10 meters to the 100 meter spacing\n",
    "# grid_uzf = grid_uzf.dissolve(by = 'node')\n",
    "# length of 70,073 before dissolve, 66,000 after dissolve"
   ]
  },
  {
   "cell_type": "code",
   "execution_count": null,
   "id": "39edf741",
   "metadata": {},
   "outputs": [],
   "source": [
    "# Convert Ksat from micrometers/sec to m/d\n",
    "grid_uzf.Ksat_Rep *= (86400*(1E-6))"
   ]
  },
  {
   "cell_type": "code",
   "execution_count": null,
   "id": "b71fb233",
   "metadata": {},
   "outputs": [],
   "source": [
    "# grid_uzf.to_file(uzf_path+'/final_grid_uzf/griduzf.shp')\n",
    "grid_uzf = gpd.read_file(uzf_path+'/final_grid_uzf/griduzf.shp')"
   ]
  },
  {
   "cell_type": "code",
   "execution_count": null,
   "id": "cd8c07aa",
   "metadata": {},
   "outputs": [],
   "source": [
    "def fill_uzf(uzfvalues, grid_uzf):\n",
    "    temp = np.zeros((nrow,ncol))\n",
    "    temp[grid_uzf.row.values-1,grid_uzf.column.values-1] = uzfvalues\n",
    "    return(temp)\n",
    "\n"
   ]
  },
  {
   "cell_type": "code",
   "execution_count": null,
   "id": "2c782266",
   "metadata": {},
   "outputs": [],
   "source": [
    "\n",
    "soilKs_array = fill_uzf(grid_uzf.Ksat_Rep, grid_uzf)\n",
    "soiln_array = fill_uzf(grid_uzf.Porosity_R, grid_uzf)\n",
    "soileps_array = fill_uzf(grid_uzf.EPS, grid_uzf)\n",
    "\n",
    "np.savetxt(uzf_path+'/final_soilKs.tsv', soilKs_array, delimiter = '\\t')\n",
    "np.savetxt(uzf_path+'/final_soiln.tsv', soiln_array, delimiter = '\\t')\n",
    "np.savetxt(uzf_path+'/final_soileps.tsv', soileps_array, delimiter = '\\t')\n",
    "\n",
    "# soilKs_array = np.loadtxt(uzf_path+'/final_soilKs.tsv', delimiter = '\\t')\n",
    "# soiln_array = np.loadtxt(uzf_path+'/final_soiln.tsv', delimiter = '\\t')\n",
    "# soileps_array = np.loadtxt(uzf_path+'/final_soileps.tsv', delimiter = '\\t')\n"
   ]
  },
  {
   "cell_type": "code",
   "execution_count": null,
   "id": "ed3e6410",
   "metadata": {},
   "outputs": [],
   "source": [
    "temp = np.zeros((nrow,ncol))\n",
    "temp[grid_uzf.row.values-1,grid_uzf.column.values-1] = grid_uzf.Ksat_Rep.values\n",
    "temp.shape\n",
    "plt.imshow(uzf.finf.array[0,0,:,:])"
   ]
  }
 ],
 "metadata": {
  "kernelspec": {
   "display_name": "Python 3 (ipykernel)",
   "language": "python",
   "name": "python3"
  },
  "language_info": {
   "codemirror_mode": {
    "name": "ipython",
    "version": 3
   },
   "file_extension": ".py",
   "mimetype": "text/x-python",
   "name": "python",
   "nbconvert_exporter": "python",
   "pygments_lexer": "ipython3",
   "version": "3.10.6"
  }
 },
 "nbformat": 4,
 "nbformat_minor": 5
}
