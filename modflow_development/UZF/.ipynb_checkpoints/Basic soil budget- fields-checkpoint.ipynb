{
 "cells": [
  {
   "cell_type": "markdown",
   "id": "1c97e4bd",
   "metadata": {},
   "source": [
    "Code to build a basic soil water budget model based on the mathematical equations used by IDC with simplification as here the key is identifying percolation rather than applied water."
   ]
  },
  {
   "cell_type": "code",
   "execution_count": 1,
   "id": "9c5bdd5c",
   "metadata": {},
   "outputs": [],
   "source": [
    "# standard python utilities\n",
    "import os\n",
    "from os.path import join, exists, dirname, basename\n",
    "import glob\n",
    "import sys\n",
    "import time\n",
    "\n",
    "import pandas as pd\n",
    "import numpy as np\n",
    "\n",
    "import h5py\n",
    "from scipy.io import loadmat\n",
    "\n",
    "# standard python plotting utilities\n",
    "import matplotlib as mpl\n",
    "import matplotlib.pyplot as plt\n",
    "\n",
    "# standard geospatial python utilities\n",
    "import shapely\n",
    "import geopandas as gpd\n",
    "\n"
   ]
  },
  {
   "cell_type": "code",
   "execution_count": 2,
   "id": "02f105bc",
   "metadata": {},
   "outputs": [],
   "source": [
    "doc_dir = os.getcwd()\n",
    "while basename(doc_dir) != 'Documents':\n",
    "    doc_dir = dirname(doc_dir)\n",
    "# dir of all gwfm data\n",
    "gwfm_dir = dirname(doc_dir)+'/Box/research_cosumnes/GWFlowModel'\n",
    "gwfm_dir\n",
    "dis_dir = join(gwfm_dir, 'DIS_data')\n",
    "uzf_dir = join(gwfm_dir,'UZF_data')"
   ]
  },
  {
   "cell_type": "code",
   "execution_count": 3,
   "id": "ed6e4829-44a5-4b3b-b391-e0881e07a99d",
   "metadata": {},
   "outputs": [],
   "source": [
    "# dem_data = np.loadtxt(gwfm_dir+'/DIS_data/dem_52_9_200m_mean.tsv')\n"
   ]
  },
  {
   "cell_type": "code",
   "execution_count": 4,
   "id": "51bd7e93",
   "metadata": {},
   "outputs": [],
   "source": [
    "# nrow, ncol = dem_data.shape\n",
    "nrow,ncol = (100, 230)"
   ]
  },
  {
   "cell_type": "markdown",
   "id": "57ccb305",
   "metadata": {},
   "source": [
    "## Hydrologic data"
   ]
  },
  {
   "cell_type": "code",
   "execution_count": 5,
   "id": "703614ef",
   "metadata": {},
   "outputs": [],
   "source": [
    "# strt_date = pd.to_datetime('2014-10-1')\n",
    "strt_date = pd.to_datetime('1998-10-1')\n",
    "end_date = pd.to_datetime('2020-12-31')\n",
    "dates = pd.date_range(strt_date, end_date)\n",
    "nper = len(dates)\n",
    "\n",
    "nrow, ncol = (100,230)\n"
   ]
  },
  {
   "cell_type": "code",
   "execution_count": 6,
   "id": "f7b6fd51",
   "metadata": {},
   "outputs": [],
   "source": [
    "## Potential ETo spatial interpolation from CIMIS\n",
    "fn = glob.glob(join(uzf_dir,'CIMIS','Cosumnes_dailyET_precip*.csv'))\n",
    "daily_data = pd.DataFrame()\n",
    "for file in fn:\n",
    "    new_data = pd.read_csv(file, index_col = ['Date'], parse_dates = True)\n",
    "    daily_data = pd.concat((daily_data, new_data))\n",
    "# units of mm\n",
    "data_in = daily_data[daily_data['Stn Name']=='Fair Oaks']\n",
    "\n",
    "# clean up data so columns are by location, units of Precip are in mm\n",
    "rain_in = data_in.pivot_table(index = 'Date', columns = 'Stn Name', values = 'Precip (mm)')\n",
    "rain_m = rain_in/1000\n",
    "# fill in missing days of rain with zero values\n",
    "rain_df = rain_m.reindex(dates)\n",
    "rain_df[rain_df.isna()]=0\n",
    "# convert to array for calculations\n",
    "rain = rain_df['Fair Oaks'].values\n",
    "\n",
    "# clean up ETo data\n",
    "# ETo_in = data_in.pivot_table(index = 'Date', columns = 'Stn Name', values = 'ETo (mm)')\n",
    "# ETo_m = ETo_in/1000\n",
    "# # linearly interpolate missing days for ET\n",
    "# ETo_df = ETo_m[strt_date:end_date].resample('D').interpolate('linear')['Fair Oaks']\n",
    "\n",
    "# create array for every period of rainfall\n",
    "# rain_df = rain_m[strt_date:end_date].resample('D').interpolate('linear')['Fair Oaks']\n",
    "# rain_arr = np.repeat(np.repeat(np.reshape(rain_df.values, (rain_df.shape[0],1,1)), nrow, axis=1),ncol, axis=2)\n"
   ]
  },
  {
   "cell_type": "code",
   "execution_count": 7,
   "id": "153f7710",
   "metadata": {},
   "outputs": [],
   "source": [
    "# load in pre-processed array of ETc for all time\n",
    "ETc_long = pd.read_hdf(join(uzf_dir, \"dwr_ETc\",'long_ETc_all_lu.hdf5'), key='variable')\n",
    "# convert to column format\n",
    "ETc_all = ETc_long.pivot(columns='variable', values='value')\n",
    "\n",
    "# subset for model period\n",
    "ETc_all = ETc_all[strt_date:end_date]\n",
    "# fill in empty dates with interpolation (temporary since corn dates are slightly different)\n",
    "ETc_all = ETc_all.reindex(dates)\n"
   ]
  },
  {
   "cell_type": "code",
   "execution_count": 8,
   "id": "36ff5e30",
   "metadata": {},
   "outputs": [],
   "source": []
  },
  {
   "cell_type": "markdown",
   "id": "f0b699ff",
   "metadata": {},
   "source": [
    "# Spatial data\n",
    "The land use data doesn't specify water source for most, listed as * so missing."
   ]
  },
  {
   "cell_type": "code",
   "execution_count": 9,
   "id": "24d63f87",
   "metadata": {},
   "outputs": [],
   "source": [
    "ag_lu = gpd.read_file(join(uzf_dir,'county_landuse', 'domain_ag_lu_2018.shp'))"
   ]
  },
  {
   "cell_type": "code",
   "execution_count": 10,
   "id": "1fab846d",
   "metadata": {},
   "outputs": [],
   "source": [
    "# load cleaned soil data for ag fields\n",
    "soil_path = join(uzf_dir,'clean_soil_data')\n",
    "# soil data for each ag field\n",
    "soil_ag = pd.read_csv(join(soil_path, 'soil_for_ag_fields.csv'), index_col=0)\n",
    "# connection of ag fields to grid cells\n",
    "grid_soil = pd.read_csv(join(soil_path, 'ag_field_to_cell.csv'),index_col=0)\n",
    "# curve numbers\n",
    "CN = pd.read_csv(join(soil_path, 'ag_field_CN.csv'),index_col = 0)\n",
    "soil_ag = pd.merge(soil_ag, CN)\n",
    "# irrigation efficiency\n",
    "soil_ag = soil_ag.merge(ag_lu[['geom_id', 'Avg_eff']])\n",
    "# calculate areas\n",
    "field_area = soil_ag.area_m2.values\n",
    "\n",
    "\n"
   ]
  },
  {
   "cell_type": "code",
   "execution_count": 11,
   "id": "6c488c1e",
   "metadata": {},
   "outputs": [],
   "source": [
    "drop_fields = ['new lands being prepared for crop production', \n",
    "               'Land not cropped the current or previous crop season, but cropped within the past three years',\n",
    "               'Mixed (four or more)']\n",
    "\n",
    "soil_ag = soil_ag[~soil_ag.name.isin(drop_fields)]\n",
    "\n",
    "nfield = len(soil_ag)"
   ]
  },
  {
   "cell_type": "markdown",
   "id": "53fe964a",
   "metadata": {},
   "source": [
    "## Solver for all unique soil/crop fields at once"
   ]
  },
  {
   "cell_type": "code",
   "execution_count": 40,
   "id": "8d7b7015",
   "metadata": {},
   "outputs": [],
   "source": [
    "def prep_soil(soil_ag):\n",
    "    global soil_Ks, soil_por, soil_eps, soil_CN\n",
    "    global soildepth, soil_m, wc_f, wc_wp, Smax\n",
    "    global irr_eff\n",
    "    # # when soil_K_low is missing using a substitute of Ksat/10\n",
    "    soil_Ks = np.where(soil_ag.Ksat_Low==0, soil_ag.Ksat/10, soil_ag.Ksat_Low)\n",
    "    soil_por = soil_ag.Porosity.values/100\n",
    "    soil_eps = soil_ag.EPS.values\n",
    "    soil_CN = soil_ag.CN.values\n",
    "    irr_eff = soil_ag.Avg_eff.values/100\n",
    "    \n",
    "    soildepth = soil_ag.SoilDepth.values\n",
    "    psdi =  soil_ag.PSDI.values\n",
    "    # parameter for Mualem, van Genuchten\n",
    "    soil_m = psdi/(psdi+1)\n",
    "    wc_f =  soil_ag.w3rdbar.values/100 #field capacity\n",
    "    wc_wp =  soil_ag.w15bar.values/100 #wilting point \n",
    "\n",
    "    # Calculate total available water in the root zone\n",
    "    taw = (wc_f - wc_wp)*soildepth \n",
    "\n",
    "    # for runoff, convert CN from fraction to CN\n",
    "    Smax = (1000/soil_CN) - 10\n",
    "\n",
    "prep_soil(soil_ag)"
   ]
  },
  {
   "cell_type": "code",
   "execution_count": 41,
   "id": "d33108ca",
   "metadata": {},
   "outputs": [],
   "source": [
    "def calc_S(wc, Smax, wc_f, soil_por):\n",
    "    \"\"\" Given an array of water contents return potential soil retention\"\"\"\n",
    "    S = np.zeros(Smax.shape)\n",
    "    # when water content is less than 1/2 field capacity, full retention\n",
    "    S[wc < wc_f/2] = Smax[wc < wc_f/2]\n",
    "    # wc > porosity then set as porosity for calculations (avoids S >1)\n",
    "    wc_calc = np.where(wc<soil_por, wc, soil_por)\n",
    "    # when water content is greater than 1/2 field capacity, partial retention \n",
    "    S1 = Smax * (1 - ((wc_calc - wc_f/2)/(soil_por - wc_f/2)))\n",
    "    S[wc >= wc_f/2]= S1[wc >= wc_f/2]\n",
    "    # convert S from inches to meters\n",
    "    S *= (0.3048/12)\n",
    "    return(S)"
   ]
  },
  {
   "cell_type": "code",
   "execution_count": 42,
   "id": "6edd7cd3",
   "metadata": {},
   "outputs": [],
   "source": [
    "# ETc.columns[ETc.columns.str.contains('fallow',case=False)]\n",
    "# ETc.columns.values"
   ]
  },
  {
   "cell_type": "code",
   "execution_count": 43,
   "id": "f6e1bdf4",
   "metadata": {},
   "outputs": [],
   "source": [
    "# pull out the crop ET for the fields simulated\n",
    "# it may be necessary to add ET in the winter months representing bare soil ET?\n",
    "ETc = ETc_all.loc[:,soil_ag.name.values].values\n",
    "ETc[np.isnan(ETc)] = 0\n"
   ]
  },
  {
   "cell_type": "code",
   "execution_count": 70,
   "id": "46e2946e",
   "metadata": {},
   "outputs": [
    {
     "data": {
      "text/html": [
       "<div>\n",
       "<style scoped>\n",
       "    .dataframe tbody tr th:only-of-type {\n",
       "        vertical-align: middle;\n",
       "    }\n",
       "\n",
       "    .dataframe tbody tr th {\n",
       "        vertical-align: top;\n",
       "    }\n",
       "\n",
       "    .dataframe thead th {\n",
       "        text-align: right;\n",
       "    }\n",
       "</style>\n",
       "<table border=\"1\" class=\"dataframe\">\n",
       "  <thead>\n",
       "    <tr style=\"text-align: right;\">\n",
       "      <th></th>\n",
       "      <th>geom_id</th>\n",
       "      <th>name</th>\n",
       "      <th>irr_name</th>\n",
       "      <th>SPATIALVER</th>\n",
       "      <th>mukey</th>\n",
       "      <th>FID</th>\n",
       "      <th>SoilDepth</th>\n",
       "      <th>Ksat_Low</th>\n",
       "      <th>AWC</th>\n",
       "      <th>Ksat</th>\n",
       "      <th>...</th>\n",
       "      <th>PSDI</th>\n",
       "      <th>w10thbar</th>\n",
       "      <th>w15bar</th>\n",
       "      <th>w3rdbar</th>\n",
       "      <th>EPS</th>\n",
       "      <th>Texture</th>\n",
       "      <th>HydGroup</th>\n",
       "      <th>area_m2</th>\n",
       "      <th>CN</th>\n",
       "      <th>Avg_eff</th>\n",
       "    </tr>\n",
       "  </thead>\n",
       "  <tbody>\n",
       "    <tr>\n",
       "      <th>0</th>\n",
       "      <td>5</td>\n",
       "      <td>Vineyards</td>\n",
       "      <td>Buried Drip Irrigation</td>\n",
       "      <td>3.0</td>\n",
       "      <td>660971.0</td>\n",
       "      <td>0.0</td>\n",
       "      <td>1.4897</td>\n",
       "      <td>0.365844</td>\n",
       "      <td>0.128415</td>\n",
       "      <td>2.501237</td>\n",
       "      <td>...</td>\n",
       "      <td>0.396706</td>\n",
       "      <td>14.145614</td>\n",
       "      <td>9.581577</td>\n",
       "      <td>18.894158</td>\n",
       "      <td>8.041514</td>\n",
       "      <td>fine sandy loam</td>\n",
       "      <td>B</td>\n",
       "      <td>3070.251429</td>\n",
       "      <td>78</td>\n",
       "      <td>87.5</td>\n",
       "    </tr>\n",
       "    <tr>\n",
       "      <th>1</th>\n",
       "      <td>6</td>\n",
       "      <td>Vineyards</td>\n",
       "      <td>Buried Drip Irrigation</td>\n",
       "      <td>3.0</td>\n",
       "      <td>660971.0</td>\n",
       "      <td>0.0</td>\n",
       "      <td>1.4897</td>\n",
       "      <td>0.365844</td>\n",
       "      <td>0.128415</td>\n",
       "      <td>2.501237</td>\n",
       "      <td>...</td>\n",
       "      <td>0.396706</td>\n",
       "      <td>14.145614</td>\n",
       "      <td>9.581577</td>\n",
       "      <td>18.894158</td>\n",
       "      <td>8.041514</td>\n",
       "      <td>fine sandy loam</td>\n",
       "      <td>B</td>\n",
       "      <td>26293.806839</td>\n",
       "      <td>78</td>\n",
       "      <td>87.5</td>\n",
       "    </tr>\n",
       "    <tr>\n",
       "      <th>2</th>\n",
       "      <td>7</td>\n",
       "      <td>Vineyards</td>\n",
       "      <td>Buried Drip Irrigation</td>\n",
       "      <td>3.0</td>\n",
       "      <td>660971.0</td>\n",
       "      <td>0.0</td>\n",
       "      <td>1.4897</td>\n",
       "      <td>0.365844</td>\n",
       "      <td>0.128415</td>\n",
       "      <td>2.501237</td>\n",
       "      <td>...</td>\n",
       "      <td>0.396706</td>\n",
       "      <td>14.145614</td>\n",
       "      <td>9.581577</td>\n",
       "      <td>18.894158</td>\n",
       "      <td>8.041514</td>\n",
       "      <td>fine sandy loam</td>\n",
       "      <td>B</td>\n",
       "      <td>25281.684921</td>\n",
       "      <td>78</td>\n",
       "      <td>87.5</td>\n",
       "    </tr>\n",
       "    <tr>\n",
       "      <th>3</th>\n",
       "      <td>8</td>\n",
       "      <td>Cherries</td>\n",
       "      <td>Permanent Sprinkler</td>\n",
       "      <td>3.0</td>\n",
       "      <td>660971.0</td>\n",
       "      <td>0.0</td>\n",
       "      <td>1.4897</td>\n",
       "      <td>0.365844</td>\n",
       "      <td>0.128415</td>\n",
       "      <td>2.501237</td>\n",
       "      <td>...</td>\n",
       "      <td>0.396706</td>\n",
       "      <td>14.145614</td>\n",
       "      <td>9.581577</td>\n",
       "      <td>18.894158</td>\n",
       "      <td>8.041514</td>\n",
       "      <td>fine sandy loam</td>\n",
       "      <td>B</td>\n",
       "      <td>106367.224265</td>\n",
       "      <td>78</td>\n",
       "      <td>77.5</td>\n",
       "    </tr>\n",
       "    <tr>\n",
       "      <th>4</th>\n",
       "      <td>14</td>\n",
       "      <td>Walnuts</td>\n",
       "      <td>Surface Drip Irrigation</td>\n",
       "      <td>3.0</td>\n",
       "      <td>660971.0</td>\n",
       "      <td>0.0</td>\n",
       "      <td>1.4897</td>\n",
       "      <td>0.365844</td>\n",
       "      <td>0.128415</td>\n",
       "      <td>2.501237</td>\n",
       "      <td>...</td>\n",
       "      <td>0.396706</td>\n",
       "      <td>14.145614</td>\n",
       "      <td>9.581577</td>\n",
       "      <td>18.894158</td>\n",
       "      <td>8.041514</td>\n",
       "      <td>fine sandy loam</td>\n",
       "      <td>B</td>\n",
       "      <td>7460.735058</td>\n",
       "      <td>78</td>\n",
       "      <td>87.5</td>\n",
       "    </tr>\n",
       "    <tr>\n",
       "      <th>...</th>\n",
       "      <td>...</td>\n",
       "      <td>...</td>\n",
       "      <td>...</td>\n",
       "      <td>...</td>\n",
       "      <td>...</td>\n",
       "      <td>...</td>\n",
       "      <td>...</td>\n",
       "      <td>...</td>\n",
       "      <td>...</td>\n",
       "      <td>...</td>\n",
       "      <td>...</td>\n",
       "      <td>...</td>\n",
       "      <td>...</td>\n",
       "      <td>...</td>\n",
       "      <td>...</td>\n",
       "      <td>...</td>\n",
       "      <td>...</td>\n",
       "      <td>...</td>\n",
       "      <td>...</td>\n",
       "      <td>...</td>\n",
       "      <td>...</td>\n",
       "    </tr>\n",
       "    <tr>\n",
       "      <th>2927</th>\n",
       "      <td>14534</td>\n",
       "      <td>Walnuts</td>\n",
       "      <td>Hand Move Sprinkler</td>\n",
       "      <td>3.0</td>\n",
       "      <td>660928.0</td>\n",
       "      <td>0.0</td>\n",
       "      <td>1.7053</td>\n",
       "      <td>0.000000</td>\n",
       "      <td>0.119395</td>\n",
       "      <td>0.117973</td>\n",
       "      <td>...</td>\n",
       "      <td>0.246071</td>\n",
       "      <td>NaN</td>\n",
       "      <td>15.541122</td>\n",
       "      <td>27.268363</td>\n",
       "      <td>11.127720</td>\n",
       "      <td>clay loam</td>\n",
       "      <td>D</td>\n",
       "      <td>3318.238554</td>\n",
       "      <td>89</td>\n",
       "      <td>75.0</td>\n",
       "    </tr>\n",
       "    <tr>\n",
       "      <th>2928</th>\n",
       "      <td>14537</td>\n",
       "      <td>Mixed pasture</td>\n",
       "      <td>Hand Move Sprinkler</td>\n",
       "      <td>3.0</td>\n",
       "      <td>660924.0</td>\n",
       "      <td>0.0</td>\n",
       "      <td>0.9303</td>\n",
       "      <td>0.000000</td>\n",
       "      <td>0.109039</td>\n",
       "      <td>0.315932</td>\n",
       "      <td>...</td>\n",
       "      <td>0.251922</td>\n",
       "      <td>NaN</td>\n",
       "      <td>11.601643</td>\n",
       "      <td>21.822191</td>\n",
       "      <td>10.938978</td>\n",
       "      <td>loam</td>\n",
       "      <td>D</td>\n",
       "      <td>33819.337923</td>\n",
       "      <td>89</td>\n",
       "      <td>75.0</td>\n",
       "    </tr>\n",
       "    <tr>\n",
       "      <th>2929</th>\n",
       "      <td>14546</td>\n",
       "      <td>Walnuts</td>\n",
       "      <td>Surface Drip Irrigation</td>\n",
       "      <td>3.0</td>\n",
       "      <td>660922.0</td>\n",
       "      <td>0.0</td>\n",
       "      <td>1.5954</td>\n",
       "      <td>0.000000</td>\n",
       "      <td>0.128355</td>\n",
       "      <td>0.112992</td>\n",
       "      <td>...</td>\n",
       "      <td>0.202105</td>\n",
       "      <td>9.200000</td>\n",
       "      <td>19.708826</td>\n",
       "      <td>29.967614</td>\n",
       "      <td>12.895823</td>\n",
       "      <td>clay loam</td>\n",
       "      <td>D</td>\n",
       "      <td>47075.641215</td>\n",
       "      <td>89</td>\n",
       "      <td>87.5</td>\n",
       "    </tr>\n",
       "    <tr>\n",
       "      <th>2930</th>\n",
       "      <td>14548</td>\n",
       "      <td>Vineyards</td>\n",
       "      <td>Surface Drip Irrigation</td>\n",
       "      <td>3.0</td>\n",
       "      <td>660925.5</td>\n",
       "      <td>0.0</td>\n",
       "      <td>1.6428</td>\n",
       "      <td>0.000000</td>\n",
       "      <td>0.128413</td>\n",
       "      <td>0.791524</td>\n",
       "      <td>...</td>\n",
       "      <td>0.284852</td>\n",
       "      <td>18.299999</td>\n",
       "      <td>13.652598</td>\n",
       "      <td>25.233073</td>\n",
       "      <td>10.153777</td>\n",
       "      <td>['clay loam' 'loam']</td>\n",
       "      <td>['B' 'D']</td>\n",
       "      <td>143673.683209</td>\n",
       "      <td>89</td>\n",
       "      <td>87.5</td>\n",
       "    </tr>\n",
       "    <tr>\n",
       "      <th>2931</th>\n",
       "      <td>14548</td>\n",
       "      <td>Vineyards</td>\n",
       "      <td>Surface Drip Irrigation</td>\n",
       "      <td>3.0</td>\n",
       "      <td>660925.5</td>\n",
       "      <td>0.0</td>\n",
       "      <td>1.6428</td>\n",
       "      <td>0.000000</td>\n",
       "      <td>0.128413</td>\n",
       "      <td>0.791524</td>\n",
       "      <td>...</td>\n",
       "      <td>0.284852</td>\n",
       "      <td>18.299999</td>\n",
       "      <td>13.652598</td>\n",
       "      <td>25.233073</td>\n",
       "      <td>10.153777</td>\n",
       "      <td>['clay loam' 'loam']</td>\n",
       "      <td>['B' 'D']</td>\n",
       "      <td>143673.683209</td>\n",
       "      <td>78</td>\n",
       "      <td>87.5</td>\n",
       "    </tr>\n",
       "  </tbody>\n",
       "</table>\n",
       "<p>2824 rows × 21 columns</p>\n",
       "</div>"
      ],
      "text/plain": [
       "      geom_id           name                 irr_name  SPATIALVER     mukey   \n",
       "0           5      Vineyards   Buried Drip Irrigation         3.0  660971.0  \\\n",
       "1           6      Vineyards   Buried Drip Irrigation         3.0  660971.0   \n",
       "2           7      Vineyards   Buried Drip Irrigation         3.0  660971.0   \n",
       "3           8       Cherries      Permanent Sprinkler         3.0  660971.0   \n",
       "4          14        Walnuts  Surface Drip Irrigation         3.0  660971.0   \n",
       "...       ...            ...                      ...         ...       ...   \n",
       "2927    14534        Walnuts      Hand Move Sprinkler         3.0  660928.0   \n",
       "2928    14537  Mixed pasture      Hand Move Sprinkler         3.0  660924.0   \n",
       "2929    14546        Walnuts  Surface Drip Irrigation         3.0  660922.0   \n",
       "2930    14548      Vineyards  Surface Drip Irrigation         3.0  660925.5   \n",
       "2931    14548      Vineyards  Surface Drip Irrigation         3.0  660925.5   \n",
       "\n",
       "      FID  SoilDepth  Ksat_Low       AWC      Ksat  ...      PSDI   w10thbar   \n",
       "0     0.0     1.4897  0.365844  0.128415  2.501237  ...  0.396706  14.145614  \\\n",
       "1     0.0     1.4897  0.365844  0.128415  2.501237  ...  0.396706  14.145614   \n",
       "2     0.0     1.4897  0.365844  0.128415  2.501237  ...  0.396706  14.145614   \n",
       "3     0.0     1.4897  0.365844  0.128415  2.501237  ...  0.396706  14.145614   \n",
       "4     0.0     1.4897  0.365844  0.128415  2.501237  ...  0.396706  14.145614   \n",
       "...   ...        ...       ...       ...       ...  ...       ...        ...   \n",
       "2927  0.0     1.7053  0.000000  0.119395  0.117973  ...  0.246071        NaN   \n",
       "2928  0.0     0.9303  0.000000  0.109039  0.315932  ...  0.251922        NaN   \n",
       "2929  0.0     1.5954  0.000000  0.128355  0.112992  ...  0.202105   9.200000   \n",
       "2930  0.0     1.6428  0.000000  0.128413  0.791524  ...  0.284852  18.299999   \n",
       "2931  0.0     1.6428  0.000000  0.128413  0.791524  ...  0.284852  18.299999   \n",
       "\n",
       "         w15bar    w3rdbar        EPS               Texture   HydGroup   \n",
       "0      9.581577  18.894158   8.041514       fine sandy loam          B  \\\n",
       "1      9.581577  18.894158   8.041514       fine sandy loam          B   \n",
       "2      9.581577  18.894158   8.041514       fine sandy loam          B   \n",
       "3      9.581577  18.894158   8.041514       fine sandy loam          B   \n",
       "4      9.581577  18.894158   8.041514       fine sandy loam          B   \n",
       "...         ...        ...        ...                   ...        ...   \n",
       "2927  15.541122  27.268363  11.127720             clay loam          D   \n",
       "2928  11.601643  21.822191  10.938978                  loam          D   \n",
       "2929  19.708826  29.967614  12.895823             clay loam          D   \n",
       "2930  13.652598  25.233073  10.153777  ['clay loam' 'loam']  ['B' 'D']   \n",
       "2931  13.652598  25.233073  10.153777  ['clay loam' 'loam']  ['B' 'D']   \n",
       "\n",
       "            area_m2  CN  Avg_eff  \n",
       "0       3070.251429  78     87.5  \n",
       "1      26293.806839  78     87.5  \n",
       "2      25281.684921  78     87.5  \n",
       "3     106367.224265  78     77.5  \n",
       "4       7460.735058  78     87.5  \n",
       "...             ...  ..      ...  \n",
       "2927    3318.238554  89     75.0  \n",
       "2928   33819.337923  89     75.0  \n",
       "2929   47075.641215  89     87.5  \n",
       "2930  143673.683209  89     87.5  \n",
       "2931  143673.683209  78     87.5  \n",
       "\n",
       "[2824 rows x 21 columns]"
      ]
     },
     "execution_count": 70,
     "metadata": {},
     "output_type": "execute_result"
    }
   ],
   "source": [
    "soil_ag"
   ]
  },
  {
   "cell_type": "code",
   "execution_count": 44,
   "id": "9fc7c448",
   "metadata": {},
   "outputs": [],
   "source": [
    "# create an array of ETo values to surve as a proxy for bare soil ET\n",
    "# may need to add scaling factor, but this avoids excess infiltration in winter\n",
    "ETb_vals = ETc_all['Fair Oaks'].values\n",
    "ETb = np.repeat(np.reshape(ETb_vals, (len(ETb_vals), 1)), ETc.shape[1], axis=1)\n",
    "# where there is already crop ET, remove the extra ET\n",
    "ETb[ETc !=0] = 0"
   ]
  },
  {
   "cell_type": "markdown",
   "id": "bc066ea9-be8f-4ac9-945b-c47e289409d8",
   "metadata": {},
   "source": [
    "# Run the model\n",
    "The ETc, and rain will be preset inputs for the irrigation simulation (the ETc will be calculated when the crop is chosen at the start of the year).  \n",
    "The irrigation optimizer will be a function of crop - ETc, irrigation (variable calibrated)"
   ]
  },
  {
   "cell_type": "code",
   "execution_count": 67,
   "id": "78cdac8f",
   "metadata": {},
   "outputs": [],
   "source": [
    "def swb():\n",
    "    global wc, pc, rp, ETa, AW\n",
    "\n",
    "    tic = time.time()\n",
    "    \n",
    "    wc = np.zeros((nper+1, nfield)) # water content, add initial conditions with +1\n",
    "    pc = np.zeros((nper, nfield)) # percolation\n",
    "    rp = np.zeros((nper, nfield)) # runoff \n",
    "    ETa = np.zeros((nper, nfield)) # actual ET\n",
    "    AW = np.zeros((nper, nfield)) # applied water\n",
    "    wb_sum= np.zeros((nper, nfield)) # water budget check\n",
    "    # time units are days for everything\n",
    "    \n",
    "    # WC starts at field content for ag fields and wilting point for non ag\n",
    "    wc[0] = wc_wp\n",
    "    wc[0, ag_arr] = wc_f[ag_arr]\n",
    "#     n is for BC, ns is for storage\n",
    "    # -1 starts at IC for BC\n",
    "    for ns, n in enumerate(np.arange(-1, nper-1)):\n",
    "        # calculate soil saturation as water content can be greater than porosity assuming it represents ponding\n",
    "        sat = wc[ns]/soil_por\n",
    "        sat  = np.where(sat>1, 1, sat)\n",
    "        ## Runoff ##\n",
    "        S = calc_S(wc[ns], Smax, wc_f, soil_por)\n",
    "        water_in = rain[n+1] \n",
    "        # calculate runoff only when there is rain, and rain is uniform\n",
    "        if (water_in>0).any():\n",
    "            rp[n+1] = ((water_in - 0.2*S)**2)/(water_in + 0.8*S)\n",
    "        # where rainfall is less than initial abstraction (0.2S) set runoff as 0\n",
    "        rp[n+1] = np.where(water_in<0.2*S, 0, rp[n+1])\n",
    "        ## explicit percolation ##\n",
    "        pc[n+1] = soil_Ks*(sat)*(1- (1-(sat)**(1/soil_m))**soil_m)**2\n",
    "        # stepwise water budget, explicit to avoid iteration\n",
    "        # add rain and take away runoff first\n",
    "        wc[ns+1] = (wc[ns]*soildepth + (water_in - rp[n+1]))/soildepth\n",
    "        # add irrigation with the assumption it is designed to limit runoff\n",
    "        AW[n+1] = ETc[n+1]/irr_eff\n",
    "#         AW[n+1] = 0\n",
    "        wc[ns+1] = wc[ns+1] + AW[n+1]/soildepth\n",
    "        # take away ET, add term to prevent going to zero\n",
    "        ET = ETc[n+1] #+ ETb[n+1] # ET will be from crops or bare soil (off season)\n",
    "        ETa[n+1] = np.where(ET <= wc[ns+1]*soildepth, ET, wc[ns+1]*soildepth - 1E-9)\n",
    "        wc[ns+1] = wc[ns+1] + (-ETa[n+1])/soildepth\n",
    "        # take away percolation\n",
    "        pc[n+1] = np.where(pc[n+1] <= wc[ns+1]*soildepth, pc[n+1], wc[ns+1]*soildepth - 1E-9)\n",
    "        wc[ns+1] = wc[ns+1] + (-pc[n+1])/soildepth\n",
    "        # check water budget error\n",
    "        wb_sum[n+1] = (wc[ns]-wc[ns+1])*soildepth + water_in + AW[n+1] - rp[n+1] - ETa[n+1] - pc[n+1] \n",
    "        if (wb_sum[n+1]>1E-3).any()|(wb_sum[n+1]<-1E-3).any():\n",
    "            print('WB error exceeds 1E-3',n )\n",
    "            \n",
    "    toc = time.time()\n",
    "    print('Run time was %.2f minutes' %((toc-tic)/60))\n",
    "    print('Avg WB error was %.2E m' % wb_sum.sum(axis=(1)).mean())"
   ]
  },
  {
   "cell_type": "code",
   "execution_count": 48,
   "id": "d734c28d",
   "metadata": {},
   "outputs": [
    {
     "data": {
      "text/plain": [
       "array([0.875, 0.875, 0.875, ..., 0.875, 0.875, 0.875])"
      ]
     },
     "execution_count": 48,
     "metadata": {},
     "output_type": "execute_result"
    }
   ],
   "source": [
    "irr_eff"
   ]
  },
  {
   "cell_type": "code",
   "execution_count": 46,
   "id": "279afb56",
   "metadata": {},
   "outputs": [
    {
     "data": {
      "text/plain": [
       "1"
      ]
     },
     "execution_count": 46,
     "metadata": {},
     "output_type": "execute_result"
    }
   ],
   "source": [
    "# there is never double ET, ETb is for when Kc==0\n",
    "((ETc>0).astype(int)+(ETb>0).astype(int)).max()"
   ]
  },
  {
   "cell_type": "code",
   "execution_count": 68,
   "id": "152385e2",
   "metadata": {},
   "outputs": [
    {
     "name": "stdout",
     "output_type": "stream",
     "text": [
      "Run time was 0.04 minutes\n",
      "Avg WB error was 4.42E-15 m\n"
     ]
    }
   ],
   "source": [
    "swb()"
   ]
  },
  {
   "cell_type": "code",
   "execution_count": 53,
   "id": "a73a2ba5",
   "metadata": {},
   "outputs": [
    {
     "data": {
      "text/plain": [
       "(0.0, 0.0798)"
      ]
     },
     "execution_count": 53,
     "metadata": {},
     "output_type": "execute_result"
    }
   ],
   "source": [
    "AW.max(),rain.max()"
   ]
  },
  {
   "cell_type": "code",
   "execution_count": 69,
   "id": "362969c2",
   "metadata": {},
   "outputs": [
    {
     "name": "stderr",
     "output_type": "stream",
     "text": [
      "No artists with labels found to put in legend.  Note that artists whose label start with an underscore are ignored when legend() is called with no argument.\n"
     ]
    },
    {
     "data": {
      "text/plain": [
       "<matplotlib.legend.Legend at 0x18d00336ad0>"
      ]
     },
     "execution_count": 69,
     "metadata": {},
     "output_type": "execute_result"
    },
    {
     "data": {
      "image/png": "[encoded data removed]",
      "text/plain": [
       "<Figure size 640x480 with 5 Axes>"
      ]
     },
     "metadata": {},
     "output_type": "display_data"
    }
   ],
   "source": [
    "fig,ax = plt.subplots(5,1,sharex=True)\n",
    "ax[0].plot(rain)\n",
    "ax[0].plot(AW.mean(axis=(1)))\n",
    "ax[1].plot(rp.mean(axis=(1)))\n",
    "ax[2].plot(ETa.mean(axis=(1)))\n",
    "ax[3].plot(pc.mean(axis=(1)))\n",
    "ax[4].plot(wc.mean(axis=(1)))\n",
    "\n",
    "for n, l in enumerate(['Rain/\\nIrrigation','Runoff','ET','Perc','WC']):\n",
    "    ax[n].set_ylabel(l)\n",
    "ax[0].legend()"
   ]
  },
  {
   "cell_type": "markdown",
   "id": "88e23b44",
   "metadata": {},
   "source": [
    "## Save Output"
   ]
  },
  {
   "cell_type": "code",
   "execution_count": 21,
   "id": "5dadd9b7",
   "metadata": {},
   "outputs": [],
   "source": [
    "\n",
    "import h5py\n",
    "\n",
    "def arr_to_h5(arr, h5_fn):\n",
    "    # convert arrays of annual rates to hdf5 files individually\n",
    "    f = h5py.File(h5_fn, \"w\")\n",
    "    grp = f.require_group('array') # makes sure group exists\n",
    "    grp.attrs['units'] = 'meters/day'\n",
    "    grp.attrs['description'] = 'Each layer of the array is a day in the water year'\n",
    "    dset = grp.require_dataset('WY', arr.shape, dtype='f', compression=\"gzip\", compression_opts=4)\n",
    "    dset[:] = arr\n",
    "    f.close()\n",
    "    \n"
   ]
  },
  {
   "cell_type": "code",
   "execution_count": 123,
   "id": "5267af0c-0645-49e1-b5cf-5b1e56bbdbdd",
   "metadata": {},
   "outputs": [],
   "source": [
    "# years and array index \n",
    "years = pd.date_range(strt_date,end_date,freq='AS-Oct')\n",
    "yr_ind = (years-strt_date).days\n"
   ]
  },
  {
   "cell_type": "code",
   "execution_count": 124,
   "id": "84e76cf9",
   "metadata": {},
   "outputs": [],
   "source": [
    "\n",
    "# need separte hdf5 for each year because total is 300MB\n",
    "for n in np.arange(0,len(yr_ind)-1):\n",
    "    arr = pc[yr_ind[n]:yr_ind[n+1]]\n",
    "    fn = join(model_ws,\"field_percolation_WY\"+str(years[n].year+1)+\".hdf5\")\n",
    "    arr_to_h5(arr, fn)\n",
    "\n",
    "    # applied water \n",
    "    arr = AW[yr_ind[n]:yr_ind[n+1]]\n",
    "    fn = join(uzf_dir, 'basic_soil_budget',\"field_applied_water_WY\"+str(years[n].year+1)+\".hdf5\")\n",
    "    arr_to_h5(arr, fn)"
   ]
  },
  {
   "cell_type": "markdown",
   "id": "abfc08ea",
   "metadata": {},
   "source": [
    "## Review precip vs percolation"
   ]
  },
  {
   "cell_type": "code",
   "execution_count": 45,
   "id": "ca7a9b14",
   "metadata": {},
   "outputs": [
    {
     "name": "stdout",
     "output_type": "stream",
     "text": [
      "Perc 2.70e+04, Rain 3.39E+05, Frac 0.08\n",
      "Perc 1.60e+05, Rain 4.83E+05, Frac 0.33\n",
      "Perc 9.60e+04, Rain 3.07E+05, Frac 0.31\n",
      "Perc 7.89e+04, Rain 3.71E+05, Frac 0.21\n",
      "Perc 7.65e+04, Rain 3.59E+05, Frac 0.21\n",
      "Perc 7.56e+04, Rain 3.07E+05, Frac 0.25\n",
      "Perc 1.30e+05, Rain 4.87E+05, Frac 0.27\n",
      "Perc 1.64e+05, Rain 5.08E+05, Frac 0.32\n",
      "Perc 4.96e+04, Rain 2.62E+05, Frac 0.19\n",
      "Perc 5.08e+04, Rain 2.40E+05, Frac 0.21\n",
      "Perc 5.69e+04, Rain 3.12E+05, Frac 0.18\n",
      "Perc 7.73e+04, Rain 3.58E+05, Frac 0.22\n",
      "Perc 1.58e+05, Rain 5.38E+05, Frac 0.29\n",
      "Perc 6.39e+04, Rain 3.13E+05, Frac 0.20\n",
      "Perc 6.77e+04, Rain 2.94E+05, Frac 0.23\n",
      "Perc 4.37e+04, Rain 2.92E+05, Frac 0.15\n",
      "Perc 5.19e+04, Rain 2.87E+05, Frac 0.18\n",
      "Perc 6.59e+04, Rain 3.25E+05, Frac 0.20\n",
      "Perc 2.22e+05, Rain 7.01E+05, Frac 0.32\n",
      "Perc 8.53e+04, Rain 4.50E+05, Frac 0.19\n",
      "Perc 1.62e+05, Rain 5.76E+05, Frac 0.28\n",
      "Perc 5.36e+04, Rain 3.01E+05, Frac 0.18\n"
     ]
    }
   ],
   "source": [
    "chk = pc.sum(axis=(1,2))*200*200/((0.3048**3)*43560)\n",
    "chk1 = rain_arr.sum(axis=(1,2))*200*200/((0.3048**3)*43560)\n",
    "\n",
    "for n in np.arange(0,len(yr_ind)-1):\n",
    "    print('Perc %.2e'%(chk[yr_ind[n]:yr_ind[n+1]]).sum(), end=', ')\n",
    "    print('Rain %.2E' %(chk1[yr_ind[n]:yr_ind[n+1]].sum()), end=', ')\n",
    "    print('Frac %.2f'%(chk[yr_ind[n]:yr_ind[n+1]].sum()/chk1[yr_ind[n]:yr_ind[n+1]].sum()))\n"
   ]
  }
 ],
 "metadata": {
  "kernelspec": {
   "display_name": "Python 3 (ipykernel)",
   "language": "python",
   "name": "python3"
  },
  "language_info": {
   "codemirror_mode": {
    "name": "ipython",
    "version": 3
   },
   "file_extension": ".py",
   "mimetype": "text/x-python",
   "name": "python",
   "nbconvert_exporter": "python",
   "pygments_lexer": "ipython3",
   "version": "3.11.0"
  }
 },
 "nbformat": 4,
 "nbformat_minor": 5
}
