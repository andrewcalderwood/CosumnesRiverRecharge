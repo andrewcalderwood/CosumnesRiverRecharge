{
 "cells": [
  {
   "cell_type": "markdown",
   "id": "1c97e4bd",
   "metadata": {},
   "source": [
    "Code to build a basic soil water budget model based on the mathematical equations used by IDC with simplification as here the key is identifying percolation rather than applied water."
   ]
  },
  {
   "cell_type": "code",
   "execution_count": null,
   "id": "9c5bdd5c",
   "metadata": {},
   "outputs": [],
   "source": [
    "# standard python utilities\n",
    "import os\n",
    "from os.path import join, exists, dirname, basename\n",
    "import glob\n",
    "import sys\n",
    "import time\n",
    "\n",
    "import pandas as pd\n",
    "import numpy as np\n",
    "\n",
    "import h5py\n",
    "\n",
    "# standard python plotting utilities\n",
    "import matplotlib as mpl\n",
    "import matplotlib.pyplot as plt\n",
    "\n",
    "# standard geospatial python utilities\n",
    "import shapely\n",
    "import geopandas as gpd\n",
    "\n"
   ]
  },
  {
   "cell_type": "code",
   "execution_count": null,
   "id": "02f105bc",
   "metadata": {},
   "outputs": [],
   "source": [
    "doc_dir = os.getcwd()\n",
    "while os.path.basename(doc_dir) != 'Documents':\n",
    "    doc_dir = os.path.dirname(doc_dir)\n",
    "# dir of all gwfm data\n",
    "gwfm_dir = os.path.dirname(doc_dir)+'/Box/research_cosumnes/GWFlowModel'\n",
    "gwfm_dir\n",
    "dis_dir = join(gwfm_dir, 'DIS_data')\n",
    "uzf_dir = join(gwfm_dir,'UZF_data')"
   ]
  },
  {
   "cell_type": "code",
   "execution_count": null,
   "id": "17f33707",
   "metadata": {},
   "outputs": [],
   "source": [
    "grid_uzf = gpd.read_file(uzf_dir+'/final_grid_uzf/griduzf.shp')"
   ]
  },
  {
   "cell_type": "code",
   "execution_count": null,
   "id": "ed6e4829-44a5-4b3b-b391-e0881e07a99d",
   "metadata": {},
   "outputs": [],
   "source": [
    "dem_data = np.loadtxt(gwfm_dir+'/DIS_data/dem_52_9_200m_mean.tsv')\n"
   ]
  },
  {
   "cell_type": "code",
   "execution_count": null,
   "id": "706435e9",
   "metadata": {},
   "outputs": [],
   "source": [
    "nrow,ncol = (100, 230)"
   ]
  },
  {
   "cell_type": "code",
   "execution_count": null,
   "id": "cee51603",
   "metadata": {},
   "outputs": [],
   "source": [
    "# slope doesn't provide clear guidance on differentiating foothills\n",
    "slope_gdf = gpd.read_file(join(gwfm_dir, 'DIS_data', 'grid_zonal_stats','slope_percentage_statistics.shp'))\n",
    "\n",
    "slope = np.zeros((nrow,ncol))\n",
    "slope[slope_gdf.row-1, slope_gdf.column-1] = slope_gdf['mean']\n"
   ]
  },
  {
   "cell_type": "code",
   "execution_count": null,
   "id": "383b4725",
   "metadata": {},
   "outputs": [],
   "source": [
    "def fill_uzf(uzfvalues, grid_uzf):\n",
    "#     temp = np.zeros((nrow,ncol))\n",
    "    temp = np.full((nrow,ncol),np.nan, dtype = uzfvalues.dtype)\n",
    "    temp[grid_uzf.row.values-1,grid_uzf.column.values-1] = uzfvalues\n",
    "    return(temp)"
   ]
  },
  {
   "cell_type": "code",
   "execution_count": null,
   "id": "35f23c36",
   "metadata": {},
   "outputs": [],
   "source": [
    "soil_dir = join(uzf_dir, 'final_soil_arrays')\n",
    "soil_Ks_Rep = np.loadtxt(soil_dir+'/final_soilKs.tsv', delimiter = '\\t')\n",
    "soil_por = np.loadtxt(soil_dir+'/final_soiln.tsv', delimiter = '\\t')/100\n",
    "soil_eps = np.loadtxt(soil_dir+'/final_soileps.tsv', delimiter = '\\t')\n"
   ]
  },
  {
   "cell_type": "code",
   "execution_count": null,
   "id": "c1e68888",
   "metadata": {},
   "outputs": [],
   "source": [
    "soil_Ks_Low = fill_uzf(grid_uzf.Ksat_Low, grid_uzf)\n",
    "# when soil_K_low is missing using a substitute of Ksat/10\n",
    "soil_Ks = np.where(soil_Ks_Low==0, soil_Ks_Rep/10, soil_Ks_Low)\n"
   ]
  },
  {
   "cell_type": "code",
   "execution_count": null,
   "id": "1d6eca08",
   "metadata": {},
   "outputs": [],
   "source": [
    "plt.imshow(soil_Ks, norm = mpl.colors.LogNorm())\n",
    "plt.colorbar(shrink=0.5)"
   ]
  },
  {
   "cell_type": "markdown",
   "id": "33940e5f",
   "metadata": {},
   "source": [
    "The soil Curve number array doesn't account for slope so we need to account for this by scaling by elevation or slope. Elevation covers the foothills, but slope more realistically is what controls lower infiltration areas.  \n",
    "\n",
    "Based on HOB output the wells that match the recharge pulse the best are those in the floodplain which should only rebound due to floodplain inundation and the fact that they match shows that the soil water budget is overestimating recharge. Need to reduce recharge across the domain\n",
    "- the soil low conductivity is generally 10 to 20 times lower than the representative value, except reducing the conductivity only reduced the grid sum, time averaged recharge by 10%.\n",
    "\n",
    "It seems that recharge is not as greatly impacted by conductivity as I thought. "
   ]
  },
  {
   "cell_type": "code",
   "execution_count": null,
   "id": "205d3446",
   "metadata": {},
   "outputs": [],
   "source": [
    "# newly created 4/6/2023 to tamp down overestimates of recharge in foothills\n",
    "soilCN_arr = np.loadtxt(join(soil_dir, 'final_soil_CN.csv'),  delimiter=',')\n",
    "# temporary fix, CN can never be zero\n",
    "soilCN_arr = np.where(soilCN_arr==0, soilCN_arr[soilCN_arr>0].min(), soilCN_arr)\n",
    "# adding this extra scaling didn't significantly change the spatial distribution in wet years\n",
    "# adjust CN so that the foothills have more runoff, 56m is same cutoff as in model for deep geology\n",
    "# soilCN_arr[dem_data>56] = 89 # max value of curve numbers\n",
    "soilCN_arr[slope>3] = 89 # max value of curve numbers"
   ]
  },
  {
   "cell_type": "code",
   "execution_count": null,
   "id": "728eddb9",
   "metadata": {},
   "outputs": [],
   "source": [
    "soilRC_arr = np.loadtxt(join(soil_dir, 'final_soil_runoff_coeff.csv'),  delimiter=',')\n",
    "# temporary fix, CN can never be zero\n",
    "soilRC_arr = np.where(soilRC_arr==0, soilRC_arr[soilRC_arr>0].min(), soilRC_arr)"
   ]
  },
  {
   "cell_type": "code",
   "execution_count": null,
   "id": "27683a41",
   "metadata": {},
   "outputs": [],
   "source": [
    "irr_eff = np.loadtxt(join(soil_dir, 'static_irrigation_efficiency.csv'), delimiter=',')\n",
    "# convert irrigation efficiencies to a multiplier where if no crop exists the irrigation is 0\n",
    "eff_mult = 1/np.ma.masked_where(irr_eff==0, irr_eff, )\n",
    "eff_mult[irr_eff==0] = 0\n",
    "eff_mult = eff_mult.data"
   ]
  },
  {
   "cell_type": "code",
   "execution_count": null,
   "id": "0cce96f5",
   "metadata": {},
   "outputs": [],
   "source": [
    "fig,ax=plt.subplots(2,1)\n",
    "# I could add runoff coefficients to further reduce infiltration in the foothills\n",
    "im=ax[0].imshow(soilRC_arr)\n",
    "plt.colorbar(im,shrink=0.5)\n",
    "\n",
    "im=ax[1].imshow(soilCN_arr)\n",
    "plt.colorbar(im,shrink=0.5)"
   ]
  },
  {
   "cell_type": "markdown",
   "id": "254a1653",
   "metadata": {},
   "source": [
    "The curve number is dominantly influenced by land use and hydrologic condition. The runoff coefficient includes more influence from slope which is necessary in the model to reduce excess recharge in the foothills. I could apply the runoff coefficients to the rainfall before applying to the SCS-CN method.\n",
    "\n",
    "Rather than apply runoff coefficients, I updated the CN input to choose Hydrologic Condition based on slope. Slope >3% was pooor and <3% was fair."
   ]
  },
  {
   "cell_type": "code",
   "execution_count": null,
   "id": "e4d2257e",
   "metadata": {},
   "outputs": [],
   "source": [
    "# strt_date = pd.to_datetime('2014-10-1')\n",
    "strt_date = pd.to_datetime('1998-10-1')\n",
    "end_date = pd.to_datetime('2020-9-30')\n",
    "dates = pd.date_range(strt_date, end_date)\n",
    "\n",
    "nrow, ncol = (100,230)"
   ]
  },
  {
   "cell_type": "code",
   "execution_count": null,
   "id": "14378857",
   "metadata": {},
   "outputs": [],
   "source": [
    "nrow_p,ncol_p = (100,230)\n",
    "def dwr_etc(strt_date, end_date):\n",
    "    nper_tr = (end_date-strt_date).days+1\n",
    "    natETc = np.zeros((nper_tr,nrow_p,ncol_p))\n",
    "    agETc = np.zeros((nper_tr,nrow_p,ncol_p))\n",
    "\n",
    "    per_n = 0 \n",
    "    for y in np.arange(strt_date.year, end_date.year+1):\n",
    "        # set start and end date for range for the year to be iterated over\n",
    "        yr_strt = pd.to_datetime(str(y)+'-01-01')\n",
    "        yr_end = pd.to_datetime(str(y)+'-12-31')\n",
    "        # get the length of the date range needed for that year\n",
    "        yearlen = len(pd.date_range(yr_strt, yr_end))\n",
    "        if yr_strt < strt_date:\n",
    "            yr_strt = strt_date\n",
    "        if yr_end > end_date:\n",
    "            yr_end = end_date\n",
    "        yr_len = len(pd.date_range(yr_strt, yr_end))\n",
    "        # load hdf5 files\n",
    "        f_irr = h5py.File(join(uzf_dir, \"dwr_ETc/irrigated_\"+str(y)+\".hdf5\"), \"r\")\n",
    "        agETc[per_n:per_n+yr_len,:,:] = f_irr['array'][str(y)][:][yr_strt.dayofyear-1:yr_end.dayofyear,:,:]\n",
    "        f_irr.close()\n",
    "        f_nat = h5py.File(join(uzf_dir, \"dwr_ETc/native_\"+str(y)+\".hdf5\"), \"r\")\n",
    "        natETc[per_n:per_n+yr_len,:,:] = f_nat['array'][str(y)][:][yr_strt.dayofyear-1:yr_end.dayofyear,:,:]\n",
    "        f_nat.close()\n",
    "        per_n += yr_len\n",
    "    # make sure the return value is separate from the loop\n",
    "    return(agETc, natETc)"
   ]
  },
  {
   "cell_type": "markdown",
   "id": "e2fdb1db",
   "metadata": {},
   "source": [
    "Part of the issue with evapotranspiratoin is that in the foothills there are spots with no ET so there is nothing to use up water in the soil zone, thus all the water percolates especially in areas of thicker soil.\n",
    "- One solution in the foothills would be to fill in the spots based on nearby data as I know there has to be some evapotranspiration"
   ]
  },
  {
   "cell_type": "code",
   "execution_count": null,
   "id": "02a2c2b5",
   "metadata": {},
   "outputs": [],
   "source": [
    "agETc, natETc = dwr_etc(strt_date, end_date)\n",
    "# net ETc should be ETc from ag and native plants joined\n",
    "ETc_in = agETc + natETc\n",
    "\n",
    "# reference for cells with agriculture which have slightly different rules\n",
    "ag_arr = agETc.sum(axis=0)>0\n"
   ]
  },
  {
   "cell_type": "code",
   "execution_count": null,
   "id": "7a4257c6",
   "metadata": {},
   "outputs": [],
   "source": [
    "ETc = np.copy(ETc_in)\n",
    "# fill in the et in missing spots with the median ET in the foothill\n",
    "# usually 56 m is set for foothills, 50 m includes a slightly larger area\n",
    "for t in np.arange(0, len(ETc)):\n",
    "    ETc[t, dem_data>50] = np.median(ETc_in[t, dem_data>50])"
   ]
  },
  {
   "cell_type": "code",
   "execution_count": null,
   "id": "15498c8a",
   "metadata": {},
   "outputs": [],
   "source": [
    "# plt.imshow(dem_data>50)"
   ]
  },
  {
   "cell_type": "code",
   "execution_count": null,
   "id": "386f3a32",
   "metadata": {},
   "outputs": [],
   "source": [
    "plt.imshow(ETc.mean(axis=0))\n",
    "plt.colorbar(shrink=0.5)"
   ]
  },
  {
   "cell_type": "code",
   "execution_count": null,
   "id": "9313e1e6",
   "metadata": {},
   "outputs": [],
   "source": [
    "## Potential ETo spatial interpolation from CIMIS\n",
    "fn = glob.glob(join(uzf_dir,'CIMIS','Cosumnes_dailyET_precip*.csv'))\n",
    "daily_data = pd.DataFrame()\n",
    "for file in fn:\n",
    "    new_data = pd.read_csv(file, index_col = ['Date'], parse_dates = True)\n",
    "    daily_data = pd.concat((daily_data, new_data))\n",
    "# units of mm\n",
    "data_in = daily_data[daily_data['Stn Name']=='Fair Oaks']\n",
    "# clean up data so columns are by location, units of Precip are in mm\n",
    "rain_in = data_in.pivot_table(index = 'Date', columns = 'Stn Name', values = 'Precip (mm)')\n",
    "rain_m = rain_in/1000\n",
    "\n",
    "# create array for every period of rainfall\n",
    "rain_df = rain_m[strt_date:end_date].resample('D').interpolate('linear')['Fair Oaks']\n",
    "rain_arr = np.repeat(np.repeat(np.reshape(rain_df.values, (rain_df.shape[0],1,1)), nrow, axis=1),ncol, axis=2)\n"
   ]
  },
  {
   "cell_type": "code",
   "execution_count": null,
   "id": "576394e8",
   "metadata": {},
   "outputs": [],
   "source": [
    "# load in pre-processed array of ETc for all time\n",
    "ETc_long = pd.read_hdf(join(uzf_dir, \"dwr_ETc\",'long_ETc_all_lu.hdf5'), key='variable')\n",
    "# convert to column format\n",
    "ETc_all = ETc_long.pivot(columns='variable', values='value')\n",
    "\n",
    "# subset for model period\n",
    "ETc_all = ETc_all[strt_date:end_date]\n",
    "# fill in empty dates with interpolation (temporary since corn dates are slightly different)\n",
    "ETc_all = ETc_all.reindex(dates)\n"
   ]
  },
  {
   "cell_type": "markdown",
   "id": "e3858faa",
   "metadata": {},
   "source": [
    "If we need to remove ET from each step then we should reduce the number of crops used to simplify calculations unless the code runs quickly for all cells.\n",
    "- Need to assume initial water content of 0. \n",
    " \n",
    "* water content can't exceed porosity. It is assumed that θ can be computed to be greater than θT, and the difference between the θ and θT represents the depth of the pond."
   ]
  },
  {
   "cell_type": "markdown",
   "id": "1ebe5753",
   "metadata": {},
   "source": [
    "Soil water budget equation simplified.  \n",
    "$ \\theta^{t+1} Z = \\theta^{t} Z + \\Delta t(P^{t} - R_p^{t} - P_c^{t} - ET^{t}) $  \n",
    "where P = precip, Rp = runoff, P_c = percolation and ET = evapotranspiration  \n",
    "\n",
    "Percolation equation from IDC per Mualem and van Genuchten.  \n",
    "$ P_{C}^{t} = K_{s} (\\frac{\\theta^{t}}{\\theta_T})[1 -(1-(\\frac{\\theta^{t}}{\\theta_T})^{1/m})^m]^2 $  \n",
    "Could convert to the explicit form, by using water content from the previous period.\n",
    "\n",
    "Runoff based on SCS-CN method  \n",
    "$ R_p = \\frac{1}{\\Delta t}\\frac{(P\\Delta t-0.2S)^2}{P\\Delta t+0.8S}$  \n",
    "$ S = S_{max} (1- \\frac{\\theta^t - \\theta_f/2}{\\theta_T - \\theta_f/2}) $ when $\\theta^t >\\theta_f/2 $  \n",
    "$ S = S_{max}  $ when $\\theta^t <\\theta_f/2 $  \n",
    "$ S_{max} = \\frac{1000}{CN} - 10 $  \n",
    "S  is the potential maximum soil retention in inches.  \n",
    "IDC manual didn't specify this, but per the HEC-HMS guide on CNs the runoff is 0 when precipitation is less than initial abstraction which is assigned as $I_a = rS$  where $0.05 < r <0.2$"
   ]
  },
  {
   "cell_type": "code",
   "execution_count": null,
   "id": "2375950c",
   "metadata": {},
   "outputs": [],
   "source": [
    "soildepth = fill_uzf(grid_uzf.SoilDepth, grid_uzf)\n",
    "psdi =  fill_uzf(grid_uzf.PSDI, grid_uzf)\n",
    "# parameter for Mualem, van Genuchten\n",
    "soil_m = psdi/(psdi+1)\n",
    "wc_f =  fill_uzf(grid_uzf.w3rdbar, grid_uzf)/100 #field capacity\n",
    "wc_wp =  fill_uzf(grid_uzf.w15bar, grid_uzf)/100 # wilting point\n",
    "\n",
    "# for runoff, convert CN from fraction to CN\n",
    "Smax = (1000/soilCN_arr) - 10"
   ]
  },
  {
   "cell_type": "code",
   "execution_count": null,
   "id": "ed1a78b8",
   "metadata": {},
   "outputs": [],
   "source": [
    "# plt.imshow(soilCN_arr)\n",
    "# plt.colorbar(shrink=0.5)\n",
    "# plt.show()\n",
    "# plt.imshow(soil_Ks)\n",
    "# plt.colorbar(shrink=0.5)\n",
    "# plt.show()\n",
    "# plt.imshow(slope>3)\n",
    "# plt.colorbar(shrink=0.5)"
   ]
  },
  {
   "cell_type": "code",
   "execution_count": null,
   "id": "debefd4e",
   "metadata": {},
   "outputs": [],
   "source": [
    "def calc_S(wc, Smax, wc_f, soil_por):\n",
    "    \"\"\" Given an array of water contents return potential soil retention\"\"\"\n",
    "    S = np.zeros((nrow,ncol))\n",
    "    # when water content is less than 1/2 field capacity, full retention\n",
    "    S[wc < wc_f/2] = Smax[wc < wc_f/2]\n",
    "    # wc > porosity then set as porosity for calculations (avoids S >1)\n",
    "    wc_calc = np.where(wc<soil_por, wc, soil_por)\n",
    "    # when water content is greater than 1/2 field capacity, partial retention \n",
    "    S1 = Smax * (1 - ((wc_calc - wc_f/2)/(soil_por - wc_f/2)))\n",
    "    S[wc >= wc_f/2]= S1[wc >= wc_f/2]\n",
    "    # convert S from inches to meters\n",
    "    S *= (0.3048/12)\n",
    "    return(S)"
   ]
  },
  {
   "cell_type": "code",
   "execution_count": null,
   "id": "df269a39",
   "metadata": {},
   "outputs": [],
   "source": [
    "# create an array of ETo values to surve as a proxy for bare soil ET\n",
    "# may need to add scaling factor, but this avoids excess infiltration in winter\n",
    "ETb_vals = ETc_all['Fair Oaks'].values\n",
    "ETb = np.repeat(np.repeat(np.reshape(ETb_vals, (len(ETb_vals), 1, 1)), ETc.shape[1], axis=1), ETc.shape[2], axis=2)\n",
    "# where there is already crop ET, remove the extra ET\n",
    "ETb[ETc !=0] = 0"
   ]
  },
  {
   "cell_type": "markdown",
   "id": "bc066ea9-be8f-4ac9-945b-c47e289409d8",
   "metadata": {},
   "source": [
    "# Run the model"
   ]
  },
  {
   "cell_type": "code",
   "execution_count": null,
   "id": "78cdac8f",
   "metadata": {},
   "outputs": [],
   "source": [
    "tic = time.time()\n",
    "nper = (end_date-strt_date).days +1\n",
    "wc = np.zeros((nper+1, nrow, ncol)) # water content, add initial conditions with +1\n",
    "pc = np.zeros((nper, nrow, ncol)) # percolation\n",
    "rp = np.zeros((nper, nrow, ncol)) # runoff \n",
    "ETa = np.zeros((nper, nrow, ncol)) # actual ET\n",
    "AW = np.zeros((nper, nrow, ncol)) # applied water\n",
    "wb_sum= np.zeros((nper, nrow, ncol)) # water budget check\n",
    "# time units are days for everything\n",
    "\n",
    "# WC starts at field content for ag fields and wilting point for non ag\n",
    "wc[0] = wc_wp\n",
    "wc[0, ag_arr] = wc_f[ag_arr]\n",
    "# -1 starts at IC\n",
    "#     n is for BC, ns is for storage\n",
    "for ns, n in enumerate(np.arange(-1, nper-1)):\n",
    "# for n in np.arange(-1, nper-1):\n",
    "    # calculate soil saturation as water content can be greater than porosity assuming it represents ponding\n",
    "    sat = wc[ns]/soil_por\n",
    "    sat  = np.where(sat>1, 1, sat)\n",
    "    ## Runoff ##\n",
    "    S = calc_S(wc[ns], Smax, wc_f, soil_por)\n",
    "    # calculate runoff only when there is rain, and rain is uniform\n",
    "    if (rain_arr[n+1]>0).any():\n",
    "        rp[n+1] = ((rain_arr[n+1] - 0.2*S)**2)/(rain_arr[n+1] + 0.8*S)\n",
    "    # where rainfall is less than initial abstraction (0.2S) set runoff as 0\n",
    "    rp[n+1] = np.where(rain_arr[n+1]<0.2*S, 0, rp[n+1])\n",
    "    ## explicit percolation ##\n",
    "    pc[n+1] = soil_Ks*(sat)*(1- (1-(sat)**(1/soil_m))**soil_m)**2\n",
    "    # water budget - all at once would require iteration\n",
    "#     wc[ns+1] = (wc[ns]*soildepth + (rain_arr[n+1] - rp[n+1] - pc[n+1] - ETc[n+1]))/soildepth\n",
    "#     wc[ns+1] = np.where(wc[ns+1]<0,0,wc[ns+1])\n",
    "    # stepwise water budget, explicit to avoid iteration\n",
    "    # take away runoff first\n",
    "    wc[ns+1] = (wc[ns]*soildepth + (rain_arr[n+1] - rp[n+1]))/soildepth\n",
    "    # add irrigation with the assumption it is designed to limit runoff\n",
    "    AW[n+1] = agETc[n+1]*eff_mult\n",
    "#     AW[n+1] = 0\n",
    "    wc[ns+1] = wc[ns+1] + AW[n+1]/soildepth\n",
    "    # take away ET, add term to prevent going to zero\n",
    "    ET = ETc[n+1] #+ ETb[n+1] # ET will be from crops or bare soil (off season)\n",
    "    ETa[n+1] = np.where(ET <= wc[ns+1]*soildepth, ET, wc[ns+1]*soildepth - 1E-9)\n",
    "    # take away ET, add term to prevent going to zero\n",
    "#     ETa[n+1] = np.where(ETc[n+1] <= wc[ns+1]*soildepth, ETc[n+1], wc[ns+1]*soildepth - 1E-9)\n",
    "    wc[ns+1] = wc[ns+1] + (-ETa[n+1])/soildepth\n",
    "    # take away percolation\n",
    "    pc[n+1] = np.where(pc[n+1] <= wc[ns+1]*soildepth, pc[n+1], wc[ns+1]*soildepth - 1E-9)\n",
    "    wc[ns+1] = wc[ns+1] + (-pc[n+1])/soildepth\n",
    "    # check water budget error\n",
    "    wb_sum[n+1] = (wc[ns]-wc[ns+1])*soildepth + rain_arr[n+1] + AW[n+1] - rp[n+1] - ETa[n+1] - pc[n+1]\n",
    "    if (wb_sum[n+1]>1E-3).any()|(wb_sum[n+1]<-1E-3).any():\n",
    "        print('WB error exceeds 1E-3',n )\n",
    "toc = time.time()\n",
    "print('Run time was %.2f minutes' %((toc-tic)/60))\n",
    "print('Avg WB error was %.2E m' % wb_sum.sum(axis=(1,2)).mean())"
   ]
  },
  {
   "cell_type": "code",
   "execution_count": null,
   "id": "dc3f83f9",
   "metadata": {},
   "outputs": [],
   "source": [
    "# plt.plot(ETb.mean(axis=(1,2)))"
   ]
  },
  {
   "cell_type": "code",
   "execution_count": null,
   "id": "8edd3deb",
   "metadata": {},
   "outputs": [],
   "source": [
    "last2 = ETc[-365*2:]\n",
    "# last2 = AW[-720:]\n",
    "plt.imshow(last2.mean(axis=0))\n",
    "plt.show()\n",
    "last2_ts = last2[:, 40:80,10:40].mean(axis=(1,2))\n",
    "plt.plot(last2_ts)\n",
    "last2_ts = last2[:, :,:].mean(axis=(1,2))\n",
    "plt.plot(last2_ts)"
   ]
  },
  {
   "cell_type": "code",
   "execution_count": null,
   "id": "1e3f87a5",
   "metadata": {},
   "outputs": [],
   "source": [
    "# n = 32\n",
    "# chk = -(wc[n] - wc[n-1])*soildepth + rain_arr[n] - rp[n] - ETa[n] - pc[n]\n",
    "# chk.max()\n",
    "# (wc[n] - wc[n-1])*soildepth"
   ]
  },
  {
   "cell_type": "code",
   "execution_count": null,
   "id": "edd956ed",
   "metadata": {},
   "outputs": [],
   "source": [
    "# n=14\n",
    "# S = calc_S(wc[n], Smax, wc_f, soil_por)\n",
    "# rp = ((rain_arr[n] - 0.2*S)**2)/(rain_arr[n] + 0.8*S)\n",
    "\n"
   ]
  },
  {
   "cell_type": "code",
   "execution_count": null,
   "id": "401b238e",
   "metadata": {},
   "outputs": [],
   "source": [
    "# plt.imshow(np.nanmean(ETb, axis=0))\n",
    "# plt.colorbar(shrink=0.5)"
   ]
  },
  {
   "cell_type": "code",
   "execution_count": null,
   "id": "fcb289ce",
   "metadata": {},
   "outputs": [],
   "source": [
    "# # plt.plot(ETc.mean(axis=(1,2)))\n",
    "# # plt.plot(ETb.mean(axis=(1,2)))\n",
    "\n",
    "# plt.plot(agETc.mean(axis=(1,2)), label='agETc')\n",
    "# plt.plot(ETb[:,ag_arr].mean(axis=(1)), label='ag ETb', alpha=0.6)\n",
    "\n",
    "# plt.legend()"
   ]
  },
  {
   "cell_type": "markdown",
   "id": "bf09e321",
   "metadata": {},
   "source": [
    "The summed irrigation is less than ETc because not all of the land is irrigated. "
   ]
  },
  {
   "cell_type": "code",
   "execution_count": null,
   "id": "d628e3ed",
   "metadata": {},
   "outputs": [],
   "source": [
    "fig,ax = plt.subplots(6,1,sharex=True)\n",
    "ax[0].plot(rain_arr.mean(axis=(1,2)))\n",
    "ax[1].plot(rp.mean(axis=(1,2)))\n",
    "ax[2].plot(ETa.mean(axis=(1,2)))\n",
    "ax[3].plot(pc.mean(axis=(1,2)))\n",
    "ax[4].plot(wc.mean(axis=(1,2)))\n",
    "# plot irrigation and applied water for ag lands only\n",
    "ax[5].plot(ETa[:,ag_arr].mean(axis=(1)))\n",
    "ax[5].plot(AW[:,ag_arr].mean(axis=(1)))\n",
    "\n",
    "for n, l in enumerate(['Rain','Runoff','ET','Perc','WC', 'Irrig.']):\n",
    "    ax[n].set_ylabel(l)"
   ]
  },
  {
   "cell_type": "code",
   "execution_count": null,
   "id": "bd967409",
   "metadata": {},
   "outputs": [],
   "source": [
    "pc_noirr = pc.copy()"
   ]
  },
  {
   "cell_type": "markdown",
   "id": "88e23b44",
   "metadata": {},
   "source": [
    "## Save Output"
   ]
  },
  {
   "cell_type": "code",
   "execution_count": null,
   "id": "5dadd9b7",
   "metadata": {},
   "outputs": [],
   "source": [
    "\n",
    "import h5py\n",
    "\n",
    "def arr_to_h5(arr, h5_fn):\n",
    "    # convert arrays of annual rates to hdf5 files individually\n",
    "    with h5py.File(h5_fn, \"w\") as f:\n",
    "        grp = f.require_group('array') # makes sure group exists\n",
    "        grp.attrs['units'] = 'meters/day'\n",
    "        grp.attrs['description'] = 'Each layer of the array is a day in the water year'\n",
    "        dset = grp.require_dataset('WY', arr.shape, dtype='f', compression=\"gzip\", compression_opts=4)\n",
    "        dset[:] = arr\n",
    "    \n"
   ]
  },
  {
   "cell_type": "code",
   "execution_count": null,
   "id": "5267af0c-0645-49e1-b5cf-5b1e56bbdbdd",
   "metadata": {},
   "outputs": [],
   "source": [
    "# years and array index \n",
    "# include final year for specifying index then drop\n",
    "years = pd.date_range(strt_date,end_date+pd.DateOffset(years=1),freq='AS-Oct')\n",
    "yr_ind = (years-strt_date).days\n",
    "years = years[:-1]"
   ]
  },
  {
   "cell_type": "code",
   "execution_count": null,
   "id": "84e76cf9",
   "metadata": {},
   "outputs": [],
   "source": [
    "\n",
    "# need separte hdf5 for each year because total is 300MB\n",
    "# for n in np.arange(len(years)-1,len(years)):\n",
    "for n in np.arange(0,len(years)):\n",
    "    # deep percolation\n",
    "    arr = pc[yr_ind[n]:yr_ind[n+1]]\n",
    "    fn = join(uzf_dir, 'basic_soil_budget',\"percolation_WY\"+str(years[n].year+1)+\".hdf5\")\n",
    "    arr_to_h5(arr, fn)\n",
    "    # applied water \n",
    "    arr = AW[yr_ind[n]:yr_ind[n+1]]\n",
    "    fn = join(uzf_dir, 'basic_soil_budget',\"applied_water_WY\"+str(years[n].year+1)+\".hdf5\")\n",
    "    arr_to_h5(arr, fn)"
   ]
  },
  {
   "cell_type": "markdown",
   "id": "abfc08ea",
   "metadata": {},
   "source": [
    "## Review precip vs percolation"
   ]
  },
  {
   "cell_type": "code",
   "execution_count": null,
   "id": "ca7a9b14",
   "metadata": {},
   "outputs": [],
   "source": [
    "chk = pc.sum(axis=(1,2))*200*200/((0.3048**3)*43560)\n",
    "chk1 = rain_arr.sum(axis=(1,2))*200*200/((0.3048**3)*43560)\n",
    "\n",
    "for n in np.arange(0,len(yr_ind)-1):\n",
    "    print('Perc %.2e'%(chk[yr_ind[n]:yr_ind[n+1]]).sum(), end=', ')\n",
    "    print('Rain %.2E' %(chk1[yr_ind[n]:yr_ind[n+1]].sum()), end=', ')\n",
    "    print('Frac %.2f'%(chk[yr_ind[n]:yr_ind[n+1]].sum()/chk1[yr_ind[n]:yr_ind[n+1]].sum()))\n"
   ]
  },
  {
   "cell_type": "markdown",
   "id": "8c1c64d3",
   "metadata": {},
   "source": [
    "The addition of irrigation with extra to account for efficiency losses led to 2-3 times more deep percolation"
   ]
  },
  {
   "cell_type": "code",
   "execution_count": null,
   "id": "f316f60e",
   "metadata": {},
   "outputs": [],
   "source": [
    "# comparing effect of adding irrigation with efficiency values\n",
    "for n in np.arange(0,len(yr_ind)-1):\n",
    "    pc_sum = pc[yr_ind[n]:yr_ind[n+1]].sum()\n",
    "    pc_noirr_sum = pc_noirr[yr_ind[n]:yr_ind[n+1]].sum()\n",
    "    print('Perc frac increase %.2f'%(pc_sum/pc_noirr_sum), end=', ')\n",
    "    \n",
    "    etc_sum = agETc[yr_ind[n]:yr_ind[n+1]].sum()\n",
    "    etc_irr_sum = AW[yr_ind[n]:yr_ind[n+1]].sum()\n",
    "    print('ETc %.2f'%(etc_irr_sum/etc_sum))"
   ]
  }
 ],
 "metadata": {
  "kernelspec": {
   "display_name": "Python 3 (ipykernel)",
   "language": "python",
   "name": "python3"
  },
  "language_info": {
   "codemirror_mode": {
    "name": "ipython",
    "version": 3
   },
   "file_extension": ".py",
   "mimetype": "text/x-python",
   "name": "python",
   "nbconvert_exporter": "python",
   "pygments_lexer": "ipython3",
   "version": "3.11.4"
  }
 },
 "nbformat": 4,
 "nbformat_minor": 5
}
