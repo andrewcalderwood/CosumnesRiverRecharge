{
 "cells": [
  {
   "cell_type": "code",
   "execution_count": null,
   "id": "27272a8c",
   "metadata": {},
   "outputs": [],
   "source": [
    "# standard python utilities\n",
    "import os\n",
    "import sys\n",
    "import glob\n",
    "import pandas as pd\n",
    "import numpy as np\n",
    "import calendar\n",
    "import time\n",
    "\n",
    "# unique functions for this notebook\n",
    "import numpy.ma as ma\n",
    "from scipy.stats import hmean\n",
    "from scipy.stats import gmean\n",
    "\n",
    "# standard python plotting utilities\n",
    "import matplotlib as mpl\n",
    "import matplotlib.pyplot as plt\n",
    "\n",
    "# standard geospatial python utilities\n",
    "# import pyproj # for converting proj4string\n",
    "import shapely\n",
    "import geopandas as gpd\n",
    "import rasterio\n",
    "\n",
    "# mapping utilities\n",
    "import contextily as ctx\n",
    "from mpl_toolkits.axes_grid1.inset_locator import inset_axes\n",
    "from mpl_toolkits.axes_grid1.anchored_artists import AnchoredSizeBar\n",
    "import matplotlib.font_manager as fm\n",
    "\n",
    "import flopy"
   ]
  },
  {
   "cell_type": "markdown",
   "id": "74446c44",
   "metadata": {},
   "source": [
    "# Std Load Ins for flopy"
   ]
  },
  {
   "cell_type": "code",
   "execution_count": null,
   "id": "e0d96022",
   "metadata": {},
   "outputs": [],
   "source": [
    "doc_dir = os.getcwd()\n",
    "while os.path.basename(doc_dir) != 'Documents':\n",
    "    doc_dir = os.path.dirname(doc_dir)\n",
    "# dir of all gwfm data\n",
    "gwfm_dir = os.path.dirname(doc_dir)+'/Box/research_cosumnes/GWFlowModel'\n",
    "gwfm_dir\n",
    "# upw dir\n",
    "upw_dir = gwfm_dir+'/UPW_data'"
   ]
  },
  {
   "cell_type": "code",
   "execution_count": null,
   "id": "62a8d655",
   "metadata": {},
   "outputs": [],
   "source": [
    "# run_dir = 'F://WRDAPP/GWFlowModel'\n",
    "# loadpth = run_dir +'/Cosumnes/levee_setback/streamflow/'\n",
    "# model_nam = 'historical_streamflow'\n",
    "# model_ws = loadpth+model_nam\n",
    "\n",
    "# use the simpler model with less load required\n",
    "# loadpth = gwfm_dir+'/JupyterNotebooks/WEL/data'\n",
    "\n",
    "# load_only = ['BAS6','DIS']\n",
    "# m = flopy.modflow.Modflow.load('MF.nam', model_ws= model_ws, \n",
    "#                                 exe_name='mf-owhm', version='mfnwt',\n",
    "#                                load_only = load_only\n",
    "#                               )\n",
    "\n",
    "# m_ss = flopy.modflow.Modflow.load('MF.nam', model_ws= loadpth+'historical_SS', \n",
    "#                                 exe_name='mf2005', version='mfnwt')"
   ]
  },
  {
   "cell_type": "code",
   "execution_count": null,
   "id": "51e4fe13",
   "metadata": {},
   "outputs": [],
   "source": [
    "nrow = 100\n",
    "ncol = 230\n",
    "nlay = 320"
   ]
  },
  {
   "cell_type": "code",
   "execution_count": null,
   "id": "dc4f1ba2",
   "metadata": {},
   "outputs": [],
   "source": [
    "dem_data = np.loadtxt(gwfm_dir+'\\DIS_data\\dem_52_9_200m_linear.tsv', delimiter = '\\t')\n"
   ]
  },
  {
   "cell_type": "code",
   "execution_count": null,
   "id": "c559e56a",
   "metadata": {},
   "outputs": [],
   "source": [
    "# Load model grid as geopandas object\n",
    "grid_p = gpd.read_file(gwfm_dir+'/DIS_data/grid/grid.shp')\n",
    "# grid_p = gpd.read_file(gwfm_dir+'/DIS_data/44_7_grid/44_7_grid.shp')"
   ]
  },
  {
   "cell_type": "markdown",
   "id": "859b3a1a",
   "metadata": {},
   "source": [
    "# TPROGs"
   ]
  },
  {
   "cell_type": "code",
   "execution_count": null,
   "id": "a25e403c",
   "metadata": {},
   "outputs": [],
   "source": [
    "tprogs_fxn_dir = doc_dir+'/GitHub/CosumnesRiverRecharge/tprogs_utilities'\n",
    "if tprogs_fxn_dir not in sys.path:\n",
    "    sys.path.append(tprogs_fxn_dir)\n",
    "# sys.path\n",
    "import tprogs_cleaning as tc\n",
    "\n",
    "from importlib import reload\n",
    "# importlib.reload\n",
    "reload(tc)"
   ]
  },
  {
   "cell_type": "code",
   "execution_count": null,
   "id": "09379d54",
   "metadata": {},
   "outputs": [],
   "source": [
    "# tprogs_line = np.loadtxt(tprogs_files[t])\n",
    "# masked_tprogs= tc.tprogs_cut_elev(tprogs_line, dem_data)\n",
    "# K, Sy, Ss= tc.int_to_param(masked_tprogs, params)\n"
   ]
  },
  {
   "cell_type": "code",
   "execution_count": null,
   "id": "e1648cd7",
   "metadata": {},
   "outputs": [],
   "source": [
    "# unsat_vka = hmean(tc.tprogs_cut_saturated(K,kriged_fall_spring_avg))\n",
    "# strbd_tprogs = tc.get_tprogs_for_elev(K, top, bot_str_arr, tprogs_info,rows = sfr_rows, cols = sfr_cols)\n"
   ]
  },
  {
   "cell_type": "code",
   "execution_count": null,
   "id": "cfa7b690",
   "metadata": {},
   "outputs": [],
   "source": [
    "# \"C:\\Users\\ajcalder\\Box\\research_cosumnes\\Large_TPROGS_run\\TPROGS_realizations\\tsim_Cosumnes_Full_Model.asc1\"\n",
    "# create tprogs directory reference to 100 large tprogs runs ascii files\n",
    "tprogs_dir = os.path.dirname(gwfm_dir)+'/Large_TPROGS_run/TPROGS_realizations_final/'\n",
    "# get all file names\n",
    "tprogs_line_files = glob.glob(tprogs_dir+'*')\n",
    "\n",
    "mf_tprogs_dir = gwfm_dir+'/UPW_data/tprogs_final/'\n",
    "tprogs_files = glob.glob(mf_tprogs_dir+'*')"
   ]
  },
  {
   "cell_type": "code",
   "execution_count": null,
   "id": "53338ef5",
   "metadata": {},
   "outputs": [],
   "source": [
    "# t0 = time.time()\n",
    "\n",
    "# for n in np.arange(0,len(tprogs_files)):\n",
    "#     tprogs_line = np.loadtxt(tprogs_line_files[n],skiprows = 1)\n",
    "#     tprogs_arr = np.reshape(tprogs_line, (320, 100, 230 ))\n",
    "\n",
    "#     name = '/tprogs_final/tsim_realization'+str(n).zfill(3)+'.tsv'\n",
    "#     np.savetxt(upw_dir+name,np.reshape(tprogs_arr, (320*100,230)), delimiter = '\\t')\n",
    "                   \n",
    "# resample_time = time.time() - t0\n",
    "# print(\"Resample time, nearest neighbor: {:.3f} sec\".format(time.time() - t0))"
   ]
  },
  {
   "cell_type": "code",
   "execution_count": null,
   "id": "97266a40",
   "metadata": {},
   "outputs": [],
   "source": [
    "def tprogs_chk(tprogs_line_file):\n",
    "    tprogs_line = np.loadtxt(tprogs_line_file,skiprows = 1)\n",
    "    tprogs_arr = np.reshape(tprogs_line, (nlay, nrow, ncol ))\n",
    "\n",
    "    tprogs_arr = np.reshape(tprogs_line, (nlay, nrow, ncol))\n",
    "    tprogs_elev = np.copy(tprogs_arr)\n",
    "#     plt.scatter(np.where(tprogs_arr<0)[1],np.where(tprogs_arr<0)[2],0.2)\n",
    "#     plt.show()\n",
    "\n",
    "#     plt.imshow(tc.tprogs_cut_elev(tprogs_line, dem_data)[180])\n",
    "#     plt.show()\n",
    "    return(tprogs_arr)\n"
   ]
  },
  {
   "cell_type": "code",
   "execution_count": null,
   "id": "fb0ed3f6",
   "metadata": {},
   "outputs": [],
   "source": [
    "tprogs_dir = os.path.dirname(gwfm_dir)+'/Large_TPROGS_run/TPROGS_realizations_final/'\n",
    "# get all file names\n",
    "tprogs_line_files = glob.glob(tprogs_dir+'*')\n",
    "tprogs_og = tprogs_chk(tprogs_line_files[0])"
   ]
  },
  {
   "cell_type": "code",
   "execution_count": null,
   "id": "1ea8071d",
   "metadata": {},
   "outputs": [],
   "source": [
    "tprogs_dir = os.path.dirname(gwfm_dir)+'/Large_TPROGS_run/New_realizations/'\n",
    "# get all file names\n",
    "tprogs_line_files = glob.glob(tprogs_dir+'*quench*')\n",
    "tprogs_new_quench4 = tprogs_chk(tprogs_line_files[0])"
   ]
  },
  {
   "cell_type": "code",
   "execution_count": null,
   "id": "3b7a20ec",
   "metadata": {},
   "outputs": [],
   "source": [
    "tprogs_dir = os.path.dirname(gwfm_dir)+'/Large_TPROGS_run/New_realizations/'\n",
    "# get all file names\n",
    "tprogs_line_files = glob.glob(tprogs_dir+'*old*')\n",
    "tprogs_new_noquench = tprogs_chk(tprogs_line_files[0])"
   ]
  },
  {
   "cell_type": "code",
   "execution_count": null,
   "id": "09333136",
   "metadata": {},
   "outputs": [],
   "source": [
    "tprogs_dir = os.path.dirname(gwfm_dir)+'/Large_TPROGS_run/TPROGS_10/tsim/'\n",
    "# get all file names\n",
    "tprogs_line_files = glob.glob(tprogs_dir+'*')\n",
    "tprogs_new_quench = tprogs_chk(tprogs_line_files[0])"
   ]
  },
  {
   "cell_type": "code",
   "execution_count": null,
   "id": "d9d7f1ce",
   "metadata": {},
   "outputs": [],
   "source": [
    "og_hist = np.histogram(np.where(tprogs_og<0, tprogs_og*-1, tprogs_og), bins=[1,2,3,4,5])[0]/(230*320*100)\n",
    "new_hist = np.histogram(tprogs_new_quench, bins=[1,2,3,4,5])[0]/(230*320*100)\n",
    "noquench_hist = np.histogram(tprogs_new_noquench, bins=[1,2,3,4,5])[0]/(230*320*100)\n",
    "quench4_hist = np.histogram(tprogs_new_quench4, bins=[1,2,3,4,5])[0]/(230*320*100)\n",
    "\n",
    "print('Original ', og_hist, np.sum(og_hist))\n",
    "print('New data quench', new_hist, np.sum(new_hist))\n",
    "print('New data No quench',  noquench_hist, np.sum(noquench_hist))\n",
    "print('New data quench 4',  quench4_hist, np.sum(quench4_hist))"
   ]
  },
  {
   "cell_type": "code",
   "execution_count": null,
   "id": "e4a2c615",
   "metadata": {},
   "outputs": [],
   "source": [
    "im?"
   ]
  },
  {
   "cell_type": "code",
   "execution_count": null,
   "id": "6f91a1bb",
   "metadata": {},
   "outputs": [],
   "source": [
    "fig,ax=plt.subplots(3,1,figsize=(8,8))\n",
    "layer = 200\n",
    "\n",
    "im = ax[0].imshow(np.where(tprogs_og<0, tprogs_og*-1, tprogs_og)[layer,:,:])\n",
    "plt.colorbar(im, shrink=0.7,ax=ax[0])\n",
    "ax[0].set_title('Original TPROGs with conditioning')\n",
    "\n",
    "ax[1].imshow(tprogs_new_quench4[layer,:,:])\n",
    "plt.colorbar(im, shrink=0.7,ax=ax[1])\n",
    "ax[1].set_title('New TPROGs with quenching of 4')\n",
    "\n",
    "\n",
    "ax[2].imshow(tprogs_new_quench[layer,:,:])\n",
    "plt.colorbar(im, shrink=0.7,ax=ax[2])\n",
    "ax[2].set_title('New TPROGs with quenching of 3?')\n",
    "\n",
    "# ax[3].imshow(tprogs_new_noquench[0,:,:])\n",
    "# plt.colorbar(im, shrink=0.7,ax=ax[3])\n",
    "# ax[3].set_title('New TPROGs with quenching removed')\n",
    "\n",
    "\n",
    "fig.tight_layout()"
   ]
  },
  {
   "cell_type": "code",
   "execution_count": null,
   "id": "c41088dd",
   "metadata": {},
   "outputs": [],
   "source": [
    "\n",
    "# # the bottom layer of the tprogs model is at -50 m amsl and the top layer is 50 m amsl\n",
    "# t = 0\n",
    "# for k in np.arange(-80,80,0.5):\n",
    "#     tprogs_elev[t,dem_data<k]= np.NaN\n",
    "#     t+=1\n",
    "# masked_tprogs = ma.masked_invalid(tprogs_elev)"
   ]
  }
 ],
 "metadata": {
  "kernelspec": {
   "display_name": "Python 3 (ipykernel)",
   "language": "python",
   "name": "python3"
  },
  "language_info": {
   "codemirror_mode": {
    "name": "ipython",
    "version": 3
   },
   "file_extension": ".py",
   "mimetype": "text/x-python",
   "name": "python",
   "nbconvert_exporter": "python",
   "pygments_lexer": "ipython3",
   "version": "3.7.11"
  }
 },
 "nbformat": 4,
 "nbformat_minor": 5
}
