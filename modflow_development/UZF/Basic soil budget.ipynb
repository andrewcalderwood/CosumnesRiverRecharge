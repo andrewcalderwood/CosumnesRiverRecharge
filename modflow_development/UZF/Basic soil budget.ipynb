{
 "cells": [
  {
   "cell_type": "markdown",
   "id": "1c97e4bd",
   "metadata": {},
   "source": [
    "Code to build a basic soil water budget model based on the mathematical equations used by IDC with simplification as here the key is identifying percolation rather than applied water."
   ]
  },
  {
   "cell_type": "code",
   "execution_count": 56,
   "id": "9c5bdd5c",
   "metadata": {},
   "outputs": [],
   "source": [
    "# standard python utilities\n",
    "import os\n",
    "from os.path import join, exists, dirname, basename\n",
    "import glob\n",
    "import sys\n",
    "import time\n",
    "\n",
    "import pandas as pd\n",
    "import numpy as np\n",
    "\n",
    "import h5py\n",
    "\n",
    "# standard python plotting utilities\n",
    "import matplotlib as mpl\n",
    "import matplotlib.pyplot as plt\n",
    "\n",
    "# standard geospatial python utilities\n",
    "import shapely\n",
    "import geopandas as gpd\n",
    "\n"
   ]
  },
  {
   "cell_type": "code",
   "execution_count": 2,
   "id": "02f105bc",
   "metadata": {},
   "outputs": [],
   "source": [
    "doc_dir = os.getcwd()\n",
    "while os.path.basename(doc_dir) != 'Documents':\n",
    "    doc_dir = os.path.dirname(doc_dir)\n",
    "# dir of all gwfm data\n",
    "gwfm_dir = os.path.dirname(doc_dir)+'/Box/research_cosumnes/GWFlowModel'\n",
    "gwfm_dir\n",
    "dis_dir = join(gwfm_dir, 'DIS_data')\n",
    "uzf_dir = join(gwfm_dir,'UZF_data')"
   ]
  },
  {
   "cell_type": "code",
   "execution_count": 469,
   "id": "17f33707",
   "metadata": {},
   "outputs": [],
   "source": [
    "grid_uzf = gpd.read_file(uzf_dir+'/final_grid_uzf/griduzf.shp')"
   ]
  },
  {
   "cell_type": "code",
   "execution_count": 470,
   "id": "383b4725",
   "metadata": {},
   "outputs": [],
   "source": [
    "def fill_uzf(uzfvalues, grid_uzf):\n",
    "#     temp = np.zeros((nrow,ncol))\n",
    "    temp = np.full((nrow,ncol),np.nan, dtype = uzfvalues.dtype)\n",
    "    temp[grid_uzf.row.values-1,grid_uzf.column.values-1] = uzfvalues\n",
    "    return(temp)"
   ]
  },
  {
   "cell_type": "code",
   "execution_count": 210,
   "id": "35f23c36",
   "metadata": {},
   "outputs": [],
   "source": [
    "soil_dir = join(uzf_dir, 'final_soil_arrays')\n",
    "soil_Ks = np.loadtxt(soil_dir+'/final_soilKs.tsv', delimiter = '\\t')\n",
    "soil_por = np.loadtxt(soil_dir+'/final_soiln.tsv', delimiter = '\\t')/100\n",
    "soil_eps = np.loadtxt(soil_dir+'/final_soileps.tsv', delimiter = '\\t')\n",
    "# newly created 4/6/2023 to tamp down overestimates of recharge in foothills\n",
    "soilCN_arr = np.loadtxt(join(soil_dir, 'final_soil_CN.csv'),  delimiter=',')\n",
    "# temporary fix, CN can never be zero\n",
    "soilCN_arr = np.where(soilCN_arr==0, soilCN_arr[soilCN_arr>0].min(), soilCN_arr)"
   ]
  },
  {
   "cell_type": "code",
   "execution_count": 452,
   "id": "e4d2257e",
   "metadata": {},
   "outputs": [],
   "source": [
    "# strt_date = pd.to_datetime('2014-10-1')\n",
    "strt_date = pd.to_datetime('1998-10-1')\n",
    "end_date = pd.to_datetime('2020-12-31')\n",
    "nrow, ncol = (100,230)"
   ]
  },
  {
   "cell_type": "code",
   "execution_count": 54,
   "id": "14378857",
   "metadata": {},
   "outputs": [],
   "source": [
    "nrow_p,ncol_p = (100,230)\n",
    "def dwr_etc(strt_date, end_date):\n",
    "    nper_tr = (end_date-strt_date).days+1\n",
    "    natETc = np.zeros((nper_tr,nrow_p,ncol_p))\n",
    "    agETc = np.zeros((nper_tr,nrow_p,ncol_p))\n",
    "\n",
    "    per_n = 0 \n",
    "    for y in np.arange(strt_date.year, end_date.year+1):\n",
    "        # set start and end date for range for the year to be iterated over\n",
    "        yr_strt = pd.to_datetime(str(y)+'-01-01')\n",
    "        yr_end = pd.to_datetime(str(y)+'-12-31')\n",
    "        # get the length of the date range needed for that year\n",
    "        yearlen = len(pd.date_range(yr_strt, yr_end))\n",
    "        if yr_strt < strt_date:\n",
    "            yr_strt = strt_date\n",
    "        if yr_end > end_date:\n",
    "            yr_end = end_date\n",
    "        yr_len = len(pd.date_range(yr_strt, yr_end))\n",
    "        # load hdf5 files\n",
    "        f_irr = h5py.File(join(uzf_dir, \"dwr_ETc/irrigated_\"+str(y)+\".hdf5\"), \"r\")\n",
    "        agETc[per_n:per_n+yr_len,:,:] = f_irr['array'][str(y)][:][yr_strt.dayofyear-1:yr_end.dayofyear,:,:]\n",
    "        f_irr.close()\n",
    "        f_nat = h5py.File(join(uzf_dir, \"dwr_ETc/native_\"+str(y)+\".hdf5\"), \"r\")\n",
    "        natETc[per_n:per_n+yr_len,:,:] = f_nat['array'][str(y)][:][yr_strt.dayofyear-1:yr_end.dayofyear,:,:]\n",
    "        f_nat.close()\n",
    "        per_n += yr_len\n",
    "    # make sure the return value is separate from the loop\n",
    "    return(agETc, natETc)"
   ]
  },
  {
   "cell_type": "code",
   "execution_count": 453,
   "id": "02a2c2b5",
   "metadata": {},
   "outputs": [],
   "source": [
    "agETc, natETc = dwr_etc(strt_date, end_date)\n",
    "# net ETc should be ETc from ag and native plants joined\n",
    "ETc = agETc + natETc"
   ]
  },
  {
   "cell_type": "code",
   "execution_count": 454,
   "id": "9313e1e6",
   "metadata": {},
   "outputs": [],
   "source": [
    "## Potential ETo spatial interpolation from CIMIS\n",
    "fn = glob.glob(join(uzf_dir,'Cosumnes_dailyET_precip*.csv'))\n",
    "daily_data = pd.DataFrame()\n",
    "for file in fn:\n",
    "    new_data = pd.read_csv(file, index_col = ['Date'], parse_dates = True)\n",
    "    daily_data = pd.concat((daily_data, new_data))\n",
    "# units of mm\n",
    "data_in = daily_data[daily_data['Stn Name']=='Fair Oaks']\n",
    "# clean up data so columns are by location, units of Precip are in mm\n",
    "rain_in = data_in.pivot_table(index = 'Date', columns = 'Stn Name', values = 'Precip (mm)')\n",
    "rain_m = rain_in/1000\n",
    "\n",
    "# create array for every period of rainfall\n",
    "rain_df = rain_m[strt_date:end_date].resample('D').interpolate('linear')['Fair Oaks']\n",
    "rain_arr = np.repeat(np.repeat(np.reshape(rain_df.values, (rain_df.shape[0],1,1)), nrow, axis=1),ncol, axis=2)\n"
   ]
  },
  {
   "cell_type": "markdown",
   "id": "e3858faa",
   "metadata": {},
   "source": [
    "If we need to remove ET from each step then we should reduce the number of crops used to simplify calculations unless the code runs quickly for all cells.\n",
    "- Need to assume initial water content of 0. \n",
    " \n",
    "* water content can't exceed porosity. It is assumed that θ can be computed to be greater than θT, and the difference between the θ and θT represents the depth of the pond."
   ]
  },
  {
   "cell_type": "markdown",
   "id": "1ebe5753",
   "metadata": {},
   "source": [
    "Soil water budget equation simplified.  \n",
    "$ \\theta^{t+1} Z^{t+1} = \\theta^{t} Z^{t} + \\Delta t(P^{t+1} - R_p^{t+1} - P_c^{t+1} - ET^{t+1}) $  \n",
    "where P = precip, Rp = runoff, P_c = percolation and ET = evapotranspiration  \n",
    "\n",
    "Percolation equation from IDC per Mualem and van Genuchten.  \n",
    "$ P_{C}^{t+1} = K_{s} (\\frac{\\theta^{t+1}}{\\theta_T})[1 -(1-(\\frac{\\theta^{t+1}}{\\theta_T})^{1/m})^m]^2 $  \n",
    "Could convert to the explicit form, by using water content from the previous period.\n",
    "\n",
    "Runoff based on SCS-CN method  \n",
    "$ R_p = \\frac{1}{\\Delta t}\\frac{(P\\Delta t-0.2S)^2}{P\\Delta t+0.8S}$  \n",
    "$ S = S_{max} (1- \\frac{\\theta^t - \\theta_f/2}{\\theta_T - \\theta_f/2}) $ when $\\theta^t >\\theta_f/2 $  \n",
    "$ S = S_{max}  $ when $\\theta^t <\\theta_f/2 $  \n",
    "$ S_{max} = \\frac{1000}{CN} - 10 $  \n",
    "S  is the potential maximum soil retention in inches.  \n",
    "IDC manual didn't specify this, but per the HEC-HMS guide on CNs the runoff is 0 when precipitation is less than initial abstraction which is assigned as $I_a = rS$  where $0.05 < r <0.2$"
   ]
  },
  {
   "cell_type": "code",
   "execution_count": 471,
   "id": "2375950c",
   "metadata": {},
   "outputs": [],
   "source": [
    "soildepth = fill_uzf(grid_uzf.SoilDepth, grid_uzf)\n",
    "psdi =  fill_uzf(grid_uzf.PSDI, grid_uzf)\n",
    "# parameter for Mualem, van Genuchten\n",
    "soil_m = psdi/(psdi+1)\n",
    "wc_f =  fill_uzf(grid_uzf.w3rdbar, grid_uzf)/100 #field capacity\n",
    "\n",
    "# for runoff, convert CN from fraction to CN\n",
    "Smax = (1000/soilCN_arr) - 10"
   ]
  },
  {
   "cell_type": "code",
   "execution_count": 455,
   "id": "debefd4e",
   "metadata": {},
   "outputs": [],
   "source": [
    "def calc_S(wc, Smax, wc_f, soil_por):\n",
    "    \"\"\" Given an array of water contents return potential soil retention\"\"\"\n",
    "    S = np.zeros((nrow,ncol))\n",
    "    # when water content is less than 1/2 field capacity, full retention\n",
    "    S[wc < wc_f/2] = Smax[wc < wc_f/2]\n",
    "    # wc > porosity then set as porosity for calculations (avoids S >1)\n",
    "    wc_calc = np.where(wc<soil_por, wc, soil_por)\n",
    "    # when water content is greater than 1/2 field capacity, partial retention \n",
    "    S1 = Smax * (1 - ((wc_calc - wc_f/2)/(soil_por - wc_f/2)))\n",
    "    S[wc >= wc_f/2]= S1[wc >= wc_f/2]\n",
    "    # convert S from inches to meters\n",
    "    S *= (0.3048/12)\n",
    "    return(S)"
   ]
  },
  {
   "cell_type": "code",
   "execution_count": 473,
   "id": "78cdac8f",
   "metadata": {},
   "outputs": [
    {
     "name": "stdout",
     "output_type": "stream",
     "text": [
      "Run time was 0.57 minutes\n",
      "Avg WB error was 1.10E-14 m\n"
     ]
    }
   ],
   "source": [
    "tic = time.time()\n",
    "nper = (end_date-strt_date).days +1\n",
    "wc = np.zeros((nper+1, nrow, ncol)) # water content, add initial conditions with +1\n",
    "pc = np.zeros((nper, nrow, ncol)) # percolation\n",
    "rp = np.zeros((nper, nrow, ncol)) # runoff \n",
    "ETa = np.zeros((nper, nrow, ncol)) # actual ET\n",
    "wb_sum= np.zeros((nper, nrow, ncol)) # water budget check\n",
    "# time units are days for everything\n",
    "\n",
    "# -1 starts at IC\n",
    "for n in np.arange(-1, nper-1):\n",
    "    # calculate soil saturation as water content can be greater than porosity assuming it represents ponding\n",
    "    sat = wc[n]/soil_por\n",
    "    sat  = np.where(sat>1, 1, sat)\n",
    "    ## Runoff ##\n",
    "    S = calc_S(wc[n+1], Smax, wc_f, soil_por)\n",
    "    # calculate runoff only when there is rain, and rain is uniform\n",
    "    if (rain_arr[n+1]>0).any():\n",
    "        rp[n+1] = ((rain_arr[n+1] - 0.2*S)**2)/(rain_arr[n+1] + 0.8*S)\n",
    "    # where rainfall is less than initial abstraction (0.2S) set runoff as 0\n",
    "    rp[n+1] = np.where(rain_arr[n+1]<0.2*S, 0, rp[n+1])\n",
    "    ## explicit percolation ##\n",
    "    pc[n+1] = soil_Ks*(sat)*(1- (1-(sat)**(1/soil_m))**soil_m)**2\n",
    "    # water budget - all at once would require iteration\n",
    "#     wc[n+1] = (wc[n]*soildepth + (rain_arr[n+1] - rp[n+1] - pc[n+1] - ETc[n+1]))/soildepth\n",
    "#     wc[n+1] = np.where(wc[n+1]<0,0,wc[n+1])\n",
    "    # stepwise water budget, explicit to avoid iteration\n",
    "    # take away runoff first\n",
    "    wc[n+1] = (wc[n]*soildepth + (rain_arr[n+1] - rp[n+1]))/soildepth\n",
    "    # take away ET, add term to prevent going to zero\n",
    "    ETa[n+1] = np.where(ETc[n+1] <= wc[n+1]*soildepth, ETc[n+1], wc[n+1]*soildepth - 1E-9)\n",
    "    wc[n+1] = wc[n+1] + (-ETa[n+1])/soildepth\n",
    "    # take away percolation\n",
    "    pc[n+1] = np.where(pc[n+1] <= wc[n+1]*soildepth, pc[n+1], wc[n+1]*soildepth - 1E-9)\n",
    "    wc[n+1] = wc[n+1] + (-pc[n+1])/soildepth\n",
    "    # check water budget error\n",
    "    wb_sum[n+1] = (wc[n]-wc[n+1])*soildepth + rain_arr[n+1] - rp[n+1] - ETa[n+1] - pc[n+1]\n",
    "    if (wb_sum[n+1]>1E-3).any()|(wb_sum[n+1]<-1E-3).any():\n",
    "        print('WB error exceeds 1E-3',n )\n",
    "toc = time.time()\n",
    "print('Run time was %.2f minutes' %((toc-tic)/60))\n",
    "print('Avg WB error was %.2E m' % wb_sum.sum(axis=(1,2)).mean())"
   ]
  },
  {
   "cell_type": "code",
   "execution_count": 378,
   "id": "1e3f87a5",
   "metadata": {},
   "outputs": [],
   "source": [
    "# n = 32\n",
    "# chk = -(wc[n] - wc[n-1])*soildepth + rain_arr[n] - rp[n] - ETa[n] - pc[n]\n",
    "# chk.max()\n",
    "# (wc[n] - wc[n-1])*soildepth"
   ]
  },
  {
   "cell_type": "code",
   "execution_count": 419,
   "id": "edd956ed",
   "metadata": {},
   "outputs": [],
   "source": [
    "# n=14\n",
    "# S = calc_S(wc[n], Smax, wc_f, soil_por)\n",
    "# rp = ((rain_arr[n] - 0.2*S)**2)/(rain_arr[n] + 0.8*S)\n",
    "\n"
   ]
  },
  {
   "cell_type": "code",
   "execution_count": 474,
   "id": "c9e3229a",
   "metadata": {},
   "outputs": [
    {
     "data": {
      "image/png": "[encoded data removed]",
      "text/plain": [
       "<Figure size 640x480 with 5 Axes>"
      ]
     },
     "metadata": {},
     "output_type": "display_data"
    }
   ],
   "source": [
    "fig,ax = plt.subplots(5,1,sharex=True)\n",
    "ax[0].plot(rain_arr.mean(axis=(1,2)))\n",
    "ax[1].plot(rp.mean(axis=(1,2)))\n",
    "ax[2].plot(ETa.mean(axis=(1,2)))\n",
    "ax[3].plot(pc.mean(axis=(1,2)))\n",
    "ax[4].plot(wc.mean(axis=(1,2)))\n",
    "\n",
    "for n, l in enumerate(['Rain','Runoff','ET','Perc','WC']):\n",
    "    ax[n].set_ylabel(l)"
   ]
  },
  {
   "cell_type": "markdown",
   "id": "88e23b44",
   "metadata": {},
   "source": [
    "## Save Output"
   ]
  },
  {
   "cell_type": "code",
   "execution_count": 495,
   "id": "5dadd9b7",
   "metadata": {},
   "outputs": [],
   "source": [
    "\n",
    "import h5py\n",
    "\n",
    "def arr_to_h5(arr, h5_fn):\n",
    "    # convert arrays of annual rates to hdf5 files individually\n",
    "    f = h5py.File(h5_fn, \"w\")\n",
    "    grp = f.require_group('array') # makes sure group exists\n",
    "    grp.attrs['units'] = 'meters/day'\n",
    "    grp.attrs['description'] = 'Each layer of the array is a day in the water year'\n",
    "    dset = grp.require_dataset('WY', arr.shape, dtype='f', compression=\"gzip\", compression_opts=4)\n",
    "    dset[:] = arr\n",
    "    f.close()\n",
    "    \n"
   ]
  },
  {
   "cell_type": "code",
   "execution_count": 496,
   "id": "84e76cf9",
   "metadata": {},
   "outputs": [],
   "source": [
    "# years and array index \n",
    "years = pd.date_range(strt_date,end_date,freq='AS-Oct')\n",
    "yr_ind = (years-strt_date).days\n",
    "\n",
    "# need separte hdf5 for each year because total is 300MB\n",
    "for n in np.arange(0,len(yr_ind)-1):\n",
    "    arr = pc[yr_ind[n]:yr_ind[n+1]]\n",
    "    fn = join(uzf_dir, 'basic_soil_budget',\"percolation_WY\"+str(years[n].year+1)+\".hdf5\")\n",
    "    arr_to_h5(arr, fn)\n"
   ]
  },
  {
   "cell_type": "markdown",
   "id": "abfc08ea",
   "metadata": {},
   "source": [
    "## Review precip vs percolation"
   ]
  },
  {
   "cell_type": "code",
   "execution_count": 475,
   "id": "ca7a9b14",
   "metadata": {},
   "outputs": [
    {
     "name": "stdout",
     "output_type": "stream",
     "text": [
      "Perc 2.97e+04, Rain 3.39E+05, Frac 0.09\n",
      "Perc 1.67e+05, Rain 4.83E+05, Frac 0.34\n",
      "Perc 9.77e+04, Rain 3.07E+05, Frac 0.32\n",
      "Perc 8.21e+04, Rain 3.71E+05, Frac 0.22\n",
      "Perc 7.85e+04, Rain 3.59E+05, Frac 0.22\n",
      "Perc 7.86e+04, Rain 3.07E+05, Frac 0.26\n",
      "Perc 1.36e+05, Rain 4.87E+05, Frac 0.28\n",
      "Perc 1.70e+05, Rain 5.08E+05, Frac 0.34\n",
      "Perc 5.03e+04, Rain 2.62E+05, Frac 0.19\n",
      "Perc 5.22e+04, Rain 2.40E+05, Frac 0.22\n",
      "Perc 5.83e+04, Rain 3.12E+05, Frac 0.19\n",
      "Perc 7.91e+04, Rain 3.58E+05, Frac 0.22\n",
      "Perc 1.65e+05, Rain 5.38E+05, Frac 0.31\n",
      "Perc 6.49e+04, Rain 3.13E+05, Frac 0.21\n",
      "Perc 7.11e+04, Rain 2.94E+05, Frac 0.24\n",
      "Perc 4.45e+04, Rain 2.92E+05, Frac 0.15\n",
      "Perc 5.40e+04, Rain 2.87E+05, Frac 0.19\n",
      "Perc 6.80e+04, Rain 3.25E+05, Frac 0.21\n",
      "Perc 2.34e+05, Rain 7.01E+05, Frac 0.33\n",
      "Perc 8.90e+04, Rain 4.50E+05, Frac 0.20\n",
      "Perc 1.69e+05, Rain 5.76E+05, Frac 0.29\n",
      "Perc 5.45e+04, Rain 3.01E+05, Frac 0.18\n"
     ]
    }
   ],
   "source": [
    "chk = pc.sum(axis=(1,2))*200*200/((0.3048**3)*43560)\n",
    "chk1 = rain_arr.sum(axis=(1,2))*200*200/((0.3048**3)*43560)\n",
    "\n",
    "for n in np.arange(0,len(yr_ind)-1):\n",
    "    print('Perc %.2e'%(chk[yr_ind[n]:yr_ind[n+1]]).sum(), end=', ')\n",
    "    print('Rain %.2E' %(chk1[yr_ind[n]:yr_ind[n+1]].sum()), end=', ')\n",
    "    print('Frac %.2f'%(chk[yr_ind[n]:yr_ind[n+1]].sum()/chk1[yr_ind[n]:yr_ind[n+1]].sum()))\n"
   ]
  }
 ],
 "metadata": {
  "kernelspec": {
   "display_name": "Python 3 (ipykernel)",
   "language": "python",
   "name": "python3"
  },
  "language_info": {
   "codemirror_mode": {
    "name": "ipython",
    "version": 3
   },
   "file_extension": ".py",
   "mimetype": "text/x-python",
   "name": "python",
   "nbconvert_exporter": "python",
   "pygments_lexer": "ipython3",
   "version": "3.10.9"
  }
 },
 "nbformat": 4,
 "nbformat_minor": 5
}
