{
 "cells": [
  {
   "cell_type": "markdown",
   "id": "1c97e4bd",
   "metadata": {},
   "source": [
    "Code to build a basic soil water budget model based on the mathematical equations used by IDC with simplification as here the key is identifying percolation rather than applied water."
   ]
  },
  {
   "cell_type": "code",
   "execution_count": null,
   "id": "9c5bdd5c",
   "metadata": {},
   "outputs": [],
   "source": [
    "# standard python utilities\n",
    "import os\n",
    "from os.path import join, exists, dirname, basename\n",
    "import glob\n",
    "import sys\n",
    "import time\n",
    "\n",
    "import pandas as pd\n",
    "import numpy as np\n",
    "\n",
    "import h5py\n",
    "from scipy.io import loadmat\n",
    "\n",
    "# standard python plotting utilities\n",
    "import matplotlib as mpl\n",
    "import matplotlib.pyplot as plt\n",
    "\n",
    "# standard geospatial python utilities\n",
    "import shapely\n",
    "import geopandas as gpd\n",
    "\n"
   ]
  },
  {
   "cell_type": "code",
   "execution_count": null,
   "id": "02f105bc",
   "metadata": {},
   "outputs": [],
   "source": [
    "doc_dir = os.getcwd()\n",
    "while basename(doc_dir) != 'Documents':\n",
    "    doc_dir = dirname(doc_dir)\n",
    "# dir of all gwfm data\n",
    "gwfm_dir = dirname(doc_dir)+'/Box/research_cosumnes/GWFlowModel'\n",
    "gwfm_dir\n",
    "dis_dir = join(gwfm_dir, 'DIS_data')\n",
    "uzf_dir = join(gwfm_dir,'UZF_data')"
   ]
  },
  {
   "cell_type": "code",
   "execution_count": null,
   "id": "99045114",
   "metadata": {},
   "outputs": [],
   "source": [
    "def add_path(fxn_dir):\n",
    "    \"\"\" Insert fxn directory into first position on path so local functions supercede the global\"\"\"\n",
    "    if fxn_dir not in sys.path:\n",
    "        sys.path.insert(0, fxn_dir)\n",
    "# other functions\n",
    "py_dir = join(doc_dir,'GitHub/CosumnesRiverRecharge/python_utilities')\n",
    "add_path(py_dir)\n",
    "\n",
    "# from mf_utility import get_layer_from_elev\n",
    "from swb_utility import calc_S, calc_pc\n",
    "# from swb_utility import prep_soil"
   ]
  },
  {
   "cell_type": "markdown",
   "id": "57ccb305",
   "metadata": {},
   "source": [
    "## Hydrologic data"
   ]
  },
  {
   "cell_type": "code",
   "execution_count": null,
   "id": "703614ef",
   "metadata": {},
   "outputs": [],
   "source": [
    "# strt_date = pd.to_datetime('2014-10-1')\n",
    "strt_date = pd.to_datetime('1998-10-1')\n",
    "end_date = pd.to_datetime('2020-12-31')\n",
    "dates = pd.date_range(strt_date, end_date)\n",
    "nper = len(dates)\n",
    "\n",
    "nrow, ncol = (100,230)\n"
   ]
  },
  {
   "cell_type": "code",
   "execution_count": null,
   "id": "f7b6fd51",
   "metadata": {},
   "outputs": [],
   "source": [
    "## Potential ETo spatial interpolation from CIMIS\n",
    "fn = glob.glob(join(uzf_dir,'CIMIS','Cosumnes_dailyET_precip*.csv'))\n",
    "daily_data = pd.DataFrame()\n",
    "for file in fn:\n",
    "    new_data = pd.read_csv(file, index_col = ['Date'], parse_dates = True)\n",
    "    daily_data = pd.concat((daily_data, new_data))\n",
    "# units of mm\n",
    "data_in = daily_data[daily_data['Stn Name']=='Fair Oaks']\n",
    "\n",
    "# clean up data so columns are by location, units of Precip are in mm\n",
    "rain_in = data_in.pivot_table(index = 'Date', columns = 'Stn Name', values = 'Precip (mm)')\n",
    "rain_m = rain_in/1000\n",
    "# fill in missing days of rain with zero values\n",
    "rain_df = rain_m.reindex(dates)\n",
    "rain_df[rain_df.isna()]=0\n",
    "# convert to array for calculations\n",
    "rain = rain_df['Fair Oaks'].values\n"
   ]
  },
  {
   "cell_type": "code",
   "execution_count": null,
   "id": "153f7710",
   "metadata": {},
   "outputs": [],
   "source": [
    "# load in pre-processed array of ETc for all time\n",
    "ETc_long = pd.read_hdf(join(uzf_dir, \"dwr_ETc\",'long_ETc_all_lu.hdf5'), key='variable')\n",
    "# convert to column format\n",
    "ETc_all = ETc_long.pivot(columns='variable', values='value')\n",
    "\n",
    "# subset for model period\n",
    "ETc_all = ETc_all[strt_date:end_date]\n",
    "# fill in empty dates with interpolation (temporary since corn dates are slightly different)\n",
    "ETc_all = ETc_all.reindex(dates)\n"
   ]
  },
  {
   "cell_type": "markdown",
   "id": "f0b699ff",
   "metadata": {},
   "source": [
    "# Spatial data\n",
    "The land use data doesn't specify water source for most, listed as * so missing."
   ]
  },
  {
   "cell_type": "code",
   "execution_count": null,
   "id": "24d63f87",
   "metadata": {},
   "outputs": [],
   "source": [
    "ag_lu = gpd.read_file(join(uzf_dir,'county_landuse', 'domain_ag_lu_2018.shp'))\n",
    "# 5 duplicates in irrigation efficiency\n",
    "ag_irr_eff = ag_lu[['geom_id', 'name', 'irr_name', 'Avg_eff']].drop_duplicates()"
   ]
  },
  {
   "cell_type": "code",
   "execution_count": null,
   "id": "1fab846d",
   "metadata": {},
   "outputs": [],
   "source": [
    "# load cleaned soil data for ag fields\n",
    "soil_path = join(uzf_dir,'clean_soil_data')\n",
    "# soil data for each ag field\n",
    "soil_ag = pd.read_csv(join(soil_path, 'soil_for_ag_fields.csv'), index_col=0)\n",
    "# connection of ag fields to grid cells\n",
    "# grid_soil = pd.read_csv(join(soil_path, 'ag_field_to_cell.csv'),index_col=0)\n",
    "# # curve numbers, have duplicates but okay to drop since  identical\n",
    "CN = pd.read_csv(join(soil_path, 'ag_field_CN.csv'),index_col = 0).drop_duplicates(keep='first')\n",
    "soil_ag = pd.merge(soil_ag, CN, how='left', on=['geom_id','name','irr_name'])\n",
    "# # # irrigation efficiency\n",
    "soil_ag = soil_ag.merge(ag_irr_eff, how='left')\n",
    "# create irrigation efficiency multiplier to have 0 applied water for non-irrgated\n",
    "soil_ag['irr_eff_mult'] = 100/soil_ag.Avg_eff\n",
    "soil_ag.loc[soil_ag.irr_eff_mult.isna(), 'irr_eff_mult'] = 0\n"
   ]
  },
  {
   "cell_type": "code",
   "execution_count": null,
   "id": "6c488c1e",
   "metadata": {},
   "outputs": [],
   "source": [
    "# I would keep these fields but still don't have a way to account for fallow/bare soil\n",
    "drop_fields = ['new lands being prepared for crop production', \n",
    "               'Land not cropped the current or previous crop season, but cropped within the past three years',\n",
    "               'Mixed (four or more)']\n",
    "\n",
    "soil_ag = soil_ag[~soil_ag.name.isin(drop_fields)]\n",
    "\n",
    "# calculate areas\n",
    "field_area = soil_ag.field_area_m2.values\n",
    "nfield = len(soil_ag)\n",
    "\n",
    "# reference for cells with agriculture which have slightly different rules\n",
    "ag_arr = (soil_ag.irr_name != 'no irrig').values"
   ]
  },
  {
   "cell_type": "code",
   "execution_count": null,
   "id": "f95d72fe",
   "metadata": {},
   "outputs": [],
   "source": [
    "soil_ag.to_csv(join(soil_path, 'fields_output_reference.csv'), index=False)"
   ]
  },
  {
   "cell_type": "markdown",
   "id": "53fe964a",
   "metadata": {},
   "source": [
    "## Solver for all unique soil/crop fields at once\n",
    "- I made the assumption that there was too much deep percolation entering the system so I reduced the Ksat to Ksat low and scaled the Ksat_rep by 1/10. This may be overly conservative of infiltration rates. As it underestimated deep percolation compared to Cosana and reuslted in excess runoff.\n",
    "- additionally the estimate of applied water may be excessive if it assumes the full ETc and ETc-rain, added a step to determine the available soil water storage before calculating ETc - AWS to determine irrigation demand. This almost cuts irrigation in half (average demand down to 50TAF/year instead of 100). Realistcally farmers likely only look at effective precipitation rather than soil water storage."
   ]
  },
  {
   "cell_type": "code",
   "execution_count": null,
   "id": "8d7b7015",
   "metadata": {},
   "outputs": [],
   "source": [
    "def prep_soil(soil_ag):\n",
    "    global soil_Ks, soil_por, soil_eps, soil_CN\n",
    "    global soildepth, soil_m, wc_f, wc_wp, Smax\n",
    "    global irr_eff_mult\n",
    "    # # when soil_K_low is missing using a substitute of Ksat/10\n",
    "    # soil_Ks = np.where(soil_ag.Ksat_Low==0, soil_ag.Ksat/10, soil_ag.Ksat_Low)\n",
    "    # K_low seems to underestimate percolation so trying with Ksat_rep\n",
    "    soil_Ks = soil_ag.Ksat.copy()\n",
    "    soil_por = soil_ag.Porosity.values/100\n",
    "    soil_eps = soil_ag.EPS.values\n",
    "    soil_CN = soil_ag.CN.values\n",
    "#     irr_eff = soil_ag.Avg_eff.values/100\n",
    "    irr_eff_mult = soil_ag.irr_eff_mult.values\n",
    "    \n",
    "    soildepth = soil_ag.SoilDepth.values\n",
    "    psdi =  soil_ag.PSDI.values\n",
    "    # parameter for Mualem, van Genuchten\n",
    "    soil_m = psdi/(psdi+1)\n",
    "    wc_f =  soil_ag.w3rdbar.values/100 #field capacity\n",
    "    wc_wp =  soil_ag.w15bar.values/100 #wilting point \n",
    "\n",
    "    # Calculate total available water in the root zone\n",
    "    taw = (wc_f - wc_wp)*soildepth \n",
    "\n",
    "    # for runoff, convert CN from fraction to CN\n",
    "    Smax = (1000/soil_CN) - 10\n",
    "\n",
    "prep_soil(soil_ag)\n",
    "\n"
   ]
  },
  {
   "cell_type": "code",
   "execution_count": null,
   "id": "f6e1bdf4",
   "metadata": {},
   "outputs": [],
   "source": [
    "# pull out the crop ET for the fields simulated\n",
    "# it may be necessary to add ET in the winter months representing bare soil ET?\n",
    "ETc = ETc_all.loc[:,soil_ag.name.values].values\n",
    "ETc[np.isnan(ETc)] = 0\n",
    "\n"
   ]
  },
  {
   "cell_type": "markdown",
   "id": "bc066ea9-be8f-4ac9-945b-c47e289409d8",
   "metadata": {},
   "source": [
    "# Run the model\n",
    "The ETc, and rain will be preset inputs for the irrigation simulation (the ETc will be calculated when the crop is chosen at the start of the year).  \n",
    "The irrigation optimizer will be a function of crop - ETc, irrigation (variable calibrated)"
   ]
  },
  {
   "cell_type": "code",
   "execution_count": null,
   "id": "967d5760",
   "metadata": {},
   "outputs": [],
   "source": [
    "# def calc_pc(wc, soil_por, soil_Ks, soil_m):\n",
    "#     \"\"\" explicit calculation of percolation assuming water content of prior to \n",
    "#     percolation is representative of conditions controlling percolation\"\"\"\n",
    "#     # calculate soil saturation as water content can be greater than porosity assuming it represents ponding\n",
    "#     sat = wc/soil_por\n",
    "#     sat  = np.where(sat>1, 1, sat)\n",
    "#     # explicit calculation of percolation\n",
    "#     pc = soil_Ks*(sat)*(1- (1-(sat)**(1/soil_m))**soil_m)**2\n",
    "#     return(pc)\n",
    "\n",
    "# # calc_pc(wc[0], soil_por, soil_Ks, soil_m)"
   ]
  },
  {
   "cell_type": "code",
   "execution_count": null,
   "id": "78cdac8f",
   "metadata": {},
   "outputs": [],
   "source": [
    "def swb():\n",
    "    global wc, pc, rp, ETa, AW\n",
    "\n",
    "    tic = time.time()\n",
    "    \n",
    "    wc = np.zeros((nper+1, nfield)) # water content, add initial conditions with +1\n",
    "    pc = np.zeros((nper, nfield)) # percolation\n",
    "    rp = np.zeros((nper, nfield)) # runoff \n",
    "    ETa = np.zeros((nper, nfield)) # actual ET\n",
    "    AW = np.zeros((nper, nfield)) # applied water\n",
    "    wb_sum= np.zeros((nper, nfield)) # water budget check\n",
    "    # time units are days for everything\n",
    "    \n",
    "    # WC starts at field content for ag fields and wilting point for non ag\n",
    "    wc[0] = wc_wp\n",
    "    wc[0, ag_arr] = wc_f[ag_arr]\n",
    "#     n is for BC, ns is for storage\n",
    "    # -1 starts at IC for BC\n",
    "    for ns, n in enumerate(np.arange(-1, nper-1)):\n",
    "        # calculate soil saturation as water content can be greater than porosity assuming it represents ponding\n",
    "#         sat = wc[ns]/soil_por\n",
    "#         sat  = np.where(sat>1, 1, sat)\n",
    "        ## Runoff ##\n",
    "        S = calc_S(wc[ns], Smax, wc_f, soil_por)\n",
    "        water_in = rain[n+1] \n",
    "        # calculate runoff only when there is rain, and rain is uniform\n",
    "        if (water_in>0).any():\n",
    "            rp[n+1] = ((water_in - 0.2*S)**2)/(water_in + 0.8*S)\n",
    "        # where rainfall is less than initial abstraction (0.2S) set runoff as 0\n",
    "        rp[n+1] = np.where(water_in<0.2*S, 0, rp[n+1])\n",
    "        ## explicit percolation ##\n",
    "#         pc[n+1] = soil_Ks*(sat)*(1- (1-(sat)**(1/soil_m))**soil_m)**2\n",
    "        pc[n+1] = calc_pc(wc[ns], soil_por, soil_Ks, soil_m)\n",
    "        # stepwise water budget, explicit to avoid iteration\n",
    "        # add rain and take away runoff first\n",
    "        wc[ns+1] = (wc[ns]*soildepth + (water_in - rp[n+1]))/soildepth\n",
    "        # calculate the available water for plant use to determine irrigation requirement (2024-3-5)\n",
    "        # irr_stor = soildepth*np.where(wc[ns+1] - wc_wp <0, 0, wc[ns+1] - wc_wp)\n",
    "        # use effective preciptation to calculate irrigation storage as\n",
    "        # farmers often do not actually check soil water storage in reality\n",
    "        irr_stor = soildepth*np.where(water_in - rp[n+1] <0, 0, water_in - rp[n+1])\n",
    "        # irr_stor = 0 # original assumed full irrigation\n",
    "        # add irrigation with the assumption it is designed to limit runoff\n",
    "        irr_req = np.where(ETc[n+1] - irr_stor<0, 0, ETc[n+1] - irr_stor)\n",
    "        AW[n+1] = (irr_req)*irr_eff_mult\n",
    "#         AW[n+1] = 0\n",
    "        wc[ns+1] = wc[ns+1] + AW[n+1]/soildepth\n",
    "        # take away ET, add term to prevent going to zero\n",
    "        ET = ETc[n+1] # ET will be from crops or bare soil (off season)\n",
    "        ETa[n+1] = np.where(ET <= wc[ns+1]*soildepth, ET, wc[ns+1]*soildepth - 1E-9)\n",
    "        wc[ns+1] = wc[ns+1] + (-ETa[n+1])/soildepth\n",
    "        # take away percolation\n",
    "        pc[n+1] = np.where(pc[n+1] <= wc[ns+1]*soildepth, pc[n+1], wc[ns+1]*soildepth - 1E-9)\n",
    "        wc[ns+1] = wc[ns+1] + (-pc[n+1])/soildepth\n",
    "        # check water budget error\n",
    "        wb_sum[n+1] = (wc[ns]-wc[ns+1])*soildepth + water_in + AW[n+1] - rp[n+1] - ETa[n+1] - pc[n+1] \n",
    "        if (wb_sum[n+1]>1E-3).any()|(wb_sum[n+1]<-1E-3).any():\n",
    "            print('WB error exceeds 1E-3',n )\n",
    "            \n",
    "    toc = time.time()\n",
    "    print('Run time was %.2f minutes' %((toc-tic)/60))\n",
    "    print('Avg WB error was %.2E m' % wb_sum.sum(axis=(1)).mean())"
   ]
  },
  {
   "cell_type": "code",
   "execution_count": null,
   "id": "152385e2",
   "metadata": {},
   "outputs": [],
   "source": [
    "swb()"
   ]
  },
  {
   "cell_type": "code",
   "execution_count": null,
   "id": "a73a2ba5",
   "metadata": {},
   "outputs": [],
   "source": [
    "# rain"
   ]
  },
  {
   "cell_type": "code",
   "execution_count": null,
   "id": "362969c2",
   "metadata": {},
   "outputs": [],
   "source": [
    "def plt_swb():\n",
    "    fig,ax = plt.subplots(5,1,sharex=True)\n",
    "    ax[0].plot(rain)\n",
    "    ax[0].plot(AW.mean(axis=(1)))\n",
    "    ax[1].plot(rp.mean(axis=(1)))\n",
    "    ax[2].plot(ETa.mean(axis=(1)))\n",
    "    ax[3].plot(pc.mean(axis=(1)))\n",
    "    ax[4].plot(wc.mean(axis=(1)))\n",
    "    \n",
    "    for n, l in enumerate(['Rain/\\nIrrigation','Runoff','ET','Perc','WC']):\n",
    "        ax[n].set_ylabel(l)\n",
    "    # ax[0].legend()"
   ]
  },
  {
   "cell_type": "code",
   "execution_count": null,
   "id": "66e1a217-f569-4eb0-a784-829b7d2a33ce",
   "metadata": {},
   "outputs": [],
   "source": [
    "plt_swb()"
   ]
  },
  {
   "cell_type": "markdown",
   "id": "b4a35145",
   "metadata": {},
   "source": [
    "## Convert percolation to cells from fields"
   ]
  },
  {
   "cell_type": "code",
   "execution_count": null,
   "id": "fd01079a",
   "metadata": {},
   "outputs": [],
   "source": [
    "grid_soil = pd.read_csv(join(soil_path, 'ag_field_to_cell.csv'))\n"
   ]
  },
  {
   "cell_type": "code",
   "execution_count": null,
   "id": "6fe9109d",
   "metadata": {},
   "outputs": [],
   "source": [
    "t0 = time.time()\n",
    "pc_arr = np.zeros((pc.shape[0], nrow,ncol))\n",
    "AW_arr = np.zeros((pc.shape[0], nrow,ncol))\n",
    "rp_arr = np.zeros((pc.shape[0], nrow,ncol))\n",
    "# pretty inefficient loop, but only takes 45ish seconds\n",
    "for n in np.arange(0, len(soil_ag)):\n",
    "    soil_line = soil_ag.iloc[[n]]\n",
    "    # identify the field to focus on\n",
    "    grid_line = grid_soil.merge(soil_line)\n",
    "    # iterate over the grid cells to apply\n",
    "    for c in np.arange(0,len(grid_line)):\n",
    "        # scale the percolation rate by the fraction of the cell covered by the field\n",
    "        scale_pc = grid_line.iloc[c].cell_field_area_m2/(200*200)\n",
    "        pc_arr[:, grid_line.iloc[c].row-1, grid_line.iloc[c].column-1] = pc[:, n]*scale_pc\n",
    "        AW_arr[:, grid_line.iloc[c].row-1, grid_line.iloc[c].column-1] = AW[:, n]*scale_pc\n",
    "        rp_arr[:, grid_line.iloc[c].row-1, grid_line.iloc[c].column-1] = rp[:, n]*scale_pc\n",
    "t1 = time.time()\n",
    "print(((t1-t0)/60))"
   ]
  },
  {
   "cell_type": "code",
   "execution_count": null,
   "id": "136d2289-2898-47cf-bbb0-50d091ff1eae",
   "metadata": {},
   "outputs": [],
   "source": [
    "af_scale = 200*200/(0.3048**3)/43560/1000/(end_date.year-strt_date.year)\n",
    "plt.plot(pc_arr.sum(axis=(1,2)).cumsum()*af_scale, label='Deep Perc',)\n",
    "plt.plot(AW_arr.sum(axis=(1,2)).cumsum()*af_scale, label='AW')\n",
    "plt.plot(rp_arr.sum(axis=(1,2)).cumsum()*af_scale, label=' Runoff')\n",
    "plt.legend()"
   ]
  },
  {
   "cell_type": "markdown",
   "id": "259d01bc-8053-4599-8584-3198379e0f71",
   "metadata": {},
   "source": [
    "The potential issue I'm seeing witht he new soil budget is that none of the foothills are receiving any recharge, or that they receive a very small amount compared to the irrigated lands.\n",
    "- adjusting irrigation so it only meets demand rather than the full ET, greatly reduced the overestiamte of recharge in irrigated lands. Although overall there is still a lack of recharge throughout.\n",
    "- then after increasing Ksat from Ksat_Low to Ksat_Rep we see increases in irrigated lands and a large swatch in the foothills. This may cause issues with heads in the foothills which would require a higher conductivity surface layer to shunt runoff to the lower elevations."
   ]
  },
  {
   "cell_type": "code",
   "execution_count": null,
   "id": "533bac6f",
   "metadata": {},
   "outputs": [],
   "source": [
    "vmax = 1E-3\n",
    "vmax=None\n",
    "plt.imshow(pc_arr[-720:].mean(axis=0), vmax=vmax)\n",
    "plt.colorbar(shrink=0.5)\n",
    "# the field based version of recharge is cool because you can see the lines between fields of roads\n",
    "# if you set vmax to 1E-4 in/day you start to see some recharge in the foothills but it is on the order of 1E-5 to 5E-5\n",
    "# the recharge due to rainfall now seems very small, I should check if any soil paramter CN, changed significantly"
   ]
  },
  {
   "cell_type": "markdown",
   "id": "88e23b44",
   "metadata": {},
   "source": [
    "## Save Output"
   ]
  },
  {
   "cell_type": "code",
   "execution_count": null,
   "id": "5dadd9b7",
   "metadata": {},
   "outputs": [],
   "source": [
    "\n",
    "import h5py\n",
    "\n",
    "def arr_to_h5(arr, h5_fn):\n",
    "    # convert arrays of annual rates to hdf5 files individually\n",
    "    with h5py.File(h5_fn, \"w\") as f:\n",
    "        grp = f.require_group('array') # makes sure group exists\n",
    "        grp.attrs['units'] = 'meters/day'\n",
    "        grp.attrs['description'] = 'Each row of the dataframe is a day in the water year'\n",
    "        dset = grp.require_dataset('WY', arr.shape, dtype='f', compression=\"gzip\", compression_opts=4)\n",
    "        dset[:] = arr\n",
    "#     f.close()\n",
    "    \n"
   ]
  },
  {
   "cell_type": "code",
   "execution_count": null,
   "id": "5267af0c-0645-49e1-b5cf-5b1e56bbdbdd",
   "metadata": {},
   "outputs": [],
   "source": [
    "# years and array index \n",
    "years = pd.date_range(strt_date,end_date,freq='AS-Oct')\n",
    "yr_ind = (years-strt_date).days\n"
   ]
  },
  {
   "cell_type": "code",
   "execution_count": null,
   "id": "72850170",
   "metadata": {},
   "outputs": [],
   "source": [
    "pc_arr.shape"
   ]
  },
  {
   "cell_type": "code",
   "execution_count": null,
   "id": "84e76cf9",
   "metadata": {},
   "outputs": [],
   "source": [
    "\n",
    "# need separte hdf5 for each year because total is 300MB\n",
    "for n in np.arange(0,len(yr_ind)-1):\n",
    "#     arr = pc[yr_ind[n]:yr_ind[n+1]]\n",
    "    arr = pc_arr[yr_ind[n]:yr_ind[n+1]]\n",
    "    fn = join(uzf_dir,'basic_soil_budget', \"field_percolation_WY\"+str(years[n].year+1)+\".hdf5\")\n",
    "    arr_to_h5(arr, fn)\n",
    "\n",
    "    # applied water \n",
    "    arr = AW[yr_ind[n]:yr_ind[n+1]]\n",
    "    fn = join(uzf_dir, 'basic_soil_budget',\"field_applied_water_WY\"+str(years[n].year+1)+\".hdf5\")\n",
    "    arr_to_h5(arr, fn)"
   ]
  },
  {
   "cell_type": "markdown",
   "id": "abfc08ea",
   "metadata": {},
   "source": [
    "## Review precip vs percolation"
   ]
  },
  {
   "cell_type": "code",
   "execution_count": null,
   "id": "ca7a9b14",
   "metadata": {},
   "outputs": [],
   "source": [
    "chk = pc_arr.sum(axis=(1,2))*200*200/((0.3048**3)*43560)\n",
    "chk1 = AW_arr.sum(axis=(1,2))*200*200/((0.3048**3)*43560)\n",
    "\n",
    "for n in np.arange(0,len(yr_ind)-1):\n",
    "    print('Perc %.2e'%(chk[yr_ind[n]:yr_ind[n+1]]).sum(), end=', ')\n",
    "    print('Rain %.2E' %(chk1[yr_ind[n]:yr_ind[n+1]].sum()), end=', ')\n",
    "    print('Frac %.2f'%(chk[yr_ind[n]:yr_ind[n+1]].sum()/chk1[yr_ind[n]:yr_ind[n+1]].sum()))\n"
   ]
  }
 ],
 "metadata": {
  "kernelspec": {
   "display_name": "Python 3 (ipykernel)",
   "language": "python",
   "name": "python3"
  },
  "language_info": {
   "codemirror_mode": {
    "name": "ipython",
    "version": 3
   },
   "file_extension": ".py",
   "mimetype": "text/x-python",
   "name": "python",
   "nbconvert_exporter": "python",
   "pygments_lexer": "ipython3",
   "version": "3.11.4"
  }
 },
 "nbformat": 4,
 "nbformat_minor": 5
}
