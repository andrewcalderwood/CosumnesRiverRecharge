{
 "cells": [
  {
   "cell_type": "code",
   "execution_count": null,
   "id": "a5807f98",
   "metadata": {},
   "outputs": [],
   "source": [
    "# standard python utilities\n",
    "import os\n",
    "from os.path import exists, join, basename, dirname\n",
    "import sys\n",
    "import glob\n",
    "import pandas as pd\n",
    "import numpy as np\n",
    "import time\n",
    "\n",
    "# standard python plotting utilities\n",
    "import matplotlib as mpl\n",
    "import matplotlib.pyplot as plt\n",
    "\n",
    "# standard geospatial python utilities\n",
    "import geopandas as gpd\n",
    "from rasterstats import zonal_stats\n",
    "import richdem\n",
    "import rasterio\n",
    "\n",
    "# mapping utilities\n",
    "import contextily as ctx\n",
    "# import osmnx as ox # open street map\n",
    "from mpl_toolkits.axes_grid1.inset_locator import inset_axes\n",
    "from mpl_toolkits.axes_grid1.anchored_artists import AnchoredSizeBar\n",
    "import matplotlib.font_manager as fm\n",
    "\n"
   ]
  },
  {
   "cell_type": "code",
   "execution_count": null,
   "id": "7c185b30",
   "metadata": {},
   "outputs": [],
   "source": [
    "doc_dir = os.getcwd()\n",
    "while basename(doc_dir) != 'Documents':\n",
    "    doc_dir = dirname(doc_dir)\n",
    "# dir of all gwfm data\n",
    "gwfm_dir = dirname(doc_dir)+'/Box/research_cosumnes/GWFlowModel'\n",
    "gwfm_dir\n",
    "dis_dir = join(gwfm_dir, 'DIS_data')\n",
    "uzf_dir = join(gwfm_dir,'UZF_data')"
   ]
  },
  {
   "cell_type": "code",
   "execution_count": null,
   "id": "7620e6f7",
   "metadata": {},
   "outputs": [],
   "source": [
    "grid_p = gpd.read_file(gwfm_dir+'/DIS_data/grid/grid.shp')\n",
    "\n",
    "m_domain = gpd.read_file(gwfm_dir+'/DIS_data/NewModelDomain/GWModelDomain_52_9deg_UTM10N_WGS84.shp')\n"
   ]
  },
  {
   "cell_type": "code",
   "execution_count": null,
   "id": "5fa573d8",
   "metadata": {},
   "outputs": [],
   "source": [
    "ag = gpd.read_file(join(uzf_dir, 'county_landuse','domain_ag_lu_2018.shp'))\n",
    "# subset for relevant columns\n",
    "ag = ag[['geom_id','name','irr_name','geometry']]\n",
    "\n",
    "native = gpd.read_file(join(uzf_dir, 'county_landuse','domain_native_lu_2018.shp'))\n",
    "# subset for relevant columns\n",
    "native = native[['geom_id','name','irr_name','geometry']]\n",
    "native.loc[native.irr_name.isna(), 'irr_name'] = 'no irrig'"
   ]
  },
  {
   "cell_type": "code",
   "execution_count": null,
   "id": "d1702e1e",
   "metadata": {},
   "outputs": [],
   "source": [
    "fields = pd.concat((ag, native))"
   ]
  },
  {
   "cell_type": "markdown",
   "id": "9816570b",
   "metadata": {},
   "source": [
    "# Soil data\n",
    "Join gridded data to parcel data to calculate the soil parameters at the parcel scale for irrigated lands only.\n"
   ]
  },
  {
   "cell_type": "code",
   "execution_count": null,
   "id": "a82757fe",
   "metadata": {},
   "outputs": [],
   "source": [
    "uzf_dir = gwfm_dir+'/UZF_data'\n",
    "soil_path = join(uzf_dir,'clean_soil_data')\n"
   ]
  },
  {
   "cell_type": "code",
   "execution_count": null,
   "id": "ca43dc8e",
   "metadata": {},
   "outputs": [],
   "source": [
    "gpd_soil = gpd.read_file(join(soil_path, 'cleaned_spatial_soil.shp'))\n",
    "gpd_soil = gpd_soil.drop(columns=['AREASYMBOL', 'MUSYM']) # drop extra string columns"
   ]
  },
  {
   "cell_type": "code",
   "execution_count": null,
   "id": "8fd7e6d4",
   "metadata": {},
   "outputs": [],
   "source": [
    "# only keep numeric columns that can be averaged (won't need texture class or HydGroup)\n",
    "# soil_ag = gpd.overlay(gpd_soil, ag)\n",
    "soil_ag = gpd.overlay(gpd_soil, fields)"
   ]
  },
  {
   "cell_type": "code",
   "execution_count": null,
   "id": "e09f03fe",
   "metadata": {},
   "outputs": [],
   "source": [
    "# soil_ag[soil_ag.group=='native']\n",
    "# soil_ag_cln[soil_ag_cln.group=='native']"
   ]
  },
  {
   "cell_type": "code",
   "execution_count": null,
   "id": "af7e08df",
   "metadata": {},
   "outputs": [],
   "source": [
    "# create a numeric equivalent hydgroup\n",
    "HG_ref = pd.DataFrame({'num_hg':[1,2,3,4], 'hg':['A','B','C','D']})\n",
    "soil_ag['Num_hydgroup'] = HG_ref.set_index('hg').loc[soil_ag.HydGroup, 'num_hg'].values"
   ]
  },
  {
   "cell_type": "code",
   "execution_count": null,
   "id": "d407870f",
   "metadata": {},
   "outputs": [],
   "source": [
    "from scipy.stats import mode\n",
    "# calculate average soil parameters\n",
    "soil_ag_cln = soil_ag.drop(columns=['Texture','HydGroup'])\n",
    "soil_ag_cln = soil_ag_cln.dissolve(['geom_id','name','irr_name'], np.mean)\n",
    "# for objects use the mode\n",
    "soil_ag_mode = soil_ag.dissolve(['geom_id','name','irr_name'], pd.Series.mode)\n",
    "\n",
    "# add string cols back (texture, hydgroup)\n",
    "soil_ag_cln = soil_ag_cln.join( soil_ag_mode[['Texture','HydGroup']]).reset_index()\n",
    "\n",
    "# given the mean of the calculate HydGroup return to the nearest letter\n",
    "soil_ag_cln.Num_hydgroup = soil_ag_cln.Num_hydgroup.round(0).astype(int) # clean up to nearest integer\n",
    "soil_ag_cln.HydGroup = HG_ref.set_index('num_hg').loc[soil_ag_cln.Num_hydgroup, 'hg'].values\n"
   ]
  },
  {
   "cell_type": "code",
   "execution_count": null,
   "id": "5535dfc5",
   "metadata": {},
   "outputs": [],
   "source": [
    "soil_ag_cln['field_area_m2'] = soil_ag_cln.geometry.area"
   ]
  },
  {
   "cell_type": "code",
   "execution_count": null,
   "id": "718d9c65",
   "metadata": {},
   "outputs": [],
   "source": [
    "soil_ag_cln.drop(columns='geometry').to_csv(join(soil_path, 'soil_for_ag_fields.csv'), index=False)"
   ]
  },
  {
   "cell_type": "code",
   "execution_count": null,
   "id": "5578bd52",
   "metadata": {},
   "outputs": [],
   "source": [
    "# identify the grid cells that will be connected to each ag field\n",
    "grid_soil = gpd.overlay(grid_p, soil_ag_cln)\n",
    "\n",
    "# if there are multiple ag field in a cell then the recharge/pumping needs to be scaled by the ag field area within the cell\n",
    "grid_soil['cell_field_area_m2'] = grid_soil.area"
   ]
  },
  {
   "cell_type": "code",
   "execution_count": null,
   "id": "fd406931",
   "metadata": {},
   "outputs": [],
   "source": [
    "# save ag field - grid cell connection and area\n",
    "out_cols = ['row','column', 'geom_id','name','irr_name','cell_field_area_m2']\n",
    "grid_soil[out_cols].to_csv(join(soil_path, 'ag_field_to_cell.csv'),index=False)"
   ]
  },
  {
   "cell_type": "code",
   "execution_count": null,
   "id": "beaa3c8c",
   "metadata": {},
   "outputs": [],
   "source": [
    "# there are some non-unique rows in the ag field dataset\n",
    "soil_ag_cln.shape, ag.shape, ag.geom_id.unique().shape"
   ]
  },
  {
   "cell_type": "code",
   "execution_count": null,
   "id": "4d164cea",
   "metadata": {},
   "outputs": [],
   "source": []
  },
  {
   "cell_type": "markdown",
   "id": "ed2fcac4",
   "metadata": {},
   "source": [
    "## Get field slope to assist curve numbers"
   ]
  },
  {
   "cell_type": "code",
   "execution_count": null,
   "id": "5ccbc5fe",
   "metadata": {},
   "outputs": [],
   "source": [
    "raster_name = gwfm_dir+\"/DEM_data/USGS_ten_meter_dem/modeldomain_10m_transformed.tif\"\n",
    "\n",
    "# load DEM for slope/aspect analysis\n",
    "rd_dem = richdem.LoadGDAL(raster_name)\n",
    "\n",
    "dem = rasterio.open(raster_name)\n",
    "affine = dem.meta['transform']"
   ]
  },
  {
   "cell_type": "code",
   "execution_count": null,
   "id": "6539f254",
   "metadata": {},
   "outputs": [],
   "source": [
    "def attr_stats(rd_dem, gdf, attr, folder):\n",
    "    # calculate slope/aspect\n",
    "    rd_attr = richdem.TerrainAttribute(rd_dem, attr)\n",
    "    # takes several minutes\n",
    "    zs_parcels = zonal_stats(gdf, rd_attr, affine=affine, nodata=rd_attr.no_data,\n",
    "                stats=['min', 'max', 'mean', 'median', 'majority', 'std'])\n",
    "    # zs_parcels = zonal_stats(parcels, raster=raster_name, stats=['min', 'max', 'mean', 'median', 'majority','std'])\n",
    "    # convert to dataframe\n",
    "    zs_df = pd.DataFrame(zs_parcels)\n",
    "    # join zone stats of DEM to parcel data\n",
    "    zs_df = gdf.join(zs_df)\n",
    "    # save to shapefile\n",
    "    zs_df.to_file(join(uzf_dir, folder, attr+'_statistics.shp'))\n",
    "    return(zs_df)\n"
   ]
  },
  {
   "cell_type": "code",
   "execution_count": null,
   "id": "fda060bc",
   "metadata": {},
   "outputs": [],
   "source": [
    "# attr = 'slope_percentage'\n",
    "for attr in ['slope_percentage']:\n",
    "    slp = attr_stats(rd_dem, soil_ag_cln[['geom_id','name','irr_name','geometry']], \n",
    "                     attr, 'clean_soil_data/field_zonalstats')"
   ]
  },
  {
   "cell_type": "markdown",
   "id": "31e388e4",
   "metadata": {},
   "source": [
    "## Curve numbers"
   ]
  },
  {
   "cell_type": "code",
   "execution_count": null,
   "id": "84cade31",
   "metadata": {},
   "outputs": [],
   "source": [
    "# load data for slope\n",
    "zs_df = gpd.read_file(join(uzf_dir, 'clean_soil_data/field_zonalstats','slope_percentage_statistics.shp'))\n"
   ]
  },
  {
   "cell_type": "code",
   "execution_count": null,
   "id": "8b60bb30",
   "metadata": {},
   "outputs": [],
   "source": [
    "soil_ag_CN = pd.read_csv(join(soil_path, 'soil_for_ag_fields.csv'))\n",
    "# soil_ag_CN = soil_ag.copy()\n",
    "soil_ag_CN['lu']='Cultivated land'\n",
    "# assume that native lands are approximately like pasture for runoff, limited runoff\n",
    "soil_ag_CN.loc[soil_ag_CN.irr_name=='no_irr', 'lu']='Pasture'"
   ]
  },
  {
   "cell_type": "code",
   "execution_count": null,
   "id": "99e6618b",
   "metadata": {},
   "outputs": [],
   "source": [
    "# overlay crops geometry so cell area can be taken into account\n",
    "C_gpd = pd.merge(soil_ag_CN, zs_df[['geom_id','name','irr_name', 'mean']], how='left')\n",
    "C_gpd.loc[C_gpd['mean'].isna(),'mean'] = 0 # if slope wasn't sampled then assume 0"
   ]
  },
  {
   "cell_type": "code",
   "execution_count": null,
   "id": "4d8f80f8",
   "metadata": {},
   "outputs": [],
   "source": [
    "# load curve number data and clean up\n",
    "CN = pd.read_excel(join(gwfm_dir,'UZF_data','curve_numbers.xlsx'), comment='#')\n",
    "CN = CN.rename(columns={'Cover type':'lu', 'Impervious':'impervious', 'Hydrologic Condition':'HydCond'})\n",
    "\n",
    "CN_long = CN.melt(id_vars = ['lu','impervious','HydCond'], var_name='HydGroup', value_name='CN')\n",
    "# columns for joining\n",
    "CN_long = CN_long[['HydGroup','lu','impervious', 'HydCond', 'CN']]"
   ]
  },
  {
   "cell_type": "code",
   "execution_count": null,
   "id": "df0c95df",
   "metadata": {},
   "outputs": [],
   "source": [
    "# join spatial data to ID data for Curve Numbers\n",
    "CN_out = C_gpd.join(CN_long.set_index(['HydGroup','lu']), on=['HydGroup','lu'], how='inner')\n",
    "\n",
    "# for pasture there is an option of fair or poor hydrologic condition\n",
    "# poor condition should be associated with slopes greater than 3%, less than 50% cover in hills\n",
    "CN_pasture = CN_out[CN_out.lu=='Pasture']\n",
    "hills_pasture = CN_pasture[(CN_pasture['mean']>=3)&(CN_pasture.HydCond=='Poor')]\n",
    "flat_pasture = CN_pasture[(CN_pasture['mean']<3)&(CN_pasture.HydCond=='Fair')]\n",
    "CN_pasture = pd.concat((hills_pasture, flat_pasture))\n",
    "# add pasture back to out file\n",
    "CN_out = CN_out[CN_out.lu!='Pasture']\n",
    "CN_out = pd.concat((CN_out, CN_pasture))"
   ]
  },
  {
   "cell_type": "code",
   "execution_count": null,
   "id": "311eb01f",
   "metadata": {},
   "outputs": [],
   "source": [
    "CN_out.shape, soil_ag_CN.shape, C_gpd.shape"
   ]
  },
  {
   "cell_type": "code",
   "execution_count": null,
   "id": "6bf18c95",
   "metadata": {},
   "outputs": [],
   "source": [
    "CN_out[['geom_id','name','irr_name','CN']].to_csv(join(soil_path, 'ag_field_CN.csv'))\n",
    "CN_out.to_csv(join(soil_path, 'ag_field_properties_all.csv'))"
   ]
  }
 ],
 "metadata": {
  "kernelspec": {
   "display_name": "Python 3 (ipykernel)",
   "language": "python",
   "name": "python3"
  },
  "language_info": {
   "codemirror_mode": {
    "name": "ipython",
    "version": 3
   },
   "file_extension": ".py",
   "mimetype": "text/x-python",
   "name": "python",
   "nbconvert_exporter": "python",
   "pygments_lexer": "ipython3",
   "version": "3.11.0"
  }
 },
 "nbformat": 4,
 "nbformat_minor": 5
}
