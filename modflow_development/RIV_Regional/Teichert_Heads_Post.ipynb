{
 "cells": [
  {
   "cell_type": "code",
   "execution_count": null,
   "id": "7a96da42",
   "metadata": {},
   "outputs": [],
   "source": [
    "#Import packages\n",
    "import os\n",
    "import flopy\n",
    "import numpy as np\n",
    "import matplotlib.pyplot as plt\n",
    "import flopy.utils.binaryfile as bf\n",
    "import geopandas as gpd\n",
    "from scipy.stats import norm"
   ]
  },
  {
   "cell_type": "code",
   "execution_count": null,
   "id": "08e98a5f",
   "metadata": {},
   "outputs": [],
   "source": [
    "## Set up directory referencing\n",
    "# Package data\n",
    "git_dir = os.path.dirname(os.path.dirname(os.getcwd()))\n",
    "gwfm_dir = '\\\\'.join(str.split(git_dir,'\\\\')[0:3])+ '/Box/research_cosumnes/GWFlowModel'\n",
    "print(git_dir, gwfm_dir)"
   ]
  },
  {
   "cell_type": "code",
   "execution_count": null,
   "id": "339d5b64",
   "metadata": {},
   "outputs": [],
   "source": [
    "loadpth = 'C:/wrdapp/GWFlowModel/Cosumnes/Cosumnes_simple'\n",
    "model_ws = loadpth+'/WEL_RIV_RCH_tprogs_200layers/realization000'\n",
    "m = flopy.modflow.Modflow.load('MF.nam', model_ws=model_ws, \n",
    "                                exe_name='MF2005', version='mf2005')"
   ]
  },
  {
   "cell_type": "code",
   "execution_count": null,
   "id": "8176ad45",
   "metadata": {},
   "outputs": [],
   "source": [
    "def plot_lines(lines):\n",
    "    fig, ax = plt.subplots()\n",
    "    for ln in lines:\n",
    "        plt.plot([ln[0][0], ln[1][0]], [ln[0][1], ln[1][1]], linewidth = 0.1)"
   ]
  },
  {
   "cell_type": "code",
   "execution_count": null,
   "id": "a2a87a7a",
   "metadata": {},
   "outputs": [],
   "source": [
    "##Grid Creation for Large Model\n",
    "# Load model grid as geopandas object\n",
    "grid_regional = gpd.read_file(gwfm_dir+'/DIS_data/grid/grid.shp')\n",
    "# grid_p = gpd.read_file(gwfm_dir+'/DIS_data/44_7_grid/44_7_grid.shp')\n",
    "grid_p = gpd.read_file(gwfm_dir+'/DIS_data/Inset_grid_44_7/44_7_grid.shp')\n",
    "\n",
    "grid_p_temp = grid_p.copy()\n",
    "grid_p_temp.geometry = grid_p_temp.buffer(-99.9999)\n",
    "# grid_regional.geometry = grid_regional.buffer(-100)\n",
    "\n",
    "grid_ref = gpd.sjoin(grid_p_temp, grid_regional.to_crs('epsg:3310'), how = 'left',predicate = 'within',\n",
    "                     lsuffix='inset', rsuffix = 'regional')\n",
    "# grid_ref = pd.DataFrame(grid_ref.loc[:,['row_inset','column_inset','row_regional','column_regional']])\n",
    "# reset geometry from tiny polygon to rectangle\n",
    "grid_ref.geometry = grid_p.geometry\n",
    "\n",
    "grid_ref = grid_ref.rename({'row_inset':'row','column_inset':'column'},axis=1)"
   ]
  },
  {
   "cell_type": "code",
   "execution_count": null,
   "id": "bf26a4f2",
   "metadata": {},
   "outputs": [],
   "source": []
  },
  {
   "cell_type": "code",
   "execution_count": null,
   "id": "ccc5a7d9",
   "metadata": {},
   "outputs": [],
   "source": [
    "##Teichert Model Load\n",
    "Teichert = gpd.read_file('C:/wrdapp/OHWD recharge project files/Kautz Property.shp')\n",
    "Teichert_3310 = Teichert.to_crs('epsg:3310')"
   ]
  },
  {
   "cell_type": "code",
   "execution_count": null,
   "id": "db39dc4b",
   "metadata": {},
   "outputs": [],
   "source": [
    "for n in np.arange(0,100).astype(str):\n",
    "    model = 'C:/wrdapp/GWFlowModel/Cosumnes/Cosumnes_simple/WEL_RIV_RCH_tprogs_200layers/realization'+ n.zfill(3)+'/'\n",
    "    hdobj = flopy.utils.HeadFile(model + '/MF.hds')\n",
    "    head = hdobj.get_data(kstpkper = spd_stp[0])\n",
    "    head.shape\n",
    "    A = head[100,:,:]\n",
    "    A_new = np.reshape(A,(6300,1))\n",
    "    grid_ref[\"Head\"+n] = A_new\n"
   ]
  },
  {
   "cell_type": "code",
   "execution_count": null,
   "id": "47ce2cc3",
   "metadata": {},
   "outputs": [],
   "source": [
    "spd_stp[0]"
   ]
  },
  {
   "cell_type": "code",
   "execution_count": null,
   "id": "d51877cb",
   "metadata": {},
   "outputs": [],
   "source": [
    "##Clip Data\n",
    "#grid_ref = gpd.sjoin(grid_p_temp, grid_regional.to_crs('epsg:3310'), how = 'left',predicate = 'within',\n",
    "                     #lsuffix='inset', rsuffix = 'regional')\n",
    "grid_teichert = gpd.sjoin(grid_ref, Teichert_3310)\n",
    "#grid_teichert.plot()\n",
    "grid_teichert"
   ]
  },
  {
   "cell_type": "code",
   "execution_count": null,
   "id": "f8bcc6cd",
   "metadata": {},
   "outputs": [],
   "source": [
    "#grid_teichert.plot()\n",
    "fig = plt.figure(figsize=(8,5))\n",
    "ax = fig.add_subplot()\n",
    "grid_teichert.plot(ax = ax)\n",
    "B1 = grid_teichert.iloc[80:81,:]\n",
    "B1.plot(ax = ax, color = 'green')\n",
    "B2 = grid_teichert.iloc[79:80,:]\n",
    "B2.plot(ax = ax, color = 'red')\n",
    "B3 = grid_teichert.iloc[66:67,:]\n",
    "B3.plot(ax = ax, color = 'orange')\n",
    "#B4 = grid_teichert.iloc[95:96,:]\n",
    "#B4.plot(ax = ax, color = 'yellow')\n",
    "#B5 = grid_teichert.iloc[96:97,:]\n",
    "#B5.plot(ax = ax, color = 'purple')"
   ]
  },
  {
   "cell_type": "code",
   "execution_count": null,
   "id": "f6188ea4",
   "metadata": {},
   "outputs": [],
   "source": [
    "for r in np.arange(0,104):\n",
    "    Plt = plt.figure(r)\n",
    "    X = grid_teichert.iloc[r,8:108]    \n",
    "    #norm.pdf(X)\n",
    "    Plt = X.plot.kde()\n",
    "    plt.ylim(0,1.25)\n",
    "    plt.xlabel('Head Value')"
   ]
  },
  {
   "cell_type": "code",
   "execution_count": null,
   "id": "b95a0924",
   "metadata": {},
   "outputs": [],
   "source": []
  },
  {
   "cell_type": "code",
   "execution_count": null,
   "id": "f3a905ff",
   "metadata": {},
   "outputs": [],
   "source": [
    "plt.rcParams.update({'font.size': 16})\n",
    "Plt = plt.figure()\n",
    "ax = Plt.add_subplot(1,1,1)\n",
    "plt.ylim(0,1.3)\n",
    "X = grid_teichert.iloc[61,8:108]\n",
    "Plt = X.plot.kde(ax = ax, color = 'green')\n",
    "X1 = grid_teichert.iloc[74,8:108]\n",
    "Plt = X1.plot.kde(ax = ax, color = 'red')\n",
    "X2 = grid_teichert.iloc[75,8:108]\n",
    "Plt = X2.plot.kde(ax = ax, color = 'orange')\n",
    "X3 = grid_teichert.iloc[95,8:108]\n",
    "Plt = X3.plot.kde(ax = ax, color = 'yellow')\n",
    "X4 = grid_teichert.iloc[96,8:108]\n",
    "Plt = X4.plot.kde(ax = ax, color = 'purple')\n",
    "    #Plt = PDF.plot()\n",
    "    #AAA = find_peaks(PDF)\n",
    "    #AAA\n",
    "plt.xlabel('Head Value (m)')\n",
    "plt.title('Teichert Highest Peaks')"
   ]
  },
  {
   "cell_type": "code",
   "execution_count": null,
   "id": "5606f038",
   "metadata": {},
   "outputs": [],
   "source": [
    "plt.rcParams.update({'font.size': 16})\n",
    "Plt = plt.figure()\n",
    "ax = Plt.add_subplot(1,1,1)\n",
    "plt.ylim(0,1.3)\n",
    "X = grid_teichert.iloc[80,8:108]\n",
    "Plt = X.plot.kde(ax = ax, color = 'green')\n",
    "X1 = grid_teichert.iloc[79,8:108]\n",
    "Plt = X1.plot.kde(ax = ax, color = 'red')\n",
    "X2 = grid_teichert.iloc[66,8:108]\n",
    "Plt = X2.plot.kde(ax = ax, color ='orange')\n",
    "#X3 = grid_teichert.iloc[95,8:108]\n",
    "#Plt = X3.plot.kde(ax = ax)\n",
    "#X4 = grid_teichert.iloc[96,8:108]\n",
    "#Plt = X4.plot.kde(ax = ax)\n",
    "    #Plt = PDF.plot()\n",
    "    #AAA = find_peaks(PDF)\n",
    "    #AAA\n",
    "plt.xlabel('Head Value (m)')\n",
    "plt.title('Teichert Largest Spread')"
   ]
  },
  {
   "cell_type": "code",
   "execution_count": null,
   "id": "867acb13",
   "metadata": {},
   "outputs": [],
   "source": [
    "##Plot Head Data\n",
    "def plot_head(hdobj, name):\n",
    "    head = hdobj.get_data()\n",
    "    levels_hmax = np.round(np.max(head[head!=1E+30]),-1)\n",
    "#     levels_hmin = np.round(np.min(head[head!=-999.99]),-1)\n",
    "    levels_hmin = np.round(np.min(head[head>=-200]),-1)\n",
    "   # frf = cbb.get_data(text='FLOW RIGHT FACE')[0]\n",
    "   # fff = cbb.get_data(text='FLOW FRONT FACE')[0]\n",
    "\n",
    "    levels = np.arange(levels_hmin, levels_hmax, 2)\n",
    "\n",
    "    fig = plt.figure(figsize=(30,20))\n",
    "\n",
    "    ax = fig.add_subplot(1,1,1)\n",
    "    ax.set_title(name+'Head Contours')\n",
    "    mapview = flopy.plot.PlotMapView(model=m)\n",
    "    quadmesh = mapview.plot_ibound()\n",
    "#     line = mapview.plot_bc('RIV', plotAll=True)\n",
    "    mapview.plot_bc(\"GHB\", plotAll=True)\n",
    "    mapview.plot_bc(\"CHD\", plotAll=True)\n",
    "    Teichert = gpd.read_file('C:/wrdapp/OHWD recharge project files/Kautz Property.shp')\n",
    "    Teichert_3310 = Teichert.to_crs('epsg:3310')\n",
    "    Teichert_3310.plot(ax = ax)\n",
    "\n",
    "    contour_set = mapview.contour_array(head[5,:,:], masked_values=[-999.99, 1e+30], levels=levels)\n",
    "#     quiver = mapview.plot_discharge(frf, fff, istep=10, jstep=10)  # no head array for volumetric discharge\n",
    "\n",
    "    cb = plt.colorbar(contour_set, shrink = 0.5)\n",
    "    cb.set_label('Head (m)')\n",
    "\n",
    "    ax.ticklabel_format(style='plain')\n",
    "\n",
    "    linecollection = mapview.plot_grid(linewidths = 0.3)\n",
    "    plt.xlabel('Easting (m)')\n",
    "    plt.ylabel('Northing (m)')\n",
    "#     plt.savefig('Plots//'+name +'_head_contour.png', dpi = 600, bbox_inches='tight')"
   ]
  },
  {
   "cell_type": "code",
   "execution_count": null,
   "id": "c4091ef2",
   "metadata": {},
   "outputs": [],
   "source": [
    "##Extract Heads to Array\n",
    "hdobj = flopy.utils.HeadFile(model_ws + '/MF.hds')\n",
    "#spd_stp = hdobj.get_kstpkper()\n",
    "# for i in np.arange(0,len(spd_stp)):\n",
    "plot_head(hdobj, 'MF')\n",
    "#spd_stp\n",
    "plt.savefig('Head_Contours')"
   ]
  },
  {
   "cell_type": "code",
   "execution_count": null,
   "id": "1c91f6e4",
   "metadata": {},
   "outputs": [],
   "source": [
    "hdobj = flopy.utils.HeadFile(model_ws + '/MF.hds')\n",
    "#hdobj.list_records()\n",
    "rec = hdobj.get_data()\n",
    "len(hdobj)"
   ]
  },
  {
   "cell_type": "code",
   "execution_count": null,
   "id": "09467ceb",
   "metadata": {},
   "outputs": [],
   "source": [
    "\n"
   ]
  }
 ],
 "metadata": {
  "kernelspec": {
   "display_name": "Python 3 (ipykernel)",
   "language": "python",
   "name": "python3"
  },
  "language_info": {
   "codemirror_mode": {
    "name": "ipython",
    "version": 3
   },
   "file_extension": ".py",
   "mimetype": "text/x-python",
   "name": "python",
   "nbconvert_exporter": "python",
   "pygments_lexer": "ipython3",
   "version": "3.8.12"
  }
 },
 "nbformat": 4,
 "nbformat_minor": 5
}
