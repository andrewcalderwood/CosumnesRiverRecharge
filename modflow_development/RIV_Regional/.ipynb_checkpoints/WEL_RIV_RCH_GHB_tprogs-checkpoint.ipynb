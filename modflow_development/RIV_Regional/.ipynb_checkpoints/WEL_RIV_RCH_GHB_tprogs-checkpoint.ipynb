{
 "cells": [
  {
   "cell_type": "markdown",
   "metadata": {},
   "source": [
    "Cosumnes Model \n",
    "@author: Andrew"
   ]
  },
  {
   "cell_type": "markdown",
   "metadata": {},
   "source": [
    "This notebook ran on 5/10/2021 and couldn't handle the increased number of layers"
   ]
  },
  {
   "cell_type": "code",
   "execution_count": 1,
   "metadata": {},
   "outputs": [],
   "source": [
    "# standard python utilities\n",
    "import os\n",
    "import sys\n",
    "import glob\n",
    "import pandas as pd\n",
    "import numpy as np\n",
    "import calendar\n",
    "import time\n",
    "\n",
    "# standard python plotting utilities\n",
    "import matplotlib as mpl\n",
    "import matplotlib.pyplot as plt\n",
    "\n",
    "# standard geospatial python utilities\n",
    "import pyproj # for converting proj4string\n",
    "import shapely\n",
    "import geopandas as gpd\n",
    "import rasterio\n",
    "\n",
    "# mapping utilities\n",
    "#import contextily as ctx\n",
    "from mpl_toolkits.axes_grid1.inset_locator import inset_axes\n",
    "from mpl_toolkits.axes_grid1.anchored_artists import AnchoredSizeBar\n",
    "import matplotlib.font_manager as fm"
   ]
  },
  {
   "cell_type": "code",
   "execution_count": 3,
   "metadata": {},
   "outputs": [
    {
     "name": "stdout",
     "output_type": "stream",
     "text": [
      "3.8.12 | packaged by conda-forge | (default, Oct 12 2021, 21:22:46) [MSC v.1916 64 bit (AMD64)]\n",
      "numpy version: 1.21.4\n",
      "matplotlib version: 3.5.0\n",
      "flopy version: 3.3.4\n"
     ]
    }
   ],
   "source": [
    "\n",
    "# run installed version of flopy or add local path\n",
    "try:\n",
    "    import flopy\n",
    "    from flopy.discretization.structuredgrid import StructuredGrid\n",
    "    from flopy.utils.reference import SpatialReference\n",
    "    from flopy.utils import Raster\n",
    "except:\n",
    "    import flopy\n",
    "    fpth = os.path.abspath(os.path.join('..', '..'))\n",
    "    sys.path.append(fpth)\n",
    "    from flopy.discretization.structuredgrid import StructuredGrid\n",
    "    from flopy.utils.reference import SpatialReference\n",
    "    from flopy.utils import Raster\n",
    "from flopy.utils.gridgen import Gridgen\n",
    "from flopy.utils import OptionBlock\n",
    "import flopy.utils.binaryfile as bf\n",
    "\n",
    "\n",
    "print(sys.version)\n",
    "print('numpy version: {}'.format(np.__version__))\n",
    "print('matplotlib version: {}'.format(mpl.__version__))\n",
    "print('flopy version: {}'.format(flopy.__version__))"
   ]
  },
  {
   "cell_type": "code",
   "execution_count": 4,
   "metadata": {},
   "outputs": [],
   "source": [
    "# Transient -> might want to think about making SP1 steady\n",
    "end_date = '2018-01-02'\n",
    "# end_date = '2018-01-02'\n",
    "strt_date = '2018-01-01'\n",
    "\n",
    "dates = pd.date_range(strt_date, end_date)\n",
    "\n",
    "# The number of periods is the number of dates \n",
    "nper = len(dates)+1\n",
    "\n",
    "# Each period has a length of one because the timestep is one day, have the 1st stress period be out of the date range\n",
    "# need to have the transient packages start on the second stress period\n",
    "perlen = np.ones(nper)\n",
    "# Steady or transient periods\n",
    "steady = np.zeros(nper)\n",
    "steady[0] = 1 # first period is steady state, rest are transient\n",
    "steady = steady.astype('bool').tolist()\n",
    "# Reduce the number of timesteps to decrease run time\n",
    "nstp = np.ones(nper)*np.append(np.ones(1),6*np.ones(nper-1))"
   ]
  },
  {
   "cell_type": "code",
   "execution_count": 5,
   "metadata": {
    "scrolled": true
   },
   "outputs": [],
   "source": [
    "#Local Model Parameters\n",
    "nrow=60\n",
    "ncol=105\n",
    "delr=200\n",
    "delc=200\n",
    "rotation=44.7\n",
    "\n",
    "# The number of layers should be 1 for the Mehrten formation, 1 for the laguna plus the number of TPROGS layers,\n",
    "# where the Laguna formation will be clipped by the TPROGS layers\n",
    "num_tprogs = 200\n",
    "nlay = 2 + num_tprogs\n",
    "tprog_thick = 0.5\n",
    "\n",
    "# There is essentially no difference bewtween WGS84 and NAD83 for UTM Zone 10N\n",
    "# proj4_str='EPSG:26910'\n",
    "proj4_str='+proj=utm +zone=10 +ellps=WGS84 +datum=WGS84 +units=m +no_defs '"
   ]
  },
  {
   "cell_type": "code",
   "execution_count": 6,
   "metadata": {},
   "outputs": [
    {
     "name": "stdout",
     "output_type": "stream",
     "text": [
      "C:\\Users\\arodri44\\Documents\\GitHub\\CosumnesRiverRecharge C:\\Users\\arodri44/Box/research_cosumnes/GWFlowModel\n"
     ]
    }
   ],
   "source": [
    "## Set up directory referencing\n",
    "# Package data\n",
    "git_dir = os.path.dirname(os.path.dirname(os.getcwd()))\n",
    "gwfm_dir = '\\\\'.join(str.split(git_dir,'\\\\')[0:3])+ '/Box/research_cosumnes/GWFlowModel'\n",
    "print(git_dir, gwfm_dir)"
   ]
  },
  {
   "cell_type": "code",
   "execution_count": 7,
   "metadata": {},
   "outputs": [
    {
     "data": {
      "text/plain": [
       "([(-110002.0, 39079.0),\n",
       "  (-117894.0, 48118.82),\n",
       "  (-102074.0, 61929.6),\n",
       "  (-94182.3, 52889.77),\n",
       "  (-110002.0, 39079.0)],\n",
       " -117894.0,\n",
       " 48118.82)"
      ]
     },
     "execution_count": 7,
     "metadata": {},
     "output_type": "execute_result"
    },
    {
     "data": {
      "image/png": "[encoded data removed]",
      "text/plain": [
       "<Figure size 432x288 with 1 Axes>"
      ]
     },
     "metadata": {
      "needs_background": "light"
     },
     "output_type": "display_data"
    }
   ],
   "source": [
    "from flopy.utils.geometry import Polygon, LineString, Point\n",
    "# Original model domain, 44.7 deg angle\n",
    "#m_domain = gpd.read_file(gwfm_dir+'\\\\GWModelDomain_UTM10N\\\\GWModelDomain_Rec_UTM10N.shp')\n",
    "fig,ax=plt.subplots()\n",
    "#m_domain.plot(ax=ax, color=\"None\")\n",
    "# New model domain 52.9 deg\n",
    "#m_domain = gpd.read_file(gwfm_dir+'\\\\NewModelDomain\\\\GWModelDomain_52_9deg_UTM10N_WGS84.shp')\n",
    "m_domain = gpd.read_file(gwfm_dir+'\\\\DIS_data\\\\Inset_grid_44_7\\\\MODFLOW_grid_final.shp')\n",
    "m_domain.plot(ax=ax, color=\"None\")\n",
    "\n",
    "# Need to check this when changing model domains\n",
    "xul, yul = list(m_domain.geometry.values[0].exterior.coords)[1]\n",
    "list(m_domain.geometry.values[0].exterior.coords), xul, yul\n",
    "# m_domain.geometry.values[0].exterior"
   ]
  },
  {
   "cell_type": "markdown",
   "metadata": {},
   "source": [
    "According to Flopy GitHub \"Technically you need to create both a SpatialReference object and a ModelGrid object, but in practice the code looks very similar and can easily be implemented in one line.\"\n",
    "WGS84 Zone 10N has EPSG: 32610  \n",
    "Lower left corner of model is   \n",
    "Zone 10 N  \n",
    "Easting: 661211.18 m E  \n",
    "Northing: 4249696.50 m N  \n",
    "angle is approximate 53 degrees  "
   ]
  },
  {
   "cell_type": "code",
   "execution_count": 8,
   "metadata": {},
   "outputs": [],
   "source": [
    "ext_dir = 'F:/WRDAPP'\n",
    "c_dir = 'C:/WRDAPP'\n",
    "\n",
    "if os.path.exists(ext_dir):\n",
    "    loadpth = ext_dir \n",
    "elif os.path.exists(c_dir):\n",
    "    loadpth = c_dir \n",
    "\n",
    "loadpth = loadpth +'/GWFlowModel/Cosumnes/Cosumnes_simple/'\n",
    "model_ws = loadpth+'WEL_RIV_RCH_tprogs_'+str(nlay)+'layers'\n"
   ]
  },
  {
   "cell_type": "code",
   "execution_count": 9,
   "metadata": {},
   "outputs": [],
   "source": [
    "m = flopy.modflow.Modflow(modelname = 'MF', exe_name = 'MODFLOW-NWT.exe', \n",
    "                          version = 'mfnwt', model_ws=model_ws)\n",
    "# m = flopy.modflow.Modflow(modelname = 'MF', exe_name = 'mf2005', \n",
    "#                           version = 'mf2005', model_ws='data')\n",
    "#lenuni = 1 is in ft, lenuni = 2 is in meters\n",
    "# itmuni is time unit 5 = years, 4=days, 3 =hours, 2=minutes, 1=seconds\n",
    "dis = flopy.modflow.ModflowDis(nrow=nrow, ncol=ncol, \n",
    "                               nlay=nlay, delr=delr, delc=delc,\n",
    "                               model=m, lenuni = 2, itmuni = 4,\n",
    "                               xul = xul, yul = yul,rotation=rotation, proj4_str=proj4_str,\n",
    "                              nper = nper, perlen=perlen, nstp=nstp, steady = steady,\n",
    "                              start_datetime = strt_date)\n"
   ]
  },
  {
   "cell_type": "code",
   "execution_count": 10,
   "metadata": {},
   "outputs": [],
   "source": [
    "# m.modelgrid.set_coord_info(xoff=xoff, yoff=yoff, proj4='EPSG:32610', angrot=angrot)\n",
    "mg = m.modelgrid\n",
    "# Write model grid to shapefile for later use\n",
    "# mg.write_shapefile(gwfm_dir+'/DIS_data/grid/grid.shp', epsg = '32610')\n",
    "# mg.write_shapefile(gwfm_dir+'/DIS_data/44_7_grid/44_7_grid.shp', epsg = '32610')\n",
    "#mg.write_shapefile(gwfm_dir+'/DIS_data/Inset_grid_44_7/44_7_grid.shp', epsg = '3310')\n"
   ]
  },
  {
   "cell_type": "code",
   "execution_count": 207,
   "metadata": {},
   "outputs": [],
   "source": [
    "# Load model grid as geopandas object\n",
    "grid_regional = gpd.read_file(gwfm_dir+'/DIS_data/grid/grid.shp')\n",
    "# grid_p = gpd.read_file(gwfm_dir+'/DIS_data/44_7_grid/44_7_grid.shp')\n",
    "grid_p = gpd.read_file(gwfm_dir+'/DIS_data/Inset_grid_44_7/44_7_grid.shp')\n",
    "\n",
    "# print(gwfm_dir)\n",
    "\n",
    "# Find Michigan Bar location\n",
    "# mb_gpd = sensors[sensors.Sensor_id == \"MI_Bar\"]\n",
    "# mb_grid = gpd.sjoin(mb_gpd, grid_p, how = 'left', op = 'intersects')"
   ]
  },
  {
   "cell_type": "code",
   "execution_count": 208,
   "metadata": {},
   "outputs": [],
   "source": [
    "grid_p_temp = grid_p.copy()\n",
    "grid_p_temp.geometry = grid_p_temp.buffer(-99.9999)\n",
    "# grid_regional.geometry = grid_regional.buffer(-100)\n",
    "\n",
    "grid_ref = gpd.sjoin(grid_p_temp, grid_regional.to_crs('epsg:3310'), how = 'left',predicate = 'within',\n",
    "                     lsuffix='inset', rsuffix = 'regional')\n",
    "# grid_ref = pd.DataFrame(grid_ref.loc[:,['row_inset','column_inset','row_regional','column_regional']])\n",
    "# reset geometry from tiny polygon to rectangle\n",
    "grid_ref.geometry = grid_p.geometry"
   ]
  },
  {
   "cell_type": "code",
   "execution_count": 17,
   "metadata": {},
   "outputs": [
    {
     "name": "stdout",
     "output_type": "stream",
     "text": [
      "(-109453.26356627395, 39589.226313524094) (-117894.0, 48118.82000000001) (-102967.21104866716, 62890.108759020586) (-94526.47461494111, 54360.51507254467)\n"
     ]
    }
   ],
   "source": [
    "# Get vertexes of model domain\n",
    "# ll = mg.get_coords(0, 0) #lower left\n",
    "# lr = mg.get_coords(nrow*delr, 0) #lower right\n",
    "# ur = mg.get_coords(nrow*delr, ncol*delc) #upper right\n",
    "# ul = mg.get_coords(0, ncol*delc) #upper left\n",
    "ll = mg.get_coords(0, 0) #lower left\n",
    "lr = mg.get_coords(0, nrow*delr) #lower right\n",
    "ur = mg.get_coords(ncol*delc, nrow*delr) #upper right\n",
    "ul = mg.get_coords(ncol*delc, 0) #upper left\n",
    "print(ll, lr, ur, ul)\n",
    "\n",
    "# Shapefile of model bounds\n",
    "from shapely.geometry import Polygon\n",
    "vertices = np.stack(np.asarray((ll,lr, ur, ul)))\n",
    "vertices\n",
    "geoms = Polygon(vertices)"
   ]
  },
  {
   "cell_type": "markdown",
   "metadata": {},
   "source": [
    "### Raster files can be loaded using the `Raster.load` method"
   ]
  },
  {
   "cell_type": "code",
   "execution_count": 20,
   "metadata": {},
   "outputs": [],
   "source": [
    "# Full size dem of northern sac valley\n",
    "raster_name = gwfm_dir+\"/DEM_data/Cosumnes_DEM_3310.tif\"\n",
    "rio10_utm = Raster.load(raster_name)"
   ]
  },
  {
   "cell_type": "code",
   "execution_count": 23,
   "metadata": {},
   "outputs": [
    {
     "data": {
      "image/png": "[encoded data removed]",
      "text/plain": [
       "<Figure size 432x288 with 1 Axes>"
      ]
     },
     "metadata": {
      "needs_background": "light"
     },
     "output_type": "display_data"
    },
    {
     "ename": "AttributeError",
     "evalue": "'numpy.ndarray' object has no attribute 'append'",
     "output_type": "error",
     "traceback": [
      "\u001b[1;31m---------------------------------------------------------------------------\u001b[0m",
      "\u001b[1;31mAttributeError\u001b[0m                            Traceback (most recent call last)",
      "\u001b[1;32m~\\AppData\\Local\\Temp/ipykernel_11524/1120454386.py\u001b[0m in \u001b[0;36m<module>\u001b[1;34m\u001b[0m\n\u001b[0;32m      1\u001b[0m \u001b[0mrio10_utm\u001b[0m\u001b[1;33m.\u001b[0m\u001b[0mplot\u001b[0m\u001b[1;33m(\u001b[0m\u001b[1;33m)\u001b[0m\u001b[1;33m\u001b[0m\u001b[1;33m\u001b[0m\u001b[0m\n\u001b[0;32m      2\u001b[0m \u001b[0mt0\u001b[0m \u001b[1;33m=\u001b[0m \u001b[0mtime\u001b[0m\u001b[1;33m.\u001b[0m\u001b[0mtime\u001b[0m\u001b[1;33m(\u001b[0m\u001b[1;33m)\u001b[0m\u001b[1;33m\u001b[0m\u001b[1;33m\u001b[0m\u001b[0m\n\u001b[1;32m----> 3\u001b[1;33m \u001b[0mrio10_utm\u001b[0m\u001b[1;33m.\u001b[0m\u001b[0mcrop\u001b[0m\u001b[1;33m(\u001b[0m\u001b[0mvertices\u001b[0m\u001b[1;33m,\u001b[0m \u001b[0minvert\u001b[0m\u001b[1;33m=\u001b[0m\u001b[1;32mFalse\u001b[0m\u001b[1;33m)\u001b[0m\u001b[1;33m\u001b[0m\u001b[1;33m\u001b[0m\u001b[0m\n\u001b[0m\u001b[0;32m      4\u001b[0m \u001b[0mcrop_time\u001b[0m \u001b[1;33m=\u001b[0m \u001b[0mtime\u001b[0m\u001b[1;33m.\u001b[0m\u001b[0mtime\u001b[0m\u001b[1;33m(\u001b[0m\u001b[1;33m)\u001b[0m \u001b[1;33m-\u001b[0m \u001b[0mt0\u001b[0m\u001b[1;33m\u001b[0m\u001b[1;33m\u001b[0m\u001b[0m\n\u001b[0;32m      5\u001b[0m \u001b[0mrio10_utm\u001b[0m\u001b[1;33m.\u001b[0m\u001b[0mplot\u001b[0m\u001b[1;33m(\u001b[0m\u001b[1;33m)\u001b[0m\u001b[1;33m\u001b[0m\u001b[1;33m\u001b[0m\u001b[0m\n",
      "\u001b[1;32m~\\Anaconda3\\envs\\geosp\\lib\\site-packages\\flopy\\utils\\rasters.py\u001b[0m in \u001b[0;36mcrop\u001b[1;34m(self, polygon, invert)\u001b[0m\n\u001b[0;32m    600\u001b[0m                 \u001b[1;32mfrom\u001b[0m \u001b[0maffine\u001b[0m \u001b[1;32mimport\u001b[0m \u001b[0mAffine\u001b[0m\u001b[1;33m\u001b[0m\u001b[1;33m\u001b[0m\u001b[0m\n\u001b[0;32m    601\u001b[0m \u001b[1;33m\u001b[0m\u001b[0m\n\u001b[1;32m--> 602\u001b[1;33m             \u001b[0mmask\u001b[0m \u001b[1;33m=\u001b[0m \u001b[0mself\u001b[0m\u001b[1;33m.\u001b[0m\u001b[0m_intersection\u001b[0m\u001b[1;33m(\u001b[0m\u001b[0mpolygon\u001b[0m\u001b[1;33m,\u001b[0m \u001b[0minvert\u001b[0m\u001b[1;33m)\u001b[0m\u001b[1;33m\u001b[0m\u001b[1;33m\u001b[0m\u001b[0m\n\u001b[0m\u001b[0;32m    603\u001b[0m \u001b[1;33m\u001b[0m\u001b[0m\n\u001b[0;32m    604\u001b[0m             \u001b[0mxc\u001b[0m \u001b[1;33m=\u001b[0m \u001b[0mself\u001b[0m\u001b[1;33m.\u001b[0m\u001b[0mxcenters\u001b[0m\u001b[1;33m\u001b[0m\u001b[1;33m\u001b[0m\u001b[0m\n",
      "\u001b[1;32m~\\Anaconda3\\envs\\geosp\\lib\\site-packages\\flopy\\utils\\rasters.py\u001b[0m in \u001b[0;36m_intersection\u001b[1;34m(self, polygon, invert)\u001b[0m\n\u001b[0;32m    770\u001b[0m \u001b[1;33m\u001b[0m\u001b[0m\n\u001b[0;32m    771\u001b[0m         \u001b[1;31m# step 3: do intersection\u001b[0m\u001b[1;33m\u001b[0m\u001b[1;33m\u001b[0m\u001b[1;33m\u001b[0m\u001b[0m\n\u001b[1;32m--> 772\u001b[1;33m         \u001b[0mmask\u001b[0m \u001b[1;33m=\u001b[0m \u001b[0mself\u001b[0m\u001b[1;33m.\u001b[0m\u001b[0m_point_in_polygon\u001b[0m\u001b[1;33m(\u001b[0m\u001b[0mxc\u001b[0m\u001b[1;33m,\u001b[0m \u001b[0myc\u001b[0m\u001b[1;33m,\u001b[0m \u001b[0mpolygon\u001b[0m\u001b[1;33m)\u001b[0m\u001b[1;33m\u001b[0m\u001b[1;33m\u001b[0m\u001b[0m\n\u001b[0m\u001b[0;32m    773\u001b[0m         \u001b[1;32mif\u001b[0m \u001b[0minvert\u001b[0m\u001b[1;33m:\u001b[0m\u001b[1;33m\u001b[0m\u001b[1;33m\u001b[0m\u001b[0m\n\u001b[0;32m    774\u001b[0m             \u001b[0mmask\u001b[0m \u001b[1;33m=\u001b[0m \u001b[0mnp\u001b[0m\u001b[1;33m.\u001b[0m\u001b[0minvert\u001b[0m\u001b[1;33m(\u001b[0m\u001b[0mmask\u001b[0m\u001b[1;33m)\u001b[0m\u001b[1;33m\u001b[0m\u001b[1;33m\u001b[0m\u001b[0m\n",
      "\u001b[1;32m~\\Anaconda3\\envs\\geosp\\lib\\site-packages\\flopy\\utils\\geometry.py\u001b[0m in \u001b[0;36mpoint_in_polygon\u001b[1;34m(xc, yc, polygon)\u001b[0m\n\u001b[0;32m    885\u001b[0m     \u001b[1;31m# close polygon if it isn't already\u001b[0m\u001b[1;33m\u001b[0m\u001b[1;33m\u001b[0m\u001b[1;33m\u001b[0m\u001b[0m\n\u001b[0;32m    886\u001b[0m     \u001b[1;32mif\u001b[0m \u001b[1;33m(\u001b[0m\u001b[0mx0\u001b[0m\u001b[1;33m,\u001b[0m \u001b[0my0\u001b[0m\u001b[1;33m)\u001b[0m \u001b[1;33m!=\u001b[0m \u001b[1;33m(\u001b[0m\u001b[0mxt\u001b[0m\u001b[1;33m,\u001b[0m \u001b[0myt\u001b[0m\u001b[1;33m)\u001b[0m\u001b[1;33m:\u001b[0m\u001b[1;33m\u001b[0m\u001b[1;33m\u001b[0m\u001b[0m\n\u001b[1;32m--> 887\u001b[1;33m         \u001b[0mpolygon\u001b[0m\u001b[1;33m.\u001b[0m\u001b[0mappend\u001b[0m\u001b[1;33m(\u001b[0m\u001b[1;33m(\u001b[0m\u001b[0mx0\u001b[0m\u001b[1;33m,\u001b[0m \u001b[0my0\u001b[0m\u001b[1;33m)\u001b[0m\u001b[1;33m)\u001b[0m\u001b[1;33m\u001b[0m\u001b[1;33m\u001b[0m\u001b[0m\n\u001b[0m\u001b[0;32m    888\u001b[0m \u001b[1;33m\u001b[0m\u001b[0m\n\u001b[0;32m    889\u001b[0m     \u001b[0mray_count\u001b[0m \u001b[1;33m=\u001b[0m \u001b[0mnp\u001b[0m\u001b[1;33m.\u001b[0m\u001b[0mzeros\u001b[0m\u001b[1;33m(\u001b[0m\u001b[0mxc\u001b[0m\u001b[1;33m.\u001b[0m\u001b[0mshape\u001b[0m\u001b[1;33m,\u001b[0m \u001b[0mdtype\u001b[0m\u001b[1;33m=\u001b[0m\u001b[0mint\u001b[0m\u001b[1;33m)\u001b[0m\u001b[1;33m\u001b[0m\u001b[1;33m\u001b[0m\u001b[0m\n",
      "\u001b[1;31mAttributeError\u001b[0m: 'numpy.ndarray' object has no attribute 'append'"
     ]
    }
   ],
   "source": [
    "rio10_utm.plot()\n",
    "t0 = time.time()\n",
    "rio10_utm.crop(vertices, invert=False)\n",
    "crop_time = time.time() - t0\n",
    "rio10_utm.plot()\n"
   ]
  },
  {
   "cell_type": "code",
   "execution_count": 24,
   "metadata": {},
   "outputs": [
    {
     "ename": "TypeError",
     "evalue": "resample_to_grid() got multiple values for argument 'band'",
     "output_type": "error",
     "traceback": [
      "\u001b[1;31m---------------------------------------------------------------------------\u001b[0m",
      "\u001b[1;31mTypeError\u001b[0m                                 Traceback (most recent call last)",
      "\u001b[1;32m~\\AppData\\Local\\Temp/ipykernel_11524/4122263515.py\u001b[0m in \u001b[0;36m<module>\u001b[1;34m\u001b[0m\n\u001b[0;32m      5\u001b[0m \u001b[1;31m# # the linear interpolation causes the program to crash\u001b[0m\u001b[1;33m\u001b[0m\u001b[1;33m\u001b[0m\u001b[1;33m\u001b[0m\u001b[0m\n\u001b[0;32m      6\u001b[0m \u001b[0mt0\u001b[0m \u001b[1;33m=\u001b[0m \u001b[0mtime\u001b[0m\u001b[1;33m.\u001b[0m\u001b[0mtime\u001b[0m\u001b[1;33m(\u001b[0m\u001b[1;33m)\u001b[0m\u001b[1;33m\u001b[0m\u001b[1;33m\u001b[0m\u001b[0m\n\u001b[1;32m----> 7\u001b[1;33m dem_data = rio10_utm.resample_to_grid(m.modelgrid.xcellcenters,\n\u001b[0m\u001b[0;32m      8\u001b[0m                                  \u001b[0mm\u001b[0m\u001b[1;33m.\u001b[0m\u001b[0mmodelgrid\u001b[0m\u001b[1;33m.\u001b[0m\u001b[0mycellcenters\u001b[0m\u001b[1;33m,\u001b[0m\u001b[1;33m\u001b[0m\u001b[1;33m\u001b[0m\u001b[0m\n\u001b[0;32m      9\u001b[0m                                  \u001b[0mband\u001b[0m\u001b[1;33m=\u001b[0m\u001b[0mrio10_utm\u001b[0m\u001b[1;33m.\u001b[0m\u001b[0mbands\u001b[0m\u001b[1;33m[\u001b[0m\u001b[1;36m0\u001b[0m\u001b[1;33m]\u001b[0m\u001b[1;33m,\u001b[0m\u001b[1;33m\u001b[0m\u001b[1;33m\u001b[0m\u001b[0m\n",
      "\u001b[1;31mTypeError\u001b[0m: resample_to_grid() got multiple values for argument 'band'"
     ]
    }
   ],
   "source": [
    "# Nearest neighbor determines the nearest pixel and assumes its value\n",
    "# linear is as it sounds, cubic is the smoothed version of linear essentially by using a cubic function\n",
    "# the linear method takes a very, very long time - an hour plus??, just stick with nearest\n",
    "# nearest takes 170.209 seconds - 220 seconds\n",
    "# # the linear interpolation causes the program to crash\n",
    "t0 = time.time()\n",
    "dem_data = rio10_utm.resample_to_grid(m.modelgrid.xcellcenters,\n",
    "                                 m.modelgrid.ycellcenters,\n",
    "                                 band=rio10_utm.bands[0],\n",
    "                                 method=\"nearest\")\n",
    "resample_time = time.time() - t0\n",
    "print(\"Resample time, nearest neighbor: {:.3f} sec\".format(time.time() - t0))"
   ]
  },
  {
   "cell_type": "code",
   "execution_count": 25,
   "metadata": {},
   "outputs": [
    {
     "name": "stderr",
     "output_type": "stream",
     "text": [
      "<>:5: DeprecationWarning: invalid escape sequence \\D\n",
      "<>:5: DeprecationWarning: invalid escape sequence \\D\n",
      "C:\\Users\\arodri44\\AppData\\Local\\Temp/ipykernel_11524/3354772653.py:5: DeprecationWarning: invalid escape sequence \\D\n",
      "  dem_data = np.loadtxt(gwfm_dir+'\\DIS_data\\dem_52_9_200m_linear.tsv', delimiter = '\\t')\n"
     ]
    }
   ],
   "source": [
    "# np.savetxt(gwfm_dir+'\\DIS_data\\dem_44_7_200m_nearest.tsv', dem_data, delimiter = '\\t')\n",
    "\n",
    "# Based on Maribeth's grid aligned with Alisha's TPROGS model\n",
    "# dem_data = np.loadtxt(gwfm_dir+'\\DIS_data\\dem_52_9_200m_nearest.tsv', delimiter = '\\t')\n",
    "dem_data = np.loadtxt(gwfm_dir+'\\DIS_data\\dem_52_9_200m_linear.tsv', delimiter = '\\t')\n",
    "# dem_data = np.loadtxt(gwfm_dir+'\\DIS_data\\dem_44_7_200m_linear_missing_right_corner.tsv', delimiter = '\\t')\n",
    "\n",
    "# dem_data = np.loadtxt(gwfm_dir+'\\DIS_data\\dem_44_7_200m_nearest.tsv', delimiter = '\\t')\n",
    "\n",
    "#import seaborn as sns\n",
    "#sns.heatmap(dem_data, cmap = 'viridis', vmin = 0)"
   ]
  },
  {
   "cell_type": "code",
   "execution_count": 219,
   "metadata": {},
   "outputs": [],
   "source": [
    "dem_inset = np.zeros((nrow,ncol))\n",
    "dem_inset[grid_ref.row_inset-1, grid_ref.column_inset-1] = dem_data[grid_ref.row_regional-1, grid_ref.column_regional-1]\n",
    "# renaming for use\n",
    "dem_regional = np.copy(dem_data)\n",
    "dem_data = np.copy(dem_inset)"
   ]
  },
  {
   "cell_type": "markdown",
   "metadata": {},
   "source": [
    "# Capture cross section of deeper geology"
   ]
  },
  {
   "cell_type": "code",
   "execution_count": 19,
   "metadata": {},
   "outputs": [],
   "source": [
    "# Pre-cretaceous metamorphic rocks - (variable thickness 200-500 ft thick)\n",
    "# Ione formation (200 ft thick)\n",
    "# Valley Springs formation (300 ft thick)\n",
    "# Mehrten Formation (100 ft thick to 300 ft thick) (1-2 deg dip)\n",
    "# Laguna Formation (less than 100 ft to between 200-300 ft thick) (less than 1 deg dip)\n",
    "# upper formation (informed by well logs) (100 ft)\n",
    "# ibound < 0 is constant head\n",
    "# ibound = 0 is inactive cell\n",
    "# ibound > 0 is active cell"
   ]
  },
  {
   "cell_type": "markdown",
   "metadata": {},
   "source": [
    "## Need to adjust for change in model grid, based on Michigan Bar previously, maybe also look at effect of model domain angle vs cross section angle"
   ]
  },
  {
   "cell_type": "code",
   "execution_count": 20,
   "metadata": {},
   "outputs": [],
   "source": [
    "\n",
    "# The stream gage at michigan bar is now 13 columns in from the boundary\n",
    "# mehrtenbound\n",
    "\n",
    "# Cross section E appears to have an angle of 0 compared to the model domain,"
   ]
  },
  {
   "cell_type": "code",
   "execution_count": 28,
   "metadata": {
    "scrolled": true
   },
   "outputs": [
    {
     "data": {
      "text/plain": [
       "[<matplotlib.lines.Line2D at 0x205bf557790>]"
      ]
     },
     "execution_count": 28,
     "metadata": {},
     "output_type": "execute_result"
    },
    {
     "data": {
      "image/png": "[encoded data removed]",
      "text/plain": [
       "<Figure size 432x288 with 1 Axes>"
      ]
     },
     "metadata": {
      "needs_background": "light"
     },
     "output_type": "display_data"
    }
   ],
   "source": [
    "# # columns are xtop_miles, ytop_ft_amsl, xbot_miles, ytop_ft_amsl\n",
    "# # XS upper bound should be at Michigan bar which is between Jackson road and Sacramento-Amador county line split\n",
    "# # Mile 36 is approximately where Michigan bar aligns with the cross section\n",
    "MB_XS_mile = 36\n",
    "mehrtenbound = pd.read_csv(gwfm_dir+'/DIS_data/Mehrten_boundary_x_y.csv', parse_dates = False, \n",
    "                index_col = False, sep = ',', header = 'infer')\n",
    "# Convert miles to feet and sets x value based on location of Michigan bar\n",
    "# 0 is michigan bar and each major change in geologic dip is based on distance from Michigan Bar\n",
    "mehrtenbound.xtop_miles = -5280*(MB_XS_mile - mehrtenbound.xtop_miles)\n",
    "mehrtenbound.xbot_miles = -5280*(MB_XS_mile - mehrtenbound.xbot_miles)\n",
    "# No flod boundary based on the original coordinates of the bottom of the Mehrten formation\n",
    "mehrtenbound.noflow_x_miles = -5280*(MB_XS_mile - mehrtenbound.noflow_x_miles)\n",
    "\n",
    "# East of mile 32 the entire vertical cross section, including up to the near entire surface\n",
    "# is composed of old geologic formations that are not water bearing\n",
    "volcanic_bound = (MB_XS_mile - 32)*-5280\n",
    "# noflow_ind = int((1-(volcanic_bound/sumx))*ncol)\n",
    "\n",
    "# Plot the x and y values\n",
    "fig, ax = plt.subplots(1, 1)\n",
    "mehrtenbound.plot(x = 'xtop_miles', y = 'ytop_ft_amsl', ax = ax)\n",
    "mehrtenbound.plot(x = 'xbot_miles', y = 'ybot_ft_amsl', ax = ax)\n",
    "plt.plot(-100*3.28*np.arange(0,len(dis.top[40,:])), np.flip(3.28*dis.top[40,:]))\n",
    "# print(mehrtenbound)"
   ]
  },
  {
   "cell_type": "code",
   "execution_count": 29,
   "metadata": {},
   "outputs": [],
   "source": [
    "\n",
    "def xy_to_botm(xbound_ft, ybound_ft, nspace,ntransversespace):\n",
    "    laybotm = np.zeros((ntransversespace, nspace))\n",
    "    # Nspace will be either nrow or ncol depending model direction\n",
    "    # ntransversespace is the opposite of nspace (ie nrow if nspace is ncol)\n",
    "    # Calculate the distance between each major change in dip\n",
    "    dx = np.diff(xbound_ft)\n",
    "    # Scale by the total distance across the coordinates to get percentages\n",
    "    sumx = np.sum(dx)\n",
    "    dx /= sumx\n",
    "    # Multiply the number of columns by the percent of columns in each section of constant dip\n",
    "    dx *= nspace\n",
    "    # Round the number of columns to allow proper use for indexing\n",
    "    nx = np.round(dx).astype(int)\n",
    "    # Fix any discrepancy in number of columns due to issues with rouding the percentages of columns\n",
    "    # Add a column to the last set of columns because there is already uncertainty at the deeper end\n",
    "    while(np.sum(nx)-nspace !=0):\n",
    "        if np.sum(nx)-nspace <0:\n",
    "            nx[-1] += 1\n",
    "        elif np.sum(nx)-nspace >0:\n",
    "            nx[-1] -= 1\n",
    "    sum(nx)\n",
    "\n",
    "    # Now split the coordinates into downsized coordinates in between each major change in dip\n",
    "    k = 0\n",
    "    for i in np.arange(0,len(nx)):\n",
    "        for j in np.arange(0,ntransversespace):\n",
    "            laybotm[j, k:k+nx[i]] = np.arange(ybound_ft[i],ybound_ft[i+1], -(ybound_ft[i]-ybound_ft[i+1])/nx[i])\n",
    "        k += nx[i]\n",
    "    return(laybotm)"
   ]
  },
  {
   "cell_type": "code",
   "execution_count": 30,
   "metadata": {},
   "outputs": [],
   "source": [
    "# # X (east -west) and y (up-down vertical) of major dip changes for Mehrten Formation top boundary\n",
    "\n",
    "# mehrten_top = xy_to_botm(mehrtenbound.xtop_miles,mehrtenbound.ytop_ft_amsl, ncol, nrow)\n",
    "# # X (east -west) and y (up-down vertical) of major dip changes for Mehrten Formation bottom boundary\n",
    "# # drop na is because there are less values to mark changes in the bottom than top boundary\n",
    "# mehrten_bottom = xy_to_botm(mehrtenbound.xbot_miles.dropna(),mehrtenbound.ybot_ft_amsl.dropna(), ncol, nrow)\n",
    "\n",
    "# # Original x,y data for Mehrten bottom boundary to represent the noflow bounds\n",
    "# no_flow_bound = xy_to_botm(mehrtenbound.noflow_x_miles.dropna(), mehrtenbound.noflow_y_ft_amsl.dropna(),ncol,nrow)"
   ]
  },
  {
   "cell_type": "code",
   "execution_count": 220,
   "metadata": {
    "scrolled": false
   },
   "outputs": [],
   "source": [
    "# botm = np.zeros((nlay, nrow, ncol))\n",
    "# # Convert units from ft to meters and flip to match direction\n",
    "# botm[-2,:,:] = np.flip(mehrten_top/3.28)\n",
    "# botm[-1,:,:] = np.flip(mehrten_bottom/3.28)\n",
    "# no_flow_bound = np.flip(no_flow_bound/3.28)\n",
    "# dis.botm = botm\n",
    "# # dis.plot()"
   ]
  },
  {
   "cell_type": "markdown",
   "metadata": {},
   "source": [
    "## Adjustment to bottom boundary to ensure sufficient top layer thickness for the TPROGS model\n",
    "Although the bottom boundaries are being artifically lowered to allow for sufficient layer thickness, this will be corrected when ibound is implemented based on where the actual bottom boundary is and where there is high elevations based on likelihood to be volcanics geology."
   ]
  },
  {
   "cell_type": "code",
   "execution_count": 34,
   "metadata": {},
   "outputs": [],
   "source": [
    "# The TPROGS model is 100m thick with some of it above the land surface\n",
    "# to be safe, there should be at least 50 meters below ground surface to the bottom boundary\n",
    "\n",
    "# Create TPROGS layers from bottom up\n",
    "# tprog_thick = 100/num_tprogs\n",
    "# botm[-3,:,:] = -80\n",
    "# for i in np.arange(-4,-3-num_tprogs,-1):\n",
    "#     botm[i,:,:] = botm[i+1,:,:] + tprog_thick\n",
    "    \n",
    "    \n",
    "# Create TPROGS layers from top down\n",
    "# tprog_thick = 100/num_tprogs\n",
    "# botm[0,:,:] = dem_data - tprog_thick\n",
    "# botm[0,:,:] = -10\n",
    "# for i in np.arange(1,num_tprogs):\n",
    "#     botm[i,:,:] = botm[i-1,:,:] -tprog_thick\n",
    "    \n",
    "# # Thickness to give to bottom layers below the TPROGS layers just to provide adequate spacing,\n",
    "# # this will be corrected by changing the geology in the layers above to account for what is actually in\n",
    "# # the Mehrten and what is in the Laguna formations, thickness of 5 also prevents any messy overlap\n",
    "# thickness_to_skip =10\n",
    "# # # Find where top boundary of Mehrten Formation rises within 10 meters of the top layer (10m for sufficient layer thickness)\n",
    "# bot3ind = np.min(np.where(botm[-2,:,:]>botm[-3,:,:]- thickness_to_skip)[1])\n",
    "\n",
    "# # # Where the top boundary of Mehrten was within 10 meters of the top layer \n",
    "# # # set it equal to top layer elevation minus 10 for sufficient layer thickness\n",
    "# botm[-2,:,bot3ind:] = botm[-3,0,bot3ind]- thickness_to_skip\n",
    "# # # Repeat steps above for bottom of Mehrten formation with the top of the Mehrten formation\n",
    "# bot3ind = np.min(np.where(botm[-1,0,:]>botm[-2,0,:]- thickness_to_skip))\n",
    "# botm[-1,:,bot3ind:] = botm[-2,0,bot3ind]-thickness_to_skip"
   ]
  },
  {
   "cell_type": "code",
   "execution_count": 225,
   "metadata": {},
   "outputs": [],
   "source": [
    "# rectangular set up of botm from -50 to 50\n",
    "botm = np.zeros((nlay, nrow, ncol))\n",
    "for n, elev in enumerate(np.arange(-50,50,0.5)):\n",
    "    botm[len(botm)-1-n,:,:] = elev\n"
   ]
  },
  {
   "cell_type": "code",
   "execution_count": 227,
   "metadata": {},
   "outputs": [],
   "source": [
    "# Set the elevation of the top layer based on the DEM\n",
    "# m.dis.top = dem_data\n",
    "m.dis.top = 50\n",
    "# Bottom of model based on geology\n",
    "m.dis.botm = botm\n",
    "# chk = dis.check()\n",
    "# chk.summary_array"
   ]
  },
  {
   "cell_type": "code",
   "execution_count": 228,
   "metadata": {},
   "outputs": [
    {
     "data": {
      "image/png": "[encoded data removed]",
      "text/plain": [
       "<Figure size 864x864 with 1 Axes>"
      ]
     },
     "metadata": {
      "needs_background": "light"
     },
     "output_type": "display_data"
    }
   ],
   "source": [
    "\n",
    "fig,ax = plt.subplots(figsize = (12,12))\n",
    "plt.plot(dem_data[8,:])\n",
    "\n",
    "for i in np.arange(0,nlay):\n",
    "    plt.plot(botm[i,8,:])"
   ]
  },
  {
   "cell_type": "markdown",
   "metadata": {},
   "source": [
    "## Import soil data for Lake Package, UZF Package, SFR Package hydraulic parameters"
   ]
  },
  {
   "cell_type": "code",
   "execution_count": 31,
   "metadata": {},
   "outputs": [],
   "source": [
    "# mb_name = gwfm_dir+\"/NewModelDomain/GWModelDomain_52_9deg_UTM10N_WGS84.shp\"\n",
    "\n",
    "# mb = gpd.read_file(mb_name)\n",
    "# mb = mb.to_crs('epsg:32610')"
   ]
  },
  {
   "cell_type": "code",
   "execution_count": 110,
   "metadata": {},
   "outputs": [],
   "source": [
    "uzf_path = gwfm_dir+'\\\\UZF_data'\n",
    "soil_path = uzf_path+'\\\\wss_gsmsoil_CA'\n",
    "# # Read in the soil map spatial data\n",
    "# soil_gpd = gpd.read_file(uzf_path+'\\\\wss_gsmsoil_CA\\\\spatial\\\\gsmsoilmu_a_ca.shp')\n",
    "# soil_gpd = soil_gpd.to_crs('EPSG:32610')\n",
    "# # soil_gpd.plot()"
   ]
  },
  {
   "cell_type": "markdown",
   "metadata": {},
   "source": [
    "### Write grid_uzf to shapefile to avoid having to repeat analysis"
   ]
  },
  {
   "cell_type": "code",
   "execution_count": 33,
   "metadata": {},
   "outputs": [],
   "source": [
    "# grid_uzf.to_file(uzf_path+'/final_grid_uzf/griduzf.shp')\n",
    "# grid_uzf = gpd.read_file(uzf_path+'/final_grid_uzf/griduzf.shp')"
   ]
  },
  {
   "cell_type": "code",
   "execution_count": 34,
   "metadata": {},
   "outputs": [],
   "source": [
    "# def fill_uzf(uzfvalues, grid_uzf):\n",
    "#     # convert geopandas object to regular np array for soil data\n",
    "#     temp = np.zeros((nrow,ncol))\n",
    "#     temp[(grid_uzf.row.values-1).astype(int),(grid_uzf.column.values-1).astype(int)] = uzfvalues\n",
    "#     return(temp)"
   ]
  },
  {
   "cell_type": "code",
   "execution_count": 111,
   "metadata": {},
   "outputs": [],
   "source": [
    "soilKs_array = np.loadtxt(uzf_path+'/final_soilKs.tsv', delimiter = '\\t')\n",
    "soiln_array = np.loadtxt(uzf_path+'/final_soiln.tsv', delimiter = '\\t')\n",
    "soileps_array = np.loadtxt(uzf_path+'/final_soileps.tsv', delimiter = '\\t')\n",
    "\n",
    "# soilKs_array = fill_uzf(grid_uzf.Ksat_Rep, grid_uzf)\n",
    "# soiln_array = fill_uzf(grid_uzf.Porosity_R, grid_uzf)\n",
    "# soileps_array = fill_uzf(grid_uzf.EPS, grid_uzf)\n",
    "\n",
    "# np.savetxt(uzf_path+'/final_soilKs.tsv', soilKs_array, delimiter = '\\t')\n",
    "# np.savetxt(uzf_path+'/final_soiln.tsv', soiln_array, delimiter = '\\t')\n",
    "# np.savetxt(uzf_path+'/final_soileps.tsv', soileps_array, delimiter = '\\t')"
   ]
  },
  {
   "cell_type": "markdown",
   "metadata": {},
   "source": [
    "# RIV"
   ]
  },
  {
   "cell_type": "code",
   "execution_count": 41,
   "metadata": {},
   "outputs": [],
   "source": [
    "sfr_dir = gwfm_dir+'/SFR_data/'"
   ]
  },
  {
   "cell_type": "code",
   "execution_count": 42,
   "metadata": {},
   "outputs": [],
   "source": [
    "# grid_sfr.to_file(sfr_dir+'/final_grid_sfr/grid_sfr.shp')\n",
    "grid_sfr = gpd.read_file(sfr_dir+'/final_grid_sfr/grid_sfr.shp')\n",
    "grid_sfr = grid_sfr.rename(columns = {'row':'row_regional','column':'column_regional'})\n",
    "grid_sfr= grid_sfr.set_index(['row_regional','column_regional'])\n"
   ]
  },
  {
   "cell_type": "code",
   "execution_count": 43,
   "metadata": {},
   "outputs": [
    {
     "data": {
      "text/html": [
       "<div>\n",
       "<style scoped>\n",
       "    .dataframe tbody tr th:only-of-type {\n",
       "        vertical-align: middle;\n",
       "    }\n",
       "\n",
       "    .dataframe tbody tr th {\n",
       "        vertical-align: top;\n",
       "    }\n",
       "\n",
       "    .dataframe thead th {\n",
       "        text-align: right;\n",
       "    }\n",
       "</style>\n",
       "<table border=\"1\" class=\"dataframe\">\n",
       "  <thead>\n",
       "    <tr style=\"text-align: right;\">\n",
       "      <th></th>\n",
       "      <th></th>\n",
       "      <th>node</th>\n",
       "      <th>index_righ</th>\n",
       "      <th>z</th>\n",
       "      <th>easting</th>\n",
       "      <th>northing</th>\n",
       "      <th>slope</th>\n",
       "      <th>Point_orde</th>\n",
       "      <th>length_m</th>\n",
       "      <th>reach</th>\n",
       "      <th>geometry</th>\n",
       "    </tr>\n",
       "    <tr>\n",
       "      <th>row_regional</th>\n",
       "      <th>column_regional</th>\n",
       "      <th></th>\n",
       "      <th></th>\n",
       "      <th></th>\n",
       "      <th></th>\n",
       "      <th></th>\n",
       "      <th></th>\n",
       "      <th></th>\n",
       "      <th></th>\n",
       "      <th></th>\n",
       "      <th></th>\n",
       "    </tr>\n",
       "  </thead>\n",
       "  <tbody>\n",
       "    <tr>\n",
       "      <th rowspan=\"2\" valign=\"top\">94.0</th>\n",
       "      <th>219.0</th>\n",
       "      <td>21609</td>\n",
       "      <td>280.0</td>\n",
       "      <td>52.796051</td>\n",
       "      <td>670841.187393</td>\n",
       "      <td>4.263264e+06</td>\n",
       "      <td>0.0020</td>\n",
       "      <td>280.0</td>\n",
       "      <td>130</td>\n",
       "      <td>1</td>\n",
       "      <td>POLYGON ((670683.251 4263319.151, 670803.892 4...</td>\n",
       "    </tr>\n",
       "    <tr>\n",
       "      <th>218.0</th>\n",
       "      <td>21608</td>\n",
       "      <td>298.5</td>\n",
       "      <td>52.426051</td>\n",
       "      <td>670668.236881</td>\n",
       "      <td>4.263210e+06</td>\n",
       "      <td>0.0020</td>\n",
       "      <td>298.5</td>\n",
       "      <td>240</td>\n",
       "      <td>2</td>\n",
       "      <td>POLYGON ((670562.609 4263159.634, 670683.251 4...</td>\n",
       "    </tr>\n",
       "    <tr>\n",
       "      <th rowspan=\"3\" valign=\"top\">93.0</th>\n",
       "      <th>217.0</th>\n",
       "      <td>21377</td>\n",
       "      <td>324.5</td>\n",
       "      <td>51.906051</td>\n",
       "      <td>670442.468974</td>\n",
       "      <td>4.263109e+06</td>\n",
       "      <td>0.0020</td>\n",
       "      <td>324.5</td>\n",
       "      <td>200</td>\n",
       "      <td>3</td>\n",
       "      <td>POLYGON ((670282.451 4263120.759, 670403.092 4...</td>\n",
       "    </tr>\n",
       "    <tr>\n",
       "      <th>216.0</th>\n",
       "      <td>21376</td>\n",
       "      <td>345.0</td>\n",
       "      <td>51.496051</td>\n",
       "      <td>670274.742955</td>\n",
       "      <td>4.263004e+06</td>\n",
       "      <td>0.0020</td>\n",
       "      <td>345.0</td>\n",
       "      <td>210</td>\n",
       "      <td>4</td>\n",
       "      <td>POLYGON ((670161.809 4262961.242, 670282.451 4...</td>\n",
       "    </tr>\n",
       "    <tr>\n",
       "      <th>215.0</th>\n",
       "      <td>21375</td>\n",
       "      <td>361.0</td>\n",
       "      <td>51.176051</td>\n",
       "      <td>670157.742069</td>\n",
       "      <td>4.262904e+06</td>\n",
       "      <td>0.0020</td>\n",
       "      <td>361.0</td>\n",
       "      <td>110</td>\n",
       "      <td>5</td>\n",
       "      <td>POLYGON ((670041.168 4262801.725, 670161.809 4...</td>\n",
       "    </tr>\n",
       "    <tr>\n",
       "      <th>...</th>\n",
       "      <th>...</th>\n",
       "      <td>...</td>\n",
       "      <td>...</td>\n",
       "      <td>...</td>\n",
       "      <td>...</td>\n",
       "      <td>...</td>\n",
       "      <td>...</td>\n",
       "      <td>...</td>\n",
       "      <td>...</td>\n",
       "      <td>...</td>\n",
       "      <td>...</td>\n",
       "    </tr>\n",
       "    <tr>\n",
       "      <th>46.0</th>\n",
       "      <th>8.0</th>\n",
       "      <td>10358</td>\n",
       "      <td>5968.0</td>\n",
       "      <td>0.624646</td>\n",
       "      <td>637733.164364</td>\n",
       "      <td>4.235512e+06</td>\n",
       "      <td>0.0003</td>\n",
       "      <td>5968.0</td>\n",
       "      <td>230</td>\n",
       "      <td>252</td>\n",
       "      <td>POLYGON ((637571.068 4235451.906, 637691.710 4...</td>\n",
       "    </tr>\n",
       "    <tr>\n",
       "      <th>45.0</th>\n",
       "      <th>8.0</th>\n",
       "      <td>10128</td>\n",
       "      <td>5988.5</td>\n",
       "      <td>0.563146</td>\n",
       "      <td>637534.930980</td>\n",
       "      <td>4.235523e+06</td>\n",
       "      <td>0.0003</td>\n",
       "      <td>5988.5</td>\n",
       "      <td>180</td>\n",
       "      <td>253</td>\n",
       "      <td>POLYGON ((637411.551 4235572.547, 637532.192 4...</td>\n",
       "    </tr>\n",
       "    <tr>\n",
       "      <th>44.0</th>\n",
       "      <th>7.0</th>\n",
       "      <td>9897</td>\n",
       "      <td>6014.5</td>\n",
       "      <td>0.485146</td>\n",
       "      <td>637283.184475</td>\n",
       "      <td>4.235568e+06</td>\n",
       "      <td>0.0003</td>\n",
       "      <td>6014.5</td>\n",
       "      <td>240</td>\n",
       "      <td>254</td>\n",
       "      <td>POLYGON ((637131.393 4235533.672, 637252.034 4...</td>\n",
       "    </tr>\n",
       "    <tr>\n",
       "      <th>43.0</th>\n",
       "      <th>6.0</th>\n",
       "      <td>9666</td>\n",
       "      <td>6045.0</td>\n",
       "      <td>0.393646</td>\n",
       "      <td>636984.521427</td>\n",
       "      <td>4.235538e+06</td>\n",
       "      <td>0.0003</td>\n",
       "      <td>6045.0</td>\n",
       "      <td>230</td>\n",
       "      <td>255</td>\n",
       "      <td>POLYGON ((636851.234 4235494.797, 636971.876 4...</td>\n",
       "    </tr>\n",
       "    <tr>\n",
       "      <th>42.0</th>\n",
       "      <th>5.0</th>\n",
       "      <td>9435</td>\n",
       "      <td>6073.0</td>\n",
       "      <td>0.309646</td>\n",
       "      <td>636715.548497</td>\n",
       "      <td>4.235490e+06</td>\n",
       "      <td>0.0003</td>\n",
       "      <td>6073.0</td>\n",
       "      <td>230</td>\n",
       "      <td>256</td>\n",
       "      <td>POLYGON ((636571.076 4235455.922, 636691.718 4...</td>\n",
       "    </tr>\n",
       "  </tbody>\n",
       "</table>\n",
       "<p>256 rows × 10 columns</p>\n",
       "</div>"
      ],
      "text/plain": [
       "                               node  index_righ          z        easting  \\\n",
       "row_regional column_regional                                                \n",
       "94.0         219.0            21609       280.0  52.796051  670841.187393   \n",
       "             218.0            21608       298.5  52.426051  670668.236881   \n",
       "93.0         217.0            21377       324.5  51.906051  670442.468974   \n",
       "             216.0            21376       345.0  51.496051  670274.742955   \n",
       "             215.0            21375       361.0  51.176051  670157.742069   \n",
       "...                             ...         ...        ...            ...   \n",
       "46.0         8.0              10358      5968.0   0.624646  637733.164364   \n",
       "45.0         8.0              10128      5988.5   0.563146  637534.930980   \n",
       "44.0         7.0               9897      6014.5   0.485146  637283.184475   \n",
       "43.0         6.0               9666      6045.0   0.393646  636984.521427   \n",
       "42.0         5.0               9435      6073.0   0.309646  636715.548497   \n",
       "\n",
       "                                  northing   slope  Point_orde  length_m  \\\n",
       "row_regional column_regional                                               \n",
       "94.0         219.0            4.263264e+06  0.0020       280.0       130   \n",
       "             218.0            4.263210e+06  0.0020       298.5       240   \n",
       "93.0         217.0            4.263109e+06  0.0020       324.5       200   \n",
       "             216.0            4.263004e+06  0.0020       345.0       210   \n",
       "             215.0            4.262904e+06  0.0020       361.0       110   \n",
       "...                                    ...     ...         ...       ...   \n",
       "46.0         8.0              4.235512e+06  0.0003      5968.0       230   \n",
       "45.0         8.0              4.235523e+06  0.0003      5988.5       180   \n",
       "44.0         7.0              4.235568e+06  0.0003      6014.5       240   \n",
       "43.0         6.0              4.235538e+06  0.0003      6045.0       230   \n",
       "42.0         5.0              4.235490e+06  0.0003      6073.0       230   \n",
       "\n",
       "                              reach  \\\n",
       "row_regional column_regional          \n",
       "94.0         219.0                1   \n",
       "             218.0                2   \n",
       "93.0         217.0                3   \n",
       "             216.0                4   \n",
       "             215.0                5   \n",
       "...                             ...   \n",
       "46.0         8.0                252   \n",
       "45.0         8.0                253   \n",
       "44.0         7.0                254   \n",
       "43.0         6.0                255   \n",
       "42.0         5.0                256   \n",
       "\n",
       "                                                                       geometry  \n",
       "row_regional column_regional                                                     \n",
       "94.0         219.0            POLYGON ((670683.251 4263319.151, 670803.892 4...  \n",
       "             218.0            POLYGON ((670562.609 4263159.634, 670683.251 4...  \n",
       "93.0         217.0            POLYGON ((670282.451 4263120.759, 670403.092 4...  \n",
       "             216.0            POLYGON ((670161.809 4262961.242, 670282.451 4...  \n",
       "             215.0            POLYGON ((670041.168 4262801.725, 670161.809 4...  \n",
       "...                                                                         ...  \n",
       "46.0         8.0              POLYGON ((637571.068 4235451.906, 637691.710 4...  \n",
       "45.0         8.0              POLYGON ((637411.551 4235572.547, 637532.192 4...  \n",
       "44.0         7.0              POLYGON ((637131.393 4235533.672, 637252.034 4...  \n",
       "43.0         6.0              POLYGON ((636851.234 4235494.797, 636971.876 4...  \n",
       "42.0         5.0              POLYGON ((636571.076 4235455.922, 636691.718 4...  \n",
       "\n",
       "[256 rows x 10 columns]"
      ]
     },
     "execution_count": 43,
     "metadata": {},
     "output_type": "execute_result"
    }
   ],
   "source": [
    "grid_sfr"
   ]
  },
  {
   "cell_type": "code",
   "execution_count": 103,
   "metadata": {},
   "outputs": [],
   "source": [
    "grid_ref = grid_ref.rename({'row_inset':'row','column_inset':'column'},axis=1)"
   ]
  },
  {
   "cell_type": "code",
   "execution_count": 104,
   "metadata": {},
   "outputs": [],
   "source": [
    "# alternate method for row referncing\n",
    "# grid_ref.set_index(['row_regional','column_regional']).loc[grid_sfr]\n",
    "# grid_sfr.loc[grid_ref.loc[:,['row_regional','column_regional']].values.tolist()]\n",
    "\n",
    "# join local and regional grid for subsetting river package\n",
    "grid_sfr = grid_sfr.join(grid_ref.set_index(['row_regional','column_regional']), how='inner',rsuffix = 'grid' )\n"
   ]
  },
  {
   "cell_type": "code",
   "execution_count": 105,
   "metadata": {},
   "outputs": [
    {
     "data": {
      "text/html": [
       "<div>\n",
       "<style scoped>\n",
       "    .dataframe tbody tr th:only-of-type {\n",
       "        vertical-align: middle;\n",
       "    }\n",
       "\n",
       "    .dataframe tbody tr th {\n",
       "        vertical-align: top;\n",
       "    }\n",
       "\n",
       "    .dataframe thead th {\n",
       "        text-align: right;\n",
       "    }\n",
       "</style>\n",
       "<table border=\"1\" class=\"dataframe\">\n",
       "  <thead>\n",
       "    <tr style=\"text-align: right;\">\n",
       "      <th></th>\n",
       "      <th></th>\n",
       "      <th>node</th>\n",
       "      <th>index_righ</th>\n",
       "      <th>z</th>\n",
       "      <th>easting</th>\n",
       "      <th>northing</th>\n",
       "      <th>slope</th>\n",
       "      <th>Point_orde</th>\n",
       "      <th>length_m</th>\n",
       "      <th>reach</th>\n",
       "      <th>geometry</th>\n",
       "      <th>...</th>\n",
       "      <th>column_inset</th>\n",
       "      <th>geometrygrid</th>\n",
       "      <th>index_regional</th>\n",
       "      <th>node_regional</th>\n",
       "      <th>node_insetgrid</th>\n",
       "      <th>row</th>\n",
       "      <th>column</th>\n",
       "      <th>geometrygrid</th>\n",
       "      <th>index_regionalgrid</th>\n",
       "      <th>node_regionalgrid</th>\n",
       "    </tr>\n",
       "    <tr>\n",
       "      <th>row_regional</th>\n",
       "      <th>column_regional</th>\n",
       "      <th></th>\n",
       "      <th></th>\n",
       "      <th></th>\n",
       "      <th></th>\n",
       "      <th></th>\n",
       "      <th></th>\n",
       "      <th></th>\n",
       "      <th></th>\n",
       "      <th></th>\n",
       "      <th></th>\n",
       "      <th></th>\n",
       "      <th></th>\n",
       "      <th></th>\n",
       "      <th></th>\n",
       "      <th></th>\n",
       "      <th></th>\n",
       "      <th></th>\n",
       "      <th></th>\n",
       "      <th></th>\n",
       "      <th></th>\n",
       "      <th></th>\n",
       "    </tr>\n",
       "  </thead>\n",
       "  <tbody>\n",
       "    <tr>\n",
       "      <th>41.0</th>\n",
       "      <th>117.0</th>\n",
       "      <td>9317</td>\n",
       "      <td>3337.500000</td>\n",
       "      <td>16.693707</td>\n",
       "      <td>650147.318271</td>\n",
       "      <td>4.253417e+06</td>\n",
       "      <td>0.000300</td>\n",
       "      <td>3337.500000</td>\n",
       "      <td>160</td>\n",
       "      <td>135</td>\n",
       "      <td>POLYGON ((649923.418 4253442.443, 650044.060 4...</td>\n",
       "      <td>...</td>\n",
       "      <td>12</td>\n",
       "      <td>POLYGON ((-111969.194 45259.332, -111827.034 4...</td>\n",
       "      <td>9316.0</td>\n",
       "      <td>9317.0</td>\n",
       "      <td>3267</td>\n",
       "      <td>32</td>\n",
       "      <td>12</td>\n",
       "      <td>POLYGON ((-111969.194 45259.332, -111827.034 4...</td>\n",
       "      <td>9316.0</td>\n",
       "      <td>9317.0</td>\n",
       "    </tr>\n",
       "    <tr>\n",
       "      <th rowspan=\"4\" valign=\"top\">42.0</th>\n",
       "      <th>105.0</th>\n",
       "      <td>9535</td>\n",
       "      <td>3629.000000</td>\n",
       "      <td>14.190256</td>\n",
       "      <td>648796.542736</td>\n",
       "      <td>4.251417e+06</td>\n",
       "      <td>0.001190</td>\n",
       "      <td>3629.000000</td>\n",
       "      <td>210</td>\n",
       "      <td>148</td>\n",
       "      <td>POLYGON ((648635.236 4251407.600, 648755.878 4...</td>\n",
       "      <td>...</td>\n",
       "      <td>1</td>\n",
       "      <td>POLYGON ((-113110.916 43285.384, -112968.756 4...</td>\n",
       "      <td>9534.0</td>\n",
       "      <td>9535.0</td>\n",
       "      <td>3571</td>\n",
       "      <td>35</td>\n",
       "      <td>1</td>\n",
       "      <td>POLYGON ((-113110.916 43285.384, -112968.756 4...</td>\n",
       "      <td>9534.0</td>\n",
       "      <td>9535.0</td>\n",
       "    </tr>\n",
       "    <tr>\n",
       "      <th>106.0</th>\n",
       "      <td>9536</td>\n",
       "      <td>3608.500000</td>\n",
       "      <td>14.598351</td>\n",
       "      <td>648928.748289</td>\n",
       "      <td>4.251557e+06</td>\n",
       "      <td>0.000725</td>\n",
       "      <td>3608.500000</td>\n",
       "      <td>200</td>\n",
       "      <td>147</td>\n",
       "      <td>POLYGON ((648755.878 4251567.117, 648876.519 4...</td>\n",
       "      <td>...</td>\n",
       "      <td>2</td>\n",
       "      <td>POLYGON ((-112968.756 43426.063, -112826.596 4...</td>\n",
       "      <td>9535.0</td>\n",
       "      <td>9536.0</td>\n",
       "      <td>3572</td>\n",
       "      <td>35</td>\n",
       "      <td>2</td>\n",
       "      <td>POLYGON ((-112968.756 43426.063, -112826.596 4...</td>\n",
       "      <td>9535.0</td>\n",
       "      <td>9536.0</td>\n",
       "    </tr>\n",
       "    <tr>\n",
       "      <th>108.0</th>\n",
       "      <td>9538</td>\n",
       "      <td>3552.000000</td>\n",
       "      <td>15.364077</td>\n",
       "      <td>649164.702486</td>\n",
       "      <td>4.251906e+06</td>\n",
       "      <td>0.000300</td>\n",
       "      <td>3552.000000</td>\n",
       "      <td>230</td>\n",
       "      <td>145</td>\n",
       "      <td>POLYGON ((648997.161 4251886.151, 649117.802 4...</td>\n",
       "      <td>...</td>\n",
       "      <td>4</td>\n",
       "      <td>POLYGON ((-112825.115 43849.580, -112682.955 4...</td>\n",
       "      <td>9537.0</td>\n",
       "      <td>9538.0</td>\n",
       "      <td>3469</td>\n",
       "      <td>34</td>\n",
       "      <td>4</td>\n",
       "      <td>POLYGON ((-112825.115 43849.580, -112682.955 4...</td>\n",
       "      <td>9537.0</td>\n",
       "      <td>9538.0</td>\n",
       "    </tr>\n",
       "    <tr>\n",
       "      <th>109.0</th>\n",
       "      <td>9539</td>\n",
       "      <td>3530.285714</td>\n",
       "      <td>15.429220</td>\n",
       "      <td>649186.229565</td>\n",
       "      <td>4.252106e+06</td>\n",
       "      <td>0.000300</td>\n",
       "      <td>3530.285714</td>\n",
       "      <td>140</td>\n",
       "      <td>144</td>\n",
       "      <td>POLYGON ((649117.802 4252045.667, 649238.444 4...</td>\n",
       "      <td>...</td>\n",
       "      <td>5</td>\n",
       "      <td>POLYGON ((-112682.955 43990.259, -112540.795 4...</td>\n",
       "      <td>9538.0</td>\n",
       "      <td>9539.0</td>\n",
       "      <td>3470</td>\n",
       "      <td>34</td>\n",
       "      <td>5</td>\n",
       "      <td>POLYGON ((-112682.955 43990.259, -112540.795 4...</td>\n",
       "      <td>9538.0</td>\n",
       "      <td>9539.0</td>\n",
       "    </tr>\n",
       "    <tr>\n",
       "      <th>...</th>\n",
       "      <th>...</th>\n",
       "      <td>...</td>\n",
       "      <td>...</td>\n",
       "      <td>...</td>\n",
       "      <td>...</td>\n",
       "      <td>...</td>\n",
       "      <td>...</td>\n",
       "      <td>...</td>\n",
       "      <td>...</td>\n",
       "      <td>...</td>\n",
       "      <td>...</td>\n",
       "      <td>...</td>\n",
       "      <td>...</td>\n",
       "      <td>...</td>\n",
       "      <td>...</td>\n",
       "      <td>...</td>\n",
       "      <td>...</td>\n",
       "      <td>...</td>\n",
       "      <td>...</td>\n",
       "      <td>...</td>\n",
       "      <td>...</td>\n",
       "      <td>...</td>\n",
       "    </tr>\n",
       "    <tr>\n",
       "      <th>72.0</th>\n",
       "      <th>189.0</th>\n",
       "      <td>16519</td>\n",
       "      <td>1221.000000</td>\n",
       "      <td>32.735105</td>\n",
       "      <td>663712.894813</td>\n",
       "      <td>4.261235e+06</td>\n",
       "      <td>0.000891</td>\n",
       "      <td>1221.000000</td>\n",
       "      <td>230</td>\n",
       "      <td>41</td>\n",
       "      <td>POLYGON ((663554.634 4261187.762, 663675.275 4...</td>\n",
       "      <td>...</td>\n",
       "      <td>87</td>\n",
       "      <td>POLYGON ((-98071.586 52540.575, -97929.426 526...</td>\n",
       "      <td>16518.0</td>\n",
       "      <td>16519.0</td>\n",
       "      <td>5757</td>\n",
       "      <td>55</td>\n",
       "      <td>87</td>\n",
       "      <td>POLYGON ((-98071.586 52540.575, -97929.426 526...</td>\n",
       "      <td>16518.0</td>\n",
       "      <td>16519.0</td>\n",
       "    </tr>\n",
       "    <tr>\n",
       "      <th>74.0</th>\n",
       "      <th>190.0</th>\n",
       "      <td>16980</td>\n",
       "      <td>1177.500000</td>\n",
       "      <td>33.039486</td>\n",
       "      <td>664100.927753</td>\n",
       "      <td>4.261082e+06</td>\n",
       "      <td>0.000300</td>\n",
       "      <td>1177.500000</td>\n",
       "      <td>220</td>\n",
       "      <td>39</td>\n",
       "      <td>POLYGON ((663994.309 4261105.996, 664114.950 4...</td>\n",
       "      <td>...</td>\n",
       "      <td>89</td>\n",
       "      <td>POLYGON ((-97505.909 52537.613, -97363.749 526...</td>\n",
       "      <td>16979.0</td>\n",
       "      <td>16980.0</td>\n",
       "      <td>5969</td>\n",
       "      <td>57</td>\n",
       "      <td>89</td>\n",
       "      <td>POLYGON ((-97505.909 52537.613, -97363.749 526...</td>\n",
       "      <td>16979.0</td>\n",
       "      <td>16980.0</td>\n",
       "    </tr>\n",
       "    <tr>\n",
       "      <th>75.0</th>\n",
       "      <th>190.0</th>\n",
       "      <td>17210</td>\n",
       "      <td>1155.000000</td>\n",
       "      <td>33.106986</td>\n",
       "      <td>664307.540176</td>\n",
       "      <td>4.261018e+06</td>\n",
       "      <td>0.000300</td>\n",
       "      <td>1155.000000</td>\n",
       "      <td>230</td>\n",
       "      <td>38</td>\n",
       "      <td>POLYGON ((664153.825 4260985.354, 664274.467 4...</td>\n",
       "      <td>...</td>\n",
       "      <td>89</td>\n",
       "      <td>POLYGON ((-97365.230 52395.453, -97223.070 525...</td>\n",
       "      <td>17209.0</td>\n",
       "      <td>17210.0</td>\n",
       "      <td>6074</td>\n",
       "      <td>58</td>\n",
       "      <td>89</td>\n",
       "      <td>POLYGON ((-97365.230 52395.453, -97223.070 525...</td>\n",
       "      <td>17209.0</td>\n",
       "      <td>17210.0</td>\n",
       "    </tr>\n",
       "    <tr>\n",
       "      <th>76.0</th>\n",
       "      <th>190.0</th>\n",
       "      <td>17440</td>\n",
       "      <td>1136.500000</td>\n",
       "      <td>33.162486</td>\n",
       "      <td>664477.287588</td>\n",
       "      <td>4.260961e+06</td>\n",
       "      <td>0.000300</td>\n",
       "      <td>1136.500000</td>\n",
       "      <td>140</td>\n",
       "      <td>37</td>\n",
       "      <td>POLYGON ((664313.342 4260864.713, 664433.984 4...</td>\n",
       "      <td>...</td>\n",
       "      <td>89</td>\n",
       "      <td>POLYGON ((-97224.551 52253.293, -97082.391 523...</td>\n",
       "      <td>17439.0</td>\n",
       "      <td>17440.0</td>\n",
       "      <td>6179</td>\n",
       "      <td>59</td>\n",
       "      <td>89</td>\n",
       "      <td>POLYGON ((-97224.551 52253.293, -97082.391 523...</td>\n",
       "      <td>17439.0</td>\n",
       "      <td>17440.0</td>\n",
       "    </tr>\n",
       "    <tr>\n",
       "      <th>77.0</th>\n",
       "      <th>191.0</th>\n",
       "      <td>17671</td>\n",
       "      <td>1110.500000</td>\n",
       "      <td>33.241796</td>\n",
       "      <td>664729.729479</td>\n",
       "      <td>4.260917e+06</td>\n",
       "      <td>0.000371</td>\n",
       "      <td>1110.500000</td>\n",
       "      <td>240</td>\n",
       "      <td>36</td>\n",
       "      <td>POLYGON ((664593.501 4260903.588, 664714.142 4...</td>\n",
       "      <td>...</td>\n",
       "      <td>90</td>\n",
       "      <td>POLYGON ((-96941.712 52251.812, -96799.552 523...</td>\n",
       "      <td>17670.0</td>\n",
       "      <td>17671.0</td>\n",
       "      <td>6285</td>\n",
       "      <td>60</td>\n",
       "      <td>90</td>\n",
       "      <td>POLYGON ((-96941.712 52251.812, -96799.552 523...</td>\n",
       "      <td>17670.0</td>\n",
       "      <td>17671.0</td>\n",
       "    </tr>\n",
       "  </tbody>\n",
       "</table>\n",
       "<p>112 rows × 22 columns</p>\n",
       "</div>"
      ],
      "text/plain": [
       "                               node   index_righ          z        easting  \\\n",
       "row_regional column_regional                                                 \n",
       "41.0         117.0             9317  3337.500000  16.693707  650147.318271   \n",
       "42.0         105.0             9535  3629.000000  14.190256  648796.542736   \n",
       "             106.0             9536  3608.500000  14.598351  648928.748289   \n",
       "             108.0             9538  3552.000000  15.364077  649164.702486   \n",
       "             109.0             9539  3530.285714  15.429220  649186.229565   \n",
       "...                             ...          ...        ...            ...   \n",
       "72.0         189.0            16519  1221.000000  32.735105  663712.894813   \n",
       "74.0         190.0            16980  1177.500000  33.039486  664100.927753   \n",
       "75.0         190.0            17210  1155.000000  33.106986  664307.540176   \n",
       "76.0         190.0            17440  1136.500000  33.162486  664477.287588   \n",
       "77.0         191.0            17671  1110.500000  33.241796  664729.729479   \n",
       "\n",
       "                                  northing     slope   Point_orde  length_m  \\\n",
       "row_regional column_regional                                                  \n",
       "41.0         117.0            4.253417e+06  0.000300  3337.500000       160   \n",
       "42.0         105.0            4.251417e+06  0.001190  3629.000000       210   \n",
       "             106.0            4.251557e+06  0.000725  3608.500000       200   \n",
       "             108.0            4.251906e+06  0.000300  3552.000000       230   \n",
       "             109.0            4.252106e+06  0.000300  3530.285714       140   \n",
       "...                                    ...       ...          ...       ...   \n",
       "72.0         189.0            4.261235e+06  0.000891  1221.000000       230   \n",
       "74.0         190.0            4.261082e+06  0.000300  1177.500000       220   \n",
       "75.0         190.0            4.261018e+06  0.000300  1155.000000       230   \n",
       "76.0         190.0            4.260961e+06  0.000300  1136.500000       140   \n",
       "77.0         191.0            4.260917e+06  0.000371  1110.500000       240   \n",
       "\n",
       "                              reach  \\\n",
       "row_regional column_regional          \n",
       "41.0         117.0              135   \n",
       "42.0         105.0              148   \n",
       "             106.0              147   \n",
       "             108.0              145   \n",
       "             109.0              144   \n",
       "...                             ...   \n",
       "72.0         189.0               41   \n",
       "74.0         190.0               39   \n",
       "75.0         190.0               38   \n",
       "76.0         190.0               37   \n",
       "77.0         191.0               36   \n",
       "\n",
       "                                                                       geometry  \\\n",
       "row_regional column_regional                                                      \n",
       "41.0         117.0            POLYGON ((649923.418 4253442.443, 650044.060 4...   \n",
       "42.0         105.0            POLYGON ((648635.236 4251407.600, 648755.878 4...   \n",
       "             106.0            POLYGON ((648755.878 4251567.117, 648876.519 4...   \n",
       "             108.0            POLYGON ((648997.161 4251886.151, 649117.802 4...   \n",
       "             109.0            POLYGON ((649117.802 4252045.667, 649238.444 4...   \n",
       "...                                                                         ...   \n",
       "72.0         189.0            POLYGON ((663554.634 4261187.762, 663675.275 4...   \n",
       "74.0         190.0            POLYGON ((663994.309 4261105.996, 664114.950 4...   \n",
       "75.0         190.0            POLYGON ((664153.825 4260985.354, 664274.467 4...   \n",
       "76.0         190.0            POLYGON ((664313.342 4260864.713, 664433.984 4...   \n",
       "77.0         191.0            POLYGON ((664593.501 4260903.588, 664714.142 4...   \n",
       "\n",
       "                              ...  column_inset  \\\n",
       "row_regional column_regional  ...                 \n",
       "41.0         117.0            ...            12   \n",
       "42.0         105.0            ...             1   \n",
       "             106.0            ...             2   \n",
       "             108.0            ...             4   \n",
       "             109.0            ...             5   \n",
       "...                           ...           ...   \n",
       "72.0         189.0            ...            87   \n",
       "74.0         190.0            ...            89   \n",
       "75.0         190.0            ...            89   \n",
       "76.0         190.0            ...            89   \n",
       "77.0         191.0            ...            90   \n",
       "\n",
       "                                                                   geometrygrid  \\\n",
       "row_regional column_regional                                                      \n",
       "41.0         117.0            POLYGON ((-111969.194 45259.332, -111827.034 4...   \n",
       "42.0         105.0            POLYGON ((-113110.916 43285.384, -112968.756 4...   \n",
       "             106.0            POLYGON ((-112968.756 43426.063, -112826.596 4...   \n",
       "             108.0            POLYGON ((-112825.115 43849.580, -112682.955 4...   \n",
       "             109.0            POLYGON ((-112682.955 43990.259, -112540.795 4...   \n",
       "...                                                                         ...   \n",
       "72.0         189.0            POLYGON ((-98071.586 52540.575, -97929.426 526...   \n",
       "74.0         190.0            POLYGON ((-97505.909 52537.613, -97363.749 526...   \n",
       "75.0         190.0            POLYGON ((-97365.230 52395.453, -97223.070 525...   \n",
       "76.0         190.0            POLYGON ((-97224.551 52253.293, -97082.391 523...   \n",
       "77.0         191.0            POLYGON ((-96941.712 52251.812, -96799.552 523...   \n",
       "\n",
       "                              index_regional node_regional  node_insetgrid  \\\n",
       "row_regional column_regional                                                 \n",
       "41.0         117.0                    9316.0        9317.0            3267   \n",
       "42.0         105.0                    9534.0        9535.0            3571   \n",
       "             106.0                    9535.0        9536.0            3572   \n",
       "             108.0                    9537.0        9538.0            3469   \n",
       "             109.0                    9538.0        9539.0            3470   \n",
       "...                                      ...           ...             ...   \n",
       "72.0         189.0                   16518.0       16519.0            5757   \n",
       "74.0         190.0                   16979.0       16980.0            5969   \n",
       "75.0         190.0                   17209.0       17210.0            6074   \n",
       "76.0         190.0                   17439.0       17440.0            6179   \n",
       "77.0         191.0                   17670.0       17671.0            6285   \n",
       "\n",
       "                              row  column  \\\n",
       "row_regional column_regional                \n",
       "41.0         117.0             32      12   \n",
       "42.0         105.0             35       1   \n",
       "             106.0             35       2   \n",
       "             108.0             34       4   \n",
       "             109.0             34       5   \n",
       "...                           ...     ...   \n",
       "72.0         189.0             55      87   \n",
       "74.0         190.0             57      89   \n",
       "75.0         190.0             58      89   \n",
       "76.0         190.0             59      89   \n",
       "77.0         191.0             60      90   \n",
       "\n",
       "                                                                   geometrygrid  \\\n",
       "row_regional column_regional                                                      \n",
       "41.0         117.0            POLYGON ((-111969.194 45259.332, -111827.034 4...   \n",
       "42.0         105.0            POLYGON ((-113110.916 43285.384, -112968.756 4...   \n",
       "             106.0            POLYGON ((-112968.756 43426.063, -112826.596 4...   \n",
       "             108.0            POLYGON ((-112825.115 43849.580, -112682.955 4...   \n",
       "             109.0            POLYGON ((-112682.955 43990.259, -112540.795 4...   \n",
       "...                                                                         ...   \n",
       "72.0         189.0            POLYGON ((-98071.586 52540.575, -97929.426 526...   \n",
       "74.0         190.0            POLYGON ((-97505.909 52537.613, -97363.749 526...   \n",
       "75.0         190.0            POLYGON ((-97365.230 52395.453, -97223.070 525...   \n",
       "76.0         190.0            POLYGON ((-97224.551 52253.293, -97082.391 523...   \n",
       "77.0         191.0            POLYGON ((-96941.712 52251.812, -96799.552 523...   \n",
       "\n",
       "                              index_regionalgrid node_regionalgrid  \n",
       "row_regional column_regional                                        \n",
       "41.0         117.0                        9316.0            9317.0  \n",
       "42.0         105.0                        9534.0            9535.0  \n",
       "             106.0                        9535.0            9536.0  \n",
       "             108.0                        9537.0            9538.0  \n",
       "             109.0                        9538.0            9539.0  \n",
       "...                                          ...               ...  \n",
       "72.0         189.0                       16518.0           16519.0  \n",
       "74.0         190.0                       16979.0           16980.0  \n",
       "75.0         190.0                       17209.0           17210.0  \n",
       "76.0         190.0                       17439.0           17440.0  \n",
       "77.0         191.0                       17670.0           17671.0  \n",
       "\n",
       "[112 rows x 22 columns]"
      ]
     },
     "execution_count": 105,
     "metadata": {},
     "output_type": "execute_result"
    }
   ],
   "source": [
    "grid_sfr"
   ]
  },
  {
   "cell_type": "code",
   "execution_count": 43,
   "metadata": {},
   "outputs": [
    {
     "name": "stderr",
     "output_type": "stream",
     "text": [
      "C:\\Users\\arodri44\\Anaconda3\\envs\\geosp\\lib\\site-packages\\IPython\\core\\interactiveshell.py:3364: FutureWarning: The `op` parameter is deprecated and will be removed in a future release. Please use the `predicate` parameter instead.\n",
      "  if (await self.run_code(code, result,  async_=asy)):\n",
      "C:\\Users\\arodri44\\Anaconda3\\envs\\geosp\\lib\\site-packages\\pandas\\core\\indexing.py:1732: SettingWithCopyWarning: \n",
      "A value is trying to be set on a copy of a slice from a DataFrame\n",
      "\n",
      "See the caveats in the documentation: https://pandas.pydata.org/pandas-docs/stable/user_guide/indexing.html#returning-a-view-versus-a-copy\n",
      "  self._setitem_single_block(indexer, value, name)\n"
     ]
    },
    {
     "data": {
      "text/plain": [
       "(27, 30.0)"
      ]
     },
     "execution_count": 43,
     "metadata": {},
     "output_type": "execute_result"
    }
   ],
   "source": [
    "# XS8pt = pd.read_csv(sfr_dir+'8pointXS.csv')\n",
    "# XSlocs = gpd.read_file(sfr_dir+'8pointXS_locs\\\\8pointXS_locs.shp')\n",
    "# XSlocs.crs = 32610\n",
    "\n",
    "# XSg  = gpd.sjoin(grid_sfr, XSlocs, how = \"inner\", op= \"contains\", lsuffix = 'sfr',rsuffix = 'xs')\n",
    "# # Append the grid_breach location to the list of cross sections to split the segment\n",
    "# XSg = XSg.append(grid_breach).sort_values('reach')\n",
    "# # Copy the XS site name from the previous last site to the breach site to keep same XS\n",
    "# XSg.Site.iloc[-1] = XSg.Site.iloc[-2]\n",
    "# len(XSg), len(XS8pt.loc[0,:])/2"
   ]
  },
  {
   "cell_type": "markdown",
   "metadata": {},
   "source": [
    "### Read in 8 pt XS, revised by simplifying from Constantine 2001"
   ]
  },
  {
   "cell_type": "code",
   "execution_count": 44,
   "metadata": {},
   "outputs": [],
   "source": [
    "# xs_sfr = grid_sfr.set_index('reach')\n",
    "# # set all reaches to start as segment 1 which will be changed iteratively based on the number of cross-sections\n",
    "# xs_sfr['iseg'] = 1\n",
    "# # add a column reach_new that will be changed iteratively as the segment number is changed\n",
    "# xs_sfr['reach_new'] = xs_sfr.index\n",
    "# # xs_sfr"
   ]
  },
  {
   "cell_type": "markdown",
   "metadata": {},
   "source": [
    "## Define reach data based on ISFROPT"
   ]
  },
  {
   "cell_type": "code",
   "execution_count": 45,
   "metadata": {},
   "outputs": [
    {
     "name": "stderr",
     "output_type": "stream",
     "text": [
      "C:\\Users\\arodri44\\Anaconda3\\envs\\geosp\\lib\\site-packages\\pandas\\core\\indexing.py:1732: SettingWithCopyWarning: \n",
      "A value is trying to be set on a copy of a slice from a DataFrame\n",
      "\n",
      "See the caveats in the documentation: https://pandas.pydata.org/pandas-docs/stable/user_guide/indexing.html#returning-a-view-versus-a-copy\n",
      "  self._setitem_single_block(indexer, value, name)\n"
     ]
    }
   ],
   "source": [
    "## Given the reach number of each XS, the 718 reaches will be broken down into each segment\n",
    "## create a new reach column based on XS reach number and \n",
    "\n",
    "# segcount = 2\n",
    "# for i in np.arange(0,len(XSg)):\n",
    "#     temp_reach = XSg.reach.values[i]\n",
    "#     rchnum = xs_sfr.index[-1] - temp_reach+1\n",
    "#     xs_sfr.reach_new.loc[temp_reach:] = np.linspace(1,rchnum, rchnum)\n",
    "#     xs_sfr.iseg.loc[temp_reach:] = segcount\n",
    "#     segcount +=1"
   ]
  },
  {
   "cell_type": "code",
   "execution_count": 46,
   "metadata": {},
   "outputs": [],
   "source": [
    "# xs_sfr.reach_new = xs_sfr.reach_new.astype(int)\n"
   ]
  },
  {
   "cell_type": "code",
   "execution_count": 106,
   "metadata": {},
   "outputs": [],
   "source": [
    "grid_sfr.row = (grid_sfr.row.values-1).astype(int)\n",
    "grid_sfr.column = (grid_sfr.column.values-1).astype(int)"
   ]
  },
  {
   "cell_type": "code",
   "execution_count": 107,
   "metadata": {},
   "outputs": [],
   "source": [
    "# Determine which layer the streamcell is in\n",
    "# since the if statement only checks whether the first layer is greater than the streambed elevation, \n",
    "# otherwise it would be less than and zero (most should be in layer 0)\n",
    "sfr_lay = np.zeros(len(grid_sfr))\n",
    "\n",
    "for i in np.arange(0,nlay-1):\n",
    "    # pull out elevation of layer bottom\n",
    "    lay_elev = botm[i, grid_sfr.row.values, grid_sfr.column.values]\n",
    "    for j in np.arange(0,len(grid_sfr)):\n",
    "        # want to compare if streambed is lower than the layer bottom\n",
    "        # 1 will be subtracted from each z value to make sure it is lower than the model top in the upper reaches\n",
    "        if lay_elev[j] < (grid_sfr.z.values-1)[j]:\n",
    "            sfr_lay[j] = i \n",
    "        \n"
   ]
  },
  {
   "cell_type": "code",
   "execution_count": 116,
   "metadata": {},
   "outputs": [],
   "source": [
    "# rate is meters per day\n",
    "vertk = soilKs_array[grid_sfr.row, grid_sfr.column]\n",
    "# vertk = 1\n",
    "\n",
    "strbd_thick = 1.5 #estimate of thickness meters"
   ]
  },
  {
   "cell_type": "code",
   "execution_count": 51,
   "metadata": {},
   "outputs": [],
   "source": [
    "# find average stream width\n",
    "# xswidth = XS8pt.iloc[:,np.arange(0,XS8pt.shape[1],2)]\n",
    "# widths = xswidth.iloc[-1,:] - xswidth.iloc[0,:]\n",
    "# avgwidth = np.mean(xswidth.iloc[-1,:] - xswidth.iloc[0,:])"
   ]
  },
  {
   "cell_type": "markdown",
   "metadata": {},
   "source": [
    "### COnductance for RIVer"
   ]
  },
  {
   "cell_type": "code",
   "execution_count": 117,
   "metadata": {},
   "outputs": [],
   "source": [
    "avgwidth = 50 # expected width\n",
    "# lay, row, col, stage, cond, rbot\n",
    "grid_sfr\n",
    "cond = grid_sfr.length_m*avgwidth*vertk/strbd_thick\n",
    "# riv_spd = np.append(sfr_lay, [grid_sfr.row.values,grid_sfr.column.values,\n",
    "#           grid_sfr.z.values, cond,grid_sfr.z.values-1.5],axis=1)"
   ]
  },
  {
   "cell_type": "code",
   "execution_count": 118,
   "metadata": {},
   "outputs": [],
   "source": [
    "# array of all data\n",
    "riv_spd = np.transpose(np.vstack([sfr_lay,grid_sfr.row.values,grid_sfr.column.values,\n",
    "          grid_sfr.z.values, cond,grid_sfr.z.values-1.5])) # 1.5 to make sure below model top"
   ]
  },
  {
   "cell_type": "code",
   "execution_count": 119,
   "metadata": {},
   "outputs": [
    {
     "data": {
      "text/plain": [
       "{0: array([[2.00000000e+02, 3.10000000e+01, 1.10000000e+01, 1.66937069e+01,\n",
       "         1.64281128e+03, 1.51937069e+01],\n",
       "        [2.00000000e+02, 3.40000000e+01, 0.00000000e+00, 1.41902559e+01,\n",
       "         3.30358141e+03, 1.26902559e+01],\n",
       "        [2.00000000e+02, 3.40000000e+01, 1.00000000e+00, 1.45983511e+01,\n",
       "         3.14626801e+03, 1.30983511e+01],\n",
       "        [2.00000000e+02, 3.30000000e+01, 3.00000000e+00, 1.53640774e+01,\n",
       "         3.85680703e+03, 1.38640774e+01],\n",
       "        [2.00000000e+02, 3.30000000e+01, 4.00000000e+00, 1.54292203e+01,\n",
       "         2.34762167e+03, 1.39292203e+01],\n",
       "        [2.00000000e+02, 3.30000000e+01, 5.00000000e+00, 1.54977875e+01,\n",
       "         3.18605798e+03, 1.39977875e+01],\n",
       "        [2.00000000e+02, 3.30000000e+01, 1.00000000e+01, 1.64952124e+01,\n",
       "         4.19218156e+03, 1.49952124e+01],\n",
       "        [2.00000000e+02, 3.20000000e+01, 1.10000000e+01, 1.66277069e+01,\n",
       "         2.05351410e+03, 1.51277069e+01],\n",
       "        [2.00000000e+02, 3.20000000e+01, 1.30000000e+01, 1.68430679e+01,\n",
       "         1.01693198e+03, 1.53430679e+01],\n",
       "        [2.00000000e+02, 3.40000000e+01, 2.00000000e+00, 1.52830774e+01,\n",
       "         3.85680703e+03, 1.37830774e+01],\n",
       "        [2.00000000e+02, 3.40000000e+01, 5.00000000e+00, 1.56768441e+01,\n",
       "         3.18605798e+03, 1.41768441e+01],\n",
       "        [2.00000000e+02, 3.40000000e+01, 6.00000000e+00, 1.59245102e+01,\n",
       "         3.68911977e+03, 1.44245102e+01],\n",
       "        [2.00000000e+02, 3.40000000e+01, 7.00000000e+00, 1.61386927e+01,\n",
       "         3.52143251e+03, 1.46386927e+01],\n",
       "        [2.00000000e+02, 3.40000000e+01, 8.00000000e+00, 1.62674447e+01,\n",
       "         3.35374525e+03, 1.47674447e+01],\n",
       "        [2.00000000e+02, 3.40000000e+01, 9.00000000e+00, 1.63919267e+01,\n",
       "         3.68911977e+03, 1.48919267e+01],\n",
       "        [2.00000000e+02, 3.30000000e+01, 1.40000000e+01, 1.71859363e+01,\n",
       "         7.90947097e+02, 1.56859363e+01],\n",
       "        [2.00000000e+02, 3.40000000e+01, 1.40000000e+01, 1.72579363e+01,\n",
       "         2.77224403e+03, 1.57579363e+01],\n",
       "        [2.00000000e+02, 3.50000000e+01, 1.50000000e+01, 1.73404363e+01,\n",
       "         2.66956833e+03, 1.58404363e+01],\n",
       "        [2.00000000e+02, 3.60000000e+01, 1.60000000e+01, 1.74435613e+01,\n",
       "         2.46421692e+03, 1.59435613e+01],\n",
       "        [2.00000000e+02, 3.60000000e+01, 1.70000000e+01, 1.76479363e+01,\n",
       "         8.66275392e+02, 1.61479363e+01],\n",
       "        [2.00000000e+02, 3.60000000e+01, 1.80000000e+01, 1.78679363e+01,\n",
       "         7.90947097e+02, 1.63679363e+01],\n",
       "        [2.00000000e+02, 3.60000000e+01, 1.90000000e+01, 1.80629363e+01,\n",
       "         6.77954655e+02, 1.65629363e+01],\n",
       "        [2.00000000e+02, 3.60000000e+01, 2.00000000e+01, 1.83029363e+01,\n",
       "         8.28611245e+02, 1.68029363e+01],\n",
       "        [2.00000000e+02, 3.60000000e+01, 2.10000000e+01, 1.85179363e+01,\n",
       "         7.90947097e+02, 1.70179363e+01],\n",
       "        [2.00000000e+02, 3.60000000e+01, 2.20000000e+01, 1.87279363e+01,\n",
       "         7.90947097e+02, 1.72279363e+01],\n",
       "        [2.00000000e+02, 3.60000000e+01, 2.30000000e+01, 1.89429363e+01,\n",
       "         8.28611245e+02, 1.74429363e+01],\n",
       "        [2.00000000e+02, 3.10000000e+01, 6.40000000e+01, 2.44032692e+01,\n",
       "         7.90947097e+02, 2.29032692e+01],\n",
       "        [2.00000000e+02, 3.10000000e+01, 6.50000000e+01, 2.45182634e+01,\n",
       "         7.90947097e+02, 2.30182634e+01],\n",
       "        [2.00000000e+02, 3.70000000e+01, 2.40000000e+01, 1.91729363e+01,\n",
       "         8.28611245e+02, 1.76729363e+01],\n",
       "        [2.00000000e+02, 3.60000000e+01, 3.40000000e+01, 2.17079363e+01,\n",
       "         7.90947097e+02, 2.02079363e+01],\n",
       "        [2.00000000e+02, 3.30000000e+01, 6.00000000e+01, 2.40309363e+01,\n",
       "         4.14305622e+02, 2.25309363e+01],\n",
       "        [2.00000000e+02, 3.30000000e+01, 6.30000000e+01, 2.42256168e+01,\n",
       "         8.28611245e+02, 2.27256168e+01],\n",
       "        [2.00000000e+02, 3.20000000e+01, 6.60000000e+01, 2.56467627e+01,\n",
       "         5.64962212e+02, 2.41467627e+01],\n",
       "        [2.00000000e+02, 3.20000000e+01, 6.70000000e+01, 2.59026653e+01,\n",
       "         5.64962212e+02, 2.44026653e+01],\n",
       "        [2.00000000e+02, 3.80000000e+01, 2.40000000e+01, 1.93629363e+01,\n",
       "         6.02626360e+02, 1.78629363e+01],\n",
       "        [2.00000000e+02, 3.70000000e+01, 3.30000000e+01, 2.14529363e+01,\n",
       "         9.03939540e+02, 1.99529363e+01],\n",
       "        [2.00000000e+02, 3.70000000e+01, 3.50000000e+01, 2.19679363e+01,\n",
       "         4.43739619e+03, 2.04679363e+01],\n",
       "        [2.00000000e+02, 3.40000000e+01, 5.80000000e+01, 2.39019363e+01,\n",
       "         7.90947097e+02, 2.24019363e+01],\n",
       "        [2.00000000e+02, 3.40000000e+01, 5.90000000e+01, 2.39679363e+01,\n",
       "         8.66275392e+02, 2.24679363e+01],\n",
       "        [2.00000000e+02, 3.40000000e+01, 6.10000000e+01, 2.40969363e+01,\n",
       "         7.90947097e+02, 2.25969363e+01],\n",
       "        [2.00000000e+02, 3.40000000e+01, 6.20000000e+01, 2.41509363e+01,\n",
       "         5.64962212e+02, 2.26509363e+01],\n",
       "        [2.00000000e+02, 3.30000000e+01, 6.70000000e+01, 2.62468215e+01,\n",
       "         8.66275392e+02, 2.47468215e+01],\n",
       "        [2.00000000e+02, 3.90000000e+01, 2.50000000e+01, 1.96529363e+01,\n",
       "         8.28611245e+02, 1.81529363e+01],\n",
       "        [2.00000000e+02, 3.90000000e+01, 2.60000000e+01, 1.98679363e+01,\n",
       "         7.90947097e+02, 1.83679363e+01],\n",
       "        [2.00000000e+02, 3.90000000e+01, 2.70000000e+01, 2.00729363e+01,\n",
       "         7.53282950e+02, 1.85729363e+01],\n",
       "        [2.00000000e+02, 3.80000000e+01, 3.10000000e+01, 2.09479363e+01,\n",
       "         9.41603687e+02, 1.94479363e+01],\n",
       "        [2.00000000e+02, 3.80000000e+01, 3.20000000e+01, 2.11629363e+01,\n",
       "         6.77954655e+02, 1.96629363e+01],\n",
       "        [2.00000000e+02, 3.80000000e+01, 3.60000000e+01, 2.22629363e+01,\n",
       "         8.88517133e+03, 2.07629363e+01],\n",
       "        [2.00000000e+02, 3.50000000e+01, 5.60000000e+01, 2.37714363e+01,\n",
       "         6.98120605e+03, 2.22714363e+01],\n",
       "        [2.00000000e+02, 3.50000000e+01, 5.70000000e+01, 2.38359363e+01,\n",
       "         3.72741280e+03, 2.23359363e+01],\n",
       "        [2.00000000e+02, 3.40000000e+01, 6.70000000e+01, 2.63188215e+01,\n",
       "         9.41603687e+02, 2.48188215e+01],\n",
       "        [2.00000000e+02, 3.40000000e+01, 6.80000000e+01, 2.63758215e+01,\n",
       "         4.89633917e+02, 2.48758215e+01],\n",
       "        [2.00000000e+02, 3.90000000e+01, 2.80000000e+01, 2.03279363e+01,\n",
       "         4.14305622e+02, 1.88279363e+01],\n",
       "        [2.00000000e+02, 3.90000000e+01, 2.90000000e+01, 2.04879363e+01,\n",
       "         7.90947097e+02, 1.89879363e+01],\n",
       "        [2.00000000e+02, 3.90000000e+01, 3.00000000e+01, 2.07079363e+01,\n",
       "         8.66275392e+02, 1.92079363e+01],\n",
       "        [2.00000000e+02, 3.80000000e+01, 3.70000000e+01, 2.24609363e+01,\n",
       "         6.66387850e+03, 2.09609363e+01],\n",
       "        [2.00000000e+02, 3.80000000e+01, 3.80000000e+01, 2.25234363e+01,\n",
       "         6.34655095e+03, 2.10234363e+01],\n",
       "        [2.00000000e+02, 3.80000000e+01, 3.90000000e+01, 2.25849363e+01,\n",
       "         6.66387850e+03, 2.10849363e+01],\n",
       "        [2.00000000e+02, 3.80000000e+01, 4.00000000e+01, 2.26524363e+01,\n",
       "         7.61586114e+03, 2.11524363e+01],\n",
       "        [2.00000000e+02, 3.80000000e+01, 4.10000000e+01, 2.27199363e+01,\n",
       "         6.66387850e+03, 2.12199363e+01],\n",
       "        [2.00000000e+02, 3.70000000e+01, 5.00000000e+01, 2.33814363e+01,\n",
       "         6.34655095e+03, 2.18814363e+01],\n",
       "        [2.00000000e+02, 3.70000000e+01, 5.10000000e+01, 2.34414363e+01,\n",
       "         6.34655095e+03, 2.19414363e+01],\n",
       "        [2.00000000e+02, 3.70000000e+01, 5.40000000e+01, 2.36394363e+01,\n",
       "         6.34655095e+03, 2.21394363e+01],\n",
       "        [2.00000000e+02, 3.60000000e+01, 5.50000000e+01, 2.36904363e+01,\n",
       "         4.44258567e+03, 2.21904363e+01],\n",
       "        [2.00000000e+02, 3.50000000e+01, 6.90000000e+01, 2.64583215e+01,\n",
       "         9.03939540e+02, 2.49583215e+01],\n",
       "        [2.00000000e+02, 3.50000000e+01, 7.00000000e+01, 2.65138215e+01,\n",
       "         5.00426120e+02, 2.50138215e+01],\n",
       "        [2.00000000e+02, 3.90000000e+01, 4.20000000e+01, 2.28009363e+01,\n",
       "         7.93318869e+03, 2.13009363e+01],\n",
       "        [2.00000000e+02, 3.80000000e+01, 4.70000000e+01, 2.31894363e+01,\n",
       "         6.98120605e+03, 2.16894363e+01],\n",
       "        [2.00000000e+02, 3.80000000e+01, 4.80000000e+01, 2.32539363e+01,\n",
       "         6.66387850e+03, 2.17539363e+01],\n",
       "        [2.00000000e+02, 3.80000000e+01, 4.90000000e+01, 2.33064363e+01,\n",
       "         4.44258567e+03, 2.18064363e+01],\n",
       "        [2.00000000e+02, 3.80000000e+01, 5.20000000e+01, 2.35074363e+01,\n",
       "         5.71189586e+03, 2.20074363e+01],\n",
       "        [2.00000000e+02, 3.80000000e+01, 5.30000000e+01, 2.35644363e+01,\n",
       "         6.34655095e+03, 2.20644363e+01],\n",
       "        [2.00000000e+02, 3.60000000e+01, 7.10000000e+01, 2.65963215e+01,\n",
       "         1.02243665e+03, 2.50963215e+01],\n",
       "        [2.00000000e+02, 3.60000000e+01, 7.20000000e+01, 2.66668215e+01,\n",
       "         6.29191782e+02, 2.51668215e+01],\n",
       "        [2.00000000e+02, 3.50000000e+01, 7.30000000e+01, 2.67298215e+01,\n",
       "         8.25814214e+02, 2.52298215e+01],\n",
       "        [2.00000000e+02, 4.00000000e+01, 4.40000000e+01, 2.28789363e+01,\n",
       "         5.39456831e+03, 2.13789363e+01],\n",
       "        [2.00000000e+02, 4.00000000e+01, 4.50000000e+01, 2.29809363e+01,\n",
       "         6.02922340e+03, 2.14809363e+01],\n",
       "        [2.00000000e+02, 4.00000000e+01, 4.60000000e+01, 2.30409363e+01,\n",
       "         6.66387850e+03, 2.15409363e+01],\n",
       "        [2.00000000e+02, 3.90000000e+01, 4.70000000e+01, 2.31114363e+01,\n",
       "         8.25051624e+03, 2.16114363e+01],\n",
       "        [2.00000000e+02, 3.60000000e+01, 7.40000000e+01, 2.68138215e+01,\n",
       "         8.25814214e+02, 2.53138215e+01],\n",
       "        [2.00000000e+02, 4.10000000e+01, 4.40000000e+01, 2.29269363e+01,\n",
       "         4.75991321e+03, 2.14269363e+01],\n",
       "        [2.00000000e+02, 3.70000000e+01, 7.40000000e+01, 2.68963215e+01,\n",
       "         8.65138700e+02, 2.53963215e+01],\n",
       "        [2.00000000e+02, 3.80000000e+01, 7.60000000e+01, 2.69854910e+01,\n",
       "         6.66387850e+03, 2.54854910e+01],\n",
       "        [2.00000000e+02, 3.80000000e+01, 7.70000000e+01, 2.70712263e+01,\n",
       "         6.98120605e+03, 2.55712263e+01],\n",
       "        [2.00000000e+02, 3.90000000e+01, 7.80000000e+01, 2.71883505e+01,\n",
       "         4.75991321e+03, 2.56883505e+01],\n",
       "        [2.00000000e+02, 4.00000000e+01, 7.80000000e+01, 2.74828038e+01,\n",
       "         6.98120605e+03, 2.59828038e+01],\n",
       "        [2.00000000e+02, 4.10000000e+01, 7.80000000e+01, 2.76815386e+01,\n",
       "         5.07724076e+03, 2.61815386e+01],\n",
       "        [2.00000000e+02, 4.10000000e+01, 7.90000000e+01, 2.78268127e+01,\n",
       "         6.98120605e+03, 2.63268127e+01],\n",
       "        [2.00000000e+02, 4.20000000e+01, 7.90000000e+01, 2.79113601e+01,\n",
       "         4.75991321e+03, 2.64113601e+01],\n",
       "        [2.00000000e+02, 4.30000000e+01, 8.00000000e+01, 2.80099105e+01,\n",
       "         6.66387850e+03, 2.65099105e+01],\n",
       "        [2.00000000e+02, 4.40000000e+01, 7.90000000e+01, 2.82887203e+01,\n",
       "         2.85321627e+03, 2.67887203e+01],\n",
       "        [2.00000000e+02, 4.50000000e+01, 7.90000000e+01, 2.84308770e+01,\n",
       "         3.20986831e+03, 2.69308770e+01],\n",
       "        [2.00000000e+02, 4.60000000e+01, 8.00000000e+01, 2.86608798e+01,\n",
       "         8.25814214e+02, 2.71608798e+01],\n",
       "        [2.00000000e+02, 4.70000000e+01, 8.00000000e+01, 2.90807921e+01,\n",
       "         9.04463186e+02, 2.75807921e+01],\n",
       "        [2.00000000e+02, 4.80000000e+01, 7.80000000e+01, 2.95668424e+01,\n",
       "         7.86489727e+02, 2.80668424e+01],\n",
       "        [2.00000000e+02, 4.80000000e+01, 7.90000000e+01, 2.93194727e+01,\n",
       "         8.65138700e+02, 2.78194727e+01],\n",
       "        [2.00000000e+02, 4.90000000e+01, 7.80000000e+01, 3.01966326e+01,\n",
       "         7.86489727e+02, 2.86966326e+01],\n",
       "        [2.00000000e+02, 5.00000000e+01, 7.80000000e+01, 3.03874502e+01,\n",
       "         7.07840755e+02, 2.88874502e+01],\n",
       "        [2.00000000e+02, 5.10000000e+01, 7.90000000e+01, 3.05105186e+01,\n",
       "         8.65138700e+02, 2.90105186e+01],\n",
       "        [2.00000000e+02, 5.10000000e+01, 8.00000000e+01, 3.06160286e+01,\n",
       "         8.25814214e+02, 2.91160286e+01],\n",
       "        [2.00000000e+02, 5.20000000e+01, 8.10000000e+01, 3.06848519e+01,\n",
       "         8.25814214e+02, 2.91848519e+01],\n",
       "        [2.00000000e+02, 5.20000000e+01, 8.20000000e+01, 3.11308831e+01,\n",
       "         9.43787673e+02, 2.96308831e+01],\n",
       "        [2.00000000e+02, 5.20000000e+01, 8.30000000e+01, 3.15070678e+01,\n",
       "         6.68516268e+02, 3.00070678e+01],\n",
       "        [2.00000000e+02, 5.20000000e+01, 8.40000000e+01, 3.15724936e+01,\n",
       "         8.25814214e+02, 3.00724936e+01],\n",
       "        [2.00000000e+02, 5.20000000e+01, 8.50000000e+01, 3.16279936e+01,\n",
       "         6.29191782e+02, 3.01279936e+01],\n",
       "        [2.00000000e+02, 5.30000000e+01, 8.50000000e+01, 3.17205402e+01,\n",
       "         6.29191782e+02, 3.02205402e+01],\n",
       "        [2.00000000e+02, 5.30000000e+01, 8.60000000e+01, 3.21965403e+01,\n",
       "         4.32569350e+02, 3.06965403e+01],\n",
       "        [2.00000000e+02, 5.40000000e+01, 8.60000000e+01, 3.27351054e+01,\n",
       "         9.04463186e+02, 3.12351054e+01],\n",
       "        [2.00000000e+02, 5.60000000e+01, 8.80000000e+01, 3.30394857e+01,\n",
       "         8.65138700e+02, 3.15394857e+01],\n",
       "        [2.00000000e+02, 5.70000000e+01, 8.80000000e+01, 3.31069857e+01,\n",
       "         9.04463186e+02, 3.16069857e+01],\n",
       "        [2.00000000e+02, 5.80000000e+01, 8.80000000e+01, 3.31624857e+01,\n",
       "         5.50542809e+02, 3.16624857e+01],\n",
       "        [2.00000000e+02, 5.90000000e+01, 8.90000000e+01, 3.32417963e+01,\n",
       "         9.43787673e+02, 3.17417963e+01]])}"
      ]
     },
     "execution_count": 119,
     "metadata": {},
     "output_type": "execute_result"
    }
   ],
   "source": [
    "riv_dict = {0:riv_spd}\n",
    "riv_dict"
   ]
  },
  {
   "cell_type": "code",
   "execution_count": 120,
   "metadata": {},
   "outputs": [],
   "source": [
    "riv = flopy.modflow.ModflowRiv(model = m, stress_period_data=riv_dict)"
   ]
  },
  {
   "cell_type": "markdown",
   "metadata": {},
   "source": [
    "## Complex ibound"
   ]
  },
  {
   "cell_type": "markdown",
   "metadata": {},
   "source": [
    "### Define no flow cells based on elevation, informed by DWR cross sections and geologic maps of volcanic geology fingers leaving the mountains\n",
    "In general, the location of Michigan Bar is near the boundary where there is total volcanics to majority alluvium. However there is a major finger North and South of the Cosumnes River of andesititc conglomerate, sandstone, breccia"
   ]
  },
  {
   "cell_type": "code",
   "execution_count": 121,
   "metadata": {},
   "outputs": [],
   "source": [
    "# Simplified ibound, only no flow cell if it is below the bottom of the Mehrten Formation\n",
    "# Specify no flow boundary based on rough approx of geology (upper basin volcanics)\n",
    "ibound = np.ones([nlay, nrow,ncol])\n",
    "strt = np.ones((nlay, nrow, ncol), dtype = np.float32)\n",
    "# The model should start in hydraulic connection\n",
    "strt[:,:,:] = np.mean(m.dis.top[:,:], axis = 0)\n",
    "\n",
    "# cutoff_elev = 56\n",
    "# ibound = ibound*(dem_data<cutoff_elev)\n",
    "\n",
    "# plt.imshow(ibound[0,:,:])"
   ]
  },
  {
   "cell_type": "markdown",
   "metadata": {},
   "source": [
    "### Create a line bounding the noflow region to set the specified head boundary"
   ]
  },
  {
   "cell_type": "code",
   "execution_count": 57,
   "metadata": {},
   "outputs": [
    {
     "name": "stdout",
     "output_type": "stream",
     "text": [
      "[609. 555.]\n"
     ]
    }
   ],
   "source": [
    "# import pprint\n",
    "# from rasterio.features import shapes, rasterize\n",
    "\n",
    "# # The function shapes from rasterio requires uint8 format\n",
    "# ibound_line = ibound.astype(rasterio.uint8)\n",
    "# out = shapes(ibound_line,connectivity = 8)\n",
    "# alldata = list(out)\n",
    "\n",
    "# # maxl = 0\n",
    "# maxl = np.zeros(len(alldata))\n",
    "# for i in np.arange(0,len(alldata)):\n",
    "#     maxl[i] = len(alldata[i][0].get('coordinates')[0])\n",
    "# #     if len(alldata[i][0].get('coordinates')[0])>maxl:\n",
    "# #         maxl = len(alldata[i][0].get('coordinates')[0])\n",
    "# #         ind = i\n",
    "# # select the two longest linestring indexes (1st will be chunk down of divide (lower elevation) 2nd will chunk above (high elev))\n",
    "# maxl1, maxl2 = np.where(maxl>np.mean(maxl))[0]\n",
    "# print(maxl[maxl>np.mean(maxl)])"
   ]
  },
  {
   "cell_type": "code",
   "execution_count": 58,
   "metadata": {},
   "outputs": [
    {
     "data": {
      "text/plain": [
       "<flopy.utils.geometry.LineString at 0x1f301619640>"
      ]
     },
     "execution_count": 58,
     "metadata": {},
     "output_type": "execute_result"
    }
   ],
   "source": [
    "# temp = alldata[maxl2][0].get('coordinates')[0]\n",
    "# tl = LineString(temp)\n",
    "# tl"
   ]
  },
  {
   "cell_type": "code",
   "execution_count": 59,
   "metadata": {},
   "outputs": [
    {
     "data": {
      "text/plain": [
       "(100, 230)"
      ]
     },
     "execution_count": 59,
     "metadata": {},
     "output_type": "execute_result"
    }
   ],
   "source": [
    "# from shapely.ops import LineString, linemerge, polygonize, unary_union\n",
    "# tl = LineString(temp)\n",
    "\n",
    "# # Get the constant head or general head boundary after the no flow cells\n",
    "# linerast = rasterio.features.rasterize([tl], out_shape = np.array((nrow,ncol)))\n",
    "# # remove far east bound line\n",
    "# linerast[:,ncol-1] = 0\n",
    "# fix_bound = np.min(np.argwhere(linerast[0,:]==1))\n",
    "# linerast[0,:] = 0\n",
    "# linerast[0,fix_bound]\n",
    "# np.shape(linerast)\n",
    "\n",
    "# # ibound[0,linerast==1] = -1"
   ]
  },
  {
   "cell_type": "code",
   "execution_count": 60,
   "metadata": {},
   "outputs": [],
   "source": [
    "# from shapely.ops import LineString, linemerge, polygonize, unary_union\n",
    "# tl = LineString(temp)\n",
    "# tu = unary_union(tl)\n",
    "# poly = list(polygonize(tu))\n",
    "# # Set the polygon/raster for the top layer, no buffer needed\n",
    "# poly0 = poly[0].buffer(distance = 0)\n",
    "# polyrast0 = rasterio.features.rasterize([poly0], out_shape = np.array((nrow,ncol)))\n",
    "# # Set the polygon/raster for the top layer, slight buffer needed to expand geologic formation outward with depth as \n",
    "# # naturally occurs\n",
    "# poly1 = poly[0].buffer(distance = 13)\n",
    "# polyrast1 = rasterio.features.rasterize([poly1], out_shape = np.array((nrow,ncol)))\n",
    "# # Set the polygon/raster for the bottom layer, largest buffer needed\n",
    "# poly2 = poly[0].buffer(distance = 17)\n",
    "# polyrast2 = rasterio.features.rasterize([poly2], out_shape = np.array((nrow,ncol)))\n",
    "\n",
    "# ibound = np.ones([nlay, nrow,ncol])\n",
    "# # Need to decide whether all layers or just the top layer are affected by ibound from elevation\n",
    "# # it is better to define the top layer with a simple dem>elevation check than the rasterize functins that isn't perfect\n",
    "# # ibound[0,polyrast0==1] = 0\n",
    "# # Need to decide whether all layers or just the top layer are affected by ibound from elevation\n",
    "# ibound[-2,polyrast1==1] = 0\n",
    "# # Need to decide whether all layers or just the top layer are affected by ibound from elevation\n",
    "# ibound[-1,polyrast2==1] = 0\n",
    "\n",
    "# # The bottom boundary has a dip of 1-2 degrees which is essentially a slope of 0.015 based on given cross section data\n",
    "# # The layer thickness for TPROGS\n",
    "# laythk = tprog_thick\n",
    "# # It appeared shapely buffer is on the scale of kilometers\n",
    "# run = (laythk/0.015)/1000\n",
    "# run_const = run\n",
    "# for i in np.arange(1,nlay-2):\n",
    "#     # error saying poly[i] is not subscriptable\n",
    "#     polyi = poly[0].buffer(distance = run)\n",
    "#     polyrast = rasterio.features.rasterize([polyi], out_shape = np.array((nrow,ncol)))\n",
    "#     # Need to decide whether all layers or just the top layer are affected by ibound from elevation\n",
    "#     ibound[i,polyrast==1] = 0\n",
    "#     run += run_const"
   ]
  },
  {
   "cell_type": "code",
   "execution_count": 61,
   "metadata": {},
   "outputs": [
    {
     "data": {
      "text/plain": [
       "<matplotlib.colorbar.Colorbar at 0x1f302ec31f0>"
      ]
     },
     "execution_count": 61,
     "metadata": {},
     "output_type": "execute_result"
    },
    {
     "data": {
      "image/png": "[encoded data removed]",
      "text/plain": [
       "<Figure size 432x288 with 2 Axes>"
      ]
     },
     "metadata": {
      "needs_background": "light"
     },
     "output_type": "display_data"
    }
   ],
   "source": [
    "# # wherever the constant head/specified head bound is the cells need to be active\n",
    "# ibound[0,dem_data>cutoff_elev] = 0\n",
    "# ibound[0,linerast==1] = 1\n",
    "# plt.imshow(ibound[0,:,:])\n",
    "# plt.colorbar()"
   ]
  },
  {
   "cell_type": "code",
   "execution_count": 62,
   "metadata": {},
   "outputs": [],
   "source": [
    "# # copy the ibound array to alter the geology array to set these cells as low permeability formations\n",
    "# # either marine or volcanic based\n",
    "# deep_geology = ibound[:,:,:]\n",
    "\n",
    "# # reset ibound to all active cells to reduce non-linearity\n",
    "# # still need to take account of no flow cells for lake package\n",
    "# ibound = np.ones([nlay, nrow,ncol])"
   ]
  },
  {
   "cell_type": "markdown",
   "metadata": {},
   "source": [
    "### Remove no flow cells in the first layer where there are stream cells"
   ]
  },
  {
   "cell_type": "code",
   "execution_count": 63,
   "metadata": {},
   "outputs": [],
   "source": [
    "# # Get indices of SFR cells\n",
    "# sfr_x = grid_sfr.row.values.astype(int)\n",
    "# sfr_y = grid_sfr.column.values.astype(int)\n",
    "# sfr_z = sfr_lay.astype(int)\n",
    "# # Check where SFR cells overlap the no flow cell array \n",
    "# overlap = ibound[sfr_z, sfr_x, sfr_y]==0\n",
    "# # Convert the cells that overlap from inactive to active cells\n",
    "# ibound[sfr_z[overlap],sfr_x[overlap], sfr_y[overlap]] = 1\n",
    "# # Check where SFR cells overlap the constant head cell array \n",
    "# overlap = ibound[sfr_z, sfr_x, sfr_y]==-1\n",
    "# # Convert the cells that overlap from inactive to active cells\n",
    "# ibound[sfr_z[overlap],sfr_x[overlap], sfr_y[overlap]] = 1"
   ]
  },
  {
   "cell_type": "code",
   "execution_count": 122,
   "metadata": {},
   "outputs": [],
   "source": [
    "# Basic package, BAS\n",
    "\n",
    "# ibound < 0 is constant head\n",
    "# ibound = 0 is inactive cell\n",
    "# ibound > 0 is active cell\n",
    "# strt is array of starting heads\n",
    "bas = flopy.modflow.ModflowBas(model = m, ibound=ibound, strt = strt)"
   ]
  },
  {
   "cell_type": "code",
   "execution_count": 123,
   "metadata": {
    "scrolled": false
   },
   "outputs": [
    {
     "name": "stdout",
     "output_type": "stream",
     "text": [
      "\n",
      "BAS6 PACKAGE DATA VALIDATION:\n",
      "  No errors or warnings encountered.\n",
      "\n",
      "  Checks that passed:\n",
      "    isolated cells in ibound array\n",
      "    Not a number\n",
      "\n"
     ]
    },
    {
     "data": {
      "text/plain": [
       "<flopy.utils.check.check at 0x205813fd5b0>"
      ]
     },
     "execution_count": 123,
     "metadata": {},
     "output_type": "execute_result"
    }
   ],
   "source": [
    "bas.check()\n"
   ]
  },
  {
   "cell_type": "markdown",
   "metadata": {},
   "source": [
    "\"When subsurface recharge (MBR2) is negligible,\n",
    "stream runoff at the mountain front (runoff measured at\n",
    "point B in Figure 1, or RO) may be considered the total\n",
    "contribution to MFR [Anderholm, 2000].\" (Wilson and Guan 2004)"
   ]
  },
  {
   "cell_type": "markdown",
   "metadata": {},
   "source": [
    "## General head boundary representing Delta/Sea Level"
   ]
  },
  {
   "cell_type": "code",
   "execution_count": 124,
   "metadata": {},
   "outputs": [],
   "source": [
    "ghb = flopy.modflow.ModflowGhb(model = m)"
   ]
  },
  {
   "cell_type": "markdown",
   "metadata": {},
   "source": [
    "## Northwest and Southeast GHB boundaries based on historical WSEL"
   ]
  },
  {
   "cell_type": "code",
   "execution_count": 125,
   "metadata": {},
   "outputs": [],
   "source": [
    "# raster cropping will be done in outside script so the only part read in will be the final array\n",
    "ghb_dir = gwfm_dir+'/GHB_data'"
   ]
  },
  {
   "cell_type": "code",
   "execution_count": 127,
   "metadata": {},
   "outputs": [
    {
     "data": {
      "text/plain": [
       "60"
      ]
     },
     "execution_count": 127,
     "metadata": {},
     "output_type": "execute_result"
    }
   ],
   "source": [
    "nrow"
   ]
  },
  {
   "cell_type": "code",
   "execution_count": 164,
   "metadata": {},
   "outputs": [
    {
     "data": {
      "text/plain": [
       "144"
      ]
     },
     "execution_count": 164,
     "metadata": {},
     "output_type": "execute_result"
    }
   ],
   "source": [
    "grid_ref.row_regional.unique()\n",
    "grid_ref.row_regional.isna().sum()\n",
    "# grid_ref.column_regional.unique()"
   ]
  },
  {
   "cell_type": "code",
   "execution_count": 148,
   "metadata": {},
   "outputs": [
    {
     "data": {
      "text/plain": [
       "[[9, 109],\n",
       " [9, 110],\n",
       " [9, 111],\n",
       " [9, 112],\n",
       " [9, 113],\n",
       " [9, 114],\n",
       " [9, 115],\n",
       " [9, 116],\n",
       " [9, 117],\n",
       " [10, 118],\n",
       " [10, 119],\n",
       " [10, 120],\n",
       " [10, 121],\n",
       " [10, 122],\n",
       " [10, 123],\n",
       " [10, 124],\n",
       " [10, 125],\n",
       " [10, 126],\n",
       " [11, 127],\n",
       " [11, 128],\n",
       " [11, 129],\n",
       " [11, 130],\n",
       " [11, 131],\n",
       " [11, 132],\n",
       " [11, 133],\n",
       " [11, 134],\n",
       " [11, 135],\n",
       " [12, 136],\n",
       " [12, 137],\n",
       " [12, 138],\n",
       " [12, 139],\n",
       " [12, 140],\n",
       " [12, 141],\n",
       " [12, 142],\n",
       " [12, 143],\n",
       " [13, 144],\n",
       " [13, 145],\n",
       " [13, 146],\n",
       " [13, 147],\n",
       " [13, 148],\n",
       " [13, 149],\n",
       " [13, 150],\n",
       " [13, 151],\n",
       " [13, 152],\n",
       " [14, 153],\n",
       " [14, 154],\n",
       " [14, 155],\n",
       " [14, 156],\n",
       " [14, 157],\n",
       " [14, 158],\n",
       " [14, 159],\n",
       " [14, 160],\n",
       " [14, 161],\n",
       " [15, 162],\n",
       " [15, 163],\n",
       " [15, 164],\n",
       " [15, 165],\n",
       " [15, 166],\n",
       " [15, 167],\n",
       " [15, 168],\n",
       " [15, 169],\n",
       " [15, 170],\n",
       " [16, 171],\n",
       " [16, 172],\n",
       " [16, 173],\n",
       " [16, 174],\n",
       " [16, 175],\n",
       " [16, 176],\n",
       " [16, 177],\n",
       " [16, 178],\n",
       " [16, 179],\n",
       " [17, 180],\n",
       " [17, 181],\n",
       " [17, 182],\n",
       " [17, 183],\n",
       " [17, 184],\n",
       " [17, 185],\n",
       " [17, 186],\n",
       " [17, 187],\n",
       " [17, 188],\n",
       " [18, 189],\n",
       " [18, 190],\n",
       " [18, 191],\n",
       " [18, 192],\n",
       " [18, 193],\n",
       " [18, 194],\n",
       " [18, 195],\n",
       " [18, 196],\n",
       " [18, 197],\n",
       " [-2147483648, -2147483648],\n",
       " [19, 198],\n",
       " [19, 199],\n",
       " [19, 200],\n",
       " [19, 201],\n",
       " [19, 202],\n",
       " [19, 203],\n",
       " [19, 204],\n",
       " [19, 205],\n",
       " [-2147483648, -2147483648],\n",
       " [20, 207],\n",
       " [20, 208],\n",
       " [20, 209],\n",
       " [20, 210],\n",
       " [20, 211],\n",
       " [20, 212],\n",
       " [10, 109],\n",
       " [10, 110],\n",
       " [10, 111],\n",
       " [10, 112],\n",
       " [10, 113],\n",
       " [10, 114],\n",
       " [10, 115],\n",
       " [10, 116],\n",
       " [10, 117],\n",
       " [11, 118],\n",
       " [11, 119],\n",
       " [11, 120],\n",
       " [11, 121],\n",
       " [11, 122],\n",
       " [11, 123],\n",
       " [11, 124],\n",
       " [11, 125],\n",
       " [11, 126],\n",
       " [12, 127],\n",
       " [12, 128],\n",
       " [12, 129],\n",
       " [12, 130],\n",
       " [12, 131],\n",
       " [12, 132],\n",
       " [12, 133],\n",
       " [12, 134],\n",
       " [-2147483648, -2147483648],\n",
       " [13, 136],\n",
       " [13, 137],\n",
       " [13, 138],\n",
       " [13, 139],\n",
       " [13, 140],\n",
       " [13, 141],\n",
       " [13, 142],\n",
       " [13, 143],\n",
       " [14, 144],\n",
       " [14, 145],\n",
       " [14, 146],\n",
       " [14, 147],\n",
       " [14, 148],\n",
       " [14, 149],\n",
       " [14, 150],\n",
       " [14, 151],\n",
       " [14, 152],\n",
       " [15, 153],\n",
       " [15, 154],\n",
       " [15, 155],\n",
       " [15, 156],\n",
       " [15, 157],\n",
       " [15, 158],\n",
       " [15, 159],\n",
       " [15, 160],\n",
       " [15, 161],\n",
       " [16, 162],\n",
       " [16, 163],\n",
       " [16, 164],\n",
       " [16, 165],\n",
       " [16, 166],\n",
       " [16, 167],\n",
       " [16, 168],\n",
       " [16, 169],\n",
       " [16, 170],\n",
       " [17, 171],\n",
       " [17, 172],\n",
       " [17, 173],\n",
       " [17, 174],\n",
       " [17, 175],\n",
       " [17, 176],\n",
       " [17, 177],\n",
       " [17, 178],\n",
       " [17, 179],\n",
       " [-2147483648, -2147483648],\n",
       " [18, 180],\n",
       " [18, 181],\n",
       " [18, 182],\n",
       " [18, 183],\n",
       " [18, 184],\n",
       " [18, 185],\n",
       " [18, 186],\n",
       " [-2147483648, -2147483648],\n",
       " [-2147483648, -2147483648],\n",
       " [19, 189],\n",
       " [19, 190],\n",
       " [19, 191],\n",
       " [19, 192],\n",
       " [19, 193],\n",
       " [19, 194],\n",
       " [19, 195],\n",
       " [19, 196],\n",
       " [19, 197],\n",
       " [20, 198],\n",
       " [20, 199],\n",
       " [20, 200],\n",
       " [20, 201],\n",
       " [20, 202],\n",
       " [20, 203],\n",
       " [20, 204],\n",
       " [20, 205],\n",
       " [21, 206],\n",
       " [21, 207],\n",
       " [21, 208],\n",
       " [21, 209],\n",
       " [21, 210],\n",
       " [21, 211],\n",
       " [21, 212],\n",
       " [11, 109],\n",
       " [11, 110],\n",
       " [11, 111],\n",
       " [11, 112],\n",
       " [11, 113],\n",
       " [11, 114],\n",
       " [11, 115],\n",
       " [11, 116],\n",
       " [11, 117],\n",
       " [12, 118],\n",
       " [12, 119],\n",
       " [12, 120],\n",
       " [12, 121],\n",
       " [12, 122],\n",
       " [12, 123],\n",
       " [12, 124],\n",
       " [12, 125],\n",
       " [12, 126],\n",
       " [13, 127],\n",
       " [13, 128],\n",
       " [13, 129],\n",
       " [13, 130],\n",
       " [13, 131],\n",
       " [13, 132],\n",
       " [13, 133],\n",
       " [13, 134],\n",
       " [14, 135],\n",
       " [14, 136],\n",
       " [14, 137],\n",
       " [14, 138],\n",
       " [14, 139],\n",
       " [14, 140],\n",
       " [14, 141],\n",
       " [14, 142],\n",
       " [14, 143],\n",
       " [15, 144],\n",
       " [15, 145],\n",
       " [15, 146],\n",
       " [15, 147],\n",
       " [15, 148],\n",
       " [15, 149],\n",
       " [15, 150],\n",
       " [15, 151],\n",
       " [15, 152],\n",
       " [16, 153],\n",
       " [16, 154],\n",
       " [16, 155],\n",
       " [16, 156],\n",
       " [16, 157],\n",
       " [16, 158],\n",
       " [16, 159],\n",
       " [16, 160],\n",
       " [16, 161],\n",
       " [-2147483648, -2147483648],\n",
       " [17, 162],\n",
       " [17, 163],\n",
       " [17, 164],\n",
       " [17, 165],\n",
       " [17, 166],\n",
       " [17, 167],\n",
       " [17, 168],\n",
       " [17, 170],\n",
       " [-2147483648, -2147483648],\n",
       " [18, 171],\n",
       " [18, 172],\n",
       " [18, 173],\n",
       " [18, 174],\n",
       " [18, 175],\n",
       " [18, 176],\n",
       " [18, 177],\n",
       " [18, 178],\n",
       " [18, 179],\n",
       " [19, 180],\n",
       " [19, 181],\n",
       " [19, 182],\n",
       " [19, 183],\n",
       " [19, 184],\n",
       " [19, 185],\n",
       " [19, 186],\n",
       " [19, 187],\n",
       " [19, 188],\n",
       " [20, 189],\n",
       " [20, 190],\n",
       " [20, 191],\n",
       " [20, 192],\n",
       " [20, 193],\n",
       " [20, 194],\n",
       " [20, 195],\n",
       " [20, 196],\n",
       " [20, 197],\n",
       " [21, 198],\n",
       " [21, 199],\n",
       " [21, 200],\n",
       " [21, 201],\n",
       " [21, 202],\n",
       " [21, 203],\n",
       " [21, 204],\n",
       " [21, 205],\n",
       " [22, 206],\n",
       " [22, 207],\n",
       " [22, 208],\n",
       " [22, 209],\n",
       " [22, 210],\n",
       " [22, 211],\n",
       " [22, 212],\n",
       " [12, 109],\n",
       " [12, 110],\n",
       " [12, 111],\n",
       " [12, 112],\n",
       " [12, 113],\n",
       " [12, 114],\n",
       " [12, 115],\n",
       " [12, 116],\n",
       " [12, 117],\n",
       " [13, 118],\n",
       " [13, 119],\n",
       " [13, 120],\n",
       " [13, 121],\n",
       " [13, 122],\n",
       " [13, 123],\n",
       " [13, 124],\n",
       " [13, 125],\n",
       " [13, 126],\n",
       " [14, 127],\n",
       " [14, 128],\n",
       " [14, 129],\n",
       " [14, 130],\n",
       " [14, 131],\n",
       " [14, 132],\n",
       " [14, 133],\n",
       " [14, 134],\n",
       " [15, 135],\n",
       " [15, 136],\n",
       " [15, 137],\n",
       " [15, 138],\n",
       " [15, 139],\n",
       " [15, 140],\n",
       " [15, 141],\n",
       " [15, 142],\n",
       " [15, 143],\n",
       " [-2147483648, -2147483648],\n",
       " [16, 144],\n",
       " [16, 145],\n",
       " [16, 146],\n",
       " [16, 147],\n",
       " [16, 148],\n",
       " [16, 149],\n",
       " [-2147483648, -2147483648],\n",
       " [16, 152],\n",
       " [-2147483648, -2147483648],\n",
       " [17, 153],\n",
       " [17, 154],\n",
       " [17, 155],\n",
       " [17, 156],\n",
       " [17, 157],\n",
       " [17, 158],\n",
       " [17, 159],\n",
       " [17, 160],\n",
       " [17, 161],\n",
       " [18, 162],\n",
       " [18, 163],\n",
       " [18, 164],\n",
       " [18, 165],\n",
       " [18, 166],\n",
       " [18, 167],\n",
       " [18, 168],\n",
       " [18, 169],\n",
       " [18, 170],\n",
       " [19, 171],\n",
       " [19, 172],\n",
       " [19, 173],\n",
       " [19, 174],\n",
       " [19, 175],\n",
       " [19, 176],\n",
       " [19, 177],\n",
       " [19, 178],\n",
       " [19, 179],\n",
       " [20, 180],\n",
       " [20, 181],\n",
       " [20, 182],\n",
       " [20, 183],\n",
       " [20, 184],\n",
       " [20, 185],\n",
       " [20, 186],\n",
       " [20, 187],\n",
       " [20, 188],\n",
       " [21, 189],\n",
       " [21, 190],\n",
       " [21, 191],\n",
       " [21, 192],\n",
       " [21, 193],\n",
       " [21, 194],\n",
       " [21, 195],\n",
       " [21, 196],\n",
       " [22, 197],\n",
       " [22, 198],\n",
       " [22, 199],\n",
       " [22, 200],\n",
       " [22, 201],\n",
       " [22, 202],\n",
       " [22, 203],\n",
       " [22, 204],\n",
       " [22, 205],\n",
       " [23, 206],\n",
       " [23, 207],\n",
       " [23, 208],\n",
       " [23, 209],\n",
       " [23, 210],\n",
       " [23, 211],\n",
       " [23, 212],\n",
       " [13, 109],\n",
       " [13, 110],\n",
       " [13, 111],\n",
       " [13, 112],\n",
       " [13, 113],\n",
       " [13, 114],\n",
       " [13, 115],\n",
       " [13, 116],\n",
       " [13, 117],\n",
       " [14, 118],\n",
       " [14, 119],\n",
       " [14, 120],\n",
       " [14, 121],\n",
       " [14, 122],\n",
       " [14, 123],\n",
       " [14, 124],\n",
       " [14, 125],\n",
       " [-2147483648, -2147483648],\n",
       " [-2147483648, -2147483648],\n",
       " [15, 127],\n",
       " [15, 128],\n",
       " [15, 129],\n",
       " [15, 130],\n",
       " [-2147483648, -2147483648],\n",
       " [15, 133],\n",
       " [15, 134],\n",
       " [-2147483648, -2147483648],\n",
       " [16, 135],\n",
       " [16, 136],\n",
       " [16, 137],\n",
       " [16, 138],\n",
       " [16, 139],\n",
       " [16, 140],\n",
       " [16, 141],\n",
       " [16, 142],\n",
       " [16, 143],\n",
       " [17, 144],\n",
       " [17, 145],\n",
       " [17, 146],\n",
       " [17, 147],\n",
       " [17, 148],\n",
       " [17, 149],\n",
       " [17, 150],\n",
       " [17, 151],\n",
       " [17, 152],\n",
       " [18, 153],\n",
       " [18, 154],\n",
       " [18, 155],\n",
       " [18, 156],\n",
       " [18, 157],\n",
       " [18, 158],\n",
       " [18, 159],\n",
       " [18, 160],\n",
       " [18, 161],\n",
       " [19, 162],\n",
       " [19, 163],\n",
       " [19, 164],\n",
       " [19, 165],\n",
       " [19, 166],\n",
       " [19, 167],\n",
       " [19, 168],\n",
       " [19, 169],\n",
       " [19, 170],\n",
       " [20, 171],\n",
       " [20, 172],\n",
       " [20, 173],\n",
       " [20, 174],\n",
       " [20, 175],\n",
       " [20, 176],\n",
       " [20, 177],\n",
       " [20, 178],\n",
       " [20, 179],\n",
       " [21, 180],\n",
       " [21, 181],\n",
       " [21, 182],\n",
       " [21, 183],\n",
       " [21, 184],\n",
       " [21, 185],\n",
       " [21, 186],\n",
       " [21, 187],\n",
       " [21, 188],\n",
       " [22, 189],\n",
       " [22, 190],\n",
       " [22, 191],\n",
       " [22, 192],\n",
       " [22, 193],\n",
       " [22, 194],\n",
       " [22, 195],\n",
       " [22, 196],\n",
       " [23, 197],\n",
       " [23, 198],\n",
       " [23, 199],\n",
       " [23, 200],\n",
       " [23, 201],\n",
       " [23, 202],\n",
       " [23, 203],\n",
       " [23, 204],\n",
       " [23, 205],\n",
       " [24, 206],\n",
       " [24, 207],\n",
       " [24, 208],\n",
       " [24, 209],\n",
       " [24, 210],\n",
       " [24, 211],\n",
       " [24, 212],\n",
       " [-2147483648, -2147483648],\n",
       " [14, 109],\n",
       " [14, 110],\n",
       " [14, 111],\n",
       " [-2147483648, -2147483648],\n",
       " [14, 114],\n",
       " [14, 115],\n",
       " [14, 116],\n",
       " [14, 117],\n",
       " [-2147483648, -2147483648],\n",
       " [15, 118],\n",
       " [15, 119],\n",
       " [15, 120],\n",
       " [15, 121],\n",
       " [15, 122],\n",
       " [15, 123],\n",
       " [15, 124],\n",
       " [15, 125],\n",
       " [16, 126],\n",
       " [16, 127],\n",
       " [16, 128],\n",
       " [16, 129],\n",
       " [16, 130],\n",
       " [16, 131],\n",
       " [16, 132],\n",
       " [16, 133],\n",
       " [16, 134],\n",
       " [17, 135],\n",
       " [17, 136],\n",
       " [17, 137],\n",
       " [17, 138],\n",
       " [17, 139],\n",
       " [17, 140],\n",
       " [17, 141],\n",
       " [17, 142],\n",
       " [17, 143],\n",
       " [18, 144],\n",
       " [18, 145],\n",
       " [18, 146],\n",
       " [18, 147],\n",
       " [18, 148],\n",
       " [18, 149],\n",
       " [18, 150],\n",
       " [18, 151],\n",
       " [18, 152],\n",
       " [19, 153],\n",
       " [19, 154],\n",
       " [19, 155],\n",
       " [19, 156],\n",
       " [19, 157],\n",
       " [19, 158],\n",
       " [19, 159],\n",
       " [19, 160],\n",
       " [19, 161],\n",
       " [20, 162],\n",
       " [20, 163],\n",
       " [20, 164],\n",
       " [20, 165],\n",
       " [20, 166],\n",
       " [20, 167],\n",
       " [20, 168],\n",
       " [20, 169],\n",
       " [20, 170],\n",
       " [21, 171],\n",
       " [21, 172],\n",
       " [21, 173],\n",
       " [21, 174],\n",
       " [21, 175],\n",
       " [21, 176],\n",
       " [21, 177],\n",
       " [21, 178],\n",
       " [21, 179],\n",
       " [22, 180],\n",
       " [22, 181],\n",
       " [22, 182],\n",
       " [22, 183],\n",
       " [22, 184],\n",
       " [22, 185],\n",
       " [22, 186],\n",
       " [22, 187],\n",
       " [-2147483648, -2147483648],\n",
       " [23, 189],\n",
       " [23, 190],\n",
       " [23, 191],\n",
       " [23, 192],\n",
       " [23, 193],\n",
       " [23, 194],\n",
       " [23, 195],\n",
       " [23, 196],\n",
       " [24, 197],\n",
       " [24, 198],\n",
       " [24, 199],\n",
       " [24, 200],\n",
       " [24, 201],\n",
       " [24, 202],\n",
       " [24, 203],\n",
       " [24, 204],\n",
       " [24, 205],\n",
       " [25, 206],\n",
       " [25, 207],\n",
       " [25, 208],\n",
       " [25, 209],\n",
       " [25, 210],\n",
       " [25, 211],\n",
       " [25, 212],\n",
       " [14, 108],\n",
       " [15, 109],\n",
       " [15, 110],\n",
       " [15, 111],\n",
       " [15, 112],\n",
       " [15, 113],\n",
       " [15, 114],\n",
       " [15, 115],\n",
       " [15, 116],\n",
       " [-2147483648, -2147483648],\n",
       " [16, 118],\n",
       " [16, 119],\n",
       " [16, 120],\n",
       " [16, 121],\n",
       " [16, 122],\n",
       " [16, 123],\n",
       " [16, 124],\n",
       " [16, 125],\n",
       " [17, 126],\n",
       " [17, 127],\n",
       " [17, 128],\n",
       " [17, 129],\n",
       " [17, 130],\n",
       " [17, 131],\n",
       " [17, 132],\n",
       " [17, 133],\n",
       " [17, 134],\n",
       " [18, 135],\n",
       " [18, 136],\n",
       " [18, 137],\n",
       " [18, 138],\n",
       " [18, 139],\n",
       " [18, 140],\n",
       " [18, 141],\n",
       " [18, 142],\n",
       " [18, 143],\n",
       " [19, 144],\n",
       " [19, 145],\n",
       " [19, 146],\n",
       " [19, 147],\n",
       " [19, 148],\n",
       " [19, 149],\n",
       " [19, 150],\n",
       " [19, 151],\n",
       " [19, 152],\n",
       " [20, 153],\n",
       " [20, 154],\n",
       " [20, 155],\n",
       " [20, 156],\n",
       " [20, 157],\n",
       " [20, 158],\n",
       " [20, 159],\n",
       " [20, 160],\n",
       " [20, 161],\n",
       " [21, 162],\n",
       " [21, 163],\n",
       " [21, 164],\n",
       " [21, 165],\n",
       " [21, 166],\n",
       " [21, 167],\n",
       " [21, 168],\n",
       " [21, 169],\n",
       " [21, 170],\n",
       " [22, 171],\n",
       " [22, 172],\n",
       " [22, 173],\n",
       " [22, 174],\n",
       " [22, 175],\n",
       " [22, 176],\n",
       " [22, 177],\n",
       " [22, 178],\n",
       " [22, 179],\n",
       " [23, 180],\n",
       " [23, 181],\n",
       " [23, 182],\n",
       " [23, 183],\n",
       " [23, 184],\n",
       " [23, 185],\n",
       " [23, 186],\n",
       " [23, 187],\n",
       " [24, 188],\n",
       " [24, 189],\n",
       " [24, 190],\n",
       " [24, 191],\n",
       " [24, 192],\n",
       " [24, 193],\n",
       " [24, 194],\n",
       " [24, 195],\n",
       " [24, 196],\n",
       " [25, 197],\n",
       " [25, 198],\n",
       " [25, 199],\n",
       " [25, 200],\n",
       " [25, 201],\n",
       " [25, 202],\n",
       " [25, 203],\n",
       " [25, 204],\n",
       " [25, 205],\n",
       " [26, 206],\n",
       " [26, 207],\n",
       " [26, 208],\n",
       " [26, 209],\n",
       " [26, 210],\n",
       " [26, 211],\n",
       " [26, 212],\n",
       " [15, 108],\n",
       " [16, 109],\n",
       " [16, 110],\n",
       " [16, 111],\n",
       " [16, 112],\n",
       " [16, 113],\n",
       " [16, 114],\n",
       " [16, 115],\n",
       " [16, 116],\n",
       " [17, 117],\n",
       " [17, 118],\n",
       " [17, 119],\n",
       " [17, 120],\n",
       " [17, 121],\n",
       " [17, 122],\n",
       " [17, 123],\n",
       " [17, 124],\n",
       " [17, 125],\n",
       " [18, 126],\n",
       " [18, 127],\n",
       " [18, 128],\n",
       " [18, 129],\n",
       " [18, 130],\n",
       " [18, 131],\n",
       " [18, 132],\n",
       " [18, 133],\n",
       " [18, 134],\n",
       " [19, 135],\n",
       " [19, 136],\n",
       " [19, 137],\n",
       " [19, 138],\n",
       " [19, 139],\n",
       " [19, 140],\n",
       " [19, 141],\n",
       " [19, 142],\n",
       " [19, 143],\n",
       " [20, 144],\n",
       " [20, 145],\n",
       " [20, 146],\n",
       " [20, 147],\n",
       " [20, 148],\n",
       " [20, 149],\n",
       " [20, 150],\n",
       " [20, 151],\n",
       " [20, 152],\n",
       " [21, 153],\n",
       " [21, 154],\n",
       " [21, 155],\n",
       " [21, 156],\n",
       " [21, 157],\n",
       " [21, 158],\n",
       " [21, 159],\n",
       " [21, 160],\n",
       " [21, 161],\n",
       " [22, 162],\n",
       " [22, 163],\n",
       " [22, 164],\n",
       " [22, 165],\n",
       " [22, 166],\n",
       " [22, 167],\n",
       " [22, 168],\n",
       " [22, 169],\n",
       " [22, 170],\n",
       " [23, 171],\n",
       " [23, 172],\n",
       " [23, 173],\n",
       " [23, 174],\n",
       " [23, 175],\n",
       " [23, 176],\n",
       " [23, 177],\n",
       " [23, 178],\n",
       " [-2147483648, -2147483648],\n",
       " [24, 180],\n",
       " [24, 181],\n",
       " [24, 182],\n",
       " [24, 183],\n",
       " [24, 184],\n",
       " [24, 185],\n",
       " [24, 186],\n",
       " [24, 187],\n",
       " [25, 188],\n",
       " [25, 189],\n",
       " [25, 190],\n",
       " [25, 191],\n",
       " [25, 192],\n",
       " [25, 193],\n",
       " [25, 194],\n",
       " [25, 195],\n",
       " [25, 196],\n",
       " [26, 197],\n",
       " [26, 198],\n",
       " [26, 199],\n",
       " [26, 200],\n",
       " [26, 201],\n",
       " [26, 202],\n",
       " [26, 203],\n",
       " [26, 204],\n",
       " [26, 205],\n",
       " [27, 206],\n",
       " [27, 207],\n",
       " [27, 208],\n",
       " [27, 209],\n",
       " [27, 210],\n",
       " [27, 211],\n",
       " [27, 212],\n",
       " [16, 108],\n",
       " [17, 109],\n",
       " [17, 110],\n",
       " [17, 111],\n",
       " [17, 112],\n",
       " [17, 113],\n",
       " [17, 114],\n",
       " [17, 115],\n",
       " [17, 116],\n",
       " [18, 117],\n",
       " [18, 118],\n",
       " [18, 119],\n",
       " [18, 120],\n",
       " [18, 121],\n",
       " [18, 122],\n",
       " [18, 123],\n",
       " [18, 124],\n",
       " [18, 125],\n",
       " [19, 126],\n",
       " [19, 127],\n",
       " [19, 128],\n",
       " [19, 129],\n",
       " [19, 130],\n",
       " [19, 131],\n",
       " [19, 132],\n",
       " [19, 133],\n",
       " [19, 134],\n",
       " [20, 135],\n",
       " [20, 136],\n",
       " [20, 137],\n",
       " [20, 138],\n",
       " [20, 139],\n",
       " [20, 140],\n",
       " [20, 141],\n",
       " [20, 142],\n",
       " [20, 143],\n",
       " [21, 144],\n",
       " [21, 145],\n",
       " [21, 146],\n",
       " [21, 147],\n",
       " [21, 148],\n",
       " [21, 149],\n",
       " [21, 150],\n",
       " [21, 151],\n",
       " [21, 152],\n",
       " [22, 153],\n",
       " [22, 154],\n",
       " [22, 155],\n",
       " [22, 156],\n",
       " [22, 157],\n",
       " [22, 158],\n",
       " [22, 159],\n",
       " [22, 160],\n",
       " [22, 161],\n",
       " [23, 162],\n",
       " [23, 163],\n",
       " [23, 164],\n",
       " [23, 165],\n",
       " [23, 166],\n",
       " [23, 167],\n",
       " [23, 168],\n",
       " [23, 169],\n",
       " [23, 170],\n",
       " [24, 171],\n",
       " [24, 172],\n",
       " [24, 173],\n",
       " [24, 174],\n",
       " [24, 175],\n",
       " [24, 176],\n",
       " [24, 177],\n",
       " [24, 178],\n",
       " [25, 179],\n",
       " [25, 180],\n",
       " [25, 181],\n",
       " [25, 182],\n",
       " [25, 183],\n",
       " [25, 184],\n",
       " [25, 185],\n",
       " [25, 186],\n",
       " [25, 187],\n",
       " [26, 188],\n",
       " [26, 189],\n",
       " [26, 190],\n",
       " [26, 191],\n",
       " [26, 192],\n",
       " [26, 193],\n",
       " [26, 194],\n",
       " [26, 195],\n",
       " [26, 196],\n",
       " [27, 197],\n",
       " [27, 198],\n",
       " [27, 199],\n",
       " [27, 200],\n",
       " [27, 201],\n",
       " [27, 202],\n",
       " [27, 203],\n",
       " [27, 204],\n",
       " [27, 205],\n",
       " [28, 206],\n",
       " [28, 207],\n",
       " [28, 208],\n",
       " [28, 209],\n",
       " [28, 210],\n",
       " [28, 211],\n",
       " [28, 212],\n",
       " [-2147483648, -2147483648],\n",
       " [18, 109],\n",
       " [18, 110],\n",
       " [18, 111],\n",
       " [18, 112],\n",
       " [18, 113],\n",
       " [18, 114],\n",
       " [18, 115],\n",
       " [18, 116],\n",
       " [19, 117],\n",
       " [19, 118],\n",
       " [19, 119],\n",
       " [19, 120],\n",
       " [19, 121],\n",
       " [19, 122],\n",
       " [19, 123],\n",
       " [19, 124],\n",
       " [19, 125],\n",
       " [20, 126],\n",
       " [20, 127],\n",
       " [20, 128],\n",
       " [20, 129],\n",
       " [20, 130],\n",
       " [20, 131],\n",
       " [20, 132],\n",
       " [20, 133],\n",
       " [20, 134],\n",
       " [21, 135],\n",
       " [21, 136],\n",
       " [21, 137],\n",
       " [21, 138],\n",
       " [21, 139],\n",
       " [21, 140],\n",
       " [21, 141],\n",
       " [21, 142],\n",
       " [21, 143],\n",
       " [22, 144],\n",
       " [22, 145],\n",
       " [22, 146],\n",
       " [22, 147],\n",
       " [22, 148],\n",
       " [22, 149],\n",
       " [22, 150],\n",
       " [22, 151],\n",
       " [22, 152],\n",
       " [23, 153],\n",
       " [23, 154],\n",
       " [23, 155],\n",
       " [23, 156],\n",
       " [23, 157],\n",
       " [23, 158],\n",
       " [23, 159],\n",
       " [23, 160],\n",
       " [23, 161],\n",
       " [24, 162],\n",
       " ...]"
      ]
     },
     "execution_count": 148,
     "metadata": {},
     "output_type": "execute_result"
    }
   ],
   "source": [
    "xy[:,1].max()\n",
    "xy[:,0].max()\n",
    "xy.tolist()"
   ]
  },
  {
   "cell_type": "code",
   "execution_count": 156,
   "metadata": {},
   "outputs": [
    {
     "data": {
      "text/plain": [
       "array([-2147483648,           9,          10,          11,          12,\n",
       "                13,          14,          15,          16,          17,\n",
       "                18,          19,          20,          21,          22,\n",
       "                23,          24,          25,          26,          27,\n",
       "                28,          29,          30,          31,          32,\n",
       "                33,          34,          35,          36,          37,\n",
       "                38,          39,          40,          41,          42,\n",
       "                43,          44,          45,          46,          47,\n",
       "                48,          49,          50,          51,          52,\n",
       "                53,          54,          55,          56,          57,\n",
       "                58,          59,          60,          61,          62,\n",
       "                63,          64,          65,          66,          67,\n",
       "                68,          69,          70,          71,          72,\n",
       "                73,          74,          75,          76,          77,\n",
       "                78,          79])"
      ]
     },
     "execution_count": 156,
     "metadata": {},
     "output_type": "execute_result"
    }
   ],
   "source": [
    "df_grid.shape\n",
    "grid_ref\n",
    "x = grid_ref.loc[:,['row_regional']].values.astype(int)\n",
    "y= grid_ref.loc[:,['column_regional']].values.astype(int)\n",
    "np.unique(x)\n",
    "# df_grid[x,y]"
   ]
  },
  {
   "cell_type": "code",
   "execution_count": 130,
   "metadata": {},
   "outputs": [
    {
     "ename": "IndexError",
     "evalue": "index 109 is out of bounds for axis 0 with size 100",
     "output_type": "error",
     "traceback": [
      "\u001b[1;31m---------------------------------------------------------------------------\u001b[0m",
      "\u001b[1;31mIndexError\u001b[0m                                Traceback (most recent call last)",
      "\u001b[1;32m~\\AppData\\Local\\Temp/ipykernel_11524/3698256958.py\u001b[0m in \u001b[0;36m<module>\u001b[1;34m\u001b[0m\n\u001b[0;32m      1\u001b[0m \u001b[0mfilename\u001b[0m \u001b[1;33m=\u001b[0m \u001b[0mglob\u001b[0m\u001b[1;33m.\u001b[0m\u001b[0mglob\u001b[0m\u001b[1;33m(\u001b[0m\u001b[0mghb_dir\u001b[0m\u001b[1;33m+\u001b[0m\u001b[1;34m'/final_WSEL_arrays/spring'\u001b[0m\u001b[1;33m+\u001b[0m\u001b[0mstr\u001b[0m\u001b[1;33m(\u001b[0m\u001b[1;36m2013\u001b[0m\u001b[1;33m)\u001b[0m\u001b[1;33m+\u001b[0m\u001b[1;34m'_kriged_WSEL.tsv'\u001b[0m\u001b[1;33m)\u001b[0m\u001b[1;33m[\u001b[0m\u001b[1;36m0\u001b[0m\u001b[1;33m]\u001b[0m\u001b[1;33m\u001b[0m\u001b[1;33m\u001b[0m\u001b[0m\n\u001b[0;32m      2\u001b[0m \u001b[0mdf_grid\u001b[0m \u001b[1;33m=\u001b[0m \u001b[0mnp\u001b[0m\u001b[1;33m.\u001b[0m\u001b[0mloadtxt\u001b[0m\u001b[1;33m(\u001b[0m\u001b[0mfilename\u001b[0m\u001b[1;33m)\u001b[0m\u001b[1;33m\u001b[0m\u001b[1;33m\u001b[0m\u001b[0m\n\u001b[1;32m----> 3\u001b[1;33m \u001b[0mkriged_spring\u001b[0m\u001b[1;33m[\u001b[0m\u001b[0mt\u001b[0m\u001b[1;33m,\u001b[0m\u001b[1;33m:\u001b[0m\u001b[1;33m,\u001b[0m\u001b[1;33m:\u001b[0m\u001b[1;33m]\u001b[0m \u001b[1;33m=\u001b[0m \u001b[0mdf_grid\u001b[0m\u001b[1;33m[\u001b[0m\u001b[0mgrid_ref\u001b[0m\u001b[1;33m.\u001b[0m\u001b[0mloc\u001b[0m\u001b[1;33m[\u001b[0m\u001b[1;33m:\u001b[0m\u001b[1;33m,\u001b[0m\u001b[1;33m[\u001b[0m\u001b[1;34m'row_regional'\u001b[0m\u001b[1;33m,\u001b[0m\u001b[1;34m'column_regional'\u001b[0m\u001b[1;33m]\u001b[0m\u001b[1;33m]\u001b[0m\u001b[1;33m.\u001b[0m\u001b[0mvalues\u001b[0m\u001b[1;33m.\u001b[0m\u001b[0mastype\u001b[0m\u001b[1;33m(\u001b[0m\u001b[0mint\u001b[0m\u001b[1;33m)\u001b[0m\u001b[1;33m]\u001b[0m\u001b[1;33m\u001b[0m\u001b[1;33m\u001b[0m\u001b[0m\n\u001b[0m",
      "\u001b[1;31mIndexError\u001b[0m: index 109 is out of bounds for axis 0 with size 100"
     ]
    }
   ],
   "source": [
    "filename = glob.glob(ghb_dir+'/final_WSEL_arrays/spring'+str(2013)+'_kriged_WSEL.tsv')[0]\n",
    "df_grid = np.loadtxt(filename)\n",
    "kriged_spring[t,:,:] = df_grid[grid_ref.loc[:,['row_regional','column_regional']].values.astype(int)]"
   ]
  },
  {
   "cell_type": "code",
   "execution_count": 126,
   "metadata": {},
   "outputs": [
    {
     "ename": "ValueError",
     "evalue": "could not broadcast input array from shape (100,230) into shape (60,105)",
     "output_type": "error",
     "traceback": [
      "\u001b[1;31m---------------------------------------------------------------------------\u001b[0m",
      "\u001b[1;31mValueError\u001b[0m                                Traceback (most recent call last)",
      "\u001b[1;32m~\\AppData\\Local\\Temp/ipykernel_11524/4101738501.py\u001b[0m in \u001b[0;36m<module>\u001b[1;34m\u001b[0m\n\u001b[0;32m     15\u001b[0m     \u001b[0mfilename\u001b[0m \u001b[1;33m=\u001b[0m \u001b[0mglob\u001b[0m\u001b[1;33m.\u001b[0m\u001b[0mglob\u001b[0m\u001b[1;33m(\u001b[0m\u001b[0mghb_dir\u001b[0m\u001b[1;33m+\u001b[0m\u001b[1;34m'/final_WSEL_arrays/spring'\u001b[0m\u001b[1;33m+\u001b[0m\u001b[0mstr\u001b[0m\u001b[1;33m(\u001b[0m\u001b[0myear\u001b[0m\u001b[1;33m)\u001b[0m\u001b[1;33m+\u001b[0m\u001b[1;34m'_kriged_WSEL.tsv'\u001b[0m\u001b[1;33m)\u001b[0m\u001b[1;33m[\u001b[0m\u001b[1;36m0\u001b[0m\u001b[1;33m]\u001b[0m\u001b[1;33m\u001b[0m\u001b[1;33m\u001b[0m\u001b[0m\n\u001b[0;32m     16\u001b[0m     \u001b[0mdf_grid\u001b[0m \u001b[1;33m=\u001b[0m \u001b[0mnp\u001b[0m\u001b[1;33m.\u001b[0m\u001b[0mloadtxt\u001b[0m\u001b[1;33m(\u001b[0m\u001b[0mfilename\u001b[0m\u001b[1;33m)\u001b[0m\u001b[1;33m\u001b[0m\u001b[1;33m\u001b[0m\u001b[0m\n\u001b[1;32m---> 17\u001b[1;33m     \u001b[0mkriged_spring\u001b[0m\u001b[1;33m[\u001b[0m\u001b[0mt\u001b[0m\u001b[1;33m,\u001b[0m\u001b[1;33m:\u001b[0m\u001b[1;33m,\u001b[0m\u001b[1;33m:\u001b[0m\u001b[1;33m]\u001b[0m \u001b[1;33m=\u001b[0m \u001b[0mdf_grid\u001b[0m\u001b[1;33m\u001b[0m\u001b[1;33m\u001b[0m\u001b[0m\n\u001b[0m\u001b[0;32m     18\u001b[0m \u001b[1;33m\u001b[0m\u001b[0m\n\u001b[0;32m     19\u001b[0m     \u001b[1;31m# load and place fall kriged data in np array\u001b[0m\u001b[1;33m\u001b[0m\u001b[1;33m\u001b[0m\u001b[1;33m\u001b[0m\u001b[0m\n",
      "\u001b[1;31mValueError\u001b[0m: could not broadcast input array from shape (100,230) into shape (60,105)"
     ]
    }
   ],
   "source": [
    "strtyear = 2013\n",
    "endyear = 2019\n",
    "kriged_fall = np.zeros((int(endyear-strtyear),nrow,ncol))\n",
    "kriged_spring = np.zeros((int(endyear-strtyear),nrow,ncol))\n",
    "\n",
    "kriged_NW = np.zeros((int(endyear-strtyear)*2,ncol))\n",
    "kriged_SE = np.zeros((int(endyear-strtyear)*2,ncol))\n",
    "# keep track of which place in array matches to year\n",
    "year_to_int = np.zeros((endyear-strtyear,2))\n",
    "\n",
    "t=0\n",
    "for year in np.arange(strtyear,endyear):\n",
    "    \n",
    "    # load and place spring kriged data in np array, load spring first\n",
    "    filename = glob.glob(ghb_dir+'/final_WSEL_arrays/spring'+str(year)+'_kriged_WSEL.tsv')[0]\n",
    "    df_grid = np.loadtxt(filename)\n",
    "    kriged_spring[t,:,:] = df_grid[grid_ref.loc[:,['row_regional','column_regional']].values]\n",
    "    \n",
    "    # load and place fall kriged data in np array\n",
    "    filename = glob.glob(ghb_dir+'/final_WSEL_arrays/fall'+str(year)+'_kriged_WSEL.tsv')[0]\n",
    "    df_grid = np.loadtxt(filename)\n",
    "    kriged_fall[t,:,:] = df_grid\n",
    "\n",
    "    \n",
    "    # save NW  dataframe\n",
    "    kriged_NW[t] = kriged_spring[t,0,:]\n",
    "    kriged_NW[2*t] = kriged_fall[t,0,:]\n",
    "    # save SE data frame\n",
    "    kriged_SE[t] = kriged_spring[t,nrow-1,:]\n",
    "    kriged_SE[2*t] = kriged_fall[t,nrow-1,:]\n",
    "    \n",
    "    year_to_int[t,0] = t\n",
    "    year_to_int[t,1] = year\n",
    "    t+=1\n",
    "    "
   ]
  },
  {
   "cell_type": "code",
   "execution_count": 71,
   "metadata": {},
   "outputs": [],
   "source": [
    "y_num=0\n",
    "\n",
    "nwhead_fall = kriged_fall[:,0,:]\n",
    "sehead_fall = kriged_fall[:,-1,:]\n",
    "\n",
    "\n",
    "# Set kriged water table elevations that are above land surface to land surface\n",
    "nwhead_fall = np.where(nwhead_fall>dem_data[0,:], dem_data[0,:], nwhead_fall)\n",
    "sehead_fall = np.where(sehead_fall>dem_data[-1,:], dem_data[-1,:], sehead_fall)\n",
    "\n",
    "kriged_NW = np.where(kriged_NW>dem_data[0,:], dem_data[0,:], kriged_NW)\n",
    "kriged_SE = np.where(kriged_SE>dem_data[-1,:], dem_data[-1,:], kriged_SE)\n",
    "\n",
    "# calculate the average depth to water table for the spring and from 2013-2018 for the northwest and southeast boundary\n",
    "avg_nw = np.nanmean(kriged_NW,axis=0)\n",
    "avg_se = np.nanmean(kriged_SE,axis=0)"
   ]
  },
  {
   "cell_type": "code",
   "execution_count": 72,
   "metadata": {},
   "outputs": [],
   "source": [
    "# steady state GHB layering\n",
    "nw_lay = np.zeros(ncol)\n",
    "se_lay = np.zeros(ncol)\n",
    "for k in np.arange(0,nlay-1):\n",
    "        # pull out elevation of layer bottom\n",
    "        lay_elevnw = botm[k, 0, :]\n",
    "        lay_elevse = botm[k, -1, :]\n",
    "        for j in np.arange(0,ncol):\n",
    "            if lay_elevnw[j] > avg_nw[j]:\n",
    "                nw_lay[j] = k+1\n",
    "            if lay_elevse[j] > avg_se[j]:\n",
    "                se_lay[j] = k+1\n",
    "# correct from float to integer for cell referencing\n",
    "nw_lay = nw_lay.astype(int)\n",
    "se_lay = se_lay.astype(int)"
   ]
  },
  {
   "cell_type": "markdown",
   "metadata": {},
   "source": [
    "## Read in TPROGS data"
   ]
  },
  {
   "cell_type": "code",
   "execution_count": 73,
   "metadata": {},
   "outputs": [],
   "source": [
    "# \"C:\\Users\\ajcalder\\Box\\research_cosumnes\\Large_TPROGS_run\\TPROGS_realizations\\tsim_Cosumnes_Full_Model.asc1\"\n",
    "# create tprogs directory reference to 100 large tprogs runs ascii files\n",
    "# tprogs_dir = os.path.dirname(gwfm_dir)+'/Large_TPROGS_run/Archive/TPROGS_realizations/'\n",
    "# # get all file names\n",
    "# tprogs_files = glob.glob(tprogs_dir+'*')\n"
   ]
  },
  {
   "cell_type": "code",
   "execution_count": 77,
   "metadata": {},
   "outputs": [],
   "source": [
    "# \"C:\\TProGS10\\tsim\"\n",
    "mf_tprogs_dir = 'C:/TProGS10/tsim/Cosumnes_Alisha/'\n",
    "# mf_tprogs_dir = gwfm_dir+'/UPW_data/tprogs_final/'\n",
    "tprogs_files = glob.glob(mf_tprogs_dir+'*')\n"
   ]
  },
  {
   "cell_type": "code",
   "execution_count": 78,
   "metadata": {},
   "outputs": [],
   "source": [
    "def tprogs_cut_elev(tprogs_line):\n",
    "    tprogs_arr = np.reshape(tprogs_line, (105, 60 ,200))\n",
    "    tprogs_elev = np.copy(tprogs_arr)\n",
    "    # the bottom layer of the tprogs model is at -50 m amsl and the top layer is 50 m amsl\n",
    "    t = 0\n",
    "    for k in np.arange(-50,50,0.5):\n",
    "        tprogs_elev[t,dem_data<k]= np.NaN\n",
    "        t+=1\n",
    "    masked_tprogs = ma.masked_invalid(tprogs_elev)\n",
    "    return(masked_tprogs)"
   ]
  },
  {
   "cell_type": "code",
   "execution_count": 79,
   "metadata": {},
   "outputs": [],
   "source": [
    "import numpy.ma as ma\n",
    "def tprogs_cut_saturated(tprogs,kriged):\n",
    "    tprogs_unsat = np.copy(tprogs)\n",
    "    # the bottom layer of the tprogs model is at -80 m amsl and the top layer is 80 m amsl\n",
    "    # set any tprogs cells below the average fall water table depth as np.nan\n",
    "    t = 0\n",
    "    for k in np.arange(-50,50,0.5):\n",
    "        tprogs_unsat[t,kriged>k]= np.NaN\n",
    "        t+=1\n",
    "    masked_tprogs = ma.masked_invalid(tprogs_unsat)\n",
    "    return(masked_tprogs)"
   ]
  },
  {
   "cell_type": "code",
   "execution_count": 80,
   "metadata": {},
   "outputs": [],
   "source": [
    "def int_to_param(tprogs):\n",
    "    tprogs[tprogs<0] *= -1\n",
    "    tprogs = tprogs.astype(float)\n",
    "    # flip tprogs model along z axis to match modflow definition of 0 as top (TPROGS says 0 is bottom)\n",
    "    tprogs = np.flip(tprogs,axis=0)\n",
    "    tprogs_K = np.copy(tprogs)\n",
    "    tprogs_Sy = np.copy(tprogs)\n",
    "    tprogs_Ss = np.copy(tprogs)\n",
    "    # hydraulic parameters from fleckenstein 2006\n",
    "    # I-IV gravel, sand, muddy sand, mud\n",
    "    # K in m/s, Sy, Ss\n",
    "    params = np.asarray([[4e-3,1.5e-3,2.5e-4,6.5e-6],\n",
    "                         [0.25,0.2,0.15,0.1],\n",
    "                         [2.0e-5,8e-5,2e-4,5e-4]])\n",
    "    # convert from m/s to m/d\n",
    "    params[0] *= 86400    \n",
    "    for n in np.arange(1,5):\n",
    "        tprogs_K[tprogs==n]= params[0,n-1]\n",
    "    for n in np.arange(1,5):\n",
    "        tprogs_Sy[tprogs==n]= params[1,n-1]\n",
    "    for n in np.arange(1,5):\n",
    "        tprogs_Ss[tprogs==n]= params[2,n-1]\n",
    "            \n",
    "    return(tprogs_K,tprogs_Sy,tprogs_Ss)\n"
   ]
  },
  {
   "cell_type": "code",
   "execution_count": 92,
   "metadata": {},
   "outputs": [],
   "source": [
    "t=0\n",
    "tprogs_line = np.loadtxt(tprogs_files[t], skiprows = 1)\n",
    "masked_tprogs = np.reshape(tprogs_line, (200, 60, 105 ))\n",
    "# masked_tprogs=tprogs_cut_elev(tprogs_line)\n",
    "K, Sy, Ss= int_to_param(masked_tprogs)\n"
   ]
  },
  {
   "cell_type": "code",
   "execution_count": 94,
   "metadata": {},
   "outputs": [
    {
     "data": {
      "text/plain": [
       "<matplotlib.image.AxesImage at 0x2058152d9a0>"
      ]
     },
     "execution_count": 94,
     "metadata": {},
     "output_type": "execute_result"
    },
    {
     "data": {
      "image/png": "[encoded data removed]",
      "text/plain": [
       "<Figure size 432x288 with 1 Axes>"
      ]
     },
     "metadata": {
      "needs_background": "light"
     },
     "output_type": "display_data"
    }
   ],
   "source": [
    "plt.imshow(K[0,:,:],aspect = 20)\n",
    "# plt.imshow(K[:,:,0])"
   ]
  },
  {
   "cell_type": "code",
   "execution_count": 79,
   "metadata": {},
   "outputs": [],
   "source": [
    "# take the mean water surface elevations for fall and spring\n",
    "kriged_fall_avg = np.nanmean(kriged_fall,axis=0)\n",
    "kriged_spring_avg = np.nanmean(kriged_spring,axis=0)\n",
    "# take average between fall and spring water surface elevations\n",
    "kriged_fall_spring_avg = (kriged_fall_avg+kriged_spring_avg)/2"
   ]
  },
  {
   "cell_type": "code",
   "execution_count": 80,
   "metadata": {},
   "outputs": [],
   "source": [
    "# from scipy.stats import hmean\n",
    "# unsat_hk = np.mean(tprogs_cut_saturated(K,kriged_fall_spring_avg),axis=0)\n",
    "# unsat_vka = hmean(tprogs_cut_saturated(K,kriged_fall_spring_avg))\n",
    "# unsat_sy = np.mean(tprogs_cut_saturated(Sy,kriged_fall_spring_avg),axis=0)\n",
    "# unsat_ss = np.mean(tprogs_cut_saturated(Ss,kriged_fall_spring_avg),axis=0)\n",
    "\n",
    "# # set any zero values to the average of the domain, should be added to the function above\n",
    "# # arithmetic mean is used because we are filling data and not calculating vertical averages\n",
    "# unsat_hk[unsat_hk.data==0] = np.mean(unsat_hk)\n",
    "# unsat_vka[unsat_vka.data==0] = np.mean(unsat_vka)\n",
    "# unsat_sy[unsat_sy.data==0] = np.mean(unsat_sy)\n",
    "# unsat_ss[unsat_ss.data==0] = np.mean(unsat_ss)"
   ]
  },
  {
   "cell_type": "code",
   "execution_count": 81,
   "metadata": {},
   "outputs": [],
   "source": [
    "# the first layer starts at -10 m which corresponds to 20 layers below 0\n",
    "# 0m AMSL is 160 layers above the bottom of tprogs which ends up giving 160-20 is layer 140 or 139 for 0 based"
   ]
  },
  {
   "cell_type": "markdown",
   "metadata": {},
   "source": [
    "## GEL package"
   ]
  },
  {
   "cell_type": "code",
   "execution_count": 82,
   "metadata": {
    "scrolled": true
   },
   "outputs": [],
   "source": [
    "hk = np.zeros(botm.shape)\n",
    "vka = np.zeros(botm.shape)\n",
    "sy = np.zeros(botm.shape)\n",
    "ss = np.zeros(botm.shape)"
   ]
  },
  {
   "cell_type": "code",
   "execution_count": 83,
   "metadata": {},
   "outputs": [
    {
     "ename": "NameError",
     "evalue": "name 'K' is not defined",
     "output_type": "error",
     "traceback": [
      "\u001b[1;31m---------------------------------------------------------------------------\u001b[0m",
      "\u001b[1;31mNameError\u001b[0m                                 Traceback (most recent call last)",
      "\u001b[1;32m~\\AppData\\Local\\Temp/ipykernel_11524/2120996295.py\u001b[0m in \u001b[0;36m<module>\u001b[1;34m\u001b[0m\n\u001b[1;32m----> 1\u001b[1;33m \u001b[0mhk\u001b[0m\u001b[1;33m.\u001b[0m\u001b[0mshape\u001b[0m\u001b[1;33m,\u001b[0m\u001b[0mnp\u001b[0m\u001b[1;33m.\u001b[0m\u001b[0mflip\u001b[0m\u001b[1;33m(\u001b[0m\u001b[0mK\u001b[0m\u001b[1;33m[\u001b[0m\u001b[1;33m-\u001b[0m\u001b[0mhk\u001b[0m\u001b[1;33m.\u001b[0m\u001b[0mshape\u001b[0m\u001b[1;33m[\u001b[0m\u001b[1;36m0\u001b[0m\u001b[1;33m]\u001b[0m\u001b[1;33m+\u001b[0m\u001b[1;36m1\u001b[0m\u001b[1;33m:\u001b[0m\u001b[1;33m-\u001b[0m\u001b[1;36m2\u001b[0m\u001b[1;33m,\u001b[0m\u001b[1;33m:\u001b[0m\u001b[1;33m,\u001b[0m\u001b[1;33m:\u001b[0m\u001b[1;33m]\u001b[0m\u001b[1;33m,\u001b[0m\u001b[0maxis\u001b[0m\u001b[1;33m=\u001b[0m\u001b[1;36m0\u001b[0m\u001b[1;33m)\u001b[0m\u001b[1;33m.\u001b[0m\u001b[0mshape\u001b[0m\u001b[1;33m\u001b[0m\u001b[1;33m\u001b[0m\u001b[0m\n\u001b[0m",
      "\u001b[1;31mNameError\u001b[0m: name 'K' is not defined"
     ]
    }
   ],
   "source": [
    "hk.shape,np.flip(K[-hk.shape[0]+1:-2,:,:],axis=0).shape"
   ]
  },
  {
   "cell_type": "code",
   "execution_count": 84,
   "metadata": {},
   "outputs": [
    {
     "ename": "NameError",
     "evalue": "name 'K' is not defined",
     "output_type": "error",
     "traceback": [
      "\u001b[1;31m---------------------------------------------------------------------------\u001b[0m",
      "\u001b[1;31mNameError\u001b[0m                                 Traceback (most recent call last)",
      "\u001b[1;32m~\\AppData\\Local\\Temp/ipykernel_11524/2575389752.py\u001b[0m in \u001b[0;36m<module>\u001b[1;34m\u001b[0m\n\u001b[0;32m      1\u001b[0m \u001b[1;31m# take of 2 for the bottom layers and 1 for the unsat zone layer up top\u001b[0m\u001b[1;33m\u001b[0m\u001b[1;33m\u001b[0m\u001b[1;33m\u001b[0m\u001b[0m\n\u001b[0;32m      2\u001b[0m \u001b[1;31m# for tprogs arrays 0 is the bottom of the model, so flipping on z will fix\u001b[0m\u001b[1;33m\u001b[0m\u001b[1;33m\u001b[0m\u001b[1;33m\u001b[0m\u001b[0m\n\u001b[1;32m----> 3\u001b[1;33m \u001b[0mhk\u001b[0m\u001b[1;33m[\u001b[0m\u001b[1;36m1\u001b[0m\u001b[1;33m:\u001b[0m\u001b[1;33m-\u001b[0m\u001b[1;36m2\u001b[0m\u001b[1;33m,\u001b[0m\u001b[1;33m:\u001b[0m\u001b[1;33m,\u001b[0m\u001b[1;33m:\u001b[0m\u001b[1;33m]\u001b[0m \u001b[1;33m=\u001b[0m \u001b[0mnp\u001b[0m\u001b[1;33m.\u001b[0m\u001b[0mflip\u001b[0m\u001b[1;33m(\u001b[0m\u001b[0mK\u001b[0m\u001b[1;33m[\u001b[0m\u001b[1;33m-\u001b[0m\u001b[0mhk\u001b[0m\u001b[1;33m.\u001b[0m\u001b[0mshape\u001b[0m\u001b[1;33m[\u001b[0m\u001b[1;36m0\u001b[0m\u001b[1;33m]\u001b[0m\u001b[1;33m+\u001b[0m\u001b[1;36m1\u001b[0m\u001b[1;33m:\u001b[0m\u001b[1;33m-\u001b[0m\u001b[1;36m2\u001b[0m\u001b[1;33m,\u001b[0m\u001b[1;33m:\u001b[0m\u001b[1;33m,\u001b[0m\u001b[1;33m:\u001b[0m\u001b[1;33m]\u001b[0m\u001b[1;33m,\u001b[0m\u001b[0maxis\u001b[0m\u001b[1;33m=\u001b[0m\u001b[1;36m0\u001b[0m\u001b[1;33m)\u001b[0m\u001b[1;33m\u001b[0m\u001b[1;33m\u001b[0m\u001b[0m\n\u001b[0m\u001b[0;32m      4\u001b[0m \u001b[0msy\u001b[0m\u001b[1;33m[\u001b[0m\u001b[1;36m1\u001b[0m\u001b[1;33m:\u001b[0m\u001b[1;33m-\u001b[0m\u001b[1;36m2\u001b[0m\u001b[1;33m,\u001b[0m\u001b[1;33m:\u001b[0m\u001b[1;33m,\u001b[0m\u001b[1;33m:\u001b[0m\u001b[1;33m]\u001b[0m \u001b[1;33m=\u001b[0m \u001b[0mnp\u001b[0m\u001b[1;33m.\u001b[0m\u001b[0mflip\u001b[0m\u001b[1;33m(\u001b[0m\u001b[0mSy\u001b[0m\u001b[1;33m[\u001b[0m\u001b[1;33m-\u001b[0m\u001b[0msy\u001b[0m\u001b[1;33m.\u001b[0m\u001b[0mshape\u001b[0m\u001b[1;33m[\u001b[0m\u001b[1;36m0\u001b[0m\u001b[1;33m]\u001b[0m\u001b[1;33m+\u001b[0m\u001b[1;36m1\u001b[0m\u001b[1;33m:\u001b[0m\u001b[1;33m-\u001b[0m\u001b[1;36m2\u001b[0m\u001b[1;33m,\u001b[0m\u001b[1;33m:\u001b[0m\u001b[1;33m,\u001b[0m\u001b[1;33m:\u001b[0m\u001b[1;33m]\u001b[0m\u001b[1;33m,\u001b[0m\u001b[0maxis\u001b[0m\u001b[1;33m=\u001b[0m\u001b[1;36m0\u001b[0m\u001b[1;33m)\u001b[0m\u001b[1;33m\u001b[0m\u001b[1;33m\u001b[0m\u001b[0m\n\u001b[0;32m      5\u001b[0m \u001b[0mss\u001b[0m\u001b[1;33m[\u001b[0m\u001b[1;36m1\u001b[0m\u001b[1;33m:\u001b[0m\u001b[1;33m-\u001b[0m\u001b[1;36m2\u001b[0m\u001b[1;33m,\u001b[0m\u001b[1;33m:\u001b[0m\u001b[1;33m,\u001b[0m\u001b[1;33m:\u001b[0m\u001b[1;33m]\u001b[0m \u001b[1;33m=\u001b[0m \u001b[0mnp\u001b[0m\u001b[1;33m.\u001b[0m\u001b[0mflip\u001b[0m\u001b[1;33m(\u001b[0m\u001b[0mSs\u001b[0m\u001b[1;33m[\u001b[0m\u001b[1;33m-\u001b[0m\u001b[0mss\u001b[0m\u001b[1;33m.\u001b[0m\u001b[0mshape\u001b[0m\u001b[1;33m[\u001b[0m\u001b[1;36m0\u001b[0m\u001b[1;33m]\u001b[0m\u001b[1;33m+\u001b[0m\u001b[1;36m1\u001b[0m\u001b[1;33m:\u001b[0m\u001b[1;33m-\u001b[0m\u001b[1;36m2\u001b[0m\u001b[1;33m,\u001b[0m\u001b[1;33m:\u001b[0m\u001b[1;33m,\u001b[0m\u001b[1;33m:\u001b[0m\u001b[1;33m]\u001b[0m\u001b[1;33m,\u001b[0m\u001b[0maxis\u001b[0m\u001b[1;33m=\u001b[0m\u001b[1;36m0\u001b[0m\u001b[1;33m)\u001b[0m\u001b[1;33m\u001b[0m\u001b[1;33m\u001b[0m\u001b[0m\n",
      "\u001b[1;31mNameError\u001b[0m: name 'K' is not defined"
     ]
    }
   ],
   "source": [
    "# take of 2 for the bottom layers and 1 for the unsat zone layer up top\n",
    "# for tprogs arrays 0 is the bottom of the model, so flipping on z will fix\n",
    "hk[1:-2,:,:] = np.flip(K[-hk.shape[0]+1:-2,:,:],axis=0)\n",
    "sy[1:-2,:,:] = np.flip(Sy[-sy.shape[0]+1:-2,:,:],axis=0)\n",
    "ss[1:-2,:,:] = np.flip(Ss[-ss.shape[0]+1:-2,:,:],axis=0)\n"
   ]
  },
  {
   "cell_type": "code",
   "execution_count": 85,
   "metadata": {},
   "outputs": [],
   "source": [
    "# set parameters based on upscaled unsaturated zone\n",
    "def unsat_hp(upw_array, hp_value):\n",
    "    temp = np.copy(upw_array)\n",
    "    temp[0,:,:] = hp_value\n",
    "    return(temp)\n",
    "# convert hydr. cond. from m/s to m/d\n",
    "hk = unsat_hp(hk, unsat_hk)\n",
    "vka = unsat_hp(vka, unsat_vka)\n",
    "sy = unsat_hp(sy, unsat_sy)\n",
    "ss = unsat_hp(ss,unsat_ss)"
   ]
  },
  {
   "cell_type": "markdown",
   "metadata": {},
   "source": [
    "The tuff breccia is very dense, hard and low water yielding. It is supposedly responsible for the many \"haystack\" hills in the eastern part of the county\n",
    "\n",
    "DWR report has a few final well pumping rates, drawdowns and specific capacities but limited.\n",
    "\n",
    "Fleckenstein et al. 2006 found the Mehrten had\n",
    "Kh = 1 to 1.8 x10^-5 m/s\n",
    "Kv = 1 to 1.8 x10^-7 m/s\n",
    "Sy = 0.15 to 0.2\n",
    "Ss = 1e-4 to 1e-3 m^-1"
   ]
  },
  {
   "cell_type": "code",
   "execution_count": 86,
   "metadata": {},
   "outputs": [],
   "source": [
    "def mehrten_hp(upw_array, hp_value):\n",
    "    temp = np.copy(upw_array)\n",
    "    temp[-1,:,:] = hp_value\n",
    "    return(temp)\n",
    "# convert hydr. cond. from m/s to m/d\n",
    "hk = mehrten_hp(hk, 1e-5*86400)\n",
    "vka = mehrten_hp(vka, 1e-7*86400)\n",
    "sy = mehrten_hp(sy, 0.10)\n",
    "ss = mehrten_hp(ss, 1e-4)\n",
    "\n",
    "def laguna_hp(upw_array, hp_value):\n",
    "    temp = np.copy(upw_array)\n",
    "    temp[-2,:,:] = hp_value\n",
    "    return(temp)\n",
    "# convert hydr. cond. from m/s to m/d\n",
    "hk = laguna_hp(hk, 1e-4*86400)\n",
    "vka = laguna_hp(vka, 1e-6*86400)\n",
    "sy = laguna_hp(sy, 0.15)\n",
    "ss = laguna_hp(ss, 1e-5)"
   ]
  },
  {
   "cell_type": "code",
   "execution_count": 87,
   "metadata": {},
   "outputs": [],
   "source": [
    "# layvka 0 means vka is vert K, non zero means its the anisotropy ratio between horiz and vert\n",
    "layvka = 0\n",
    "\n",
    "# LAYTYP MUST BE GREATER THAN ZERO WHEN IUZFOPT IS 2\n",
    "laytyp = 1 # 0 is confined, >0 convertible, <0 convertible unless the THICKSTRT option is in effect\n",
    "# Laywet must be 0 if laytyp is confined laywet = [1,1,1,1,1]\n",
    "#ipakcb = 53 means cell-by-cell budget is saved because it is non zero (default is 53)\n",
    "\n",
    "# until upscaling is begun then vertical and horiz K are the same for TPROGS\n",
    "# upw = flopy.modflow.ModflowUpw(model = m, hk =hk, layvka = layvka, vka = hk, sy=sy, ss=ss,\n",
    "#                                laytyp=laytyp, ipakcb=53)\n",
    "\n",
    "lpf = flopy.modflow.ModflowLpf(model = m, hk =hk, layvka = layvka, vka = hk, sy=sy, ss=ss,\n",
    "                               laytyp=laytyp, ipakcb=53)"
   ]
  },
  {
   "cell_type": "code",
   "execution_count": null,
   "metadata": {},
   "outputs": [],
   "source": []
  },
  {
   "cell_type": "markdown",
   "metadata": {},
   "source": [
    "## GHB NW, SE set up"
   ]
  },
  {
   "cell_type": "code",
   "execution_count": 88,
   "metadata": {},
   "outputs": [],
   "source": [
    "# scaling_factors = pd.read_csv(m.model_ws+'/GHB_UZF_WEL_scaling.csv', delimiter = ',')\n"
   ]
  },
  {
   "cell_type": "code",
   "execution_count": 89,
   "metadata": {},
   "outputs": [],
   "source": [
    "# join top and botm for easier array referencing for elevations\n",
    "top_botm = np.zeros((m.dis.nlay+1,m.dis.nrow,m.dis.ncol))\n",
    "top_botm[0,:,:] = m.dis.top.array\n",
    "top_botm[1:,:,:] = m.dis.botm.array\n"
   ]
  },
  {
   "cell_type": "code",
   "execution_count": 90,
   "metadata": {},
   "outputs": [
    {
     "name": "stdout",
     "output_type": "stream",
     "text": [
      "GHB time: 0.053 sec\n"
     ]
    }
   ],
   "source": [
    "distance=5000\n",
    "t0 = time.time()\n",
    "\n",
    "ghbnw_spd = pd.DataFrame(np.zeros((np.sum(nlay-nw_lay),5)))\n",
    "ghbnw_spd.columns = ['k','i','j','bhead','cond']\n",
    "\n",
    "# get all of the j,k indices to reduce math done in the for loop\n",
    "yz = np.zeros((np.sum(nlay-nw_lay),2)).astype(int)\n",
    "n=0\n",
    "for j in np.arange(0,ncol):\n",
    "    for k in np.arange(nw_lay[j], nlay):\n",
    "        yz[n,0] = j\n",
    "        yz[n,1] = k\n",
    "        n+=1\n",
    "        \n",
    "condnw = lpf.hk.array[yz[:,1],0,yz[:,0]]*(top_botm[yz[:,1],0,yz[:,0]]-top_botm[yz[:,1]+1,0,yz[:,0]])*delr/distance\n",
    "ghbnw_spd.cond = condnw\n",
    "ghbnw_spd.bhead = avg_nw[yz[:,0]]\n",
    "ghbnw_spd.k = yz[:,1]\n",
    "ghbnw_spd.j = yz[:,0]\n",
    "ghbnw_spd.i = 0\n",
    "\n",
    "ghbse_spd = pd.DataFrame(np.zeros((np.sum(nlay-se_lay),5)))\n",
    "ghbse_spd.columns = ['k','i','j','bhead','cond']\n",
    "\n",
    "# get all of the j,k indices to reduce math done in the for loop\n",
    "yz = np.zeros((np.sum(nlay-se_lay),2)).astype(int)\n",
    "n=0\n",
    "for j in np.arange(0,ncol):\n",
    "    for k in np.arange(se_lay[j], nlay):\n",
    "        yz[n,0] = j\n",
    "        yz[n,1] = k\n",
    "        n+=1\n",
    "condse = lpf.hk.array[yz[:,1],int(nrow-1),yz[:,0]]*(top_botm[yz[:,1],-1,yz[:,0]]-top_botm[yz[:,1]+1,-1,yz[:,0]])*delr/distance\n",
    "ghbse_spd.cond = condse\n",
    "ghbse_spd.bhead = avg_se[yz[:,0]]\n",
    "ghbse_spd.k = yz[:,1]\n",
    "ghbse_spd.j = yz[:,0]\n",
    "ghbse_spd.i = 0\n",
    "        \n",
    "resample_time = time.time() - t0\n",
    "print(\"GHB time: {:.3f} sec\".format(time.time() - t0))"
   ]
  },
  {
   "cell_type": "markdown",
   "metadata": {},
   "source": [
    "## Southwest GHB boundary (specified head for outflow to the Delta)"
   ]
  },
  {
   "cell_type": "markdown",
   "metadata": {},
   "source": [
    "How much would the expected head gradient be near the delta, how fast would head decrease with depth.\n",
    "Perhaps it would only go down a few meters for every layer"
   ]
  },
  {
   "cell_type": "code",
   "execution_count": 91,
   "metadata": {},
   "outputs": [],
   "source": [
    "distance=5000\n",
    "\n",
    "# Fine sand\t2×10-7 to 2×10-4 m/s\n",
    "# Silt, loess\t1×10-9 to 2×10-5 m/s\n",
    "# delta soils have some sand mixed in\n",
    "delta_hk = 1e-5*86400\n",
    "\n",
    "ghbdn_spd = pd.DataFrame(np.zeros(((nlay*nrow),5)))\n",
    "ghbdn_spd.columns = ['k','i','j','bhead','cond']\n",
    "\n",
    "# get all of the j,k indices to reduce math done in the for loop\n",
    "xz = np.zeros((nlay*nrow,2)).astype(int)\n",
    "n=0\n",
    "for i in np.arange(0,nrow):\n",
    "    for k in np.arange(0, nlay):\n",
    "        xz[n,0] = i\n",
    "        xz[n,1] = k\n",
    "        n+=1\n",
    "cond = delta_hk*(top_botm[xz[:,1],:,0]-top_botm[xz[:,1]+1,:,0])*delr/distance\n",
    "ghbdn_spd.cond = cond\n",
    "ghbdn_spd.bhead = 0\n",
    "ghbdn_spd.k = xz[:,1]\n",
    "ghbdn_spd.j = 0\n",
    "ghbdn_spd.i = xz[:,0]"
   ]
  },
  {
   "cell_type": "code",
   "execution_count": 92,
   "metadata": {},
   "outputs": [],
   "source": [
    "# (botm[0:nlay_ghb,:,0]<0).shape\n",
    "# botm[ghbdn_spd[:,:3].astype(int)].shape"
   ]
  },
  {
   "cell_type": "code",
   "execution_count": 93,
   "metadata": {},
   "outputs": [],
   "source": [
    "# lay, row, col for delta ghb\n",
    "zxy = ghbdn_spd.values[:,:3].astype(int)\n",
    "# (botm[zxy[:,0],zxy[:,1],zxy[:,2]]<0).shape\n",
    "# drop any delta ghb cells where cell bottom is below sea level\n",
    "ghbdn_spd =  ghbdn_spd.values[botm[zxy[:,0],zxy[:,1],zxy[:,2]]<0]\n",
    "\n"
   ]
  },
  {
   "cell_type": "code",
   "execution_count": 94,
   "metadata": {},
   "outputs": [],
   "source": [
    "# ghb_spd = np.vstack((ghbdn_spd, ghbup_spd))\n",
    "ghb_spd = np.vstack((ghbdn_spd, ghbse_spd.values, ghbnw_spd.values))\n",
    "# ghb_spd = np.vstack((ghbdn_spd, ghbup_spd, ghbse_spd, ghbnw_spd))\n"
   ]
  },
  {
   "cell_type": "code",
   "execution_count": 95,
   "metadata": {},
   "outputs": [],
   "source": [
    "# lay, row, col, head, cond\n",
    "k = ghb_spd[:,0].astype(int)\n",
    "i = ghb_spd[:,1].astype(int)\n",
    "j = ghb_spd[:,2].astype(int)\n",
    "\n",
    "# find where the ghb overlaps with the no flow cells\n",
    "active_bc =bas.ibound.array[k,i,j]\n",
    "# ghb_spd = ghb_spd[active_bc.astype(bool)]"
   ]
  },
  {
   "cell_type": "code",
   "execution_count": 96,
   "metadata": {},
   "outputs": [],
   "source": [
    "ghb_spd = ghb_spd[:][active_bc.astype(bool)]"
   ]
  },
  {
   "cell_type": "code",
   "execution_count": 97,
   "metadata": {},
   "outputs": [],
   "source": [
    "\n",
    "# GHB for east and west model boundaries\n",
    "ghb.stress_period_data =  {0: ghb_spd}\n",
    "# GHB for only Delta, west side of model\n",
    "# ghb.stress_period_data =  {0: ghbdn_spd}"
   ]
  },
  {
   "cell_type": "code",
   "execution_count": 98,
   "metadata": {},
   "outputs": [
    {
     "name": "stdout",
     "output_type": "stream",
     "text": [
      "\n",
      "GHB PACKAGE DATA VALIDATION:\n",
      "  No errors or warnings encountered.\n",
      "\n",
      "  Checks that passed:\n",
      "    BC indices valid\n",
      "    not a number (Nan) entries\n",
      "    BC in inactive cells\n",
      "    BC elevation below cell bottom\n",
      "\n"
     ]
    },
    {
     "data": {
      "text/plain": [
       "<flopy.utils.check.check at 0x1f302f99fa0>"
      ]
     },
     "execution_count": 98,
     "metadata": {},
     "output_type": "execute_result"
    }
   ],
   "source": [
    "ghb.check()"
   ]
  },
  {
   "cell_type": "markdown",
   "metadata": {},
   "source": [
    "## CHD Package Time variant head"
   ]
  },
  {
   "cell_type": "code",
   "execution_count": 99,
   "metadata": {},
   "outputs": [],
   "source": [
    "chd = flopy.modflow.ModflowChd(model=m)"
   ]
  },
  {
   "cell_type": "code",
   "execution_count": 100,
   "metadata": {},
   "outputs": [],
   "source": [
    "# Determine which layer the specified head cell is in\n",
    "# since the if statement only checks whether the first layer is greater than the streambed elevation, \n",
    "# otherwise it would be less than and zero (most should be in layer 0)\n",
    "chd_lay = np.zeros(nrow)\n",
    "\n",
    "head = dem_data[:,ncol-1]\n",
    "headmin = np.min(head)\n",
    "ch_weight = 0.9\n",
    "chd_vals = head*(1-ch_weight)+headmin*ch_weight\n",
    "\n",
    "\n",
    "\n",
    "for k in np.arange(0,nlay-1):\n",
    "    # pull out elevation of layer bottom\n",
    "    lay_elev = botm[k, :, ncol-1]\n",
    "    for i in np.arange(0,nrow):\n",
    "        # want to compare if streambed is lower than the layer bottom\n",
    "        # 1 will be subtracted from each z value to make sure it is lower than the model top in the upper reaches\n",
    "        if lay_elev[i] > chd_vals[i]:\n",
    "            chd_lay[i] = k\n",
    "\n"
   ]
  },
  {
   "cell_type": "code",
   "execution_count": 101,
   "metadata": {},
   "outputs": [
    {
     "name": "stdout",
     "output_type": "stream",
     "text": [
      "Number of CHD cells for upland bound 12200\n"
     ]
    }
   ],
   "source": [
    "# layer (int), row (int), column (int), shead (float), ehead (float) shead is the head at the\n",
    "# start of the stress period, and ehead is the head at the end of the stress period\n",
    "# nlay_ghb = 1\n",
    "\n",
    "# constant head boundary for mountain front recharge\n",
    "# assume that near the mountains the head should be at the surface becaues the aquifer is thin\n",
    "\n",
    "# new specified head boundary will be linear at the uppermost column to reduce nonlinearity\n",
    "# as the no flow cells will be removed and replaced with low hydraulic conductivity cells\n",
    "\n",
    "# chd_spd = np.zeros((len(chd_locs[0]),5))\n",
    "chd_spd = np.zeros((int(np.sum((nlay-chd_lay))),5))\n",
    "\n",
    "# # head for mountain front recharge\n",
    "shead = chd_vals\n",
    "ehead = chd_vals\n",
    "p=0\n",
    "for i in np.arange(0,nrow):\n",
    "    for k in np.arange(0,nlay-chd_lay[i]):\n",
    "        chd_spd[p] = [int(chd_lay[i]+k), i, ncol-1, shead[i], ehead[i]]\n",
    "        p+=1\n",
    "print('Number of CHD cells for upland bound', p)\n",
    "\n",
    "# p = 0\n",
    "# # head for mountain front recharge\n",
    "# shead = head\n",
    "# ehead = head\n",
    "\n",
    "# for i, j in zip(chd_locs[0], chd_locs[1]):\n",
    "#     chd_spd[p] = [0, i, j, shead[p], ehead[p]]\n",
    "#     p+=1\n",
    "# print('Number of CHD cells for upland bound', p)\n"
   ]
  },
  {
   "cell_type": "code",
   "execution_count": 102,
   "metadata": {},
   "outputs": [
    {
     "data": {
      "text/plain": [
       "[<matplotlib.lines.Line2D at 0x1f38bb00070>]"
      ]
     },
     "execution_count": 102,
     "metadata": {},
     "output_type": "execute_result"
    },
    {
     "data": {
      "image/png": "[encoded data removed]",
      "text/plain": [
       "<Figure size 432x288 with 1 Axes>"
      ]
     },
     "metadata": {
      "needs_background": "light"
     },
     "output_type": "display_data"
    }
   ],
   "source": [
    "plt.plot(chd_vals)"
   ]
  },
  {
   "cell_type": "code",
   "execution_count": 103,
   "metadata": {},
   "outputs": [],
   "source": [
    "chd.stress_period_data =  {0: chd_spd}"
   ]
  },
  {
   "cell_type": "code",
   "execution_count": 104,
   "metadata": {},
   "outputs": [
    {
     "name": "stdout",
     "output_type": "stream",
     "text": [
      "\n",
      "CHD PACKAGE DATA VALIDATION:\n",
      "  No errors or warnings encountered.\n",
      "\n",
      "  Checks that passed:\n",
      "    BC indices valid\n",
      "    not a number (Nan) entries\n",
      "    BC in inactive cells\n",
      "\n"
     ]
    },
    {
     "data": {
      "text/plain": [
       "<flopy.utils.check.check at 0x1f38bae9280>"
      ]
     },
     "execution_count": 104,
     "metadata": {},
     "output_type": "execute_result"
    }
   ],
   "source": [
    "chd.check()"
   ]
  },
  {
   "cell_type": "markdown",
   "metadata": {},
   "source": [
    "The code that originally imported the state soil map data was moved up above to be readily applicable to the LAK package and SFR package. gpd_mb and grid_uzf are created above"
   ]
  },
  {
   "cell_type": "markdown",
   "metadata": {},
   "source": [
    "## RCH Package\n",
    "1. Load in already interpolated ET and rainfall data\n",
    "2. Determine where there is agricultural land to add irrigation multiplied by an efficiency factor to the rainfall array\n",
    "3. Difference the rainfall and ETc arrays to dtermine how much water will recharge the aquifer\n",
    "*May need to make ET and Rainfall arrays available offline on your computer*"
   ]
  },
  {
   "cell_type": "code",
   "execution_count": 106,
   "metadata": {},
   "outputs": [
    {
     "ename": "OSError",
     "evalue": "C:\\Users\\arodri44/Box/research_cosumnes/GWFlowModel/UZF_data/Rain_all_txt_arrays/Rain_array_2018.tsv not found.",
     "output_type": "error",
     "traceback": [
      "\u001b[1;31m---------------------------------------------------------------------------\u001b[0m",
      "\u001b[1;31mOSError\u001b[0m                                   Traceback (most recent call last)",
      "\u001b[1;32m~\\AppData\\Local\\Temp/ipykernel_23532/2005311920.py\u001b[0m in \u001b[0;36m<module>\u001b[1;34m\u001b[0m\n\u001b[0;32m     14\u001b[0m     \u001b[1;31m# read in text file of all of the ETc data for each year in array format\u001b[0m\u001b[1;33m\u001b[0m\u001b[1;33m\u001b[0m\u001b[1;33m\u001b[0m\u001b[0m\n\u001b[0;32m     15\u001b[0m     \u001b[0mET_year\u001b[0m \u001b[1;33m=\u001b[0m \u001b[0mnp\u001b[0m\u001b[1;33m.\u001b[0m\u001b[0mloadtxt\u001b[0m\u001b[1;33m(\u001b[0m\u001b[0mgwfm_dir\u001b[0m\u001b[1;33m+\u001b[0m\u001b[1;34m'/UZF_data/ETa_all_txt_arrays/ETa_array_'\u001b[0m\u001b[1;33m+\u001b[0m\u001b[0mstr\u001b[0m\u001b[1;33m(\u001b[0m\u001b[0my\u001b[0m\u001b[1;33m)\u001b[0m\u001b[1;33m+\u001b[0m\u001b[1;34m'.tsv'\u001b[0m\u001b[1;33m,\u001b[0m \u001b[0mdelimiter\u001b[0m \u001b[1;33m=\u001b[0m \u001b[1;34m'\\t'\u001b[0m\u001b[1;33m)\u001b[0m\u001b[1;33m\u001b[0m\u001b[1;33m\u001b[0m\u001b[0m\n\u001b[1;32m---> 16\u001b[1;33m     \u001b[0mrain_year\u001b[0m \u001b[1;33m=\u001b[0m \u001b[0mnp\u001b[0m\u001b[1;33m.\u001b[0m\u001b[0mloadtxt\u001b[0m\u001b[1;33m(\u001b[0m\u001b[0mgwfm_dir\u001b[0m\u001b[1;33m+\u001b[0m\u001b[1;34m'/UZF_data/Rain_all_txt_arrays/Rain_array_'\u001b[0m\u001b[1;33m+\u001b[0m\u001b[0mstr\u001b[0m\u001b[1;33m(\u001b[0m\u001b[0my\u001b[0m\u001b[1;33m)\u001b[0m\u001b[1;33m+\u001b[0m\u001b[1;34m'.tsv'\u001b[0m\u001b[1;33m,\u001b[0m \u001b[0mdelimiter\u001b[0m \u001b[1;33m=\u001b[0m \u001b[1;34m'\\t'\u001b[0m\u001b[1;33m)\u001b[0m\u001b[1;33m\u001b[0m\u001b[1;33m\u001b[0m\u001b[0m\n\u001b[0m\u001b[0;32m     17\u001b[0m \u001b[1;33m\u001b[0m\u001b[0m\n\u001b[0;32m     18\u001b[0m     \u001b[1;31m# get the length of the date range needed for that year\u001b[0m\u001b[1;33m\u001b[0m\u001b[1;33m\u001b[0m\u001b[1;33m\u001b[0m\u001b[0m\n",
      "\u001b[1;32m~\\Anaconda3\\envs\\geosp\\lib\\site-packages\\numpy\\lib\\npyio.py\u001b[0m in \u001b[0;36mloadtxt\u001b[1;34m(fname, dtype, comments, delimiter, converters, skiprows, usecols, unpack, ndmin, encoding, max_rows, like)\u001b[0m\n\u001b[0;32m   1065\u001b[0m             \u001b[0mfname\u001b[0m \u001b[1;33m=\u001b[0m \u001b[0mos_fspath\u001b[0m\u001b[1;33m(\u001b[0m\u001b[0mfname\u001b[0m\u001b[1;33m)\u001b[0m\u001b[1;33m\u001b[0m\u001b[1;33m\u001b[0m\u001b[0m\n\u001b[0;32m   1066\u001b[0m         \u001b[1;32mif\u001b[0m \u001b[0m_is_string_like\u001b[0m\u001b[1;33m(\u001b[0m\u001b[0mfname\u001b[0m\u001b[1;33m)\u001b[0m\u001b[1;33m:\u001b[0m\u001b[1;33m\u001b[0m\u001b[1;33m\u001b[0m\u001b[0m\n\u001b[1;32m-> 1067\u001b[1;33m             \u001b[0mfh\u001b[0m \u001b[1;33m=\u001b[0m \u001b[0mnp\u001b[0m\u001b[1;33m.\u001b[0m\u001b[0mlib\u001b[0m\u001b[1;33m.\u001b[0m\u001b[0m_datasource\u001b[0m\u001b[1;33m.\u001b[0m\u001b[0mopen\u001b[0m\u001b[1;33m(\u001b[0m\u001b[0mfname\u001b[0m\u001b[1;33m,\u001b[0m \u001b[1;34m'rt'\u001b[0m\u001b[1;33m,\u001b[0m \u001b[0mencoding\u001b[0m\u001b[1;33m=\u001b[0m\u001b[0mencoding\u001b[0m\u001b[1;33m)\u001b[0m\u001b[1;33m\u001b[0m\u001b[1;33m\u001b[0m\u001b[0m\n\u001b[0m\u001b[0;32m   1068\u001b[0m             \u001b[0mfencoding\u001b[0m \u001b[1;33m=\u001b[0m \u001b[0mgetattr\u001b[0m\u001b[1;33m(\u001b[0m\u001b[0mfh\u001b[0m\u001b[1;33m,\u001b[0m \u001b[1;34m'encoding'\u001b[0m\u001b[1;33m,\u001b[0m \u001b[1;34m'latin1'\u001b[0m\u001b[1;33m)\u001b[0m\u001b[1;33m\u001b[0m\u001b[1;33m\u001b[0m\u001b[0m\n\u001b[0;32m   1069\u001b[0m             \u001b[0mfh\u001b[0m \u001b[1;33m=\u001b[0m \u001b[0miter\u001b[0m\u001b[1;33m(\u001b[0m\u001b[0mfh\u001b[0m\u001b[1;33m)\u001b[0m\u001b[1;33m\u001b[0m\u001b[1;33m\u001b[0m\u001b[0m\n",
      "\u001b[1;32m~\\Anaconda3\\envs\\geosp\\lib\\site-packages\\numpy\\lib\\_datasource.py\u001b[0m in \u001b[0;36mopen\u001b[1;34m(path, mode, destpath, encoding, newline)\u001b[0m\n\u001b[0;32m    191\u001b[0m \u001b[1;33m\u001b[0m\u001b[0m\n\u001b[0;32m    192\u001b[0m     \u001b[0mds\u001b[0m \u001b[1;33m=\u001b[0m \u001b[0mDataSource\u001b[0m\u001b[1;33m(\u001b[0m\u001b[0mdestpath\u001b[0m\u001b[1;33m)\u001b[0m\u001b[1;33m\u001b[0m\u001b[1;33m\u001b[0m\u001b[0m\n\u001b[1;32m--> 193\u001b[1;33m     \u001b[1;32mreturn\u001b[0m \u001b[0mds\u001b[0m\u001b[1;33m.\u001b[0m\u001b[0mopen\u001b[0m\u001b[1;33m(\u001b[0m\u001b[0mpath\u001b[0m\u001b[1;33m,\u001b[0m \u001b[0mmode\u001b[0m\u001b[1;33m,\u001b[0m \u001b[0mencoding\u001b[0m\u001b[1;33m=\u001b[0m\u001b[0mencoding\u001b[0m\u001b[1;33m,\u001b[0m \u001b[0mnewline\u001b[0m\u001b[1;33m=\u001b[0m\u001b[0mnewline\u001b[0m\u001b[1;33m)\u001b[0m\u001b[1;33m\u001b[0m\u001b[1;33m\u001b[0m\u001b[0m\n\u001b[0m\u001b[0;32m    194\u001b[0m \u001b[1;33m\u001b[0m\u001b[0m\n\u001b[0;32m    195\u001b[0m \u001b[1;33m\u001b[0m\u001b[0m\n",
      "\u001b[1;32m~\\Anaconda3\\envs\\geosp\\lib\\site-packages\\numpy\\lib\\_datasource.py\u001b[0m in \u001b[0;36mopen\u001b[1;34m(self, path, mode, encoding, newline)\u001b[0m\n\u001b[0;32m    531\u001b[0m                                       encoding=encoding, newline=newline)\n\u001b[0;32m    532\u001b[0m         \u001b[1;32melse\u001b[0m\u001b[1;33m:\u001b[0m\u001b[1;33m\u001b[0m\u001b[1;33m\u001b[0m\u001b[0m\n\u001b[1;32m--> 533\u001b[1;33m             \u001b[1;32mraise\u001b[0m \u001b[0mIOError\u001b[0m\u001b[1;33m(\u001b[0m\u001b[1;34m\"%s not found.\"\u001b[0m \u001b[1;33m%\u001b[0m \u001b[0mpath\u001b[0m\u001b[1;33m)\u001b[0m\u001b[1;33m\u001b[0m\u001b[1;33m\u001b[0m\u001b[0m\n\u001b[0m\u001b[0;32m    534\u001b[0m \u001b[1;33m\u001b[0m\u001b[0m\n\u001b[0;32m    535\u001b[0m \u001b[1;33m\u001b[0m\u001b[0m\n",
      "\u001b[1;31mOSError\u001b[0m: C:\\Users\\arodri44/Box/research_cosumnes/GWFlowModel/UZF_data/Rain_all_txt_arrays/Rain_array_2018.tsv not found."
     ]
    }
   ],
   "source": [
    "ETc = np.zeros((nper-1,nrow,ncol))\n",
    "rain = np.zeros((nper-1,nrow,ncol))\n",
    "\n",
    "ETc_count = 0\n",
    "for y in np.arange(pd.to_datetime(strt_date).year, pd.to_datetime(end_date).year+1):\n",
    "    # set start and end date for range for the year to be iterated over\n",
    "    yr_strt = pd.to_datetime(str(y)+'-01-01')\n",
    "    yr_end = pd.to_datetime(str(y)+'-12-31')\n",
    "    if yr_strt < pd.to_datetime(strt_date):\n",
    "        yr_strt = pd.to_datetime(strt_date)\n",
    "    if yr_end > pd.to_datetime(end_date):\n",
    "        yr_end = pd.to_datetime(end_date)\n",
    "        \n",
    "    # read in text file of all of the ETc data for each year in array format    \n",
    "    ET_year = np.loadtxt(gwfm_dir+'/UZF_data/ETa_all_txt_arrays/ETa_array_'+str(y)+'.tsv', delimiter = '\\t')\n",
    "    rain_year = np.loadtxt(gwfm_dir+'/UZF_data/Rain_all_txt_arrays/Rain_array_'+str(y)+'.tsv', delimiter = '\\t')\n",
    "\n",
    "    # get the length of the date range needed for that year\n",
    "    yearlen = len(pd.date_range(yr_strt, yr_end))\n",
    "    # correct the shape of the text file from 2D to 3D\n",
    "    revertETc = np.reshape(ET_year, (yearlen, nrow, ncol))\n",
    "    revertrain = np.reshape(rain_year, (yearlen, nrow, ncol))\n",
    "    # filter the 3D array based on the desired date range\n",
    "    filtered_date_ETc = revertETc[yr_strt.dayofyear-1:yr_end.dayofyear,:,:]\n",
    "    filtered_date_rain = revertrain[yr_strt.dayofyear-1:yr_end.dayofyear,:,:]\n",
    "    # add the data to the ETc array for the whole model time period\n",
    "    ETc[ETc_count:ETc_count+yearlen,:,:] = filtered_date_ETc\n",
    "    rain[ETc_count:ETc_count+yearlen,:,:] = filtered_date_rain\n",
    "    ETc_count += ETc_count+yearlen"
   ]
  },
  {
   "cell_type": "code",
   "execution_count": null,
   "metadata": {},
   "outputs": [],
   "source": [
    "\n",
    "# logical array where 1 represents ag land and 0 represents non ag land as listed above\n",
    "ag_land_arr = np.loadtxt(gwfm_dir+'/UZF_data/array_of_agriculture_land.tsv')\n",
    "# create a bool array of the oppostite of ag land\n",
    "non_ag_land_arr = ~ag_land_arr.astype(bool)"
   ]
  },
  {
   "cell_type": "code",
   "execution_count": null,
   "metadata": {},
   "outputs": [],
   "source": [
    "# wherever there is ag land and not enough rain to meet the ETc then it will be met by applying 1.05*ETc\n",
    "# to the .FINF array\n",
    "# start by setting the rain of non_ag_land to np.nan to be ignored in calculations\n",
    "ag_rch = np.copy(rain)\n",
    "ag_rch[:,non_ag_land_arr] = np.nan\n",
    "# whereever the rain is less than ETc for ag land set the recharge equal to the etc times 0.05 for irrigation inefficiency\n",
    "# could calibrate this irrigation efficiency later\n",
    "ag_rch[ag_rch<ETc] = ETc[ag_rch<ETc]*0.05\n",
    "# return np.nan values to zeros\n",
    "ag_rch[np.isnan(ag_rch)] = 0"
   ]
  },
  {
   "cell_type": "code",
   "execution_count": null,
   "metadata": {},
   "outputs": [],
   "source": [
    "# final calculation for RCH package\n",
    "\n",
    "net_inf = rain + ag_rch - ETc\n",
    "# assuming there is irrigation to make up lack of rainfall\n",
    "# net_inf should never be less than zero\n",
    "np.mean(net_inf, axis = (1,2))\n",
    "\n",
    "net_inf = np.where(net_inf<0, 0, net_inf)\n"
   ]
  },
  {
   "cell_type": "code",
   "execution_count": null,
   "metadata": {},
   "outputs": [],
   "source": [
    "# add an empty array for the first blank stress period\n",
    "# net_inf = np.vstack((np.zeros((1,nrow,ncol)),net_inf))"
   ]
  },
  {
   "cell_type": "code",
   "execution_count": null,
   "metadata": {},
   "outputs": [],
   "source": [
    "# have transient recharge start after the 1st spd\n",
    "rech_spd = { (j): net_inf[j-1,:,:] for j in np.arange(1,nper)}"
   ]
  },
  {
   "cell_type": "code",
   "execution_count": 10,
   "metadata": {},
   "outputs": [
    {
     "ename": "NameError",
     "evalue": "name 'flopy' is not defined",
     "output_type": "error",
     "traceback": [
      "\u001b[1;31m---------------------------------------------------------------------------\u001b[0m",
      "\u001b[1;31mNameError\u001b[0m                                 Traceback (most recent call last)",
      "\u001b[1;32m~\\AppData\\Local\\Temp/ipykernel_21636/743494047.py\u001b[0m in \u001b[0;36m<module>\u001b[1;34m\u001b[0m\n\u001b[0;32m      1\u001b[0m \u001b[1;31m# nrchop = 3, to highest active cell\u001b[0m\u001b[1;33m\u001b[0m\u001b[1;33m\u001b[0m\u001b[1;33m\u001b[0m\u001b[0m\n\u001b[1;32m----> 2\u001b[1;33m \u001b[0mrch\u001b[0m \u001b[1;33m=\u001b[0m\u001b[0mflopy\u001b[0m\u001b[1;33m.\u001b[0m\u001b[0mmodflow\u001b[0m\u001b[1;33m.\u001b[0m\u001b[0mModflowRch\u001b[0m\u001b[1;33m(\u001b[0m\u001b[0mmodel\u001b[0m \u001b[1;33m=\u001b[0m \u001b[0mm\u001b[0m\u001b[1;33m,\u001b[0m \u001b[0mnrchop\u001b[0m\u001b[1;33m=\u001b[0m\u001b[1;36m3\u001b[0m\u001b[1;33m,\u001b[0m \u001b[0mrech\u001b[0m \u001b[1;33m=\u001b[0m \u001b[0mrech_spd\u001b[0m\u001b[1;33m)\u001b[0m\u001b[1;33m\u001b[0m\u001b[1;33m\u001b[0m\u001b[0m\n\u001b[0m",
      "\u001b[1;31mNameError\u001b[0m: name 'flopy' is not defined"
     ]
    }
   ],
   "source": [
    "# nrchop = 3, to highest active cell\n",
    "rch =flopy.modflow.ModflowRch(model = m, nrchop=3, rech = rech_spd)"
   ]
  },
  {
   "cell_type": "markdown",
   "metadata": {},
   "source": [
    "## Well Package\n"
   ]
  },
  {
   "cell_type": "code",
   "execution_count": null,
   "metadata": {},
   "outputs": [],
   "source": [
    "wells = pd.read_csv(gwfm_dir+'/WEL_data/all_wells_type.csv')\n",
    "wells_grid = gpd.GeoDataFrame(wells, geometry = gpd.points_from_xy(wells.easting,wells.northing), crs = 'epsg:32610')"
   ]
  },
  {
   "cell_type": "code",
   "execution_count": null,
   "metadata": {},
   "outputs": [],
   "source": [
    "wells_grid_ag = wells_grid[:]\n",
    "wells_grid_ag = wells_grid.loc[wells_grid.Simple_type == 'irrigation'].dissolve('node', aggfunc = 'mean')\n",
    "wells_grid_ag.geometry = wells_grid.loc[wells_grid.Simple_type == 'irrigation'].dissolve('node', aggfunc = 'first').geometry"
   ]
  },
  {
   "cell_type": "code",
   "execution_count": null,
   "metadata": {},
   "outputs": [],
   "source": [
    "wells_grid['depth_m'] = wells_grid.TotalCompletedDepth*0.3048\n"
   ]
  },
  {
   "cell_type": "code",
   "execution_count": null,
   "metadata": {},
   "outputs": [],
   "source": [
    "wells_grid['flux'] = 0\n",
    "wells_grid['layer'] = 0"
   ]
  },
  {
   "cell_type": "code",
   "execution_count": null,
   "metadata": {},
   "outputs": [],
   "source": [
    "num_ag = (wells_grid.Simple_type == 'irrigation').sum()\n",
    "ET_ag = ETc*ag_land_arr\n",
    "ET_ag_monthly_sum = ET_ag.sum(axis=(1,2))\n",
    "# calculate ag well flux by average ET\n",
    "aggregated_irrig_flux = ET_ag_monthly_sum/num_ag\n"
   ]
  },
  {
   "cell_type": "code",
   "execution_count": null,
   "metadata": {},
   "outputs": [],
   "source": [
    "# assume each public supply well serves 5-10,000 people each needing 50 gpd, then need to convert to ft^3\n",
    "public_flux = (5000*50/7.48)*(0.3048**3)\n",
    "# public_flux = 1500*(1/7.48)*(0.3048**3)*60*24\n",
    "\n",
    "# averge pumping rate of domestic wells is 10-100 gpm, typically on the lower end and \n",
    "# should end up being around 50 gal/person a day and average 3 people is 150 gal/day\n",
    "# 10 gpm * (1 ft^3/ 7.48 gal) (ft^3/m^3)*60 min hour* 3 hours in a day * 30 days\n",
    "\n",
    "dom_flux = 30*(1/7.48)*(0.3048**3)*60*24\n",
    "print('Irrig flux:', '%.3e' % (aggregated_irrig_flux.mean()*270*270), 'Public flux:', '%.3e' %public_flux,'Domestic flux:', '%.3e' %dom_flux)"
   ]
  },
  {
   "cell_type": "code",
   "execution_count": null,
   "metadata": {},
   "outputs": [],
   "source": [
    "# define pumping rate based on well use, average pumping rate in m^3/day\n",
    "# wells_grid.loc[wells_grid.Simple_type == 'irrigation', 'flux'] = -irrig_flux\n",
    "wells_grid.loc[wells_grid.Simple_type == 'domestic', 'flux'] = -dom_flux\n",
    "wells_grid.loc[wells_grid.Simple_type == 'public', 'flux'] = -public_flux"
   ]
  },
  {
   "cell_type": "code",
   "execution_count": null,
   "metadata": {},
   "outputs": [],
   "source": [
    "if wells_grid.row.min()==1:\n",
    "    wells_grid.row = (wells_grid.row-1).astype(int)\n",
    "    wells_grid.column = (wells_grid.column -1).astype(int)"
   ]
  },
  {
   "cell_type": "code",
   "execution_count": null,
   "metadata": {},
   "outputs": [],
   "source": [
    "mean_ag_well_depth = wells_grid.loc[wells_grid.Simple_type == 'irrigation'].TotalCompletedDepth.mean()*0.3048\n",
    "mean_ag_well_depth"
   ]
  },
  {
   "cell_type": "code",
   "execution_count": null,
   "metadata": {},
   "outputs": [],
   "source": [
    "\n",
    "for k in np.arange(0,nlay-1):\n",
    "    # pull out elevation of layer bottom\n",
    "    lay_elev = botm[k, :, :]\n",
    "    for i in np.arange(0,len(wells_grid)):\n",
    "        # want to compare if streambed is lower than the layer bottom\n",
    "        # 1 will be subtracted from each z value to make sure it is lower than the model top in the upper reaches\n",
    "        if lay_elev[wells_grid.row.values[i],wells_grid.column.values[i]] > dem_data[wells_grid.row.values[i],wells_grid.column.values[i]]-wells_grid.depth_m.iloc[i]:\n",
    "            wells_grid.layer.iloc[i] = k     "
   ]
  },
  {
   "cell_type": "code",
   "execution_count": null,
   "metadata": {},
   "outputs": [],
   "source": [
    "print('Cells with wells: ', wells_grid.dissolve(by='node',aggfunc='first').shape[0], 'total wells: ', wells_grid.shape[0])\n",
    "print('Wells with TRS accuracy: ', (wells_grid.MethodofDeterminationLL == 'Derived from TRS').sum())\n",
    "\n",
    "wells_grid_notrs = wells_grid.loc[wells_grid.MethodofDeterminationLL != 'Derived from TRS']"
   ]
  },
  {
   "cell_type": "code",
   "execution_count": null,
   "metadata": {},
   "outputs": [],
   "source": [
    "# wells_grid_notrs['count_per_cell'] = 1\n",
    "# # all_wells_grid['MFCell'] = all_wells_grid.Township+all_wells_grid.Range+all_wells_grid.k.astype(str)\n",
    "# wells_grid_sum = wells_grid_notrs.dissolve(by = 'node', aggfunc='sum')\n",
    "# wells_grid_sum.plot('count_per_cell',legend=True)\n",
    "# print(wells_grid_sum.count_per_cell.median(), wells_grid_sum.count_per_cell.mean(), wells_grid_sum.count_per_cell.max())\n"
   ]
  },
  {
   "cell_type": "code",
   "execution_count": null,
   "metadata": {},
   "outputs": [],
   "source": [
    "# save domestic, public wells for their pumping doesn't depend on ET\n",
    "wells_grid_no_ag = wells_grid.loc[wells_grid.Simple_type != 'irrigation']\n",
    "# filter out data for wel package\n",
    "spd_noag = wells_grid_no_ag.loc[:,['layer','row','column', 'flux']].values\n"
   ]
  },
  {
   "cell_type": "markdown",
   "metadata": {},
   "source": [
    "#### Using ETc in all cells for pumping\n"
   ]
  },
  {
   "cell_type": "code",
   "execution_count": 11,
   "metadata": {},
   "outputs": [
    {
     "ename": "NameError",
     "evalue": "name 'np' is not defined",
     "output_type": "error",
     "traceback": [
      "\u001b[1;31m---------------------------------------------------------------------------\u001b[0m",
      "\u001b[1;31mNameError\u001b[0m                                 Traceback (most recent call last)",
      "\u001b[1;32m~\\AppData\\Local\\Temp/ipykernel_21636/3523181888.py\u001b[0m in \u001b[0;36m<module>\u001b[1;34m\u001b[0m\n\u001b[0;32m      4\u001b[0m \u001b[0mwel_ETc_dict\u001b[0m \u001b[1;33m=\u001b[0m \u001b[1;33m{\u001b[0m\u001b[1;33m}\u001b[0m\u001b[1;33m\u001b[0m\u001b[1;33m\u001b[0m\u001b[0m\n\u001b[0;32m      5\u001b[0m \u001b[1;31m# end date is not included as a stress period, starting at 1st TR spd (2)\u001b[0m\u001b[1;33m\u001b[0m\u001b[1;33m\u001b[0m\u001b[1;33m\u001b[0m\u001b[0m\n\u001b[1;32m----> 6\u001b[1;33m \u001b[1;32mfor\u001b[0m \u001b[0mt\u001b[0m \u001b[1;32min\u001b[0m \u001b[0mnp\u001b[0m\u001b[1;33m.\u001b[0m\u001b[0marange\u001b[0m\u001b[1;33m(\u001b[0m\u001b[1;36m1\u001b[0m\u001b[1;33m,\u001b[0m\u001b[0mnper\u001b[0m\u001b[1;33m)\u001b[0m\u001b[1;33m:\u001b[0m\u001b[1;33m\u001b[0m\u001b[1;33m\u001b[0m\u001b[0m\n\u001b[0m\u001b[0;32m      7\u001b[0m     \u001b[0mwel_i\u001b[0m\u001b[1;33m,\u001b[0m \u001b[0mwel_j\u001b[0m \u001b[1;33m=\u001b[0m \u001b[0mnp\u001b[0m\u001b[1;33m.\u001b[0m\u001b[0mwhere\u001b[0m\u001b[1;33m(\u001b[0m\u001b[0mET_ag\u001b[0m\u001b[1;33m[\u001b[0m\u001b[0mt\u001b[0m\u001b[1;33m-\u001b[0m\u001b[1;36m1\u001b[0m\u001b[1;33m,\u001b[0m\u001b[1;33m:\u001b[0m\u001b[1;33m,\u001b[0m\u001b[1;33m:\u001b[0m\u001b[1;33m]\u001b[0m\u001b[1;33m>\u001b[0m\u001b[1;36m0\u001b[0m\u001b[1;33m)\u001b[0m\u001b[1;33m\u001b[0m\u001b[1;33m\u001b[0m\u001b[0m\n\u001b[0;32m      8\u001b[0m     \u001b[0mwel_ETc\u001b[0m \u001b[1;33m=\u001b[0m \u001b[1;33m-\u001b[0m\u001b[0mET_ag\u001b[0m\u001b[1;33m[\u001b[0m\u001b[0mt\u001b[0m\u001b[1;33m-\u001b[0m\u001b[1;36m1\u001b[0m\u001b[1;33m,\u001b[0m\u001b[0mwel_i\u001b[0m\u001b[1;33m,\u001b[0m\u001b[0mwel_j\u001b[0m\u001b[1;33m]\u001b[0m\u001b[1;33m*\u001b[0m\u001b[0mdelr\u001b[0m\u001b[1;33m*\u001b[0m\u001b[0mdelr\u001b[0m\u001b[1;33m\u001b[0m\u001b[1;33m\u001b[0m\u001b[0m\n",
      "\u001b[1;31mNameError\u001b[0m: name 'np' is not defined"
     ]
    }
   ],
   "source": [
    "# layer for ETc ag well pumping\n",
    "ETc_lay = 1\n",
    "# create empty dictionary to fill with stress period data\n",
    "wel_ETc_dict = {}\n",
    "# end date is not included as a stress period, starting at 1st TR spd (2)\n",
    "for t in np.arange(1,nper):\n",
    "    wel_i, wel_j = np.where(ET_ag[t-1,:,:]>0)\n",
    "    wel_ETc = -ET_ag[t-1,wel_i,wel_j]*delr*delr\n",
    "    # ['layer','row','column', 'flux'] are necessary for WEL package\n",
    "    spd_ag = np.stack((ETc_lay*np.ones(len(wel_i)), wel_i, wel_j,wel_ETc),axis=1)\n",
    "    spd_all = np.vstack((spd_ag,spd_noag)) # join pumping from ag with point pumping from domstic/supply wells that are constant\n",
    "    wel_ETc_dict[t] = spd_all"
   ]
  },
  {
   "cell_type": "code",
   "execution_count": null,
   "metadata": {},
   "outputs": [],
   "source": [
    "ET_ag_ss = ET_ag.mean(axis=(0))\n",
    "wel_i, wel_j = np.where(ET_ag_ss[:,:]>0)\n",
    "wel_ETc = -ET_ag_ss[wel_i,wel_j]*delr*delr\n",
    "# ['layer','row','column', 'flux'] are necessary for WEL package\n",
    "# add average ag well pumping as steady state period\n",
    "wel_ETc_dict[0] = np.stack((ETc_lay*np.ones(len(wel_i)), wel_i, wel_j,wel_ETc),axis=1)"
   ]
  },
  {
   "cell_type": "code",
   "execution_count": null,
   "metadata": {},
   "outputs": [],
   "source": [
    "# Create well flopy object\n",
    "wel = flopy.modflow.ModflowWel(m, stress_period_data=wel_ETc_dict,ipakcb=55)"
   ]
  },
  {
   "cell_type": "markdown",
   "metadata": {},
   "source": [
    "## Output Control"
   ]
  },
  {
   "cell_type": "code",
   "execution_count": 107,
   "metadata": {},
   "outputs": [],
   "source": [
    "# Output control\n",
    "# default unit number for heads is 51, cell by cell is 53 and drawdown is 52\n",
    "# (0,0) is (stress period, time step)\n",
    "\n",
    "# For later model runs when all the data is needed to be saved\n",
    "spd = { (j,0): ['save head', 'save budget'] for j in np.arange(0,nper,1)}\n",
    "\n",
    "# get the first of each month to print the budget\n",
    "month_intervals = (pd.date_range(strt_date,end_date, freq=\"MS\")-pd.to_datetime(strt_date)).days\n",
    "\n",
    "for j in month_intervals:\n",
    "    spd[j,0] = ['save head', 'save budget','print budget']\n",
    "    \n",
    "oc = flopy.modflow.ModflowOc(model = m, stress_period_data = spd, compact = True)"
   ]
  },
  {
   "cell_type": "markdown",
   "metadata": {},
   "source": [
    "## Newton Solver"
   ]
  },
  {
   "cell_type": "code",
   "execution_count": 108,
   "metadata": {},
   "outputs": [],
   "source": [
    "# pcg = flopy.modflow.ModflowPcg(model = m)\n",
    "# nwt = flopy.modflow.ModflowNwt(model= m)\n",
    "# thickfact: portion of cell thickness used for smoothly adjusting storage and conductance coefficients to zero (default is 1e-5)\n",
    "# linmeth (linear method): 1 for GMRES and 2 for XMD (1 is default)\n",
    "# iprnwt: flag whether additional info about solver convergence will be printed to the main listing file (default is 0)\n",
    "# ibotav: flag whether corretion will be made to gw head relative to cell-bottom if surrounded by dry cells.\n",
    "# 1 = corrections and  0 = no correction (default is 0)\n",
    "# options: specify comlexity of solver. SIMPLE : default solver for linear models, MODERATE for moderately nonlinear models,\n",
    "# COMPLEX for highly nonlinear models (default is COMPLEX)\n",
    "# Continue: if model fails to converge during a time step it will continue to solve the next time step (default is False) \n",
    "# epsrn (XMD) is the drop tolerance for preconditioning (default is 1E-4)\n",
    "# hclosexmd (XMD) head closure criteria for inner (linear) iterations (default 1e-4)\n",
    "\n",
    "# nwt = flopy.modflow.ModflowNwt(model = m, headtol=0.01, fluxtol=500, maxiterout=200, thickfact=1e-05, \n",
    "#                                linmeth=1, iprnwt=1, ibotav=0, options='COMPLEX', Continue=False,\n",
    "#                                maxbackiter=50, backtol=1.1, maxitinner=50, ilumethod=2, \n",
    "#                                levfill=5, stoptol=1e-10, msdr=15, iacl=2, norder=1, level=5, north=7, \n",
    "#                                iredsys=0, rrctols=0.0, idroptol=1, epsrn=0.0001, hclosexmd=0.0001, \n",
    "#                                mxiterxmd=50, extension='nwt', unitnumber=None, filenames=None)\n",
    "\n",
    "\n",
    "\n",
    "# GMG is more successful than pcg which is fine for steady state model\n",
    "# mxiter, max outer, iiter = max inner, hclose = head change criterion for convergence, \n",
    "# rclose = residual criterion for convergence\n",
    "\n",
    "# gmg = flopy.modflow.ModflowGmg(model = m, mxiter=50, iiter=30, hclose = 1e-5, rclose = 1e-5)"
   ]
  },
  {
   "cell_type": "code",
   "execution_count": 109,
   "metadata": {},
   "outputs": [],
   "source": [
    "# iter_mo max outer iters, ter_mi = max inner iters, close_r residual criterion for stopping iteration\n",
    "# close_h is alternate criterion for nonlinear problem, and is head closure which should be smaller than residual closer\n",
    "# ipunit =0 means no info on solver, ipunit=1 means output about solver issues is written\n",
    "# if iter_mo >1 then closer_r is used not close_h and closer_r is compared to \n",
    "# the square root of the inner product of the residuals (the residual norm)\n",
    "# adamp =0 is std damping, adamp=1 is adaptive damping that further decreases or increases damping based on picard\n",
    "# iteration sucess\n",
    "#adamp is 0.7 to resolve issues with heads oscillating near solution +1 m\n",
    "# damp_lb = lower bound, rate_d is rate of increase of damping based picard iteration success\n",
    "pcgn = flopy.modflow.ModflowPcgn(m, iter_mo = 100, iter_mi=60, close_r=1e-01, close_h=1e-02, ipunit=28)\n",
    "#                                adamp=1, damp=0.7, damp_lb=0.1, rate_d=0.01)"
   ]
  },
  {
   "cell_type": "code",
   "execution_count": 110,
   "metadata": {
    "scrolled": false
   },
   "outputs": [
    {
     "data": {
      "text/plain": [
       "['DIS', 'RIV', 'BAS6', 'GHB', 'LPF', 'CHD', 'OC', 'PCGN']"
      ]
     },
     "execution_count": 110,
     "metadata": {},
     "output_type": "execute_result"
    }
   ],
   "source": [
    "m.get_package_list()\n",
    "# m.remove_package('DATA')\n",
    "# m.remove_package('RIV')\n",
    "# m.remove_package('WEL')\n",
    "# m.remove_package('RCH')\n"
   ]
  },
  {
   "cell_type": "code",
   "execution_count": 111,
   "metadata": {
    "scrolled": false
   },
   "outputs": [
    {
     "name": "stdout",
     "output_type": "stream",
     "text": [
      "\n",
      "MF MODEL DATA VALIDATION SUMMARY:\n",
      "  2737001 Errors:\n",
      "    2737000 instances of \r",
      "    DIS package: thin cells (less than checker threshold of 1.0)\n",
      "    1 instance of \r",
      "    No solver package\n",
      "\n",
      "  Checks that passed:\n",
      "    Unit number conflicts\n",
      "    DIS package: zero or negative thickness\n",
      "    DIS package: nan values in top array\n",
      "    DIS package: nan values in bottom array\n",
      "    RIV package: stage below cell bottom\n",
      "    RIV package: rbot below cell bottom\n",
      "    RIV package: RIV stage below rbots\n",
      "    BAS6 package: isolated cells in ibound array\n",
      "    BAS6 package: Not a number\n",
      "    GHB package: BC indices valid\n",
      "    GHB package: not a number (Nan) entries\n",
      "    GHB package: BC in inactive cells\n",
      "    GHB package: BC elevation below cell bottom\n",
      "    LPF package: zero or negative horizontal hydraulic conductivity values\n",
      "    LPF package: zero or negative vertical hydraulic conductivity values\n",
      "    LPF package: negative horizontal anisotropy values\n",
      "    LPF package: horizontal hydraulic conductivity values below checker threshold of 1e-11\n",
      "    LPF package: horizontal hydraulic conductivity values above checker threshold of 100000.0\n",
      "    LPF package: vertical hydraulic conductivity values below checker threshold of 1e-11\n",
      "    LPF package: vertical hydraulic conductivity values above checker threshold of 100000.0\n",
      "    LPF package: zero or negative specific storage values\n",
      "    LPF package: specific storage values below checker threshold of 1e-06\n",
      "    LPF package: specific storage values above checker threshold of 0.01\n",
      "    LPF package: zero or negative specific yield values\n",
      "    LPF package: specific yield values below checker threshold of 0.01\n",
      "    LPF package: specific yield values above checker threshold of 0.5\n",
      "    CHD package: BC indices valid\n",
      "    CHD package: not a number (Nan) entries\n",
      "    CHD package: BC in inactive cells\n",
      "\n"
     ]
    },
    {
     "data": {
      "text/plain": [
       "<flopy.utils.check.check at 0x1f3015b73d0>"
      ]
     },
     "execution_count": 111,
     "metadata": {},
     "output_type": "execute_result"
    }
   ],
   "source": [
    "\n",
    "m.check()\n",
    "# lak.check()\n",
    "# upw.check()"
   ]
  },
  {
   "cell_type": "markdown",
   "metadata": {},
   "source": [
    "## Write the input files"
   ]
  },
  {
   "cell_type": "code",
   "execution_count": 112,
   "metadata": {},
   "outputs": [],
   "source": [
    "# Writing the MODFLOW data files\n",
    "m.write_input()\n"
   ]
  },
  {
   "cell_type": "markdown",
   "metadata": {},
   "source": [
    "# Run the model"
   ]
  },
  {
   "cell_type": "code",
   "execution_count": null,
   "metadata": {},
   "outputs": [],
   "source": [
    "# success, buff = m.run_model()"
   ]
  },
  {
   "cell_type": "markdown",
   "metadata": {},
   "source": [
    " insufficient virtual memory means there is way too much data for the fortran arrays too hold, more than the 16 gb I have available"
   ]
  }
 ],
 "metadata": {
  "kernelspec": {
   "display_name": "Python 3 (ipykernel)",
   "language": "python",
   "name": "python3"
  },
  "language_info": {
   "codemirror_mode": {
    "name": "ipython",
    "version": 3
   },
   "file_extension": ".py",
   "mimetype": "text/x-python",
   "name": "python",
   "nbconvert_exporter": "python",
   "pygments_lexer": "ipython3",
   "version": "3.8.12"
  }
 },
 "nbformat": 4,
 "nbformat_minor": 4
}
