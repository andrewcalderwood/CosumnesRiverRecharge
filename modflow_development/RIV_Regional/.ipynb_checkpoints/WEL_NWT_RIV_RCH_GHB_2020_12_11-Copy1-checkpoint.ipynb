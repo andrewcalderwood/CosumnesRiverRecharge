{
 "cells": [
  {
   "cell_type": "markdown",
   "metadata": {},
   "source": [
    "Cosumnes Model \n",
    "@author: Andrew"
   ]
  },
  {
   "cell_type": "code",
   "execution_count": null,
   "metadata": {},
   "outputs": [],
   "source": [
    "# This notebook ran on 12/11/2020 and worked. The well package was not included."
   ]
  },
  {
   "cell_type": "code",
   "execution_count": 1,
   "metadata": {},
   "outputs": [],
   "source": [
    "# standard python utilities\n",
    "import os\n",
    "import sys\n",
    "import glob\n",
    "import pandas as pd\n",
    "import numpy as np\n",
    "import calendar\n",
    "import time\n",
    "\n",
    "# standard python plotting utilities\n",
    "import matplotlib as mpl\n",
    "import matplotlib.pyplot as plt\n",
    "\n",
    "# standard geospatial python utilities\n",
    "import pyproj # for converting proj4string\n",
    "import shapely\n",
    "import geopandas as gpd\n",
    "import rasterio\n",
    "\n",
    "# mapping utilities\n",
    "import contextily as ctx\n",
    "from mpl_toolkits.axes_grid1.inset_locator import inset_axes\n",
    "from mpl_toolkits.axes_grid1.anchored_artists import AnchoredSizeBar\n",
    "import matplotlib.font_manager as fm"
   ]
  },
  {
   "cell_type": "code",
   "execution_count": 2,
   "metadata": {},
   "outputs": [
    {
     "name": "stdout",
     "output_type": "stream",
     "text": [
      "flopy is installed in C:\\Users\\Ebenzer\\.conda\\envs\\geosp\\lib\\site-packages\\flopy\n",
      "3.8.5 (default, Sep  3 2020, 21:29:08) [MSC v.1916 64 bit (AMD64)]\n",
      "numpy version: 1.19.1\n",
      "matplotlib version: 3.2.2\n",
      "flopy version: 3.3.1\n"
     ]
    }
   ],
   "source": [
    "\n",
    "# run installed version of flopy or add local path\n",
    "try:\n",
    "    import flopy\n",
    "    from flopy.discretization.structuredgrid import StructuredGrid\n",
    "    from flopy.utils.reference import SpatialReference\n",
    "    from flopy.utils import Raster\n",
    "except:\n",
    "    import flopy\n",
    "    fpth = os.path.abspath(os.path.join('..', '..'))\n",
    "    sys.path.append(fpth)\n",
    "    from flopy.discretization.structuredgrid import StructuredGrid\n",
    "    from flopy.utils.reference import SpatialReference\n",
    "    from flopy.utils import Raster\n",
    "from flopy.utils.gridgen import Gridgen\n",
    "from flopy.utils import OptionBlock\n",
    "import flopy.utils.binaryfile as bf\n",
    "\n",
    "\n",
    "print(sys.version)\n",
    "print('numpy version: {}'.format(np.__version__))\n",
    "print('matplotlib version: {}'.format(mpl.__version__))\n",
    "print('flopy version: {}'.format(flopy.__version__))"
   ]
  },
  {
   "cell_type": "code",
   "execution_count": 3,
   "metadata": {},
   "outputs": [],
   "source": [
    "# Transient -> might want to think about making SP1 steady\n",
    "end_date = '2019-12-31'\n",
    "# end_date = '2018-01-02'\n",
    "strt_date = '2017-07-01'\n",
    "\n",
    "dates = pd.date_range(strt_date, end_date, freq = 'M')\n",
    "\n",
    "# The number of periods is the number of dates, plus 1 starting steady state\n",
    "nper = len(dates)+1\n",
    "\n",
    "# Each period has a length of one because the timestep is one day\n",
    "perlen = np.ones(nper)\n",
    "# Steady or transient periods\n",
    "steady = np.zeros(nper)\n",
    "steady[0] = 1 # first period is steady state, rest are transient\n",
    "steady = steady.astype('bool').tolist()\n",
    "# Set the number of timesteps for each spd equal to the days in the month\n",
    "# for easier comparison with daily observations\n",
    "nstp = np.ones(nper)*np.append(np.ones(1),dates.day)"
   ]
  },
  {
   "cell_type": "code",
   "execution_count": 4,
   "metadata": {
    "scrolled": true
   },
   "outputs": [],
   "source": [
    "#Maribeth's model parameters, had to switch nrow and ncol due to her issue in xul, yul\n",
    "nrow=100\n",
    "ncol=230\n",
    "delr=200\n",
    "delc=200\n",
    "rotation=52.9\n",
    "\n",
    "# The number of layers should be 1 for the Mehrten formation, 1 for the laguna plus the number of TPROGS layers,\n",
    "# where the Laguna formation will be clipped by the TPROGS layers\n",
    "num_tprogs = 10\n",
    "nlay = 2 + num_tprogs\n",
    "tprog_thick = 100/num_tprogs\n",
    "\n",
    "# There is essentially no difference bewtween WGS84 and NAD83 for UTM Zone 10N\n",
    "# proj4_str='EPSG:26910'\n",
    "proj4_str='+proj=utm +zone=10 +ellps=WGS84 +datum=WGS84 +units=m +no_defs '"
   ]
  },
  {
   "cell_type": "code",
   "execution_count": 5,
   "metadata": {},
   "outputs": [],
   "source": [
    "## Set up directory referencing\n",
    "# Package data\n",
    "gwfm_dir = os.path.dirname(os.path.dirname(os.getcwd()))"
   ]
  },
  {
   "cell_type": "code",
   "execution_count": 6,
   "metadata": {},
   "outputs": [
    {
     "data": {
      "text/plain": [
       "[(645500.0, 4227700.0),\n",
       " (629548.3214234954, 4239764.159754906),\n",
       " (657295.8888597784, 4276453.020480867),\n",
       " (673247.567436283, 4264388.860725961),\n",
       " (645500.0, 4227700.0)]"
      ]
     },
     "execution_count": 6,
     "metadata": {},
     "output_type": "execute_result"
    }
   ],
   "source": [
    "from flopy.utils.geometry import Polygon, LineString, Point\n",
    "# Original model domain, 44.7 deg angle\n",
    "# m_domain = gpd.read_file(gwfm_dir+'\\\\GWModelDomain_UTM10N\\\\GWModelDomain_Rec_UTM10N.shp')\n",
    "# New model domain 52.9 deg\n",
    "m_domain = gpd.read_file(gwfm_dir+'\\\\NewModelDomain\\\\GWModelDomain_52_9deg_UTM10N_WGS84.shp')\n",
    "\n",
    "# Need to check this when changing model domains\n",
    "xul, yul = list(m_domain.geometry.values[0].exterior.coords)[1]\n",
    "list(m_domain.geometry.values[0].exterior.coords)\n",
    "# m_domain.geometry.values[0].exterior"
   ]
  },
  {
   "cell_type": "markdown",
   "metadata": {},
   "source": [
    "According to Flopy GitHub \"Technically you need to create both a SpatialReference object and a ModelGrid object, but in practice the code looks very similar and can easily be implemented in one line.\"\n",
    "WGS84 Zone 10N has EPSG: 32610  \n",
    "Lower left corner of model is   \n",
    "Zone 10 N  \n",
    "Easting: 661211.18 m E  \n",
    "Northing: 4249696.50 m N  \n",
    "angle is approximate 53 degrees  "
   ]
  },
  {
   "cell_type": "code",
   "execution_count": 7,
   "metadata": {},
   "outputs": [],
   "source": [
    "m = flopy.modflow.Modflow(modelname = 'MF', exe_name = 'MODFLOW-NWT.exe', \n",
    "                          version = 'mfnwt', model_ws='data_MK')\n",
    "# m = flopy.modflow.Modflow(modelname = 'MF', exe_name = 'mf2005', \n",
    "#                           version = 'mf2005', model_ws='data')\n",
    "#lenuni = 1 is in ft, lenuni = 2 is in meters\n",
    "# itmuni is time unit 5 = years, 4=days, 3 =hours, 2=minutes, 1=seconds\n",
    "dis = flopy.modflow.ModflowDis(nrow=nrow, ncol=ncol, \n",
    "                               nlay=nlay, delr=delr, delc=delc,\n",
    "                               model=m, lenuni = 2, itmuni = 4,\n",
    "                               xul = xul, yul = yul,rotation=rotation, proj4_str=proj4_str,\n",
    "                              nper = nper, perlen=perlen, nstp=nstp, steady = steady,\n",
    "                              start_datetime = strt_date)\n"
   ]
  },
  {
   "cell_type": "code",
   "execution_count": 8,
   "metadata": {},
   "outputs": [],
   "source": [
    "# m.modelgrid.set_coord_info(xoff=xoff, yoff=yoff, proj4='EPSG:32610', angrot=angrot)\n",
    "mg = m.modelgrid\n",
    "# Write model grid to shapefile for later use\n",
    "# mg.write_shapefile(gwfm_dir+'/DIS_data/grid/grid.shp', epsg = '32610')\n",
    "# mg.write_shapefile(gwfm_dir+'/DIS_data/44_7_grid/44_7_grid.shp', epsg = '32610')\n"
   ]
  },
  {
   "cell_type": "code",
   "execution_count": 9,
   "metadata": {},
   "outputs": [],
   "source": [
    "sensors = gpd.read_file(gwfm_dir+\"/DEM_data/allsensor_latlong.csv\")\n",
    "sensors.Latitude = sensors.Latitude.astype(np.float64)\n",
    "sensors.Longitude = sensors.Longitude.astype(np.float64)\n",
    "sensors.geometry = gpd.points_from_xy(sensors.Longitude, sensors.Latitude)\n",
    "sensors.crs = 'epsg:4326'\n",
    "sensors = sensors.to_crs('epsg:32610')"
   ]
  },
  {
   "cell_type": "code",
   "execution_count": 10,
   "metadata": {},
   "outputs": [],
   "source": [
    "# import contextily as ctx\n",
    "# fig, ax = plt.subplots(figsize = (10,10))\n",
    "# mg.plot(ax=ax, alpha = 0.3)\n",
    "# sensors.plot(ax =ax)\n",
    "\n",
    "# ctx.add_basemap(ax, source = ctx.providers.Esri.WorldImagery, crs='epsg:26910', alpha = 0.6)\n",
    "# # ctx.add_basemap(ax, source = ctx.providers.Esri.WorldStreetMap, crs=tg.crs.to_string())\n",
    "\n",
    "# plt.xlabel('Easting (m)')\n",
    "# plt.ylabel('Northing (m)')\n",
    "# plt.savefig('Plots/Model_SFR_UZF_progress/Model_grid_overlay_satellite.png', dpi = 300)"
   ]
  },
  {
   "cell_type": "code",
   "execution_count": 11,
   "metadata": {},
   "outputs": [],
   "source": [
    "# Load model grid as geopandas object\n",
    "grid_p = gpd.read_file(gwfm_dir+'/DIS_data/grid/grid.shp')\n",
    "# grid_p = gpd.read_file(gwfm_dir+'/DIS_data/44_7_grid/44_7_grid.shp')\n",
    "# print(gwfm_dir)\n",
    "\n",
    "# Find Michigan Bar location\n",
    "mb_gpd = sensors[sensors.Sensor_id == \"MI_Bar\"]\n",
    "mb_grid = gpd.sjoin(mb_gpd, grid_p, how = 'left', op = 'intersects')"
   ]
  },
  {
   "cell_type": "code",
   "execution_count": 12,
   "metadata": {},
   "outputs": [
    {
     "name": "stdout",
     "output_type": "stream",
     "text": [
      "(645500.0, 4227700.0) (629548.3214234954, 4239764.159754906) (657295.8888597784, 4276453.020480867) (673247.567436283, 4264388.860725961)\n"
     ]
    }
   ],
   "source": [
    "# Get vertexes of model domain\n",
    "# ll = mg.get_coords(0, 0) #lower left\n",
    "# lr = mg.get_coords(nrow*delr, 0) #lower right\n",
    "# ur = mg.get_coords(nrow*delr, ncol*delc) #upper right\n",
    "# ul = mg.get_coords(0, ncol*delc) #upper left\n",
    "ll = mg.get_coords(0, 0) #lower left\n",
    "lr = mg.get_coords(0, nrow*delr) #lower right\n",
    "ur = mg.get_coords(ncol*delc, nrow*delr) #upper right\n",
    "ul = mg.get_coords(ncol*delc, 0) #upper left\n",
    "print(ll, lr, ur, ul)\n",
    "\n",
    "# Shapefile of model bounds\n",
    "from shapely.geometry import Polygon\n",
    "vertices = np.stack(np.asarray((ll,lr, ur, ul)))\n",
    "vertices\n",
    "geoms = Polygon(vertices)"
   ]
  },
  {
   "cell_type": "markdown",
   "metadata": {},
   "source": [
    "### Raster files can be loaded using the `Raster.load` method"
   ]
  },
  {
   "cell_type": "code",
   "execution_count": 13,
   "metadata": {},
   "outputs": [],
   "source": [
    "# Full size dem of northern sac valley\n",
    "# raster_name = gwfm_dir+\"/DEM_data/USGS_ten_meter_dem/transformed.tif\"\n",
    "\n",
    "# rio10_utm = Raster.load(raster_name)"
   ]
  },
  {
   "cell_type": "code",
   "execution_count": 14,
   "metadata": {},
   "outputs": [],
   "source": [
    "# rio10_utm.plot()\n",
    "# t0 = time.time()\n",
    "# rio10_utm.crop(vertices, invert=False)\n",
    "# crop_time = time.time() - t0\n",
    "# rio10_utm.plot()\n"
   ]
  },
  {
   "cell_type": "code",
   "execution_count": 15,
   "metadata": {},
   "outputs": [],
   "source": [
    "# Nearest neighbor determines the nearest pixel and assumes its value\n",
    "# linear is as it sounds, cubic is the smoothed version of linear essentially by using a cubic function\n",
    "# the linear method takes a very, very long time - an hour plus??, just stick with nearest\n",
    "# nearest takes 170.209 seconds - 220 seconds\n",
    "# the linear interpolation causes the program to crash\n",
    "# t0 = time.time()\n",
    "# dem_data = rio10_utm.resample_to_grid(m.modelgrid.xcellcenters,\n",
    "#                                 m.modelgrid.ycellcenters,\n",
    "#                                 band=rio10_utm.bands[0],\n",
    "#                                 method=\"nearest\")\n",
    "# resample_time = time.time() - t0\n",
    "# print(\"Resample time, nearest neighbor: {:.3f} sec\".format(time.time() - t0))"
   ]
  },
  {
   "cell_type": "code",
   "execution_count": 16,
   "metadata": {},
   "outputs": [
    {
     "data": {
      "text/plain": [
       "<matplotlib.axes._subplots.AxesSubplot at 0x2424caf38b0>"
      ]
     },
     "execution_count": 16,
     "metadata": {},
     "output_type": "execute_result"
    },
    {
     "data": {
      "image/png": "[encoded data removed]",
      "text/plain": [
       "<Figure size 432x288 with 2 Axes>"
      ]
     },
     "metadata": {
      "needs_background": "light"
     },
     "output_type": "display_data"
    }
   ],
   "source": [
    "# np.savetxt(gwfm_dir+'\\DIS_data\\dem_44_7_200m_nearest.tsv', dem_data, delimiter = '\\t')\n",
    "\n",
    "# Based on Maribeth's grid aligned with Alisha's TPROGS model\n",
    "# dem_data = np.loadtxt(gwfm_dir+'\\DIS_data\\dem_52_9_200m_nearest.tsv', delimiter = '\\t')\n",
    "dem_data = np.loadtxt(gwfm_dir+'\\DIS_data\\dem_52_9_200m_linear.tsv', delimiter = '\\t')\n",
    "# dem_data = np.loadtxt(gwfm_dir+'\\DIS_data\\dem_44_7_200m_linear_missing_right_corner.tsv', delimiter = '\\t')\n",
    "\n",
    "# dem_data = np.loadtxt(gwfm_dir+'\\DIS_data\\dem_44_7_200m_nearest.tsv', delimiter = '\\t')\n",
    "\n",
    "import seaborn as sns\n",
    "sns.heatmap(dem_data, cmap = 'viridis', vmin = 0)"
   ]
  },
  {
   "cell_type": "markdown",
   "metadata": {},
   "source": [
    "# Capture cross section of deeper geology"
   ]
  },
  {
   "cell_type": "code",
   "execution_count": 17,
   "metadata": {},
   "outputs": [],
   "source": [
    "# Pre-cretaceous metamorphic rocks - (variable thickness 200-500 ft thick)\n",
    "# Ione formation (200 ft thick)\n",
    "# Valley Springs formation (300 ft thick)\n",
    "# Mehrten Formation (100 ft thick to 300 ft thick) (1-2 deg dip)\n",
    "# Laguna Formation (less than 100 ft to between 200-300 ft thick) (less than 1 deg dip)\n",
    "# upper formation (informed by well logs) (100 ft)\n",
    "# ibound < 0 is constant head\n",
    "# ibound = 0 is inactive cell\n",
    "# ibound > 0 is active cell"
   ]
  },
  {
   "cell_type": "markdown",
   "metadata": {},
   "source": [
    "## Need to adjust for change in model grid, based on Michigan Bar previously, maybe also look at effect of model domain angle vs cross section angle"
   ]
  },
  {
   "cell_type": "code",
   "execution_count": 18,
   "metadata": {},
   "outputs": [
    {
     "data": {
      "text/html": [
       "<div>\n",
       "<style scoped>\n",
       "    .dataframe tbody tr th:only-of-type {\n",
       "        vertical-align: middle;\n",
       "    }\n",
       "\n",
       "    .dataframe tbody tr th {\n",
       "        vertical-align: top;\n",
       "    }\n",
       "\n",
       "    .dataframe thead th {\n",
       "        text-align: right;\n",
       "    }\n",
       "</style>\n",
       "<table border=\"1\" class=\"dataframe\">\n",
       "  <thead>\n",
       "    <tr style=\"text-align: right;\">\n",
       "      <th></th>\n",
       "      <th>Sensor_type</th>\n",
       "      <th>Sensor_id</th>\n",
       "      <th>Logger_name</th>\n",
       "      <th>Latitude</th>\n",
       "      <th>Longitude</th>\n",
       "      <th>Elev_m_MSL</th>\n",
       "      <th>geometry</th>\n",
       "      <th>index_right</th>\n",
       "      <th>node</th>\n",
       "      <th>row</th>\n",
       "      <th>column</th>\n",
       "    </tr>\n",
       "  </thead>\n",
       "  <tbody>\n",
       "    <tr>\n",
       "      <th>28</th>\n",
       "      <td>Level</td>\n",
       "      <td>MI_Bar</td>\n",
       "      <td></td>\n",
       "      <td>38.500126</td>\n",
       "      <td>-121.04523</td>\n",
       "      <td></td>\n",
       "      <td>POINT (670459.007 4263117.949)</td>\n",
       "      <td>21376</td>\n",
       "      <td>21377</td>\n",
       "      <td>93</td>\n",
       "      <td>217</td>\n",
       "    </tr>\n",
       "  </tbody>\n",
       "</table>\n",
       "</div>"
      ],
      "text/plain": [
       "   Sensor_type Sensor_id Logger_name   Latitude  Longitude Elev_m_MSL  \\\n",
       "28       Level    MI_Bar              38.500126 -121.04523              \n",
       "\n",
       "                          geometry  index_right   node  row  column  \n",
       "28  POINT (670459.007 4263117.949)        21376  21377   93     217  "
      ]
     },
     "execution_count": 18,
     "metadata": {},
     "output_type": "execute_result"
    }
   ],
   "source": [
    "mb_grid\n",
    "# The stream gage at michigan bar is now 13 columns in from the boundary\n",
    "# mehrtenbound\n",
    "\n",
    "# Cross section E appears to have an angle of 0 compared to the model domain,"
   ]
  },
  {
   "cell_type": "code",
   "execution_count": 19,
   "metadata": {
    "scrolled": true
   },
   "outputs": [
    {
     "data": {
      "text/plain": [
       "[<matplotlib.lines.Line2D at 0x2424cef3880>]"
      ]
     },
     "execution_count": 19,
     "metadata": {},
     "output_type": "execute_result"
    },
    {
     "data": {
      "image/png": "[encoded data removed]",
      "text/plain": [
       "<Figure size 432x288 with 1 Axes>"
      ]
     },
     "metadata": {
      "needs_background": "light"
     },
     "output_type": "display_data"
    }
   ],
   "source": [
    "# # columns are xtop_miles, ytop_ft_amsl, xbot_miles, ytop_ft_amsl\n",
    "# # XS upper bound should be at Michigan bar which is between Jackson road and Sacramento-Amador county line split\n",
    "# # Mile 36 is approximately where Michigan bar aligns with the cross section\n",
    "MB_XS_mile = 36\n",
    "mehrtenbound = pd.read_csv(gwfm_dir+'/DIS_data/Mehrten_boundary_x_y.csv', parse_dates = False, \n",
    "                index_col = False, sep = ',', header = 'infer')\n",
    "# Convert miles to feet and sets x value based on location of Michigan bar\n",
    "# 0 is michigan bar and each major change in geologic dip is based on distance from Michigan Bar\n",
    "mehrtenbound.xtop_miles = -5280*(MB_XS_mile - mehrtenbound.xtop_miles)\n",
    "mehrtenbound.xbot_miles = -5280*(MB_XS_mile - mehrtenbound.xbot_miles)\n",
    "# No flod boundary based on the original coordinates of the bottom of the Mehrten formation\n",
    "mehrtenbound.noflow_x_miles = -5280*(MB_XS_mile - mehrtenbound.noflow_x_miles)\n",
    "\n",
    "# East of mile 32 the entire vertical cross section, including up to the near entire surface\n",
    "# is composed of old geologic formations that are not water bearing\n",
    "volcanic_bound = (MB_XS_mile - 32)*-5280\n",
    "# noflow_ind = int((1-(volcanic_bound/sumx))*ncol)\n",
    "\n",
    "# Plot the x and y values\n",
    "fig, ax = plt.subplots(1, 1)\n",
    "mehrtenbound.plot(x = 'xtop_miles', y = 'ytop_ft_amsl', ax = ax)\n",
    "mehrtenbound.plot(x = 'xbot_miles', y = 'ybot_ft_amsl', ax = ax)\n",
    "plt.plot(-100*3.28*np.arange(0,len(dis.top[40,:])), np.flip(3.28*dis.top[40,:]))\n",
    "# print(mehrtenbound)"
   ]
  },
  {
   "cell_type": "code",
   "execution_count": 20,
   "metadata": {},
   "outputs": [],
   "source": [
    "\n",
    "def xy_to_botm(xbound_ft, ybound_ft, nspace,ntransversespace):\n",
    "    laybotm = np.zeros((ntransversespace, nspace))\n",
    "    # Nspace will be either nrow or ncol depending model direction\n",
    "    # ntransversespace is the opposite of nspace (ie nrow if nspace is ncol)\n",
    "    # Calculate the distance between each major change in dip\n",
    "    dx = np.diff(xbound_ft)\n",
    "    # Scale by the total distance across the coordinates to get percentages\n",
    "    sumx = np.sum(dx)\n",
    "    dx /= sumx\n",
    "    # Multiply the number of columns by the percent of columns in each section of constant dip\n",
    "    dx *= nspace\n",
    "    # Round the number of columns to allow proper use for indexing\n",
    "    nx = np.round(dx).astype(int)\n",
    "    # Fix any discrepancy in number of columns due to issues with rouding the percentages of columns\n",
    "    # Add a column to the last set of columns because there is already uncertainty at the deeper end\n",
    "    while(np.sum(nx)-nspace !=0):\n",
    "        if np.sum(nx)-nspace <0:\n",
    "            nx[-1] += 1\n",
    "        elif np.sum(nx)-nspace >0:\n",
    "            nx[-1] -= 1\n",
    "    sum(nx)\n",
    "\n",
    "    # Now split the coordinates into downsized coordinates in between each major change in dip\n",
    "    k = 0\n",
    "    for i in np.arange(0,len(nx)):\n",
    "        for j in np.arange(0,ntransversespace):\n",
    "            laybotm[j, k:k+nx[i]] = np.arange(ybound_ft[i],ybound_ft[i+1], -(ybound_ft[i]-ybound_ft[i+1])/nx[i])\n",
    "        k += nx[i]\n",
    "    return(laybotm)"
   ]
  },
  {
   "cell_type": "code",
   "execution_count": 21,
   "metadata": {},
   "outputs": [],
   "source": [
    "# X (east -west) and y (up-down vertical) of major dip changes for Mehrten Formation top boundary\n",
    "\n",
    "mehrten_top = xy_to_botm(mehrtenbound.xtop_miles,mehrtenbound.ytop_ft_amsl, ncol, nrow)\n",
    "# X (east -west) and y (up-down vertical) of major dip changes for Mehrten Formation bottom boundary\n",
    "# drop na is because there are less values to mark changes in the bottom than top boundary\n",
    "mehrten_bottom = xy_to_botm(mehrtenbound.xbot_miles.dropna(),mehrtenbound.ybot_ft_amsl.dropna(), ncol, nrow)\n",
    "\n",
    "# Original x,y data for Mehrten bottom boundary to represent the noflow bounds\n",
    "no_flow_bound = xy_to_botm(mehrtenbound.noflow_x_miles.dropna(), mehrtenbound.noflow_y_ft_amsl.dropna(),ncol,nrow)"
   ]
  },
  {
   "cell_type": "code",
   "execution_count": 22,
   "metadata": {
    "scrolled": false
   },
   "outputs": [],
   "source": [
    "botm = np.zeros((nlay, nrow, ncol))\n",
    "# Convert units from ft to meters and flip to match direction\n",
    "botm[-2,:,:] = np.flip(mehrten_top/3.28)\n",
    "botm[-1,:,:] = np.flip(mehrten_bottom/3.28)\n",
    "no_flow_bound = np.flip(no_flow_bound/3.28)\n",
    "dis.botm = botm\n",
    "# dis.plot()"
   ]
  },
  {
   "cell_type": "code",
   "execution_count": 23,
   "metadata": {},
   "outputs": [
    {
     "data": {
      "text/plain": [
       "((12, 100, 230), (100, 230))"
      ]
     },
     "execution_count": 23,
     "metadata": {},
     "output_type": "execute_result"
    }
   ],
   "source": [
    "botm.shape, dem_data.shape"
   ]
  },
  {
   "cell_type": "code",
   "execution_count": 24,
   "metadata": {},
   "outputs": [
    {
     "data": {
      "text/plain": [
       "(10, 12)"
      ]
     },
     "execution_count": 24,
     "metadata": {},
     "output_type": "execute_result"
    }
   ],
   "source": [
    "num_tprogs, nlay"
   ]
  },
  {
   "cell_type": "markdown",
   "metadata": {},
   "source": [
    "## Adjustment to bottom boundary to ensure sufficient top layer thickness for the TPROGS model\n",
    "Although the bottom boundaries are being artifically lowered to allow for sufficient layer thickness, this will be corrected when ibound is implemented based on where the actual bottom boundary is and where there is high elevations based on likelihood to be volcanics geology."
   ]
  },
  {
   "cell_type": "code",
   "execution_count": 25,
   "metadata": {},
   "outputs": [],
   "source": [
    "# The TPROGS model is 100m thick with some of it above the land surface\n",
    "# to be safe, there should be at least 50 meters below ground surface to the bottom boundary\n",
    "\n",
    "# Create TPROGS layers from bottom up\n",
    "# tprog_thick = 100/num_tprogs\n",
    "# botm[-3,:,:] = -80\n",
    "# for i in np.arange(-4,-3-num_tprogs,-1):\n",
    "#     botm[i,:,:] = botm[i+1,:,:] + tprog_thick\n",
    "    \n",
    "    \n",
    "# Create TPROGS layers from top down\n",
    "# tprog_thick = 100/num_tprogs\n",
    "botm[0,:,:] = dem_data - tprog_thick\n",
    "for i in np.arange(1,num_tprogs):\n",
    "    botm[i,:,:] = botm[i-1,:,:] -tprog_thick\n",
    "    \n",
    "# Thickness to give to bottom layers below the TPROGS layers just to provide adequate spacing,\n",
    "# this will be corrected by changing the geology in the layers above to account for what is actually in\n",
    "# the Mehrten and what is in the Laguna formations, thickness of 5 also prevents any messy overlap\n",
    "thickness_to_skip =10\n",
    "# # Find where top boundary of Mehrten Formation rises within 10 meters of the top layer (10m for sufficient layer thickness)\n",
    "bot3ind = np.min(np.where(botm[-2,:,:]>botm[-3,:,:]- thickness_to_skip)[1])\n",
    "\n",
    "# # Where the top boundary of Mehrten was within 10 meters of the top layer \n",
    "# # set it equal to top layer elevation minus 10 for sufficient layer thickness\n",
    "botm[-2,:,bot3ind:] = botm[-3,0,bot3ind]- thickness_to_skip\n",
    "# # Repeat steps above for bottom of Mehrten formation with the top of the Mehrten formation\n",
    "bot3ind = np.min(np.where(botm[-1,0,:]>botm[-2,0,:]- thickness_to_skip))\n",
    "botm[-1,:,bot3ind:] = botm[-2,0,bot3ind]-thickness_to_skip"
   ]
  },
  {
   "cell_type": "code",
   "execution_count": 26,
   "metadata": {},
   "outputs": [
    {
     "data": {
      "image/png": "[encoded data removed]",
      "text/plain": [
       "<Figure size 864x864 with 1 Axes>"
      ]
     },
     "metadata": {
      "needs_background": "light"
     },
     "output_type": "display_data"
    }
   ],
   "source": [
    "\n",
    "fig,ax = plt.subplots(figsize = (12,12))\n",
    "plt.plot(dem_data[8,:])\n",
    "\n",
    "for i in np.arange(0,nlay):\n",
    "    plt.plot(botm[i,8,:])"
   ]
  },
  {
   "cell_type": "code",
   "execution_count": 27,
   "metadata": {},
   "outputs": [
    {
     "name": "stdout",
     "output_type": "stream",
     "text": [
      "\n",
      "DIS PACKAGE DATA VALIDATION:\n",
      "  No errors or warnings encountered.\n",
      "\n",
      "  Checks that passed:\n",
      "    zero or negative thickness\n",
      "    thin cells (less than checker threshold of 1.0)\n",
      "    nan values in top array\n",
      "    nan values in bottom array\n",
      "\n"
     ]
    },
    {
     "data": {
      "text/plain": [
       "rec.array([],\n",
       "          dtype=[('type', 'O'), ('package', 'O'), ('k', '<i4'), ('i', '<i4'), ('j', '<i4'), ('value', '<f8'), ('desc', 'O')])"
      ]
     },
     "execution_count": 27,
     "metadata": {},
     "output_type": "execute_result"
    }
   ],
   "source": [
    "# Set the elevation of the top layer based on the DEM\n",
    "m.dis.top = dem_data\n",
    "# Bottom of model based on geology\n",
    "m.dis.botm = botm\n",
    "chk = dis.check()\n",
    "chk.summary_array"
   ]
  },
  {
   "cell_type": "markdown",
   "metadata": {},
   "source": [
    "## Import soil data for Lake Package, UZF Package, SFR Package hydraulic parameters"
   ]
  },
  {
   "cell_type": "code",
   "execution_count": 28,
   "metadata": {},
   "outputs": [],
   "source": [
    "mb_name = gwfm_dir+\"/NewModelDomain/GWModelDomain_52_9deg_UTM10N_WGS84.shp\"\n",
    "\n",
    "mb = gpd.read_file(mb_name)\n",
    "mb = mb.to_crs('epsg:32610')"
   ]
  },
  {
   "cell_type": "code",
   "execution_count": 29,
   "metadata": {},
   "outputs": [],
   "source": [
    "uzf_path = gwfm_dir+'\\\\UZF_data'\n",
    "soil_path = uzf_path+'\\\\wss_gsmsoil_CA'\n",
    "# # Read in the soil map spatial data\n",
    "# soil_gpd = gpd.read_file(uzf_path+'\\\\wss_gsmsoil_CA\\\\spatial\\\\gsmsoilmu_a_ca.shp')\n",
    "# soil_gpd = soil_gpd.to_crs('EPSG:32610')\n",
    "# # soil_gpd.plot()"
   ]
  },
  {
   "cell_type": "markdown",
   "metadata": {},
   "source": [
    "### Write grid_uzf to shapefile to avoid having to repeat analysis"
   ]
  },
  {
   "cell_type": "code",
   "execution_count": 30,
   "metadata": {},
   "outputs": [],
   "source": [
    "# grid_uzf.to_file(uzf_path+'/final_grid_uzf/griduzf.shp')\n",
    "# grid_uzf = gpd.read_file(uzf_path+'/final_grid_uzf/griduzf.shp')"
   ]
  },
  {
   "cell_type": "code",
   "execution_count": 31,
   "metadata": {},
   "outputs": [],
   "source": [
    "# def fill_uzf(uzfvalues, grid_uzf):\n",
    "#     # convert geopandas object to regular np array for soil data\n",
    "#     temp = np.zeros((nrow,ncol))\n",
    "#     temp[(grid_uzf.row.values-1).astype(int),(grid_uzf.column.values-1).astype(int)] = uzfvalues\n",
    "#     return(temp)"
   ]
  },
  {
   "cell_type": "code",
   "execution_count": 32,
   "metadata": {},
   "outputs": [],
   "source": [
    "soilKs_array = np.loadtxt(uzf_path+'/final_soilKs.tsv', delimiter = '\\t')\n",
    "soiln_array = np.loadtxt(uzf_path+'/final_soiln.tsv', delimiter = '\\t')\n",
    "soileps_array = np.loadtxt(uzf_path+'/final_soileps.tsv', delimiter = '\\t')\n",
    "\n",
    "# soilKs_array = fill_uzf(grid_uzf.Ksat_Rep, grid_uzf)\n",
    "# soiln_array = fill_uzf(grid_uzf.Porosity_R, grid_uzf)\n",
    "# soileps_array = fill_uzf(grid_uzf.EPS, grid_uzf)\n",
    "\n",
    "# np.savetxt(uzf_path+'/final_soilKs.tsv', soilKs_array, delimiter = '\\t')\n",
    "# np.savetxt(uzf_path+'/final_soiln.tsv', soiln_array, delimiter = '\\t')\n",
    "# np.savetxt(uzf_path+'/final_soileps.tsv', soileps_array, delimiter = '\\t')"
   ]
  },
  {
   "cell_type": "markdown",
   "metadata": {},
   "source": [
    "# RIV"
   ]
  },
  {
   "cell_type": "code",
   "execution_count": 33,
   "metadata": {},
   "outputs": [],
   "source": [
    "sfr_dir = gwfm_dir+'/SFR_data/'"
   ]
  },
  {
   "cell_type": "code",
   "execution_count": 34,
   "metadata": {},
   "outputs": [
    {
     "data": {
      "text/plain": [
       "'C:\\\\Users\\\\Ebenzer\\\\Box\\\\research_cosumnes\\\\GWFlowModel/SFR_data/'"
      ]
     },
     "execution_count": 34,
     "metadata": {},
     "output_type": "execute_result"
    }
   ],
   "source": [
    "# grid_sfr.to_file(sfr_dir+'/final_grid_sfr/grid_sfr.shp')\n",
    "grid_sfr = gpd.read_file(sfr_dir+'/final_grid_sfr/grid_sfr.shp')\n",
    "sfr_dir"
   ]
  },
  {
   "cell_type": "code",
   "execution_count": 35,
   "metadata": {},
   "outputs": [],
   "source": [
    "# floodplain sensor info\n",
    "fp_sensors = gpd.read_file(gwfm_dir+\"/LAK_data/floodplain_logger_metadata.csv\", header = True)\n",
    "fp_sensors.Northing = fp_sensors.Northing.astype(np.float64)\n",
    "fp_sensors.Easting = fp_sensors.Easting.astype(np.float64)\n",
    "fp_sensors.geometry = gpd.points_from_xy(fp_sensors.Easting, fp_sensors.Northing)\n",
    "fp_sensors.crs = 'epsg:32610'"
   ]
  },
  {
   "cell_type": "code",
   "execution_count": 36,
   "metadata": {
    "scrolled": true
   },
   "outputs": [
    {
     "data": {
      "text/html": [
       "<div>\n",
       "<style scoped>\n",
       "    .dataframe tbody tr th:only-of-type {\n",
       "        vertical-align: middle;\n",
       "    }\n",
       "\n",
       "    .dataframe tbody tr th {\n",
       "        vertical-align: top;\n",
       "    }\n",
       "\n",
       "    .dataframe thead th {\n",
       "        text-align: right;\n",
       "    }\n",
       "</style>\n",
       "<table border=\"1\" class=\"dataframe\">\n",
       "  <thead>\n",
       "    <tr style=\"text-align: right;\">\n",
       "      <th></th>\n",
       "      <th>Logger Location</th>\n",
       "      <th>Logger Type</th>\n",
       "      <th>Easting</th>\n",
       "      <th>Northing</th>\n",
       "      <th>Elevation</th>\n",
       "      <th>Solinst Logger Serial Number 2012</th>\n",
       "      <th>Solinst Logger Serial Number 2013</th>\n",
       "      <th>Solinst Logger Serial Number 2014</th>\n",
       "      <th>Solinst Logger Serial Number 2015</th>\n",
       "      <th>Solinst Logger Serial Number 2016</th>\n",
       "      <th>geometry</th>\n",
       "    </tr>\n",
       "  </thead>\n",
       "  <tbody>\n",
       "    <tr>\n",
       "      <th>2</th>\n",
       "      <td>OD_Excavation</td>\n",
       "      <td>Breach</td>\n",
       "      <td>641763.495</td>\n",
       "      <td>4241361.24</td>\n",
       "      <td>6.597</td>\n",
       "      <td></td>\n",
       "      <td></td>\n",
       "      <td></td>\n",
       "      <td>32037867</td>\n",
       "      <td>21052169</td>\n",
       "      <td>POINT (641763.495 4241361.240)</td>\n",
       "    </tr>\n",
       "  </tbody>\n",
       "</table>\n",
       "</div>"
      ],
      "text/plain": [
       "  Logger Location Logger Type     Easting    Northing Elevation  \\\n",
       "2   OD_Excavation      Breach  641763.495  4241361.24     6.597   \n",
       "\n",
       "  Solinst Logger Serial Number 2012 Solinst Logger Serial Number 2013  \\\n",
       "2                                                                       \n",
       "\n",
       "  Solinst Logger Serial Number 2014 Solinst Logger Serial Number 2015  \\\n",
       "2                                                            32037867   \n",
       "\n",
       "  Solinst Logger Serial Number 2016                        geometry  \n",
       "2                          21052169  POINT (641763.495 4241361.240)  "
      ]
     },
     "execution_count": 36,
     "metadata": {},
     "output_type": "execute_result"
    }
   ],
   "source": [
    "# od_breach is the sensor location where the breach was made in the levees for flow to leave the river\n",
    "od_breach = fp_sensors[fp_sensors['Logger Location']=='OD_Excavation']\n",
    "od_breach\n"
   ]
  },
  {
   "cell_type": "code",
   "execution_count": 37,
   "metadata": {
    "scrolled": true
   },
   "outputs": [
    {
     "data": {
      "text/html": [
       "<div>\n",
       "<style scoped>\n",
       "    .dataframe tbody tr th:only-of-type {\n",
       "        vertical-align: middle;\n",
       "    }\n",
       "\n",
       "    .dataframe tbody tr th {\n",
       "        vertical-align: top;\n",
       "    }\n",
       "\n",
       "    .dataframe thead th {\n",
       "        text-align: right;\n",
       "    }\n",
       "</style>\n",
       "<table border=\"1\" class=\"dataframe\">\n",
       "  <thead>\n",
       "    <tr style=\"text-align: right;\">\n",
       "      <th></th>\n",
       "      <th>node</th>\n",
       "      <th>row</th>\n",
       "      <th>column</th>\n",
       "      <th>index_righ</th>\n",
       "      <th>z</th>\n",
       "      <th>easting</th>\n",
       "      <th>northing</th>\n",
       "      <th>slope</th>\n",
       "      <th>Point_orde</th>\n",
       "      <th>length_m</th>\n",
       "      <th>reach</th>\n",
       "      <th>geometry</th>\n",
       "      <th>index_right</th>\n",
       "    </tr>\n",
       "  </thead>\n",
       "  <tbody>\n",
       "    <tr>\n",
       "      <th>292</th>\n",
       "      <td>10164</td>\n",
       "      <td>45.0</td>\n",
       "      <td>44.0</td>\n",
       "      <td>4994.0</td>\n",
       "      <td>6.838629</td>\n",
       "      <td>641880.440454</td>\n",
       "      <td>4.241351e+06</td>\n",
       "      <td>0.0003</td>\n",
       "      <td>4994.0</td>\n",
       "      <td>210</td>\n",
       "      <td>293</td>\n",
       "      <td>POLYGON ((641754.648 4241315.151, 641875.290 4...</td>\n",
       "      <td>2</td>\n",
       "    </tr>\n",
       "  </tbody>\n",
       "</table>\n",
       "</div>"
      ],
      "text/plain": [
       "      node   row  column  index_righ         z        easting      northing  \\\n",
       "292  10164  45.0    44.0      4994.0  6.838629  641880.440454  4.241351e+06   \n",
       "\n",
       "      slope  Point_orde  length_m  reach  \\\n",
       "292  0.0003      4994.0       210    293   \n",
       "\n",
       "                                              geometry  index_right  \n",
       "292  POLYGON ((641754.648 4241315.151, 641875.290 4...            2  "
      ]
     },
     "execution_count": 37,
     "metadata": {},
     "output_type": "execute_result"
    }
   ],
   "source": [
    "# # Buffer the location of the breach sensor to have overlap with the river streamline\n",
    "# just sjoin the geometry because the extra info is unnecessary\n",
    "# spatial join breach sensor polygon with sfr grid locations to find match\n",
    "grid_breach = gpd.sjoin(grid_sfr, \n",
    "                        gpd.GeoDataFrame(geometry = od_breach.geometry.buffer(25), crs = 'epsg:32610'), how = \"inner\", op= \"intersects\")\n",
    "# add a reach to the overlap cell that will be used to divert flow (there will be two reaches in one cell)\n",
    "grid_breach"
   ]
  },
  {
   "cell_type": "code",
   "execution_count": 38,
   "metadata": {},
   "outputs": [
    {
     "name": "stderr",
     "output_type": "stream",
     "text": [
      "C:\\Users\\Ebenzer\\.conda\\envs\\geosp\\lib\\site-packages\\pandas\\core\\indexing.py:670: SettingWithCopyWarning: \n",
      "A value is trying to be set on a copy of a slice from a DataFrame\n",
      "\n",
      "See the caveats in the documentation: https://pandas.pydata.org/pandas-docs/stable/user_guide/indexing.html#returning-a-view-versus-a-copy\n",
      "  iloc._setitem_with_indexer(indexer, value)\n"
     ]
    },
    {
     "data": {
      "text/plain": [
       "(29, 30.0)"
      ]
     },
     "execution_count": 38,
     "metadata": {},
     "output_type": "execute_result"
    }
   ],
   "source": [
    "XS8pt = pd.read_csv(sfr_dir+'8pointXS.csv')\n",
    "XSlocs = gpd.read_file(sfr_dir+'8pointXS_locs\\\\8pointXS_locs.shp')\n",
    "XSlocs.crs = 32610\n",
    "\n",
    "XSg  = gpd.sjoin(grid_sfr, XSlocs, how = \"inner\", op= \"contains\", lsuffix = 'sfr',rsuffix = 'xs')\n",
    "# Append the grid_breach location to the list of cross sections to split the segment\n",
    "XSg = XSg.append(grid_breach).sort_values('reach')\n",
    "# Copy the XS site name from the previous last site to the breach site to keep same XS\n",
    "XSg.Site.iloc[-1] = XSg.Site.iloc[-2]\n",
    "len(XSg), len(XS8pt.loc[0,:])/2"
   ]
  },
  {
   "cell_type": "markdown",
   "metadata": {},
   "source": [
    "### Read in 8 pt XS, revised by simplifying from Constantine 2001"
   ]
  },
  {
   "cell_type": "code",
   "execution_count": 39,
   "metadata": {},
   "outputs": [],
   "source": [
    "xs_sfr = grid_sfr.set_index('reach')\n",
    "# set all reaches to start as segment 1 which will be changed iteratively based on the number of cross-sections\n",
    "xs_sfr['iseg'] = 1\n",
    "# add a column reach_new that will be changed iteratively as the segment number is changed\n",
    "xs_sfr['reach_new'] = xs_sfr.index\n",
    "# xs_sfr"
   ]
  },
  {
   "cell_type": "markdown",
   "metadata": {},
   "source": [
    "## Define reach data based on ISFROPT"
   ]
  },
  {
   "cell_type": "code",
   "execution_count": 40,
   "metadata": {},
   "outputs": [],
   "source": [
    "## Given the reach number of each XS, the 718 reaches will be broken down into each segment\n",
    "## create a new reach column based on XS reach number and \n",
    "\n",
    "segcount = 2\n",
    "for i in np.arange(0,len(XSg)):\n",
    "    temp_reach = XSg.reach.values[i]\n",
    "    rchnum = xs_sfr.index[-1] - temp_reach+1\n",
    "    xs_sfr.reach_new.loc[temp_reach:] = np.linspace(1,rchnum, rchnum)\n",
    "    xs_sfr.iseg.loc[temp_reach:] = segcount\n",
    "    segcount +=1"
   ]
  },
  {
   "cell_type": "code",
   "execution_count": 41,
   "metadata": {},
   "outputs": [],
   "source": [
    "xs_sfr.reach_new = xs_sfr.reach_new.astype(int)\n"
   ]
  },
  {
   "cell_type": "code",
   "execution_count": 42,
   "metadata": {},
   "outputs": [],
   "source": [
    "grid_sfr.row = (grid_sfr.row.values-1).astype(int)\n",
    "grid_sfr.column = (grid_sfr.column.values-1).astype(int)"
   ]
  },
  {
   "cell_type": "code",
   "execution_count": 43,
   "metadata": {},
   "outputs": [],
   "source": [
    "# Determine which layer the streamcell is in\n",
    "# since the if statement only checks whether the first layer is greater than the streambed elevation, \n",
    "# otherwise it would be less than and zero (most should be in layer 0)\n",
    "sfr_lay = np.zeros(len(grid_sfr))\n",
    "\n",
    "for i in np.arange(0,nlay-1):\n",
    "    # pull out elevation of layer bottom\n",
    "    lay_elev = botm[i, grid_sfr.row.values, grid_sfr.column.values]\n",
    "    for j in np.arange(0,len(grid_sfr)):\n",
    "        # want to compare if streambed is lower than the layer bottom\n",
    "        # 1 will be subtracted from each z value to make sure it is lower than the model top in the upper reaches\n",
    "        if lay_elev[j] < (grid_sfr.z.values-1)[j]:\n",
    "            sfr_lay[j] = i \n",
    "        \n"
   ]
  },
  {
   "cell_type": "code",
   "execution_count": 44,
   "metadata": {},
   "outputs": [
    {
     "data": {
      "text/html": [
       "<div>\n",
       "<style scoped>\n",
       "    .dataframe tbody tr th:only-of-type {\n",
       "        vertical-align: middle;\n",
       "    }\n",
       "\n",
       "    .dataframe tbody tr th {\n",
       "        vertical-align: top;\n",
       "    }\n",
       "\n",
       "    .dataframe thead th {\n",
       "        text-align: right;\n",
       "    }\n",
       "</style>\n",
       "<table border=\"1\" class=\"dataframe\">\n",
       "  <thead>\n",
       "    <tr style=\"text-align: right;\">\n",
       "      <th></th>\n",
       "      <th>node</th>\n",
       "      <th>row</th>\n",
       "      <th>column</th>\n",
       "      <th>index_righ</th>\n",
       "      <th>z</th>\n",
       "      <th>easting</th>\n",
       "      <th>northing</th>\n",
       "      <th>slope</th>\n",
       "      <th>Point_orde</th>\n",
       "      <th>length_m</th>\n",
       "      <th>geometry</th>\n",
       "      <th>iseg</th>\n",
       "      <th>reach_new</th>\n",
       "    </tr>\n",
       "    <tr>\n",
       "      <th>reach</th>\n",
       "      <th></th>\n",
       "      <th></th>\n",
       "      <th></th>\n",
       "      <th></th>\n",
       "      <th></th>\n",
       "      <th></th>\n",
       "      <th></th>\n",
       "      <th></th>\n",
       "      <th></th>\n",
       "      <th></th>\n",
       "      <th></th>\n",
       "      <th></th>\n",
       "      <th></th>\n",
       "    </tr>\n",
       "  </thead>\n",
       "  <tbody>\n",
       "    <tr>\n",
       "      <th>1</th>\n",
       "      <td>21839</td>\n",
       "      <td>95.0</td>\n",
       "      <td>219.0</td>\n",
       "      <td>271.0</td>\n",
       "      <td>53.025775</td>\n",
       "      <td>670928.450650</td>\n",
       "      <td>4.263284e+06</td>\n",
       "      <td>0.0020</td>\n",
       "      <td>271.0</td>\n",
       "      <td>50</td>\n",
       "      <td>POLYGON ((670842.768 4263198.509, 670963.409 4...</td>\n",
       "      <td>1</td>\n",
       "      <td>1</td>\n",
       "    </tr>\n",
       "    <tr>\n",
       "      <th>2</th>\n",
       "      <td>21609</td>\n",
       "      <td>94.0</td>\n",
       "      <td>219.0</td>\n",
       "      <td>280.0</td>\n",
       "      <td>52.796051</td>\n",
       "      <td>670841.187393</td>\n",
       "      <td>4.263264e+06</td>\n",
       "      <td>0.0020</td>\n",
       "      <td>280.0</td>\n",
       "      <td>130</td>\n",
       "      <td>POLYGON ((670683.251 4263319.151, 670803.892 4...</td>\n",
       "      <td>1</td>\n",
       "      <td>2</td>\n",
       "    </tr>\n",
       "    <tr>\n",
       "      <th>3</th>\n",
       "      <td>21608</td>\n",
       "      <td>94.0</td>\n",
       "      <td>218.0</td>\n",
       "      <td>298.5</td>\n",
       "      <td>52.426051</td>\n",
       "      <td>670668.236881</td>\n",
       "      <td>4.263210e+06</td>\n",
       "      <td>0.0020</td>\n",
       "      <td>298.5</td>\n",
       "      <td>240</td>\n",
       "      <td>POLYGON ((670562.609 4263159.634, 670683.251 4...</td>\n",
       "      <td>1</td>\n",
       "      <td>3</td>\n",
       "    </tr>\n",
       "    <tr>\n",
       "      <th>4</th>\n",
       "      <td>21607</td>\n",
       "      <td>94.0</td>\n",
       "      <td>217.0</td>\n",
       "      <td>312.5</td>\n",
       "      <td>52.146051</td>\n",
       "      <td>670556.575302</td>\n",
       "      <td>4.263138e+06</td>\n",
       "      <td>0.0020</td>\n",
       "      <td>312.5</td>\n",
       "      <td>40</td>\n",
       "      <td>POLYGON ((670441.968 4263000.117, 670562.609 4...</td>\n",
       "      <td>1</td>\n",
       "      <td>4</td>\n",
       "    </tr>\n",
       "    <tr>\n",
       "      <th>5</th>\n",
       "      <td>21377</td>\n",
       "      <td>93.0</td>\n",
       "      <td>217.0</td>\n",
       "      <td>324.5</td>\n",
       "      <td>51.906051</td>\n",
       "      <td>670442.468974</td>\n",
       "      <td>4.263109e+06</td>\n",
       "      <td>0.0020</td>\n",
       "      <td>324.5</td>\n",
       "      <td>200</td>\n",
       "      <td>POLYGON ((670282.451 4263120.759, 670403.092 4...</td>\n",
       "      <td>1</td>\n",
       "      <td>5</td>\n",
       "    </tr>\n",
       "    <tr>\n",
       "      <th>...</th>\n",
       "      <td>...</td>\n",
       "      <td>...</td>\n",
       "      <td>...</td>\n",
       "      <td>...</td>\n",
       "      <td>...</td>\n",
       "      <td>...</td>\n",
       "      <td>...</td>\n",
       "      <td>...</td>\n",
       "      <td>...</td>\n",
       "      <td>...</td>\n",
       "      <td>...</td>\n",
       "      <td>...</td>\n",
       "      <td>...</td>\n",
       "    </tr>\n",
       "    <tr>\n",
       "      <th>354</th>\n",
       "      <td>9897</td>\n",
       "      <td>44.0</td>\n",
       "      <td>7.0</td>\n",
       "      <td>6014.5</td>\n",
       "      <td>0.485146</td>\n",
       "      <td>637283.184475</td>\n",
       "      <td>4.235568e+06</td>\n",
       "      <td>0.0003</td>\n",
       "      <td>6014.5</td>\n",
       "      <td>240</td>\n",
       "      <td>POLYGON ((637131.393 4235533.672, 637252.034 4...</td>\n",
       "      <td>30</td>\n",
       "      <td>62</td>\n",
       "    </tr>\n",
       "    <tr>\n",
       "      <th>355</th>\n",
       "      <td>9667</td>\n",
       "      <td>43.0</td>\n",
       "      <td>7.0</td>\n",
       "      <td>6030.0</td>\n",
       "      <td>0.438646</td>\n",
       "      <td>637129.795586</td>\n",
       "      <td>4.235569e+06</td>\n",
       "      <td>0.0003</td>\n",
       "      <td>6030.0</td>\n",
       "      <td>70</td>\n",
       "      <td>POLYGON ((636971.876 4235654.314, 637092.518 4...</td>\n",
       "      <td>30</td>\n",
       "      <td>63</td>\n",
       "    </tr>\n",
       "    <tr>\n",
       "      <th>356</th>\n",
       "      <td>9666</td>\n",
       "      <td>43.0</td>\n",
       "      <td>6.0</td>\n",
       "      <td>6045.0</td>\n",
       "      <td>0.393646</td>\n",
       "      <td>636984.521427</td>\n",
       "      <td>4.235538e+06</td>\n",
       "      <td>0.0003</td>\n",
       "      <td>6045.0</td>\n",
       "      <td>230</td>\n",
       "      <td>POLYGON ((636851.234 4235494.797, 636971.876 4...</td>\n",
       "      <td>30</td>\n",
       "      <td>64</td>\n",
       "    </tr>\n",
       "    <tr>\n",
       "      <th>357</th>\n",
       "      <td>9436</td>\n",
       "      <td>42.0</td>\n",
       "      <td>6.0</td>\n",
       "      <td>6059.0</td>\n",
       "      <td>0.351646</td>\n",
       "      <td>636846.421332</td>\n",
       "      <td>4.235521e+06</td>\n",
       "      <td>0.0003</td>\n",
       "      <td>6059.0</td>\n",
       "      <td>50</td>\n",
       "      <td>POLYGON ((636691.718 4235615.438, 636812.359 4...</td>\n",
       "      <td>30</td>\n",
       "      <td>65</td>\n",
       "    </tr>\n",
       "    <tr>\n",
       "      <th>358</th>\n",
       "      <td>9435</td>\n",
       "      <td>42.0</td>\n",
       "      <td>5.0</td>\n",
       "      <td>6073.0</td>\n",
       "      <td>0.309646</td>\n",
       "      <td>636715.548497</td>\n",
       "      <td>4.235490e+06</td>\n",
       "      <td>0.0003</td>\n",
       "      <td>6073.0</td>\n",
       "      <td>230</td>\n",
       "      <td>POLYGON ((636571.076 4235455.922, 636691.718 4...</td>\n",
       "      <td>30</td>\n",
       "      <td>66</td>\n",
       "    </tr>\n",
       "  </tbody>\n",
       "</table>\n",
       "<p>358 rows × 13 columns</p>\n",
       "</div>"
      ],
      "text/plain": [
       "        node   row  column  index_righ          z        easting  \\\n",
       "reach                                                              \n",
       "1      21839  95.0   219.0       271.0  53.025775  670928.450650   \n",
       "2      21609  94.0   219.0       280.0  52.796051  670841.187393   \n",
       "3      21608  94.0   218.0       298.5  52.426051  670668.236881   \n",
       "4      21607  94.0   217.0       312.5  52.146051  670556.575302   \n",
       "5      21377  93.0   217.0       324.5  51.906051  670442.468974   \n",
       "...      ...   ...     ...         ...        ...            ...   \n",
       "354     9897  44.0     7.0      6014.5   0.485146  637283.184475   \n",
       "355     9667  43.0     7.0      6030.0   0.438646  637129.795586   \n",
       "356     9666  43.0     6.0      6045.0   0.393646  636984.521427   \n",
       "357     9436  42.0     6.0      6059.0   0.351646  636846.421332   \n",
       "358     9435  42.0     5.0      6073.0   0.309646  636715.548497   \n",
       "\n",
       "           northing   slope  Point_orde  length_m  \\\n",
       "reach                                               \n",
       "1      4.263284e+06  0.0020       271.0        50   \n",
       "2      4.263264e+06  0.0020       280.0       130   \n",
       "3      4.263210e+06  0.0020       298.5       240   \n",
       "4      4.263138e+06  0.0020       312.5        40   \n",
       "5      4.263109e+06  0.0020       324.5       200   \n",
       "...             ...     ...         ...       ...   \n",
       "354    4.235568e+06  0.0003      6014.5       240   \n",
       "355    4.235569e+06  0.0003      6030.0        70   \n",
       "356    4.235538e+06  0.0003      6045.0       230   \n",
       "357    4.235521e+06  0.0003      6059.0        50   \n",
       "358    4.235490e+06  0.0003      6073.0       230   \n",
       "\n",
       "                                                geometry  iseg  reach_new  \n",
       "reach                                                                      \n",
       "1      POLYGON ((670842.768 4263198.509, 670963.409 4...     1          1  \n",
       "2      POLYGON ((670683.251 4263319.151, 670803.892 4...     1          2  \n",
       "3      POLYGON ((670562.609 4263159.634, 670683.251 4...     1          3  \n",
       "4      POLYGON ((670441.968 4263000.117, 670562.609 4...     1          4  \n",
       "5      POLYGON ((670282.451 4263120.759, 670403.092 4...     1          5  \n",
       "...                                                  ...   ...        ...  \n",
       "354    POLYGON ((637131.393 4235533.672, 637252.034 4...    30         62  \n",
       "355    POLYGON ((636971.876 4235654.314, 637092.518 4...    30         63  \n",
       "356    POLYGON ((636851.234 4235494.797, 636971.876 4...    30         64  \n",
       "357    POLYGON ((636691.718 4235615.438, 636812.359 4...    30         65  \n",
       "358    POLYGON ((636571.076 4235455.922, 636691.718 4...    30         66  \n",
       "\n",
       "[358 rows x 13 columns]"
      ]
     },
     "execution_count": 44,
     "metadata": {},
     "output_type": "execute_result"
    }
   ],
   "source": [
    "xs_sfr"
   ]
  },
  {
   "cell_type": "code",
   "execution_count": 45,
   "metadata": {},
   "outputs": [],
   "source": [
    "# need to convert from meters/day to meters/month\n",
    "vertk = soilKs_array[grid_sfr.row, grid_sfr.column]*30\n",
    "strbd_thick = 1.5"
   ]
  },
  {
   "cell_type": "code",
   "execution_count": 46,
   "metadata": {},
   "outputs": [],
   "source": [
    "# find average stream width\n",
    "xswidth = XS8pt.iloc[:,np.arange(0,XS8pt.shape[1],2)]\n",
    "widths = xswidth.iloc[-1,:] - xswidth.iloc[0,:]\n",
    "avgwidth = np.mean(xswidth.iloc[-1,:] - xswidth.iloc[0,:])"
   ]
  },
  {
   "cell_type": "code",
   "execution_count": 47,
   "metadata": {},
   "outputs": [],
   "source": [
    "# lay, row, col, stage, cond, rbot\n",
    "grid_sfr\n",
    "cond = grid_sfr.length_m*avgwidth*vertk/strbd_thick\n",
    "# riv_spd = np.append(sfr_lay, [grid_sfr.row.values,grid_sfr.column.values,\n",
    "#           grid_sfr.z.values, cond,grid_sfr.z.values-1.5],axis=1)"
   ]
  },
  {
   "cell_type": "code",
   "execution_count": 48,
   "metadata": {},
   "outputs": [],
   "source": [
    "riv_spd = np.transpose(np.vstack([sfr_lay,grid_sfr.row.values,grid_sfr.column.values,\n",
    "          grid_sfr.z.values, cond,grid_sfr.z.values-1.5]))"
   ]
  },
  {
   "cell_type": "code",
   "execution_count": 49,
   "metadata": {},
   "outputs": [
    {
     "data": {
      "text/plain": [
       "{0: array([[ 1.00000000e+01,  9.40000000e+01,  2.18000000e+02,\n",
       "          5.30257754e+01,  4.88766985e+04,  5.15257754e+01],\n",
       "        [ 1.00000000e+01,  9.30000000e+01,  2.18000000e+02,\n",
       "          5.27960513e+01,  1.27079416e+05,  5.12960513e+01],\n",
       "        [ 1.00000000e+01,  9.30000000e+01,  2.17000000e+02,\n",
       "          5.24260513e+01,  2.34608153e+05,  5.09260513e+01],\n",
       "        ...,\n",
       "        [ 1.00000000e+01,  4.20000000e+01,  5.00000000e+00,\n",
       "          3.93645897e-01,  2.83485263e+05, -1.10635410e+00],\n",
       "        [ 1.00000000e+01,  4.10000000e+01,  5.00000000e+00,\n",
       "          3.51645897e-01,  6.16272310e+04, -1.14835410e+00],\n",
       "        [ 1.00000000e+01,  4.10000000e+01,  4.00000000e+00,\n",
       "          3.09645897e-01,  2.83485263e+05, -1.19035410e+00]])}"
      ]
     },
     "execution_count": 49,
     "metadata": {},
     "output_type": "execute_result"
    }
   ],
   "source": [
    "riv_dict = {0:riv_spd}\n",
    "riv_dict"
   ]
  },
  {
   "cell_type": "code",
   "execution_count": 50,
   "metadata": {},
   "outputs": [],
   "source": [
    "riv = flopy.modflow.ModflowRiv(model = m, stress_period_data=riv_dict)"
   ]
  },
  {
   "cell_type": "markdown",
   "metadata": {},
   "source": [
    "## Complex ibound"
   ]
  },
  {
   "cell_type": "markdown",
   "metadata": {},
   "source": [
    "### Define no flow cells based on elevation, informed by DWR cross sections and geologic maps of volcanic geology fingers leaving the mountains\n",
    "In general, the location of Michigan Bar is near the boundary where there is total volcanics to majority alluvium. However there is a major finger North and South of the Cosumnes River of andesititc conglomerate, sandstone, breccia"
   ]
  },
  {
   "cell_type": "code",
   "execution_count": 51,
   "metadata": {},
   "outputs": [
    {
     "data": {
      "text/plain": [
       "<matplotlib.image.AxesImage at 0x2424d2123a0>"
      ]
     },
     "execution_count": 51,
     "metadata": {},
     "output_type": "execute_result"
    },
    {
     "data": {
      "image/png": "[encoded data removed]",
      "text/plain": [
       "<Figure size 432x288 with 1 Axes>"
      ]
     },
     "metadata": {
      "needs_background": "light"
     },
     "output_type": "display_data"
    }
   ],
   "source": [
    "# Simplified ibound, only no flow cell if it is below the bottom of the Mehrten Formation\n",
    "# Specify no flow boundary based on rough approx of geology (upper basin volcanics)\n",
    "ibound = np.ones([nlay, nrow,ncol])\n",
    "strt = np.ones((nlay, nrow, ncol), dtype = np.float32)\n",
    "# The model should start in hydraulic connection\n",
    "strt[:,:,:] = np.mean(m.dis.top[:,:], axis = 0)\n",
    "\n",
    "cutoff_elev = 56\n",
    "ibound = ibound*(dem_data<cutoff_elev)\n",
    "\n",
    "plt.imshow(ibound[0,:,:])"
   ]
  },
  {
   "cell_type": "markdown",
   "metadata": {},
   "source": [
    "### Create a line bounding the noflow region to set the specified head boundary"
   ]
  },
  {
   "cell_type": "code",
   "execution_count": 52,
   "metadata": {},
   "outputs": [
    {
     "name": "stdout",
     "output_type": "stream",
     "text": [
      "[647. 607.]\n"
     ]
    }
   ],
   "source": [
    "import pprint\n",
    "from rasterio.features import shapes, rasterize\n",
    "\n",
    "# The function shapes from rasterio requires uint8 format\n",
    "ibound_line = ibound.astype(rasterio.uint8)\n",
    "out = shapes(ibound_line,connectivity = 8)\n",
    "alldata = list(out)\n",
    "\n",
    "# maxl = 0\n",
    "maxl = np.zeros(len(alldata))\n",
    "for i in np.arange(0,len(alldata)):\n",
    "    maxl[i] = len(alldata[i][0].get('coordinates')[0])\n",
    "#     if len(alldata[i][0].get('coordinates')[0])>maxl:\n",
    "#         maxl = len(alldata[i][0].get('coordinates')[0])\n",
    "#         ind = i\n",
    "# select the two longest linestring indexes (1st will be chunk down of divide (lower elevation) 2nd will chunk above (high elev))\n",
    "maxl1, maxl2 = np.where(maxl>np.mean(maxl))[0]\n",
    "print(maxl[maxl>np.mean(maxl)])"
   ]
  },
  {
   "cell_type": "code",
   "execution_count": 53,
   "metadata": {},
   "outputs": [
    {
     "data": {
      "text/plain": [
       "<flopy.utils.geometry.LineString at 0x2424ce2f5e0>"
      ]
     },
     "execution_count": 53,
     "metadata": {},
     "output_type": "execute_result"
    }
   ],
   "source": [
    "temp = alldata[maxl2][0].get('coordinates')[0]\n",
    "tl = LineString(temp)\n",
    "tl"
   ]
  },
  {
   "cell_type": "code",
   "execution_count": 54,
   "metadata": {},
   "outputs": [
    {
     "data": {
      "text/plain": [
       "(100, 230)"
      ]
     },
     "execution_count": 54,
     "metadata": {},
     "output_type": "execute_result"
    }
   ],
   "source": [
    "from shapely.ops import LineString, linemerge, polygonize, unary_union\n",
    "tl = LineString(temp)\n",
    "\n",
    "# Get the constant head or general head boundary after the no flow cells\n",
    "linerast = rasterio.features.rasterize([tl], out_shape = np.array((nrow,ncol)))\n",
    "# remove far east bound line\n",
    "linerast[:,ncol-1] = 0\n",
    "fix_bound = np.min(np.argwhere(linerast[0,:]==1))\n",
    "linerast[0,:] = 0\n",
    "linerast[0,fix_bound]\n",
    "np.shape(linerast)\n",
    "\n",
    "# ibound[0,linerast==1] = -1"
   ]
  },
  {
   "cell_type": "code",
   "execution_count": 55,
   "metadata": {},
   "outputs": [],
   "source": [
    "from shapely.ops import LineString, linemerge, polygonize, unary_union\n",
    "tl = LineString(temp)\n",
    "tu = unary_union(tl)\n",
    "poly = list(polygonize(tu))\n",
    "# Set the polygon/raster for the top layer, no buffer needed\n",
    "poly0 = poly[0].buffer(distance = 0)\n",
    "polyrast0 = rasterio.features.rasterize([poly0], out_shape = np.array((nrow,ncol)))\n",
    "# Set the polygon/raster for the top layer, slight buffer needed to expand geologic formation outward with depth as \n",
    "# naturally occurs\n",
    "poly1 = poly[0].buffer(distance = 13)\n",
    "polyrast1 = rasterio.features.rasterize([poly1], out_shape = np.array((nrow,ncol)))\n",
    "# Set the polygon/raster for the bottom layer, largest buffer needed\n",
    "poly2 = poly[0].buffer(distance = 17)\n",
    "polyrast2 = rasterio.features.rasterize([poly2], out_shape = np.array((nrow,ncol)))\n",
    "\n",
    "ibound = np.ones([nlay, nrow,ncol])\n",
    "# Need to decide whether all layers or just the top layer are affected by ibound from elevation\n",
    "# it is better to define the top layer with a simple dem>elevation check than the rasterize functins that isn't perfect\n",
    "# ibound[0,polyrast0==1] = 0\n",
    "# Need to decide whether all layers or just the top layer are affected by ibound from elevation\n",
    "ibound[-2,polyrast1==1] = 0\n",
    "# Need to decide whether all layers or just the top layer are affected by ibound from elevation\n",
    "ibound[-1,polyrast2==1] = 0\n",
    "\n",
    "# The bottom boundary has a dip of 1-2 degrees which is essentially a slope of 0.015 based on given cross section data\n",
    "# The layer thickness for TPROGS\n",
    "laythk = tprog_thick\n",
    "# It appeared shapely buffer is on the scale of kilometers\n",
    "run = (laythk/0.015)/1000\n",
    "run_const = run\n",
    "for i in np.arange(1,nlay-2):\n",
    "    # error saying poly[i] is not subscriptable\n",
    "    polyi = poly[0].buffer(distance = run)\n",
    "    polyrast = rasterio.features.rasterize([polyi], out_shape = np.array((nrow,ncol)))\n",
    "    # Need to decide whether all layers or just the top layer are affected by ibound from elevation\n",
    "    ibound[i,polyrast==1] = 0\n",
    "    run += run_const"
   ]
  },
  {
   "cell_type": "code",
   "execution_count": 56,
   "metadata": {},
   "outputs": [
    {
     "data": {
      "text/plain": [
       "<matplotlib.colorbar.Colorbar at 0x2424d227c10>"
      ]
     },
     "execution_count": 56,
     "metadata": {},
     "output_type": "execute_result"
    },
    {
     "data": {
      "image/png": "[encoded data removed]",
      "text/plain": [
       "<Figure size 432x288 with 2 Axes>"
      ]
     },
     "metadata": {
      "needs_background": "light"
     },
     "output_type": "display_data"
    }
   ],
   "source": [
    "# wherever the constant head/specified head bound is the cells need to be active\n",
    "ibound[0,dem_data>cutoff_elev] = 0\n",
    "ibound[0,linerast==1] = 1\n",
    "plt.imshow(ibound[0,:,:])\n",
    "plt.colorbar()"
   ]
  },
  {
   "cell_type": "code",
   "execution_count": 57,
   "metadata": {},
   "outputs": [],
   "source": [
    "# copy the ibound array to alter the geology array to set these cells as low permeability formations\n",
    "# either marine or volcanic based\n",
    "deep_geology = ibound[:,:,:]\n",
    "\n",
    "# reset ibound to all active cells to reduce non-linearity\n",
    "# still need to take account of no flow cells for lake package\n",
    "ibound = np.ones([nlay, nrow,ncol])"
   ]
  },
  {
   "cell_type": "markdown",
   "metadata": {},
   "source": [
    "### Remove no flow cells in the first layer where there are stream cells"
   ]
  },
  {
   "cell_type": "code",
   "execution_count": 58,
   "metadata": {},
   "outputs": [],
   "source": [
    "# Get indices of SFR cells\n",
    "sfr_x = grid_sfr.row.values.astype(int)\n",
    "sfr_y = grid_sfr.column.values.astype(int)\n",
    "sfr_z = sfr_lay.astype(int)\n",
    "# Check where SFR cells overlap the no flow cell array \n",
    "overlap = ibound[sfr_z, sfr_x, sfr_y]==0\n",
    "# Convert the cells that overlap from inactive to active cells\n",
    "ibound[sfr_z[overlap],sfr_x[overlap], sfr_y[overlap]] = 1\n",
    "# Check where SFR cells overlap the constant head cell array \n",
    "overlap = ibound[sfr_z, sfr_x, sfr_y]==-1\n",
    "# Convert the cells that overlap from inactive to active cells\n",
    "ibound[sfr_z[overlap],sfr_x[overlap], sfr_y[overlap]] = 1"
   ]
  },
  {
   "cell_type": "code",
   "execution_count": 59,
   "metadata": {},
   "outputs": [],
   "source": [
    "# where the specified head boundary is the cells must be active\n",
    "# ibound[0,chd_locs[0], chd_locs[1]] = -1"
   ]
  },
  {
   "cell_type": "code",
   "execution_count": 60,
   "metadata": {},
   "outputs": [
    {
     "data": {
      "image/png": "[encoded data removed]",
      "text/plain": [
       "<Figure size 720x720 with 2 Axes>"
      ]
     },
     "metadata": {
      "needs_background": "light"
     },
     "output_type": "display_data"
    }
   ],
   "source": [
    "fig, ax = plt.subplots(figsize = (10,10))\n",
    "# plt.imshow(ibound[0,:,:])\n",
    "plt.imshow(deep_geology[0,:,:])\n",
    "\n",
    "cbar = plt.colorbar(shrink = 0.4, ticks = np.arange(-1,2), values = np.arange(-1,2), spacing = 'proportional' )\n",
    "cbar.ax.set_yticklabels(np.array(('Constant head', 'No flow cell', 'Active Cell'), dtype = 'object' ))\n",
    "plt.savefig('Plots/Ibound_plot.png', dpi = 300)"
   ]
  },
  {
   "cell_type": "code",
   "execution_count": 61,
   "metadata": {},
   "outputs": [],
   "source": [
    "# Basic package, BAS\n",
    "\n",
    "# ibound < 0 is constant head\n",
    "# ibound = 0 is inactive cell\n",
    "# ibound > 0 is active cell\n",
    "# strt is array of starting heads\n",
    "bas = flopy.modflow.ModflowBas(model = m, ibound=ibound, strt = strt)"
   ]
  },
  {
   "cell_type": "code",
   "execution_count": 62,
   "metadata": {
    "scrolled": false
   },
   "outputs": [
    {
     "name": "stdout",
     "output_type": "stream",
     "text": [
      "\n",
      "BAS6 PACKAGE DATA VALIDATION:\n",
      "  No errors or warnings encountered.\n",
      "\n",
      "  Checks that passed:\n",
      "    isolated cells in ibound array\n",
      "    Not a number\n",
      "\n"
     ]
    },
    {
     "data": {
      "text/plain": [
       "<flopy.utils.check.check at 0x2424e9e38b0>"
      ]
     },
     "execution_count": 62,
     "metadata": {},
     "output_type": "execute_result"
    }
   ],
   "source": [
    "bas.check()\n"
   ]
  },
  {
   "cell_type": "markdown",
   "metadata": {},
   "source": [
    "\"When subsurface recharge (MBR2) is negligible,\n",
    "stream runoff at the mountain front (runoff measured at\n",
    "point B in Figure 1, or RO) may be considered the total\n",
    "contribution to MFR [Anderholm, 2000].\" (Wilson and Guan 2004)"
   ]
  },
  {
   "cell_type": "markdown",
   "metadata": {},
   "source": [
    "## Read in TPROGS data"
   ]
  },
  {
   "cell_type": "code",
   "execution_count": 63,
   "metadata": {},
   "outputs": [],
   "source": [
    "import scipy.io\n",
    "upw_dir = gwfm_dir + '/UPW_data'\n",
    "tprogs_dir = upw_dir + '/TPROGS_upscale_50_mat'\n",
    "# Units of K are m/d for both\n",
    "khmat = scipy.io.loadmat(tprogs_dir + '\\\\K_xy_Upscale_50')['Upscale_50']\n",
    "kvmat = scipy.io.loadmat(tprogs_dir + '\\\\Kz_Upscale_50')['Upscale_50']\n",
    "ssmat = scipy.io.loadmat(tprogs_dir + '\\\\Ss_Upscale_50')['Upscale_50']\n",
    "symat = scipy.io.loadmat(tprogs_dir + '\\\\Sy_Upscale_50')['Upscale_50']\n",
    "# Column 1 is nodes, number1 is the bottom left hand corner, x,y coords are the 2nd/3rd columns, the 4th columns\n",
    "# is the elevation of the center coordinate, the 5th is the water table elevation from Steve's model\n",
    "# CRS is albers 3310\n",
    "tcoords = pd.read_csv(tprogs_dir+'\\\\Center_coordinates_for_Andrew_July_2020.csv', \n",
    "                      header = None, names = ['Node', 'X','Y','elev','DTW'])\n",
    "gcoords = gpd.GeoDataFrame(tcoords, geometry = gpd.points_from_xy(tcoords.X, tcoords.Y))\n",
    "gcoords.crs = 'epsg:3310'\n",
    "# Switch from Albers crs to UTM Zone 10 with WGS84\n",
    "gcoords = gcoords.to_crs('epsg:32610')"
   ]
  },
  {
   "cell_type": "markdown",
   "metadata": {},
   "source": [
    "## Aquifer properties with LPF"
   ]
  },
  {
   "cell_type": "code",
   "execution_count": 64,
   "metadata": {
    "scrolled": true
   },
   "outputs": [],
   "source": [
    "from scipy.stats import hmean\n",
    "\n",
    "\n",
    "# Model homogeneous values for hydraulic properties based on averages from TPROGS\n",
    "hk = np.mean(khmat)\n",
    "layvka = 0 # 0 means vka is vert K, not 0 means vka is ratio of horiz to vert K\n",
    "vka = hmean(hmean(hmean(kvmat)))\n",
    "sy = np.mean(symat)\n",
    "ss = np.mean(ssmat)\n",
    "\n",
    "# LAYTYP MUST BE GREATER THAN ZERO WHEN IUZFOPT IS 2\n",
    "laytyp = 1 # 0 is confined, >0 convertible, <0 convertible unless the THICKSTRT option is in effect\n",
    "# Laywet must be 0 if laytyp is confined laywet = [1,1,1,1,1]\n",
    "#ipakcb = 53 means cell-by-cell budget is saved because it is non zero (default is 53)\n",
    "\n",
    "upw = flopy.modflow.ModflowUpw(model = m, hk =hk, layvka = layvka, vka = vka, sy=sy, ss=ss,\n",
    "                               laytyp=laytyp, ipakcb=53)"
   ]
  },
  {
   "cell_type": "code",
   "execution_count": 65,
   "metadata": {},
   "outputs": [],
   "source": [
    "from flopy.utils.gridintersect import GridIntersect\n",
    "\n",
    "def tprog2mf(arr, gcoords, lpf_arr):\n",
    "    # Reshape TPROGS format so it firts in the gcoords dataframe format\n",
    "    new = np.reshape(arr,[len(gcoords),arr.shape[2]])\n",
    "    # Put reshaped array into dataframe so it will merge\n",
    "    new = pd.DataFrame(new)\n",
    "    # Convert column names to strings so they're no errors when calling them\n",
    "    new.columns = new.columns.astype(str)\n",
    "    # Join the TPROGS data and their spatial references\n",
    "    gcoords_new = gcoords.join(new)\n",
    "    \n",
    "# Spatial join the grid and coordinates of TPROGS data because grid intersect is no longer working\n",
    "    merged = gpd.sjoin(grid_p, gcoords_new, op = 'intersects', how = 'inner')\n",
    "    \n",
    "    # there are two layers on the bottom without TPROGS data\n",
    "    for i in np.arange(0,nlay -2):\n",
    "        index = i\n",
    "        index = index.astype(str)\n",
    "        lpf_arr[i, merged.row.values-1 ,merged.column.values-1] = merged[index].values\n",
    "        \n",
    "    # Output the array that will then be set directly in lpf. hk or vka or sy or ss\n",
    "    return(lpf_arr)\n"
   ]
  },
  {
   "cell_type": "code",
   "execution_count": 66,
   "metadata": {},
   "outputs": [
    {
     "data": {
      "text/plain": [
       "0.8640000000000001"
      ]
     },
     "execution_count": 66,
     "metadata": {},
     "output_type": "execute_result"
    }
   ],
   "source": [
    "1e-5*86400\n"
   ]
  },
  {
   "cell_type": "markdown",
   "metadata": {},
   "source": [
    "The tuff breccia is very dense, hard and low water yielding. It is supposedly responsible for the many \"haystack\" hills in the eastern part of the county\n",
    "\n",
    "DWR report has a few final well pumping rates, drawdowns and specific capacities but limited.\n",
    "\n",
    "Fleckenstein et al. 2006 found the Mehrten had\n",
    "Kh = 1 to 1.8 x10^-5 m/s\n",
    "Kv = 1 to 1.8 x10^-7 m/s\n",
    "Sy = 0.15 to 0.2\n",
    "Ss = 1e-4 to 1e-3 m^-1"
   ]
  },
  {
   "cell_type": "code",
   "execution_count": 67,
   "metadata": {},
   "outputs": [
    {
     "name": "stdout",
     "output_type": "stream",
     "text": [
      "(12, 100, 230)\n"
     ]
    }
   ],
   "source": [
    "\n",
    "print(upw.hk.array.shape)\n",
    "def mehrten_hp(upw_array, hp_value):\n",
    "    temp = upw_array\n",
    "    temp[-1,:,:] = hp_value\n",
    "    return(temp)\n",
    "# convert hydr. cond. from m/s to m/d\n",
    "upw.hk = mehrten_hp(upw.hk.array, 1e-5*86400)\n",
    "upw.vka = mehrten_hp(upw.vka.array, 1e-7*86400)\n",
    "upw.sy = mehrten_hp(upw.sy.array, 0.15)\n",
    "upw.ss = mehrten_hp(upw.ss.array, 1e-4)\n"
   ]
  },
  {
   "cell_type": "markdown",
   "metadata": {},
   "source": [
    "## Define the volcanic/marine sediment geology as very low permeability"
   ]
  },
  {
   "cell_type": "code",
   "execution_count": 68,
   "metadata": {},
   "outputs": [],
   "source": [
    "# plt.imshow(-1*deep_geology[0,:,:]+1)\n",
    "# plt.colorbar()\n",
    "# convert to boolean values for referencing upw array\n",
    "deep_geology = deep_geology.astype(bool)\n",
    "# invert selection so previously set inactive cells will be selected to set deep geology\n",
    "deep_geology = np.invert(deep_geology)\n",
    "\n",
    "def deep_geo_hp(upw_array, hp_value, deep_geology):\n",
    "    temp = upw_array\n",
    "    temp[deep_geology] = hp_value\n",
    "    return(temp)\n",
    "\n",
    "# 1e-7 hydr. cond. is in the range of\n",
    "# sandstone: 10^-10 to 10^-6 and\n",
    "upw.hk = deep_geo_hp(upw.hk.array, 1e-7*86400*30, deep_geology)\n",
    "upw.vka = deep_geo_hp(upw.vka.array, 1e-9*86400*30, deep_geology)\n",
    "upw.sy = deep_geo_hp(upw.sy.array, 0.1, deep_geology)\n",
    "upw.ss = deep_geo_hp(upw.ss.array, 1e-6, deep_geology)"
   ]
  },
  {
   "cell_type": "markdown",
   "metadata": {},
   "source": [
    "## convert UPW package from m/day to m/month"
   ]
  },
  {
   "cell_type": "code",
   "execution_count": 69,
   "metadata": {},
   "outputs": [],
   "source": [
    "# test whether mehrten formation hk is less than 1 (should be 0.864)\n",
    "if upw.hk.array[-1,0,0]<=1:\n",
    "    upw.hk = upw.hk.array*30\n",
    "    upw.vka = upw.vka.array*30"
   ]
  },
  {
   "cell_type": "code",
   "execution_count": 70,
   "metadata": {},
   "outputs": [],
   "source": [
    "# upw.hk = tprog2mf(khmat, gcoords, upw.hk.array)\n",
    "# upw.vka = tprog2mf(kvmat, gcoords, upw.vka.array)\n",
    "# upw.ss = tprog2mf(ssmat, gcoords, upw.ss.array)\n",
    "# upw.sy = tprog2mf(symat, gcoords, upw.sy.array)\n"
   ]
  },
  {
   "cell_type": "markdown",
   "metadata": {},
   "source": [
    "## General head boundary representing Delta/Sea Level"
   ]
  },
  {
   "cell_type": "code",
   "execution_count": 71,
   "metadata": {},
   "outputs": [],
   "source": [
    "ghb = flopy.modflow.ModflowGhb(model = m)"
   ]
  },
  {
   "cell_type": "code",
   "execution_count": 72,
   "metadata": {},
   "outputs": [],
   "source": [
    "# head = dem_data[linerast==1]\n",
    "# find where the model boundary is actually less than 60 meters, not needed for a simple ibound\n",
    "# linerast[linerast==1]= linerast[linerast==1]*(head<60)"
   ]
  },
  {
   "cell_type": "code",
   "execution_count": 73,
   "metadata": {},
   "outputs": [],
   "source": [
    "# head = dem_data[linerast==1]\n",
    "# plt.plot(head)\n",
    "# headmin = np.min(dem_data[linerast==1])\n",
    "# # the smaller the weight, the less impact the minimum head has\n",
    "# ch_weight = 0.4\n",
    "# head = head*(1-ch_weight)+headmin*ch_weight\n",
    "# plt.plot(head)\n",
    "# plt.plot(headmin)"
   ]
  },
  {
   "cell_type": "code",
   "execution_count": 74,
   "metadata": {},
   "outputs": [],
   "source": [
    "# # Determine which layer the specified head cell is in\n",
    "# # since the if statement only checks whether the first layer is greater than the streambed elevation, \n",
    "# # otherwise it would be less than and zero (most should be in layer 0)\n",
    "# ghbne_lay = np.zeros(np.sum(linerast))\n",
    "\n",
    "# head = dem_data[linerast==1]\n",
    "# # scale back head a little to even out values\n",
    "# ch_weight = 0.3\n",
    "# head = np.min(head)*ch_weight+head*(1-ch_weight)\n",
    "\n",
    "# for k in np.arange(0,nlay-1):\n",
    "#     # pull out elevation of layer bottom\n",
    "#     lay_elev = botm[k, linerast==1]\n",
    "#     for i in np.arange(0,np.sum(linerast)):\n",
    "#         # want to compare if streambed is lower than the layer bottom\n",
    "#         # 1 will be subtracted from each z value to make sure it is lower than the model top in the upper reaches\n",
    "#         if lay_elev[i] > head[i]:\n",
    "#             ghbne_lay[i] = k+1\n",
    "\n"
   ]
  },
  {
   "cell_type": "markdown",
   "metadata": {},
   "source": [
    "## Northeast GHB boundary (specified head for mountain front recharge)"
   ]
  },
  {
   "cell_type": "code",
   "execution_count": 75,
   "metadata": {},
   "outputs": [],
   "source": [
    "# All of the rows and layers in the first column\n",
    "# Head of zero for Delta at sea level, distance based on approx distance to Sac/SJ Delta\n",
    "# Reduced from 5000 to 1000 meters to increase the forcing\n",
    "# nlay*nrow for the number of cells on the left face of the model, 5 for the parameters associated with the GHB\n",
    "# package: lay, row, col, stage, cond\n",
    "\n",
    "# nlay_ghb = 1\n",
    "\n",
    "# # # constant head boundary for mountain front recharge\n",
    "# ch_ind = np.where(linerast==1)\n",
    "\n",
    "# ghbup_spd = np.zeros((len(ch_ind[0]),5))\n",
    "\n",
    "# p = 0\n",
    "# distance = 100\n",
    "\n",
    "# # # head for mountain front recharge\n",
    "# ghbup_head = head\n",
    "\n",
    "\n",
    "# for i, j in zip(ch_ind[0], ch_ind[1]):\n",
    "#     cond = upw.hk.array[int(ghbne_lay[p]),int(i),int(j)]*(dis.top.array[i,j]-dis.botm.array[0,i,j])*delc/distance\n",
    "#     ghbup_spd[p] = [ghbne_lay[p], i, j, ghbup_head[p], cond]\n",
    "#     p+=1\n",
    "# print('Number of GHB cells for upland bound', p)"
   ]
  },
  {
   "cell_type": "code",
   "execution_count": 76,
   "metadata": {},
   "outputs": [],
   "source": [
    "# temp = bas.ibound.array\n",
    "\n",
    "# # lay, row, col, head, cond\n",
    "# k = ghbup_spd[:,0].astype(int)\n",
    "# i = ghbup_spd[:,1].astype(int)\n",
    "# j = ghbup_spd[:,2].astype(int)\n",
    "\n",
    "# temp[k,i,j]=1\n",
    "\n",
    "# bas.ibound = temp"
   ]
  },
  {
   "cell_type": "markdown",
   "metadata": {},
   "source": [
    "## Northwest and Southeast GHB boundaries based on historical WSEL"
   ]
  },
  {
   "cell_type": "code",
   "execution_count": 77,
   "metadata": {},
   "outputs": [],
   "source": [
    "# raster cropping will be done in outside script so the only part read in will be the final array\n",
    "ghb_dir = gwfm_dir+'/GHB_data'"
   ]
  },
  {
   "cell_type": "code",
   "execution_count": 78,
   "metadata": {},
   "outputs": [
    {
     "data": {
      "text/plain": [
       "'C:\\\\Users\\\\Ebenzer\\\\Box\\\\research_cosumnes\\\\GWFlowModel/GHB_data'"
      ]
     },
     "execution_count": 78,
     "metadata": {},
     "output_type": "execute_result"
    }
   ],
   "source": [
    "ghb_dir"
   ]
  },
  {
   "cell_type": "code",
   "execution_count": 79,
   "metadata": {},
   "outputs": [
    {
     "data": {
      "image/png": "[encoded data removed]",
      "text/plain": [
       "<Figure size 432x288 with 1 Axes>"
      ]
     },
     "metadata": {
      "needs_background": "light"
     },
     "output_type": "display_data"
    }
   ],
   "source": [
    "strtyear = 2013\n",
    "endyear = 2019\n",
    "kriged_all = np.zeros((int(endyear-strtyear),nrow,ncol))\n",
    "t=0\n",
    "for year in np.arange(strtyear,endyear):\n",
    "    filename = glob.glob(ghb_dir+'/final_WSEL_arrays/fall'+str(year)+'_kriged_WSEL.tsv')[0]\n",
    "    df_grid = np.loadtxt(filename)\n",
    "    kriged_all[t,:,:] = df_grid\n",
    "    t+=1\n",
    "    # northwest boundary is first row\n",
    "    NW = df_grid[0,:]\n",
    "    # southeast boundary is last row\n",
    "    SE = df_grid[-1,:]\n",
    "    plt.plot(NW, label = str(year)+' NW', linestyle = '--')\n",
    "    plt.plot(SE, label = str(year)+' SE')\n",
    "    # 2018 looks like a pretty average year for water elevations so will use that for now\n",
    "    if year ==2018:\n",
    "        nwhead = df_grid[0,:]\n",
    "        sehead = df_grid[-1,:]\n",
    "plt.plot(dem_data[0,:],label = 'NW dem')  \n",
    "plt.plot(dem_data[-1,:],label = 'SE dem')   \n",
    "\n",
    "plt.legend(loc = [1, 0])\n",
    "plt.savefig('Plots/historical_NW_SE_boundary_and_DEM.png',dpi = 600, bbox_inches='tight')\n",
    "#  need to correct aquifer levels in foothills to be below the dem_data"
   ]
  },
  {
   "cell_type": "markdown",
   "metadata": {},
   "source": [
    "## Set the starting heads based on historical dwr data"
   ]
  },
  {
   "cell_type": "code",
   "execution_count": 80,
   "metadata": {},
   "outputs": [],
   "source": [
    "# switch the starting heads from ground surface to match the kriged water surface elevation\n",
    "# this causes a -5 preconditioning error so didn't actually help\n",
    "# kriged_strt = np.zeros((nlay,nrow,ncol))\n",
    "# kriged_strt[:,:,:] = kriged_all[-1,:,:]\n",
    "# kriged_strt = np.where(kriged_strt>dem_data, dem_data, kriged_strt)\n",
    "# bas.strt = kriged_strt"
   ]
  },
  {
   "cell_type": "code",
   "execution_count": 81,
   "metadata": {},
   "outputs": [],
   "source": [
    "# Set kriged water table elevations that are above land surface to land surface\n",
    "nwhead = np.where(nwhead>dem_data[0,:], dem_data[0,:], nwhead)\n",
    "sehead = np.where(sehead>dem_data[0,:], dem_data[0,:], sehead)\n"
   ]
  },
  {
   "cell_type": "code",
   "execution_count": 82,
   "metadata": {},
   "outputs": [],
   "source": [
    "# Determine which layer the specified head cell is in\n",
    "# since the if statement only checks whether the first layer is greater than the streambed elevation, \n",
    "# otherwise it would be less than and zero (most should be in layer 0)\n",
    "nw_lay = np.zeros(ncol)\n",
    "se_lay = np.zeros(ncol)\n",
    "\n",
    "\n",
    "for k in np.arange(0,nlay-1):\n",
    "    # pull out elevation of layer bottom\n",
    "    lay_elevnw = botm[k, 0, :]\n",
    "    lay_elevse = botm[k, -1, :]\n",
    "    for j in np.arange(0,ncol):\n",
    "        if lay_elevnw[j] > nwhead[j]:\n",
    "            nw_lay[j] = k+2\n",
    "        if lay_elevse[j] > sehead[j]:\n",
    "            se_lay[j] = k+2\n",
    "# correct from float to integer for cell referencing\n",
    "nw_lay = nw_lay.astype(int)\n",
    "se_lay = se_lay.astype(int)"
   ]
  },
  {
   "cell_type": "code",
   "execution_count": 83,
   "metadata": {},
   "outputs": [
    {
     "name": "stdout",
     "output_type": "stream",
     "text": [
      "Number of GHB cells for NW and SE bound 3740\n"
     ]
    }
   ],
   "source": [
    "# package: lay, row, col, stage, cond\n",
    "# the northwest boundary is in the first row (0) and the southeast boundary is in the last row (nrow, -1)\n",
    "# number of layers to go below the first active GHB cell\n",
    "ghbnw_spd = np.zeros((np.sum(nlay-nw_lay),5))\n",
    "ghbse_spd = np.zeros((np.sum(nlay-se_lay),5))\n",
    "p1 = 0\n",
    "p2=0\n",
    "distance = 1000\n",
    "for j in np.arange(0,ncol):\n",
    "    \n",
    "    # iterate through northwest layers first to avoid setting dry cells\n",
    "#     if nw_lay[j]+nlay_senw >nlay:\n",
    "#         endlay = nlay\n",
    "#     else:\n",
    "#         endlay = nw_lay[j]+nlay_senw\n",
    "    for k in np.arange(nw_lay[j], nlay):\n",
    "        if k == 0:\n",
    "            condnw = upw.hk.array[k,int(nrow-1),j]*(dis.top.array[0,j]-dis.botm.array[k,0,j])*delr/distance\n",
    "        else:\n",
    "            condnw = upw.hk.array[k,int(nrow-1),j]*(dis.botm.array[k-1, 0,j]-dis.botm.array[k,0,j])*delr/distance\n",
    "        # take off 0.1 meter in head for each layer drop to support a slight vertical gradient\n",
    "        ghbnw_spd[p1] = [k, 0, j, nwhead[j]-k*0.1, condnw]\n",
    "        p1+=1\n",
    "#     if se_lay[j]+nlay_senw >nlay:\n",
    "#         endlay = nlay\n",
    "#     else:\n",
    "#         endlay = se_lay[j]+nlay_senw\n",
    "    # iterate through southeast layers to avoid setting dry cells\n",
    "    for k in np.arange(se_lay[j], nlay):\n",
    "        if k == 0:\n",
    "            condse = upw.hk.array[k,int(nrow-1),j]*(dis.top.array[-1,j]-dis.botm.array[k,-1,j])*delr/distance\n",
    "        else:\n",
    "            condse = upw.hk.array[k,int(nrow-1),j]*(dis.botm.array[k-1, -1,j]-dis.botm.array[k,-1,j])*delr/distance\n",
    "        # take off 0.1 meter in head for each layer drop to support a slight vertical gradient\n",
    "        ghbse_spd[p2] = [k, nrow-1, j, sehead[j]-k*0.1, condse]\n",
    "        p2+=1\n",
    "print('Number of GHB cells for NW and SE bound', p1+p2)"
   ]
  },
  {
   "cell_type": "markdown",
   "metadata": {},
   "source": [
    "## Southwest GHB boundary (specified head for outflow to the Delta)"
   ]
  },
  {
   "cell_type": "markdown",
   "metadata": {},
   "source": [
    "How much would the expected head gradient be near the delta, how fast would head decrease with depth.\n",
    "Perhaps it would only go down a few meters for every layer"
   ]
  },
  {
   "cell_type": "code",
   "execution_count": 84,
   "metadata": {},
   "outputs": [
    {
     "name": "stdout",
     "output_type": "stream",
     "text": [
      "Number of GHB cells for Delta bound 600\n"
     ]
    }
   ],
   "source": [
    "# model north east boundary to replace constant head\n",
    "# package: lay, row, col, stage, cond\n",
    "\n",
    "# nlay_ghb = nlay\n",
    "# nlay_ghb = int(nlay/4)\n",
    "nlay_ghb = 6\n",
    "\n",
    "ghbdn_spd = np.zeros((nlay_ghb*nrow,5))\n",
    "# Fine sand\t2×10-7 to 2×10-4 m/s\n",
    "# Silt, loess\t1×10-9 to 2×10-5 m/s\n",
    "# delta soils have some sand mixed in\n",
    "delta_hk = 1e-5*86400*30\n",
    "\n",
    "p = 0\n",
    "distance = 5000\n",
    "for i in np.arange(0,nrow):\n",
    "    for k in np.arange(0,nlay_ghb):\n",
    "        if k == 0:\n",
    "#             cond = upw.hk.array[k,i,0]*(dis.top.array[i,1]-dis.botm.array[k,i,1])*delc/distance\n",
    "            cond = delta_hk*(dis.top.array[i,1]-dis.botm.array[k,i,1])*delc/distance\n",
    "        else:\n",
    "#             cond = upw.hk.array[k,i,0]*(dis.botm.array[k-1, i,1]-dis.botm.array[k,i,1])*delc/distance\n",
    "            cond = delta_hk*(dis.botm.array[k-1, i,1]-dis.botm.array[k,i,1])*delc/distance\n",
    "        # take off 0.1 meter in head for each layer drop to support a slight vertical gradient\n",
    "        ghbdn_spd[p] = [k, i, 0, 0-k*0.1, cond]\n",
    "        p+=1\n",
    "print('Number of GHB cells for Delta bound', p)"
   ]
  },
  {
   "cell_type": "code",
   "execution_count": 85,
   "metadata": {},
   "outputs": [],
   "source": [
    "# (botm[0:nlay_ghb,:,0]<0).shape\n",
    "# botm[ghbdn_spd[:,:3].astype(int)].shape"
   ]
  },
  {
   "cell_type": "code",
   "execution_count": 86,
   "metadata": {},
   "outputs": [],
   "source": [
    "# lay, row, col for delta ghb\n",
    "zxy = ghbdn_spd[:,:3].astype(int)\n",
    "# (botm[zxy[:,0],zxy[:,1],zxy[:,2]]<0).shape\n",
    "# drop any delta ghb cells where cell bottom is below sea level\n",
    "ghbdn_spd =  ghbdn_spd[botm[zxy[:,0],zxy[:,1],zxy[:,2]]<0]\n",
    "\n"
   ]
  },
  {
   "cell_type": "code",
   "execution_count": 87,
   "metadata": {},
   "outputs": [],
   "source": [
    "# ghb_spd = np.vstack((ghbdn_spd, ghbup_spd))\n",
    "ghb_spd = np.vstack((ghbdn_spd, ghbse_spd, ghbnw_spd))\n",
    "# ghb_spd = np.vstack((ghbdn_spd, ghbup_spd, ghbse_spd, ghbnw_spd))\n"
   ]
  },
  {
   "cell_type": "code",
   "execution_count": 88,
   "metadata": {},
   "outputs": [],
   "source": [
    "# lay, row, col, head, cond\n",
    "k = ghb_spd[:,0].astype(int)\n",
    "i = ghb_spd[:,1].astype(int)\n",
    "j = ghb_spd[:,2].astype(int)\n",
    "\n",
    "# find where the ghb overlaps with the no flow cells\n",
    "active_bc =bas.ibound.array[k,i,j]\n",
    "# ghb_spd = ghb_spd[active_bc.astype(bool)]"
   ]
  },
  {
   "cell_type": "code",
   "execution_count": 89,
   "metadata": {},
   "outputs": [],
   "source": [
    "ghb_spd = ghb_spd[:][active_bc.astype(bool)]"
   ]
  },
  {
   "cell_type": "code",
   "execution_count": 90,
   "metadata": {},
   "outputs": [],
   "source": [
    "\n",
    "# GHB for east and west model boundaries\n",
    "ghb.stress_period_data =  {0: ghb_spd}\n",
    "# GHB for only Delta, west side of model\n",
    "# ghb.stress_period_data =  {0: ghbdn_spd}"
   ]
  },
  {
   "cell_type": "code",
   "execution_count": 91,
   "metadata": {},
   "outputs": [
    {
     "name": "stdout",
     "output_type": "stream",
     "text": [
      "\n",
      "GHB PACKAGE DATA VALIDATION:\n",
      "  No errors or warnings encountered.\n",
      "\n",
      "  Checks that passed:\n",
      "    BC indices valid\n",
      "    not a number (Nan) entries\n",
      "    BC in inactive cells\n",
      "    BC elevation below cell bottom\n",
      "\n"
     ]
    },
    {
     "data": {
      "text/plain": [
       "<flopy.utils.check.check at 0x2424d223bb0>"
      ]
     },
     "execution_count": 91,
     "metadata": {},
     "output_type": "execute_result"
    }
   ],
   "source": [
    "ghb.check()"
   ]
  },
  {
   "cell_type": "markdown",
   "metadata": {},
   "source": [
    "## CHD Package Time variant head"
   ]
  },
  {
   "cell_type": "code",
   "execution_count": 92,
   "metadata": {},
   "outputs": [],
   "source": [
    "chd = flopy.modflow.ModflowChd(model=m)"
   ]
  },
  {
   "cell_type": "code",
   "execution_count": 93,
   "metadata": {},
   "outputs": [],
   "source": [
    "# Determine which layer the specified head cell is in\n",
    "# since the if statement only checks whether the first layer is greater than the streambed elevation, \n",
    "# otherwise it would be less than and zero (most should be in layer 0)\n",
    "chd_lay = np.zeros(nrow)\n",
    "\n",
    "head = dem_data[:,ncol-1]\n",
    "headmin = np.min(head)\n",
    "ch_weight = 0.9\n",
    "chd_vals = head*(1-ch_weight)+headmin*ch_weight\n",
    "\n",
    "\n",
    "\n",
    "for k in np.arange(0,nlay-1):\n",
    "    # pull out elevation of layer bottom\n",
    "    lay_elev = botm[k, :, ncol-1]\n",
    "    for i in np.arange(0,nrow):\n",
    "        # want to compare if streambed is lower than the layer bottom\n",
    "        # 1 will be subtracted from each z value to make sure it is lower than the model top in the upper reaches\n",
    "        if lay_elev[i] > chd_vals[i]:\n",
    "            chd_lay[i] = k\n",
    "\n"
   ]
  },
  {
   "cell_type": "code",
   "execution_count": 94,
   "metadata": {},
   "outputs": [
    {
     "name": "stdout",
     "output_type": "stream",
     "text": [
      "Number of CHD cells for upland bound 950\n"
     ]
    }
   ],
   "source": [
    "# layer (int), row (int), column (int), shead (float), ehead (float) shead is the head at the\n",
    "# start of the stress period, and ehead is the head at the end of the stress period\n",
    "# nlay_ghb = 1\n",
    "\n",
    "# constant head boundary for mountain front recharge\n",
    "# assume that near the mountains the head should be at the surface becaues the aquifer is thin\n",
    "\n",
    "# new specified head boundary will be linear at the uppermost column to reduce nonlinearity\n",
    "# as the no flow cells will be removed and replaced with low hydraulic conductivity cells\n",
    "\n",
    "# chd_spd = np.zeros((len(chd_locs[0]),5))\n",
    "chd_spd = np.zeros((int(np.sum((nlay-chd_lay))),5))\n",
    "\n",
    "# # head for mountain front recharge\n",
    "shead = chd_vals\n",
    "ehead = chd_vals\n",
    "p=0\n",
    "for i in np.arange(0,nrow):\n",
    "    for k in np.arange(0,nlay-chd_lay[i]):\n",
    "        chd_spd[p] = [int(chd_lay[i]+k), i, ncol-1, shead[i], ehead[i]]\n",
    "        p+=1\n",
    "print('Number of CHD cells for upland bound', p)\n",
    "\n",
    "# p = 0\n",
    "# # head for mountain front recharge\n",
    "# shead = head\n",
    "# ehead = head\n",
    "\n",
    "# for i, j in zip(chd_locs[0], chd_locs[1]):\n",
    "#     chd_spd[p] = [0, i, j, shead[p], ehead[p]]\n",
    "#     p+=1\n",
    "# print('Number of CHD cells for upland bound', p)\n"
   ]
  },
  {
   "cell_type": "code",
   "execution_count": 95,
   "metadata": {},
   "outputs": [
    {
     "data": {
      "text/plain": [
       "[<matplotlib.lines.Line2D at 0x2424d4978b0>]"
      ]
     },
     "execution_count": 95,
     "metadata": {},
     "output_type": "execute_result"
    },
    {
     "data": {
      "image/png": "[encoded data removed]",
      "text/plain": [
       "<Figure size 432x288 with 1 Axes>"
      ]
     },
     "metadata": {
      "needs_background": "light"
     },
     "output_type": "display_data"
    }
   ],
   "source": [
    "plt.plot(chd_vals)"
   ]
  },
  {
   "cell_type": "code",
   "execution_count": 96,
   "metadata": {},
   "outputs": [],
   "source": [
    "chd.stress_period_data =  {0: chd_spd}"
   ]
  },
  {
   "cell_type": "code",
   "execution_count": 97,
   "metadata": {},
   "outputs": [
    {
     "name": "stdout",
     "output_type": "stream",
     "text": [
      "\n",
      "CHD PACKAGE DATA VALIDATION:\n",
      "  No errors or warnings encountered.\n",
      "\n",
      "  Checks that passed:\n",
      "    BC indices valid\n",
      "    not a number (Nan) entries\n",
      "    BC in inactive cells\n",
      "\n"
     ]
    },
    {
     "data": {
      "text/plain": [
       "<flopy.utils.check.check at 0x2424d4b51f0>"
      ]
     },
     "execution_count": 97,
     "metadata": {},
     "output_type": "execute_result"
    }
   ],
   "source": [
    "chd.check()"
   ]
  },
  {
   "cell_type": "markdown",
   "metadata": {},
   "source": [
    "The code that originally imported the state soil map data was moved up above to be readily applicable to the LAK package and SFR package. gpd_mb and grid_uzf are created above"
   ]
  },
  {
   "cell_type": "markdown",
   "metadata": {},
   "source": [
    "###  ETo and Precip"
   ]
  },
  {
   "cell_type": "code",
   "execution_count": 98,
   "metadata": {},
   "outputs": [
    {
     "data": {
      "text/plain": [
       "(9, 9)"
      ]
     },
     "execution_count": 98,
     "metadata": {},
     "output_type": "execute_result"
    }
   ],
   "source": [
    "## Potential ETo spatial interpolation from CIMIS\n",
    "monthly_data = pd.read_csv(uzf_path+'\\\\Cosumnes_monthly_ET_precip_2000_01_to_2019_12.csv',index_col = ['Month Year'], parse_dates = True)\n",
    "\n",
    "coords = pd.read_csv(uzf_path+'\\\\CIMIS_station_lat_long.csv', index_col = 0)\n",
    "crs_ll = pyproj.CRS(\"epsg:4326\")\n",
    "crs_utm = pyproj.CRS(\"epsg:32610\")\n",
    "transformer = pyproj.Transformer.from_crs(crs_ll, crs_utm, always_xy = True)\n",
    "# Convert WGS Lat and long to Easting and Northing in Zone 10N\n",
    "coords['East'], coords['North']  = transformer.transform(coords.Long.values, coords.Lat.values)\n",
    "coords = gpd.GeoDataFrame(coords, geometry = gpd.points_from_xy(coords.East, coords.North))\n",
    "\n",
    "# clean up data so columns are by location, units of ETo are in mm\n",
    "ET = monthly_data.pivot_table(index = 'Month Year', columns = ['Stn Id', 'Stn Name', 'CIMIS Region'], values = 'Total ETo (mm)')\n",
    "ET.iloc[-1:-10:-1].values.shape\n",
    "\n",
    "# clean up data so columns are by location, units of Precip are in mm\n",
    "rain = monthly_data.pivot_table(index = 'Month Year', columns = ['Stn Id', 'Stn Name', 'CIMIS Region'], values = 'Total Precip (mm)')\n",
    "rain.iloc[-1:-10:-1].values.shape\n",
    "# there are quite a few days missing rainfall at one station, could generally assume those are zero rain days"
   ]
  },
  {
   "cell_type": "code",
   "execution_count": 99,
   "metadata": {},
   "outputs": [],
   "source": [
    "# monthly_data['Total Precip (mm)']."
   ]
  },
  {
   "cell_type": "code",
   "execution_count": 100,
   "metadata": {},
   "outputs": [],
   "source": [
    "# The upper cosumnes water shed covers 2,459.98 km^2 from i5 to \n",
    "# roughly cut in half for 1250 for upper watershed\n"
   ]
  },
  {
   "cell_type": "code",
   "execution_count": 101,
   "metadata": {},
   "outputs": [],
   "source": [
    "# mtft = rain.resample('A').sum().filter(like = 'Sierra Foothill')/1000\n",
    "# # multiply rainfall by upper watershed area in sq. m\n",
    "# mtft*1250*(1000**2)/365"
   ]
  },
  {
   "cell_type": "markdown",
   "metadata": {},
   "source": [
    "# Need to fix missing rainfall/ET data\n",
    "temporary fix for now is to set any missing data to zero"
   ]
  },
  {
   "cell_type": "code",
   "execution_count": 102,
   "metadata": {},
   "outputs": [
    {
     "data": {
      "text/plain": [
       "<matplotlib.axes._subplots.AxesSubplot at 0x2424e6a9580>"
      ]
     },
     "execution_count": 102,
     "metadata": {},
     "output_type": "execute_result"
    },
    {
     "data": {
      "image/png": "[encoded data removed]",
      "text/plain": [
       "<Figure size 432x288 with 1 Axes>"
      ]
     },
     "metadata": {
      "needs_background": "light"
     },
     "output_type": "display_data"
    },
    {
     "data": {
      "image/png": "[encoded data removed]",
      "text/plain": [
       "<Figure size 432x288 with 1 Axes>"
      ]
     },
     "metadata": {
      "needs_background": "light"
     },
     "output_type": "display_data"
    }
   ],
   "source": [
    "# rain.loc[rain.index > '2018-01-01'].iloc[34:40]\n",
    "# Check on missing rain data, Ryde, Holt, and Staten Island aren't installed until 2015... need to find more stations\n",
    "rain.groupby(rain.index.year).count().plot()\n",
    "\n",
    "# Same situation for ET\n",
    "ET.groupby(rain.index.year).count().plot()"
   ]
  },
  {
   "cell_type": "code",
   "execution_count": 103,
   "metadata": {},
   "outputs": [],
   "source": [
    "# code will need to be removed and the data actually fixed\n",
    "rain = rain.fillna(0)\n",
    "ET = ET.fillna(0)"
   ]
  },
  {
   "cell_type": "code",
   "execution_count": 104,
   "metadata": {},
   "outputs": [],
   "source": [
    "ncell = nrow*ncol\n",
    "\n",
    "# Filter ET, precip data for the strt_date and end_date of the model stress periods\n",
    "ET_spd = ET.loc[strt_date:end_date]\n",
    "rain_spd = rain.loc[strt_date:end_date]\n",
    "\n",
    "# Get the xy cell centers for the model grid\n",
    "xy = np.append(mg.xyzcellcenters[0],mg.xyzcellcenters[1], axis = 0)\n",
    "# reshape the xy data\n",
    "out_xy = np.transpose(np.vstack([np.reshape(xy[0:nrow], ncell),np.reshape(xy[nrow:],ncell)]))\n",
    "out_xy.shape, xy.shape\n",
    "# out_xy\n",
    "\n",
    "from scipy.interpolate import griddata\n",
    "in_xy = np.transpose(np.vstack([coords.East.values, coords.North.values]))\n",
    "# Final reshaped array of interpolated ET\n",
    "ET_final = np.zeros((len(ET_spd), nrow, ncol))\n",
    "rain_final = np.zeros((len(rain_spd), nrow, ncol))\n",
    "\n",
    "for i in np.arange(0,len(ET_spd)):\n",
    "    ET_grid = griddata(in_xy, ET_spd.iloc[i].values, xi = out_xy, method = 'cubic')\n",
    "    ET_final[i,:,:] = np.reshape(ET_grid, (nrow,ncol))\n",
    "    rain_grid = griddata(in_xy, rain_spd.iloc[i].values, xi = out_xy, method = 'cubic')\n",
    "    rain_final[i,:,:] = np.reshape(rain_grid, (nrow,ncol))\n",
    "\n",
    "# plt.imshow(test)\n",
    "# plt.colorbar()\n",
    "\n",
    "# plt.savefig('Plots/Model_SFR_UZF_Progress/ETo distribution in mm_day.png', dpi = 300)"
   ]
  },
  {
   "cell_type": "code",
   "execution_count": 105,
   "metadata": {},
   "outputs": [],
   "source": [
    "# convert from unis of mm to meters\n",
    "rain_final = rain_final/1000\n",
    "ET_final = ET_final/1000\n",
    "# correct for any interpolated values that set rainfall to less than 0\n",
    "rain_final[rain_final<0] = 0"
   ]
  },
  {
   "cell_type": "code",
   "execution_count": 106,
   "metadata": {},
   "outputs": [
    {
     "data": {
      "image/png": "[encoded data removed]",
      "text/plain": [
       "<Figure size 720x720 with 31 Axes>"
      ]
     },
     "metadata": {
      "needs_background": "light"
     },
     "output_type": "display_data"
    }
   ],
   "source": [
    "fig,ax = plt.subplots(nrows = 6, ncols = 5, figsize=(10,10),sharex=True, sharey=True)\n",
    "p=0\n",
    "for i in np.arange(0,6):\n",
    "    for j in np.arange(0,5):\n",
    "        im = ax[i,j].imshow(rain_final[p,:,:])\n",
    "        p+=1\n",
    "# plt.colorbar()\n",
    "fig.suptitle('Monthly Interpolated Rainfall(m)', fontsize=20)\n",
    "fig.tight_layout(pad = 0.4, h_pad = -1, w_pad= 1)\n",
    "fig.colorbar(im,ax=ax, shrink = 0.7)\n",
    "\n",
    "plt.show()"
   ]
  },
  {
   "cell_type": "code",
   "execution_count": 107,
   "metadata": {},
   "outputs": [
    {
     "data": {
      "text/plain": [
       "0"
      ]
     },
     "execution_count": 107,
     "metadata": {},
     "output_type": "execute_result"
    },
    {
     "data": {
      "image/png": "[encoded data removed]",
      "text/plain": [
       "<Figure size 432x288 with 1 Axes>"
      ]
     },
     "metadata": {
      "needs_background": "light"
     },
     "output_type": "display_data"
    }
   ],
   "source": [
    "np.histogram(np.isnan(rain_final))\n",
    "# there are still 920,000 cells with nans\n",
    "monthly_domain_avg = np.mean(rain_final, axis = (1,2))\n",
    "plt.plot(monthly_domain_avg)\n",
    "np.sum(np.isnan(monthly_domain_avg))\n",
    "# there are 40 days without data, but are mostly late summer so it should be okay to count as zeros for now"
   ]
  },
  {
   "cell_type": "code",
   "execution_count": 108,
   "metadata": {},
   "outputs": [],
   "source": [
    "# The vertical saturated hydraulic conductivity is well above the monthly total rainfall so it wouldn't limit\n",
    "# the infiltration rate"
   ]
  },
  {
   "cell_type": "code",
   "execution_count": 109,
   "metadata": {},
   "outputs": [
    {
     "data": {
      "text/plain": [
       "array([-0.17760285, -0.16806463, -0.12657755, -0.10124782,  0.06552081,\n",
       "       -0.04098477,  0.12988191, -0.06190703,  0.04470605, -0.08594193,\n",
       "       -0.15458586, -0.19932822, -0.19335491, -0.15813552, -0.13683793,\n",
       "       -0.09748561,  0.03159458,  0.04096721,  0.0946441 ,  0.13628536,\n",
       "        0.00041757, -0.09290087, -0.03528169, -0.19265101, -0.20604155,\n",
       "       -0.18465366, -0.12165997, -0.10267728, -0.03259451,  0.07355738])"
      ]
     },
     "execution_count": 109,
     "metadata": {},
     "output_type": "execute_result"
    }
   ],
   "source": [
    "# final calculation for RCH package\n",
    "\n",
    "net_inf = rain_final - ET_final\n",
    "# assuming there is irrigation to make up lack of rainfall\n",
    "# net_inf should never be less than zero\n",
    "np.mean(net_inf, axis = (1,2))\n",
    "\n",
    "# net_inf = np.where(net_inf<0, 0, net_inf)\n"
   ]
  },
  {
   "cell_type": "code",
   "execution_count": null,
   "metadata": {},
   "outputs": [],
   "source": []
  },
  {
   "cell_type": "code",
   "execution_count": 110,
   "metadata": {},
   "outputs": [],
   "source": [
    "# # rates are in meters per day\n",
    "# soilKs = np.loadtxt(gwfm_dir+'/UZF_data/final_soilKs.tsv')\n",
    "# maxinf = np.zeros((nper,nrow,ncol))\n",
    "# for t in np.arange(0,nper):\n",
    "#     maxinf[t,:,:] = nstp[t]*soilKs\n",
    "# none of the rainfall rates are greater than the max infiltration rate\n",
    "# adj_inf = np.where(net_inf>maxinf, maxinf, net_inf)\n",
    "# inf_big = np.where(net_inf>maxinf, 1, 0)"
   ]
  },
  {
   "cell_type": "code",
   "execution_count": 111,
   "metadata": {},
   "outputs": [],
   "source": [
    "# add an empty array for the first blank stress period\n",
    "# net_inf = np.vstack((np.zeros((1,nrow,ncol)),net_inf))"
   ]
  },
  {
   "cell_type": "code",
   "execution_count": 112,
   "metadata": {},
   "outputs": [],
   "source": [
    "# have transient recharge start after the 1st spd\n",
    "rech_spd = { (j): net_inf[j-1,:,:] for j in np.arange(1,nper)}"
   ]
  },
  {
   "cell_type": "code",
   "execution_count": 113,
   "metadata": {},
   "outputs": [],
   "source": [
    "# nrchop = 3, to highest active cell\n",
    "rch =flopy.modflow.ModflowRch(model = m, nrchop=3, rech = rech_spd)"
   ]
  },
  {
   "cell_type": "markdown",
   "metadata": {},
   "source": [
    "## Well Package\n"
   ]
  },
  {
   "cell_type": "markdown",
   "metadata": {},
   "source": [
    "each township range section is 36 square miles split into 36 sections\n",
    "so each is roughly 1 sq mile 2.6 square km "
   ]
  },
  {
   "cell_type": "code",
   "execution_count": 114,
   "metadata": {},
   "outputs": [],
   "source": [
    "wells = pd.read_csv(gwfm_dir+'/WEL_data/all_wells_type.csv')\n",
    "wells_grid = gpd.GeoDataFrame(wells, geometry = gpd.points_from_xy(wells.easting,wells.northing), crs = 'epsg:32610')"
   ]
  },
  {
   "cell_type": "code",
   "execution_count": 115,
   "metadata": {},
   "outputs": [],
   "source": [
    "# Location of wells in lat lon\n",
    "# the wells are numbered from 0 to 3, 0 = domestic, 1 = irrigation, 2 = municipal, 3 = industrial\n",
    "# wells = pd.read_csv(gwfm_dir+'/WEL_data/final_wcr_list_welluse.csv')\n",
    "# wells"
   ]
  },
  {
   "cell_type": "code",
   "execution_count": 116,
   "metadata": {},
   "outputs": [],
   "source": [
    "# make a geopandas dataframe with lat long\n",
    "from geopandas import GeoDataFrame\n",
    "from shapely.geometry import Point\n",
    "\n",
    "geometry = [Point(xy) for xy in zip(wells.Longitude, wells.Latitude)]\n",
    "df = wells.drop(['Longitude', 'Latitude'], axis=1)\n",
    "wells_gdf = GeoDataFrame(df, crs=\"EPSG:4326\", geometry=geometry)\n"
   ]
  },
  {
   "cell_type": "code",
   "execution_count": 117,
   "metadata": {},
   "outputs": [
    {
     "data": {
      "text/plain": [
       "<matplotlib.axes._subplots.AxesSubplot at 0x2f894f06c10>"
      ]
     },
     "execution_count": 117,
     "metadata": {},
     "output_type": "execute_result"
    },
    {
     "data": {
      "image/png": "[encoded data removed]",
      "text/plain": [
       "<Figure size 432x288 with 1 Axes>"
      ]
     },
     "metadata": {
      "needs_background": "light"
     },
     "output_type": "display_data"
    },
    {
     "data": {
      "image/png": "[encoded data removed]",
      "text/plain": [
       "<Figure size 432x288 with 1 Axes>"
      ]
     },
     "metadata": {
      "needs_background": "light"
     },
     "output_type": "display_data"
    }
   ],
   "source": [
    "fig, ax = plt.subplots()\n",
    "# make well locations into correct coordinate system\n",
    "wells_crs = wells_gdf.to_crs('epsg:32610')\n",
    "wells_grid.plot(color = 'red',alpha = 0.5)\n",
    "wells_crs.plot(ax=ax)\n",
    "grid_p.plot(ax=ax)\n",
    "#wells_crs"
   ]
  },
  {
   "cell_type": "code",
   "execution_count": 118,
   "metadata": {},
   "outputs": [],
   "source": [
    "# Conduct spatial join using the intersect of two datasets\n",
    "# ISSUE here with losing some of the wells\n",
    "# wells_grid = gpd.sjoin(wells_crs, grid_p, how = \"left\", op= \"intersects\")\n",
    "# wells_grid.row.isna().sum()"
   ]
  },
  {
   "cell_type": "code",
   "execution_count": 119,
   "metadata": {},
   "outputs": [],
   "source": [
    "# wells_grid['depth'] = 0\n",
    "wells_grid['flux'] = 0\n",
    "wells_grid['layer'] = 0"
   ]
  },
  {
   "cell_type": "code",
   "execution_count": 120,
   "metadata": {},
   "outputs": [],
   "source": [
    "# gpm to m^3/day, standard pumping rate is 500-1500 gpm for agricultural wells avg of 1000, maybe should be a bit lower\n",
    "# that's assuming it's run 24 hours a day, they are probably usually only run for a few hours each day?\n",
    "# 1000 gpm * (1 ft^3/ 7.48 gal) (ft^3/m^3)*60 min hour* 6 hours in a day* 30 days\n",
    "\n",
    "irrig_flux = 1000*(1/7.48)*(0.3048**3)*60*6*30\n",
    "\n",
    "public_flux = 1500*(1/7.48)*(0.3048**3)*60*24*30\n",
    "\n",
    "# averge pumping rate of domestic wells is 10-100 gpm, typically on the lower end and \n",
    "# should end up being around 50 gal/person a day and average 3 people is 150 gal/day\n",
    "# 10 gpm * (1 ft^3/ 7.48 gal) (ft^3/m^3)*60 min hour* 3 hours in a day * 30 days\n",
    "\n",
    "dom_flux = 30*(1/7.48)*(0.3048**3)*60*24*30\n"
   ]
  },
  {
   "cell_type": "code",
   "execution_count": 121,
   "metadata": {},
   "outputs": [],
   "source": [
    "# define pumping rate based on well use, average pumping rate in m^3/day\n",
    "# wells_grid.loc[wells_grid.PlannedUseFormerUse == 'irrigation', 'flux'] = -irrig_flux\n",
    "# wells_grid.loc[wells_grid.PlannedUseFormerUse == 'domestic', 'flux'] = -dom_flux\n",
    "# wells_grid.loc[wells_grid.PlannedUseFormerUse == 'public', 'flux'] = -irrig_flux\n",
    "\n",
    "\n",
    "wells_grid.loc[wells_grid.Simple_type == 'irrigation', 'flux'] = -irrig_flux\n",
    "wells_grid.loc[wells_grid.Simple_type == 'domestic', 'flux'] = -dom_flux\n",
    "wells_grid.loc[wells_grid.Simple_type == 'public', 'flux'] = -public_flux"
   ]
  },
  {
   "cell_type": "code",
   "execution_count": 122,
   "metadata": {},
   "outputs": [],
   "source": [
    "if wells_grid.row.min()==1:\n",
    "    wells_grid.row = (wells_grid.row-1).astype(int)\n",
    "    wells_grid.column = (wells_grid.column -1).astype(int)"
   ]
  },
  {
   "cell_type": "code",
   "execution_count": 123,
   "metadata": {},
   "outputs": [
    {
     "name": "stderr",
     "output_type": "stream",
     "text": [
      "C:\\Users\\Ebenzer\\.conda\\envs\\geosp\\lib\\site-packages\\geopandas\\geodataframe.py:167: UserWarning: Pandas doesn't allow columns to be created via a new attribute name - see https://pandas.pydata.org/pandas-docs/stable/indexing.html#attribute-access\n",
      "  super(GeoDataFrame, self).__setattr__(attr, val)\n",
      "C:\\Users\\Ebenzer\\.conda\\envs\\geosp\\lib\\site-packages\\pandas\\core\\indexing.py:670: SettingWithCopyWarning: \n",
      "A value is trying to be set on a copy of a slice from a DataFrame\n",
      "\n",
      "See the caveats in the documentation: https://pandas.pydata.org/pandas-docs/stable/user_guide/indexing.html#returning-a-view-versus-a-copy\n",
      "  iloc._setitem_with_indexer(indexer, value)\n"
     ]
    }
   ],
   "source": [
    "wells_grid.depth_m = wells_grid.depth*0.3048\n",
    "# for k in np.arange(0,nlay-1):\n",
    "#     # pull out elevation of layer bottom\n",
    "#     lay_elev = botm[k, :, ncol-1]\n",
    "#     for i in np.arange(0,nrow):\n",
    "#         # want to compare if streambed is lower than the layer bottom\n",
    "#         # 1 will be subtracted from each z value to make sure it is lower than the model top in the upper reaches\n",
    "#         if lay_elev[i] > wells_grid.depth_m.iloc[i]:\n",
    "#             wells_grid.layer.iloc[i] = k\n",
    "\n",
    "for k in np.arange(0,nlay-1):\n",
    "    # pull out elevation of layer bottom\n",
    "    lay_elev = botm[k, :, :]\n",
    "    for i in np.arange(0,len(wells_grid)):\n",
    "        # want to compare if streambed is lower than the layer bottom\n",
    "        # 1 will be subtracted from each z value to make sure it is lower than the model top in the upper reaches\n",
    "        if lay_elev[wells_grid.row.values[i],wells_grid.column.values[i]] > dem_data[wells_grid.row.values[i],wells_grid.column.values[i]]-wells_grid.depth_m.iloc[i]:\n",
    "            wells_grid.layer.iloc[i] = k     "
   ]
  },
  {
   "cell_type": "code",
   "execution_count": 124,
   "metadata": {},
   "outputs": [
    {
     "data": {
      "text/html": [
       "<div>\n",
       "<style scoped>\n",
       "    .dataframe tbody tr th:only-of-type {\n",
       "        vertical-align: middle;\n",
       "    }\n",
       "\n",
       "    .dataframe tbody tr th {\n",
       "        vertical-align: top;\n",
       "    }\n",
       "\n",
       "    .dataframe thead th {\n",
       "        text-align: right;\n",
       "    }\n",
       "</style>\n",
       "<table border=\"1\" class=\"dataframe\">\n",
       "  <thead>\n",
       "    <tr style=\"text-align: right;\">\n",
       "      <th></th>\n",
       "      <th>layer</th>\n",
       "      <th>row</th>\n",
       "      <th>column</th>\n",
       "      <th>flux</th>\n",
       "    </tr>\n",
       "  </thead>\n",
       "  <tbody>\n",
       "    <tr>\n",
       "      <th>0</th>\n",
       "      <td>9</td>\n",
       "      <td>56</td>\n",
       "      <td>221</td>\n",
       "      <td>-4906.234383</td>\n",
       "    </tr>\n",
       "    <tr>\n",
       "      <th>1</th>\n",
       "      <td>9</td>\n",
       "      <td>56</td>\n",
       "      <td>221</td>\n",
       "      <td>-4906.234383</td>\n",
       "    </tr>\n",
       "    <tr>\n",
       "      <th>2</th>\n",
       "      <td>9</td>\n",
       "      <td>7</td>\n",
       "      <td>192</td>\n",
       "      <td>-4906.234383</td>\n",
       "    </tr>\n",
       "    <tr>\n",
       "      <th>3</th>\n",
       "      <td>9</td>\n",
       "      <td>7</td>\n",
       "      <td>192</td>\n",
       "      <td>-4906.234383</td>\n",
       "    </tr>\n",
       "    <tr>\n",
       "      <th>4</th>\n",
       "      <td>9</td>\n",
       "      <td>7</td>\n",
       "      <td>192</td>\n",
       "      <td>-4906.234383</td>\n",
       "    </tr>\n",
       "    <tr>\n",
       "      <th>...</th>\n",
       "      <td>...</td>\n",
       "      <td>...</td>\n",
       "      <td>...</td>\n",
       "      <td>...</td>\n",
       "    </tr>\n",
       "    <tr>\n",
       "      <th>3617</th>\n",
       "      <td>10</td>\n",
       "      <td>78</td>\n",
       "      <td>21</td>\n",
       "      <td>-40885.286523</td>\n",
       "    </tr>\n",
       "    <tr>\n",
       "      <th>3618</th>\n",
       "      <td>10</td>\n",
       "      <td>78</td>\n",
       "      <td>21</td>\n",
       "      <td>-40885.286523</td>\n",
       "    </tr>\n",
       "    <tr>\n",
       "      <th>3619</th>\n",
       "      <td>6</td>\n",
       "      <td>78</td>\n",
       "      <td>21</td>\n",
       "      <td>-4906.234383</td>\n",
       "    </tr>\n",
       "    <tr>\n",
       "      <th>3620</th>\n",
       "      <td>8</td>\n",
       "      <td>78</td>\n",
       "      <td>21</td>\n",
       "      <td>-4906.234383</td>\n",
       "    </tr>\n",
       "    <tr>\n",
       "      <th>3621</th>\n",
       "      <td>6</td>\n",
       "      <td>84</td>\n",
       "      <td>26</td>\n",
       "      <td>-4906.234383</td>\n",
       "    </tr>\n",
       "  </tbody>\n",
       "</table>\n",
       "<p>3622 rows × 4 columns</p>\n",
       "</div>"
      ],
      "text/plain": [
       "      layer  row  column          flux\n",
       "0         9   56     221  -4906.234383\n",
       "1         9   56     221  -4906.234383\n",
       "2         9    7     192  -4906.234383\n",
       "3         9    7     192  -4906.234383\n",
       "4         9    7     192  -4906.234383\n",
       "...     ...  ...     ...           ...\n",
       "3617     10   78      21 -40885.286523\n",
       "3618     10   78      21 -40885.286523\n",
       "3619      6   78      21  -4906.234383\n",
       "3620      8   78      21  -4906.234383\n",
       "3621      6   84      26  -4906.234383\n",
       "\n",
       "[3622 rows x 4 columns]"
      ]
     },
     "execution_count": 124,
     "metadata": {},
     "output_type": "execute_result"
    }
   ],
   "source": [
    "# Create a list of the items needed for the stress period data from the geopandas dataset\n",
    "spd_gdf = wells_grid.loc[:,['layer','row','column', 'flux']]\n",
    "spd_gdf = spd_gdf.dropna()\n",
    "spd_gdf"
   ]
  },
  {
   "cell_type": "code",
   "execution_count": 125,
   "metadata": {},
   "outputs": [],
   "source": [
    "spd_gdf_array = spd_gdf.values\n",
    "# lay, row, col, head, cond\n",
    "k = spd_gdf_array[:,0].astype(int)\n",
    "i = spd_gdf_array[:,1].astype(int)\n",
    "j = spd_gdf_array[:,2].astype(int)\n",
    "\n",
    "# find where the ghb overlaps with the no flow cells\n",
    "active_bc =ibound[k,i,j]\n",
    "spd_gdf_array=spd_gdf_array[:][active_bc.astype(bool)]"
   ]
  },
  {
   "cell_type": "code",
   "execution_count": 126,
   "metadata": {},
   "outputs": [
    {
     "name": "stdout",
     "output_type": "stream",
     "text": [
      "There are  141 wells within 3 rows of the model NE<SW edges\n"
     ]
    }
   ],
   "source": [
    "# correct for wells that are too close to the model boundaries\n",
    "# within 5 rows of the edges\n",
    "print('There are ',(spd_gdf_array[:,1]<=2).sum()+(spd_gdf_array[:,1]>=97).sum(), 'wells within 3 rows of the model NE<SW edges')\n",
    "spd_gdf_array = spd_gdf_array[spd_gdf_array[:,1]>2]\n",
    "spd_gdf_array = spd_gdf_array[spd_gdf_array[:,1]<97]"
   ]
  },
  {
   "cell_type": "code",
   "execution_count": 127,
   "metadata": {},
   "outputs": [],
   "source": [
    "# Create a dictionary for the stress periods\n",
    "# have transient well_data start after the 1st spd\n",
    "spd = { j: spd_gdf_array for j in np.arange(1,nper)}\n",
    "# spd = { 0: spd_gdf.values}"
   ]
  },
  {
   "cell_type": "code",
   "execution_count": 128,
   "metadata": {},
   "outputs": [],
   "source": [
    "# Create well flopy object\n",
    "wel = flopy.modflow.ModflowWel(m, stress_period_data=spd)"
   ]
  },
  {
   "cell_type": "markdown",
   "metadata": {},
   "source": [
    "## Summary of model fluxes"
   ]
  },
  {
   "cell_type": "code",
   "execution_count": 129,
   "metadata": {},
   "outputs": [
    {
     "data": {
      "text/plain": [
       "<matplotlib.collections.PathCollection at 0x2f896b4fe80>"
      ]
     },
     "execution_count": 129,
     "metadata": {},
     "output_type": "execute_result"
    },
    {
     "data": {
      "image/png": "[encoded data removed]",
      "text/plain": [
       "<Figure size 648x648 with 1 Axes>"
      ]
     },
     "metadata": {
      "needs_background": "light"
     },
     "output_type": "display_data"
    }
   ],
   "source": [
    "fig,ax=plt.subplots(figsize=(9,9))\n",
    "t=1\n",
    "plt.scatter(wel.stress_period_data[t].i, wel.stress_period_data[t].j)\n",
    "plt.scatter(ghb.stress_period_data[t].i, ghb.stress_period_data[t].j)\n",
    "plt.scatter(riv.stress_period_data[t].i, riv.stress_period_data[t].j)\n"
   ]
  },
  {
   "cell_type": "code",
   "execution_count": 130,
   "metadata": {},
   "outputs": [
    {
     "name": "stdout",
     "output_type": "stream",
     "text": [
      "GHB package total conductance: 1.952e+06\n",
      "RIV package total conductance: 8.045e+07\n",
      "RCH package total flux: 0.000e+00\n",
      "ET total flux: 1.818e+08\n",
      "Rain package total flux: 1.838e+07\n"
     ]
    }
   ],
   "source": [
    "t = 0\n",
    "\n",
    "ghb.stress_period_data[t].cond\n",
    "ghb_total = ghb.stress_period_data[t].cond.sum()\n",
    "print('GHB package total conductance:', '%.3e' %ghb_total)\n",
    "\n",
    "riv_total = riv.stress_period_data[t].cond.sum()\n",
    "print('RIV package total conductance:', '%.3e' %riv_total)\n",
    "\n",
    "# wel_total = wel.stress_period_data[t].flux.sum()\n",
    "# print('WEL package total flux:', '%.3e' %wel_total)\n",
    "\n",
    "rch_total = rch.rech.array[t,0,:,:].sum()*200*200\n",
    "print('RCH package total flux:', '%.3e' %rch_total)\n",
    "\n",
    "ET_total = ET_final[t,:,:].sum()*200*200\n",
    "print('ET total flux:', '%.3e' %ET_total)\n",
    "\n",
    "rain_total = rain_final[t,:,:].sum()*200*200\n",
    "print('Rain package total flux:', '%.3e' %rain_total)"
   ]
  },
  {
   "cell_type": "code",
   "execution_count": 131,
   "metadata": {},
   "outputs": [],
   "source": [
    "# pumping does need to be greatly increased (order of magnitude) in the growing season for ag wells and\n",
    "# slightly decreased during winter"
   ]
  },
  {
   "cell_type": "code",
   "execution_count": 132,
   "metadata": {},
   "outputs": [
    {
     "name": "stdout",
     "output_type": "stream",
     "text": [
      "Ag well total pumping m^3/month -2.408e+07\n",
      "Domestic well total pumping m^3/month -1.441e+07\n",
      "Public well total pumping m^3/month -2.355e+07\n"
     ]
    }
   ],
   "source": [
    "ag_well_total = wells_grid[wells_grid.Simple_type =='irrigation'].flux.sum()\n",
    "print('Ag well total pumping m^3/month', '%0.3e' %ag_well_total)\n",
    "\n",
    "dom_well_total = wells_grid[wells_grid.Simple_type =='domestic'].flux.sum()\n",
    "print('Domestic well total pumping m^3/month', '%0.3e' %dom_well_total)\n",
    "\n",
    "pub_well_total = wells_grid[wells_grid.Simple_type =='public'].flux.sum()\n",
    "print('Public well total pumping m^3/month', '%0.3e' %pub_well_total)"
   ]
  },
  {
   "cell_type": "code",
   "execution_count": 133,
   "metadata": {},
   "outputs": [],
   "source": [
    "# function to check whether a package is active in a cell\n",
    "def package_cell_check(time, irow,jcol,klay):\n",
    "    if riv.stress_period_data[sp][riv.stress_period_data[sp].i==irow].size!=0:\n",
    "        if riv.stress_period_data[sp][riv.stress_period_data[sp].j==jcol].size!=0:\n",
    "                if riv.stress_period_data[sp][riv.stress_period_data[sp].k==klay].size!=0:\n",
    "                    print('Active river cell at:', irow, jcol, klay, 'at stress period:', time)\n",
    "            \n",
    "\n",
    "# wel.stress_period_data[1][wel.stress_period_data[1].i==91] # there are no wells at the cell\n",
    "# ghb.stress_period_data[1][ghb.stress_period_data[1].j==215]# there are no ghbs at the cell\n",
    "# rch.rech.array[5][0,91,215] # there is recharge at the cell but not a lot\n",
    "# ibound[0,91,215] # the cell is active"
   ]
  },
  {
   "cell_type": "code",
   "execution_count": 134,
   "metadata": {},
   "outputs": [
    {
     "ename": "NameError",
     "evalue": "name 'sp' is not defined",
     "output_type": "error",
     "traceback": [
      "\u001b[1;31m---------------------------------------------------------------------------\u001b[0m",
      "\u001b[1;31mNameError\u001b[0m                                 Traceback (most recent call last)",
      "\u001b[1;32m<ipython-input-134-b281d44081ed>\u001b[0m in \u001b[0;36m<module>\u001b[1;34m\u001b[0m\n\u001b[1;32m----> 1\u001b[1;33m \u001b[0mpackage_cell_check\u001b[0m\u001b[1;33m(\u001b[0m\u001b[1;36m0\u001b[0m\u001b[1;33m,\u001b[0m \u001b[1;36m206\u001b[0m\u001b[1;33m,\u001b[0m \u001b[1;36m27\u001b[0m\u001b[1;33m,\u001b[0m\u001b[1;36m9\u001b[0m\u001b[1;33m)\u001b[0m\u001b[1;33m\u001b[0m\u001b[1;33m\u001b[0m\u001b[0m\n\u001b[0m",
      "\u001b[1;32m<ipython-input-133-1f0ea5b76591>\u001b[0m in \u001b[0;36mpackage_cell_check\u001b[1;34m(time, irow, jcol, klay)\u001b[0m\n\u001b[0;32m      1\u001b[0m \u001b[1;31m# function to check whether a package is active in a cell\u001b[0m\u001b[1;33m\u001b[0m\u001b[1;33m\u001b[0m\u001b[1;33m\u001b[0m\u001b[0m\n\u001b[0;32m      2\u001b[0m \u001b[1;32mdef\u001b[0m \u001b[0mpackage_cell_check\u001b[0m\u001b[1;33m(\u001b[0m\u001b[0mtime\u001b[0m\u001b[1;33m,\u001b[0m \u001b[0mirow\u001b[0m\u001b[1;33m,\u001b[0m\u001b[0mjcol\u001b[0m\u001b[1;33m,\u001b[0m\u001b[0mklay\u001b[0m\u001b[1;33m)\u001b[0m\u001b[1;33m:\u001b[0m\u001b[1;33m\u001b[0m\u001b[1;33m\u001b[0m\u001b[0m\n\u001b[1;32m----> 3\u001b[1;33m     \u001b[1;32mif\u001b[0m \u001b[0mriv\u001b[0m\u001b[1;33m.\u001b[0m\u001b[0mstress_period_data\u001b[0m\u001b[1;33m[\u001b[0m\u001b[0msp\u001b[0m\u001b[1;33m]\u001b[0m\u001b[1;33m[\u001b[0m\u001b[0mriv\u001b[0m\u001b[1;33m.\u001b[0m\u001b[0mstress_period_data\u001b[0m\u001b[1;33m[\u001b[0m\u001b[0msp\u001b[0m\u001b[1;33m]\u001b[0m\u001b[1;33m.\u001b[0m\u001b[0mi\u001b[0m\u001b[1;33m==\u001b[0m\u001b[0mirow\u001b[0m\u001b[1;33m]\u001b[0m\u001b[1;33m.\u001b[0m\u001b[0msize\u001b[0m\u001b[1;33m!=\u001b[0m\u001b[1;36m0\u001b[0m\u001b[1;33m:\u001b[0m\u001b[1;33m\u001b[0m\u001b[1;33m\u001b[0m\u001b[0m\n\u001b[0m\u001b[0;32m      4\u001b[0m         \u001b[1;32mif\u001b[0m \u001b[0mriv\u001b[0m\u001b[1;33m.\u001b[0m\u001b[0mstress_period_data\u001b[0m\u001b[1;33m[\u001b[0m\u001b[0msp\u001b[0m\u001b[1;33m]\u001b[0m\u001b[1;33m[\u001b[0m\u001b[0mriv\u001b[0m\u001b[1;33m.\u001b[0m\u001b[0mstress_period_data\u001b[0m\u001b[1;33m[\u001b[0m\u001b[0msp\u001b[0m\u001b[1;33m]\u001b[0m\u001b[1;33m.\u001b[0m\u001b[0mj\u001b[0m\u001b[1;33m==\u001b[0m\u001b[0mjcol\u001b[0m\u001b[1;33m]\u001b[0m\u001b[1;33m.\u001b[0m\u001b[0msize\u001b[0m\u001b[1;33m!=\u001b[0m\u001b[1;36m0\u001b[0m\u001b[1;33m:\u001b[0m\u001b[1;33m\u001b[0m\u001b[1;33m\u001b[0m\u001b[0m\n\u001b[0;32m      5\u001b[0m                 \u001b[1;32mif\u001b[0m \u001b[0mriv\u001b[0m\u001b[1;33m.\u001b[0m\u001b[0mstress_period_data\u001b[0m\u001b[1;33m[\u001b[0m\u001b[0msp\u001b[0m\u001b[1;33m]\u001b[0m\u001b[1;33m[\u001b[0m\u001b[0mriv\u001b[0m\u001b[1;33m.\u001b[0m\u001b[0mstress_period_data\u001b[0m\u001b[1;33m[\u001b[0m\u001b[0msp\u001b[0m\u001b[1;33m]\u001b[0m\u001b[1;33m.\u001b[0m\u001b[0mk\u001b[0m\u001b[1;33m==\u001b[0m\u001b[0mklay\u001b[0m\u001b[1;33m]\u001b[0m\u001b[1;33m.\u001b[0m\u001b[0msize\u001b[0m\u001b[1;33m!=\u001b[0m\u001b[1;36m0\u001b[0m\u001b[1;33m:\u001b[0m\u001b[1;33m\u001b[0m\u001b[1;33m\u001b[0m\u001b[0m\n",
      "\u001b[1;31mNameError\u001b[0m: name 'sp' is not defined"
     ]
    }
   ],
   "source": [
    "package_cell_check(0, 206, 27,9)"
   ]
  },
  {
   "cell_type": "code",
   "execution_count": 135,
   "metadata": {},
   "outputs": [
    {
     "name": "stdout",
     "output_type": "stream",
     "text": [
      "[(10, 91, 214, 50.773018, 234608.16, 49.273018)]\n"
     ]
    },
    {
     "data": {
      "text/plain": [
       "1.0"
      ]
     },
     "execution_count": 135,
     "metadata": {},
     "output_type": "execute_result"
    }
   ],
   "source": [
    "# checking cells with head change and flux residual listed in the .list file\n",
    "# checking the problem cell at 216, 92, 1 (col,row,lay) (MF count, python -1)\n",
    "print(riv.stress_period_data[1][riv.stress_period_data[1].i==91])\n",
    "wel.stress_period_data[1][wel.stress_period_data[1].i==91] # there are no wells at the cell\n",
    "ghb.stress_period_data[1][ghb.stress_period_data[1].j==215]# there are no ghbs at the cell\n",
    "rch.rech.array[5][0,91,215] # there is recharge at the cell but not a lot\n",
    "ibound[0,91,215] # the cell is active\n",
    "\n",
    "# # # checking the problem cell at 219, 95, 11 (col,row,lay)\n",
    "# print(riv.stress_period_data[1][riv.stress_period_data[1].j==218]) # there is a river cell there\n",
    "# wel.stress_period_data[1][wel.stress_period_data[1].i==94] # there are no wells at the cell\n",
    "# ghb.stress_period_data[1][ghb.stress_period_data[1].j==218]# there are no ghbs at the cell\n",
    "# rch.rech.array[5][0,94,218] # there is recharge at the cell but not a lot\n",
    "# ibound[10,94,218] # the cell is active\n",
    "\n",
    "# # # checking the problem cell at 188, 86, 1 (col,row,lay)\n",
    "# riv.stress_period_data[1][riv.stress_period_data[1].j==187] # there is no river cell there\n",
    "# wel.stress_period_data[1][wel.stress_period_data[1].i==85] # there are no wells at the cell\n",
    "# ghb.stress_period_data[1][ghb.stress_period_data[1].j==187]# there is a ghb at the cell\n",
    "# rch.rech.array[5][0,85,187] # there is recharge at the cell but not a lot\n",
    "# ibound[0,85,187] # the cell is active"
   ]
  },
  {
   "cell_type": "code",
   "execution_count": null,
   "metadata": {},
   "outputs": [],
   "source": []
  },
  {
   "cell_type": "markdown",
   "metadata": {},
   "source": [
    "## Output Control"
   ]
  },
  {
   "cell_type": "code",
   "execution_count": 136,
   "metadata": {},
   "outputs": [],
   "source": [
    "# Output control\n",
    "# default unit number for heads is 51, cell by cell is 53 and drawdown is 52\n",
    "# (0,0) is (stress period, time step)\n",
    "\n",
    "# For later model runs when all the data is needed to be saved\n",
    "# spd = { (j,0): ['save head', 'save budget'] for j in np.arange(0,nper)}\n",
    "# # Print the budget in the list file for every 50 time steps to check\n",
    "# for i in np.arange(0,730,50):\n",
    "#     spd[(i,0)] = ['print budget', 'save head', 'save budget']\n",
    "\n",
    "# spd = { (j,0): ['print budget', 'save head', 'save budget'] for j in np.arange(0,nper,int(nper/30))}\n",
    "spd = { (j,0): ['print budget', 'save head', 'save budget'] for j in np.arange(0,nper,1)}\n",
    "\n",
    "# test oc \n",
    "# spd = { (0,0): ['print budget', 'save head', 'save budget'],\n",
    "#       (1,0): ['print budget', 'save head', 'save budget']}\n",
    "\n",
    "    \n",
    "oc = flopy.modflow.ModflowOc(model = m, stress_period_data = spd, compact = True)"
   ]
  },
  {
   "cell_type": "markdown",
   "metadata": {},
   "source": [
    "## Newton Solver"
   ]
  },
  {
   "cell_type": "code",
   "execution_count": 137,
   "metadata": {},
   "outputs": [],
   "source": [
    "# pcg = flopy.modflow.ModflowPcg(model = m)\n",
    "# nwt = flopy.modflow.ModflowNwt(model= m)\n",
    "# thickfact: portion of cell thickness used for smoothly adjusting storage and conductance coefficients to zero (default is 1e-5)\n",
    "# linmeth (linear method): 1 for GMRES and 2 for XMD (1 is default)\n",
    "# iprnwt: flag whether additional info about solver convergence will be printed to the main listing file (default is 0)\n",
    "# ibotav: flag whether corretion will be made to gw head relative to cell-bottom if surrounded by dry cells.\n",
    "# 1 = corrections and  0 = no correction (default is 0)\n",
    "# options: specify comlexity of solver. SIMPLE : default solver for linear models, MODERATE for moderately nonlinear models,\n",
    "# COMPLEX for highly nonlinear models (default is COMPLEX)\n",
    "# Continue: if model fails to converge during a time step it will continue to solve the next time step (default is False) \n",
    "# epsrn (XMD) is the drop tolerance for preconditioning (default is 1E-4)\n",
    "# hclosexmd (XMD) head closure criteria for inner (linear) iterations (default 1e-4)\n",
    "nwt = flopy.modflow.ModflowNwt(model = m, headtol=0.01, fluxtol=500, maxiterout=200, thickfact=1e-05, \n",
    "                               linmeth=1, iprnwt=1, ibotav=0, options='COMPLEX', Continue=False,\n",
    "                               maxbackiter=50, backtol=1.1, maxitinner=50, ilumethod=2, \n",
    "                               levfill=5, stoptol=1e-10, msdr=15, iacl=2, norder=1, level=5, north=7, \n",
    "                               iredsys=0, rrctols=0.0, idroptol=1, epsrn=0.0001, hclosexmd=0.0001, \n",
    "                               mxiterxmd=50, extension='nwt', unitnumber=None, filenames=None)\n",
    "# GMG is more successful than pcg which is fine for steady state model\n",
    "# mxiter, max outer, iiter = max inner, hclose = head change criterion for convergence, \n",
    "# rclose = residual criterion for convergence\n",
    "\n",
    "# gmg = flopy.modflow.ModflowGmg(model = m, mxiter=50, iiter=30, hclose = 1e-5, rclose = 1e-5)"
   ]
  },
  {
   "cell_type": "code",
   "execution_count": 138,
   "metadata": {
    "scrolled": false
   },
   "outputs": [],
   "source": [
    "m.get_package_list()\n",
    "# m.remove_package('DATA')\n",
    "# m.remove_package('RIV')\n",
    "m.remove_package('WEL')\n",
    "# m.remove_package('RCH')\n"
   ]
  },
  {
   "cell_type": "code",
   "execution_count": 139,
   "metadata": {
    "scrolled": false
   },
   "outputs": [
    {
     "name": "stdout",
     "output_type": "stream",
     "text": [
      "\n",
      "MF MODEL DATA VALIDATION SUMMARY:\n",
      "  1 Warning:\n",
      "    1 instance of \r",
      "    RCH package: Mean R/T ratio < checker warning threshold of 2e-08 for 23 stress periods\n",
      "\n",
      "  Checks that passed:\n",
      "    Unit number conflicts\n",
      "    Compatible solver package\n",
      "    DIS package: zero or negative thickness\n",
      "    DIS package: thin cells (less than checker threshold of 1.0)\n",
      "    DIS package: nan values in top array\n",
      "    DIS package: nan values in bottom array\n",
      "    RIV package: stage below cell bottom\n",
      "    RIV package: rbot below cell bottom\n",
      "    RIV package: RIV stage below rbots\n",
      "    BAS6 package: isolated cells in ibound array\n",
      "    BAS6 package: Not a number\n",
      "    UPW package: zero or negative horizontal hydraulic conductivity values\n",
      "    UPW package: zero or negative vertical hydraulic conductivity values\n",
      "    UPW package: negative horizontal anisotropy values\n",
      "    UPW package: horizontal hydraulic conductivity values below checker threshold of 1e-11\n",
      "    UPW package: horizontal hydraulic conductivity values above checker threshold of 100000.0\n",
      "    UPW package: vertical hydraulic conductivity values below checker threshold of 1e-11\n",
      "    UPW package: vertical hydraulic conductivity values above checker threshold of 100000.0\n",
      "    UPW package: zero or negative specific storage values\n",
      "    UPW package: specific storage values below checker threshold of 1e-06\n",
      "    UPW package: specific storage values above checker threshold of 0.01\n",
      "    UPW package: zero or negative specific yield values\n",
      "    UPW package: specific yield values below checker threshold of 0.01\n",
      "    UPW package: specific yield values above checker threshold of 0.5\n",
      "    GHB package: BC indices valid\n",
      "    GHB package: not a number (Nan) entries\n",
      "    GHB package: BC in inactive cells\n",
      "    GHB package: BC elevation below cell bottom\n",
      "    CHD package: BC indices valid\n",
      "    CHD package: not a number (Nan) entries\n",
      "    CHD package: BC in inactive cells\n",
      "    RCH package: Variable NRCHOP set to 3.\n",
      "\n"
     ]
    },
    {
     "data": {
      "text/plain": [
       "<flopy.utils.check.check at 0x2f892db4370>"
      ]
     },
     "execution_count": 139,
     "metadata": {},
     "output_type": "execute_result"
    }
   ],
   "source": [
    "\n",
    "m.check()\n",
    "# lak.check()\n",
    "# upw.check()"
   ]
  },
  {
   "cell_type": "markdown",
   "metadata": {},
   "source": [
    "## Write the input files"
   ]
  },
  {
   "cell_type": "code",
   "execution_count": 140,
   "metadata": {},
   "outputs": [],
   "source": [
    "# Writing the MODFLOW data files\n",
    "m.write_input()\n"
   ]
  },
  {
   "cell_type": "markdown",
   "metadata": {},
   "source": [
    "# Run the model"
   ]
  },
  {
   "cell_type": "code",
   "execution_count": 141,
   "metadata": {},
   "outputs": [
    {
     "name": "stdout",
     "output_type": "stream",
     "text": [
      "FloPy is using the following  executable to run the model: C:\\WRDAPP\\MODFLOW-NWT.exe\n",
      "\n",
      "                                  MODFLOW-NWT-SWR1 \n",
      "    U.S. GEOLOGICAL SURVEY MODULAR FINITE-DIFFERENCE GROUNDWATER-FLOW MODEL\n",
      "                             WITH NEWTON FORMULATION\n",
      "                             Version 1.1.4 4/01/2018                         \n",
      "                    BASED ON MODFLOW-2005 Version 1.12.0 02/03/2017                       \n",
      "\n",
      "                    SWR1 Version 1.04.0 09/15/2016                       \n",
      "\n",
      " Using NAME file: MF.nam \n",
      " Run start date and time (yyyy/mm/dd hh:mm:ss): 2020/12/11 14:28:01\n",
      "\n",
      " Solving:  Stress period:     1    Time step:     1    Groundwater-Flow Eqn.\n",
      " Solving:  Stress period:     2    Time step:     1    Groundwater-Flow Eqn.\n",
      " Solving:  Stress period:     2    Time step:     2    Groundwater-Flow Eqn.\n",
      " Solving:  Stress period:     2    Time step:     3    Groundwater-Flow Eqn.\n",
      " Solving:  Stress period:     2    Time step:     4    Groundwater-Flow Eqn.\n",
      " Solving:  Stress period:     2    Time step:     5    Groundwater-Flow Eqn.\n",
      " Solving:  Stress period:     2    Time step:     6    Groundwater-Flow Eqn.\n",
      " Solving:  Stress period:     2    Time step:     7    Groundwater-Flow Eqn.\n",
      " Solving:  Stress period:     2    Time step:     8    Groundwater-Flow Eqn.\n",
      " Solving:  Stress period:     2    Time step:     9    Groundwater-Flow Eqn.\n",
      " Solving:  Stress period:     2    Time step:    10    Groundwater-Flow Eqn.\n",
      " Solving:  Stress period:     2    Time step:    11    Groundwater-Flow Eqn.\n",
      " Solving:  Stress period:     2    Time step:    12    Groundwater-Flow Eqn.\n",
      " Solving:  Stress period:     2    Time step:    13    Groundwater-Flow Eqn.\n",
      " Solving:  Stress period:     2    Time step:    14    Groundwater-Flow Eqn.\n",
      " Solving:  Stress period:     2    Time step:    15    Groundwater-Flow Eqn.\n",
      " Solving:  Stress period:     2    Time step:    16    Groundwater-Flow Eqn.\n",
      " Solving:  Stress period:     2    Time step:    17    Groundwater-Flow Eqn.\n",
      " Solving:  Stress period:     2    Time step:    18    Groundwater-Flow Eqn.\n",
      " Solving:  Stress period:     2    Time step:    19    Groundwater-Flow Eqn.\n",
      " Solving:  Stress period:     2    Time step:    20    Groundwater-Flow Eqn.\n",
      " Solving:  Stress period:     2    Time step:    21    Groundwater-Flow Eqn.\n",
      " Solving:  Stress period:     2    Time step:    22    Groundwater-Flow Eqn.\n",
      " Solving:  Stress period:     2    Time step:    23    Groundwater-Flow Eqn.\n",
      " Solving:  Stress period:     2    Time step:    24    Groundwater-Flow Eqn.\n",
      " Solving:  Stress period:     2    Time step:    25    Groundwater-Flow Eqn.\n",
      " Solving:  Stress period:     2    Time step:    26    Groundwater-Flow Eqn.\n",
      " Solving:  Stress period:     2    Time step:    27    Groundwater-Flow Eqn.\n",
      " Solving:  Stress period:     2    Time step:    28    Groundwater-Flow Eqn.\n",
      " Solving:  Stress period:     2    Time step:    29    Groundwater-Flow Eqn.\n",
      " Solving:  Stress period:     2    Time step:    30    Groundwater-Flow Eqn.\n",
      " Solving:  Stress period:     2    Time step:    31    Groundwater-Flow Eqn.\n",
      " Solving:  Stress period:     3    Time step:     1    Groundwater-Flow Eqn.\n",
      " Solving:  Stress period:     3    Time step:     2    Groundwater-Flow Eqn.\n",
      " Solving:  Stress period:     3    Time step:     3    Groundwater-Flow Eqn.\n",
      " Solving:  Stress period:     3    Time step:     4    Groundwater-Flow Eqn.\n",
      " Solving:  Stress period:     3    Time step:     5    Groundwater-Flow Eqn.\n",
      " Solving:  Stress period:     3    Time step:     6    Groundwater-Flow Eqn.\n",
      " Solving:  Stress period:     3    Time step:     7    Groundwater-Flow Eqn.\n",
      " Solving:  Stress period:     3    Time step:     8    Groundwater-Flow Eqn.\n",
      " Solving:  Stress period:     3    Time step:     9    Groundwater-Flow Eqn.\n",
      " Solving:  Stress period:     3    Time step:    10    Groundwater-Flow Eqn.\n",
      " Solving:  Stress period:     3    Time step:    11    Groundwater-Flow Eqn.\n",
      " Solving:  Stress period:     3    Time step:    12    Groundwater-Flow Eqn.\n",
      " Solving:  Stress period:     3    Time step:    13    Groundwater-Flow Eqn.\n",
      " Solving:  Stress period:     3    Time step:    14    Groundwater-Flow Eqn.\n",
      " Solving:  Stress period:     3    Time step:    15    Groundwater-Flow Eqn.\n",
      " Solving:  Stress period:     3    Time step:    16    Groundwater-Flow Eqn.\n",
      " Solving:  Stress period:     3    Time step:    17    Groundwater-Flow Eqn.\n",
      " Solving:  Stress period:     3    Time step:    18    Groundwater-Flow Eqn.\n",
      " Solving:  Stress period:     3    Time step:    19    Groundwater-Flow Eqn.\n",
      " Solving:  Stress period:     3    Time step:    20    Groundwater-Flow Eqn.\n",
      " Solving:  Stress period:     3    Time step:    21    Groundwater-Flow Eqn.\n",
      " Solving:  Stress period:     3    Time step:    22    Groundwater-Flow Eqn.\n",
      " Solving:  Stress period:     3    Time step:    23    Groundwater-Flow Eqn.\n",
      " Solving:  Stress period:     3    Time step:    24    Groundwater-Flow Eqn.\n",
      " Solving:  Stress period:     3    Time step:    25    Groundwater-Flow Eqn.\n",
      " Solving:  Stress period:     3    Time step:    26    Groundwater-Flow Eqn.\n",
      " Solving:  Stress period:     3    Time step:    27    Groundwater-Flow Eqn.\n",
      " Solving:  Stress period:     3    Time step:    28    Groundwater-Flow Eqn.\n",
      " Solving:  Stress period:     3    Time step:    29    Groundwater-Flow Eqn.\n",
      " Solving:  Stress period:     3    Time step:    30    Groundwater-Flow Eqn.\n",
      " Solving:  Stress period:     3    Time step:    31    Groundwater-Flow Eqn.\n",
      " Solving:  Stress period:     4    Time step:     1    Groundwater-Flow Eqn.\n",
      " Solving:  Stress period:     4    Time step:     2    Groundwater-Flow Eqn.\n",
      " Solving:  Stress period:     4    Time step:     3    Groundwater-Flow Eqn.\n",
      " Solving:  Stress period:     4    Time step:     4    Groundwater-Flow Eqn.\n",
      " Solving:  Stress period:     4    Time step:     5    Groundwater-Flow Eqn.\n",
      " Solving:  Stress period:     4    Time step:     6    Groundwater-Flow Eqn.\n",
      " Solving:  Stress period:     4    Time step:     7    Groundwater-Flow Eqn.\n",
      " Solving:  Stress period:     4    Time step:     8    Groundwater-Flow Eqn.\n",
      " Solving:  Stress period:     4    Time step:     9    Groundwater-Flow Eqn.\n",
      " Solving:  Stress period:     4    Time step:    10    Groundwater-Flow Eqn.\n",
      " Solving:  Stress period:     4    Time step:    11    Groundwater-Flow Eqn.\n",
      " Solving:  Stress period:     4    Time step:    12    Groundwater-Flow Eqn.\n",
      " Solving:  Stress period:     4    Time step:    13    Groundwater-Flow Eqn.\n",
      " Solving:  Stress period:     4    Time step:    14    Groundwater-Flow Eqn.\n",
      " Solving:  Stress period:     4    Time step:    15    Groundwater-Flow Eqn.\n",
      " Solving:  Stress period:     4    Time step:    16    Groundwater-Flow Eqn.\n",
      " Solving:  Stress period:     4    Time step:    17    Groundwater-Flow Eqn.\n",
      " Solving:  Stress period:     4    Time step:    18    Groundwater-Flow Eqn.\n",
      " Solving:  Stress period:     4    Time step:    19    Groundwater-Flow Eqn.\n",
      " Solving:  Stress period:     4    Time step:    20    Groundwater-Flow Eqn.\n",
      " Solving:  Stress period:     4    Time step:    21    Groundwater-Flow Eqn.\n",
      " Solving:  Stress period:     4    Time step:    22    Groundwater-Flow Eqn.\n",
      " Solving:  Stress period:     4    Time step:    23    Groundwater-Flow Eqn.\n",
      " Solving:  Stress period:     4    Time step:    24    Groundwater-Flow Eqn.\n",
      " Solving:  Stress period:     4    Time step:    25    Groundwater-Flow Eqn.\n",
      " Solving:  Stress period:     4    Time step:    26    Groundwater-Flow Eqn.\n",
      " Solving:  Stress period:     4    Time step:    27    Groundwater-Flow Eqn.\n",
      " Solving:  Stress period:     4    Time step:    28    Groundwater-Flow Eqn.\n",
      " Solving:  Stress period:     4    Time step:    29    Groundwater-Flow Eqn.\n",
      " Solving:  Stress period:     4    Time step:    30    Groundwater-Flow Eqn.\n",
      " Solving:  Stress period:     5    Time step:     1    Groundwater-Flow Eqn.\n",
      " Solving:  Stress period:     5    Time step:     2    Groundwater-Flow Eqn.\n",
      " Solving:  Stress period:     5    Time step:     3    Groundwater-Flow Eqn.\n",
      " Solving:  Stress period:     5    Time step:     4    Groundwater-Flow Eqn.\n",
      " Solving:  Stress period:     5    Time step:     5    Groundwater-Flow Eqn.\n",
      " Solving:  Stress period:     5    Time step:     6    Groundwater-Flow Eqn.\n"
     ]
    },
    {
     "name": "stdout",
     "output_type": "stream",
     "text": [
      " Solving:  Stress period:     5    Time step:     7    Groundwater-Flow Eqn.\n",
      " Solving:  Stress period:     5    Time step:     8    Groundwater-Flow Eqn.\n",
      " Solving:  Stress period:     5    Time step:     9    Groundwater-Flow Eqn.\n",
      " Solving:  Stress period:     5    Time step:    10    Groundwater-Flow Eqn.\n",
      " Solving:  Stress period:     5    Time step:    11    Groundwater-Flow Eqn.\n",
      " Solving:  Stress period:     5    Time step:    12    Groundwater-Flow Eqn.\n",
      " Solving:  Stress period:     5    Time step:    13    Groundwater-Flow Eqn.\n",
      " Solving:  Stress period:     5    Time step:    14    Groundwater-Flow Eqn.\n",
      " Solving:  Stress period:     5    Time step:    15    Groundwater-Flow Eqn.\n",
      " Solving:  Stress period:     5    Time step:    16    Groundwater-Flow Eqn.\n",
      " Solving:  Stress period:     5    Time step:    17    Groundwater-Flow Eqn.\n",
      " Solving:  Stress period:     5    Time step:    18    Groundwater-Flow Eqn.\n",
      " Solving:  Stress period:     5    Time step:    19    Groundwater-Flow Eqn.\n",
      " Solving:  Stress period:     5    Time step:    20    Groundwater-Flow Eqn.\n",
      " Solving:  Stress period:     5    Time step:    21    Groundwater-Flow Eqn.\n",
      " Solving:  Stress period:     5    Time step:    22    Groundwater-Flow Eqn.\n",
      " Solving:  Stress period:     5    Time step:    23    Groundwater-Flow Eqn.\n",
      " Solving:  Stress period:     5    Time step:    24    Groundwater-Flow Eqn.\n",
      " Solving:  Stress period:     5    Time step:    25    Groundwater-Flow Eqn.\n",
      " Solving:  Stress period:     5    Time step:    26    Groundwater-Flow Eqn.\n",
      " Solving:  Stress period:     5    Time step:    27    Groundwater-Flow Eqn.\n",
      " Solving:  Stress period:     5    Time step:    28    Groundwater-Flow Eqn.\n",
      " Solving:  Stress period:     5    Time step:    29    Groundwater-Flow Eqn.\n",
      " Solving:  Stress period:     5    Time step:    30    Groundwater-Flow Eqn.\n",
      " Solving:  Stress period:     5    Time step:    31    Groundwater-Flow Eqn.\n",
      " Solving:  Stress period:     6    Time step:     1    Groundwater-Flow Eqn.\n",
      " Solving:  Stress period:     6    Time step:     2    Groundwater-Flow Eqn.\n",
      " Solving:  Stress period:     6    Time step:     3    Groundwater-Flow Eqn.\n",
      " Solving:  Stress period:     6    Time step:     4    Groundwater-Flow Eqn.\n",
      " Solving:  Stress period:     6    Time step:     5    Groundwater-Flow Eqn.\n",
      " Solving:  Stress period:     6    Time step:     6    Groundwater-Flow Eqn.\n",
      " Solving:  Stress period:     6    Time step:     7    Groundwater-Flow Eqn.\n",
      " Solving:  Stress period:     6    Time step:     8    Groundwater-Flow Eqn.\n",
      " Solving:  Stress period:     6    Time step:     9    Groundwater-Flow Eqn.\n",
      " Solving:  Stress period:     6    Time step:    10    Groundwater-Flow Eqn.\n",
      " Solving:  Stress period:     6    Time step:    11    Groundwater-Flow Eqn.\n",
      " Solving:  Stress period:     6    Time step:    12    Groundwater-Flow Eqn.\n",
      " Solving:  Stress period:     6    Time step:    13    Groundwater-Flow Eqn.\n",
      " Solving:  Stress period:     6    Time step:    14    Groundwater-Flow Eqn.\n",
      " Solving:  Stress period:     6    Time step:    15    Groundwater-Flow Eqn.\n",
      " Solving:  Stress period:     6    Time step:    16    Groundwater-Flow Eqn.\n",
      " Solving:  Stress period:     6    Time step:    17    Groundwater-Flow Eqn.\n",
      " Solving:  Stress period:     6    Time step:    18    Groundwater-Flow Eqn.\n",
      " Solving:  Stress period:     6    Time step:    19    Groundwater-Flow Eqn.\n",
      " Solving:  Stress period:     6    Time step:    20    Groundwater-Flow Eqn.\n",
      " Solving:  Stress period:     6    Time step:    21    Groundwater-Flow Eqn.\n",
      " Solving:  Stress period:     6    Time step:    22    Groundwater-Flow Eqn.\n",
      " Solving:  Stress period:     6    Time step:    23    Groundwater-Flow Eqn.\n",
      " Solving:  Stress period:     6    Time step:    24    Groundwater-Flow Eqn.\n",
      " Solving:  Stress period:     6    Time step:    25    Groundwater-Flow Eqn.\n",
      " Solving:  Stress period:     6    Time step:    26    Groundwater-Flow Eqn.\n",
      " Solving:  Stress period:     6    Time step:    27    Groundwater-Flow Eqn.\n",
      " Solving:  Stress period:     6    Time step:    28    Groundwater-Flow Eqn.\n",
      " Solving:  Stress period:     6    Time step:    29    Groundwater-Flow Eqn.\n",
      " Solving:  Stress period:     6    Time step:    30    Groundwater-Flow Eqn.\n",
      " Solving:  Stress period:     7    Time step:     1    Groundwater-Flow Eqn.\n",
      " Solving:  Stress period:     7    Time step:     2    Groundwater-Flow Eqn.\n",
      " Solving:  Stress period:     7    Time step:     3    Groundwater-Flow Eqn.\n",
      " Solving:  Stress period:     7    Time step:     4    Groundwater-Flow Eqn.\n",
      " Solving:  Stress period:     7    Time step:     5    Groundwater-Flow Eqn.\n",
      " Solving:  Stress period:     7    Time step:     6    Groundwater-Flow Eqn.\n",
      " Solving:  Stress period:     7    Time step:     7    Groundwater-Flow Eqn.\n",
      " Solving:  Stress period:     7    Time step:     8    Groundwater-Flow Eqn.\n",
      " Solving:  Stress period:     7    Time step:     9    Groundwater-Flow Eqn.\n",
      " Solving:  Stress period:     7    Time step:    10    Groundwater-Flow Eqn.\n",
      " Solving:  Stress period:     7    Time step:    11    Groundwater-Flow Eqn.\n",
      " Solving:  Stress period:     7    Time step:    12    Groundwater-Flow Eqn.\n",
      " Solving:  Stress period:     7    Time step:    13    Groundwater-Flow Eqn.\n",
      " Solving:  Stress period:     7    Time step:    14    Groundwater-Flow Eqn.\n",
      " Solving:  Stress period:     7    Time step:    15    Groundwater-Flow Eqn.\n",
      " Solving:  Stress period:     7    Time step:    16    Groundwater-Flow Eqn.\n",
      " Solving:  Stress period:     7    Time step:    17    Groundwater-Flow Eqn.\n",
      " Solving:  Stress period:     7    Time step:    18    Groundwater-Flow Eqn.\n",
      " Solving:  Stress period:     7    Time step:    19    Groundwater-Flow Eqn.\n",
      " Solving:  Stress period:     7    Time step:    20    Groundwater-Flow Eqn.\n",
      " Solving:  Stress period:     7    Time step:    21    Groundwater-Flow Eqn.\n",
      " Solving:  Stress period:     7    Time step:    22    Groundwater-Flow Eqn.\n",
      " Solving:  Stress period:     7    Time step:    23    Groundwater-Flow Eqn.\n",
      " Solving:  Stress period:     7    Time step:    24    Groundwater-Flow Eqn.\n",
      " Solving:  Stress period:     7    Time step:    25    Groundwater-Flow Eqn.\n",
      " Solving:  Stress period:     7    Time step:    26    Groundwater-Flow Eqn.\n",
      " Solving:  Stress period:     7    Time step:    27    Groundwater-Flow Eqn.\n",
      " Solving:  Stress period:     7    Time step:    28    Groundwater-Flow Eqn.\n",
      " Solving:  Stress period:     7    Time step:    29    Groundwater-Flow Eqn.\n",
      " Solving:  Stress period:     7    Time step:    30    Groundwater-Flow Eqn.\n",
      " Solving:  Stress period:     7    Time step:    31    Groundwater-Flow Eqn.\n",
      " Solving:  Stress period:     8    Time step:     1    Groundwater-Flow Eqn.\n",
      " Solving:  Stress period:     8    Time step:     2    Groundwater-Flow Eqn.\n",
      " Solving:  Stress period:     8    Time step:     3    Groundwater-Flow Eqn.\n",
      " Solving:  Stress period:     8    Time step:     4    Groundwater-Flow Eqn.\n",
      " Solving:  Stress period:     8    Time step:     5    Groundwater-Flow Eqn.\n",
      " Solving:  Stress period:     8    Time step:     6    Groundwater-Flow Eqn.\n",
      " Solving:  Stress period:     8    Time step:     7    Groundwater-Flow Eqn.\n",
      " Solving:  Stress period:     8    Time step:     8    Groundwater-Flow Eqn.\n",
      " Solving:  Stress period:     8    Time step:     9    Groundwater-Flow Eqn.\n",
      " Solving:  Stress period:     8    Time step:    10    Groundwater-Flow Eqn.\n",
      " Solving:  Stress period:     8    Time step:    11    Groundwater-Flow Eqn.\n",
      " Solving:  Stress period:     8    Time step:    12    Groundwater-Flow Eqn.\n",
      " Solving:  Stress period:     8    Time step:    13    Groundwater-Flow Eqn.\n",
      " Solving:  Stress period:     8    Time step:    14    Groundwater-Flow Eqn.\n",
      " Solving:  Stress period:     8    Time step:    15    Groundwater-Flow Eqn.\n",
      " Solving:  Stress period:     8    Time step:    16    Groundwater-Flow Eqn.\n",
      " Solving:  Stress period:     8    Time step:    17    Groundwater-Flow Eqn.\n",
      " Solving:  Stress period:     8    Time step:    18    Groundwater-Flow Eqn.\n",
      " Solving:  Stress period:     8    Time step:    19    Groundwater-Flow Eqn.\n",
      " Solving:  Stress period:     8    Time step:    20    Groundwater-Flow Eqn.\n",
      " Solving:  Stress period:     8    Time step:    21    Groundwater-Flow Eqn.\n"
     ]
    },
    {
     "name": "stdout",
     "output_type": "stream",
     "text": [
      " Solving:  Stress period:     8    Time step:    22    Groundwater-Flow Eqn.\n",
      " Solving:  Stress period:     8    Time step:    23    Groundwater-Flow Eqn.\n",
      " Solving:  Stress period:     8    Time step:    24    Groundwater-Flow Eqn.\n",
      " Solving:  Stress period:     8    Time step:    25    Groundwater-Flow Eqn.\n",
      " Solving:  Stress period:     8    Time step:    26    Groundwater-Flow Eqn.\n",
      " Solving:  Stress period:     8    Time step:    27    Groundwater-Flow Eqn.\n",
      " Solving:  Stress period:     8    Time step:    28    Groundwater-Flow Eqn.\n",
      " Solving:  Stress period:     8    Time step:    29    Groundwater-Flow Eqn.\n",
      " Solving:  Stress period:     8    Time step:    30    Groundwater-Flow Eqn.\n",
      " Solving:  Stress period:     8    Time step:    31    Groundwater-Flow Eqn.\n",
      " Solving:  Stress period:     9    Time step:     1    Groundwater-Flow Eqn.\n",
      " Solving:  Stress period:     9    Time step:     2    Groundwater-Flow Eqn.\n",
      " Solving:  Stress period:     9    Time step:     3    Groundwater-Flow Eqn.\n",
      " Solving:  Stress period:     9    Time step:     4    Groundwater-Flow Eqn.\n",
      " Solving:  Stress period:     9    Time step:     5    Groundwater-Flow Eqn.\n",
      " Solving:  Stress period:     9    Time step:     6    Groundwater-Flow Eqn.\n",
      " Solving:  Stress period:     9    Time step:     7    Groundwater-Flow Eqn.\n",
      " Solving:  Stress period:     9    Time step:     8    Groundwater-Flow Eqn.\n",
      " Solving:  Stress period:     9    Time step:     9    Groundwater-Flow Eqn.\n",
      " Solving:  Stress period:     9    Time step:    10    Groundwater-Flow Eqn.\n",
      " Solving:  Stress period:     9    Time step:    11    Groundwater-Flow Eqn.\n",
      " Solving:  Stress period:     9    Time step:    12    Groundwater-Flow Eqn.\n",
      " Solving:  Stress period:     9    Time step:    13    Groundwater-Flow Eqn.\n",
      " Solving:  Stress period:     9    Time step:    14    Groundwater-Flow Eqn.\n",
      " Solving:  Stress period:     9    Time step:    15    Groundwater-Flow Eqn.\n",
      " Solving:  Stress period:     9    Time step:    16    Groundwater-Flow Eqn.\n",
      " Solving:  Stress period:     9    Time step:    17    Groundwater-Flow Eqn.\n",
      " Solving:  Stress period:     9    Time step:    18    Groundwater-Flow Eqn.\n",
      " Solving:  Stress period:     9    Time step:    19    Groundwater-Flow Eqn.\n",
      " Solving:  Stress period:     9    Time step:    20    Groundwater-Flow Eqn.\n",
      " Solving:  Stress period:     9    Time step:    21    Groundwater-Flow Eqn.\n",
      " Solving:  Stress period:     9    Time step:    22    Groundwater-Flow Eqn.\n",
      " Solving:  Stress period:     9    Time step:    23    Groundwater-Flow Eqn.\n",
      " Solving:  Stress period:     9    Time step:    24    Groundwater-Flow Eqn.\n",
      " Solving:  Stress period:     9    Time step:    25    Groundwater-Flow Eqn.\n",
      " Solving:  Stress period:     9    Time step:    26    Groundwater-Flow Eqn.\n",
      " Solving:  Stress period:     9    Time step:    27    Groundwater-Flow Eqn.\n",
      " Solving:  Stress period:     9    Time step:    28    Groundwater-Flow Eqn.\n",
      " Solving:  Stress period:    10    Time step:     1    Groundwater-Flow Eqn.\n",
      " Solving:  Stress period:    10    Time step:     2    Groundwater-Flow Eqn.\n",
      " Solving:  Stress period:    10    Time step:     3    Groundwater-Flow Eqn.\n",
      " Solving:  Stress period:    10    Time step:     4    Groundwater-Flow Eqn.\n",
      " Solving:  Stress period:    10    Time step:     5    Groundwater-Flow Eqn.\n",
      " Solving:  Stress period:    10    Time step:     6    Groundwater-Flow Eqn.\n",
      " Solving:  Stress period:    10    Time step:     7    Groundwater-Flow Eqn.\n",
      " Solving:  Stress period:    10    Time step:     8    Groundwater-Flow Eqn.\n",
      " Solving:  Stress period:    10    Time step:     9    Groundwater-Flow Eqn.\n",
      " Solving:  Stress period:    10    Time step:    10    Groundwater-Flow Eqn.\n",
      " Solving:  Stress period:    10    Time step:    11    Groundwater-Flow Eqn.\n",
      " Solving:  Stress period:    10    Time step:    12    Groundwater-Flow Eqn.\n",
      " Solving:  Stress period:    10    Time step:    13    Groundwater-Flow Eqn.\n",
      " Solving:  Stress period:    10    Time step:    14    Groundwater-Flow Eqn.\n",
      " Solving:  Stress period:    10    Time step:    15    Groundwater-Flow Eqn.\n",
      " Solving:  Stress period:    10    Time step:    16    Groundwater-Flow Eqn.\n",
      " Solving:  Stress period:    10    Time step:    17    Groundwater-Flow Eqn.\n",
      " Solving:  Stress period:    10    Time step:    18    Groundwater-Flow Eqn.\n",
      " Solving:  Stress period:    10    Time step:    19    Groundwater-Flow Eqn.\n",
      " Solving:  Stress period:    10    Time step:    20    Groundwater-Flow Eqn.\n",
      " Solving:  Stress period:    10    Time step:    21    Groundwater-Flow Eqn.\n",
      " Solving:  Stress period:    10    Time step:    22    Groundwater-Flow Eqn.\n",
      " Solving:  Stress period:    10    Time step:    23    Groundwater-Flow Eqn.\n",
      " Solving:  Stress period:    10    Time step:    24    Groundwater-Flow Eqn.\n",
      " Solving:  Stress period:    10    Time step:    25    Groundwater-Flow Eqn.\n",
      " Solving:  Stress period:    10    Time step:    26    Groundwater-Flow Eqn.\n",
      " Solving:  Stress period:    10    Time step:    27    Groundwater-Flow Eqn.\n",
      " Solving:  Stress period:    10    Time step:    28    Groundwater-Flow Eqn.\n",
      " Solving:  Stress period:    10    Time step:    29    Groundwater-Flow Eqn.\n",
      " Solving:  Stress period:    10    Time step:    30    Groundwater-Flow Eqn.\n",
      " Solving:  Stress period:    10    Time step:    31    Groundwater-Flow Eqn.\n",
      " Solving:  Stress period:    11    Time step:     1    Groundwater-Flow Eqn.\n",
      " Solving:  Stress period:    11    Time step:     2    Groundwater-Flow Eqn.\n",
      " Solving:  Stress period:    11    Time step:     3    Groundwater-Flow Eqn.\n",
      " Solving:  Stress period:    11    Time step:     4    Groundwater-Flow Eqn.\n",
      " Solving:  Stress period:    11    Time step:     5    Groundwater-Flow Eqn.\n",
      " Solving:  Stress period:    11    Time step:     6    Groundwater-Flow Eqn.\n",
      " Solving:  Stress period:    11    Time step:     7    Groundwater-Flow Eqn.\n",
      " Solving:  Stress period:    11    Time step:     8    Groundwater-Flow Eqn.\n",
      " Solving:  Stress period:    11    Time step:     9    Groundwater-Flow Eqn.\n",
      " Solving:  Stress period:    11    Time step:    10    Groundwater-Flow Eqn.\n",
      " Solving:  Stress period:    11    Time step:    11    Groundwater-Flow Eqn.\n",
      " Solving:  Stress period:    11    Time step:    12    Groundwater-Flow Eqn.\n",
      " Solving:  Stress period:    11    Time step:    13    Groundwater-Flow Eqn.\n",
      " Solving:  Stress period:    11    Time step:    14    Groundwater-Flow Eqn.\n",
      " Solving:  Stress period:    11    Time step:    15    Groundwater-Flow Eqn.\n",
      " Solving:  Stress period:    11    Time step:    16    Groundwater-Flow Eqn.\n",
      " Solving:  Stress period:    11    Time step:    17    Groundwater-Flow Eqn.\n",
      " Solving:  Stress period:    11    Time step:    18    Groundwater-Flow Eqn.\n",
      " Solving:  Stress period:    11    Time step:    19    Groundwater-Flow Eqn.\n",
      " Solving:  Stress period:    11    Time step:    20    Groundwater-Flow Eqn.\n",
      " Solving:  Stress period:    11    Time step:    21    Groundwater-Flow Eqn.\n",
      " Solving:  Stress period:    11    Time step:    22    Groundwater-Flow Eqn.\n",
      " Solving:  Stress period:    11    Time step:    23    Groundwater-Flow Eqn.\n",
      " Solving:  Stress period:    11    Time step:    24    Groundwater-Flow Eqn.\n",
      " Solving:  Stress period:    11    Time step:    25    Groundwater-Flow Eqn.\n",
      " Solving:  Stress period:    11    Time step:    26    Groundwater-Flow Eqn.\n",
      " Solving:  Stress period:    11    Time step:    27    Groundwater-Flow Eqn.\n",
      " Solving:  Stress period:    11    Time step:    28    Groundwater-Flow Eqn.\n",
      " Solving:  Stress period:    11    Time step:    29    Groundwater-Flow Eqn.\n",
      " Solving:  Stress period:    11    Time step:    30    Groundwater-Flow Eqn.\n",
      " Solving:  Stress period:    12    Time step:     1    Groundwater-Flow Eqn.\n",
      " Solving:  Stress period:    12    Time step:     2    Groundwater-Flow Eqn.\n",
      " Solving:  Stress period:    12    Time step:     3    Groundwater-Flow Eqn.\n",
      " Solving:  Stress period:    12    Time step:     4    Groundwater-Flow Eqn.\n",
      " Solving:  Stress period:    12    Time step:     5    Groundwater-Flow Eqn.\n",
      " Solving:  Stress period:    12    Time step:     6    Groundwater-Flow Eqn.\n",
      " Solving:  Stress period:    12    Time step:     7    Groundwater-Flow Eqn.\n",
      " Solving:  Stress period:    12    Time step:     8    Groundwater-Flow Eqn.\n"
     ]
    },
    {
     "name": "stdout",
     "output_type": "stream",
     "text": [
      " Solving:  Stress period:    12    Time step:     9    Groundwater-Flow Eqn.\n",
      " Solving:  Stress period:    12    Time step:    10    Groundwater-Flow Eqn.\n",
      " Solving:  Stress period:    12    Time step:    11    Groundwater-Flow Eqn.\n",
      " Solving:  Stress period:    12    Time step:    12    Groundwater-Flow Eqn.\n",
      " Solving:  Stress period:    12    Time step:    13    Groundwater-Flow Eqn.\n",
      " Solving:  Stress period:    12    Time step:    14    Groundwater-Flow Eqn.\n",
      " Solving:  Stress period:    12    Time step:    15    Groundwater-Flow Eqn.\n",
      " Solving:  Stress period:    12    Time step:    16    Groundwater-Flow Eqn.\n",
      " Solving:  Stress period:    12    Time step:    17    Groundwater-Flow Eqn.\n",
      " Solving:  Stress period:    12    Time step:    18    Groundwater-Flow Eqn.\n",
      " Solving:  Stress period:    12    Time step:    19    Groundwater-Flow Eqn.\n",
      " Solving:  Stress period:    12    Time step:    20    Groundwater-Flow Eqn.\n",
      " Solving:  Stress period:    12    Time step:    21    Groundwater-Flow Eqn.\n",
      " Solving:  Stress period:    12    Time step:    22    Groundwater-Flow Eqn.\n",
      " Solving:  Stress period:    12    Time step:    23    Groundwater-Flow Eqn.\n",
      " Solving:  Stress period:    12    Time step:    24    Groundwater-Flow Eqn.\n",
      " Solving:  Stress period:    12    Time step:    25    Groundwater-Flow Eqn.\n",
      " Solving:  Stress period:    12    Time step:    26    Groundwater-Flow Eqn.\n",
      " Solving:  Stress period:    12    Time step:    27    Groundwater-Flow Eqn.\n",
      " Solving:  Stress period:    12    Time step:    28    Groundwater-Flow Eqn.\n",
      " Solving:  Stress period:    12    Time step:    29    Groundwater-Flow Eqn.\n",
      " Solving:  Stress period:    12    Time step:    30    Groundwater-Flow Eqn.\n",
      " Solving:  Stress period:    12    Time step:    31    Groundwater-Flow Eqn.\n",
      " Solving:  Stress period:    13    Time step:     1    Groundwater-Flow Eqn.\n",
      " Solving:  Stress period:    13    Time step:     2    Groundwater-Flow Eqn.\n",
      " Solving:  Stress period:    13    Time step:     3    Groundwater-Flow Eqn.\n",
      " Solving:  Stress period:    13    Time step:     4    Groundwater-Flow Eqn.\n",
      " Solving:  Stress period:    13    Time step:     5    Groundwater-Flow Eqn.\n",
      " Solving:  Stress period:    13    Time step:     6    Groundwater-Flow Eqn.\n",
      " Solving:  Stress period:    13    Time step:     7    Groundwater-Flow Eqn.\n",
      " Solving:  Stress period:    13    Time step:     8    Groundwater-Flow Eqn.\n",
      " Solving:  Stress period:    13    Time step:     9    Groundwater-Flow Eqn.\n",
      " Solving:  Stress period:    13    Time step:    10    Groundwater-Flow Eqn.\n",
      " Solving:  Stress period:    13    Time step:    11    Groundwater-Flow Eqn.\n",
      " Solving:  Stress period:    13    Time step:    12    Groundwater-Flow Eqn.\n",
      " Solving:  Stress period:    13    Time step:    13    Groundwater-Flow Eqn.\n",
      " Solving:  Stress period:    13    Time step:    14    Groundwater-Flow Eqn.\n",
      " Solving:  Stress period:    13    Time step:    15    Groundwater-Flow Eqn.\n",
      " Solving:  Stress period:    13    Time step:    16    Groundwater-Flow Eqn.\n",
      " Solving:  Stress period:    13    Time step:    17    Groundwater-Flow Eqn.\n",
      " Solving:  Stress period:    13    Time step:    18    Groundwater-Flow Eqn.\n",
      " Solving:  Stress period:    13    Time step:    19    Groundwater-Flow Eqn.\n",
      " Solving:  Stress period:    13    Time step:    20    Groundwater-Flow Eqn.\n",
      " Solving:  Stress period:    13    Time step:    21    Groundwater-Flow Eqn.\n",
      " Solving:  Stress period:    13    Time step:    22    Groundwater-Flow Eqn.\n",
      " Solving:  Stress period:    13    Time step:    23    Groundwater-Flow Eqn.\n",
      " Solving:  Stress period:    13    Time step:    24    Groundwater-Flow Eqn.\n",
      " Solving:  Stress period:    13    Time step:    25    Groundwater-Flow Eqn.\n",
      " Solving:  Stress period:    13    Time step:    26    Groundwater-Flow Eqn.\n",
      " Solving:  Stress period:    13    Time step:    27    Groundwater-Flow Eqn.\n",
      " Solving:  Stress period:    13    Time step:    28    Groundwater-Flow Eqn.\n",
      " Solving:  Stress period:    13    Time step:    29    Groundwater-Flow Eqn.\n",
      " Solving:  Stress period:    13    Time step:    30    Groundwater-Flow Eqn.\n",
      " Solving:  Stress period:    14    Time step:     1    Groundwater-Flow Eqn.\n",
      " Solving:  Stress period:    14    Time step:     2    Groundwater-Flow Eqn.\n",
      " Solving:  Stress period:    14    Time step:     3    Groundwater-Flow Eqn.\n",
      " Solving:  Stress period:    14    Time step:     4    Groundwater-Flow Eqn.\n",
      " Solving:  Stress period:    14    Time step:     5    Groundwater-Flow Eqn.\n",
      " Solving:  Stress period:    14    Time step:     6    Groundwater-Flow Eqn.\n",
      " Solving:  Stress period:    14    Time step:     7    Groundwater-Flow Eqn.\n",
      " Solving:  Stress period:    14    Time step:     8    Groundwater-Flow Eqn.\n",
      " Solving:  Stress period:    14    Time step:     9    Groundwater-Flow Eqn.\n",
      " Solving:  Stress period:    14    Time step:    10    Groundwater-Flow Eqn.\n",
      " Solving:  Stress period:    14    Time step:    11    Groundwater-Flow Eqn.\n",
      " Solving:  Stress period:    14    Time step:    12    Groundwater-Flow Eqn.\n",
      " Solving:  Stress period:    14    Time step:    13    Groundwater-Flow Eqn.\n",
      " Solving:  Stress period:    14    Time step:    14    Groundwater-Flow Eqn.\n",
      " Solving:  Stress period:    14    Time step:    15    Groundwater-Flow Eqn.\n",
      " Solving:  Stress period:    14    Time step:    16    Groundwater-Flow Eqn.\n",
      " Solving:  Stress period:    14    Time step:    17    Groundwater-Flow Eqn.\n",
      " Solving:  Stress period:    14    Time step:    18    Groundwater-Flow Eqn.\n",
      " Solving:  Stress period:    14    Time step:    19    Groundwater-Flow Eqn.\n",
      " Solving:  Stress period:    14    Time step:    20    Groundwater-Flow Eqn.\n",
      " Solving:  Stress period:    14    Time step:    21    Groundwater-Flow Eqn.\n",
      " Solving:  Stress period:    14    Time step:    22    Groundwater-Flow Eqn.\n",
      " Solving:  Stress period:    14    Time step:    23    Groundwater-Flow Eqn.\n",
      " Solving:  Stress period:    14    Time step:    24    Groundwater-Flow Eqn.\n",
      " Solving:  Stress period:    14    Time step:    25    Groundwater-Flow Eqn.\n",
      " Solving:  Stress period:    14    Time step:    26    Groundwater-Flow Eqn.\n",
      " Solving:  Stress period:    14    Time step:    27    Groundwater-Flow Eqn.\n",
      " Solving:  Stress period:    14    Time step:    28    Groundwater-Flow Eqn.\n",
      " Solving:  Stress period:    14    Time step:    29    Groundwater-Flow Eqn.\n",
      " Solving:  Stress period:    14    Time step:    30    Groundwater-Flow Eqn.\n",
      " Solving:  Stress period:    14    Time step:    31    Groundwater-Flow Eqn.\n",
      " Solving:  Stress period:    15    Time step:     1    Groundwater-Flow Eqn.\n",
      " Solving:  Stress period:    15    Time step:     2    Groundwater-Flow Eqn.\n",
      " Solving:  Stress period:    15    Time step:     3    Groundwater-Flow Eqn.\n",
      " Solving:  Stress period:    15    Time step:     4    Groundwater-Flow Eqn.\n",
      " Solving:  Stress period:    15    Time step:     5    Groundwater-Flow Eqn.\n",
      " Solving:  Stress period:    15    Time step:     6    Groundwater-Flow Eqn.\n",
      " Solving:  Stress period:    15    Time step:     7    Groundwater-Flow Eqn.\n",
      " Solving:  Stress period:    15    Time step:     8    Groundwater-Flow Eqn.\n",
      " Solving:  Stress period:    15    Time step:     9    Groundwater-Flow Eqn.\n",
      " Solving:  Stress period:    15    Time step:    10    Groundwater-Flow Eqn.\n",
      " Solving:  Stress period:    15    Time step:    11    Groundwater-Flow Eqn.\n",
      " Solving:  Stress period:    15    Time step:    12    Groundwater-Flow Eqn.\n",
      " Solving:  Stress period:    15    Time step:    13    Groundwater-Flow Eqn.\n",
      " Solving:  Stress period:    15    Time step:    14    Groundwater-Flow Eqn.\n",
      " Solving:  Stress period:    15    Time step:    15    Groundwater-Flow Eqn.\n",
      " Solving:  Stress period:    15    Time step:    16    Groundwater-Flow Eqn.\n",
      " Solving:  Stress period:    15    Time step:    17    Groundwater-Flow Eqn.\n",
      " Solving:  Stress period:    15    Time step:    18    Groundwater-Flow Eqn.\n",
      " Solving:  Stress period:    15    Time step:    19    Groundwater-Flow Eqn.\n",
      " Solving:  Stress period:    15    Time step:    20    Groundwater-Flow Eqn.\n",
      " Solving:  Stress period:    15    Time step:    21    Groundwater-Flow Eqn.\n",
      " Solving:  Stress period:    15    Time step:    22    Groundwater-Flow Eqn.\n",
      " Solving:  Stress period:    15    Time step:    23    Groundwater-Flow Eqn.\n"
     ]
    },
    {
     "name": "stdout",
     "output_type": "stream",
     "text": [
      " Solving:  Stress period:    15    Time step:    24    Groundwater-Flow Eqn.\n",
      " Solving:  Stress period:    15    Time step:    25    Groundwater-Flow Eqn.\n",
      " Solving:  Stress period:    15    Time step:    26    Groundwater-Flow Eqn.\n",
      " Solving:  Stress period:    15    Time step:    27    Groundwater-Flow Eqn.\n",
      " Solving:  Stress period:    15    Time step:    28    Groundwater-Flow Eqn.\n",
      " Solving:  Stress period:    15    Time step:    29    Groundwater-Flow Eqn.\n",
      " Solving:  Stress period:    15    Time step:    30    Groundwater-Flow Eqn.\n",
      " Solving:  Stress period:    15    Time step:    31    Groundwater-Flow Eqn.\n",
      " Solving:  Stress period:    16    Time step:     1    Groundwater-Flow Eqn.\n",
      " Solving:  Stress period:    16    Time step:     2    Groundwater-Flow Eqn.\n",
      " Solving:  Stress period:    16    Time step:     3    Groundwater-Flow Eqn.\n",
      " Solving:  Stress period:    16    Time step:     4    Groundwater-Flow Eqn.\n",
      " Solving:  Stress period:    16    Time step:     5    Groundwater-Flow Eqn.\n",
      " Solving:  Stress period:    16    Time step:     6    Groundwater-Flow Eqn.\n",
      " Solving:  Stress period:    16    Time step:     7    Groundwater-Flow Eqn.\n",
      " Solving:  Stress period:    16    Time step:     8    Groundwater-Flow Eqn.\n",
      " Solving:  Stress period:    16    Time step:     9    Groundwater-Flow Eqn.\n",
      " Solving:  Stress period:    16    Time step:    10    Groundwater-Flow Eqn.\n",
      " Solving:  Stress period:    16    Time step:    11    Groundwater-Flow Eqn.\n",
      " Solving:  Stress period:    16    Time step:    12    Groundwater-Flow Eqn.\n",
      " Solving:  Stress period:    16    Time step:    13    Groundwater-Flow Eqn.\n",
      " Solving:  Stress period:    16    Time step:    14    Groundwater-Flow Eqn.\n",
      " Solving:  Stress period:    16    Time step:    15    Groundwater-Flow Eqn.\n",
      " Solving:  Stress period:    16    Time step:    16    Groundwater-Flow Eqn.\n",
      " Solving:  Stress period:    16    Time step:    17    Groundwater-Flow Eqn.\n",
      " Solving:  Stress period:    16    Time step:    18    Groundwater-Flow Eqn.\n",
      " Solving:  Stress period:    16    Time step:    19    Groundwater-Flow Eqn.\n",
      " Solving:  Stress period:    16    Time step:    20    Groundwater-Flow Eqn.\n",
      " Solving:  Stress period:    16    Time step:    21    Groundwater-Flow Eqn.\n",
      " Solving:  Stress period:    16    Time step:    22    Groundwater-Flow Eqn.\n",
      " Solving:  Stress period:    16    Time step:    23    Groundwater-Flow Eqn.\n",
      " Solving:  Stress period:    16    Time step:    24    Groundwater-Flow Eqn.\n",
      " Solving:  Stress period:    16    Time step:    25    Groundwater-Flow Eqn.\n",
      " Solving:  Stress period:    16    Time step:    26    Groundwater-Flow Eqn.\n",
      " Solving:  Stress period:    16    Time step:    27    Groundwater-Flow Eqn.\n",
      " Solving:  Stress period:    16    Time step:    28    Groundwater-Flow Eqn.\n",
      " Solving:  Stress period:    16    Time step:    29    Groundwater-Flow Eqn.\n",
      " Solving:  Stress period:    16    Time step:    30    Groundwater-Flow Eqn.\n",
      " Solving:  Stress period:    17    Time step:     1    Groundwater-Flow Eqn.\n",
      " Solving:  Stress period:    17    Time step:     2    Groundwater-Flow Eqn.\n",
      " Solving:  Stress period:    17    Time step:     3    Groundwater-Flow Eqn.\n",
      " Solving:  Stress period:    17    Time step:     4    Groundwater-Flow Eqn.\n",
      " Solving:  Stress period:    17    Time step:     5    Groundwater-Flow Eqn.\n",
      " Solving:  Stress period:    17    Time step:     6    Groundwater-Flow Eqn.\n",
      " Solving:  Stress period:    17    Time step:     7    Groundwater-Flow Eqn.\n",
      " Solving:  Stress period:    17    Time step:     8    Groundwater-Flow Eqn.\n",
      " Solving:  Stress period:    17    Time step:     9    Groundwater-Flow Eqn.\n",
      " Solving:  Stress period:    17    Time step:    10    Groundwater-Flow Eqn.\n",
      " Solving:  Stress period:    17    Time step:    11    Groundwater-Flow Eqn.\n",
      " Solving:  Stress period:    17    Time step:    12    Groundwater-Flow Eqn.\n",
      " Solving:  Stress period:    17    Time step:    13    Groundwater-Flow Eqn.\n",
      " Solving:  Stress period:    17    Time step:    14    Groundwater-Flow Eqn.\n",
      " Solving:  Stress period:    17    Time step:    15    Groundwater-Flow Eqn.\n",
      " Solving:  Stress period:    17    Time step:    16    Groundwater-Flow Eqn.\n",
      " Solving:  Stress period:    17    Time step:    17    Groundwater-Flow Eqn.\n",
      " Solving:  Stress period:    17    Time step:    18    Groundwater-Flow Eqn.\n",
      " Solving:  Stress period:    17    Time step:    19    Groundwater-Flow Eqn.\n",
      " Solving:  Stress period:    17    Time step:    20    Groundwater-Flow Eqn.\n",
      " Solving:  Stress period:    17    Time step:    21    Groundwater-Flow Eqn.\n",
      " Solving:  Stress period:    17    Time step:    22    Groundwater-Flow Eqn.\n",
      " Solving:  Stress period:    17    Time step:    23    Groundwater-Flow Eqn.\n",
      " Solving:  Stress period:    17    Time step:    24    Groundwater-Flow Eqn.\n",
      " Solving:  Stress period:    17    Time step:    25    Groundwater-Flow Eqn.\n",
      " Solving:  Stress period:    17    Time step:    26    Groundwater-Flow Eqn.\n",
      " Solving:  Stress period:    17    Time step:    27    Groundwater-Flow Eqn.\n",
      " Solving:  Stress period:    17    Time step:    28    Groundwater-Flow Eqn.\n",
      " Solving:  Stress period:    17    Time step:    29    Groundwater-Flow Eqn.\n",
      " Solving:  Stress period:    17    Time step:    30    Groundwater-Flow Eqn.\n",
      " Solving:  Stress period:    17    Time step:    31    Groundwater-Flow Eqn.\n",
      " Solving:  Stress period:    18    Time step:     1    Groundwater-Flow Eqn.\n",
      " Solving:  Stress period:    18    Time step:     2    Groundwater-Flow Eqn.\n",
      " Solving:  Stress period:    18    Time step:     3    Groundwater-Flow Eqn.\n",
      " Solving:  Stress period:    18    Time step:     4    Groundwater-Flow Eqn.\n",
      " Solving:  Stress period:    18    Time step:     5    Groundwater-Flow Eqn.\n",
      " Solving:  Stress period:    18    Time step:     6    Groundwater-Flow Eqn.\n",
      " Solving:  Stress period:    18    Time step:     7    Groundwater-Flow Eqn.\n",
      " Solving:  Stress period:    18    Time step:     8    Groundwater-Flow Eqn.\n",
      " Solving:  Stress period:    18    Time step:     9    Groundwater-Flow Eqn.\n",
      " Solving:  Stress period:    18    Time step:    10    Groundwater-Flow Eqn.\n",
      " Solving:  Stress period:    18    Time step:    11    Groundwater-Flow Eqn.\n",
      " Solving:  Stress period:    18    Time step:    12    Groundwater-Flow Eqn.\n",
      " Solving:  Stress period:    18    Time step:    13    Groundwater-Flow Eqn.\n",
      " Solving:  Stress period:    18    Time step:    14    Groundwater-Flow Eqn.\n",
      " Solving:  Stress period:    18    Time step:    15    Groundwater-Flow Eqn.\n",
      " Solving:  Stress period:    18    Time step:    16    Groundwater-Flow Eqn.\n",
      " Solving:  Stress period:    18    Time step:    17    Groundwater-Flow Eqn.\n",
      " Solving:  Stress period:    18    Time step:    18    Groundwater-Flow Eqn.\n",
      " Solving:  Stress period:    18    Time step:    19    Groundwater-Flow Eqn.\n",
      " Solving:  Stress period:    18    Time step:    20    Groundwater-Flow Eqn.\n",
      " Solving:  Stress period:    18    Time step:    21    Groundwater-Flow Eqn.\n",
      " Solving:  Stress period:    18    Time step:    22    Groundwater-Flow Eqn.\n",
      " Solving:  Stress period:    18    Time step:    23    Groundwater-Flow Eqn.\n",
      " Solving:  Stress period:    18    Time step:    24    Groundwater-Flow Eqn.\n",
      " Solving:  Stress period:    18    Time step:    25    Groundwater-Flow Eqn.\n",
      " Solving:  Stress period:    18    Time step:    26    Groundwater-Flow Eqn.\n",
      " Solving:  Stress period:    18    Time step:    27    Groundwater-Flow Eqn.\n",
      " Solving:  Stress period:    18    Time step:    28    Groundwater-Flow Eqn.\n",
      " Solving:  Stress period:    18    Time step:    29    Groundwater-Flow Eqn.\n",
      " Solving:  Stress period:    18    Time step:    30    Groundwater-Flow Eqn.\n",
      " Solving:  Stress period:    19    Time step:     1    Groundwater-Flow Eqn.\n",
      " Solving:  Stress period:    19    Time step:     2    Groundwater-Flow Eqn.\n",
      " Solving:  Stress period:    19    Time step:     3    Groundwater-Flow Eqn.\n",
      " Solving:  Stress period:    19    Time step:     4    Groundwater-Flow Eqn.\n",
      " Solving:  Stress period:    19    Time step:     5    Groundwater-Flow Eqn.\n",
      " Solving:  Stress period:    19    Time step:     6    Groundwater-Flow Eqn.\n",
      " Solving:  Stress period:    19    Time step:     7    Groundwater-Flow Eqn.\n",
      " Solving:  Stress period:    19    Time step:     8    Groundwater-Flow Eqn.\n"
     ]
    },
    {
     "name": "stdout",
     "output_type": "stream",
     "text": [
      " Solving:  Stress period:    19    Time step:     9    Groundwater-Flow Eqn.\n",
      " Solving:  Stress period:    19    Time step:    10    Groundwater-Flow Eqn.\n",
      " Solving:  Stress period:    19    Time step:    11    Groundwater-Flow Eqn.\n",
      " Solving:  Stress period:    19    Time step:    12    Groundwater-Flow Eqn.\n",
      " Solving:  Stress period:    19    Time step:    13    Groundwater-Flow Eqn.\n",
      " Solving:  Stress period:    19    Time step:    14    Groundwater-Flow Eqn.\n",
      " Solving:  Stress period:    19    Time step:    15    Groundwater-Flow Eqn.\n",
      " Solving:  Stress period:    19    Time step:    16    Groundwater-Flow Eqn.\n",
      " Solving:  Stress period:    19    Time step:    17    Groundwater-Flow Eqn.\n",
      " Solving:  Stress period:    19    Time step:    18    Groundwater-Flow Eqn.\n",
      " Solving:  Stress period:    19    Time step:    19    Groundwater-Flow Eqn.\n",
      " Solving:  Stress period:    19    Time step:    20    Groundwater-Flow Eqn.\n",
      " Solving:  Stress period:    19    Time step:    21    Groundwater-Flow Eqn.\n",
      " Solving:  Stress period:    19    Time step:    22    Groundwater-Flow Eqn.\n",
      " Solving:  Stress period:    19    Time step:    23    Groundwater-Flow Eqn.\n",
      " Solving:  Stress period:    19    Time step:    24    Groundwater-Flow Eqn.\n",
      " Solving:  Stress period:    19    Time step:    25    Groundwater-Flow Eqn.\n",
      " Solving:  Stress period:    19    Time step:    26    Groundwater-Flow Eqn.\n",
      " Solving:  Stress period:    19    Time step:    27    Groundwater-Flow Eqn.\n",
      " Solving:  Stress period:    19    Time step:    28    Groundwater-Flow Eqn.\n",
      " Solving:  Stress period:    19    Time step:    29    Groundwater-Flow Eqn.\n",
      " Solving:  Stress period:    19    Time step:    30    Groundwater-Flow Eqn.\n",
      " Solving:  Stress period:    19    Time step:    31    Groundwater-Flow Eqn.\n",
      " Solving:  Stress period:    20    Time step:     1    Groundwater-Flow Eqn.\n",
      " Solving:  Stress period:    20    Time step:     2    Groundwater-Flow Eqn.\n",
      " Solving:  Stress period:    20    Time step:     3    Groundwater-Flow Eqn.\n",
      " Solving:  Stress period:    20    Time step:     4    Groundwater-Flow Eqn.\n",
      " Solving:  Stress period:    20    Time step:     5    Groundwater-Flow Eqn.\n",
      " Solving:  Stress period:    20    Time step:     6    Groundwater-Flow Eqn.\n",
      " Solving:  Stress period:    20    Time step:     7    Groundwater-Flow Eqn.\n",
      " Solving:  Stress period:    20    Time step:     8    Groundwater-Flow Eqn.\n",
      " Solving:  Stress period:    20    Time step:     9    Groundwater-Flow Eqn.\n",
      " Solving:  Stress period:    20    Time step:    10    Groundwater-Flow Eqn.\n",
      " Solving:  Stress period:    20    Time step:    11    Groundwater-Flow Eqn.\n",
      " Solving:  Stress period:    20    Time step:    12    Groundwater-Flow Eqn.\n",
      " Solving:  Stress period:    20    Time step:    13    Groundwater-Flow Eqn.\n",
      " Solving:  Stress period:    20    Time step:    14    Groundwater-Flow Eqn.\n",
      " Solving:  Stress period:    20    Time step:    15    Groundwater-Flow Eqn.\n",
      " Solving:  Stress period:    20    Time step:    16    Groundwater-Flow Eqn.\n",
      " Solving:  Stress period:    20    Time step:    17    Groundwater-Flow Eqn.\n",
      " Solving:  Stress period:    20    Time step:    18    Groundwater-Flow Eqn.\n",
      " Solving:  Stress period:    20    Time step:    19    Groundwater-Flow Eqn.\n",
      " Solving:  Stress period:    20    Time step:    20    Groundwater-Flow Eqn.\n",
      " Solving:  Stress period:    20    Time step:    21    Groundwater-Flow Eqn.\n",
      " Solving:  Stress period:    20    Time step:    22    Groundwater-Flow Eqn.\n",
      " Solving:  Stress period:    20    Time step:    23    Groundwater-Flow Eqn.\n",
      " Solving:  Stress period:    20    Time step:    24    Groundwater-Flow Eqn.\n",
      " Solving:  Stress period:    20    Time step:    25    Groundwater-Flow Eqn.\n",
      " Solving:  Stress period:    20    Time step:    26    Groundwater-Flow Eqn.\n",
      " Solving:  Stress period:    20    Time step:    27    Groundwater-Flow Eqn.\n",
      " Solving:  Stress period:    20    Time step:    28    Groundwater-Flow Eqn.\n",
      " Solving:  Stress period:    20    Time step:    29    Groundwater-Flow Eqn.\n",
      " Solving:  Stress period:    20    Time step:    30    Groundwater-Flow Eqn.\n",
      " Solving:  Stress period:    20    Time step:    31    Groundwater-Flow Eqn.\n",
      " Solving:  Stress period:    21    Time step:     1    Groundwater-Flow Eqn.\n",
      " Solving:  Stress period:    21    Time step:     2    Groundwater-Flow Eqn.\n",
      " Solving:  Stress period:    21    Time step:     3    Groundwater-Flow Eqn.\n",
      " Solving:  Stress period:    21    Time step:     4    Groundwater-Flow Eqn.\n",
      " Solving:  Stress period:    21    Time step:     5    Groundwater-Flow Eqn.\n",
      " Solving:  Stress period:    21    Time step:     6    Groundwater-Flow Eqn.\n",
      " Solving:  Stress period:    21    Time step:     7    Groundwater-Flow Eqn.\n",
      " Solving:  Stress period:    21    Time step:     8    Groundwater-Flow Eqn.\n",
      " Solving:  Stress period:    21    Time step:     9    Groundwater-Flow Eqn.\n",
      " Solving:  Stress period:    21    Time step:    10    Groundwater-Flow Eqn.\n",
      " Solving:  Stress period:    21    Time step:    11    Groundwater-Flow Eqn.\n",
      " Solving:  Stress period:    21    Time step:    12    Groundwater-Flow Eqn.\n",
      " Solving:  Stress period:    21    Time step:    13    Groundwater-Flow Eqn.\n",
      " Solving:  Stress period:    21    Time step:    14    Groundwater-Flow Eqn.\n",
      " Solving:  Stress period:    21    Time step:    15    Groundwater-Flow Eqn.\n",
      " Solving:  Stress period:    21    Time step:    16    Groundwater-Flow Eqn.\n",
      " Solving:  Stress period:    21    Time step:    17    Groundwater-Flow Eqn.\n",
      " Solving:  Stress period:    21    Time step:    18    Groundwater-Flow Eqn.\n",
      " Solving:  Stress period:    21    Time step:    19    Groundwater-Flow Eqn.\n",
      " Solving:  Stress period:    21    Time step:    20    Groundwater-Flow Eqn.\n",
      " Solving:  Stress period:    21    Time step:    21    Groundwater-Flow Eqn.\n",
      " Solving:  Stress period:    21    Time step:    22    Groundwater-Flow Eqn.\n",
      " Solving:  Stress period:    21    Time step:    23    Groundwater-Flow Eqn.\n",
      " Solving:  Stress period:    21    Time step:    24    Groundwater-Flow Eqn.\n",
      " Solving:  Stress period:    21    Time step:    25    Groundwater-Flow Eqn.\n",
      " Solving:  Stress period:    21    Time step:    26    Groundwater-Flow Eqn.\n",
      " Solving:  Stress period:    21    Time step:    27    Groundwater-Flow Eqn.\n",
      " Solving:  Stress period:    21    Time step:    28    Groundwater-Flow Eqn.\n",
      " Solving:  Stress period:    22    Time step:     1    Groundwater-Flow Eqn.\n",
      " Solving:  Stress period:    22    Time step:     2    Groundwater-Flow Eqn.\n",
      " Solving:  Stress period:    22    Time step:     3    Groundwater-Flow Eqn.\n",
      " Solving:  Stress period:    22    Time step:     4    Groundwater-Flow Eqn.\n",
      " Solving:  Stress period:    22    Time step:     5    Groundwater-Flow Eqn.\n",
      " Solving:  Stress period:    22    Time step:     6    Groundwater-Flow Eqn.\n",
      " Solving:  Stress period:    22    Time step:     7    Groundwater-Flow Eqn.\n",
      " Solving:  Stress period:    22    Time step:     8    Groundwater-Flow Eqn.\n",
      " Solving:  Stress period:    22    Time step:     9    Groundwater-Flow Eqn.\n",
      " Solving:  Stress period:    22    Time step:    10    Groundwater-Flow Eqn.\n",
      " Solving:  Stress period:    22    Time step:    11    Groundwater-Flow Eqn.\n",
      " Solving:  Stress period:    22    Time step:    12    Groundwater-Flow Eqn.\n",
      " Solving:  Stress period:    22    Time step:    13    Groundwater-Flow Eqn.\n",
      " Solving:  Stress period:    22    Time step:    14    Groundwater-Flow Eqn.\n",
      " Solving:  Stress period:    22    Time step:    15    Groundwater-Flow Eqn.\n",
      " Solving:  Stress period:    22    Time step:    16    Groundwater-Flow Eqn.\n",
      " Solving:  Stress period:    22    Time step:    17    Groundwater-Flow Eqn.\n",
      " Solving:  Stress period:    22    Time step:    18    Groundwater-Flow Eqn.\n",
      " Solving:  Stress period:    22    Time step:    19    Groundwater-Flow Eqn.\n",
      " Solving:  Stress period:    22    Time step:    20    Groundwater-Flow Eqn.\n",
      " Solving:  Stress period:    22    Time step:    21    Groundwater-Flow Eqn.\n",
      " Solving:  Stress period:    22    Time step:    22    Groundwater-Flow Eqn.\n",
      " Solving:  Stress period:    22    Time step:    23    Groundwater-Flow Eqn.\n",
      " Solving:  Stress period:    22    Time step:    24    Groundwater-Flow Eqn.\n",
      " Solving:  Stress period:    22    Time step:    25    Groundwater-Flow Eqn.\n"
     ]
    },
    {
     "name": "stdout",
     "output_type": "stream",
     "text": [
      " Solving:  Stress period:    22    Time step:    26    Groundwater-Flow Eqn.\n",
      " Solving:  Stress period:    22    Time step:    27    Groundwater-Flow Eqn.\n",
      " Solving:  Stress period:    22    Time step:    28    Groundwater-Flow Eqn.\n",
      " Solving:  Stress period:    22    Time step:    29    Groundwater-Flow Eqn.\n",
      " Solving:  Stress period:    22    Time step:    30    Groundwater-Flow Eqn.\n",
      " Solving:  Stress period:    22    Time step:    31    Groundwater-Flow Eqn.\n",
      " Solving:  Stress period:    23    Time step:     1    Groundwater-Flow Eqn.\n",
      " Solving:  Stress period:    23    Time step:     2    Groundwater-Flow Eqn.\n",
      " Solving:  Stress period:    23    Time step:     3    Groundwater-Flow Eqn.\n",
      " Solving:  Stress period:    23    Time step:     4    Groundwater-Flow Eqn.\n",
      " Solving:  Stress period:    23    Time step:     5    Groundwater-Flow Eqn.\n",
      " Solving:  Stress period:    23    Time step:     6    Groundwater-Flow Eqn.\n",
      " Solving:  Stress period:    23    Time step:     7    Groundwater-Flow Eqn.\n",
      " Solving:  Stress period:    23    Time step:     8    Groundwater-Flow Eqn.\n",
      " Solving:  Stress period:    23    Time step:     9    Groundwater-Flow Eqn.\n",
      " Solving:  Stress period:    23    Time step:    10    Groundwater-Flow Eqn.\n",
      " Solving:  Stress period:    23    Time step:    11    Groundwater-Flow Eqn.\n",
      " Solving:  Stress period:    23    Time step:    12    Groundwater-Flow Eqn.\n",
      " Solving:  Stress period:    23    Time step:    13    Groundwater-Flow Eqn.\n",
      " Solving:  Stress period:    23    Time step:    14    Groundwater-Flow Eqn.\n",
      " Solving:  Stress period:    23    Time step:    15    Groundwater-Flow Eqn.\n",
      " Solving:  Stress period:    23    Time step:    16    Groundwater-Flow Eqn.\n",
      " Solving:  Stress period:    23    Time step:    17    Groundwater-Flow Eqn.\n",
      " Solving:  Stress period:    23    Time step:    18    Groundwater-Flow Eqn.\n",
      " Solving:  Stress period:    23    Time step:    19    Groundwater-Flow Eqn.\n",
      " Solving:  Stress period:    23    Time step:    20    Groundwater-Flow Eqn.\n",
      " Solving:  Stress period:    23    Time step:    21    Groundwater-Flow Eqn.\n",
      " Solving:  Stress period:    23    Time step:    22    Groundwater-Flow Eqn.\n",
      " Solving:  Stress period:    23    Time step:    23    Groundwater-Flow Eqn.\n",
      " Solving:  Stress period:    23    Time step:    24    Groundwater-Flow Eqn.\n",
      " Solving:  Stress period:    23    Time step:    25    Groundwater-Flow Eqn.\n",
      " Solving:  Stress period:    23    Time step:    26    Groundwater-Flow Eqn.\n",
      " Solving:  Stress period:    23    Time step:    27    Groundwater-Flow Eqn.\n",
      " Solving:  Stress period:    23    Time step:    28    Groundwater-Flow Eqn.\n",
      " Solving:  Stress period:    23    Time step:    29    Groundwater-Flow Eqn.\n",
      " Solving:  Stress period:    23    Time step:    30    Groundwater-Flow Eqn.\n",
      " Solving:  Stress period:    24    Time step:     1    Groundwater-Flow Eqn.\n",
      " Solving:  Stress period:    24    Time step:     2    Groundwater-Flow Eqn.\n",
      " Solving:  Stress period:    24    Time step:     3    Groundwater-Flow Eqn.\n",
      " Solving:  Stress period:    24    Time step:     4    Groundwater-Flow Eqn.\n",
      " Solving:  Stress period:    24    Time step:     5    Groundwater-Flow Eqn.\n",
      " Solving:  Stress period:    24    Time step:     6    Groundwater-Flow Eqn.\n",
      " Solving:  Stress period:    24    Time step:     7    Groundwater-Flow Eqn.\n",
      " Solving:  Stress period:    24    Time step:     8    Groundwater-Flow Eqn.\n",
      " Solving:  Stress period:    24    Time step:     9    Groundwater-Flow Eqn.\n",
      " Solving:  Stress period:    24    Time step:    10    Groundwater-Flow Eqn.\n",
      " Solving:  Stress period:    24    Time step:    11    Groundwater-Flow Eqn.\n",
      " Solving:  Stress period:    24    Time step:    12    Groundwater-Flow Eqn.\n",
      " Solving:  Stress period:    24    Time step:    13    Groundwater-Flow Eqn.\n",
      " Solving:  Stress period:    24    Time step:    14    Groundwater-Flow Eqn.\n",
      " Solving:  Stress period:    24    Time step:    15    Groundwater-Flow Eqn.\n",
      " Solving:  Stress period:    24    Time step:    16    Groundwater-Flow Eqn.\n",
      " Solving:  Stress period:    24    Time step:    17    Groundwater-Flow Eqn.\n",
      " Solving:  Stress period:    24    Time step:    18    Groundwater-Flow Eqn.\n",
      " Solving:  Stress period:    24    Time step:    19    Groundwater-Flow Eqn.\n",
      " Solving:  Stress period:    24    Time step:    20    Groundwater-Flow Eqn.\n",
      " Solving:  Stress period:    24    Time step:    21    Groundwater-Flow Eqn.\n",
      " Solving:  Stress period:    24    Time step:    22    Groundwater-Flow Eqn.\n",
      " Solving:  Stress period:    24    Time step:    23    Groundwater-Flow Eqn.\n",
      " Solving:  Stress period:    24    Time step:    24    Groundwater-Flow Eqn.\n",
      " Solving:  Stress period:    24    Time step:    25    Groundwater-Flow Eqn.\n",
      " Solving:  Stress period:    24    Time step:    26    Groundwater-Flow Eqn.\n",
      " Solving:  Stress period:    24    Time step:    27    Groundwater-Flow Eqn.\n",
      " Solving:  Stress period:    24    Time step:    28    Groundwater-Flow Eqn.\n",
      " Solving:  Stress period:    24    Time step:    29    Groundwater-Flow Eqn.\n",
      " Solving:  Stress period:    24    Time step:    30    Groundwater-Flow Eqn.\n",
      " Solving:  Stress period:    24    Time step:    31    Groundwater-Flow Eqn.\n",
      " Solving:  Stress period:    25    Time step:     1    Groundwater-Flow Eqn.\n",
      " Solving:  Stress period:    25    Time step:     2    Groundwater-Flow Eqn.\n",
      " Solving:  Stress period:    25    Time step:     3    Groundwater-Flow Eqn.\n",
      " Solving:  Stress period:    25    Time step:     4    Groundwater-Flow Eqn.\n",
      " Solving:  Stress period:    25    Time step:     5    Groundwater-Flow Eqn.\n",
      " Solving:  Stress period:    25    Time step:     6    Groundwater-Flow Eqn.\n",
      " Solving:  Stress period:    25    Time step:     7    Groundwater-Flow Eqn.\n",
      " Solving:  Stress period:    25    Time step:     8    Groundwater-Flow Eqn.\n",
      " Solving:  Stress period:    25    Time step:     9    Groundwater-Flow Eqn.\n",
      " Solving:  Stress period:    25    Time step:    10    Groundwater-Flow Eqn.\n",
      " Solving:  Stress period:    25    Time step:    11    Groundwater-Flow Eqn.\n",
      " Solving:  Stress period:    25    Time step:    12    Groundwater-Flow Eqn.\n",
      " Solving:  Stress period:    25    Time step:    13    Groundwater-Flow Eqn.\n",
      " Solving:  Stress period:    25    Time step:    14    Groundwater-Flow Eqn.\n",
      " Solving:  Stress period:    25    Time step:    15    Groundwater-Flow Eqn.\n",
      " Solving:  Stress period:    25    Time step:    16    Groundwater-Flow Eqn.\n",
      " Solving:  Stress period:    25    Time step:    17    Groundwater-Flow Eqn.\n",
      " Solving:  Stress period:    25    Time step:    18    Groundwater-Flow Eqn.\n",
      " Solving:  Stress period:    25    Time step:    19    Groundwater-Flow Eqn.\n",
      " Solving:  Stress period:    25    Time step:    20    Groundwater-Flow Eqn.\n",
      " Solving:  Stress period:    25    Time step:    21    Groundwater-Flow Eqn.\n",
      " Solving:  Stress period:    25    Time step:    22    Groundwater-Flow Eqn.\n",
      " Solving:  Stress period:    25    Time step:    23    Groundwater-Flow Eqn.\n",
      " Solving:  Stress period:    25    Time step:    24    Groundwater-Flow Eqn.\n",
      " Solving:  Stress period:    25    Time step:    25    Groundwater-Flow Eqn.\n",
      " Solving:  Stress period:    25    Time step:    26    Groundwater-Flow Eqn.\n",
      " Solving:  Stress period:    25    Time step:    27    Groundwater-Flow Eqn.\n",
      " Solving:  Stress period:    25    Time step:    28    Groundwater-Flow Eqn.\n",
      " Solving:  Stress period:    25    Time step:    29    Groundwater-Flow Eqn.\n",
      " Solving:  Stress period:    25    Time step:    30    Groundwater-Flow Eqn.\n",
      " Solving:  Stress period:    26    Time step:     1    Groundwater-Flow Eqn.\n",
      " Solving:  Stress period:    26    Time step:     2    Groundwater-Flow Eqn.\n",
      " Solving:  Stress period:    26    Time step:     3    Groundwater-Flow Eqn.\n",
      " Solving:  Stress period:    26    Time step:     4    Groundwater-Flow Eqn.\n",
      " Solving:  Stress period:    26    Time step:     5    Groundwater-Flow Eqn.\n",
      " Solving:  Stress period:    26    Time step:     6    Groundwater-Flow Eqn.\n",
      " Solving:  Stress period:    26    Time step:     7    Groundwater-Flow Eqn.\n",
      " Solving:  Stress period:    26    Time step:     8    Groundwater-Flow Eqn.\n",
      " Solving:  Stress period:    26    Time step:     9    Groundwater-Flow Eqn.\n",
      " Solving:  Stress period:    26    Time step:    10    Groundwater-Flow Eqn.\n"
     ]
    },
    {
     "name": "stdout",
     "output_type": "stream",
     "text": [
      " Solving:  Stress period:    26    Time step:    11    Groundwater-Flow Eqn.\n",
      " Solving:  Stress period:    26    Time step:    12    Groundwater-Flow Eqn.\n",
      " Solving:  Stress period:    26    Time step:    13    Groundwater-Flow Eqn.\n",
      " Solving:  Stress period:    26    Time step:    14    Groundwater-Flow Eqn.\n",
      " Solving:  Stress period:    26    Time step:    15    Groundwater-Flow Eqn.\n",
      " Solving:  Stress period:    26    Time step:    16    Groundwater-Flow Eqn.\n",
      " Solving:  Stress period:    26    Time step:    17    Groundwater-Flow Eqn.\n",
      " Solving:  Stress period:    26    Time step:    18    Groundwater-Flow Eqn.\n",
      " Solving:  Stress period:    26    Time step:    19    Groundwater-Flow Eqn.\n",
      " Solving:  Stress period:    26    Time step:    20    Groundwater-Flow Eqn.\n",
      " Solving:  Stress period:    26    Time step:    21    Groundwater-Flow Eqn.\n",
      " Solving:  Stress period:    26    Time step:    22    Groundwater-Flow Eqn.\n",
      " Solving:  Stress period:    26    Time step:    23    Groundwater-Flow Eqn.\n",
      " Solving:  Stress period:    26    Time step:    24    Groundwater-Flow Eqn.\n",
      " Solving:  Stress period:    26    Time step:    25    Groundwater-Flow Eqn.\n",
      " Solving:  Stress period:    26    Time step:    26    Groundwater-Flow Eqn.\n",
      " Solving:  Stress period:    26    Time step:    27    Groundwater-Flow Eqn.\n",
      " Solving:  Stress period:    26    Time step:    28    Groundwater-Flow Eqn.\n",
      " Solving:  Stress period:    26    Time step:    29    Groundwater-Flow Eqn.\n",
      " Solving:  Stress period:    26    Time step:    30    Groundwater-Flow Eqn.\n",
      " Solving:  Stress period:    26    Time step:    31    Groundwater-Flow Eqn.\n",
      " Solving:  Stress period:    27    Time step:     1    Groundwater-Flow Eqn.\n",
      " Solving:  Stress period:    27    Time step:     2    Groundwater-Flow Eqn.\n",
      " Solving:  Stress period:    27    Time step:     3    Groundwater-Flow Eqn.\n",
      " Solving:  Stress period:    27    Time step:     4    Groundwater-Flow Eqn.\n",
      " Solving:  Stress period:    27    Time step:     5    Groundwater-Flow Eqn.\n",
      " Solving:  Stress period:    27    Time step:     6    Groundwater-Flow Eqn.\n",
      " Solving:  Stress period:    27    Time step:     7    Groundwater-Flow Eqn.\n",
      " Solving:  Stress period:    27    Time step:     8    Groundwater-Flow Eqn.\n",
      " Solving:  Stress period:    27    Time step:     9    Groundwater-Flow Eqn.\n",
      " Solving:  Stress period:    27    Time step:    10    Groundwater-Flow Eqn.\n",
      " Solving:  Stress period:    27    Time step:    11    Groundwater-Flow Eqn.\n",
      " Solving:  Stress period:    27    Time step:    12    Groundwater-Flow Eqn.\n",
      " Solving:  Stress period:    27    Time step:    13    Groundwater-Flow Eqn.\n",
      " Solving:  Stress period:    27    Time step:    14    Groundwater-Flow Eqn.\n",
      " Solving:  Stress period:    27    Time step:    15    Groundwater-Flow Eqn.\n",
      " Solving:  Stress period:    27    Time step:    16    Groundwater-Flow Eqn.\n",
      " Solving:  Stress period:    27    Time step:    17    Groundwater-Flow Eqn.\n",
      " Solving:  Stress period:    27    Time step:    18    Groundwater-Flow Eqn.\n",
      " Solving:  Stress period:    27    Time step:    19    Groundwater-Flow Eqn.\n",
      " Solving:  Stress period:    27    Time step:    20    Groundwater-Flow Eqn.\n",
      " Solving:  Stress period:    27    Time step:    21    Groundwater-Flow Eqn.\n",
      " Solving:  Stress period:    27    Time step:    22    Groundwater-Flow Eqn.\n",
      " Solving:  Stress period:    27    Time step:    23    Groundwater-Flow Eqn.\n",
      " Solving:  Stress period:    27    Time step:    24    Groundwater-Flow Eqn.\n",
      " Solving:  Stress period:    27    Time step:    25    Groundwater-Flow Eqn.\n",
      " Solving:  Stress period:    27    Time step:    26    Groundwater-Flow Eqn.\n",
      " Solving:  Stress period:    27    Time step:    27    Groundwater-Flow Eqn.\n",
      " Solving:  Stress period:    27    Time step:    28    Groundwater-Flow Eqn.\n",
      " Solving:  Stress period:    27    Time step:    29    Groundwater-Flow Eqn.\n",
      " Solving:  Stress period:    27    Time step:    30    Groundwater-Flow Eqn.\n",
      " Solving:  Stress period:    27    Time step:    31    Groundwater-Flow Eqn.\n",
      " Solving:  Stress period:    28    Time step:     1    Groundwater-Flow Eqn.\n",
      " Solving:  Stress period:    28    Time step:     2    Groundwater-Flow Eqn.\n",
      " Solving:  Stress period:    28    Time step:     3    Groundwater-Flow Eqn.\n",
      " Solving:  Stress period:    28    Time step:     4    Groundwater-Flow Eqn.\n",
      " Solving:  Stress period:    28    Time step:     5    Groundwater-Flow Eqn.\n",
      " Solving:  Stress period:    28    Time step:     6    Groundwater-Flow Eqn.\n",
      " Solving:  Stress period:    28    Time step:     7    Groundwater-Flow Eqn.\n",
      " Solving:  Stress period:    28    Time step:     8    Groundwater-Flow Eqn.\n",
      " Solving:  Stress period:    28    Time step:     9    Groundwater-Flow Eqn.\n",
      " Solving:  Stress period:    28    Time step:    10    Groundwater-Flow Eqn.\n",
      " Solving:  Stress period:    28    Time step:    11    Groundwater-Flow Eqn.\n",
      " Solving:  Stress period:    28    Time step:    12    Groundwater-Flow Eqn.\n",
      " Solving:  Stress period:    28    Time step:    13    Groundwater-Flow Eqn.\n",
      " Solving:  Stress period:    28    Time step:    14    Groundwater-Flow Eqn.\n",
      " Solving:  Stress period:    28    Time step:    15    Groundwater-Flow Eqn.\n",
      " Solving:  Stress period:    28    Time step:    16    Groundwater-Flow Eqn.\n",
      " Solving:  Stress period:    28    Time step:    17    Groundwater-Flow Eqn.\n",
      " Solving:  Stress period:    28    Time step:    18    Groundwater-Flow Eqn.\n",
      " Solving:  Stress period:    28    Time step:    19    Groundwater-Flow Eqn.\n",
      " Solving:  Stress period:    28    Time step:    20    Groundwater-Flow Eqn.\n",
      " Solving:  Stress period:    28    Time step:    21    Groundwater-Flow Eqn.\n",
      " Solving:  Stress period:    28    Time step:    22    Groundwater-Flow Eqn.\n",
      " Solving:  Stress period:    28    Time step:    23    Groundwater-Flow Eqn.\n",
      " Solving:  Stress period:    28    Time step:    24    Groundwater-Flow Eqn.\n",
      " Solving:  Stress period:    28    Time step:    25    Groundwater-Flow Eqn.\n",
      " Solving:  Stress period:    28    Time step:    26    Groundwater-Flow Eqn.\n",
      " Solving:  Stress period:    28    Time step:    27    Groundwater-Flow Eqn.\n",
      " Solving:  Stress period:    28    Time step:    28    Groundwater-Flow Eqn.\n",
      " Solving:  Stress period:    28    Time step:    29    Groundwater-Flow Eqn.\n",
      " Solving:  Stress period:    28    Time step:    30    Groundwater-Flow Eqn.\n",
      " Solving:  Stress period:    29    Time step:     1    Groundwater-Flow Eqn.\n",
      " Solving:  Stress period:    29    Time step:     2    Groundwater-Flow Eqn.\n",
      " Solving:  Stress period:    29    Time step:     3    Groundwater-Flow Eqn.\n",
      " Solving:  Stress period:    29    Time step:     4    Groundwater-Flow Eqn.\n",
      " Solving:  Stress period:    29    Time step:     5    Groundwater-Flow Eqn.\n",
      " Solving:  Stress period:    29    Time step:     6    Groundwater-Flow Eqn.\n",
      " Solving:  Stress period:    29    Time step:     7    Groundwater-Flow Eqn.\n",
      " Solving:  Stress period:    29    Time step:     8    Groundwater-Flow Eqn.\n",
      " Solving:  Stress period:    29    Time step:     9    Groundwater-Flow Eqn.\n",
      " Solving:  Stress period:    29    Time step:    10    Groundwater-Flow Eqn.\n",
      " Solving:  Stress period:    29    Time step:    11    Groundwater-Flow Eqn.\n",
      " Solving:  Stress period:    29    Time step:    12    Groundwater-Flow Eqn.\n",
      " Solving:  Stress period:    29    Time step:    13    Groundwater-Flow Eqn.\n",
      " Solving:  Stress period:    29    Time step:    14    Groundwater-Flow Eqn.\n",
      " Solving:  Stress period:    29    Time step:    15    Groundwater-Flow Eqn.\n",
      " Solving:  Stress period:    29    Time step:    16    Groundwater-Flow Eqn.\n",
      " Solving:  Stress period:    29    Time step:    17    Groundwater-Flow Eqn.\n",
      " Solving:  Stress period:    29    Time step:    18    Groundwater-Flow Eqn.\n",
      " Solving:  Stress period:    29    Time step:    19    Groundwater-Flow Eqn.\n",
      " Solving:  Stress period:    29    Time step:    20    Groundwater-Flow Eqn.\n",
      " Solving:  Stress period:    29    Time step:    21    Groundwater-Flow Eqn.\n",
      " Solving:  Stress period:    29    Time step:    22    Groundwater-Flow Eqn.\n",
      " Solving:  Stress period:    29    Time step:    23    Groundwater-Flow Eqn.\n",
      " Solving:  Stress period:    29    Time step:    24    Groundwater-Flow Eqn.\n",
      " Solving:  Stress period:    29    Time step:    25    Groundwater-Flow Eqn.\n"
     ]
    },
    {
     "name": "stdout",
     "output_type": "stream",
     "text": [
      " Solving:  Stress period:    29    Time step:    26    Groundwater-Flow Eqn.\n",
      " Solving:  Stress period:    29    Time step:    27    Groundwater-Flow Eqn.\n",
      " Solving:  Stress period:    29    Time step:    28    Groundwater-Flow Eqn.\n",
      " Solving:  Stress period:    29    Time step:    29    Groundwater-Flow Eqn.\n",
      " Solving:  Stress period:    29    Time step:    30    Groundwater-Flow Eqn.\n",
      " Solving:  Stress period:    29    Time step:    31    Groundwater-Flow Eqn.\n",
      " Solving:  Stress period:    30    Time step:     1    Groundwater-Flow Eqn.\n",
      " Solving:  Stress period:    30    Time step:     2    Groundwater-Flow Eqn.\n",
      " Solving:  Stress period:    30    Time step:     3    Groundwater-Flow Eqn.\n",
      " Solving:  Stress period:    30    Time step:     4    Groundwater-Flow Eqn.\n",
      " Solving:  Stress period:    30    Time step:     5    Groundwater-Flow Eqn.\n",
      " Solving:  Stress period:    30    Time step:     6    Groundwater-Flow Eqn.\n",
      " Solving:  Stress period:    30    Time step:     7    Groundwater-Flow Eqn.\n",
      " Solving:  Stress period:    30    Time step:     8    Groundwater-Flow Eqn.\n",
      " Solving:  Stress period:    30    Time step:     9    Groundwater-Flow Eqn.\n",
      " Solving:  Stress period:    30    Time step:    10    Groundwater-Flow Eqn.\n",
      " Solving:  Stress period:    30    Time step:    11    Groundwater-Flow Eqn.\n",
      " Solving:  Stress period:    30    Time step:    12    Groundwater-Flow Eqn.\n",
      " Solving:  Stress period:    30    Time step:    13    Groundwater-Flow Eqn.\n",
      " Solving:  Stress period:    30    Time step:    14    Groundwater-Flow Eqn.\n",
      " Solving:  Stress period:    30    Time step:    15    Groundwater-Flow Eqn.\n",
      " Solving:  Stress period:    30    Time step:    16    Groundwater-Flow Eqn.\n",
      " Solving:  Stress period:    30    Time step:    17    Groundwater-Flow Eqn.\n",
      " Solving:  Stress period:    30    Time step:    18    Groundwater-Flow Eqn.\n",
      " Solving:  Stress period:    30    Time step:    19    Groundwater-Flow Eqn.\n",
      " Solving:  Stress period:    30    Time step:    20    Groundwater-Flow Eqn.\n",
      " Solving:  Stress period:    30    Time step:    21    Groundwater-Flow Eqn.\n",
      " Solving:  Stress period:    30    Time step:    22    Groundwater-Flow Eqn.\n",
      " Solving:  Stress period:    30    Time step:    23    Groundwater-Flow Eqn.\n",
      " Solving:  Stress period:    30    Time step:    24    Groundwater-Flow Eqn.\n",
      " Solving:  Stress period:    30    Time step:    25    Groundwater-Flow Eqn.\n",
      " Solving:  Stress period:    30    Time step:    26    Groundwater-Flow Eqn.\n",
      " Solving:  Stress period:    30    Time step:    27    Groundwater-Flow Eqn.\n",
      " Solving:  Stress period:    30    Time step:    28    Groundwater-Flow Eqn.\n",
      " Solving:  Stress period:    30    Time step:    29    Groundwater-Flow Eqn.\n",
      " Solving:  Stress period:    30    Time step:    30    Groundwater-Flow Eqn.\n",
      " Solving:  Stress period:    31    Time step:     1    Groundwater-Flow Eqn.\n",
      " Solving:  Stress period:    31    Time step:     2    Groundwater-Flow Eqn.\n",
      " Solving:  Stress period:    31    Time step:     3    Groundwater-Flow Eqn.\n",
      " Solving:  Stress period:    31    Time step:     4    Groundwater-Flow Eqn.\n",
      " Solving:  Stress period:    31    Time step:     5    Groundwater-Flow Eqn.\n",
      " Solving:  Stress period:    31    Time step:     6    Groundwater-Flow Eqn.\n",
      " Solving:  Stress period:    31    Time step:     7    Groundwater-Flow Eqn.\n",
      " Solving:  Stress period:    31    Time step:     8    Groundwater-Flow Eqn.\n",
      " Solving:  Stress period:    31    Time step:     9    Groundwater-Flow Eqn.\n",
      " Solving:  Stress period:    31    Time step:    10    Groundwater-Flow Eqn.\n",
      " Solving:  Stress period:    31    Time step:    11    Groundwater-Flow Eqn.\n",
      " Solving:  Stress period:    31    Time step:    12    Groundwater-Flow Eqn.\n",
      " Solving:  Stress period:    31    Time step:    13    Groundwater-Flow Eqn.\n",
      " Solving:  Stress period:    31    Time step:    14    Groundwater-Flow Eqn.\n",
      " Solving:  Stress period:    31    Time step:    15    Groundwater-Flow Eqn.\n",
      " Solving:  Stress period:    31    Time step:    16    Groundwater-Flow Eqn.\n",
      " Solving:  Stress period:    31    Time step:    17    Groundwater-Flow Eqn.\n",
      " Solving:  Stress period:    31    Time step:    18    Groundwater-Flow Eqn.\n",
      " Solving:  Stress period:    31    Time step:    19    Groundwater-Flow Eqn.\n",
      " Solving:  Stress period:    31    Time step:    20    Groundwater-Flow Eqn.\n",
      " Solving:  Stress period:    31    Time step:    21    Groundwater-Flow Eqn.\n",
      " Solving:  Stress period:    31    Time step:    22    Groundwater-Flow Eqn.\n",
      " Solving:  Stress period:    31    Time step:    23    Groundwater-Flow Eqn.\n",
      " Solving:  Stress period:    31    Time step:    24    Groundwater-Flow Eqn.\n",
      " Solving:  Stress period:    31    Time step:    25    Groundwater-Flow Eqn.\n",
      " Solving:  Stress period:    31    Time step:    26    Groundwater-Flow Eqn.\n",
      " Solving:  Stress period:    31    Time step:    27    Groundwater-Flow Eqn.\n",
      " Solving:  Stress period:    31    Time step:    28    Groundwater-Flow Eqn.\n",
      " Solving:  Stress period:    31    Time step:    29    Groundwater-Flow Eqn.\n",
      " Solving:  Stress period:    31    Time step:    30    Groundwater-Flow Eqn.\n",
      " Solving:  Stress period:    31    Time step:    31    Groundwater-Flow Eqn.\n",
      " Run end date and time (yyyy/mm/dd hh:mm:ss): 2020/12/11 15:26:45\n",
      " Elapsed run time: 58 Minutes, 44.553 Seconds\n",
      "\n",
      "  Normal termination of simulation\n"
     ]
    }
   ],
   "source": [
    "success, buff = m.run_model()"
   ]
  },
  {
   "cell_type": "code",
   "execution_count": null,
   "metadata": {},
   "outputs": [],
   "source": [
    "1626903.5*30"
   ]
  },
  {
   "cell_type": "code",
   "execution_count": null,
   "metadata": {},
   "outputs": [],
   "source": [
    "2:28"
   ]
  }
 ],
 "metadata": {
  "kernelspec": {
   "display_name": "Python 3",
   "language": "python",
   "name": "python3"
  },
  "language_info": {
   "codemirror_mode": {
    "name": "ipython",
    "version": 3
   },
   "file_extension": ".py",
   "mimetype": "text/x-python",
   "name": "python",
   "nbconvert_exporter": "python",
   "pygments_lexer": "ipython3",
   "version": "3.8.5"
  }
 },
 "nbformat": 4,
 "nbformat_minor": 4
}
