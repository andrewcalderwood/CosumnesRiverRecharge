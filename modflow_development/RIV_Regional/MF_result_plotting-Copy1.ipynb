{
 "cells": [
  {
   "cell_type": "code",
   "execution_count": null,
   "metadata": {},
   "outputs": [],
   "source": [
    "import os\n",
    "import flopy\n",
    "import numpy as np\n",
    "import matplotlib.pyplot as plt\n",
    "import flopy.utils.binaryfile as bf\n",
    "import geopandas as gpd\n"
   ]
  },
  {
   "cell_type": "code",
   "execution_count": null,
   "metadata": {},
   "outputs": [],
   "source": [
    "## Set up directory referencing\n",
    "# Package data\n",
    "gwfm_dir = os.path.dirname(os.path.dirname(os.getcwd()))"
   ]
  },
  {
   "cell_type": "code",
   "execution_count": null,
   "metadata": {},
   "outputs": [],
   "source": [
    "def plot_lines(lines):\n",
    "    fig, ax = plt.subplots()\n",
    "    for ln in lines:\n",
    "        plt.plot([ln[0][0], ln[1][0]], [ln[0][1], ln[1][1]], linewidth = 0.1)"
   ]
  },
  {
   "cell_type": "code",
   "execution_count": null,
   "metadata": {},
   "outputs": [],
   "source": [
    "# Import location of sensors\n",
    "spath = \"C://Users/ajcalder/Box/Research_Calderwood/dem\"\n",
    "df = pd.read_csv(spath+\"/allsensor_latlong.csv\", parse_dates = True, \n",
    "                index_col = 0, sep = ',', header = 'infer')\n",
    "\n",
    "lat = df.Latitude.values\n",
    "lon = df.Longitude.values\n",
    "\n",
    "# Change project of sensor locations\n",
    "crs_wgs = pyproj.CRS(\"epsg:4326\")\n",
    "crs_utm = pyproj.CRS(\"epsg:32610\")\n",
    "transformer = pyproj.Transformer.from_crs(crs_wgs, crs_utm, always_xy = True)\n",
    "# Convert WGS Lat and long to Easting and Northing in Zone 10N\n",
    "east, north = transformer.transform(lon,lat)"
   ]
  },
  {
   "cell_type": "code",
   "execution_count": null,
   "metadata": {},
   "outputs": [],
   "source": [
    "# Plot the basic model grid and sensors\n",
    "plt.rcParams[\"figure.figsize\"] = (20,10)\n",
    "fig = plot_lines(mg.grid_lines)\n",
    "plt.scatter(x = mg.extent[0:2], y = mg.extent[2:])\n",
    "# plot_lines(mg.grid_lines)\n",
    "plt.scatter(east, north, c='r')\n"
   ]
  },
  {
   "cell_type": "code",
   "execution_count": null,
   "metadata": {},
   "outputs": [],
   "source": [
    "sfr_dir = gwfm_dir+'/SFR_data'"
   ]
  },
  {
   "cell_type": "code",
   "execution_count": null,
   "metadata": {},
   "outputs": [],
   "source": [
    "inflow = pd.read_csv(sfr_dir+'MB_daily_flow_cfs_2011_2019.csv', index_col = 'datetime', parse_dates = True)\n",
    "inflow['flow_cmd'] = inflow.flow_cfs * (86400/(3.28**3))\n",
    "\n",
    "inflow.flow_cmd.plot()\n",
    "\n",
    "plt.xlabel('Date')\n",
    "plt.ylabel('Discharge ($m^3/d)$')\n",
    "plt.title('Measured Flow at Michigan Bar')\n",
    "# plt.ticklabel_format(style='scientific') # or plain for all zeros\n",
    "\n",
    "# plt.savefig('Plots/Model_SFR_UZF_Progress/historicalflow_2011_2019.png', dpi = 600, bbox_inches='tight')"
   ]
  },
  {
   "cell_type": "code",
   "execution_count": null,
   "metadata": {},
   "outputs": [],
   "source": []
  },
  {
   "cell_type": "code",
   "execution_count": null,
   "metadata": {},
   "outputs": [],
   "source": []
  },
  {
   "cell_type": "markdown",
   "metadata": {},
   "source": [
    "## Plotting head raster and contours"
   ]
  },
  {
   "cell_type": "code",
   "execution_count": null,
   "metadata": {},
   "outputs": [],
   "source": [
    "loadpth = 'C:/wrdapp/GWFlowModel/Cosumnes/Cosumnes_simple'\n",
    "model_ws = loadpth+'/WEL_RIV_RCH_tprogs_200layers/realization000'\n",
    "m = flopy.modflow.Modflow.load('MF.nam', model_ws=model_ws, \n",
    "                                exe_name='MF2005', version='mf2005')"
   ]
  },
  {
   "cell_type": "code",
   "execution_count": null,
   "metadata": {},
   "outputs": [],
   "source": [
    "hdobj = flopy.utils.HeadFile(model_ws +'/MF.hds')\n",
    "spd_stp = hdobj.get_kstpkper()\n",
    "spd_stp"
   ]
  },
  {
   "cell_type": "code",
   "execution_count": null,
   "metadata": {},
   "outputs": [],
   "source": [
    "#head = hdobj.get_data(kstpkper = spd_stp[0])\n",
    "head = hdobj.get_data(totim=1.0)"
   ]
  },
  {
   "cell_type": "code",
   "execution_count": null,
   "metadata": {},
   "outputs": [],
   "source": [
    "nrow=60\n",
    "ncol=105\n",
    "delr=200\n",
    "delc=200\n",
    "Lx = 21000\n",
    "Ly = 12000\n",
    "extent = (delr / 2.0, Lx - delr / 2.0, Ly - delc / 2.0, delc / 2.0)\n",
    "fig = plt.figure(figsize=(6, 6))\n",
    "ax = fig.add_subplot(1, 1, 1, aspect=\"equal\")\n",
    "ax.contour(head[0, :, :], levels=np.arange(1, 10, 1), extent = extent)"
   ]
  },
  {
   "cell_type": "code",
   "execution_count": null,
   "metadata": {},
   "outputs": [],
   "source": [
    "def plot_head(hdobj, name):\n",
    "    head = hdobj.get_data(totim = 1.0)\n",
    "    levels_hmax = np.round(np.max(head[head!=1E+30]),-1)\n",
    "#     levels_hmin = np.round(np.min(head[head!=-999.99]),-1)\n",
    "    levels_hmin = np.round(np.min(head[head>=-200]),-1)\n",
    "   # frf = cbb.get_data(text='FLOW RIGHT FACE')[0]\n",
    "   # fff = cbb.get_data(text='FLOW FRONT FACE')[0]\n",
    "\n",
    "    levels = np.arange(levels_hmin, levels_hmax, 2)\n",
    "\n",
    "    fig = plt.figure(figsize=(30, 20))\n",
    "\n",
    "    ax = fig.add_subplot(1,1,1)\n",
    "    ax.set_title(name+'Head Contours')\n",
    "    mapview = flopy.plot.PlotMapView(model=m)\n",
    "    quadmesh = mapview.plot_ibound()\n",
    "#     line = mapview.plot_bc('RIV', plotAll=True)\n",
    "    mapview.plot_bc(\"GHB\", plotAll=True)\n",
    "    mapview.plot_bc(\"CHD\", plotAll=True)\n",
    "    Teichert = gpd.read_file('C:/wrdapp/OHWD recharge project files/Kautz Property.shp')\n",
    "    Teichert_3310 = Teichert.to_crs('epsg:3310')\n",
    "    Teichert_3310.plot(ax = ax)\n",
    "\n",
    "    contour_set = mapview.contour_array(head[5,:,:], masked_values=[-999.99, 1e+30], levels=levels)\n",
    "#     quiver = mapview.plot_discharge(frf, fff, istep=10, jstep=10)  # no head array for volumetric discharge\n",
    "\n",
    "    cb = plt.colorbar(contour_set, shrink = 0.5)\n",
    "    cb.set_label('Head (m)')\n",
    "\n",
    "    ax.ticklabel_format(style='plain')\n",
    "\n",
    "    linecollection = mapview.plot_grid(linewidths = 0.3)\n",
    "    plt.xlabel('Easting (m)')\n",
    "    plt.ylabel('Northing (m)')\n",
    "#     plt.savefig('Plots//'+name +'_head_contour.png', dpi = 600, bbox_inches='tight')"
   ]
  },
  {
   "cell_type": "code",
   "execution_count": null,
   "metadata": {},
   "outputs": [],
   "source": [
    "spd_stp"
   ]
  },
  {
   "cell_type": "code",
   "execution_count": null,
   "metadata": {},
   "outputs": [],
   "source": [
    "mapview.crs"
   ]
  },
  {
   "cell_type": "markdown",
   "metadata": {},
   "source": []
  },
  {
   "cell_type": "code",
   "execution_count": null,
   "metadata": {},
   "outputs": [],
   "source": [
    "Teichert = gpd.read_file('C:/wrdapp/OHWD recharge project files/Kautz Property.shp')\n",
    "Teichert_3310 = Teichert.to_crs('epsg:3310')\n",
    "print('Teichert crs: ', Teichert.crs)\n",
    "Teichert_3310.plot()\n"
   ]
  },
  {
   "cell_type": "code",
   "execution_count": null,
   "metadata": {},
   "outputs": [],
   "source": [
    "#cbb = flopy.utils.CellBudgetFile(model_ws +'/MF.cbc')\n",
    "\n",
    "hdobj = flopy.utils.HeadFile(model_ws + '/MF.hds')\n",
    "#spd_stp = hdobj.get_kstpkper()\n",
    "# for i in np.arange(0,len(spd_stp)):\n",
    "plot_head(hdobj, 'MF')\n",
    "\n"
   ]
  },
  {
   "cell_type": "code",
   "execution_count": null,
   "metadata": {},
   "outputs": [],
   "source": [
    "hdobj\n",
    "heads = gpd.read_file(model_ws + '/MF.hds')"
   ]
  },
  {
   "cell_type": "code",
   "execution_count": null,
   "metadata": {},
   "outputs": [],
   "source": [
    "### Only show heads in Teichert\n",
    "\n",
    "head_Teichert = gpd.clip(hdobj, Teichert_3310)"
   ]
  },
  {
   "cell_type": "code",
   "execution_count": null,
   "metadata": {},
   "outputs": [],
   "source": [
    "montecarlo distrubution, just at the recharge areas. Plot the pdf at each cell in the montecarlo"
   ]
  },
  {
   "cell_type": "code",
   "execution_count": null,
   "metadata": {},
   "outputs": [],
   "source": [
    "print(spd_stp)\n",
    "head = hdobj.get_data(kstpkper = spd_stp[0])\n",
    "print(head[0,91,215], head[10,94,218] ,head[0,85,187])\n",
    "head = hdobj.get_data(kstpkper = spd_stp[1])\n",
    "print(head[0,91,215], head[10,94,218] ,head[0,85,187])\n",
    "head = hdobj.get_data(kstpkper = spd_stp[2])\n",
    "print(head[0,91,215], head[10,94,218] ,head[0,85,187])\n",
    "head = hdobj.get_data(kstpkper = spd_stp[3])\n",
    "print(head[0,91,215], head[10,94,218] ,head[0,85,187])\n",
    "head = hdobj.get_data(kstpkper = spd_stp[4])\n",
    "print(head[0,91,215], head[10,94,218] ,head[0,85,187])\n",
    "head = hdobj.get_data(kstpkper = spd_stp[5])\n",
    "print(head[0,91,215], head[10,94,218] ,head[0,85,187])"
   ]
  },
  {
   "cell_type": "code",
   "execution_count": null,
   "metadata": {},
   "outputs": [],
   "source": [
    "#cbb.textlist\n",
    "#spd_stp"
   ]
  },
  {
   "cell_type": "markdown",
   "metadata": {},
   "source": [
    "## Plot model domain and boundary conditions"
   ]
  },
  {
   "cell_type": "code",
   "execution_count": null,
   "metadata": {},
   "outputs": [],
   "source": [
    "fig = plt.figure(figsize=(30, 20))\n",
    "\n",
    "ax = fig.add_subplot(1,1,1)\n",
    "\n",
    "mapview = flopy.plot.PlotMapView(model=m)\n",
    "quadmesh = mapview.plot_ibound()\n",
    "# line = mapview.plot_bc('RIV')\n",
    "ghb = mapview.plot_bc(\"GHB\", plotAll=True)\n",
    "mapview.plot_bc(\"WEL\", plotAll=True)\n",
    "\n",
    "ax.ticklabel_format(style='plain')\n",
    "\n",
    "linecollection = mapview.plot_grid(linewidths = 0.3)\n",
    "plt.xlabel('Easting (m)')\n",
    "plt.ylabel('Northing (m)')\n",
    "plt.savefig('Plots//'+'MF' +'_boundary_conditions.png', dpi = 600, bbox_inches='tight')"
   ]
  },
  {
   "cell_type": "markdown",
   "metadata": {},
   "source": [
    "## Plot model cross section"
   ]
  },
  {
   "cell_type": "code",
   "execution_count": null,
   "metadata": {},
   "outputs": [],
   "source": [
    "\n",
    "def plot_xs(hdobj, rowcol, rowcolnum, spd_stp, name):\n",
    "    head = hdobj.get_data(kstpkper = spd_stp)\n",
    "    fig = plt.figure(figsize=(40, 20))\n",
    "    ax = fig.add_subplot(1, 1, 1)\n",
    "    mcs = flopy.plot.PlotCrossSection(model=m, line={ rowcol : rowcolnum})\n",
    "    linecollection = mcs.plot_grid()\n",
    "    mcs.plot_ibound(color_ch = 'yellow', color_noflow = 'black')\n",
    "    ghbline = mcs.plot_bc('GHB')\n",
    "    mcs.plot_bc(\"CHD\")\n",
    "\n",
    "    for k in np.arange(0,head.shape[0]):\n",
    "        wt = mcs.plot_surface(head[k,:,:], masked_values = [-999.99], label = 'Layer'+str(k), lw = 2.5)\n",
    "    \n",
    "    # plot the horizontal hydraulic conductivities\n",
    "    a = m.upw.hk.array\n",
    "    csa = mcs.plot_array(a)\n",
    "    cb = plt.colorbar(csa, shrink=0.75)\n",
    "    cb.set_label('Horiz. Cond. (m/month)')\n",
    "    \n",
    "    plt.ylabel('Elevation AMSL (m) ')\n",
    "    plt.xlabel('Distance from West Model Boundary (m)')\n",
    "    plt.legend(loc = (0.05,.7), prop={'size': 20})\n",
    "    t = ax.set_title(name+'Row '+str(rowcolnum)+' Cross-Section - with IBOUND Boundary Conditions')\n",
    "#     plt.savefig('Plots//'+name +'_xs_row_'+str(rownum)+'.png', bbox_inches='tight')\n"
   ]
  },
  {
   "cell_type": "code",
   "execution_count": null,
   "metadata": {},
   "outputs": [],
   "source": [
    "# head = hdobj.get_data(kstpkper = spd_stp[1])\n",
    "# plt.imshow(head[0,:,:], vmin = -10, vmax = 70)\n",
    "# plt.colorbar()\n",
    "# np.savetxt('model_heads_after_sp6_use_for_strt_heads.tsv', head[0,:,:], delimiter = '\\t')"
   ]
  },
  {
   "cell_type": "code",
   "execution_count": null,
   "metadata": {},
   "outputs": [],
   "source": [
    "hdobj = flopy.utils.HeadFile('data/MF.hds')\n"
   ]
  },
  {
   "cell_type": "code",
   "execution_count": null,
   "metadata": {},
   "outputs": [],
   "source": [
    "plot_xs(hdobj, 'Row', 0,  spd_stp[0], 'MF')\n"
   ]
  },
  {
   "cell_type": "code",
   "execution_count": null,
   "metadata": {},
   "outputs": [],
   "source": [
    "head = hdobj.get_data(kstpkper = spd_stp[4])\n",
    "plt.contour(head"
   ]
  },
  {
   "cell_type": "code",
   "execution_count": null,
   "metadata": {},
   "outputs": [],
   "source": [
    "plot_xs(hdobj, 'Column', 50, spd_stp[0], 'MF')\n"
   ]
  },
  {
   "cell_type": "markdown",
   "metadata": {},
   "source": [
    "## Model grid and layer review for TPROGS use"
   ]
  },
  {
   "cell_type": "code",
   "execution_count": null,
   "metadata": {},
   "outputs": [],
   "source": [
    "m.modelgrid.load_coord_info"
   ]
  },
  {
   "cell_type": "code",
   "execution_count": null,
   "metadata": {},
   "outputs": [],
   "source": [
    "fig = plt.figure(figsize=(40, 20))\n",
    "ax = fig.add_subplot(1, 1, 1)\n",
    "\n",
    "\n",
    "rownum = 75\n",
    "mcs = flopy.plot.PlotCrossSection(model=m, line={'Row' : 40})\n",
    "linecollection = mcs.plot_grid(linewidth = 0.3)\n",
    "ax.add_collection(linecollection)\n"
   ]
  },
  {
   "cell_type": "code",
   "execution_count": null,
   "metadata": {},
   "outputs": [],
   "source": [
    "# head = hdobj.get_data(kstpkper = (0,0))\n",
    "fig = plt.figure(figsize=(40, 20))\n",
    "ax = fig.add_subplot(1, 1, 1)\n",
    "\n",
    "\n",
    "rownum = 75\n",
    "mcs = flopy.plot.PlotCrossSection(model=m, line={'Row' : 40})\n",
    "linecollection = mcs.plot_grid(linewidth = 0.3)\n",
    "ax.add_collection(linecollection)\n",
    "ax.set_xlim(30000, 46000)\n",
    "ax.set_ylim(0, 70)\n",
    "\n",
    "# wt = mcs.plot_surface(head, masked_values = [-999.99], color = 'blue', lw = 2.5)\n",
    "\n"
   ]
  },
  {
   "cell_type": "code",
   "execution_count": null,
   "metadata": {},
   "outputs": [],
   "source": [
    "# head = hdobj.get_data(kstpkper = (0,0))\n",
    "fig = plt.figure(figsize=(40, 20))\n",
    "ax = fig.add_subplot(1, 1, 1)\n",
    "\n",
    "\n",
    "rownum = 75\n",
    "mcs = flopy.plot.PlotCrossSection(model=m, line={'Row' : 40})\n",
    "linecollection = mcs.plot_grid(linewidth = 0.3)\n",
    "ax.add_collection(linecollection)\n",
    "ax.set_xlim(30000, 46000)\n",
    "ax.set_ylim(20, 50)\n",
    "\n",
    "# wt = mcs.plot_surface(head, masked_values = [-999.99], color = 'blue', lw = 2.5)\n",
    "\n"
   ]
  }
 ],
 "metadata": {
  "kernelspec": {
   "display_name": "Python 3 (ipykernel)",
   "language": "python",
   "name": "python3"
  },
  "language_info": {
   "codemirror_mode": {
    "name": "ipython",
    "version": 3
   },
   "file_extension": ".py",
   "mimetype": "text/x-python",
   "name": "python",
   "nbconvert_exporter": "python",
   "pygments_lexer": "ipython3",
   "version": "3.8.12"
  }
 },
 "nbformat": 4,
 "nbformat_minor": 4
}
