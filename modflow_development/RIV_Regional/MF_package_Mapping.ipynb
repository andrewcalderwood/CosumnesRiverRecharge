{
 "cells": [
  {
   "cell_type": "code",
   "execution_count": null,
   "metadata": {},
   "outputs": [],
   "source": [
    "# from lxml import etree\n",
    "import pandas as pd\n",
    "import numpy as np\n",
    "import matplotlib.pyplot as plt\n",
    "from matplotlib.colors import Normalize\n",
    "from matplotlib.collections import PatchCollection\n",
    "from shapely.geometry import Point, Polygon, MultiPoint, MultiPolygon\n",
    "from shapely.prepared import prep\n",
    "from descartes import PolygonPatch\n",
    "import fiona\n",
    "import os"
   ]
  },
  {
   "cell_type": "code",
   "execution_count": null,
   "metadata": {},
   "outputs": [],
   "source": [
    "import pyproj # for converting proj4string\n",
    "import geopandas as gpd\n",
    "import contextily as ctx\n",
    "from mpl_toolkits.axes_grid1.inset_locator import inset_axes\n",
    "from mpl_toolkits.axes_grid1.anchored_artists import AnchoredSizeBar\n",
    "import matplotlib.font_manager as fm"
   ]
  },
  {
   "cell_type": "code",
   "execution_count": null,
   "metadata": {},
   "outputs": [],
   "source": [
    "## Set up directory referencing\n",
    "# Package data\n",
    "gwfm_dir = os.path.dirname(os.path.dirname(os.getcwd()))"
   ]
  },
  {
   "cell_type": "code",
   "execution_count": null,
   "metadata": {},
   "outputs": [],
   "source": [
    "rivpath = gwfm_dir+\"/SFR_data\\\\Sac_valley_rivers\\\\Sac_valley_rivers.shp\"\n",
    "mb_name = gwfm_dir+\"/NewModelDomain/GWModelDomain_52_9deg_UTM10N_WGS84.shp\"\n",
    "# mb_name = gwfm_dir+\"/GWModelDomain_UTM10N/GWModelDomain_Rec_UTM10N.shp\"\n",
    "capath = gwfm_dir+\"/Mapping\\\\ca_state_boundary\\\\CA_State_TIGER2016.shp\"\n",
    "soampath = gwfm_dir+\"/Mapping\\\\so_am_subbasin\\\\so_am_subbasin.shp\"\n",
    "cospath = gwfm_dir+\"/Mapping\\\\cos_subbasin\\\\cos_subbasin.shp\""
   ]
  },
  {
   "cell_type": "code",
   "execution_count": null,
   "metadata": {},
   "outputs": [],
   "source": [
    "rivers = gpd.read_file(rivpath)\n",
    "rivers = rivers.to_crs('EPSG:32610')\n",
    "\n",
    "mb = gpd.read_file(mb_name)\n",
    "rivers_clip = gpd.clip(rivers, mb)\n",
    "\n",
    "soam = gpd.read_file(soampath)\n",
    "soam = soam.to_crs('EPSG:32610')\n",
    "cos = gpd.read_file(cospath)\n",
    "cos = cos.to_crs('EPSG:32610')\n",
    "\n",
    "ca = gpd.read_file(capath)\n",
    "ca = ca.to_crs('EPSG:32610')"
   ]
  },
  {
   "cell_type": "code",
   "execution_count": null,
   "metadata": {},
   "outputs": [],
   "source": []
  },
  {
   "cell_type": "code",
   "execution_count": null,
   "metadata": {},
   "outputs": [],
   "source": [
    "ax = rivers_clip.plot(color = 'blue', figsize=(8, 8), alpha=0.5, edgecolor='k')\n",
    "mb.plot(edgecolor = 'black', color = 'none', ax = ax)\n",
    "\n",
    "ctx.add_basemap(ax, source = ctx.providers.Esri.WorldImagery, crs='epsg:26910', alpha = 0.6)\n",
    "# ctx.add_basemap(ax, source = ctx.providers.Esri.WorldStreetMap, crs='epsg:26910')\n",
    "\n",
    "x, y, arrow_length = 0.75, 0.15, 0.1\n",
    "ax.annotate('N', xy=(x, y), xytext=(x, y-arrow_length),\n",
    "            arrowprops=dict(facecolor='black', width=5, headwidth=15),\n",
    "            ha='center', va='center', fontsize=20,\n",
    "            xycoords=ax.transAxes)\n",
    "\n",
    "ax.ticklabel_format(style='plain')\n",
    "\n",
    "\n",
    "fontprops = fm.FontProperties(size=18)\n",
    "scalebar = AnchoredSizeBar(ax.transData,\n",
    "                           10000, '10 km', 'lower right', \n",
    "                           pad=0.1,\n",
    "                           sep=2,\n",
    "                           color='black',\n",
    "                           frameon=False,\n",
    "                           size_vertical=1,\n",
    "                           fontproperties=fontprops)\n",
    "ax.add_artist(scalebar)\n",
    "\n",
    "plt.xlabel('Easting (m)')\n",
    "plt.ylabel('Northing (m)')\n",
    "# first one is CA map\n",
    "axins = inset_axes(ax, width=\"80%\", height=\"80%\", bbox_to_anchor=(0, .5, .5, .5),\n",
    "                  bbox_transform=ax.transAxes, loc=2)\n",
    "# second one is smaller inset\n",
    "axins2 = inset_axes(ax, width=\"40%\", height=\"40%\", bbox_to_anchor=(0.18, .5, .5, .5),\n",
    "                  bbox_transform=ax.transAxes, loc=2)\n",
    "axins.tick_params(labelleft=False, labelbottom=False, left = False, bottom = False)\n",
    "axins2.tick_params(labelleft=False, labelbottom=False, left = False, bottom = False)\n",
    "\n",
    "\n",
    "ca.plot(ax = axins,alpha = 0.2)\n",
    "soam.plot(ax = axins, edgecolor = 'black')\n",
    "cos.plot(ax = axins, edgecolor = 'black')\n",
    "cos.plot(ax = axins2, edgecolor = 'black')\n",
    "\n",
    "soam.plot(ax = axins2, edgecolor = 'black')\n",
    "mb.plot(ax = axins2, edgecolor = 'black', color = 'none')\n",
    "plt.savefig('Plots/GSA_2020_Floodplain/inset_map_model.png', dpi = 600, bbox_inches='tight')"
   ]
  },
  {
   "cell_type": "markdown",
   "metadata": {},
   "source": [
    "## sensor plotting"
   ]
  },
  {
   "cell_type": "code",
   "execution_count": null,
   "metadata": {},
   "outputs": [],
   "source": [
    "sensors = gpd.read_file(gwfm_dir+\"/DEM_data/allsensor_latlong.csv\")\n",
    "sensors.Latitude = sensors.Latitude.astype(np.float64)\n",
    "sensors.Longitude = sensors.Longitude.astype(np.float64)\n",
    "sensors.geometry = gpd.points_from_xy(sensors.Longitude, sensors.Latitude)\n",
    "sensors.crs = 'epsg:4326'\n",
    "sensors = sensors.to_crs('epsg:32610')\n"
   ]
  },
  {
   "cell_type": "code",
   "execution_count": null,
   "metadata": {},
   "outputs": [],
   "source": [
    "import contextily as ctx\n",
    "fig, ax = plt.subplots(figsize = (10,10))\n",
    "mg.plot(ax=ax, alpha = 0.3)\n",
    "sensors.plot(ax =ax)\n",
    "\n",
    "ctx.add_basemap(ax, source = ctx.providers.Esri.WorldImagery, crs='epsg:26910', alpha = 0.6)\n",
    "# ctx.add_basemap(ax, source = ctx.providers.Esri.WorldStreetMap, crs=tg.crs.to_string())\n",
    "\n",
    "plt.xlabel('Easting (m)')\n",
    "plt.ylabel('Northing (m)')\n",
    "# plt.savefig('Plots/Model_SFR_UZF_progress/Model_grid_overlay_satellite.png', dpi = 300)"
   ]
  },
  {
   "cell_type": "markdown",
   "metadata": {},
   "source": [
    "## floodplain plotting"
   ]
  },
  {
   "cell_type": "code",
   "execution_count": null,
   "metadata": {},
   "outputs": [],
   "source": [
    "fp_sensors = gpd.read_file(gwfm_dir+\"/LAK_data/floodplain_logger_metadata.csv\", header = True)\n",
    "fp_sensors.Northing = fp_sensors.Northing.astype(np.float64)\n",
    "fp_sensors.Easting = fp_sensors.Easting.astype(np.float64)\n",
    "fp_sensors.geometry = gpd.points_from_xy(fp_sensors.Easting, fp_sensors.Northing)\n",
    "fp_sensors.crs = 'epsg:32610'\n",
    "\n",
    "# Load location of monitoring wells\n",
    "od_mw = gpd.read_file(gwfm_dir+\"/LAK_data/OnetoDenier_monitoring_well_location.csv\", header = True)\n",
    "od_mw.Latitude = od_mw.Latitude.astype(np.float64)\n",
    "od_mw.Longitude = od_mw.Longitude.astype(np.float64)\n",
    "od_mw.geometry = gpd.points_from_xy(od_mw.Longitude, od_mw.Latitude)\n",
    "od_mw.crs = 'epsg:4326'\n",
    "od_mw = od_mw.to_crs('epsg:32610')"
   ]
  },
  {
   "cell_type": "code",
   "execution_count": null,
   "metadata": {},
   "outputs": [],
   "source": [
    "from mpl_toolkits.axes_grid1.anchored_artists import AnchoredSizeBar\n",
    "from mpl_toolkits.axes_grid1.anchored_artists import AnchoredDirectionArrows\n",
    "\n",
    "\n",
    "fig, ax = plt.subplots(figsize = (10,10))\n",
    "# lakdom.plot(ax =ax, color = 'red', alpha = 0.1)\n",
    "lak2D.plot(ax =ax, color = 'red', alpha = 0.1)\n",
    "\n",
    "\n",
    "# fp_sensors.plot(ax=ax, column = 'Logger Type', marker = '*', legend = True, label = 'Surface Water Level Sensor')\n",
    "fp_sensors[fp_sensors['Logger Type']=='River'].plot(ax=ax, label = 'River Level Sensor')\n",
    "fp_sensors[fp_sensors['Logger Type']=='Breach'].plot(ax=ax, label = 'Breach Level Sensor')\n",
    "fp_sensors[fp_sensors['Logger Type']=='Floodplain'].plot(ax=ax, label = 'Floodplain Level Sensor')\n",
    "od_mw.plot(ax=ax, color = 'red', marker = 'x', label = 'Groundwater Level Sensor')\n",
    "ax.legend()\n",
    "\n",
    "ctx.add_basemap(ax, source = ctx.providers.Esri.WorldImagery, crs='epsg:26910', alpha = 0.6)\n",
    "# ctx.add_basemap(ax, source = ctx.providers.Esri.WorldStreetMap, crs=tg.crs.to_string())\n",
    "\n",
    "# Code to add a scale bar, not necessary because the xticks and yticks provide a scale in meters\n",
    "scalebar = AnchoredSizeBar(ax.transData,\n",
    "                           500, '500 m', 'upper left', \n",
    "                           pad=0.5,\n",
    "                           color='black',\n",
    "                           frameon=False)\n",
    "\n",
    "ax.add_artist(scalebar)\n",
    "\n",
    "x, y, arrow_length = 0.1, 0.95, 0.1\n",
    "ax.annotate('N', xy=(x, y), xytext=(x, y-arrow_length),\n",
    "            arrowprops=dict(facecolor='black', width=5, headwidth=15),\n",
    "            ha='center', va='center', fontsize=20,\n",
    "            xycoords=ax.transAxes)\n",
    "\n",
    "ax.ticklabel_format(style='plain')\n",
    "\n",
    "    \n",
    "plt.xlabel('Easting (m)')\n",
    "plt.ylabel('Northing (m)')\n",
    "plt.locator_params(axis='x', nbins=6)\n",
    "# plt.savefig('Plots/GSA_2020_Floodplain/Oneto_Denier_sensortype_map.png', dpi = 600, bbox_inches='tight')"
   ]
  },
  {
   "cell_type": "markdown",
   "metadata": {},
   "source": [
    "## Crop data plotting"
   ]
  },
  {
   "cell_type": "code",
   "execution_count": null,
   "metadata": {},
   "outputs": [],
   "source": [
    "fig = plt.figure(figsize=(12, 12))\n",
    "ax = fig.add_subplot(1, 1, 1, aspect='equal')\n",
    "\n",
    "ax = croprio.plot(ax=ax)\n",
    "ax.levels = domain_dbf.VALUE.values \n",
    "\n",
    "num_vals = len(domain_dbf.VALUE.values)\n",
    "# bounds = domain_dbf.VALUE.values\n",
    "# norm = mpl.colors.BoundaryNorm(bounds, cmap.N)\n",
    "\n",
    "cbar = plt.colorbar(ax.images[0], ticks = domain_dbf.VALUE.values, values = domain_dbf.VALUE.values)\n",
    "cbar.ax.set_yticklabels(domain_dbf.CLASS_NAME.values)  \n",
    "\n",
    "# newcbar = np.zeros((num_vals,3))\n",
    "# for i in np.arange(num_vals):\n",
    "#     newcbar[i,:] = cbar.cmap.colors[domain_dbf.VALUE.values[i]]\n",
    "# cbar.cmap.N = num_vals\n",
    "# cbar.cmap.colors = newcbar \n",
    "\n",
    "ax.ticklabel_format(style='plain')\n",
    "plt.xlabel('Easting (m)')\n",
    "plt.ylabel('Northing (m)')\n",
    "# plt.savefig('Plots/Model_SFR_UZF_Progress/model_domain_crop_map.png', dpi = 300)"
   ]
  },
  {
   "cell_type": "markdown",
   "metadata": {},
   "source": [
    "## visualizing raster/array time series (rain/et)"
   ]
  },
  {
   "cell_type": "code",
   "execution_count": null,
   "metadata": {},
   "outputs": [],
   "source": [
    "# %matplotlib tk\n",
    "# import matplotlib.animation as animation\n",
    "# from IPython.display import display, clear_output\n",
    "\n",
    "# img = ETc[0:100,:,:]\n",
    "\n",
    "# fps = 30\n",
    "# nSeconds = 5\n",
    "# snapshots = img\n",
    "\n",
    "# # First set up the figure, the axis, and the plot element we want to animate\n",
    "# fig = plt.figure( figsize=(8,8) )\n",
    "\n",
    "# a = snapshots[0]\n",
    "# im = plt.imshow(img[0,:,:]),\n",
    "\n",
    "# def animate_func(i):\n",
    "# #     im.set_array(snapshots[i,:,:])\n",
    "#     im = plt.imshow(ET_final[i,:,:])\n",
    "#     return im,\n",
    "\n",
    "# anim = animation.FuncAnimation(fig, \n",
    "#                                func = animate_func, \n",
    "#                                frames = 101)\n",
    "# plt.show()\n",
    "\n",
    "# for i in np.arange(0,101):\n",
    "#     animate_func(i)\n",
    "#     clear_output(wait = True)\n",
    "#     display(fig)\n",
    "#     if i == 100:\n",
    "#         break\n",
    "    \n",
    "# plt.show()"
   ]
  },
  {
   "cell_type": "markdown",
   "metadata": {},
   "source": [
    "### cimis station plotting"
   ]
  },
  {
   "cell_type": "code",
   "execution_count": null,
   "metadata": {},
   "outputs": [],
   "source": [
    "uzf_path = gwfm_dir+'\\\\UZF_data'\n",
    "\n",
    "coords = pd.read_csv(uzf_path+'\\\\CIMIS_station_lat_long.csv', index_col = 0)\n",
    "coords = gpd.GeoDataFrame(coords,geometry = gpd.points_from_xy(coords['Long'] ,coords['Lat']))\n",
    "# Convert WGS Lat and long to Easting and Northing in Zone 10N\n",
    "coords.crs = 'epsg:4326'\n",
    "coords = coords.to_crs('epsg:32610')\n",
    "\n",
    "mb_name = gwfm_dir+\"/NewModelDomain/GWModelDomain_52_9deg_UTM10N_WGS84.shp\"\n",
    "mb = gpd.read_file(mb_name)\n"
   ]
  },
  {
   "cell_type": "code",
   "execution_count": null,
   "metadata": {},
   "outputs": [],
   "source": [
    "# plot cimis stations for presentation\n",
    "fig,ax= plt.subplots(figsize=(9,9))\n",
    "coords.plot('Stn Name', markersize = 70, marker = 'o', legend = True, ax=ax)\n",
    "\n",
    "mb.plot(edgecolor = 'black', color = 'none', ax = ax)\n",
    "\n",
    "ctx.add_basemap(ax, source = ctx.providers.Esri.WorldImagery, crs='epsg:26910', alpha = 0.6)\n",
    "# ctx.add_basemap(ax, source = ctx.providers.Esri.WorldStreetMap, crs='epsg:26910')\n",
    "\n",
    "x, y, arrow_length = 0.75, 0.15, 0.1\n",
    "ax.annotate('N', xy=(x, y), xytext=(x, y-arrow_length),\n",
    "            arrowprops=dict(facecolor='black', width=5, headwidth=15),\n",
    "            ha='center', va='center', fontsize=20,\n",
    "            xycoords=ax.transAxes)\n",
    "\n",
    "ax.ticklabel_format(style='plain')\n",
    "\n",
    "fontprops = fm.FontProperties(size=18)\n",
    "scalebar = AnchoredSizeBar(ax.transData,\n",
    "                           10000, '10 km', 'lower right', pad=0.1, sep=2,  color='black',\n",
    "                           frameon=False,size_vertical=1, fontproperties=fontprops)\n",
    "ax.add_artist(scalebar)\n",
    "\n",
    "plt.xlabel('Easting (m)')\n",
    "plt.ylabel('Northing (m)')\n",
    "\n",
    "plt.savefig('Plots/Model_SFR_UZF_progress/cimis_stations_map.png', dpi = 600, bbox_inches='tight')"
   ]
  },
  {
   "cell_type": "code",
   "execution_count": null,
   "metadata": {},
   "outputs": [],
   "source": [
    "daily_data = pd.read_csv(uzf_path+'\\\\Cosumnes_dailyET_precip_2010_01_01_to_2019_12_31.csv',index_col = ['Date'], parse_dates = True)\n",
    "# clean up data so columns are by location, units of ETo are in mm\n",
    "ET = daily_data.pivot_table(index = 'Date', columns = ['Stn Id', 'Stn Name', 'CIMIS Region'], values = 'ETo (mm)')\n",
    "ET.iloc[-1:-10:-1].values.shape\n",
    "\n",
    "# clean up data so columns are by location, units of Precip are in mm\n",
    "rain = daily_data.pivot_table(index = 'Date', columns = ['Stn Id', 'Stn Name', 'CIMIS Region'], values = 'Precip (mm)')\n",
    "rain.iloc[-1:-10:-1].values.shape"
   ]
  },
  {
   "cell_type": "code",
   "execution_count": null,
   "metadata": {},
   "outputs": [],
   "source": [
    "fig,ax = plt.subplots(figsize=(9,6))\n",
    "# rain.mean(axis=1).plot()\n",
    "# rain.plot(ax=ax)\n",
    "# plt.ylabel('Daily Rainfall (mm)')\n",
    "\n",
    "rain.resample('M').sum().plot(ax=ax)\n",
    "plt.ylabel('Total Monthly Rainfall (mm)')\n",
    "\n",
    "plt.savefig('Plots/Model_SFR_UZF_progress/rain_fall_summary.png', dpi = 600, bbox_inches='tight')"
   ]
  },
  {
   "cell_type": "code",
   "execution_count": null,
   "metadata": {},
   "outputs": [],
   "source": [
    "fig,ax = plt.subplots(figsize=(9,6))\n",
    "# ET.mean(axis=1).plot()\n",
    "# ET.plot(ax=ax)\n",
    "# plt.ylabel('Daily ETo (mm)')\n",
    "\n",
    "ET.resample('M').sum().plot(ax=ax)\n",
    "plt.ylabel('Total Monthly ETo (mm)')\n",
    "\n",
    "plt.savefig('Plots/Model_SFR_UZF_progress/ETo_summary.png', dpi = 600, bbox_inches='tight')"
   ]
  },
  {
   "cell_type": "markdown",
   "metadata": {},
   "source": [
    "### soil property plotting"
   ]
  },
  {
   "cell_type": "code",
   "execution_count": null,
   "metadata": {},
   "outputs": [],
   "source": [
    "\n",
    "grid_uzf = gpd.read_file(uzf_path+'/final_grid_uzf/griduzf.shp')\n",
    "\n",
    "soilKs_array = np.loadtxt(uzf_path+'/final_soilKs.tsv', delimiter = '\\t')\n",
    "soiln_array = np.loadtxt(uzf_path+'/final_soiln.tsv', delimiter = '\\t')\n",
    "soileps_array = np.loadtxt(uzf_path+'/final_soileps.tsv', delimiter = '\\t')\n"
   ]
  },
  {
   "cell_type": "code",
   "execution_count": null,
   "metadata": {},
   "outputs": [],
   "source": [
    "grid_uzf.columns"
   ]
  },
  {
   "cell_type": "code",
   "execution_count": null,
   "metadata": {},
   "outputs": [],
   "source": [
    "fig,ax= plt.subplots(figsize=(9,9))\n",
    "\n",
    "grid_uzf.plot('EPS', legend = True, ax=ax)\n",
    "\n",
    "ctx.add_basemap(ax, source = ctx.providers.Esri.WorldImagery, crs='epsg:26910', alpha = 0.6)\n",
    "# ctx.add_basemap(ax, source = ctx.providers.Esri.WorldStreetMap, crs='epsg:26910')\n",
    "\n",
    "x, y, arrow_length = 0.75, 0.15, 0.1\n",
    "ax.annotate('N', xy=(x, y), xytext=(x, y-arrow_length),\n",
    "            arrowprops=dict(facecolor='black', width=5, headwidth=15),\n",
    "            ha='center', va='center', fontsize=20,\n",
    "            xycoords=ax.transAxes)\n",
    "\n",
    "ax.ticklabel_format(style='plain')\n",
    "\n",
    "fontprops = fm.FontProperties(size=18)\n",
    "scalebar = AnchoredSizeBar(ax.transData,\n",
    "                           10000, '10 km', 'lower right', pad=0.1, sep=2,  color='black',\n",
    "                           frameon=False,size_vertical=1, fontproperties=fontprops)\n",
    "ax.add_artist(scalebar)\n",
    "plt.title('Brooks and Corey Epsilon')\n",
    "plt.xlabel('Easting (m)')\n",
    "plt.ylabel('Northing (m)')\n",
    "\n",
    "plt.savefig('Plots/Model_SFR_UZF_progress/Brooks_corey_epsilon_map.png', dpi = 600, bbox_inches='tight')"
   ]
  },
  {
   "cell_type": "code",
   "execution_count": null,
   "metadata": {},
   "outputs": [],
   "source": [
    "fig,ax= plt.subplots(figsize=(9,9))\n",
    "\n",
    "grid_uzf.plot('Porosity_R',legend = True,ax=ax)\n",
    "\n",
    "ctx.add_basemap(ax, source = ctx.providers.Esri.WorldImagery, crs='epsg:26910', alpha = 0.6)\n",
    "# ctx.add_basemap(ax, source = ctx.providers.Esri.WorldStreetMap, crs='epsg:26910')\n",
    "\n",
    "x, y, arrow_length = 0.75, 0.15, 0.1\n",
    "ax.annotate('N', xy=(x, y), xytext=(x, y-arrow_length),\n",
    "            arrowprops=dict(facecolor='black', width=5, headwidth=15),\n",
    "            ha='center', va='center', fontsize=20,\n",
    "            xycoords=ax.transAxes)\n",
    "\n",
    "ax.ticklabel_format(style='plain')\n",
    "\n",
    "fontprops = fm.FontProperties(size=18)\n",
    "scalebar = AnchoredSizeBar(ax.transData,\n",
    "                           10000, '10 km', 'lower right', pad=0.1, sep=2,  color='black',\n",
    "                           frameon=False,size_vertical=1, fontproperties=fontprops)\n",
    "ax.add_artist(scalebar)\n",
    "plt.title('Porosity (%)')\n",
    "plt.xlabel('Easting (m)')\n",
    "plt.ylabel('Northing (m)')\n",
    "\n",
    "plt.savefig('Plots/Model_SFR_UZF_progress/porosity_map.png', dpi = 600, bbox_inches='tight')"
   ]
  },
  {
   "cell_type": "code",
   "execution_count": null,
   "metadata": {},
   "outputs": [],
   "source": [
    "fig, ax = plt.subplots(figsize = (8,8))\n",
    "plt.imshow(soilKs_array)\n",
    "plt.colorbar(label = 'Ksat m/day', shrink = 0.5)\n",
    "# plt.savefig('Plots/Model_SFR_UZF_Progress/Ksat_from_soil_map.png', dpi = 300)"
   ]
  }
 ],
 "metadata": {
  "kernelspec": {
   "display_name": "Python 3",
   "language": "python",
   "name": "python3"
  },
  "language_info": {
   "codemirror_mode": {
    "name": "ipython",
    "version": 3
   },
   "file_extension": ".py",
   "mimetype": "text/x-python",
   "name": "python",
   "nbconvert_exporter": "python",
   "pygments_lexer": "ipython3",
   "version": "3.8.5"
  }
 },
 "nbformat": 4,
 "nbformat_minor": 4
}
