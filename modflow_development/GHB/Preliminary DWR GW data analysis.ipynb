{
 "cells": [
  {
   "cell_type": "code",
   "execution_count": null,
   "metadata": {},
   "outputs": [],
   "source": [
    "# standard python utilities\n",
    "import os\n",
    "from os.path import join, dirname, basename\n",
    "import glob\n",
    "import sys\n",
    "import time\n",
    "import pandas as pd\n",
    "import numpy as np\n",
    "\n",
    "# standard python plotting utilities\n",
    "import matplotlib as mpl\n",
    "import matplotlib.pyplot as plt\n",
    "\n",
    "# standard geospatial python utilities\n",
    "import pyproj # for converting proj4string\n",
    "import shapely\n",
    "import geopandas as gpd\n",
    "import rasterio\n",
    "\n",
    "# mapping utilities\n",
    "import contextily as ctx\n",
    "from mpl_toolkits.axes_grid1.inset_locator import inset_axes\n",
    "from mpl_toolkits.axes_grid1.anchored_artists import AnchoredSizeBar\n",
    "import matplotlib.font_manager as fm"
   ]
  },
  {
   "cell_type": "code",
   "execution_count": null,
   "metadata": {},
   "outputs": [],
   "source": [
    "doc_dir = os.getcwd()\n",
    "while os.path.basename(doc_dir) != 'Documents':\n",
    "    doc_dir = os.path.dirname(doc_dir)\n",
    "# dir of all gwfm data\n",
    "gwfm_dir = os.path.dirname(doc_dir)+'/Box/research_cosumnes/GWFlowModel'\n",
    "gwfm_dir\n",
    "ghb_dir = gwfm_dir+'/GHB_data'"
   ]
  },
  {
   "cell_type": "code",
   "execution_count": null,
   "metadata": {},
   "outputs": [],
   "source": [
    "# Original model domain, 44.7 deg angle\n",
    "# m_domain = gpd.read_file(gwfm_dir+'\\\\GWModelDomain_UTM10N\\\\GWModelDomain_Rec_UTM10N.shp')\n",
    "# New model domain 52.9 deg\n",
    "m_domain = gpd.read_file(join(gwfm_dir,'DIS_data/NewModelDomain/GWModelDomain_52_9deg_UTM10N_WGS84.shp'))\n",
    "\n",
    "fig,ax= plt.subplots(figsize =(4,4))\n",
    "m_domain.plot(ax=ax,edgecolor = 'black', color = 'none')\n",
    "buffer = 2e4\n",
    "m_domain.buffer(buffer).plot(ax=ax,edgecolor = 'black', color = 'none')\n",
    "\n",
    "# buffer domain in order to include boundary observations to influence water table elevations at the model edge\n",
    "domain_buffered = gpd.GeoDataFrame(data = m_domain.copy(), geometry = m_domain.buffer(buffer))"
   ]
  },
  {
   "cell_type": "code",
   "execution_count": null,
   "metadata": {},
   "outputs": [],
   "source": [
    "# m_domain = m_domain.to_crs('epsg:3310')"
   ]
  },
  {
   "cell_type": "markdown",
   "metadata": {},
   "source": [
    "## Continuous DWR Groundwater data"
   ]
  },
  {
   "cell_type": "code",
   "execution_count": null,
   "metadata": {},
   "outputs": [],
   "source": [
    "# con_stations = pd.read_csv(ghb_dir+'/dwr_continuous_groundwater/gwlstations.csv')\n",
    "# monthly = pd.read_csv(ghb_dir+'/dwr_continuous_groundwater/continuousgroundwatermonthly.csv')\n",
    "# con_stations_gpd = gpd.GeoDataFrame(con_stations, \n",
    "#                                     geometry = gpd.points_from_xy(con_stations.LONGITUDE, con_stations.LATITUDE), \n",
    "#                                     crs = 'epsg:4326')\n",
    "# con_stations_gpd = gpd.sjoin(con_stations_gpd,domain_buffered.to_crs('epsg:4326'), how = 'inner', op = 'intersects')\n",
    "# con_stations_gpd = con_stations_gpd.to_crs('epsg:32610')\n",
    "# # these two stations are just on the north eastern border of the domain\n",
    "# NE_stations_mon = con_stations_gpd.loc[con_stations_gpd.geometry.x>650000]\n",
    "\n",
    "# fig,ax=plt.subplots()\n",
    "# m_domain.plot(edgecolor = 'black', color = 'none', ax=ax)\n",
    "# con_stations_gpd.to_crs('epsg:32610').plot(ax=ax)"
   ]
  },
  {
   "cell_type": "code",
   "execution_count": null,
   "metadata": {},
   "outputs": [],
   "source": [
    "# plots of the two stations in the north eastern portion of the domain\n",
    "# fig, ax = plt.subplots(1,2, figsize=(6,3))\n",
    "# # plt.subplot(1,1,1)\n",
    "# monthly.loc[monthly.STATION == NE_stations_mon.loc[:,'STATION'].iloc[0]].plot(x='MSMT_DATE', y=['WSE','WLM_GSE'],ax=ax[0])\n",
    "# # plt.subplot(1,2,1)\n",
    "# monthly.loc[monthly.STATION == NE_stations_mon.loc[:,'STATION'].iloc[1]].plot(x='MSMT_DATE', y=['WSE','WLM_GSE'],ax=ax[1])\n"
   ]
  },
  {
   "cell_type": "markdown",
   "metadata": {},
   "source": [
    "The two monthly stations support the shallow groundwater theory with a steep gradient but are only available for 2ish years, to overcome this we can use the average elevation and assume that the water elevation in the upper watershed is consistent year to year as there is minimal pumping influence and the aquifer is most likely relatively thin so even in dry years the flow is in enough to maintain constant. Even if this is untrue we need measurements to prevent the kriging from going above land surface in the foothills and these measurements are both about 10-15 ft below ground surface which supports the idea levels are just below ground surface in the hills."
   ]
  },
  {
   "cell_type": "markdown",
   "metadata": {},
   "source": [
    "## Periodic DWR Groundwater Measurements"
   ]
  },
  {
   "cell_type": "code",
   "execution_count": null,
   "metadata": {},
   "outputs": [],
   "source": [
    "stations = pd.read_csv(ghb_dir+'/periodic_gwl_bulkdatadownload/stations.csv')\n",
    "periodic = pd.read_csv(ghb_dir+'/periodic_gwl_bulkdatadownload/measurements.csv')\n"
   ]
  },
  {
   "cell_type": "code",
   "execution_count": null,
   "metadata": {},
   "outputs": [],
   "source": [
    "stations_gpd = gpd.GeoDataFrame(stations, geometry = gpd.points_from_xy( stations.LONGITUDE, stations.LATITUDE), crs = 'epsg:4326')"
   ]
  },
  {
   "cell_type": "code",
   "execution_count": null,
   "metadata": {},
   "outputs": [],
   "source": [
    "# need to use the domain in lat, long crs as some wells may edge in utm zone 11n\n",
    "stations_gpd = gpd.sjoin(stations_gpd,domain_buffered.to_crs('epsg:4326'), how = 'inner', op = 'intersects')\n"
   ]
  },
  {
   "cell_type": "code",
   "execution_count": null,
   "metadata": {},
   "outputs": [],
   "source": [
    "# stations_gpd convert to domain crs\n",
    "stations_gpd = stations_gpd.to_crs('epsg:32610')"
   ]
  },
  {
   "cell_type": "code",
   "execution_count": null,
   "metadata": {},
   "outputs": [],
   "source": [
    "# join the periodic measurements with the site locations \n",
    "domain_periodic_gpd = stations_gpd.merge(periodic, on = ['SITE_CODE'])\n",
    "domain_periodic = periodic.merge(stations_gpd, on = ['SITE_CODE'])\n",
    "\n",
    "# set the measurement date as the index for data filtering\n",
    "domain_periodic_gpd['MSMT_DATE']=pd.to_datetime(domain_periodic_gpd['MSMT_DATE'])\n",
    "domain_periodic_gpd = domain_periodic_gpd.set_index('MSMT_DATE')\n",
    "# filter to modern time\n",
    "domain_periodic_gpd = domain_periodic_gpd.loc[domain_periodic_gpd.index>'2000-01-01']\n",
    "\n",
    "\n",
    "domain_periodic['MSMT_DATE']=pd.to_datetime(domain_periodic['MSMT_DATE'])\n",
    "domain_periodic = domain_periodic.set_index('MSMT_DATE')\n",
    "# filter to modern time\n",
    "domain_periodic = domain_periodic.loc[domain_periodic.index>'2000-01-01']"
   ]
  },
  {
   "cell_type": "markdown",
   "metadata": {},
   "source": [
    "# Create spring and fall datasets\n",
    "Group groundwater level measurements into spring and fall for contouring because it is better to have more data points for contour accuracy. Then monthly values can be estimated by taking a linear difference between fall and spring if needed."
   ]
  },
  {
   "cell_type": "code",
   "execution_count": null,
   "metadata": {},
   "outputs": [],
   "source": [
    "domain_periodic['month'] = domain_periodic.index.month\n",
    "domain_periodic['year'] = domain_periodic.index.year\n",
    "\n",
    "domain_periodic['season'] = 'neither'\n",
    "domain_periodic.loc[((domain_periodic.month >=9) & (domain_periodic.month <=11)),'season'] = 'fall'\n",
    "domain_periodic.loc[((domain_periodic.month >=3) & (domain_periodic.month <=5)),'season'] = 'spring'\n",
    "# remove data outside of fall or spring\n",
    "domain_periodic = domain_periodic.loc[domain_periodic.season!='neither',:]\n",
    "# set standard month for season for date utility\n",
    "domain_periodic['month'] = 10\n",
    "domain_periodic.loc[domain_periodic.season=='spring', 'month'] = 4\n",
    "# domain_periodic.groupby(['year','season']).count()"
   ]
  },
  {
   "cell_type": "code",
   "execution_count": null,
   "metadata": {},
   "outputs": [],
   "source": [
    "#14,603 values before grouping by SITE_CODE, 10,050  after averaging\n",
    "domain_periodic_grp =  domain_periodic.groupby(['year','season','SITE_CODE'], as_index=False).mean(numeric_only=True) \n",
    "domain_periodic_grp['date'] = pd.to_datetime(domain_periodic_grp.assign(day=1)[['year','month','day']].astype(int) )\n",
    "gwe_grp_gpd = gpd.GeoDataFrame(domain_periodic_grp.copy(), \n",
    "                               geometry=gpd.points_from_xy(domain_periodic_grp.LONGITUDE.values,\n",
    "                                                           domain_periodic_grp.LATITUDE.values), crs='epsg:4326')\n",
    "# set year, season as index for easier referencing\n",
    "gwe_grp_gpd = gwe_grp_gpd.set_index(['year','season'])"
   ]
  },
  {
   "cell_type": "code",
   "execution_count": null,
   "metadata": {},
   "outputs": [],
   "source": [
    "fig,ax=plt.subplots()\n",
    "m_domain.plot(ax=ax, color='none')\n",
    "gwe_grp_gpd.loc[2016, 'fall'].to_crs('epsg:32610').plot('GSE',ax=ax, legend=True)\n",
    "# look at points in upper elevations as there is less data here\n",
    "gwe_grp_gpd[gwe_grp_gpd.GSE>150].to_crs('epsg:32610').plot(ax=ax, color='red', marker='|')"
   ]
  },
  {
   "cell_type": "code",
   "execution_count": null,
   "metadata": {},
   "outputs": [],
   "source": [
    "# gwe_grp_gpd\n",
    "# only interested in fill gaps in foothills at higher elevations (55m = 180 ft) and recent years\n",
    "mtn_wells = gwe_grp_gpd[(gwe_grp_gpd.GSE>180) & (gwe_grp_gpd.year>2010)]\n",
    "# mtn_wells.groupby('SITE_CODE').std()\n",
    "# mtn_wells"
   ]
  },
  {
   "cell_type": "code",
   "execution_count": null,
   "metadata": {},
   "outputs": [],
   "source": [
    "# fill in missing fall-spring dates\n",
    "season_dates = pd.date_range(mtn_wells.date.min(), mtn_wells.date.max(), freq='6MS')\n",
    "# mtn_wells.month.unique()\n",
    "# results.reindex(season_dates, fill_value=0)\n",
    "# need to interpolate wells only with missing period that is bewteen dates\n",
    "season_dates.shape"
   ]
  },
  {
   "cell_type": "code",
   "execution_count": null,
   "metadata": {},
   "outputs": [],
   "source": [
    "mtn_wells.groupby('SITE_CODE').count()"
   ]
  },
  {
   "cell_type": "code",
   "execution_count": null,
   "metadata": {},
   "outputs": [],
   "source": [
    "n = mtn_wells.SITE_CODE.unique()[1]\n",
    "n= '383500N1209595W001'\n",
    "gwe_site = mtn_wells.loc[mtn_wells.SITE_CODE==n]\n",
    "season_dates = pd.date_range(gwe_site.date.min(), gwe_site.date.max(), freq='6MS')\n",
    "\n",
    "# site with trend 382586N1209949W001\n",
    "gwe_site.plot(kind='line', x='date',y='GWE')\n",
    "gwe_site = gwe_site.set_index('date').reindex(season_dates, fill_value=None)\n",
    "gwe_site[gwe_site.season=='spring']\n",
    "# the missing spring or fall values could be assumed to be the average of the previous and future year\n"
   ]
  },
  {
   "cell_type": "code",
   "execution_count": null,
   "metadata": {},
   "outputs": [],
   "source": [
    "\n",
    "# for n in mtn_wells.SITE_CODE.unique()[1]:\n",
    "# for each well drop measurements that are out of the average by 95th percentile\n",
    "#     gwe_site = mtn_wells.loc[mtn_wells.SITE_CODE==n]\n",
    "#     gwe_max = gwe_site.GWE.mean() + gwe_site.GWE.std()*0.1\n",
    "#     gwe_min = gwe_site.GWE.mean() - gwe_site.GWE.std()*2\n",
    "#     mtn_wells.loc[mtn_wells.SITE_CODE==n].loc[mtn_wells.loc[mtn_wells.SITE_CODE==n].GWE.values > gwe_max, 'GWE'] = np.nan\n",
    "# gwe_max\n",
    "# gwe_site"
   ]
  },
  {
   "cell_type": "code",
   "execution_count": null,
   "metadata": {},
   "outputs": [],
   "source": [
    "fig,ax=plt.subplots()\n",
    "for n in mtn_wells.SITE_CODE.unique():\n",
    "    mtn_wells[mtn_wells.SITE_CODE==n].plot(kind='line', x='date',y='GWE', ax=ax, legend=False, label=n)\n",
    "plt.legend(loc=(1.05,0.2),ncol=3)\n",
    "plt.ylim(100, 160)"
   ]
  },
  {
   "cell_type": "code",
   "execution_count": null,
   "metadata": {},
   "outputs": [],
   "source": [
    "gwe_grp_gpd[gwe_grp_gpd.year==2000].shape, gwe_grp_gpd[gwe_grp_gpd.year==2011].shape"
   ]
  },
  {
   "cell_type": "markdown",
   "metadata": {},
   "source": [
    "# Save shapefile output\n",
    "**Units** of GWE are still in feet"
   ]
  },
  {
   "cell_type": "code",
   "execution_count": null,
   "metadata": {},
   "outputs": [],
   "source": [
    "# gwe_grp_gpd.columns"
   ]
  },
  {
   "cell_type": "code",
   "execution_count": null,
   "metadata": {},
   "outputs": [],
   "source": [
    "# s='spring'\n",
    "# y=2021\n",
    "# gwe_grp_gpd.loc[y,s].plot()\n",
    "#\n",
    "for s in ['spring','fall']:\n",
    "#     for y in np.arange(2010,2022):\n",
    "    for y in np.arange(2000,2010):\n",
    "        name = s+str(y)\n",
    "        fn = ghb_dir+'/Fall_Spring_GWE_Points/'+name+'_GWE_Points.shp'\n",
    "        gwe_grp_gpd.loc[y,s].drop(columns=['date']).to_file(fn)"
   ]
  },
  {
   "cell_type": "markdown",
   "metadata": {},
   "source": [
    "## Summary data plots"
   ]
  },
  {
   "cell_type": "code",
   "execution_count": null,
   "metadata": {},
   "outputs": [],
   "source": [
    "strt_date ='2018-09-01'\n",
    "end_date = '2018-11-30'\n",
    "fall2018 = domain_periodic.loc[strt_date:end_date]\n",
    "pd.unique(fall2018.STN_ID).shape\n",
    "\n",
    "\n",
    "domain_periodic.columns\n",
    "print('Types of WSE MSMT accuracy:',fall2018.WLM_ACC_DESC.unique())\n",
    "fall2018.WLM_ACC_DESC.hist(bins=len(fall2018.WLM_ACC_DESC.unique()))\n",
    "plt.xlabel('Periodic Measurement accuracy')\n",
    "plt.ylabel('Number of measurements')\n",
    "plt.title('From: '+strt_date+' to '+end_date)"
   ]
  },
  {
   "cell_type": "code",
   "execution_count": null,
   "metadata": {},
   "outputs": [],
   "source": [
    "strt_date ='2000-01-01'\n",
    "end_date = '2020-12-31'\n",
    "pivot_wse_2000s = domain_periodic.loc[strt_date:end_date].pivot_table(index='MSMT_DATE',columns='STN_ID',values='WSE')\n",
    "monthly_wse_2000s = pivot_wse_2000s.resample('M').mean()\n"
   ]
  },
  {
   "cell_type": "code",
   "execution_count": null,
   "metadata": {},
   "outputs": [],
   "source": [
    "monthly_wse_2000s.plot(legend = False)\n",
    "plt.ylim(bottom = -200)\n",
    "plt.ylabel('WSE (ft AMSL)')\n",
    "plt.xlabel('Measurement Date')\n",
    "plt.savefig('plots/monthly__periodic_wse_2000_to_2020.png',dpi = 600, bbox_inches = 'tight')"
   ]
  },
  {
   "cell_type": "code",
   "execution_count": null,
   "metadata": {},
   "outputs": [],
   "source": [
    "strt_date ='2012-01-01'\n",
    "end_date = '2019-12-31'\n",
    "domain_periodic_2010s = domain_periodic.loc[strt_date:end_date]\n",
    "pivot_wse_2010s = domain_periodic_2010s.pivot_table(index='MSMT_DATE',columns='STN_ID',values='WSE')\n",
    "\n",
    "pivot_wse_2010s = pivot_wse_2010s.resample('M').mean()\n"
   ]
  },
  {
   "cell_type": "code",
   "execution_count": null,
   "metadata": {},
   "outputs": [],
   "source": [
    "pivot_wse_2010s.plot(legend = False)\n",
    "plt.ylim(bottom = -200)\n",
    "plt.ylabel('WSE (ft AMSL)')\n",
    "plt.xlabel('Measurement Date')\n",
    "plt.savefig('plots/monthly__periodic_wse_2012_to_2018.png',dpi = 600, bbox_inches = 'tight')"
   ]
  },
  {
   "cell_type": "code",
   "execution_count": null,
   "metadata": {},
   "outputs": [],
   "source": [
    "pivot_wse_2010s.count(axis=1).plot()\n",
    "plt.ylabel('Number of data points per month')"
   ]
  },
  {
   "cell_type": "code",
   "execution_count": null,
   "metadata": {},
   "outputs": [],
   "source": [
    "monthly_wse_2010s = pd.DataFrame(monthly_wse_2010s.stack()).rename(columns={0:'WSE'})\n",
    "monthly_wse_2010s = monthly_wse_2010s.reset_index()"
   ]
  },
  {
   "cell_type": "code",
   "execution_count": null,
   "metadata": {},
   "outputs": [],
   "source": [
    "# take monthly upscaled data and then rejoin that data to the dwr data based on STN_ID so that kriging can be done\n",
    "# need to upscale as pivot table to avoid all station data being lumped together\n",
    "\n",
    "# set STN_ID as index to use for joining with upscaled monthly data\n",
    "monthly_stn_id = domain_periodic_2010s.set_index('STN_ID')\n",
    "monthly_stn_id = monthly_stn_id.filter(['SITE_CODE','WLM_RPE','WLM_GSE','WLM_ACC','LATITUDE','LONGITUDE','geometry'],axis=1)\n",
    "# drop the duplicates for multiple WSE as we are just copying the RPE, station data that doesn't change\n",
    "monthly_stn_id = monthly_stn_id.drop_duplicates()"
   ]
  },
  {
   "cell_type": "code",
   "execution_count": null,
   "metadata": {},
   "outputs": [],
   "source": [
    "# monthly_stn_id has STN_ID as index, monthly_wse has it as a column\n",
    "monthly_all = monthly_stn_id.join(monthly_wse_2010s.set_index('STN_ID'), on = 'STN_ID', how = 'left')\n"
   ]
  },
  {
   "cell_type": "code",
   "execution_count": null,
   "metadata": {},
   "outputs": [],
   "source": [
    "monthly_all"
   ]
  },
  {
   "cell_type": "code",
   "execution_count": null,
   "metadata": {},
   "outputs": [],
   "source": [
    "monthly_all_gpd = gpd.GeoDataFrame(monthly_all, geometry = monthly_all.geometry, crs = 'epsg:32610')"
   ]
  },
  {
   "cell_type": "code",
   "execution_count": null,
   "metadata": {},
   "outputs": [],
   "source": [
    "month_dates = monthly_all_gpd.set_index('MSMT_DATE').index.drop_duplicates().sort_values()"
   ]
  },
  {
   "cell_type": "code",
   "execution_count": null,
   "metadata": {},
   "outputs": [],
   "source": [
    "monthly_all_gpd.MSMT_DATE"
   ]
  },
  {
   "cell_type": "code",
   "execution_count": null,
   "metadata": {},
   "outputs": [],
   "source": [
    "t=2\n",
    "print(month_dates.values[t])\n",
    "monthly_all_gpd.loc[monthly_all_gpd.MSMT_DATE == month_dates.values[t]].plot('WSE', legend = True)\n",
    "monthly_all_gpd.loc[monthly_all_gpd.MSMT_DATE == month_dates.values[t]].shape"
   ]
  },
  {
   "cell_type": "code",
   "execution_count": null,
   "metadata": {},
   "outputs": [],
   "source": [
    "strt_date ='2018-08-01'\n",
    "end_date = '2018-12-31'\n",
    "fall2018 = domain_periodic.loc[strt_date:end_date]\n",
    "pd.unique(fall2018.STN_ID).shape"
   ]
  },
  {
   "cell_type": "markdown",
   "metadata": {},
   "source": [
    "There are 808 perioidic measurement wells which is most likely due to change overtime with the wells used and the SGMA data\n",
    "viewer, may be more selective with the data kept.\n",
    "Between 2018-08-01 and 2018-12-31 there are still 279 unique stations with one or more measurements each. \n",
    "Only 144 wells overlapped based on site_code between the DWR CASGEM periodic measurement database and the SGMA dataviewer"
   ]
  },
  {
   "cell_type": "code",
   "execution_count": null,
   "metadata": {},
   "outputs": [],
   "source": [
    "fig,ax= plt.subplots(figsize =(8,8))\n",
    "m_domain.plot(ax=ax,edgecolor = 'black', color = 'none')\n",
    "\n",
    "stations_gpd.plot(ax=ax)\n",
    "domain_buffered.plot(ax=ax,edgecolor = 'black', color = 'none')\n",
    "fall2018.plot(ax=ax, color = 'red')"
   ]
  },
  {
   "cell_type": "code",
   "execution_count": null,
   "metadata": {},
   "outputs": [],
   "source": [
    "t=2\n",
    "print(month_dates[t])\n",
    "monthly_all_gpd.loc[monthly_all_gpd.MSMT_DATE == month_dates[t]].plot('WSE', legend = True)\n",
    "monthly_all_gpd.loc[monthly_all_gpd.MSMT_DATE == month_dates[t]].shape"
   ]
  },
  {
   "cell_type": "code",
   "execution_count": null,
   "metadata": {},
   "outputs": [],
   "source": [
    "df = monthly_all_gpd.loc[monthly_all_gpd.MSMT_DATE == month_dates[t]]"
   ]
  },
  {
   "cell_type": "code",
   "execution_count": null,
   "metadata": {},
   "outputs": [],
   "source": [
    "df.shape\n",
    "df.drop_duplicates()"
   ]
  }
 ],
 "metadata": {
  "kernelspec": {
   "display_name": "Python 3 (ipykernel)",
   "language": "python",
   "name": "python3"
  },
  "language_info": {
   "codemirror_mode": {
    "name": "ipython",
    "version": 3
   },
   "file_extension": ".py",
   "mimetype": "text/x-python",
   "name": "python",
   "nbconvert_exporter": "python",
   "pygments_lexer": "ipython3",
   "version": "3.11.4"
  }
 },
 "nbformat": 4,
 "nbformat_minor": 4
}
