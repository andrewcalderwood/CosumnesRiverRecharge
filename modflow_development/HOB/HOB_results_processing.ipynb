{
 "cells": [
  {
   "cell_type": "code",
   "execution_count": 1,
   "metadata": {},
   "outputs": [],
   "source": [
    "import pandas as pd\n",
    "import matplotlib.pyplot as plt\n",
    "x = pd.read_csv('Results.csv')"
   ]
  },
  {
   "cell_type": "code",
   "execution_count": 2,
   "metadata": {},
   "outputs": [
    {
     "data": {
      "text/html": [
       "<div>\n",
       "<style scoped>\n",
       "    .dataframe tbody tr th:only-of-type {\n",
       "        vertical-align: middle;\n",
       "    }\n",
       "\n",
       "    .dataframe tbody tr th {\n",
       "        vertical-align: top;\n",
       "    }\n",
       "\n",
       "    .dataframe thead th {\n",
       "        text-align: right;\n",
       "    }\n",
       "</style>\n",
       "<table border=\"1\" class=\"dataframe\">\n",
       "  <thead>\n",
       "    <tr style=\"text-align: right;\">\n",
       "      <th></th>\n",
       "      <th>OBSERVATION</th>\n",
       "      <th>OBSERVED</th>\n",
       "      <th>SIMULATED</th>\n",
       "      <th>Diff</th>\n",
       "    </tr>\n",
       "  </thead>\n",
       "  <tbody>\n",
       "    <tr>\n",
       "      <th>0</th>\n",
       "      <td>MWT_1.1</td>\n",
       "      <td>-2.5799</td>\n",
       "      <td>19.553385</td>\n",
       "      <td>-22.133286</td>\n",
       "    </tr>\n",
       "    <tr>\n",
       "      <th>1</th>\n",
       "      <td>MWT_1.2</td>\n",
       "      <td>-2.5165</td>\n",
       "      <td>19.553341</td>\n",
       "      <td>-22.069841</td>\n",
       "    </tr>\n",
       "    <tr>\n",
       "      <th>2</th>\n",
       "      <td>MWT_1.3</td>\n",
       "      <td>-2.5051</td>\n",
       "      <td>19.553297</td>\n",
       "      <td>-22.058397</td>\n",
       "    </tr>\n",
       "    <tr>\n",
       "      <th>3</th>\n",
       "      <td>MWT_1.4</td>\n",
       "      <td>-2.5233</td>\n",
       "      <td>19.553253</td>\n",
       "      <td>-22.076553</td>\n",
       "    </tr>\n",
       "    <tr>\n",
       "      <th>4</th>\n",
       "      <td>MWT_1.5</td>\n",
       "      <td>-2.4815</td>\n",
       "      <td>19.553211</td>\n",
       "      <td>-22.034712</td>\n",
       "    </tr>\n",
       "    <tr>\n",
       "      <th>...</th>\n",
       "      <td>...</td>\n",
       "      <td>...</td>\n",
       "      <td>...</td>\n",
       "      <td>...</td>\n",
       "    </tr>\n",
       "    <tr>\n",
       "      <th>10901</th>\n",
       "      <td>MW13.608</td>\n",
       "      <td>1.8977</td>\n",
       "      <td>4.962196</td>\n",
       "      <td>-3.064496</td>\n",
       "    </tr>\n",
       "    <tr>\n",
       "      <th>10902</th>\n",
       "      <td>MW13.609</td>\n",
       "      <td>1.8215</td>\n",
       "      <td>4.962246</td>\n",
       "      <td>-3.140747</td>\n",
       "    </tr>\n",
       "    <tr>\n",
       "      <th>10903</th>\n",
       "      <td>MW13.610</td>\n",
       "      <td>1.7470</td>\n",
       "      <td>4.962298</td>\n",
       "      <td>-3.215298</td>\n",
       "    </tr>\n",
       "    <tr>\n",
       "      <th>10904</th>\n",
       "      <td>MW13.611</td>\n",
       "      <td>1.6749</td>\n",
       "      <td>4.962350</td>\n",
       "      <td>-3.287450</td>\n",
       "    </tr>\n",
       "    <tr>\n",
       "      <th>10905</th>\n",
       "      <td>MW13.612</td>\n",
       "      <td>1.6203</td>\n",
       "      <td>4.962401</td>\n",
       "      <td>-3.342101</td>\n",
       "    </tr>\n",
       "  </tbody>\n",
       "</table>\n",
       "<p>10906 rows × 4 columns</p>\n",
       "</div>"
      ],
      "text/plain": [
       "      OBSERVATION  OBSERVED  SIMULATED       Diff\n",
       "0         MWT_1.1   -2.5799  19.553385 -22.133286\n",
       "1         MWT_1.2   -2.5165  19.553341 -22.069841\n",
       "2         MWT_1.3   -2.5051  19.553297 -22.058397\n",
       "3         MWT_1.4   -2.5233  19.553253 -22.076553\n",
       "4         MWT_1.5   -2.4815  19.553211 -22.034712\n",
       "...           ...       ...        ...        ...\n",
       "10901    MW13.608    1.8977   4.962196  -3.064496\n",
       "10902    MW13.609    1.8215   4.962246  -3.140747\n",
       "10903    MW13.610    1.7470   4.962298  -3.215298\n",
       "10904    MW13.611    1.6749   4.962350  -3.287450\n",
       "10905    MW13.612    1.6203   4.962401  -3.342101\n",
       "\n",
       "[10906 rows x 4 columns]"
      ]
     },
     "execution_count": 2,
     "metadata": {},
     "output_type": "execute_result"
    }
   ],
   "source": [
    "x"
   ]
  },
  {
   "cell_type": "code",
   "execution_count": 3,
   "metadata": {},
   "outputs": [],
   "source": [
    "x.set_index('OBSERVATION', inplace=True)"
   ]
  },
  {
   "cell_type": "code",
   "execution_count": 4,
   "metadata": {},
   "outputs": [
    {
     "data": {
      "text/html": [
       "<div>\n",
       "<style scoped>\n",
       "    .dataframe tbody tr th:only-of-type {\n",
       "        vertical-align: middle;\n",
       "    }\n",
       "\n",
       "    .dataframe tbody tr th {\n",
       "        vertical-align: top;\n",
       "    }\n",
       "\n",
       "    .dataframe thead th {\n",
       "        text-align: right;\n",
       "    }\n",
       "</style>\n",
       "<table border=\"1\" class=\"dataframe\">\n",
       "  <thead>\n",
       "    <tr style=\"text-align: right;\">\n",
       "      <th></th>\n",
       "      <th>OBSERVED</th>\n",
       "      <th>SIMULATED</th>\n",
       "      <th>Diff</th>\n",
       "    </tr>\n",
       "    <tr>\n",
       "      <th>OBSERVATION</th>\n",
       "      <th></th>\n",
       "      <th></th>\n",
       "      <th></th>\n",
       "    </tr>\n",
       "  </thead>\n",
       "  <tbody>\n",
       "    <tr>\n",
       "      <th>MWT_1.1</th>\n",
       "      <td>-2.5799</td>\n",
       "      <td>19.553385</td>\n",
       "      <td>-22.133286</td>\n",
       "    </tr>\n",
       "    <tr>\n",
       "      <th>MWT_1.2</th>\n",
       "      <td>-2.5165</td>\n",
       "      <td>19.553341</td>\n",
       "      <td>-22.069841</td>\n",
       "    </tr>\n",
       "    <tr>\n",
       "      <th>MWT_1.3</th>\n",
       "      <td>-2.5051</td>\n",
       "      <td>19.553297</td>\n",
       "      <td>-22.058397</td>\n",
       "    </tr>\n",
       "    <tr>\n",
       "      <th>MWT_1.4</th>\n",
       "      <td>-2.5233</td>\n",
       "      <td>19.553253</td>\n",
       "      <td>-22.076553</td>\n",
       "    </tr>\n",
       "    <tr>\n",
       "      <th>MWT_1.5</th>\n",
       "      <td>-2.4815</td>\n",
       "      <td>19.553211</td>\n",
       "      <td>-22.034712</td>\n",
       "    </tr>\n",
       "    <tr>\n",
       "      <th>...</th>\n",
       "      <td>...</td>\n",
       "      <td>...</td>\n",
       "      <td>...</td>\n",
       "    </tr>\n",
       "    <tr>\n",
       "      <th>MW13.608</th>\n",
       "      <td>1.8977</td>\n",
       "      <td>4.962196</td>\n",
       "      <td>-3.064496</td>\n",
       "    </tr>\n",
       "    <tr>\n",
       "      <th>MW13.609</th>\n",
       "      <td>1.8215</td>\n",
       "      <td>4.962246</td>\n",
       "      <td>-3.140747</td>\n",
       "    </tr>\n",
       "    <tr>\n",
       "      <th>MW13.610</th>\n",
       "      <td>1.7470</td>\n",
       "      <td>4.962298</td>\n",
       "      <td>-3.215298</td>\n",
       "    </tr>\n",
       "    <tr>\n",
       "      <th>MW13.611</th>\n",
       "      <td>1.6749</td>\n",
       "      <td>4.962350</td>\n",
       "      <td>-3.287450</td>\n",
       "    </tr>\n",
       "    <tr>\n",
       "      <th>MW13.612</th>\n",
       "      <td>1.6203</td>\n",
       "      <td>4.962401</td>\n",
       "      <td>-3.342101</td>\n",
       "    </tr>\n",
       "  </tbody>\n",
       "</table>\n",
       "<p>10906 rows × 3 columns</p>\n",
       "</div>"
      ],
      "text/plain": [
       "             OBSERVED  SIMULATED       Diff\n",
       "OBSERVATION                                \n",
       "MWT_1.1       -2.5799  19.553385 -22.133286\n",
       "MWT_1.2       -2.5165  19.553341 -22.069841\n",
       "MWT_1.3       -2.5051  19.553297 -22.058397\n",
       "MWT_1.4       -2.5233  19.553253 -22.076553\n",
       "MWT_1.5       -2.4815  19.553211 -22.034712\n",
       "...               ...        ...        ...\n",
       "MW13.608       1.8977   4.962196  -3.064496\n",
       "MW13.609       1.8215   4.962246  -3.140747\n",
       "MW13.610       1.7470   4.962298  -3.215298\n",
       "MW13.611       1.6749   4.962350  -3.287450\n",
       "MW13.612       1.6203   4.962401  -3.342101\n",
       "\n",
       "[10906 rows x 3 columns]"
      ]
     },
     "execution_count": 4,
     "metadata": {},
     "output_type": "execute_result"
    }
   ],
   "source": [
    "x"
   ]
  },
  {
   "cell_type": "code",
   "execution_count": 8,
   "metadata": {},
   "outputs": [
    {
     "data": {
      "text/plain": [
       "[<matplotlib.lines.Line2D at 0x1ea4b59f280>]"
      ]
     },
     "execution_count": 8,
     "metadata": {},
     "output_type": "execute_result"
    },
    {
     "data": {
      "image/png": "[encoded data removed]",
      "text/plain": [
       "<Figure size 432x288 with 1 Axes>"
      ]
     },
     "metadata": {
      "needs_background": "light"
     },
     "output_type": "display_data"
    }
   ],
   "source": [
    "plt.plot(x[0:250].OBSERVED, x[0:250].SIMULATED, '.')"
   ]
  },
  {
   "cell_type": "code",
   "execution_count": null,
   "metadata": {
    "scrolled": true
   },
   "outputs": [],
   "source": []
  }
 ],
 "metadata": {
  "kernelspec": {
   "display_name": "Python 3",
   "language": "python",
   "name": "python3"
  },
  "language_info": {
   "codemirror_mode": {
    "name": "ipython",
    "version": 3
   },
   "file_extension": ".py",
   "mimetype": "text/x-python",
   "name": "python",
   "nbconvert_exporter": "python",
   "pygments_lexer": "ipython3",
   "version": "3.8.5"
  }
 },
 "nbformat": 4,
 "nbformat_minor": 4
}
