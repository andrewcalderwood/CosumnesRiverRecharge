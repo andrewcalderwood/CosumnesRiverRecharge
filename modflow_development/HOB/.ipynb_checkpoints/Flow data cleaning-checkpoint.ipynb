{
 "cells": [
  {
   "cell_type": "code",
   "execution_count": null,
   "id": "bb43ae82",
   "metadata": {},
   "outputs": [],
   "source": [
    "# standard python utilities\n",
    "import os\n",
    "import sys\n",
    "import glob\n",
    "import pandas as pd\n",
    "import numpy as np\n",
    "import calendar\n",
    "import time\n",
    "\n",
    "# standard python plotting utilities\n",
    "import matplotlib as mpl\n",
    "import matplotlib.pyplot as plt\n",
    "import matplotlib.dates as mdates\n",
    "\n",
    "# standard geospatial python utilities\n",
    "import pyproj # for converting proj4string\n",
    "import shapely\n",
    "import geopandas as gpd\n",
    "# import rasterio\n",
    "\n",
    "# mapping utilities\n",
    "# import contextily as ctx\n",
    "from mpl_toolkits.axes_grid1.inset_locator import inset_axes\n",
    "from mpl_toolkits.axes_grid1.anchored_artists import AnchoredSizeBar\n",
    "import matplotlib.font_manager as fm\n",
    "from matplotlib.ticker import MaxNLocator\n",
    "\n",
    "import flopy\n",
    "import flopy.utils.binaryfile as bf\n"
   ]
  },
  {
   "cell_type": "code",
   "execution_count": null,
   "id": "30eab91a",
   "metadata": {},
   "outputs": [],
   "source": [
    "git_dir = os.getcwd()\n",
    "while os.path.basename(git_dir) != 'GitHub':\n",
    "    git_dir = os.path.dirname(git_dir)\n",
    "usr_dir = os.getcwd()\n",
    "while os.path.basename(usr_dir) != 'Users':\n",
    "    temp = os.path.basename(usr_dir)\n",
    "    usr_dir = os.path.dirname(usr_dir)\n",
    "usr_dir += '/'+temp\n",
    "\n",
    "py_dir = git_dir +'/CosumnesRiverRecharge/python_utilities/'\n",
    "## Set up directory referencing\n",
    "# Package data\n",
    "gwfm_dir = usr_dir+'/Box/research_cosumnes/GWFlowModel/'\n",
    "gwfm_dir\n",
    "bas_dir = gwfm_dir + 'BAS6/'\n",
    "proj_dir = gwfm_dir+'Levee_setback/'\n",
    "plt_dir = proj_dir+'figures/'\n",
    "\n",
    "\n",
    "sfr_dir = gwfm_dir+'SFR_data/'\n"
   ]
  },
  {
   "cell_type": "markdown",
   "id": "e31ee69d",
   "metadata": {},
   "source": [
    "# Clean McConnell Data"
   ]
  },
  {
   "cell_type": "code",
   "execution_count": null,
   "id": "ffa7c1fc",
   "metadata": {},
   "outputs": [],
   "source": [
    "meta = pd.read_csv(sfr_dir+'rating_curve_info.csv')"
   ]
  },
  {
   "cell_type": "code",
   "execution_count": null,
   "id": "046cf0bf",
   "metadata": {},
   "outputs": [],
   "source": [
    "mcc_meta = meta[meta.Site_Name=='MCC'].iloc[0]\n",
    "\n",
    "fn = sfr_dir +'McConnell_stage_2000_01_01_to_2020_12_31.csv'\n",
    "\n",
    "mcc = pd.read_csv(fn, index_col='DATE TIME',parse_dates=True, na_values = ['---'])\n",
    "# remove data points when flagged as bad ('N'), I think 'r' is reivsed\n",
    "mcc.loc[mcc.DATA_FLAG=='N', 'VALUE'] = np.nan\n",
    "# remove values that are well above typical flows without clear reason\n",
    "mcc.loc[mcc.VALUE>45,'VALUE'] = np.nan\n",
    "# remove data when sensor may be dry\n",
    "mcc['depth_ft'] = mcc.VALUE\n",
    "mcc['depth_ft'] -= mcc_meta.A_SZF\n",
    "mcc.loc[mcc.depth_ft<=0,'depth_ft'] = 0\n",
    "mcc = mcc.dropna(subset=['VALUE'])\n",
    "\n",
    "\n",
    "# standard: Q = C*(Stage-A)^B, log: Q = 10^(C+B*log10(Stage-A-LvlOffset_ft))\n",
    "\n",
    "# mcc['flow_cfs'] = mcc_meta.C *((mcc.VALUE-mcc_meta.A_SZF-mcc_meta.LvlOffset_ft)**mcc_meta.B)\n",
    "\n",
    "mcc['flow_cfs'] = 10**(mcc_meta.C + mcc_meta.B*np.log10(mcc.VALUE-mcc_meta.A_SZF-mcc_meta.LvlOffset_ft))"
   ]
  },
  {
   "cell_type": "code",
   "execution_count": null,
   "id": "4fdd9bac",
   "metadata": {},
   "outputs": [],
   "source": [
    "mcc_d = mcc.resample('D').mean()[['flow_cfs']]\n",
    "mcc_d['GroupName'] = 'MCC'\n",
    "\n",
    "# weight flow above max measured with higher coefficient of variation\n",
    "mcc_d['Statistic'] = 0.1 # assume typical 10% coefficient of variation based on uncertainty in streamflow curve\n",
    "# curve above 2 times the max measured flow should be considered more uncertain based on USGS rule of thumb\n",
    "mcc_d.loc[mcc_d.flow_cfs > 2*mcc_meta.MAX_FLOW_CFS, \"Statistic\"] = 0.2\n",
    "mcc_d['StatFlag'] = 'CV'\n",
    "\n",
    "\n",
    "\n",
    "mcc_d = mcc_d.dropna(subset=['flow_cfs'])\n",
    "mcc_d['flow_cmd'] = mcc_d.flow_cfs*(0.3048**3)*86400\n",
    "mcc_d.flow_cmd = mcc_d.flow_cmd.round(4)\n"
   ]
  },
  {
   "cell_type": "code",
   "execution_count": null,
   "id": "c8a403cc",
   "metadata": {},
   "outputs": [],
   "source": [
    "mcc_d.to_csv(sfr_dir+'MCC_flow_obs_all.csv')"
   ]
  },
  {
   "cell_type": "code",
   "execution_count": null,
   "id": "bd9b1f31",
   "metadata": {},
   "outputs": [],
   "source": [
    "loadpth = 'F:/WRDAPP/GWFlowModel/Cosumnes/levee_setback/streamflow/'\n",
    "model_ws = loadpth+'historical_streamflow'\n"
   ]
  },
  {
   "cell_type": "code",
   "execution_count": null,
   "id": "4874b21e",
   "metadata": {},
   "outputs": [],
   "source": [
    "mb = pd.read_csv(model_ws+'/input_data/inflow.csv',parse_dates=['datetime'],index_col='datetime')\n"
   ]
  },
  {
   "cell_type": "code",
   "execution_count": null,
   "id": "b86626c6",
   "metadata": {},
   "outputs": [],
   "source": [
    "\n",
    "fig,ax= plt.subplots(figsize=(6,6))\n",
    "mcc_d.plot(y='flow_cfs',label='MCC Obseved',ax=ax)\n",
    "mb.plot(y='flow_cfs',label= 'MB Observed', ax=ax)"
   ]
  }
 ],
 "metadata": {
  "kernelspec": {
   "display_name": "Python 3 (ipykernel)",
   "language": "python",
   "name": "python3"
  },
  "language_info": {
   "codemirror_mode": {
    "name": "ipython",
    "version": 3
   },
   "file_extension": ".py",
   "mimetype": "text/x-python",
   "name": "python",
   "nbconvert_exporter": "python",
   "pygments_lexer": "ipython3",
   "version": "3.11.4"
  }
 },
 "nbformat": 4,
 "nbformat_minor": 5
}
