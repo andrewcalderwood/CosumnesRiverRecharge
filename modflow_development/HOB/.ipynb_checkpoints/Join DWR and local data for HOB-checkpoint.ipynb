{
 "cells": [
  {
   "cell_type": "markdown",
   "id": "c926b1ca",
   "metadata": {},
   "source": [
    "Goal: Combine processed DWR Periodic GWL database with local continuous groundwater monitoring data. This dataset will be preprocess for the entire period of record and filtered down to recent time when loaded into the model main code."
   ]
  },
  {
   "cell_type": "code",
   "execution_count": 1,
   "id": "021d3f81",
   "metadata": {},
   "outputs": [],
   "source": [
    "import os\n",
    "from os.path import basename, dirname\n",
    "import numpy as np\n",
    "import pandas as pd\n",
    "import geopandas as gpd\n",
    "import datetime"
   ]
  },
  {
   "cell_type": "code",
   "execution_count": 2,
   "id": "69ac159d",
   "metadata": {},
   "outputs": [
    {
     "data": {
      "text/plain": [
       "'C:\\\\Users\\\\ajcalder/Box/research_cosumnes/GWFlowModel'"
      ]
     },
     "execution_count": 2,
     "metadata": {},
     "output_type": "execute_result"
    }
   ],
   "source": [
    "doc_dir = os.getcwd()\n",
    "while os.path.basename(doc_dir) != 'Documents':\n",
    "    doc_dir = os.path.dirname(doc_dir)\n",
    "# dir of all gwfm data\n",
    "gwfm_dir = os.path.dirname(doc_dir)+'/Box/research_cosumnes/GWFlowModel'\n",
    "gwfm_dir"
   ]
  },
  {
   "cell_type": "code",
   "execution_count": 3,
   "id": "e1033e42",
   "metadata": {},
   "outputs": [],
   "source": [
    "hob_dir = gwfm_dir+'/HOB_data'\n",
    "ghb_dir = gwfm_dir+'/GHB_data'"
   ]
  },
  {
   "cell_type": "code",
   "execution_count": 4,
   "id": "e7d2dcb8",
   "metadata": {},
   "outputs": [],
   "source": [
    "# Load model grid as geopandas object\n",
    "grid_p = gpd.read_file(gwfm_dir+'/DIS_data/grid/grid.shp')\n",
    "m_domain = gpd.read_file(gwfm_dir+'/DIS_data/NewModelDomain/GWModelDomain_52_9deg_UTM10N_WGS84.shp')\n",
    "\n",
    "dem_data = np.loadtxt(gwfm_dir+'\\DIS_data\\dem_52_9_200m_linear.tsv', delimiter = '\\t')\n"
   ]
  },
  {
   "cell_type": "code",
   "execution_count": 5,
   "id": "82bd0c27",
   "metadata": {},
   "outputs": [],
   "source": [
    "# set reasonable range of dates that might be used for Cosumnes modeling work\n",
    "strt_date = pd.to_datetime('1990-10-01')\n",
    "end_date = pd.to_datetime(datetime.date.today())\n"
   ]
  },
  {
   "cell_type": "markdown",
   "id": "956201e7",
   "metadata": {},
   "source": [
    "## Load and prepare DWR data"
   ]
  },
  {
   "cell_type": "code",
   "execution_count": 6,
   "id": "97b6ad6e",
   "metadata": {},
   "outputs": [],
   "source": [
    "# con_stations = pd.read_csv(ghb_dir+'/dwr_continuous_groundwater/gwlstations.csv')\n",
    "# monthly = pd.read_csv(ghb_dir+'/dwr_continuous_groundwater/continuousgroundwatermonthly.csv')"
   ]
  },
  {
   "cell_type": "code",
   "execution_count": 7,
   "id": "11349efd",
   "metadata": {},
   "outputs": [],
   "source": [
    "stations = pd.read_csv(ghb_dir+'/periodic_gwl_bulkdatadownload/stations.csv')\n",
    "periodic = pd.read_csv(ghb_dir+'/periodic_gwl_bulkdatadownload/measurements.csv')\n",
    "stations_gpd = gpd.GeoDataFrame(stations,\n",
    "                                geometry = gpd.points_from_xy( stations.LONGITUDE, stations.LATITUDE), crs = 'epsg:4326')\n",
    "# need to use the domain in lat, long crs as some wells may edge in utm zone 11n\n",
    "stations_gpd = gpd.sjoin(stations_gpd.to_crs('epsg:32610'),m_domain, how = 'inner', op = 'intersects')\n",
    "# join the periodic measurements with the site locations \n",
    "domain_periodic = periodic.merge(stations_gpd, on = ['SITE_CODE'])\n",
    "\n",
    "domain_periodic['MSMT_DATE']=pd.to_datetime(domain_periodic['MSMT_DATE'])\n",
    "domain_periodic = domain_periodic.set_index('MSMT_DATE')\n",
    "# filter to modern time\n",
    "domain_periodic = domain_periodic.loc[domain_periodic.index>strt_date]"
   ]
  },
  {
   "cell_type": "code",
   "execution_count": 18,
   "id": "4bb5b5aa",
   "metadata": {},
   "outputs": [],
   "source": [
    "\n",
    "# domain_periodic_2010s = pd.read_csv(hob_dir+'/dwr_gwe_data_2010s.csv', index_col = 'MSMT_DATE', parse_dates =True)\n",
    "# filter out columns relevant to observation\n",
    "domain_periodic_adj = domain_periodic.filter(['SITE_CODE', 'GWE', 'WLM_RPE','WLM_GSE',\n",
    "                              'WLM_ACC_DESC','LATITUDE','LONGITUDE','WELL_DEPTH', 'WELL_TYPE'],axis=1)\n",
    "\n",
    "# filter out measurements for the actual modeled period\n",
    "domain_periodic_adj.index = pd.to_datetime(domain_periodic_adj.index)\n",
    "\n",
    "dwr_obs = domain_periodic_adj.loc[(domain_periodic.index>strt_date)&(domain_periodic.index<end_date)]\n",
    "# convert observations to geodataframe to merge with\n",
    "dwr_obs_gpd = gpd.GeoDataFrame(dwr_obs, geometry = gpd.points_from_xy(dwr_obs.LONGITUDE,dwr_obs.LATITUDE))\n",
    "dwr_obs_gpd.crs = 'epsg:4326'\n",
    "dwr_obs_gpd = dwr_obs_gpd.to_crs('epsg:32610')\n",
    "# the grid is a 1 based system\n",
    "dwr_obs_grid = gpd.sjoin(dwr_obs_gpd,grid_p)\n",
    "\n",
    "# convert units from ft to meters\n",
    "dwr_obs_grid.loc[:,['GWE','WLM_RPE','WLM_GSE', 'WELL_DEPTH']] *= 0.3048\n",
    "dwr_obs_grid = dwr_obs_grid.dropna(subset=['GWE'])\n",
    "# set data source for filtering\n",
    "dwr_obs_grid['agency'] = 'DWR'"
   ]
  },
  {
   "cell_type": "markdown",
   "id": "b932d216",
   "metadata": {},
   "source": [
    "## Load and prepare UC Davis continuous data"
   ]
  },
  {
   "cell_type": "code",
   "execution_count": 19,
   "id": "cc4cb2aa",
   "metadata": {},
   "outputs": [
    {
     "name": "stderr",
     "output_type": "stream",
     "text": [
      "C:\\Users\\ajcalder\\Anaconda3\\envs\\geosp\\lib\\site-packages\\ipykernel_launcher.py:4: FutureWarning: Indexing a timezone-aware DatetimeIndex with a timezone-naive datetime is deprecated and will raise KeyError in a future version.  Use a timezone-aware object instead.\n",
      "  after removing the cwd from sys.path.\n"
     ]
    }
   ],
   "source": [
    "ucd_meta = pd.read_csv(hob_dir+'/Cosumnes_MW_metadata.csv')\n",
    "ucd_mon = pd.read_csv(hob_dir+'/ucd_wells_monthly.csv', index_col = 'dt', parse_dates = True)\n",
    "# filter out measurements for the actual modeled period\n",
    "ucd_mon = ucd_mon.loc[strt_date:end_date]\n",
    "# remove timezone component of date format\n",
    "ucd_mon.index = ucd_mon.index.tz_localize(tz=None)\n",
    "# melt dataframe by id and date\n",
    "ucd_mon = ucd_mon.reset_index().melt(id_vars = ['dt'], value_vars=ucd_mon.columns)\n",
    "ucd_mon = ucd_mon.rename({'variable':'Well_ID','value':'wse_m'},axis=1)\n",
    "\n",
    "# remove TZ adjustment from dt\n"
   ]
  },
  {
   "cell_type": "code",
   "execution_count": 20,
   "id": "e284d5eb",
   "metadata": {},
   "outputs": [],
   "source": [
    "# convert observations to geodataframe to merge with\n",
    "ucd_meta_gpd = gpd.GeoDataFrame(ucd_meta, geometry = gpd.points_from_xy(ucd_meta.LONGITUDE,ucd_meta.LATITUDE))\n",
    "ucd_meta_gpd.crs = 'epsg:4326'\n",
    "ucd_meta_gpd = ucd_meta_gpd.to_crs('epsg:32610')\n",
    "# the grid is a 1 based system\n",
    "ucd_meta_grid = gpd.sjoin(ucd_meta_gpd,grid_p)\n",
    "\n",
    "# estimate GSE from RPE\n",
    "ucd_meta_grid['WLM_GSE'] = ucd_meta_grid['MPE (meters)']-1\n",
    "ucd_meta_grid['WELL_DEPTH'] = ucd_meta_grid['Well Depth (ft)']*0.3048"
   ]
  },
  {
   "cell_type": "code",
   "execution_count": 21,
   "id": "7e9b0805",
   "metadata": {},
   "outputs": [],
   "source": [
    "# simplify from 22 to 8 wells for now because there will be overfitting of wells at Oneto-Denier and \n",
    "# these wells all have LevelSenders allowing for easier data access\n",
    "well_vertices = ucd_meta_grid.set_index('Well_ID').loc[['MW_DR1', 'MW_9', 'MW_11', 'MW_19','MW_5', 'MW_22','Rooney1']]\n",
    "\n",
    "# join wse data with location and metadata\n",
    "ucd_obs = ucd_mon.join(well_vertices, how = 'right',on = 'Well_ID')\n",
    "ucd_obs = ucd_obs.dropna(subset=['wse_m']) # remove NA values\n",
    "\n",
    "# prepare UCD obs for joining with DWR obs\n",
    "ucd_obs = ucd_obs.set_index('dt').loc[:,['Well_ID','wse_m','WLM_GSE','node','row','column', 'WELL_DEPTH']]\n",
    "ucd_obs = ucd_obs.rename({'Well_ID':'SITE_CODE','wse_m':'GWE'},axis=1)\n",
    "# set data source for filtering\n",
    "ucd_obs['agency'] = 'UCD'"
   ]
  },
  {
   "cell_type": "markdown",
   "id": "6f2da270",
   "metadata": {},
   "source": [
    "## Join DWR and UCD data\n",
    "UCD data is commented out for now"
   ]
  },
  {
   "cell_type": "code",
   "execution_count": 22,
   "id": "da77b446",
   "metadata": {},
   "outputs": [],
   "source": [
    "# join UCD and DWR obs\n",
    "all_obs = dwr_obs_grid.loc[:,['SITE_CODE','GWE','WLM_GSE','node','row','column', 'agency', 'WELL_DEPTH']].append(ucd_obs)\n",
    "# all_obs = dwr_obs_grid.loc[:,['SITE_CODE','GWE','WLM_GSE','node','row','column']]\n",
    "# make row and column 0 based\n",
    "all_obs.row -= 1\n",
    "all_obs.column -=1"
   ]
  },
  {
   "cell_type": "markdown",
   "id": "c73cf18b",
   "metadata": {},
   "source": [
    "## Adjust observations for elevation"
   ]
  },
  {
   "cell_type": "code",
   "execution_count": 23,
   "id": "91ea8f3c",
   "metadata": {},
   "outputs": [],
   "source": [
    "# find DEM elevation and difference between measured and DEM\n",
    "all_obs['dem_elev'] = dem_data[(all_obs.row).values.astype(int),(all_obs.column).values.astype(int)]\n",
    "all_obs['dem_wlm_gse'] = all_obs.dem_elev - all_obs.WLM_GSE\n",
    "# recalculate WSE based on DEM elevation\n",
    "all_obs['wse_m_adj'] = all_obs.dem_elev - (all_obs['WLM_GSE'] - all_obs.GWE)\n",
    "\n",
    "# get spd corresponding to dates\n",
    "all_obs['spd'] = (all_obs.index-strt_date).days.values\n"
   ]
  },
  {
   "cell_type": "code",
   "execution_count": 24,
   "id": "f14d17fd",
   "metadata": {},
   "outputs": [
    {
     "name": "stdout",
     "output_type": "stream",
     "text": [
      "25.50 % of the sites have a difference > 1 m\n"
     ]
    },
    {
     "data": {
      "image/png": "[encoded data removed]",
      "text/plain": [
       "<Figure size 432x288 with 1 Axes>"
      ]
     },
     "metadata": {
      "needs_background": "light"
     },
     "output_type": "display_data"
    }
   ],
   "source": [
    "import matplotlib.pyplot as plt\n",
    "# dwr_obs_grid['dem_wlm_gse'] = dwr_obs_grid.dem_elev - dwr_obs_grid.WLM_GSE\n",
    "# ucd_meta_grid['dem_elev'] = dem_data[(ucd_meta_grid.row-1).values.astype(int),(ucd_meta_grid.column-1).values.astype(int)]\n",
    "# ucd_meta_grid['dem_rpe'] = ucd_meta_grid.dem_elev - ucd_meta_grid['MPE (meters)']\n",
    "# aggregate by site id and then plot to look at difference\n",
    "temp = all_obs.groupby('SITE_CODE').aggregate( func = 'mean').dem_wlm_gse.abs()\n",
    "temp.plot(label = 'DWR MW GSE')\n",
    "# ucd_meta_grid['dem_wlm_gse'].plot(label = 'UCD MW RPE')\n",
    "plt.legend()\n",
    "max_diff = 1\n",
    "plt.ylabel('Difference in DEM and GSE/RPE (m)')\n",
    "print('%.2f'%(((temp>max_diff).sum()/temp.shape)[0]*100) ,'% of the sites have a difference >', max_diff,'m' )"
   ]
  },
  {
   "cell_type": "markdown",
   "id": "08b61c68",
   "metadata": {},
   "source": [
    "## Create unique observation names"
   ]
  },
  {
   "cell_type": "code",
   "execution_count": 25,
   "id": "d6931338",
   "metadata": {},
   "outputs": [
    {
     "name": "stderr",
     "output_type": "stream",
     "text": [
      "C:\\Users\\ajcalder\\Anaconda3\\envs\\geosp\\lib\\site-packages\\pandas\\core\\indexing.py:1732: SettingWithCopyWarning: \n",
      "A value is trying to be set on a copy of a slice from a DataFrame\n",
      "\n",
      "See the caveats in the documentation: https://pandas.pydata.org/pandas-docs/stable/user_guide/indexing.html#returning-a-view-versus-a-copy\n",
      "  self._setitem_single_block(indexer, value, name)\n"
     ]
    }
   ],
   "source": [
    "\n",
    "all_obs['obs_nam'] = all_obs.node.astype(str)\n",
    "# use the model grid node number to shorten the dwr_site code name\n",
    "nodes = all_obs.obs_nam.unique()\n",
    "\n",
    "for i in np.arange(0,len(nodes)):\n",
    "    # find matching observations to the unique node\n",
    "    df = all_obs.loc[all_obs.obs_nam==nodes[i]]\n",
    "    # check ndim for counting number of obs per node\n",
    "    if df.ndim >1: nobs = len(df)\n",
    "    else: nobs=1    \n",
    "    for n in np.arange(0,nobs):\n",
    "        df.obs_nam.iloc[n] = 'N'+df.obs_nam.iloc[n]+'.'+str(n+1).zfill(5)\n",
    "#     # reset node name in dwr_obs\n",
    "    all_obs.loc[all_obs.obs_nam==nodes[i],:] = df.copy()\n",
    "    "
   ]
  },
  {
   "cell_type": "code",
   "execution_count": 26,
   "id": "d97ca35a",
   "metadata": {},
   "outputs": [],
   "source": [
    "# save cleaned data to box data for all data\n",
    "all_obs.to_csv(hob_dir+'/all_obs_grid_prepared.csv',index=True)"
   ]
  }
 ],
 "metadata": {
  "kernelspec": {
   "display_name": "Python 3 (ipykernel)",
   "language": "python",
   "name": "python3"
  },
  "language_info": {
   "codemirror_mode": {
    "name": "ipython",
    "version": 3
   },
   "file_extension": ".py",
   "mimetype": "text/x-python",
   "name": "python",
   "nbconvert_exporter": "python",
   "pygments_lexer": "ipython3",
   "version": "3.7.11"
  }
 },
 "nbformat": 4,
 "nbformat_minor": 5
}
